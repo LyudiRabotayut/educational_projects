{
  "cells": [
    {
      "cell_type": "markdown",
      "metadata": {
        "toc": true,
        "id": "PKRrCggo2rCo"
      },
      "source": [
        "<h1>Содержание<span class=\"tocSkip\"></span></h1>\n",
        "<div class=\"toc\"><ul class=\"toc-item\"><li><span><a href=\"#Загрузка-данных\" data-toc-modified-id=\"Загрузка-данных-1\"><span class=\"toc-item-num\">1&nbsp;&nbsp;</span>Загрузка данных</a></span><ul class=\"toc-item\"><li><span><a href=\"#Импорт-данных-и-библиотек\" data-toc-modified-id=\"Импорт-данных-и-библиотек-1.1\"><span class=\"toc-item-num\">1.1&nbsp;&nbsp;</span>Импорт данных и библиотек</a></span></li><li><span><a href=\"#Первичный-анализ\" data-toc-modified-id=\"Первичный-анализ-1.2\"><span class=\"toc-item-num\">1.2&nbsp;&nbsp;</span>Первичный анализ</a></span></li><li><span><a href=\"#Делим-на-целевой-и-остальные-выборки\" data-toc-modified-id=\"Делим-на-целевой-и-остальные-выборки-1.3\"><span class=\"toc-item-num\">1.3&nbsp;&nbsp;</span>Делим на целевой и остальные выборки</a></span></li><li><span><a href=\"#Подвывод\" data-toc-modified-id=\"Подвывод-1.4\"><span class=\"toc-item-num\">1.4&nbsp;&nbsp;</span>Подвывод</a></span></li></ul></li><li><span><a href=\"#Умножение-матриц\" data-toc-modified-id=\"Умножение-матриц-2\"><span class=\"toc-item-num\">2&nbsp;&nbsp;</span>Умножение матриц</a></span></li><li><span><a href=\"#Алгоритм-преобразования\" data-toc-modified-id=\"Алгоритм-преобразования-3\"><span class=\"toc-item-num\">3&nbsp;&nbsp;</span>Алгоритм преобразования</a></span><ul class=\"toc-item\"><li><span><a href=\"#Подвывод\" data-toc-modified-id=\"Подвывод-3.1\"><span class=\"toc-item-num\">3.1&nbsp;&nbsp;</span>Подвывод</a></span></li></ul></li><li><span><a href=\"#Проверка-алгоритма\" data-toc-modified-id=\"Проверка-алгоритма-4\"><span class=\"toc-item-num\">4&nbsp;&nbsp;</span>Проверка алгоритма</a></span><ul class=\"toc-item\"><li><span><a href=\"#До-преобразования\" data-toc-modified-id=\"До-преобразования-4.1\"><span class=\"toc-item-num\">4.1&nbsp;&nbsp;</span>До преобразования</a></span></li><li><span><a href=\"#После-преобразования\" data-toc-modified-id=\"После-преобразования-4.2\"><span class=\"toc-item-num\">4.2&nbsp;&nbsp;</span>После преобразования</a></span></li><li><span><a href=\"#Подвывод\" data-toc-modified-id=\"Подвывод-4.3\"><span class=\"toc-item-num\">4.3&nbsp;&nbsp;</span>Подвывод</a></span></li></ul></li><li><span><a href=\"#Вывод\" data-toc-modified-id=\"Вывод-5\"><span class=\"toc-item-num\">5&nbsp;&nbsp;</span>Вывод</a></span></li><li><span><a href=\"#Чек-лист-проверки\" data-toc-modified-id=\"Чек-лист-проверки-6\"><span class=\"toc-item-num\">6&nbsp;&nbsp;</span>Чек-лист проверки</a></span></li></ul></div>"
      ]
    },
    {
      "cell_type": "markdown",
      "metadata": {
        "id": "Fr3xQkFX2rCp"
      },
      "source": [
        "# Защита персональных данных клиентов"
      ]
    },
    {
      "cell_type": "markdown",
      "source": [
        "Задача:\n",
        "Разработка модели анонимизации персональных данных"
      ],
      "metadata": {
        "id": "C1RnOj763aPt"
      }
    },
    {
      "cell_type": "markdown",
      "metadata": {
        "id": "xw8qwzlX2rCp"
      },
      "source": [
        "## Загрузка данных"
      ]
    },
    {
      "cell_type": "markdown",
      "metadata": {
        "id": "1AonKM5G2rCq"
      },
      "source": [
        "### Импорт данных и библиотек"
      ]
    },
    {
      "cell_type": "code",
      "execution_count": null,
      "metadata": {
        "id": "AeA8K74y2rCq"
      },
      "outputs": [],
      "source": [
        "# Импортируем библиотеки\n",
        "import pandas as pd\n",
        "import numpy as np\n",
        "import math\n",
        "import matplotlib.pyplot as plt\n",
        "\n",
        "from sklearn.model_selection import train_test_split\n",
        "from sklearn.metrics import r2_score\n",
        "from sklearn.linear_model import LinearRegression"
      ]
    },
    {
      "cell_type": "code",
      "execution_count": null,
      "metadata": {
        "id": "Y35tZV732rCr"
      },
      "outputs": [],
      "source": [
        "# Загружаем данные\n",
        "try:\n",
        "    data = pd.read_csv('/datasets/insurance.csv')\n",
        "except:\n",
        "    data = pd.read_csv('D:\\DataHome\\insurance.csv')"
      ]
    },
    {
      "cell_type": "markdown",
      "metadata": {
        "id": "h83hAFQq2rCs"
      },
      "source": [
        "### Первичный анализ"
      ]
    },
    {
      "cell_type": "code",
      "execution_count": null,
      "metadata": {
        "id": "kmFC-g002rCs",
        "outputId": "52d802c9-3d66-496d-b398-29b804fc66c6"
      },
      "outputs": [
        {
          "data": {
            "text/html": [
              "<div>\n",
              "<style scoped>\n",
              "    .dataframe tbody tr th:only-of-type {\n",
              "        vertical-align: middle;\n",
              "    }\n",
              "\n",
              "    .dataframe tbody tr th {\n",
              "        vertical-align: top;\n",
              "    }\n",
              "\n",
              "    .dataframe thead th {\n",
              "        text-align: right;\n",
              "    }\n",
              "</style>\n",
              "<table border=\"1\" class=\"dataframe\">\n",
              "  <thead>\n",
              "    <tr style=\"text-align: right;\">\n",
              "      <th></th>\n",
              "      <th>Пол</th>\n",
              "      <th>Возраст</th>\n",
              "      <th>Зарплата</th>\n",
              "      <th>Члены семьи</th>\n",
              "      <th>Страховые выплаты</th>\n",
              "    </tr>\n",
              "  </thead>\n",
              "  <tbody>\n",
              "    <tr>\n",
              "      <th>0</th>\n",
              "      <td>1</td>\n",
              "      <td>41.0</td>\n",
              "      <td>49600.0</td>\n",
              "      <td>1</td>\n",
              "      <td>0</td>\n",
              "    </tr>\n",
              "    <tr>\n",
              "      <th>1</th>\n",
              "      <td>0</td>\n",
              "      <td>46.0</td>\n",
              "      <td>38000.0</td>\n",
              "      <td>1</td>\n",
              "      <td>1</td>\n",
              "    </tr>\n",
              "    <tr>\n",
              "      <th>2</th>\n",
              "      <td>0</td>\n",
              "      <td>29.0</td>\n",
              "      <td>21000.0</td>\n",
              "      <td>0</td>\n",
              "      <td>0</td>\n",
              "    </tr>\n",
              "    <tr>\n",
              "      <th>3</th>\n",
              "      <td>0</td>\n",
              "      <td>21.0</td>\n",
              "      <td>41700.0</td>\n",
              "      <td>2</td>\n",
              "      <td>0</td>\n",
              "    </tr>\n",
              "    <tr>\n",
              "      <th>4</th>\n",
              "      <td>1</td>\n",
              "      <td>28.0</td>\n",
              "      <td>26100.0</td>\n",
              "      <td>0</td>\n",
              "      <td>0</td>\n",
              "    </tr>\n",
              "  </tbody>\n",
              "</table>\n",
              "</div>"
            ],
            "text/plain": [
              "   Пол  Возраст  Зарплата  Члены семьи  Страховые выплаты\n",
              "0    1     41.0   49600.0            1                  0\n",
              "1    0     46.0   38000.0            1                  1\n",
              "2    0     29.0   21000.0            0                  0\n",
              "3    0     21.0   41700.0            2                  0\n",
              "4    1     28.0   26100.0            0                  0"
            ]
          },
          "execution_count": 3,
          "metadata": {},
          "output_type": "execute_result"
        }
      ],
      "source": [
        "#Смотрим как выглядят сами данные\n",
        "data.head()"
      ]
    },
    {
      "cell_type": "code",
      "execution_count": null,
      "metadata": {
        "scrolled": true,
        "id": "9IlLgTUy2rCs",
        "outputId": "ad4a7036-7517-4604-cc5c-c07f95693bec"
      },
      "outputs": [
        {
          "name": "stdout",
          "output_type": "stream",
          "text": [
            "<class 'pandas.core.frame.DataFrame'>\n",
            "RangeIndex: 5000 entries, 0 to 4999\n",
            "Data columns (total 5 columns):\n",
            " #   Column             Non-Null Count  Dtype  \n",
            "---  ------             --------------  -----  \n",
            " 0   Пол                5000 non-null   int64  \n",
            " 1   Возраст            5000 non-null   float64\n",
            " 2   Зарплата           5000 non-null   float64\n",
            " 3   Члены семьи        5000 non-null   int64  \n",
            " 4   Страховые выплаты  5000 non-null   int64  \n",
            "dtypes: float64(2), int64(3)\n",
            "memory usage: 195.4 KB\n"
          ]
        }
      ],
      "source": [
        "#Изучаем данные\n",
        "data.info()"
      ]
    },
    {
      "cell_type": "markdown",
      "metadata": {
        "id": "a41CjAkJ2rCt"
      },
      "source": [
        "В нашем распоряжении 5 тысяч строк и 5 колонок, одна из которых булинная. Пропусков нет. Форматы данных корректны."
      ]
    },
    {
      "cell_type": "code",
      "execution_count": null,
      "metadata": {
        "scrolled": true,
        "id": "rmAVbmx22rCt",
        "outputId": "20eefefb-f7f9-4c02-eb2a-2967ffa281b8"
      },
      "outputs": [
        {
          "data": {
            "text/html": [
              "<div>\n",
              "<style scoped>\n",
              "    .dataframe tbody tr th:only-of-type {\n",
              "        vertical-align: middle;\n",
              "    }\n",
              "\n",
              "    .dataframe tbody tr th {\n",
              "        vertical-align: top;\n",
              "    }\n",
              "\n",
              "    .dataframe thead th {\n",
              "        text-align: right;\n",
              "    }\n",
              "</style>\n",
              "<table border=\"1\" class=\"dataframe\">\n",
              "  <thead>\n",
              "    <tr style=\"text-align: right;\">\n",
              "      <th></th>\n",
              "      <th>Пол</th>\n",
              "      <th>Возраст</th>\n",
              "      <th>Зарплата</th>\n",
              "      <th>Члены семьи</th>\n",
              "      <th>Страховые выплаты</th>\n",
              "    </tr>\n",
              "  </thead>\n",
              "  <tbody>\n",
              "    <tr>\n",
              "      <th>count</th>\n",
              "      <td>5000.000000</td>\n",
              "      <td>5000.000000</td>\n",
              "      <td>5000.000000</td>\n",
              "      <td>5000.000000</td>\n",
              "      <td>5000.000000</td>\n",
              "    </tr>\n",
              "    <tr>\n",
              "      <th>mean</th>\n",
              "      <td>0.499000</td>\n",
              "      <td>30.952800</td>\n",
              "      <td>39916.360000</td>\n",
              "      <td>1.194200</td>\n",
              "      <td>0.148000</td>\n",
              "    </tr>\n",
              "    <tr>\n",
              "      <th>std</th>\n",
              "      <td>0.500049</td>\n",
              "      <td>8.440807</td>\n",
              "      <td>9900.083569</td>\n",
              "      <td>1.091387</td>\n",
              "      <td>0.463183</td>\n",
              "    </tr>\n",
              "    <tr>\n",
              "      <th>min</th>\n",
              "      <td>0.000000</td>\n",
              "      <td>18.000000</td>\n",
              "      <td>5300.000000</td>\n",
              "      <td>0.000000</td>\n",
              "      <td>0.000000</td>\n",
              "    </tr>\n",
              "    <tr>\n",
              "      <th>25%</th>\n",
              "      <td>0.000000</td>\n",
              "      <td>24.000000</td>\n",
              "      <td>33300.000000</td>\n",
              "      <td>0.000000</td>\n",
              "      <td>0.000000</td>\n",
              "    </tr>\n",
              "    <tr>\n",
              "      <th>50%</th>\n",
              "      <td>0.000000</td>\n",
              "      <td>30.000000</td>\n",
              "      <td>40200.000000</td>\n",
              "      <td>1.000000</td>\n",
              "      <td>0.000000</td>\n",
              "    </tr>\n",
              "    <tr>\n",
              "      <th>75%</th>\n",
              "      <td>1.000000</td>\n",
              "      <td>37.000000</td>\n",
              "      <td>46600.000000</td>\n",
              "      <td>2.000000</td>\n",
              "      <td>0.000000</td>\n",
              "    </tr>\n",
              "    <tr>\n",
              "      <th>max</th>\n",
              "      <td>1.000000</td>\n",
              "      <td>65.000000</td>\n",
              "      <td>79000.000000</td>\n",
              "      <td>6.000000</td>\n",
              "      <td>5.000000</td>\n",
              "    </tr>\n",
              "  </tbody>\n",
              "</table>\n",
              "</div>"
            ],
            "text/plain": [
              "               Пол      Возраст      Зарплата  Члены семьи  Страховые выплаты\n",
              "count  5000.000000  5000.000000   5000.000000  5000.000000        5000.000000\n",
              "mean      0.499000    30.952800  39916.360000     1.194200           0.148000\n",
              "std       0.500049     8.440807   9900.083569     1.091387           0.463183\n",
              "min       0.000000    18.000000   5300.000000     0.000000           0.000000\n",
              "25%       0.000000    24.000000  33300.000000     0.000000           0.000000\n",
              "50%       0.000000    30.000000  40200.000000     1.000000           0.000000\n",
              "75%       1.000000    37.000000  46600.000000     2.000000           0.000000\n",
              "max       1.000000    65.000000  79000.000000     6.000000           5.000000"
            ]
          },
          "execution_count": 5,
          "metadata": {},
          "output_type": "execute_result"
        }
      ],
      "source": [
        "# Смотрим основную описательную статистику\n",
        "data.describe()"
      ]
    },
    {
      "cell_type": "markdown",
      "metadata": {
        "id": "EczTy2kt2rCt"
      },
      "source": [
        "В наших данные поровну мужчин и женщин, средний и медианный возраст равняется 30, значит данные не скошены. Также нет скошенности и в зарплате, средняя и медианна зп клиентов равняется примерно 40 тысячам. В среднем у семей по одному ребенку, но где-то есть и все 6. Большинство клиентов не получали страховых выплат, но у кого-то были и целых 5 выплат"
      ]
    },
    {
      "cell_type": "code",
      "execution_count": null,
      "metadata": {
        "scrolled": false,
        "id": "lm1g61ZB2rCt",
        "outputId": "22ee5aa2-c072-4a5e-f295-3a80bb06ef54"
      },
      "outputs": [
        {
          "data": {
            "text/plain": [
              "0    4436\n",
              "1     423\n",
              "2     115\n",
              "3      18\n",
              "4       7\n",
              "5       1\n",
              "Name: Страховые выплаты, dtype: int64"
            ]
          },
          "execution_count": 6,
          "metadata": {},
          "output_type": "execute_result"
        }
      ],
      "source": [
        "data['Страховые выплаты'].value_counts()"
      ]
    },
    {
      "cell_type": "markdown",
      "metadata": {
        "id": "ZQnSSRtc2rCt"
      },
      "source": [
        "Как мы уже заметили, большинство клиентов не получали страховых выплат, одну страховую выплату получили 423 клиента, 2 выплаты 115 клиентов и так далее. Такое распределение выглядит логичным, с ним можно работать"
      ]
    },
    {
      "cell_type": "code",
      "execution_count": null,
      "metadata": {
        "scrolled": true,
        "id": "G6Ck9PZd2rCu",
        "outputId": "25386d30-f500-4070-c375-2fe503b620a0"
      },
      "outputs": [
        {
          "data": {
            "text/html": [
              "<div>\n",
              "<style scoped>\n",
              "    .dataframe tbody tr th:only-of-type {\n",
              "        vertical-align: middle;\n",
              "    }\n",
              "\n",
              "    .dataframe tbody tr th {\n",
              "        vertical-align: top;\n",
              "    }\n",
              "\n",
              "    .dataframe thead th {\n",
              "        text-align: right;\n",
              "    }\n",
              "</style>\n",
              "<table border=\"1\" class=\"dataframe\">\n",
              "  <thead>\n",
              "    <tr style=\"text-align: right;\">\n",
              "      <th></th>\n",
              "      <th>Пол</th>\n",
              "      <th>Возраст</th>\n",
              "      <th>Зарплата</th>\n",
              "      <th>Члены семьи</th>\n",
              "      <th>Страховые выплаты</th>\n",
              "    </tr>\n",
              "  </thead>\n",
              "  <tbody>\n",
              "    <tr>\n",
              "      <th>Пол</th>\n",
              "      <td>1.000000</td>\n",
              "      <td>0.002074</td>\n",
              "      <td>0.014910</td>\n",
              "      <td>-0.008991</td>\n",
              "      <td>0.010140</td>\n",
              "    </tr>\n",
              "    <tr>\n",
              "      <th>Возраст</th>\n",
              "      <td>0.002074</td>\n",
              "      <td>1.000000</td>\n",
              "      <td>-0.019093</td>\n",
              "      <td>-0.006692</td>\n",
              "      <td>0.651030</td>\n",
              "    </tr>\n",
              "    <tr>\n",
              "      <th>Зарплата</th>\n",
              "      <td>0.014910</td>\n",
              "      <td>-0.019093</td>\n",
              "      <td>1.000000</td>\n",
              "      <td>-0.030296</td>\n",
              "      <td>-0.014963</td>\n",
              "    </tr>\n",
              "    <tr>\n",
              "      <th>Члены семьи</th>\n",
              "      <td>-0.008991</td>\n",
              "      <td>-0.006692</td>\n",
              "      <td>-0.030296</td>\n",
              "      <td>1.000000</td>\n",
              "      <td>-0.036290</td>\n",
              "    </tr>\n",
              "    <tr>\n",
              "      <th>Страховые выплаты</th>\n",
              "      <td>0.010140</td>\n",
              "      <td>0.651030</td>\n",
              "      <td>-0.014963</td>\n",
              "      <td>-0.036290</td>\n",
              "      <td>1.000000</td>\n",
              "    </tr>\n",
              "  </tbody>\n",
              "</table>\n",
              "</div>"
            ],
            "text/plain": [
              "                        Пол   Возраст  Зарплата  Члены семьи  \\\n",
              "Пол                1.000000  0.002074  0.014910    -0.008991   \n",
              "Возраст            0.002074  1.000000 -0.019093    -0.006692   \n",
              "Зарплата           0.014910 -0.019093  1.000000    -0.030296   \n",
              "Члены семьи       -0.008991 -0.006692 -0.030296     1.000000   \n",
              "Страховые выплаты  0.010140  0.651030 -0.014963    -0.036290   \n",
              "\n",
              "                   Страховые выплаты  \n",
              "Пол                         0.010140  \n",
              "Возраст                     0.651030  \n",
              "Зарплата                   -0.014963  \n",
              "Члены семьи                -0.036290  \n",
              "Страховые выплаты           1.000000  "
            ]
          },
          "execution_count": 7,
          "metadata": {},
          "output_type": "execute_result"
        }
      ],
      "source": [
        "#Смотрим корреляции\n",
        "data.corr()"
      ]
    },
    {
      "cell_type": "markdown",
      "metadata": {
        "id": "JVIozfas2rCu"
      },
      "source": [
        "Слишком высоких корреляций нет"
      ]
    },
    {
      "cell_type": "markdown",
      "metadata": {
        "id": "5JcZezqu2rCu"
      },
      "source": [
        "### Делим на целевой и остальные выборки"
      ]
    },
    {
      "cell_type": "code",
      "execution_count": null,
      "metadata": {
        "id": "6MANzpo32rCv",
        "outputId": "64ffc3f1-f2b0-44e4-b50f-878be58540af"
      },
      "outputs": [
        {
          "data": {
            "text/plain": [
              "((5000, 4), (5000,))"
            ]
          },
          "execution_count": 8,
          "metadata": {},
          "output_type": "execute_result"
        }
      ],
      "source": [
        "#Делим на основные и целевой признаки\n",
        "features = data.drop(['Страховые выплаты'], axis=1)\n",
        "target = data['Страховые выплаты']\n",
        "features.shape, target.shape"
      ]
    },
    {
      "cell_type": "code",
      "execution_count": null,
      "metadata": {
        "scrolled": false,
        "id": "nLlbyonT2rCv",
        "outputId": "1c8e9f4c-fc07-46ef-b3ef-b9b909c77ee4"
      },
      "outputs": [
        {
          "data": {
            "text/plain": [
              "((3750, 4), (1250, 4), (3750,), (1250,))"
            ]
          },
          "execution_count": 9,
          "metadata": {},
          "output_type": "execute_result"
        }
      ],
      "source": [
        "#Делим на обучающие и валидационные выборки\n",
        "features_train, features_valid, target_train, target_valid = train_test_split(\n",
        "    features, target, test_size=0.25, random_state=12345\n",
        "    )\n",
        "features_train.shape, features_valid.shape, target_train.shape, target_valid.shape"
      ]
    },
    {
      "cell_type": "markdown",
      "metadata": {
        "id": "_bS-jMls2rCv"
      },
      "source": [
        "Данные разделились как надо"
      ]
    },
    {
      "cell_type": "markdown",
      "metadata": {
        "id": "-3-3iE182rCv"
      },
      "source": [
        "### Подвывод\n",
        "Мы провели первичный анализ данных, вывели, что пропусков нет, формат данных корректен, как и сами данные, скошенности не наблюдалось ни в одном признаке, проблемы мультиколлинеарности нет."
      ]
    },
    {
      "cell_type": "markdown",
      "metadata": {
        "id": "LGjhHDm72rCw"
      },
      "source": [
        "## Алгоритм преобразования"
      ]
    },
    {
      "cell_type": "markdown",
      "metadata": {
        "id": "MdgSxC6w2rCw"
      },
      "source": [
        "**Алгоритм:** Всё что нам нужно сделать для шифрования, это сместить плоскость матрицы на случайные, известные только нам, координаты. Это будет работать на свойстве обратных матриц:\n",
        "$$\n",
        "MM^{-1} = M^{-1}M = E\n",
        "$$\n",
        "\n",
        "$E$ - это единичная матрица, можно назвать это статусом-кво для базисных векторов матрицы: $x = \\begin{bmatrix} 1 \\\\ 0 \\\\ 0 \\end{bmatrix} , y= \\begin{bmatrix} 0 \\\\ 1 \\\\ 0 \\end{bmatrix}, z = \\begin{bmatrix} 0 \\\\ 0 \\\\ 1 \\end{bmatrix}$\n",
        "\n",
        "\n",
        "Для шифровки мы умножаем матрицу признаков на случайную матрицу, которая будет ключом. При умножении на обратную ключу матрицу, в соответствии показанному выше свойству, матрица вернётся к исходному положение, как и наши данные"
      ]
    },
    {
      "cell_type": "code",
      "execution_count": null,
      "metadata": {
        "id": "Lmgk1K3G2rCw"
      },
      "outputs": [],
      "source": [
        "#Наш \"ключ\" для шифрования\n",
        "np.random.seed(seed=12345)"
      ]
    },
    {
      "cell_type": "code",
      "execution_count": null,
      "metadata": {
        "scrolled": false,
        "id": "8gP4RvXG2rCw",
        "outputId": "d8a3b90b-9829-4298-d380-bc64a6374b44"
      },
      "outputs": [
        {
          "data": {
            "text/plain": [
              "(array([[ -1.0235383 ,   2.39471669,  -2.59719358,  -2.77865152,\n",
              "           9.82890286],\n",
              "        [  6.96702916,   0.46453938,   1.40873076,   3.84511284,\n",
              "           6.23217368],\n",
              "        [  5.03594679,  -6.48110555,   1.37495817,   1.14456439,\n",
              "           6.76458418],\n",
              "        [  4.4321467 , -10.00818655,  -1.85921269,   8.34512655,\n",
              "          -2.19284868],\n",
              "        [ -2.69870723,   2.38492505,  16.2447196 ,  -5.10613762,\n",
              "          -2.88543652]]),\n",
              " array([[-0.22408388,  0.07201981,  0.16884577, -0.17789924, -0.07672365],\n",
              "        [ 0.00609462,  0.0927049 , -0.10372411, -0.02732391, -0.00141289],\n",
              "        [ 0.03967309,  0.02724685, -0.03457678,  0.05085067,  0.074285  ],\n",
              "        [ 0.17081662,  0.08310047, -0.22999878,  0.20879633,  0.06346758],\n",
              "        [ 0.13569421,  0.01560557, -0.0313035 ,  0.06059553,  0.0299261 ]]),\n",
              " array([[ 1.00000000e+00,  1.65375912e-17,  4.37390849e-17,\n",
              "          8.82270549e-17,  2.05656504e-18],\n",
              "        [ 5.80138943e-17,  1.00000000e+00,  2.96404754e-16,\n",
              "         -4.08375289e-17, -3.91692021e-17],\n",
              "        [-1.21908254e-16,  9.15556302e-17,  1.00000000e+00,\n",
              "         -4.62423274e-17, -1.09248047e-18],\n",
              "        [ 9.21509611e-17,  9.36086478e-17, -4.69254129e-17,\n",
              "          1.00000000e+00,  8.19270871e-18],\n",
              "        [ 7.38790178e-17,  2.62760333e-17,  4.26696615e-17,\n",
              "          1.20391086e-16,  1.00000000e+00]]))"
            ]
          },
          "execution_count": 11,
          "metadata": {},
          "output_type": "execute_result"
        }
      ],
      "source": [
        "#Создаём случайную матрицу 5 на 5\n",
        "rand_m = np.random.normal(0, 5, (5, 5))\n",
        "#Создаём обратную ей матрицу\n",
        "rand_m_reversed = np.linalg.inv(rand_m)\n",
        "rand_m, rand_m_reversed, np.dot(rand_m, rand_m_reversed)"
      ]
    },
    {
      "cell_type": "code",
      "execution_count": null,
      "metadata": {
        "scrolled": false,
        "id": "DHRg5V_62rCx",
        "outputId": "4eb116ec-c5bd-4ae7-b31f-02c4691fd59e"
      },
      "outputs": [
        {
          "data": {
            "text/html": [
              "<div>\n",
              "<style scoped>\n",
              "    .dataframe tbody tr th:only-of-type {\n",
              "        vertical-align: middle;\n",
              "    }\n",
              "\n",
              "    .dataframe tbody tr th {\n",
              "        vertical-align: top;\n",
              "    }\n",
              "\n",
              "    .dataframe thead th {\n",
              "        text-align: right;\n",
              "    }\n",
              "</style>\n",
              "<table border=\"1\" class=\"dataframe\">\n",
              "  <thead>\n",
              "    <tr style=\"text-align: right;\">\n",
              "      <th></th>\n",
              "      <th>Пол</th>\n",
              "      <th>Возраст</th>\n",
              "      <th>Зарплата</th>\n",
              "      <th>Члены семьи</th>\n",
              "      <th>Страховые выплаты</th>\n",
              "    </tr>\n",
              "  </thead>\n",
              "  <tbody>\n",
              "    <tr>\n",
              "      <th>0</th>\n",
              "      <td>250072.017485</td>\n",
              "      <td>-321451.402415</td>\n",
              "      <td>68251.226646</td>\n",
              "      <td>56933.610077</td>\n",
              "      <td>335786.530296</td>\n",
              "    </tr>\n",
              "    <tr>\n",
              "      <th>1</th>\n",
              "      <td>191688.194722</td>\n",
              "      <td>-246268.265181</td>\n",
              "      <td>52327.597474</td>\n",
              "      <td>43673.561177</td>\n",
              "      <td>257335.800386</td>\n",
              "    </tr>\n",
              "    <tr>\n",
              "      <th>2</th>\n",
              "      <td>105956.926392</td>\n",
              "      <td>-136089.744815</td>\n",
              "      <td>28914.974703</td>\n",
              "      <td>24147.360561</td>\n",
              "      <td>142237.000729</td>\n",
              "    </tr>\n",
              "    <tr>\n",
              "      <th>3</th>\n",
              "      <td>210154.152962</td>\n",
              "      <td>-270272.362296</td>\n",
              "      <td>57361.620491</td>\n",
              "      <td>47825.772881</td>\n",
              "      <td>282209.650082</td>\n",
              "    </tr>\n",
              "    <tr>\n",
              "      <th>4</th>\n",
              "      <td>131632.264443</td>\n",
              "      <td>-169141.452920</td>\n",
              "      <td>35923.255431</td>\n",
              "      <td>29978.015209</td>\n",
              "      <td>176739.976755</td>\n",
              "    </tr>\n",
              "    <tr>\n",
              "      <th>...</th>\n",
              "      <td>...</td>\n",
              "      <td>...</td>\n",
              "      <td>...</td>\n",
              "      <td>...</td>\n",
              "      <td>...</td>\n",
              "    </tr>\n",
              "    <tr>\n",
              "      <th>4995</th>\n",
              "      <td>179987.241439</td>\n",
              "      <td>-231382.477247</td>\n",
              "      <td>49121.732604</td>\n",
              "      <td>40985.302303</td>\n",
              "      <td>241665.770243</td>\n",
              "    </tr>\n",
              "    <tr>\n",
              "      <th>4996</th>\n",
              "      <td>264124.922825</td>\n",
              "      <td>-339604.144435</td>\n",
              "      <td>72093.845593</td>\n",
              "      <td>60114.253244</td>\n",
              "      <td>354673.911870</td>\n",
              "    </tr>\n",
              "    <tr>\n",
              "      <th>4997</th>\n",
              "      <td>170866.800987</td>\n",
              "      <td>-219720.203580</td>\n",
              "      <td>46635.538057</td>\n",
              "      <td>38894.325489</td>\n",
              "      <td>229439.661337</td>\n",
              "    </tr>\n",
              "    <tr>\n",
              "      <th>4998</th>\n",
              "      <td>164841.007508</td>\n",
              "      <td>-211949.561316</td>\n",
              "      <td>44983.949311</td>\n",
              "      <td>37534.104916</td>\n",
              "      <td>221342.260727</td>\n",
              "    </tr>\n",
              "    <tr>\n",
              "      <th>4999</th>\n",
              "      <td>204657.925014</td>\n",
              "      <td>-263127.491517</td>\n",
              "      <td>55858.289642</td>\n",
              "      <td>46582.544058</td>\n",
              "      <td>274824.254456</td>\n",
              "    </tr>\n",
              "  </tbody>\n",
              "</table>\n",
              "<p>5000 rows × 5 columns</p>\n",
              "</div>"
            ],
            "text/plain": [
              "                Пол        Возраст      Зарплата   Члены семьи  \\\n",
              "0     250072.017485 -321451.402415  68251.226646  56933.610077   \n",
              "1     191688.194722 -246268.265181  52327.597474  43673.561177   \n",
              "2     105956.926392 -136089.744815  28914.974703  24147.360561   \n",
              "3     210154.152962 -270272.362296  57361.620491  47825.772881   \n",
              "4     131632.264443 -169141.452920  35923.255431  29978.015209   \n",
              "...             ...            ...           ...           ...   \n",
              "4995  179987.241439 -231382.477247  49121.732604  40985.302303   \n",
              "4996  264124.922825 -339604.144435  72093.845593  60114.253244   \n",
              "4997  170866.800987 -219720.203580  46635.538057  38894.325489   \n",
              "4998  164841.007508 -211949.561316  44983.949311  37534.104916   \n",
              "4999  204657.925014 -263127.491517  55858.289642  46582.544058   \n",
              "\n",
              "      Страховые выплаты  \n",
              "0         335786.530296  \n",
              "1         257335.800386  \n",
              "2         142237.000729  \n",
              "3         282209.650082  \n",
              "4         176739.976755  \n",
              "...                 ...  \n",
              "4995      241665.770243  \n",
              "4996      354673.911870  \n",
              "4997      229439.661337  \n",
              "4998      221342.260727  \n",
              "4999      274824.254456  \n",
              "\n",
              "[5000 rows x 5 columns]"
            ]
          },
          "execution_count": 12,
          "metadata": {},
          "output_type": "execute_result"
        }
      ],
      "source": [
        "#Как выглядит данные после шифровки\n",
        "data_dot_rand_m = data @ rand_m\n",
        "data_dot_rand_m.columns = data.columns\n",
        "data_dot_rand_m"
      ]
    },
    {
      "cell_type": "code",
      "execution_count": null,
      "metadata": {
        "id": "MeffZqSN2rCy",
        "outputId": "ee7e641b-d1f7-4568-c0ea-838e8ece4cb7"
      },
      "outputs": [
        {
          "data": {
            "text/html": [
              "<div>\n",
              "<style scoped>\n",
              "    .dataframe tbody tr th:only-of-type {\n",
              "        vertical-align: middle;\n",
              "    }\n",
              "\n",
              "    .dataframe tbody tr th {\n",
              "        vertical-align: top;\n",
              "    }\n",
              "\n",
              "    .dataframe thead th {\n",
              "        text-align: right;\n",
              "    }\n",
              "</style>\n",
              "<table border=\"1\" class=\"dataframe\">\n",
              "  <thead>\n",
              "    <tr style=\"text-align: right;\">\n",
              "      <th></th>\n",
              "      <th>Пол</th>\n",
              "      <th>Возраст</th>\n",
              "      <th>Зарплата</th>\n",
              "      <th>Члены семьи</th>\n",
              "      <th>Страховые выплаты</th>\n",
              "    </tr>\n",
              "  </thead>\n",
              "  <tbody>\n",
              "    <tr>\n",
              "      <th>0</th>\n",
              "      <td>1.000000e+00</td>\n",
              "      <td>41.0</td>\n",
              "      <td>49600.0</td>\n",
              "      <td>1.000000e+00</td>\n",
              "      <td>-4.256383e-13</td>\n",
              "    </tr>\n",
              "    <tr>\n",
              "      <th>1</th>\n",
              "      <td>8.113634e-12</td>\n",
              "      <td>46.0</td>\n",
              "      <td>38000.0</td>\n",
              "      <td>1.000000e+00</td>\n",
              "      <td>1.000000e+00</td>\n",
              "    </tr>\n",
              "    <tr>\n",
              "      <th>2</th>\n",
              "      <td>5.204800e-12</td>\n",
              "      <td>29.0</td>\n",
              "      <td>21000.0</td>\n",
              "      <td>2.137293e-13</td>\n",
              "      <td>6.454238e-13</td>\n",
              "    </tr>\n",
              "    <tr>\n",
              "      <th>3</th>\n",
              "      <td>6.815135e-12</td>\n",
              "      <td>21.0</td>\n",
              "      <td>41700.0</td>\n",
              "      <td>2.000000e+00</td>\n",
              "      <td>8.408270e-13</td>\n",
              "    </tr>\n",
              "    <tr>\n",
              "      <th>4</th>\n",
              "      <td>1.000000e+00</td>\n",
              "      <td>28.0</td>\n",
              "      <td>26100.0</td>\n",
              "      <td>-8.558991e-13</td>\n",
              "      <td>3.233051e-13</td>\n",
              "    </tr>\n",
              "    <tr>\n",
              "      <th>...</th>\n",
              "      <td>...</td>\n",
              "      <td>...</td>\n",
              "      <td>...</td>\n",
              "      <td>...</td>\n",
              "      <td>...</td>\n",
              "    </tr>\n",
              "    <tr>\n",
              "      <th>4995</th>\n",
              "      <td>1.079101e-11</td>\n",
              "      <td>28.0</td>\n",
              "      <td>35700.0</td>\n",
              "      <td>2.000000e+00</td>\n",
              "      <td>3.542638e-12</td>\n",
              "    </tr>\n",
              "    <tr>\n",
              "      <th>4996</th>\n",
              "      <td>5.253163e-12</td>\n",
              "      <td>34.0</td>\n",
              "      <td>52400.0</td>\n",
              "      <td>1.000000e+00</td>\n",
              "      <td>-3.384161e-13</td>\n",
              "    </tr>\n",
              "    <tr>\n",
              "      <th>4997</th>\n",
              "      <td>5.796234e-12</td>\n",
              "      <td>20.0</td>\n",
              "      <td>33900.0</td>\n",
              "      <td>2.000000e+00</td>\n",
              "      <td>1.476578e-13</td>\n",
              "    </tr>\n",
              "    <tr>\n",
              "      <th>4998</th>\n",
              "      <td>1.000000e+00</td>\n",
              "      <td>22.0</td>\n",
              "      <td>32700.0</td>\n",
              "      <td>3.000000e+00</td>\n",
              "      <td>-4.472130e-13</td>\n",
              "    </tr>\n",
              "    <tr>\n",
              "      <th>4999</th>\n",
              "      <td>1.000000e+00</td>\n",
              "      <td>28.0</td>\n",
              "      <td>40600.0</td>\n",
              "      <td>1.000000e+00</td>\n",
              "      <td>-1.036553e-12</td>\n",
              "    </tr>\n",
              "  </tbody>\n",
              "</table>\n",
              "<p>5000 rows × 5 columns</p>\n",
              "</div>"
            ],
            "text/plain": [
              "               Пол  Возраст  Зарплата   Члены семьи  Страховые выплаты\n",
              "0     1.000000e+00     41.0   49600.0  1.000000e+00      -4.256383e-13\n",
              "1     8.113634e-12     46.0   38000.0  1.000000e+00       1.000000e+00\n",
              "2     5.204800e-12     29.0   21000.0  2.137293e-13       6.454238e-13\n",
              "3     6.815135e-12     21.0   41700.0  2.000000e+00       8.408270e-13\n",
              "4     1.000000e+00     28.0   26100.0 -8.558991e-13       3.233051e-13\n",
              "...            ...      ...       ...           ...                ...\n",
              "4995  1.079101e-11     28.0   35700.0  2.000000e+00       3.542638e-12\n",
              "4996  5.253163e-12     34.0   52400.0  1.000000e+00      -3.384161e-13\n",
              "4997  5.796234e-12     20.0   33900.0  2.000000e+00       1.476578e-13\n",
              "4998  1.000000e+00     22.0   32700.0  3.000000e+00      -4.472130e-13\n",
              "4999  1.000000e+00     28.0   40600.0  1.000000e+00      -1.036553e-12\n",
              "\n",
              "[5000 rows x 5 columns]"
            ]
          },
          "execution_count": 13,
          "metadata": {},
          "output_type": "execute_result"
        }
      ],
      "source": [
        "#Как выглядят расшифрованные данные\n",
        "data_dot_rand_m_reversed = data_dot_rand_m @ rand_m_reversed\n",
        "data_dot_rand_m_reversed.columns = data.columns\n",
        "data_dot_rand_m_reversed"
      ]
    },
    {
      "cell_type": "code",
      "execution_count": null,
      "metadata": {
        "id": "kHtGeN0d2rCy",
        "outputId": "fe8bc82e-6fda-4775-cb07-0be1f7046a18"
      },
      "outputs": [
        {
          "data": {
            "text/plain": [
              "((5000, 4), (5000,))"
            ]
          },
          "execution_count": 14,
          "metadata": {},
          "output_type": "execute_result"
        }
      ],
      "source": [
        "#Делим на основные и целевой признаки\n",
        "features_rand = data_dot_rand_m_reversed.drop(['Страховые выплаты'], axis=1)\n",
        "target_rand = data_dot_rand_m_reversed['Страховые выплаты']\n",
        "features_rand.shape, target_rand.shape"
      ]
    },
    {
      "cell_type": "code",
      "execution_count": null,
      "metadata": {
        "id": "XH_qfelT2rCy",
        "outputId": "abfab196-a705-4b2e-91ab-8e34a9ae3d14"
      },
      "outputs": [
        {
          "data": {
            "text/plain": [
              "((3750, 4), (1250, 4), (3750,), (1250,))"
            ]
          },
          "execution_count": 15,
          "metadata": {},
          "output_type": "execute_result"
        }
      ],
      "source": [
        "#Делим на обучающие и валидационные выборки\n",
        "features_train_rand, features_valid_rand, target_train_rand, target_valid_rand = train_test_split(\n",
        "    features_rand, target_rand, test_size=0.25, random_state=12345\n",
        "    )\n",
        "features_train_rand.shape, features_valid_rand.shape, target_train_rand.shape, target_valid_rand.shape"
      ]
    },
    {
      "cell_type": "markdown",
      "metadata": {
        "id": "nw2ASuvt2rCz"
      },
      "source": [
        "### Подвывод\n",
        "Мы описали алгоритм шифрования, сгенерировали псевдослучайную матрицу, а также матрицу ей обратную, разделили на выборки преобразованные данные для последующего использования в линейной регрессии."
      ]
    },
    {
      "cell_type": "markdown",
      "metadata": {
        "id": "6BH7NPp62rCz"
      },
      "source": [
        "## Проверка алгоритма"
      ]
    },
    {
      "cell_type": "markdown",
      "metadata": {
        "id": "1NGg8NDn2rCz"
      },
      "source": [
        "### До преобразования"
      ]
    },
    {
      "cell_type": "code",
      "execution_count": null,
      "metadata": {
        "id": "fS6-11-H2rCz",
        "outputId": "3c9f00e4-19d9-4d6b-c173-43d7d2981e1b"
      },
      "outputs": [
        {
          "data": {
            "text/plain": [
              "0.43522757127026546"
            ]
          },
          "execution_count": 16,
          "metadata": {},
          "output_type": "execute_result"
        }
      ],
      "source": [
        "model = LinearRegression()\n",
        "model.fit(features_train, target_train)\n",
        "predictions = model.predict(features_valid)\n",
        "r2s = r2_score(target_valid, predictions)\n",
        "r2s"
      ]
    },
    {
      "cell_type": "markdown",
      "metadata": {
        "id": "MU_EMmVm2rCz"
      },
      "source": [
        "Результат нашей метрики 0.43522. В результате шифрования, модель должна выдавать те же результаты, но данные сами должны быть преобразованными."
      ]
    },
    {
      "cell_type": "markdown",
      "metadata": {
        "id": "GQXG3anp2rCz"
      },
      "source": [
        "### После преобразования"
      ]
    },
    {
      "cell_type": "code",
      "execution_count": null,
      "metadata": {
        "scrolled": true,
        "id": "wXiJL3_s2rC0",
        "outputId": "99353a04-e3a7-49ad-dbda-7c6595c7ad45"
      },
      "outputs": [
        {
          "data": {
            "text/plain": [
              "0.4352275712700978"
            ]
          },
          "execution_count": 17,
          "metadata": {},
          "output_type": "execute_result"
        }
      ],
      "source": [
        "model = LinearRegression()\n",
        "model.fit(features_train_rand, target_train_rand)\n",
        "predictions = model.predict(features_valid_rand)\n",
        "r2s = r2_score(target_valid_rand, predictions)\n",
        "r2s"
      ]
    },
    {
      "cell_type": "markdown",
      "metadata": {
        "id": "QAkFiTLv2rC0"
      },
      "source": [
        "Результат тот же, что и до преобразования"
      ]
    },
    {
      "cell_type": "markdown",
      "metadata": {
        "id": "1u6WvVUP2rC0"
      },
      "source": [
        "### Подвывод\n",
        "Мы придумали алгоритм шифрования данных и проверили, что шифровка не влияет на точность работы линейной регрессии"
      ]
    },
    {
      "cell_type": "markdown",
      "metadata": {
        "id": "hZTGVAdJ2rC0"
      },
      "source": [
        "## Вывод"
      ]
    },
    {
      "cell_type": "markdown",
      "metadata": {
        "id": "VUMfJkUs2rC0"
      },
      "source": [
        "Мы провели предобработку данных, провели первичный анализ, придумали алгоритм шифрования данных и сравнили качество линейной регрессии на изначальных и преобразованных матрицах. Как и ожидалось, качество матрицы осталось тем же, значит поставленную задачу мы успешно выполнили."
      ]
    }
  ],
  "metadata": {
    "ExecuteTimeLog": [
      {
        "duration": 52,
        "start_time": "2023-05-25T16:36:59.982Z"
      },
      {
        "duration": 1593,
        "start_time": "2023-05-25T16:37:13.046Z"
      },
      {
        "duration": 93,
        "start_time": "2023-05-25T16:37:14.642Z"
      },
      {
        "duration": 2,
        "start_time": "2023-05-25T16:37:45.843Z"
      },
      {
        "duration": 30,
        "start_time": "2023-05-25T16:37:45.974Z"
      },
      {
        "duration": 12,
        "start_time": "2023-05-25T16:38:57.631Z"
      },
      {
        "duration": 13,
        "start_time": "2023-05-25T16:39:10.653Z"
      },
      {
        "duration": 23,
        "start_time": "2023-05-25T16:44:00.531Z"
      },
      {
        "duration": 52,
        "start_time": "2023-05-25T20:26:07.287Z"
      },
      {
        "duration": 732,
        "start_time": "2023-05-25T20:26:11.494Z"
      },
      {
        "duration": 85,
        "start_time": "2023-05-25T20:26:12.228Z"
      },
      {
        "duration": 12,
        "start_time": "2023-05-25T20:26:12.314Z"
      },
      {
        "duration": 11,
        "start_time": "2023-05-25T20:26:12.327Z"
      },
      {
        "duration": 26,
        "start_time": "2023-05-25T20:26:12.339Z"
      },
      {
        "duration": 124,
        "start_time": "2023-05-25T20:26:17.760Z"
      },
      {
        "duration": 35,
        "start_time": "2023-05-25T20:26:36.815Z"
      },
      {
        "duration": 5,
        "start_time": "2023-05-25T20:26:39.287Z"
      },
      {
        "duration": 4,
        "start_time": "2023-05-25T20:28:21.003Z"
      },
      {
        "duration": 4,
        "start_time": "2023-05-25T20:28:58.062Z"
      },
      {
        "duration": 71,
        "start_time": "2023-05-25T20:29:09.785Z"
      },
      {
        "duration": 5,
        "start_time": "2023-05-25T20:29:12.552Z"
      },
      {
        "duration": 8,
        "start_time": "2023-05-25T20:31:53.899Z"
      },
      {
        "duration": 759,
        "start_time": "2023-05-25T20:32:21.096Z"
      },
      {
        "duration": 5,
        "start_time": "2023-05-25T20:32:24.867Z"
      },
      {
        "duration": 7,
        "start_time": "2023-05-25T20:32:44.947Z"
      },
      {
        "duration": 7,
        "start_time": "2023-05-25T20:33:55.164Z"
      },
      {
        "duration": 3,
        "start_time": "2023-05-25T20:34:42.156Z"
      },
      {
        "duration": 43,
        "start_time": "2023-05-25T20:35:07.388Z"
      },
      {
        "duration": 20,
        "start_time": "2023-05-25T20:35:33.108Z"
      },
      {
        "duration": 11,
        "start_time": "2023-05-25T20:35:37.094Z"
      },
      {
        "duration": 3,
        "start_time": "2023-05-25T20:36:34.585Z"
      },
      {
        "duration": 9,
        "start_time": "2023-05-25T20:36:38.043Z"
      },
      {
        "duration": 8,
        "start_time": "2023-05-25T22:11:44.441Z"
      },
      {
        "duration": 118,
        "start_time": "2023-05-25T22:11:50.015Z"
      },
      {
        "duration": 13,
        "start_time": "2023-05-25T22:12:03.223Z"
      },
      {
        "duration": 83,
        "start_time": "2023-05-25T22:12:08.101Z"
      },
      {
        "duration": 13,
        "start_time": "2023-05-25T22:49:53.845Z"
      },
      {
        "duration": 3,
        "start_time": "2023-05-25T22:50:11.738Z"
      },
      {
        "duration": 31,
        "start_time": "2023-05-25T22:50:11.743Z"
      },
      {
        "duration": 8,
        "start_time": "2023-05-25T22:50:11.776Z"
      },
      {
        "duration": 11,
        "start_time": "2023-05-25T22:50:11.787Z"
      },
      {
        "duration": 25,
        "start_time": "2023-05-25T22:50:11.800Z"
      },
      {
        "duration": 5,
        "start_time": "2023-05-25T22:50:11.827Z"
      },
      {
        "duration": 5,
        "start_time": "2023-05-25T22:50:15.525Z"
      },
      {
        "duration": 11,
        "start_time": "2023-05-25T22:50:17.061Z"
      },
      {
        "duration": 12,
        "start_time": "2023-05-25T22:50:24.797Z"
      },
      {
        "duration": 123,
        "start_time": "2023-05-25T22:50:30.092Z"
      },
      {
        "duration": 323,
        "start_time": "2023-05-25T22:53:27.424Z"
      },
      {
        "duration": 277,
        "start_time": "2023-05-25T22:53:32.086Z"
      },
      {
        "duration": 288,
        "start_time": "2023-05-25T22:53:35.520Z"
      },
      {
        "duration": 3,
        "start_time": "2023-05-25T22:55:28.776Z"
      },
      {
        "duration": 4,
        "start_time": "2023-05-25T22:55:36.577Z"
      },
      {
        "duration": 4,
        "start_time": "2023-05-25T22:55:38.368Z"
      },
      {
        "duration": 4,
        "start_time": "2023-05-25T22:55:40.088Z"
      },
      {
        "duration": 2,
        "start_time": "2023-05-25T22:56:09.065Z"
      },
      {
        "duration": 4,
        "start_time": "2023-05-25T22:56:09.936Z"
      },
      {
        "duration": 3,
        "start_time": "2023-05-25T22:56:12.065Z"
      },
      {
        "duration": 4,
        "start_time": "2023-05-25T22:56:14.250Z"
      },
      {
        "duration": 3,
        "start_time": "2023-05-25T22:56:18.569Z"
      },
      {
        "duration": 29,
        "start_time": "2023-05-25T22:56:18.574Z"
      },
      {
        "duration": 8,
        "start_time": "2023-05-25T22:56:18.604Z"
      },
      {
        "duration": 17,
        "start_time": "2023-05-25T22:56:18.614Z"
      },
      {
        "duration": 23,
        "start_time": "2023-05-25T22:56:18.632Z"
      },
      {
        "duration": 5,
        "start_time": "2023-05-25T22:56:18.656Z"
      },
      {
        "duration": 5,
        "start_time": "2023-05-25T22:56:18.663Z"
      },
      {
        "duration": 9,
        "start_time": "2023-05-25T22:56:18.669Z"
      },
      {
        "duration": 3,
        "start_time": "2023-05-25T22:56:18.680Z"
      },
      {
        "duration": 2,
        "start_time": "2023-05-25T22:56:19.881Z"
      },
      {
        "duration": 4,
        "start_time": "2023-05-25T22:56:20.384Z"
      },
      {
        "duration": 3,
        "start_time": "2023-05-25T22:56:23.169Z"
      },
      {
        "duration": 4,
        "start_time": "2023-05-25T22:56:23.544Z"
      },
      {
        "duration": 3,
        "start_time": "2023-05-25T22:56:25.401Z"
      },
      {
        "duration": 5,
        "start_time": "2023-05-25T22:56:25.584Z"
      },
      {
        "duration": 4,
        "start_time": "2023-05-25T22:57:08.221Z"
      },
      {
        "duration": 34,
        "start_time": "2023-05-25T22:57:08.227Z"
      },
      {
        "duration": 12,
        "start_time": "2023-05-25T22:57:08.264Z"
      },
      {
        "duration": 12,
        "start_time": "2023-05-25T22:57:08.277Z"
      },
      {
        "duration": 22,
        "start_time": "2023-05-25T22:57:08.291Z"
      },
      {
        "duration": 5,
        "start_time": "2023-05-25T22:57:08.314Z"
      },
      {
        "duration": 6,
        "start_time": "2023-05-25T22:57:08.321Z"
      },
      {
        "duration": 6,
        "start_time": "2023-05-25T22:57:08.350Z"
      },
      {
        "duration": 5,
        "start_time": "2023-05-25T22:57:08.358Z"
      },
      {
        "duration": 6,
        "start_time": "2023-05-25T22:57:08.364Z"
      },
      {
        "duration": 3,
        "start_time": "2023-05-25T22:57:25.742Z"
      },
      {
        "duration": 30,
        "start_time": "2023-05-25T22:57:25.747Z"
      },
      {
        "duration": 8,
        "start_time": "2023-05-25T22:57:25.779Z"
      },
      {
        "duration": 11,
        "start_time": "2023-05-25T22:57:25.788Z"
      },
      {
        "duration": 25,
        "start_time": "2023-05-25T22:57:25.801Z"
      },
      {
        "duration": 5,
        "start_time": "2023-05-25T22:57:25.827Z"
      },
      {
        "duration": 7,
        "start_time": "2023-05-25T22:57:25.833Z"
      },
      {
        "duration": 11,
        "start_time": "2023-05-25T22:57:25.841Z"
      },
      {
        "duration": 2,
        "start_time": "2023-05-25T22:57:25.854Z"
      },
      {
        "duration": 5,
        "start_time": "2023-05-25T22:57:25.857Z"
      },
      {
        "duration": 11,
        "start_time": "2023-05-25T22:58:22.241Z"
      },
      {
        "duration": 12,
        "start_time": "2023-05-25T22:58:27.257Z"
      },
      {
        "duration": 3,
        "start_time": "2023-05-25T22:58:30.396Z"
      },
      {
        "duration": 51,
        "start_time": "2023-05-25T22:58:30.401Z"
      },
      {
        "duration": 27,
        "start_time": "2023-05-25T22:58:30.454Z"
      },
      {
        "duration": 30,
        "start_time": "2023-05-25T22:58:30.482Z"
      },
      {
        "duration": 46,
        "start_time": "2023-05-25T22:58:30.514Z"
      },
      {
        "duration": 26,
        "start_time": "2023-05-25T22:58:30.562Z"
      },
      {
        "duration": 37,
        "start_time": "2023-05-25T22:58:30.589Z"
      },
      {
        "duration": 18,
        "start_time": "2023-05-25T22:58:30.627Z"
      },
      {
        "duration": 2,
        "start_time": "2023-05-25T22:58:39.114Z"
      },
      {
        "duration": 2,
        "start_time": "2023-05-25T22:58:41.896Z"
      },
      {
        "duration": 5,
        "start_time": "2023-05-25T22:58:44.130Z"
      },
      {
        "duration": 3,
        "start_time": "2023-05-25T22:58:46.154Z"
      },
      {
        "duration": 4,
        "start_time": "2023-05-25T22:58:46.410Z"
      },
      {
        "duration": 4,
        "start_time": "2023-05-25T22:58:48.034Z"
      },
      {
        "duration": 3,
        "start_time": "2023-05-25T22:58:49.991Z"
      },
      {
        "duration": 4,
        "start_time": "2023-05-25T22:58:50.209Z"
      },
      {
        "duration": 104,
        "start_time": "2023-05-25T23:00:23.576Z"
      },
      {
        "duration": 10,
        "start_time": "2023-05-25T23:01:11.747Z"
      },
      {
        "duration": 13,
        "start_time": "2023-05-25T23:01:46.383Z"
      },
      {
        "duration": 11,
        "start_time": "2023-05-25T23:02:20.679Z"
      },
      {
        "duration": 10,
        "start_time": "2023-05-25T23:05:52.574Z"
      },
      {
        "duration": 4,
        "start_time": "2023-05-25T23:06:07.782Z"
      },
      {
        "duration": 13,
        "start_time": "2023-05-25T23:06:11.581Z"
      },
      {
        "duration": 7,
        "start_time": "2023-05-25T23:06:58.207Z"
      },
      {
        "duration": 8,
        "start_time": "2023-05-25T23:07:20.671Z"
      },
      {
        "duration": 9,
        "start_time": "2023-05-25T23:07:43.175Z"
      },
      {
        "duration": 9,
        "start_time": "2023-05-25T23:07:48.470Z"
      },
      {
        "duration": 11,
        "start_time": "2023-05-25T23:07:49.772Z"
      },
      {
        "duration": 299,
        "start_time": "2023-05-25T23:29:32.301Z"
      },
      {
        "duration": 15745,
        "start_time": "2023-05-25T23:30:12.260Z"
      },
      {
        "duration": 183,
        "start_time": "2023-05-25T23:30:34.368Z"
      },
      {
        "duration": 5,
        "start_time": "2023-05-25T23:30:42.021Z"
      },
      {
        "duration": 7,
        "start_time": "2023-05-25T23:30:42.437Z"
      },
      {
        "duration": 13,
        "start_time": "2023-05-25T23:30:55.149Z"
      },
      {
        "duration": 10,
        "start_time": "2023-05-25T23:30:59.629Z"
      },
      {
        "duration": 10,
        "start_time": "2023-05-25T23:31:01.740Z"
      },
      {
        "duration": 62,
        "start_time": "2023-05-26T05:30:09.052Z"
      },
      {
        "duration": 1603,
        "start_time": "2023-05-26T05:30:12.388Z"
      },
      {
        "duration": 94,
        "start_time": "2023-05-26T05:30:13.993Z"
      },
      {
        "duration": 13,
        "start_time": "2023-05-26T05:30:14.090Z"
      },
      {
        "duration": 23,
        "start_time": "2023-05-26T05:30:14.104Z"
      },
      {
        "duration": 23,
        "start_time": "2023-05-26T05:30:14.129Z"
      },
      {
        "duration": 6,
        "start_time": "2023-05-26T05:30:14.154Z"
      },
      {
        "duration": 6,
        "start_time": "2023-05-26T05:30:14.161Z"
      },
      {
        "duration": 14,
        "start_time": "2023-05-26T05:30:14.168Z"
      },
      {
        "duration": 8,
        "start_time": "2023-05-26T05:30:14.185Z"
      },
      {
        "duration": 7,
        "start_time": "2023-05-26T05:30:14.196Z"
      },
      {
        "duration": 12,
        "start_time": "2023-05-26T05:30:17.343Z"
      },
      {
        "duration": 13,
        "start_time": "2023-05-26T05:31:29.887Z"
      },
      {
        "duration": 48,
        "start_time": "2023-05-26T05:32:52.811Z"
      },
      {
        "duration": 13,
        "start_time": "2023-05-26T05:33:22.327Z"
      },
      {
        "duration": 12,
        "start_time": "2023-05-26T05:37:20.418Z"
      },
      {
        "duration": 6,
        "start_time": "2023-05-26T05:38:11.722Z"
      },
      {
        "duration": 3,
        "start_time": "2023-05-26T05:38:14.758Z"
      },
      {
        "duration": 6,
        "start_time": "2023-05-26T05:38:15.159Z"
      },
      {
        "duration": 13,
        "start_time": "2023-05-26T05:38:50.188Z"
      },
      {
        "duration": 13,
        "start_time": "2023-05-26T05:39:11.862Z"
      },
      {
        "duration": 17,
        "start_time": "2023-05-26T05:39:29.688Z"
      },
      {
        "duration": 4,
        "start_time": "2023-05-26T05:40:22.099Z"
      },
      {
        "duration": 4,
        "start_time": "2023-05-26T05:40:46.721Z"
      },
      {
        "duration": 6,
        "start_time": "2023-05-26T05:41:33.015Z"
      },
      {
        "duration": 3,
        "start_time": "2023-05-26T05:41:37.655Z"
      },
      {
        "duration": 7,
        "start_time": "2023-05-26T05:41:37.803Z"
      },
      {
        "duration": 2,
        "start_time": "2023-05-26T05:41:45.760Z"
      },
      {
        "duration": 7,
        "start_time": "2023-05-26T05:41:45.911Z"
      },
      {
        "duration": 2,
        "start_time": "2023-05-26T05:44:36.616Z"
      },
      {
        "duration": 6,
        "start_time": "2023-05-26T05:44:36.818Z"
      },
      {
        "duration": 3,
        "start_time": "2023-05-26T05:44:47.894Z"
      },
      {
        "duration": 7,
        "start_time": "2023-05-26T05:44:48.040Z"
      },
      {
        "duration": 7,
        "start_time": "2023-05-26T05:44:58.250Z"
      },
      {
        "duration": 6,
        "start_time": "2023-05-26T05:50:37.307Z"
      },
      {
        "duration": 6,
        "start_time": "2023-05-26T05:51:03.587Z"
      },
      {
        "duration": 2,
        "start_time": "2023-05-26T05:51:12.891Z"
      },
      {
        "duration": 6,
        "start_time": "2023-05-26T05:51:13.115Z"
      },
      {
        "duration": 6,
        "start_time": "2023-05-26T05:52:04.991Z"
      },
      {
        "duration": 3,
        "start_time": "2023-05-26T05:52:24.314Z"
      },
      {
        "duration": 35,
        "start_time": "2023-05-26T05:52:24.318Z"
      },
      {
        "duration": 9,
        "start_time": "2023-05-26T05:52:24.355Z"
      },
      {
        "duration": 20,
        "start_time": "2023-05-26T05:52:24.366Z"
      },
      {
        "duration": 42,
        "start_time": "2023-05-26T05:52:24.388Z"
      },
      {
        "duration": 6,
        "start_time": "2023-05-26T05:52:24.432Z"
      },
      {
        "duration": 24,
        "start_time": "2023-05-26T05:52:24.439Z"
      },
      {
        "duration": 9,
        "start_time": "2023-05-26T05:52:24.465Z"
      },
      {
        "duration": 3,
        "start_time": "2023-05-26T05:52:24.475Z"
      },
      {
        "duration": 6,
        "start_time": "2023-05-26T05:52:30.165Z"
      },
      {
        "duration": 6,
        "start_time": "2023-05-26T05:57:45.256Z"
      },
      {
        "duration": 3,
        "start_time": "2023-05-26T05:58:25.543Z"
      },
      {
        "duration": 6,
        "start_time": "2023-05-26T05:58:25.712Z"
      },
      {
        "duration": 62,
        "start_time": "2023-05-26T05:59:21.528Z"
      },
      {
        "duration": 3,
        "start_time": "2023-05-26T06:00:09.585Z"
      },
      {
        "duration": 6,
        "start_time": "2023-05-26T06:00:31.457Z"
      },
      {
        "duration": 7,
        "start_time": "2023-05-26T06:00:56.882Z"
      },
      {
        "duration": 11,
        "start_time": "2023-05-26T06:01:03.642Z"
      },
      {
        "duration": 10,
        "start_time": "2023-05-26T06:01:05.409Z"
      },
      {
        "duration": 9,
        "start_time": "2023-05-26T06:01:13.000Z"
      },
      {
        "duration": 11,
        "start_time": "2023-05-26T06:01:14.041Z"
      },
      {
        "duration": 9,
        "start_time": "2023-05-26T06:01:14.753Z"
      },
      {
        "duration": 12,
        "start_time": "2023-05-26T06:02:25.298Z"
      },
      {
        "duration": 16,
        "start_time": "2023-05-26T06:03:00.995Z"
      },
      {
        "duration": 10,
        "start_time": "2023-05-26T06:03:24.268Z"
      },
      {
        "duration": 17,
        "start_time": "2023-05-26T06:03:26.859Z"
      },
      {
        "duration": 8,
        "start_time": "2023-05-26T06:03:27.035Z"
      },
      {
        "duration": 16,
        "start_time": "2023-05-26T06:03:40.786Z"
      },
      {
        "duration": 5,
        "start_time": "2023-05-26T06:03:42.795Z"
      },
      {
        "duration": 6,
        "start_time": "2023-05-26T06:03:43.795Z"
      },
      {
        "duration": 10,
        "start_time": "2023-05-26T06:03:49.539Z"
      },
      {
        "duration": 9,
        "start_time": "2023-05-26T07:14:45.808Z"
      },
      {
        "duration": 11,
        "start_time": "2023-05-26T07:14:46.577Z"
      },
      {
        "duration": 14,
        "start_time": "2023-05-26T07:21:52.759Z"
      },
      {
        "duration": 14,
        "start_time": "2023-05-26T07:31:07.182Z"
      },
      {
        "duration": 4,
        "start_time": "2023-05-26T07:31:44.596Z"
      },
      {
        "duration": 32,
        "start_time": "2023-05-26T07:31:44.602Z"
      },
      {
        "duration": 8,
        "start_time": "2023-05-26T07:31:44.636Z"
      },
      {
        "duration": 16,
        "start_time": "2023-05-26T07:31:44.646Z"
      },
      {
        "duration": 25,
        "start_time": "2023-05-26T07:31:44.664Z"
      },
      {
        "duration": 6,
        "start_time": "2023-05-26T07:31:44.691Z"
      },
      {
        "duration": 13,
        "start_time": "2023-05-26T07:31:44.698Z"
      },
      {
        "duration": 11,
        "start_time": "2023-05-26T07:31:44.712Z"
      },
      {
        "duration": 36,
        "start_time": "2023-05-26T07:31:44.725Z"
      },
      {
        "duration": 3,
        "start_time": "2023-05-26T07:31:44.764Z"
      },
      {
        "duration": 13,
        "start_time": "2023-05-26T07:31:44.769Z"
      },
      {
        "duration": 85,
        "start_time": "2023-05-26T07:31:44.784Z"
      },
      {
        "duration": 100,
        "start_time": "2023-05-26T07:31:44.871Z"
      },
      {
        "duration": 9,
        "start_time": "2023-05-26T07:31:44.973Z"
      },
      {
        "duration": 10,
        "start_time": "2023-05-26T07:31:44.983Z"
      },
      {
        "duration": 57,
        "start_time": "2023-05-26T07:31:44.995Z"
      },
      {
        "duration": 29,
        "start_time": "2023-05-26T07:31:45.053Z"
      },
      {
        "duration": 1596,
        "start_time": "2023-05-26T16:51:36.010Z"
      },
      {
        "duration": 28,
        "start_time": "2023-05-26T16:51:37.608Z"
      },
      {
        "duration": 12,
        "start_time": "2023-05-26T16:51:37.638Z"
      },
      {
        "duration": 11,
        "start_time": "2023-05-26T16:51:37.651Z"
      },
      {
        "duration": 30,
        "start_time": "2023-05-26T16:51:37.664Z"
      },
      {
        "duration": 5,
        "start_time": "2023-05-26T16:51:37.696Z"
      },
      {
        "duration": 22,
        "start_time": "2023-05-26T16:51:37.702Z"
      },
      {
        "duration": 13,
        "start_time": "2023-05-26T16:51:37.726Z"
      },
      {
        "duration": 9,
        "start_time": "2023-05-26T16:51:37.740Z"
      },
      {
        "duration": 2,
        "start_time": "2023-05-26T16:51:37.751Z"
      },
      {
        "duration": 36,
        "start_time": "2023-05-26T16:51:37.754Z"
      },
      {
        "duration": 100,
        "start_time": "2023-05-26T16:51:37.792Z"
      },
      {
        "duration": 15,
        "start_time": "2023-05-26T16:51:37.894Z"
      },
      {
        "duration": 9,
        "start_time": "2023-05-26T16:51:37.912Z"
      },
      {
        "duration": 12,
        "start_time": "2023-05-26T16:51:37.923Z"
      },
      {
        "duration": 53,
        "start_time": "2023-05-26T16:51:37.937Z"
      },
      {
        "duration": 9,
        "start_time": "2023-05-26T16:51:37.992Z"
      }
    ],
    "kernelspec": {
      "display_name": "Python 3 (ipykernel)",
      "language": "python",
      "name": "python3"
    },
    "language_info": {
      "codemirror_mode": {
        "name": "ipython",
        "version": 3
      },
      "file_extension": ".py",
      "mimetype": "text/x-python",
      "name": "python",
      "nbconvert_exporter": "python",
      "pygments_lexer": "ipython3",
      "version": "3.9.5"
    },
    "toc": {
      "base_numbering": 1,
      "nav_menu": {},
      "number_sections": true,
      "sideBar": true,
      "skip_h1_title": true,
      "title_cell": "Содержание",
      "title_sidebar": "Contents",
      "toc_cell": true,
      "toc_position": {
        "height": "calc(100% - 180px)",
        "left": "10px",
        "top": "150px",
        "width": "406px"
      },
      "toc_section_display": true,
      "toc_window_display": false
    },
    "colab": {
      "provenance": []
    }
  },
  "nbformat": 4,
  "nbformat_minor": 0
}