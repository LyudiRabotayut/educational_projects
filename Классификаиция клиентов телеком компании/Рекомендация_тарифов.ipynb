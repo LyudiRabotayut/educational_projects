{
  "cells": [
    {
      "cell_type": "markdown",
      "metadata": {
        "id": "xByvr-r4t_oi"
      },
      "source": [
        "# Рекомендация тарифов"
      ]
    },
    {
      "cell_type": "markdown",
      "source": [
        "Задача:\n",
        "На основе данных клиентов оператора сотовой связи проанализировать поведение клиентов и поиск оптимального тарифа"
      ],
      "metadata": {
        "id": "GExi-0qH1ZSI"
      }
    },
    {
      "cell_type": "markdown",
      "metadata": {
        "id": "ZnBw_gOUt_oj"
      },
      "source": [
        "<b>План проекта</b>:\n",
        " 1. Открыть файл с данными и изучить его.\n",
        " 2. Разделить исходные данные на обучающую, валидационную и тестовую выборки.\n",
        " 3. Исследовать качество разных моделей, меняя гиперпараметры.\n",
        " 4. Проверить качество модели на тестовой выборке.\n",
        " 5. Проверить модели на вменяемость."
      ]
    },
    {
      "cell_type": "markdown",
      "metadata": {
        "id": "JYRuNUs0t_ok"
      },
      "source": [
        "## Откроем и изучим файл"
      ]
    },
    {
      "cell_type": "code",
      "execution_count": null,
      "metadata": {
        "id": "BWaEM5edt_ok"
      },
      "outputs": [],
      "source": [
        "#Импортируем необходимые библиотеки\n",
        "import pandas as pd\n",
        "from sklearn.model_selection import train_test_split\n",
        "from sklearn.tree import DecisionTreeClassifier\n",
        "from sklearn.metrics import accuracy_score\n",
        "from sklearn.ensemble import RandomForestClassifier\n",
        "from sklearn.linear_model import LogisticRegression\n",
        "from joblib import dump\n",
        "import random"
      ]
    },
    {
      "cell_type": "code",
      "execution_count": null,
      "metadata": {
        "id": "9F6Ms5BBt_ol"
      },
      "outputs": [],
      "source": [
        "#Открываем данные\n",
        "try:\n",
        "    df = pd.read_csv('/datasets/users_behavior.csv')\n",
        "except:\n",
        "    df = pd.read_csv('C:/Users/Student/Desktop/users_behavior.csv')"
      ]
    },
    {
      "cell_type": "code",
      "execution_count": null,
      "metadata": {
        "scrolled": true,
        "id": "ETH3jj7Gt_om",
        "outputId": "eadf3c5d-386d-4162-c134-ef47f451042e"
      },
      "outputs": [
        {
          "name": "stdout",
          "output_type": "stream",
          "text": [
            "<class 'pandas.core.frame.DataFrame'>\n",
            "RangeIndex: 3214 entries, 0 to 3213\n",
            "Data columns (total 5 columns):\n",
            " #   Column    Non-Null Count  Dtype  \n",
            "---  ------    --------------  -----  \n",
            " 0   calls     3214 non-null   float64\n",
            " 1   minutes   3214 non-null   float64\n",
            " 2   messages  3214 non-null   float64\n",
            " 3   mb_used   3214 non-null   float64\n",
            " 4   is_ultra  3214 non-null   int64  \n",
            "dtypes: float64(4), int64(1)\n",
            "memory usage: 125.7 KB\n"
          ]
        }
      ],
      "source": [
        "df.info()"
      ]
    },
    {
      "cell_type": "code",
      "execution_count": null,
      "metadata": {
        "scrolled": true,
        "id": "4tWIvN4at_on",
        "outputId": "4480010a-f6be-4caf-8133-ec8b2eac56ba"
      },
      "outputs": [
        {
          "data": {
            "text/html": [
              "<div>\n",
              "<style scoped>\n",
              "    .dataframe tbody tr th:only-of-type {\n",
              "        vertical-align: middle;\n",
              "    }\n",
              "\n",
              "    .dataframe tbody tr th {\n",
              "        vertical-align: top;\n",
              "    }\n",
              "\n",
              "    .dataframe thead th {\n",
              "        text-align: right;\n",
              "    }\n",
              "</style>\n",
              "<table border=\"1\" class=\"dataframe\">\n",
              "  <thead>\n",
              "    <tr style=\"text-align: right;\">\n",
              "      <th></th>\n",
              "      <th>calls</th>\n",
              "      <th>minutes</th>\n",
              "      <th>messages</th>\n",
              "      <th>mb_used</th>\n",
              "      <th>is_ultra</th>\n",
              "    </tr>\n",
              "  </thead>\n",
              "  <tbody>\n",
              "    <tr>\n",
              "      <th>0</th>\n",
              "      <td>40.0</td>\n",
              "      <td>311.90</td>\n",
              "      <td>83.0</td>\n",
              "      <td>19915.42</td>\n",
              "      <td>0</td>\n",
              "    </tr>\n",
              "    <tr>\n",
              "      <th>1</th>\n",
              "      <td>85.0</td>\n",
              "      <td>516.75</td>\n",
              "      <td>56.0</td>\n",
              "      <td>22696.96</td>\n",
              "      <td>0</td>\n",
              "    </tr>\n",
              "    <tr>\n",
              "      <th>2</th>\n",
              "      <td>77.0</td>\n",
              "      <td>467.66</td>\n",
              "      <td>86.0</td>\n",
              "      <td>21060.45</td>\n",
              "      <td>0</td>\n",
              "    </tr>\n",
              "    <tr>\n",
              "      <th>3</th>\n",
              "      <td>106.0</td>\n",
              "      <td>745.53</td>\n",
              "      <td>81.0</td>\n",
              "      <td>8437.39</td>\n",
              "      <td>1</td>\n",
              "    </tr>\n",
              "    <tr>\n",
              "      <th>4</th>\n",
              "      <td>66.0</td>\n",
              "      <td>418.74</td>\n",
              "      <td>1.0</td>\n",
              "      <td>14502.75</td>\n",
              "      <td>0</td>\n",
              "    </tr>\n",
              "  </tbody>\n",
              "</table>\n",
              "</div>"
            ],
            "text/plain": [
              "   calls  minutes  messages   mb_used  is_ultra\n",
              "0   40.0   311.90      83.0  19915.42         0\n",
              "1   85.0   516.75      56.0  22696.96         0\n",
              "2   77.0   467.66      86.0  21060.45         0\n",
              "3  106.0   745.53      81.0   8437.39         1\n",
              "4   66.0   418.74       1.0  14502.75         0"
            ]
          },
          "execution_count": 4,
          "metadata": {},
          "output_type": "execute_result"
        }
      ],
      "source": [
        "df.head()"
      ]
    },
    {
      "cell_type": "markdown",
      "metadata": {
        "id": "8AtT6vcbt_on"
      },
      "source": [
        "<b>Подвывод</b>: Мы загрузили необходимые библиотеки, открыли файл и изучили его. В нашем распоряжении 3214 пользователя и 5 характеристик, которые их описывают. У нас нет пропусков, все типы данных в порядке, названия колонок написаны корректно."
      ]
    },
    {
      "cell_type": "markdown",
      "metadata": {
        "id": "7hp_gpiEt_oo"
      },
      "source": [
        "## Разобьём данные на выборки"
      ]
    },
    {
      "cell_type": "code",
      "execution_count": null,
      "metadata": {
        "id": "3Yfv-0Y1t_oo"
      },
      "outputs": [],
      "source": [
        "#Делим данные на тренировочные и совместные валидационных и тестовых\n",
        "df_train, df_valid_and_test = train_test_split(df, test_size=0.4, random_state=12345)"
      ]
    },
    {
      "cell_type": "code",
      "execution_count": null,
      "metadata": {
        "scrolled": false,
        "id": "mZluwrm5t_oo"
      },
      "outputs": [],
      "source": [
        "#Делим совместные данные валидационных и тестовых пополам\n",
        "df_valid, df_test = train_test_split(df_valid_and_test, test_size=0.5, random_state=12345)"
      ]
    },
    {
      "cell_type": "code",
      "execution_count": null,
      "metadata": {
        "id": "ZWjXjOoEt_oo",
        "outputId": "7f191602-8745-428d-9da8-e6d3f8177171"
      },
      "outputs": [
        {
          "name": "stdout",
          "output_type": "stream",
          "text": [
            "Кол-во объектов 1928\n"
          ]
        }
      ],
      "source": [
        "#Делим признаки на целевой и те, по которым будем предсказывать\n",
        "features_train = df_train.drop('is_ultra', axis=1)\n",
        "target_train = df_train['is_ultra']\n",
        "print('Кол-во объектов', features_train.shape[0])"
      ]
    },
    {
      "cell_type": "code",
      "execution_count": null,
      "metadata": {
        "id": "T7gsmsYEt_oo",
        "outputId": "07e74446-ba78-4429-dd58-4c72b8e67e05"
      },
      "outputs": [
        {
          "name": "stdout",
          "output_type": "stream",
          "text": [
            "Кол-во объектов 643\n"
          ]
        }
      ],
      "source": [
        "features_valid = df_valid.drop('is_ultra', axis=1)\n",
        "target_valid = df_valid['is_ultra']\n",
        "print('Кол-во объектов', features_valid.shape[0])"
      ]
    },
    {
      "cell_type": "code",
      "execution_count": null,
      "metadata": {
        "id": "qZ1kdUVHt_op",
        "outputId": "bd79aba4-b527-42fc-e1af-db4bc5f0f68f"
      },
      "outputs": [
        {
          "name": "stdout",
          "output_type": "stream",
          "text": [
            "Кол-во объектов 643\n"
          ]
        }
      ],
      "source": [
        "features_test = df_test.drop('is_ultra', axis=1)\n",
        "target_test = df_test['is_ultra']\n",
        "print('Кол-во объектов', features_test.shape[0])"
      ]
    },
    {
      "cell_type": "markdown",
      "metadata": {
        "id": "tE0Ma4iVt_op"
      },
      "source": [
        "<b>Подвывод:</b> теперь у нас 3 выборки: обучающая с 60% всех данных, валидационная с 20% и тестовая с 20%."
      ]
    },
    {
      "cell_type": "markdown",
      "metadata": {
        "id": "bP-JWWCbt_oq"
      },
      "source": [
        "## Исследуем модели"
      ]
    },
    {
      "cell_type": "markdown",
      "metadata": {
        "id": "6KnvdZ0ot_oq"
      },
      "source": [
        "### Модель решающего дерева"
      ]
    },
    {
      "cell_type": "code",
      "execution_count": null,
      "metadata": {
        "id": "NDT3xPact_oq",
        "outputId": "f4ed5421-654c-4e37-c3a6-f26aa5e9e7ef"
      },
      "outputs": [
        {
          "name": "stdout",
          "output_type": "stream",
          "text": [
            "Accuracy лучшей модели: 0.8009331259720062 глубина: 5\n"
          ]
        }
      ],
      "source": [
        "best_model = None\n",
        "best_result = 0\n",
        "\n",
        "for depth in range(1, 6):\n",
        "    model_des_tree = DecisionTreeClassifier(random_state=12345, max_depth=depth) # обучаем модель с заданной глубиной дерева\n",
        "    model_des_tree.fit(features_train, target_train) # обучаем модель\n",
        "    predictions_des_tree = model_des_tree.predict(features_valid) # получам предсказания модели\n",
        "    result_des_tree = accuracy_score(target_valid, predictions_des_tree) # считаем качество модели\n",
        "    if result_des_tree > best_result:\n",
        "        best_model = model_des_tree\n",
        "        best_result = result_des_tree\n",
        "\n",
        "print(\"Accuracy лучшей модели:\", best_result, 'глубина:', depth)"
      ]
    },
    {
      "cell_type": "markdown",
      "metadata": {
        "id": "e4ocZ_QVt_oq"
      },
      "source": [
        "### Модель случайного леса"
      ]
    },
    {
      "cell_type": "code",
      "execution_count": null,
      "metadata": {
        "id": "oMZUqlAVt_or",
        "outputId": "bc0de516-cf23-4d5f-a16f-d4ba074f45d5"
      },
      "outputs": [
        {
          "name": "stdout",
          "output_type": "stream",
          "text": [
            "Accuracy наилучшей модели на валидационной выборке: 0.8118195956454122 Кол-во деревьев: 50 Глубина: 5\n"
          ]
        }
      ],
      "source": [
        "best_model = None\n",
        "best_result = 0\n",
        "\n",
        "for est in range(1, 51):\n",
        "    for depth in range(1, 6):\n",
        "        model_rand_for = RandomForestClassifier(random_state=12345, n_estimators=est, max_depth=depth) # обучаем модель с заданным количеством деревьев\n",
        "        model_rand_for.fit(features_train, target_train) # обучаем модель на тренировочной выборке\n",
        "        predictions_rand_for = model_rand_for.predict(features_valid) # получам предсказания модели\n",
        "        result_rand_for = accuracy_score(target_valid, predictions_rand_for) # считаем качество модели\n",
        "        if result_rand_for > best_result:\n",
        "            best_model = model_rand_for # сохраним наилучшую модель\n",
        "            best_result = result_rand_for #  сохраним наилучшее значение метрики accuracy на валидационных данных\n",
        "\n",
        "print(\"Accuracy наилучшей модели на валидационной выборке:\", best_result, 'Кол-во деревьев:', est, 'Глубина:', depth)"
      ]
    },
    {
      "cell_type": "markdown",
      "metadata": {
        "id": "d3okebpst_or"
      },
      "source": [
        "### Модель логистической регрессии"
      ]
    },
    {
      "cell_type": "code",
      "execution_count": null,
      "metadata": {
        "id": "vf1b05Pst_o1",
        "outputId": "375bc659-cb40-4356-ca1b-6394dff18ca3"
      },
      "outputs": [
        {
          "name": "stdout",
          "output_type": "stream",
          "text": [
            "Accuracy на валидационной выборке: 0.7558320373250389\n"
          ]
        }
      ],
      "source": [
        "model_log_regr = LogisticRegression(random_state=12345, solver='lbfgs', max_iter=1000)\n",
        "model_log_regr.fit(features_train, target_train)\n",
        "model_log_regr.predict(features_valid)\n",
        "score = model_log_regr.score(features_valid, target_valid)\n",
        "dump(model_log_regr, 'model_9_1.joblib')\n",
        "print(\"Accuracy на валидационной выборке:\", score)"
      ]
    },
    {
      "cell_type": "markdown",
      "metadata": {
        "id": "crAjb0oIt_o1"
      },
      "source": [
        "<b>Подвывод:</b> Наилучшие результаты показали две модели со случайными деревьями, 0.8 и 0.81, модель логистической регресиии показала менее точный результат 0.75. Но чтобы быть уверенными, что модель случайных деревьев нам точно подойдёт, мы должны проверить её на тестовой выборке."
      ]
    },
    {
      "cell_type": "markdown",
      "metadata": {
        "id": "Dy9BEs2et_o1"
      },
      "source": [
        "## Проверим модель на тестовой выборке"
      ]
    },
    {
      "cell_type": "markdown",
      "metadata": {
        "id": "LIVb5Vo2t_o1"
      },
      "source": [
        "### Решающее дерево"
      ]
    },
    {
      "cell_type": "code",
      "execution_count": null,
      "metadata": {
        "id": "PgZk6yudt_o1",
        "outputId": "6eb1d52d-da2e-4a83-dd3b-d7b28fbbe12b"
      },
      "outputs": [
        {
          "name": "stdout",
          "output_type": "stream",
          "text": [
            "Accuracy на тестовой выборке: 0.80248833592535\n"
          ]
        }
      ],
      "source": [
        "predictions_des_tree = model_des_tree.predict(features_test) # получам предсказания модели\n",
        "result_des_tree = accuracy_score(target_test, predictions_des_tree) # считаем качество модели\n",
        "print(\"Accuracy на тестовой выборке:\", result_des_tree)"
      ]
    },
    {
      "cell_type": "markdown",
      "metadata": {
        "id": "OQGFg0Aft_o2"
      },
      "source": [
        "### Случайный лес"
      ]
    },
    {
      "cell_type": "code",
      "execution_count": null,
      "metadata": {
        "id": "l2SuFsZ1t_o2",
        "outputId": "fa17ed67-cb0e-4859-9f4a-635d808b4b80"
      },
      "outputs": [
        {
          "name": "stdout",
          "output_type": "stream",
          "text": [
            "Accuracy на тестовой выборке: 0.8055987558320373\n"
          ]
        }
      ],
      "source": [
        "predictions_rand_for = model_rand_for.predict(features_test) # получам предсказания модели\n",
        "result_rand_for = accuracy_score(target_test, predictions_rand_for) # считаем качество модели\n",
        "print(\"Accuracy на тестовой выборке:\", result_rand_for)"
      ]
    },
    {
      "cell_type": "markdown",
      "metadata": {
        "id": "4d0c8vt7t_o2"
      },
      "source": [
        "### Логистическая регрессия"
      ]
    },
    {
      "cell_type": "code",
      "execution_count": null,
      "metadata": {
        "scrolled": true,
        "id": "ZMBgj7ZWt_o3",
        "outputId": "1543340b-2886-4549-8fcb-4dcbbaa2f040"
      },
      "outputs": [
        {
          "name": "stdout",
          "output_type": "stream",
          "text": [
            "Accuracy на тестовой выборке: 0.7620528771384136\n"
          ]
        }
      ],
      "source": [
        "model_log_regr.predict(features_test)\n",
        "score = model_log_regr.score(features_test, target_test)\n",
        "dump(model_log_regr, 'model_9_1.joblib')\n",
        "print(\"Accuracy на тестовой выборке:\", score)"
      ]
    },
    {
      "cell_type": "markdown",
      "metadata": {
        "id": "HjOsmH6at_o3"
      },
      "source": [
        "<b>Подвывод:</b> Нам удалось добиться точности предсказания выше 0.75 в двух моделях: модель случайного дерева (0.794), модель случайного леса (0.8)"
      ]
    },
    {
      "cell_type": "markdown",
      "metadata": {
        "id": "dy8_sfmOt_o3"
      },
      "source": [
        "## Проверим модели на адекватность"
      ]
    },
    {
      "cell_type": "code",
      "execution_count": null,
      "metadata": {
        "scrolled": true,
        "id": "lk03bmGrt_o3",
        "outputId": "b82cc658-8930-41f7-937b-05c52f41072e"
      },
      "outputs": [
        {
          "name": "stdout",
          "output_type": "stream",
          "text": [
            "[1, 1, 0, 0, 1, 1, 0, 1, 1, 1, 0, 0, 0, 0, 0, 0, 1, 1, 1, 1, 1, 1, 0, 0, 1, 1, 0, 1, 0, 0, 1, 1, 1, 1, 1, 1, 0, 0, 0, 1, 1, 0, 0, 1, 1, 0, 1, 1, 0, 1, 0, 1, 1, 0, 1, 0, 1, 1, 1, 1, 0, 0, 0, 1, 1, 0, 1, 1, 0, 1, 0, 0, 0, 1, 1, 1, 0, 0, 0, 0, 0, 0, 0, 0, 0, 1, 1, 1, 1, 1, 1, 1, 1, 0, 1, 1, 0, 0, 1, 1, 0, 0, 0, 1, 1, 0, 1, 1, 1, 1, 0, 0, 1, 0, 1, 0, 0, 1, 1, 0, 0, 0, 0, 0, 1, 1, 0, 1, 1, 0, 1, 0, 1, 1, 0, 0, 1, 0, 0, 1, 1, 1, 0, 0, 0, 0, 0, 0, 0, 0, 1, 0, 0, 1, 1, 1, 1, 0, 1, 0, 1, 0, 0, 1, 1, 1, 1, 1, 1, 1, 1, 1, 0, 1, 1, 1, 1, 0, 0, 0, 0, 0, 0, 0, 0, 1, 1, 0, 1, 1, 1, 0, 1, 1, 1, 0, 0, 0, 1, 0, 0, 0, 1, 1, 1, 0, 1, 0, 1, 0, 0, 1, 0, 0, 0, 1, 1, 1, 1, 0, 1, 0, 0, 1, 1, 0, 0, 0, 0, 0, 0, 0, 0, 0, 0, 1, 0, 0, 0, 0, 1, 0, 0, 0, 0, 0, 0, 0, 0, 0, 1, 1, 1, 1, 0, 1, 1, 0, 0, 1, 1, 0, 0, 1, 0, 1, 0, 1, 1, 1, 1, 1, 0, 1, 0, 0, 0, 0, 1, 1, 0, 0, 0, 1, 1, 1, 1, 0, 0, 0, 1, 0, 1, 1, 0, 1, 0, 1, 1, 1, 0, 0, 0, 1, 0, 1, 0, 1, 0, 1, 1, 0, 0, 1, 1, 0, 1, 1, 1, 0, 1, 0, 0, 0, 1, 1, 0, 0, 1, 1, 1, 0, 0, 0, 1, 1, 1, 1, 0, 1, 0, 1, 0, 1, 1, 0, 1, 0, 0, 0, 0, 1, 0, 0, 1, 0, 0, 1, 1, 1, 0, 1, 1, 0, 1, 1, 1, 1, 0, 0, 0, 1, 0, 0, 1, 1, 1, 1, 1, 1, 0, 0, 0, 0, 1, 1, 1, 0, 0, 1, 1, 0, 1, 0, 0, 1, 0, 0, 0, 0, 1, 1, 1, 1, 1, 0, 0, 1, 0, 1, 1, 1, 0, 0, 1, 1, 0, 0, 0, 1, 1, 0, 0, 1, 1, 0, 0, 0, 0, 0, 0, 0, 1, 1, 1, 0, 0, 1, 0, 0, 0, 1, 0, 1, 1, 1, 1, 0, 1, 0, 1, 1, 1, 1, 0, 1, 1, 0, 0, 1, 1, 1, 0, 0, 0, 0, 1, 1, 1, 0, 0, 0, 1, 0, 0, 0, 1, 1, 0, 1, 0, 1, 1, 1, 1, 0, 0, 0, 1, 1, 0, 1, 0, 0, 1, 0, 0, 1, 1, 0, 0, 1, 1, 1, 1, 1, 1, 0, 1, 1, 1, 1, 0, 1, 0, 1, 1, 0, 0, 1, 1, 0, 0, 1, 0, 1, 0, 0, 1, 0, 1, 1, 0, 1, 1, 1, 1, 0, 1, 1, 1, 1, 0, 1, 1, 1, 1, 0, 0, 1, 1, 1, 1, 0, 1, 1, 0, 1, 1, 0, 0, 1, 1, 1, 0, 1, 1, 1, 0, 1, 1, 1, 1, 1, 0, 0, 1, 1, 0, 0, 0, 1, 1, 1, 1, 0, 1, 0, 0, 1, 1, 1, 0, 1, 0, 1, 1, 0, 0, 0, 0, 1, 0, 1, 1, 1, 0, 1, 1, 1, 0, 0, 1, 1, 1, 0, 0, 1, 1, 1, 0, 0, 0, 1, 1, 0, 1, 0, 0, 0, 0, 1, 1, 1, 0, 1, 0, 0, 0, 1, 1, 0, 1]\n"
          ]
        }
      ],
      "source": [
        "rand_list=[]\n",
        "n=features_valid.shape[0]\n",
        "for i in range(n):\n",
        "    rand_list.append(random.randint(0,1))\n",
        "print(rand_list)"
      ]
    },
    {
      "cell_type": "code",
      "execution_count": null,
      "metadata": {
        "id": "IZNf12nFt_o3",
        "outputId": "220b8264-9f9b-4d0c-a9d3-7b6199a713c5"
      },
      "outputs": [
        {
          "name": "stdout",
          "output_type": "stream",
          "text": [
            "Точность предсказаний при случайной выборке: 0.4774494556765163\n"
          ]
        }
      ],
      "source": [
        "print('Точность предсказаний при случайной выборке:', accuracy_score(target_valid, rand_list))"
      ]
    },
    {
      "cell_type": "markdown",
      "metadata": {
        "id": "qI3_s4Cot_o4"
      },
      "source": [
        "<b>Подвывод:</b> Точность всех моделей выше, чем если бы мы использовали для предсказания случайные числа, значит все смодели прошли тест на вменяемость."
      ]
    },
    {
      "cell_type": "markdown",
      "metadata": {
        "id": "-mS4dYaSt_o4"
      },
      "source": [
        "## Вывод"
      ]
    },
    {
      "cell_type": "markdown",
      "metadata": {
        "id": "MyANxvxxt_o4"
      },
      "source": [
        "Мы загрузили необходимые библиотеки, открыли файл и изучили его, разделили все данные на 3 выборки и построили 3 модели с вариацией гиперпараметров, чтобы найти наиболее точную версию модели. Мы посчитали точность всех моделей, провели итоговую проверку на тестовой выборке и выяснили, что лучшие результаты показали модели со случайными деревьями (модель случайного дерева (0.794), модель случайного леса (0.8)). Также мы провели тест на вменяемость модели, его прошли все модели."
      ]
    }
  ],
  "metadata": {
    "ExecuteTimeLog": [
      {
        "duration": 431,
        "start_time": "2023-03-29T11:28:12.155Z"
      },
      {
        "duration": 411,
        "start_time": "2023-03-29T11:33:10.910Z"
      },
      {
        "duration": 127,
        "start_time": "2023-03-29T11:33:11.364Z"
      },
      {
        "duration": 13,
        "start_time": "2023-03-29T11:33:12.060Z"
      },
      {
        "duration": 17,
        "start_time": "2023-03-29T11:33:28.380Z"
      },
      {
        "duration": 81,
        "start_time": "2023-03-29T11:44:25.922Z"
      },
      {
        "duration": 769,
        "start_time": "2023-03-29T11:44:29.251Z"
      },
      {
        "duration": 7,
        "start_time": "2023-03-29T11:44:30.980Z"
      },
      {
        "duration": 18,
        "start_time": "2023-03-29T11:44:36.386Z"
      },
      {
        "duration": 42,
        "start_time": "2023-03-29T11:44:43.753Z"
      },
      {
        "duration": 5,
        "start_time": "2023-03-29T11:44:47.563Z"
      },
      {
        "duration": 5,
        "start_time": "2023-03-29T11:44:58.155Z"
      },
      {
        "duration": 6,
        "start_time": "2023-03-29T11:45:56.995Z"
      },
      {
        "duration": 4,
        "start_time": "2023-03-29T11:46:00.636Z"
      },
      {
        "duration": 4,
        "start_time": "2023-03-29T12:02:59.444Z"
      },
      {
        "duration": 4,
        "start_time": "2023-03-29T12:03:13.150Z"
      },
      {
        "duration": 4,
        "start_time": "2023-03-29T12:05:11.416Z"
      },
      {
        "duration": 4,
        "start_time": "2023-03-29T12:05:11.631Z"
      },
      {
        "duration": 14,
        "start_time": "2023-03-29T12:05:56.040Z"
      },
      {
        "duration": 39,
        "start_time": "2023-03-29T12:06:02.669Z"
      },
      {
        "duration": 21,
        "start_time": "2023-03-29T12:06:04.512Z"
      },
      {
        "duration": 17,
        "start_time": "2023-03-29T12:06:18.282Z"
      },
      {
        "duration": 3,
        "start_time": "2023-03-29T12:06:22.384Z"
      },
      {
        "duration": 35,
        "start_time": "2023-03-29T12:06:24.441Z"
      },
      {
        "duration": 34,
        "start_time": "2023-03-29T12:06:51.713Z"
      },
      {
        "duration": 12,
        "start_time": "2023-03-29T12:08:26.289Z"
      },
      {
        "duration": 13471,
        "start_time": "2023-03-29T12:11:00.923Z"
      },
      {
        "duration": 3,
        "start_time": "2023-03-29T12:15:31.934Z"
      },
      {
        "duration": 13,
        "start_time": "2023-03-29T12:15:34.534Z"
      },
      {
        "duration": 126,
        "start_time": "2023-03-29T12:15:58.342Z"
      },
      {
        "duration": 110,
        "start_time": "2023-03-29T12:21:57.424Z"
      },
      {
        "duration": 13391,
        "start_time": "2023-03-29T12:22:20.219Z"
      },
      {
        "duration": 83,
        "start_time": "2023-03-29T12:24:05.969Z"
      },
      {
        "duration": 51,
        "start_time": "2023-03-29T12:26:07.403Z"
      },
      {
        "duration": 13708,
        "start_time": "2023-03-29T12:27:14.909Z"
      },
      {
        "duration": 62,
        "start_time": "2023-03-29T12:29:05.573Z"
      },
      {
        "duration": 45,
        "start_time": "2023-03-29T12:29:40.654Z"
      },
      {
        "duration": 44,
        "start_time": "2023-03-29T12:30:50.238Z"
      },
      {
        "duration": 19,
        "start_time": "2023-03-29T12:31:36.154Z"
      },
      {
        "duration": 39,
        "start_time": "2023-03-29T12:32:33.264Z"
      },
      {
        "duration": 13532,
        "start_time": "2023-03-29T12:32:36.673Z"
      },
      {
        "duration": 64,
        "start_time": "2023-03-29T12:32:50.208Z"
      },
      {
        "duration": 48,
        "start_time": "2023-03-29T12:32:54.487Z"
      },
      {
        "duration": 51,
        "start_time": "2023-03-29T12:32:59.631Z"
      },
      {
        "duration": 5,
        "start_time": "2023-03-29T12:33:30.174Z"
      },
      {
        "duration": 116,
        "start_time": "2023-03-29T12:34:04.727Z"
      },
      {
        "duration": 23,
        "start_time": "2023-03-29T12:42:56.220Z"
      },
      {
        "duration": 79,
        "start_time": "2023-03-29T12:42:58.045Z"
      },
      {
        "duration": 52,
        "start_time": "2023-03-29T12:43:34.893Z"
      },
      {
        "duration": 49,
        "start_time": "2023-03-29T12:43:50.374Z"
      },
      {
        "duration": 45,
        "start_time": "2023-03-29T12:44:56.230Z"
      },
      {
        "duration": 101,
        "start_time": "2023-03-29T12:45:01.525Z"
      },
      {
        "duration": 74,
        "start_time": "2023-03-29T12:45:46.151Z"
      },
      {
        "duration": 14279,
        "start_time": "2023-03-29T12:46:57.985Z"
      },
      {
        "duration": 17,
        "start_time": "2023-03-29T12:48:00.231Z"
      },
      {
        "duration": 47,
        "start_time": "2023-03-29T12:48:20.015Z"
      },
      {
        "duration": 7,
        "start_time": "2023-03-29T12:48:45.726Z"
      },
      {
        "duration": 8,
        "start_time": "2023-03-29T12:48:56.160Z"
      },
      {
        "duration": 4,
        "start_time": "2023-03-29T13:35:01.226Z"
      },
      {
        "duration": 9,
        "start_time": "2023-03-29T13:35:39.323Z"
      },
      {
        "duration": 4,
        "start_time": "2023-03-29T13:37:08.224Z"
      },
      {
        "duration": 5,
        "start_time": "2023-03-29T13:37:11.357Z"
      },
      {
        "duration": 5,
        "start_time": "2023-03-29T13:37:13.876Z"
      },
      {
        "duration": 5,
        "start_time": "2023-03-29T13:37:21.061Z"
      },
      {
        "duration": 6,
        "start_time": "2023-03-29T13:37:24.181Z"
      },
      {
        "duration": 5,
        "start_time": "2023-03-29T13:37:25.645Z"
      },
      {
        "duration": 6,
        "start_time": "2023-03-29T13:37:26.215Z"
      },
      {
        "duration": 6,
        "start_time": "2023-03-29T13:37:26.645Z"
      },
      {
        "duration": 6,
        "start_time": "2023-03-29T13:37:27.086Z"
      },
      {
        "duration": 5,
        "start_time": "2023-03-29T13:37:27.500Z"
      },
      {
        "duration": 5,
        "start_time": "2023-03-29T13:37:27.950Z"
      },
      {
        "duration": 6,
        "start_time": "2023-03-29T13:37:28.917Z"
      },
      {
        "duration": 6,
        "start_time": "2023-03-29T13:37:29.453Z"
      },
      {
        "duration": 5,
        "start_time": "2023-03-29T13:37:30.501Z"
      },
      {
        "duration": 4,
        "start_time": "2023-03-29T13:37:30.989Z"
      },
      {
        "duration": 5,
        "start_time": "2023-03-29T13:37:31.524Z"
      },
      {
        "duration": 56,
        "start_time": "2023-03-29T13:37:33.445Z"
      },
      {
        "duration": 4,
        "start_time": "2023-03-29T13:37:35.429Z"
      },
      {
        "duration": 4,
        "start_time": "2023-03-29T13:38:52.198Z"
      },
      {
        "duration": 7,
        "start_time": "2023-03-29T13:38:57.214Z"
      },
      {
        "duration": 5,
        "start_time": "2023-03-29T13:39:09.214Z"
      },
      {
        "duration": 3,
        "start_time": "2023-03-29T13:43:37.601Z"
      },
      {
        "duration": 4,
        "start_time": "2023-03-29T13:43:41.992Z"
      },
      {
        "duration": 12,
        "start_time": "2023-03-29T13:44:21.110Z"
      },
      {
        "duration": 10,
        "start_time": "2023-03-29T13:44:25.584Z"
      },
      {
        "duration": 13,
        "start_time": "2023-03-29T13:44:40.091Z"
      },
      {
        "duration": 10,
        "start_time": "2023-03-29T13:55:56.161Z"
      },
      {
        "duration": 5,
        "start_time": "2023-03-29T13:56:10.752Z"
      },
      {
        "duration": 12,
        "start_time": "2023-03-29T13:56:15.984Z"
      },
      {
        "duration": 10,
        "start_time": "2023-03-29T13:56:18.560Z"
      },
      {
        "duration": 5,
        "start_time": "2023-03-29T14:02:10.707Z"
      },
      {
        "duration": 9,
        "start_time": "2023-03-29T14:02:21.572Z"
      },
      {
        "duration": 10,
        "start_time": "2023-03-29T14:03:01.979Z"
      },
      {
        "duration": 4,
        "start_time": "2023-03-29T14:05:48.413Z"
      },
      {
        "duration": 9,
        "start_time": "2023-03-29T14:05:55.783Z"
      },
      {
        "duration": 9,
        "start_time": "2023-03-29T14:06:02.372Z"
      },
      {
        "duration": 5,
        "start_time": "2023-03-29T14:06:21.335Z"
      },
      {
        "duration": 5,
        "start_time": "2023-03-29T14:06:55.015Z"
      },
      {
        "duration": 6,
        "start_time": "2023-03-29T14:07:06.095Z"
      },
      {
        "duration": 4,
        "start_time": "2023-03-29T14:07:11.798Z"
      },
      {
        "duration": 5,
        "start_time": "2023-03-29T14:07:19.854Z"
      },
      {
        "duration": 5,
        "start_time": "2023-03-29T14:09:16.424Z"
      },
      {
        "duration": 5,
        "start_time": "2023-03-29T14:09:23.024Z"
      },
      {
        "duration": 6,
        "start_time": "2023-03-29T14:09:31.375Z"
      },
      {
        "duration": 4,
        "start_time": "2023-03-29T14:10:28.634Z"
      },
      {
        "duration": 3,
        "start_time": "2023-03-29T14:16:03.190Z"
      },
      {
        "duration": 101,
        "start_time": "2023-03-29T14:16:03.195Z"
      },
      {
        "duration": 11,
        "start_time": "2023-03-29T14:16:03.298Z"
      },
      {
        "duration": 18,
        "start_time": "2023-03-29T14:16:03.312Z"
      },
      {
        "duration": 10,
        "start_time": "2023-03-29T14:16:03.333Z"
      },
      {
        "duration": 24,
        "start_time": "2023-03-29T14:16:03.345Z"
      },
      {
        "duration": 8,
        "start_time": "2023-03-29T14:16:03.371Z"
      },
      {
        "duration": 11,
        "start_time": "2023-03-29T14:16:03.380Z"
      },
      {
        "duration": 36,
        "start_time": "2023-03-29T14:16:03.393Z"
      },
      {
        "duration": 43,
        "start_time": "2023-03-29T14:16:03.431Z"
      },
      {
        "duration": 14404,
        "start_time": "2023-03-29T14:16:03.476Z"
      },
      {
        "duration": 82,
        "start_time": "2023-03-29T14:16:17.882Z"
      },
      {
        "duration": 6,
        "start_time": "2023-03-29T14:16:17.967Z"
      },
      {
        "duration": 34,
        "start_time": "2023-03-29T14:16:17.975Z"
      },
      {
        "duration": 77,
        "start_time": "2023-03-29T14:16:18.010Z"
      },
      {
        "duration": 4,
        "start_time": "2023-03-29T14:16:18.088Z"
      },
      {
        "duration": 21,
        "start_time": "2023-03-29T14:16:18.094Z"
      },
      {
        "duration": 2125,
        "start_time": "2023-03-29T17:26:02.595Z"
      },
      {
        "duration": 162,
        "start_time": "2023-03-29T17:26:04.722Z"
      },
      {
        "duration": 14,
        "start_time": "2023-03-29T17:26:04.886Z"
      },
      {
        "duration": 58,
        "start_time": "2023-03-29T17:26:04.902Z"
      },
      {
        "duration": 10,
        "start_time": "2023-03-29T17:26:04.963Z"
      },
      {
        "duration": 15,
        "start_time": "2023-03-29T17:26:04.975Z"
      },
      {
        "duration": 15,
        "start_time": "2023-03-29T17:26:04.992Z"
      },
      {
        "duration": 21,
        "start_time": "2023-03-29T17:26:05.009Z"
      },
      {
        "duration": 36,
        "start_time": "2023-03-29T17:26:05.032Z"
      },
      {
        "duration": 43,
        "start_time": "2023-03-29T17:26:05.070Z"
      },
      {
        "duration": 14264,
        "start_time": "2023-03-29T17:26:05.114Z"
      },
      {
        "duration": 85,
        "start_time": "2023-03-29T17:26:19.380Z"
      },
      {
        "duration": 7,
        "start_time": "2023-03-29T17:26:19.468Z"
      },
      {
        "duration": 22,
        "start_time": "2023-03-29T17:26:19.478Z"
      },
      {
        "duration": 60,
        "start_time": "2023-03-29T17:26:19.502Z"
      },
      {
        "duration": 6,
        "start_time": "2023-03-29T17:26:19.565Z"
      },
      {
        "duration": 12,
        "start_time": "2023-03-29T17:26:19.572Z"
      },
      {
        "duration": 1124,
        "start_time": "2023-03-29T17:44:09.052Z"
      },
      {
        "duration": 132,
        "start_time": "2023-03-29T17:44:10.179Z"
      },
      {
        "duration": 13,
        "start_time": "2023-03-29T17:44:10.314Z"
      },
      {
        "duration": 23,
        "start_time": "2023-03-29T17:44:10.329Z"
      },
      {
        "duration": 5,
        "start_time": "2023-03-29T17:44:11.229Z"
      },
      {
        "duration": 6,
        "start_time": "2023-03-29T17:44:11.781Z"
      },
      {
        "duration": 5,
        "start_time": "2023-03-29T17:44:12.966Z"
      },
      {
        "duration": 9,
        "start_time": "2023-03-29T17:44:13.206Z"
      },
      {
        "duration": 5,
        "start_time": "2023-03-29T17:44:13.438Z"
      },
      {
        "duration": 6,
        "start_time": "2023-03-29T17:46:00.501Z"
      },
      {
        "duration": 6,
        "start_time": "2023-03-29T17:46:16.711Z"
      },
      {
        "duration": 4,
        "start_time": "2023-03-29T17:46:16.855Z"
      },
      {
        "duration": 51,
        "start_time": "2023-03-29T17:47:12.960Z"
      }
    ],
    "kernelspec": {
      "display_name": "Python 3 (ipykernel)",
      "language": "python",
      "name": "python3"
    },
    "language_info": {
      "codemirror_mode": {
        "name": "ipython",
        "version": 3
      },
      "file_extension": ".py",
      "mimetype": "text/x-python",
      "name": "python",
      "nbconvert_exporter": "python",
      "pygments_lexer": "ipython3",
      "version": "3.9.5"
    },
    "toc": {
      "base_numbering": 1,
      "nav_menu": {
        "height": "160px",
        "width": "405px"
      },
      "number_sections": true,
      "sideBar": true,
      "skip_h1_title": true,
      "title_cell": "Table of Contents",
      "title_sidebar": "Contents",
      "toc_cell": false,
      "toc_position": {
        "height": "calc(100% - 180px)",
        "left": "10px",
        "top": "150px",
        "width": "366.188px"
      },
      "toc_section_display": true,
      "toc_window_display": true
    },
    "colab": {
      "provenance": []
    }
  },
  "nbformat": 4,
  "nbformat_minor": 0
}