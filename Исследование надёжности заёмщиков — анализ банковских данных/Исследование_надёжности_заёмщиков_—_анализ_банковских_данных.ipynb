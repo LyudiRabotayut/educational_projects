{
  "cells": [
    {
      "cell_type": "markdown",
      "id": "658d4a06",
      "metadata": {
        "deletable": false,
        "editable": false,
        "id": "658d4a06"
      },
      "source": [
        "# Исследование надежности заемщиков\n"
      ]
    },
    {
      "cell_type": "markdown",
      "source": [
        "Задача:\n",
        "На основе данных из банка определить клиент, который может уйти"
      ],
      "metadata": {
        "id": "zmeT12Gs06pP"
      },
      "id": "zmeT12Gs06pP"
    },
    {
      "cell_type": "markdown",
      "id": "026c1d9c",
      "metadata": {
        "deletable": false,
        "editable": false,
        "id": "026c1d9c"
      },
      "source": [
        "## Откроем таблицу и изучим общую информацию о данных"
      ]
    },
    {
      "cell_type": "code",
      "execution_count": null,
      "id": "40f30dbd",
      "metadata": {
        "deletable": false,
        "id": "40f30dbd"
      },
      "outputs": [],
      "source": [
        "import pandas as pd\n",
        "\n",
        "try:\n",
        "    data = pd.read_csv('/datasets/data.csv')\n",
        "except:\n",
        "    data = pd.read_csv('https://code.s3.yandex.net/datasets/data.csv')"
      ]
    },
    {
      "cell_type": "code",
      "execution_count": null,
      "id": "0b9a376f",
      "metadata": {
        "deletable": false,
        "id": "0b9a376f",
        "outputId": "1a8f3ef2-d323-4ec2-ddf7-89670b5944c4"
      },
      "outputs": [
        {
          "data": {
            "text/html": [
              "<div>\n",
              "<style scoped>\n",
              "    .dataframe tbody tr th:only-of-type {\n",
              "        vertical-align: middle;\n",
              "    }\n",
              "\n",
              "    .dataframe tbody tr th {\n",
              "        vertical-align: top;\n",
              "    }\n",
              "\n",
              "    .dataframe thead th {\n",
              "        text-align: right;\n",
              "    }\n",
              "</style>\n",
              "<table border=\"1\" class=\"dataframe\">\n",
              "  <thead>\n",
              "    <tr style=\"text-align: right;\">\n",
              "      <th></th>\n",
              "      <th>children</th>\n",
              "      <th>days_employed</th>\n",
              "      <th>dob_years</th>\n",
              "      <th>education</th>\n",
              "      <th>education_id</th>\n",
              "      <th>family_status</th>\n",
              "      <th>family_status_id</th>\n",
              "      <th>gender</th>\n",
              "      <th>income_type</th>\n",
              "      <th>debt</th>\n",
              "      <th>total_income</th>\n",
              "      <th>purpose</th>\n",
              "    </tr>\n",
              "  </thead>\n",
              "  <tbody>\n",
              "    <tr>\n",
              "      <th>0</th>\n",
              "      <td>1</td>\n",
              "      <td>-8437.673028</td>\n",
              "      <td>42</td>\n",
              "      <td>высшее</td>\n",
              "      <td>0</td>\n",
              "      <td>женат / замужем</td>\n",
              "      <td>0</td>\n",
              "      <td>F</td>\n",
              "      <td>сотрудник</td>\n",
              "      <td>0</td>\n",
              "      <td>253875.639453</td>\n",
              "      <td>покупка жилья</td>\n",
              "    </tr>\n",
              "    <tr>\n",
              "      <th>1</th>\n",
              "      <td>1</td>\n",
              "      <td>-4024.803754</td>\n",
              "      <td>36</td>\n",
              "      <td>среднее</td>\n",
              "      <td>1</td>\n",
              "      <td>женат / замужем</td>\n",
              "      <td>0</td>\n",
              "      <td>F</td>\n",
              "      <td>сотрудник</td>\n",
              "      <td>0</td>\n",
              "      <td>112080.014102</td>\n",
              "      <td>приобретение автомобиля</td>\n",
              "    </tr>\n",
              "    <tr>\n",
              "      <th>2</th>\n",
              "      <td>0</td>\n",
              "      <td>-5623.422610</td>\n",
              "      <td>33</td>\n",
              "      <td>Среднее</td>\n",
              "      <td>1</td>\n",
              "      <td>женат / замужем</td>\n",
              "      <td>0</td>\n",
              "      <td>M</td>\n",
              "      <td>сотрудник</td>\n",
              "      <td>0</td>\n",
              "      <td>145885.952297</td>\n",
              "      <td>покупка жилья</td>\n",
              "    </tr>\n",
              "    <tr>\n",
              "      <th>3</th>\n",
              "      <td>3</td>\n",
              "      <td>-4124.747207</td>\n",
              "      <td>32</td>\n",
              "      <td>среднее</td>\n",
              "      <td>1</td>\n",
              "      <td>женат / замужем</td>\n",
              "      <td>0</td>\n",
              "      <td>M</td>\n",
              "      <td>сотрудник</td>\n",
              "      <td>0</td>\n",
              "      <td>267628.550329</td>\n",
              "      <td>дополнительное образование</td>\n",
              "    </tr>\n",
              "    <tr>\n",
              "      <th>4</th>\n",
              "      <td>0</td>\n",
              "      <td>340266.072047</td>\n",
              "      <td>53</td>\n",
              "      <td>среднее</td>\n",
              "      <td>1</td>\n",
              "      <td>гражданский брак</td>\n",
              "      <td>1</td>\n",
              "      <td>F</td>\n",
              "      <td>пенсионер</td>\n",
              "      <td>0</td>\n",
              "      <td>158616.077870</td>\n",
              "      <td>сыграть свадьбу</td>\n",
              "    </tr>\n",
              "    <tr>\n",
              "      <th>5</th>\n",
              "      <td>0</td>\n",
              "      <td>-926.185831</td>\n",
              "      <td>27</td>\n",
              "      <td>высшее</td>\n",
              "      <td>0</td>\n",
              "      <td>гражданский брак</td>\n",
              "      <td>1</td>\n",
              "      <td>M</td>\n",
              "      <td>компаньон</td>\n",
              "      <td>0</td>\n",
              "      <td>255763.565419</td>\n",
              "      <td>покупка жилья</td>\n",
              "    </tr>\n",
              "    <tr>\n",
              "      <th>6</th>\n",
              "      <td>0</td>\n",
              "      <td>-2879.202052</td>\n",
              "      <td>43</td>\n",
              "      <td>высшее</td>\n",
              "      <td>0</td>\n",
              "      <td>женат / замужем</td>\n",
              "      <td>0</td>\n",
              "      <td>F</td>\n",
              "      <td>компаньон</td>\n",
              "      <td>0</td>\n",
              "      <td>240525.971920</td>\n",
              "      <td>операции с жильем</td>\n",
              "    </tr>\n",
              "    <tr>\n",
              "      <th>7</th>\n",
              "      <td>0</td>\n",
              "      <td>-152.779569</td>\n",
              "      <td>50</td>\n",
              "      <td>СРЕДНЕЕ</td>\n",
              "      <td>1</td>\n",
              "      <td>женат / замужем</td>\n",
              "      <td>0</td>\n",
              "      <td>M</td>\n",
              "      <td>сотрудник</td>\n",
              "      <td>0</td>\n",
              "      <td>135823.934197</td>\n",
              "      <td>образование</td>\n",
              "    </tr>\n",
              "    <tr>\n",
              "      <th>8</th>\n",
              "      <td>2</td>\n",
              "      <td>-6929.865299</td>\n",
              "      <td>35</td>\n",
              "      <td>ВЫСШЕЕ</td>\n",
              "      <td>0</td>\n",
              "      <td>гражданский брак</td>\n",
              "      <td>1</td>\n",
              "      <td>F</td>\n",
              "      <td>сотрудник</td>\n",
              "      <td>0</td>\n",
              "      <td>95856.832424</td>\n",
              "      <td>на проведение свадьбы</td>\n",
              "    </tr>\n",
              "    <tr>\n",
              "      <th>9</th>\n",
              "      <td>0</td>\n",
              "      <td>-2188.756445</td>\n",
              "      <td>41</td>\n",
              "      <td>среднее</td>\n",
              "      <td>1</td>\n",
              "      <td>женат / замужем</td>\n",
              "      <td>0</td>\n",
              "      <td>M</td>\n",
              "      <td>сотрудник</td>\n",
              "      <td>0</td>\n",
              "      <td>144425.938277</td>\n",
              "      <td>покупка жилья для семьи</td>\n",
              "    </tr>\n",
              "    <tr>\n",
              "      <th>10</th>\n",
              "      <td>2</td>\n",
              "      <td>-4171.483647</td>\n",
              "      <td>36</td>\n",
              "      <td>высшее</td>\n",
              "      <td>0</td>\n",
              "      <td>женат / замужем</td>\n",
              "      <td>0</td>\n",
              "      <td>M</td>\n",
              "      <td>компаньон</td>\n",
              "      <td>0</td>\n",
              "      <td>113943.491460</td>\n",
              "      <td>покупка недвижимости</td>\n",
              "    </tr>\n",
              "    <tr>\n",
              "      <th>11</th>\n",
              "      <td>0</td>\n",
              "      <td>-792.701887</td>\n",
              "      <td>40</td>\n",
              "      <td>среднее</td>\n",
              "      <td>1</td>\n",
              "      <td>женат / замужем</td>\n",
              "      <td>0</td>\n",
              "      <td>F</td>\n",
              "      <td>сотрудник</td>\n",
              "      <td>0</td>\n",
              "      <td>77069.234271</td>\n",
              "      <td>покупка коммерческой недвижимости</td>\n",
              "    </tr>\n",
              "    <tr>\n",
              "      <th>12</th>\n",
              "      <td>0</td>\n",
              "      <td>NaN</td>\n",
              "      <td>65</td>\n",
              "      <td>среднее</td>\n",
              "      <td>1</td>\n",
              "      <td>гражданский брак</td>\n",
              "      <td>1</td>\n",
              "      <td>M</td>\n",
              "      <td>пенсионер</td>\n",
              "      <td>0</td>\n",
              "      <td>NaN</td>\n",
              "      <td>сыграть свадьбу</td>\n",
              "    </tr>\n",
              "    <tr>\n",
              "      <th>13</th>\n",
              "      <td>0</td>\n",
              "      <td>-1846.641941</td>\n",
              "      <td>54</td>\n",
              "      <td>неоконченное высшее</td>\n",
              "      <td>2</td>\n",
              "      <td>женат / замужем</td>\n",
              "      <td>0</td>\n",
              "      <td>F</td>\n",
              "      <td>сотрудник</td>\n",
              "      <td>0</td>\n",
              "      <td>130458.228857</td>\n",
              "      <td>приобретение автомобиля</td>\n",
              "    </tr>\n",
              "    <tr>\n",
              "      <th>14</th>\n",
              "      <td>0</td>\n",
              "      <td>-1844.956182</td>\n",
              "      <td>56</td>\n",
              "      <td>высшее</td>\n",
              "      <td>0</td>\n",
              "      <td>гражданский брак</td>\n",
              "      <td>1</td>\n",
              "      <td>F</td>\n",
              "      <td>компаньон</td>\n",
              "      <td>1</td>\n",
              "      <td>165127.911772</td>\n",
              "      <td>покупка жилой недвижимости</td>\n",
              "    </tr>\n",
              "    <tr>\n",
              "      <th>15</th>\n",
              "      <td>1</td>\n",
              "      <td>-972.364419</td>\n",
              "      <td>26</td>\n",
              "      <td>среднее</td>\n",
              "      <td>1</td>\n",
              "      <td>женат / замужем</td>\n",
              "      <td>0</td>\n",
              "      <td>F</td>\n",
              "      <td>сотрудник</td>\n",
              "      <td>0</td>\n",
              "      <td>116820.904450</td>\n",
              "      <td>строительство собственной недвижимости</td>\n",
              "    </tr>\n",
              "    <tr>\n",
              "      <th>16</th>\n",
              "      <td>0</td>\n",
              "      <td>-1719.934226</td>\n",
              "      <td>35</td>\n",
              "      <td>среднее</td>\n",
              "      <td>1</td>\n",
              "      <td>женат / замужем</td>\n",
              "      <td>0</td>\n",
              "      <td>F</td>\n",
              "      <td>сотрудник</td>\n",
              "      <td>0</td>\n",
              "      <td>289202.704229</td>\n",
              "      <td>недвижимость</td>\n",
              "    </tr>\n",
              "    <tr>\n",
              "      <th>17</th>\n",
              "      <td>0</td>\n",
              "      <td>-2369.999720</td>\n",
              "      <td>33</td>\n",
              "      <td>высшее</td>\n",
              "      <td>0</td>\n",
              "      <td>гражданский брак</td>\n",
              "      <td>1</td>\n",
              "      <td>M</td>\n",
              "      <td>сотрудник</td>\n",
              "      <td>0</td>\n",
              "      <td>90410.586745</td>\n",
              "      <td>строительство недвижимости</td>\n",
              "    </tr>\n",
              "    <tr>\n",
              "      <th>18</th>\n",
              "      <td>0</td>\n",
              "      <td>400281.136913</td>\n",
              "      <td>53</td>\n",
              "      <td>среднее</td>\n",
              "      <td>1</td>\n",
              "      <td>вдовец / вдова</td>\n",
              "      <td>2</td>\n",
              "      <td>F</td>\n",
              "      <td>пенсионер</td>\n",
              "      <td>0</td>\n",
              "      <td>56823.777243</td>\n",
              "      <td>на покупку подержанного автомобиля</td>\n",
              "    </tr>\n",
              "    <tr>\n",
              "      <th>19</th>\n",
              "      <td>0</td>\n",
              "      <td>-10038.818549</td>\n",
              "      <td>48</td>\n",
              "      <td>СРЕДНЕЕ</td>\n",
              "      <td>1</td>\n",
              "      <td>в разводе</td>\n",
              "      <td>3</td>\n",
              "      <td>F</td>\n",
              "      <td>сотрудник</td>\n",
              "      <td>0</td>\n",
              "      <td>242831.107982</td>\n",
              "      <td>на покупку своего автомобиля</td>\n",
              "    </tr>\n",
              "  </tbody>\n",
              "</table>\n",
              "</div>"
            ],
            "text/plain": [
              "    children  days_employed  dob_years            education  education_id  \\\n",
              "0          1   -8437.673028         42               высшее             0   \n",
              "1          1   -4024.803754         36              среднее             1   \n",
              "2          0   -5623.422610         33              Среднее             1   \n",
              "3          3   -4124.747207         32              среднее             1   \n",
              "4          0  340266.072047         53              среднее             1   \n",
              "5          0    -926.185831         27               высшее             0   \n",
              "6          0   -2879.202052         43               высшее             0   \n",
              "7          0    -152.779569         50              СРЕДНЕЕ             1   \n",
              "8          2   -6929.865299         35               ВЫСШЕЕ             0   \n",
              "9          0   -2188.756445         41              среднее             1   \n",
              "10         2   -4171.483647         36               высшее             0   \n",
              "11         0    -792.701887         40              среднее             1   \n",
              "12         0            NaN         65              среднее             1   \n",
              "13         0   -1846.641941         54  неоконченное высшее             2   \n",
              "14         0   -1844.956182         56               высшее             0   \n",
              "15         1    -972.364419         26              среднее             1   \n",
              "16         0   -1719.934226         35              среднее             1   \n",
              "17         0   -2369.999720         33               высшее             0   \n",
              "18         0  400281.136913         53              среднее             1   \n",
              "19         0  -10038.818549         48              СРЕДНЕЕ             1   \n",
              "\n",
              "       family_status  family_status_id gender income_type  debt  \\\n",
              "0    женат / замужем                 0      F   сотрудник     0   \n",
              "1    женат / замужем                 0      F   сотрудник     0   \n",
              "2    женат / замужем                 0      M   сотрудник     0   \n",
              "3    женат / замужем                 0      M   сотрудник     0   \n",
              "4   гражданский брак                 1      F   пенсионер     0   \n",
              "5   гражданский брак                 1      M   компаньон     0   \n",
              "6    женат / замужем                 0      F   компаньон     0   \n",
              "7    женат / замужем                 0      M   сотрудник     0   \n",
              "8   гражданский брак                 1      F   сотрудник     0   \n",
              "9    женат / замужем                 0      M   сотрудник     0   \n",
              "10   женат / замужем                 0      M   компаньон     0   \n",
              "11   женат / замужем                 0      F   сотрудник     0   \n",
              "12  гражданский брак                 1      M   пенсионер     0   \n",
              "13   женат / замужем                 0      F   сотрудник     0   \n",
              "14  гражданский брак                 1      F   компаньон     1   \n",
              "15   женат / замужем                 0      F   сотрудник     0   \n",
              "16   женат / замужем                 0      F   сотрудник     0   \n",
              "17  гражданский брак                 1      M   сотрудник     0   \n",
              "18    вдовец / вдова                 2      F   пенсионер     0   \n",
              "19         в разводе                 3      F   сотрудник     0   \n",
              "\n",
              "     total_income                                 purpose  \n",
              "0   253875.639453                           покупка жилья  \n",
              "1   112080.014102                 приобретение автомобиля  \n",
              "2   145885.952297                           покупка жилья  \n",
              "3   267628.550329              дополнительное образование  \n",
              "4   158616.077870                         сыграть свадьбу  \n",
              "5   255763.565419                           покупка жилья  \n",
              "6   240525.971920                       операции с жильем  \n",
              "7   135823.934197                             образование  \n",
              "8    95856.832424                   на проведение свадьбы  \n",
              "9   144425.938277                 покупка жилья для семьи  \n",
              "10  113943.491460                    покупка недвижимости  \n",
              "11   77069.234271       покупка коммерческой недвижимости  \n",
              "12            NaN                         сыграть свадьбу  \n",
              "13  130458.228857                 приобретение автомобиля  \n",
              "14  165127.911772              покупка жилой недвижимости  \n",
              "15  116820.904450  строительство собственной недвижимости  \n",
              "16  289202.704229                            недвижимость  \n",
              "17   90410.586745              строительство недвижимости  \n",
              "18   56823.777243      на покупку подержанного автомобиля  \n",
              "19  242831.107982            на покупку своего автомобиля  "
            ]
          },
          "execution_count": 2,
          "metadata": {},
          "output_type": "execute_result"
        }
      ],
      "source": [
        "data.head(20)"
      ]
    },
    {
      "cell_type": "code",
      "execution_count": null,
      "id": "ad24d304",
      "metadata": {
        "deletable": false,
        "id": "ad24d304",
        "outputId": "15376089-8dad-46c9-b520-c05248d43158"
      },
      "outputs": [
        {
          "name": "stdout",
          "output_type": "stream",
          "text": [
            "<class 'pandas.core.frame.DataFrame'>\n",
            "RangeIndex: 21525 entries, 0 to 21524\n",
            "Data columns (total 12 columns):\n",
            " #   Column            Non-Null Count  Dtype  \n",
            "---  ------            --------------  -----  \n",
            " 0   children          21525 non-null  int64  \n",
            " 1   days_employed     19351 non-null  float64\n",
            " 2   dob_years         21525 non-null  int64  \n",
            " 3   education         21525 non-null  object \n",
            " 4   education_id      21525 non-null  int64  \n",
            " 5   family_status     21525 non-null  object \n",
            " 6   family_status_id  21525 non-null  int64  \n",
            " 7   gender            21525 non-null  object \n",
            " 8   income_type       21525 non-null  object \n",
            " 9   debt              21525 non-null  int64  \n",
            " 10  total_income      19351 non-null  float64\n",
            " 11  purpose           21525 non-null  object \n",
            "dtypes: float64(2), int64(5), object(5)\n",
            "memory usage: 2.0+ MB\n"
          ]
        }
      ],
      "source": [
        "data.info()"
      ]
    },
    {
      "cell_type": "markdown",
      "id": "07e4536b",
      "metadata": {
        "id": "07e4536b"
      },
      "source": [
        "Подвывод: мы прочитали исходные данные, посмотрели на их структуру, тип и объём, что понадобится для дальнейшей работы."
      ]
    },
    {
      "cell_type": "markdown",
      "id": "46a05397",
      "metadata": {
        "deletable": false,
        "editable": false,
        "id": "46a05397"
      },
      "source": [
        "## Предобработка данных"
      ]
    },
    {
      "cell_type": "markdown",
      "id": "841ab317",
      "metadata": {
        "deletable": false,
        "editable": false,
        "id": "841ab317"
      },
      "source": [
        "### Удаление пропусков"
      ]
    },
    {
      "cell_type": "code",
      "execution_count": null,
      "id": "b97316d2",
      "metadata": {
        "deletable": false,
        "id": "b97316d2",
        "outputId": "81f4d817-781c-465c-ed15-91ce4446810d"
      },
      "outputs": [
        {
          "data": {
            "text/plain": [
              "children               0\n",
              "days_employed       2174\n",
              "dob_years              0\n",
              "education              0\n",
              "education_id           0\n",
              "family_status          0\n",
              "family_status_id       0\n",
              "gender                 0\n",
              "income_type            0\n",
              "debt                   0\n",
              "total_income        2174\n",
              "purpose                0\n",
              "dtype: int64"
            ]
          },
          "execution_count": 4,
          "metadata": {},
          "output_type": "execute_result"
        }
      ],
      "source": [
        "data.isna().sum()"
      ]
    },
    {
      "cell_type": "code",
      "execution_count": null,
      "id": "a1634289",
      "metadata": {
        "id": "a1634289",
        "outputId": "164ba3ae-6d42-4988-f1e7-541e0714dfae"
      },
      "outputs": [
        {
          "data": {
            "text/html": [
              "<div>\n",
              "<style scoped>\n",
              "    .dataframe tbody tr th:only-of-type {\n",
              "        vertical-align: middle;\n",
              "    }\n",
              "\n",
              "    .dataframe tbody tr th {\n",
              "        vertical-align: top;\n",
              "    }\n",
              "\n",
              "    .dataframe thead th {\n",
              "        text-align: right;\n",
              "    }\n",
              "</style>\n",
              "<table border=\"1\" class=\"dataframe\">\n",
              "  <thead>\n",
              "    <tr style=\"text-align: right;\">\n",
              "      <th></th>\n",
              "      <th>children</th>\n",
              "      <th>days_employed</th>\n",
              "      <th>dob_years</th>\n",
              "      <th>education</th>\n",
              "      <th>education_id</th>\n",
              "      <th>family_status</th>\n",
              "      <th>family_status_id</th>\n",
              "      <th>gender</th>\n",
              "      <th>income_type</th>\n",
              "      <th>debt</th>\n",
              "      <th>total_income</th>\n",
              "      <th>purpose</th>\n",
              "    </tr>\n",
              "  </thead>\n",
              "  <tbody>\n",
              "    <tr>\n",
              "      <th>12</th>\n",
              "      <td>0</td>\n",
              "      <td>NaN</td>\n",
              "      <td>65</td>\n",
              "      <td>среднее</td>\n",
              "      <td>1</td>\n",
              "      <td>гражданский брак</td>\n",
              "      <td>1</td>\n",
              "      <td>M</td>\n",
              "      <td>пенсионер</td>\n",
              "      <td>0</td>\n",
              "      <td>NaN</td>\n",
              "      <td>сыграть свадьбу</td>\n",
              "    </tr>\n",
              "    <tr>\n",
              "      <th>26</th>\n",
              "      <td>0</td>\n",
              "      <td>NaN</td>\n",
              "      <td>41</td>\n",
              "      <td>среднее</td>\n",
              "      <td>1</td>\n",
              "      <td>женат / замужем</td>\n",
              "      <td>0</td>\n",
              "      <td>M</td>\n",
              "      <td>госслужащий</td>\n",
              "      <td>0</td>\n",
              "      <td>NaN</td>\n",
              "      <td>образование</td>\n",
              "    </tr>\n",
              "    <tr>\n",
              "      <th>29</th>\n",
              "      <td>0</td>\n",
              "      <td>NaN</td>\n",
              "      <td>63</td>\n",
              "      <td>среднее</td>\n",
              "      <td>1</td>\n",
              "      <td>Не женат / не замужем</td>\n",
              "      <td>4</td>\n",
              "      <td>F</td>\n",
              "      <td>пенсионер</td>\n",
              "      <td>0</td>\n",
              "      <td>NaN</td>\n",
              "      <td>строительство жилой недвижимости</td>\n",
              "    </tr>\n",
              "    <tr>\n",
              "      <th>41</th>\n",
              "      <td>0</td>\n",
              "      <td>NaN</td>\n",
              "      <td>50</td>\n",
              "      <td>среднее</td>\n",
              "      <td>1</td>\n",
              "      <td>женат / замужем</td>\n",
              "      <td>0</td>\n",
              "      <td>F</td>\n",
              "      <td>госслужащий</td>\n",
              "      <td>0</td>\n",
              "      <td>NaN</td>\n",
              "      <td>сделка с подержанным автомобилем</td>\n",
              "    </tr>\n",
              "    <tr>\n",
              "      <th>55</th>\n",
              "      <td>0</td>\n",
              "      <td>NaN</td>\n",
              "      <td>54</td>\n",
              "      <td>среднее</td>\n",
              "      <td>1</td>\n",
              "      <td>гражданский брак</td>\n",
              "      <td>1</td>\n",
              "      <td>F</td>\n",
              "      <td>пенсионер</td>\n",
              "      <td>1</td>\n",
              "      <td>NaN</td>\n",
              "      <td>сыграть свадьбу</td>\n",
              "    </tr>\n",
              "    <tr>\n",
              "      <th>...</th>\n",
              "      <td>...</td>\n",
              "      <td>...</td>\n",
              "      <td>...</td>\n",
              "      <td>...</td>\n",
              "      <td>...</td>\n",
              "      <td>...</td>\n",
              "      <td>...</td>\n",
              "      <td>...</td>\n",
              "      <td>...</td>\n",
              "      <td>...</td>\n",
              "      <td>...</td>\n",
              "      <td>...</td>\n",
              "    </tr>\n",
              "    <tr>\n",
              "      <th>21489</th>\n",
              "      <td>2</td>\n",
              "      <td>NaN</td>\n",
              "      <td>47</td>\n",
              "      <td>Среднее</td>\n",
              "      <td>1</td>\n",
              "      <td>женат / замужем</td>\n",
              "      <td>0</td>\n",
              "      <td>M</td>\n",
              "      <td>компаньон</td>\n",
              "      <td>0</td>\n",
              "      <td>NaN</td>\n",
              "      <td>сделка с автомобилем</td>\n",
              "    </tr>\n",
              "    <tr>\n",
              "      <th>21495</th>\n",
              "      <td>1</td>\n",
              "      <td>NaN</td>\n",
              "      <td>50</td>\n",
              "      <td>среднее</td>\n",
              "      <td>1</td>\n",
              "      <td>гражданский брак</td>\n",
              "      <td>1</td>\n",
              "      <td>F</td>\n",
              "      <td>сотрудник</td>\n",
              "      <td>0</td>\n",
              "      <td>NaN</td>\n",
              "      <td>свадьба</td>\n",
              "    </tr>\n",
              "    <tr>\n",
              "      <th>21497</th>\n",
              "      <td>0</td>\n",
              "      <td>NaN</td>\n",
              "      <td>48</td>\n",
              "      <td>ВЫСШЕЕ</td>\n",
              "      <td>0</td>\n",
              "      <td>женат / замужем</td>\n",
              "      <td>0</td>\n",
              "      <td>F</td>\n",
              "      <td>компаньон</td>\n",
              "      <td>0</td>\n",
              "      <td>NaN</td>\n",
              "      <td>строительство недвижимости</td>\n",
              "    </tr>\n",
              "    <tr>\n",
              "      <th>21502</th>\n",
              "      <td>1</td>\n",
              "      <td>NaN</td>\n",
              "      <td>42</td>\n",
              "      <td>среднее</td>\n",
              "      <td>1</td>\n",
              "      <td>женат / замужем</td>\n",
              "      <td>0</td>\n",
              "      <td>F</td>\n",
              "      <td>сотрудник</td>\n",
              "      <td>0</td>\n",
              "      <td>NaN</td>\n",
              "      <td>строительство жилой недвижимости</td>\n",
              "    </tr>\n",
              "    <tr>\n",
              "      <th>21510</th>\n",
              "      <td>2</td>\n",
              "      <td>NaN</td>\n",
              "      <td>28</td>\n",
              "      <td>среднее</td>\n",
              "      <td>1</td>\n",
              "      <td>женат / замужем</td>\n",
              "      <td>0</td>\n",
              "      <td>F</td>\n",
              "      <td>сотрудник</td>\n",
              "      <td>0</td>\n",
              "      <td>NaN</td>\n",
              "      <td>приобретение автомобиля</td>\n",
              "    </tr>\n",
              "  </tbody>\n",
              "</table>\n",
              "<p>2174 rows × 12 columns</p>\n",
              "</div>"
            ],
            "text/plain": [
              "       children  days_employed  dob_years education  education_id  \\\n",
              "12            0            NaN         65   среднее             1   \n",
              "26            0            NaN         41   среднее             1   \n",
              "29            0            NaN         63   среднее             1   \n",
              "41            0            NaN         50   среднее             1   \n",
              "55            0            NaN         54   среднее             1   \n",
              "...         ...            ...        ...       ...           ...   \n",
              "21489         2            NaN         47   Среднее             1   \n",
              "21495         1            NaN         50   среднее             1   \n",
              "21497         0            NaN         48    ВЫСШЕЕ             0   \n",
              "21502         1            NaN         42   среднее             1   \n",
              "21510         2            NaN         28   среднее             1   \n",
              "\n",
              "               family_status  family_status_id gender  income_type  debt  \\\n",
              "12          гражданский брак                 1      M    пенсионер     0   \n",
              "26           женат / замужем                 0      M  госслужащий     0   \n",
              "29     Не женат / не замужем                 4      F    пенсионер     0   \n",
              "41           женат / замужем                 0      F  госслужащий     0   \n",
              "55          гражданский брак                 1      F    пенсионер     1   \n",
              "...                      ...               ...    ...          ...   ...   \n",
              "21489        женат / замужем                 0      M    компаньон     0   \n",
              "21495       гражданский брак                 1      F    сотрудник     0   \n",
              "21497        женат / замужем                 0      F    компаньон     0   \n",
              "21502        женат / замужем                 0      F    сотрудник     0   \n",
              "21510        женат / замужем                 0      F    сотрудник     0   \n",
              "\n",
              "       total_income                           purpose  \n",
              "12              NaN                   сыграть свадьбу  \n",
              "26              NaN                       образование  \n",
              "29              NaN  строительство жилой недвижимости  \n",
              "41              NaN  сделка с подержанным автомобилем  \n",
              "55              NaN                   сыграть свадьбу  \n",
              "...             ...                               ...  \n",
              "21489           NaN              сделка с автомобилем  \n",
              "21495           NaN                           свадьба  \n",
              "21497           NaN        строительство недвижимости  \n",
              "21502           NaN  строительство жилой недвижимости  \n",
              "21510           NaN           приобретение автомобиля  \n",
              "\n",
              "[2174 rows x 12 columns]"
            ]
          },
          "execution_count": 5,
          "metadata": {},
          "output_type": "execute_result"
        }
      ],
      "source": [
        "data[data['days_employed'].isna()]\n",
        "#Одинаковое количество пропусков в обоих столбцах наводит на мысль а односторонней или взаимной зависимости пропусков.\n",
        "#Также можно предположить что пропуски неслучайные, так как зависят от характера вопроса. Например, люди могут просто\n",
        "#не вспомнить свой точный стаж и пропустить этот пункт совсем, могут не указать total_income так как боятся получить\n",
        "#отказ кредита или им просто неприятно сообщать эту информацию."
      ]
    },
    {
      "cell_type": "code",
      "execution_count": null,
      "id": "45d99a52",
      "metadata": {
        "deletable": false,
        "id": "45d99a52"
      },
      "outputs": [],
      "source": [
        "for t in data['income_type'].unique():\n",
        "    data.loc[(data['income_type'] == t) & (data['total_income'].isna()), 'total_income'] = \\\n",
        "    data.loc[(data['income_type'] == t), 'total_income'].median()"
      ]
    },
    {
      "cell_type": "markdown",
      "id": "33327103",
      "metadata": {
        "deletable": false,
        "editable": false,
        "id": "33327103"
      },
      "source": [
        "### Обработка аномальных значений"
      ]
    },
    {
      "cell_type": "code",
      "execution_count": null,
      "id": "01613320",
      "metadata": {
        "deletable": false,
        "id": "01613320"
      },
      "outputs": [],
      "source": [
        "data['days_employed'] = data['days_employed'].abs()"
      ]
    },
    {
      "cell_type": "code",
      "execution_count": null,
      "id": "d7f0c9a8",
      "metadata": {
        "deletable": false,
        "id": "d7f0c9a8",
        "outputId": "801ef80e-522b-4668-f34e-565af7432bcf"
      },
      "outputs": [
        {
          "data": {
            "text/plain": [
              "income_type\n",
              "безработный        366413.652744\n",
              "в декрете            3296.759962\n",
              "госслужащий          2689.368353\n",
              "компаньон            1547.382223\n",
              "пенсионер          365213.306266\n",
              "предприниматель       520.848083\n",
              "сотрудник            1574.202821\n",
              "студент               578.751554\n",
              "Name: days_employed, dtype: float64"
            ]
          },
          "execution_count": 8,
          "metadata": {},
          "output_type": "execute_result"
        }
      ],
      "source": [
        "data.groupby('income_type')['days_employed'].agg('median')"
      ]
    },
    {
      "cell_type": "markdown",
      "id": "523bb385",
      "metadata": {
        "deletable": false,
        "editable": false,
        "id": "523bb385"
      },
      "source": [
        "У двух типов (безработные и пенсионеры) получатся аномально большие значения. Исправить такие значения сложно, поэтому оставьте их как есть. Тем более этот столбец не понадобится вам для исследования."
      ]
    },
    {
      "cell_type": "code",
      "execution_count": null,
      "id": "8aa65bb5",
      "metadata": {
        "deletable": false,
        "id": "8aa65bb5",
        "outputId": "6975b15c-7f95-4697-d16d-a0c79b657b03"
      },
      "outputs": [
        {
          "data": {
            "text/plain": [
              "array([ 1,  0,  3,  2, -1,  4, 20,  5])"
            ]
          },
          "execution_count": 9,
          "metadata": {},
          "output_type": "execute_result"
        }
      ],
      "source": [
        "data['children'].unique()"
      ]
    },
    {
      "cell_type": "code",
      "execution_count": null,
      "id": "97d45bf1",
      "metadata": {
        "deletable": false,
        "id": "97d45bf1"
      },
      "outputs": [],
      "source": [
        "data = data[(data['children'] != -1) & (data['children'] != 20)]"
      ]
    },
    {
      "cell_type": "code",
      "execution_count": null,
      "id": "c9aa436d",
      "metadata": {
        "deletable": false,
        "id": "c9aa436d",
        "outputId": "b2097101-d49d-44d9-901b-32a65c9463d1"
      },
      "outputs": [
        {
          "data": {
            "text/plain": [
              "array([1, 0, 3, 2, 4, 5])"
            ]
          },
          "execution_count": 11,
          "metadata": {},
          "output_type": "execute_result"
        }
      ],
      "source": [
        "data['children'].unique()"
      ]
    },
    {
      "cell_type": "markdown",
      "id": "8fe03a1f",
      "metadata": {
        "deletable": false,
        "editable": false,
        "id": "8fe03a1f"
      },
      "source": [
        "### Удаление пропусков (продолжение)"
      ]
    },
    {
      "cell_type": "code",
      "execution_count": null,
      "id": "92cf4e94",
      "metadata": {
        "deletable": false,
        "id": "92cf4e94"
      },
      "outputs": [],
      "source": [
        "for t in data['income_type'].unique():\n",
        "    data.loc[(data['income_type'] == t) & (data['days_employed'].isna()), 'days_employed'] = \\\n",
        "    data.loc[(data['income_type'] == t), 'days_employed'].median()"
      ]
    },
    {
      "cell_type": "code",
      "execution_count": null,
      "id": "9219a7d5",
      "metadata": {
        "deletable": false,
        "id": "9219a7d5",
        "outputId": "8da1e4e1-358e-4e87-98c9-f261bce0a7b2"
      },
      "outputs": [
        {
          "data": {
            "text/plain": [
              "children            0\n",
              "days_employed       0\n",
              "dob_years           0\n",
              "education           0\n",
              "education_id        0\n",
              "family_status       0\n",
              "family_status_id    0\n",
              "gender              0\n",
              "income_type         0\n",
              "debt                0\n",
              "total_income        0\n",
              "purpose             0\n",
              "dtype: int64"
            ]
          },
          "execution_count": 13,
          "metadata": {},
          "output_type": "execute_result"
        }
      ],
      "source": [
        "data.isna().sum()"
      ]
    },
    {
      "cell_type": "markdown",
      "id": "5f77d936",
      "metadata": {
        "deletable": false,
        "editable": false,
        "id": "5f77d936"
      },
      "source": [
        "### Изменение типов данных"
      ]
    },
    {
      "cell_type": "code",
      "execution_count": null,
      "id": "7f111021",
      "metadata": {
        "deletable": false,
        "id": "7f111021"
      },
      "outputs": [],
      "source": [
        "data['total_income'] = data['total_income'].astype(int)"
      ]
    },
    {
      "cell_type": "markdown",
      "id": "b7190626",
      "metadata": {
        "deletable": false,
        "editable": false,
        "id": "b7190626"
      },
      "source": [
        "### Обработка дубликатов"
      ]
    },
    {
      "cell_type": "code",
      "execution_count": null,
      "id": "bc661ba4",
      "metadata": {
        "deletable": false,
        "id": "bc661ba4"
      },
      "outputs": [],
      "source": [
        "data['education'] = data['education'].str.lower()"
      ]
    },
    {
      "cell_type": "code",
      "execution_count": null,
      "id": "f2c9a6c4",
      "metadata": {
        "deletable": false,
        "id": "f2c9a6c4",
        "outputId": "9684deba-1934-42d1-99e1-cda61740f822"
      },
      "outputs": [
        {
          "data": {
            "text/plain": [
              "71"
            ]
          },
          "execution_count": 16,
          "metadata": {},
          "output_type": "execute_result"
        }
      ],
      "source": [
        "data.duplicated().sum()"
      ]
    },
    {
      "cell_type": "code",
      "execution_count": null,
      "id": "59c41424",
      "metadata": {
        "deletable": false,
        "id": "59c41424"
      },
      "outputs": [],
      "source": [
        "data = data.drop_duplicates()"
      ]
    },
    {
      "cell_type": "markdown",
      "id": "e393fcac",
      "metadata": {
        "deletable": false,
        "editable": false,
        "id": "e393fcac"
      },
      "source": [
        "### Категоризация данных"
      ]
    },
    {
      "cell_type": "code",
      "execution_count": null,
      "id": "726e0ed2",
      "metadata": {
        "deletable": false,
        "id": "726e0ed2"
      },
      "outputs": [],
      "source": [
        "def categorize_income(income):\n",
        "    try:\n",
        "        if 0 <= income <= 30000:\n",
        "            return 'E'\n",
        "        elif 30001 <= income <= 50000:\n",
        "            return 'D'\n",
        "        elif 50001 <= income <= 200000:\n",
        "            return 'C'\n",
        "        elif 200001 <= income <= 1000000:\n",
        "            return 'B'\n",
        "        elif income >= 1000001:\n",
        "            return 'A'\n",
        "    except:\n",
        "        pass"
      ]
    },
    {
      "cell_type": "code",
      "execution_count": null,
      "id": "0844201c",
      "metadata": {
        "deletable": false,
        "id": "0844201c"
      },
      "outputs": [],
      "source": [
        "data['total_income_category'] = data['total_income'].apply(categorize_income)"
      ]
    },
    {
      "cell_type": "code",
      "execution_count": null,
      "id": "50c438c6",
      "metadata": {
        "deletable": false,
        "id": "50c438c6",
        "outputId": "673c12d9-7d7e-4ae0-9812-c622c89dd244"
      },
      "outputs": [
        {
          "data": {
            "text/plain": [
              "array(['покупка жилья', 'приобретение автомобиля',\n",
              "       'дополнительное образование', 'сыграть свадьбу',\n",
              "       'операции с жильем', 'образование', 'на проведение свадьбы',\n",
              "       'покупка жилья для семьи', 'покупка недвижимости',\n",
              "       'покупка коммерческой недвижимости', 'покупка жилой недвижимости',\n",
              "       'строительство собственной недвижимости', 'недвижимость',\n",
              "       'строительство недвижимости', 'на покупку подержанного автомобиля',\n",
              "       'на покупку своего автомобиля',\n",
              "       'операции с коммерческой недвижимостью',\n",
              "       'строительство жилой недвижимости', 'жилье',\n",
              "       'операции со своей недвижимостью', 'автомобили',\n",
              "       'заняться образованием', 'сделка с подержанным автомобилем',\n",
              "       'получение образования', 'автомобиль', 'свадьба',\n",
              "       'получение дополнительного образования', 'покупка своего жилья',\n",
              "       'операции с недвижимостью', 'получение высшего образования',\n",
              "       'свой автомобиль', 'сделка с автомобилем',\n",
              "       'профильное образование', 'высшее образование',\n",
              "       'покупка жилья для сдачи', 'на покупку автомобиля', 'ремонт жилью',\n",
              "       'заняться высшим образованием'], dtype=object)"
            ]
          },
          "execution_count": 20,
          "metadata": {},
          "output_type": "execute_result"
        }
      ],
      "source": [
        "data['purpose'].unique()"
      ]
    },
    {
      "cell_type": "code",
      "execution_count": null,
      "id": "326a38b4",
      "metadata": {
        "deletable": false,
        "id": "326a38b4"
      },
      "outputs": [],
      "source": [
        "def categorize_purpose(row):\n",
        "    try:\n",
        "        if 'автом' in row:\n",
        "            return 'операции с автомобилем'\n",
        "        elif 'жил' in row or 'недвиж' in row:\n",
        "            return 'операции с недвижимостью'\n",
        "        elif 'свад' in row:\n",
        "            return 'проведение свадьбы'\n",
        "        elif 'образов' in row:\n",
        "            return 'получение образования'\n",
        "    except:\n",
        "        return 'нет категории'"
      ]
    },
    {
      "cell_type": "code",
      "execution_count": null,
      "id": "2006d6a8",
      "metadata": {
        "deletable": false,
        "id": "2006d6a8"
      },
      "outputs": [],
      "source": [
        "data['purpose_category'] = data['purpose'].apply(categorize_purpose)"
      ]
    },
    {
      "cell_type": "markdown",
      "id": "b1ec208b",
      "metadata": {
        "id": "b1ec208b"
      },
      "source": [
        "Подвывод: в этом разделе мы провели предобработку данных:\n",
        "        \n",
        " - нашли и устранили дубликаты\n",
        " - устранили аномальные значения в колонке children\n",
        " - нашли и обработали пропуски на основе типа данных этой колонки и данных, от которых зависила колонка с пропусками\n",
        " - провели категоризацию на основе цели получения кредита и уровня дохода клиента"
      ]
    },
    {
      "cell_type": "markdown",
      "id": "0614df71",
      "metadata": {
        "deletable": false,
        "editable": false,
        "id": "0614df71"
      },
      "source": [
        "### Шаг 3. Исследуйте данные и ответьте на вопросы"
      ]
    },
    {
      "cell_type": "markdown",
      "id": "14777465",
      "metadata": {
        "deletable": false,
        "editable": false,
        "id": "14777465"
      },
      "source": [
        "#### 3.1 Есть ли зависимость между количеством детей и возвратом кредита в срок?"
      ]
    },
    {
      "cell_type": "code",
      "execution_count": null,
      "id": "a759e618",
      "metadata": {
        "deletable": false,
        "id": "a759e618",
        "outputId": "9d2d1686-45de-423f-ae38-b6b269891f0b"
      },
      "outputs": [
        {
          "data": {
            "text/plain": [
              "1732"
            ]
          },
          "execution_count": 23,
          "metadata": {},
          "output_type": "execute_result"
        }
      ],
      "source": [
        "data[data['debt'] == 1]['debt'].sum()\n",
        "#Всего есть 1732 клиентов с долгами"
      ]
    },
    {
      "cell_type": "code",
      "execution_count": null,
      "id": "273fa8b8",
      "metadata": {
        "id": "273fa8b8"
      },
      "outputs": [],
      "source": [
        "#Создаем сводную таблицу широкого формата, чтобы впоследствии сравнить колонки\n",
        "debt_children_pivot = data.pivot_table(index='children', values='debt', aggfunc=['count', 'sum'])\n",
        "debt_children_pivot['ratio'] = debt_children_pivot['sum']/debt_children_pivot['count']\n",
        "#Чем меньше значение в колонке ratio, тем больше вероятность что клиент вернёт долг"
      ]
    },
    {
      "cell_type": "code",
      "execution_count": null,
      "id": "48250171",
      "metadata": {
        "id": "48250171",
        "outputId": "bdb4b746-81e7-4c6e-f0f7-6eab22d4dcc9"
      },
      "outputs": [
        {
          "name": "stdout",
          "output_type": "stream",
          "text": [
            "debt    1732\n",
            "dtype: int64\n"
          ]
        }
      ],
      "source": [
        "#Сверяем, не потеряли ли мы какие-нибудь данные по долгам\n",
        "print(debt_children_pivot['sum'].sum())\n",
        "#Количество долгов совпадает с изначальным количеством"
      ]
    },
    {
      "cell_type": "code",
      "execution_count": null,
      "id": "7ae7925c",
      "metadata": {
        "id": "7ae7925c",
        "outputId": "58992a0d-7b49-4a34-9da0-b9b80d26b507"
      },
      "outputs": [
        {
          "data": {
            "text/html": [
              "<div>\n",
              "<style scoped>\n",
              "    .dataframe tbody tr th:only-of-type {\n",
              "        vertical-align: middle;\n",
              "    }\n",
              "\n",
              "    .dataframe tbody tr th {\n",
              "        vertical-align: top;\n",
              "    }\n",
              "\n",
              "    .dataframe thead tr th {\n",
              "        text-align: left;\n",
              "    }\n",
              "\n",
              "    .dataframe thead tr:last-of-type th {\n",
              "        text-align: right;\n",
              "    }\n",
              "</style>\n",
              "<table border=\"1\" class=\"dataframe\">\n",
              "  <thead>\n",
              "    <tr>\n",
              "      <th></th>\n",
              "      <th>count</th>\n",
              "      <th>sum</th>\n",
              "      <th>ratio</th>\n",
              "    </tr>\n",
              "    <tr>\n",
              "      <th></th>\n",
              "      <th>debt</th>\n",
              "      <th>debt</th>\n",
              "      <th></th>\n",
              "    </tr>\n",
              "    <tr>\n",
              "      <th>children</th>\n",
              "      <th></th>\n",
              "      <th></th>\n",
              "      <th></th>\n",
              "    </tr>\n",
              "  </thead>\n",
              "  <tbody>\n",
              "    <tr>\n",
              "      <th>0</th>\n",
              "      <td>14091</td>\n",
              "      <td>1063</td>\n",
              "      <td>0.075438</td>\n",
              "    </tr>\n",
              "    <tr>\n",
              "      <th>1</th>\n",
              "      <td>4808</td>\n",
              "      <td>444</td>\n",
              "      <td>0.092346</td>\n",
              "    </tr>\n",
              "    <tr>\n",
              "      <th>2</th>\n",
              "      <td>2052</td>\n",
              "      <td>194</td>\n",
              "      <td>0.094542</td>\n",
              "    </tr>\n",
              "    <tr>\n",
              "      <th>3</th>\n",
              "      <td>330</td>\n",
              "      <td>27</td>\n",
              "      <td>0.081818</td>\n",
              "    </tr>\n",
              "    <tr>\n",
              "      <th>4</th>\n",
              "      <td>41</td>\n",
              "      <td>4</td>\n",
              "      <td>0.097561</td>\n",
              "    </tr>\n",
              "    <tr>\n",
              "      <th>5</th>\n",
              "      <td>9</td>\n",
              "      <td>0</td>\n",
              "      <td>0.000000</td>\n",
              "    </tr>\n",
              "  </tbody>\n",
              "</table>\n",
              "</div>"
            ],
            "text/plain": [
              "          count   sum     ratio\n",
              "           debt  debt          \n",
              "children                       \n",
              "0         14091  1063  0.075438\n",
              "1          4808   444  0.092346\n",
              "2          2052   194  0.094542\n",
              "3           330    27  0.081818\n",
              "4            41     4  0.097561\n",
              "5             9     0  0.000000"
            ]
          },
          "execution_count": 26,
          "metadata": {},
          "output_type": "execute_result"
        }
      ],
      "source": [
        "debt_children_pivot"
      ]
    },
    {
      "cell_type": "code",
      "execution_count": null,
      "id": "01cf2590",
      "metadata": {
        "id": "01cf2590",
        "outputId": "3a8dbb71-3475-44d2-93e6-dc841fea03e0"
      },
      "outputs": [
        {
          "data": {
            "text/html": [
              "<div>\n",
              "<style scoped>\n",
              "    .dataframe tbody tr th:only-of-type {\n",
              "        vertical-align: middle;\n",
              "    }\n",
              "\n",
              "    .dataframe tbody tr th {\n",
              "        vertical-align: top;\n",
              "    }\n",
              "\n",
              "    .dataframe thead tr th {\n",
              "        text-align: left;\n",
              "    }\n",
              "\n",
              "    .dataframe thead tr:last-of-type th {\n",
              "        text-align: right;\n",
              "    }\n",
              "</style>\n",
              "<table border=\"1\" class=\"dataframe\">\n",
              "  <thead>\n",
              "    <tr>\n",
              "      <th></th>\n",
              "      <th>count</th>\n",
              "      <th>sum</th>\n",
              "      <th>mean</th>\n",
              "    </tr>\n",
              "    <tr>\n",
              "      <th></th>\n",
              "      <th>debt</th>\n",
              "      <th>debt</th>\n",
              "      <th>debt</th>\n",
              "    </tr>\n",
              "    <tr>\n",
              "      <th>children</th>\n",
              "      <th></th>\n",
              "      <th></th>\n",
              "      <th></th>\n",
              "    </tr>\n",
              "  </thead>\n",
              "  <tbody>\n",
              "    <tr>\n",
              "      <th>0</th>\n",
              "      <td>14091</td>\n",
              "      <td>1063</td>\n",
              "      <td>0.075438</td>\n",
              "    </tr>\n",
              "    <tr>\n",
              "      <th>1</th>\n",
              "      <td>4808</td>\n",
              "      <td>444</td>\n",
              "      <td>0.092346</td>\n",
              "    </tr>\n",
              "    <tr>\n",
              "      <th>2</th>\n",
              "      <td>2052</td>\n",
              "      <td>194</td>\n",
              "      <td>0.094542</td>\n",
              "    </tr>\n",
              "    <tr>\n",
              "      <th>3</th>\n",
              "      <td>330</td>\n",
              "      <td>27</td>\n",
              "      <td>0.081818</td>\n",
              "    </tr>\n",
              "    <tr>\n",
              "      <th>4</th>\n",
              "      <td>41</td>\n",
              "      <td>4</td>\n",
              "      <td>0.097561</td>\n",
              "    </tr>\n",
              "    <tr>\n",
              "      <th>5</th>\n",
              "      <td>9</td>\n",
              "      <td>0</td>\n",
              "      <td>0.000000</td>\n",
              "    </tr>\n",
              "  </tbody>\n",
              "</table>\n",
              "</div>"
            ],
            "text/plain": [
              "          count   sum      mean\n",
              "           debt  debt      debt\n",
              "children                       \n",
              "0         14091  1063  0.075438\n",
              "1          4808   444  0.092346\n",
              "2          2052   194  0.094542\n",
              "3           330    27  0.081818\n",
              "4            41     4  0.097561\n",
              "5             9     0  0.000000"
            ]
          },
          "execution_count": 27,
          "metadata": {},
          "output_type": "execute_result"
        }
      ],
      "source": [
        "# Код ревьюера\n",
        "data.pivot_table(index = 'children', values = 'debt', aggfunc = ['count', 'sum', 'mean'])"
      ]
    },
    {
      "cell_type": "markdown",
      "id": "db76eba2",
      "metadata": {
        "id": "db76eba2"
      },
      "source": [
        "**Вывод:**\n",
        "На основе полученных данных можно сопоставить только те категории граждан, по которым есть достаточно большое количество данных: клиенты с 0-2 детьми. Выяснилось, что клиенты без детей наиболее вероятно останутся без долгов, чем клиенты с 1 или 2 детьми. Те, в свою очередь, имеют примерно одинаковую вероятность неоплаты долга."
      ]
    },
    {
      "cell_type": "markdown",
      "id": "34995647",
      "metadata": {
        "deletable": false,
        "editable": false,
        "id": "34995647"
      },
      "source": [
        "#### 3.2 Есть ли зависимость между семейным положением и возвратом кредита в срок?"
      ]
    },
    {
      "cell_type": "code",
      "execution_count": null,
      "id": "f7948fe8",
      "metadata": {
        "deletable": false,
        "id": "f7948fe8",
        "outputId": "758c0dd5-1f12-4283-9b86-87adb3ff3e6a"
      },
      "outputs": [
        {
          "data": {
            "text/html": [
              "<div>\n",
              "<style scoped>\n",
              "    .dataframe tbody tr th:only-of-type {\n",
              "        vertical-align: middle;\n",
              "    }\n",
              "\n",
              "    .dataframe tbody tr th {\n",
              "        vertical-align: top;\n",
              "    }\n",
              "\n",
              "    .dataframe thead tr th {\n",
              "        text-align: left;\n",
              "    }\n",
              "\n",
              "    .dataframe thead tr:last-of-type th {\n",
              "        text-align: right;\n",
              "    }\n",
              "</style>\n",
              "<table border=\"1\" class=\"dataframe\">\n",
              "  <thead>\n",
              "    <tr>\n",
              "      <th></th>\n",
              "      <th>count</th>\n",
              "      <th>sum</th>\n",
              "      <th>ratio</th>\n",
              "    </tr>\n",
              "    <tr>\n",
              "      <th></th>\n",
              "      <th>debt</th>\n",
              "      <th>debt</th>\n",
              "      <th></th>\n",
              "    </tr>\n",
              "    <tr>\n",
              "      <th>family_status</th>\n",
              "      <th></th>\n",
              "      <th></th>\n",
              "      <th></th>\n",
              "    </tr>\n",
              "  </thead>\n",
              "  <tbody>\n",
              "    <tr>\n",
              "      <th>Не женат / не замужем</th>\n",
              "      <td>2796</td>\n",
              "      <td>273</td>\n",
              "      <td>0.097639</td>\n",
              "    </tr>\n",
              "    <tr>\n",
              "      <th>в разводе</th>\n",
              "      <td>1189</td>\n",
              "      <td>84</td>\n",
              "      <td>0.070648</td>\n",
              "    </tr>\n",
              "    <tr>\n",
              "      <th>вдовец / вдова</th>\n",
              "      <td>951</td>\n",
              "      <td>63</td>\n",
              "      <td>0.066246</td>\n",
              "    </tr>\n",
              "    <tr>\n",
              "      <th>гражданский брак</th>\n",
              "      <td>4134</td>\n",
              "      <td>385</td>\n",
              "      <td>0.093130</td>\n",
              "    </tr>\n",
              "    <tr>\n",
              "      <th>женат / замужем</th>\n",
              "      <td>12261</td>\n",
              "      <td>927</td>\n",
              "      <td>0.075606</td>\n",
              "    </tr>\n",
              "  </tbody>\n",
              "</table>\n",
              "</div>"
            ],
            "text/plain": [
              "                       count  sum     ratio\n",
              "                        debt debt          \n",
              "family_status                              \n",
              "Не женат / не замужем   2796  273  0.097639\n",
              "в разводе               1189   84  0.070648\n",
              "вдовец / вдова           951   63  0.066246\n",
              "гражданский брак        4134  385  0.093130\n",
              "женат / замужем        12261  927  0.075606"
            ]
          },
          "execution_count": 28,
          "metadata": {},
          "output_type": "execute_result"
        }
      ],
      "source": [
        "#Делаем то же самое, что и в предыдущем пункте\n",
        "debt_family_status_pivot = data.pivot_table(index='family_status', values='debt', aggfunc=['count', 'sum'])\n",
        "debt_family_status_pivot['ratio'] = debt_family_status_pivot['sum']/debt_family_status_pivot['count']\n",
        "debt_family_status_pivot"
      ]
    },
    {
      "cell_type": "markdown",
      "id": "4a31c59a",
      "metadata": {
        "deletable": false,
        "id": "4a31c59a"
      },
      "source": [
        "**Вывод:** Вдовцы/вдовы, клиенты в разводе, а также женатые/замужние клиенты с наибольшей вероятностью вернут долг."
      ]
    },
    {
      "cell_type": "markdown",
      "id": "f8da2d6d",
      "metadata": {
        "deletable": false,
        "editable": false,
        "id": "f8da2d6d"
      },
      "source": [
        "#### 3.3 Есть ли зависимость между уровнем дохода и возвратом кредита в срок?"
      ]
    },
    {
      "cell_type": "markdown",
      "id": "19db3e90",
      "metadata": {
        "id": "19db3e90"
      },
      "source": [
        "##### Первый способ категоризации (ручная делёжка)"
      ]
    },
    {
      "cell_type": "code",
      "execution_count": null,
      "id": "67204bd7",
      "metadata": {
        "id": "67204bd7"
      },
      "outputs": [],
      "source": [
        "#Разделим разницу максимального и минимального дохода на 4, таким образом получим 4 сегмента (квартиля/четверти)\n",
        "income_segment = (data['total_income'].max() - data['total_income'].min()) / 4"
      ]
    },
    {
      "cell_type": "code",
      "execution_count": null,
      "id": "096c1ea6",
      "metadata": {
        "deletable": false,
        "id": "096c1ea6"
      },
      "outputs": [],
      "source": [
        "#Напишем функцию, которая будет возвращать категорию в зависимости от того, в какой квартиль попадает\n",
        "#доход конкретого клиента\n",
        "def income_group(row):\n",
        "    try:\n",
        "        if row <= data['total_income'].min() + income_segment:\n",
        "            return 'низкий'\n",
        "        elif row <= data['total_income'].min() + income_segment * 2:\n",
        "            return 'ниже среднего'\n",
        "        elif row <= data['total_income'].min() + income_segment * 3:\n",
        "            return 'выше среднего'\n",
        "        return 'высокий'\n",
        "    except:\n",
        "        pass"
      ]
    },
    {
      "cell_type": "code",
      "execution_count": null,
      "id": "8435aecf",
      "metadata": {
        "scrolled": false,
        "id": "8435aecf",
        "outputId": "91d107d4-f8e2-4ba1-b121-2496fa6e84bc"
      },
      "outputs": [
        {
          "data": {
            "text/html": [
              "<div>\n",
              "<style scoped>\n",
              "    .dataframe tbody tr th:only-of-type {\n",
              "        vertical-align: middle;\n",
              "    }\n",
              "\n",
              "    .dataframe tbody tr th {\n",
              "        vertical-align: top;\n",
              "    }\n",
              "\n",
              "    .dataframe thead th {\n",
              "        text-align: right;\n",
              "    }\n",
              "</style>\n",
              "<table border=\"1\" class=\"dataframe\">\n",
              "  <thead>\n",
              "    <tr style=\"text-align: right;\">\n",
              "      <th></th>\n",
              "      <th>children</th>\n",
              "      <th>days_employed</th>\n",
              "      <th>dob_years</th>\n",
              "      <th>education</th>\n",
              "      <th>education_id</th>\n",
              "      <th>family_status</th>\n",
              "      <th>family_status_id</th>\n",
              "      <th>gender</th>\n",
              "      <th>income_type</th>\n",
              "      <th>debt</th>\n",
              "      <th>total_income</th>\n",
              "      <th>purpose</th>\n",
              "      <th>total_income_category</th>\n",
              "      <th>purpose_category</th>\n",
              "      <th>income_group</th>\n",
              "    </tr>\n",
              "  </thead>\n",
              "  <tbody>\n",
              "    <tr>\n",
              "      <th>0</th>\n",
              "      <td>1</td>\n",
              "      <td>8437.673028</td>\n",
              "      <td>42</td>\n",
              "      <td>высшее</td>\n",
              "      <td>0</td>\n",
              "      <td>женат / замужем</td>\n",
              "      <td>0</td>\n",
              "      <td>F</td>\n",
              "      <td>сотрудник</td>\n",
              "      <td>0</td>\n",
              "      <td>253875</td>\n",
              "      <td>покупка жилья</td>\n",
              "      <td>B</td>\n",
              "      <td>операции с недвижимостью</td>\n",
              "      <td>низкий</td>\n",
              "    </tr>\n",
              "    <tr>\n",
              "      <th>1</th>\n",
              "      <td>1</td>\n",
              "      <td>4024.803754</td>\n",
              "      <td>36</td>\n",
              "      <td>среднее</td>\n",
              "      <td>1</td>\n",
              "      <td>женат / замужем</td>\n",
              "      <td>0</td>\n",
              "      <td>F</td>\n",
              "      <td>сотрудник</td>\n",
              "      <td>0</td>\n",
              "      <td>112080</td>\n",
              "      <td>приобретение автомобиля</td>\n",
              "      <td>C</td>\n",
              "      <td>операции с автомобилем</td>\n",
              "      <td>низкий</td>\n",
              "    </tr>\n",
              "    <tr>\n",
              "      <th>2</th>\n",
              "      <td>0</td>\n",
              "      <td>5623.422610</td>\n",
              "      <td>33</td>\n",
              "      <td>среднее</td>\n",
              "      <td>1</td>\n",
              "      <td>женат / замужем</td>\n",
              "      <td>0</td>\n",
              "      <td>M</td>\n",
              "      <td>сотрудник</td>\n",
              "      <td>0</td>\n",
              "      <td>145885</td>\n",
              "      <td>покупка жилья</td>\n",
              "      <td>C</td>\n",
              "      <td>операции с недвижимостью</td>\n",
              "      <td>низкий</td>\n",
              "    </tr>\n",
              "    <tr>\n",
              "      <th>3</th>\n",
              "      <td>3</td>\n",
              "      <td>4124.747207</td>\n",
              "      <td>32</td>\n",
              "      <td>среднее</td>\n",
              "      <td>1</td>\n",
              "      <td>женат / замужем</td>\n",
              "      <td>0</td>\n",
              "      <td>M</td>\n",
              "      <td>сотрудник</td>\n",
              "      <td>0</td>\n",
              "      <td>267628</td>\n",
              "      <td>дополнительное образование</td>\n",
              "      <td>B</td>\n",
              "      <td>получение образования</td>\n",
              "      <td>низкий</td>\n",
              "    </tr>\n",
              "    <tr>\n",
              "      <th>4</th>\n",
              "      <td>0</td>\n",
              "      <td>340266.072047</td>\n",
              "      <td>53</td>\n",
              "      <td>среднее</td>\n",
              "      <td>1</td>\n",
              "      <td>гражданский брак</td>\n",
              "      <td>1</td>\n",
              "      <td>F</td>\n",
              "      <td>пенсионер</td>\n",
              "      <td>0</td>\n",
              "      <td>158616</td>\n",
              "      <td>сыграть свадьбу</td>\n",
              "      <td>C</td>\n",
              "      <td>проведение свадьбы</td>\n",
              "      <td>низкий</td>\n",
              "    </tr>\n",
              "    <tr>\n",
              "      <th>...</th>\n",
              "      <td>...</td>\n",
              "      <td>...</td>\n",
              "      <td>...</td>\n",
              "      <td>...</td>\n",
              "      <td>...</td>\n",
              "      <td>...</td>\n",
              "      <td>...</td>\n",
              "      <td>...</td>\n",
              "      <td>...</td>\n",
              "      <td>...</td>\n",
              "      <td>...</td>\n",
              "      <td>...</td>\n",
              "      <td>...</td>\n",
              "      <td>...</td>\n",
              "      <td>...</td>\n",
              "    </tr>\n",
              "    <tr>\n",
              "      <th>21520</th>\n",
              "      <td>1</td>\n",
              "      <td>4529.316663</td>\n",
              "      <td>43</td>\n",
              "      <td>среднее</td>\n",
              "      <td>1</td>\n",
              "      <td>гражданский брак</td>\n",
              "      <td>1</td>\n",
              "      <td>F</td>\n",
              "      <td>компаньон</td>\n",
              "      <td>0</td>\n",
              "      <td>224791</td>\n",
              "      <td>операции с жильем</td>\n",
              "      <td>B</td>\n",
              "      <td>операции с недвижимостью</td>\n",
              "      <td>низкий</td>\n",
              "    </tr>\n",
              "    <tr>\n",
              "      <th>21521</th>\n",
              "      <td>0</td>\n",
              "      <td>343937.404131</td>\n",
              "      <td>67</td>\n",
              "      <td>среднее</td>\n",
              "      <td>1</td>\n",
              "      <td>женат / замужем</td>\n",
              "      <td>0</td>\n",
              "      <td>F</td>\n",
              "      <td>пенсионер</td>\n",
              "      <td>0</td>\n",
              "      <td>155999</td>\n",
              "      <td>сделка с автомобилем</td>\n",
              "      <td>C</td>\n",
              "      <td>операции с автомобилем</td>\n",
              "      <td>низкий</td>\n",
              "    </tr>\n",
              "    <tr>\n",
              "      <th>21522</th>\n",
              "      <td>1</td>\n",
              "      <td>2113.346888</td>\n",
              "      <td>38</td>\n",
              "      <td>среднее</td>\n",
              "      <td>1</td>\n",
              "      <td>гражданский брак</td>\n",
              "      <td>1</td>\n",
              "      <td>M</td>\n",
              "      <td>сотрудник</td>\n",
              "      <td>1</td>\n",
              "      <td>89672</td>\n",
              "      <td>недвижимость</td>\n",
              "      <td>C</td>\n",
              "      <td>операции с недвижимостью</td>\n",
              "      <td>низкий</td>\n",
              "    </tr>\n",
              "    <tr>\n",
              "      <th>21523</th>\n",
              "      <td>3</td>\n",
              "      <td>3112.481705</td>\n",
              "      <td>38</td>\n",
              "      <td>среднее</td>\n",
              "      <td>1</td>\n",
              "      <td>женат / замужем</td>\n",
              "      <td>0</td>\n",
              "      <td>M</td>\n",
              "      <td>сотрудник</td>\n",
              "      <td>1</td>\n",
              "      <td>244093</td>\n",
              "      <td>на покупку своего автомобиля</td>\n",
              "      <td>B</td>\n",
              "      <td>операции с автомобилем</td>\n",
              "      <td>низкий</td>\n",
              "    </tr>\n",
              "    <tr>\n",
              "      <th>21524</th>\n",
              "      <td>2</td>\n",
              "      <td>1984.507589</td>\n",
              "      <td>40</td>\n",
              "      <td>среднее</td>\n",
              "      <td>1</td>\n",
              "      <td>женат / замужем</td>\n",
              "      <td>0</td>\n",
              "      <td>F</td>\n",
              "      <td>сотрудник</td>\n",
              "      <td>0</td>\n",
              "      <td>82047</td>\n",
              "      <td>на покупку автомобиля</td>\n",
              "      <td>C</td>\n",
              "      <td>операции с автомобилем</td>\n",
              "      <td>низкий</td>\n",
              "    </tr>\n",
              "  </tbody>\n",
              "</table>\n",
              "<p>21331 rows × 15 columns</p>\n",
              "</div>"
            ],
            "text/plain": [
              "       children  days_employed  dob_years education  education_id  \\\n",
              "0             1    8437.673028         42    высшее             0   \n",
              "1             1    4024.803754         36   среднее             1   \n",
              "2             0    5623.422610         33   среднее             1   \n",
              "3             3    4124.747207         32   среднее             1   \n",
              "4             0  340266.072047         53   среднее             1   \n",
              "...         ...            ...        ...       ...           ...   \n",
              "21520         1    4529.316663         43   среднее             1   \n",
              "21521         0  343937.404131         67   среднее             1   \n",
              "21522         1    2113.346888         38   среднее             1   \n",
              "21523         3    3112.481705         38   среднее             1   \n",
              "21524         2    1984.507589         40   среднее             1   \n",
              "\n",
              "          family_status  family_status_id gender income_type  debt  \\\n",
              "0       женат / замужем                 0      F   сотрудник     0   \n",
              "1       женат / замужем                 0      F   сотрудник     0   \n",
              "2       женат / замужем                 0      M   сотрудник     0   \n",
              "3       женат / замужем                 0      M   сотрудник     0   \n",
              "4      гражданский брак                 1      F   пенсионер     0   \n",
              "...                 ...               ...    ...         ...   ...   \n",
              "21520  гражданский брак                 1      F   компаньон     0   \n",
              "21521   женат / замужем                 0      F   пенсионер     0   \n",
              "21522  гражданский брак                 1      M   сотрудник     1   \n",
              "21523   женат / замужем                 0      M   сотрудник     1   \n",
              "21524   женат / замужем                 0      F   сотрудник     0   \n",
              "\n",
              "       total_income                       purpose total_income_category  \\\n",
              "0            253875                 покупка жилья                     B   \n",
              "1            112080       приобретение автомобиля                     C   \n",
              "2            145885                 покупка жилья                     C   \n",
              "3            267628    дополнительное образование                     B   \n",
              "4            158616               сыграть свадьбу                     C   \n",
              "...             ...                           ...                   ...   \n",
              "21520        224791             операции с жильем                     B   \n",
              "21521        155999          сделка с автомобилем                     C   \n",
              "21522         89672                  недвижимость                     C   \n",
              "21523        244093  на покупку своего автомобиля                     B   \n",
              "21524         82047         на покупку автомобиля                     C   \n",
              "\n",
              "               purpose_category income_group  \n",
              "0      операции с недвижимостью       низкий  \n",
              "1        операции с автомобилем       низкий  \n",
              "2      операции с недвижимостью       низкий  \n",
              "3         получение образования       низкий  \n",
              "4            проведение свадьбы       низкий  \n",
              "...                         ...          ...  \n",
              "21520  операции с недвижимостью       низкий  \n",
              "21521    операции с автомобилем       низкий  \n",
              "21522  операции с недвижимостью       низкий  \n",
              "21523    операции с автомобилем       низкий  \n",
              "21524    операции с автомобилем       низкий  \n",
              "\n",
              "[21331 rows x 15 columns]"
            ]
          },
          "execution_count": 31,
          "metadata": {},
          "output_type": "execute_result"
        }
      ],
      "source": [
        "#Создаём новый столбец с результатами функции\n",
        "data['income_group'] = data['total_income'].apply(income_group)\n",
        "data"
      ]
    },
    {
      "cell_type": "markdown",
      "id": "f057980a",
      "metadata": {
        "id": "f057980a"
      },
      "source": [
        "Сверка результатов:"
      ]
    },
    {
      "cell_type": "code",
      "execution_count": null,
      "id": "7e4bad3f",
      "metadata": {
        "id": "7e4bad3f",
        "outputId": "70b3c30e-3314-40be-bd07-42a6ac097ba8"
      },
      "outputs": [
        {
          "data": {
            "text/html": [
              "<div>\n",
              "<style scoped>\n",
              "    .dataframe tbody tr th:only-of-type {\n",
              "        vertical-align: middle;\n",
              "    }\n",
              "\n",
              "    .dataframe tbody tr th {\n",
              "        vertical-align: top;\n",
              "    }\n",
              "\n",
              "    .dataframe thead th {\n",
              "        text-align: right;\n",
              "    }\n",
              "</style>\n",
              "<table border=\"1\" class=\"dataframe\">\n",
              "  <thead>\n",
              "    <tr style=\"text-align: right;\">\n",
              "      <th></th>\n",
              "      <th>children</th>\n",
              "      <th>days_employed</th>\n",
              "      <th>dob_years</th>\n",
              "      <th>education</th>\n",
              "      <th>education_id</th>\n",
              "      <th>family_status</th>\n",
              "      <th>family_status_id</th>\n",
              "      <th>gender</th>\n",
              "      <th>income_type</th>\n",
              "      <th>debt</th>\n",
              "      <th>total_income</th>\n",
              "      <th>purpose</th>\n",
              "      <th>total_income_category</th>\n",
              "      <th>purpose_category</th>\n",
              "      <th>income_group</th>\n",
              "    </tr>\n",
              "  </thead>\n",
              "  <tbody>\n",
              "    <tr>\n",
              "      <th>14276</th>\n",
              "      <td>0</td>\n",
              "      <td>346602.453782</td>\n",
              "      <td>61</td>\n",
              "      <td>среднее</td>\n",
              "      <td>1</td>\n",
              "      <td>женат / замужем</td>\n",
              "      <td>0</td>\n",
              "      <td>F</td>\n",
              "      <td>пенсионер</td>\n",
              "      <td>0</td>\n",
              "      <td>21895</td>\n",
              "      <td>недвижимость</td>\n",
              "      <td>E</td>\n",
              "      <td>операции с недвижимостью</td>\n",
              "      <td>низкий</td>\n",
              "    </tr>\n",
              "  </tbody>\n",
              "</table>\n",
              "</div>"
            ],
            "text/plain": [
              "       children  days_employed  dob_years education  education_id  \\\n",
              "14276         0  346602.453782         61   среднее             1   \n",
              "\n",
              "         family_status  family_status_id gender income_type  debt  \\\n",
              "14276  женат / замужем                 0      F   пенсионер     0   \n",
              "\n",
              "       total_income       purpose total_income_category  \\\n",
              "14276         21895  недвижимость                     E   \n",
              "\n",
              "               purpose_category income_group  \n",
              "14276  операции с недвижимостью       низкий  "
            ]
          },
          "execution_count": 32,
          "metadata": {},
          "output_type": "execute_result"
        }
      ],
      "source": [
        "data[data['total_income']==21895]"
      ]
    },
    {
      "cell_type": "code",
      "execution_count": null,
      "id": "ab2946c9",
      "metadata": {
        "id": "ab2946c9",
        "outputId": "b4e9d9ca-f233-4fa6-da54-259d910a488b"
      },
      "outputs": [
        {
          "data": {
            "text/html": [
              "<div>\n",
              "<style scoped>\n",
              "    .dataframe tbody tr th:only-of-type {\n",
              "        vertical-align: middle;\n",
              "    }\n",
              "\n",
              "    .dataframe tbody tr th {\n",
              "        vertical-align: top;\n",
              "    }\n",
              "\n",
              "    .dataframe thead th {\n",
              "        text-align: right;\n",
              "    }\n",
              "</style>\n",
              "<table border=\"1\" class=\"dataframe\">\n",
              "  <thead>\n",
              "    <tr style=\"text-align: right;\">\n",
              "      <th></th>\n",
              "      <th>children</th>\n",
              "      <th>days_employed</th>\n",
              "      <th>dob_years</th>\n",
              "      <th>education</th>\n",
              "      <th>education_id</th>\n",
              "      <th>family_status</th>\n",
              "      <th>family_status_id</th>\n",
              "      <th>gender</th>\n",
              "      <th>income_type</th>\n",
              "      <th>debt</th>\n",
              "      <th>total_income</th>\n",
              "      <th>purpose</th>\n",
              "      <th>total_income_category</th>\n",
              "      <th>purpose_category</th>\n",
              "      <th>income_group</th>\n",
              "    </tr>\n",
              "  </thead>\n",
              "  <tbody>\n",
              "    <tr>\n",
              "      <th>39</th>\n",
              "      <td>0</td>\n",
              "      <td>650.587796</td>\n",
              "      <td>31</td>\n",
              "      <td>высшее</td>\n",
              "      <td>0</td>\n",
              "      <td>гражданский брак</td>\n",
              "      <td>1</td>\n",
              "      <td>F</td>\n",
              "      <td>компаньон</td>\n",
              "      <td>0</td>\n",
              "      <td>754240</td>\n",
              "      <td>заняться образованием</td>\n",
              "      <td>B</td>\n",
              "      <td>получение образования</td>\n",
              "      <td>ниже среднего</td>\n",
              "    </tr>\n",
              "    <tr>\n",
              "      <th>68</th>\n",
              "      <td>2</td>\n",
              "      <td>2152.475526</td>\n",
              "      <td>46</td>\n",
              "      <td>высшее</td>\n",
              "      <td>0</td>\n",
              "      <td>женат / замужем</td>\n",
              "      <td>0</td>\n",
              "      <td>M</td>\n",
              "      <td>компаньон</td>\n",
              "      <td>0</td>\n",
              "      <td>592071</td>\n",
              "      <td>операции с коммерческой недвижимостью</td>\n",
              "      <td>B</td>\n",
              "      <td>операции с недвижимостью</td>\n",
              "      <td>ниже среднего</td>\n",
              "    </tr>\n",
              "    <tr>\n",
              "      <th>722</th>\n",
              "      <td>1</td>\n",
              "      <td>541.449660</td>\n",
              "      <td>32</td>\n",
              "      <td>высшее</td>\n",
              "      <td>0</td>\n",
              "      <td>женат / замужем</td>\n",
              "      <td>0</td>\n",
              "      <td>M</td>\n",
              "      <td>компаньон</td>\n",
              "      <td>0</td>\n",
              "      <td>672306</td>\n",
              "      <td>сделка с автомобилем</td>\n",
              "      <td>B</td>\n",
              "      <td>операции с автомобилем</td>\n",
              "      <td>ниже среднего</td>\n",
              "    </tr>\n",
              "    <tr>\n",
              "      <th>725</th>\n",
              "      <td>1</td>\n",
              "      <td>244.421041</td>\n",
              "      <td>56</td>\n",
              "      <td>среднее</td>\n",
              "      <td>1</td>\n",
              "      <td>в разводе</td>\n",
              "      <td>3</td>\n",
              "      <td>F</td>\n",
              "      <td>компаньон</td>\n",
              "      <td>0</td>\n",
              "      <td>596496</td>\n",
              "      <td>заняться высшим образованием</td>\n",
              "      <td>B</td>\n",
              "      <td>получение образования</td>\n",
              "      <td>ниже среднего</td>\n",
              "    </tr>\n",
              "    <tr>\n",
              "      <th>884</th>\n",
              "      <td>0</td>\n",
              "      <td>2308.271667</td>\n",
              "      <td>35</td>\n",
              "      <td>высшее</td>\n",
              "      <td>0</td>\n",
              "      <td>женат / замужем</td>\n",
              "      <td>0</td>\n",
              "      <td>M</td>\n",
              "      <td>госслужащий</td>\n",
              "      <td>0</td>\n",
              "      <td>673040</td>\n",
              "      <td>на покупку своего автомобиля</td>\n",
              "      <td>B</td>\n",
              "      <td>операции с автомобилем</td>\n",
              "      <td>ниже среднего</td>\n",
              "    </tr>\n",
              "    <tr>\n",
              "      <th>...</th>\n",
              "      <td>...</td>\n",
              "      <td>...</td>\n",
              "      <td>...</td>\n",
              "      <td>...</td>\n",
              "      <td>...</td>\n",
              "      <td>...</td>\n",
              "      <td>...</td>\n",
              "      <td>...</td>\n",
              "      <td>...</td>\n",
              "      <td>...</td>\n",
              "      <td>...</td>\n",
              "      <td>...</td>\n",
              "      <td>...</td>\n",
              "      <td>...</td>\n",
              "      <td>...</td>\n",
              "    </tr>\n",
              "    <tr>\n",
              "      <th>20262</th>\n",
              "      <td>0</td>\n",
              "      <td>2456.551956</td>\n",
              "      <td>29</td>\n",
              "      <td>высшее</td>\n",
              "      <td>0</td>\n",
              "      <td>Не женат / не замужем</td>\n",
              "      <td>4</td>\n",
              "      <td>M</td>\n",
              "      <td>компаньон</td>\n",
              "      <td>0</td>\n",
              "      <td>661635</td>\n",
              "      <td>строительство жилой недвижимости</td>\n",
              "      <td>B</td>\n",
              "      <td>операции с недвижимостью</td>\n",
              "      <td>ниже среднего</td>\n",
              "    </tr>\n",
              "    <tr>\n",
              "      <th>20388</th>\n",
              "      <td>1</td>\n",
              "      <td>330469.273975</td>\n",
              "      <td>49</td>\n",
              "      <td>высшее</td>\n",
              "      <td>0</td>\n",
              "      <td>гражданский брак</td>\n",
              "      <td>1</td>\n",
              "      <td>M</td>\n",
              "      <td>пенсионер</td>\n",
              "      <td>0</td>\n",
              "      <td>624655</td>\n",
              "      <td>на проведение свадьбы</td>\n",
              "      <td>B</td>\n",
              "      <td>проведение свадьбы</td>\n",
              "      <td>ниже среднего</td>\n",
              "    </tr>\n",
              "    <tr>\n",
              "      <th>20663</th>\n",
              "      <td>0</td>\n",
              "      <td>1305.382866</td>\n",
              "      <td>42</td>\n",
              "      <td>высшее</td>\n",
              "      <td>0</td>\n",
              "      <td>женат / замужем</td>\n",
              "      <td>0</td>\n",
              "      <td>M</td>\n",
              "      <td>сотрудник</td>\n",
              "      <td>0</td>\n",
              "      <td>647456</td>\n",
              "      <td>операции с коммерческой недвижимостью</td>\n",
              "      <td>B</td>\n",
              "      <td>операции с недвижимостью</td>\n",
              "      <td>ниже среднего</td>\n",
              "    </tr>\n",
              "    <tr>\n",
              "      <th>21295</th>\n",
              "      <td>0</td>\n",
              "      <td>352.048655</td>\n",
              "      <td>51</td>\n",
              "      <td>высшее</td>\n",
              "      <td>0</td>\n",
              "      <td>Не женат / не замужем</td>\n",
              "      <td>4</td>\n",
              "      <td>F</td>\n",
              "      <td>сотрудник</td>\n",
              "      <td>0</td>\n",
              "      <td>816023</td>\n",
              "      <td>приобретение автомобиля</td>\n",
              "      <td>B</td>\n",
              "      <td>операции с автомобилем</td>\n",
              "      <td>ниже среднего</td>\n",
              "    </tr>\n",
              "    <tr>\n",
              "      <th>21392</th>\n",
              "      <td>2</td>\n",
              "      <td>1644.111448</td>\n",
              "      <td>35</td>\n",
              "      <td>высшее</td>\n",
              "      <td>0</td>\n",
              "      <td>женат / замужем</td>\n",
              "      <td>0</td>\n",
              "      <td>M</td>\n",
              "      <td>компаньон</td>\n",
              "      <td>0</td>\n",
              "      <td>636515</td>\n",
              "      <td>строительство собственной недвижимости</td>\n",
              "      <td>B</td>\n",
              "      <td>операции с недвижимостью</td>\n",
              "      <td>ниже среднего</td>\n",
              "    </tr>\n",
              "  </tbody>\n",
              "</table>\n",
              "<p>109 rows × 15 columns</p>\n",
              "</div>"
            ],
            "text/plain": [
              "       children  days_employed  dob_years education  education_id  \\\n",
              "39            0     650.587796         31    высшее             0   \n",
              "68            2    2152.475526         46    высшее             0   \n",
              "722           1     541.449660         32    высшее             0   \n",
              "725           1     244.421041         56   среднее             1   \n",
              "884           0    2308.271667         35    высшее             0   \n",
              "...         ...            ...        ...       ...           ...   \n",
              "20262         0    2456.551956         29    высшее             0   \n",
              "20388         1  330469.273975         49    высшее             0   \n",
              "20663         0    1305.382866         42    высшее             0   \n",
              "21295         0     352.048655         51    высшее             0   \n",
              "21392         2    1644.111448         35    высшее             0   \n",
              "\n",
              "               family_status  family_status_id gender  income_type  debt  \\\n",
              "39          гражданский брак                 1      F    компаньон     0   \n",
              "68           женат / замужем                 0      M    компаньон     0   \n",
              "722          женат / замужем                 0      M    компаньон     0   \n",
              "725                в разводе                 3      F    компаньон     0   \n",
              "884          женат / замужем                 0      M  госслужащий     0   \n",
              "...                      ...               ...    ...          ...   ...   \n",
              "20262  Не женат / не замужем                 4      M    компаньон     0   \n",
              "20388       гражданский брак                 1      M    пенсионер     0   \n",
              "20663        женат / замужем                 0      M    сотрудник     0   \n",
              "21295  Не женат / не замужем                 4      F    сотрудник     0   \n",
              "21392        женат / замужем                 0      M    компаньон     0   \n",
              "\n",
              "       total_income                                 purpose  \\\n",
              "39           754240                   заняться образованием   \n",
              "68           592071   операции с коммерческой недвижимостью   \n",
              "722          672306                    сделка с автомобилем   \n",
              "725          596496            заняться высшим образованием   \n",
              "884          673040            на покупку своего автомобиля   \n",
              "...             ...                                     ...   \n",
              "20262        661635        строительство жилой недвижимости   \n",
              "20388        624655                   на проведение свадьбы   \n",
              "20663        647456   операции с коммерческой недвижимостью   \n",
              "21295        816023                 приобретение автомобиля   \n",
              "21392        636515  строительство собственной недвижимости   \n",
              "\n",
              "      total_income_category          purpose_category   income_group  \n",
              "39                        B     получение образования  ниже среднего  \n",
              "68                        B  операции с недвижимостью  ниже среднего  \n",
              "722                       B    операции с автомобилем  ниже среднего  \n",
              "725                       B     получение образования  ниже среднего  \n",
              "884                       B    операции с автомобилем  ниже среднего  \n",
              "...                     ...                       ...            ...  \n",
              "20262                     B  операции с недвижимостью  ниже среднего  \n",
              "20388                     B        проведение свадьбы  ниже среднего  \n",
              "20663                     B  операции с недвижимостью  ниже среднего  \n",
              "21295                     B    операции с автомобилем  ниже среднего  \n",
              "21392                     B  операции с недвижимостью  ниже среднего  \n",
              "\n",
              "[109 rows x 15 columns]"
            ]
          },
          "execution_count": 33,
          "metadata": {},
          "output_type": "execute_result"
        }
      ],
      "source": [
        "data[data['income_group']=='ниже среднего']"
      ]
    },
    {
      "cell_type": "code",
      "execution_count": null,
      "id": "1e549860",
      "metadata": {
        "id": "1e549860",
        "outputId": "6d92d2d7-ab27-4d5f-a033-b0537489e3a3"
      },
      "outputs": [
        {
          "data": {
            "text/html": [
              "<div>\n",
              "<style scoped>\n",
              "    .dataframe tbody tr th:only-of-type {\n",
              "        vertical-align: middle;\n",
              "    }\n",
              "\n",
              "    .dataframe tbody tr th {\n",
              "        vertical-align: top;\n",
              "    }\n",
              "\n",
              "    .dataframe thead th {\n",
              "        text-align: right;\n",
              "    }\n",
              "</style>\n",
              "<table border=\"1\" class=\"dataframe\">\n",
              "  <thead>\n",
              "    <tr style=\"text-align: right;\">\n",
              "      <th></th>\n",
              "      <th>children</th>\n",
              "      <th>days_employed</th>\n",
              "      <th>dob_years</th>\n",
              "      <th>education</th>\n",
              "      <th>education_id</th>\n",
              "      <th>family_status</th>\n",
              "      <th>family_status_id</th>\n",
              "      <th>gender</th>\n",
              "      <th>income_type</th>\n",
              "      <th>debt</th>\n",
              "      <th>total_income</th>\n",
              "      <th>purpose</th>\n",
              "      <th>total_income_category</th>\n",
              "      <th>purpose_category</th>\n",
              "      <th>income_group</th>\n",
              "    </tr>\n",
              "  </thead>\n",
              "  <tbody>\n",
              "    <tr>\n",
              "      <th>2224</th>\n",
              "      <td>1</td>\n",
              "      <td>4614.851849</td>\n",
              "      <td>42</td>\n",
              "      <td>высшее</td>\n",
              "      <td>0</td>\n",
              "      <td>женат / замужем</td>\n",
              "      <td>0</td>\n",
              "      <td>M</td>\n",
              "      <td>сотрудник</td>\n",
              "      <td>0</td>\n",
              "      <td>1278622</td>\n",
              "      <td>покупка жилья</td>\n",
              "      <td>A</td>\n",
              "      <td>операции с недвижимостью</td>\n",
              "      <td>выше среднего</td>\n",
              "    </tr>\n",
              "    <tr>\n",
              "      <th>7447</th>\n",
              "      <td>0</td>\n",
              "      <td>8626.777234</td>\n",
              "      <td>39</td>\n",
              "      <td>среднее</td>\n",
              "      <td>1</td>\n",
              "      <td>в разводе</td>\n",
              "      <td>3</td>\n",
              "      <td>F</td>\n",
              "      <td>сотрудник</td>\n",
              "      <td>0</td>\n",
              "      <td>1240165</td>\n",
              "      <td>покупка недвижимости</td>\n",
              "      <td>A</td>\n",
              "      <td>операции с недвижимостью</td>\n",
              "      <td>выше среднего</td>\n",
              "    </tr>\n",
              "    <tr>\n",
              "      <th>11071</th>\n",
              "      <td>1</td>\n",
              "      <td>1851.200013</td>\n",
              "      <td>36</td>\n",
              "      <td>высшее</td>\n",
              "      <td>0</td>\n",
              "      <td>гражданский брак</td>\n",
              "      <td>1</td>\n",
              "      <td>F</td>\n",
              "      <td>сотрудник</td>\n",
              "      <td>0</td>\n",
              "      <td>1286280</td>\n",
              "      <td>покупка коммерческой недвижимости</td>\n",
              "      <td>A</td>\n",
              "      <td>операции с недвижимостью</td>\n",
              "      <td>выше среднего</td>\n",
              "    </tr>\n",
              "    <tr>\n",
              "      <th>15211</th>\n",
              "      <td>0</td>\n",
              "      <td>2009.086175</td>\n",
              "      <td>34</td>\n",
              "      <td>среднее</td>\n",
              "      <td>1</td>\n",
              "      <td>женат / замужем</td>\n",
              "      <td>0</td>\n",
              "      <td>F</td>\n",
              "      <td>сотрудник</td>\n",
              "      <td>0</td>\n",
              "      <td>1172459</td>\n",
              "      <td>получение образования</td>\n",
              "      <td>A</td>\n",
              "      <td>получение образования</td>\n",
              "      <td>выше среднего</td>\n",
              "    </tr>\n",
              "    <tr>\n",
              "      <th>15268</th>\n",
              "      <td>1</td>\n",
              "      <td>10207.448165</td>\n",
              "      <td>64</td>\n",
              "      <td>высшее</td>\n",
              "      <td>0</td>\n",
              "      <td>в разводе</td>\n",
              "      <td>3</td>\n",
              "      <td>M</td>\n",
              "      <td>компаньон</td>\n",
              "      <td>0</td>\n",
              "      <td>1350245</td>\n",
              "      <td>жилье</td>\n",
              "      <td>A</td>\n",
              "      <td>операции с недвижимостью</td>\n",
              "      <td>выше среднего</td>\n",
              "    </tr>\n",
              "    <tr>\n",
              "      <th>17503</th>\n",
              "      <td>0</td>\n",
              "      <td>2285.476482</td>\n",
              "      <td>43</td>\n",
              "      <td>среднее</td>\n",
              "      <td>1</td>\n",
              "      <td>женат / замужем</td>\n",
              "      <td>0</td>\n",
              "      <td>M</td>\n",
              "      <td>компаньон</td>\n",
              "      <td>0</td>\n",
              "      <td>1597613</td>\n",
              "      <td>операции с недвижимостью</td>\n",
              "      <td>A</td>\n",
              "      <td>операции с недвижимостью</td>\n",
              "      <td>выше среднего</td>\n",
              "    </tr>\n",
              "    <tr>\n",
              "      <th>18353</th>\n",
              "      <td>1</td>\n",
              "      <td>3173.282035</td>\n",
              "      <td>41</td>\n",
              "      <td>высшее</td>\n",
              "      <td>0</td>\n",
              "      <td>Не женат / не замужем</td>\n",
              "      <td>4</td>\n",
              "      <td>F</td>\n",
              "      <td>компаньон</td>\n",
              "      <td>0</td>\n",
              "      <td>1427934</td>\n",
              "      <td>автомобиль</td>\n",
              "      <td>A</td>\n",
              "      <td>операции с автомобилем</td>\n",
              "      <td>выше среднего</td>\n",
              "    </tr>\n",
              "    <tr>\n",
              "      <th>18368</th>\n",
              "      <td>1</td>\n",
              "      <td>333.935516</td>\n",
              "      <td>41</td>\n",
              "      <td>высшее</td>\n",
              "      <td>0</td>\n",
              "      <td>гражданский брак</td>\n",
              "      <td>1</td>\n",
              "      <td>M</td>\n",
              "      <td>компаньон</td>\n",
              "      <td>0</td>\n",
              "      <td>1551152</td>\n",
              "      <td>свадьба</td>\n",
              "      <td>A</td>\n",
              "      <td>проведение свадьбы</td>\n",
              "      <td>выше среднего</td>\n",
              "    </tr>\n",
              "    <tr>\n",
              "      <th>19813</th>\n",
              "      <td>0</td>\n",
              "      <td>2672.323106</td>\n",
              "      <td>50</td>\n",
              "      <td>высшее</td>\n",
              "      <td>0</td>\n",
              "      <td>женат / замужем</td>\n",
              "      <td>0</td>\n",
              "      <td>F</td>\n",
              "      <td>компаньон</td>\n",
              "      <td>0</td>\n",
              "      <td>1223042</td>\n",
              "      <td>покупка коммерческой недвижимости</td>\n",
              "      <td>A</td>\n",
              "      <td>операции с недвижимостью</td>\n",
              "      <td>выше среднего</td>\n",
              "    </tr>\n",
              "  </tbody>\n",
              "</table>\n",
              "</div>"
            ],
            "text/plain": [
              "       children  days_employed  dob_years education  education_id  \\\n",
              "2224          1    4614.851849         42    высшее             0   \n",
              "7447          0    8626.777234         39   среднее             1   \n",
              "11071         1    1851.200013         36    высшее             0   \n",
              "15211         0    2009.086175         34   среднее             1   \n",
              "15268         1   10207.448165         64    высшее             0   \n",
              "17503         0    2285.476482         43   среднее             1   \n",
              "18353         1    3173.282035         41    высшее             0   \n",
              "18368         1     333.935516         41    высшее             0   \n",
              "19813         0    2672.323106         50    высшее             0   \n",
              "\n",
              "               family_status  family_status_id gender income_type  debt  \\\n",
              "2224         женат / замужем                 0      M   сотрудник     0   \n",
              "7447               в разводе                 3      F   сотрудник     0   \n",
              "11071       гражданский брак                 1      F   сотрудник     0   \n",
              "15211        женат / замужем                 0      F   сотрудник     0   \n",
              "15268              в разводе                 3      M   компаньон     0   \n",
              "17503        женат / замужем                 0      M   компаньон     0   \n",
              "18353  Не женат / не замужем                 4      F   компаньон     0   \n",
              "18368       гражданский брак                 1      M   компаньон     0   \n",
              "19813        женат / замужем                 0      F   компаньон     0   \n",
              "\n",
              "       total_income                            purpose total_income_category  \\\n",
              "2224        1278622                      покупка жилья                     A   \n",
              "7447        1240165               покупка недвижимости                     A   \n",
              "11071       1286280  покупка коммерческой недвижимости                     A   \n",
              "15211       1172459              получение образования                     A   \n",
              "15268       1350245                              жилье                     A   \n",
              "17503       1597613           операции с недвижимостью                     A   \n",
              "18353       1427934                         автомобиль                     A   \n",
              "18368       1551152                            свадьба                     A   \n",
              "19813       1223042  покупка коммерческой недвижимости                     A   \n",
              "\n",
              "               purpose_category   income_group  \n",
              "2224   операции с недвижимостью  выше среднего  \n",
              "7447   операции с недвижимостью  выше среднего  \n",
              "11071  операции с недвижимостью  выше среднего  \n",
              "15211     получение образования  выше среднего  \n",
              "15268  операции с недвижимостью  выше среднего  \n",
              "17503  операции с недвижимостью  выше среднего  \n",
              "18353    операции с автомобилем  выше среднего  \n",
              "18368        проведение свадьбы  выше среднего  \n",
              "19813  операции с недвижимостью  выше среднего  "
            ]
          },
          "execution_count": 34,
          "metadata": {},
          "output_type": "execute_result"
        }
      ],
      "source": [
        "data[data['income_group']=='выше среднего']"
      ]
    },
    {
      "cell_type": "code",
      "execution_count": null,
      "id": "458c62ba",
      "metadata": {
        "id": "458c62ba",
        "outputId": "5b6cf2e0-a256-4970-9efb-46759aeb1bc1"
      },
      "outputs": [
        {
          "data": {
            "text/html": [
              "<div>\n",
              "<style scoped>\n",
              "    .dataframe tbody tr th:only-of-type {\n",
              "        vertical-align: middle;\n",
              "    }\n",
              "\n",
              "    .dataframe tbody tr th {\n",
              "        vertical-align: top;\n",
              "    }\n",
              "\n",
              "    .dataframe thead th {\n",
              "        text-align: right;\n",
              "    }\n",
              "</style>\n",
              "<table border=\"1\" class=\"dataframe\">\n",
              "  <thead>\n",
              "    <tr style=\"text-align: right;\">\n",
              "      <th></th>\n",
              "      <th>children</th>\n",
              "      <th>days_employed</th>\n",
              "      <th>dob_years</th>\n",
              "      <th>education</th>\n",
              "      <th>education_id</th>\n",
              "      <th>family_status</th>\n",
              "      <th>family_status_id</th>\n",
              "      <th>gender</th>\n",
              "      <th>income_type</th>\n",
              "      <th>debt</th>\n",
              "      <th>total_income</th>\n",
              "      <th>purpose</th>\n",
              "      <th>total_income_category</th>\n",
              "      <th>purpose_category</th>\n",
              "      <th>income_group</th>\n",
              "    </tr>\n",
              "  </thead>\n",
              "  <tbody>\n",
              "    <tr>\n",
              "      <th>9169</th>\n",
              "      <td>1</td>\n",
              "      <td>5248.554336</td>\n",
              "      <td>35</td>\n",
              "      <td>среднее</td>\n",
              "      <td>1</td>\n",
              "      <td>гражданский брак</td>\n",
              "      <td>1</td>\n",
              "      <td>M</td>\n",
              "      <td>сотрудник</td>\n",
              "      <td>0</td>\n",
              "      <td>1726276</td>\n",
              "      <td>дополнительное образование</td>\n",
              "      <td>A</td>\n",
              "      <td>получение образования</td>\n",
              "      <td>высокий</td>\n",
              "    </tr>\n",
              "    <tr>\n",
              "      <th>12412</th>\n",
              "      <td>0</td>\n",
              "      <td>1477.438114</td>\n",
              "      <td>44</td>\n",
              "      <td>высшее</td>\n",
              "      <td>0</td>\n",
              "      <td>женат / замужем</td>\n",
              "      <td>0</td>\n",
              "      <td>M</td>\n",
              "      <td>компаньон</td>\n",
              "      <td>0</td>\n",
              "      <td>2265604</td>\n",
              "      <td>ремонт жилью</td>\n",
              "      <td>A</td>\n",
              "      <td>операции с недвижимостью</td>\n",
              "      <td>высокий</td>\n",
              "    </tr>\n",
              "    <tr>\n",
              "      <th>17178</th>\n",
              "      <td>0</td>\n",
              "      <td>5734.127087</td>\n",
              "      <td>42</td>\n",
              "      <td>высшее</td>\n",
              "      <td>0</td>\n",
              "      <td>гражданский брак</td>\n",
              "      <td>1</td>\n",
              "      <td>M</td>\n",
              "      <td>компаньон</td>\n",
              "      <td>0</td>\n",
              "      <td>1711309</td>\n",
              "      <td>сыграть свадьбу</td>\n",
              "      <td>A</td>\n",
              "      <td>проведение свадьбы</td>\n",
              "      <td>высокий</td>\n",
              "    </tr>\n",
              "    <tr>\n",
              "      <th>19606</th>\n",
              "      <td>1</td>\n",
              "      <td>2577.664662</td>\n",
              "      <td>39</td>\n",
              "      <td>высшее</td>\n",
              "      <td>0</td>\n",
              "      <td>женат / замужем</td>\n",
              "      <td>0</td>\n",
              "      <td>M</td>\n",
              "      <td>компаньон</td>\n",
              "      <td>1</td>\n",
              "      <td>2200852</td>\n",
              "      <td>строительство недвижимости</td>\n",
              "      <td>A</td>\n",
              "      <td>операции с недвижимостью</td>\n",
              "      <td>высокий</td>\n",
              "    </tr>\n",
              "    <tr>\n",
              "      <th>20809</th>\n",
              "      <td>0</td>\n",
              "      <td>4719.273476</td>\n",
              "      <td>61</td>\n",
              "      <td>среднее</td>\n",
              "      <td>1</td>\n",
              "      <td>Не женат / не замужем</td>\n",
              "      <td>4</td>\n",
              "      <td>F</td>\n",
              "      <td>сотрудник</td>\n",
              "      <td>0</td>\n",
              "      <td>1715018</td>\n",
              "      <td>покупка жилья для семьи</td>\n",
              "      <td>A</td>\n",
              "      <td>операции с недвижимостью</td>\n",
              "      <td>высокий</td>\n",
              "    </tr>\n",
              "  </tbody>\n",
              "</table>\n",
              "</div>"
            ],
            "text/plain": [
              "       children  days_employed  dob_years education  education_id  \\\n",
              "9169          1    5248.554336         35   среднее             1   \n",
              "12412         0    1477.438114         44    высшее             0   \n",
              "17178         0    5734.127087         42    высшее             0   \n",
              "19606         1    2577.664662         39    высшее             0   \n",
              "20809         0    4719.273476         61   среднее             1   \n",
              "\n",
              "               family_status  family_status_id gender income_type  debt  \\\n",
              "9169        гражданский брак                 1      M   сотрудник     0   \n",
              "12412        женат / замужем                 0      M   компаньон     0   \n",
              "17178       гражданский брак                 1      M   компаньон     0   \n",
              "19606        женат / замужем                 0      M   компаньон     1   \n",
              "20809  Не женат / не замужем                 4      F   сотрудник     0   \n",
              "\n",
              "       total_income                     purpose total_income_category  \\\n",
              "9169        1726276  дополнительное образование                     A   \n",
              "12412       2265604                ремонт жилью                     A   \n",
              "17178       1711309             сыграть свадьбу                     A   \n",
              "19606       2200852  строительство недвижимости                     A   \n",
              "20809       1715018     покупка жилья для семьи                     A   \n",
              "\n",
              "               purpose_category income_group  \n",
              "9169      получение образования      высокий  \n",
              "12412  операции с недвижимостью      высокий  \n",
              "17178        проведение свадьбы      высокий  \n",
              "19606  операции с недвижимостью      высокий  \n",
              "20809  операции с недвижимостью      высокий  "
            ]
          },
          "execution_count": 35,
          "metadata": {},
          "output_type": "execute_result"
        }
      ],
      "source": [
        "data[data['income_group']=='высокий']"
      ]
    },
    {
      "cell_type": "code",
      "execution_count": null,
      "id": "e007f2a8",
      "metadata": {
        "id": "e007f2a8",
        "outputId": "58eba0fe-4279-4555-a8c4-2d549f19f419"
      },
      "outputs": [
        {
          "data": {
            "text/html": [
              "<div>\n",
              "<style scoped>\n",
              "    .dataframe tbody tr th:only-of-type {\n",
              "        vertical-align: middle;\n",
              "    }\n",
              "\n",
              "    .dataframe tbody tr th {\n",
              "        vertical-align: top;\n",
              "    }\n",
              "\n",
              "    .dataframe thead tr th {\n",
              "        text-align: left;\n",
              "    }\n",
              "\n",
              "    .dataframe thead tr:last-of-type th {\n",
              "        text-align: right;\n",
              "    }\n",
              "</style>\n",
              "<table border=\"1\" class=\"dataframe\">\n",
              "  <thead>\n",
              "    <tr>\n",
              "      <th></th>\n",
              "      <th>count</th>\n",
              "      <th>sum</th>\n",
              "      <th>ratio</th>\n",
              "    </tr>\n",
              "    <tr>\n",
              "      <th></th>\n",
              "      <th>debt</th>\n",
              "      <th>debt</th>\n",
              "      <th></th>\n",
              "    </tr>\n",
              "    <tr>\n",
              "      <th>income_group</th>\n",
              "      <th></th>\n",
              "      <th></th>\n",
              "      <th></th>\n",
              "    </tr>\n",
              "  </thead>\n",
              "  <tbody>\n",
              "    <tr>\n",
              "      <th>высокий</th>\n",
              "      <td>5</td>\n",
              "      <td>1</td>\n",
              "      <td>0.20000</td>\n",
              "    </tr>\n",
              "    <tr>\n",
              "      <th>выше среднего</th>\n",
              "      <td>9</td>\n",
              "      <td>0</td>\n",
              "      <td>0.00000</td>\n",
              "    </tr>\n",
              "    <tr>\n",
              "      <th>ниже среднего</th>\n",
              "      <td>109</td>\n",
              "      <td>7</td>\n",
              "      <td>0.06422</td>\n",
              "    </tr>\n",
              "    <tr>\n",
              "      <th>низкий</th>\n",
              "      <td>21208</td>\n",
              "      <td>1724</td>\n",
              "      <td>0.08129</td>\n",
              "    </tr>\n",
              "  </tbody>\n",
              "</table>\n",
              "</div>"
            ],
            "text/plain": [
              "               count   sum    ratio\n",
              "                debt  debt         \n",
              "income_group                       \n",
              "высокий            5     1  0.20000\n",
              "выше среднего      9     0  0.00000\n",
              "ниже среднего    109     7  0.06422\n",
              "низкий         21208  1724  0.08129"
            ]
          },
          "execution_count": 36,
          "metadata": {},
          "output_type": "execute_result"
        }
      ],
      "source": [
        "#Создаём сводную таблицу, как и в предыщущих пунктах\n",
        "debt_income_group_pivot = data.pivot_table(index='income_group', values='debt', aggfunc=['count', 'sum'])\n",
        "debt_income_group_pivot['ratio'] = debt_income_group_pivot['sum']/debt_income_group_pivot['count']\n",
        "debt_income_group_pivot"
      ]
    },
    {
      "cell_type": "markdown",
      "id": "69eafd06",
      "metadata": {
        "id": "69eafd06"
      },
      "source": [
        "##### Второй способ категоризации"
      ]
    },
    {
      "cell_type": "code",
      "execution_count": null,
      "id": "13a9eb6f",
      "metadata": {
        "id": "13a9eb6f",
        "outputId": "1e948222-0d8b-41da-af96-2b4ef0eab192"
      },
      "outputs": [
        {
          "data": {
            "text/html": [
              "<div>\n",
              "<style scoped>\n",
              "    .dataframe tbody tr th:only-of-type {\n",
              "        vertical-align: middle;\n",
              "    }\n",
              "\n",
              "    .dataframe tbody tr th {\n",
              "        vertical-align: top;\n",
              "    }\n",
              "\n",
              "    .dataframe thead tr th {\n",
              "        text-align: left;\n",
              "    }\n",
              "\n",
              "    .dataframe thead tr:last-of-type th {\n",
              "        text-align: right;\n",
              "    }\n",
              "</style>\n",
              "<table border=\"1\" class=\"dataframe\">\n",
              "  <thead>\n",
              "    <tr>\n",
              "      <th></th>\n",
              "      <th>count</th>\n",
              "      <th>sum</th>\n",
              "      <th>ratio</th>\n",
              "    </tr>\n",
              "    <tr>\n",
              "      <th></th>\n",
              "      <th>debt</th>\n",
              "      <th>debt</th>\n",
              "      <th></th>\n",
              "    </tr>\n",
              "    <tr>\n",
              "      <th>total_income_category</th>\n",
              "      <th></th>\n",
              "      <th></th>\n",
              "      <th></th>\n",
              "    </tr>\n",
              "  </thead>\n",
              "  <tbody>\n",
              "    <tr>\n",
              "      <th>A</th>\n",
              "      <td>25</td>\n",
              "      <td>2</td>\n",
              "      <td>0.080000</td>\n",
              "    </tr>\n",
              "    <tr>\n",
              "      <th>B</th>\n",
              "      <td>5014</td>\n",
              "      <td>354</td>\n",
              "      <td>0.070602</td>\n",
              "    </tr>\n",
              "    <tr>\n",
              "      <th>C</th>\n",
              "      <td>15921</td>\n",
              "      <td>1353</td>\n",
              "      <td>0.084982</td>\n",
              "    </tr>\n",
              "    <tr>\n",
              "      <th>D</th>\n",
              "      <td>349</td>\n",
              "      <td>21</td>\n",
              "      <td>0.060172</td>\n",
              "    </tr>\n",
              "    <tr>\n",
              "      <th>E</th>\n",
              "      <td>22</td>\n",
              "      <td>2</td>\n",
              "      <td>0.090909</td>\n",
              "    </tr>\n",
              "  </tbody>\n",
              "</table>\n",
              "</div>"
            ],
            "text/plain": [
              "                       count   sum     ratio\n",
              "                        debt  debt          \n",
              "total_income_category                       \n",
              "A                         25     2  0.080000\n",
              "B                       5014   354  0.070602\n",
              "C                      15921  1353  0.084982\n",
              "D                        349    21  0.060172\n",
              "E                         22     2  0.090909"
            ]
          },
          "execution_count": 37,
          "metadata": {},
          "output_type": "execute_result"
        }
      ],
      "source": [
        "#Сводная таблица по категориям дохода п.16\n",
        "debt_total_income_group_pivot = data.pivot_table(index='total_income_category', values='debt', aggfunc=['count', 'sum'])\n",
        "debt_total_income_group_pivot['ratio'] = debt_total_income_group_pivot['sum']/debt_total_income_group_pivot['count']\n",
        "debt_total_income_group_pivot"
      ]
    },
    {
      "cell_type": "markdown",
      "id": "b2c0bb65",
      "metadata": {
        "id": "b2c0bb65"
      },
      "source": [
        "**Вывод:** Основываясь на категоризации из п.16 мы получаем только 2 категории с достаточным количеством данных для вывода: B и C. Клиент, принадлежащий категории B более вероятно оплатит по долгам, чем клиент из категории C."
      ]
    },
    {
      "cell_type": "markdown",
      "id": "1746b9f6",
      "metadata": {
        "id": "1746b9f6"
      },
      "source": [
        "##### Третий способ категоризировать доходы (qcut)"
      ]
    },
    {
      "cell_type": "code",
      "execution_count": null,
      "id": "1c243191",
      "metadata": {
        "id": "1c243191",
        "outputId": "695b6dba-8adb-438b-dc4f-4f8b55bb1136"
      },
      "outputs": [
        {
          "data": {
            "text/plain": [
              "0             high\n",
              "1        lower_avg\n",
              "2              avg\n",
              "3             high\n",
              "4              avg\n",
              "           ...    \n",
              "21520         high\n",
              "21521          avg\n",
              "21522          low\n",
              "21523         high\n",
              "21524          low\n",
              "Name: third_income_cat, Length: 21331, dtype: category\n",
              "Categories (5, object): ['low' < 'lower_avg' < 'avg' < 'higher_avg' < 'high']"
            ]
          },
          "execution_count": 38,
          "metadata": {},
          "output_type": "execute_result"
        }
      ],
      "source": [
        "data['third_income_cat'] = pd.qcut(x=data['total_income'], q=5, labels=['low', 'lower_avg', 'avg', 'higher_avg', 'high'])\n",
        "data['third_income_cat']"
      ]
    },
    {
      "cell_type": "code",
      "execution_count": null,
      "id": "55ca0d56",
      "metadata": {
        "id": "55ca0d56",
        "outputId": "6e925c54-3a8b-4560-87a7-7334ca3669a0"
      },
      "outputs": [
        {
          "data": {
            "text/html": [
              "<div>\n",
              "<style scoped>\n",
              "    .dataframe tbody tr th:only-of-type {\n",
              "        vertical-align: middle;\n",
              "    }\n",
              "\n",
              "    .dataframe tbody tr th {\n",
              "        vertical-align: top;\n",
              "    }\n",
              "\n",
              "    .dataframe thead tr th {\n",
              "        text-align: left;\n",
              "    }\n",
              "\n",
              "    .dataframe thead tr:last-of-type th {\n",
              "        text-align: right;\n",
              "    }\n",
              "</style>\n",
              "<table border=\"1\" class=\"dataframe\">\n",
              "  <thead>\n",
              "    <tr>\n",
              "      <th></th>\n",
              "      <th>count</th>\n",
              "      <th>sum</th>\n",
              "      <th>ratio</th>\n",
              "    </tr>\n",
              "    <tr>\n",
              "      <th></th>\n",
              "      <th>debt</th>\n",
              "      <th>debt</th>\n",
              "      <th></th>\n",
              "    </tr>\n",
              "    <tr>\n",
              "      <th>third_income_cat</th>\n",
              "      <th></th>\n",
              "      <th></th>\n",
              "      <th></th>\n",
              "    </tr>\n",
              "  </thead>\n",
              "  <tbody>\n",
              "    <tr>\n",
              "      <th>low</th>\n",
              "      <td>4267</td>\n",
              "      <td>344</td>\n",
              "      <td>0.080619</td>\n",
              "    </tr>\n",
              "    <tr>\n",
              "      <th>lower_avg</th>\n",
              "      <td>4266</td>\n",
              "      <td>358</td>\n",
              "      <td>0.083919</td>\n",
              "    </tr>\n",
              "    <tr>\n",
              "      <th>avg</th>\n",
              "      <td>4266</td>\n",
              "      <td>373</td>\n",
              "      <td>0.087436</td>\n",
              "    </tr>\n",
              "    <tr>\n",
              "      <th>higher_avg</th>\n",
              "      <td>4266</td>\n",
              "      <td>358</td>\n",
              "      <td>0.083919</td>\n",
              "    </tr>\n",
              "    <tr>\n",
              "      <th>high</th>\n",
              "      <td>4266</td>\n",
              "      <td>299</td>\n",
              "      <td>0.070089</td>\n",
              "    </tr>\n",
              "  </tbody>\n",
              "</table>\n",
              "</div>"
            ],
            "text/plain": [
              "                 count  sum     ratio\n",
              "                  debt debt          \n",
              "third_income_cat                     \n",
              "low               4267  344  0.080619\n",
              "lower_avg         4266  358  0.083919\n",
              "avg               4266  373  0.087436\n",
              "higher_avg        4266  358  0.083919\n",
              "high              4266  299  0.070089"
            ]
          },
          "execution_count": 39,
          "metadata": {},
          "output_type": "execute_result"
        }
      ],
      "source": [
        "#Сводная таблица по категориям из qcut()\n",
        "debt_third_income_cat_pivot = data.pivot_table(index='third_income_cat', values='debt', aggfunc=['count', 'sum'])\n",
        "debt_third_income_cat_pivot['ratio'] = debt_third_income_cat_pivot['sum']/debt_third_income_cat_pivot['count']\n",
        "debt_third_income_cat_pivot"
      ]
    },
    {
      "cell_type": "markdown",
      "id": "914e7dd1",
      "metadata": {
        "id": "914e7dd1"
      },
      "source": [
        "**Вывод**: после применения qcut() мы получили равные по размерам категории, которые можно сравнить (по сравнению с прошлыми, где можно было сравнить только 2 группы клиентов). Из таблицы видно, что клиенты с самым высоким уровнем дохода наиболее вероятно останутся без долгов, потом идут клиенты с самыми низкими доходами (они вернут долг с меньшей вероятностью), а вероятность оставшихся категорий одинаково мала. Результаты этой таблицы мы и будет использовать в общем выводе."
      ]
    },
    {
      "cell_type": "markdown",
      "id": "402ed159",
      "metadata": {
        "deletable": false,
        "editable": false,
        "id": "402ed159"
      },
      "source": [
        "#### 3.4 Как разные цели кредита влияют на его возврат в срок?"
      ]
    },
    {
      "cell_type": "code",
      "execution_count": null,
      "id": "55f760b3",
      "metadata": {
        "deletable": false,
        "id": "55f760b3",
        "outputId": "7eec503f-3662-4277-9c5d-73cb72030576"
      },
      "outputs": [
        {
          "data": {
            "text/plain": [
              "операции с недвижимостью    10751\n",
              "операции с автомобилем       4279\n",
              "получение образования        3988\n",
              "проведение свадьбы           2313\n",
              "Name: purpose_category, dtype: int64"
            ]
          },
          "execution_count": 40,
          "metadata": {},
          "output_type": "execute_result"
        }
      ],
      "source": [
        "#В целях есть следующие категории:\n",
        "data['purpose_category'].value_counts()"
      ]
    },
    {
      "cell_type": "code",
      "execution_count": null,
      "id": "f61fd6a7",
      "metadata": {
        "id": "f61fd6a7",
        "outputId": "20bd6562-9cfd-4044-de72-745a1da439a3"
      },
      "outputs": [
        {
          "data": {
            "text/html": [
              "<div>\n",
              "<style scoped>\n",
              "    .dataframe tbody tr th:only-of-type {\n",
              "        vertical-align: middle;\n",
              "    }\n",
              "\n",
              "    .dataframe tbody tr th {\n",
              "        vertical-align: top;\n",
              "    }\n",
              "\n",
              "    .dataframe thead tr th {\n",
              "        text-align: left;\n",
              "    }\n",
              "\n",
              "    .dataframe thead tr:last-of-type th {\n",
              "        text-align: right;\n",
              "    }\n",
              "</style>\n",
              "<table border=\"1\" class=\"dataframe\">\n",
              "  <thead>\n",
              "    <tr>\n",
              "      <th></th>\n",
              "      <th>count</th>\n",
              "      <th>sum</th>\n",
              "      <th>ratio</th>\n",
              "    </tr>\n",
              "    <tr>\n",
              "      <th></th>\n",
              "      <th>debt</th>\n",
              "      <th>debt</th>\n",
              "      <th></th>\n",
              "    </tr>\n",
              "    <tr>\n",
              "      <th>purpose_category</th>\n",
              "      <th></th>\n",
              "      <th></th>\n",
              "      <th></th>\n",
              "    </tr>\n",
              "  </thead>\n",
              "  <tbody>\n",
              "    <tr>\n",
              "      <th>операции с автомобилем</th>\n",
              "      <td>4279</td>\n",
              "      <td>400</td>\n",
              "      <td>0.093480</td>\n",
              "    </tr>\n",
              "    <tr>\n",
              "      <th>операции с недвижимостью</th>\n",
              "      <td>10751</td>\n",
              "      <td>780</td>\n",
              "      <td>0.072551</td>\n",
              "    </tr>\n",
              "    <tr>\n",
              "      <th>получение образования</th>\n",
              "      <td>3988</td>\n",
              "      <td>369</td>\n",
              "      <td>0.092528</td>\n",
              "    </tr>\n",
              "    <tr>\n",
              "      <th>проведение свадьбы</th>\n",
              "      <td>2313</td>\n",
              "      <td>183</td>\n",
              "      <td>0.079118</td>\n",
              "    </tr>\n",
              "  </tbody>\n",
              "</table>\n",
              "</div>"
            ],
            "text/plain": [
              "                          count  sum     ratio\n",
              "                           debt debt          \n",
              "purpose_category                              \n",
              "операции с автомобилем     4279  400  0.093480\n",
              "операции с недвижимостью  10751  780  0.072551\n",
              "получение образования      3988  369  0.092528\n",
              "проведение свадьбы         2313  183  0.079118"
            ]
          },
          "execution_count": 41,
          "metadata": {},
          "output_type": "execute_result"
        }
      ],
      "source": [
        "#Создадим сводную таблицу:\n",
        "debt_purpose_debt_pivot = data.pivot_table(index='purpose_category', values='debt', aggfunc=['count', 'sum'])\n",
        "debt_purpose_debt_pivot['ratio'] = debt_purpose_debt_pivot['sum']/debt_purpose_debt_pivot['count']\n",
        "debt_purpose_debt_pivot"
      ]
    },
    {
      "cell_type": "markdown",
      "id": "22f4b13d",
      "metadata": {
        "deletable": false,
        "id": "22f4b13d"
      },
      "source": [
        "**Вывод:** Меньше всего долгов у категории граждан, берущих кредит на операции с недвижимостью, чуть больше долгов у тех, кто брал кредит для свадьбы. У категорий \"автомобиль\" и \"образование\" одинаково большое отношение неоплаченных долгов."
      ]
    },
    {
      "cell_type": "markdown",
      "id": "9bccbde4",
      "metadata": {
        "deletable": false,
        "editable": false,
        "id": "9bccbde4"
      },
      "source": [
        "### Шаг 4: общий вывод."
      ]
    },
    {
      "cell_type": "markdown",
      "id": "9c10bd62",
      "metadata": {
        "deletable": false,
        "id": "9c10bd62"
      },
      "source": [
        "Мы проанализировали личные данные клиентов и посмотрели, какие факторы влияют на вероятность, что конкретный клиент вернёт долг. Перед непосредственным анализом мы обработали пропущенные значения в данных, исправили аномалии и обработали дубликаты. Далее мы разделили всех клиентов на несколько групп в зависимости от их уровня дохода и цели взятия кредита.\n",
        "\n",
        "В ходе непосредственного анализа выяснилось, что самыми надежными будут клиенты:\n",
        " - без детей (вернут долг с вероятностью 92,5%)\n",
        " - состоящие или состоявшие в браке (~93%)\n",
        " - относящиеся к категории с самыми высоким и самыми низкими доходами (93% и 92%)\n",
        "\n",
        "Самыми ненадежными будут клиенты:\n",
        " - с 1-2 детьми (90%)\n",
        " - вне брака или в гражданском браке (90,3% и 90,7%)\n",
        " - со средним доходом (91,2%)\n",
        "\n",
        "Для более точных результатов в будущем, стоит обратить внимание на природу пропущенных данных в колонках total_income и days_employed, так как данные в них могут не записываться из-за технической неисправности системы сбора данных. Возможно система не сохраняет данные, если они не соответствуют каким-то внутренним критериям или при отсутсвии ответа в одной из упомянутых колонок удаляет данные и в другой. Также возможной причиной может быть необязательность заполнения этих данных, чем злоупотребляют клиенты, не желая тратить время."
      ]
    }
  ],
  "metadata": {
    "ExecuteTimeLog": [
      {
        "duration": 493,
        "start_time": "2023-02-02T21:19:25.921Z"
      },
      {
        "duration": 25,
        "start_time": "2023-02-02T21:19:26.416Z"
      },
      {
        "duration": 15,
        "start_time": "2023-02-02T21:19:26.443Z"
      },
      {
        "duration": 9,
        "start_time": "2023-02-02T21:19:26.460Z"
      },
      {
        "duration": 31,
        "start_time": "2023-02-02T21:19:26.472Z"
      },
      {
        "duration": 23,
        "start_time": "2023-02-02T21:19:26.505Z"
      },
      {
        "duration": 7,
        "start_time": "2023-02-02T21:19:26.530Z"
      },
      {
        "duration": 4,
        "start_time": "2023-02-02T21:19:26.540Z"
      },
      {
        "duration": 9,
        "start_time": "2023-02-02T21:19:26.545Z"
      },
      {
        "duration": 5,
        "start_time": "2023-02-02T21:19:26.555Z"
      },
      {
        "duration": 31,
        "start_time": "2023-02-02T21:19:26.563Z"
      },
      {
        "duration": 11,
        "start_time": "2023-02-02T21:19:26.626Z"
      },
      {
        "duration": 5,
        "start_time": "2023-02-02T21:19:26.638Z"
      },
      {
        "duration": 13,
        "start_time": "2023-02-02T21:19:26.645Z"
      },
      {
        "duration": 21,
        "start_time": "2023-02-02T21:19:26.660Z"
      },
      {
        "duration": 16,
        "start_time": "2023-02-02T21:19:26.682Z"
      },
      {
        "duration": 4,
        "start_time": "2023-02-02T21:19:26.727Z"
      },
      {
        "duration": 11,
        "start_time": "2023-02-02T21:19:26.733Z"
      },
      {
        "duration": 6,
        "start_time": "2023-02-02T21:19:26.745Z"
      },
      {
        "duration": 3,
        "start_time": "2023-02-02T21:19:26.752Z"
      },
      {
        "duration": 12,
        "start_time": "2023-02-02T21:19:26.757Z"
      },
      {
        "duration": 17,
        "start_time": "2023-02-02T21:19:54.265Z"
      },
      {
        "duration": 11,
        "start_time": "2023-02-02T21:21:17.280Z"
      },
      {
        "duration": 26,
        "start_time": "2023-02-02T21:21:20.347Z"
      },
      {
        "duration": 6,
        "start_time": "2023-02-02T21:21:33.288Z"
      },
      {
        "duration": 9,
        "start_time": "2023-02-02T21:21:39.444Z"
      },
      {
        "duration": 9,
        "start_time": "2023-02-02T21:21:42.069Z"
      },
      {
        "duration": 8,
        "start_time": "2023-02-02T21:22:14.848Z"
      },
      {
        "duration": 16,
        "start_time": "2023-02-03T11:01:54.839Z"
      },
      {
        "duration": 19,
        "start_time": "2023-02-03T11:03:42.833Z"
      },
      {
        "duration": 20,
        "start_time": "2023-02-03T11:04:31.413Z"
      },
      {
        "duration": 9,
        "start_time": "2023-02-03T11:04:41.433Z"
      },
      {
        "duration": 76,
        "start_time": "2023-02-03T11:05:35.486Z"
      },
      {
        "duration": 10,
        "start_time": "2023-02-03T11:15:36.020Z"
      },
      {
        "duration": 24,
        "start_time": "2023-02-03T11:15:43.758Z"
      },
      {
        "duration": 11,
        "start_time": "2023-02-03T11:18:27.277Z"
      },
      {
        "duration": 10,
        "start_time": "2023-02-03T11:19:39.655Z"
      },
      {
        "duration": 13,
        "start_time": "2023-02-03T11:20:07.612Z"
      },
      {
        "duration": 12,
        "start_time": "2023-02-03T11:20:31.807Z"
      },
      {
        "duration": 11,
        "start_time": "2023-02-03T11:20:46.446Z"
      },
      {
        "duration": 12,
        "start_time": "2023-02-03T11:26:14.427Z"
      },
      {
        "duration": 15,
        "start_time": "2023-02-03T11:26:27.009Z"
      },
      {
        "duration": 11,
        "start_time": "2023-02-03T11:33:31.186Z"
      },
      {
        "duration": 9,
        "start_time": "2023-02-03T11:33:37.709Z"
      },
      {
        "duration": 11,
        "start_time": "2023-02-03T11:33:47.706Z"
      },
      {
        "duration": 18,
        "start_time": "2023-02-03T11:33:54.660Z"
      },
      {
        "duration": 16,
        "start_time": "2023-02-03T11:34:22.344Z"
      },
      {
        "duration": 21,
        "start_time": "2023-02-03T11:34:34.853Z"
      },
      {
        "duration": 21,
        "start_time": "2023-02-03T11:34:52.492Z"
      },
      {
        "duration": 17,
        "start_time": "2023-02-03T11:35:01.122Z"
      },
      {
        "duration": 17,
        "start_time": "2023-02-03T11:35:54.979Z"
      },
      {
        "duration": 20,
        "start_time": "2023-02-03T11:36:04.267Z"
      },
      {
        "duration": 16,
        "start_time": "2023-02-03T11:36:09.022Z"
      },
      {
        "duration": 21,
        "start_time": "2023-02-03T11:36:14.403Z"
      },
      {
        "duration": 83,
        "start_time": "2023-02-03T11:36:27.622Z"
      },
      {
        "duration": 17,
        "start_time": "2023-02-03T11:36:41.400Z"
      },
      {
        "duration": 1106,
        "start_time": "2023-02-03T11:39:05.167Z"
      },
      {
        "duration": 18,
        "start_time": "2023-02-03T11:39:13.489Z"
      },
      {
        "duration": 17,
        "start_time": "2023-02-03T11:46:55.390Z"
      },
      {
        "duration": 19,
        "start_time": "2023-02-03T11:56:56.047Z"
      },
      {
        "duration": 31,
        "start_time": "2023-02-03T12:03:02.027Z"
      },
      {
        "duration": 22,
        "start_time": "2023-02-03T12:03:05.817Z"
      },
      {
        "duration": 18,
        "start_time": "2023-02-03T12:03:56.202Z"
      },
      {
        "duration": 23,
        "start_time": "2023-02-03T12:04:04.363Z"
      },
      {
        "duration": 30,
        "start_time": "2023-02-03T12:05:23.100Z"
      },
      {
        "duration": 55,
        "start_time": "2023-02-03T12:05:26.797Z"
      },
      {
        "duration": 17,
        "start_time": "2023-02-03T12:06:49.153Z"
      },
      {
        "duration": 11,
        "start_time": "2023-02-03T12:07:13.406Z"
      },
      {
        "duration": 11,
        "start_time": "2023-02-03T12:07:19.355Z"
      },
      {
        "duration": 16,
        "start_time": "2023-02-03T12:07:26.481Z"
      },
      {
        "duration": 42,
        "start_time": "2023-02-03T12:07:57.849Z"
      },
      {
        "duration": 46,
        "start_time": "2023-02-03T12:08:14.791Z"
      },
      {
        "duration": 49,
        "start_time": "2023-02-03T12:10:06.023Z"
      },
      {
        "duration": 32,
        "start_time": "2023-02-03T12:10:14.099Z"
      },
      {
        "duration": 47,
        "start_time": "2023-02-03T12:10:19.463Z"
      },
      {
        "duration": 10,
        "start_time": "2023-02-03T12:11:08.182Z"
      },
      {
        "duration": 54,
        "start_time": "2023-02-03T12:11:14.715Z"
      },
      {
        "duration": 69,
        "start_time": "2023-02-03T12:11:33.738Z"
      },
      {
        "duration": 21,
        "start_time": "2023-02-03T12:11:37.463Z"
      },
      {
        "duration": 903,
        "start_time": "2023-02-03T12:12:33.124Z"
      },
      {
        "duration": 951,
        "start_time": "2023-02-03T12:13:05.333Z"
      },
      {
        "duration": 24,
        "start_time": "2023-02-03T12:13:39.517Z"
      },
      {
        "duration": 1165,
        "start_time": "2023-02-03T12:13:54.697Z"
      },
      {
        "duration": 27,
        "start_time": "2023-02-03T12:14:00.509Z"
      },
      {
        "duration": 22,
        "start_time": "2023-02-03T12:15:39.624Z"
      },
      {
        "duration": 23,
        "start_time": "2023-02-03T12:15:43.043Z"
      },
      {
        "duration": 25,
        "start_time": "2023-02-03T12:15:50.738Z"
      },
      {
        "duration": 8,
        "start_time": "2023-02-03T12:18:45.961Z"
      },
      {
        "duration": 16,
        "start_time": "2023-02-03T12:24:02.648Z"
      },
      {
        "duration": 15,
        "start_time": "2023-02-03T12:24:49.029Z"
      },
      {
        "duration": 19,
        "start_time": "2023-02-03T12:25:09.053Z"
      },
      {
        "duration": 26,
        "start_time": "2023-02-03T12:29:17.684Z"
      },
      {
        "duration": 49,
        "start_time": "2023-02-06T16:28:00.891Z"
      },
      {
        "duration": 572,
        "start_time": "2023-02-06T16:28:10.521Z"
      },
      {
        "duration": 23,
        "start_time": "2023-02-06T16:28:11.095Z"
      },
      {
        "duration": 16,
        "start_time": "2023-02-06T16:28:11.120Z"
      },
      {
        "duration": 16,
        "start_time": "2023-02-06T16:28:11.138Z"
      },
      {
        "duration": 35,
        "start_time": "2023-02-06T16:28:11.155Z"
      },
      {
        "duration": 4,
        "start_time": "2023-02-06T16:28:11.192Z"
      },
      {
        "duration": 15,
        "start_time": "2023-02-06T16:28:11.197Z"
      },
      {
        "duration": 4,
        "start_time": "2023-02-06T16:28:11.213Z"
      },
      {
        "duration": 9,
        "start_time": "2023-02-06T16:28:11.219Z"
      },
      {
        "duration": 25,
        "start_time": "2023-02-06T16:28:11.231Z"
      },
      {
        "duration": 35,
        "start_time": "2023-02-06T16:28:11.257Z"
      },
      {
        "duration": 10,
        "start_time": "2023-02-06T16:28:11.293Z"
      },
      {
        "duration": 5,
        "start_time": "2023-02-06T16:28:11.304Z"
      },
      {
        "duration": 12,
        "start_time": "2023-02-06T16:28:11.310Z"
      },
      {
        "duration": 39,
        "start_time": "2023-02-06T16:28:11.323Z"
      },
      {
        "duration": 17,
        "start_time": "2023-02-06T16:28:11.363Z"
      },
      {
        "duration": 3,
        "start_time": "2023-02-06T16:28:11.382Z"
      },
      {
        "duration": 12,
        "start_time": "2023-02-06T16:28:11.387Z"
      },
      {
        "duration": 6,
        "start_time": "2023-02-06T16:28:11.401Z"
      },
      {
        "duration": 5,
        "start_time": "2023-02-06T16:28:11.408Z"
      },
      {
        "duration": 16,
        "start_time": "2023-02-06T16:28:11.415Z"
      },
      {
        "duration": 28,
        "start_time": "2023-02-06T16:28:11.432Z"
      },
      {
        "duration": 13,
        "start_time": "2023-02-06T16:28:11.462Z"
      },
      {
        "duration": 3,
        "start_time": "2023-02-06T16:28:11.477Z"
      },
      {
        "duration": 14,
        "start_time": "2023-02-06T16:28:11.481Z"
      },
      {
        "duration": 34,
        "start_time": "2023-02-06T16:28:11.497Z"
      },
      {
        "duration": 66,
        "start_time": "2023-02-06T16:28:11.553Z"
      },
      {
        "duration": 17,
        "start_time": "2023-02-06T16:28:13.126Z"
      },
      {
        "duration": 5,
        "start_time": "2023-02-06T16:29:00.131Z"
      },
      {
        "duration": 5,
        "start_time": "2023-02-06T16:29:05.971Z"
      },
      {
        "duration": 5,
        "start_time": "2023-02-06T16:29:08.861Z"
      },
      {
        "duration": 9,
        "start_time": "2023-02-06T16:29:27.290Z"
      },
      {
        "duration": 7,
        "start_time": "2023-02-06T16:30:59.994Z"
      },
      {
        "duration": 4,
        "start_time": "2023-02-06T16:32:59.770Z"
      },
      {
        "duration": 6,
        "start_time": "2023-02-06T16:35:47.731Z"
      },
      {
        "duration": 41,
        "start_time": "2023-02-06T16:37:24.108Z"
      },
      {
        "duration": 68,
        "start_time": "2023-02-06T16:38:08.880Z"
      },
      {
        "duration": 4,
        "start_time": "2023-02-06T16:38:22.389Z"
      },
      {
        "duration": 62,
        "start_time": "2023-02-06T16:38:23.481Z"
      },
      {
        "duration": 4,
        "start_time": "2023-02-06T16:38:37.379Z"
      },
      {
        "duration": 53,
        "start_time": "2023-02-06T16:38:39.659Z"
      },
      {
        "duration": 64,
        "start_time": "2023-02-06T16:39:02.039Z"
      },
      {
        "duration": 61,
        "start_time": "2023-02-06T16:39:23.822Z"
      },
      {
        "duration": 4,
        "start_time": "2023-02-06T16:39:25.097Z"
      },
      {
        "duration": 45,
        "start_time": "2023-02-06T16:39:26.299Z"
      },
      {
        "duration": 7,
        "start_time": "2023-02-06T16:39:42.763Z"
      },
      {
        "duration": 51,
        "start_time": "2023-02-06T16:39:43.941Z"
      },
      {
        "duration": 23,
        "start_time": "2023-02-06T16:41:38.962Z"
      },
      {
        "duration": 3,
        "start_time": "2023-02-06T16:43:23.424Z"
      },
      {
        "duration": 25,
        "start_time": "2023-02-06T16:43:24.665Z"
      },
      {
        "duration": 18,
        "start_time": "2023-02-06T16:44:57.090Z"
      },
      {
        "duration": 32,
        "start_time": "2023-02-06T16:45:50.709Z"
      },
      {
        "duration": 29,
        "start_time": "2023-02-06T16:45:56.885Z"
      },
      {
        "duration": 3,
        "start_time": "2023-02-06T16:48:14.191Z"
      },
      {
        "duration": 369,
        "start_time": "2023-02-06T16:48:20.301Z"
      },
      {
        "duration": 330,
        "start_time": "2023-02-06T16:48:26.909Z"
      },
      {
        "duration": 4,
        "start_time": "2023-02-06T16:48:30.011Z"
      },
      {
        "duration": 315,
        "start_time": "2023-02-06T16:48:35.390Z"
      },
      {
        "duration": 97,
        "start_time": "2023-02-06T16:48:47.723Z"
      },
      {
        "duration": 18,
        "start_time": "2023-02-06T16:48:47.822Z"
      },
      {
        "duration": 47,
        "start_time": "2023-02-06T16:48:47.842Z"
      },
      {
        "duration": 14,
        "start_time": "2023-02-06T16:48:47.891Z"
      },
      {
        "duration": 35,
        "start_time": "2023-02-06T16:48:47.907Z"
      },
      {
        "duration": 13,
        "start_time": "2023-02-06T16:48:47.943Z"
      },
      {
        "duration": 18,
        "start_time": "2023-02-06T16:48:47.958Z"
      },
      {
        "duration": 6,
        "start_time": "2023-02-06T16:48:47.978Z"
      },
      {
        "duration": 8,
        "start_time": "2023-02-06T16:48:47.985Z"
      },
      {
        "duration": 4,
        "start_time": "2023-02-06T16:48:47.995Z"
      },
      {
        "duration": 31,
        "start_time": "2023-02-06T16:48:48.001Z"
      },
      {
        "duration": 13,
        "start_time": "2023-02-06T16:48:48.053Z"
      },
      {
        "duration": 3,
        "start_time": "2023-02-06T16:48:48.068Z"
      },
      {
        "duration": 14,
        "start_time": "2023-02-06T16:48:48.073Z"
      },
      {
        "duration": 23,
        "start_time": "2023-02-06T16:48:48.089Z"
      },
      {
        "duration": 41,
        "start_time": "2023-02-06T16:48:48.114Z"
      },
      {
        "duration": 5,
        "start_time": "2023-02-06T16:48:48.157Z"
      },
      {
        "duration": 24,
        "start_time": "2023-02-06T16:48:48.164Z"
      },
      {
        "duration": 17,
        "start_time": "2023-02-06T16:48:48.190Z"
      },
      {
        "duration": 6,
        "start_time": "2023-02-06T16:48:48.209Z"
      },
      {
        "duration": 10,
        "start_time": "2023-02-06T16:48:48.216Z"
      },
      {
        "duration": 8,
        "start_time": "2023-02-06T16:48:48.228Z"
      },
      {
        "duration": 15,
        "start_time": "2023-02-06T16:48:48.239Z"
      },
      {
        "duration": 7,
        "start_time": "2023-02-06T16:48:48.256Z"
      },
      {
        "duration": 24,
        "start_time": "2023-02-06T16:48:48.266Z"
      },
      {
        "duration": 24,
        "start_time": "2023-02-06T16:48:48.291Z"
      },
      {
        "duration": 4,
        "start_time": "2023-02-06T16:48:48.316Z"
      },
      {
        "duration": 4,
        "start_time": "2023-02-06T16:48:48.323Z"
      },
      {
        "duration": 8,
        "start_time": "2023-02-06T16:48:48.329Z"
      },
      {
        "duration": 24,
        "start_time": "2023-02-06T16:48:48.353Z"
      },
      {
        "duration": 4,
        "start_time": "2023-02-06T16:48:51.630Z"
      },
      {
        "duration": 326,
        "start_time": "2023-02-06T16:48:56.150Z"
      },
      {
        "duration": 3,
        "start_time": "2023-02-06T16:49:38.795Z"
      },
      {
        "duration": 324,
        "start_time": "2023-02-06T16:49:39.881Z"
      },
      {
        "duration": 3,
        "start_time": "2023-02-06T16:50:35.128Z"
      },
      {
        "duration": 3,
        "start_time": "2023-02-06T16:50:44.918Z"
      },
      {
        "duration": 311,
        "start_time": "2023-02-06T16:50:46.602Z"
      },
      {
        "duration": 352,
        "start_time": "2023-02-06T16:51:18.943Z"
      },
      {
        "duration": 5,
        "start_time": "2023-02-06T16:51:59.019Z"
      },
      {
        "duration": 1413,
        "start_time": "2023-02-06T16:52:00.641Z"
      },
      {
        "duration": 1447,
        "start_time": "2023-02-06T16:52:05.166Z"
      },
      {
        "duration": 1475,
        "start_time": "2023-02-06T16:52:10.910Z"
      },
      {
        "duration": 34,
        "start_time": "2023-02-06T16:53:20.947Z"
      },
      {
        "duration": 16,
        "start_time": "2023-02-06T16:53:58.379Z"
      },
      {
        "duration": 64,
        "start_time": "2023-02-06T18:44:11.795Z"
      },
      {
        "duration": 13,
        "start_time": "2023-02-06T18:44:11.861Z"
      },
      {
        "duration": 21,
        "start_time": "2023-02-06T18:44:11.875Z"
      },
      {
        "duration": 10,
        "start_time": "2023-02-06T18:44:11.898Z"
      },
      {
        "duration": 46,
        "start_time": "2023-02-06T18:44:11.909Z"
      },
      {
        "duration": 3,
        "start_time": "2023-02-06T18:44:11.957Z"
      },
      {
        "duration": 11,
        "start_time": "2023-02-06T18:44:11.961Z"
      },
      {
        "duration": 7,
        "start_time": "2023-02-06T18:44:11.973Z"
      },
      {
        "duration": 9,
        "start_time": "2023-02-06T18:44:11.982Z"
      },
      {
        "duration": 4,
        "start_time": "2023-02-06T18:44:11.993Z"
      },
      {
        "duration": 35,
        "start_time": "2023-02-06T18:44:11.998Z"
      },
      {
        "duration": 9,
        "start_time": "2023-02-06T18:44:12.054Z"
      },
      {
        "duration": 7,
        "start_time": "2023-02-06T18:44:12.064Z"
      },
      {
        "duration": 17,
        "start_time": "2023-02-06T18:44:12.073Z"
      },
      {
        "duration": 18,
        "start_time": "2023-02-06T18:44:12.091Z"
      },
      {
        "duration": 14,
        "start_time": "2023-02-06T18:44:12.111Z"
      },
      {
        "duration": 3,
        "start_time": "2023-02-06T18:44:12.127Z"
      },
      {
        "duration": 29,
        "start_time": "2023-02-06T18:44:12.131Z"
      },
      {
        "duration": 5,
        "start_time": "2023-02-06T18:44:12.161Z"
      },
      {
        "duration": 11,
        "start_time": "2023-02-06T18:44:12.168Z"
      },
      {
        "duration": 14,
        "start_time": "2023-02-06T18:44:12.181Z"
      },
      {
        "duration": 23,
        "start_time": "2023-02-06T18:44:12.197Z"
      },
      {
        "duration": 22,
        "start_time": "2023-02-06T18:44:12.222Z"
      },
      {
        "duration": 3,
        "start_time": "2023-02-06T18:44:12.246Z"
      },
      {
        "duration": 16,
        "start_time": "2023-02-06T18:44:12.250Z"
      },
      {
        "duration": 28,
        "start_time": "2023-02-06T18:44:12.267Z"
      },
      {
        "duration": 19,
        "start_time": "2023-02-06T18:44:12.296Z"
      },
      {
        "duration": 3,
        "start_time": "2023-02-06T18:44:12.318Z"
      },
      {
        "duration": 66,
        "start_time": "2023-02-06T18:44:12.322Z"
      },
      {
        "duration": 0,
        "start_time": "2023-02-06T18:44:12.390Z"
      },
      {
        "duration": 0,
        "start_time": "2023-02-06T18:44:12.391Z"
      },
      {
        "duration": 0,
        "start_time": "2023-02-06T18:44:12.392Z"
      },
      {
        "duration": 0,
        "start_time": "2023-02-06T18:44:12.393Z"
      },
      {
        "duration": 14,
        "start_time": "2023-02-06T18:44:15.133Z"
      },
      {
        "duration": 12,
        "start_time": "2023-02-06T18:44:34.514Z"
      },
      {
        "duration": 1230,
        "start_time": "2023-02-06T18:44:45.830Z"
      },
      {
        "duration": 67,
        "start_time": "2023-02-06T18:44:55.339Z"
      },
      {
        "duration": 15,
        "start_time": "2023-02-06T18:44:55.408Z"
      },
      {
        "duration": 15,
        "start_time": "2023-02-06T18:44:55.424Z"
      },
      {
        "duration": 9,
        "start_time": "2023-02-06T18:44:55.454Z"
      },
      {
        "duration": 40,
        "start_time": "2023-02-06T18:44:55.465Z"
      },
      {
        "duration": 3,
        "start_time": "2023-02-06T18:44:55.507Z"
      },
      {
        "duration": 13,
        "start_time": "2023-02-06T18:44:55.512Z"
      },
      {
        "duration": 3,
        "start_time": "2023-02-06T18:44:55.527Z"
      },
      {
        "duration": 25,
        "start_time": "2023-02-06T18:44:55.532Z"
      },
      {
        "duration": 25,
        "start_time": "2023-02-06T18:44:55.559Z"
      },
      {
        "duration": 33,
        "start_time": "2023-02-06T18:44:55.585Z"
      },
      {
        "duration": 10,
        "start_time": "2023-02-06T18:44:55.619Z"
      },
      {
        "duration": 4,
        "start_time": "2023-02-06T18:44:55.630Z"
      },
      {
        "duration": 18,
        "start_time": "2023-02-06T18:44:55.635Z"
      },
      {
        "duration": 17,
        "start_time": "2023-02-06T18:44:55.655Z"
      },
      {
        "duration": 45,
        "start_time": "2023-02-06T18:44:55.673Z"
      },
      {
        "duration": 11,
        "start_time": "2023-02-06T18:44:55.719Z"
      },
      {
        "duration": 14,
        "start_time": "2023-02-06T18:44:55.732Z"
      },
      {
        "duration": 10,
        "start_time": "2023-02-06T18:44:55.748Z"
      },
      {
        "duration": 4,
        "start_time": "2023-02-06T18:44:55.759Z"
      },
      {
        "duration": 10,
        "start_time": "2023-02-06T18:44:55.765Z"
      },
      {
        "duration": 7,
        "start_time": "2023-02-06T18:44:55.777Z"
      },
      {
        "duration": 14,
        "start_time": "2023-02-06T18:44:55.786Z"
      },
      {
        "duration": 4,
        "start_time": "2023-02-06T18:44:55.801Z"
      },
      {
        "duration": 10,
        "start_time": "2023-02-06T18:44:55.806Z"
      },
      {
        "duration": 53,
        "start_time": "2023-02-06T18:44:55.817Z"
      },
      {
        "duration": 19,
        "start_time": "2023-02-06T18:44:55.871Z"
      },
      {
        "duration": 3,
        "start_time": "2023-02-06T18:44:55.893Z"
      },
      {
        "duration": 73,
        "start_time": "2023-02-06T18:44:55.898Z"
      },
      {
        "duration": 0,
        "start_time": "2023-02-06T18:44:55.973Z"
      },
      {
        "duration": 0,
        "start_time": "2023-02-06T18:44:55.974Z"
      },
      {
        "duration": 1,
        "start_time": "2023-02-06T18:44:55.974Z"
      },
      {
        "duration": 0,
        "start_time": "2023-02-06T18:44:55.976Z"
      },
      {
        "duration": 12,
        "start_time": "2023-02-06T18:44:58.590Z"
      },
      {
        "duration": 19,
        "start_time": "2023-02-06T18:45:06.429Z"
      },
      {
        "duration": 4,
        "start_time": "2023-02-06T18:45:08.798Z"
      },
      {
        "duration": 90,
        "start_time": "2023-02-06T18:45:09.889Z"
      },
      {
        "duration": 1115,
        "start_time": "2023-02-06T18:45:45.249Z"
      },
      {
        "duration": 19,
        "start_time": "2023-02-06T18:45:46.366Z"
      },
      {
        "duration": 22,
        "start_time": "2023-02-06T18:45:46.513Z"
      },
      {
        "duration": 16,
        "start_time": "2023-02-06T18:45:48.878Z"
      },
      {
        "duration": 18,
        "start_time": "2023-02-06T18:48:02.848Z"
      },
      {
        "duration": 19,
        "start_time": "2023-02-06T18:48:05.249Z"
      },
      {
        "duration": 21,
        "start_time": "2023-02-06T18:49:44.438Z"
      },
      {
        "duration": 21,
        "start_time": "2023-02-06T18:50:41.879Z"
      },
      {
        "duration": 8,
        "start_time": "2023-02-06T18:55:37.399Z"
      },
      {
        "duration": 8,
        "start_time": "2023-02-06T18:57:23.490Z"
      },
      {
        "duration": 7,
        "start_time": "2023-02-06T18:57:36.499Z"
      },
      {
        "duration": 8,
        "start_time": "2023-02-06T18:57:47.249Z"
      },
      {
        "duration": 7,
        "start_time": "2023-02-06T18:57:50.452Z"
      },
      {
        "duration": 18,
        "start_time": "2023-02-06T18:57:57.843Z"
      },
      {
        "duration": 25,
        "start_time": "2023-02-06T18:59:47.738Z"
      },
      {
        "duration": 478,
        "start_time": "2023-02-07T10:00:04.049Z"
      },
      {
        "duration": 14,
        "start_time": "2023-02-07T10:00:10.729Z"
      },
      {
        "duration": 22,
        "start_time": "2023-02-07T10:01:32.080Z"
      },
      {
        "duration": 446,
        "start_time": "2023-02-08T07:56:37.403Z"
      },
      {
        "duration": 21,
        "start_time": "2023-02-08T07:56:37.852Z"
      },
      {
        "duration": 23,
        "start_time": "2023-02-08T07:56:37.874Z"
      },
      {
        "duration": 8,
        "start_time": "2023-02-08T07:56:37.899Z"
      },
      {
        "duration": 18,
        "start_time": "2023-02-08T07:56:37.909Z"
      },
      {
        "duration": 32,
        "start_time": "2023-02-08T07:56:37.929Z"
      },
      {
        "duration": 3,
        "start_time": "2023-02-08T07:56:37.963Z"
      },
      {
        "duration": 34,
        "start_time": "2023-02-08T07:56:37.967Z"
      },
      {
        "duration": 5,
        "start_time": "2023-02-08T07:56:38.003Z"
      },
      {
        "duration": 7,
        "start_time": "2023-02-08T07:56:38.011Z"
      },
      {
        "duration": 5,
        "start_time": "2023-02-08T07:56:38.020Z"
      },
      {
        "duration": 66,
        "start_time": "2023-02-08T07:56:38.026Z"
      },
      {
        "duration": 9,
        "start_time": "2023-02-08T07:56:38.094Z"
      },
      {
        "duration": 5,
        "start_time": "2023-02-08T07:56:38.105Z"
      },
      {
        "duration": 17,
        "start_time": "2023-02-08T07:56:38.112Z"
      },
      {
        "duration": 25,
        "start_time": "2023-02-08T07:56:38.131Z"
      },
      {
        "duration": 35,
        "start_time": "2023-02-08T07:56:38.157Z"
      },
      {
        "duration": 3,
        "start_time": "2023-02-08T07:56:38.197Z"
      },
      {
        "duration": 11,
        "start_time": "2023-02-08T07:56:38.202Z"
      },
      {
        "duration": 14,
        "start_time": "2023-02-08T07:56:38.214Z"
      },
      {
        "duration": 4,
        "start_time": "2023-02-08T07:56:38.229Z"
      },
      {
        "duration": 11,
        "start_time": "2023-02-08T07:56:38.234Z"
      },
      {
        "duration": 25,
        "start_time": "2023-02-08T07:56:38.246Z"
      },
      {
        "duration": 14,
        "start_time": "2023-02-08T07:56:38.273Z"
      },
      {
        "duration": 4,
        "start_time": "2023-02-08T07:56:38.288Z"
      },
      {
        "duration": 11,
        "start_time": "2023-02-08T07:56:38.294Z"
      },
      {
        "duration": 21,
        "start_time": "2023-02-08T07:56:38.306Z"
      },
      {
        "duration": 3,
        "start_time": "2023-02-08T07:56:38.330Z"
      },
      {
        "duration": 11,
        "start_time": "2023-02-08T07:56:38.334Z"
      },
      {
        "duration": 1201,
        "start_time": "2023-02-08T07:56:38.347Z"
      },
      {
        "duration": 16,
        "start_time": "2023-02-08T07:56:39.550Z"
      },
      {
        "duration": 39,
        "start_time": "2023-02-08T07:56:39.568Z"
      },
      {
        "duration": 15,
        "start_time": "2023-02-08T07:56:39.609Z"
      },
      {
        "duration": 19,
        "start_time": "2023-02-08T07:56:39.626Z"
      },
      {
        "duration": 25,
        "start_time": "2023-02-08T07:56:39.647Z"
      },
      {
        "duration": 7,
        "start_time": "2023-02-08T07:56:39.692Z"
      },
      {
        "duration": 22,
        "start_time": "2023-02-08T07:56:39.701Z"
      },
      {
        "duration": 24,
        "start_time": "2023-02-08T07:59:58.577Z"
      },
      {
        "duration": 100,
        "start_time": "2023-02-08T08:04:09.608Z"
      },
      {
        "duration": 46,
        "start_time": "2023-02-08T08:38:51.212Z"
      },
      {
        "duration": 42,
        "start_time": "2023-02-08T08:42:54.571Z"
      },
      {
        "duration": 43,
        "start_time": "2023-02-08T08:51:23.325Z"
      },
      {
        "duration": 672,
        "start_time": "2023-02-08T09:06:25.250Z"
      },
      {
        "duration": 32,
        "start_time": "2023-02-08T09:06:25.925Z"
      },
      {
        "duration": 34,
        "start_time": "2023-02-08T09:06:25.959Z"
      },
      {
        "duration": 21,
        "start_time": "2023-02-08T09:06:25.995Z"
      },
      {
        "duration": 33,
        "start_time": "2023-02-08T09:06:26.018Z"
      },
      {
        "duration": 59,
        "start_time": "2023-02-08T09:06:26.053Z"
      },
      {
        "duration": 4,
        "start_time": "2023-02-08T09:06:26.115Z"
      },
      {
        "duration": 29,
        "start_time": "2023-02-08T09:06:26.121Z"
      },
      {
        "duration": 9,
        "start_time": "2023-02-08T09:06:26.152Z"
      },
      {
        "duration": 12,
        "start_time": "2023-02-08T09:06:26.164Z"
      },
      {
        "duration": 15,
        "start_time": "2023-02-08T09:06:26.178Z"
      },
      {
        "duration": 44,
        "start_time": "2023-02-08T09:06:26.195Z"
      },
      {
        "duration": 10,
        "start_time": "2023-02-08T09:06:26.241Z"
      },
      {
        "duration": 5,
        "start_time": "2023-02-08T09:06:26.253Z"
      },
      {
        "duration": 33,
        "start_time": "2023-02-08T09:06:26.259Z"
      },
      {
        "duration": 21,
        "start_time": "2023-02-08T09:06:26.293Z"
      },
      {
        "duration": 17,
        "start_time": "2023-02-08T09:06:26.316Z"
      },
      {
        "duration": 3,
        "start_time": "2023-02-08T09:06:26.335Z"
      },
      {
        "duration": 12,
        "start_time": "2023-02-08T09:06:26.340Z"
      },
      {
        "duration": 5,
        "start_time": "2023-02-08T09:06:26.354Z"
      },
      {
        "duration": 32,
        "start_time": "2023-02-08T09:06:26.361Z"
      },
      {
        "duration": 14,
        "start_time": "2023-02-08T09:06:26.395Z"
      },
      {
        "duration": 16,
        "start_time": "2023-02-08T09:06:26.411Z"
      },
      {
        "duration": 752,
        "start_time": "2023-02-08T09:06:26.429Z"
      },
      {
        "duration": 0,
        "start_time": "2023-02-08T09:06:27.183Z"
      },
      {
        "duration": 0,
        "start_time": "2023-02-08T09:06:27.185Z"
      },
      {
        "duration": 0,
        "start_time": "2023-02-08T09:06:27.186Z"
      },
      {
        "duration": 0,
        "start_time": "2023-02-08T09:06:27.187Z"
      },
      {
        "duration": 0,
        "start_time": "2023-02-08T09:06:27.188Z"
      },
      {
        "duration": 0,
        "start_time": "2023-02-08T09:06:27.190Z"
      },
      {
        "duration": 0,
        "start_time": "2023-02-08T09:06:27.191Z"
      },
      {
        "duration": 0,
        "start_time": "2023-02-08T09:06:27.192Z"
      },
      {
        "duration": 0,
        "start_time": "2023-02-08T09:06:27.193Z"
      },
      {
        "duration": 0,
        "start_time": "2023-02-08T09:06:27.194Z"
      },
      {
        "duration": 0,
        "start_time": "2023-02-08T09:06:27.196Z"
      },
      {
        "duration": 5,
        "start_time": "2023-02-08T09:06:35.241Z"
      },
      {
        "duration": 16,
        "start_time": "2023-02-08T09:06:50.514Z"
      },
      {
        "duration": 14,
        "start_time": "2023-02-08T09:07:02.620Z"
      },
      {
        "duration": 73,
        "start_time": "2023-02-08T09:07:09.683Z"
      },
      {
        "duration": 16,
        "start_time": "2023-02-08T09:07:09.758Z"
      },
      {
        "duration": 28,
        "start_time": "2023-02-08T09:07:09.777Z"
      },
      {
        "duration": 9,
        "start_time": "2023-02-08T09:07:09.808Z"
      },
      {
        "duration": 21,
        "start_time": "2023-02-08T09:07:09.819Z"
      },
      {
        "duration": 64,
        "start_time": "2023-02-08T09:07:09.842Z"
      },
      {
        "duration": 3,
        "start_time": "2023-02-08T09:07:09.908Z"
      },
      {
        "duration": 12,
        "start_time": "2023-02-08T09:07:09.912Z"
      },
      {
        "duration": 4,
        "start_time": "2023-02-08T09:07:09.926Z"
      },
      {
        "duration": 15,
        "start_time": "2023-02-08T09:07:09.932Z"
      },
      {
        "duration": 5,
        "start_time": "2023-02-08T09:07:09.948Z"
      },
      {
        "duration": 56,
        "start_time": "2023-02-08T09:07:09.954Z"
      },
      {
        "duration": 10,
        "start_time": "2023-02-08T09:07:10.011Z"
      },
      {
        "duration": 25,
        "start_time": "2023-02-08T09:07:10.023Z"
      },
      {
        "duration": 36,
        "start_time": "2023-02-08T09:07:10.050Z"
      },
      {
        "duration": 34,
        "start_time": "2023-02-08T09:07:10.088Z"
      },
      {
        "duration": 19,
        "start_time": "2023-02-08T09:07:10.124Z"
      },
      {
        "duration": 3,
        "start_time": "2023-02-08T09:07:10.145Z"
      },
      {
        "duration": 33,
        "start_time": "2023-02-08T09:07:10.150Z"
      },
      {
        "duration": 7,
        "start_time": "2023-02-08T09:07:10.184Z"
      },
      {
        "duration": 6,
        "start_time": "2023-02-08T09:07:10.192Z"
      },
      {
        "duration": 11,
        "start_time": "2023-02-08T09:07:10.201Z"
      },
      {
        "duration": 9,
        "start_time": "2023-02-08T09:07:10.213Z"
      },
      {
        "duration": 722,
        "start_time": "2023-02-08T09:07:10.224Z"
      },
      {
        "duration": 0,
        "start_time": "2023-02-08T09:07:10.948Z"
      },
      {
        "duration": 0,
        "start_time": "2023-02-08T09:07:10.949Z"
      },
      {
        "duration": 0,
        "start_time": "2023-02-08T09:07:10.950Z"
      },
      {
        "duration": 0,
        "start_time": "2023-02-08T09:07:10.952Z"
      },
      {
        "duration": 0,
        "start_time": "2023-02-08T09:07:10.953Z"
      },
      {
        "duration": 0,
        "start_time": "2023-02-08T09:07:10.954Z"
      },
      {
        "duration": 0,
        "start_time": "2023-02-08T09:07:10.956Z"
      },
      {
        "duration": 0,
        "start_time": "2023-02-08T09:07:10.957Z"
      },
      {
        "duration": 0,
        "start_time": "2023-02-08T09:07:10.958Z"
      },
      {
        "duration": 0,
        "start_time": "2023-02-08T09:07:10.959Z"
      },
      {
        "duration": 0,
        "start_time": "2023-02-08T09:07:10.960Z"
      },
      {
        "duration": 14,
        "start_time": "2023-02-08T09:07:12.647Z"
      },
      {
        "duration": 20,
        "start_time": "2023-02-08T09:07:28.503Z"
      },
      {
        "duration": 874,
        "start_time": "2023-02-08T09:07:46.430Z"
      },
      {
        "duration": 20,
        "start_time": "2023-02-08T09:08:03.412Z"
      },
      {
        "duration": 13,
        "start_time": "2023-02-08T09:10:41.532Z"
      },
      {
        "duration": 14,
        "start_time": "2023-02-08T09:10:58.779Z"
      },
      {
        "duration": 3,
        "start_time": "2023-02-08T09:11:06.717Z"
      },
      {
        "duration": 1154,
        "start_time": "2023-02-08T09:11:08.190Z"
      },
      {
        "duration": 804,
        "start_time": "2023-02-08T09:11:10.800Z"
      },
      {
        "duration": 780,
        "start_time": "2023-02-08T09:11:31.527Z"
      },
      {
        "duration": 778,
        "start_time": "2023-02-08T09:11:39.816Z"
      },
      {
        "duration": 76,
        "start_time": "2023-02-08T09:11:45.948Z"
      },
      {
        "duration": 18,
        "start_time": "2023-02-08T09:11:46.027Z"
      },
      {
        "duration": 29,
        "start_time": "2023-02-08T09:11:46.047Z"
      },
      {
        "duration": 11,
        "start_time": "2023-02-08T09:11:46.093Z"
      },
      {
        "duration": 32,
        "start_time": "2023-02-08T09:11:46.106Z"
      },
      {
        "duration": 56,
        "start_time": "2023-02-08T09:11:46.140Z"
      },
      {
        "duration": 4,
        "start_time": "2023-02-08T09:11:46.197Z"
      },
      {
        "duration": 10,
        "start_time": "2023-02-08T09:11:46.202Z"
      },
      {
        "duration": 3,
        "start_time": "2023-02-08T09:11:46.214Z"
      },
      {
        "duration": 17,
        "start_time": "2023-02-08T09:11:46.219Z"
      },
      {
        "duration": 4,
        "start_time": "2023-02-08T09:11:46.238Z"
      },
      {
        "duration": 35,
        "start_time": "2023-02-08T09:11:46.243Z"
      },
      {
        "duration": 8,
        "start_time": "2023-02-08T09:11:46.292Z"
      },
      {
        "duration": 5,
        "start_time": "2023-02-08T09:11:46.302Z"
      },
      {
        "duration": 13,
        "start_time": "2023-02-08T09:11:46.308Z"
      },
      {
        "duration": 36,
        "start_time": "2023-02-08T09:11:46.322Z"
      },
      {
        "duration": 18,
        "start_time": "2023-02-08T09:11:46.360Z"
      },
      {
        "duration": 3,
        "start_time": "2023-02-08T09:11:46.380Z"
      },
      {
        "duration": 17,
        "start_time": "2023-02-08T09:11:46.385Z"
      },
      {
        "duration": 7,
        "start_time": "2023-02-08T09:11:46.403Z"
      },
      {
        "duration": 4,
        "start_time": "2023-02-08T09:11:46.411Z"
      },
      {
        "duration": 41,
        "start_time": "2023-02-08T09:11:46.417Z"
      },
      {
        "duration": 8,
        "start_time": "2023-02-08T09:11:46.460Z"
      },
      {
        "duration": 789,
        "start_time": "2023-02-08T09:11:46.470Z"
      },
      {
        "duration": 0,
        "start_time": "2023-02-08T09:11:47.261Z"
      },
      {
        "duration": 0,
        "start_time": "2023-02-08T09:11:47.262Z"
      },
      {
        "duration": 0,
        "start_time": "2023-02-08T09:11:47.263Z"
      },
      {
        "duration": 0,
        "start_time": "2023-02-08T09:11:47.264Z"
      },
      {
        "duration": 0,
        "start_time": "2023-02-08T09:11:47.265Z"
      },
      {
        "duration": 0,
        "start_time": "2023-02-08T09:11:47.266Z"
      },
      {
        "duration": 0,
        "start_time": "2023-02-08T09:11:47.267Z"
      },
      {
        "duration": 0,
        "start_time": "2023-02-08T09:11:47.268Z"
      },
      {
        "duration": 0,
        "start_time": "2023-02-08T09:11:47.269Z"
      },
      {
        "duration": 0,
        "start_time": "2023-02-08T09:11:47.269Z"
      },
      {
        "duration": 0,
        "start_time": "2023-02-08T09:11:47.271Z"
      },
      {
        "duration": 14,
        "start_time": "2023-02-08T09:11:48.339Z"
      },
      {
        "duration": 1097,
        "start_time": "2023-02-08T09:16:04.671Z"
      },
      {
        "duration": 804,
        "start_time": "2023-02-08T09:16:08.225Z"
      },
      {
        "duration": 1046,
        "start_time": "2023-02-08T09:16:23.375Z"
      },
      {
        "duration": 4,
        "start_time": "2023-02-08T09:16:29.145Z"
      },
      {
        "duration": 1042,
        "start_time": "2023-02-08T09:16:33.503Z"
      },
      {
        "duration": 3,
        "start_time": "2023-02-08T09:18:17.681Z"
      },
      {
        "duration": 4,
        "start_time": "2023-02-08T09:18:20.653Z"
      },
      {
        "duration": 1176,
        "start_time": "2023-02-08T09:18:20.843Z"
      },
      {
        "duration": 22,
        "start_time": "2023-02-08T09:18:25.752Z"
      },
      {
        "duration": 730,
        "start_time": "2023-02-08T09:18:35.798Z"
      },
      {
        "duration": 835,
        "start_time": "2023-02-08T09:18:46.443Z"
      },
      {
        "duration": 14,
        "start_time": "2023-02-08T09:19:27.165Z"
      },
      {
        "duration": 846,
        "start_time": "2023-02-08T09:20:22.219Z"
      },
      {
        "duration": 71,
        "start_time": "2023-02-08T09:22:07.930Z"
      },
      {
        "duration": 16,
        "start_time": "2023-02-08T09:22:08.004Z"
      },
      {
        "duration": 20,
        "start_time": "2023-02-08T09:22:08.021Z"
      },
      {
        "duration": 11,
        "start_time": "2023-02-08T09:22:08.043Z"
      },
      {
        "duration": 49,
        "start_time": "2023-02-08T09:22:08.057Z"
      },
      {
        "duration": 54,
        "start_time": "2023-02-08T09:22:08.108Z"
      },
      {
        "duration": 10,
        "start_time": "2023-02-08T09:22:08.164Z"
      },
      {
        "duration": 10,
        "start_time": "2023-02-08T09:22:08.175Z"
      },
      {
        "duration": 4,
        "start_time": "2023-02-08T09:22:08.188Z"
      },
      {
        "duration": 11,
        "start_time": "2023-02-08T09:22:08.193Z"
      },
      {
        "duration": 4,
        "start_time": "2023-02-08T09:22:08.206Z"
      },
      {
        "duration": 38,
        "start_time": "2023-02-08T09:22:08.212Z"
      },
      {
        "duration": 9,
        "start_time": "2023-02-08T09:22:08.252Z"
      },
      {
        "duration": 4,
        "start_time": "2023-02-08T09:22:08.263Z"
      },
      {
        "duration": 32,
        "start_time": "2023-02-08T09:22:08.268Z"
      },
      {
        "duration": 19,
        "start_time": "2023-02-08T09:22:08.301Z"
      },
      {
        "duration": 18,
        "start_time": "2023-02-08T09:22:08.321Z"
      },
      {
        "duration": 3,
        "start_time": "2023-02-08T09:22:08.341Z"
      },
      {
        "duration": 13,
        "start_time": "2023-02-08T09:22:08.345Z"
      },
      {
        "duration": 10,
        "start_time": "2023-02-08T09:22:08.360Z"
      },
      {
        "duration": 3,
        "start_time": "2023-02-08T09:22:08.393Z"
      },
      {
        "duration": 10,
        "start_time": "2023-02-08T09:22:08.397Z"
      },
      {
        "duration": 9,
        "start_time": "2023-02-08T09:22:08.409Z"
      },
      {
        "duration": 833,
        "start_time": "2023-02-08T09:22:10.322Z"
      },
      {
        "duration": 31,
        "start_time": "2023-02-08T09:22:24.484Z"
      },
      {
        "duration": 4,
        "start_time": "2023-02-08T09:22:25.888Z"
      },
      {
        "duration": 8,
        "start_time": "2023-02-08T09:22:26.538Z"
      },
      {
        "duration": 4,
        "start_time": "2023-02-08T09:22:27.641Z"
      },
      {
        "duration": 7,
        "start_time": "2023-02-08T09:22:28.400Z"
      },
      {
        "duration": 5,
        "start_time": "2023-02-08T09:22:28.995Z"
      },
      {
        "duration": 32,
        "start_time": "2023-02-08T09:22:29.894Z"
      },
      {
        "duration": 11,
        "start_time": "2023-02-08T09:22:30.577Z"
      },
      {
        "duration": 4,
        "start_time": "2023-02-08T09:22:31.860Z"
      },
      {
        "duration": 12,
        "start_time": "2023-02-08T09:22:33.682Z"
      },
      {
        "duration": 21,
        "start_time": "2023-02-08T09:22:34.633Z"
      },
      {
        "duration": 20,
        "start_time": "2023-02-08T09:22:34.821Z"
      },
      {
        "duration": 4,
        "start_time": "2023-02-08T09:22:35.322Z"
      },
      {
        "duration": 9,
        "start_time": "2023-02-08T09:22:35.474Z"
      },
      {
        "duration": 6,
        "start_time": "2023-02-08T09:22:37.652Z"
      },
      {
        "duration": 3,
        "start_time": "2023-02-08T09:22:38.293Z"
      },
      {
        "duration": 9,
        "start_time": "2023-02-08T09:22:38.815Z"
      },
      {
        "duration": 7,
        "start_time": "2023-02-08T09:22:40.451Z"
      },
      {
        "duration": 702,
        "start_time": "2023-02-08T09:22:41.211Z"
      },
      {
        "duration": 850,
        "start_time": "2023-02-08T09:26:32.883Z"
      },
      {
        "duration": 931,
        "start_time": "2023-02-08T09:27:35.907Z"
      },
      {
        "duration": 15,
        "start_time": "2023-02-08T09:27:40.342Z"
      },
      {
        "duration": 7,
        "start_time": "2023-02-08T09:27:46.316Z"
      },
      {
        "duration": 18,
        "start_time": "2023-02-08T09:28:40.907Z"
      },
      {
        "duration": 896,
        "start_time": "2023-02-08T09:28:43.274Z"
      },
      {
        "duration": 9,
        "start_time": "2023-02-08T09:28:48.326Z"
      },
      {
        "duration": 6,
        "start_time": "2023-02-08T09:28:52.332Z"
      },
      {
        "duration": 9,
        "start_time": "2023-02-08T09:28:54.327Z"
      },
      {
        "duration": 24,
        "start_time": "2023-02-08T09:29:59.425Z"
      },
      {
        "duration": 13,
        "start_time": "2023-02-08T09:30:29.077Z"
      },
      {
        "duration": 15,
        "start_time": "2023-02-08T09:30:54.174Z"
      },
      {
        "duration": 17,
        "start_time": "2023-02-08T09:30:56.155Z"
      },
      {
        "duration": 1173,
        "start_time": "2023-02-08T09:31:17.947Z"
      },
      {
        "duration": 16,
        "start_time": "2023-02-08T09:31:28.380Z"
      },
      {
        "duration": 22,
        "start_time": "2023-02-08T09:31:32.047Z"
      },
      {
        "duration": 15,
        "start_time": "2023-02-08T09:31:36.137Z"
      },
      {
        "duration": 23,
        "start_time": "2023-02-08T09:31:41.547Z"
      },
      {
        "duration": 27,
        "start_time": "2023-02-08T09:31:48.035Z"
      },
      {
        "duration": 25,
        "start_time": "2023-02-08T09:33:08.439Z"
      },
      {
        "duration": 65,
        "start_time": "2023-02-08T09:42:40.214Z"
      },
      {
        "duration": 25,
        "start_time": "2023-02-08T09:43:00.357Z"
      },
      {
        "duration": 9,
        "start_time": "2023-02-08T10:31:25.589Z"
      },
      {
        "duration": 11,
        "start_time": "2023-02-08T10:32:36.048Z"
      },
      {
        "duration": 9,
        "start_time": "2023-02-08T10:33:17.316Z"
      },
      {
        "duration": 35,
        "start_time": "2023-02-08T10:34:07.210Z"
      },
      {
        "duration": 8,
        "start_time": "2023-02-08T10:35:06.889Z"
      },
      {
        "duration": 10,
        "start_time": "2023-02-08T10:35:16.114Z"
      },
      {
        "duration": 8,
        "start_time": "2023-02-08T10:35:41.485Z"
      },
      {
        "duration": 13,
        "start_time": "2023-02-08T10:36:10.164Z"
      },
      {
        "duration": 12,
        "start_time": "2023-02-08T10:40:05.424Z"
      },
      {
        "duration": 10,
        "start_time": "2023-02-08T10:46:56.873Z"
      },
      {
        "duration": 27,
        "start_time": "2023-02-08T10:47:45.694Z"
      },
      {
        "duration": 52,
        "start_time": "2023-02-08T10:51:38.886Z"
      },
      {
        "duration": 39,
        "start_time": "2023-02-08T10:51:44.199Z"
      },
      {
        "duration": 9,
        "start_time": "2023-02-08T11:11:57.887Z"
      },
      {
        "duration": 24,
        "start_time": "2023-02-08T11:11:59.338Z"
      },
      {
        "duration": 47,
        "start_time": "2023-02-08T11:27:43.386Z"
      },
      {
        "duration": 566,
        "start_time": "2023-02-08T18:43:46.472Z"
      },
      {
        "duration": 23,
        "start_time": "2023-02-08T18:43:47.040Z"
      },
      {
        "duration": 33,
        "start_time": "2023-02-08T18:43:47.065Z"
      },
      {
        "duration": 18,
        "start_time": "2023-02-08T18:43:47.100Z"
      },
      {
        "duration": 35,
        "start_time": "2023-02-08T18:43:47.120Z"
      },
      {
        "duration": 56,
        "start_time": "2023-02-08T18:43:47.157Z"
      },
      {
        "duration": 10,
        "start_time": "2023-02-08T18:43:47.222Z"
      },
      {
        "duration": 12,
        "start_time": "2023-02-08T18:43:47.235Z"
      },
      {
        "duration": 4,
        "start_time": "2023-02-08T18:43:47.249Z"
      },
      {
        "duration": 6,
        "start_time": "2023-02-08T18:43:47.255Z"
      },
      {
        "duration": 7,
        "start_time": "2023-02-08T18:43:47.263Z"
      },
      {
        "duration": 65,
        "start_time": "2023-02-08T18:43:47.272Z"
      },
      {
        "duration": 10,
        "start_time": "2023-02-08T18:43:47.339Z"
      },
      {
        "duration": 4,
        "start_time": "2023-02-08T18:43:47.351Z"
      },
      {
        "duration": 26,
        "start_time": "2023-02-08T18:43:47.357Z"
      },
      {
        "duration": 34,
        "start_time": "2023-02-08T18:43:47.385Z"
      },
      {
        "duration": 33,
        "start_time": "2023-02-08T18:43:47.421Z"
      },
      {
        "duration": 5,
        "start_time": "2023-02-08T18:43:47.456Z"
      },
      {
        "duration": 38,
        "start_time": "2023-02-08T18:43:47.464Z"
      },
      {
        "duration": 14,
        "start_time": "2023-02-08T18:43:47.508Z"
      },
      {
        "duration": 32,
        "start_time": "2023-02-08T18:43:47.527Z"
      },
      {
        "duration": 75,
        "start_time": "2023-02-08T18:43:47.561Z"
      },
      {
        "duration": 33,
        "start_time": "2023-02-08T18:43:47.639Z"
      },
      {
        "duration": 27,
        "start_time": "2023-02-08T18:43:47.674Z"
      },
      {
        "duration": 39,
        "start_time": "2023-02-08T18:43:47.708Z"
      },
      {
        "duration": 34,
        "start_time": "2023-02-08T18:43:47.750Z"
      },
      {
        "duration": 98,
        "start_time": "2023-02-08T18:43:47.785Z"
      },
      {
        "duration": 61,
        "start_time": "2023-02-08T18:43:47.888Z"
      },
      {
        "duration": 11,
        "start_time": "2023-02-08T18:43:47.951Z"
      },
      {
        "duration": 20,
        "start_time": "2023-02-08T18:43:47.964Z"
      },
      {
        "duration": 1661,
        "start_time": "2023-02-08T18:43:47.986Z"
      },
      {
        "duration": 16,
        "start_time": "2023-02-08T18:43:49.649Z"
      },
      {
        "duration": 46,
        "start_time": "2023-02-08T18:43:49.667Z"
      },
      {
        "duration": 24,
        "start_time": "2023-02-08T18:43:49.717Z"
      },
      {
        "duration": 33,
        "start_time": "2023-02-08T18:43:49.743Z"
      },
      {
        "duration": 49,
        "start_time": "2023-02-08T18:43:49.778Z"
      },
      {
        "duration": 31,
        "start_time": "2023-02-08T18:43:49.829Z"
      },
      {
        "duration": 13,
        "start_time": "2023-02-08T18:43:49.862Z"
      },
      {
        "duration": 41,
        "start_time": "2023-02-08T18:43:49.876Z"
      },
      {
        "duration": 8,
        "start_time": "2023-02-08T18:43:49.919Z"
      },
      {
        "duration": 34,
        "start_time": "2023-02-08T18:43:49.929Z"
      },
      {
        "duration": 869,
        "start_time": "2023-07-04T18:46:25.249Z"
      },
      {
        "duration": 24,
        "start_time": "2023-07-04T18:46:26.123Z"
      },
      {
        "duration": 30,
        "start_time": "2023-07-04T18:46:26.149Z"
      },
      {
        "duration": 25,
        "start_time": "2023-07-04T18:46:26.183Z"
      },
      {
        "duration": 21,
        "start_time": "2023-07-04T18:46:26.210Z"
      },
      {
        "duration": 55,
        "start_time": "2023-07-04T18:46:26.232Z"
      },
      {
        "duration": 4,
        "start_time": "2023-07-04T18:46:26.289Z"
      },
      {
        "duration": 13,
        "start_time": "2023-07-04T18:46:26.295Z"
      },
      {
        "duration": 10,
        "start_time": "2023-07-04T18:46:26.310Z"
      },
      {
        "duration": 7,
        "start_time": "2023-07-04T18:46:26.323Z"
      },
      {
        "duration": 6,
        "start_time": "2023-07-04T18:46:26.331Z"
      },
      {
        "duration": 61,
        "start_time": "2023-07-04T18:46:26.339Z"
      },
      {
        "duration": 24,
        "start_time": "2023-07-04T18:46:26.403Z"
      },
      {
        "duration": 18,
        "start_time": "2023-07-04T18:46:26.429Z"
      },
      {
        "duration": 50,
        "start_time": "2023-07-04T18:46:26.449Z"
      },
      {
        "duration": 30,
        "start_time": "2023-07-04T18:46:26.501Z"
      },
      {
        "duration": 21,
        "start_time": "2023-07-04T18:46:26.533Z"
      },
      {
        "duration": 27,
        "start_time": "2023-07-04T18:46:26.556Z"
      },
      {
        "duration": 18,
        "start_time": "2023-07-04T18:46:26.585Z"
      },
      {
        "duration": 9,
        "start_time": "2023-07-04T18:46:26.605Z"
      },
      {
        "duration": 4,
        "start_time": "2023-07-04T18:46:26.616Z"
      },
      {
        "duration": 11,
        "start_time": "2023-07-04T18:46:26.623Z"
      },
      {
        "duration": 13,
        "start_time": "2023-07-04T18:46:26.635Z"
      },
      {
        "duration": 32,
        "start_time": "2023-07-04T18:46:26.650Z"
      },
      {
        "duration": 17,
        "start_time": "2023-07-04T18:46:26.684Z"
      },
      {
        "duration": 17,
        "start_time": "2023-07-04T18:46:26.703Z"
      },
      {
        "duration": 29,
        "start_time": "2023-07-04T18:46:26.721Z"
      },
      {
        "duration": 48,
        "start_time": "2023-07-04T18:46:26.753Z"
      },
      {
        "duration": 4,
        "start_time": "2023-07-04T18:46:26.803Z"
      },
      {
        "duration": 11,
        "start_time": "2023-07-04T18:46:26.809Z"
      },
      {
        "duration": 1380,
        "start_time": "2023-07-04T18:46:26.821Z"
      },
      {
        "duration": 23,
        "start_time": "2023-07-04T18:46:28.203Z"
      },
      {
        "duration": 40,
        "start_time": "2023-07-04T18:46:28.227Z"
      },
      {
        "duration": 27,
        "start_time": "2023-07-04T18:46:28.269Z"
      },
      {
        "duration": 23,
        "start_time": "2023-07-04T18:46:28.298Z"
      },
      {
        "duration": 37,
        "start_time": "2023-07-04T18:46:28.324Z"
      },
      {
        "duration": 40,
        "start_time": "2023-07-04T18:46:28.363Z"
      },
      {
        "duration": 33,
        "start_time": "2023-07-04T18:46:28.405Z"
      },
      {
        "duration": 42,
        "start_time": "2023-07-04T18:46:28.440Z"
      },
      {
        "duration": 14,
        "start_time": "2023-07-04T18:46:28.484Z"
      },
      {
        "duration": 35,
        "start_time": "2023-07-04T18:46:28.500Z"
      }
    ],
    "colab": {
      "provenance": []
    },
    "kernelspec": {
      "display_name": "Python 3 (ipykernel)",
      "language": "python",
      "name": "python3"
    },
    "language_info": {
      "codemirror_mode": {
        "name": "ipython",
        "version": 3
      },
      "file_extension": ".py",
      "mimetype": "text/x-python",
      "name": "python",
      "nbconvert_exporter": "python",
      "pygments_lexer": "ipython3",
      "version": "3.9.5"
    },
    "toc": {
      "base_numbering": 1,
      "nav_menu": {
        "height": "261px",
        "width": "569px"
      },
      "number_sections": true,
      "sideBar": true,
      "skip_h1_title": true,
      "title_cell": "Table of Contents",
      "title_sidebar": "Contents",
      "toc_cell": false,
      "toc_position": {},
      "toc_section_display": true,
      "toc_window_display": false
    }
  },
  "nbformat": 4,
  "nbformat_minor": 5
}