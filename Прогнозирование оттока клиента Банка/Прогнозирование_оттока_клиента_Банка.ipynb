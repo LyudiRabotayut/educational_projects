{
  "cells": [
    {
      "cell_type": "markdown",
      "metadata": {
        "toc": true,
        "id": "Y0tE3RE0vOUu"
      },
      "source": [
        "<h1>Содержание<span class=\"tocSkip\"></span></h1>\n",
        "<div class=\"toc\"><ul class=\"toc-item\"><li><ul class=\"toc-item\"><li><span><a href=\"#Описание-проекта\" data-toc-modified-id=\"Описание-проекта-0.1\"><span class=\"toc-item-num\">0.1&nbsp;&nbsp;</span>Описание проекта</a></span></li><li><span><a href=\"#Описание-данных\" data-toc-modified-id=\"Описание-данных-0.2\"><span class=\"toc-item-num\">0.2&nbsp;&nbsp;</span>Описание данных</a></span></li></ul></li><li><span><a href=\"#Подготовка-данных\" data-toc-modified-id=\"Подготовка-данных-1\"><span class=\"toc-item-num\">1&nbsp;&nbsp;</span>Подготовка данных</a></span><ul class=\"toc-item\"><li><span><a href=\"#Загрузка-и-изучение\" data-toc-modified-id=\"Загрузка-и-изучение-1.1\"><span class=\"toc-item-num\">1.1&nbsp;&nbsp;</span>Загрузка и изучение</a></span></li><li><span><a href=\"#Заполнение-пропусков\" data-toc-modified-id=\"Заполнение-пропусков-1.2\"><span class=\"toc-item-num\">1.2&nbsp;&nbsp;</span>Заполнение пропусков</a></span></li><li><span><a href=\"#Деление-на-выборки\" data-toc-modified-id=\"Деление-на-выборки-1.3\"><span class=\"toc-item-num\">1.3&nbsp;&nbsp;</span>Деление на выборки</a></span></li><li><span><a href=\"#Масштабирование\" data-toc-modified-id=\"Масштабирование-1.4\"><span class=\"toc-item-num\">1.4&nbsp;&nbsp;</span>Масштабирование</a></span></li><li><span><a href=\"#Подвывод\" data-toc-modified-id=\"Подвывод-1.5\"><span class=\"toc-item-num\">1.5&nbsp;&nbsp;</span>Подвывод</a></span></li></ul></li><li><span><a href=\"#Исследование-задачи\" data-toc-modified-id=\"Исследование-задачи-2\"><span class=\"toc-item-num\">2&nbsp;&nbsp;</span>Исследование задачи</a></span><ul class=\"toc-item\"><li><span><a href=\"#Логистическая-регрессия\" data-toc-modified-id=\"Логистическая-регрессия-2.1\"><span class=\"toc-item-num\">2.1&nbsp;&nbsp;</span>Логистическая регрессия</a></span></li><li><span><a href=\"#Случайный-лес\" data-toc-modified-id=\"Случайный-лес-2.2\"><span class=\"toc-item-num\">2.2&nbsp;&nbsp;</span>Случайный лес</a></span></li><li><span><a href=\"#Решающее-дерево\" data-toc-modified-id=\"Решающее-дерево-2.3\"><span class=\"toc-item-num\">2.3&nbsp;&nbsp;</span>Решающее дерево</a></span></li><li><span><a href=\"#Подвывод\" data-toc-modified-id=\"Подвывод-2.4\"><span class=\"toc-item-num\">2.4&nbsp;&nbsp;</span>Подвывод</a></span></li></ul></li><li><span><a href=\"#Борьба-с-дисбалансом\" data-toc-modified-id=\"Борьба-с-дисбалансом-3\"><span class=\"toc-item-num\">3&nbsp;&nbsp;</span>Борьба с дисбалансом</a></span><ul class=\"toc-item\"><li><span><a href=\"#Взвешивание\" data-toc-modified-id=\"Взвешивание-3.1\"><span class=\"toc-item-num\">3.1&nbsp;&nbsp;</span>Взвешивание</a></span><ul class=\"toc-item\"><li><span><a href=\"#Логистическая-регрессия\" data-toc-modified-id=\"Логистическая-регрессия-3.1.1\"><span class=\"toc-item-num\">3.1.1&nbsp;&nbsp;</span>Логистическая регрессия</a></span></li><li><span><a href=\"#Случайный-лес\" data-toc-modified-id=\"Случайный-лес-3.1.2\"><span class=\"toc-item-num\">3.1.2&nbsp;&nbsp;</span>Случайный лес</a></span></li><li><span><a href=\"#Решающее-дерево\" data-toc-modified-id=\"Решающее-дерево-3.1.3\"><span class=\"toc-item-num\">3.1.3&nbsp;&nbsp;</span>Решающее дерево</a></span></li><li><span><a href=\"#Подвывод-взвешивания\" data-toc-modified-id=\"Подвывод-взвешивания-3.1.4\"><span class=\"toc-item-num\">3.1.4&nbsp;&nbsp;</span>Подвывод взвешивания</a></span></li></ul></li><li><span><a href=\"#Увеличение-выборки\" data-toc-modified-id=\"Увеличение-выборки-3.2\"><span class=\"toc-item-num\">3.2&nbsp;&nbsp;</span>Увеличение выборки</a></span><ul class=\"toc-item\"><li><span><a href=\"#Логистическая-регрессия\" data-toc-modified-id=\"Логистическая-регрессия-3.2.1\"><span class=\"toc-item-num\">3.2.1&nbsp;&nbsp;</span>Логистическая регрессия</a></span></li><li><span><a href=\"#Случайный-лес\" data-toc-modified-id=\"Случайный-лес-3.2.2\"><span class=\"toc-item-num\">3.2.2&nbsp;&nbsp;</span>Случайный лес</a></span></li><li><span><a href=\"#Решающее-дерево\" data-toc-modified-id=\"Решающее-дерево-3.2.3\"><span class=\"toc-item-num\">3.2.3&nbsp;&nbsp;</span>Решающее дерево</a></span></li><li><span><a href=\"#Подвывод-увеличения-выборки\" data-toc-modified-id=\"Подвывод-увеличения-выборки-3.2.4\"><span class=\"toc-item-num\">3.2.4&nbsp;&nbsp;</span>Подвывод увеличения выборки</a></span></li></ul></li><li><span><a href=\"#Уменьшение-выборки\" data-toc-modified-id=\"Уменьшение-выборки-3.3\"><span class=\"toc-item-num\">3.3&nbsp;&nbsp;</span>Уменьшение выборки</a></span><ul class=\"toc-item\"><li><span><a href=\"#Логистическая-регрессия\" data-toc-modified-id=\"Логистическая-регрессия-3.3.1\"><span class=\"toc-item-num\">3.3.1&nbsp;&nbsp;</span>Логистическая регрессия</a></span></li><li><span><a href=\"#Случайный-лес\" data-toc-modified-id=\"Случайный-лес-3.3.2\"><span class=\"toc-item-num\">3.3.2&nbsp;&nbsp;</span>Случайный лес</a></span></li><li><span><a href=\"#Решающее-дерево\" data-toc-modified-id=\"Решающее-дерево-3.3.3\"><span class=\"toc-item-num\">3.3.3&nbsp;&nbsp;</span>Решающее дерево</a></span></li></ul></li><li><span><a href=\"#Подвывод-работы-с-дисбалансом\" data-toc-modified-id=\"Подвывод-работы-с-дисбалансом-3.4\"><span class=\"toc-item-num\">3.4&nbsp;&nbsp;</span>Подвывод работы с дисбалансом</a></span></li></ul></li><li><span><a href=\"#Тестирование-модели\" data-toc-modified-id=\"Тестирование-модели-4\"><span class=\"toc-item-num\">4&nbsp;&nbsp;</span>Тестирование модели</a></span></li><li><span><a href=\"#Вывод\" data-toc-modified-id=\"Вывод-5\"><span class=\"toc-item-num\">5&nbsp;&nbsp;</span>Вывод</a></span></li><li><span><a href=\"#Чек-лист-готовности-проекта\" data-toc-modified-id=\"Чек-лист-готовности-проекта-6\"><span class=\"toc-item-num\">6&nbsp;&nbsp;</span>Чек-лист готовности проекта</a></span></li></ul></div>"
      ]
    },
    {
      "cell_type": "markdown",
      "metadata": {
        "id": "Uh8ycH6bvOUv"
      },
      "source": [
        "# Прогнозирование оттока клиента Банка"
      ]
    },
    {
      "cell_type": "markdown",
      "source": [
        "Задача:\n",
        "На основе данных из банка определить клиент, который может уйти"
      ],
      "metadata": {
        "id": "TXuPd3p92CDn"
      }
    },
    {
      "cell_type": "markdown",
      "metadata": {
        "id": "vBA1T5_SvOUw"
      },
      "source": [
        "## Подготовка данных"
      ]
    },
    {
      "cell_type": "markdown",
      "metadata": {
        "id": "LJwVC5iTvOUw"
      },
      "source": [
        "### Загрузка и изучение"
      ]
    },
    {
      "cell_type": "code",
      "execution_count": null,
      "metadata": {
        "id": "oWX4jpyTvOUw"
      },
      "outputs": [],
      "source": [
        "# Импортируем библиотеки\n",
        "import pandas as pd\n",
        "import numpy as np\n",
        "\n",
        "from sklearn.model_selection import train_test_split\n",
        "from sklearn.linear_model import LinearRegression, LogisticRegression\n",
        "from sklearn.tree import DecisionTreeClassifier\n",
        "from sklearn.ensemble import RandomForestRegressor, RandomForestClassifier\n",
        "from sklearn.preprocessing import StandardScaler\n",
        "from sklearn.metrics import f1_score, precision_score, recall_score, accuracy_score, mean_squared_error, roc_auc_score\n",
        "from sklearn.impute import KNNImputer\n",
        "from sklearn.utils import shuffle"
      ]
    },
    {
      "cell_type": "code",
      "execution_count": null,
      "metadata": {
        "id": "ZSJ_sUjtvOUx"
      },
      "outputs": [],
      "source": [
        "# Загружаем данные\n",
        "try:\n",
        "    data = pd.read_csv('/datasets/Churn.csv')\n",
        "except:\n",
        "    data = pd.read_csv('C:/Users/Student/Desktop/users_behavior.csv')"
      ]
    },
    {
      "cell_type": "code",
      "execution_count": null,
      "metadata": {
        "scrolled": false,
        "id": "fvBNQATRvOUy",
        "outputId": "28f09480-5124-4bfd-d354-225ba2b1beee"
      },
      "outputs": [
        {
          "name": "stdout",
          "output_type": "stream",
          "text": [
            "<class 'pandas.core.frame.DataFrame'>\n",
            "RangeIndex: 10000 entries, 0 to 9999\n",
            "Data columns (total 14 columns):\n",
            " #   Column           Non-Null Count  Dtype  \n",
            "---  ------           --------------  -----  \n",
            " 0   RowNumber        10000 non-null  int64  \n",
            " 1   CustomerId       10000 non-null  int64  \n",
            " 2   Surname          10000 non-null  object \n",
            " 3   CreditScore      10000 non-null  int64  \n",
            " 4   Geography        10000 non-null  object \n",
            " 5   Gender           10000 non-null  object \n",
            " 6   Age              10000 non-null  int64  \n",
            " 7   Tenure           9091 non-null   float64\n",
            " 8   Balance          10000 non-null  float64\n",
            " 9   NumOfProducts    10000 non-null  int64  \n",
            " 10  HasCrCard        10000 non-null  int64  \n",
            " 11  IsActiveMember   10000 non-null  int64  \n",
            " 12  EstimatedSalary  10000 non-null  float64\n",
            " 13  Exited           10000 non-null  int64  \n",
            "dtypes: float64(3), int64(8), object(3)\n",
            "memory usage: 1.1+ MB\n"
          ]
        }
      ],
      "source": [
        "# Изучаем данные\n",
        "data.info()"
      ]
    },
    {
      "cell_type": "markdown",
      "metadata": {
        "id": "G0_fa7oxvOUz"
      },
      "source": [
        "В признаке Tenure ~1000 пропусков."
      ]
    },
    {
      "cell_type": "code",
      "execution_count": null,
      "metadata": {
        "scrolled": false,
        "id": "lwyefgMZvOUz",
        "outputId": "0c6c5443-eb8b-46c0-8ff5-6bfae6705dc7"
      },
      "outputs": [
        {
          "data": {
            "text/html": [
              "<div>\n",
              "<style scoped>\n",
              "    .dataframe tbody tr th:only-of-type {\n",
              "        vertical-align: middle;\n",
              "    }\n",
              "\n",
              "    .dataframe tbody tr th {\n",
              "        vertical-align: top;\n",
              "    }\n",
              "\n",
              "    .dataframe thead th {\n",
              "        text-align: right;\n",
              "    }\n",
              "</style>\n",
              "<table border=\"1\" class=\"dataframe\">\n",
              "  <thead>\n",
              "    <tr style=\"text-align: right;\">\n",
              "      <th></th>\n",
              "      <th>RowNumber</th>\n",
              "      <th>CustomerId</th>\n",
              "      <th>Surname</th>\n",
              "      <th>CreditScore</th>\n",
              "      <th>Geography</th>\n",
              "      <th>Gender</th>\n",
              "      <th>Age</th>\n",
              "      <th>Tenure</th>\n",
              "      <th>Balance</th>\n",
              "      <th>NumOfProducts</th>\n",
              "      <th>HasCrCard</th>\n",
              "      <th>IsActiveMember</th>\n",
              "      <th>EstimatedSalary</th>\n",
              "      <th>Exited</th>\n",
              "    </tr>\n",
              "  </thead>\n",
              "  <tbody>\n",
              "    <tr>\n",
              "      <th>30</th>\n",
              "      <td>31</td>\n",
              "      <td>15589475</td>\n",
              "      <td>Azikiwe</td>\n",
              "      <td>591</td>\n",
              "      <td>Spain</td>\n",
              "      <td>Female</td>\n",
              "      <td>39</td>\n",
              "      <td>NaN</td>\n",
              "      <td>0.00</td>\n",
              "      <td>3</td>\n",
              "      <td>1</td>\n",
              "      <td>0</td>\n",
              "      <td>140469.38</td>\n",
              "      <td>1</td>\n",
              "    </tr>\n",
              "    <tr>\n",
              "      <th>48</th>\n",
              "      <td>49</td>\n",
              "      <td>15766205</td>\n",
              "      <td>Yin</td>\n",
              "      <td>550</td>\n",
              "      <td>Germany</td>\n",
              "      <td>Male</td>\n",
              "      <td>38</td>\n",
              "      <td>NaN</td>\n",
              "      <td>103391.38</td>\n",
              "      <td>1</td>\n",
              "      <td>0</td>\n",
              "      <td>1</td>\n",
              "      <td>90878.13</td>\n",
              "      <td>0</td>\n",
              "    </tr>\n",
              "    <tr>\n",
              "      <th>51</th>\n",
              "      <td>52</td>\n",
              "      <td>15768193</td>\n",
              "      <td>Trevisani</td>\n",
              "      <td>585</td>\n",
              "      <td>Germany</td>\n",
              "      <td>Male</td>\n",
              "      <td>36</td>\n",
              "      <td>NaN</td>\n",
              "      <td>146050.97</td>\n",
              "      <td>2</td>\n",
              "      <td>0</td>\n",
              "      <td>0</td>\n",
              "      <td>86424.57</td>\n",
              "      <td>0</td>\n",
              "    </tr>\n",
              "    <tr>\n",
              "      <th>53</th>\n",
              "      <td>54</td>\n",
              "      <td>15702298</td>\n",
              "      <td>Parkhill</td>\n",
              "      <td>655</td>\n",
              "      <td>Germany</td>\n",
              "      <td>Male</td>\n",
              "      <td>41</td>\n",
              "      <td>NaN</td>\n",
              "      <td>125561.97</td>\n",
              "      <td>1</td>\n",
              "      <td>0</td>\n",
              "      <td>0</td>\n",
              "      <td>164040.94</td>\n",
              "      <td>1</td>\n",
              "    </tr>\n",
              "    <tr>\n",
              "      <th>60</th>\n",
              "      <td>61</td>\n",
              "      <td>15651280</td>\n",
              "      <td>Hunter</td>\n",
              "      <td>742</td>\n",
              "      <td>Germany</td>\n",
              "      <td>Male</td>\n",
              "      <td>35</td>\n",
              "      <td>NaN</td>\n",
              "      <td>136857.00</td>\n",
              "      <td>1</td>\n",
              "      <td>0</td>\n",
              "      <td>0</td>\n",
              "      <td>84509.57</td>\n",
              "      <td>0</td>\n",
              "    </tr>\n",
              "    <tr>\n",
              "      <th>...</th>\n",
              "      <td>...</td>\n",
              "      <td>...</td>\n",
              "      <td>...</td>\n",
              "      <td>...</td>\n",
              "      <td>...</td>\n",
              "      <td>...</td>\n",
              "      <td>...</td>\n",
              "      <td>...</td>\n",
              "      <td>...</td>\n",
              "      <td>...</td>\n",
              "      <td>...</td>\n",
              "      <td>...</td>\n",
              "      <td>...</td>\n",
              "      <td>...</td>\n",
              "    </tr>\n",
              "    <tr>\n",
              "      <th>9944</th>\n",
              "      <td>9945</td>\n",
              "      <td>15703923</td>\n",
              "      <td>Cameron</td>\n",
              "      <td>744</td>\n",
              "      <td>Germany</td>\n",
              "      <td>Male</td>\n",
              "      <td>41</td>\n",
              "      <td>NaN</td>\n",
              "      <td>190409.34</td>\n",
              "      <td>2</td>\n",
              "      <td>1</td>\n",
              "      <td>1</td>\n",
              "      <td>138361.48</td>\n",
              "      <td>0</td>\n",
              "    </tr>\n",
              "    <tr>\n",
              "      <th>9956</th>\n",
              "      <td>9957</td>\n",
              "      <td>15707861</td>\n",
              "      <td>Nucci</td>\n",
              "      <td>520</td>\n",
              "      <td>France</td>\n",
              "      <td>Female</td>\n",
              "      <td>46</td>\n",
              "      <td>NaN</td>\n",
              "      <td>85216.61</td>\n",
              "      <td>1</td>\n",
              "      <td>1</td>\n",
              "      <td>0</td>\n",
              "      <td>117369.52</td>\n",
              "      <td>1</td>\n",
              "    </tr>\n",
              "    <tr>\n",
              "      <th>9964</th>\n",
              "      <td>9965</td>\n",
              "      <td>15642785</td>\n",
              "      <td>Douglas</td>\n",
              "      <td>479</td>\n",
              "      <td>France</td>\n",
              "      <td>Male</td>\n",
              "      <td>34</td>\n",
              "      <td>NaN</td>\n",
              "      <td>117593.48</td>\n",
              "      <td>2</td>\n",
              "      <td>0</td>\n",
              "      <td>0</td>\n",
              "      <td>113308.29</td>\n",
              "      <td>0</td>\n",
              "    </tr>\n",
              "    <tr>\n",
              "      <th>9985</th>\n",
              "      <td>9986</td>\n",
              "      <td>15586914</td>\n",
              "      <td>Nepean</td>\n",
              "      <td>659</td>\n",
              "      <td>France</td>\n",
              "      <td>Male</td>\n",
              "      <td>36</td>\n",
              "      <td>NaN</td>\n",
              "      <td>123841.49</td>\n",
              "      <td>2</td>\n",
              "      <td>1</td>\n",
              "      <td>0</td>\n",
              "      <td>96833.00</td>\n",
              "      <td>0</td>\n",
              "    </tr>\n",
              "    <tr>\n",
              "      <th>9999</th>\n",
              "      <td>10000</td>\n",
              "      <td>15628319</td>\n",
              "      <td>Walker</td>\n",
              "      <td>792</td>\n",
              "      <td>France</td>\n",
              "      <td>Female</td>\n",
              "      <td>28</td>\n",
              "      <td>NaN</td>\n",
              "      <td>130142.79</td>\n",
              "      <td>1</td>\n",
              "      <td>1</td>\n",
              "      <td>0</td>\n",
              "      <td>38190.78</td>\n",
              "      <td>0</td>\n",
              "    </tr>\n",
              "  </tbody>\n",
              "</table>\n",
              "<p>909 rows × 14 columns</p>\n",
              "</div>"
            ],
            "text/plain": [
              "      RowNumber  CustomerId    Surname  CreditScore Geography  Gender  Age  \\\n",
              "30           31    15589475    Azikiwe          591     Spain  Female   39   \n",
              "48           49    15766205        Yin          550   Germany    Male   38   \n",
              "51           52    15768193  Trevisani          585   Germany    Male   36   \n",
              "53           54    15702298   Parkhill          655   Germany    Male   41   \n",
              "60           61    15651280     Hunter          742   Germany    Male   35   \n",
              "...         ...         ...        ...          ...       ...     ...  ...   \n",
              "9944       9945    15703923    Cameron          744   Germany    Male   41   \n",
              "9956       9957    15707861      Nucci          520    France  Female   46   \n",
              "9964       9965    15642785    Douglas          479    France    Male   34   \n",
              "9985       9986    15586914     Nepean          659    France    Male   36   \n",
              "9999      10000    15628319     Walker          792    France  Female   28   \n",
              "\n",
              "      Tenure    Balance  NumOfProducts  HasCrCard  IsActiveMember  \\\n",
              "30       NaN       0.00              3          1               0   \n",
              "48       NaN  103391.38              1          0               1   \n",
              "51       NaN  146050.97              2          0               0   \n",
              "53       NaN  125561.97              1          0               0   \n",
              "60       NaN  136857.00              1          0               0   \n",
              "...      ...        ...            ...        ...             ...   \n",
              "9944     NaN  190409.34              2          1               1   \n",
              "9956     NaN   85216.61              1          1               0   \n",
              "9964     NaN  117593.48              2          0               0   \n",
              "9985     NaN  123841.49              2          1               0   \n",
              "9999     NaN  130142.79              1          1               0   \n",
              "\n",
              "      EstimatedSalary  Exited  \n",
              "30          140469.38       1  \n",
              "48           90878.13       0  \n",
              "51           86424.57       0  \n",
              "53          164040.94       1  \n",
              "60           84509.57       0  \n",
              "...               ...     ...  \n",
              "9944        138361.48       0  \n",
              "9956        117369.52       1  \n",
              "9964        113308.29       0  \n",
              "9985         96833.00       0  \n",
              "9999         38190.78       0  \n",
              "\n",
              "[909 rows x 14 columns]"
            ]
          },
          "execution_count": 219,
          "metadata": {},
          "output_type": "execute_result"
        }
      ],
      "source": [
        "data.query('Tenure.isna()')"
      ]
    },
    {
      "cell_type": "markdown",
      "metadata": {
        "id": "gUFsmUcLvOU0"
      },
      "source": [
        "Не прослеживается зависимости между пропусками и другими признаками, значит можно предположить что природа пропусков случайна. Пропусков всего лишь 10% от всего объема признака, значит мы можем с достаточной точностью их заполнить используя метод схожих строк, что мы и сделаем ниже."
      ]
    },
    {
      "cell_type": "code",
      "execution_count": null,
      "metadata": {
        "scrolled": true,
        "id": "fzpyjzHevOU0",
        "outputId": "a60f9d8a-a90c-4027-bb90-42000a643caa"
      },
      "outputs": [
        {
          "data": {
            "text/html": [
              "<div>\n",
              "<style scoped>\n",
              "    .dataframe tbody tr th:only-of-type {\n",
              "        vertical-align: middle;\n",
              "    }\n",
              "\n",
              "    .dataframe tbody tr th {\n",
              "        vertical-align: top;\n",
              "    }\n",
              "\n",
              "    .dataframe thead th {\n",
              "        text-align: right;\n",
              "    }\n",
              "</style>\n",
              "<table border=\"1\" class=\"dataframe\">\n",
              "  <thead>\n",
              "    <tr style=\"text-align: right;\">\n",
              "      <th></th>\n",
              "      <th>RowNumber</th>\n",
              "      <th>CustomerId</th>\n",
              "      <th>Surname</th>\n",
              "      <th>CreditScore</th>\n",
              "      <th>Geography</th>\n",
              "      <th>Gender</th>\n",
              "      <th>Age</th>\n",
              "      <th>Tenure</th>\n",
              "      <th>Balance</th>\n",
              "      <th>NumOfProducts</th>\n",
              "      <th>HasCrCard</th>\n",
              "      <th>IsActiveMember</th>\n",
              "      <th>EstimatedSalary</th>\n",
              "      <th>Exited</th>\n",
              "    </tr>\n",
              "  </thead>\n",
              "  <tbody>\n",
              "    <tr>\n",
              "      <th>0</th>\n",
              "      <td>1</td>\n",
              "      <td>15634602</td>\n",
              "      <td>Hargrave</td>\n",
              "      <td>619</td>\n",
              "      <td>France</td>\n",
              "      <td>Female</td>\n",
              "      <td>42</td>\n",
              "      <td>2.0</td>\n",
              "      <td>0.00</td>\n",
              "      <td>1</td>\n",
              "      <td>1</td>\n",
              "      <td>1</td>\n",
              "      <td>101348.88</td>\n",
              "      <td>1</td>\n",
              "    </tr>\n",
              "    <tr>\n",
              "      <th>1</th>\n",
              "      <td>2</td>\n",
              "      <td>15647311</td>\n",
              "      <td>Hill</td>\n",
              "      <td>608</td>\n",
              "      <td>Spain</td>\n",
              "      <td>Female</td>\n",
              "      <td>41</td>\n",
              "      <td>1.0</td>\n",
              "      <td>83807.86</td>\n",
              "      <td>1</td>\n",
              "      <td>0</td>\n",
              "      <td>1</td>\n",
              "      <td>112542.58</td>\n",
              "      <td>0</td>\n",
              "    </tr>\n",
              "    <tr>\n",
              "      <th>2</th>\n",
              "      <td>3</td>\n",
              "      <td>15619304</td>\n",
              "      <td>Onio</td>\n",
              "      <td>502</td>\n",
              "      <td>France</td>\n",
              "      <td>Female</td>\n",
              "      <td>42</td>\n",
              "      <td>8.0</td>\n",
              "      <td>159660.80</td>\n",
              "      <td>3</td>\n",
              "      <td>1</td>\n",
              "      <td>0</td>\n",
              "      <td>113931.57</td>\n",
              "      <td>1</td>\n",
              "    </tr>\n",
              "    <tr>\n",
              "      <th>3</th>\n",
              "      <td>4</td>\n",
              "      <td>15701354</td>\n",
              "      <td>Boni</td>\n",
              "      <td>699</td>\n",
              "      <td>France</td>\n",
              "      <td>Female</td>\n",
              "      <td>39</td>\n",
              "      <td>1.0</td>\n",
              "      <td>0.00</td>\n",
              "      <td>2</td>\n",
              "      <td>0</td>\n",
              "      <td>0</td>\n",
              "      <td>93826.63</td>\n",
              "      <td>0</td>\n",
              "    </tr>\n",
              "    <tr>\n",
              "      <th>4</th>\n",
              "      <td>5</td>\n",
              "      <td>15737888</td>\n",
              "      <td>Mitchell</td>\n",
              "      <td>850</td>\n",
              "      <td>Spain</td>\n",
              "      <td>Female</td>\n",
              "      <td>43</td>\n",
              "      <td>2.0</td>\n",
              "      <td>125510.82</td>\n",
              "      <td>1</td>\n",
              "      <td>1</td>\n",
              "      <td>1</td>\n",
              "      <td>79084.10</td>\n",
              "      <td>0</td>\n",
              "    </tr>\n",
              "  </tbody>\n",
              "</table>\n",
              "</div>"
            ],
            "text/plain": [
              "   RowNumber  CustomerId   Surname  CreditScore Geography  Gender  Age  \\\n",
              "0          1    15634602  Hargrave          619    France  Female   42   \n",
              "1          2    15647311      Hill          608     Spain  Female   41   \n",
              "2          3    15619304      Onio          502    France  Female   42   \n",
              "3          4    15701354      Boni          699    France  Female   39   \n",
              "4          5    15737888  Mitchell          850     Spain  Female   43   \n",
              "\n",
              "   Tenure    Balance  NumOfProducts  HasCrCard  IsActiveMember  \\\n",
              "0     2.0       0.00              1          1               1   \n",
              "1     1.0   83807.86              1          0               1   \n",
              "2     8.0  159660.80              3          1               0   \n",
              "3     1.0       0.00              2          0               0   \n",
              "4     2.0  125510.82              1          1               1   \n",
              "\n",
              "   EstimatedSalary  Exited  \n",
              "0        101348.88       1  \n",
              "1        112542.58       0  \n",
              "2        113931.57       1  \n",
              "3         93826.63       0  \n",
              "4         79084.10       0  "
            ]
          },
          "execution_count": 221,
          "metadata": {},
          "output_type": "execute_result"
        }
      ],
      "source": [
        "# Первые 5 строчек\n",
        "data.head()"
      ]
    },
    {
      "cell_type": "code",
      "execution_count": null,
      "metadata": {
        "scrolled": false,
        "id": "oL-7iOjqvOU0",
        "outputId": "0ecd1f98-97c3-4789-d365-2b165a106622"
      },
      "outputs": [
        {
          "data": {
            "text/plain": [
              "<AxesSubplot:>"
            ]
          },
          "execution_count": 223,
          "metadata": {},
          "output_type": "execute_result"
        },
        {
          "data": {
            "image/png": "[encoded data removed]",
            "text/plain": [
              "<Figure size 432x288 with 1 Axes>"
            ]
          },
          "metadata": {
            "needs_background": "light"
          },
          "output_type": "display_data"
        }
      ],
      "source": [
        "#Распределение по странам\n",
        "data['Geography'].value_counts().plot(kind='bar')"
      ]
    },
    {
      "cell_type": "markdown",
      "metadata": {
        "id": "OwJbuaizvOU0"
      },
      "source": [
        "Больше всего клиентов из Франции, вдвое меньше из Германии и Испании, других стран нет"
      ]
    },
    {
      "cell_type": "code",
      "execution_count": null,
      "metadata": {
        "scrolled": true,
        "id": "SVzXDhk0vOU0",
        "outputId": "c8e0ff2f-63a2-4de8-d7f0-c42a6dfd6b44"
      },
      "outputs": [
        {
          "data": {
            "text/plain": [
              "<AxesSubplot:>"
            ]
          },
          "execution_count": 225,
          "metadata": {},
          "output_type": "execute_result"
        },
        {
          "data": {
            "image/png": "[encoded data removed]",
            "text/plain": [
              "<Figure size 432x288 with 1 Axes>"
            ]
          },
          "metadata": {
            "needs_background": "light"
          },
          "output_type": "display_data"
        }
      ],
      "source": [
        "data['Gender'].value_counts().plot(kind='bar')"
      ]
    },
    {
      "cell_type": "markdown",
      "metadata": {
        "id": "rooHt2QcvOU1"
      },
      "source": [
        "Женщин и мужчин в датасете примерно одинаковое количество"
      ]
    },
    {
      "cell_type": "code",
      "execution_count": null,
      "metadata": {
        "scrolled": false,
        "id": "UVfiOeO-vOU1",
        "outputId": "c058e9b4-a45b-4909-a622-08cdaad544cc"
      },
      "outputs": [
        {
          "data": {
            "text/html": [
              "<div>\n",
              "<style scoped>\n",
              "    .dataframe tbody tr th:only-of-type {\n",
              "        vertical-align: middle;\n",
              "    }\n",
              "\n",
              "    .dataframe tbody tr th {\n",
              "        vertical-align: top;\n",
              "    }\n",
              "\n",
              "    .dataframe thead th {\n",
              "        text-align: right;\n",
              "    }\n",
              "</style>\n",
              "<table border=\"1\" class=\"dataframe\">\n",
              "  <thead>\n",
              "    <tr style=\"text-align: right;\">\n",
              "      <th></th>\n",
              "      <th>RowNumber</th>\n",
              "      <th>CustomerId</th>\n",
              "      <th>CreditScore</th>\n",
              "      <th>Age</th>\n",
              "      <th>Tenure</th>\n",
              "      <th>Balance</th>\n",
              "      <th>NumOfProducts</th>\n",
              "      <th>HasCrCard</th>\n",
              "      <th>IsActiveMember</th>\n",
              "      <th>EstimatedSalary</th>\n",
              "      <th>Exited</th>\n",
              "    </tr>\n",
              "  </thead>\n",
              "  <tbody>\n",
              "    <tr>\n",
              "      <th>count</th>\n",
              "      <td>10000.00000</td>\n",
              "      <td>1.000000e+04</td>\n",
              "      <td>10000.000000</td>\n",
              "      <td>10000.000000</td>\n",
              "      <td>9091.000000</td>\n",
              "      <td>10000.000000</td>\n",
              "      <td>10000.000000</td>\n",
              "      <td>10000.00000</td>\n",
              "      <td>10000.000000</td>\n",
              "      <td>10000.000000</td>\n",
              "      <td>10000.000000</td>\n",
              "    </tr>\n",
              "    <tr>\n",
              "      <th>mean</th>\n",
              "      <td>5000.50000</td>\n",
              "      <td>1.569094e+07</td>\n",
              "      <td>650.528800</td>\n",
              "      <td>38.921800</td>\n",
              "      <td>4.997690</td>\n",
              "      <td>76485.889288</td>\n",
              "      <td>1.530200</td>\n",
              "      <td>0.70550</td>\n",
              "      <td>0.515100</td>\n",
              "      <td>100090.239881</td>\n",
              "      <td>0.203700</td>\n",
              "    </tr>\n",
              "    <tr>\n",
              "      <th>std</th>\n",
              "      <td>2886.89568</td>\n",
              "      <td>7.193619e+04</td>\n",
              "      <td>96.653299</td>\n",
              "      <td>10.487806</td>\n",
              "      <td>2.894723</td>\n",
              "      <td>62397.405202</td>\n",
              "      <td>0.581654</td>\n",
              "      <td>0.45584</td>\n",
              "      <td>0.499797</td>\n",
              "      <td>57510.492818</td>\n",
              "      <td>0.402769</td>\n",
              "    </tr>\n",
              "    <tr>\n",
              "      <th>min</th>\n",
              "      <td>1.00000</td>\n",
              "      <td>1.556570e+07</td>\n",
              "      <td>350.000000</td>\n",
              "      <td>18.000000</td>\n",
              "      <td>0.000000</td>\n",
              "      <td>0.000000</td>\n",
              "      <td>1.000000</td>\n",
              "      <td>0.00000</td>\n",
              "      <td>0.000000</td>\n",
              "      <td>11.580000</td>\n",
              "      <td>0.000000</td>\n",
              "    </tr>\n",
              "    <tr>\n",
              "      <th>25%</th>\n",
              "      <td>2500.75000</td>\n",
              "      <td>1.562853e+07</td>\n",
              "      <td>584.000000</td>\n",
              "      <td>32.000000</td>\n",
              "      <td>2.000000</td>\n",
              "      <td>0.000000</td>\n",
              "      <td>1.000000</td>\n",
              "      <td>0.00000</td>\n",
              "      <td>0.000000</td>\n",
              "      <td>51002.110000</td>\n",
              "      <td>0.000000</td>\n",
              "    </tr>\n",
              "    <tr>\n",
              "      <th>50%</th>\n",
              "      <td>5000.50000</td>\n",
              "      <td>1.569074e+07</td>\n",
              "      <td>652.000000</td>\n",
              "      <td>37.000000</td>\n",
              "      <td>5.000000</td>\n",
              "      <td>97198.540000</td>\n",
              "      <td>1.000000</td>\n",
              "      <td>1.00000</td>\n",
              "      <td>1.000000</td>\n",
              "      <td>100193.915000</td>\n",
              "      <td>0.000000</td>\n",
              "    </tr>\n",
              "    <tr>\n",
              "      <th>75%</th>\n",
              "      <td>7500.25000</td>\n",
              "      <td>1.575323e+07</td>\n",
              "      <td>718.000000</td>\n",
              "      <td>44.000000</td>\n",
              "      <td>7.000000</td>\n",
              "      <td>127644.240000</td>\n",
              "      <td>2.000000</td>\n",
              "      <td>1.00000</td>\n",
              "      <td>1.000000</td>\n",
              "      <td>149388.247500</td>\n",
              "      <td>0.000000</td>\n",
              "    </tr>\n",
              "    <tr>\n",
              "      <th>max</th>\n",
              "      <td>10000.00000</td>\n",
              "      <td>1.581569e+07</td>\n",
              "      <td>850.000000</td>\n",
              "      <td>92.000000</td>\n",
              "      <td>10.000000</td>\n",
              "      <td>250898.090000</td>\n",
              "      <td>4.000000</td>\n",
              "      <td>1.00000</td>\n",
              "      <td>1.000000</td>\n",
              "      <td>199992.480000</td>\n",
              "      <td>1.000000</td>\n",
              "    </tr>\n",
              "  </tbody>\n",
              "</table>\n",
              "</div>"
            ],
            "text/plain": [
              "         RowNumber    CustomerId   CreditScore           Age       Tenure  \\\n",
              "count  10000.00000  1.000000e+04  10000.000000  10000.000000  9091.000000   \n",
              "mean    5000.50000  1.569094e+07    650.528800     38.921800     4.997690   \n",
              "std     2886.89568  7.193619e+04     96.653299     10.487806     2.894723   \n",
              "min        1.00000  1.556570e+07    350.000000     18.000000     0.000000   \n",
              "25%     2500.75000  1.562853e+07    584.000000     32.000000     2.000000   \n",
              "50%     5000.50000  1.569074e+07    652.000000     37.000000     5.000000   \n",
              "75%     7500.25000  1.575323e+07    718.000000     44.000000     7.000000   \n",
              "max    10000.00000  1.581569e+07    850.000000     92.000000    10.000000   \n",
              "\n",
              "             Balance  NumOfProducts    HasCrCard  IsActiveMember  \\\n",
              "count   10000.000000   10000.000000  10000.00000    10000.000000   \n",
              "mean    76485.889288       1.530200      0.70550        0.515100   \n",
              "std     62397.405202       0.581654      0.45584        0.499797   \n",
              "min         0.000000       1.000000      0.00000        0.000000   \n",
              "25%         0.000000       1.000000      0.00000        0.000000   \n",
              "50%     97198.540000       1.000000      1.00000        1.000000   \n",
              "75%    127644.240000       2.000000      1.00000        1.000000   \n",
              "max    250898.090000       4.000000      1.00000        1.000000   \n",
              "\n",
              "       EstimatedSalary        Exited  \n",
              "count     10000.000000  10000.000000  \n",
              "mean     100090.239881      0.203700  \n",
              "std       57510.492818      0.402769  \n",
              "min          11.580000      0.000000  \n",
              "25%       51002.110000      0.000000  \n",
              "50%      100193.915000      0.000000  \n",
              "75%      149388.247500      0.000000  \n",
              "max      199992.480000      1.000000  "
            ]
          },
          "execution_count": 227,
          "metadata": {},
          "output_type": "execute_result"
        }
      ],
      "source": [
        "# Смотрим основную описательную статистику\n",
        "data.describe()"
      ]
    },
    {
      "cell_type": "markdown",
      "metadata": {
        "id": "pAFOOHKZvOU1"
      },
      "source": [
        "Можем заметить большой разброс значений и стандартного отклонения для разных признаков. ML будет считать такие признаки более важными для предсказания, что может ухудшить качество нашей модели, поэтому ниже мы проведём масштабирование. Признак Balance скошен влево, значит есть порядочное количество счетов с нулевым или околонулевым балансом. Основной возрастный диапозон клиентов 32-44 года. Примерно половина людей из данных являются активными клиентами банка. Медианная зарплата клиентов 100 000 рублей, при чём нет скошенности, значит нет выбивающихся очень низких или очень высоких зарплат. 20% людей из данных отказались от услуг этого банка."
      ]
    },
    {
      "cell_type": "code",
      "execution_count": null,
      "metadata": {
        "scrolled": false,
        "id": "L45f686EvOU2",
        "outputId": "c0ac256a-6622-4759-fdf5-8ffc653c4593"
      },
      "outputs": [
        {
          "data": {
            "text/html": [
              "<div>\n",
              "<style scoped>\n",
              "    .dataframe tbody tr th:only-of-type {\n",
              "        vertical-align: middle;\n",
              "    }\n",
              "\n",
              "    .dataframe tbody tr th {\n",
              "        vertical-align: top;\n",
              "    }\n",
              "\n",
              "    .dataframe thead th {\n",
              "        text-align: right;\n",
              "    }\n",
              "</style>\n",
              "<table border=\"1\" class=\"dataframe\">\n",
              "  <thead>\n",
              "    <tr style=\"text-align: right;\">\n",
              "      <th></th>\n",
              "      <th>RowNumber</th>\n",
              "      <th>CustomerId</th>\n",
              "      <th>CreditScore</th>\n",
              "      <th>Age</th>\n",
              "      <th>Tenure</th>\n",
              "      <th>Balance</th>\n",
              "      <th>NumOfProducts</th>\n",
              "      <th>HasCrCard</th>\n",
              "      <th>IsActiveMember</th>\n",
              "      <th>EstimatedSalary</th>\n",
              "      <th>Exited</th>\n",
              "    </tr>\n",
              "  </thead>\n",
              "  <tbody>\n",
              "    <tr>\n",
              "      <th>RowNumber</th>\n",
              "      <td>1.000000</td>\n",
              "      <td>0.004202</td>\n",
              "      <td>0.005840</td>\n",
              "      <td>0.000783</td>\n",
              "      <td>-0.007322</td>\n",
              "      <td>-0.009067</td>\n",
              "      <td>0.007246</td>\n",
              "      <td>0.000599</td>\n",
              "      <td>0.012044</td>\n",
              "      <td>-0.005988</td>\n",
              "      <td>-0.016571</td>\n",
              "    </tr>\n",
              "    <tr>\n",
              "      <th>CustomerId</th>\n",
              "      <td>0.004202</td>\n",
              "      <td>1.000000</td>\n",
              "      <td>0.005308</td>\n",
              "      <td>0.009497</td>\n",
              "      <td>-0.021418</td>\n",
              "      <td>-0.012419</td>\n",
              "      <td>0.016972</td>\n",
              "      <td>-0.014025</td>\n",
              "      <td>0.001665</td>\n",
              "      <td>0.015271</td>\n",
              "      <td>-0.006248</td>\n",
              "    </tr>\n",
              "    <tr>\n",
              "      <th>CreditScore</th>\n",
              "      <td>0.005840</td>\n",
              "      <td>0.005308</td>\n",
              "      <td>1.000000</td>\n",
              "      <td>-0.003965</td>\n",
              "      <td>-0.000062</td>\n",
              "      <td>0.006268</td>\n",
              "      <td>0.012238</td>\n",
              "      <td>-0.005458</td>\n",
              "      <td>0.025651</td>\n",
              "      <td>-0.001384</td>\n",
              "      <td>-0.027094</td>\n",
              "    </tr>\n",
              "    <tr>\n",
              "      <th>Age</th>\n",
              "      <td>0.000783</td>\n",
              "      <td>0.009497</td>\n",
              "      <td>-0.003965</td>\n",
              "      <td>1.000000</td>\n",
              "      <td>-0.013134</td>\n",
              "      <td>0.028308</td>\n",
              "      <td>-0.030680</td>\n",
              "      <td>-0.011721</td>\n",
              "      <td>0.085472</td>\n",
              "      <td>-0.007201</td>\n",
              "      <td>0.285323</td>\n",
              "    </tr>\n",
              "    <tr>\n",
              "      <th>Tenure</th>\n",
              "      <td>-0.007322</td>\n",
              "      <td>-0.021418</td>\n",
              "      <td>-0.000062</td>\n",
              "      <td>-0.013134</td>\n",
              "      <td>1.000000</td>\n",
              "      <td>-0.007911</td>\n",
              "      <td>0.011979</td>\n",
              "      <td>0.027232</td>\n",
              "      <td>-0.032178</td>\n",
              "      <td>0.010520</td>\n",
              "      <td>-0.016761</td>\n",
              "    </tr>\n",
              "    <tr>\n",
              "      <th>Balance</th>\n",
              "      <td>-0.009067</td>\n",
              "      <td>-0.012419</td>\n",
              "      <td>0.006268</td>\n",
              "      <td>0.028308</td>\n",
              "      <td>-0.007911</td>\n",
              "      <td>1.000000</td>\n",
              "      <td>-0.304180</td>\n",
              "      <td>-0.014858</td>\n",
              "      <td>-0.010084</td>\n",
              "      <td>0.012797</td>\n",
              "      <td>0.118533</td>\n",
              "    </tr>\n",
              "    <tr>\n",
              "      <th>NumOfProducts</th>\n",
              "      <td>0.007246</td>\n",
              "      <td>0.016972</td>\n",
              "      <td>0.012238</td>\n",
              "      <td>-0.030680</td>\n",
              "      <td>0.011979</td>\n",
              "      <td>-0.304180</td>\n",
              "      <td>1.000000</td>\n",
              "      <td>0.003183</td>\n",
              "      <td>0.009612</td>\n",
              "      <td>0.014204</td>\n",
              "      <td>-0.047820</td>\n",
              "    </tr>\n",
              "    <tr>\n",
              "      <th>HasCrCard</th>\n",
              "      <td>0.000599</td>\n",
              "      <td>-0.014025</td>\n",
              "      <td>-0.005458</td>\n",
              "      <td>-0.011721</td>\n",
              "      <td>0.027232</td>\n",
              "      <td>-0.014858</td>\n",
              "      <td>0.003183</td>\n",
              "      <td>1.000000</td>\n",
              "      <td>-0.011866</td>\n",
              "      <td>-0.009933</td>\n",
              "      <td>-0.007138</td>\n",
              "    </tr>\n",
              "    <tr>\n",
              "      <th>IsActiveMember</th>\n",
              "      <td>0.012044</td>\n",
              "      <td>0.001665</td>\n",
              "      <td>0.025651</td>\n",
              "      <td>0.085472</td>\n",
              "      <td>-0.032178</td>\n",
              "      <td>-0.010084</td>\n",
              "      <td>0.009612</td>\n",
              "      <td>-0.011866</td>\n",
              "      <td>1.000000</td>\n",
              "      <td>-0.011421</td>\n",
              "      <td>-0.156128</td>\n",
              "    </tr>\n",
              "    <tr>\n",
              "      <th>EstimatedSalary</th>\n",
              "      <td>-0.005988</td>\n",
              "      <td>0.015271</td>\n",
              "      <td>-0.001384</td>\n",
              "      <td>-0.007201</td>\n",
              "      <td>0.010520</td>\n",
              "      <td>0.012797</td>\n",
              "      <td>0.014204</td>\n",
              "      <td>-0.009933</td>\n",
              "      <td>-0.011421</td>\n",
              "      <td>1.000000</td>\n",
              "      <td>0.012097</td>\n",
              "    </tr>\n",
              "    <tr>\n",
              "      <th>Exited</th>\n",
              "      <td>-0.016571</td>\n",
              "      <td>-0.006248</td>\n",
              "      <td>-0.027094</td>\n",
              "      <td>0.285323</td>\n",
              "      <td>-0.016761</td>\n",
              "      <td>0.118533</td>\n",
              "      <td>-0.047820</td>\n",
              "      <td>-0.007138</td>\n",
              "      <td>-0.156128</td>\n",
              "      <td>0.012097</td>\n",
              "      <td>1.000000</td>\n",
              "    </tr>\n",
              "  </tbody>\n",
              "</table>\n",
              "</div>"
            ],
            "text/plain": [
              "                 RowNumber  CustomerId  CreditScore       Age    Tenure  \\\n",
              "RowNumber         1.000000    0.004202     0.005840  0.000783 -0.007322   \n",
              "CustomerId        0.004202    1.000000     0.005308  0.009497 -0.021418   \n",
              "CreditScore       0.005840    0.005308     1.000000 -0.003965 -0.000062   \n",
              "Age               0.000783    0.009497    -0.003965  1.000000 -0.013134   \n",
              "Tenure           -0.007322   -0.021418    -0.000062 -0.013134  1.000000   \n",
              "Balance          -0.009067   -0.012419     0.006268  0.028308 -0.007911   \n",
              "NumOfProducts     0.007246    0.016972     0.012238 -0.030680  0.011979   \n",
              "HasCrCard         0.000599   -0.014025    -0.005458 -0.011721  0.027232   \n",
              "IsActiveMember    0.012044    0.001665     0.025651  0.085472 -0.032178   \n",
              "EstimatedSalary  -0.005988    0.015271    -0.001384 -0.007201  0.010520   \n",
              "Exited           -0.016571   -0.006248    -0.027094  0.285323 -0.016761   \n",
              "\n",
              "                  Balance  NumOfProducts  HasCrCard  IsActiveMember  \\\n",
              "RowNumber       -0.009067       0.007246   0.000599        0.012044   \n",
              "CustomerId      -0.012419       0.016972  -0.014025        0.001665   \n",
              "CreditScore      0.006268       0.012238  -0.005458        0.025651   \n",
              "Age              0.028308      -0.030680  -0.011721        0.085472   \n",
              "Tenure          -0.007911       0.011979   0.027232       -0.032178   \n",
              "Balance          1.000000      -0.304180  -0.014858       -0.010084   \n",
              "NumOfProducts   -0.304180       1.000000   0.003183        0.009612   \n",
              "HasCrCard       -0.014858       0.003183   1.000000       -0.011866   \n",
              "IsActiveMember  -0.010084       0.009612  -0.011866        1.000000   \n",
              "EstimatedSalary  0.012797       0.014204  -0.009933       -0.011421   \n",
              "Exited           0.118533      -0.047820  -0.007138       -0.156128   \n",
              "\n",
              "                 EstimatedSalary    Exited  \n",
              "RowNumber              -0.005988 -0.016571  \n",
              "CustomerId              0.015271 -0.006248  \n",
              "CreditScore            -0.001384 -0.027094  \n",
              "Age                    -0.007201  0.285323  \n",
              "Tenure                  0.010520 -0.016761  \n",
              "Balance                 0.012797  0.118533  \n",
              "NumOfProducts           0.014204 -0.047820  \n",
              "HasCrCard              -0.009933 -0.007138  \n",
              "IsActiveMember         -0.011421 -0.156128  \n",
              "EstimatedSalary         1.000000  0.012097  \n",
              "Exited                  0.012097  1.000000  "
            ]
          },
          "execution_count": 229,
          "metadata": {},
          "output_type": "execute_result"
        }
      ],
      "source": [
        "# Исследуем проблему мультиколлинеарности\n",
        "data.corr()"
      ]
    },
    {
      "cell_type": "markdown",
      "metadata": {
        "id": "Mdkbg-NsvOU2"
      },
      "source": [
        "Проблемы мультиколлинеарности нет"
      ]
    },
    {
      "cell_type": "markdown",
      "metadata": {
        "id": "-bu8nD_2vOU2"
      },
      "source": [
        "### Заполнение пропусков"
      ]
    },
    {
      "cell_type": "code",
      "execution_count": null,
      "metadata": {
        "scrolled": false,
        "id": "bH1fqRMIvOU2",
        "outputId": "789dd85a-c24e-485b-aef3-66023205700b"
      },
      "outputs": [
        {
          "data": {
            "text/html": [
              "<div>\n",
              "<style scoped>\n",
              "    .dataframe tbody tr th:only-of-type {\n",
              "        vertical-align: middle;\n",
              "    }\n",
              "\n",
              "    .dataframe tbody tr th {\n",
              "        vertical-align: top;\n",
              "    }\n",
              "\n",
              "    .dataframe thead th {\n",
              "        text-align: right;\n",
              "    }\n",
              "</style>\n",
              "<table border=\"1\" class=\"dataframe\">\n",
              "  <thead>\n",
              "    <tr style=\"text-align: right;\">\n",
              "      <th></th>\n",
              "      <th>CreditScore</th>\n",
              "      <th>Age</th>\n",
              "      <th>Tenure</th>\n",
              "      <th>Balance</th>\n",
              "      <th>NumOfProducts</th>\n",
              "      <th>HasCrCard</th>\n",
              "      <th>IsActiveMember</th>\n",
              "      <th>EstimatedSalary</th>\n",
              "      <th>Exited</th>\n",
              "      <th>Geography_Germany</th>\n",
              "      <th>Geography_Spain</th>\n",
              "      <th>Gender_Male</th>\n",
              "    </tr>\n",
              "  </thead>\n",
              "  <tbody>\n",
              "    <tr>\n",
              "      <th>0</th>\n",
              "      <td>619</td>\n",
              "      <td>42</td>\n",
              "      <td>2.0</td>\n",
              "      <td>0.00</td>\n",
              "      <td>1</td>\n",
              "      <td>1</td>\n",
              "      <td>1</td>\n",
              "      <td>101348.88</td>\n",
              "      <td>1</td>\n",
              "      <td>0</td>\n",
              "      <td>0</td>\n",
              "      <td>0</td>\n",
              "    </tr>\n",
              "    <tr>\n",
              "      <th>1</th>\n",
              "      <td>608</td>\n",
              "      <td>41</td>\n",
              "      <td>1.0</td>\n",
              "      <td>83807.86</td>\n",
              "      <td>1</td>\n",
              "      <td>0</td>\n",
              "      <td>1</td>\n",
              "      <td>112542.58</td>\n",
              "      <td>0</td>\n",
              "      <td>0</td>\n",
              "      <td>1</td>\n",
              "      <td>0</td>\n",
              "    </tr>\n",
              "    <tr>\n",
              "      <th>2</th>\n",
              "      <td>502</td>\n",
              "      <td>42</td>\n",
              "      <td>8.0</td>\n",
              "      <td>159660.80</td>\n",
              "      <td>3</td>\n",
              "      <td>1</td>\n",
              "      <td>0</td>\n",
              "      <td>113931.57</td>\n",
              "      <td>1</td>\n",
              "      <td>0</td>\n",
              "      <td>0</td>\n",
              "      <td>0</td>\n",
              "    </tr>\n",
              "    <tr>\n",
              "      <th>3</th>\n",
              "      <td>699</td>\n",
              "      <td>39</td>\n",
              "      <td>1.0</td>\n",
              "      <td>0.00</td>\n",
              "      <td>2</td>\n",
              "      <td>0</td>\n",
              "      <td>0</td>\n",
              "      <td>93826.63</td>\n",
              "      <td>0</td>\n",
              "      <td>0</td>\n",
              "      <td>0</td>\n",
              "      <td>0</td>\n",
              "    </tr>\n",
              "    <tr>\n",
              "      <th>4</th>\n",
              "      <td>850</td>\n",
              "      <td>43</td>\n",
              "      <td>2.0</td>\n",
              "      <td>125510.82</td>\n",
              "      <td>1</td>\n",
              "      <td>1</td>\n",
              "      <td>1</td>\n",
              "      <td>79084.10</td>\n",
              "      <td>0</td>\n",
              "      <td>0</td>\n",
              "      <td>1</td>\n",
              "      <td>0</td>\n",
              "    </tr>\n",
              "    <tr>\n",
              "      <th>...</th>\n",
              "      <td>...</td>\n",
              "      <td>...</td>\n",
              "      <td>...</td>\n",
              "      <td>...</td>\n",
              "      <td>...</td>\n",
              "      <td>...</td>\n",
              "      <td>...</td>\n",
              "      <td>...</td>\n",
              "      <td>...</td>\n",
              "      <td>...</td>\n",
              "      <td>...</td>\n",
              "      <td>...</td>\n",
              "    </tr>\n",
              "    <tr>\n",
              "      <th>9995</th>\n",
              "      <td>771</td>\n",
              "      <td>39</td>\n",
              "      <td>5.0</td>\n",
              "      <td>0.00</td>\n",
              "      <td>2</td>\n",
              "      <td>1</td>\n",
              "      <td>0</td>\n",
              "      <td>96270.64</td>\n",
              "      <td>0</td>\n",
              "      <td>0</td>\n",
              "      <td>0</td>\n",
              "      <td>1</td>\n",
              "    </tr>\n",
              "    <tr>\n",
              "      <th>9996</th>\n",
              "      <td>516</td>\n",
              "      <td>35</td>\n",
              "      <td>10.0</td>\n",
              "      <td>57369.61</td>\n",
              "      <td>1</td>\n",
              "      <td>1</td>\n",
              "      <td>1</td>\n",
              "      <td>101699.77</td>\n",
              "      <td>0</td>\n",
              "      <td>0</td>\n",
              "      <td>0</td>\n",
              "      <td>1</td>\n",
              "    </tr>\n",
              "    <tr>\n",
              "      <th>9997</th>\n",
              "      <td>709</td>\n",
              "      <td>36</td>\n",
              "      <td>7.0</td>\n",
              "      <td>0.00</td>\n",
              "      <td>1</td>\n",
              "      <td>0</td>\n",
              "      <td>1</td>\n",
              "      <td>42085.58</td>\n",
              "      <td>1</td>\n",
              "      <td>0</td>\n",
              "      <td>0</td>\n",
              "      <td>0</td>\n",
              "    </tr>\n",
              "    <tr>\n",
              "      <th>9998</th>\n",
              "      <td>772</td>\n",
              "      <td>42</td>\n",
              "      <td>3.0</td>\n",
              "      <td>75075.31</td>\n",
              "      <td>2</td>\n",
              "      <td>1</td>\n",
              "      <td>0</td>\n",
              "      <td>92888.52</td>\n",
              "      <td>1</td>\n",
              "      <td>1</td>\n",
              "      <td>0</td>\n",
              "      <td>1</td>\n",
              "    </tr>\n",
              "    <tr>\n",
              "      <th>9999</th>\n",
              "      <td>792</td>\n",
              "      <td>28</td>\n",
              "      <td>NaN</td>\n",
              "      <td>130142.79</td>\n",
              "      <td>1</td>\n",
              "      <td>1</td>\n",
              "      <td>0</td>\n",
              "      <td>38190.78</td>\n",
              "      <td>0</td>\n",
              "      <td>0</td>\n",
              "      <td>0</td>\n",
              "      <td>0</td>\n",
              "    </tr>\n",
              "  </tbody>\n",
              "</table>\n",
              "<p>10000 rows × 12 columns</p>\n",
              "</div>"
            ],
            "text/plain": [
              "      CreditScore  Age  Tenure    Balance  NumOfProducts  HasCrCard  \\\n",
              "0             619   42     2.0       0.00              1          1   \n",
              "1             608   41     1.0   83807.86              1          0   \n",
              "2             502   42     8.0  159660.80              3          1   \n",
              "3             699   39     1.0       0.00              2          0   \n",
              "4             850   43     2.0  125510.82              1          1   \n",
              "...           ...  ...     ...        ...            ...        ...   \n",
              "9995          771   39     5.0       0.00              2          1   \n",
              "9996          516   35    10.0   57369.61              1          1   \n",
              "9997          709   36     7.0       0.00              1          0   \n",
              "9998          772   42     3.0   75075.31              2          1   \n",
              "9999          792   28     NaN  130142.79              1          1   \n",
              "\n",
              "      IsActiveMember  EstimatedSalary  Exited  Geography_Germany  \\\n",
              "0                  1        101348.88       1                  0   \n",
              "1                  1        112542.58       0                  0   \n",
              "2                  0        113931.57       1                  0   \n",
              "3                  0         93826.63       0                  0   \n",
              "4                  1         79084.10       0                  0   \n",
              "...              ...              ...     ...                ...   \n",
              "9995               0         96270.64       0                  0   \n",
              "9996               1        101699.77       0                  0   \n",
              "9997               1         42085.58       1                  0   \n",
              "9998               0         92888.52       1                  1   \n",
              "9999               0         38190.78       0                  0   \n",
              "\n",
              "      Geography_Spain  Gender_Male  \n",
              "0                   0            0  \n",
              "1                   1            0  \n",
              "2                   0            0  \n",
              "3                   0            0  \n",
              "4                   1            0  \n",
              "...               ...          ...  \n",
              "9995                0            1  \n",
              "9996                0            1  \n",
              "9997                0            0  \n",
              "9998                0            1  \n",
              "9999                0            0  \n",
              "\n",
              "[10000 rows x 12 columns]"
            ]
          },
          "execution_count": 231,
          "metadata": {},
          "output_type": "execute_result"
        }
      ],
      "source": [
        "# Прямое кодирование\n",
        "data = data.drop(['Surname', 'CustomerId', 'RowNumber'], axis=1)\n",
        "data_ohe = pd.get_dummies(data, drop_first=True)\n",
        "data_ohe"
      ]
    },
    {
      "cell_type": "code",
      "execution_count": null,
      "metadata": {
        "id": "jJKfgOdKvOU3",
        "outputId": "37532c96-667c-4990-88ab-d112b5147d03"
      },
      "outputs": [
        {
          "data": {
            "text/plain": [
              "array([[619. ,  42. ,   2. , ...,   0. ,   0. ,   0. ],\n",
              "       [608. ,  41. ,   1. , ...,   0. ,   1. ,   0. ],\n",
              "       [502. ,  42. ,   8. , ...,   0. ,   0. ,   0. ],\n",
              "       ...,\n",
              "       [709. ,  36. ,   7. , ...,   0. ,   0. ,   0. ],\n",
              "       [772. ,  42. ,   3. , ...,   1. ,   0. ,   1. ],\n",
              "       [792. ,  28. ,   4.4, ...,   0. ,   0. ,   0. ]])"
            ]
          },
          "execution_count": 233,
          "metadata": {},
          "output_type": "execute_result"
        }
      ],
      "source": [
        "# Запускаем ML для поиска близких строк и заполняем на основе их средних пропуски\n",
        "imputer = KNNImputer(n_neighbors=5)\n",
        "arr = imputer.fit_transform(data_ohe)\n",
        "arr"
      ]
    },
    {
      "cell_type": "code",
      "execution_count": null,
      "metadata": {
        "id": "ZQM4uWccvOU4",
        "outputId": "4952089f-3af3-4e4c-a4a5-0b37a4fc3853"
      },
      "outputs": [
        {
          "data": {
            "text/plain": [
              "0.0"
            ]
          },
          "execution_count": 235,
          "metadata": {},
          "output_type": "execute_result"
        }
      ],
      "source": [
        "# Проверяем долю пропусков\n",
        "np.isnan(arr).mean()"
      ]
    },
    {
      "cell_type": "code",
      "execution_count": null,
      "metadata": {
        "scrolled": false,
        "id": "Hbys-IE0vOU4",
        "outputId": "b4695cfe-70f3-4f86-ad22-8d5c351283e3"
      },
      "outputs": [
        {
          "data": {
            "text/html": [
              "<div>\n",
              "<style scoped>\n",
              "    .dataframe tbody tr th:only-of-type {\n",
              "        vertical-align: middle;\n",
              "    }\n",
              "\n",
              "    .dataframe tbody tr th {\n",
              "        vertical-align: top;\n",
              "    }\n",
              "\n",
              "    .dataframe thead th {\n",
              "        text-align: right;\n",
              "    }\n",
              "</style>\n",
              "<table border=\"1\" class=\"dataframe\">\n",
              "  <thead>\n",
              "    <tr style=\"text-align: right;\">\n",
              "      <th></th>\n",
              "      <th>CreditScore</th>\n",
              "      <th>Age</th>\n",
              "      <th>Tenure</th>\n",
              "      <th>Balance</th>\n",
              "      <th>NumOfProducts</th>\n",
              "      <th>HasCrCard</th>\n",
              "      <th>IsActiveMember</th>\n",
              "      <th>EstimatedSalary</th>\n",
              "      <th>Exited</th>\n",
              "      <th>Geography_Germany</th>\n",
              "      <th>Geography_Spain</th>\n",
              "      <th>Gender_Male</th>\n",
              "    </tr>\n",
              "  </thead>\n",
              "  <tbody>\n",
              "    <tr>\n",
              "      <th>0</th>\n",
              "      <td>619.0</td>\n",
              "      <td>42.0</td>\n",
              "      <td>2.0</td>\n",
              "      <td>0.00</td>\n",
              "      <td>1.0</td>\n",
              "      <td>1.0</td>\n",
              "      <td>1.0</td>\n",
              "      <td>101348.88</td>\n",
              "      <td>1.0</td>\n",
              "      <td>0.0</td>\n",
              "      <td>0.0</td>\n",
              "      <td>0.0</td>\n",
              "    </tr>\n",
              "    <tr>\n",
              "      <th>1</th>\n",
              "      <td>608.0</td>\n",
              "      <td>41.0</td>\n",
              "      <td>1.0</td>\n",
              "      <td>83807.86</td>\n",
              "      <td>1.0</td>\n",
              "      <td>0.0</td>\n",
              "      <td>1.0</td>\n",
              "      <td>112542.58</td>\n",
              "      <td>0.0</td>\n",
              "      <td>0.0</td>\n",
              "      <td>1.0</td>\n",
              "      <td>0.0</td>\n",
              "    </tr>\n",
              "    <tr>\n",
              "      <th>2</th>\n",
              "      <td>502.0</td>\n",
              "      <td>42.0</td>\n",
              "      <td>8.0</td>\n",
              "      <td>159660.80</td>\n",
              "      <td>3.0</td>\n",
              "      <td>1.0</td>\n",
              "      <td>0.0</td>\n",
              "      <td>113931.57</td>\n",
              "      <td>1.0</td>\n",
              "      <td>0.0</td>\n",
              "      <td>0.0</td>\n",
              "      <td>0.0</td>\n",
              "    </tr>\n",
              "    <tr>\n",
              "      <th>3</th>\n",
              "      <td>699.0</td>\n",
              "      <td>39.0</td>\n",
              "      <td>1.0</td>\n",
              "      <td>0.00</td>\n",
              "      <td>2.0</td>\n",
              "      <td>0.0</td>\n",
              "      <td>0.0</td>\n",
              "      <td>93826.63</td>\n",
              "      <td>0.0</td>\n",
              "      <td>0.0</td>\n",
              "      <td>0.0</td>\n",
              "      <td>0.0</td>\n",
              "    </tr>\n",
              "    <tr>\n",
              "      <th>4</th>\n",
              "      <td>850.0</td>\n",
              "      <td>43.0</td>\n",
              "      <td>2.0</td>\n",
              "      <td>125510.82</td>\n",
              "      <td>1.0</td>\n",
              "      <td>1.0</td>\n",
              "      <td>1.0</td>\n",
              "      <td>79084.10</td>\n",
              "      <td>0.0</td>\n",
              "      <td>0.0</td>\n",
              "      <td>1.0</td>\n",
              "      <td>0.0</td>\n",
              "    </tr>\n",
              "    <tr>\n",
              "      <th>...</th>\n",
              "      <td>...</td>\n",
              "      <td>...</td>\n",
              "      <td>...</td>\n",
              "      <td>...</td>\n",
              "      <td>...</td>\n",
              "      <td>...</td>\n",
              "      <td>...</td>\n",
              "      <td>...</td>\n",
              "      <td>...</td>\n",
              "      <td>...</td>\n",
              "      <td>...</td>\n",
              "      <td>...</td>\n",
              "    </tr>\n",
              "    <tr>\n",
              "      <th>9995</th>\n",
              "      <td>771.0</td>\n",
              "      <td>39.0</td>\n",
              "      <td>5.0</td>\n",
              "      <td>0.00</td>\n",
              "      <td>2.0</td>\n",
              "      <td>1.0</td>\n",
              "      <td>0.0</td>\n",
              "      <td>96270.64</td>\n",
              "      <td>0.0</td>\n",
              "      <td>0.0</td>\n",
              "      <td>0.0</td>\n",
              "      <td>1.0</td>\n",
              "    </tr>\n",
              "    <tr>\n",
              "      <th>9996</th>\n",
              "      <td>516.0</td>\n",
              "      <td>35.0</td>\n",
              "      <td>10.0</td>\n",
              "      <td>57369.61</td>\n",
              "      <td>1.0</td>\n",
              "      <td>1.0</td>\n",
              "      <td>1.0</td>\n",
              "      <td>101699.77</td>\n",
              "      <td>0.0</td>\n",
              "      <td>0.0</td>\n",
              "      <td>0.0</td>\n",
              "      <td>1.0</td>\n",
              "    </tr>\n",
              "    <tr>\n",
              "      <th>9997</th>\n",
              "      <td>709.0</td>\n",
              "      <td>36.0</td>\n",
              "      <td>7.0</td>\n",
              "      <td>0.00</td>\n",
              "      <td>1.0</td>\n",
              "      <td>0.0</td>\n",
              "      <td>1.0</td>\n",
              "      <td>42085.58</td>\n",
              "      <td>1.0</td>\n",
              "      <td>0.0</td>\n",
              "      <td>0.0</td>\n",
              "      <td>0.0</td>\n",
              "    </tr>\n",
              "    <tr>\n",
              "      <th>9998</th>\n",
              "      <td>772.0</td>\n",
              "      <td>42.0</td>\n",
              "      <td>3.0</td>\n",
              "      <td>75075.31</td>\n",
              "      <td>2.0</td>\n",
              "      <td>1.0</td>\n",
              "      <td>0.0</td>\n",
              "      <td>92888.52</td>\n",
              "      <td>1.0</td>\n",
              "      <td>1.0</td>\n",
              "      <td>0.0</td>\n",
              "      <td>1.0</td>\n",
              "    </tr>\n",
              "    <tr>\n",
              "      <th>9999</th>\n",
              "      <td>792.0</td>\n",
              "      <td>28.0</td>\n",
              "      <td>4.4</td>\n",
              "      <td>130142.79</td>\n",
              "      <td>1.0</td>\n",
              "      <td>1.0</td>\n",
              "      <td>0.0</td>\n",
              "      <td>38190.78</td>\n",
              "      <td>0.0</td>\n",
              "      <td>0.0</td>\n",
              "      <td>0.0</td>\n",
              "      <td>0.0</td>\n",
              "    </tr>\n",
              "  </tbody>\n",
              "</table>\n",
              "<p>10000 rows × 12 columns</p>\n",
              "</div>"
            ],
            "text/plain": [
              "      CreditScore   Age  Tenure    Balance  NumOfProducts  HasCrCard  \\\n",
              "0           619.0  42.0     2.0       0.00            1.0        1.0   \n",
              "1           608.0  41.0     1.0   83807.86            1.0        0.0   \n",
              "2           502.0  42.0     8.0  159660.80            3.0        1.0   \n",
              "3           699.0  39.0     1.0       0.00            2.0        0.0   \n",
              "4           850.0  43.0     2.0  125510.82            1.0        1.0   \n",
              "...           ...   ...     ...        ...            ...        ...   \n",
              "9995        771.0  39.0     5.0       0.00            2.0        1.0   \n",
              "9996        516.0  35.0    10.0   57369.61            1.0        1.0   \n",
              "9997        709.0  36.0     7.0       0.00            1.0        0.0   \n",
              "9998        772.0  42.0     3.0   75075.31            2.0        1.0   \n",
              "9999        792.0  28.0     4.4  130142.79            1.0        1.0   \n",
              "\n",
              "      IsActiveMember  EstimatedSalary  Exited  Geography_Germany  \\\n",
              "0                1.0        101348.88     1.0                0.0   \n",
              "1                1.0        112542.58     0.0                0.0   \n",
              "2                0.0        113931.57     1.0                0.0   \n",
              "3                0.0         93826.63     0.0                0.0   \n",
              "4                1.0         79084.10     0.0                0.0   \n",
              "...              ...              ...     ...                ...   \n",
              "9995             0.0         96270.64     0.0                0.0   \n",
              "9996             1.0        101699.77     0.0                0.0   \n",
              "9997             1.0         42085.58     1.0                0.0   \n",
              "9998             0.0         92888.52     1.0                1.0   \n",
              "9999             0.0         38190.78     0.0                0.0   \n",
              "\n",
              "      Geography_Spain  Gender_Male  \n",
              "0                 0.0          0.0  \n",
              "1                 1.0          0.0  \n",
              "2                 0.0          0.0  \n",
              "3                 0.0          0.0  \n",
              "4                 1.0          0.0  \n",
              "...               ...          ...  \n",
              "9995              0.0          1.0  \n",
              "9996              0.0          1.0  \n",
              "9997              0.0          0.0  \n",
              "9998              0.0          1.0  \n",
              "9999              0.0          0.0  \n",
              "\n",
              "[10000 rows x 12 columns]"
            ]
          },
          "execution_count": 237,
          "metadata": {},
          "output_type": "execute_result"
        }
      ],
      "source": [
        "# Снова создаём из массива датафрейм\n",
        "data_fixed = pd.DataFrame(arr, columns=data_ohe.columns)\n",
        "data_fixed"
      ]
    },
    {
      "cell_type": "markdown",
      "metadata": {
        "id": "JR1mK2e7vOU5"
      },
      "source": [
        "### Деление на выборки"
      ]
    },
    {
      "cell_type": "code",
      "execution_count": null,
      "metadata": {
        "id": "rH3tq38xvOU6",
        "outputId": "1171b1c0-b14f-4217-d5da-35462da5f765"
      },
      "outputs": [
        {
          "name": "stdout",
          "output_type": "stream",
          "text": [
            "6000\n",
            "2000\n",
            "2000\n"
          ]
        }
      ],
      "source": [
        "# Делим все данные на тренировочные, валидационные и тестовые выборки\n",
        "train, valid, test = np.split(data_fixed.sample(frac=1, random_state=12345), [int(.6*len(data_fixed)), int(.8*len(data_fixed))])\n",
        "\n",
        "# Сколько объектов получаем\n",
        "print(train.shape[0])\n",
        "print(valid.shape[0])\n",
        "print(test.shape[0])"
      ]
    },
    {
      "cell_type": "code",
      "execution_count": null,
      "metadata": {
        "id": "kmg_cQJlvOU6"
      },
      "outputs": [],
      "source": [
        "# Целевой признак\n",
        "target_train = train['Exited']\n",
        "target_valid = valid['Exited']\n",
        "target_test = test['Exited']\n",
        "\n",
        "# Остальные признаки\n",
        "features_train = train.drop(['Exited'] , axis=1)\n",
        "features_valid = valid.drop(['Exited'] , axis=1)\n",
        "features_test = test.drop(['Exited'] , axis=1)"
      ]
    },
    {
      "cell_type": "markdown",
      "metadata": {
        "id": "dZlibebAvOU7"
      },
      "source": [
        "### Масштабирование"
      ]
    },
    {
      "cell_type": "code",
      "execution_count": null,
      "metadata": {
        "id": "sWlOlUDJvOU7"
      },
      "outputs": [],
      "source": [
        "# Создаем список с численными признаками\n",
        "numeric_cols = ['CreditScore', 'Age', 'Balance', 'EstimatedSalary', 'Tenure', 'NumOfProducts']"
      ]
    },
    {
      "cell_type": "code",
      "execution_count": null,
      "metadata": {
        "id": "DAvn8ylcvOU7",
        "outputId": "9d9fd76a-6227-4c56-bec7-7f182e26ce4d"
      },
      "outputs": [
        {
          "name": "stdout",
          "output_type": "stream",
          "text": [
            "      CreditScore       Age    Tenure   Balance  NumOfProducts  HasCrCard  \\\n",
            "7867    -0.095446  0.692527 -0.706105 -1.207343      -0.934554        1.0   \n",
            "1402     1.108213 -0.948724  1.078280  0.869462      -0.934554        1.0   \n",
            "8606     1.622597  0.306351  0.007649 -1.207343       0.789186        1.0   \n",
            "8885     0.192609  0.595983 -0.349228  0.426066       0.789186        1.0   \n",
            "6494     0.511528 -1.045268  0.721403 -1.207343       0.789186        1.0   \n",
            "\n",
            "      IsActiveMember  EstimatedSalary  Geography_Germany  Geography_Spain  \\\n",
            "7867             1.0         0.967598                0.0              1.0   \n",
            "1402             0.0        -0.403069                0.0              0.0   \n",
            "8606             1.0        -0.447751                0.0              1.0   \n",
            "8885             1.0         1.004463                0.0              1.0   \n",
            "6494             1.0        -1.356118                0.0              0.0   \n",
            "\n",
            "      Gender_Male  \n",
            "7867          0.0  \n",
            "1402          1.0  \n",
            "8606          1.0  \n",
            "8885          1.0  \n",
            "6494          1.0  \n"
          ]
        }
      ],
      "source": [
        "#Проводим масштабирование\n",
        "scaler = StandardScaler()\n",
        "scaler.fit(features_train[numeric_cols])\n",
        "\n",
        "features_train[numeric_cols] = scaler.transform(features_train[numeric_cols])\n",
        "features_valid[numeric_cols] = scaler.transform(features_valid[numeric_cols])\n",
        "features_test[numeric_cols] = scaler.transform(features_test[numeric_cols])\n",
        "\n",
        "print(features_train.head())"
      ]
    },
    {
      "cell_type": "markdown",
      "metadata": {
        "id": "g0M6FBZTvOU7"
      },
      "source": [
        "### Подвывод"
      ]
    },
    {
      "cell_type": "markdown",
      "metadata": {
        "id": "NfX-cTsNvOU8"
      },
      "source": [
        "Мы загрузили данные, посмотрели на их структуру, разделили на части (train, valid, test) и эти части разделили на целевой и остальные признаки. В процессе подготовки к исследованию выяснили, что пропуски есть только в колонке Tenure, но так как их небольшое количество (10% пропусков) и природа пропусков случайна, мы заполнили их методом близжайших строк. Проблемы мультиколлинеарности нет. Присутствует дизбаланс классов в целевом признаке: 8000 отрицальных и 2000 положительных классов.\n",
        "\n",
        "Исследование мы будем строить на основе обучения с учителем, целевой признак -- категориальный, значит у нас задача классификации."
      ]
    },
    {
      "cell_type": "markdown",
      "metadata": {
        "id": "VEX7ZW8GvOU8"
      },
      "source": [
        "## Исследование задачи"
      ]
    },
    {
      "cell_type": "code",
      "execution_count": null,
      "metadata": {
        "scrolled": false,
        "id": "xd61bAaxvOU8",
        "outputId": "cdb3b10d-52f2-498f-856c-9357f331ca9a"
      },
      "outputs": [
        {
          "data": {
            "text/plain": [
              "<AxesSubplot:>"
            ]
          },
          "execution_count": 247,
          "metadata": {},
          "output_type": "execute_result"
        },
        {
          "data": {
            "image/png": "[encoded data removed]",
            "text/plain": [
              "<Figure size 432x288 with 1 Axes>"
            ]
          },
          "metadata": {
            "needs_background": "light"
          },
          "output_type": "display_data"
        }
      ],
      "source": [
        "# Соотношение классов в целевой признаке\n",
        "data_fixed['Exited'].value_counts().plot(kind='bar')"
      ]
    },
    {
      "cell_type": "markdown",
      "metadata": {
        "id": "j6NfWflkvOU8"
      },
      "source": [
        "В целевом признаке видим дисбаланс классов, объектов отрицательного класса в 4 раза больше, потенциально это может отрицательно повлиять на качество модели и значит нам нет смысла смотреть на метрку accuracy_score. Мы проведём обучение разных типов моделей как без исправления дисбаланса, так и используя взвешивание, увеличение и уменьшение выборки, чтобы в конце выявить самые оптимальные параметры качественной модели на основе f1 метрики."
      ]
    },
    {
      "cell_type": "markdown",
      "metadata": {
        "id": "Bf4NlT1YvOU9"
      },
      "source": [
        "### Логистическая регрессия"
      ]
    },
    {
      "cell_type": "code",
      "execution_count": null,
      "metadata": {
        "scrolled": true,
        "id": "YMCIJtngvOU9",
        "outputId": "c7ec3dbd-769c-43d2-8ef5-0242ddb29e91"
      },
      "outputs": [
        {
          "name": "stdout",
          "output_type": "stream",
          "text": [
            "Порог = 0.26 | Лучшая F1 = 0.492 | AUC-ROC = 0.765\n"
          ]
        }
      ],
      "source": [
        "best_F1 = 0\n",
        "best_threshold = 0\n",
        "best_F1_for_model = 0\n",
        "best_model = None\n",
        "\n",
        "\n",
        "\n",
        "model = LogisticRegression(random_state=12345, solver='liblinear')\n",
        "model.fit(features_train, target_train)\n",
        "predicted_prob = model.predict_proba(features_valid)\n",
        "probabilities_one_valid = predicted_prob[:, 1]\n",
        "\n",
        "for threshold in np.arange(0, 0.3, 0.02):\n",
        "    predicted_valid = probabilities_one_valid > threshold\n",
        "    f1_result = f1_score(target_valid, predicted_valid)\n",
        "    auc_roc = roc_auc_score(target_valid, probabilities_one_valid)\n",
        "    if f1_result > best_F1:\n",
        "        best_F1 = f1_result\n",
        "        best_threshold = threshold\n",
        "\n",
        "# Выбираем лучшую модель\n",
        "if best_F1_for_model < best_F1:\n",
        "    best_model = model\n",
        "    best_F1_for_model = best_F1\n",
        "\n",
        "print(\"Порог = {:.2f} | Лучшая F1 = {:.3f} | AUC-ROC = {:.3f}\".format(best_threshold, best_F1, auc_roc))"
      ]
    },
    {
      "cell_type": "markdown",
      "metadata": {
        "id": "akJ692PPvOU-"
      },
      "source": [
        "### Случайный лес"
      ]
    },
    {
      "cell_type": "code",
      "execution_count": null,
      "metadata": {
        "id": "G3eVCn6-vOU-",
        "outputId": "5a36c0e0-0478-467a-cc1f-584077302978"
      },
      "outputs": [
        {
          "name": "stdout",
          "output_type": "stream",
          "text": [
            "Лучшая F1 = 0.555 | Глубина = 19 | AUC-ROC = 0.819 | Кол-во деревьев = 21\n"
          ]
        }
      ],
      "source": [
        "best_F1 = 0\n",
        "best_depth = 0\n",
        "\n",
        "\n",
        "\n",
        "for est in range(1, 30):\n",
        "    for depth in range(1, 30):\n",
        "        # обучаем модель с заданным количеством деревьев\n",
        "        model = RandomForestClassifier(random_state=12345, n_estimators=est, max_depth=depth)\n",
        "        model.fit(features_train, target_train) # обучаем модель на тренировочной выборке\n",
        "        predictions_rand_for = model.predict(features_valid) # получам предсказания модели\n",
        "        result_f1 = f1_score(target_valid, predictions_rand_for)# считаем качество модели\n",
        "        predicted_prob = model.predict_proba(features_valid)\n",
        "        probabilities_one_valid = predicted_prob[:, 1]\n",
        "        auc_roc = roc_auc_score(target_valid, probabilities_one_valid) # считаем AUC-ROC\n",
        "        if result_f1 > best_F1:\n",
        "            best_F1 = result_f1 #  сохраним наилучшее значение метрики f1 на валидационных данных\n",
        "            best_depth = depth\n",
        "            best_est = est# сохраним оптимальную глубину\n",
        "\n",
        "if best_F1_for_model < best_F1:\n",
        "    best_model = model\n",
        "    best_F1_for_model = best_F1\n",
        "\n",
        "print(\"Лучшая F1 = {:.3f} | Глубина = {:.0f} | AUC-ROC = {:.3f} | Кол-во деревьев = {:.0f}\".format(\n",
        "    best_F1, best_depth, auc_roc, best_est))"
      ]
    },
    {
      "cell_type": "markdown",
      "metadata": {
        "id": "AffcRnXuvOU_"
      },
      "source": [
        "### Решающее дерево"
      ]
    },
    {
      "cell_type": "code",
      "execution_count": null,
      "metadata": {
        "id": "OHLGsmzYvOU_",
        "outputId": "5a5e0496-8be5-4c57-d187-4983430d4e8d"
      },
      "outputs": [
        {
          "name": "stdout",
          "output_type": "stream",
          "text": [
            "Лучшая F1 = 0.548 | Глубина = 19 | AUC-ROC = 0.674\n"
          ]
        }
      ],
      "source": [
        "best_F1 = 0\n",
        "\n",
        "\n",
        "for depth in range(1, 101):\n",
        "    model = DecisionTreeClassifier(random_state=12345, max_depth=depth) # обучаем модель с заданной глубиной дерева\n",
        "    model.fit(features_train, target_train) # обучаем модель\n",
        "    predictions_des_tree = model.predict(features_valid) # получам предсказания модели\n",
        "    result_f1 = f1_score(target_valid, predictions_des_tree)\n",
        "    predicted_prob = model.predict_proba(features_valid)\n",
        "    probabilities_one_valid = predicted_prob[:, 1]\n",
        "    auc_roc = roc_auc_score(target_valid, probabilities_one_valid) # считаем AUC-ROC\n",
        "    if result_f1 > best_F1:\n",
        "        best_F1 = result_f1\n",
        "\n",
        "if best_F1_for_model < best_F1:\n",
        "    best_model = model\n",
        "    best_F1_for_model = best_F1\n",
        "\n",
        "print(\"Лучшая F1 = {:.3f} | Глубина = {:.0f} | AUC-ROC = {:.3f}\".format(best_F1, best_depth, auc_roc))"
      ]
    },
    {
      "cell_type": "markdown",
      "metadata": {
        "id": "nhGk0pruvOU_"
      },
      "source": [
        "### Подвывод"
      ]
    },
    {
      "cell_type": "markdown",
      "metadata": {
        "id": "zKI43L58vOU_"
      },
      "source": [
        "При работе с данными с дисбалансом самой лучшей моделью оказался случайный лес, среднегармоничная метрика f1 показала результат 0.56. Лучшее значения AUC-ROC оказалось тоже у случайного леса (0.82)"
      ]
    },
    {
      "cell_type": "markdown",
      "metadata": {
        "id": "z77z3Q2tvOVA"
      },
      "source": [
        "## Борьба с дисбалансом"
      ]
    },
    {
      "cell_type": "markdown",
      "metadata": {
        "id": "LOQsVorVvOVA"
      },
      "source": [
        "### Взвешивание"
      ]
    },
    {
      "cell_type": "markdown",
      "metadata": {
        "id": "M4PzpyA1vOVA"
      },
      "source": [
        "Взвешивание работает таким образом, что даёт дополнительный вес значимости малопредставленным объектам, жертвуя точностью предсказывания многопредставленного класса в пользу точности предсказывания малопредставленного. Увеличение (уменьшение) выборки делает по сути то же самое (дублирование выборки дает больший вес дублируемому классу). Таким образом, использование сразу двух методов балансирование привело бы новому дисбалансу, поэтому использовать такие методы нужно взаимоисключающе."
      ]
    },
    {
      "cell_type": "markdown",
      "metadata": {
        "id": "AaZ-b2aqvOVB"
      },
      "source": [
        "#### Логистическая регрессия"
      ]
    },
    {
      "cell_type": "code",
      "execution_count": null,
      "metadata": {
        "scrolled": true,
        "id": "TWpXZThQvOVB",
        "outputId": "9484c3a3-f605-43f9-b5d6-60a57ecc3965"
      },
      "outputs": [
        {
          "name": "stdout",
          "output_type": "stream",
          "text": [
            "Порог = 0.68 | F1 = 0.498 | AUC-ROC = 0.765\n"
          ]
        }
      ],
      "source": [
        "best_F1 = 0\n",
        "best_threshold = 0\n",
        "\n",
        "\n",
        "model = LogisticRegression(random_state=12345, solver='liblinear', class_weight='balanced')\n",
        "model.fit(features_train, target_train)\n",
        "predicted_prob = model.predict_proba(features_valid)\n",
        "probabilities_one_valid = predicted_prob[:, 1]\n",
        "probabilities_one_valid\n",
        "\n",
        "for threshold in np.arange(0, 0.7, 0.02):\n",
        "    predicted_valid = probabilities_one_valid > threshold\n",
        "    f1_result = f1_score(target_valid, predicted_valid)\n",
        "    auc_roc = roc_auc_score(target_valid, probabilities_one_valid)\n",
        "    if f1_result > best_F1:\n",
        "        best_F1 = f1_result\n",
        "        best_threshold = threshold\n",
        "        best_model = model\n",
        "\n",
        "if best_F1_for_model < best_F1:\n",
        "    best_model = model\n",
        "    best_F1_for_model = best_F1\n",
        "\n",
        "print(\"Порог = {:.2f} | F1 = {:.3f} | AUC-ROC = {:.3f}\".format(\n",
        "        threshold, best_F1, auc_roc))"
      ]
    },
    {
      "cell_type": "markdown",
      "metadata": {
        "id": "y_PSgZelvOVB"
      },
      "source": [
        "#### Случайный лес"
      ]
    },
    {
      "cell_type": "code",
      "execution_count": null,
      "metadata": {
        "id": "q4be-k_cvOVB",
        "outputId": "fb3a82b6-a1d9-4d52-f958-d355d968d24f"
      },
      "outputs": [
        {
          "name": "stdout",
          "output_type": "stream",
          "text": [
            "Лучшая F1 = 0.595 | Глубина = 10 | AUC-ROC = 0.818 | Кол-во деревьев = 23\n"
          ]
        }
      ],
      "source": [
        "best_F1 = 0\n",
        "best_depth = 0\n",
        "best_est = 0\n",
        "\n",
        "for est in range(1, 30):\n",
        "    for depth in range(1, 30):\n",
        "        # обучаем модель с заданным количеством деревьев\n",
        "        model = RandomForestClassifier(random_state=12345, n_estimators=est, max_depth=depth, class_weight='balanced')\n",
        "        model.fit(features_train, target_train) # обучаем модель на тренировочной выборке\n",
        "        predictions_rand_for = model.predict(features_valid) # получам предсказания модели\n",
        "        result_f1 = f1_score(target_valid, predictions_rand_for)\n",
        "        predicted_prob = model.predict_proba(features_valid)\n",
        "        probabilities_one_valid = predicted_prob[:, 1]\n",
        "        auc_roc = roc_auc_score(target_valid, probabilities_one_valid) # считаем AUC-ROC\n",
        "        if result_f1 > best_F1:\n",
        "            best_F1 = result_f1 # сохраним наилучшее значение метрики f1 на валидационных данных\n",
        "            best_depth = depth # сохраним оптимальную глубину\n",
        "            best_est = est\n",
        "\n",
        "if best_F1_for_model < best_F1:\n",
        "    best_model = model\n",
        "    best_F1_for_model = best_F1\n",
        "\n",
        "print(\"Лучшая F1 = {:.3f} | Глубина = {:.0f} | AUC-ROC = {:.3f} | Кол-во деревьев = {:.0f}\".format(\n",
        "    best_F1, best_depth, auc_roc, best_est))"
      ]
    },
    {
      "cell_type": "markdown",
      "metadata": {
        "id": "eO86eUkgvOVC"
      },
      "source": [
        "#### Решающее дерево"
      ]
    },
    {
      "cell_type": "code",
      "execution_count": null,
      "metadata": {
        "id": "yU6rO7NbvOVC",
        "outputId": "7a103895-0f95-4138-b935-3cfe9293adf9"
      },
      "outputs": [
        {
          "name": "stdout",
          "output_type": "stream",
          "text": [
            "Лучшая F1 = 0.541 | Глубина = 8 | AUC-ROC = 0.666\n"
          ]
        }
      ],
      "source": [
        "best_F1 = 0\n",
        "best_depth = 0\n",
        "\n",
        "for depth in range(1, 51):\n",
        "     # обучаем модель с заданной глубиной дерева\n",
        "    model.fit(features_train, target_train) # обучаем модель\n",
        "    model = DecisionTreeClassifier(random_state=12345, max_depth=depth, class_weight='balanced')\n",
        "    model.fit(features_train, target_train) # обучаем модель\n",
        "    predictions_des_tree = model.predict(features_valid) # получам предсказания модели\n",
        "    result_f1 = f1_score(target_valid, predictions_des_tree)\n",
        "    predicted_prob = model.predict_proba(features_valid)\n",
        "    probabilities_one_valid = predicted_prob[:, 1]\n",
        "    auc_roc = roc_auc_score(target_valid, probabilities_one_valid) # считаем AUC-ROC\n",
        "    if result_f1 > best_F1:\n",
        "        best_F1 = result_f1\n",
        "        best_depth = depth\n",
        "\n",
        "if best_F1_for_model < best_F1:\n",
        "    best_model = model\n",
        "    best_F1_for_model = best_F1\n",
        "\n",
        "\n",
        "print(\"Лучшая F1 = {:.3f} | Глубина = {:.0f} | AUC-ROC = {:.3f}\".format(best_F1, best_depth, auc_roc))"
      ]
    },
    {
      "cell_type": "markdown",
      "metadata": {
        "id": "88W3Z28DvOVC"
      },
      "source": [
        "#### Подвывод взвешивания"
      ]
    },
    {
      "cell_type": "markdown",
      "metadata": {
        "id": "L9-LDPlhvOVD"
      },
      "source": [
        "После сбалансирования, модели логистической регрессии (0.492 -> 0.498) и случайного леса (0.55 -> 0.6) выросли в качестве, а решающее дерево (0.548 -> 0.541) стало предсказывать хуже. Лучший результат, как и в дисбалансных моделях, показал случайный лес, f1 = 0.6. AUC-ROC, как и в случае несбалансированных классов, лучший у случайного леса"
      ]
    },
    {
      "cell_type": "markdown",
      "metadata": {
        "id": "ETbig2UovOVD"
      },
      "source": [
        "### Увеличение выборки"
      ]
    },
    {
      "cell_type": "code",
      "execution_count": null,
      "metadata": {
        "id": "xd86mc1EvOVD"
      },
      "outputs": [],
      "source": [
        "def upsample(features, target, repeat):\n",
        "    features_zeros = features[target == 0]\n",
        "    features_ones = features[target == 1]\n",
        "    target_zeros = target[target == 0]\n",
        "    target_ones = target[target == 1]\n",
        "\n",
        "    features_upsampled = pd.concat([features_zeros] + [features_ones] * repeat)\n",
        "    target_upsampled = pd.concat([target_zeros] + [target_ones] * repeat)\n",
        "\n",
        "    features_upsampled, target_upsampled = shuffle(\n",
        "        features_upsampled, target_upsampled, random_state=12345)\n",
        "\n",
        "    return features_upsampled, target_upsampled"
      ]
    },
    {
      "cell_type": "code",
      "execution_count": null,
      "metadata": {
        "id": "Q6AzNl7yvOVD",
        "outputId": "ba2ee579-2177-4544-f06b-cb9f416cf74d"
      },
      "outputs": [
        {
          "data": {
            "text/plain": [
              "0.0    4807\n",
              "1.0    4772\n",
              "Name: Exited, dtype: int64"
            ]
          },
          "execution_count": 263,
          "metadata": {},
          "output_type": "execute_result"
        }
      ],
      "source": [
        "# Проверка функции на работоспособность\n",
        "features_upsampled, target_upsampled = upsample(features_train, target_train, 4)\n",
        "target_upsampled.value_counts()"
      ]
    },
    {
      "cell_type": "markdown",
      "metadata": {
        "id": "sWQpIU3WvOVE"
      },
      "source": [
        "#### Логистическая регрессия"
      ]
    },
    {
      "cell_type": "code",
      "execution_count": null,
      "metadata": {
        "id": "-qF4nkmNvOVE",
        "outputId": "3a31ce50-3e79-44d0-df02-82a1a35b4230"
      },
      "outputs": [
        {
          "name": "stdout",
          "output_type": "stream",
          "text": [
            "Порог = 0.6 | F1 = 0.503 | Множитель выборки = 5 | AUC-ROC = 0.765\n"
          ]
        }
      ],
      "source": [
        "best_F1 = 0\n",
        "best_recall = 0\n",
        "best_precision = 0\n",
        "best_threshold = 0\n",
        "best_n_upsample = 0\n",
        "\n",
        "for n_upsample in range (1, 10):\n",
        "    features_upsampled, target_upsampled = upsample(features_train, target_train, n_upsample)\n",
        "    model = LogisticRegression(random_state=12345, solver='liblinear')\n",
        "    model.fit(features_upsampled, target_upsampled)\n",
        "    predicted_prob = model.predict_proba(features_valid)\n",
        "    probabilities_one_valid = predicted_prob[:, 1]\n",
        "    probabilities_one_valid\n",
        "    auc_roc = roc_auc_score(target_valid, probabilities_one_valid)\n",
        "\n",
        "    for threshold in np.arange(0, 0.6, 0.02):\n",
        "        predicted_valid = probabilities_one_valid > threshold\n",
        "        f1_result = f1_score(target_valid, predicted_valid)\n",
        "        if f1_result > best_F1:\n",
        "            best_F1 = f1_result\n",
        "            best_threshold = threshold\n",
        "            best_n_upsample = n_upsample\n",
        "\n",
        "if best_F1_for_model < best_F1:\n",
        "    best_model = model\n",
        "    best_F1_for_model = best_F1\n",
        "\n",
        "\n",
        "print(\"Порог = {:.1f} | F1 = {:.3f} | Множитель выборки = {:.0f} | AUC-ROC = {:.3f}\".format(\n",
        "            best_threshold, best_F1, best_n_upsample, auc_roc))"
      ]
    },
    {
      "cell_type": "markdown",
      "metadata": {
        "id": "W54YmX6cvOVE"
      },
      "source": [
        "#### Случайный лес"
      ]
    },
    {
      "cell_type": "code",
      "execution_count": null,
      "metadata": {
        "id": "YvdIOToMvOVE",
        "outputId": "500e4f5b-526e-470c-9f7e-1b342dad17d8"
      },
      "outputs": [
        {
          "name": "stdout",
          "output_type": "stream",
          "text": [
            "Лучшая F1 = 0.552 | Глубина = 16 | AUC-ROC = 0.825\n"
          ]
        }
      ],
      "source": [
        "# Выясняем оптимальную глубину\n",
        "best_F1 = 0\n",
        "best_depth = 0\n",
        "\n",
        "\n",
        "\n",
        "for depth in range(1, 101):\n",
        "    # обучаем модель с заданным количеством деревьев\n",
        "    model = RandomForestClassifier(random_state=12345, n_estimators=50, max_depth=depth)\n",
        "    model.fit(features_train, target_train) # обучаем модель на тренировочной выборке\n",
        "    predictions_rand_for = model.predict(features_valid) # получам предсказания модели\n",
        "    result_f1 = f1_score(target_valid, predictions_rand_for)\n",
        "    predicted_prob = model.predict_proba(features_valid)\n",
        "    probabilities_one_valid = predicted_prob[:, 1]\n",
        "    auc_roc = roc_auc_score(target_valid, probabilities_one_valid) # считаем AUC-ROC\n",
        "    if result_f1 > best_F1:\n",
        "        best_F1 = result_f1 #  сохраним наилучшее значение метрики f1 на валидационных данных\n",
        "        best_depth = depth #  сохраним оптимальную глубину\n",
        "\n",
        "if best_F1_for_model < best_F1:\n",
        "    best_model = model\n",
        "    best_F1_for_model = best_F1\n",
        "\n",
        "\n",
        "print(\"Лучшая F1 = {:.3f} | Глубина = {:.0f} | AUC-ROC = {:.3f}\".format(best_F1, best_depth, auc_roc))"
      ]
    },
    {
      "cell_type": "code",
      "execution_count": null,
      "metadata": {
        "id": "ioELG0_tvOVF",
        "outputId": "ab9ab683-d20f-4c81-e155-ea92d1747da6"
      },
      "outputs": [
        {
          "name": "stdout",
          "output_type": "stream",
          "text": [
            "Лучшая F1 = 0.554 | Кол-во деревьев = 19 | AUC-ROC = 0.829\n"
          ]
        }
      ],
      "source": [
        "# Выясняем оптимальное кол-во деревьев\n",
        "best_F1 = 0\n",
        "best_est = 0\n",
        "\n",
        "for est in range(1, 101):\n",
        "    # обучаем модель с заданным количеством деревьев\n",
        "    model = RandomForestClassifier(random_state=12345, n_estimators=est, max_depth=16)\n",
        "    model.fit(features_train, target_train) # обучаем модель на тренировочной выборке\n",
        "    predictions_rand_for = model.predict(features_valid) # получам предсказания модели\n",
        "    result_f1 = f1_score(target_valid, predictions_rand_for)\n",
        "    predicted_prob = model.predict_proba(features_valid)\n",
        "    probabilities_one_valid = predicted_prob[:, 1]\n",
        "    auc_roc = roc_auc_score(target_valid, probabilities_one_valid) # считаем AUC-ROC\n",
        "    if result_f1 > best_F1:\n",
        "        best_F1 = result_f1 #  сохраним наилучшее значение метрики f1 на валидационных данных\n",
        "        best_est = est #  сохраним оптимальное кол-во деревьев\n",
        "\n",
        "if best_F1_for_model < best_F1:\n",
        "    best_model = model\n",
        "    best_F1_for_model = best_F1\n",
        "\n",
        "\n",
        "print(\"Лучшая F1 = {:.3f} | Кол-во деревьев = {:.0f} | AUC-ROC = {:.3f}\".format(best_F1, best_est, auc_roc))"
      ]
    },
    {
      "cell_type": "code",
      "execution_count": null,
      "metadata": {
        "id": "O7ha3UEzvOVF",
        "outputId": "af72e11a-4a9f-48b9-b7ad-741e82f7ba7d"
      },
      "outputs": [
        {
          "name": "stdout",
          "output_type": "stream",
          "text": [
            "Лучшая F1 = 0.573 | Кол-во деревьев = 19 | Множитель выборки = 7 | AUC-ROC = 0.817\n"
          ]
        }
      ],
      "source": [
        "# Выясняем оптимальное кол-во нарощенных выборок\n",
        "best_F1 = 0\n",
        "best_n_upsample = 0\n",
        "\n",
        "\n",
        "for n_upsample in range (1, 8):\n",
        "    features_upsampled, target_upsampled = upsample(features_train, target_train, n_upsample)\n",
        "    # обучаем модель с заданным количеством деревьев\n",
        "    model = RandomForestClassifier(random_state=12345, n_estimators=19, max_depth=16)\n",
        "    model.fit(features_upsampled, target_upsampled) # обучаем модель на тренировочной выборке\n",
        "    predictions_rand_for = model.predict(features_valid) # получам предсказания модели\n",
        "    result_f1 = f1_score(target_valid, predictions_rand_for)\n",
        "    predicted_prob = model.predict_proba(features_valid)\n",
        "    probabilities_one_valid = predicted_prob[:, 1]\n",
        "    auc_roc = roc_auc_score(target_valid, probabilities_one_valid) # считаем AUC-ROC\n",
        "    if result_f1 > best_F1:\n",
        "        best_F1 = result_f1 #  сохраним наилучшее значение метрики f1 на валидационных данных\n",
        "        best_n_upsample = n_upsample #  сохраним наилучшее кол-во нарощенных выборок\n",
        "\n",
        "if best_F1_for_model < best_F1:\n",
        "    best_model = model\n",
        "    best_F1_for_model = best_F1\n",
        "\n",
        "print(\"Лучшая F1 = {:.3f} | Кол-во деревьев = {:.0f} | Множитель выборки = {:.0f} | AUC-ROC = {:.3f}\".format(\n",
        "    best_F1, best_est, best_n_upsample, auc_roc))"
      ]
    },
    {
      "cell_type": "markdown",
      "metadata": {
        "id": "fPfz30mdvOVF"
      },
      "source": [
        "#### Решающее дерево"
      ]
    },
    {
      "cell_type": "code",
      "execution_count": null,
      "metadata": {
        "id": "m7rCZ3zgvOVF",
        "outputId": "70ce0098-dde2-4d0e-98ef-c16cd2aa844c"
      },
      "outputs": [
        {
          "name": "stdout",
          "output_type": "stream",
          "text": [
            "Лучшая F1 = 0.559 | Глубина = 7 | Множитель выборки = 3 | AUC-ROC = 0.658\n"
          ]
        }
      ],
      "source": [
        "best_F1 = 0\n",
        "best_depth = 0\n",
        "best_n_upsample = 0\n",
        "\n",
        "\n",
        "for n_upsample in range (1, 8):\n",
        "    features_upsampled, target_upsampled = upsample(features_train, target_train, n_upsample)\n",
        "    for depth in range(1, 51):\n",
        "        model = DecisionTreeClassifier(random_state=12345, max_depth=depth) # обучаем модель с заданной глубиной дерева\n",
        "        model.fit(features_upsampled, target_upsampled) # обучаем модель\n",
        "        predictions_des_tree = model.predict(features_valid) # получам предсказания модели\n",
        "        result_f1 = f1_score(target_valid, predictions_des_tree)\n",
        "        predicted_prob = model.predict_proba(features_valid)\n",
        "        probabilities_one_valid = predicted_prob[:, 1]\n",
        "        auc_roc = roc_auc_score(target_valid, probabilities_one_valid) # считаем AUC-ROC\n",
        "        if result_f1 > best_F1:\n",
        "            best_F1 = result_f1\n",
        "            best_depth = depth\n",
        "            best_n_upsample = n_upsample\n",
        "\n",
        "if best_F1_for_model < best_F1:\n",
        "    best_model = model\n",
        "    best_F1_for_model = best_F1\n",
        "\n",
        "\n",
        "print(\"Лучшая F1 = {:.3f} | Глубина = {:.0f} | Множитель выборки = {:.0f} | AUC-ROC = {:.3f}\".format(\n",
        "    best_F1, best_depth, best_n_upsample, auc_roc))"
      ]
    },
    {
      "cell_type": "markdown",
      "metadata": {
        "id": "RPLRuIe8vOVG"
      },
      "source": [
        "#### Подвывод увеличения выборки"
      ]
    },
    {
      "cell_type": "markdown",
      "metadata": {
        "id": "PVLe-7BLvOVG"
      },
      "source": [
        "По сравнению с дисбалансной моделью, при увеличении выборки нам удалось повысить f1 для всех моделей. Сравнивая с методом взвешивания, нам удалось увеличить f1 для логистической регрессии (0.498 -> 0.503) и для решающего дерева (0.541 -> 0.559), модель случайного леса стала хуже (0.595 -> 0.573). AUC-ROC остался примерно на том же уровне, как и при взвешивании."
      ]
    },
    {
      "cell_type": "markdown",
      "metadata": {
        "id": "6LOO0RZAvOVG"
      },
      "source": [
        "### Уменьшение выборки"
      ]
    },
    {
      "cell_type": "code",
      "execution_count": null,
      "metadata": {
        "id": "kgvyDlcXvOVG"
      },
      "outputs": [],
      "source": [
        "# Функция для уменьшения выборки\n",
        "def downsample(features, target, fraction):\n",
        "    features_zeros = features[target == 0]\n",
        "    features_ones = features[target == 1]\n",
        "    target_zeros = target[target == 0]\n",
        "    target_ones = target[target == 1]\n",
        "\n",
        "    features_downsampled = pd.concat(\n",
        "        [features_zeros.sample(frac=fraction, random_state=12345)] + [features_ones])\n",
        "    target_downsampled = pd.concat(\n",
        "        [target_zeros.sample(frac=fraction, random_state=12345)] + [target_ones])\n",
        "\n",
        "    features_downsampled, target_downsampled = shuffle(\n",
        "        features_downsampled, target_downsampled, random_state=12345)\n",
        "\n",
        "    return features_downsampled, target_downsampled"
      ]
    },
    {
      "cell_type": "code",
      "execution_count": null,
      "metadata": {
        "id": "v3V0z-_NvOVH",
        "outputId": "1b55b89d-2df2-4d29-d0b2-0022195a5bec"
      },
      "outputs": [
        {
          "data": {
            "text/plain": [
              "0.0    1202\n",
              "1.0    1193\n",
              "Name: Exited, dtype: int64"
            ]
          },
          "execution_count": 277,
          "metadata": {},
          "output_type": "execute_result"
        }
      ],
      "source": [
        "# Проверка функции на работоспособность\n",
        "features_downsampled, target_downsampled = downsample(features_train, target_train, 0.25)\n",
        "target_downsampled.value_counts()"
      ]
    },
    {
      "cell_type": "markdown",
      "metadata": {
        "id": "_XzZZ2QbvOVH"
      },
      "source": [
        "#### Логистическая регрессия"
      ]
    },
    {
      "cell_type": "code",
      "execution_count": null,
      "metadata": {
        "scrolled": true,
        "id": "e_UOA1ZavOVI",
        "outputId": "ca21fdf2-640a-496e-c169-41173b47df5b"
      },
      "outputs": [
        {
          "name": "stdout",
          "output_type": "stream",
          "text": [
            "Порог = 0.48 | F1 = 0.501 | Доля сокращённой выборки = 0.3 | AUC-ROC = 0.764\n"
          ]
        }
      ],
      "source": [
        "best_F1 = 0\n",
        "best_threshold = 0\n",
        "best_n_downsample = 0\n",
        "\n",
        "for n_downsample in np.arange(0.1, 0.9, 0.05):\n",
        "    features_downsampled, target_downsampled = downsample(features_train, target_train, n_downsample)\n",
        "    model = LogisticRegression(random_state=12345, solver='liblinear')\n",
        "    model.fit(features_downsampled, target_downsampled)\n",
        "    predicted_prob = model.predict_proba(features_valid)\n",
        "    probabilities_one_valid = predicted_prob[:, 1]\n",
        "    auc_roc = roc_auc_score(target_valid, probabilities_one_valid)\n",
        "\n",
        "    for threshold in np.arange(0, 0.6, 0.02):\n",
        "        predicted_valid = probabilities_one_valid > threshold\n",
        "        f1_result = f1_score(target_valid, predicted_valid)\n",
        "        if f1_result > best_F1:\n",
        "            best_F1 = f1_result\n",
        "            best_threshold = threshold\n",
        "            best_n_downsample = n_downsample\n",
        "\n",
        "if best_F1_for_model < best_F1:\n",
        "    best_model = model\n",
        "    best_F1_for_model = best_F1\n",
        "\n",
        "\n",
        "print(\"Порог = {:.2f} | F1 = {:.3f} | Доля сокращённой выборки = {:.1f} | AUC-ROC = {:.3f}\".format(\n",
        "            best_threshold, best_F1, best_n_downsample, auc_roc))"
      ]
    },
    {
      "cell_type": "markdown",
      "metadata": {
        "id": "brBr6bybvOVI"
      },
      "source": [
        "#### Случайный лес"
      ]
    },
    {
      "cell_type": "code",
      "execution_count": null,
      "metadata": {
        "id": "60g4x_fMvOVI",
        "outputId": "f292e66e-bfcd-42d7-90e7-37bef17f381d"
      },
      "outputs": [
        {
          "name": "stdout",
          "output_type": "stream",
          "text": [
            "Лучшая F1 = 0.602 | Глубина = 15 | Доля сокращённой выборки = 0.7 | AUC-ROC = 0.764\n"
          ]
        }
      ],
      "source": [
        "# Выясняем оптимальную долю сокращённой выборки и глубину\n",
        "best_F1 = 0\n",
        "best_n_downsample = 0\n",
        "best_depth = 0\n",
        "\n",
        "for n_downsample in np.arange(0.1, 0.8, 0.05):\n",
        "    features_downsampled, target_downsampled = downsample(features_train, target_train, n_downsample)\n",
        "    for depth in range(1, 21):\n",
        "         # обучаем модель с заданным количеством деревьев\n",
        "        model = RandomForestClassifier(random_state=12345, n_estimators=50, max_depth=depth)\n",
        "        model.fit(features_downsampled, target_downsampled) # обучаем модель на тренировочной выборке\n",
        "        predictions_rand_for = model.predict(features_valid) # получам предсказания модели\n",
        "        result_f1 = f1_score(target_valid, predictions_rand_for)\n",
        "        if result_f1 > best_F1:\n",
        "            best_F1 = result_f1 #  сохраним наилучшее значение метрики f1 на валидационных данных\n",
        "            best_n_downsample = n_downsample # сохраним оптимальную долю сокращенной выборки\n",
        "            best_depth = depth # сохраним оптимальную глубину\n",
        "\n",
        "if best_F1_for_model < best_F1:\n",
        "    best_model = model\n",
        "    best_F1_for_model = best_F1\n",
        "\n",
        "\n",
        "print(\"Лучшая F1 = {:.3f} | Глубина = {:.0f} | Доля сокращённой выборки = {:.1f} | AUC-ROC = {:.3f}\".format(\n",
        "    best_F1, best_depth, best_n_downsample, auc_roc))"
      ]
    },
    {
      "cell_type": "code",
      "execution_count": null,
      "metadata": {
        "id": "iLJ2Ok2avOVJ",
        "outputId": "720ed7da-4f98-4634-a3d9-1f72a1b8e722"
      },
      "outputs": [
        {
          "name": "stdout",
          "output_type": "stream",
          "text": [
            "Лучшая F1 = 0.604 | Кол-во деревьев = 48 | Доля сокращённой выборки = 0.7 | AUC-ROC = 0.765\n"
          ]
        }
      ],
      "source": [
        "# Выясняем оптимальное кол-во деревьев\n",
        "best_F1 = 0\n",
        "best_est = 0\n",
        "\n",
        "for n_downsample in np.arange(0.1, 0.8, 0.05):\n",
        "    features_downsampled, target_downsampled = downsample(features_train, target_train, n_downsample)\n",
        "    for est in range(1, 101):\n",
        "        # обучаем модель с заданным количеством деревьев\n",
        "        model = RandomForestClassifier(random_state=12345, n_estimators=est, max_depth=15)\n",
        "        model.fit(features_downsampled, target_downsampled) # обучаем модель на тренировочной выборке\n",
        "        predictions_rand_for = model.predict(features_valid) # получам предсказания модели\n",
        "        result_f1 = f1_score(target_valid, predictions_rand_for)\n",
        "        if result_f1 > best_F1:\n",
        "            best_F1 = result_f1 # сохраним наилучшее значение метрики f1 на валидационных данных\n",
        "            best_est = est # сохраним оптимальное кол-во деревьев\n",
        "            best_n_downsample = n_downsample # сохраним оптимальную долю сокращенной выборки\n",
        "\n",
        "\n",
        "if best_F1_for_model < best_F1:\n",
        "    best_model = model\n",
        "    best_F1_for_model = best_F1\n",
        "\n",
        "\n",
        "print(\"Лучшая F1 = {:.3f} | Кол-во деревьев = {:.0f} | Доля сокращённой выборки = {:.1f} | AUC-ROC = {:.3f}\".format(\n",
        "    best_F1, best_est, best_n_downsample, auc_roc))"
      ]
    },
    {
      "cell_type": "markdown",
      "metadata": {
        "id": "ks0G8T8_vOVJ"
      },
      "source": [
        "#### Решающее дерево"
      ]
    },
    {
      "cell_type": "code",
      "execution_count": null,
      "metadata": {
        "id": "uTtSD5qXvOVJ",
        "outputId": "22a2d8f3-f55f-49bd-e29b-c0048ca3c560"
      },
      "outputs": [
        {
          "name": "stdout",
          "output_type": "stream",
          "text": [
            "Лучшая F1 = 0.569 | Глубина = 8 | Доля сокращённой выборки = 1 | AUC-ROC = 0.703\n"
          ]
        }
      ],
      "source": [
        "best_F1 = 0\n",
        "best_n_downsample = 0\n",
        "best_depth = 0\n",
        "\n",
        "for n_downsample in np.arange(0.1, 0.8, 0.1):\n",
        "    features_downsampled, target_downsampled = downsample(features_train, target_train, n_downsample)\n",
        "    for depth in range(1, 51):\n",
        "        model = DecisionTreeClassifier(random_state=12345, max_depth=depth) # обучаем модель с заданной глубиной дерева\n",
        "        model.fit(features_downsampled, target_downsampled) # обучаем модель\n",
        "        predictions_des_tree = model.predict(features_valid) # получам предсказания модели\n",
        "        result_f1 = f1_score(target_valid, predictions_des_tree)\n",
        "        predicted_prob = model.predict_proba(features_valid)\n",
        "        probabilities_one_valid = predicted_prob[:, 1]\n",
        "        auc_roc = roc_auc_score(target_valid, probabilities_one_valid) # считаем AUC-ROC\n",
        "        if result_f1 > best_F1:\n",
        "            best_F1 = result_f1\n",
        "            best_depth = depth\n",
        "            best_n_downsample = n_downsample\n",
        "\n",
        "if best_F1_for_model < best_F1:\n",
        "    best_model = model\n",
        "    best_F1_for_model = best_F1\n",
        "\n",
        "print(\"Лучшая F1 = {:.3f} | Глубина = {:.0f} | Доля сокращённой выборки = {:.0f} | AUC-ROC = {:.3f}\".format(\n",
        "    best_F1, best_depth, best_n_downsample, auc_roc))"
      ]
    },
    {
      "cell_type": "markdown",
      "metadata": {
        "id": "twNVXSSWvOVK"
      },
      "source": [
        "### Подвывод работы с дисбалансом"
      ]
    },
    {
      "cell_type": "markdown",
      "metadata": {
        "id": "rsYL5Z7MvOVK"
      },
      "source": [
        "Самой качественной моделью оказалась модель случайного дерева сбалансированная с помощью уменьшения выборки (f1 = 0.604). Все модели со всеми способами сбалансирования показали лучшие результаты по сравнению с несбалансированными моделями. AUC-ROC моделей не менялся в зависимости от способа балансировки, самые лучше показатели были всегда у случайного леса (0.8)"
      ]
    },
    {
      "cell_type": "markdown",
      "metadata": {
        "id": "86o-DJnrvOVK"
      },
      "source": [
        "## Тестирование модели"
      ]
    },
    {
      "cell_type": "code",
      "execution_count": null,
      "metadata": {
        "id": "zDETlIzMvOVK",
        "outputId": "6309b2b0-0e1a-4160-a733-40bf9f53ca32"
      },
      "outputs": [
        {
          "name": "stdout",
          "output_type": "stream",
          "text": [
            "F1 = 0.627027027027027  | AUC-ROC = 0.8341253425999188\n"
          ]
        }
      ],
      "source": [
        "predictions_rand_for = best_model.predict(features_test) # получам предсказания модели\n",
        "result_f1 = f1_score(target_test, predictions_rand_for) # считаем f1 модели\n",
        "predicted_prob = best_model.predict_proba(features_valid)\n",
        "probabilities_one_valid = predicted_prob[:, 1]\n",
        "auc_roc = roc_auc_score(target_valid, probabilities_one_valid) # считаем AUC-ROC\n",
        "print('F1 =', result_f1, ' | AUC-ROC =', auc_roc)"
      ]
    },
    {
      "cell_type": "markdown",
      "metadata": {
        "id": "Hyzr5G4mvOVL"
      },
      "source": [
        "## Вывод"
      ]
    },
    {
      "cell_type": "markdown",
      "metadata": {
        "id": "RPW6RvH6vOVL"
      },
      "source": [
        "Мы загрузили и изучили данные, заполнили пропуски с помощью близжайших строк, разделили все данные на 3 выборки (train, valid, test) и провели множество обучений разных моделей с разными параметрами и с разными способами сбалансирования классов. По итогу все взвешенные модели показали качество предсказания лучше, чем у моделей без взвешивания. Самой качественной моделью во всех случаях оказалась модель случайного леса, самым эффективным способом сбалансирования оказалось уменьшение выборки. На тестовой выборке мы получили f1 = 0.63, что удовлетворяет условиями готовности.  Все обученные модели оказались лучше константных, так как AUC-ROC всех моделей при всех способах (или отсутствии) балансировки показали результаты значительно больше 0.5"
      ]
    }
  ],
  "metadata": {
    "ExecuteTimeLog": [
      {
        "duration": 1179,
        "start_time": "2023-04-11T23:10:20.395Z"
      },
      {
        "duration": 94,
        "start_time": "2023-04-11T23:12:10.260Z"
      },
      {
        "duration": 178,
        "start_time": "2023-04-11T23:12:13.308Z"
      },
      {
        "duration": 14,
        "start_time": "2023-04-11T23:12:13.729Z"
      },
      {
        "duration": 21,
        "start_time": "2023-04-11T23:12:26.340Z"
      },
      {
        "duration": 38,
        "start_time": "2023-04-11T23:16:13.293Z"
      },
      {
        "duration": 14,
        "start_time": "2023-04-11T23:23:50.618Z"
      },
      {
        "duration": 3,
        "start_time": "2023-04-11T23:25:10.922Z"
      },
      {
        "duration": 12,
        "start_time": "2023-04-11T23:25:14.803Z"
      },
      {
        "duration": 11,
        "start_time": "2023-04-11T23:25:27.908Z"
      },
      {
        "duration": 3,
        "start_time": "2023-04-11T23:25:45.308Z"
      },
      {
        "duration": 11,
        "start_time": "2023-04-11T23:25:51.451Z"
      },
      {
        "duration": 10,
        "start_time": "2023-04-11T23:25:55.267Z"
      },
      {
        "duration": 9,
        "start_time": "2023-04-12T00:01:55.328Z"
      },
      {
        "duration": 61,
        "start_time": "2023-04-12T10:15:57.472Z"
      },
      {
        "duration": 1225,
        "start_time": "2023-04-12T10:16:01.738Z"
      },
      {
        "duration": 173,
        "start_time": "2023-04-12T10:16:02.966Z"
      },
      {
        "duration": 16,
        "start_time": "2023-04-12T10:16:03.140Z"
      },
      {
        "duration": 33,
        "start_time": "2023-04-12T10:16:03.158Z"
      },
      {
        "duration": 54,
        "start_time": "2023-04-12T10:16:03.193Z"
      },
      {
        "duration": 12,
        "start_time": "2023-04-12T10:16:06.810Z"
      },
      {
        "duration": 39,
        "start_time": "2023-04-12T10:16:07.278Z"
      },
      {
        "duration": 23,
        "start_time": "2023-04-12T10:16:09.330Z"
      },
      {
        "duration": 18,
        "start_time": "2023-04-12T10:33:57.939Z"
      },
      {
        "duration": 5,
        "start_time": "2023-04-12T10:39:52.040Z"
      },
      {
        "duration": 6,
        "start_time": "2023-04-12T10:40:02.176Z"
      },
      {
        "duration": 66,
        "start_time": "2023-04-12T10:59:32.235Z"
      },
      {
        "duration": 3,
        "start_time": "2023-04-12T10:59:42.958Z"
      },
      {
        "duration": 10,
        "start_time": "2023-04-12T10:59:46.468Z"
      },
      {
        "duration": 8,
        "start_time": "2023-04-12T10:59:59.948Z"
      },
      {
        "duration": 3,
        "start_time": "2023-04-12T11:00:03.269Z"
      },
      {
        "duration": 63,
        "start_time": "2023-04-12T11:00:03.275Z"
      },
      {
        "duration": 11,
        "start_time": "2023-04-12T11:00:03.340Z"
      },
      {
        "duration": 40,
        "start_time": "2023-04-12T11:00:03.353Z"
      },
      {
        "duration": 48,
        "start_time": "2023-04-12T11:00:03.394Z"
      },
      {
        "duration": 20,
        "start_time": "2023-04-12T11:00:03.444Z"
      },
      {
        "duration": 5,
        "start_time": "2023-04-12T11:00:03.465Z"
      },
      {
        "duration": 23,
        "start_time": "2023-04-12T11:00:03.472Z"
      },
      {
        "duration": 9,
        "start_time": "2023-04-12T11:00:04.676Z"
      },
      {
        "duration": 19,
        "start_time": "2023-04-12T11:00:06.857Z"
      },
      {
        "duration": 6,
        "start_time": "2023-04-12T11:02:49.230Z"
      },
      {
        "duration": 16,
        "start_time": "2023-04-12T11:02:51.206Z"
      },
      {
        "duration": 7,
        "start_time": "2023-04-12T11:03:13.558Z"
      },
      {
        "duration": 17,
        "start_time": "2023-04-12T11:03:16.559Z"
      },
      {
        "duration": 254,
        "start_time": "2023-04-12T11:05:49.409Z"
      },
      {
        "duration": 15,
        "start_time": "2023-04-12T11:06:19.209Z"
      },
      {
        "duration": 13,
        "start_time": "2023-04-12T11:06:39.769Z"
      },
      {
        "duration": 16,
        "start_time": "2023-04-12T11:07:23.049Z"
      },
      {
        "duration": 26,
        "start_time": "2023-04-12T11:07:44.397Z"
      },
      {
        "duration": 9,
        "start_time": "2023-04-12T11:08:32.800Z"
      },
      {
        "duration": 7,
        "start_time": "2023-04-12T11:08:38.377Z"
      },
      {
        "duration": 16,
        "start_time": "2023-04-12T11:08:43.242Z"
      },
      {
        "duration": 5,
        "start_time": "2023-04-12T11:14:05.165Z"
      },
      {
        "duration": 11,
        "start_time": "2023-04-12T11:14:19.253Z"
      },
      {
        "duration": 15,
        "start_time": "2023-04-12T11:16:51.063Z"
      },
      {
        "duration": 13,
        "start_time": "2023-04-12T11:18:33.367Z"
      },
      {
        "duration": 11,
        "start_time": "2023-04-12T11:18:33.565Z"
      },
      {
        "duration": 35,
        "start_time": "2023-04-12T11:18:33.736Z"
      },
      {
        "duration": 18,
        "start_time": "2023-04-12T11:18:33.910Z"
      },
      {
        "duration": 5,
        "start_time": "2023-04-12T11:18:34.087Z"
      },
      {
        "duration": 12,
        "start_time": "2023-04-12T11:18:34.492Z"
      },
      {
        "duration": 3,
        "start_time": "2023-04-12T11:19:05.067Z"
      },
      {
        "duration": 98,
        "start_time": "2023-04-12T11:19:05.073Z"
      },
      {
        "duration": 15,
        "start_time": "2023-04-12T11:19:05.173Z"
      },
      {
        "duration": 19,
        "start_time": "2023-04-12T11:19:05.190Z"
      },
      {
        "duration": 12,
        "start_time": "2023-04-12T11:19:05.210Z"
      },
      {
        "duration": 47,
        "start_time": "2023-04-12T11:19:05.224Z"
      },
      {
        "duration": 17,
        "start_time": "2023-04-12T11:19:05.273Z"
      },
      {
        "duration": 6,
        "start_time": "2023-04-12T11:19:05.292Z"
      },
      {
        "duration": 26,
        "start_time": "2023-04-12T11:19:07.735Z"
      },
      {
        "duration": 8,
        "start_time": "2023-04-12T11:19:10.744Z"
      },
      {
        "duration": 6,
        "start_time": "2023-04-12T11:19:16.208Z"
      },
      {
        "duration": 16,
        "start_time": "2023-04-12T11:19:19.456Z"
      },
      {
        "duration": 14,
        "start_time": "2023-04-12T11:22:09.969Z"
      },
      {
        "duration": 6,
        "start_time": "2023-04-12T11:24:10.077Z"
      },
      {
        "duration": 3,
        "start_time": "2023-04-12T11:24:14.289Z"
      },
      {
        "duration": 51,
        "start_time": "2023-04-12T11:24:14.294Z"
      },
      {
        "duration": 11,
        "start_time": "2023-04-12T11:24:14.346Z"
      },
      {
        "duration": 14,
        "start_time": "2023-04-12T11:24:14.359Z"
      },
      {
        "duration": 12,
        "start_time": "2023-04-12T11:24:14.375Z"
      },
      {
        "duration": 38,
        "start_time": "2023-04-12T11:24:14.388Z"
      },
      {
        "duration": 34,
        "start_time": "2023-04-12T11:24:14.428Z"
      },
      {
        "duration": 8,
        "start_time": "2023-04-12T11:24:14.465Z"
      },
      {
        "duration": 58,
        "start_time": "2023-04-12T11:24:14.475Z"
      },
      {
        "duration": 17,
        "start_time": "2023-04-12T11:24:14.535Z"
      },
      {
        "duration": 20,
        "start_time": "2023-04-12T11:24:14.555Z"
      },
      {
        "duration": 15,
        "start_time": "2023-04-12T11:24:17.266Z"
      },
      {
        "duration": 4,
        "start_time": "2023-04-12T11:25:02.299Z"
      },
      {
        "duration": 5,
        "start_time": "2023-04-12T11:25:08.819Z"
      },
      {
        "duration": 6,
        "start_time": "2023-04-12T11:26:08.509Z"
      },
      {
        "duration": 5,
        "start_time": "2023-04-12T11:26:10.842Z"
      },
      {
        "duration": 23,
        "start_time": "2023-04-12T11:26:12.994Z"
      },
      {
        "duration": 3,
        "start_time": "2023-04-12T11:26:57.529Z"
      },
      {
        "duration": 19,
        "start_time": "2023-04-12T11:27:01.390Z"
      },
      {
        "duration": 35,
        "start_time": "2023-04-12T11:37:27.524Z"
      },
      {
        "duration": 22,
        "start_time": "2023-04-12T11:37:38.410Z"
      },
      {
        "duration": 20,
        "start_time": "2023-04-12T11:37:51.835Z"
      },
      {
        "duration": 70,
        "start_time": "2023-04-12T11:41:30.845Z"
      },
      {
        "duration": 77,
        "start_time": "2023-04-12T11:41:41.173Z"
      },
      {
        "duration": 4,
        "start_time": "2023-04-12T11:41:51.491Z"
      },
      {
        "duration": 40,
        "start_time": "2023-04-12T11:41:51.497Z"
      },
      {
        "duration": 13,
        "start_time": "2023-04-12T11:41:51.538Z"
      },
      {
        "duration": 26,
        "start_time": "2023-04-12T11:41:51.553Z"
      },
      {
        "duration": 25,
        "start_time": "2023-04-12T11:41:51.582Z"
      },
      {
        "duration": 44,
        "start_time": "2023-04-12T11:41:51.609Z"
      },
      {
        "duration": 19,
        "start_time": "2023-04-12T11:41:51.655Z"
      },
      {
        "duration": 5,
        "start_time": "2023-04-12T11:41:51.677Z"
      },
      {
        "duration": 58,
        "start_time": "2023-04-12T11:41:51.684Z"
      },
      {
        "duration": 17,
        "start_time": "2023-04-12T11:41:51.744Z"
      },
      {
        "duration": 16,
        "start_time": "2023-04-12T11:41:51.762Z"
      },
      {
        "duration": 8,
        "start_time": "2023-04-12T11:41:51.780Z"
      },
      {
        "duration": 19,
        "start_time": "2023-04-12T11:41:53.292Z"
      },
      {
        "duration": 19,
        "start_time": "2023-04-12T11:42:10.000Z"
      },
      {
        "duration": 53,
        "start_time": "2023-04-12T11:42:27.373Z"
      },
      {
        "duration": 61,
        "start_time": "2023-04-12T11:42:27.689Z"
      },
      {
        "duration": 66,
        "start_time": "2023-04-12T11:46:18.761Z"
      },
      {
        "duration": 3,
        "start_time": "2023-04-12T11:46:22.830Z"
      },
      {
        "duration": 41,
        "start_time": "2023-04-12T11:46:22.835Z"
      },
      {
        "duration": 10,
        "start_time": "2023-04-12T11:46:22.878Z"
      },
      {
        "duration": 13,
        "start_time": "2023-04-12T11:46:22.890Z"
      },
      {
        "duration": 12,
        "start_time": "2023-04-12T11:46:22.906Z"
      },
      {
        "duration": 47,
        "start_time": "2023-04-12T11:46:22.920Z"
      },
      {
        "duration": 17,
        "start_time": "2023-04-12T11:46:22.969Z"
      },
      {
        "duration": 5,
        "start_time": "2023-04-12T11:46:22.988Z"
      },
      {
        "duration": 24,
        "start_time": "2023-04-12T11:46:22.994Z"
      },
      {
        "duration": 30,
        "start_time": "2023-04-12T11:46:23.020Z"
      },
      {
        "duration": 7,
        "start_time": "2023-04-12T11:46:23.051Z"
      },
      {
        "duration": 65,
        "start_time": "2023-04-12T12:23:57.061Z"
      },
      {
        "duration": 48,
        "start_time": "2023-04-12T12:24:17.653Z"
      },
      {
        "duration": 12,
        "start_time": "2023-04-12T12:24:21.957Z"
      },
      {
        "duration": 64,
        "start_time": "2023-04-12T12:24:22.493Z"
      },
      {
        "duration": 59,
        "start_time": "2023-04-12T12:25:07.591Z"
      },
      {
        "duration": 17,
        "start_time": "2023-04-12T12:25:08.991Z"
      },
      {
        "duration": 31,
        "start_time": "2023-04-12T12:25:09.535Z"
      },
      {
        "duration": 46,
        "start_time": "2023-04-12T12:25:28.984Z"
      },
      {
        "duration": 13,
        "start_time": "2023-04-12T12:25:30.478Z"
      },
      {
        "duration": 80,
        "start_time": "2023-04-12T12:25:30.670Z"
      },
      {
        "duration": 59,
        "start_time": "2023-04-12T12:25:39.423Z"
      },
      {
        "duration": 15,
        "start_time": "2023-04-12T12:25:40.895Z"
      },
      {
        "duration": 44,
        "start_time": "2023-04-12T12:25:41.206Z"
      },
      {
        "duration": 55,
        "start_time": "2023-04-12T12:26:40.535Z"
      },
      {
        "duration": 1387,
        "start_time": "2023-04-12T12:26:52.831Z"
      },
      {
        "duration": 1405,
        "start_time": "2023-04-12T12:27:13.448Z"
      },
      {
        "duration": 1365,
        "start_time": "2023-04-12T12:27:27.295Z"
      },
      {
        "duration": 2257,
        "start_time": "2023-04-12T12:27:33.897Z"
      },
      {
        "duration": 2068,
        "start_time": "2023-04-12T12:33:16.686Z"
      },
      {
        "duration": 2308,
        "start_time": "2023-04-12T12:33:46.844Z"
      },
      {
        "duration": 3,
        "start_time": "2023-04-12T13:05:11.294Z"
      },
      {
        "duration": 1915,
        "start_time": "2023-04-12T13:05:17.344Z"
      },
      {
        "duration": 4,
        "start_time": "2023-04-12T13:15:26.787Z"
      },
      {
        "duration": 1676,
        "start_time": "2023-04-12T13:15:31.979Z"
      },
      {
        "duration": 4,
        "start_time": "2023-04-12T13:15:51.393Z"
      },
      {
        "duration": 72,
        "start_time": "2023-04-12T13:15:51.399Z"
      },
      {
        "duration": 14,
        "start_time": "2023-04-12T13:15:51.473Z"
      },
      {
        "duration": 20,
        "start_time": "2023-04-12T13:15:51.488Z"
      },
      {
        "duration": 54,
        "start_time": "2023-04-12T13:15:51.510Z"
      },
      {
        "duration": 17,
        "start_time": "2023-04-12T13:15:51.565Z"
      },
      {
        "duration": 13,
        "start_time": "2023-04-12T13:15:51.583Z"
      },
      {
        "duration": 33,
        "start_time": "2023-04-12T13:15:51.597Z"
      },
      {
        "duration": 23,
        "start_time": "2023-04-12T13:15:51.631Z"
      },
      {
        "duration": 17,
        "start_time": "2023-04-12T13:15:51.655Z"
      },
      {
        "duration": 8,
        "start_time": "2023-04-12T13:15:51.674Z"
      },
      {
        "duration": 79,
        "start_time": "2023-04-12T13:16:30.771Z"
      },
      {
        "duration": 42,
        "start_time": "2023-04-12T13:16:42.108Z"
      },
      {
        "duration": 27,
        "start_time": "2023-04-12T13:17:04.501Z"
      },
      {
        "duration": 32,
        "start_time": "2023-04-12T13:17:45.829Z"
      },
      {
        "duration": 10,
        "start_time": "2023-04-12T13:33:28.350Z"
      },
      {
        "duration": 70,
        "start_time": "2023-04-12T13:33:55.486Z"
      },
      {
        "duration": 34,
        "start_time": "2023-04-12T13:34:05.015Z"
      },
      {
        "duration": 120,
        "start_time": "2023-04-12T13:35:23.133Z"
      },
      {
        "duration": 116,
        "start_time": "2023-04-12T13:35:34.093Z"
      },
      {
        "duration": 47,
        "start_time": "2023-04-12T13:36:00.408Z"
      },
      {
        "duration": 15,
        "start_time": "2023-04-12T13:36:03.301Z"
      },
      {
        "duration": 114,
        "start_time": "2023-04-12T13:36:07.938Z"
      },
      {
        "duration": 45,
        "start_time": "2023-04-12T13:55:33.082Z"
      },
      {
        "duration": 49,
        "start_time": "2023-04-12T13:56:07.365Z"
      },
      {
        "duration": 16,
        "start_time": "2023-04-12T13:56:10.466Z"
      },
      {
        "duration": 81,
        "start_time": "2023-04-12T13:56:15.675Z"
      },
      {
        "duration": 35,
        "start_time": "2023-04-12T13:56:29.428Z"
      },
      {
        "duration": 1092,
        "start_time": "2023-04-13T12:52:02.337Z"
      },
      {
        "duration": 77,
        "start_time": "2023-04-13T12:52:06.095Z"
      },
      {
        "duration": 12,
        "start_time": "2023-04-13T12:52:06.255Z"
      },
      {
        "duration": 42,
        "start_time": "2023-04-13T12:52:07.887Z"
      },
      {
        "duration": 19,
        "start_time": "2023-04-13T12:52:08.607Z"
      },
      {
        "duration": 108,
        "start_time": "2023-04-13T12:57:24.677Z"
      },
      {
        "duration": 20,
        "start_time": "2023-04-13T12:57:38.538Z"
      },
      {
        "duration": 4,
        "start_time": "2023-04-13T12:58:23.785Z"
      },
      {
        "duration": 37,
        "start_time": "2023-04-13T12:58:23.790Z"
      },
      {
        "duration": 11,
        "start_time": "2023-04-13T12:58:23.829Z"
      },
      {
        "duration": 11,
        "start_time": "2023-04-13T12:58:23.841Z"
      },
      {
        "duration": 36,
        "start_time": "2023-04-13T12:58:23.855Z"
      },
      {
        "duration": 36,
        "start_time": "2023-04-13T12:58:23.893Z"
      },
      {
        "duration": 25,
        "start_time": "2023-04-13T12:58:23.930Z"
      },
      {
        "duration": 7,
        "start_time": "2023-04-13T12:58:23.957Z"
      },
      {
        "duration": 16,
        "start_time": "2023-04-13T12:58:23.965Z"
      },
      {
        "duration": 1157,
        "start_time": "2023-04-13T12:58:54.203Z"
      },
      {
        "duration": 6,
        "start_time": "2023-04-13T12:59:03.468Z"
      },
      {
        "duration": 9,
        "start_time": "2023-04-13T12:59:23.324Z"
      },
      {
        "duration": 4,
        "start_time": "2023-04-13T13:00:12.516Z"
      },
      {
        "duration": 4,
        "start_time": "2023-04-13T13:00:23.867Z"
      },
      {
        "duration": 4,
        "start_time": "2023-04-13T13:20:16.072Z"
      },
      {
        "duration": 7,
        "start_time": "2023-04-13T13:20:21.425Z"
      },
      {
        "duration": 4,
        "start_time": "2023-04-13T13:20:26.208Z"
      },
      {
        "duration": 8,
        "start_time": "2023-04-13T13:24:06.507Z"
      },
      {
        "duration": 6,
        "start_time": "2023-04-13T13:25:13.916Z"
      },
      {
        "duration": 4,
        "start_time": "2023-04-13T13:25:17.076Z"
      },
      {
        "duration": 9,
        "start_time": "2023-04-13T13:25:27.029Z"
      },
      {
        "duration": 4,
        "start_time": "2023-04-13T13:25:41.133Z"
      },
      {
        "duration": 34,
        "start_time": "2023-04-13T13:25:41.138Z"
      },
      {
        "duration": 11,
        "start_time": "2023-04-13T13:25:41.173Z"
      },
      {
        "duration": 11,
        "start_time": "2023-04-13T13:25:41.186Z"
      },
      {
        "duration": 34,
        "start_time": "2023-04-13T13:25:41.199Z"
      },
      {
        "duration": 18,
        "start_time": "2023-04-13T13:25:41.235Z"
      },
      {
        "duration": 25,
        "start_time": "2023-04-13T13:25:41.254Z"
      },
      {
        "duration": 6,
        "start_time": "2023-04-13T13:25:41.280Z"
      },
      {
        "duration": 5,
        "start_time": "2023-04-13T13:25:41.288Z"
      },
      {
        "duration": 1139,
        "start_time": "2023-04-13T13:25:41.317Z"
      },
      {
        "duration": 4,
        "start_time": "2023-04-13T13:25:42.457Z"
      },
      {
        "duration": 4,
        "start_time": "2023-04-13T13:25:43.804Z"
      },
      {
        "duration": 3,
        "start_time": "2023-04-13T13:25:44.838Z"
      },
      {
        "duration": 4,
        "start_time": "2023-04-13T13:26:22.932Z"
      },
      {
        "duration": 4,
        "start_time": "2023-04-13T13:27:49.923Z"
      },
      {
        "duration": 9,
        "start_time": "2023-04-13T13:29:53.215Z"
      },
      {
        "duration": 4,
        "start_time": "2023-04-13T13:30:27.824Z"
      },
      {
        "duration": 4,
        "start_time": "2023-04-13T13:30:46.984Z"
      },
      {
        "duration": 60,
        "start_time": "2023-04-13T13:30:46.990Z"
      },
      {
        "duration": 13,
        "start_time": "2023-04-13T13:30:47.052Z"
      },
      {
        "duration": 30,
        "start_time": "2023-04-13T13:30:47.066Z"
      },
      {
        "duration": 40,
        "start_time": "2023-04-13T13:30:47.098Z"
      },
      {
        "duration": 17,
        "start_time": "2023-04-13T13:30:47.140Z"
      },
      {
        "duration": 29,
        "start_time": "2023-04-13T13:30:47.158Z"
      },
      {
        "duration": 30,
        "start_time": "2023-04-13T13:30:47.189Z"
      },
      {
        "duration": 7,
        "start_time": "2023-04-13T13:30:47.221Z"
      },
      {
        "duration": 1112,
        "start_time": "2023-04-13T13:30:47.230Z"
      },
      {
        "duration": 4,
        "start_time": "2023-04-13T13:30:48.344Z"
      },
      {
        "duration": 9,
        "start_time": "2023-04-13T13:30:48.350Z"
      },
      {
        "duration": 3,
        "start_time": "2023-04-13T13:30:49.991Z"
      },
      {
        "duration": 92,
        "start_time": "2023-04-13T13:33:51.681Z"
      },
      {
        "duration": 56,
        "start_time": "2023-04-13T13:34:44.859Z"
      },
      {
        "duration": 194,
        "start_time": "2023-04-13T13:35:23.474Z"
      },
      {
        "duration": 186,
        "start_time": "2023-04-13T13:42:02.408Z"
      },
      {
        "duration": 176,
        "start_time": "2023-04-13T13:42:12.359Z"
      },
      {
        "duration": 23,
        "start_time": "2023-04-13T13:42:32.247Z"
      },
      {
        "duration": 4,
        "start_time": "2023-04-13T13:45:07.673Z"
      },
      {
        "duration": 69,
        "start_time": "2023-04-13T13:45:07.678Z"
      },
      {
        "duration": 10,
        "start_time": "2023-04-13T13:45:07.749Z"
      },
      {
        "duration": 21,
        "start_time": "2023-04-13T13:45:07.761Z"
      },
      {
        "duration": 52,
        "start_time": "2023-04-13T13:45:07.784Z"
      },
      {
        "duration": 16,
        "start_time": "2023-04-13T13:45:07.837Z"
      },
      {
        "duration": 33,
        "start_time": "2023-04-13T13:45:07.855Z"
      },
      {
        "duration": 1164,
        "start_time": "2023-04-13T13:45:07.889Z"
      },
      {
        "duration": 4,
        "start_time": "2023-04-13T13:45:09.054Z"
      },
      {
        "duration": 12,
        "start_time": "2023-04-13T13:45:09.060Z"
      },
      {
        "duration": 22,
        "start_time": "2023-04-13T13:45:09.073Z"
      },
      {
        "duration": 12,
        "start_time": "2023-04-13T13:45:09.097Z"
      },
      {
        "duration": 8,
        "start_time": "2023-04-13T13:46:51.243Z"
      },
      {
        "duration": 7,
        "start_time": "2023-04-13T13:46:52.235Z"
      },
      {
        "duration": 221,
        "start_time": "2023-04-13T13:48:48.836Z"
      },
      {
        "duration": 9,
        "start_time": "2023-04-13T13:48:51.171Z"
      },
      {
        "duration": 5,
        "start_time": "2023-04-13T13:50:21.797Z"
      },
      {
        "duration": 201,
        "start_time": "2023-04-13T13:50:34.717Z"
      },
      {
        "duration": 33,
        "start_time": "2023-04-13T13:50:41.885Z"
      },
      {
        "duration": 11,
        "start_time": "2023-04-13T13:57:20.721Z"
      },
      {
        "duration": 4,
        "start_time": "2023-04-13T13:58:11.217Z"
      },
      {
        "duration": 22822,
        "start_time": "2023-04-13T13:58:15.753Z"
      },
      {
        "duration": 235,
        "start_time": "2023-04-13T13:59:35.094Z"
      },
      {
        "duration": 23577,
        "start_time": "2023-04-13T14:01:56.619Z"
      },
      {
        "duration": 23447,
        "start_time": "2023-04-13T14:03:55.495Z"
      },
      {
        "duration": 249,
        "start_time": "2023-04-13T14:04:18.944Z"
      },
      {
        "duration": 248,
        "start_time": "2023-04-13T14:05:18.166Z"
      },
      {
        "duration": 5,
        "start_time": "2023-04-13T14:24:14.137Z"
      },
      {
        "duration": 502,
        "start_time": "2023-04-13T14:24:18.361Z"
      },
      {
        "duration": 97,
        "start_time": "2023-04-13T14:24:24.753Z"
      },
      {
        "duration": 22,
        "start_time": "2023-04-13T14:24:47.410Z"
      },
      {
        "duration": 4,
        "start_time": "2023-04-13T14:24:53.017Z"
      },
      {
        "duration": 16,
        "start_time": "2023-04-13T14:25:29.571Z"
      },
      {
        "duration": 23211,
        "start_time": "2023-04-13T14:27:20.437Z"
      },
      {
        "duration": 89,
        "start_time": "2023-04-13T14:27:54.469Z"
      },
      {
        "duration": 96,
        "start_time": "2023-04-13T14:28:18.342Z"
      },
      {
        "duration": 4,
        "start_time": "2023-04-13T14:28:55.541Z"
      },
      {
        "duration": 4,
        "start_time": "2023-04-13T14:29:00.254Z"
      },
      {
        "duration": 4,
        "start_time": "2023-04-13T14:29:04.436Z"
      },
      {
        "duration": 4,
        "start_time": "2023-04-13T14:29:18.845Z"
      },
      {
        "duration": 8,
        "start_time": "2023-04-13T14:29:33.844Z"
      },
      {
        "duration": 6,
        "start_time": "2023-04-13T14:29:43.701Z"
      },
      {
        "duration": 95,
        "start_time": "2023-04-13T14:29:55.637Z"
      },
      {
        "duration": 110,
        "start_time": "2023-04-13T14:31:44.007Z"
      },
      {
        "duration": 21,
        "start_time": "2023-04-13T14:31:51.459Z"
      },
      {
        "duration": 4,
        "start_time": "2023-04-13T14:31:59.430Z"
      },
      {
        "duration": 7,
        "start_time": "2023-04-13T14:32:10.094Z"
      },
      {
        "duration": 98,
        "start_time": "2023-04-13T14:32:23.119Z"
      },
      {
        "duration": 7,
        "start_time": "2023-04-13T14:44:31.550Z"
      },
      {
        "duration": 4,
        "start_time": "2023-04-13T14:44:37.863Z"
      },
      {
        "duration": 90,
        "start_time": "2023-04-13T14:47:24.329Z"
      },
      {
        "duration": 158,
        "start_time": "2023-04-13T14:48:03.666Z"
      },
      {
        "duration": 160,
        "start_time": "2023-04-13T14:48:13.875Z"
      },
      {
        "duration": 161,
        "start_time": "2023-04-13T14:48:19.314Z"
      },
      {
        "duration": 295280,
        "start_time": "2023-04-13T14:48:30.546Z"
      },
      {
        "duration": 25,
        "start_time": "2023-04-13T14:54:41.374Z"
      },
      {
        "duration": 22,
        "start_time": "2023-04-13T14:54:51.703Z"
      },
      {
        "duration": 47,
        "start_time": "2023-04-13T14:56:37.471Z"
      },
      {
        "duration": 220,
        "start_time": "2023-04-13T14:57:20.528Z"
      },
      {
        "duration": 183,
        "start_time": "2023-04-13T15:05:10.660Z"
      },
      {
        "duration": 116,
        "start_time": "2023-04-13T15:08:35.303Z"
      },
      {
        "duration": 262,
        "start_time": "2023-04-13T15:08:40.401Z"
      },
      {
        "duration": 24,
        "start_time": "2023-04-13T15:20:40.640Z"
      },
      {
        "duration": 20,
        "start_time": "2023-04-13T15:21:55.407Z"
      },
      {
        "duration": 20,
        "start_time": "2023-04-13T15:22:26.343Z"
      },
      {
        "duration": 20,
        "start_time": "2023-04-13T15:22:33.735Z"
      },
      {
        "duration": 23,
        "start_time": "2023-04-13T15:22:49.065Z"
      },
      {
        "duration": 191,
        "start_time": "2023-04-13T15:26:41.642Z"
      },
      {
        "duration": 21,
        "start_time": "2023-04-13T15:28:58.140Z"
      },
      {
        "duration": 19,
        "start_time": "2023-04-13T15:29:05.716Z"
      },
      {
        "duration": 296867,
        "start_time": "2023-04-13T15:29:20.488Z"
      },
      {
        "duration": 0,
        "start_time": "2023-04-13T15:34:17.371Z"
      },
      {
        "duration": 10,
        "start_time": "2023-04-13T15:34:42.023Z"
      },
      {
        "duration": 3,
        "start_time": "2023-04-13T15:35:25.304Z"
      },
      {
        "duration": 1319,
        "start_time": "2023-04-13T15:35:30.568Z"
      },
      {
        "duration": 2396,
        "start_time": "2023-04-13T15:35:43.511Z"
      },
      {
        "duration": 251,
        "start_time": "2023-04-13T15:38:37.514Z"
      },
      {
        "duration": 335,
        "start_time": "2023-04-13T15:38:46.282Z"
      },
      {
        "duration": 383,
        "start_time": "2023-04-13T15:38:50.273Z"
      },
      {
        "duration": 290911,
        "start_time": "2023-04-13T15:44:11.260Z"
      },
      {
        "duration": 2210,
        "start_time": "2023-04-13T15:49:02.173Z"
      },
      {
        "duration": 5,
        "start_time": "2023-04-13T16:28:36.712Z"
      },
      {
        "duration": 17,
        "start_time": "2023-04-13T16:28:42.774Z"
      },
      {
        "duration": 4,
        "start_time": "2023-04-13T16:29:08.967Z"
      },
      {
        "duration": 15,
        "start_time": "2023-04-13T16:29:09.143Z"
      },
      {
        "duration": 4,
        "start_time": "2023-04-13T16:29:13.963Z"
      },
      {
        "duration": 4,
        "start_time": "2023-04-13T16:29:17.824Z"
      },
      {
        "duration": 11,
        "start_time": "2023-04-13T16:29:17.951Z"
      },
      {
        "duration": 285,
        "start_time": "2023-04-13T16:29:21.584Z"
      },
      {
        "duration": 5,
        "start_time": "2023-04-13T16:29:37.464Z"
      },
      {
        "duration": 8,
        "start_time": "2023-04-13T16:29:44.831Z"
      },
      {
        "duration": 6,
        "start_time": "2023-04-13T16:29:45.368Z"
      },
      {
        "duration": 5,
        "start_time": "2023-04-13T16:29:50.300Z"
      },
      {
        "duration": 255,
        "start_time": "2023-04-13T16:29:50.607Z"
      },
      {
        "duration": 8,
        "start_time": "2023-04-13T16:30:00.401Z"
      },
      {
        "duration": 6,
        "start_time": "2023-04-13T16:30:00.601Z"
      },
      {
        "duration": 200,
        "start_time": "2023-04-13T16:30:02.161Z"
      },
      {
        "duration": 3,
        "start_time": "2023-04-13T16:30:45.504Z"
      },
      {
        "duration": 9,
        "start_time": "2023-04-13T16:30:45.665Z"
      },
      {
        "duration": 5,
        "start_time": "2023-04-13T16:30:45.952Z"
      },
      {
        "duration": 295,
        "start_time": "2023-04-13T16:30:46.281Z"
      },
      {
        "duration": 8,
        "start_time": "2023-04-13T16:30:55.736Z"
      },
      {
        "duration": 6,
        "start_time": "2023-04-13T16:30:57.593Z"
      },
      {
        "duration": 311,
        "start_time": "2023-04-13T16:31:47.089Z"
      },
      {
        "duration": 8,
        "start_time": "2023-04-13T16:32:29.282Z"
      },
      {
        "duration": 6,
        "start_time": "2023-04-13T16:32:29.498Z"
      },
      {
        "duration": 273,
        "start_time": "2023-04-13T16:32:34.377Z"
      },
      {
        "duration": 5,
        "start_time": "2023-04-13T16:32:40.465Z"
      },
      {
        "duration": 37,
        "start_time": "2023-04-13T16:32:40.745Z"
      },
      {
        "duration": 10,
        "start_time": "2023-04-13T16:32:40.994Z"
      },
      {
        "duration": 525,
        "start_time": "2023-04-13T16:32:41.354Z"
      },
      {
        "duration": 10,
        "start_time": "2023-04-13T16:32:47.377Z"
      },
      {
        "duration": 7,
        "start_time": "2023-04-13T16:32:48.257Z"
      },
      {
        "duration": 254,
        "start_time": "2023-04-13T16:32:48.474Z"
      },
      {
        "duration": 7,
        "start_time": "2023-04-13T16:33:02.458Z"
      },
      {
        "duration": 5,
        "start_time": "2023-04-13T16:33:02.666Z"
      },
      {
        "duration": 318,
        "start_time": "2023-04-13T16:33:02.921Z"
      },
      {
        "duration": 10,
        "start_time": "2023-04-13T16:33:14.033Z"
      },
      {
        "duration": 6,
        "start_time": "2023-04-13T16:33:14.177Z"
      },
      {
        "duration": 321,
        "start_time": "2023-04-13T16:33:14.314Z"
      },
      {
        "duration": 8,
        "start_time": "2023-04-13T16:33:19.702Z"
      },
      {
        "duration": 6,
        "start_time": "2023-04-13T16:33:20.602Z"
      },
      {
        "duration": 470,
        "start_time": "2023-04-13T16:33:20.722Z"
      },
      {
        "duration": 9,
        "start_time": "2023-04-13T16:33:51.353Z"
      },
      {
        "duration": 5,
        "start_time": "2023-04-13T16:33:51.506Z"
      },
      {
        "duration": 302,
        "start_time": "2023-04-13T16:33:51.649Z"
      },
      {
        "duration": 10,
        "start_time": "2023-04-13T16:33:57.223Z"
      },
      {
        "duration": 10,
        "start_time": "2023-04-13T16:33:59.889Z"
      },
      {
        "duration": 7,
        "start_time": "2023-04-13T16:34:00.042Z"
      },
      {
        "duration": 396,
        "start_time": "2023-04-13T16:34:00.650Z"
      },
      {
        "duration": 2815,
        "start_time": "2023-04-13T16:39:03.390Z"
      },
      {
        "duration": 2817,
        "start_time": "2023-04-13T16:39:29.901Z"
      },
      {
        "duration": 1498792,
        "start_time": "2023-04-13T16:41:55.375Z"
      },
      {
        "duration": 1240,
        "start_time": "2023-04-13T17:15:57.634Z"
      },
      {
        "duration": 1332,
        "start_time": "2023-04-13T17:16:15.114Z"
      },
      {
        "duration": 1326,
        "start_time": "2023-04-13T17:16:32.673Z"
      },
      {
        "duration": 1738,
        "start_time": "2023-04-13T17:17:14.155Z"
      },
      {
        "duration": 1754,
        "start_time": "2023-04-13T17:17:36.542Z"
      },
      {
        "duration": 1736,
        "start_time": "2023-04-13T17:17:42.394Z"
      },
      {
        "duration": 1122,
        "start_time": "2023-04-13T18:09:30.278Z"
      },
      {
        "duration": 13992,
        "start_time": "2023-04-13T18:16:01.311Z"
      },
      {
        "duration": 14047,
        "start_time": "2023-04-13T18:16:44.244Z"
      },
      {
        "duration": 5880,
        "start_time": "2023-04-13T18:19:26.317Z"
      },
      {
        "duration": 28640,
        "start_time": "2023-04-13T18:19:32.200Z"
      },
      {
        "duration": 0,
        "start_time": "2023-04-13T18:20:00.843Z"
      },
      {
        "duration": 5251,
        "start_time": "2023-04-13T18:20:02.214Z"
      },
      {
        "duration": 54788,
        "start_time": "2023-04-13T18:20:14.238Z"
      },
      {
        "duration": 55786,
        "start_time": "2023-04-13T18:23:16.448Z"
      },
      {
        "duration": 19590,
        "start_time": "2023-04-13T18:24:25.403Z"
      },
      {
        "duration": 0,
        "start_time": "2023-04-13T18:24:44.995Z"
      },
      {
        "duration": 55848,
        "start_time": "2023-04-13T18:24:51.977Z"
      },
      {
        "duration": 4623,
        "start_time": "2023-04-13T18:29:15.978Z"
      },
      {
        "duration": 4542,
        "start_time": "2023-04-13T18:30:30.308Z"
      },
      {
        "duration": 2704,
        "start_time": "2023-04-13T18:31:44.943Z"
      },
      {
        "duration": 1892,
        "start_time": "2023-04-13T18:31:54.477Z"
      },
      {
        "duration": 298415,
        "start_time": "2023-04-13T18:32:02.541Z"
      },
      {
        "duration": 4703,
        "start_time": "2023-04-13T18:37:00.959Z"
      },
      {
        "duration": 27145,
        "start_time": "2023-04-13T18:37:07.257Z"
      },
      {
        "duration": 41089,
        "start_time": "2023-04-13T18:38:34.169Z"
      },
      {
        "duration": 17239,
        "start_time": "2023-04-13T18:53:19.111Z"
      },
      {
        "duration": 78410,
        "start_time": "2023-04-13T18:53:36.353Z"
      },
      {
        "duration": 4511,
        "start_time": "2023-04-13T18:54:54.764Z"
      },
      {
        "duration": 91134,
        "start_time": "2023-04-13T18:56:45.364Z"
      },
      {
        "duration": 42037,
        "start_time": "2023-04-13T18:58:16.500Z"
      },
      {
        "duration": 75230,
        "start_time": "2023-04-13T19:02:29.870Z"
      },
      {
        "duration": 0,
        "start_time": "2023-04-13T19:03:45.102Z"
      },
      {
        "duration": 45202,
        "start_time": "2023-04-13T19:03:52.870Z"
      },
      {
        "duration": 46374,
        "start_time": "2023-04-13T19:05:04.257Z"
      },
      {
        "duration": 44022,
        "start_time": "2023-04-13T19:06:44.865Z"
      },
      {
        "duration": 173904,
        "start_time": "2023-04-13T19:11:40.995Z"
      },
      {
        "duration": 12567,
        "start_time": "2023-04-13T19:14:39.292Z"
      },
      {
        "duration": 12990,
        "start_time": "2023-04-13T19:16:37.187Z"
      },
      {
        "duration": 1601,
        "start_time": "2023-04-13T19:18:11.958Z"
      },
      {
        "duration": 6181,
        "start_time": "2023-04-13T19:18:13.561Z"
      },
      {
        "duration": 50907,
        "start_time": "2023-04-13T19:18:19.750Z"
      },
      {
        "duration": 51971,
        "start_time": "2023-04-13T19:19:10.661Z"
      },
      {
        "duration": 44318,
        "start_time": "2023-04-13T19:27:08.142Z"
      },
      {
        "duration": 40701,
        "start_time": "2023-04-13T19:28:22.337Z"
      },
      {
        "duration": 17305,
        "start_time": "2023-04-13T19:34:40.356Z"
      },
      {
        "duration": 63092,
        "start_time": "2023-04-13T19:35:56.909Z"
      },
      {
        "duration": 2153,
        "start_time": "2023-04-13T19:38:12.606Z"
      },
      {
        "duration": 3425,
        "start_time": "2023-04-13T19:38:22.814Z"
      },
      {
        "duration": 3791,
        "start_time": "2023-04-13T19:39:24.888Z"
      },
      {
        "duration": 16266,
        "start_time": "2023-04-13T19:39:40.331Z"
      },
      {
        "duration": 19,
        "start_time": "2023-04-13T19:51:19.807Z"
      },
      {
        "duration": 4,
        "start_time": "2023-04-13T19:51:25.072Z"
      },
      {
        "duration": 390,
        "start_time": "2023-04-13T19:51:27.862Z"
      },
      {
        "duration": 2365,
        "start_time": "2023-04-13T19:52:40.137Z"
      },
      {
        "duration": 2542,
        "start_time": "2023-04-13T19:53:19.663Z"
      },
      {
        "duration": 2470,
        "start_time": "2023-04-13T19:53:28.841Z"
      },
      {
        "duration": 2436,
        "start_time": "2023-04-13T19:53:48.593Z"
      },
      {
        "duration": 5,
        "start_time": "2023-04-13T19:54:54.188Z"
      },
      {
        "duration": 2855,
        "start_time": "2023-04-13T19:56:36.800Z"
      },
      {
        "duration": 2540,
        "start_time": "2023-04-13T20:00:02.013Z"
      },
      {
        "duration": 2452,
        "start_time": "2023-04-13T20:00:41.191Z"
      },
      {
        "duration": 48,
        "start_time": "2023-04-13T20:02:49.157Z"
      },
      {
        "duration": 5056,
        "start_time": "2023-04-13T20:03:06.246Z"
      },
      {
        "duration": 5007,
        "start_time": "2023-04-13T20:03:29.407Z"
      },
      {
        "duration": 18495,
        "start_time": "2023-04-13T20:04:26.935Z"
      },
      {
        "duration": 18459,
        "start_time": "2023-04-13T20:06:20.988Z"
      },
      {
        "duration": 20826,
        "start_time": "2023-04-13T20:08:31.157Z"
      },
      {
        "duration": 18830,
        "start_time": "2023-04-13T20:09:36.206Z"
      },
      {
        "duration": 30,
        "start_time": "2023-04-13T20:09:55.038Z"
      },
      {
        "duration": 2283,
        "start_time": "2023-04-13T20:11:17.993Z"
      },
      {
        "duration": 2556,
        "start_time": "2023-04-13T20:12:35.127Z"
      },
      {
        "duration": 2523,
        "start_time": "2023-04-13T20:12:53.637Z"
      },
      {
        "duration": 18878,
        "start_time": "2023-04-13T20:14:58.301Z"
      },
      {
        "duration": 24399,
        "start_time": "2023-04-13T20:17:10.836Z"
      },
      {
        "duration": 23054,
        "start_time": "2023-04-13T20:18:29.537Z"
      },
      {
        "duration": 10895,
        "start_time": "2023-04-13T20:19:19.189Z"
      },
      {
        "duration": 29,
        "start_time": "2023-04-13T20:21:50.287Z"
      },
      {
        "duration": 1965,
        "start_time": "2023-04-13T20:22:48.139Z"
      },
      {
        "duration": 22,
        "start_time": "2023-04-13T20:23:50.810Z"
      },
      {
        "duration": 25,
        "start_time": "2023-04-13T20:24:53.061Z"
      },
      {
        "duration": 25,
        "start_time": "2023-04-13T20:25:02.716Z"
      },
      {
        "duration": 3,
        "start_time": "2023-04-13T20:26:22.652Z"
      },
      {
        "duration": 36,
        "start_time": "2023-04-13T20:26:22.657Z"
      },
      {
        "duration": 11,
        "start_time": "2023-04-13T20:26:22.695Z"
      },
      {
        "duration": 25,
        "start_time": "2023-04-13T20:26:22.708Z"
      },
      {
        "duration": 41,
        "start_time": "2023-04-13T20:26:22.735Z"
      },
      {
        "duration": 17,
        "start_time": "2023-04-13T20:26:22.778Z"
      },
      {
        "duration": 43,
        "start_time": "2023-04-13T20:26:22.796Z"
      },
      {
        "duration": 1248,
        "start_time": "2023-04-13T20:26:22.840Z"
      },
      {
        "duration": 5,
        "start_time": "2023-04-13T20:26:24.091Z"
      },
      {
        "duration": 42,
        "start_time": "2023-04-13T20:26:24.098Z"
      },
      {
        "duration": 8,
        "start_time": "2023-04-13T20:26:24.141Z"
      },
      {
        "duration": 7,
        "start_time": "2023-04-13T20:26:24.151Z"
      },
      {
        "duration": 127,
        "start_time": "2023-04-13T20:26:24.160Z"
      },
      {
        "duration": 342,
        "start_time": "2023-04-13T20:26:24.289Z"
      },
      {
        "duration": 93,
        "start_time": "2023-04-13T20:26:24.638Z"
      },
      {
        "duration": 41525,
        "start_time": "2023-04-13T20:26:24.733Z"
      },
      {
        "duration": 44677,
        "start_time": "2023-04-13T20:27:06.260Z"
      },
      {
        "duration": 2017,
        "start_time": "2023-04-13T20:27:50.939Z"
      },
      {
        "duration": 381,
        "start_time": "2023-04-13T20:27:52.958Z"
      },
      {
        "duration": 41870,
        "start_time": "2023-04-13T20:27:53.341Z"
      },
      {
        "duration": 39804,
        "start_time": "2023-04-13T20:28:35.218Z"
      },
      {
        "duration": 2007,
        "start_time": "2023-04-13T20:29:15.035Z"
      },
      {
        "duration": 4,
        "start_time": "2023-04-13T20:29:17.045Z"
      },
      {
        "duration": 11,
        "start_time": "2023-04-13T20:29:17.053Z"
      },
      {
        "duration": 7,
        "start_time": "2023-04-13T20:29:17.066Z"
      },
      {
        "duration": 4071,
        "start_time": "2023-04-13T20:29:17.075Z"
      },
      {
        "duration": 19465,
        "start_time": "2023-04-13T20:29:21.148Z"
      },
      {
        "duration": 73130,
        "start_time": "2023-04-13T20:29:40.614Z"
      },
      {
        "duration": 3435,
        "start_time": "2023-04-13T20:30:53.746Z"
      },
      {
        "duration": 17022,
        "start_time": "2023-04-13T20:30:57.183Z"
      },
      {
        "duration": 371,
        "start_time": "2023-04-13T20:31:33.582Z"
      },
      {
        "duration": 33678,
        "start_time": "2023-04-13T20:32:03.879Z"
      },
      {
        "duration": 3533,
        "start_time": "2023-04-13T20:35:14.837Z"
      },
      {
        "duration": 13994,
        "start_time": "2023-04-13T20:38:47.976Z"
      },
      {
        "duration": 42964,
        "start_time": "2023-04-13T20:39:01.972Z"
      },
      {
        "duration": 3474,
        "start_time": "2023-04-13T20:39:44.938Z"
      },
      {
        "duration": 44766,
        "start_time": "2023-04-13T20:40:24.415Z"
      },
      {
        "duration": 5245,
        "start_time": "2023-04-13T20:41:14.303Z"
      },
      {
        "duration": 2378,
        "start_time": "2023-04-13T20:42:46.521Z"
      },
      {
        "duration": 4337,
        "start_time": "2023-04-13T20:42:50.433Z"
      },
      {
        "duration": 41884,
        "start_time": "2023-04-13T20:43:45.373Z"
      },
      {
        "duration": 5,
        "start_time": "2023-04-13T20:51:24.189Z"
      },
      {
        "duration": 29,
        "start_time": "2023-04-13T20:51:26.606Z"
      },
      {
        "duration": 1431,
        "start_time": "2023-04-13T20:52:09.318Z"
      },
      {
        "duration": 1762,
        "start_time": "2023-04-13T20:52:45.902Z"
      },
      {
        "duration": 1626,
        "start_time": "2023-04-13T20:52:54.030Z"
      },
      {
        "duration": 2254,
        "start_time": "2023-04-13T20:53:19.743Z"
      },
      {
        "duration": 2873,
        "start_time": "2023-04-13T20:53:46.974Z"
      },
      {
        "duration": 3238,
        "start_time": "2023-04-13T20:53:57.039Z"
      },
      {
        "duration": 5220,
        "start_time": "2023-04-13T20:54:16.606Z"
      },
      {
        "duration": 2435,
        "start_time": "2023-04-13T20:54:29.511Z"
      },
      {
        "duration": 2444,
        "start_time": "2023-04-13T20:54:39.737Z"
      },
      {
        "duration": 7587,
        "start_time": "2023-04-13T20:55:01.944Z"
      },
      {
        "duration": 18084,
        "start_time": "2023-04-13T20:56:26.351Z"
      },
      {
        "duration": 7627,
        "start_time": "2023-04-13T20:57:06.335Z"
      },
      {
        "duration": 35580,
        "start_time": "2023-04-13T20:58:52.435Z"
      },
      {
        "duration": 35620,
        "start_time": "2023-04-13T21:00:07.488Z"
      },
      {
        "duration": 4,
        "start_time": "2023-04-13T21:00:49.456Z"
      },
      {
        "duration": 160410,
        "start_time": "2023-04-13T21:01:00.434Z"
      },
      {
        "duration": 20704,
        "start_time": "2023-04-13T21:05:20.313Z"
      },
      {
        "duration": 30175,
        "start_time": "2023-04-13T21:06:18.001Z"
      },
      {
        "duration": 20258,
        "start_time": "2023-04-13T21:08:48.533Z"
      },
      {
        "duration": 20418,
        "start_time": "2023-04-13T21:09:27.564Z"
      },
      {
        "duration": 20675,
        "start_time": "2023-04-13T21:11:20.889Z"
      },
      {
        "duration": 34733,
        "start_time": "2023-04-13T21:13:37.907Z"
      },
      {
        "duration": 16,
        "start_time": "2023-04-13T21:27:36.376Z"
      },
      {
        "duration": 16,
        "start_time": "2023-04-13T21:28:04.264Z"
      },
      {
        "duration": 141,
        "start_time": "2023-04-13T21:32:58.481Z"
      },
      {
        "duration": 4,
        "start_time": "2023-04-13T21:33:16.738Z"
      },
      {
        "duration": 285,
        "start_time": "2023-04-13T21:33:21.586Z"
      },
      {
        "duration": 7,
        "start_time": "2023-04-13T21:44:28.717Z"
      },
      {
        "duration": 365,
        "start_time": "2023-04-13T21:59:22.934Z"
      },
      {
        "duration": 40117,
        "start_time": "2023-04-13T22:01:32.386Z"
      },
      {
        "duration": 1932,
        "start_time": "2023-04-13T22:04:19.478Z"
      },
      {
        "duration": 3000,
        "start_time": "2023-04-13T22:06:10.440Z"
      },
      {
        "duration": 1867,
        "start_time": "2023-04-13T22:07:13.192Z"
      },
      {
        "duration": 1579,
        "start_time": "2023-04-13T22:09:25.265Z"
      },
      {
        "duration": 1570,
        "start_time": "2023-04-13T22:10:38.876Z"
      },
      {
        "duration": 1600,
        "start_time": "2023-04-13T22:10:50.844Z"
      },
      {
        "duration": 1633,
        "start_time": "2023-04-13T22:11:00.636Z"
      },
      {
        "duration": 4,
        "start_time": "2023-04-13T22:12:11.364Z"
      },
      {
        "duration": 3036,
        "start_time": "2023-04-13T22:12:25.571Z"
      },
      {
        "duration": 3,
        "start_time": "2023-04-13T22:12:34.660Z"
      },
      {
        "duration": 83,
        "start_time": "2023-04-13T22:12:36.180Z"
      },
      {
        "duration": 1636,
        "start_time": "2023-04-13T22:12:44.036Z"
      },
      {
        "duration": 1600,
        "start_time": "2023-04-13T22:13:19.936Z"
      },
      {
        "duration": 1555,
        "start_time": "2023-04-13T22:13:28.580Z"
      },
      {
        "duration": 43558,
        "start_time": "2023-04-13T22:14:00.813Z"
      },
      {
        "duration": 45722,
        "start_time": "2023-04-13T22:16:25.408Z"
      },
      {
        "duration": 5052,
        "start_time": "2023-04-13T22:17:11.133Z"
      },
      {
        "duration": 16777,
        "start_time": "2023-04-13T22:18:17.660Z"
      },
      {
        "duration": 36615,
        "start_time": "2023-04-13T22:21:10.252Z"
      },
      {
        "duration": 0,
        "start_time": "2023-04-13T22:21:46.873Z"
      },
      {
        "duration": 43014,
        "start_time": "2023-04-13T22:27:32.816Z"
      },
      {
        "duration": 49207,
        "start_time": "2023-04-13T22:29:54.241Z"
      },
      {
        "duration": 9586,
        "start_time": "2023-04-13T22:31:01.882Z"
      },
      {
        "duration": 8699,
        "start_time": "2023-04-13T22:31:38.899Z"
      },
      {
        "duration": 2059,
        "start_time": "2023-04-13T22:34:00.998Z"
      },
      {
        "duration": 2061,
        "start_time": "2023-04-13T22:34:21.614Z"
      },
      {
        "duration": 17606,
        "start_time": "2023-04-13T22:35:28.863Z"
      },
      {
        "duration": 18751,
        "start_time": "2023-04-13T22:36:00.056Z"
      },
      {
        "duration": 9663,
        "start_time": "2023-04-13T22:36:37.810Z"
      },
      {
        "duration": 45568,
        "start_time": "2023-04-13T22:38:46.112Z"
      },
      {
        "duration": 34710,
        "start_time": "2023-04-13T22:39:31.681Z"
      },
      {
        "duration": 4,
        "start_time": "2023-04-13T22:40:30.645Z"
      },
      {
        "duration": 56,
        "start_time": "2023-04-13T22:40:30.651Z"
      },
      {
        "duration": 39,
        "start_time": "2023-04-13T22:40:30.709Z"
      },
      {
        "duration": 31,
        "start_time": "2023-04-13T22:40:30.750Z"
      },
      {
        "duration": 63,
        "start_time": "2023-04-13T22:40:30.783Z"
      },
      {
        "duration": 17,
        "start_time": "2023-04-13T22:40:30.848Z"
      },
      {
        "duration": 33,
        "start_time": "2023-04-13T22:40:30.867Z"
      },
      {
        "duration": 1060,
        "start_time": "2023-04-13T22:40:30.902Z"
      },
      {
        "duration": 4,
        "start_time": "2023-04-13T22:40:31.963Z"
      },
      {
        "duration": 61,
        "start_time": "2023-04-13T22:40:31.970Z"
      },
      {
        "duration": 10,
        "start_time": "2023-04-13T22:40:32.033Z"
      },
      {
        "duration": 15,
        "start_time": "2023-04-13T22:40:32.044Z"
      },
      {
        "duration": 104,
        "start_time": "2023-04-13T22:40:32.061Z"
      },
      {
        "duration": 278,
        "start_time": "2023-04-13T22:40:32.167Z"
      },
      {
        "duration": 42794,
        "start_time": "2023-04-13T22:40:32.447Z"
      },
      {
        "duration": 46799,
        "start_time": "2023-04-13T22:41:15.246Z"
      },
      {
        "duration": 5895,
        "start_time": "2023-04-13T22:42:02.047Z"
      },
      {
        "duration": 331,
        "start_time": "2023-04-13T22:42:07.944Z"
      },
      {
        "duration": 44003,
        "start_time": "2023-04-13T22:42:08.276Z"
      },
      {
        "duration": 34791,
        "start_time": "2023-04-13T22:42:52.280Z"
      },
      {
        "duration": 2087,
        "start_time": "2023-04-13T22:43:27.072Z"
      },
      {
        "duration": 4,
        "start_time": "2023-04-13T22:43:29.160Z"
      },
      {
        "duration": 11,
        "start_time": "2023-04-13T22:43:29.165Z"
      },
      {
        "duration": 2255,
        "start_time": "2023-04-13T22:43:29.178Z"
      },
      {
        "duration": 41057,
        "start_time": "2023-04-13T22:43:31.435Z"
      },
      {
        "duration": 0,
        "start_time": "2023-04-13T22:44:12.494Z"
      },
      {
        "duration": 0,
        "start_time": "2023-04-13T22:44:12.495Z"
      },
      {
        "duration": 0,
        "start_time": "2023-04-13T22:44:12.496Z"
      },
      {
        "duration": 0,
        "start_time": "2023-04-13T22:44:12.497Z"
      },
      {
        "duration": 0,
        "start_time": "2023-04-13T22:44:12.498Z"
      },
      {
        "duration": 0,
        "start_time": "2023-04-13T22:44:12.499Z"
      },
      {
        "duration": 0,
        "start_time": "2023-04-13T22:44:12.500Z"
      },
      {
        "duration": 0,
        "start_time": "2023-04-13T22:44:12.501Z"
      },
      {
        "duration": 44399,
        "start_time": "2023-04-13T22:44:53.302Z"
      },
      {
        "duration": 0,
        "start_time": "2023-04-13T22:45:37.703Z"
      },
      {
        "duration": 0,
        "start_time": "2023-04-13T22:45:37.704Z"
      },
      {
        "duration": 0,
        "start_time": "2023-04-13T22:45:37.705Z"
      },
      {
        "duration": 0,
        "start_time": "2023-04-13T22:45:37.706Z"
      },
      {
        "duration": 0,
        "start_time": "2023-04-13T22:45:37.724Z"
      },
      {
        "duration": 0,
        "start_time": "2023-04-13T22:45:37.724Z"
      },
      {
        "duration": 0,
        "start_time": "2023-04-13T22:45:37.730Z"
      },
      {
        "duration": 0,
        "start_time": "2023-04-13T22:45:37.731Z"
      },
      {
        "duration": 0,
        "start_time": "2023-04-13T22:45:37.732Z"
      },
      {
        "duration": 43149,
        "start_time": "2023-04-13T22:46:45.766Z"
      },
      {
        "duration": 47286,
        "start_time": "2023-04-13T22:47:28.917Z"
      },
      {
        "duration": 5260,
        "start_time": "2023-04-13T22:48:16.204Z"
      },
      {
        "duration": 17550,
        "start_time": "2023-04-13T22:48:21.465Z"
      },
      {
        "duration": 18,
        "start_time": "2023-04-13T22:48:39.016Z"
      },
      {
        "duration": 1621,
        "start_time": "2023-04-13T22:48:39.036Z"
      },
      {
        "duration": 34623,
        "start_time": "2023-04-13T22:48:40.659Z"
      },
      {
        "duration": 20161,
        "start_time": "2023-04-13T22:49:15.283Z"
      },
      {
        "duration": 8891,
        "start_time": "2023-04-13T22:49:35.446Z"
      },
      {
        "duration": 101,
        "start_time": "2023-04-13T22:49:44.338Z"
      },
      {
        "duration": 16,
        "start_time": "2023-04-13T22:55:09.441Z"
      },
      {
        "duration": 11,
        "start_time": "2023-04-13T22:55:16.665Z"
      },
      {
        "duration": 11,
        "start_time": "2023-04-13T22:55:29.049Z"
      },
      {
        "duration": 11,
        "start_time": "2023-04-13T22:55:37.000Z"
      },
      {
        "duration": 81428,
        "start_time": "2023-04-13T22:57:08.009Z"
      },
      {
        "duration": 5,
        "start_time": "2023-04-13T23:02:36.580Z"
      },
      {
        "duration": 65,
        "start_time": "2023-04-13T23:02:36.587Z"
      },
      {
        "duration": 13,
        "start_time": "2023-04-13T23:02:36.654Z"
      },
      {
        "duration": 21,
        "start_time": "2023-04-13T23:02:36.669Z"
      },
      {
        "duration": 48,
        "start_time": "2023-04-13T23:02:36.692Z"
      },
      {
        "duration": 18,
        "start_time": "2023-04-13T23:02:36.743Z"
      },
      {
        "duration": 23,
        "start_time": "2023-04-13T23:02:36.762Z"
      },
      {
        "duration": 1182,
        "start_time": "2023-04-13T23:02:36.787Z"
      },
      {
        "duration": 5,
        "start_time": "2023-04-13T23:02:37.971Z"
      },
      {
        "duration": 33,
        "start_time": "2023-04-13T23:02:37.978Z"
      },
      {
        "duration": 9,
        "start_time": "2023-04-13T23:02:38.026Z"
      },
      {
        "duration": 12,
        "start_time": "2023-04-13T23:02:38.037Z"
      },
      {
        "duration": 120,
        "start_time": "2023-04-13T23:02:38.050Z"
      },
      {
        "duration": 279,
        "start_time": "2023-04-13T23:02:38.171Z"
      },
      {
        "duration": 42728,
        "start_time": "2023-04-13T23:02:38.452Z"
      },
      {
        "duration": 44221,
        "start_time": "2023-04-13T23:03:21.182Z"
      },
      {
        "duration": 4566,
        "start_time": "2023-04-13T23:04:05.405Z"
      },
      {
        "duration": 327,
        "start_time": "2023-04-13T23:04:09.972Z"
      },
      {
        "duration": 41757,
        "start_time": "2023-04-13T23:04:10.301Z"
      },
      {
        "duration": 34531,
        "start_time": "2023-04-13T23:04:52.060Z"
      },
      {
        "duration": 2089,
        "start_time": "2023-04-13T23:05:26.593Z"
      },
      {
        "duration": 3,
        "start_time": "2023-04-13T23:05:28.684Z"
      },
      {
        "duration": 10,
        "start_time": "2023-04-13T23:05:28.689Z"
      },
      {
        "duration": 2155,
        "start_time": "2023-04-13T23:05:28.701Z"
      },
      {
        "duration": 42692,
        "start_time": "2023-04-13T23:05:30.858Z"
      },
      {
        "duration": 45153,
        "start_time": "2023-04-13T23:06:13.552Z"
      },
      {
        "duration": 5245,
        "start_time": "2023-04-13T23:06:58.707Z"
      },
      {
        "duration": 17593,
        "start_time": "2023-04-13T23:07:03.955Z"
      },
      {
        "duration": 4,
        "start_time": "2023-04-13T23:07:21.550Z"
      },
      {
        "duration": 16,
        "start_time": "2023-04-13T23:07:21.555Z"
      },
      {
        "duration": 1669,
        "start_time": "2023-04-13T23:07:21.573Z"
      },
      {
        "duration": 28535,
        "start_time": "2023-04-13T23:07:23.243Z"
      },
      {
        "duration": 19913,
        "start_time": "2023-04-13T23:07:51.779Z"
      },
      {
        "duration": 8242,
        "start_time": "2023-04-13T23:08:11.693Z"
      },
      {
        "duration": 36,
        "start_time": "2023-04-13T23:08:19.937Z"
      },
      {
        "duration": 40587,
        "start_time": "2023-04-13T23:17:28.756Z"
      },
      {
        "duration": 244,
        "start_time": "2023-04-13T23:36:59.194Z"
      },
      {
        "duration": 5,
        "start_time": "2023-04-13T23:37:11.226Z"
      },
      {
        "duration": 40661,
        "start_time": "2023-04-13T23:37:23.387Z"
      },
      {
        "duration": 4,
        "start_time": "2023-04-13T23:38:08.379Z"
      },
      {
        "duration": 4396,
        "start_time": "2023-04-13T23:39:09.507Z"
      },
      {
        "duration": 4,
        "start_time": "2023-04-13T23:39:16.964Z"
      },
      {
        "duration": 3,
        "start_time": "2023-04-13T23:42:58.544Z"
      },
      {
        "duration": 243,
        "start_time": "2023-04-13T23:43:00.591Z"
      },
      {
        "duration": 263,
        "start_time": "2023-04-13T23:43:16.472Z"
      },
      {
        "duration": 3,
        "start_time": "2023-04-13T23:43:21.551Z"
      },
      {
        "duration": 233,
        "start_time": "2023-04-13T23:43:21.711Z"
      },
      {
        "duration": 3,
        "start_time": "2023-04-13T23:44:11.760Z"
      },
      {
        "duration": 273,
        "start_time": "2023-04-13T23:44:13.048Z"
      },
      {
        "duration": 2,
        "start_time": "2023-04-13T23:45:15.449Z"
      },
      {
        "duration": 268,
        "start_time": "2023-04-13T23:45:15.977Z"
      },
      {
        "duration": 219,
        "start_time": "2023-04-13T23:45:24.618Z"
      },
      {
        "duration": 2,
        "start_time": "2023-04-13T23:45:43.729Z"
      },
      {
        "duration": 2,
        "start_time": "2023-04-13T23:45:47.484Z"
      },
      {
        "duration": 3,
        "start_time": "2023-04-13T23:46:22.697Z"
      },
      {
        "duration": 220,
        "start_time": "2023-04-13T23:46:38.115Z"
      },
      {
        "duration": 4,
        "start_time": "2023-04-13T23:46:38.336Z"
      },
      {
        "duration": 40884,
        "start_time": "2023-04-13T23:48:42.468Z"
      },
      {
        "duration": 4,
        "start_time": "2023-04-13T23:49:23.354Z"
      },
      {
        "duration": 4344,
        "start_time": "2023-04-13T23:49:32.764Z"
      },
      {
        "duration": 9,
        "start_time": "2023-04-13T23:49:37.109Z"
      },
      {
        "duration": 3,
        "start_time": "2023-04-13T23:50:20.501Z"
      },
      {
        "duration": 265,
        "start_time": "2023-04-13T23:51:10.461Z"
      },
      {
        "duration": 4,
        "start_time": "2023-04-13T23:51:22.902Z"
      },
      {
        "duration": 3,
        "start_time": "2023-04-13T23:51:34.510Z"
      },
      {
        "duration": 40690,
        "start_time": "2023-04-13T23:51:37.084Z"
      },
      {
        "duration": 4,
        "start_time": "2023-04-13T23:52:17.776Z"
      },
      {
        "duration": 4360,
        "start_time": "2023-04-13T23:52:17.781Z"
      },
      {
        "duration": 4,
        "start_time": "2023-04-13T23:52:22.143Z"
      },
      {
        "duration": 214,
        "start_time": "2023-04-13T23:53:26.236Z"
      },
      {
        "duration": 4,
        "start_time": "2023-04-13T23:53:33.542Z"
      },
      {
        "duration": 40508,
        "start_time": "2023-04-13T23:53:39.567Z"
      },
      {
        "duration": 3,
        "start_time": "2023-04-13T23:54:20.077Z"
      },
      {
        "duration": 4331,
        "start_time": "2023-04-13T23:54:20.082Z"
      },
      {
        "duration": 4,
        "start_time": "2023-04-13T23:54:24.417Z"
      },
      {
        "duration": 3,
        "start_time": "2023-04-13T23:57:31.879Z"
      },
      {
        "duration": 49,
        "start_time": "2023-04-13T23:57:31.884Z"
      },
      {
        "duration": 11,
        "start_time": "2023-04-13T23:57:31.934Z"
      },
      {
        "duration": 30,
        "start_time": "2023-04-13T23:57:31.947Z"
      },
      {
        "duration": 62,
        "start_time": "2023-04-13T23:57:31.978Z"
      },
      {
        "duration": 16,
        "start_time": "2023-04-13T23:57:32.041Z"
      },
      {
        "duration": 25,
        "start_time": "2023-04-13T23:57:32.059Z"
      },
      {
        "duration": 1058,
        "start_time": "2023-04-13T23:57:32.086Z"
      },
      {
        "duration": 4,
        "start_time": "2023-04-13T23:57:33.147Z"
      },
      {
        "duration": 38,
        "start_time": "2023-04-13T23:57:33.152Z"
      },
      {
        "duration": 13,
        "start_time": "2023-04-13T23:57:33.191Z"
      },
      {
        "duration": 7,
        "start_time": "2023-04-13T23:57:33.205Z"
      },
      {
        "duration": 95,
        "start_time": "2023-04-13T23:57:33.213Z"
      },
      {
        "duration": 225,
        "start_time": "2023-04-13T23:57:33.310Z"
      },
      {
        "duration": 40402,
        "start_time": "2023-04-13T23:57:33.537Z"
      },
      {
        "duration": 42547,
        "start_time": "2023-04-13T23:58:13.941Z"
      },
      {
        "duration": 4468,
        "start_time": "2023-04-13T23:58:56.490Z"
      },
      {
        "duration": 318,
        "start_time": "2023-04-13T23:59:00.959Z"
      },
      {
        "duration": 40096,
        "start_time": "2023-04-13T23:59:01.278Z"
      },
      {
        "duration": 33144,
        "start_time": "2023-04-13T23:59:41.375Z"
      },
      {
        "duration": 1997,
        "start_time": "2023-04-14T00:00:14.521Z"
      },
      {
        "duration": 4,
        "start_time": "2023-04-14T00:00:16.520Z"
      },
      {
        "duration": 13,
        "start_time": "2023-04-14T00:00:16.526Z"
      },
      {
        "duration": 2292,
        "start_time": "2023-04-14T00:00:16.543Z"
      },
      {
        "duration": 41160,
        "start_time": "2023-04-14T00:00:18.836Z"
      },
      {
        "duration": 43701,
        "start_time": "2023-04-14T00:00:59.998Z"
      },
      {
        "duration": 5088,
        "start_time": "2023-04-14T00:01:43.701Z"
      },
      {
        "duration": 16700,
        "start_time": "2023-04-14T00:01:48.791Z"
      },
      {
        "duration": 4,
        "start_time": "2023-04-14T00:02:05.492Z"
      },
      {
        "duration": 21,
        "start_time": "2023-04-14T00:02:05.498Z"
      },
      {
        "duration": 1613,
        "start_time": "2023-04-14T00:02:05.521Z"
      },
      {
        "duration": 27056,
        "start_time": "2023-04-14T00:02:07.136Z"
      },
      {
        "duration": 19159,
        "start_time": "2023-04-14T00:02:34.194Z"
      },
      {
        "duration": 7926,
        "start_time": "2023-04-14T00:02:53.355Z"
      },
      {
        "duration": 44,
        "start_time": "2023-04-14T00:03:01.282Z"
      },
      {
        "duration": 4,
        "start_time": "2023-04-14T00:04:15.918Z"
      },
      {
        "duration": 4,
        "start_time": "2023-04-14T00:04:30.701Z"
      },
      {
        "duration": 53,
        "start_time": "2023-04-14T10:43:59.845Z"
      },
      {
        "duration": 1134,
        "start_time": "2023-04-14T10:44:02.872Z"
      },
      {
        "duration": 167,
        "start_time": "2023-04-14T10:44:04.008Z"
      },
      {
        "duration": 18,
        "start_time": "2023-04-14T10:44:04.177Z"
      },
      {
        "duration": 32,
        "start_time": "2023-04-14T10:44:06.777Z"
      },
      {
        "duration": 4,
        "start_time": "2023-04-14T11:05:30.544Z"
      },
      {
        "duration": 90,
        "start_time": "2023-04-14T11:05:30.550Z"
      },
      {
        "duration": 13,
        "start_time": "2023-04-14T11:05:30.642Z"
      },
      {
        "duration": 46,
        "start_time": "2023-04-14T11:05:30.657Z"
      },
      {
        "duration": 18,
        "start_time": "2023-04-14T11:05:30.706Z"
      },
      {
        "duration": 85,
        "start_time": "2023-04-14T11:05:30.726Z"
      },
      {
        "duration": 26,
        "start_time": "2023-04-14T11:05:30.813Z"
      },
      {
        "duration": 50,
        "start_time": "2023-04-14T11:05:30.841Z"
      },
      {
        "duration": 1235,
        "start_time": "2023-04-14T11:05:30.893Z"
      },
      {
        "duration": 4,
        "start_time": "2023-04-14T11:05:32.130Z"
      },
      {
        "duration": 51,
        "start_time": "2023-04-14T11:05:32.136Z"
      },
      {
        "duration": 35,
        "start_time": "2023-04-14T11:05:32.189Z"
      },
      {
        "duration": 19,
        "start_time": "2023-04-14T11:05:32.225Z"
      },
      {
        "duration": 540,
        "start_time": "2023-04-14T11:05:32.246Z"
      },
      {
        "duration": 320,
        "start_time": "2023-04-14T11:05:32.788Z"
      },
      {
        "duration": 39367,
        "start_time": "2023-04-14T11:05:33.111Z"
      },
      {
        "duration": 40154,
        "start_time": "2023-04-14T11:06:12.484Z"
      },
      {
        "duration": 3946,
        "start_time": "2023-04-14T11:06:52.640Z"
      },
      {
        "duration": 283,
        "start_time": "2023-04-14T11:06:56.588Z"
      },
      {
        "duration": 37692,
        "start_time": "2023-04-14T11:06:56.872Z"
      },
      {
        "duration": 99,
        "start_time": "2023-04-14T11:07:34.566Z"
      },
      {
        "duration": 0,
        "start_time": "2023-04-14T11:07:34.667Z"
      },
      {
        "duration": 0,
        "start_time": "2023-04-14T11:07:34.668Z"
      },
      {
        "duration": 0,
        "start_time": "2023-04-14T11:07:34.669Z"
      },
      {
        "duration": 0,
        "start_time": "2023-04-14T11:07:34.670Z"
      },
      {
        "duration": 0,
        "start_time": "2023-04-14T11:07:34.672Z"
      },
      {
        "duration": 0,
        "start_time": "2023-04-14T11:07:34.683Z"
      },
      {
        "duration": 0,
        "start_time": "2023-04-14T11:07:34.685Z"
      },
      {
        "duration": 0,
        "start_time": "2023-04-14T11:07:34.686Z"
      },
      {
        "duration": 0,
        "start_time": "2023-04-14T11:07:34.687Z"
      },
      {
        "duration": 0,
        "start_time": "2023-04-14T11:07:34.688Z"
      },
      {
        "duration": 0,
        "start_time": "2023-04-14T11:07:34.690Z"
      },
      {
        "duration": 0,
        "start_time": "2023-04-14T11:07:34.691Z"
      },
      {
        "duration": 0,
        "start_time": "2023-04-14T11:07:34.693Z"
      },
      {
        "duration": 0,
        "start_time": "2023-04-14T11:07:34.694Z"
      },
      {
        "duration": 0,
        "start_time": "2023-04-14T11:07:34.696Z"
      },
      {
        "duration": 32100,
        "start_time": "2023-04-14T11:12:58.802Z"
      },
      {
        "duration": 1817,
        "start_time": "2023-04-14T11:13:30.904Z"
      },
      {
        "duration": 3,
        "start_time": "2023-04-14T11:13:32.723Z"
      },
      {
        "duration": 25,
        "start_time": "2023-04-14T11:13:32.728Z"
      },
      {
        "duration": 2465,
        "start_time": "2023-04-14T11:13:32.755Z"
      },
      {
        "duration": 39117,
        "start_time": "2023-04-14T11:13:35.222Z"
      },
      {
        "duration": 41710,
        "start_time": "2023-04-14T11:14:14.341Z"
      },
      {
        "duration": 4527,
        "start_time": "2023-04-14T11:14:56.053Z"
      },
      {
        "duration": 16004,
        "start_time": "2023-04-14T11:15:00.582Z"
      },
      {
        "duration": 4,
        "start_time": "2023-04-14T11:15:16.588Z"
      },
      {
        "duration": 23,
        "start_time": "2023-04-14T11:15:16.594Z"
      },
      {
        "duration": 1601,
        "start_time": "2023-04-14T11:15:16.618Z"
      },
      {
        "duration": 26259,
        "start_time": "2023-04-14T11:15:18.220Z"
      },
      {
        "duration": 18861,
        "start_time": "2023-04-14T11:15:44.483Z"
      },
      {
        "duration": 7603,
        "start_time": "2023-04-14T11:16:03.345Z"
      },
      {
        "duration": 99,
        "start_time": "2023-04-14T11:16:10.950Z"
      },
      {
        "duration": 89,
        "start_time": "2023-04-14T11:17:03.893Z"
      },
      {
        "duration": 5,
        "start_time": "2023-04-14T11:18:24.041Z"
      },
      {
        "duration": 56,
        "start_time": "2023-04-14T11:18:24.048Z"
      },
      {
        "duration": 13,
        "start_time": "2023-04-14T11:18:24.106Z"
      },
      {
        "duration": 27,
        "start_time": "2023-04-14T11:18:24.121Z"
      },
      {
        "duration": 13,
        "start_time": "2023-04-14T11:18:24.150Z"
      },
      {
        "duration": 46,
        "start_time": "2023-04-14T11:18:24.183Z"
      },
      {
        "duration": 18,
        "start_time": "2023-04-14T11:18:24.230Z"
      },
      {
        "duration": 46,
        "start_time": "2023-04-14T11:18:24.249Z"
      },
      {
        "duration": 1202,
        "start_time": "2023-04-14T11:18:24.298Z"
      },
      {
        "duration": 5,
        "start_time": "2023-04-14T11:18:25.502Z"
      },
      {
        "duration": 26,
        "start_time": "2023-04-14T11:18:25.508Z"
      },
      {
        "duration": 11,
        "start_time": "2023-04-14T11:18:25.536Z"
      },
      {
        "duration": 20,
        "start_time": "2023-04-14T11:18:25.549Z"
      },
      {
        "duration": 123,
        "start_time": "2023-04-14T11:18:25.583Z"
      },
      {
        "duration": 216,
        "start_time": "2023-04-14T11:18:25.708Z"
      },
      {
        "duration": 41079,
        "start_time": "2023-04-14T11:18:25.926Z"
      },
      {
        "duration": 43471,
        "start_time": "2023-04-14T11:19:07.007Z"
      },
      {
        "duration": 4039,
        "start_time": "2023-04-14T11:19:50.480Z"
      },
      {
        "duration": 250,
        "start_time": "2023-04-14T11:19:54.521Z"
      },
      {
        "duration": 38907,
        "start_time": "2023-04-14T11:19:54.773Z"
      },
      {
        "duration": 32043,
        "start_time": "2023-04-14T11:20:33.684Z"
      },
      {
        "duration": 1810,
        "start_time": "2023-04-14T11:21:05.729Z"
      },
      {
        "duration": 4,
        "start_time": "2023-04-14T11:21:07.541Z"
      },
      {
        "duration": 19,
        "start_time": "2023-04-14T11:21:07.548Z"
      },
      {
        "duration": 2545,
        "start_time": "2023-04-14T11:21:07.569Z"
      },
      {
        "duration": 39082,
        "start_time": "2023-04-14T11:21:10.116Z"
      },
      {
        "duration": 41969,
        "start_time": "2023-04-14T11:21:49.199Z"
      },
      {
        "duration": 4785,
        "start_time": "2023-04-14T11:22:31.170Z"
      },
      {
        "duration": 15603,
        "start_time": "2023-04-14T11:22:35.957Z"
      },
      {
        "duration": 5,
        "start_time": "2023-04-14T11:22:51.561Z"
      },
      {
        "duration": 28,
        "start_time": "2023-04-14T11:22:51.567Z"
      },
      {
        "duration": 1721,
        "start_time": "2023-04-14T11:22:51.597Z"
      },
      {
        "duration": 26583,
        "start_time": "2023-04-14T11:22:53.320Z"
      },
      {
        "duration": 19209,
        "start_time": "2023-04-14T11:23:19.905Z"
      },
      {
        "duration": 7926,
        "start_time": "2023-04-14T11:23:39.115Z"
      },
      {
        "duration": 97,
        "start_time": "2023-04-14T11:23:47.042Z"
      },
      {
        "duration": 2102,
        "start_time": "2023-04-14T17:06:05.490Z"
      },
      {
        "duration": 41,
        "start_time": "2023-04-14T17:06:07.595Z"
      },
      {
        "duration": 13,
        "start_time": "2023-04-14T17:06:07.637Z"
      },
      {
        "duration": 32,
        "start_time": "2023-04-14T17:06:07.651Z"
      },
      {
        "duration": 13,
        "start_time": "2023-04-14T17:06:07.685Z"
      },
      {
        "duration": 56,
        "start_time": "2023-04-14T17:06:07.699Z"
      },
      {
        "duration": 30,
        "start_time": "2023-04-14T17:06:07.758Z"
      },
      {
        "duration": 29,
        "start_time": "2023-04-14T17:06:07.790Z"
      },
      {
        "duration": 1442,
        "start_time": "2023-04-14T17:06:07.821Z"
      },
      {
        "duration": 6,
        "start_time": "2023-04-14T17:06:09.265Z"
      },
      {
        "duration": 35,
        "start_time": "2023-04-14T17:06:09.272Z"
      },
      {
        "duration": 15,
        "start_time": "2023-04-14T17:06:09.309Z"
      },
      {
        "duration": 17,
        "start_time": "2023-04-14T17:06:09.326Z"
      },
      {
        "duration": 402,
        "start_time": "2023-04-14T17:06:09.346Z"
      },
      {
        "duration": 277,
        "start_time": "2023-04-14T17:06:09.750Z"
      },
      {
        "duration": 41021,
        "start_time": "2023-04-14T17:06:10.029Z"
      },
      {
        "duration": 42773,
        "start_time": "2023-04-14T17:06:51.052Z"
      },
      {
        "duration": 4178,
        "start_time": "2023-04-14T17:07:33.826Z"
      },
      {
        "duration": 285,
        "start_time": "2023-04-14T17:07:38.006Z"
      },
      {
        "duration": 40194,
        "start_time": "2023-04-14T17:07:38.292Z"
      },
      {
        "duration": 33062,
        "start_time": "2023-04-14T17:08:18.488Z"
      },
      {
        "duration": 1886,
        "start_time": "2023-04-14T17:08:51.552Z"
      },
      {
        "duration": 4,
        "start_time": "2023-04-14T17:08:53.441Z"
      },
      {
        "duration": 29,
        "start_time": "2023-04-14T17:08:53.447Z"
      },
      {
        "duration": 2554,
        "start_time": "2023-04-14T17:08:53.478Z"
      },
      {
        "duration": 40917,
        "start_time": "2023-04-14T17:08:56.035Z"
      },
      {
        "duration": 42989,
        "start_time": "2023-04-14T17:09:36.954Z"
      },
      {
        "duration": 5942,
        "start_time": "2023-04-14T17:10:19.945Z"
      },
      {
        "duration": 16588,
        "start_time": "2023-04-14T17:10:25.889Z"
      },
      {
        "duration": 10,
        "start_time": "2023-04-14T17:10:42.478Z"
      },
      {
        "duration": 17,
        "start_time": "2023-04-14T17:10:42.489Z"
      },
      {
        "duration": 1620,
        "start_time": "2023-04-14T17:10:42.508Z"
      },
      {
        "duration": 27370,
        "start_time": "2023-04-14T17:10:44.129Z"
      },
      {
        "duration": 19421,
        "start_time": "2023-04-14T17:11:11.501Z"
      },
      {
        "duration": 7925,
        "start_time": "2023-04-14T17:11:30.923Z"
      },
      {
        "duration": 93,
        "start_time": "2023-04-14T17:11:38.850Z"
      },
      {
        "duration": 80,
        "start_time": "2023-04-15T10:52:43.675Z"
      },
      {
        "duration": 71,
        "start_time": "2023-04-15T11:07:00.700Z"
      },
      {
        "duration": 1212,
        "start_time": "2023-04-15T11:07:04.379Z"
      },
      {
        "duration": 76,
        "start_time": "2023-04-15T11:07:05.593Z"
      },
      {
        "duration": 13,
        "start_time": "2023-04-15T11:07:05.670Z"
      },
      {
        "duration": 30,
        "start_time": "2023-04-15T11:07:05.685Z"
      },
      {
        "duration": 12,
        "start_time": "2023-04-15T11:07:05.717Z"
      },
      {
        "duration": 18,
        "start_time": "2023-04-15T11:07:09.863Z"
      },
      {
        "duration": 74,
        "start_time": "2023-04-15T11:07:22.887Z"
      },
      {
        "duration": 17,
        "start_time": "2023-04-15T11:07:33.793Z"
      },
      {
        "duration": 1182,
        "start_time": "2023-04-15T11:07:46.668Z"
      },
      {
        "duration": 1200,
        "start_time": "2023-04-15T11:07:53.256Z"
      },
      {
        "duration": 12,
        "start_time": "2023-04-15T11:07:56.052Z"
      },
      {
        "duration": 6,
        "start_time": "2023-04-15T11:08:18.050Z"
      },
      {
        "duration": 634,
        "start_time": "2023-04-15T11:08:33.912Z"
      },
      {
        "duration": 890,
        "start_time": "2023-04-15T11:09:05.512Z"
      },
      {
        "duration": 131,
        "start_time": "2023-04-15T11:09:11.760Z"
      },
      {
        "duration": 7,
        "start_time": "2023-04-15T11:09:17.070Z"
      },
      {
        "duration": 5,
        "start_time": "2023-04-15T11:09:23.657Z"
      },
      {
        "duration": 212,
        "start_time": "2023-04-15T11:09:27.196Z"
      },
      {
        "duration": 8,
        "start_time": "2023-04-15T11:09:58.449Z"
      },
      {
        "duration": 138,
        "start_time": "2023-04-15T11:13:37.002Z"
      },
      {
        "duration": 7,
        "start_time": "2023-04-15T11:14:10.355Z"
      },
      {
        "duration": 1297,
        "start_time": "2023-04-15T11:14:43.744Z"
      },
      {
        "duration": 15,
        "start_time": "2023-04-15T11:15:01.899Z"
      },
      {
        "duration": 7,
        "start_time": "2023-04-15T11:15:10.587Z"
      },
      {
        "duration": 151,
        "start_time": "2023-04-15T11:16:48.580Z"
      },
      {
        "duration": 17,
        "start_time": "2023-04-15T11:19:23.293Z"
      },
      {
        "duration": 12,
        "start_time": "2023-04-15T11:19:39.749Z"
      },
      {
        "duration": 1250,
        "start_time": "2023-04-15T11:19:44.073Z"
      },
      {
        "duration": 6,
        "start_time": "2023-04-15T11:35:17.007Z"
      },
      {
        "duration": 14,
        "start_time": "2023-04-15T11:37:13.105Z"
      },
      {
        "duration": 31,
        "start_time": "2023-04-15T11:37:17.952Z"
      },
      {
        "duration": 20,
        "start_time": "2023-04-15T11:37:49.297Z"
      },
      {
        "duration": 16,
        "start_time": "2023-04-15T11:37:58.823Z"
      },
      {
        "duration": 22,
        "start_time": "2023-04-15T11:38:10.680Z"
      },
      {
        "duration": 152,
        "start_time": "2023-04-15T11:38:14.456Z"
      },
      {
        "duration": 151,
        "start_time": "2023-04-15T11:38:42.080Z"
      },
      {
        "duration": 150,
        "start_time": "2023-04-15T11:39:07.017Z"
      },
      {
        "duration": 14,
        "start_time": "2023-04-15T11:39:29.850Z"
      },
      {
        "duration": 336,
        "start_time": "2023-04-15T11:39:33.049Z"
      },
      {
        "duration": 106,
        "start_time": "2023-04-15T11:39:56.198Z"
      },
      {
        "duration": 83,
        "start_time": "2023-04-15T11:40:51.730Z"
      },
      {
        "duration": 73,
        "start_time": "2023-04-15T11:41:38.706Z"
      },
      {
        "duration": 142,
        "start_time": "2023-04-15T11:56:19.948Z"
      },
      {
        "duration": 13,
        "start_time": "2023-04-15T11:59:51.002Z"
      },
      {
        "duration": 6,
        "start_time": "2023-04-15T11:59:53.999Z"
      },
      {
        "duration": 15,
        "start_time": "2023-04-15T12:00:03.379Z"
      },
      {
        "duration": 4,
        "start_time": "2023-04-15T12:04:53.675Z"
      },
      {
        "duration": 13,
        "start_time": "2023-04-15T12:09:41.901Z"
      },
      {
        "duration": 13,
        "start_time": "2023-04-15T12:10:01.003Z"
      },
      {
        "duration": 4,
        "start_time": "2023-04-15T12:10:03.974Z"
      },
      {
        "duration": 44,
        "start_time": "2023-04-15T12:10:03.980Z"
      },
      {
        "duration": 13,
        "start_time": "2023-04-15T12:10:04.026Z"
      },
      {
        "duration": 23,
        "start_time": "2023-04-15T12:10:04.041Z"
      },
      {
        "duration": 12,
        "start_time": "2023-04-15T12:10:04.065Z"
      },
      {
        "duration": 121,
        "start_time": "2023-04-15T12:10:04.086Z"
      },
      {
        "duration": 138,
        "start_time": "2023-04-15T12:10:04.209Z"
      },
      {
        "duration": 61,
        "start_time": "2023-04-15T12:10:04.349Z"
      },
      {
        "duration": 23,
        "start_time": "2023-04-15T12:10:04.413Z"
      },
      {
        "duration": 58,
        "start_time": "2023-04-15T12:10:04.438Z"
      },
      {
        "duration": 1242,
        "start_time": "2023-04-15T12:10:04.499Z"
      },
      {
        "duration": 4,
        "start_time": "2023-04-15T12:10:05.743Z"
      },
      {
        "duration": 25,
        "start_time": "2023-04-15T12:10:05.748Z"
      },
      {
        "duration": 27,
        "start_time": "2023-04-15T12:10:05.774Z"
      },
      {
        "duration": 7,
        "start_time": "2023-04-15T12:10:05.803Z"
      },
      {
        "duration": 27,
        "start_time": "2023-04-15T12:10:05.813Z"
      },
      {
        "duration": 3,
        "start_time": "2023-04-15T12:12:05.532Z"
      },
      {
        "duration": 48,
        "start_time": "2023-04-15T12:12:46.150Z"
      },
      {
        "duration": 26,
        "start_time": "2023-04-15T12:13:04.288Z"
      },
      {
        "duration": 8,
        "start_time": "2023-04-15T12:15:14.229Z"
      },
      {
        "duration": 39,
        "start_time": "2023-04-15T12:15:14.239Z"
      },
      {
        "duration": 26,
        "start_time": "2023-04-15T12:15:14.281Z"
      },
      {
        "duration": 30,
        "start_time": "2023-04-15T12:15:14.311Z"
      },
      {
        "duration": 14,
        "start_time": "2023-04-15T12:15:14.343Z"
      },
      {
        "duration": 172,
        "start_time": "2023-04-15T12:15:14.359Z"
      },
      {
        "duration": 125,
        "start_time": "2023-04-15T12:15:14.533Z"
      },
      {
        "duration": 54,
        "start_time": "2023-04-15T12:15:14.660Z"
      },
      {
        "duration": 20,
        "start_time": "2023-04-15T12:15:14.716Z"
      },
      {
        "duration": 24,
        "start_time": "2023-04-15T12:15:14.739Z"
      },
      {
        "duration": 1171,
        "start_time": "2023-04-15T12:15:14.765Z"
      },
      {
        "duration": 4,
        "start_time": "2023-04-15T12:15:15.938Z"
      },
      {
        "duration": 22,
        "start_time": "2023-04-15T12:15:15.944Z"
      },
      {
        "duration": 27,
        "start_time": "2023-04-15T12:15:15.968Z"
      },
      {
        "duration": 9,
        "start_time": "2023-04-15T12:15:15.997Z"
      },
      {
        "duration": 3,
        "start_time": "2023-04-15T12:15:16.015Z"
      },
      {
        "duration": 115,
        "start_time": "2023-04-15T12:15:16.019Z"
      },
      {
        "duration": 125,
        "start_time": "2023-04-15T12:15:16.136Z"
      },
      {
        "duration": 247,
        "start_time": "2023-04-15T12:15:16.262Z"
      },
      {
        "duration": 40532,
        "start_time": "2023-04-15T12:15:16.511Z"
      },
      {
        "duration": 41361,
        "start_time": "2023-04-15T12:15:57.045Z"
      },
      {
        "duration": 3655,
        "start_time": "2023-04-15T12:16:38.408Z"
      },
      {
        "duration": 309,
        "start_time": "2023-04-15T12:16:42.064Z"
      },
      {
        "duration": 40450,
        "start_time": "2023-04-15T12:16:42.375Z"
      },
      {
        "duration": 32700,
        "start_time": "2023-04-15T12:17:22.827Z"
      },
      {
        "duration": 575,
        "start_time": "2023-04-15T12:17:55.533Z"
      },
      {
        "duration": 0,
        "start_time": "2023-04-15T12:17:56.111Z"
      },
      {
        "duration": 0,
        "start_time": "2023-04-15T12:17:56.113Z"
      },
      {
        "duration": 0,
        "start_time": "2023-04-15T12:17:56.114Z"
      },
      {
        "duration": 0,
        "start_time": "2023-04-15T12:17:56.115Z"
      },
      {
        "duration": 0,
        "start_time": "2023-04-15T12:17:56.117Z"
      },
      {
        "duration": 0,
        "start_time": "2023-04-15T12:17:56.118Z"
      },
      {
        "duration": 0,
        "start_time": "2023-04-15T12:17:56.119Z"
      },
      {
        "duration": 0,
        "start_time": "2023-04-15T12:17:56.121Z"
      },
      {
        "duration": 0,
        "start_time": "2023-04-15T12:17:56.122Z"
      },
      {
        "duration": 0,
        "start_time": "2023-04-15T12:17:56.124Z"
      },
      {
        "duration": 0,
        "start_time": "2023-04-15T12:17:56.125Z"
      },
      {
        "duration": 0,
        "start_time": "2023-04-15T12:17:56.126Z"
      },
      {
        "duration": 0,
        "start_time": "2023-04-15T12:17:56.127Z"
      },
      {
        "duration": 0,
        "start_time": "2023-04-15T12:17:56.128Z"
      },
      {
        "duration": 2992,
        "start_time": "2023-04-15T12:19:49.074Z"
      },
      {
        "duration": 4,
        "start_time": "2023-04-15T12:19:56.072Z"
      },
      {
        "duration": 13,
        "start_time": "2023-04-15T12:19:56.210Z"
      },
      {
        "duration": 1869,
        "start_time": "2023-04-15T12:19:56.353Z"
      },
      {
        "duration": 42228,
        "start_time": "2023-04-15T12:19:58.225Z"
      },
      {
        "duration": 42367,
        "start_time": "2023-04-15T12:20:40.455Z"
      },
      {
        "duration": 7474,
        "start_time": "2023-04-15T12:21:22.825Z"
      },
      {
        "duration": 14967,
        "start_time": "2023-04-15T12:21:30.315Z"
      },
      {
        "duration": 13,
        "start_time": "2023-04-15T12:21:45.284Z"
      },
      {
        "duration": 17,
        "start_time": "2023-04-15T12:21:45.303Z"
      },
      {
        "duration": 1603,
        "start_time": "2023-04-15T12:21:45.322Z"
      },
      {
        "duration": 28963,
        "start_time": "2023-04-15T12:21:46.927Z"
      },
      {
        "duration": 19382,
        "start_time": "2023-04-15T12:22:15.892Z"
      },
      {
        "duration": 7431,
        "start_time": "2023-04-15T12:22:35.276Z"
      },
      {
        "duration": 58,
        "start_time": "2023-04-15T12:22:42.708Z"
      },
      {
        "duration": 2674,
        "start_time": "2023-04-15T12:24:04.754Z"
      },
      {
        "duration": 36523,
        "start_time": "2023-04-15T12:24:15.236Z"
      },
      {
        "duration": 40716,
        "start_time": "2023-04-15T12:24:51.761Z"
      },
      {
        "duration": 1426,
        "start_time": "2023-04-15T12:25:44.156Z"
      },
      {
        "duration": 11,
        "start_time": "2023-04-15T12:27:02.148Z"
      },
      {
        "duration": 11,
        "start_time": "2023-04-15T12:27:05.020Z"
      },
      {
        "duration": 11,
        "start_time": "2023-04-15T12:27:08.924Z"
      },
      {
        "duration": 10,
        "start_time": "2023-04-15T12:27:11.838Z"
      },
      {
        "duration": 16,
        "start_time": "2023-04-15T12:27:14.781Z"
      },
      {
        "duration": 12,
        "start_time": "2023-04-15T12:27:30.237Z"
      },
      {
        "duration": 3169,
        "start_time": "2023-04-15T12:27:53.845Z"
      },
      {
        "duration": 55164,
        "start_time": "2023-04-15T12:29:36.079Z"
      },
      {
        "duration": 21199,
        "start_time": "2023-04-15T12:30:40.003Z"
      },
      {
        "duration": 29886,
        "start_time": "2023-04-15T12:32:00.570Z"
      },
      {
        "duration": 4686,
        "start_time": "2023-04-15T12:33:41.019Z"
      },
      {
        "duration": 333950,
        "start_time": "2023-04-15T12:34:31.307Z"
      },
      {
        "duration": 127,
        "start_time": "2023-04-15T12:43:38.270Z"
      },
      {
        "duration": 72,
        "start_time": "2023-04-15T12:44:28.408Z"
      },
      {
        "duration": 30228,
        "start_time": "2023-04-15T12:44:37.802Z"
      },
      {
        "duration": 27853,
        "start_time": "2023-04-15T12:45:38.223Z"
      },
      {
        "duration": 38552,
        "start_time": "2023-04-15T12:48:03.329Z"
      },
      {
        "duration": 34473,
        "start_time": "2023-04-15T12:48:41.884Z"
      },
      {
        "duration": 4,
        "start_time": "2023-04-15T12:49:47.236Z"
      },
      {
        "duration": 39,
        "start_time": "2023-04-15T12:49:47.242Z"
      },
      {
        "duration": 20,
        "start_time": "2023-04-15T12:49:47.283Z"
      },
      {
        "duration": 21,
        "start_time": "2023-04-15T12:49:47.306Z"
      },
      {
        "duration": 12,
        "start_time": "2023-04-15T12:49:47.329Z"
      },
      {
        "duration": 159,
        "start_time": "2023-04-15T12:49:47.343Z"
      },
      {
        "duration": 105,
        "start_time": "2023-04-15T12:49:47.504Z"
      },
      {
        "duration": 42,
        "start_time": "2023-04-15T12:49:47.611Z"
      },
      {
        "duration": 44,
        "start_time": "2023-04-15T12:49:47.655Z"
      },
      {
        "duration": 27,
        "start_time": "2023-04-15T12:49:47.701Z"
      },
      {
        "duration": 1388,
        "start_time": "2023-04-15T12:49:47.730Z"
      },
      {
        "duration": 4,
        "start_time": "2023-04-15T12:49:49.120Z"
      },
      {
        "duration": 76,
        "start_time": "2023-04-15T12:49:49.125Z"
      },
      {
        "duration": 9,
        "start_time": "2023-04-15T12:49:49.203Z"
      },
      {
        "duration": 8,
        "start_time": "2023-04-15T12:49:49.214Z"
      },
      {
        "duration": 8,
        "start_time": "2023-04-15T12:49:49.225Z"
      },
      {
        "duration": 29,
        "start_time": "2023-04-15T12:49:49.286Z"
      },
      {
        "duration": 306,
        "start_time": "2023-04-15T12:49:49.317Z"
      },
      {
        "duration": 302,
        "start_time": "2023-04-15T12:49:49.625Z"
      },
      {
        "duration": 39538,
        "start_time": "2023-04-15T12:49:49.986Z"
      },
      {
        "duration": 40734,
        "start_time": "2023-04-15T12:50:29.526Z"
      },
      {
        "duration": 3545,
        "start_time": "2023-04-15T12:51:10.262Z"
      },
      {
        "duration": 301,
        "start_time": "2023-04-15T12:51:13.809Z"
      },
      {
        "duration": 38382,
        "start_time": "2023-04-15T12:51:14.114Z"
      },
      {
        "duration": 34112,
        "start_time": "2023-04-15T12:51:52.498Z"
      },
      {
        "duration": 3713,
        "start_time": "2023-04-15T12:52:26.612Z"
      },
      {
        "duration": 5,
        "start_time": "2023-04-15T12:52:30.327Z"
      },
      {
        "duration": 40,
        "start_time": "2023-04-15T12:52:30.333Z"
      },
      {
        "duration": 2150,
        "start_time": "2023-04-15T12:52:30.375Z"
      },
      {
        "duration": 39385,
        "start_time": "2023-04-15T12:52:32.527Z"
      },
      {
        "duration": 41689,
        "start_time": "2023-04-15T12:53:11.913Z"
      },
      {
        "duration": 1558,
        "start_time": "2023-04-15T12:53:53.605Z"
      },
      {
        "duration": 14540,
        "start_time": "2023-04-15T12:53:55.165Z"
      },
      {
        "duration": 4,
        "start_time": "2023-04-15T12:54:09.707Z"
      },
      {
        "duration": 12,
        "start_time": "2023-04-15T12:54:09.713Z"
      },
      {
        "duration": 3302,
        "start_time": "2023-04-15T12:54:09.727Z"
      },
      {
        "duration": 55310,
        "start_time": "2023-04-15T12:54:13.031Z"
      },
      {
        "duration": 338184,
        "start_time": "2023-04-15T12:55:08.343Z"
      },
      {
        "duration": 7337,
        "start_time": "2023-04-15T13:00:46.529Z"
      },
      {
        "duration": 121,
        "start_time": "2023-04-15T13:00:53.867Z"
      },
      {
        "duration": 5,
        "start_time": "2023-04-15T13:04:33.353Z"
      },
      {
        "duration": 476031,
        "start_time": "2023-04-15T13:07:00.978Z"
      },
      {
        "duration": 11511,
        "start_time": "2023-04-15T13:15:02.632Z"
      },
      {
        "duration": 94254,
        "start_time": "2023-04-15T13:15:15.863Z"
      },
      {
        "duration": 93619,
        "start_time": "2023-04-15T13:19:34.378Z"
      },
      {
        "duration": 635410,
        "start_time": "2023-04-15T13:23:55.557Z"
      },
      {
        "duration": 583671,
        "start_time": "2023-04-15T13:34:43.804Z"
      },
      {
        "duration": 32,
        "start_time": "2023-04-15T13:51:52.373Z"
      },
      {
        "duration": 12,
        "start_time": "2023-04-15T13:52:40.750Z"
      },
      {
        "duration": 15,
        "start_time": "2023-04-15T13:52:44.266Z"
      },
      {
        "duration": 5236,
        "start_time": "2023-04-15T13:52:59.809Z"
      },
      {
        "duration": 5990,
        "start_time": "2023-04-15T13:53:08.477Z"
      },
      {
        "duration": 62338,
        "start_time": "2023-04-15T13:53:22.503Z"
      },
      {
        "duration": 4,
        "start_time": "2023-04-15T14:09:26.278Z"
      },
      {
        "duration": 56,
        "start_time": "2023-04-15T14:09:26.285Z"
      },
      {
        "duration": 13,
        "start_time": "2023-04-15T14:09:26.343Z"
      },
      {
        "duration": 32,
        "start_time": "2023-04-15T14:09:26.358Z"
      },
      {
        "duration": 13,
        "start_time": "2023-04-15T14:09:26.392Z"
      },
      {
        "duration": 119,
        "start_time": "2023-04-15T14:09:26.407Z"
      },
      {
        "duration": 120,
        "start_time": "2023-04-15T14:09:26.528Z"
      },
      {
        "duration": 52,
        "start_time": "2023-04-15T14:09:26.650Z"
      },
      {
        "duration": 20,
        "start_time": "2023-04-15T14:09:26.705Z"
      },
      {
        "duration": 60,
        "start_time": "2023-04-15T14:09:26.727Z"
      },
      {
        "duration": 1456,
        "start_time": "2023-04-15T14:09:26.789Z"
      },
      {
        "duration": 5,
        "start_time": "2023-04-15T14:09:28.247Z"
      },
      {
        "duration": 47,
        "start_time": "2023-04-15T14:09:28.254Z"
      },
      {
        "duration": 11,
        "start_time": "2023-04-15T14:09:28.305Z"
      },
      {
        "duration": 7,
        "start_time": "2023-04-15T14:09:28.319Z"
      },
      {
        "duration": 5,
        "start_time": "2023-04-15T14:09:28.328Z"
      },
      {
        "duration": 21,
        "start_time": "2023-04-15T14:09:28.334Z"
      },
      {
        "duration": 142,
        "start_time": "2023-04-15T14:09:28.357Z"
      },
      {
        "duration": 221,
        "start_time": "2023-04-15T14:09:28.501Z"
      },
      {
        "duration": 4,
        "start_time": "2023-04-15T14:12:34.302Z"
      },
      {
        "duration": 33,
        "start_time": "2023-04-15T14:12:36.223Z"
      },
      {
        "duration": 13,
        "start_time": "2023-04-15T14:13:12.358Z"
      },
      {
        "duration": 23,
        "start_time": "2023-04-15T14:13:50.112Z"
      },
      {
        "duration": 12,
        "start_time": "2023-04-15T14:13:51.485Z"
      },
      {
        "duration": 102,
        "start_time": "2023-04-15T14:14:05.151Z"
      },
      {
        "duration": 114,
        "start_time": "2023-04-15T14:14:05.260Z"
      },
      {
        "duration": 38,
        "start_time": "2023-04-15T14:14:05.396Z"
      },
      {
        "duration": 22,
        "start_time": "2023-04-15T14:14:08.621Z"
      },
      {
        "duration": 52,
        "start_time": "2023-04-15T14:14:08.651Z"
      },
      {
        "duration": 1278,
        "start_time": "2023-04-15T14:14:08.741Z"
      },
      {
        "duration": 4,
        "start_time": "2023-04-15T14:14:10.035Z"
      },
      {
        "duration": 39,
        "start_time": "2023-04-15T14:14:10.065Z"
      },
      {
        "duration": 6,
        "start_time": "2023-04-15T14:14:10.120Z"
      },
      {
        "duration": 7,
        "start_time": "2023-04-15T14:14:10.260Z"
      },
      {
        "duration": 3,
        "start_time": "2023-04-15T14:14:10.402Z"
      },
      {
        "duration": 25,
        "start_time": "2023-04-15T14:14:10.461Z"
      },
      {
        "duration": 130,
        "start_time": "2023-04-15T14:14:10.509Z"
      },
      {
        "duration": 254,
        "start_time": "2023-04-15T14:14:10.667Z"
      },
      {
        "duration": 88077,
        "start_time": "2023-04-15T14:14:12.224Z"
      },
      {
        "duration": 3356,
        "start_time": "2023-04-15T14:15:40.313Z"
      },
      {
        "duration": 306,
        "start_time": "2023-04-15T14:15:43.696Z"
      },
      {
        "duration": 89455,
        "start_time": "2023-04-15T14:15:44.013Z"
      },
      {
        "duration": 3082,
        "start_time": "2023-04-15T14:17:13.478Z"
      },
      {
        "duration": 6,
        "start_time": "2023-04-15T14:17:16.568Z"
      },
      {
        "duration": 15,
        "start_time": "2023-04-15T14:17:16.622Z"
      },
      {
        "duration": 1943,
        "start_time": "2023-04-15T14:17:16.775Z"
      },
      {
        "duration": 36538,
        "start_time": "2023-04-15T14:17:18.930Z"
      },
      {
        "duration": 39450,
        "start_time": "2023-04-15T14:19:25.198Z"
      },
      {
        "duration": 1465,
        "start_time": "2023-04-15T14:20:08.011Z"
      },
      {
        "duration": 13146,
        "start_time": "2023-04-15T14:20:09.802Z"
      },
      {
        "duration": 6,
        "start_time": "2023-04-15T14:22:00.201Z"
      },
      {
        "duration": 11,
        "start_time": "2023-04-15T14:22:03.294Z"
      },
      {
        "duration": 3208,
        "start_time": "2023-04-15T14:22:03.317Z"
      },
      {
        "duration": 55011,
        "start_time": "2023-04-15T14:22:06.539Z"
      },
      {
        "duration": 333335,
        "start_time": "2023-04-15T14:23:03.424Z"
      },
      {
        "duration": 6747,
        "start_time": "2023-04-15T14:29:13.372Z"
      },
      {
        "duration": 114,
        "start_time": "2023-04-15T14:29:58.246Z"
      }
    ],
    "kernelspec": {
      "display_name": "Python 3 (ipykernel)",
      "language": "python",
      "name": "python3"
    },
    "language_info": {
      "codemirror_mode": {
        "name": "ipython",
        "version": 3
      },
      "file_extension": ".py",
      "mimetype": "text/x-python",
      "name": "python",
      "nbconvert_exporter": "python",
      "pygments_lexer": "ipython3",
      "version": "3.9.5"
    },
    "toc": {
      "base_numbering": 1,
      "nav_menu": {},
      "number_sections": true,
      "sideBar": true,
      "skip_h1_title": true,
      "title_cell": "Содержание",
      "title_sidebar": "Contents",
      "toc_cell": true,
      "toc_position": {
        "height": "calc(100% - 180px)",
        "left": "10px",
        "top": "150px",
        "width": "364.188px"
      },
      "toc_section_display": true,
      "toc_window_display": true
    },
    "colab": {
      "provenance": []
    }
  },
  "nbformat": 4,
  "nbformat_minor": 0
}