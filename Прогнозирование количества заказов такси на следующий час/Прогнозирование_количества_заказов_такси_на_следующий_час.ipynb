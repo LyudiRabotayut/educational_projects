{
  "cells": [
    {
      "cell_type": "markdown",
      "metadata": {
        "toc": true,
        "id": "kXinnjXI-G2l"
      },
      "source": [
        "<h1>Содержание<span class=\"tocSkip\"></span></h1>\n",
        "<div class=\"toc\"><ul class=\"toc-item\"><li><span><a href=\"#Подготовка\" data-toc-modified-id=\"Подготовка-1\"><span class=\"toc-item-num\">1&nbsp;&nbsp;</span>Подготовка</a></span><ul class=\"toc-item\"><li><span><a href=\"#Предобработка\" data-toc-modified-id=\"Предобработка-1.1\"><span class=\"toc-item-num\">1.1&nbsp;&nbsp;</span>Предобработка</a></span><ul class=\"toc-item\"><li><span><a href=\"#Формат-дат\" data-toc-modified-id=\"Формат-дат-1.1.1\"><span class=\"toc-item-num\">1.1.1&nbsp;&nbsp;</span>Формат дат</a></span></li><li><span><a href=\"#Индексируем-даты\" data-toc-modified-id=\"Индексируем-даты-1.1.2\"><span class=\"toc-item-num\">1.1.2&nbsp;&nbsp;</span>Индексируем даты</a></span></li><li><span><a href=\"#Ресемплирование\" data-toc-modified-id=\"Ресемплирование-1.1.3\"><span class=\"toc-item-num\">1.1.3&nbsp;&nbsp;</span>Ресемплирование</a></span></li></ul></li><li><span><a href=\"#Подвывод\" data-toc-modified-id=\"Подвывод-1.2\"><span class=\"toc-item-num\">1.2&nbsp;&nbsp;</span>Подвывод</a></span></li></ul></li><li><span><a href=\"#Анализ\" data-toc-modified-id=\"Анализ-2\"><span class=\"toc-item-num\">2&nbsp;&nbsp;</span>Анализ</a></span><ul class=\"toc-item\"><li><span><a href=\"#Тренды-и-сезонность\" data-toc-modified-id=\"Тренды-и-сезонность-2.1\"><span class=\"toc-item-num\">2.1&nbsp;&nbsp;</span>Тренды и сезонность</a></span></li><li><span><a href=\"#Стохастический-процесс\" data-toc-modified-id=\"Стохастический-процесс-2.2\"><span class=\"toc-item-num\">2.2&nbsp;&nbsp;</span>Стохастический процесс</a></span><ul class=\"toc-item\"><li><span><a href=\"#Метод-скользящей-средней\" data-toc-modified-id=\"Метод-скользящей-средней-2.2.1\"><span class=\"toc-item-num\">2.2.1&nbsp;&nbsp;</span>Метод скользящей средней</a></span></li><li><span><a href=\"#Метод-Дики-Фуллера\" data-toc-modified-id=\"Метод-Дики-Фуллера-2.2.2\"><span class=\"toc-item-num\">2.2.2&nbsp;&nbsp;</span>Метод Дики-Фуллера</a></span></li><li><span><a href=\"#Подвывод-по-стохастическому-процессу\" data-toc-modified-id=\"Подвывод-по-стохастическому-процессу-2.2.3\"><span class=\"toc-item-num\">2.2.3&nbsp;&nbsp;</span>Подвывод по стохастическому процессу</a></span></li></ul></li><li><span><a href=\"#Подвывод\" data-toc-modified-id=\"Подвывод-2.3\"><span class=\"toc-item-num\">2.3&nbsp;&nbsp;</span>Подвывод</a></span></li></ul></li><li><span><a href=\"#Обучение\" data-toc-modified-id=\"Обучение-3\"><span class=\"toc-item-num\">3&nbsp;&nbsp;</span>Обучение</a></span><ul class=\"toc-item\"><li><span><a href=\"#Добавляем-признаки\" data-toc-modified-id=\"Добавляем-признаки-3.1\"><span class=\"toc-item-num\">3.1&nbsp;&nbsp;</span>Добавляем признаки</a></span></li><li><span><a href=\"#Делим-на-выборки\" data-toc-modified-id=\"Делим-на-выборки-3.2\"><span class=\"toc-item-num\">3.2&nbsp;&nbsp;</span>Делим на выборки</a></span></li><li><span><a href=\"#Модели-обучения\" data-toc-modified-id=\"Модели-обучения-3.3\"><span class=\"toc-item-num\">3.3&nbsp;&nbsp;</span>Модели обучения</a></span><ul class=\"toc-item\"><li><span><a href=\"#Линейная-регрессия\" data-toc-modified-id=\"Линейная-регрессия-3.3.1\"><span class=\"toc-item-num\">3.3.1&nbsp;&nbsp;</span>Линейная регрессия</a></span></li><li><span><a href=\"#Случайный-лес\" data-toc-modified-id=\"Случайный-лес-3.3.2\"><span class=\"toc-item-num\">3.3.2&nbsp;&nbsp;</span>Случайный лес</a></span></li><li><span><a href=\"#Catboost\" data-toc-modified-id=\"Catboost-3.3.3\"><span class=\"toc-item-num\">3.3.3&nbsp;&nbsp;</span>Catboost</a></span></li></ul></li><li><span><a href=\"#Подвывод\" data-toc-modified-id=\"Подвывод-3.4\"><span class=\"toc-item-num\">3.4&nbsp;&nbsp;</span>Подвывод</a></span></li></ul></li><li><span><a href=\"#Тестирование\" data-toc-modified-id=\"Тестирование-4\"><span class=\"toc-item-num\">4&nbsp;&nbsp;</span>Тестирование</a></span><ul class=\"toc-item\"><li><span><a href=\"#Тестовая-выборка\" data-toc-modified-id=\"Тестовая-выборка-4.1\"><span class=\"toc-item-num\">4.1&nbsp;&nbsp;</span>Тестовая выборка</a></span></li><li><span><a href=\"#Проверка-на-адекватность\" data-toc-modified-id=\"Проверка-на-адекватность-4.2\"><span class=\"toc-item-num\">4.2&nbsp;&nbsp;</span>Проверка на адекватность</a></span></li><li><span><a href=\"#Сверка-графиков\" data-toc-modified-id=\"Сверка-графиков-4.3\"><span class=\"toc-item-num\">4.3&nbsp;&nbsp;</span>Сверка графиков</a></span></li></ul></li><li><span><a href=\"#Вывод\" data-toc-modified-id=\"Вывод-5\"><span class=\"toc-item-num\">5&nbsp;&nbsp;</span>Вывод</a></span></li><li><span><a href=\"#Обучение-на-данных-с-разницами\" data-toc-modified-id=\"Обучение-на-данных-с-разницами-6\"><span class=\"toc-item-num\">6&nbsp;&nbsp;</span>Обучение на данных с разницами</a></span></li></ul></div>"
      ]
    },
    {
      "cell_type": "markdown",
      "metadata": {
        "id": "MABWbQH4-G2n"
      },
      "source": [
        "#  Прогнозирование заказов такси"
      ]
    },
    {
      "cell_type": "markdown",
      "source": [
        "Задача:\n",
        "\n",
        "Разработка системы предсказания объема заказа."
      ],
      "metadata": {
        "id": "V-2xj_fk-Ndl"
      }
    },
    {
      "cell_type": "markdown",
      "metadata": {
        "id": "ylp0xxS0-G2n"
      },
      "source": [
        "\n",
        "План:\n",
        "\n",
        "1. Загрузить данные и выполнить их ресемплирование по одному часу.\n",
        "2. Проанализировать данные.\n",
        "3. Обучить разные модели с различными гиперпараметрами. Сделать тестовую выборку размером 10% от исходных данных.\n",
        "4. Проверить данные на тестовой выборке и сделать выводы.\n"
      ]
    },
    {
      "cell_type": "markdown",
      "metadata": {
        "id": "_Lx6j46P-G2o"
      },
      "source": [
        "## Подготовка"
      ]
    },
    {
      "cell_type": "code",
      "execution_count": null,
      "metadata": {
        "id": "FKQKihPx-G2o"
      },
      "outputs": [],
      "source": [
        "# Импортируем библиотеки\n",
        "import catboost as cb\n",
        "import datetime as dt\n",
        "import pandas as pd\n",
        "import matplotlib.pyplot as plt\n",
        "import numpy as np\n",
        "import lightgbm as lgb\n",
        "\n",
        "\n",
        "from sklearn.model_selection import GridSearchCV, train_test_split, TimeSeriesSplit, cross_val_score\n",
        "from sklearn.ensemble import RandomForestRegressor\n",
        "from sklearn.linear_model import LinearRegression\n",
        "from sklearn.dummy import DummyRegressor\n",
        "from sklearn.metrics import mean_squared_error\n",
        "%matplotlib inline\n",
        "from statsmodels.tsa.stattools import adfuller\n",
        "from statsmodels.tsa.seasonal import seasonal_decompose"
      ]
    },
    {
      "cell_type": "code",
      "execution_count": null,
      "metadata": {
        "id": "CdSYcrT3-G2q"
      },
      "outputs": [],
      "source": [
        "# Загружаем данные\n",
        "try:\n",
        "    data = pd.read_csv('/datasets/taxi.csv')\n",
        "except:\n",
        "    data = pd.read_csv(r'D:\\DataHome\\такси\\taxi.csv')"
      ]
    },
    {
      "cell_type": "code",
      "execution_count": null,
      "metadata": {
        "id": "F3wIoNxm-G2q",
        "outputId": "c930f415-16c6-441e-a05b-d2b303dd1de3"
      },
      "outputs": [
        {
          "name": "stdout",
          "output_type": "stream",
          "text": [
            "<class 'pandas.core.frame.DataFrame'>\n",
            "RangeIndex: 26496 entries, 0 to 26495\n",
            "Data columns (total 2 columns):\n",
            " #   Column      Non-Null Count  Dtype \n",
            "---  ------      --------------  ----- \n",
            " 0   datetime    26496 non-null  object\n",
            " 1   num_orders  26496 non-null  int64 \n",
            "dtypes: int64(1), object(1)\n",
            "memory usage: 414.1+ KB\n"
          ]
        }
      ],
      "source": [
        "# Изучаем данные\n",
        "data.info()"
      ]
    },
    {
      "cell_type": "markdown",
      "metadata": {
        "id": "_6_aMhWA-G2r"
      },
      "source": [
        "В нашем распоряжении 26496 строк и 2 колонки: с датами и с количеством заказов в это время"
      ]
    },
    {
      "cell_type": "code",
      "execution_count": null,
      "metadata": {
        "scrolled": true,
        "id": "tPaoZIce-G2s",
        "outputId": "84f58004-7631-473a-e620-9dc5337a81bf"
      },
      "outputs": [
        {
          "data": {
            "text/html": [
              "<div>\n",
              "<style scoped>\n",
              "    .dataframe tbody tr th:only-of-type {\n",
              "        vertical-align: middle;\n",
              "    }\n",
              "\n",
              "    .dataframe tbody tr th {\n",
              "        vertical-align: top;\n",
              "    }\n",
              "\n",
              "    .dataframe thead th {\n",
              "        text-align: right;\n",
              "    }\n",
              "</style>\n",
              "<table border=\"1\" class=\"dataframe\">\n",
              "  <thead>\n",
              "    <tr style=\"text-align: right;\">\n",
              "      <th></th>\n",
              "      <th>datetime</th>\n",
              "      <th>num_orders</th>\n",
              "    </tr>\n",
              "  </thead>\n",
              "  <tbody>\n",
              "    <tr>\n",
              "      <th>0</th>\n",
              "      <td>2018-03-01 00:00:00</td>\n",
              "      <td>9</td>\n",
              "    </tr>\n",
              "    <tr>\n",
              "      <th>1</th>\n",
              "      <td>2018-03-01 00:10:00</td>\n",
              "      <td>14</td>\n",
              "    </tr>\n",
              "    <tr>\n",
              "      <th>2</th>\n",
              "      <td>2018-03-01 00:20:00</td>\n",
              "      <td>28</td>\n",
              "    </tr>\n",
              "    <tr>\n",
              "      <th>3</th>\n",
              "      <td>2018-03-01 00:30:00</td>\n",
              "      <td>20</td>\n",
              "    </tr>\n",
              "    <tr>\n",
              "      <th>4</th>\n",
              "      <td>2018-03-01 00:40:00</td>\n",
              "      <td>32</td>\n",
              "    </tr>\n",
              "  </tbody>\n",
              "</table>\n",
              "</div>"
            ],
            "text/plain": [
              "              datetime  num_orders\n",
              "0  2018-03-01 00:00:00           9\n",
              "1  2018-03-01 00:10:00          14\n",
              "2  2018-03-01 00:20:00          28\n",
              "3  2018-03-01 00:30:00          20\n",
              "4  2018-03-01 00:40:00          32"
            ]
          },
          "execution_count": 133,
          "metadata": {},
          "output_type": "execute_result"
        }
      ],
      "source": [
        "# Смотрим как данные выглядят\n",
        "data.head()"
      ]
    },
    {
      "cell_type": "markdown",
      "metadata": {
        "id": "oAchjRI9-G2s"
      },
      "source": [
        "### Предобработка"
      ]
    },
    {
      "cell_type": "markdown",
      "metadata": {
        "id": "Uxct87k6-G2s"
      },
      "source": [
        "#### Формат дат"
      ]
    },
    {
      "cell_type": "code",
      "execution_count": null,
      "metadata": {
        "scrolled": true,
        "id": "lQNXJZbq-G2s",
        "outputId": "58cb261f-c28c-4cc4-eba2-eebb8af87635"
      },
      "outputs": [
        {
          "name": "stdout",
          "output_type": "stream",
          "text": [
            "<class 'pandas.core.frame.DataFrame'>\n",
            "RangeIndex: 26496 entries, 0 to 26495\n",
            "Data columns (total 2 columns):\n",
            " #   Column      Non-Null Count  Dtype         \n",
            "---  ------      --------------  -----         \n",
            " 0   datetime    26496 non-null  datetime64[ns]\n",
            " 1   num_orders  26496 non-null  int64         \n",
            "dtypes: datetime64[ns](1), int64(1)\n",
            "memory usage: 414.1 KB\n"
          ]
        }
      ],
      "source": [
        "# Меняем формат дат на корректный\n",
        "data['datetime'] = pd.to_datetime(data['datetime'], format='%Y-%m-%d %H:%M:%S')\n",
        "data.info()"
      ]
    },
    {
      "cell_type": "markdown",
      "metadata": {
        "id": "5oYzPg_0-G2s"
      },
      "source": [
        "#### Индексируем даты"
      ]
    },
    {
      "cell_type": "code",
      "execution_count": null,
      "metadata": {
        "id": "s6nJFGup-G2t",
        "outputId": "bfe5823b-3cef-4a68-907c-c4534f94337e"
      },
      "outputs": [
        {
          "data": {
            "text/html": [
              "<div>\n",
              "<style scoped>\n",
              "    .dataframe tbody tr th:only-of-type {\n",
              "        vertical-align: middle;\n",
              "    }\n",
              "\n",
              "    .dataframe tbody tr th {\n",
              "        vertical-align: top;\n",
              "    }\n",
              "\n",
              "    .dataframe thead th {\n",
              "        text-align: right;\n",
              "    }\n",
              "</style>\n",
              "<table border=\"1\" class=\"dataframe\">\n",
              "  <thead>\n",
              "    <tr style=\"text-align: right;\">\n",
              "      <th></th>\n",
              "      <th>num_orders</th>\n",
              "    </tr>\n",
              "    <tr>\n",
              "      <th>datetime</th>\n",
              "      <th></th>\n",
              "    </tr>\n",
              "  </thead>\n",
              "  <tbody>\n",
              "    <tr>\n",
              "      <th>2018-03-01 00:00:00</th>\n",
              "      <td>9</td>\n",
              "    </tr>\n",
              "    <tr>\n",
              "      <th>2018-03-01 00:10:00</th>\n",
              "      <td>14</td>\n",
              "    </tr>\n",
              "    <tr>\n",
              "      <th>2018-03-01 00:20:00</th>\n",
              "      <td>28</td>\n",
              "    </tr>\n",
              "    <tr>\n",
              "      <th>2018-03-01 00:30:00</th>\n",
              "      <td>20</td>\n",
              "    </tr>\n",
              "    <tr>\n",
              "      <th>2018-03-01 00:40:00</th>\n",
              "      <td>32</td>\n",
              "    </tr>\n",
              "  </tbody>\n",
              "</table>\n",
              "</div>"
            ],
            "text/plain": [
              "                     num_orders\n",
              "datetime                       \n",
              "2018-03-01 00:00:00           9\n",
              "2018-03-01 00:10:00          14\n",
              "2018-03-01 00:20:00          28\n",
              "2018-03-01 00:30:00          20\n",
              "2018-03-01 00:40:00          32"
            ]
          },
          "execution_count": 135,
          "metadata": {},
          "output_type": "execute_result"
        }
      ],
      "source": [
        "# Делаем даты индексами\n",
        "data = data.set_index('datetime')\n",
        "data.head()"
      ]
    },
    {
      "cell_type": "markdown",
      "metadata": {
        "id": "t6h1mAam-G2t"
      },
      "source": [
        "#### Ресемплирование"
      ]
    },
    {
      "cell_type": "markdown",
      "metadata": {
        "id": "AGl5of9--G2t"
      },
      "source": [
        "Сейчас временной шаг -- 10 минут. Нам нужно создать модель предсказания нагрузки на следующий час, поэтому мы сделаем соответствующее ресемплирование"
      ]
    },
    {
      "cell_type": "code",
      "execution_count": null,
      "metadata": {
        "scrolled": false,
        "id": "t25kOQiT-G2t",
        "outputId": "a1254c8e-ae7b-4590-8de8-abb0f1a1b24d"
      },
      "outputs": [
        {
          "data": {
            "text/html": [
              "<div>\n",
              "<style scoped>\n",
              "    .dataframe tbody tr th:only-of-type {\n",
              "        vertical-align: middle;\n",
              "    }\n",
              "\n",
              "    .dataframe tbody tr th {\n",
              "        vertical-align: top;\n",
              "    }\n",
              "\n",
              "    .dataframe thead th {\n",
              "        text-align: right;\n",
              "    }\n",
              "</style>\n",
              "<table border=\"1\" class=\"dataframe\">\n",
              "  <thead>\n",
              "    <tr style=\"text-align: right;\">\n",
              "      <th></th>\n",
              "      <th>num_orders</th>\n",
              "    </tr>\n",
              "    <tr>\n",
              "      <th>datetime</th>\n",
              "      <th></th>\n",
              "    </tr>\n",
              "  </thead>\n",
              "  <tbody>\n",
              "    <tr>\n",
              "      <th>2018-03-01 00:00:00</th>\n",
              "      <td>124</td>\n",
              "    </tr>\n",
              "    <tr>\n",
              "      <th>2018-03-01 01:00:00</th>\n",
              "      <td>85</td>\n",
              "    </tr>\n",
              "    <tr>\n",
              "      <th>2018-03-01 02:00:00</th>\n",
              "      <td>71</td>\n",
              "    </tr>\n",
              "    <tr>\n",
              "      <th>2018-03-01 03:00:00</th>\n",
              "      <td>66</td>\n",
              "    </tr>\n",
              "    <tr>\n",
              "      <th>2018-03-01 04:00:00</th>\n",
              "      <td>43</td>\n",
              "    </tr>\n",
              "  </tbody>\n",
              "</table>\n",
              "</div>"
            ],
            "text/plain": [
              "                     num_orders\n",
              "datetime                       \n",
              "2018-03-01 00:00:00         124\n",
              "2018-03-01 01:00:00          85\n",
              "2018-03-01 02:00:00          71\n",
              "2018-03-01 03:00:00          66\n",
              "2018-03-01 04:00:00          43"
            ]
          },
          "execution_count": 136,
          "metadata": {},
          "output_type": "execute_result"
        }
      ],
      "source": [
        "data = data.resample('1H').sum()\n",
        "data.head()"
      ]
    },
    {
      "cell_type": "markdown",
      "metadata": {
        "id": "HYTVwb47-G2u"
      },
      "source": [
        "### Подвывод"
      ]
    },
    {
      "cell_type": "markdown",
      "metadata": {
        "id": "yKQTNob0-G2u"
      },
      "source": [
        "Мы загрузили данные, посмотрели на их структуру, изменили формат дат, сделали их индексами и провели ресемплирование"
      ]
    },
    {
      "cell_type": "markdown",
      "metadata": {
        "id": "IZQS7R9N-G2u"
      },
      "source": [
        "## Анализ"
      ]
    },
    {
      "cell_type": "code",
      "execution_count": null,
      "metadata": {
        "id": "knFze8Wa-G2u",
        "outputId": "f0eadf9b-ae87-4d9c-d372-e37faa87db36"
      },
      "outputs": [
        {
          "data": {
            "text/plain": [
              "('Самая ранняя дата:',\n",
              " Timestamp('2018-03-01 00:00:00', freq='H'),\n",
              " 'Самая поздняя дата:',\n",
              " Timestamp('2018-08-31 23:00:00', freq='H'))"
            ]
          },
          "execution_count": 137,
          "metadata": {},
          "output_type": "execute_result"
        }
      ],
      "source": [
        "'Самая ранняя дата:', data.index.min(),  'Самая поздняя дата:', data.index.max()"
      ]
    },
    {
      "cell_type": "markdown",
      "metadata": {
        "id": "z9RI2_f_-G2u"
      },
      "source": [
        "У нас есть данные за полгода, с 1 марта до начала сентября, значит годовую сезонность у нас выяснить не получится, но мы сможем изучить тренды и сезонность за меньшие периоды"
      ]
    },
    {
      "cell_type": "markdown",
      "metadata": {
        "id": "KhibXSBJ-G2v"
      },
      "source": [
        "### Тренды и сезонность"
      ]
    },
    {
      "cell_type": "code",
      "execution_count": null,
      "metadata": {
        "id": "b66Ko9zU-G2v"
      },
      "outputs": [],
      "source": [
        "decomposed = seasonal_decompose(data)"
      ]
    },
    {
      "cell_type": "code",
      "execution_count": null,
      "metadata": {
        "scrolled": false,
        "id": "5W1NoTE3-G2v",
        "outputId": "02170ca8-b754-431b-9783-1f8688a11afd"
      },
      "outputs": [
        {
          "data": {
            "image/png": "[encoded data removed]",
            "text/plain": [
              "<Figure size 720x432 with 1 Axes>"
            ]
          },
          "metadata": {
            "needs_background": "light"
          },
          "output_type": "display_data"
        }
      ],
      "source": [
        "# Смотрим тренд\n",
        "plt.figure(figsize=(10, 6))\n",
        "decomposed.trend.plot()\n",
        "plt.ylabel('Кол-во заказов')\n",
        "plt.xlabel('Месяц')\n",
        "plt.title('Тренд количества заказов в разные месяцы');"
      ]
    },
    {
      "cell_type": "markdown",
      "metadata": {
        "id": "aGhxxayd-G2w"
      },
      "source": [
        "Наблюдаем восходящий тренд на количество заказов такси"
      ]
    },
    {
      "cell_type": "code",
      "execution_count": null,
      "metadata": {
        "id": "So3mNZv9-G2w"
      },
      "outputs": [],
      "source": [
        "decomposed_short = seasonal_decompose(data['2018-03-01':'2018-03-05'])"
      ]
    },
    {
      "cell_type": "code",
      "execution_count": null,
      "metadata": {
        "scrolled": false,
        "id": "pbY4rFYl-G2w",
        "outputId": "92416f69-2b1a-4bef-a70a-f55126cb4aaa"
      },
      "outputs": [
        {
          "data": {
            "image/png": "[encoded data removed]",
            "text/plain": [
              "<Figure size 720x432 with 1 Axes>"
            ]
          },
          "metadata": {
            "needs_background": "light"
          },
          "output_type": "display_data"
        }
      ],
      "source": [
        "# Смотрим сезонность\n",
        "plt.figure(figsize=(10, 6))\n",
        "decomposed_short.seasonal.plot()\n",
        "plt.ylabel('Кол-во заказов')\n",
        "plt.xlabel('Число месяца')\n",
        "plt.title('Сезонность в зависимости от времени суток');"
      ]
    },
    {
      "cell_type": "markdown",
      "metadata": {
        "id": "bX4Dr0mM-G2w"
      },
      "source": [
        "Наблюдается сезонность: каждую ночь количество заказов такси резко уменьшается, но под утро снова восстанавливается до среднесточного количества. Максимум заказов всегда достигается за несколько часов до полуночи, возможно это связано с закрытым метро или неходящими автобусами до города. Также это может быть связано с расписанием рейсов: в определенные часвы прилетает самолёт, многие люди заказывают такси (пик заказов), а как только все получили своё такси -- спрос резко падает"
      ]
    },
    {
      "cell_type": "markdown",
      "metadata": {
        "id": "Ief9kMvc-G2x"
      },
      "source": [
        "### Стохастический процесс"
      ]
    },
    {
      "cell_type": "code",
      "execution_count": null,
      "metadata": {
        "id": "3hrA32JR-G2x"
      },
      "outputs": [],
      "source": [
        "data['mean'] = data['num_orders'].rolling(50, closed='left').mean()\n",
        "data['std'] = data['num_orders'].rolling(50, closed='left').std()"
      ]
    },
    {
      "cell_type": "markdown",
      "metadata": {
        "id": "VODEdDJO-G2z"
      },
      "source": [
        "#### Метод скользящей средней"
      ]
    },
    {
      "cell_type": "code",
      "execution_count": null,
      "metadata": {
        "scrolled": true,
        "id": "hM4V0ELX-G2z",
        "outputId": "80d4404b-2ffc-4368-be1c-58a2a42a49ac"
      },
      "outputs": [
        {
          "data": {
            "image/png": "[encoded data removed]",
            "text/plain": [
              "<Figure size 432x288 with 1 Axes>"
            ]
          },
          "metadata": {
            "needs_background": "light"
          },
          "output_type": "display_data"
        }
      ],
      "source": [
        "data.plot()\n",
        "plt.ylabel('Кол-во заказов')\n",
        "plt.xlabel('Месяц')\n",
        "plt.title('Тренд количества заказов в разные месяцы');"
      ]
    },
    {
      "cell_type": "markdown",
      "metadata": {
        "id": "8Hcs2h2E-G20"
      },
      "source": [
        "Наш ряд нестационарный, так как его среднее со временем увеличивается, из-за этого качество предсказания будет плохим. Чтобы сделать его стационарным, найдём разницы значений ряда"
      ]
    },
    {
      "cell_type": "code",
      "execution_count": null,
      "metadata": {
        "scrolled": true,
        "id": "_bgIoINB-G20",
        "outputId": "f1c0e88e-5091-4859-9ffd-1c4f9001d0f3"
      },
      "outputs": [
        {
          "data": {
            "text/html": [
              "<div>\n",
              "<style scoped>\n",
              "    .dataframe tbody tr th:only-of-type {\n",
              "        vertical-align: middle;\n",
              "    }\n",
              "\n",
              "    .dataframe tbody tr th {\n",
              "        vertical-align: top;\n",
              "    }\n",
              "\n",
              "    .dataframe thead th {\n",
              "        text-align: right;\n",
              "    }\n",
              "</style>\n",
              "<table border=\"1\" class=\"dataframe\">\n",
              "  <thead>\n",
              "    <tr style=\"text-align: right;\">\n",
              "      <th></th>\n",
              "      <th>num_orders</th>\n",
              "      <th>mean</th>\n",
              "      <th>std</th>\n",
              "    </tr>\n",
              "    <tr>\n",
              "      <th>datetime</th>\n",
              "      <th></th>\n",
              "      <th></th>\n",
              "      <th></th>\n",
              "    </tr>\n",
              "  </thead>\n",
              "  <tbody>\n",
              "    <tr>\n",
              "      <th>2018-03-01 00:00:00</th>\n",
              "      <td>124</td>\n",
              "      <td>NaN</td>\n",
              "      <td>NaN</td>\n",
              "    </tr>\n",
              "    <tr>\n",
              "      <th>2018-03-01 01:00:00</th>\n",
              "      <td>-39</td>\n",
              "      <td>NaN</td>\n",
              "      <td>NaN</td>\n",
              "    </tr>\n",
              "    <tr>\n",
              "      <th>2018-03-01 02:00:00</th>\n",
              "      <td>-14</td>\n",
              "      <td>NaN</td>\n",
              "      <td>NaN</td>\n",
              "    </tr>\n",
              "    <tr>\n",
              "      <th>2018-03-01 03:00:00</th>\n",
              "      <td>-5</td>\n",
              "      <td>NaN</td>\n",
              "      <td>NaN</td>\n",
              "    </tr>\n",
              "    <tr>\n",
              "      <th>2018-03-01 04:00:00</th>\n",
              "      <td>-23</td>\n",
              "      <td>NaN</td>\n",
              "      <td>NaN</td>\n",
              "    </tr>\n",
              "    <tr>\n",
              "      <th>...</th>\n",
              "      <td>...</td>\n",
              "      <td>...</td>\n",
              "      <td>...</td>\n",
              "    </tr>\n",
              "    <tr>\n",
              "      <th>2018-08-31 19:00:00</th>\n",
              "      <td>-71</td>\n",
              "      <td>-0.26</td>\n",
              "      <td>-0.170415</td>\n",
              "    </tr>\n",
              "    <tr>\n",
              "      <th>2018-08-31 20:00:00</th>\n",
              "      <td>18</td>\n",
              "      <td>-0.46</td>\n",
              "      <td>0.151084</td>\n",
              "    </tr>\n",
              "    <tr>\n",
              "      <th>2018-08-31 21:00:00</th>\n",
              "      <td>5</td>\n",
              "      <td>0.68</td>\n",
              "      <td>-0.331936</td>\n",
              "    </tr>\n",
              "    <tr>\n",
              "      <th>2018-08-31 22:00:00</th>\n",
              "      <td>64</td>\n",
              "      <td>-0.20</td>\n",
              "      <td>0.017332</td>\n",
              "    </tr>\n",
              "    <tr>\n",
              "      <th>2018-08-31 23:00:00</th>\n",
              "      <td>-18</td>\n",
              "      <td>0.64</td>\n",
              "      <td>0.355488</td>\n",
              "    </tr>\n",
              "  </tbody>\n",
              "</table>\n",
              "<p>4416 rows × 3 columns</p>\n",
              "</div>"
            ],
            "text/plain": [
              "                     num_orders  mean       std\n",
              "datetime                                       \n",
              "2018-03-01 00:00:00         124   NaN       NaN\n",
              "2018-03-01 01:00:00         -39   NaN       NaN\n",
              "2018-03-01 02:00:00         -14   NaN       NaN\n",
              "2018-03-01 03:00:00          -5   NaN       NaN\n",
              "2018-03-01 04:00:00         -23   NaN       NaN\n",
              "...                         ...   ...       ...\n",
              "2018-08-31 19:00:00         -71 -0.26 -0.170415\n",
              "2018-08-31 20:00:00          18 -0.46  0.151084\n",
              "2018-08-31 21:00:00           5  0.68 -0.331936\n",
              "2018-08-31 22:00:00          64 -0.20  0.017332\n",
              "2018-08-31 23:00:00         -18  0.64  0.355488\n",
              "\n",
              "[4416 rows x 3 columns]"
            ]
          },
          "execution_count": 144,
          "metadata": {},
          "output_type": "execute_result"
        }
      ],
      "source": [
        "data_shift = data.copy()\n",
        "data_shift = data_shift - data_shift.shift(fill_value=0)\n",
        "data_shift"
      ]
    },
    {
      "cell_type": "code",
      "execution_count": null,
      "metadata": {
        "scrolled": true,
        "id": "JKwb4U5q-G20",
        "outputId": "d3ba98be-8ef9-4705-c4fa-45ceb84fbe9a"
      },
      "outputs": [
        {
          "data": {
            "image/png": "[encoded data removed]",
            "text/plain": [
              "<Figure size 432x288 with 1 Axes>"
            ]
          },
          "metadata": {
            "needs_background": "light"
          },
          "output_type": "display_data"
        }
      ],
      "source": [
        "data_shift.plot()\n",
        "plt.ylabel('Кол-во заказов')\n",
        "plt.xlabel('Месяц')\n",
        "plt.title('Тренд количества заказов в разные месяцы');"
      ]
    },
    {
      "cell_type": "markdown",
      "metadata": {
        "id": "uFCdQ4vo-G20"
      },
      "source": [
        "Теперь ряд стационарный и его можно использовать для прогнозирования"
      ]
    },
    {
      "cell_type": "code",
      "execution_count": null,
      "metadata": {
        "id": "sJ4852W5-G22"
      },
      "outputs": [],
      "source": [
        "data_shift = data_shift.drop(['mean', 'std'], axis=1)\n",
        "data = data.drop(['mean', 'std'], axis=1)"
      ]
    },
    {
      "cell_type": "markdown",
      "metadata": {
        "id": "OZYkdFLG-G22"
      },
      "source": [
        "#### Метод Дики-Фуллера"
      ]
    },
    {
      "cell_type": "markdown",
      "metadata": {
        "id": "XrBQJ1iG-G22"
      },
      "source": [
        "Для достоверности оценим стационарность ряда с помощью теста Дики-Фуллера. Для этого сформулируем две гипотезы:\n",
        "\n",
        "H0: Временной ряд нестационарен\n",
        "\n",
        "H1: Временной ряд стационарен"
      ]
    },
    {
      "cell_type": "code",
      "execution_count": null,
      "metadata": {
        "id": "HCxcYsNJ-G22"
      },
      "outputs": [],
      "source": [
        "result = adfuller(data['num_orders'], autolag='AIC')"
      ]
    },
    {
      "cell_type": "code",
      "execution_count": null,
      "metadata": {
        "scrolled": false,
        "id": "OvngKEjW-G22",
        "outputId": "4024a1a6-c23f-4699-88e1-b75ddbb77497"
      },
      "outputs": [
        {
          "name": "stdout",
          "output_type": "stream",
          "text": [
            "Критерий ADF: -3.068924\n",
            "P-значение: 0.028940\n",
            "Критические значения:\n",
            "\t1%: -3.432\n",
            "Нулевая гипотеза не отвергнута – Временной ряд не стационарен\n",
            "\t5%: -2.862\n",
            "Нулевая гипотеза отвергнута – Временной ряд стационарен\n",
            "\t10%: -2.567\n",
            "Нулевая гипотеза отвергнута – Временной ряд стационарен\n"
          ]
        }
      ],
      "source": [
        "print('Критерий ADF: %f' % result[0])\n",
        "\n",
        "\n",
        "print('P-значение: %f' % result[1])\n",
        "\n",
        "\n",
        "print('Критические значения:')\n",
        "\n",
        "for key, value in result[4].items():\n",
        "    print('\\t%s: %.3f' % (key, value))\n",
        "\n",
        "    if result[0] < result[4][key]:\n",
        "        print (\"Нулевая гипотеза отвергнута – Временной ряд стационарен\")\n",
        "    else:\n",
        "        print (\"Нулевая гипотеза не отвергнута – Временной ряд не стационарен\")"
      ]
    },
    {
      "cell_type": "markdown",
      "metadata": {
        "id": "7pq2JsmU-G23"
      },
      "source": [
        "Мы не отвергаем нулевую гипотезу, так как на уровне значимости 1% критерий ADF больше критического значения -- наш временной ряд нестационарен"
      ]
    },
    {
      "cell_type": "markdown",
      "metadata": {
        "id": "Ahqm7IFU-G23"
      },
      "source": [
        "#### Подвывод по стохастическому процессу"
      ]
    },
    {
      "cell_type": "markdown",
      "metadata": {
        "id": "Bq4pHMHc-G23"
      },
      "source": [
        "В ходе проверки методом скользящей средней мы увидели, что данные нестационарны, так  как среднее под конец ряда изменялось, как и стандартное отклонение. В ходе теста Дики-Фуллера это также подтвердилось: согласно ему ряд нестационарен на уровне значимости 1%. Следовательно, для работы с данными нам необходимо использовать данные с разницей временного ряда"
      ]
    },
    {
      "cell_type": "markdown",
      "metadata": {
        "id": "PfcGplrJ-G24"
      },
      "source": [
        "### Подвывод"
      ]
    },
    {
      "cell_type": "markdown",
      "metadata": {
        "id": "wEMt1TL1-G24"
      },
      "source": [
        "Чтобы лучше понимать временной ряд, мы посмотрели на тренд количества заказов. Также мы узнали, что стохастический процесс в результате разных методов может заставить сделать разные выводы. Для окончательно решения мы будем обращаться к результатам теста Дики-Фуллера, согласно которому наши данные -- стационарны, а следовательно не требуют нахождения разностей"
      ]
    },
    {
      "cell_type": "markdown",
      "metadata": {
        "id": "Q2fqWB1A-G24"
      },
      "source": [
        "## Обучение"
      ]
    },
    {
      "cell_type": "markdown",
      "metadata": {
        "id": "csKClXd7-G24"
      },
      "source": [
        "### Добавляем признаки"
      ]
    },
    {
      "cell_type": "code",
      "execution_count": null,
      "metadata": {
        "id": "VeQs8yQi-G25"
      },
      "outputs": [],
      "source": [
        "# Функция для добавления доп. признаков\n",
        "def make_features(data, max_lag, rolling_mean_size):\n",
        "    data_f = data.copy()\n",
        "    data_f['year'] = data_f.index.year\n",
        "    data_f['month'] = data_f.index.month\n",
        "    data_f['day'] = data_f.index.day\n",
        "    data_f['dayofweek'] = data_f.index.dayofweek\n",
        "\n",
        "    for lag in range(1, max_lag + 1):\n",
        "        data_f[f'lag_{lag}'] = data_f['num_orders'].shift(lag)\n",
        "\n",
        "    data_f['rolling_mean'] = data_f['num_orders'].rolling(rolling_mean_size, closed='left').mean()\n",
        "\n",
        "    return data_f.dropna()"
      ]
    },
    {
      "cell_type": "code",
      "execution_count": null,
      "metadata": {
        "scrolled": true,
        "id": "TiL_GHoO-G26"
      },
      "outputs": [],
      "source": [
        "data_new_shift = make_features(data_shift, 24*7, 24*7)\n",
        "data_new_initial = make_features(data, 24*7, 24*7)"
      ]
    },
    {
      "cell_type": "code",
      "execution_count": null,
      "metadata": {
        "id": "CaF69eFN-G26",
        "outputId": "5fe5ab38-c822-46c2-c8a1-b07b5dee8adf"
      },
      "outputs": [
        {
          "data": {
            "text/html": [
              "<div>\n",
              "<style scoped>\n",
              "    .dataframe tbody tr th:only-of-type {\n",
              "        vertical-align: middle;\n",
              "    }\n",
              "\n",
              "    .dataframe tbody tr th {\n",
              "        vertical-align: top;\n",
              "    }\n",
              "\n",
              "    .dataframe thead th {\n",
              "        text-align: right;\n",
              "    }\n",
              "</style>\n",
              "<table border=\"1\" class=\"dataframe\">\n",
              "  <thead>\n",
              "    <tr style=\"text-align: right;\">\n",
              "      <th></th>\n",
              "      <th>num_orders</th>\n",
              "      <th>year</th>\n",
              "      <th>month</th>\n",
              "      <th>day</th>\n",
              "      <th>dayofweek</th>\n",
              "      <th>lag_1</th>\n",
              "      <th>lag_2</th>\n",
              "      <th>lag_3</th>\n",
              "      <th>lag_4</th>\n",
              "      <th>lag_5</th>\n",
              "      <th>...</th>\n",
              "      <th>lag_160</th>\n",
              "      <th>lag_161</th>\n",
              "      <th>lag_162</th>\n",
              "      <th>lag_163</th>\n",
              "      <th>lag_164</th>\n",
              "      <th>lag_165</th>\n",
              "      <th>lag_166</th>\n",
              "      <th>lag_167</th>\n",
              "      <th>lag_168</th>\n",
              "      <th>rolling_mean</th>\n",
              "    </tr>\n",
              "    <tr>\n",
              "      <th>datetime</th>\n",
              "      <th></th>\n",
              "      <th></th>\n",
              "      <th></th>\n",
              "      <th></th>\n",
              "      <th></th>\n",
              "      <th></th>\n",
              "      <th></th>\n",
              "      <th></th>\n",
              "      <th></th>\n",
              "      <th></th>\n",
              "      <th></th>\n",
              "      <th></th>\n",
              "      <th></th>\n",
              "      <th></th>\n",
              "      <th></th>\n",
              "      <th></th>\n",
              "      <th></th>\n",
              "      <th></th>\n",
              "      <th></th>\n",
              "      <th></th>\n",
              "      <th></th>\n",
              "    </tr>\n",
              "  </thead>\n",
              "  <tbody>\n",
              "    <tr>\n",
              "      <th>2018-03-08 00:00:00</th>\n",
              "      <td>49</td>\n",
              "      <td>2018</td>\n",
              "      <td>3</td>\n",
              "      <td>8</td>\n",
              "      <td>3</td>\n",
              "      <td>-33.0</td>\n",
              "      <td>19.0</td>\n",
              "      <td>32.0</td>\n",
              "      <td>26.0</td>\n",
              "      <td>-49.0</td>\n",
              "      <td>...</td>\n",
              "      <td>19.0</td>\n",
              "      <td>3.0</td>\n",
              "      <td>6.0</td>\n",
              "      <td>-37.0</td>\n",
              "      <td>-23.0</td>\n",
              "      <td>-5.0</td>\n",
              "      <td>-14.0</td>\n",
              "      <td>-39.0</td>\n",
              "      <td>124.0</td>\n",
              "      <td>0.559524</td>\n",
              "    </tr>\n",
              "    <tr>\n",
              "      <th>2018-03-08 01:00:00</th>\n",
              "      <td>-65</td>\n",
              "      <td>2018</td>\n",
              "      <td>3</td>\n",
              "      <td>8</td>\n",
              "      <td>3</td>\n",
              "      <td>49.0</td>\n",
              "      <td>-33.0</td>\n",
              "      <td>19.0</td>\n",
              "      <td>32.0</td>\n",
              "      <td>26.0</td>\n",
              "      <td>...</td>\n",
              "      <td>35.0</td>\n",
              "      <td>19.0</td>\n",
              "      <td>3.0</td>\n",
              "      <td>6.0</td>\n",
              "      <td>-37.0</td>\n",
              "      <td>-23.0</td>\n",
              "      <td>-5.0</td>\n",
              "      <td>-14.0</td>\n",
              "      <td>-39.0</td>\n",
              "      <td>0.113095</td>\n",
              "    </tr>\n",
              "    <tr>\n",
              "      <th>2018-03-08 02:00:00</th>\n",
              "      <td>-13</td>\n",
              "      <td>2018</td>\n",
              "      <td>3</td>\n",
              "      <td>8</td>\n",
              "      <td>3</td>\n",
              "      <td>-65.0</td>\n",
              "      <td>49.0</td>\n",
              "      <td>-33.0</td>\n",
              "      <td>19.0</td>\n",
              "      <td>32.0</td>\n",
              "      <td>...</td>\n",
              "      <td>-5.0</td>\n",
              "      <td>35.0</td>\n",
              "      <td>19.0</td>\n",
              "      <td>3.0</td>\n",
              "      <td>6.0</td>\n",
              "      <td>-37.0</td>\n",
              "      <td>-23.0</td>\n",
              "      <td>-5.0</td>\n",
              "      <td>-14.0</td>\n",
              "      <td>-0.041667</td>\n",
              "    </tr>\n",
              "    <tr>\n",
              "      <th>2018-03-08 03:00:00</th>\n",
              "      <td>3</td>\n",
              "      <td>2018</td>\n",
              "      <td>3</td>\n",
              "      <td>8</td>\n",
              "      <td>3</td>\n",
              "      <td>-13.0</td>\n",
              "      <td>-65.0</td>\n",
              "      <td>49.0</td>\n",
              "      <td>-33.0</td>\n",
              "      <td>19.0</td>\n",
              "      <td>...</td>\n",
              "      <td>32.0</td>\n",
              "      <td>-5.0</td>\n",
              "      <td>35.0</td>\n",
              "      <td>19.0</td>\n",
              "      <td>3.0</td>\n",
              "      <td>6.0</td>\n",
              "      <td>-37.0</td>\n",
              "      <td>-23.0</td>\n",
              "      <td>-5.0</td>\n",
              "      <td>-0.035714</td>\n",
              "    </tr>\n",
              "    <tr>\n",
              "      <th>2018-03-08 04:00:00</th>\n",
              "      <td>-8</td>\n",
              "      <td>2018</td>\n",
              "      <td>3</td>\n",
              "      <td>8</td>\n",
              "      <td>3</td>\n",
              "      <td>3.0</td>\n",
              "      <td>-13.0</td>\n",
              "      <td>-65.0</td>\n",
              "      <td>49.0</td>\n",
              "      <td>-33.0</td>\n",
              "      <td>...</td>\n",
              "      <td>-66.0</td>\n",
              "      <td>32.0</td>\n",
              "      <td>-5.0</td>\n",
              "      <td>35.0</td>\n",
              "      <td>19.0</td>\n",
              "      <td>3.0</td>\n",
              "      <td>6.0</td>\n",
              "      <td>-37.0</td>\n",
              "      <td>-23.0</td>\n",
              "      <td>0.011905</td>\n",
              "    </tr>\n",
              "    <tr>\n",
              "      <th>...</th>\n",
              "      <td>...</td>\n",
              "      <td>...</td>\n",
              "      <td>...</td>\n",
              "      <td>...</td>\n",
              "      <td>...</td>\n",
              "      <td>...</td>\n",
              "      <td>...</td>\n",
              "      <td>...</td>\n",
              "      <td>...</td>\n",
              "      <td>...</td>\n",
              "      <td>...</td>\n",
              "      <td>...</td>\n",
              "      <td>...</td>\n",
              "      <td>...</td>\n",
              "      <td>...</td>\n",
              "      <td>...</td>\n",
              "      <td>...</td>\n",
              "      <td>...</td>\n",
              "      <td>...</td>\n",
              "      <td>...</td>\n",
              "      <td>...</td>\n",
              "    </tr>\n",
              "    <tr>\n",
              "      <th>2018-08-31 19:00:00</th>\n",
              "      <td>-71</td>\n",
              "      <td>2018</td>\n",
              "      <td>8</td>\n",
              "      <td>31</td>\n",
              "      <td>4</td>\n",
              "      <td>-10.0</td>\n",
              "      <td>20.0</td>\n",
              "      <td>81.0</td>\n",
              "      <td>-17.0</td>\n",
              "      <td>-33.0</td>\n",
              "      <td>...</td>\n",
              "      <td>27.0</td>\n",
              "      <td>-86.0</td>\n",
              "      <td>-27.0</td>\n",
              "      <td>100.0</td>\n",
              "      <td>-69.0</td>\n",
              "      <td>76.0</td>\n",
              "      <td>-13.0</td>\n",
              "      <td>66.0</td>\n",
              "      <td>-24.0</td>\n",
              "      <td>0.416667</td>\n",
              "    </tr>\n",
              "    <tr>\n",
              "      <th>2018-08-31 20:00:00</th>\n",
              "      <td>18</td>\n",
              "      <td>2018</td>\n",
              "      <td>8</td>\n",
              "      <td>31</td>\n",
              "      <td>4</td>\n",
              "      <td>-71.0</td>\n",
              "      <td>-10.0</td>\n",
              "      <td>20.0</td>\n",
              "      <td>81.0</td>\n",
              "      <td>-17.0</td>\n",
              "      <td>...</td>\n",
              "      <td>9.0</td>\n",
              "      <td>27.0</td>\n",
              "      <td>-86.0</td>\n",
              "      <td>-27.0</td>\n",
              "      <td>100.0</td>\n",
              "      <td>-69.0</td>\n",
              "      <td>76.0</td>\n",
              "      <td>-13.0</td>\n",
              "      <td>66.0</td>\n",
              "      <td>0.136905</td>\n",
              "    </tr>\n",
              "    <tr>\n",
              "      <th>2018-08-31 21:00:00</th>\n",
              "      <td>5</td>\n",
              "      <td>2018</td>\n",
              "      <td>8</td>\n",
              "      <td>31</td>\n",
              "      <td>4</td>\n",
              "      <td>18.0</td>\n",
              "      <td>-71.0</td>\n",
              "      <td>-10.0</td>\n",
              "      <td>20.0</td>\n",
              "      <td>81.0</td>\n",
              "      <td>...</td>\n",
              "      <td>-78.0</td>\n",
              "      <td>9.0</td>\n",
              "      <td>27.0</td>\n",
              "      <td>-86.0</td>\n",
              "      <td>-27.0</td>\n",
              "      <td>100.0</td>\n",
              "      <td>-69.0</td>\n",
              "      <td>76.0</td>\n",
              "      <td>-13.0</td>\n",
              "      <td>-0.148810</td>\n",
              "    </tr>\n",
              "    <tr>\n",
              "      <th>2018-08-31 22:00:00</th>\n",
              "      <td>64</td>\n",
              "      <td>2018</td>\n",
              "      <td>8</td>\n",
              "      <td>31</td>\n",
              "      <td>4</td>\n",
              "      <td>5.0</td>\n",
              "      <td>18.0</td>\n",
              "      <td>-71.0</td>\n",
              "      <td>-10.0</td>\n",
              "      <td>20.0</td>\n",
              "      <td>...</td>\n",
              "      <td>-44.0</td>\n",
              "      <td>-78.0</td>\n",
              "      <td>9.0</td>\n",
              "      <td>27.0</td>\n",
              "      <td>-86.0</td>\n",
              "      <td>-27.0</td>\n",
              "      <td>100.0</td>\n",
              "      <td>-69.0</td>\n",
              "      <td>76.0</td>\n",
              "      <td>-0.041667</td>\n",
              "    </tr>\n",
              "    <tr>\n",
              "      <th>2018-08-31 23:00:00</th>\n",
              "      <td>-18</td>\n",
              "      <td>2018</td>\n",
              "      <td>8</td>\n",
              "      <td>31</td>\n",
              "      <td>4</td>\n",
              "      <td>64.0</td>\n",
              "      <td>5.0</td>\n",
              "      <td>18.0</td>\n",
              "      <td>-71.0</td>\n",
              "      <td>-10.0</td>\n",
              "      <td>...</td>\n",
              "      <td>-52.0</td>\n",
              "      <td>-44.0</td>\n",
              "      <td>-78.0</td>\n",
              "      <td>9.0</td>\n",
              "      <td>27.0</td>\n",
              "      <td>-86.0</td>\n",
              "      <td>-27.0</td>\n",
              "      <td>100.0</td>\n",
              "      <td>-69.0</td>\n",
              "      <td>-0.113095</td>\n",
              "    </tr>\n",
              "  </tbody>\n",
              "</table>\n",
              "<p>4248 rows × 174 columns</p>\n",
              "</div>"
            ],
            "text/plain": [
              "                     num_orders  year  month  day  dayofweek  lag_1  lag_2  \\\n",
              "datetime                                                                     \n",
              "2018-03-08 00:00:00          49  2018      3    8          3  -33.0   19.0   \n",
              "2018-03-08 01:00:00         -65  2018      3    8          3   49.0  -33.0   \n",
              "2018-03-08 02:00:00         -13  2018      3    8          3  -65.0   49.0   \n",
              "2018-03-08 03:00:00           3  2018      3    8          3  -13.0  -65.0   \n",
              "2018-03-08 04:00:00          -8  2018      3    8          3    3.0  -13.0   \n",
              "...                         ...   ...    ...  ...        ...    ...    ...   \n",
              "2018-08-31 19:00:00         -71  2018      8   31          4  -10.0   20.0   \n",
              "2018-08-31 20:00:00          18  2018      8   31          4  -71.0  -10.0   \n",
              "2018-08-31 21:00:00           5  2018      8   31          4   18.0  -71.0   \n",
              "2018-08-31 22:00:00          64  2018      8   31          4    5.0   18.0   \n",
              "2018-08-31 23:00:00         -18  2018      8   31          4   64.0    5.0   \n",
              "\n",
              "                     lag_3  lag_4  lag_5  ...  lag_160  lag_161  lag_162  \\\n",
              "datetime                                  ...                              \n",
              "2018-03-08 00:00:00   32.0   26.0  -49.0  ...     19.0      3.0      6.0   \n",
              "2018-03-08 01:00:00   19.0   32.0   26.0  ...     35.0     19.0      3.0   \n",
              "2018-03-08 02:00:00  -33.0   19.0   32.0  ...     -5.0     35.0     19.0   \n",
              "2018-03-08 03:00:00   49.0  -33.0   19.0  ...     32.0     -5.0     35.0   \n",
              "2018-03-08 04:00:00  -65.0   49.0  -33.0  ...    -66.0     32.0     -5.0   \n",
              "...                    ...    ...    ...  ...      ...      ...      ...   \n",
              "2018-08-31 19:00:00   81.0  -17.0  -33.0  ...     27.0    -86.0    -27.0   \n",
              "2018-08-31 20:00:00   20.0   81.0  -17.0  ...      9.0     27.0    -86.0   \n",
              "2018-08-31 21:00:00  -10.0   20.0   81.0  ...    -78.0      9.0     27.0   \n",
              "2018-08-31 22:00:00  -71.0  -10.0   20.0  ...    -44.0    -78.0      9.0   \n",
              "2018-08-31 23:00:00   18.0  -71.0  -10.0  ...    -52.0    -44.0    -78.0   \n",
              "\n",
              "                     lag_163  lag_164  lag_165  lag_166  lag_167  lag_168  \\\n",
              "datetime                                                                    \n",
              "2018-03-08 00:00:00    -37.0    -23.0     -5.0    -14.0    -39.0    124.0   \n",
              "2018-03-08 01:00:00      6.0    -37.0    -23.0     -5.0    -14.0    -39.0   \n",
              "2018-03-08 02:00:00      3.0      6.0    -37.0    -23.0     -5.0    -14.0   \n",
              "2018-03-08 03:00:00     19.0      3.0      6.0    -37.0    -23.0     -5.0   \n",
              "2018-03-08 04:00:00     35.0     19.0      3.0      6.0    -37.0    -23.0   \n",
              "...                      ...      ...      ...      ...      ...      ...   \n",
              "2018-08-31 19:00:00    100.0    -69.0     76.0    -13.0     66.0    -24.0   \n",
              "2018-08-31 20:00:00    -27.0    100.0    -69.0     76.0    -13.0     66.0   \n",
              "2018-08-31 21:00:00    -86.0    -27.0    100.0    -69.0     76.0    -13.0   \n",
              "2018-08-31 22:00:00     27.0    -86.0    -27.0    100.0    -69.0     76.0   \n",
              "2018-08-31 23:00:00      9.0     27.0    -86.0    -27.0    100.0    -69.0   \n",
              "\n",
              "                     rolling_mean  \n",
              "datetime                           \n",
              "2018-03-08 00:00:00      0.559524  \n",
              "2018-03-08 01:00:00      0.113095  \n",
              "2018-03-08 02:00:00     -0.041667  \n",
              "2018-03-08 03:00:00     -0.035714  \n",
              "2018-03-08 04:00:00      0.011905  \n",
              "...                           ...  \n",
              "2018-08-31 19:00:00      0.416667  \n",
              "2018-08-31 20:00:00      0.136905  \n",
              "2018-08-31 21:00:00     -0.148810  \n",
              "2018-08-31 22:00:00     -0.041667  \n",
              "2018-08-31 23:00:00     -0.113095  \n",
              "\n",
              "[4248 rows x 174 columns]"
            ]
          },
          "execution_count": 151,
          "metadata": {},
          "output_type": "execute_result"
        }
      ],
      "source": [
        "data_new_shift"
      ]
    },
    {
      "cell_type": "code",
      "execution_count": null,
      "metadata": {
        "id": "rmc5-GrS-G26"
      },
      "outputs": [],
      "source": [
        "#Удалим лишние признаки\n",
        "data_new_shift = data_new_shift.drop(['year', 'month'], axis=1)\n",
        "data_new_initial = data_new_initial.drop(['year', 'month'], axis=1)"
      ]
    },
    {
      "cell_type": "markdown",
      "metadata": {
        "id": "srvge37H-G27"
      },
      "source": [
        "### Делим на выборки"
      ]
    },
    {
      "cell_type": "code",
      "execution_count": null,
      "metadata": {
        "scrolled": false,
        "id": "EXf0M5Lm-G27",
        "outputId": "44fc52af-71c9-48d9-eb95-1676c41ba84d"
      },
      "outputs": [
        {
          "name": "stdout",
          "output_type": "stream",
          "text": [
            "2018-03-08 00:00:00 2018-08-14 06:00:00\n",
            "2018-08-14 07:00:00 2018-08-31 23:00:00\n"
          ]
        }
      ],
      "source": [
        "train, test = train_test_split(data_new_shift, shuffle=False, test_size=0.1)\n",
        "train_i, test_i = train_test_split(data_new_initial, shuffle=False, test_size=0.1)\n",
        "print(train.index.min(), train.index.max())\n",
        "print(test.index.min(), test.index.max())"
      ]
    },
    {
      "cell_type": "code",
      "execution_count": null,
      "metadata": {
        "id": "xvhigDxo-G27",
        "outputId": "f6894472-607f-4560-c461-6af2fa9a7161"
      },
      "outputs": [
        {
          "data": {
            "text/html": [
              "<div>\n",
              "<style scoped>\n",
              "    .dataframe tbody tr th:only-of-type {\n",
              "        vertical-align: middle;\n",
              "    }\n",
              "\n",
              "    .dataframe tbody tr th {\n",
              "        vertical-align: top;\n",
              "    }\n",
              "\n",
              "    .dataframe thead th {\n",
              "        text-align: right;\n",
              "    }\n",
              "</style>\n",
              "<table border=\"1\" class=\"dataframe\">\n",
              "  <thead>\n",
              "    <tr style=\"text-align: right;\">\n",
              "      <th></th>\n",
              "      <th>num_orders</th>\n",
              "      <th>day</th>\n",
              "      <th>dayofweek</th>\n",
              "      <th>lag_1</th>\n",
              "      <th>lag_2</th>\n",
              "      <th>lag_3</th>\n",
              "      <th>lag_4</th>\n",
              "      <th>lag_5</th>\n",
              "      <th>lag_6</th>\n",
              "      <th>lag_7</th>\n",
              "      <th>...</th>\n",
              "      <th>lag_160</th>\n",
              "      <th>lag_161</th>\n",
              "      <th>lag_162</th>\n",
              "      <th>lag_163</th>\n",
              "      <th>lag_164</th>\n",
              "      <th>lag_165</th>\n",
              "      <th>lag_166</th>\n",
              "      <th>lag_167</th>\n",
              "      <th>lag_168</th>\n",
              "      <th>rolling_mean</th>\n",
              "    </tr>\n",
              "    <tr>\n",
              "      <th>datetime</th>\n",
              "      <th></th>\n",
              "      <th></th>\n",
              "      <th></th>\n",
              "      <th></th>\n",
              "      <th></th>\n",
              "      <th></th>\n",
              "      <th></th>\n",
              "      <th></th>\n",
              "      <th></th>\n",
              "      <th></th>\n",
              "      <th></th>\n",
              "      <th></th>\n",
              "      <th></th>\n",
              "      <th></th>\n",
              "      <th></th>\n",
              "      <th></th>\n",
              "      <th></th>\n",
              "      <th></th>\n",
              "      <th></th>\n",
              "      <th></th>\n",
              "      <th></th>\n",
              "    </tr>\n",
              "  </thead>\n",
              "  <tbody>\n",
              "    <tr>\n",
              "      <th>2018-08-14 07:00:00</th>\n",
              "      <td>9</td>\n",
              "      <td>14</td>\n",
              "      <td>1</td>\n",
              "      <td>-2.0</td>\n",
              "      <td>-92.0</td>\n",
              "      <td>-51.0</td>\n",
              "      <td>82.0</td>\n",
              "      <td>-123.0</td>\n",
              "      <td>92.0</td>\n",
              "      <td>5.0</td>\n",
              "      <td>...</td>\n",
              "      <td>37.0</td>\n",
              "      <td>-26.0</td>\n",
              "      <td>-15.0</td>\n",
              "      <td>44.0</td>\n",
              "      <td>-28.0</td>\n",
              "      <td>-21.0</td>\n",
              "      <td>41.0</td>\n",
              "      <td>35.0</td>\n",
              "      <td>-2.0</td>\n",
              "      <td>-0.005952</td>\n",
              "    </tr>\n",
              "    <tr>\n",
              "      <th>2018-08-14 08:00:00</th>\n",
              "      <td>37</td>\n",
              "      <td>14</td>\n",
              "      <td>1</td>\n",
              "      <td>9.0</td>\n",
              "      <td>-2.0</td>\n",
              "      <td>-92.0</td>\n",
              "      <td>-51.0</td>\n",
              "      <td>82.0</td>\n",
              "      <td>-123.0</td>\n",
              "      <td>92.0</td>\n",
              "      <td>...</td>\n",
              "      <td>-12.0</td>\n",
              "      <td>37.0</td>\n",
              "      <td>-26.0</td>\n",
              "      <td>-15.0</td>\n",
              "      <td>44.0</td>\n",
              "      <td>-28.0</td>\n",
              "      <td>-21.0</td>\n",
              "      <td>41.0</td>\n",
              "      <td>35.0</td>\n",
              "      <td>0.059524</td>\n",
              "    </tr>\n",
              "    <tr>\n",
              "      <th>2018-08-14 09:00:00</th>\n",
              "      <td>44</td>\n",
              "      <td>14</td>\n",
              "      <td>1</td>\n",
              "      <td>37.0</td>\n",
              "      <td>9.0</td>\n",
              "      <td>-2.0</td>\n",
              "      <td>-92.0</td>\n",
              "      <td>-51.0</td>\n",
              "      <td>82.0</td>\n",
              "      <td>-123.0</td>\n",
              "      <td>...</td>\n",
              "      <td>2.0</td>\n",
              "      <td>-12.0</td>\n",
              "      <td>37.0</td>\n",
              "      <td>-26.0</td>\n",
              "      <td>-15.0</td>\n",
              "      <td>44.0</td>\n",
              "      <td>-28.0</td>\n",
              "      <td>-21.0</td>\n",
              "      <td>41.0</td>\n",
              "      <td>0.071429</td>\n",
              "    </tr>\n",
              "    <tr>\n",
              "      <th>2018-08-14 10:00:00</th>\n",
              "      <td>20</td>\n",
              "      <td>14</td>\n",
              "      <td>1</td>\n",
              "      <td>44.0</td>\n",
              "      <td>37.0</td>\n",
              "      <td>9.0</td>\n",
              "      <td>-2.0</td>\n",
              "      <td>-92.0</td>\n",
              "      <td>-51.0</td>\n",
              "      <td>82.0</td>\n",
              "      <td>...</td>\n",
              "      <td>-17.0</td>\n",
              "      <td>2.0</td>\n",
              "      <td>-12.0</td>\n",
              "      <td>37.0</td>\n",
              "      <td>-26.0</td>\n",
              "      <td>-15.0</td>\n",
              "      <td>44.0</td>\n",
              "      <td>-28.0</td>\n",
              "      <td>-21.0</td>\n",
              "      <td>0.089286</td>\n",
              "    </tr>\n",
              "    <tr>\n",
              "      <th>2018-08-14 11:00:00</th>\n",
              "      <td>7</td>\n",
              "      <td>14</td>\n",
              "      <td>1</td>\n",
              "      <td>20.0</td>\n",
              "      <td>44.0</td>\n",
              "      <td>37.0</td>\n",
              "      <td>9.0</td>\n",
              "      <td>-2.0</td>\n",
              "      <td>-92.0</td>\n",
              "      <td>-51.0</td>\n",
              "      <td>...</td>\n",
              "      <td>5.0</td>\n",
              "      <td>-17.0</td>\n",
              "      <td>2.0</td>\n",
              "      <td>-12.0</td>\n",
              "      <td>37.0</td>\n",
              "      <td>-26.0</td>\n",
              "      <td>-15.0</td>\n",
              "      <td>44.0</td>\n",
              "      <td>-28.0</td>\n",
              "      <td>0.333333</td>\n",
              "    </tr>\n",
              "    <tr>\n",
              "      <th>...</th>\n",
              "      <td>...</td>\n",
              "      <td>...</td>\n",
              "      <td>...</td>\n",
              "      <td>...</td>\n",
              "      <td>...</td>\n",
              "      <td>...</td>\n",
              "      <td>...</td>\n",
              "      <td>...</td>\n",
              "      <td>...</td>\n",
              "      <td>...</td>\n",
              "      <td>...</td>\n",
              "      <td>...</td>\n",
              "      <td>...</td>\n",
              "      <td>...</td>\n",
              "      <td>...</td>\n",
              "      <td>...</td>\n",
              "      <td>...</td>\n",
              "      <td>...</td>\n",
              "      <td>...</td>\n",
              "      <td>...</td>\n",
              "      <td>...</td>\n",
              "    </tr>\n",
              "    <tr>\n",
              "      <th>2018-08-31 19:00:00</th>\n",
              "      <td>-71</td>\n",
              "      <td>31</td>\n",
              "      <td>4</td>\n",
              "      <td>-10.0</td>\n",
              "      <td>20.0</td>\n",
              "      <td>81.0</td>\n",
              "      <td>-17.0</td>\n",
              "      <td>-33.0</td>\n",
              "      <td>30.0</td>\n",
              "      <td>-31.0</td>\n",
              "      <td>...</td>\n",
              "      <td>27.0</td>\n",
              "      <td>-86.0</td>\n",
              "      <td>-27.0</td>\n",
              "      <td>100.0</td>\n",
              "      <td>-69.0</td>\n",
              "      <td>76.0</td>\n",
              "      <td>-13.0</td>\n",
              "      <td>66.0</td>\n",
              "      <td>-24.0</td>\n",
              "      <td>0.416667</td>\n",
              "    </tr>\n",
              "    <tr>\n",
              "      <th>2018-08-31 20:00:00</th>\n",
              "      <td>18</td>\n",
              "      <td>31</td>\n",
              "      <td>4</td>\n",
              "      <td>-71.0</td>\n",
              "      <td>-10.0</td>\n",
              "      <td>20.0</td>\n",
              "      <td>81.0</td>\n",
              "      <td>-17.0</td>\n",
              "      <td>-33.0</td>\n",
              "      <td>30.0</td>\n",
              "      <td>...</td>\n",
              "      <td>9.0</td>\n",
              "      <td>27.0</td>\n",
              "      <td>-86.0</td>\n",
              "      <td>-27.0</td>\n",
              "      <td>100.0</td>\n",
              "      <td>-69.0</td>\n",
              "      <td>76.0</td>\n",
              "      <td>-13.0</td>\n",
              "      <td>66.0</td>\n",
              "      <td>0.136905</td>\n",
              "    </tr>\n",
              "    <tr>\n",
              "      <th>2018-08-31 21:00:00</th>\n",
              "      <td>5</td>\n",
              "      <td>31</td>\n",
              "      <td>4</td>\n",
              "      <td>18.0</td>\n",
              "      <td>-71.0</td>\n",
              "      <td>-10.0</td>\n",
              "      <td>20.0</td>\n",
              "      <td>81.0</td>\n",
              "      <td>-17.0</td>\n",
              "      <td>-33.0</td>\n",
              "      <td>...</td>\n",
              "      <td>-78.0</td>\n",
              "      <td>9.0</td>\n",
              "      <td>27.0</td>\n",
              "      <td>-86.0</td>\n",
              "      <td>-27.0</td>\n",
              "      <td>100.0</td>\n",
              "      <td>-69.0</td>\n",
              "      <td>76.0</td>\n",
              "      <td>-13.0</td>\n",
              "      <td>-0.148810</td>\n",
              "    </tr>\n",
              "    <tr>\n",
              "      <th>2018-08-31 22:00:00</th>\n",
              "      <td>64</td>\n",
              "      <td>31</td>\n",
              "      <td>4</td>\n",
              "      <td>5.0</td>\n",
              "      <td>18.0</td>\n",
              "      <td>-71.0</td>\n",
              "      <td>-10.0</td>\n",
              "      <td>20.0</td>\n",
              "      <td>81.0</td>\n",
              "      <td>-17.0</td>\n",
              "      <td>...</td>\n",
              "      <td>-44.0</td>\n",
              "      <td>-78.0</td>\n",
              "      <td>9.0</td>\n",
              "      <td>27.0</td>\n",
              "      <td>-86.0</td>\n",
              "      <td>-27.0</td>\n",
              "      <td>100.0</td>\n",
              "      <td>-69.0</td>\n",
              "      <td>76.0</td>\n",
              "      <td>-0.041667</td>\n",
              "    </tr>\n",
              "    <tr>\n",
              "      <th>2018-08-31 23:00:00</th>\n",
              "      <td>-18</td>\n",
              "      <td>31</td>\n",
              "      <td>4</td>\n",
              "      <td>64.0</td>\n",
              "      <td>5.0</td>\n",
              "      <td>18.0</td>\n",
              "      <td>-71.0</td>\n",
              "      <td>-10.0</td>\n",
              "      <td>20.0</td>\n",
              "      <td>81.0</td>\n",
              "      <td>...</td>\n",
              "      <td>-52.0</td>\n",
              "      <td>-44.0</td>\n",
              "      <td>-78.0</td>\n",
              "      <td>9.0</td>\n",
              "      <td>27.0</td>\n",
              "      <td>-86.0</td>\n",
              "      <td>-27.0</td>\n",
              "      <td>100.0</td>\n",
              "      <td>-69.0</td>\n",
              "      <td>-0.113095</td>\n",
              "    </tr>\n",
              "  </tbody>\n",
              "</table>\n",
              "<p>425 rows × 172 columns</p>\n",
              "</div>"
            ],
            "text/plain": [
              "                     num_orders  day  dayofweek  lag_1  lag_2  lag_3  lag_4  \\\n",
              "datetime                                                                      \n",
              "2018-08-14 07:00:00           9   14          1   -2.0  -92.0  -51.0   82.0   \n",
              "2018-08-14 08:00:00          37   14          1    9.0   -2.0  -92.0  -51.0   \n",
              "2018-08-14 09:00:00          44   14          1   37.0    9.0   -2.0  -92.0   \n",
              "2018-08-14 10:00:00          20   14          1   44.0   37.0    9.0   -2.0   \n",
              "2018-08-14 11:00:00           7   14          1   20.0   44.0   37.0    9.0   \n",
              "...                         ...  ...        ...    ...    ...    ...    ...   \n",
              "2018-08-31 19:00:00         -71   31          4  -10.0   20.0   81.0  -17.0   \n",
              "2018-08-31 20:00:00          18   31          4  -71.0  -10.0   20.0   81.0   \n",
              "2018-08-31 21:00:00           5   31          4   18.0  -71.0  -10.0   20.0   \n",
              "2018-08-31 22:00:00          64   31          4    5.0   18.0  -71.0  -10.0   \n",
              "2018-08-31 23:00:00         -18   31          4   64.0    5.0   18.0  -71.0   \n",
              "\n",
              "                     lag_5  lag_6  lag_7  ...  lag_160  lag_161  lag_162  \\\n",
              "datetime                                  ...                              \n",
              "2018-08-14 07:00:00 -123.0   92.0    5.0  ...     37.0    -26.0    -15.0   \n",
              "2018-08-14 08:00:00   82.0 -123.0   92.0  ...    -12.0     37.0    -26.0   \n",
              "2018-08-14 09:00:00  -51.0   82.0 -123.0  ...      2.0    -12.0     37.0   \n",
              "2018-08-14 10:00:00  -92.0  -51.0   82.0  ...    -17.0      2.0    -12.0   \n",
              "2018-08-14 11:00:00   -2.0  -92.0  -51.0  ...      5.0    -17.0      2.0   \n",
              "...                    ...    ...    ...  ...      ...      ...      ...   \n",
              "2018-08-31 19:00:00  -33.0   30.0  -31.0  ...     27.0    -86.0    -27.0   \n",
              "2018-08-31 20:00:00  -17.0  -33.0   30.0  ...      9.0     27.0    -86.0   \n",
              "2018-08-31 21:00:00   81.0  -17.0  -33.0  ...    -78.0      9.0     27.0   \n",
              "2018-08-31 22:00:00   20.0   81.0  -17.0  ...    -44.0    -78.0      9.0   \n",
              "2018-08-31 23:00:00  -10.0   20.0   81.0  ...    -52.0    -44.0    -78.0   \n",
              "\n",
              "                     lag_163  lag_164  lag_165  lag_166  lag_167  lag_168  \\\n",
              "datetime                                                                    \n",
              "2018-08-14 07:00:00     44.0    -28.0    -21.0     41.0     35.0     -2.0   \n",
              "2018-08-14 08:00:00    -15.0     44.0    -28.0    -21.0     41.0     35.0   \n",
              "2018-08-14 09:00:00    -26.0    -15.0     44.0    -28.0    -21.0     41.0   \n",
              "2018-08-14 10:00:00     37.0    -26.0    -15.0     44.0    -28.0    -21.0   \n",
              "2018-08-14 11:00:00    -12.0     37.0    -26.0    -15.0     44.0    -28.0   \n",
              "...                      ...      ...      ...      ...      ...      ...   \n",
              "2018-08-31 19:00:00    100.0    -69.0     76.0    -13.0     66.0    -24.0   \n",
              "2018-08-31 20:00:00    -27.0    100.0    -69.0     76.0    -13.0     66.0   \n",
              "2018-08-31 21:00:00    -86.0    -27.0    100.0    -69.0     76.0    -13.0   \n",
              "2018-08-31 22:00:00     27.0    -86.0    -27.0    100.0    -69.0     76.0   \n",
              "2018-08-31 23:00:00      9.0     27.0    -86.0    -27.0    100.0    -69.0   \n",
              "\n",
              "                     rolling_mean  \n",
              "datetime                           \n",
              "2018-08-14 07:00:00     -0.005952  \n",
              "2018-08-14 08:00:00      0.059524  \n",
              "2018-08-14 09:00:00      0.071429  \n",
              "2018-08-14 10:00:00      0.089286  \n",
              "2018-08-14 11:00:00      0.333333  \n",
              "...                           ...  \n",
              "2018-08-31 19:00:00      0.416667  \n",
              "2018-08-31 20:00:00      0.136905  \n",
              "2018-08-31 21:00:00     -0.148810  \n",
              "2018-08-31 22:00:00     -0.041667  \n",
              "2018-08-31 23:00:00     -0.113095  \n",
              "\n",
              "[425 rows x 172 columns]"
            ]
          },
          "execution_count": 154,
          "metadata": {},
          "output_type": "execute_result"
        }
      ],
      "source": [
        "test"
      ]
    },
    {
      "cell_type": "markdown",
      "metadata": {
        "id": "2mYgpXRq-G28"
      },
      "source": [
        "Данные поделились правильно, не перемешавшись"
      ]
    },
    {
      "cell_type": "code",
      "execution_count": null,
      "metadata": {
        "id": "QYIMOouE-G28"
      },
      "outputs": [],
      "source": [
        "#Данные без смещения\n",
        "train_features_initial = train_i.drop('num_orders', axis=1)\n",
        "train_target_initial = train_i['num_orders']\n",
        "\n",
        "test_features_initial = test_i.drop('num_orders', axis=1)\n",
        "test_target_initial = test_i['num_orders']\n",
        "\n",
        "#Данные со смещением\n",
        "train_features = train.drop('num_orders', axis=1)\n",
        "train_target = train['num_orders']\n",
        "\n",
        "test_features = test.drop('num_orders', axis=1)\n",
        "test_target = test['num_orders']"
      ]
    },
    {
      "cell_type": "code",
      "execution_count": null,
      "metadata": {
        "id": "fGMonrEP-G28",
        "outputId": "dce6f413-814e-407d-86bf-b40d9d6ede3d"
      },
      "outputs": [
        {
          "data": {
            "text/plain": [
              "datetime\n",
              "2018-03-08 00:00:00    143\n",
              "2018-03-08 01:00:00     78\n",
              "2018-03-08 02:00:00     65\n",
              "2018-03-08 03:00:00     68\n",
              "2018-03-08 04:00:00     60\n",
              "                      ... \n",
              "2018-08-14 02:00:00    108\n",
              "2018-08-14 03:00:00    190\n",
              "2018-08-14 04:00:00    139\n",
              "2018-08-14 05:00:00     47\n",
              "2018-08-14 06:00:00     45\n",
              "Freq: H, Name: num_orders, Length: 3823, dtype: int64"
            ]
          },
          "execution_count": 156,
          "metadata": {},
          "output_type": "execute_result"
        }
      ],
      "source": [
        "train_target_initial"
      ]
    },
    {
      "cell_type": "markdown",
      "metadata": {
        "id": "0tSppC7W-G28"
      },
      "source": [
        "### Модели обучения"
      ]
    },
    {
      "cell_type": "markdown",
      "metadata": {
        "id": "2wAcerQC-G29"
      },
      "source": [
        "Так как мы предсказываем численную переменную, у нас задача регрессии. Применим модели линейной регрессии, случайного леса и бустинга"
      ]
    },
    {
      "cell_type": "markdown",
      "metadata": {
        "id": "NbF3juBE-G29"
      },
      "source": [
        "#### Линейная регрессия"
      ]
    },
    {
      "cell_type": "code",
      "execution_count": null,
      "metadata": {
        "id": "hpB8U_V3-G29",
        "outputId": "2279c398-9636-416a-8391-b6407cf05032"
      },
      "outputs": [
        {
          "name": "stdout",
          "output_type": "stream",
          "text": [
            "Train 22.68801191364073\n"
          ]
        }
      ],
      "source": [
        "model = LinearRegression()\n",
        "\n",
        "tscv = TimeSeriesSplit(n_splits=5)\n",
        "\n",
        "scores = cross_val_score(model, train_features_initial, train_target_initial, cv=tscv, scoring='neg_root_mean_squared_error')\n",
        "\n",
        "print('Train', -scores.mean())"
      ]
    },
    {
      "cell_type": "markdown",
      "metadata": {
        "id": "PT_-jbQ8-G2-"
      },
      "source": [
        "#### Случайный лес"
      ]
    },
    {
      "cell_type": "code",
      "execution_count": null,
      "metadata": {
        "id": "GJF2TiDl-G2-"
      },
      "outputs": [],
      "source": [
        "best_model = None\n",
        "best_score = 5000\n",
        "best_params = None\n",
        "best_estimator = None"
      ]
    },
    {
      "cell_type": "code",
      "execution_count": null,
      "metadata": {
        "id": "L1ngx9JF-G2_",
        "outputId": "a6c0689f-523d-47af-f112-f3df6379c21a"
      },
      "outputs": [
        {
          "name": "stdout",
          "output_type": "stream",
          "text": [
            "Fitting 3 folds for each of 24 candidates, totalling 72 fits\n",
            "Лучшие параметры: RandomForestRegressor(n_estimators=55, random_state=12345)\n",
            "Лучший результат: 24.20295340120957\n"
          ]
        }
      ],
      "source": [
        "model = RandomForestRegressor(random_state=12345)\n",
        "param_grid = dict(max_depth=[None] + [i for i in range(2, 7)], n_estimators=range(40, 60, 5))\n",
        "\n",
        "tscv = TimeSeriesSplit(n_splits=3)\n",
        "\n",
        "grid = GridSearchCV(model, param_grid, scoring='neg_mean_squared_error', cv=tscv, n_jobs=-1, verbose=1)\n",
        "\n",
        "grid.fit(train_features_initial, train_target_initial)\n",
        "\n",
        "#Присваивает только лучшую модель\n",
        "if np.sqrt(-grid.best_score_) < best_score:\n",
        "    best_score = np.sqrt(-grid.best_score_)\n",
        "    best_model = model\n",
        "    best_params = grid.best_params_\n",
        "    best_estimator = grid.best_estimator_\n",
        "\n",
        "print(\"Лучшие параметры:\", grid.best_estimator_)\n",
        "print(\"Лучший результат:\", np.sqrt(-grid.best_score_))"
      ]
    },
    {
      "cell_type": "markdown",
      "metadata": {
        "id": "ihYKD6dz-G3A"
      },
      "source": [
        "#### Catboost"
      ]
    },
    {
      "cell_type": "code",
      "execution_count": null,
      "metadata": {
        "id": "4HSCZtvn-G3A",
        "outputId": "4dbdc4ac-284f-4573-827d-b129f8783eb4"
      },
      "outputs": [
        {
          "name": "stdout",
          "output_type": "stream",
          "text": [
            "Learning rate set to 0.077197\n",
            "0:\tlearn: 28.4757257\ttest: 99.2504271\tbest: 99.2504271 (0)\ttotal: 34.6ms\tremaining: 17.3s\n",
            "1:\tlearn: 27.5895569\ttest: 99.0313141\tbest: 99.0313141 (1)\ttotal: 56.1ms\tremaining: 14s\n",
            "2:\tlearn: 26.7003886\ttest: 98.7682457\tbest: 98.7682457 (2)\ttotal: 78.3ms\tremaining: 13s\n",
            "3:\tlearn: 25.8299429\ttest: 98.3321976\tbest: 98.3321976 (3)\ttotal: 100ms\tremaining: 12.4s\n",
            "4:\tlearn: 25.0232203\ttest: 97.8808798\tbest: 97.8808798 (4)\ttotal: 122ms\tremaining: 12s\n",
            "5:\tlearn: 24.2379357\ttest: 97.1526582\tbest: 97.1526582 (5)\ttotal: 143ms\tremaining: 11.8s\n",
            "6:\tlearn: 23.6037294\ttest: 96.5241950\tbest: 96.5241950 (6)\ttotal: 165ms\tremaining: 11.6s\n",
            "7:\tlearn: 23.0343677\ttest: 96.0320338\tbest: 96.0320338 (7)\ttotal: 187ms\tremaining: 11.5s\n",
            "8:\tlearn: 22.4587843\ttest: 95.4789365\tbest: 95.4789365 (8)\ttotal: 208ms\tremaining: 11.4s\n",
            "9:\tlearn: 21.9137700\ttest: 95.1444261\tbest: 95.1444261 (9)\ttotal: 230ms\tremaining: 11.3s\n",
            "10:\tlearn: 21.3928896\ttest: 94.3968313\tbest: 94.3968313 (10)\ttotal: 252ms\tremaining: 11.2s\n",
            "11:\tlearn: 20.9189383\ttest: 94.5010464\tbest: 94.3968313 (10)\ttotal: 274ms\tremaining: 11.1s\n",
            "Stopped by overfitting detector  (1 iterations wait)\n",
            "\n",
            "bestTest = 94.39683129\n",
            "bestIteration = 10\n",
            "\n",
            "Shrink model to first 11 iterations.\n",
            "Learning rate set to 0.08605\n",
            "0:\tlearn: 31.5641410\ttest: 92.3669145\tbest: 92.3669145 (0)\ttotal: 61.8ms\tremaining: 30.8s\n",
            "1:\tlearn: 30.3035424\ttest: 90.4057229\tbest: 90.4057229 (1)\ttotal: 99.8ms\tremaining: 24.8s\n",
            "2:\tlearn: 29.1448364\ttest: 88.1684329\tbest: 88.1684329 (2)\ttotal: 138ms\tremaining: 22.9s\n",
            "3:\tlearn: 28.0787028\ttest: 85.7574160\tbest: 85.7574160 (3)\ttotal: 176ms\tremaining: 21.9s\n",
            "4:\tlearn: 27.1280152\ttest: 83.8282888\tbest: 83.8282888 (4)\ttotal: 214ms\tremaining: 21.2s\n",
            "5:\tlearn: 26.2395692\ttest: 81.7078560\tbest: 81.7078560 (5)\ttotal: 257ms\tremaining: 21.1s\n",
            "6:\tlearn: 25.4928022\ttest: 79.8405303\tbest: 79.8405303 (6)\ttotal: 287ms\tremaining: 20.2s\n",
            "7:\tlearn: 24.7370116\ttest: 77.4517145\tbest: 77.4517145 (7)\ttotal: 319ms\tremaining: 19.6s\n",
            "8:\tlearn: 24.1394334\ttest: 76.4526613\tbest: 76.4526613 (8)\ttotal: 348ms\tremaining: 19s\n",
            "9:\tlearn: 23.4938895\ttest: 75.5758176\tbest: 75.5758176 (9)\ttotal: 378ms\tremaining: 18.5s\n",
            "10:\tlearn: 22.9633913\ttest: 74.5058901\tbest: 74.5058901 (10)\ttotal: 408ms\tremaining: 18.1s\n",
            "11:\tlearn: 22.4754772\ttest: 72.7381095\tbest: 72.7381095 (11)\ttotal: 438ms\tremaining: 17.8s\n",
            "12:\tlearn: 21.9491754\ttest: 70.5275855\tbest: 70.5275855 (12)\ttotal: 467ms\tremaining: 17.5s\n",
            "13:\tlearn: 21.5346362\ttest: 69.2573884\tbest: 69.2573884 (13)\ttotal: 497ms\tremaining: 17.2s\n",
            "14:\tlearn: 21.2106661\ttest: 68.9794418\tbest: 68.9794418 (14)\ttotal: 526ms\tremaining: 17s\n",
            "15:\tlearn: 20.7850214\ttest: 67.6145441\tbest: 67.6145441 (15)\ttotal: 555ms\tremaining: 16.8s\n",
            "16:\tlearn: 20.4143621\ttest: 66.4940790\tbest: 66.4940790 (16)\ttotal: 584ms\tremaining: 16.6s\n",
            "17:\tlearn: 20.1218755\ttest: 65.9904517\tbest: 65.9904517 (17)\ttotal: 613ms\tremaining: 16.4s\n",
            "18:\tlearn: 19.8678771\ttest: 64.7192120\tbest: 64.7192120 (18)\ttotal: 643ms\tremaining: 16.3s\n",
            "19:\tlearn: 19.6128011\ttest: 63.6220626\tbest: 63.6220626 (19)\ttotal: 676ms\tremaining: 16.2s\n",
            "20:\tlearn: 19.3720823\ttest: 62.9190830\tbest: 62.9190830 (20)\ttotal: 706ms\tremaining: 16.1s\n",
            "21:\tlearn: 19.1890399\ttest: 62.1705906\tbest: 62.1705906 (21)\ttotal: 735ms\tremaining: 16s\n",
            "22:\tlearn: 18.9903657\ttest: 61.8114871\tbest: 61.8114871 (22)\ttotal: 765ms\tremaining: 15.9s\n",
            "23:\tlearn: 18.7543831\ttest: 61.5785609\tbest: 61.5785609 (23)\ttotal: 796ms\tremaining: 15.8s\n",
            "24:\tlearn: 18.5611247\ttest: 60.8250165\tbest: 60.8250165 (24)\ttotal: 825ms\tremaining: 15.7s\n",
            "25:\tlearn: 18.4278578\ttest: 59.9335866\tbest: 59.9335866 (25)\ttotal: 854ms\tremaining: 15.6s\n",
            "26:\tlearn: 18.2845163\ttest: 59.3909284\tbest: 59.3909284 (26)\ttotal: 883ms\tremaining: 15.5s\n",
            "27:\tlearn: 18.1263450\ttest: 58.9489841\tbest: 58.9489841 (27)\ttotal: 912ms\tremaining: 15.4s\n",
            "28:\tlearn: 17.9689659\ttest: 58.5648725\tbest: 58.5648725 (28)\ttotal: 942ms\tremaining: 15.3s\n",
            "29:\tlearn: 17.8582879\ttest: 57.7927950\tbest: 57.7927950 (29)\ttotal: 971ms\tremaining: 15.2s\n",
            "30:\tlearn: 17.7471984\ttest: 57.6119653\tbest: 57.6119653 (30)\ttotal: 1s\tremaining: 15.2s\n",
            "31:\tlearn: 17.6200913\ttest: 56.7585345\tbest: 56.7585345 (31)\ttotal: 1.03s\tremaining: 15.1s\n",
            "32:\tlearn: 17.5264778\ttest: 56.6611803\tbest: 56.6611803 (32)\ttotal: 1.06s\tremaining: 15s\n",
            "33:\tlearn: 17.4146484\ttest: 56.3151606\tbest: 56.3151606 (33)\ttotal: 1.09s\tremaining: 14.9s\n",
            "34:\tlearn: 17.3383647\ttest: 56.2378579\tbest: 56.2378579 (34)\ttotal: 1.11s\tremaining: 14.8s\n",
            "35:\tlearn: 17.2476532\ttest: 56.1629246\tbest: 56.1629246 (35)\ttotal: 1.14s\tremaining: 14.7s\n",
            "36:\tlearn: 17.1367707\ttest: 55.9304946\tbest: 55.9304946 (36)\ttotal: 1.17s\tremaining: 14.6s\n",
            "37:\tlearn: 17.0701970\ttest: 55.7292113\tbest: 55.7292113 (37)\ttotal: 1.2s\tremaining: 14.6s\n",
            "38:\tlearn: 16.9841831\ttest: 55.3124280\tbest: 55.3124280 (38)\ttotal: 1.22s\tremaining: 14.5s\n",
            "39:\tlearn: 16.9430632\ttest: 54.8427878\tbest: 54.8427878 (39)\ttotal: 1.25s\tremaining: 14.4s\n",
            "40:\tlearn: 16.8713808\ttest: 54.3963966\tbest: 54.3963966 (40)\ttotal: 1.28s\tremaining: 14.3s\n",
            "41:\tlearn: 16.7852518\ttest: 54.4784632\tbest: 54.3963966 (40)\ttotal: 1.3s\tremaining: 14.2s\n",
            "Stopped by overfitting detector  (1 iterations wait)\n",
            "\n",
            "bestTest = 54.39639659\n",
            "bestIteration = 40\n",
            "\n",
            "Shrink model to first 41 iterations.\n",
            "Learning rate set to 0.091699\n",
            "0:\tlearn: 32.2843535\ttest: 87.8023628\tbest: 87.8023628 (0)\ttotal: 53.8ms\tremaining: 26.8s\n",
            "1:\tlearn: 30.9310093\ttest: 86.2069140\tbest: 86.2069140 (1)\ttotal: 84.2ms\tremaining: 21s\n",
            "2:\tlearn: 29.6227634\ttest: 83.9901712\tbest: 83.9901712 (2)\ttotal: 115ms\tremaining: 19s\n",
            "3:\tlearn: 28.4157156\ttest: 82.5946153\tbest: 82.5946153 (3)\ttotal: 144ms\tremaining: 17.9s\n",
            "4:\tlearn: 27.3383159\ttest: 80.8829422\tbest: 80.8829422 (4)\ttotal: 175ms\tremaining: 17.3s\n",
            "5:\tlearn: 26.3914094\ttest: 79.0448114\tbest: 79.0448114 (5)\ttotal: 204ms\tremaining: 16.8s\n",
            "6:\tlearn: 25.5909340\ttest: 77.5608469\tbest: 77.5608469 (6)\ttotal: 233ms\tremaining: 16.4s\n",
            "7:\tlearn: 24.8108088\ttest: 76.1848247\tbest: 76.1848247 (7)\ttotal: 263ms\tremaining: 16.2s\n",
            "8:\tlearn: 24.1003996\ttest: 74.5576493\tbest: 74.5576493 (8)\ttotal: 294ms\tremaining: 16s\n",
            "9:\tlearn: 23.5387203\ttest: 73.4724281\tbest: 73.4724281 (9)\ttotal: 324ms\tremaining: 15.9s\n",
            "10:\tlearn: 23.0054468\ttest: 72.2165122\tbest: 72.2165122 (10)\ttotal: 355ms\tremaining: 15.8s\n",
            "11:\tlearn: 22.5158714\ttest: 70.7718491\tbest: 70.7718491 (11)\ttotal: 389ms\tremaining: 15.8s\n",
            "12:\tlearn: 22.0203328\ttest: 69.3966276\tbest: 69.3966276 (12)\ttotal: 472ms\tremaining: 17.7s\n",
            "13:\tlearn: 21.6053073\ttest: 67.9974164\tbest: 67.9974164 (13)\ttotal: 504ms\tremaining: 17.5s\n",
            "14:\tlearn: 21.2641397\ttest: 67.2486200\tbest: 67.2486200 (14)\ttotal: 534ms\tremaining: 17.3s\n",
            "15:\tlearn: 20.9393937\ttest: 65.9756028\tbest: 65.9756028 (15)\ttotal: 577ms\tremaining: 17.5s\n",
            "16:\tlearn: 20.6417351\ttest: 65.3518118\tbest: 65.3518118 (16)\ttotal: 607ms\tremaining: 17.2s\n",
            "17:\tlearn: 20.4108306\ttest: 64.5182629\tbest: 64.5182629 (17)\ttotal: 669ms\tremaining: 17.9s\n",
            "18:\tlearn: 20.1857693\ttest: 64.1115518\tbest: 64.1115518 (18)\ttotal: 699ms\tremaining: 17.7s\n",
            "19:\tlearn: 19.9765119\ttest: 63.9655133\tbest: 63.9655133 (19)\ttotal: 728ms\tremaining: 17.5s\n",
            "20:\tlearn: 19.8062541\ttest: 63.4997177\tbest: 63.4997177 (20)\ttotal: 759ms\tremaining: 17.3s\n",
            "21:\tlearn: 19.6391777\ttest: 62.8588254\tbest: 62.8588254 (21)\ttotal: 789ms\tremaining: 17.1s\n",
            "22:\tlearn: 19.4596342\ttest: 62.2498044\tbest: 62.2498044 (22)\ttotal: 818ms\tremaining: 17s\n",
            "23:\tlearn: 19.3240498\ttest: 61.8097958\tbest: 61.8097958 (23)\ttotal: 854ms\tremaining: 16.9s\n",
            "24:\tlearn: 19.1805976\ttest: 61.4533405\tbest: 61.4533405 (24)\ttotal: 889ms\tremaining: 16.9s\n",
            "25:\tlearn: 19.0721438\ttest: 60.7845954\tbest: 60.7845954 (25)\ttotal: 919ms\tremaining: 16.7s\n",
            "26:\tlearn: 18.9430539\ttest: 60.4661592\tbest: 60.4661592 (26)\ttotal: 948ms\tremaining: 16.6s\n",
            "27:\tlearn: 18.8401583\ttest: 59.9120255\tbest: 59.9120255 (27)\ttotal: 977ms\tremaining: 16.5s\n",
            "28:\tlearn: 18.7185053\ttest: 59.2831135\tbest: 59.2831135 (28)\ttotal: 1.01s\tremaining: 16.4s\n",
            "29:\tlearn: 18.6291256\ttest: 58.9274897\tbest: 58.9274897 (29)\ttotal: 1.04s\tremaining: 16.4s\n",
            "30:\tlearn: 18.5376969\ttest: 58.8310469\tbest: 58.8310469 (30)\ttotal: 1.08s\tremaining: 16.4s\n",
            "31:\tlearn: 18.4524489\ttest: 58.5003408\tbest: 58.5003408 (31)\ttotal: 1.12s\tremaining: 16.4s\n",
            "32:\tlearn: 18.3531013\ttest: 58.2849108\tbest: 58.2849108 (32)\ttotal: 1.15s\tremaining: 16.3s\n",
            "33:\tlearn: 18.2468769\ttest: 57.9466991\tbest: 57.9466991 (33)\ttotal: 1.18s\tremaining: 16.2s\n",
            "34:\tlearn: 18.1573431\ttest: 57.3484241\tbest: 57.3484241 (34)\ttotal: 1.21s\tremaining: 16.1s\n",
            "35:\tlearn: 18.0770071\ttest: 57.3218383\tbest: 57.3218383 (35)\ttotal: 1.24s\tremaining: 16s\n",
            "36:\tlearn: 17.9943191\ttest: 56.9203104\tbest: 56.9203104 (36)\ttotal: 1.27s\tremaining: 15.9s\n",
            "37:\tlearn: 17.9239846\ttest: 57.0810972\tbest: 56.9203104 (36)\ttotal: 1.3s\tremaining: 15.8s\n",
            "Stopped by overfitting detector  (1 iterations wait)\n",
            "\n",
            "bestTest = 56.92031043\n",
            "bestIteration = 36\n",
            "\n",
            "Shrink model to first 37 iterations.\n",
            "Learning rate set to 0.069071\n",
            "0:\tlearn: 28.5905280\ttest: 99.3810916\tbest: 99.3810916 (0)\ttotal: 36.6ms\tremaining: 21.9s\n",
            "1:\tlearn: 27.7895487\ttest: 99.1844971\tbest: 99.1844971 (1)\ttotal: 59.4ms\tremaining: 17.8s\n",
            "2:\tlearn: 26.9794869\ttest: 98.9424233\tbest: 98.9424233 (2)\ttotal: 82.2ms\tremaining: 16.4s\n",
            "3:\tlearn: 26.1805069\ttest: 98.5414207\tbest: 98.5414207 (3)\ttotal: 104ms\tremaining: 15.5s\n",
            "4:\tlearn: 25.4402454\ttest: 98.0265567\tbest: 98.0265567 (4)\ttotal: 126ms\tremaining: 15s\n",
            "5:\tlearn: 24.7053386\ttest: 97.3539330\tbest: 97.3539330 (5)\ttotal: 148ms\tremaining: 14.6s\n",
            "6:\tlearn: 24.1081556\ttest: 96.7632371\tbest: 96.7632371 (6)\ttotal: 169ms\tremaining: 14.3s\n",
            "7:\tlearn: 23.5441538\ttest: 95.9797725\tbest: 95.9797725 (7)\ttotal: 190ms\tremaining: 14.1s\n",
            "8:\tlearn: 22.9951888\ttest: 95.6294232\tbest: 95.6294232 (8)\ttotal: 212ms\tremaining: 13.9s\n",
            "9:\tlearn: 22.5152810\ttest: 94.4489198\tbest: 94.4489198 (9)\ttotal: 234ms\tremaining: 13.8s\n",
            "10:\tlearn: 21.9897041\ttest: 93.5363722\tbest: 93.5363722 (10)\ttotal: 256ms\tremaining: 13.7s\n",
            "11:\tlearn: 21.5336720\ttest: 93.2361971\tbest: 93.2361971 (11)\ttotal: 279ms\tremaining: 13.7s\n",
            "12:\tlearn: 21.0806341\ttest: 92.1663202\tbest: 92.1663202 (12)\ttotal: 301ms\tremaining: 13.6s\n",
            "13:\tlearn: 20.6482373\ttest: 91.5000456\tbest: 91.5000456 (13)\ttotal: 323ms\tremaining: 13.5s\n",
            "14:\tlearn: 20.2777877\ttest: 91.2838372\tbest: 91.2838372 (14)\ttotal: 345ms\tremaining: 13.5s\n",
            "15:\tlearn: 19.9457201\ttest: 91.1695060\tbest: 91.1695060 (15)\ttotal: 367ms\tremaining: 13.4s\n",
            "16:\tlearn: 19.6178280\ttest: 91.1834690\tbest: 91.1695060 (15)\ttotal: 388ms\tremaining: 13.3s\n",
            "Stopped by overfitting detector  (1 iterations wait)\n",
            "\n",
            "bestTest = 91.16950604\n",
            "bestIteration = 15\n",
            "\n",
            "Shrink model to first 16 iterations.\n",
            "Learning rate set to 0.076993\n",
            "0:\tlearn: 31.7159246\ttest: 92.6608757\tbest: 92.6608757 (0)\ttotal: 44.3ms\tremaining: 26.5s\n",
            "1:\tlearn: 30.5892999\ttest: 90.9113102\tbest: 90.9113102 (1)\ttotal: 72ms\tremaining: 21.5s\n",
            "2:\tlearn: 29.6630662\ttest: 89.4487491\tbest: 89.4487491 (2)\ttotal: 99ms\tremaining: 19.7s\n",
            "3:\tlearn: 28.6496505\ttest: 87.0703580\tbest: 87.0703580 (3)\ttotal: 128ms\tremaining: 19.1s\n",
            "4:\tlearn: 27.7362211\ttest: 85.4416491\tbest: 85.4416491 (4)\ttotal: 157ms\tremaining: 18.7s\n",
            "5:\tlearn: 26.8874852\ttest: 83.4704968\tbest: 83.4704968 (5)\ttotal: 184ms\tremaining: 18.2s\n",
            "6:\tlearn: 26.0985366\ttest: 82.4591767\tbest: 82.4591767 (6)\ttotal: 211ms\tremaining: 17.9s\n",
            "7:\tlearn: 25.3729710\ttest: 80.5284153\tbest: 80.5284153 (7)\ttotal: 237ms\tremaining: 17.6s\n",
            "8:\tlearn: 24.7567969\ttest: 78.7743646\tbest: 78.7743646 (8)\ttotal: 265ms\tremaining: 17.4s\n",
            "9:\tlearn: 24.1383934\ttest: 76.4138060\tbest: 76.4138060 (9)\ttotal: 292ms\tremaining: 17.2s\n",
            "10:\tlearn: 23.5838972\ttest: 74.4151098\tbest: 74.4151098 (10)\ttotal: 333ms\tremaining: 17.8s\n",
            "11:\tlearn: 23.0602130\ttest: 72.5362815\tbest: 72.5362815 (11)\ttotal: 365ms\tremaining: 17.9s\n",
            "12:\tlearn: 22.5493660\ttest: 70.6214741\tbest: 70.6214741 (12)\ttotal: 399ms\tremaining: 18s\n",
            "13:\tlearn: 22.1359239\ttest: 69.0457617\tbest: 69.0457617 (13)\ttotal: 426ms\tremaining: 17.8s\n",
            "14:\tlearn: 21.7868486\ttest: 67.9099522\tbest: 67.9099522 (14)\ttotal: 453ms\tremaining: 17.7s\n",
            "15:\tlearn: 21.3863616\ttest: 67.1639652\tbest: 67.1639652 (15)\ttotal: 481ms\tremaining: 17.6s\n",
            "16:\tlearn: 21.0519163\ttest: 66.5058298\tbest: 66.5058298 (16)\ttotal: 508ms\tremaining: 17.4s\n",
            "17:\tlearn: 20.7218423\ttest: 65.3676720\tbest: 65.3676720 (17)\ttotal: 535ms\tremaining: 17.3s\n",
            "18:\tlearn: 20.4724753\ttest: 64.7235382\tbest: 64.7235382 (18)\ttotal: 563ms\tremaining: 17.2s\n",
            "19:\tlearn: 20.2015627\ttest: 64.3008965\tbest: 64.3008965 (19)\ttotal: 590ms\tremaining: 17.1s\n",
            "20:\tlearn: 19.9404297\ttest: 63.3497718\tbest: 63.3497718 (20)\ttotal: 617ms\tremaining: 17s\n",
            "21:\tlearn: 19.7196043\ttest: 62.6436615\tbest: 62.6436615 (21)\ttotal: 644ms\tremaining: 16.9s\n",
            "22:\tlearn: 19.4716831\ttest: 62.3186595\tbest: 62.3186595 (22)\ttotal: 673ms\tremaining: 16.9s\n",
            "23:\tlearn: 19.2580798\ttest: 61.6472284\tbest: 61.6472284 (23)\ttotal: 700ms\tremaining: 16.8s\n",
            "24:\tlearn: 19.0485987\ttest: 60.9870522\tbest: 60.9870522 (24)\ttotal: 727ms\tremaining: 16.7s\n",
            "25:\tlearn: 18.8964223\ttest: 60.3044239\tbest: 60.3044239 (25)\ttotal: 756ms\tremaining: 16.7s\n",
            "26:\tlearn: 18.7343695\ttest: 60.0326443\tbest: 60.0326443 (26)\ttotal: 783ms\tremaining: 16.6s\n",
            "27:\tlearn: 18.5613058\ttest: 59.5749391\tbest: 59.5749391 (27)\ttotal: 809ms\tremaining: 16.5s\n",
            "28:\tlearn: 18.4018629\ttest: 59.3126162\tbest: 59.3126162 (28)\ttotal: 836ms\tremaining: 16.5s\n",
            "29:\tlearn: 18.2763154\ttest: 58.6587547\tbest: 58.6587547 (29)\ttotal: 864ms\tremaining: 16.4s\n",
            "30:\tlearn: 18.1575972\ttest: 58.4422666\tbest: 58.4422666 (30)\ttotal: 891ms\tremaining: 16.4s\n",
            "31:\tlearn: 18.0320655\ttest: 57.9348435\tbest: 57.9348435 (31)\ttotal: 919ms\tremaining: 16.3s\n",
            "32:\tlearn: 17.9253665\ttest: 57.6941215\tbest: 57.6941215 (32)\ttotal: 947ms\tremaining: 16.3s\n",
            "33:\tlearn: 17.8182064\ttest: 57.4722638\tbest: 57.4722638 (33)\ttotal: 975ms\tremaining: 16.2s\n",
            "34:\tlearn: 17.7284188\ttest: 57.3826962\tbest: 57.3826962 (34)\ttotal: 1s\tremaining: 16.2s\n",
            "35:\tlearn: 17.6212586\ttest: 57.3194491\tbest: 57.3194491 (35)\ttotal: 1.03s\tremaining: 16.1s\n",
            "36:\tlearn: 17.5314891\ttest: 57.1087713\tbest: 57.1087713 (36)\ttotal: 1.06s\tremaining: 16.1s\n",
            "37:\tlearn: 17.4418155\ttest: 56.8016645\tbest: 56.8016645 (37)\ttotal: 1.08s\tremaining: 16s\n",
            "38:\tlearn: 17.3774475\ttest: 56.3836912\tbest: 56.3836912 (38)\ttotal: 1.11s\tremaining: 16s\n",
            "39:\tlearn: 17.3132371\ttest: 56.4257038\tbest: 56.3836912 (38)\ttotal: 1.14s\tremaining: 16s\n",
            "Stopped by overfitting detector  (1 iterations wait)\n",
            "\n",
            "bestTest = 56.3836912\n",
            "bestIteration = 38\n",
            "\n",
            "Shrink model to first 39 iterations.\n",
            "Learning rate set to 0.082047\n",
            "0:\tlearn: 32.4584581\ttest: 88.1035698\tbest: 88.1035698 (0)\ttotal: 48ms\tremaining: 28.7s\n",
            "1:\tlearn: 31.2296428\ttest: 86.6606417\tbest: 86.6606417 (1)\ttotal: 79.5ms\tremaining: 23.8s\n",
            "2:\tlearn: 30.0290930\ttest: 84.6426420\tbest: 84.6426420 (2)\ttotal: 112ms\tremaining: 22.3s\n",
            "3:\tlearn: 28.9065812\ttest: 83.3597341\tbest: 83.3597341 (3)\ttotal: 144ms\tremaining: 21.4s\n",
            "4:\tlearn: 27.8931887\ttest: 81.7766503\tbest: 81.7766503 (4)\ttotal: 175ms\tremaining: 20.8s\n",
            "5:\tlearn: 27.0058737\ttest: 80.0634255\tbest: 80.0634255 (5)\ttotal: 207ms\tremaining: 20.4s\n",
            "6:\tlearn: 26.2367861\ttest: 78.6647337\tbest: 78.6647337 (6)\ttotal: 237ms\tremaining: 20.1s\n",
            "7:\tlearn: 25.5136846\ttest: 76.7469567\tbest: 76.7469567 (7)\ttotal: 268ms\tremaining: 19.8s\n",
            "8:\tlearn: 24.8430169\ttest: 75.1471068\tbest: 75.1471068 (8)\ttotal: 300ms\tremaining: 19.7s\n",
            "9:\tlearn: 24.2311139\ttest: 73.4576950\tbest: 73.4576950 (9)\ttotal: 336ms\tremaining: 19.8s\n",
            "10:\tlearn: 23.6724758\ttest: 72.1555622\tbest: 72.1555622 (10)\ttotal: 367ms\tremaining: 19.6s\n",
            "11:\tlearn: 23.1876620\ttest: 70.8048828\tbest: 70.8048828 (11)\ttotal: 403ms\tremaining: 19.7s\n",
            "12:\tlearn: 22.6892610\ttest: 69.3696285\tbest: 69.3696285 (12)\ttotal: 434ms\tremaining: 19.6s\n",
            "13:\tlearn: 22.2558308\ttest: 67.9928566\tbest: 67.9928566 (13)\ttotal: 464ms\tremaining: 19.4s\n",
            "14:\tlearn: 21.9070101\ttest: 67.1026720\tbest: 67.1026720 (14)\ttotal: 495ms\tremaining: 19.3s\n",
            "15:\tlearn: 21.5459172\ttest: 66.0592711\tbest: 66.0592711 (15)\ttotal: 525ms\tremaining: 19.2s\n",
            "16:\tlearn: 21.2080521\ttest: 65.2551986\tbest: 65.2551986 (16)\ttotal: 555ms\tremaining: 19s\n",
            "17:\tlearn: 20.9457565\ttest: 64.5217068\tbest: 64.5217068 (17)\ttotal: 585ms\tremaining: 18.9s\n",
            "18:\tlearn: 20.6962527\ttest: 63.8441151\tbest: 63.8441151 (18)\ttotal: 614ms\tremaining: 18.8s\n",
            "19:\tlearn: 20.4415706\ttest: 63.4297005\tbest: 63.4297005 (19)\ttotal: 644ms\tremaining: 18.7s\n",
            "20:\tlearn: 20.2222471\ttest: 62.5454511\tbest: 62.5454511 (20)\ttotal: 674ms\tremaining: 18.6s\n",
            "21:\tlearn: 20.0424132\ttest: 61.8231051\tbest: 61.8231051 (21)\ttotal: 703ms\tremaining: 18.5s\n",
            "22:\tlearn: 19.8623249\ttest: 60.8806766\tbest: 60.8806766 (22)\ttotal: 732ms\tremaining: 18.4s\n",
            "23:\tlearn: 19.6735628\ttest: 60.5352396\tbest: 60.5352396 (23)\ttotal: 764ms\tremaining: 18.3s\n",
            "24:\tlearn: 19.5137717\ttest: 60.1388014\tbest: 60.1388014 (24)\ttotal: 794ms\tremaining: 18.3s\n",
            "25:\tlearn: 19.4005257\ttest: 59.5939402\tbest: 59.5939402 (25)\ttotal: 823ms\tremaining: 18.2s\n",
            "26:\tlearn: 19.2657255\ttest: 59.1401577\tbest: 59.1401577 (26)\ttotal: 855ms\tremaining: 18.1s\n",
            "27:\tlearn: 19.1668685\ttest: 58.8510310\tbest: 58.8510310 (27)\ttotal: 884ms\tremaining: 18.1s\n",
            "28:\tlearn: 19.0463161\ttest: 58.2885761\tbest: 58.2885761 (28)\ttotal: 915ms\tremaining: 18s\n",
            "29:\tlearn: 18.9243598\ttest: 58.0987584\tbest: 58.0987584 (29)\ttotal: 953ms\tremaining: 18.1s\n",
            "30:\tlearn: 18.8150826\ttest: 58.0921157\tbest: 58.0921157 (30)\ttotal: 983ms\tremaining: 18s\n",
            "31:\tlearn: 18.7339230\ttest: 57.6458609\tbest: 57.6458609 (31)\ttotal: 1.02s\tremaining: 18.2s\n",
            "32:\tlearn: 18.6343354\ttest: 57.3912406\tbest: 57.3912406 (32)\ttotal: 1.06s\tremaining: 18.2s\n",
            "33:\tlearn: 18.5285914\ttest: 57.1508833\tbest: 57.1508833 (33)\ttotal: 1.1s\tremaining: 18.3s\n",
            "34:\tlearn: 18.4438839\ttest: 57.0093793\tbest: 57.0093793 (34)\ttotal: 1.13s\tremaining: 18.3s\n",
            "35:\tlearn: 18.3595326\ttest: 56.8077951\tbest: 56.8077951 (35)\ttotal: 1.16s\tremaining: 18.2s\n",
            "36:\tlearn: 18.2780326\ttest: 56.5864925\tbest: 56.5864925 (36)\ttotal: 1.2s\tremaining: 18.3s\n",
            "37:\tlearn: 18.1912072\ttest: 56.4306274\tbest: 56.4306274 (37)\ttotal: 1.23s\tremaining: 18.2s\n",
            "38:\tlearn: 18.1262517\ttest: 56.2773323\tbest: 56.2773323 (38)\ttotal: 1.26s\tremaining: 18.1s\n",
            "39:\tlearn: 18.0834583\ttest: 55.8293333\tbest: 55.8293333 (39)\ttotal: 1.3s\tremaining: 18.3s\n",
            "40:\tlearn: 18.0084531\ttest: 55.5282019\tbest: 55.5282019 (40)\ttotal: 1.34s\tremaining: 18.2s\n",
            "41:\tlearn: 17.9322527\ttest: 55.5546036\tbest: 55.5282019 (40)\ttotal: 1.37s\tremaining: 18.3s\n",
            "Stopped by overfitting detector  (1 iterations wait)\n",
            "\n",
            "bestTest = 55.52820194\n",
            "bestIteration = 40\n",
            "\n",
            "Shrink model to first 41 iterations.\n",
            "Learning rate set to 0.057954\n",
            "0:\tlearn: 28.7483379\ttest: 99.5599832\tbest: 99.5599832 (0)\ttotal: 37.2ms\tremaining: 29.7s\n",
            "1:\tlearn: 28.0669807\ttest: 99.3944039\tbest: 99.3944039 (1)\ttotal: 59.6ms\tremaining: 23.8s\n",
            "2:\tlearn: 27.3705292\ttest: 99.1835492\tbest: 99.1835492 (2)\ttotal: 81.7ms\tremaining: 21.7s\n",
            "3:\tlearn: 26.7293499\ttest: 98.7509283\tbest: 98.7509283 (3)\ttotal: 103ms\tremaining: 20.5s\n",
            "4:\tlearn: 26.0597361\ttest: 96.7461962\tbest: 96.7461962 (4)\ttotal: 124ms\tremaining: 19.8s\n",
            "5:\tlearn: 25.4076755\ttest: 96.1617064\tbest: 96.1617064 (5)\ttotal: 145ms\tremaining: 19.2s\n",
            "6:\tlearn: 24.8309652\ttest: 95.9774297\tbest: 95.9774297 (6)\ttotal: 167ms\tremaining: 18.9s\n",
            "7:\tlearn: 24.3179416\ttest: 95.4782829\tbest: 95.4782829 (7)\ttotal: 188ms\tremaining: 18.6s\n",
            "8:\tlearn: 23.8081640\ttest: 95.2239804\tbest: 95.2239804 (8)\ttotal: 209ms\tremaining: 18.4s\n",
            "9:\tlearn: 23.2707051\ttest: 94.8772624\tbest: 94.8772624 (9)\ttotal: 230ms\tremaining: 18.2s\n",
            "10:\tlearn: 22.7420442\ttest: 94.0450133\tbest: 94.0450133 (10)\ttotal: 253ms\tremaining: 18.1s\n",
            "11:\tlearn: 22.3273010\ttest: 93.9614872\tbest: 93.9614872 (11)\ttotal: 274ms\tremaining: 18s\n",
            "12:\tlearn: 21.8826778\ttest: 93.4368742\tbest: 93.4368742 (12)\ttotal: 303ms\tremaining: 18.3s\n",
            "13:\tlearn: 21.4675470\ttest: 92.9107803\tbest: 92.9107803 (13)\ttotal: 335ms\tremaining: 18.8s\n",
            "14:\tlearn: 21.0966585\ttest: 92.7373632\tbest: 92.7373632 (14)\ttotal: 367ms\tremaining: 19.2s\n",
            "15:\tlearn: 20.7391893\ttest: 92.3411709\tbest: 92.3411709 (15)\ttotal: 394ms\tremaining: 19.3s\n",
            "16:\tlearn: 20.4400560\ttest: 92.2380584\tbest: 92.2380584 (16)\ttotal: 426ms\tremaining: 19.6s\n",
            "17:\tlearn: 20.1926450\ttest: 92.2728403\tbest: 92.2380584 (16)\ttotal: 457ms\tremaining: 19.9s\n",
            "Stopped by overfitting detector  (1 iterations wait)\n",
            "\n",
            "bestTest = 92.2380584\n",
            "bestIteration = 16\n",
            "\n",
            "Shrink model to first 17 iterations.\n",
            "Learning rate set to 0.064601\n",
            "0:\tlearn: 31.9247641\ttest: 93.0636447\tbest: 93.0636447 (0)\ttotal: 42.4ms\tremaining: 33.9s\n",
            "1:\tlearn: 30.9618825\ttest: 91.5804130\tbest: 91.5804130 (1)\ttotal: 70.5ms\tremaining: 28.1s\n",
            "2:\tlearn: 30.1589691\ttest: 90.3263465\tbest: 90.3263465 (2)\ttotal: 100ms\tremaining: 26.6s\n",
            "3:\tlearn: 29.2710739\ttest: 88.2831935\tbest: 88.2831935 (3)\ttotal: 131ms\tremaining: 26.1s\n",
            "4:\tlearn: 28.4558418\ttest: 86.8653559\tbest: 86.8653559 (4)\ttotal: 162ms\tremaining: 25.7s\n",
            "5:\tlearn: 27.7163283\ttest: 86.0514737\tbest: 86.0514737 (5)\ttotal: 195ms\tremaining: 25.8s\n",
            "6:\tlearn: 27.0641565\ttest: 84.6549705\tbest: 84.6549705 (6)\ttotal: 228ms\tremaining: 25.9s\n",
            "7:\tlearn: 26.3898152\ttest: 82.6512557\tbest: 82.6512557 (7)\ttotal: 259ms\tremaining: 25.7s\n",
            "8:\tlearn: 25.8182914\ttest: 81.5039708\tbest: 81.5039708 (8)\ttotal: 291ms\tremaining: 25.5s\n",
            "9:\tlearn: 25.2344300\ttest: 80.1613066\tbest: 80.1613066 (9)\ttotal: 322ms\tremaining: 25.4s\n",
            "10:\tlearn: 24.7178516\ttest: 79.1953100\tbest: 79.1953100 (10)\ttotal: 352ms\tremaining: 25.3s\n",
            "11:\tlearn: 24.2048420\ttest: 77.9356813\tbest: 77.9356813 (11)\ttotal: 383ms\tremaining: 25.2s\n",
            "12:\tlearn: 23.6917808\ttest: 76.1493497\tbest: 76.1493497 (12)\ttotal: 413ms\tremaining: 25s\n",
            "13:\tlearn: 23.2720436\ttest: 74.6035471\tbest: 74.6035471 (13)\ttotal: 443ms\tremaining: 24.9s\n",
            "14:\tlearn: 22.8665399\ttest: 73.6422241\tbest: 73.6422241 (14)\ttotal: 475ms\tremaining: 24.9s\n",
            "15:\tlearn: 22.4291063\ttest: 71.9140900\tbest: 71.9140900 (15)\ttotal: 505ms\tremaining: 24.7s\n",
            "16:\tlearn: 22.0301833\ttest: 70.4525228\tbest: 70.4525228 (16)\ttotal: 534ms\tremaining: 24.6s\n",
            "17:\tlearn: 21.7351483\ttest: 69.4125184\tbest: 69.4125184 (17)\ttotal: 564ms\tremaining: 24.5s\n",
            "18:\tlearn: 21.4173071\ttest: 68.4167126\tbest: 68.4167126 (18)\ttotal: 595ms\tremaining: 24.5s\n",
            "19:\tlearn: 21.1445424\ttest: 67.3709751\tbest: 67.3709751 (19)\ttotal: 625ms\tremaining: 24.4s\n",
            "20:\tlearn: 20.8752516\ttest: 66.7272423\tbest: 66.7272423 (20)\ttotal: 657ms\tremaining: 24.4s\n",
            "21:\tlearn: 20.6145352\ttest: 65.6079997\tbest: 65.6079997 (21)\ttotal: 687ms\tremaining: 24.3s\n",
            "22:\tlearn: 20.3753779\ttest: 65.0685413\tbest: 65.0685413 (22)\ttotal: 716ms\tremaining: 24.2s\n",
            "23:\tlearn: 20.1479298\ttest: 64.2893022\tbest: 64.2893022 (23)\ttotal: 746ms\tremaining: 24.1s\n",
            "24:\tlearn: 19.9423915\ttest: 63.5354578\tbest: 63.5354578 (24)\ttotal: 777ms\tremaining: 24.1s\n",
            "25:\tlearn: 19.7545834\ttest: 62.7800051\tbest: 62.7800051 (25)\ttotal: 807ms\tremaining: 24s\n",
            "26:\tlearn: 19.5725993\ttest: 62.4738226\tbest: 62.4738226 (26)\ttotal: 838ms\tremaining: 24s\n",
            "27:\tlearn: 19.4222005\ttest: 61.8948733\tbest: 61.8948733 (27)\ttotal: 869ms\tremaining: 23.9s\n",
            "28:\tlearn: 19.2453736\ttest: 61.6083473\tbest: 61.6083473 (28)\ttotal: 907ms\tremaining: 24.1s\n",
            "29:\tlearn: 19.0948360\ttest: 60.5848901\tbest: 60.5848901 (29)\ttotal: 940ms\tremaining: 24.1s\n",
            "30:\tlearn: 18.9289781\ttest: 60.3344513\tbest: 60.3344513 (30)\ttotal: 980ms\tremaining: 24.3s\n",
            "31:\tlearn: 18.7851134\ttest: 59.6168476\tbest: 59.6168476 (31)\ttotal: 1.01s\tremaining: 24.3s\n",
            "32:\tlearn: 18.6206104\ttest: 59.2921408\tbest: 59.2921408 (32)\ttotal: 1.04s\tremaining: 24.2s\n",
            "33:\tlearn: 18.4874471\ttest: 58.8956340\tbest: 58.8956340 (33)\ttotal: 1.07s\tremaining: 24.2s\n",
            "34:\tlearn: 18.3717209\ttest: 58.4605428\tbest: 58.4605428 (34)\ttotal: 1.1s\tremaining: 24.2s\n",
            "35:\tlearn: 18.2528941\ttest: 57.7892625\tbest: 57.7892625 (35)\ttotal: 1.14s\tremaining: 24.2s\n",
            "36:\tlearn: 18.1559025\ttest: 57.6714406\tbest: 57.6714406 (36)\ttotal: 1.17s\tremaining: 24.1s\n",
            "37:\tlearn: 18.0539079\ttest: 57.3650386\tbest: 57.3650386 (37)\ttotal: 1.19s\tremaining: 23.9s\n",
            "38:\tlearn: 17.9467943\ttest: 56.9793157\tbest: 56.9793157 (38)\ttotal: 1.22s\tremaining: 23.8s\n",
            "39:\tlearn: 17.8604255\ttest: 56.3827961\tbest: 56.3827961 (39)\ttotal: 1.25s\tremaining: 23.7s\n",
            "40:\tlearn: 17.7623217\ttest: 56.1466229\tbest: 56.1466229 (40)\ttotal: 1.28s\tremaining: 23.6s\n",
            "41:\tlearn: 17.6753202\ttest: 56.0196711\tbest: 56.0196711 (41)\ttotal: 1.3s\tremaining: 23.5s\n",
            "42:\tlearn: 17.5921513\ttest: 56.0442378\tbest: 56.0196711 (41)\ttotal: 1.33s\tremaining: 23.4s\n",
            "Stopped by overfitting detector  (1 iterations wait)\n",
            "\n",
            "bestTest = 56.01967111\n",
            "bestIteration = 41\n",
            "\n",
            "Shrink model to first 42 iterations.\n",
            "Learning rate set to 0.068842\n",
            "0:\tlearn: 32.6980068\ttest: 88.5162476\tbest: 88.5162476 (0)\ttotal: 47.8ms\tremaining: 38.2s\n",
            "1:\tlearn: 31.6902888\ttest: 87.2810007\tbest: 87.2810007 (1)\ttotal: 80.3ms\tremaining: 32s\n",
            "2:\tlearn: 30.6487477\ttest: 85.5501235\tbest: 85.5501235 (2)\ttotal: 111ms\tremaining: 29.4s\n",
            "3:\tlearn: 29.6527698\ttest: 84.4282614\tbest: 84.4282614 (3)\ttotal: 140ms\tremaining: 27.9s\n",
            "4:\tlearn: 28.6998454\ttest: 82.4325802\tbest: 82.4325802 (4)\ttotal: 169ms\tremaining: 26.8s\n",
            "5:\tlearn: 27.9040948\ttest: 81.2126046\tbest: 81.2126046 (5)\ttotal: 198ms\tremaining: 26.1s\n",
            "6:\tlearn: 27.1592532\ttest: 80.1224102\tbest: 80.1224102 (6)\ttotal: 233ms\tremaining: 26.4s\n",
            "7:\tlearn: 26.5011258\ttest: 79.0495305\tbest: 79.0495305 (7)\ttotal: 266ms\tremaining: 26.3s\n",
            "8:\tlearn: 25.8879215\ttest: 78.0578835\tbest: 78.0578835 (8)\ttotal: 302ms\tremaining: 26.5s\n",
            "9:\tlearn: 25.3057345\ttest: 76.7145159\tbest: 76.7145159 (9)\ttotal: 333ms\tremaining: 26.3s\n",
            "10:\tlearn: 24.7487086\ttest: 75.4642425\tbest: 75.4642425 (10)\ttotal: 365ms\tremaining: 26.2s\n",
            "11:\tlearn: 24.2626927\ttest: 74.2049711\tbest: 74.2049711 (11)\ttotal: 396ms\tremaining: 26s\n",
            "12:\tlearn: 23.7535305\ttest: 72.9612826\tbest: 72.9612826 (12)\ttotal: 433ms\tremaining: 26.2s\n",
            "13:\tlearn: 23.3232985\ttest: 71.6792250\tbest: 71.6792250 (13)\ttotal: 467ms\tremaining: 26.2s\n",
            "14:\tlearn: 22.9324769\ttest: 70.9652318\tbest: 70.9652318 (14)\ttotal: 497ms\tremaining: 26s\n",
            "15:\tlearn: 22.5286071\ttest: 69.7280009\tbest: 69.7280009 (15)\ttotal: 526ms\tremaining: 25.8s\n",
            "16:\tlearn: 22.1943704\ttest: 69.0994599\tbest: 69.0994599 (16)\ttotal: 557ms\tremaining: 25.7s\n",
            "17:\tlearn: 21.8622395\ttest: 68.0730440\tbest: 68.0730440 (17)\ttotal: 588ms\tremaining: 25.5s\n",
            "18:\tlearn: 21.5869616\ttest: 67.3017536\tbest: 67.3017536 (18)\ttotal: 618ms\tremaining: 25.4s\n",
            "19:\tlearn: 21.2999326\ttest: 66.8689492\tbest: 66.8689492 (19)\ttotal: 649ms\tremaining: 25.3s\n",
            "20:\tlearn: 21.0615979\ttest: 66.3356086\tbest: 66.3356086 (20)\ttotal: 678ms\tremaining: 25.2s\n",
            "21:\tlearn: 20.8413849\ttest: 65.5876406\tbest: 65.5876406 (21)\ttotal: 709ms\tremaining: 25.1s\n",
            "22:\tlearn: 20.6198356\ttest: 65.1394268\tbest: 65.1394268 (22)\ttotal: 737ms\tremaining: 24.9s\n",
            "23:\tlearn: 20.4275996\ttest: 64.7533613\tbest: 64.7533613 (23)\ttotal: 768ms\tremaining: 24.8s\n",
            "24:\tlearn: 20.2430572\ttest: 64.0055156\tbest: 64.0055156 (24)\ttotal: 797ms\tremaining: 24.7s\n",
            "25:\tlearn: 20.0811917\ttest: 63.3249066\tbest: 63.3249066 (25)\ttotal: 827ms\tremaining: 24.6s\n",
            "26:\tlearn: 19.9386916\ttest: 62.8422432\tbest: 62.8422432 (26)\ttotal: 859ms\tremaining: 24.6s\n",
            "27:\tlearn: 19.7959103\ttest: 62.1717826\tbest: 62.1717826 (27)\ttotal: 890ms\tremaining: 24.6s\n",
            "28:\tlearn: 19.6851860\ttest: 61.9448609\tbest: 61.9448609 (28)\ttotal: 924ms\tremaining: 24.6s\n",
            "29:\tlearn: 19.5747268\ttest: 61.8280401\tbest: 61.8280401 (29)\ttotal: 958ms\tremaining: 24.6s\n",
            "30:\tlearn: 19.4745815\ttest: 61.5876665\tbest: 61.5876665 (30)\ttotal: 991ms\tremaining: 24.6s\n",
            "31:\tlearn: 19.3732315\ttest: 61.1420823\tbest: 61.1420823 (31)\ttotal: 1.03s\tremaining: 24.7s\n",
            "32:\tlearn: 19.2553622\ttest: 60.7462846\tbest: 60.7462846 (32)\ttotal: 1.06s\tremaining: 24.7s\n",
            "33:\tlearn: 19.1652730\ttest: 60.5067312\tbest: 60.5067312 (33)\ttotal: 1.1s\tremaining: 24.7s\n",
            "34:\tlearn: 19.0684377\ttest: 60.3753053\tbest: 60.3753053 (34)\ttotal: 1.13s\tremaining: 24.7s\n",
            "35:\tlearn: 18.9700000\ttest: 60.2836089\tbest: 60.2836089 (35)\ttotal: 1.16s\tremaining: 24.6s\n",
            "36:\tlearn: 18.8422550\ttest: 60.2105636\tbest: 60.2105636 (36)\ttotal: 1.19s\tremaining: 24.6s\n",
            "37:\tlearn: 18.7644282\ttest: 59.8256096\tbest: 59.8256096 (37)\ttotal: 1.23s\tremaining: 24.6s\n",
            "38:\tlearn: 18.6950101\ttest: 59.6201652\tbest: 59.6201652 (38)\ttotal: 1.26s\tremaining: 24.6s\n",
            "39:\tlearn: 18.6332793\ttest: 59.2230646\tbest: 59.2230646 (39)\ttotal: 1.29s\tremaining: 24.6s\n",
            "40:\tlearn: 18.5662228\ttest: 58.6319431\tbest: 58.6319431 (40)\ttotal: 1.33s\tremaining: 24.6s\n",
            "41:\tlearn: 18.4858302\ttest: 58.6376202\tbest: 58.6319431 (40)\ttotal: 1.36s\tremaining: 24.6s\n",
            "Stopped by overfitting detector  (1 iterations wait)\n",
            "\n",
            "bestTest = 58.63194308\n",
            "bestIteration = 40\n",
            "\n",
            "Shrink model to first 41 iterations.\n",
            "Learning rate set to 0.077197\n",
            "0:\tlearn: 28.4094163\ttest: 99.8395156\tbest: 99.8395156 (0)\ttotal: 63.8ms\tremaining: 31.8s\n",
            "1:\tlearn: 27.6164197\ttest: 98.8938408\tbest: 98.8938408 (1)\ttotal: 103ms\tremaining: 25.7s\n",
            "2:\tlearn: 26.6666643\ttest: 98.7061540\tbest: 98.7061540 (2)\ttotal: 140ms\tremaining: 23.3s\n",
            "3:\tlearn: 25.7087391\ttest: 97.7147438\tbest: 97.7147438 (3)\ttotal: 179ms\tremaining: 22.1s\n",
            "4:\tlearn: 25.0031152\ttest: 97.4149877\tbest: 97.4149877 (4)\ttotal: 217ms\tremaining: 21.5s\n",
            "5:\tlearn: 24.2133763\ttest: 96.1495335\tbest: 96.1495335 (5)\ttotal: 256ms\tremaining: 21.1s\n",
            "6:\tlearn: 23.5702882\ttest: 95.9769515\tbest: 95.9769515 (6)\ttotal: 295ms\tremaining: 20.8s\n",
            "7:\tlearn: 22.9372380\ttest: 95.0146933\tbest: 95.0146933 (7)\ttotal: 334ms\tremaining: 20.5s\n",
            "8:\tlearn: 22.3805540\ttest: 94.8743949\tbest: 94.8743949 (8)\ttotal: 371ms\tremaining: 20.2s\n",
            "9:\tlearn: 21.8333654\ttest: 94.1368114\tbest: 94.1368114 (9)\ttotal: 408ms\tremaining: 20s\n",
            "10:\tlearn: 21.3297579\ttest: 93.2892042\tbest: 93.2892042 (10)\ttotal: 445ms\tremaining: 19.8s\n",
            "11:\tlearn: 20.8171495\ttest: 92.5919167\tbest: 92.5919167 (11)\ttotal: 482ms\tremaining: 19.6s\n",
            "12:\tlearn: 20.3951216\ttest: 91.7725269\tbest: 91.7725269 (12)\ttotal: 518ms\tremaining: 19.4s\n",
            "13:\tlearn: 20.0447466\ttest: 91.2694737\tbest: 91.2694737 (13)\ttotal: 555ms\tremaining: 19.3s\n",
            "14:\tlearn: 19.6415741\ttest: 91.1477088\tbest: 91.1477088 (14)\ttotal: 594ms\tremaining: 19.2s\n",
            "15:\tlearn: 19.2318970\ttest: 90.1002335\tbest: 90.1002335 (15)\ttotal: 633ms\tremaining: 19.1s\n",
            "16:\tlearn: 18.8823372\ttest: 89.2345177\tbest: 89.2345177 (16)\ttotal: 672ms\tremaining: 19.1s\n",
            "17:\tlearn: 18.5957274\ttest: 89.0578567\tbest: 89.0578567 (17)\ttotal: 708ms\tremaining: 19s\n",
            "18:\tlearn: 18.2941427\ttest: 88.7238972\tbest: 88.7238972 (18)\ttotal: 746ms\tremaining: 18.9s\n",
            "19:\tlearn: 17.9836556\ttest: 87.7332930\tbest: 87.7332930 (19)\ttotal: 784ms\tremaining: 18.8s\n",
            "20:\tlearn: 17.7650248\ttest: 87.7145349\tbest: 87.7145349 (20)\ttotal: 821ms\tremaining: 18.7s\n",
            "21:\tlearn: 17.5778214\ttest: 87.7227670\tbest: 87.7145349 (20)\ttotal: 860ms\tremaining: 18.7s\n",
            "Stopped by overfitting detector  (1 iterations wait)\n",
            "\n",
            "bestTest = 87.7145349\n",
            "bestIteration = 20\n",
            "\n",
            "Shrink model to first 21 iterations.\n",
            "Learning rate set to 0.08605\n",
            "0:\tlearn: 31.4941565\ttest: 91.9898891\tbest: 91.9898891 (0)\ttotal: 76.2ms\tremaining: 38s\n",
            "1:\tlearn: 30.1120052\ttest: 88.5345819\tbest: 88.5345819 (1)\ttotal: 125ms\tremaining: 31.2s\n",
            "2:\tlearn: 28.9547948\ttest: 86.2612762\tbest: 86.2612762 (2)\ttotal: 171ms\tremaining: 28.4s\n",
            "3:\tlearn: 27.8790264\ttest: 84.3329260\tbest: 84.3329260 (3)\ttotal: 218ms\tremaining: 27s\n",
            "4:\tlearn: 26.9382512\ttest: 82.3943044\tbest: 82.3943044 (4)\ttotal: 265ms\tremaining: 26.2s\n",
            "5:\tlearn: 26.0020309\ttest: 80.6363022\tbest: 80.6363022 (5)\ttotal: 311ms\tremaining: 25.6s\n",
            "6:\tlearn: 25.2210791\ttest: 79.1125534\tbest: 79.1125534 (6)\ttotal: 359ms\tremaining: 25.3s\n",
            "7:\tlearn: 24.4754230\ttest: 77.9515310\tbest: 77.9515310 (7)\ttotal: 406ms\tremaining: 25s\n",
            "8:\tlearn: 23.7599998\ttest: 76.1609685\tbest: 76.1609685 (8)\ttotal: 462ms\tremaining: 25.2s\n",
            "9:\tlearn: 23.1931547\ttest: 75.0482360\tbest: 75.0482360 (9)\ttotal: 513ms\tremaining: 25.1s\n",
            "10:\tlearn: 22.6497962\ttest: 74.4108677\tbest: 74.4108677 (10)\ttotal: 560ms\tremaining: 24.9s\n",
            "11:\tlearn: 22.1008964\ttest: 72.7212624\tbest: 72.7212624 (11)\ttotal: 606ms\tremaining: 24.7s\n",
            "12:\tlearn: 21.6790055\ttest: 71.4617361\tbest: 71.4617361 (12)\ttotal: 655ms\tremaining: 24.5s\n",
            "13:\tlearn: 21.1922753\ttest: 70.7456259\tbest: 70.7456259 (13)\ttotal: 700ms\tremaining: 24.3s\n",
            "14:\tlearn: 20.7951969\ttest: 69.8473141\tbest: 69.8473141 (14)\ttotal: 749ms\tremaining: 24.2s\n",
            "15:\tlearn: 20.3949497\ttest: 68.5148158\tbest: 68.5148158 (15)\ttotal: 797ms\tremaining: 24.1s\n",
            "16:\tlearn: 20.0737588\ttest: 67.5908688\tbest: 67.5908688 (16)\ttotal: 844ms\tremaining: 24s\n",
            "17:\tlearn: 19.7666958\ttest: 66.6648807\tbest: 66.6648807 (17)\ttotal: 889ms\tremaining: 23.8s\n",
            "18:\tlearn: 19.4804168\ttest: 65.9571155\tbest: 65.9571155 (18)\ttotal: 936ms\tremaining: 23.7s\n",
            "19:\tlearn: 19.1775149\ttest: 64.7788814\tbest: 64.7788814 (19)\ttotal: 983ms\tremaining: 23.6s\n",
            "20:\tlearn: 18.9405346\ttest: 64.2948404\tbest: 64.2948404 (20)\ttotal: 1.03s\tremaining: 23.5s\n",
            "21:\tlearn: 18.7171847\ttest: 63.8165002\tbest: 63.8165002 (21)\ttotal: 1.08s\tremaining: 23.4s\n",
            "22:\tlearn: 18.4829110\ttest: 63.5441172\tbest: 63.5441172 (22)\ttotal: 1.13s\tremaining: 23.3s\n",
            "23:\tlearn: 18.3068104\ttest: 63.1356589\tbest: 63.1356589 (23)\ttotal: 1.18s\tremaining: 23.3s\n",
            "24:\tlearn: 18.1096454\ttest: 62.3538715\tbest: 62.3538715 (24)\ttotal: 1.22s\tremaining: 23.2s\n",
            "25:\tlearn: 17.9224889\ttest: 62.1509252\tbest: 62.1509252 (25)\ttotal: 1.27s\tremaining: 23.1s\n",
            "26:\tlearn: 17.7656028\ttest: 61.5426600\tbest: 61.5426600 (26)\ttotal: 1.31s\tremaining: 23.1s\n",
            "27:\tlearn: 17.6447442\ttest: 61.0847964\tbest: 61.0847964 (27)\ttotal: 1.37s\tremaining: 23s\n",
            "28:\tlearn: 17.4932380\ttest: 60.7907951\tbest: 60.7907951 (28)\ttotal: 1.42s\tremaining: 23s\n",
            "29:\tlearn: 17.3689741\ttest: 60.3253593\tbest: 60.3253593 (29)\ttotal: 1.47s\tremaining: 23s\n",
            "30:\tlearn: 17.2483649\ttest: 60.1090316\tbest: 60.1090316 (30)\ttotal: 1.52s\tremaining: 23s\n",
            "31:\tlearn: 17.1652727\ttest: 60.0877217\tbest: 60.0877217 (31)\ttotal: 1.57s\tremaining: 23s\n",
            "32:\tlearn: 17.0503275\ttest: 59.8624136\tbest: 59.8624136 (32)\ttotal: 1.62s\tremaining: 22.9s\n",
            "33:\tlearn: 16.9343446\ttest: 59.2169466\tbest: 59.2169466 (33)\ttotal: 1.67s\tremaining: 22.9s\n",
            "34:\tlearn: 16.8234843\ttest: 59.1757731\tbest: 59.1757731 (34)\ttotal: 1.72s\tremaining: 22.8s\n",
            "35:\tlearn: 16.6997267\ttest: 59.1749485\tbest: 59.1749485 (35)\ttotal: 1.77s\tremaining: 22.8s\n",
            "36:\tlearn: 16.6254362\ttest: 58.8385009\tbest: 58.8385009 (36)\ttotal: 1.82s\tremaining: 22.8s\n",
            "37:\tlearn: 16.5234469\ttest: 58.5912833\tbest: 58.5912833 (37)\ttotal: 1.88s\tremaining: 22.8s\n",
            "38:\tlearn: 16.4193753\ttest: 58.5676450\tbest: 58.5676450 (38)\ttotal: 1.93s\tremaining: 22.9s\n",
            "39:\tlearn: 16.3332472\ttest: 58.5140872\tbest: 58.5140872 (39)\ttotal: 1.99s\tremaining: 22.8s\n",
            "40:\tlearn: 16.2589142\ttest: 58.2779989\tbest: 58.2779989 (40)\ttotal: 2.03s\tremaining: 22.8s\n",
            "41:\tlearn: 16.1830256\ttest: 58.3334644\tbest: 58.2779989 (40)\ttotal: 2.09s\tremaining: 22.8s\n",
            "Stopped by overfitting detector  (1 iterations wait)\n",
            "\n",
            "bestTest = 58.27799886\n",
            "bestIteration = 40\n",
            "\n",
            "Shrink model to first 41 iterations.\n",
            "Learning rate set to 0.091699\n",
            "0:\tlearn: 32.2868145\ttest: 87.8184301\tbest: 87.8184301 (0)\ttotal: 105ms\tremaining: 52.4s\n",
            "1:\tlearn: 30.7792880\ttest: 84.9787267\tbest: 84.9787267 (1)\ttotal: 172ms\tremaining: 42.9s\n",
            "2:\tlearn: 29.4265444\ttest: 82.4191982\tbest: 82.4191982 (2)\ttotal: 227ms\tremaining: 37.6s\n",
            "3:\tlearn: 28.2042414\ttest: 79.8172939\tbest: 79.8172939 (3)\ttotal: 284ms\tremaining: 35.2s\n",
            "4:\tlearn: 27.1730639\ttest: 78.0997336\tbest: 78.0997336 (4)\ttotal: 342ms\tremaining: 33.9s\n",
            "5:\tlearn: 26.1644051\ttest: 76.5375768\tbest: 76.5375768 (5)\ttotal: 404ms\tremaining: 33.3s\n",
            "6:\tlearn: 25.3239169\ttest: 74.3592325\tbest: 74.3592325 (6)\ttotal: 484ms\tremaining: 34.1s\n",
            "7:\tlearn: 24.6005517\ttest: 73.3538812\tbest: 73.3538812 (7)\ttotal: 557ms\tremaining: 34.3s\n",
            "8:\tlearn: 23.9201618\ttest: 72.1576480\tbest: 72.1576480 (8)\ttotal: 633ms\tremaining: 34.5s\n",
            "9:\tlearn: 23.2920066\ttest: 70.6981627\tbest: 70.6981627 (9)\ttotal: 701ms\tremaining: 34.3s\n",
            "10:\tlearn: 22.6973409\ttest: 68.9222737\tbest: 68.9222737 (10)\ttotal: 774ms\tremaining: 34.4s\n",
            "11:\tlearn: 22.1942061\ttest: 67.7310597\tbest: 67.7310597 (11)\ttotal: 856ms\tremaining: 34.8s\n",
            "12:\tlearn: 21.7261246\ttest: 66.7732138\tbest: 66.7732138 (12)\ttotal: 912ms\tremaining: 34.2s\n",
            "13:\tlearn: 21.3196441\ttest: 66.3224206\tbest: 66.3224206 (13)\ttotal: 979ms\tremaining: 34s\n",
            "14:\tlearn: 20.9636878\ttest: 65.5062214\tbest: 65.5062214 (14)\ttotal: 1.04s\tremaining: 33.7s\n",
            "15:\tlearn: 20.6197076\ttest: 64.4988583\tbest: 64.4988583 (15)\ttotal: 1.1s\tremaining: 33.3s\n",
            "16:\tlearn: 20.3338309\ttest: 63.8105222\tbest: 63.8105222 (16)\ttotal: 1.17s\tremaining: 33.2s\n",
            "17:\tlearn: 20.0670865\ttest: 63.4169716\tbest: 63.4169716 (17)\ttotal: 1.22s\tremaining: 32.7s\n",
            "18:\tlearn: 19.8193912\ttest: 63.1341938\tbest: 63.1341938 (18)\ttotal: 1.29s\tremaining: 32.6s\n",
            "19:\tlearn: 19.5899789\ttest: 62.4659528\tbest: 62.4659528 (19)\ttotal: 1.35s\tremaining: 32.4s\n",
            "20:\tlearn: 19.3798662\ttest: 61.9676880\tbest: 61.9676880 (20)\ttotal: 1.42s\tremaining: 32.4s\n",
            "21:\tlearn: 19.2252626\ttest: 61.3704732\tbest: 61.3704732 (21)\ttotal: 1.48s\tremaining: 32.2s\n",
            "22:\tlearn: 19.0501022\ttest: 60.3731621\tbest: 60.3731621 (22)\ttotal: 1.54s\tremaining: 32.1s\n",
            "23:\tlearn: 18.8926158\ttest: 60.0089238\tbest: 60.0089238 (23)\ttotal: 1.61s\tremaining: 31.9s\n",
            "24:\tlearn: 18.7499811\ttest: 59.5573507\tbest: 59.5573507 (24)\ttotal: 1.67s\tremaining: 31.7s\n",
            "25:\tlearn: 18.6082183\ttest: 59.5258728\tbest: 59.5258728 (25)\ttotal: 1.73s\tremaining: 31.5s\n",
            "26:\tlearn: 18.4673369\ttest: 58.9575991\tbest: 58.9575991 (26)\ttotal: 1.78s\tremaining: 31.3s\n",
            "27:\tlearn: 18.3527401\ttest: 58.6730058\tbest: 58.6730058 (27)\ttotal: 1.85s\tremaining: 31.2s\n",
            "28:\tlearn: 18.2378472\ttest: 58.6581104\tbest: 58.6581104 (28)\ttotal: 1.91s\tremaining: 31.1s\n",
            "29:\tlearn: 18.1067964\ttest: 58.4852479\tbest: 58.4852479 (29)\ttotal: 1.97s\tremaining: 30.9s\n",
            "30:\tlearn: 18.0191036\ttest: 58.2595640\tbest: 58.2595640 (30)\ttotal: 2.05s\tremaining: 31s\n",
            "31:\tlearn: 17.9033948\ttest: 57.8802902\tbest: 57.8802902 (31)\ttotal: 2.11s\tremaining: 30.8s\n",
            "32:\tlearn: 17.8248068\ttest: 57.6389194\tbest: 57.6389194 (32)\ttotal: 2.16s\tremaining: 30.6s\n",
            "33:\tlearn: 17.7701499\ttest: 57.5505101\tbest: 57.5505101 (33)\ttotal: 2.22s\tremaining: 30.4s\n",
            "34:\tlearn: 17.7050117\ttest: 57.4556700\tbest: 57.4556700 (34)\ttotal: 2.28s\tremaining: 30.3s\n",
            "35:\tlearn: 17.6474352\ttest: 57.1277557\tbest: 57.1277557 (35)\ttotal: 2.36s\tremaining: 30.4s\n",
            "36:\tlearn: 17.5856816\ttest: 56.9510208\tbest: 56.9510208 (36)\ttotal: 2.44s\tremaining: 30.5s\n",
            "37:\tlearn: 17.5009502\ttest: 56.7968356\tbest: 56.7968356 (37)\ttotal: 2.49s\tremaining: 30.3s\n",
            "38:\tlearn: 17.4331909\ttest: 56.7531182\tbest: 56.7531182 (38)\ttotal: 2.54s\tremaining: 30s\n",
            "39:\tlearn: 17.3567128\ttest: 56.6798630\tbest: 56.6798630 (39)\ttotal: 2.59s\tremaining: 29.8s\n",
            "40:\tlearn: 17.2568007\ttest: 56.3723560\tbest: 56.3723560 (40)\ttotal: 2.64s\tremaining: 29.6s\n",
            "41:\tlearn: 17.1980657\ttest: 56.3340585\tbest: 56.3340585 (41)\ttotal: 2.69s\tremaining: 29.3s\n",
            "42:\tlearn: 17.1318058\ttest: 56.3490748\tbest: 56.3340585 (41)\ttotal: 2.74s\tremaining: 29.2s\n",
            "Stopped by overfitting detector  (1 iterations wait)\n",
            "\n",
            "bestTest = 56.33405852\n",
            "bestIteration = 41\n",
            "\n",
            "Shrink model to first 42 iterations.\n",
            "Learning rate set to 0.069071\n",
            "0:\tlearn: 28.5313788\ttest: 99.9077023\tbest: 99.9077023 (0)\ttotal: 62.7ms\tremaining: 37.5s\n",
            "1:\tlearn: 27.8143882\ttest: 99.0590592\tbest: 99.0590592 (1)\ttotal: 105ms\tremaining: 31.3s\n",
            "2:\tlearn: 26.9493875\ttest: 98.8882546\tbest: 98.8882546 (2)\ttotal: 158ms\tremaining: 31.4s\n",
            "3:\tlearn: 26.0691309\ttest: 97.9859516\tbest: 97.9859516 (3)\ttotal: 198ms\tremaining: 29.5s\n",
            "4:\tlearn: 25.4146465\ttest: 97.7109251\tbest: 97.7109251 (4)\ttotal: 237ms\tremaining: 28.2s\n",
            "5:\tlearn: 24.7005229\ttest: 97.1929551\tbest: 97.1929551 (5)\ttotal: 297ms\tremaining: 29.4s\n",
            "6:\tlearn: 24.0971366\ttest: 97.0357023\tbest: 97.0357023 (6)\ttotal: 355ms\tremaining: 30.1s\n",
            "7:\tlearn: 23.4926355\ttest: 96.1444211\tbest: 96.1444211 (7)\ttotal: 394ms\tremaining: 29.2s\n",
            "8:\tlearn: 22.9620914\ttest: 96.0000553\tbest: 96.0000553 (8)\ttotal: 433ms\tremaining: 28.4s\n",
            "9:\tlearn: 22.4280120\ttest: 95.3094289\tbest: 95.3094289 (9)\ttotal: 475ms\tremaining: 28s\n",
            "10:\tlearn: 21.8835072\ttest: 95.0252751\tbest: 95.0252751 (10)\ttotal: 514ms\tremaining: 27.5s\n",
            "11:\tlearn: 21.4050490\ttest: 94.7476098\tbest: 94.7476098 (11)\ttotal: 562ms\tremaining: 27.5s\n",
            "12:\tlearn: 21.0264055\ttest: 94.5559382\tbest: 94.5559382 (12)\ttotal: 604ms\tremaining: 27.3s\n",
            "13:\tlearn: 20.6458460\ttest: 94.4650009\tbest: 94.4650009 (13)\ttotal: 644ms\tremaining: 26.9s\n",
            "14:\tlearn: 20.2326482\ttest: 94.2533059\tbest: 94.2533059 (14)\ttotal: 685ms\tremaining: 26.7s\n",
            "15:\tlearn: 19.8033271\ttest: 92.3996769\tbest: 92.3996769 (15)\ttotal: 731ms\tremaining: 26.7s\n",
            "16:\tlearn: 19.4479483\ttest: 91.1263964\tbest: 91.1263964 (16)\ttotal: 771ms\tremaining: 26.4s\n",
            "17:\tlearn: 19.1491082\ttest: 91.0287537\tbest: 91.0287537 (17)\ttotal: 811ms\tremaining: 26.2s\n",
            "18:\tlearn: 18.8345802\ttest: 90.6996379\tbest: 90.6996379 (18)\ttotal: 858ms\tremaining: 26.2s\n",
            "19:\tlearn: 18.5090104\ttest: 89.1884878\tbest: 89.1884878 (19)\ttotal: 904ms\tremaining: 26.2s\n",
            "20:\tlearn: 18.2469935\ttest: 88.9921102\tbest: 88.9921102 (20)\ttotal: 969ms\tremaining: 26.7s\n",
            "21:\tlearn: 18.0241210\ttest: 88.9837042\tbest: 88.9837042 (21)\ttotal: 1.03s\tremaining: 27.2s\n",
            "22:\tlearn: 17.7821978\ttest: 88.3774558\tbest: 88.3774558 (22)\ttotal: 1.07s\tremaining: 26.9s\n",
            "23:\tlearn: 17.5998573\ttest: 88.3262153\tbest: 88.3262153 (23)\ttotal: 1.11s\tremaining: 26.7s\n",
            "24:\tlearn: 17.3043353\ttest: 88.3335273\tbest: 88.3262153 (23)\ttotal: 1.15s\tremaining: 26.5s\n",
            "Stopped by overfitting detector  (1 iterations wait)\n",
            "\n",
            "bestTest = 88.32621525\n",
            "bestIteration = 23\n",
            "\n",
            "Shrink model to first 24 iterations.\n",
            "Learning rate set to 0.076993\n",
            "0:\tlearn: 31.6534265\ttest: 92.3232128\tbest: 92.3232128 (0)\ttotal: 80.9ms\tremaining: 48.5s\n",
            "1:\tlearn: 30.4001692\ttest: 89.2063247\tbest: 89.2063247 (1)\ttotal: 133ms\tremaining: 39.9s\n",
            "2:\tlearn: 29.2618517\ttest: 87.7461467\tbest: 87.7461467 (2)\ttotal: 182ms\tremaining: 36.2s\n",
            "3:\tlearn: 28.3075275\ttest: 85.9747558\tbest: 85.9747558 (3)\ttotal: 238ms\tremaining: 35.5s\n",
            "4:\tlearn: 27.3982087\ttest: 84.2236077\tbest: 84.2236077 (4)\ttotal: 290ms\tremaining: 34.5s\n",
            "5:\tlearn: 26.5426818\ttest: 82.7823583\tbest: 82.7823583 (5)\ttotal: 340ms\tremaining: 33.7s\n",
            "6:\tlearn: 25.8138524\ttest: 81.4196535\tbest: 81.4196535 (6)\ttotal: 391ms\tremaining: 33.1s\n",
            "7:\tlearn: 25.1089820\ttest: 80.1413573\tbest: 80.1413573 (7)\ttotal: 440ms\tremaining: 32.6s\n",
            "8:\tlearn: 24.4181406\ttest: 78.4040796\tbest: 78.4040796 (8)\ttotal: 487ms\tremaining: 32s\n",
            "9:\tlearn: 23.8676723\ttest: 77.3468693\tbest: 77.3468693 (9)\ttotal: 534ms\tremaining: 31.5s\n",
            "10:\tlearn: 23.2845497\ttest: 76.0240903\tbest: 76.0240903 (10)\ttotal: 579ms\tremaining: 31s\n",
            "11:\tlearn: 22.7454216\ttest: 74.3930026\tbest: 74.3930026 (11)\ttotal: 631ms\tremaining: 30.9s\n",
            "12:\tlearn: 22.2428922\ttest: 72.3439252\tbest: 72.3439252 (12)\ttotal: 703ms\tremaining: 31.8s\n",
            "13:\tlearn: 21.8369103\ttest: 71.6540847\tbest: 71.6540847 (13)\ttotal: 760ms\tremaining: 31.8s\n",
            "14:\tlearn: 21.4287298\ttest: 70.5216227\tbest: 70.5216227 (14)\ttotal: 809ms\tremaining: 31.5s\n",
            "15:\tlearn: 21.0116247\ttest: 69.0979833\tbest: 69.0979833 (15)\ttotal: 857ms\tremaining: 31.3s\n",
            "16:\tlearn: 20.6760841\ttest: 68.7585001\tbest: 68.7585001 (16)\ttotal: 902ms\tremaining: 30.9s\n",
            "17:\tlearn: 20.3347538\ttest: 67.9514175\tbest: 67.9514175 (17)\ttotal: 947ms\tremaining: 30.6s\n",
            "18:\tlearn: 20.0078381\ttest: 66.7110786\tbest: 66.7110786 (18)\ttotal: 994ms\tremaining: 30.4s\n",
            "19:\tlearn: 19.7063894\ttest: 65.4373398\tbest: 65.4373398 (19)\ttotal: 1.04s\tremaining: 30.2s\n",
            "20:\tlearn: 19.4503037\ttest: 65.0887791\tbest: 65.0887791 (20)\ttotal: 1.08s\tremaining: 29.9s\n",
            "21:\tlearn: 19.2160302\ttest: 63.8940025\tbest: 63.8940025 (21)\ttotal: 1.13s\tremaining: 29.7s\n",
            "22:\tlearn: 19.0133899\ttest: 63.3828797\tbest: 63.3828797 (22)\ttotal: 1.18s\tremaining: 29.5s\n",
            "23:\tlearn: 18.8158491\ttest: 62.7634662\tbest: 62.7634662 (23)\ttotal: 1.23s\tremaining: 29.4s\n",
            "24:\tlearn: 18.6203783\ttest: 61.9540278\tbest: 61.9540278 (24)\ttotal: 1.27s\tremaining: 29.2s\n",
            "25:\tlearn: 18.4539036\ttest: 61.0746982\tbest: 61.0746982 (25)\ttotal: 1.32s\tremaining: 29.1s\n",
            "26:\tlearn: 18.2689433\ttest: 60.5139914\tbest: 60.5139914 (26)\ttotal: 1.36s\tremaining: 28.9s\n",
            "27:\tlearn: 18.1242580\ttest: 60.1020504\tbest: 60.1020504 (27)\ttotal: 1.41s\tremaining: 28.9s\n",
            "28:\tlearn: 17.9841827\ttest: 59.8473436\tbest: 59.8473436 (28)\ttotal: 1.46s\tremaining: 28.8s\n",
            "29:\tlearn: 17.8166894\ttest: 59.3849863\tbest: 59.3849863 (29)\ttotal: 1.51s\tremaining: 28.7s\n",
            "30:\tlearn: 17.7088653\ttest: 59.2920656\tbest: 59.2920656 (30)\ttotal: 1.56s\tremaining: 28.7s\n",
            "31:\tlearn: 17.5495525\ttest: 59.0129356\tbest: 59.0129356 (31)\ttotal: 1.61s\tremaining: 28.5s\n",
            "32:\tlearn: 17.3999008\ttest: 58.4465132\tbest: 58.4465132 (32)\ttotal: 1.66s\tremaining: 28.5s\n",
            "33:\tlearn: 17.2867464\ttest: 57.9244188\tbest: 57.9244188 (33)\ttotal: 1.71s\tremaining: 28.5s\n",
            "34:\tlearn: 17.1931947\ttest: 57.6881947\tbest: 57.6881947 (34)\ttotal: 1.76s\tremaining: 28.4s\n",
            "35:\tlearn: 17.1117268\ttest: 57.5179901\tbest: 57.5179901 (35)\ttotal: 1.8s\tremaining: 28.3s\n",
            "36:\tlearn: 17.0283653\ttest: 57.0348181\tbest: 57.0348181 (36)\ttotal: 1.85s\tremaining: 28.2s\n",
            "37:\tlearn: 16.9183389\ttest: 56.9203245\tbest: 56.9203245 (37)\ttotal: 1.9s\tremaining: 28.1s\n",
            "38:\tlearn: 16.8227380\ttest: 56.9605585\tbest: 56.9203245 (37)\ttotal: 1.95s\tremaining: 28s\n",
            "Stopped by overfitting detector  (1 iterations wait)\n",
            "\n",
            "bestTest = 56.92032451\n",
            "bestIteration = 37\n",
            "\n",
            "Shrink model to first 38 iterations.\n",
            "Learning rate set to 0.082047\n",
            "0:\tlearn: 32.4607800\ttest: 88.1179378\tbest: 88.1179378 (0)\ttotal: 94.7ms\tremaining: 56.7s\n",
            "1:\tlearn: 31.0936579\ttest: 85.5535258\tbest: 85.5535258 (1)\ttotal: 147ms\tremaining: 44s\n",
            "2:\tlearn: 29.8241383\ttest: 83.4098201\tbest: 83.4098201 (2)\ttotal: 200ms\tremaining: 39.7s\n",
            "3:\tlearn: 28.7081268\ttest: 81.7629457\tbest: 81.7629457 (3)\ttotal: 254ms\tremaining: 37.8s\n",
            "4:\tlearn: 27.7805856\ttest: 79.9171599\tbest: 79.9171599 (4)\ttotal: 306ms\tremaining: 36.4s\n",
            "5:\tlearn: 26.8439563\ttest: 78.0146702\tbest: 78.0146702 (5)\ttotal: 360ms\tremaining: 35.7s\n",
            "6:\tlearn: 26.0523058\ttest: 76.3359904\tbest: 76.3359904 (6)\ttotal: 413ms\tremaining: 35s\n",
            "7:\tlearn: 25.3163130\ttest: 75.2387794\tbest: 75.2387794 (7)\ttotal: 463ms\tremaining: 34.3s\n",
            "8:\tlearn: 24.6132494\ttest: 74.1203412\tbest: 74.1203412 (8)\ttotal: 516ms\tremaining: 33.9s\n",
            "9:\tlearn: 23.9922595\ttest: 72.8917184\tbest: 72.8917184 (9)\ttotal: 567ms\tremaining: 33.5s\n",
            "10:\tlearn: 23.4208572\ttest: 71.7167886\tbest: 71.7167886 (10)\ttotal: 618ms\tremaining: 33.1s\n",
            "11:\tlearn: 22.8814152\ttest: 70.5041720\tbest: 70.5041720 (11)\ttotal: 677ms\tremaining: 33.2s\n",
            "12:\tlearn: 22.4445231\ttest: 69.3313365\tbest: 69.3313365 (12)\ttotal: 730ms\tremaining: 33s\n",
            "13:\tlearn: 22.0357900\ttest: 68.4786986\tbest: 68.4786986 (13)\ttotal: 785ms\tremaining: 32.9s\n",
            "14:\tlearn: 21.6410431\ttest: 67.6336589\tbest: 67.6336589 (14)\ttotal: 838ms\tremaining: 32.7s\n",
            "15:\tlearn: 21.2680897\ttest: 66.4521327\tbest: 66.4521327 (15)\ttotal: 889ms\tremaining: 32.5s\n",
            "16:\tlearn: 20.9520066\ttest: 65.7491677\tbest: 65.7491677 (16)\ttotal: 941ms\tremaining: 32.3s\n",
            "17:\tlearn: 20.6777150\ttest: 65.2802367\tbest: 65.2802367 (17)\ttotal: 995ms\tremaining: 32.2s\n",
            "18:\tlearn: 20.4027868\ttest: 64.9080593\tbest: 64.9080593 (18)\ttotal: 1.05s\tremaining: 32s\n",
            "19:\tlearn: 20.1592792\ttest: 63.8495192\tbest: 63.8495192 (19)\ttotal: 1.1s\tremaining: 32s\n",
            "20:\tlearn: 19.9147358\ttest: 63.2794762\tbest: 63.2794762 (20)\ttotal: 1.16s\tremaining: 31.9s\n",
            "21:\tlearn: 19.7221035\ttest: 62.9171302\tbest: 62.9171302 (21)\ttotal: 1.21s\tremaining: 31.8s\n",
            "22:\tlearn: 19.5560779\ttest: 62.0956237\tbest: 62.0956237 (22)\ttotal: 1.26s\tremaining: 31.7s\n",
            "23:\tlearn: 19.3824389\ttest: 61.4601273\tbest: 61.4601273 (23)\ttotal: 1.32s\tremaining: 31.6s\n",
            "24:\tlearn: 19.2087626\ttest: 60.7759874\tbest: 60.7759874 (24)\ttotal: 1.37s\tremaining: 31.6s\n",
            "25:\tlearn: 19.0335252\ttest: 60.4381395\tbest: 60.4381395 (25)\ttotal: 1.44s\tremaining: 31.7s\n",
            "26:\tlearn: 18.8732563\ttest: 59.9184549\tbest: 59.9184549 (26)\ttotal: 1.5s\tremaining: 31.9s\n",
            "27:\tlearn: 18.7612522\ttest: 59.7649132\tbest: 59.7649132 (27)\ttotal: 1.56s\tremaining: 31.9s\n",
            "28:\tlearn: 18.6337146\ttest: 59.6706048\tbest: 59.6706048 (28)\ttotal: 1.62s\tremaining: 31.9s\n",
            "29:\tlearn: 18.4991183\ttest: 59.4595001\tbest: 59.4595001 (29)\ttotal: 1.68s\tremaining: 31.9s\n",
            "30:\tlearn: 18.3870295\ttest: 59.0410574\tbest: 59.0410574 (30)\ttotal: 1.74s\tremaining: 32s\n",
            "31:\tlearn: 18.2749302\ttest: 58.8460514\tbest: 58.8460514 (31)\ttotal: 1.81s\tremaining: 32.1s\n",
            "32:\tlearn: 18.1921308\ttest: 58.5896749\tbest: 58.5896749 (32)\ttotal: 1.88s\tremaining: 32.4s\n",
            "33:\tlearn: 18.1090803\ttest: 58.4810947\tbest: 58.4810947 (33)\ttotal: 1.95s\tremaining: 32.5s\n",
            "34:\tlearn: 18.0202468\ttest: 58.3793600\tbest: 58.3793600 (34)\ttotal: 2.01s\tremaining: 32.5s\n",
            "35:\tlearn: 17.9334308\ttest: 58.1292022\tbest: 58.1292022 (35)\ttotal: 2.06s\tremaining: 32.4s\n",
            "36:\tlearn: 17.8733181\ttest: 57.9942429\tbest: 57.9942429 (36)\ttotal: 2.12s\tremaining: 32.2s\n",
            "37:\tlearn: 17.7676739\ttest: 57.8303421\tbest: 57.8303421 (37)\ttotal: 2.17s\tremaining: 32.1s\n",
            "38:\tlearn: 17.6901378\ttest: 57.8413193\tbest: 57.8303421 (37)\ttotal: 2.22s\tremaining: 32s\n",
            "Stopped by overfitting detector  (1 iterations wait)\n",
            "\n",
            "bestTest = 57.83034214\n",
            "bestIteration = 37\n",
            "\n",
            "Shrink model to first 38 iterations.\n",
            "Learning rate set to 0.057954\n",
            "0:\tlearn: 28.6989150\ttest: 100.0012982\tbest: 100.0012982 (0)\ttotal: 65.5ms\tremaining: 52.4s\n",
            "1:\tlearn: 28.0887460\ttest: 99.2863605\tbest: 99.2863605 (1)\ttotal: 111ms\tremaining: 44.4s\n",
            "2:\tlearn: 27.3453571\ttest: 99.1397251\tbest: 99.1397251 (2)\ttotal: 149ms\tremaining: 39.6s\n",
            "3:\tlearn: 26.5897183\ttest: 98.4814151\tbest: 98.4814151 (3)\ttotal: 188ms\tremaining: 37.5s\n",
            "4:\tlearn: 25.9888900\ttest: 98.1842945\tbest: 98.1842945 (4)\ttotal: 228ms\tremaining: 36.2s\n",
            "5:\tlearn: 25.3373671\ttest: 97.1938377\tbest: 97.1938377 (5)\ttotal: 266ms\tremaining: 35.3s\n",
            "6:\tlearn: 24.7997078\ttest: 97.0526328\tbest: 97.0526328 (6)\ttotal: 303ms\tremaining: 34.4s\n",
            "7:\tlearn: 24.2505952\ttest: 96.2697263\tbest: 96.2697263 (7)\ttotal: 344ms\tremaining: 34s\n",
            "8:\tlearn: 23.7875740\ttest: 96.0621412\tbest: 96.0621412 (8)\ttotal: 384ms\tremaining: 33.8s\n",
            "9:\tlearn: 23.3120386\ttest: 94.7928760\tbest: 94.7928760 (9)\ttotal: 424ms\tremaining: 33.5s\n",
            "10:\tlearn: 22.8750923\ttest: 94.1642283\tbest: 94.1642283 (10)\ttotal: 465ms\tremaining: 33.4s\n",
            "11:\tlearn: 22.4220664\ttest: 93.9130622\tbest: 93.9130622 (11)\ttotal: 504ms\tremaining: 33.1s\n",
            "12:\tlearn: 22.0812945\ttest: 93.8646876\tbest: 93.8646876 (12)\ttotal: 544ms\tremaining: 32.9s\n",
            "13:\tlearn: 21.6690396\ttest: 93.6601286\tbest: 93.6601286 (13)\ttotal: 589ms\tremaining: 33.1s\n",
            "14:\tlearn: 21.3235224\ttest: 93.3159564\tbest: 93.3159564 (14)\ttotal: 628ms\tremaining: 32.9s\n",
            "15:\tlearn: 20.9475315\ttest: 92.4154073\tbest: 92.4154073 (15)\ttotal: 669ms\tremaining: 32.8s\n",
            "16:\tlearn: 20.5851683\ttest: 92.1626284\tbest: 92.1626284 (16)\ttotal: 718ms\tremaining: 33.1s\n",
            "17:\tlearn: 20.2752165\ttest: 92.0003374\tbest: 92.0003374 (17)\ttotal: 763ms\tremaining: 33.1s\n",
            "18:\tlearn: 19.9647405\ttest: 91.5377573\tbest: 91.5377573 (18)\ttotal: 802ms\tremaining: 33s\n",
            "19:\tlearn: 19.6461191\ttest: 90.5237914\tbest: 90.5237914 (19)\ttotal: 844ms\tremaining: 32.9s\n",
            "20:\tlearn: 19.3627640\ttest: 90.3328650\tbest: 90.3328650 (20)\ttotal: 884ms\tremaining: 32.8s\n",
            "21:\tlearn: 19.1277674\ttest: 90.0024919\tbest: 90.0024919 (21)\ttotal: 928ms\tremaining: 32.8s\n",
            "22:\tlearn: 18.8589951\ttest: 89.9205866\tbest: 89.9205866 (22)\ttotal: 973ms\tremaining: 32.9s\n",
            "23:\tlearn: 18.6524953\ttest: 89.7642070\tbest: 89.7642070 (23)\ttotal: 1.01s\tremaining: 32.8s\n",
            "24:\tlearn: 18.4465073\ttest: 89.5343450\tbest: 89.5343450 (24)\ttotal: 1.05s\tremaining: 32.7s\n",
            "25:\tlearn: 18.2558177\ttest: 89.5111152\tbest: 89.5111152 (25)\ttotal: 1.09s\tremaining: 32.6s\n",
            "26:\tlearn: 18.0833394\ttest: 89.1835545\tbest: 89.1835545 (26)\ttotal: 1.13s\tremaining: 32.5s\n",
            "27:\tlearn: 17.8723370\ttest: 88.5331906\tbest: 88.5331906 (27)\ttotal: 1.17s\tremaining: 32.3s\n",
            "28:\tlearn: 17.6750135\ttest: 88.5192821\tbest: 88.5192821 (28)\ttotal: 1.21s\tremaining: 32.3s\n",
            "29:\tlearn: 17.4891893\ttest: 88.3192634\tbest: 88.3192634 (29)\ttotal: 1.26s\tremaining: 32.2s\n",
            "30:\tlearn: 17.2881722\ttest: 87.6718363\tbest: 87.6718363 (30)\ttotal: 1.3s\tremaining: 32.2s\n",
            "31:\tlearn: 17.1179787\ttest: 87.4908532\tbest: 87.4908532 (31)\ttotal: 1.34s\tremaining: 32.1s\n",
            "32:\tlearn: 16.9410196\ttest: 87.5349761\tbest: 87.4908532 (31)\ttotal: 1.38s\tremaining: 32s\n",
            "Stopped by overfitting detector  (1 iterations wait)\n",
            "\n",
            "bestTest = 87.49085315\n",
            "bestIteration = 31\n",
            "\n",
            "Shrink model to first 32 iterations.\n",
            "Learning rate set to 0.064601\n",
            "0:\tlearn: 31.8724636\ttest: 92.7799655\tbest: 92.7799655 (0)\ttotal: 81.3ms\tremaining: 1m 4s\n",
            "1:\tlearn: 30.8018845\ttest: 90.1357389\tbest: 90.1357389 (1)\ttotal: 129ms\tremaining: 51.4s\n",
            "2:\tlearn: 29.8082109\ttest: 88.0867228\tbest: 88.0867228 (2)\ttotal: 177ms\tremaining: 46.9s\n",
            "3:\tlearn: 28.9159570\ttest: 86.7512934\tbest: 86.7512934 (3)\ttotal: 228ms\tremaining: 45.4s\n",
            "4:\tlearn: 28.1176217\ttest: 85.5505264\tbest: 85.5505264 (4)\ttotal: 283ms\tremaining: 45s\n",
            "5:\tlearn: 27.3678721\ttest: 84.4527509\tbest: 84.4527509 (5)\ttotal: 330ms\tremaining: 43.6s\n",
            "6:\tlearn: 26.6608980\ttest: 83.2678168\tbest: 83.2678168 (6)\ttotal: 377ms\tremaining: 42.7s\n",
            "7:\tlearn: 25.9903137\ttest: 82.2167075\tbest: 82.2167075 (7)\ttotal: 425ms\tremaining: 42.1s\n",
            "8:\tlearn: 25.3690788\ttest: 80.7518875\tbest: 80.7518875 (8)\ttotal: 471ms\tremaining: 41.4s\n",
            "9:\tlearn: 24.8386592\ttest: 79.7822679\tbest: 79.7822679 (9)\ttotal: 520ms\tremaining: 41.1s\n",
            "10:\tlearn: 24.3017126\ttest: 78.7110554\tbest: 78.7110554 (10)\ttotal: 570ms\tremaining: 40.9s\n",
            "11:\tlearn: 23.7661201\ttest: 77.1912198\tbest: 77.1912198 (11)\ttotal: 616ms\tremaining: 40.5s\n",
            "12:\tlearn: 23.3026593\ttest: 76.0034559\tbest: 76.0034559 (12)\ttotal: 663ms\tremaining: 40.2s\n",
            "13:\tlearn: 22.8222728\ttest: 75.6726534\tbest: 75.6726534 (13)\ttotal: 709ms\tremaining: 39.8s\n",
            "14:\tlearn: 22.4295047\ttest: 74.6373217\tbest: 74.6373217 (14)\ttotal: 758ms\tremaining: 39.7s\n",
            "15:\tlearn: 22.0120015\ttest: 73.3896859\tbest: 73.3896859 (15)\ttotal: 809ms\tremaining: 39.6s\n",
            "16:\tlearn: 21.6429084\ttest: 72.9714917\tbest: 72.9714917 (16)\ttotal: 858ms\tremaining: 39.5s\n",
            "17:\tlearn: 21.2941061\ttest: 71.9725601\tbest: 71.9725601 (17)\ttotal: 904ms\tremaining: 39.3s\n",
            "18:\tlearn: 21.0035829\ttest: 70.9918474\tbest: 70.9918474 (18)\ttotal: 952ms\tremaining: 39.1s\n",
            "19:\tlearn: 20.6772388\ttest: 70.0311267\tbest: 70.0311267 (19)\ttotal: 999ms\tremaining: 38.9s\n",
            "20:\tlearn: 20.4212889\ttest: 69.6079582\tbest: 69.6079582 (20)\ttotal: 1.05s\tremaining: 38.8s\n",
            "21:\tlearn: 20.1466581\ttest: 69.1178770\tbest: 69.1178770 (21)\ttotal: 1.09s\tremaining: 38.7s\n",
            "22:\tlearn: 19.8982782\ttest: 68.2783917\tbest: 68.2783917 (22)\ttotal: 1.14s\tremaining: 38.5s\n",
            "23:\tlearn: 19.6719827\ttest: 68.1619526\tbest: 68.1619526 (23)\ttotal: 1.19s\tremaining: 38.4s\n",
            "24:\tlearn: 19.4707001\ttest: 67.3766172\tbest: 67.3766172 (24)\ttotal: 1.23s\tremaining: 38.3s\n",
            "25:\tlearn: 19.2499227\ttest: 66.6020007\tbest: 66.6020007 (25)\ttotal: 1.28s\tremaining: 38.2s\n",
            "26:\tlearn: 19.0531101\ttest: 65.9062628\tbest: 65.9062628 (26)\ttotal: 1.33s\tremaining: 38.1s\n",
            "27:\tlearn: 18.8847648\ttest: 65.2775361\tbest: 65.2775361 (27)\ttotal: 1.38s\tremaining: 37.9s\n",
            "28:\tlearn: 18.7277685\ttest: 64.4730040\tbest: 64.4730040 (28)\ttotal: 1.42s\tremaining: 37.8s\n",
            "29:\tlearn: 18.5679642\ttest: 63.7842586\tbest: 63.7842586 (29)\ttotal: 1.47s\tremaining: 37.7s\n",
            "30:\tlearn: 18.4324386\ttest: 63.3261357\tbest: 63.3261357 (30)\ttotal: 1.52s\tremaining: 37.7s\n",
            "31:\tlearn: 18.2863620\ttest: 62.8330842\tbest: 62.8330842 (31)\ttotal: 1.57s\tremaining: 37.8s\n",
            "32:\tlearn: 18.1298441\ttest: 62.2673745\tbest: 62.2673745 (32)\ttotal: 1.62s\tremaining: 37.7s\n",
            "33:\tlearn: 18.0262867\ttest: 62.1462282\tbest: 62.1462282 (33)\ttotal: 1.67s\tremaining: 37.5s\n",
            "34:\tlearn: 17.8888267\ttest: 61.9667641\tbest: 61.9667641 (34)\ttotal: 1.71s\tremaining: 37.4s\n",
            "35:\tlearn: 17.7707506\ttest: 61.7299458\tbest: 61.7299458 (35)\ttotal: 1.76s\tremaining: 37.3s\n",
            "36:\tlearn: 17.6632017\ttest: 61.3229960\tbest: 61.3229960 (36)\ttotal: 1.8s\tremaining: 37.2s\n",
            "37:\tlearn: 17.5426069\ttest: 61.2486805\tbest: 61.2486805 (37)\ttotal: 1.86s\tremaining: 37.2s\n",
            "38:\tlearn: 17.4143550\ttest: 61.1203362\tbest: 61.1203362 (38)\ttotal: 1.9s\tremaining: 37.1s\n",
            "39:\tlearn: 17.3164732\ttest: 61.0388406\tbest: 61.0388406 (39)\ttotal: 1.95s\tremaining: 37s\n",
            "40:\tlearn: 17.2078590\ttest: 61.0055851\tbest: 61.0055851 (40)\ttotal: 2s\tremaining: 36.9s\n",
            "41:\tlearn: 17.1440935\ttest: 60.8141802\tbest: 60.8141802 (41)\ttotal: 2.04s\tremaining: 36.9s\n",
            "42:\tlearn: 17.0447846\ttest: 60.7346680\tbest: 60.7346680 (42)\ttotal: 2.09s\tremaining: 36.8s\n",
            "43:\tlearn: 16.9728812\ttest: 60.5168293\tbest: 60.5168293 (43)\ttotal: 2.13s\tremaining: 36.7s\n",
            "44:\tlearn: 16.8900159\ttest: 60.1717481\tbest: 60.1717481 (44)\ttotal: 2.18s\tremaining: 36.6s\n",
            "45:\tlearn: 16.8078212\ttest: 59.9233531\tbest: 59.9233531 (45)\ttotal: 2.23s\tremaining: 36.6s\n",
            "46:\tlearn: 16.7287539\ttest: 59.7884067\tbest: 59.7884067 (46)\ttotal: 2.28s\tremaining: 36.5s\n",
            "47:\tlearn: 16.6464907\ttest: 59.7607216\tbest: 59.7607216 (47)\ttotal: 2.32s\tremaining: 36.4s\n",
            "48:\tlearn: 16.5774756\ttest: 59.5955085\tbest: 59.5955085 (48)\ttotal: 2.37s\tremaining: 36.3s\n",
            "49:\tlearn: 16.5169014\ttest: 59.5106560\tbest: 59.5106560 (49)\ttotal: 2.42s\tremaining: 36.2s\n",
            "50:\tlearn: 16.4486101\ttest: 59.2658506\tbest: 59.2658506 (50)\ttotal: 2.46s\tremaining: 36.1s\n",
            "51:\tlearn: 16.3728039\ttest: 59.1923550\tbest: 59.1923550 (51)\ttotal: 2.51s\tremaining: 36.1s\n",
            "52:\tlearn: 16.3144185\ttest: 59.0498722\tbest: 59.0498722 (52)\ttotal: 2.56s\tremaining: 36s\n",
            "53:\tlearn: 16.2494443\ttest: 58.9999293\tbest: 58.9999293 (53)\ttotal: 2.6s\tremaining: 35.9s\n",
            "54:\tlearn: 16.1864524\ttest: 58.9602436\tbest: 58.9602436 (54)\ttotal: 2.65s\tremaining: 35.9s\n",
            "55:\tlearn: 16.1201783\ttest: 58.6140578\tbest: 58.6140578 (55)\ttotal: 2.69s\tremaining: 35.8s\n",
            "56:\tlearn: 16.0602484\ttest: 58.1656086\tbest: 58.1656086 (56)\ttotal: 2.74s\tremaining: 35.7s\n",
            "57:\tlearn: 15.9799615\ttest: 57.7718100\tbest: 57.7718100 (57)\ttotal: 2.79s\tremaining: 35.7s\n",
            "58:\tlearn: 15.9350588\ttest: 57.7211382\tbest: 57.7211382 (58)\ttotal: 2.84s\tremaining: 35.6s\n",
            "59:\tlearn: 15.8564614\ttest: 57.6177397\tbest: 57.6177397 (59)\ttotal: 2.89s\tremaining: 35.6s\n",
            "60:\tlearn: 15.8032085\ttest: 57.2951795\tbest: 57.2951795 (60)\ttotal: 2.94s\tremaining: 35.6s\n",
            "61:\tlearn: 15.7453741\ttest: 57.1673085\tbest: 57.1673085 (61)\ttotal: 2.98s\tremaining: 35.5s\n",
            "62:\tlearn: 15.6957458\ttest: 57.1316537\tbest: 57.1316537 (62)\ttotal: 3.03s\tremaining: 35.4s\n",
            "63:\tlearn: 15.6320424\ttest: 57.0314437\tbest: 57.0314437 (63)\ttotal: 3.08s\tremaining: 35.4s\n",
            "64:\tlearn: 15.5856878\ttest: 56.8858793\tbest: 56.8858793 (64)\ttotal: 3.13s\tremaining: 35.4s\n",
            "65:\tlearn: 15.5267349\ttest: 56.7964013\tbest: 56.7964013 (65)\ttotal: 3.19s\tremaining: 35.5s\n",
            "66:\tlearn: 15.4830215\ttest: 56.8454789\tbest: 56.7964013 (65)\ttotal: 3.24s\tremaining: 35.4s\n",
            "Stopped by overfitting detector  (1 iterations wait)\n",
            "\n",
            "bestTest = 56.7964013\n",
            "bestIteration = 65\n",
            "\n",
            "Shrink model to first 66 iterations.\n",
            "Learning rate set to 0.068842\n",
            "0:\tlearn: 32.7000908\ttest: 88.5282938\tbest: 88.5282938 (0)\ttotal: 85.4ms\tremaining: 1m 8s\n",
            "1:\tlearn: 31.5320295\ttest: 86.3494745\tbest: 86.3494745 (1)\ttotal: 139ms\tremaining: 55.4s\n",
            "2:\tlearn: 30.4294058\ttest: 84.5062172\tbest: 84.5062172 (2)\ttotal: 192ms\tremaining: 50.9s\n",
            "3:\tlearn: 29.4379257\ttest: 83.0815827\tbest: 83.0815827 (3)\ttotal: 250ms\tremaining: 49.7s\n",
            "4:\tlearn: 28.5728951\ttest: 81.6691664\tbest: 81.6691664 (4)\ttotal: 307ms\tremaining: 48.9s\n",
            "5:\tlearn: 27.7621806\ttest: 80.3067335\tbest: 80.3067335 (5)\ttotal: 363ms\tremaining: 48s\n",
            "6:\tlearn: 26.9997743\ttest: 78.8880114\tbest: 78.8880114 (6)\ttotal: 420ms\tremaining: 47.6s\n",
            "7:\tlearn: 26.3192522\ttest: 77.6937613\tbest: 77.6937613 (7)\ttotal: 473ms\tremaining: 46.8s\n",
            "8:\tlearn: 25.6728202\ttest: 76.6586884\tbest: 76.6586884 (8)\ttotal: 531ms\tremaining: 46.6s\n",
            "9:\tlearn: 25.0757089\ttest: 75.5341948\tbest: 75.5341948 (9)\ttotal: 582ms\tremaining: 46s\n",
            "10:\tlearn: 24.5150196\ttest: 74.4029211\tbest: 74.4029211 (10)\ttotal: 636ms\tremaining: 45.6s\n",
            "11:\tlearn: 23.9868731\ttest: 73.4824898\tbest: 73.4824898 (11)\ttotal: 690ms\tremaining: 45.3s\n",
            "12:\tlearn: 23.4913797\ttest: 72.5904457\tbest: 72.5904457 (12)\ttotal: 742ms\tremaining: 44.9s\n",
            "13:\tlearn: 23.0572756\ttest: 72.0004800\tbest: 72.0004800 (13)\ttotal: 794ms\tremaining: 44.6s\n",
            "14:\tlearn: 22.6697737\ttest: 70.7389081\tbest: 70.7389081 (14)\ttotal: 847ms\tremaining: 44.3s\n",
            "15:\tlearn: 22.2794804\ttest: 69.8892112\tbest: 69.8892112 (15)\ttotal: 911ms\tremaining: 44.6s\n",
            "16:\tlearn: 21.9456349\ttest: 69.0376952\tbest: 69.0376952 (16)\ttotal: 967ms\tremaining: 44.5s\n",
            "17:\tlearn: 21.6785939\ttest: 68.7527841\tbest: 68.7527841 (17)\ttotal: 1.05s\tremaining: 45.5s\n",
            "18:\tlearn: 21.3918389\ttest: 68.3894626\tbest: 68.3894626 (18)\ttotal: 1.1s\tremaining: 45.4s\n",
            "19:\tlearn: 21.1156155\ttest: 67.3712798\tbest: 67.3712798 (19)\ttotal: 1.16s\tremaining: 45.2s\n",
            "20:\tlearn: 20.8594632\ttest: 67.0535780\tbest: 67.0535780 (20)\ttotal: 1.21s\tremaining: 44.9s\n",
            "21:\tlearn: 20.6106291\ttest: 66.3535143\tbest: 66.3535143 (21)\ttotal: 1.26s\tremaining: 44.6s\n",
            "22:\tlearn: 20.3811212\ttest: 65.4824438\tbest: 65.4824438 (22)\ttotal: 1.31s\tremaining: 44.4s\n",
            "23:\tlearn: 20.1751303\ttest: 64.9212272\tbest: 64.9212272 (23)\ttotal: 1.38s\tremaining: 44.5s\n",
            "24:\tlearn: 19.9904188\ttest: 64.7125089\tbest: 64.7125089 (24)\ttotal: 1.43s\tremaining: 44.2s\n",
            "25:\tlearn: 19.8174391\ttest: 64.5799708\tbest: 64.5799708 (25)\ttotal: 1.48s\tremaining: 44s\n",
            "26:\tlearn: 19.6540401\ttest: 64.0356207\tbest: 64.0356207 (26)\ttotal: 1.54s\tremaining: 44s\n",
            "27:\tlearn: 19.5085315\ttest: 63.5906342\tbest: 63.5906342 (27)\ttotal: 1.59s\tremaining: 43.8s\n",
            "28:\tlearn: 19.3600826\ttest: 63.2471122\tbest: 63.2471122 (28)\ttotal: 1.64s\tremaining: 43.6s\n",
            "29:\tlearn: 19.2100060\ttest: 63.0380798\tbest: 63.0380798 (29)\ttotal: 1.7s\tremaining: 43.7s\n",
            "30:\tlearn: 19.0893297\ttest: 62.6990703\tbest: 62.6990703 (30)\ttotal: 1.76s\tremaining: 43.6s\n",
            "31:\tlearn: 18.9727862\ttest: 62.5147282\tbest: 62.5147282 (31)\ttotal: 1.81s\tremaining: 43.5s\n",
            "32:\tlearn: 18.8567781\ttest: 62.0236690\tbest: 62.0236690 (32)\ttotal: 1.86s\tremaining: 43.3s\n",
            "33:\tlearn: 18.7691590\ttest: 61.7758220\tbest: 61.7758220 (33)\ttotal: 1.92s\tremaining: 43.3s\n",
            "34:\tlearn: 18.6840414\ttest: 61.5746014\tbest: 61.5746014 (34)\ttotal: 1.97s\tremaining: 43.1s\n",
            "35:\tlearn: 18.5821069\ttest: 61.0330886\tbest: 61.0330886 (35)\ttotal: 2.03s\tremaining: 43s\n",
            "36:\tlearn: 18.4951130\ttest: 60.8617842\tbest: 60.8617842 (36)\ttotal: 2.08s\tremaining: 42.9s\n",
            "37:\tlearn: 18.3806687\ttest: 60.6579728\tbest: 60.6579728 (37)\ttotal: 2.13s\tremaining: 42.7s\n",
            "38:\tlearn: 18.2881559\ttest: 60.5933277\tbest: 60.5933277 (38)\ttotal: 2.18s\tremaining: 42.6s\n",
            "39:\tlearn: 18.2034273\ttest: 60.3300283\tbest: 60.3300283 (39)\ttotal: 2.23s\tremaining: 42.5s\n",
            "40:\tlearn: 18.1331363\ttest: 60.2570614\tbest: 60.2570614 (40)\ttotal: 2.29s\tremaining: 42.3s\n",
            "41:\tlearn: 18.0840045\ttest: 60.1010160\tbest: 60.1010160 (41)\ttotal: 2.34s\tremaining: 42.2s\n",
            "42:\tlearn: 18.0056556\ttest: 59.8048187\tbest: 59.8048187 (42)\ttotal: 2.39s\tremaining: 42.1s\n",
            "43:\tlearn: 17.9491340\ttest: 59.6471203\tbest: 59.6471203 (43)\ttotal: 2.44s\tremaining: 42s\n",
            "44:\tlearn: 17.8638370\ttest: 59.1108222\tbest: 59.1108222 (44)\ttotal: 2.5s\tremaining: 41.9s\n",
            "45:\tlearn: 17.7857612\ttest: 59.0891207\tbest: 59.0891207 (45)\ttotal: 2.56s\tremaining: 41.9s\n",
            "46:\tlearn: 17.7229381\ttest: 58.5780052\tbest: 58.5780052 (46)\ttotal: 2.62s\tremaining: 42s\n",
            "47:\tlearn: 17.6830015\ttest: 58.4367020\tbest: 58.4367020 (47)\ttotal: 2.7s\tremaining: 42.3s\n",
            "48:\tlearn: 17.6034285\ttest: 58.3886532\tbest: 58.3886532 (48)\ttotal: 2.77s\tremaining: 42.5s\n",
            "49:\tlearn: 17.5459952\ttest: 58.2982591\tbest: 58.2982591 (49)\ttotal: 2.83s\tremaining: 42.5s\n",
            "50:\tlearn: 17.4736613\ttest: 58.2706713\tbest: 58.2706713 (50)\ttotal: 2.89s\tremaining: 42.5s\n",
            "51:\tlearn: 17.4221425\ttest: 58.2509726\tbest: 58.2509726 (51)\ttotal: 2.95s\tremaining: 42.4s\n",
            "52:\tlearn: 17.3662626\ttest: 58.1338322\tbest: 58.1338322 (52)\ttotal: 3s\tremaining: 42.3s\n",
            "53:\tlearn: 17.3174925\ttest: 58.1049459\tbest: 58.1049459 (53)\ttotal: 3.05s\tremaining: 42.2s\n",
            "54:\tlearn: 17.2718725\ttest: 58.1636591\tbest: 58.1049459 (53)\ttotal: 3.1s\tremaining: 42.1s\n",
            "Stopped by overfitting detector  (1 iterations wait)\n",
            "\n",
            "bestTest = 58.1049459\n",
            "bestIteration = 53\n",
            "\n",
            "Shrink model to first 54 iterations.\n",
            "Learning rate set to 0.077197\n",
            "0:\tlearn: 28.4007990\ttest: 99.8449067\tbest: 99.8449067 (0)\ttotal: 118ms\tremaining: 58.8s\n",
            "1:\tlearn: 27.3946793\ttest: 99.0710212\tbest: 99.0710212 (1)\ttotal: 191ms\tremaining: 47.5s\n",
            "2:\tlearn: 26.4897071\ttest: 98.9862495\tbest: 98.9862495 (2)\ttotal: 261ms\tremaining: 43.2s\n",
            "3:\tlearn: 25.5937849\ttest: 98.6399777\tbest: 98.6399777 (3)\ttotal: 330ms\tremaining: 40.9s\n",
            "4:\tlearn: 24.8565068\ttest: 98.5367086\tbest: 98.5367086 (4)\ttotal: 401ms\tremaining: 39.7s\n",
            "5:\tlearn: 24.1180231\ttest: 98.5637169\tbest: 98.5367086 (4)\ttotal: 471ms\tremaining: 38.7s\n",
            "Stopped by overfitting detector  (1 iterations wait)\n",
            "\n",
            "bestTest = 98.53670861\n",
            "bestIteration = 4\n",
            "\n",
            "Shrink model to first 5 iterations.\n",
            "Learning rate set to 0.08605\n",
            "0:\tlearn: 31.4649265\ttest: 91.8880035\tbest: 91.8880035 (0)\ttotal: 143ms\tremaining: 1m 11s\n",
            "1:\tlearn: 30.1642964\ttest: 90.6209942\tbest: 90.6209942 (1)\ttotal: 227ms\tremaining: 56.6s\n",
            "2:\tlearn: 28.9621950\ttest: 89.3709965\tbest: 89.3709965 (2)\ttotal: 314ms\tremaining: 52s\n",
            "3:\tlearn: 27.7753014\ttest: 88.0747056\tbest: 88.0747056 (3)\ttotal: 401ms\tremaining: 49.7s\n",
            "4:\tlearn: 26.7905698\ttest: 86.8044138\tbest: 86.8044138 (4)\ttotal: 489ms\tremaining: 48.4s\n",
            "5:\tlearn: 25.9677720\ttest: 85.9230371\tbest: 85.9230371 (5)\ttotal: 574ms\tremaining: 47.3s\n",
            "6:\tlearn: 25.1482612\ttest: 84.8624529\tbest: 84.8624529 (6)\ttotal: 688ms\tremaining: 48.4s\n",
            "7:\tlearn: 24.3806724\ttest: 83.2760782\tbest: 83.2760782 (7)\ttotal: 794ms\tremaining: 48.8s\n",
            "8:\tlearn: 23.6889684\ttest: 82.4095962\tbest: 82.4095962 (8)\ttotal: 896ms\tremaining: 48.9s\n",
            "9:\tlearn: 23.0648169\ttest: 81.5706437\tbest: 81.5706437 (9)\ttotal: 993ms\tremaining: 48.6s\n",
            "10:\tlearn: 22.5379048\ttest: 80.8326104\tbest: 80.8326104 (10)\ttotal: 1.09s\tremaining: 48.4s\n",
            "11:\tlearn: 21.9910276\ttest: 80.4533017\tbest: 80.4533017 (11)\ttotal: 1.19s\tremaining: 48.2s\n",
            "12:\tlearn: 21.5247311\ttest: 79.0496913\tbest: 79.0496913 (12)\ttotal: 1.28s\tremaining: 48s\n",
            "13:\tlearn: 21.0579542\ttest: 77.7455464\tbest: 77.7455464 (13)\ttotal: 1.38s\tremaining: 47.9s\n",
            "14:\tlearn: 20.6532022\ttest: 75.9027032\tbest: 75.9027032 (14)\ttotal: 1.48s\tremaining: 47.8s\n",
            "15:\tlearn: 20.3147154\ttest: 74.9636598\tbest: 74.9636598 (15)\ttotal: 1.58s\tremaining: 47.7s\n",
            "16:\tlearn: 19.9842490\ttest: 74.0726732\tbest: 74.0726732 (16)\ttotal: 1.67s\tremaining: 47.6s\n",
            "17:\tlearn: 19.6481409\ttest: 72.5364918\tbest: 72.5364918 (17)\ttotal: 1.77s\tremaining: 47.4s\n",
            "18:\tlearn: 19.3766552\ttest: 72.0727068\tbest: 72.0727068 (18)\ttotal: 1.87s\tremaining: 47.4s\n",
            "19:\tlearn: 19.0383327\ttest: 71.5532644\tbest: 71.5532644 (19)\ttotal: 1.97s\tremaining: 47.2s\n",
            "20:\tlearn: 18.7574216\ttest: 70.6279750\tbest: 70.6279750 (20)\ttotal: 2.06s\tremaining: 47s\n",
            "21:\tlearn: 18.5344682\ttest: 70.3635000\tbest: 70.3635000 (21)\ttotal: 2.15s\tremaining: 46.8s\n",
            "22:\tlearn: 18.2892431\ttest: 69.6054739\tbest: 69.6054739 (22)\ttotal: 2.25s\tremaining: 46.7s\n",
            "23:\tlearn: 18.0523855\ttest: 69.4893963\tbest: 69.4893963 (23)\ttotal: 2.34s\tremaining: 46.5s\n",
            "24:\tlearn: 17.8153810\ttest: 69.3033110\tbest: 69.3033110 (24)\ttotal: 2.44s\tremaining: 46.3s\n",
            "25:\tlearn: 17.6655625\ttest: 68.6725541\tbest: 68.6725541 (25)\ttotal: 2.53s\tremaining: 46.2s\n",
            "26:\tlearn: 17.4999097\ttest: 68.2626846\tbest: 68.2626846 (26)\ttotal: 2.63s\tremaining: 46.1s\n",
            "27:\tlearn: 17.3387906\ttest: 67.9043686\tbest: 67.9043686 (27)\ttotal: 2.73s\tremaining: 46.1s\n",
            "28:\tlearn: 17.1570135\ttest: 66.7652246\tbest: 66.7652246 (28)\ttotal: 2.83s\tremaining: 45.9s\n",
            "29:\tlearn: 16.9938881\ttest: 66.6437211\tbest: 66.6437211 (29)\ttotal: 2.92s\tremaining: 45.8s\n",
            "30:\tlearn: 16.8574222\ttest: 66.4994491\tbest: 66.4994491 (30)\ttotal: 3.01s\tremaining: 45.6s\n",
            "31:\tlearn: 16.7020284\ttest: 66.2227171\tbest: 66.2227171 (31)\ttotal: 3.1s\tremaining: 45.4s\n",
            "32:\tlearn: 16.5349690\ttest: 66.0910287\tbest: 66.0910287 (32)\ttotal: 3.2s\tremaining: 45.3s\n",
            "33:\tlearn: 16.4030894\ttest: 65.9845711\tbest: 65.9845711 (33)\ttotal: 3.29s\tremaining: 45.2s\n",
            "34:\tlearn: 16.3116068\ttest: 65.5827605\tbest: 65.5827605 (34)\ttotal: 3.39s\tremaining: 45s\n",
            "35:\tlearn: 16.1957155\ttest: 65.4197973\tbest: 65.4197973 (35)\ttotal: 3.49s\tremaining: 45s\n",
            "36:\tlearn: 16.1273064\ttest: 65.3444832\tbest: 65.3444832 (36)\ttotal: 3.58s\tremaining: 44.9s\n",
            "37:\tlearn: 15.9773400\ttest: 64.9739038\tbest: 64.9739038 (37)\ttotal: 3.68s\tremaining: 44.7s\n",
            "38:\tlearn: 15.8766107\ttest: 64.5855393\tbest: 64.5855393 (38)\ttotal: 3.77s\tremaining: 44.6s\n",
            "39:\tlearn: 15.7878328\ttest: 64.4973434\tbest: 64.4973434 (39)\ttotal: 3.86s\tremaining: 44.4s\n",
            "40:\tlearn: 15.6614123\ttest: 64.1888853\tbest: 64.1888853 (40)\ttotal: 3.95s\tremaining: 44.2s\n",
            "41:\tlearn: 15.5623234\ttest: 64.0079990\tbest: 64.0079990 (41)\ttotal: 4.03s\tremaining: 44s\n",
            "42:\tlearn: 15.4342471\ttest: 63.9471212\tbest: 63.9471212 (42)\ttotal: 4.12s\tremaining: 43.8s\n",
            "43:\tlearn: 15.3605477\ttest: 63.8564784\tbest: 63.8564784 (43)\ttotal: 4.2s\tremaining: 43.5s\n",
            "44:\tlearn: 15.2719170\ttest: 63.7435201\tbest: 63.7435201 (44)\ttotal: 4.29s\tremaining: 43.3s\n",
            "45:\tlearn: 15.1996994\ttest: 63.6521834\tbest: 63.6521834 (45)\ttotal: 4.37s\tremaining: 43.1s\n",
            "46:\tlearn: 15.0774630\ttest: 63.5892181\tbest: 63.5892181 (46)\ttotal: 4.46s\tremaining: 43s\n",
            "47:\tlearn: 14.9737566\ttest: 63.6604728\tbest: 63.5892181 (46)\ttotal: 4.54s\tremaining: 42.8s\n",
            "Stopped by overfitting detector  (1 iterations wait)\n",
            "\n",
            "bestTest = 63.58921812\n",
            "bestIteration = 46\n",
            "\n",
            "Shrink model to first 47 iterations.\n",
            "Learning rate set to 0.091699\n",
            "0:\tlearn: 32.2252613\ttest: 87.7021512\tbest: 87.7021512 (0)\ttotal: 175ms\tremaining: 1m 27s\n",
            "1:\tlearn: 30.8362808\ttest: 85.7400902\tbest: 85.7400902 (1)\ttotal: 281ms\tremaining: 1m 9s\n",
            "2:\tlearn: 29.5836525\ttest: 83.6125152\tbest: 83.6125152 (2)\ttotal: 391ms\tremaining: 1m 4s\n",
            "3:\tlearn: 28.3826720\ttest: 81.6141430\tbest: 81.6141430 (3)\ttotal: 502ms\tremaining: 1m 2s\n",
            "4:\tlearn: 27.3128737\ttest: 80.0106988\tbest: 80.0106988 (4)\ttotal: 609ms\tremaining: 1m\n",
            "5:\tlearn: 26.4281463\ttest: 78.4191833\tbest: 78.4191833 (5)\ttotal: 717ms\tremaining: 59.1s\n",
            "6:\tlearn: 25.5253078\ttest: 77.2798446\tbest: 77.2798446 (6)\ttotal: 823ms\tremaining: 57.9s\n",
            "7:\tlearn: 24.7087908\ttest: 75.2611716\tbest: 75.2611716 (7)\ttotal: 927ms\tremaining: 57s\n",
            "8:\tlearn: 23.9943461\ttest: 74.3262069\tbest: 74.3262069 (8)\ttotal: 1.03s\tremaining: 56.2s\n",
            "9:\tlearn: 23.3179529\ttest: 72.8133785\tbest: 72.8133785 (9)\ttotal: 1.14s\tremaining: 55.9s\n",
            "10:\tlearn: 22.7705610\ttest: 72.1278517\tbest: 72.1278517 (10)\ttotal: 1.25s\tremaining: 55.7s\n",
            "11:\tlearn: 22.2296373\ttest: 71.2591720\tbest: 71.2591720 (11)\ttotal: 1.37s\tremaining: 55.8s\n",
            "12:\tlearn: 21.7739426\ttest: 70.2884370\tbest: 70.2884370 (12)\ttotal: 1.49s\tremaining: 55.9s\n",
            "13:\tlearn: 21.4020769\ttest: 69.2878439\tbest: 69.2878439 (13)\ttotal: 1.6s\tremaining: 55.5s\n",
            "14:\tlearn: 21.0590655\ttest: 67.9509204\tbest: 67.9509204 (14)\ttotal: 1.71s\tremaining: 55.1s\n",
            "15:\tlearn: 20.7207947\ttest: 66.4840064\tbest: 66.4840064 (15)\ttotal: 1.81s\tremaining: 54.7s\n",
            "16:\tlearn: 20.4236568\ttest: 66.0427874\tbest: 66.0427874 (16)\ttotal: 1.91s\tremaining: 54.4s\n",
            "17:\tlearn: 20.1567562\ttest: 65.7078795\tbest: 65.7078795 (17)\ttotal: 2.02s\tremaining: 54s\n",
            "18:\tlearn: 19.8982817\ttest: 65.2202531\tbest: 65.2202531 (18)\ttotal: 2.12s\tremaining: 53.6s\n",
            "19:\tlearn: 19.6351411\ttest: 64.3837549\tbest: 64.3837549 (19)\ttotal: 2.25s\tremaining: 53.9s\n",
            "20:\tlearn: 19.3890043\ttest: 63.8194382\tbest: 63.8194382 (20)\ttotal: 2.41s\tremaining: 55.1s\n",
            "21:\tlearn: 19.1780914\ttest: 63.3144536\tbest: 63.3144536 (21)\ttotal: 2.55s\tremaining: 55.4s\n",
            "22:\tlearn: 18.9959039\ttest: 62.7070253\tbest: 62.7070253 (22)\ttotal: 2.67s\tremaining: 55.5s\n",
            "23:\tlearn: 18.7921266\ttest: 62.2267981\tbest: 62.2267981 (23)\ttotal: 2.79s\tremaining: 55.3s\n",
            "24:\tlearn: 18.5966223\ttest: 61.9990080\tbest: 61.9990080 (24)\ttotal: 2.9s\tremaining: 55.1s\n",
            "25:\tlearn: 18.4225640\ttest: 61.3866992\tbest: 61.3866992 (25)\ttotal: 3s\tremaining: 54.7s\n",
            "26:\tlearn: 18.2715627\ttest: 61.2275709\tbest: 61.2275709 (26)\ttotal: 3.1s\tremaining: 54.4s\n",
            "27:\tlearn: 18.1006453\ttest: 60.8336877\tbest: 60.8336877 (27)\ttotal: 3.21s\tremaining: 54.1s\n",
            "28:\tlearn: 17.9882919\ttest: 60.4180612\tbest: 60.4180612 (28)\ttotal: 3.31s\tremaining: 53.7s\n",
            "29:\tlearn: 17.8698787\ttest: 60.3348855\tbest: 60.3348855 (29)\ttotal: 3.41s\tremaining: 53.4s\n",
            "30:\tlearn: 17.7706279\ttest: 60.0526641\tbest: 60.0526641 (30)\ttotal: 3.5s\tremaining: 53s\n",
            "31:\tlearn: 17.6387614\ttest: 59.6239500\tbest: 59.6239500 (31)\ttotal: 3.6s\tremaining: 52.6s\n",
            "32:\tlearn: 17.5188895\ttest: 59.5666582\tbest: 59.5666582 (32)\ttotal: 3.69s\tremaining: 52.2s\n",
            "33:\tlearn: 17.4307593\ttest: 59.4671263\tbest: 59.4671263 (33)\ttotal: 3.79s\tremaining: 51.9s\n",
            "34:\tlearn: 17.3417161\ttest: 59.2679146\tbest: 59.2679146 (34)\ttotal: 3.88s\tremaining: 51.6s\n",
            "35:\tlearn: 17.2190234\ttest: 59.2453156\tbest: 59.2453156 (35)\ttotal: 3.99s\tremaining: 51.4s\n",
            "36:\tlearn: 17.1146434\ttest: 59.1050340\tbest: 59.1050340 (36)\ttotal: 4.09s\tremaining: 51.2s\n",
            "37:\tlearn: 17.0191402\ttest: 58.8755348\tbest: 58.8755348 (37)\ttotal: 4.19s\tremaining: 51s\n",
            "38:\tlearn: 16.8917234\ttest: 58.7469012\tbest: 58.7469012 (38)\ttotal: 4.29s\tremaining: 50.7s\n",
            "39:\tlearn: 16.7715130\ttest: 58.6898575\tbest: 58.6898575 (39)\ttotal: 4.38s\tremaining: 50.4s\n",
            "40:\tlearn: 16.6686806\ttest: 58.3803660\tbest: 58.3803660 (40)\ttotal: 4.48s\tremaining: 50.1s\n",
            "41:\tlearn: 16.5802743\ttest: 58.2586497\tbest: 58.2586497 (41)\ttotal: 4.58s\tremaining: 49.9s\n",
            "42:\tlearn: 16.5144085\ttest: 58.1761244\tbest: 58.1761244 (42)\ttotal: 4.7s\tremaining: 50s\n",
            "43:\tlearn: 16.4753851\ttest: 58.0431616\tbest: 58.0431616 (43)\ttotal: 4.8s\tremaining: 49.8s\n",
            "44:\tlearn: 16.3837136\ttest: 57.9684816\tbest: 57.9684816 (44)\ttotal: 4.9s\tremaining: 49.6s\n",
            "45:\tlearn: 16.3303370\ttest: 57.7835937\tbest: 57.7835937 (45)\ttotal: 5s\tremaining: 49.4s\n",
            "46:\tlearn: 16.2610916\ttest: 57.7201762\tbest: 57.7201762 (46)\ttotal: 5.1s\tremaining: 49.2s\n",
            "47:\tlearn: 16.1549463\ttest: 57.7199062\tbest: 57.7199062 (47)\ttotal: 5.2s\tremaining: 49s\n",
            "48:\tlearn: 16.1034024\ttest: 57.6993425\tbest: 57.6993425 (48)\ttotal: 5.3s\tremaining: 48.8s\n",
            "49:\tlearn: 16.0183074\ttest: 57.8491850\tbest: 57.6993425 (48)\ttotal: 5.41s\tremaining: 48.7s\n",
            "Stopped by overfitting detector  (1 iterations wait)\n",
            "\n",
            "bestTest = 57.69934254\n",
            "bestIteration = 48\n",
            "\n",
            "Shrink model to first 49 iterations.\n",
            "Learning rate set to 0.069071\n",
            "0:\tlearn: 28.5237114\ttest: 99.9125995\tbest: 99.9125995 (0)\ttotal: 118ms\tremaining: 1m 10s\n",
            "1:\tlearn: 27.6134998\ttest: 99.2146603\tbest: 99.2146603 (1)\ttotal: 191ms\tremaining: 57.2s\n",
            "2:\tlearn: 26.8883579\ttest: 98.9593758\tbest: 98.9593758 (2)\ttotal: 262ms\tremaining: 52.2s\n",
            "3:\tlearn: 26.0321866\ttest: 98.6357020\tbest: 98.6357020 (3)\ttotal: 343ms\tremaining: 51.1s\n",
            "4:\tlearn: 25.3544002\ttest: 97.9808556\tbest: 97.9808556 (4)\ttotal: 416ms\tremaining: 49.5s\n",
            "5:\tlearn: 24.6515231\ttest: 97.9972588\tbest: 97.9808556 (4)\ttotal: 487ms\tremaining: 48.2s\n",
            "Stopped by overfitting detector  (1 iterations wait)\n",
            "\n",
            "bestTest = 97.98085555\n",
            "bestIteration = 4\n",
            "\n",
            "Shrink model to first 5 iterations.\n",
            "Learning rate set to 0.076993\n",
            "0:\tlearn: 31.6273597\ttest: 92.2320014\tbest: 92.2320014 (0)\ttotal: 149ms\tremaining: 1m 29s\n",
            "1:\tlearn: 30.4740044\ttest: 90.5524689\tbest: 90.5524689 (1)\ttotal: 247ms\tremaining: 1m 14s\n",
            "2:\tlearn: 29.3731483\ttest: 89.4195663\tbest: 89.4195663 (2)\ttotal: 345ms\tremaining: 1m 8s\n",
            "3:\tlearn: 28.2661574\ttest: 88.2327793\tbest: 88.2327793 (3)\ttotal: 439ms\tremaining: 1m 5s\n",
            "4:\tlearn: 27.3454076\ttest: 87.0633192\tbest: 87.0633192 (4)\ttotal: 539ms\tremaining: 1m 4s\n",
            "5:\tlearn: 26.5648513\ttest: 86.4240899\tbest: 86.4240899 (5)\ttotal: 634ms\tremaining: 1m 2s\n",
            "6:\tlearn: 25.7706592\ttest: 85.0440559\tbest: 85.0440559 (6)\ttotal: 738ms\tremaining: 1m 2s\n",
            "7:\tlearn: 25.0501712\ttest: 83.1668587\tbest: 83.1668587 (7)\ttotal: 837ms\tremaining: 1m 1s\n",
            "8:\tlearn: 24.3540201\ttest: 82.1929302\tbest: 82.1929302 (8)\ttotal: 933ms\tremaining: 1m 1s\n",
            "9:\tlearn: 23.7299323\ttest: 81.3890435\tbest: 81.3890435 (9)\ttotal: 1.03s\tremaining: 1m\n",
            "10:\tlearn: 23.2301748\ttest: 81.1992600\tbest: 81.1992600 (10)\ttotal: 1.14s\tremaining: 1m\n",
            "11:\tlearn: 22.6873476\ttest: 80.8552361\tbest: 80.8552361 (11)\ttotal: 1.23s\tremaining: 1m\n",
            "12:\tlearn: 22.2702499\ttest: 80.5436236\tbest: 80.5436236 (12)\ttotal: 1.32s\tremaining: 59.6s\n",
            "13:\tlearn: 21.8191592\ttest: 79.6264645\tbest: 79.6264645 (13)\ttotal: 1.41s\tremaining: 58.9s\n",
            "14:\tlearn: 21.4297436\ttest: 78.1574950\tbest: 78.1574950 (14)\ttotal: 1.5s\tremaining: 58.4s\n",
            "15:\tlearn: 21.0572727\ttest: 78.0069341\tbest: 78.0069341 (15)\ttotal: 1.58s\tremaining: 57.8s\n",
            "16:\tlearn: 20.6683084\ttest: 76.4635074\tbest: 76.4635074 (16)\ttotal: 1.67s\tremaining: 57.3s\n",
            "17:\tlearn: 20.3178177\ttest: 74.9709434\tbest: 74.9709434 (17)\ttotal: 1.76s\tremaining: 56.8s\n",
            "18:\tlearn: 20.0402995\ttest: 74.5200559\tbest: 74.5200559 (18)\ttotal: 1.85s\tremaining: 56.5s\n",
            "19:\tlearn: 19.7348350\ttest: 73.8818482\tbest: 73.8818482 (19)\ttotal: 1.93s\tremaining: 56s\n",
            "20:\tlearn: 19.4353406\ttest: 73.2117555\tbest: 73.2117555 (20)\ttotal: 2.02s\tremaining: 55.7s\n",
            "21:\tlearn: 19.1910402\ttest: 72.9130917\tbest: 72.9130917 (21)\ttotal: 2.11s\tremaining: 55.4s\n",
            "22:\tlearn: 18.9531833\ttest: 72.4134626\tbest: 72.4134626 (22)\ttotal: 2.19s\tremaining: 55.1s\n",
            "23:\tlearn: 18.6707265\ttest: 72.2393422\tbest: 72.2393422 (23)\ttotal: 2.28s\tremaining: 54.8s\n",
            "24:\tlearn: 18.4180011\ttest: 71.8299281\tbest: 71.8299281 (24)\ttotal: 2.37s\tremaining: 54.5s\n",
            "25:\tlearn: 18.1668234\ttest: 71.4235125\tbest: 71.4235125 (25)\ttotal: 2.46s\tremaining: 54.3s\n",
            "26:\tlearn: 17.9833047\ttest: 71.1893517\tbest: 71.1893517 (26)\ttotal: 2.55s\tremaining: 54s\n",
            "27:\tlearn: 17.7560390\ttest: 70.2985276\tbest: 70.2985276 (27)\ttotal: 2.63s\tremaining: 53.8s\n",
            "28:\tlearn: 17.5583797\ttest: 69.7061131\tbest: 69.7061131 (28)\ttotal: 2.72s\tremaining: 53.6s\n",
            "29:\tlearn: 17.3926911\ttest: 69.2934869\tbest: 69.2934869 (29)\ttotal: 2.81s\tremaining: 53.4s\n",
            "30:\tlearn: 17.2238801\ttest: 69.1624930\tbest: 69.1624930 (30)\ttotal: 2.9s\tremaining: 53.2s\n",
            "31:\tlearn: 17.0802276\ttest: 69.0074954\tbest: 69.0074954 (31)\ttotal: 2.98s\tremaining: 52.9s\n",
            "32:\tlearn: 16.9475801\ttest: 68.8261561\tbest: 68.8261561 (32)\ttotal: 3.07s\tremaining: 52.7s\n",
            "33:\tlearn: 16.8090944\ttest: 68.6791251\tbest: 68.6791251 (33)\ttotal: 3.16s\tremaining: 52.6s\n",
            "34:\tlearn: 16.7047511\ttest: 68.4881697\tbest: 68.4881697 (34)\ttotal: 3.25s\tremaining: 52.4s\n",
            "35:\tlearn: 16.5848238\ttest: 68.3206297\tbest: 68.3206297 (35)\ttotal: 3.34s\tremaining: 52.4s\n",
            "36:\tlearn: 16.4805449\ttest: 68.1212718\tbest: 68.1212718 (36)\ttotal: 3.43s\tremaining: 52.2s\n",
            "37:\tlearn: 16.3643434\ttest: 67.9054746\tbest: 67.9054746 (37)\ttotal: 3.52s\tremaining: 52.1s\n",
            "38:\tlearn: 16.2670224\ttest: 67.5332772\tbest: 67.5332772 (38)\ttotal: 3.61s\tremaining: 51.9s\n",
            "39:\tlearn: 16.1765624\ttest: 67.2767849\tbest: 67.2767849 (39)\ttotal: 3.7s\tremaining: 51.8s\n",
            "40:\tlearn: 16.0530463\ttest: 67.1086455\tbest: 67.1086455 (40)\ttotal: 3.81s\tremaining: 52s\n",
            "41:\tlearn: 15.9440354\ttest: 66.9572684\tbest: 66.9572684 (41)\ttotal: 3.91s\tremaining: 52s\n",
            "42:\tlearn: 15.8307352\ttest: 66.8833126\tbest: 66.8833126 (42)\ttotal: 4.01s\tremaining: 51.9s\n",
            "43:\tlearn: 15.7510363\ttest: 66.6301910\tbest: 66.6301910 (43)\ttotal: 4.11s\tremaining: 51.9s\n",
            "44:\tlearn: 15.6338738\ttest: 66.5702788\tbest: 66.5702788 (44)\ttotal: 4.21s\tremaining: 51.9s\n",
            "45:\tlearn: 15.5405726\ttest: 66.4674692\tbest: 66.4674692 (45)\ttotal: 4.32s\tremaining: 52s\n",
            "46:\tlearn: 15.4301104\ttest: 66.1877370\tbest: 66.1877370 (46)\ttotal: 4.43s\tremaining: 52.1s\n",
            "47:\tlearn: 15.3421870\ttest: 66.2986687\tbest: 66.1877370 (46)\ttotal: 4.53s\tremaining: 52.1s\n",
            "Stopped by overfitting detector  (1 iterations wait)\n",
            "\n",
            "bestTest = 66.18773704\n",
            "bestIteration = 46\n",
            "\n",
            "Shrink model to first 47 iterations.\n",
            "Learning rate set to 0.082047\n",
            "0:\tlearn: 32.4058233\ttest: 88.0138791\tbest: 88.0138791 (0)\ttotal: 192ms\tremaining: 1m 54s\n",
            "1:\tlearn: 31.0671482\ttest: 86.4511470\tbest: 86.4511470 (1)\ttotal: 307ms\tremaining: 1m 31s\n",
            "2:\tlearn: 29.8570771\ttest: 84.3054912\tbest: 84.3054912 (2)\ttotal: 423ms\tremaining: 1m 24s\n",
            "3:\tlearn: 28.6871520\ttest: 82.5016699\tbest: 82.5016699 (3)\ttotal: 529ms\tremaining: 1m 18s\n",
            "4:\tlearn: 27.6980700\ttest: 81.0185737\tbest: 81.0185737 (4)\ttotal: 639ms\tremaining: 1m 15s\n",
            "5:\tlearn: 26.8529008\ttest: 79.8538905\tbest: 79.8538905 (5)\ttotal: 743ms\tremaining: 1m 13s\n",
            "6:\tlearn: 25.9996778\ttest: 78.7462854\tbest: 78.7462854 (6)\ttotal: 845ms\tremaining: 1m 11s\n",
            "7:\tlearn: 25.2552177\ttest: 77.1692675\tbest: 77.1692675 (7)\ttotal: 953ms\tremaining: 1m 10s\n",
            "8:\tlearn: 24.5580015\ttest: 76.2390320\tbest: 76.2390320 (8)\ttotal: 1.06s\tremaining: 1m 9s\n",
            "9:\tlearn: 23.8899136\ttest: 74.7781155\tbest: 74.7781155 (9)\ttotal: 1.19s\tremaining: 1m 10s\n",
            "10:\tlearn: 23.3209112\ttest: 73.9759028\tbest: 73.9759028 (10)\ttotal: 1.3s\tremaining: 1m 9s\n",
            "11:\tlearn: 22.7516507\ttest: 73.0069271\tbest: 73.0069271 (11)\ttotal: 1.41s\tremaining: 1m 9s\n",
            "12:\tlearn: 22.2487764\ttest: 72.0498502\tbest: 72.0498502 (12)\ttotal: 1.52s\tremaining: 1m 8s\n",
            "13:\tlearn: 21.8294212\ttest: 70.9332190\tbest: 70.9332190 (13)\ttotal: 1.63s\tremaining: 1m 8s\n",
            "14:\tlearn: 21.4366848\ttest: 70.0412618\tbest: 70.0412618 (14)\ttotal: 1.74s\tremaining: 1m 7s\n",
            "15:\tlearn: 21.0805245\ttest: 69.2316556\tbest: 69.2316556 (15)\ttotal: 1.84s\tremaining: 1m 7s\n",
            "16:\tlearn: 20.7819482\ttest: 68.8319945\tbest: 68.8319945 (16)\ttotal: 1.93s\tremaining: 1m 6s\n",
            "17:\tlearn: 20.4787874\ttest: 68.3409171\tbest: 68.3409171 (17)\ttotal: 2.03s\tremaining: 1m 5s\n",
            "18:\tlearn: 20.2550592\ttest: 67.8627589\tbest: 67.8627589 (18)\ttotal: 2.13s\tremaining: 1m 5s\n",
            "19:\tlearn: 19.9962094\ttest: 66.6524595\tbest: 66.6524595 (19)\ttotal: 2.24s\tremaining: 1m 4s\n",
            "20:\tlearn: 19.7595150\ttest: 65.8899528\tbest: 65.8899528 (20)\ttotal: 2.33s\tremaining: 1m 4s\n",
            "21:\tlearn: 19.5441175\ttest: 65.1871447\tbest: 65.1871447 (21)\ttotal: 2.43s\tremaining: 1m 3s\n",
            "22:\tlearn: 19.3486493\ttest: 64.7198328\tbest: 64.7198328 (22)\ttotal: 2.54s\tremaining: 1m 3s\n",
            "23:\tlearn: 19.1219619\ttest: 64.3027115\tbest: 64.3027115 (23)\ttotal: 2.64s\tremaining: 1m 3s\n",
            "24:\tlearn: 18.9273472\ttest: 63.4491242\tbest: 63.4491242 (24)\ttotal: 2.73s\tremaining: 1m 2s\n",
            "25:\tlearn: 18.7663094\ttest: 63.0557452\tbest: 63.0557452 (25)\ttotal: 2.83s\tremaining: 1m 2s\n",
            "26:\tlearn: 18.6261532\ttest: 62.7500741\tbest: 62.7500741 (26)\ttotal: 2.93s\tremaining: 1m 2s\n",
            "27:\tlearn: 18.4546706\ttest: 62.3320881\tbest: 62.3320881 (27)\ttotal: 3.03s\tremaining: 1m 1s\n",
            "28:\tlearn: 18.3151038\ttest: 61.9388073\tbest: 61.9388073 (28)\ttotal: 3.12s\tremaining: 1m 1s\n",
            "29:\tlearn: 18.1661727\ttest: 61.9545469\tbest: 61.9388073 (28)\ttotal: 3.23s\tremaining: 1m 1s\n",
            "Stopped by overfitting detector  (1 iterations wait)\n",
            "\n",
            "bestTest = 61.9388073\n",
            "bestIteration = 28\n",
            "\n",
            "Shrink model to first 29 iterations.\n",
            "Learning rate set to 0.057954\n",
            "0:\tlearn: 28.6925304\ttest: 100.0054916\tbest: 100.0054916 (0)\ttotal: 121ms\tremaining: 1m 36s\n",
            "1:\tlearn: 27.9173377\ttest: 99.4135477\tbest: 99.4135477 (1)\ttotal: 195ms\tremaining: 1m 17s\n",
            "2:\tlearn: 27.2080442\ttest: 99.3426532\tbest: 99.3426532 (2)\ttotal: 267ms\tremaining: 1m 10s\n",
            "3:\tlearn: 26.4927221\ttest: 99.0749838\tbest: 99.0749838 (3)\ttotal: 340ms\tremaining: 1m 7s\n",
            "4:\tlearn: 25.9157407\ttest: 98.8917145\tbest: 98.8917145 (4)\ttotal: 415ms\tremaining: 1m 6s\n",
            "5:\tlearn: 25.2958152\ttest: 98.9000141\tbest: 98.8917145 (4)\ttotal: 487ms\tremaining: 1m 4s\n",
            "Stopped by overfitting detector  (1 iterations wait)\n",
            "\n",
            "bestTest = 98.8917145\n",
            "bestIteration = 4\n",
            "\n",
            "Shrink model to first 5 iterations.\n",
            "Learning rate set to 0.064601\n",
            "0:\tlearn: 31.8506913\ttest: 92.7033786\tbest: 92.7033786 (0)\ttotal: 152ms\tremaining: 2m 1s\n",
            "1:\tlearn: 30.8658729\ttest: 91.2775547\tbest: 91.2775547 (1)\ttotal: 246ms\tremaining: 1m 38s\n",
            "2:\tlearn: 29.8864697\ttest: 90.3177186\tbest: 90.3177186 (2)\ttotal: 339ms\tremaining: 1m 29s\n",
            "3:\tlearn: 28.9092197\ttest: 89.1248306\tbest: 89.1248306 (3)\ttotal: 429ms\tremaining: 1m 25s\n",
            "4:\tlearn: 28.1806594\ttest: 88.3456920\tbest: 88.3456920 (4)\ttotal: 518ms\tremaining: 1m 22s\n",
            "5:\tlearn: 27.4256377\ttest: 87.9748157\tbest: 87.9748157 (5)\ttotal: 611ms\tremaining: 1m 20s\n",
            "6:\tlearn: 26.7389754\ttest: 87.1459615\tbest: 87.1459615 (6)\ttotal: 699ms\tremaining: 1m 19s\n",
            "7:\tlearn: 26.0729233\ttest: 85.8964404\tbest: 85.8964404 (7)\ttotal: 785ms\tremaining: 1m 17s\n",
            "8:\tlearn: 25.4710443\ttest: 84.9061844\tbest: 84.9061844 (8)\ttotal: 873ms\tremaining: 1m 16s\n",
            "9:\tlearn: 24.8440871\ttest: 83.6809005\tbest: 83.6809005 (9)\ttotal: 962ms\tremaining: 1m 16s\n",
            "10:\tlearn: 24.3575918\ttest: 83.4821211\tbest: 83.4821211 (10)\ttotal: 1.05s\tremaining: 1m 15s\n",
            "11:\tlearn: 23.8073531\ttest: 83.1135758\tbest: 83.1135758 (11)\ttotal: 1.14s\tremaining: 1m 14s\n",
            "12:\tlearn: 23.3610674\ttest: 81.6061382\tbest: 81.6061382 (12)\ttotal: 1.23s\tremaining: 1m 14s\n",
            "13:\tlearn: 22.8685428\ttest: 80.4013403\tbest: 80.4013403 (13)\ttotal: 1.33s\tremaining: 1m 14s\n",
            "14:\tlearn: 22.4090138\ttest: 78.9404621\tbest: 78.9404621 (14)\ttotal: 1.42s\tremaining: 1m 14s\n",
            "15:\tlearn: 22.0634839\ttest: 77.6961533\tbest: 77.6961533 (15)\ttotal: 1.51s\tremaining: 1m 13s\n",
            "16:\tlearn: 21.7270657\ttest: 77.5479274\tbest: 77.5479274 (16)\ttotal: 1.6s\tremaining: 1m 13s\n",
            "17:\tlearn: 21.3693755\ttest: 76.1046589\tbest: 76.1046589 (17)\ttotal: 1.69s\tremaining: 1m 13s\n",
            "18:\tlearn: 21.0873853\ttest: 75.6834252\tbest: 75.6834252 (18)\ttotal: 1.78s\tremaining: 1m 13s\n",
            "19:\tlearn: 20.7453801\ttest: 74.6048485\tbest: 74.6048485 (19)\ttotal: 1.87s\tremaining: 1m 13s\n",
            "20:\tlearn: 20.4670481\ttest: 73.5567923\tbest: 73.5567923 (20)\ttotal: 1.97s\tremaining: 1m 12s\n",
            "21:\tlearn: 20.2072391\ttest: 73.1266161\tbest: 73.1266161 (21)\ttotal: 2.07s\tremaining: 1m 13s\n",
            "22:\tlearn: 19.9319801\ttest: 72.7371627\tbest: 72.7371627 (22)\ttotal: 2.16s\tremaining: 1m 12s\n",
            "23:\tlearn: 19.6510626\ttest: 72.6110622\tbest: 72.6110622 (23)\ttotal: 2.25s\tremaining: 1m 12s\n",
            "24:\tlearn: 19.4267572\ttest: 72.1042233\tbest: 72.1042233 (24)\ttotal: 2.34s\tremaining: 1m 12s\n",
            "25:\tlearn: 19.1956985\ttest: 71.8824647\tbest: 71.8824647 (25)\ttotal: 2.43s\tremaining: 1m 12s\n",
            "26:\tlearn: 18.9816203\ttest: 71.5098039\tbest: 71.5098039 (26)\ttotal: 2.52s\tremaining: 1m 12s\n",
            "27:\tlearn: 18.7603883\ttest: 71.0849899\tbest: 71.0849899 (27)\ttotal: 2.62s\tremaining: 1m 12s\n",
            "28:\tlearn: 18.5522721\ttest: 70.5295168\tbest: 70.5295168 (28)\ttotal: 2.71s\tremaining: 1m 12s\n",
            "29:\tlearn: 18.3659363\ttest: 70.2637288\tbest: 70.2637288 (29)\ttotal: 2.8s\tremaining: 1m 11s\n",
            "30:\tlearn: 18.1857512\ttest: 70.1204872\tbest: 70.1204872 (30)\ttotal: 2.89s\tremaining: 1m 11s\n",
            "31:\tlearn: 18.0055526\ttest: 69.6774521\tbest: 69.6774521 (31)\ttotal: 2.98s\tremaining: 1m 11s\n",
            "32:\tlearn: 17.8839576\ttest: 69.5775436\tbest: 69.5775436 (32)\ttotal: 3.08s\tremaining: 1m 11s\n",
            "33:\tlearn: 17.7622622\ttest: 69.1966760\tbest: 69.1966760 (33)\ttotal: 3.18s\tremaining: 1m 11s\n",
            "34:\tlearn: 17.6297964\ttest: 68.6748922\tbest: 68.6748922 (34)\ttotal: 3.27s\tremaining: 1m 11s\n",
            "35:\tlearn: 17.4785514\ttest: 68.5319247\tbest: 68.5319247 (35)\ttotal: 3.36s\tremaining: 1m 11s\n",
            "36:\tlearn: 17.3533798\ttest: 68.4328746\tbest: 68.4328746 (36)\ttotal: 3.45s\tremaining: 1m 11s\n",
            "37:\tlearn: 17.2507548\ttest: 68.2383504\tbest: 68.2383504 (37)\ttotal: 3.54s\tremaining: 1m 10s\n",
            "38:\tlearn: 17.1055059\ttest: 68.0934813\tbest: 68.0934813 (38)\ttotal: 3.63s\tremaining: 1m 10s\n",
            "39:\tlearn: 16.9936620\ttest: 67.7605037\tbest: 67.7605037 (39)\ttotal: 3.73s\tremaining: 1m 10s\n",
            "40:\tlearn: 16.8402686\ttest: 67.2120511\tbest: 67.2120511 (40)\ttotal: 3.82s\tremaining: 1m 10s\n",
            "41:\tlearn: 16.7014145\ttest: 66.9245152\tbest: 66.9245152 (41)\ttotal: 3.91s\tremaining: 1m 10s\n",
            "42:\tlearn: 16.5822040\ttest: 66.8372649\tbest: 66.8372649 (42)\ttotal: 4s\tremaining: 1m 10s\n",
            "43:\tlearn: 16.4939687\ttest: 66.6229391\tbest: 66.6229391 (43)\ttotal: 4.11s\tremaining: 1m 10s\n",
            "44:\tlearn: 16.3857651\ttest: 66.4231845\tbest: 66.4231845 (44)\ttotal: 4.23s\tremaining: 1m 11s\n",
            "45:\tlearn: 16.2810187\ttest: 66.3230426\tbest: 66.3230426 (45)\ttotal: 4.34s\tremaining: 1m 11s\n",
            "46:\tlearn: 16.1723521\ttest: 66.1705322\tbest: 66.1705322 (46)\ttotal: 4.43s\tremaining: 1m 11s\n",
            "47:\tlearn: 16.0840713\ttest: 66.1195185\tbest: 66.1195185 (47)\ttotal: 4.52s\tremaining: 1m 10s\n",
            "48:\tlearn: 15.9862129\ttest: 65.6040169\tbest: 65.6040169 (48)\ttotal: 4.61s\tremaining: 1m 10s\n",
            "49:\tlearn: 15.8720054\ttest: 65.5010052\tbest: 65.5010052 (49)\ttotal: 4.7s\tremaining: 1m 10s\n",
            "50:\tlearn: 15.7830046\ttest: 65.5022320\tbest: 65.5010052 (49)\ttotal: 4.79s\tremaining: 1m 10s\n",
            "Stopped by overfitting detector  (1 iterations wait)\n",
            "\n",
            "bestTest = 65.50100519\n",
            "bestIteration = 49\n",
            "\n",
            "Shrink model to first 50 iterations.\n",
            "Learning rate set to 0.068842\n",
            "0:\tlearn: 32.6541141\ttest: 88.4409617\tbest: 88.4409617 (0)\ttotal: 185ms\tremaining: 2m 27s\n",
            "1:\tlearn: 31.5083218\ttest: 87.1095529\tbest: 87.1095529 (1)\ttotal: 294ms\tremaining: 1m 57s\n",
            "2:\tlearn: 30.5409182\ttest: 84.9524640\tbest: 84.9524640 (2)\ttotal: 410ms\tremaining: 1m 48s\n",
            "3:\tlearn: 29.5064753\ttest: 83.4670106\tbest: 83.4670106 (3)\ttotal: 518ms\tremaining: 1m 43s\n",
            "4:\tlearn: 28.6170779\ttest: 82.1528982\tbest: 82.1528982 (4)\ttotal: 623ms\tremaining: 1m 39s\n",
            "5:\tlearn: 27.8266114\ttest: 80.8957699\tbest: 80.8957699 (5)\ttotal: 728ms\tremaining: 1m 36s\n",
            "6:\tlearn: 27.0457416\ttest: 79.5826947\tbest: 79.5826947 (6)\ttotal: 839ms\tremaining: 1m 35s\n",
            "7:\tlearn: 26.3051861\ttest: 78.5801895\tbest: 78.5801895 (7)\ttotal: 947ms\tremaining: 1m 33s\n",
            "8:\tlearn: 25.6386358\ttest: 77.7424332\tbest: 77.7424332 (8)\ttotal: 1.05s\tremaining: 1m 32s\n",
            "9:\tlearn: 25.0222773\ttest: 76.8048669\tbest: 76.8048669 (9)\ttotal: 1.16s\tremaining: 1m 31s\n",
            "10:\tlearn: 24.4660731\ttest: 76.0475646\tbest: 76.0475646 (10)\ttotal: 1.27s\tremaining: 1m 31s\n",
            "11:\tlearn: 23.9302762\ttest: 75.2571941\tbest: 75.2571941 (11)\ttotal: 1.4s\tremaining: 1m 31s\n",
            "12:\tlearn: 23.4759970\ttest: 74.3052210\tbest: 74.3052210 (12)\ttotal: 1.51s\tremaining: 1m 31s\n",
            "13:\tlearn: 23.0256579\ttest: 73.1802647\tbest: 73.1802647 (13)\ttotal: 1.63s\tremaining: 1m 31s\n",
            "14:\tlearn: 22.6298850\ttest: 72.4493402\tbest: 72.4493402 (14)\ttotal: 1.74s\tremaining: 1m 31s\n",
            "15:\tlearn: 22.2788831\ttest: 71.5548630\tbest: 71.5548630 (15)\ttotal: 1.85s\tremaining: 1m 30s\n",
            "16:\tlearn: 21.9494200\ttest: 71.0075883\tbest: 71.0075883 (16)\ttotal: 1.96s\tremaining: 1m 30s\n",
            "17:\tlearn: 21.6434161\ttest: 69.8603944\tbest: 69.8603944 (17)\ttotal: 2.07s\tremaining: 1m 29s\n",
            "18:\tlearn: 21.3569274\ttest: 69.0491951\tbest: 69.0491951 (18)\ttotal: 2.18s\tremaining: 1m 29s\n",
            "19:\tlearn: 21.0578456\ttest: 68.2484998\tbest: 68.2484998 (19)\ttotal: 2.29s\tremaining: 1m 29s\n",
            "20:\tlearn: 20.8049063\ttest: 67.2796669\tbest: 67.2796669 (20)\ttotal: 2.4s\tremaining: 1m 29s\n",
            "21:\tlearn: 20.5503515\ttest: 66.6074886\tbest: 66.6074886 (21)\ttotal: 2.51s\tremaining: 1m 28s\n",
            "22:\tlearn: 20.3120623\ttest: 66.0820624\tbest: 66.0820624 (22)\ttotal: 2.62s\tremaining: 1m 28s\n",
            "23:\tlearn: 20.0812782\ttest: 65.6051860\tbest: 65.6051860 (23)\ttotal: 2.73s\tremaining: 1m 28s\n",
            "24:\tlearn: 19.8798622\ttest: 65.0163229\tbest: 65.0163229 (24)\ttotal: 2.84s\tremaining: 1m 28s\n",
            "25:\tlearn: 19.6890908\ttest: 64.5639176\tbest: 64.5639176 (25)\ttotal: 2.95s\tremaining: 1m 27s\n",
            "26:\tlearn: 19.4918494\ttest: 64.0258211\tbest: 64.0258211 (26)\ttotal: 3.06s\tremaining: 1m 27s\n",
            "27:\tlearn: 19.2990849\ttest: 63.3478668\tbest: 63.3478668 (27)\ttotal: 3.17s\tremaining: 1m 27s\n",
            "28:\tlearn: 19.1445819\ttest: 63.2373416\tbest: 63.2373416 (28)\ttotal: 3.27s\tremaining: 1m 27s\n",
            "29:\tlearn: 18.9818763\ttest: 63.0560282\tbest: 63.0560282 (29)\ttotal: 3.4s\tremaining: 1m 27s\n",
            "30:\tlearn: 18.8530683\ttest: 62.8542834\tbest: 62.8542834 (30)\ttotal: 3.51s\tremaining: 1m 26s\n",
            "31:\tlearn: 18.6863175\ttest: 62.3949339\tbest: 62.3949339 (31)\ttotal: 3.61s\tremaining: 1m 26s\n",
            "32:\tlearn: 18.5901351\ttest: 62.2882080\tbest: 62.2882080 (32)\ttotal: 3.72s\tremaining: 1m 26s\n",
            "33:\tlearn: 18.4556690\ttest: 62.2107226\tbest: 62.2107226 (33)\ttotal: 3.83s\tremaining: 1m 26s\n",
            "34:\tlearn: 18.3587738\ttest: 62.0926996\tbest: 62.0926996 (34)\ttotal: 3.94s\tremaining: 1m 26s\n",
            "35:\tlearn: 18.2683794\ttest: 61.9474445\tbest: 61.9474445 (35)\ttotal: 4.05s\tremaining: 1m 25s\n",
            "36:\tlearn: 18.1673651\ttest: 61.7507297\tbest: 61.7507297 (36)\ttotal: 4.17s\tremaining: 1m 25s\n",
            "37:\tlearn: 18.0733677\ttest: 61.4490302\tbest: 61.4490302 (37)\ttotal: 4.28s\tremaining: 1m 25s\n",
            "38:\tlearn: 17.9810267\ttest: 61.3480904\tbest: 61.3480904 (38)\ttotal: 4.4s\tremaining: 1m 25s\n",
            "39:\tlearn: 17.8569041\ttest: 61.0870123\tbest: 61.0870123 (39)\ttotal: 4.52s\tremaining: 1m 25s\n",
            "40:\tlearn: 17.7619422\ttest: 60.9233407\tbest: 60.9233407 (40)\ttotal: 4.63s\tremaining: 1m 25s\n",
            "41:\tlearn: 17.6774606\ttest: 60.6597568\tbest: 60.6597568 (41)\ttotal: 4.72s\tremaining: 1m 25s\n",
            "42:\tlearn: 17.5943627\ttest: 60.5504081\tbest: 60.5504081 (42)\ttotal: 4.82s\tremaining: 1m 24s\n",
            "43:\tlearn: 17.5493344\ttest: 60.5085066\tbest: 60.5085066 (43)\ttotal: 4.92s\tremaining: 1m 24s\n",
            "44:\tlearn: 17.4942779\ttest: 60.3735627\tbest: 60.3735627 (44)\ttotal: 5.03s\tremaining: 1m 24s\n",
            "45:\tlearn: 17.3890923\ttest: 60.3040427\tbest: 60.3040427 (45)\ttotal: 5.14s\tremaining: 1m 24s\n",
            "46:\tlearn: 17.3129552\ttest: 60.0851371\tbest: 60.0851371 (46)\ttotal: 5.24s\tremaining: 1m 23s\n",
            "47:\tlearn: 17.1987409\ttest: 60.0641699\tbest: 60.0641699 (47)\ttotal: 5.34s\tremaining: 1m 23s\n",
            "48:\tlearn: 17.1404045\ttest: 59.8597253\tbest: 59.8597253 (48)\ttotal: 5.45s\tremaining: 1m 23s\n",
            "49:\tlearn: 17.0488028\ttest: 59.9608897\tbest: 59.8597253 (48)\ttotal: 5.55s\tremaining: 1m 23s\n",
            "Stopped by overfitting detector  (1 iterations wait)\n",
            "\n",
            "bestTest = 59.85972528\n",
            "bestIteration = 48\n",
            "\n",
            "Shrink model to first 49 iterations.\n",
            "Learning rate set to 0.077197\n",
            "0:\tlearn: 28.3867689\ttest: 99.8457007\tbest: 99.8457007 (0)\ttotal: 233ms\tremaining: 1m 56s\n",
            "1:\tlearn: 27.3895200\ttest: 99.8069344\tbest: 99.8069344 (1)\ttotal: 394ms\tremaining: 1m 38s\n",
            "2:\tlearn: 26.5807003\ttest: 100.1329419\tbest: 99.8069344 (1)\ttotal: 550ms\tremaining: 1m 31s\n",
            "Stopped by overfitting detector  (1 iterations wait)\n",
            "\n",
            "bestTest = 99.80693435\n",
            "bestIteration = 1\n",
            "\n",
            "Shrink model to first 2 iterations.\n",
            "Learning rate set to 0.08605\n",
            "0:\tlearn: 31.4609659\ttest: 91.8942169\tbest: 91.8942169 (0)\ttotal: 326ms\tremaining: 2m 42s\n",
            "1:\tlearn: 30.0974045\ttest: 90.0844907\tbest: 90.0844907 (1)\ttotal: 511ms\tremaining: 2m 7s\n",
            "2:\tlearn: 28.9204719\ttest: 88.5844521\tbest: 88.5844521 (2)\ttotal: 709ms\tremaining: 1m 57s\n",
            "3:\tlearn: 27.8035709\ttest: 86.9608534\tbest: 86.9608534 (3)\ttotal: 947ms\tremaining: 1m 57s\n",
            "4:\tlearn: 26.8428904\ttest: 86.4752611\tbest: 86.4752611 (4)\ttotal: 1.18s\tremaining: 1m 57s\n",
            "5:\tlearn: 25.9958020\ttest: 85.2501700\tbest: 85.2501700 (5)\ttotal: 1.36s\tremaining: 1m 51s\n",
            "6:\tlearn: 25.0675199\ttest: 84.0068716\tbest: 84.0068716 (6)\ttotal: 1.55s\tremaining: 1m 48s\n",
            "7:\tlearn: 24.2696625\ttest: 83.1004373\tbest: 83.1004373 (7)\ttotal: 1.72s\tremaining: 1m 45s\n",
            "8:\tlearn: 23.5245324\ttest: 81.0364373\tbest: 81.0364373 (8)\ttotal: 1.89s\tremaining: 1m 43s\n",
            "9:\tlearn: 22.9248470\ttest: 80.3366598\tbest: 80.3366598 (9)\ttotal: 2.06s\tremaining: 1m 40s\n",
            "10:\tlearn: 22.2961021\ttest: 79.1291339\tbest: 79.1291339 (10)\ttotal: 2.26s\tremaining: 1m 40s\n",
            "11:\tlearn: 21.7479924\ttest: 78.6063643\tbest: 78.6063643 (11)\ttotal: 2.45s\tremaining: 1m 39s\n",
            "12:\tlearn: 21.3281172\ttest: 77.6257326\tbest: 77.6257326 (12)\ttotal: 2.63s\tremaining: 1m 38s\n",
            "13:\tlearn: 20.8612742\ttest: 77.3451781\tbest: 77.3451781 (13)\ttotal: 2.81s\tremaining: 1m 37s\n",
            "14:\tlearn: 20.3921606\ttest: 75.9482790\tbest: 75.9482790 (14)\ttotal: 2.98s\tremaining: 1m 36s\n",
            "15:\tlearn: 19.9879607\ttest: 74.7701169\tbest: 74.7701169 (15)\ttotal: 3.15s\tremaining: 1m 35s\n",
            "16:\tlearn: 19.6455891\ttest: 74.4143826\tbest: 74.4143826 (16)\ttotal: 3.33s\tremaining: 1m 34s\n",
            "17:\tlearn: 19.2544250\ttest: 74.0347669\tbest: 74.0347669 (17)\ttotal: 3.51s\tremaining: 1m 33s\n",
            "18:\tlearn: 18.9182909\ttest: 73.9190985\tbest: 73.9190985 (18)\ttotal: 3.67s\tremaining: 1m 32s\n",
            "19:\tlearn: 18.6087325\ttest: 73.2735742\tbest: 73.2735742 (19)\ttotal: 3.85s\tremaining: 1m 32s\n",
            "20:\tlearn: 18.3430460\ttest: 72.8729115\tbest: 72.8729115 (20)\ttotal: 4.04s\tremaining: 1m 32s\n",
            "21:\tlearn: 18.0612110\ttest: 72.5280880\tbest: 72.5280880 (21)\ttotal: 4.2s\tremaining: 1m 31s\n",
            "22:\tlearn: 17.7670714\ttest: 71.7621291\tbest: 71.7621291 (22)\ttotal: 4.37s\tremaining: 1m 30s\n",
            "23:\tlearn: 17.5441825\ttest: 71.7493337\tbest: 71.7493337 (23)\ttotal: 4.53s\tremaining: 1m 29s\n",
            "24:\tlearn: 17.3318803\ttest: 71.1163180\tbest: 71.1163180 (24)\ttotal: 4.7s\tremaining: 1m 29s\n",
            "25:\tlearn: 17.1327277\ttest: 70.7927942\tbest: 70.7927942 (25)\ttotal: 4.87s\tremaining: 1m 28s\n",
            "26:\tlearn: 16.9646520\ttest: 70.7183764\tbest: 70.7183764 (26)\ttotal: 5.03s\tremaining: 1m 28s\n",
            "27:\tlearn: 16.7672434\ttest: 70.5512569\tbest: 70.5512569 (27)\ttotal: 5.2s\tremaining: 1m 27s\n",
            "28:\tlearn: 16.5824134\ttest: 69.6720469\tbest: 69.6720469 (28)\ttotal: 5.38s\tremaining: 1m 27s\n",
            "29:\tlearn: 16.3754004\ttest: 69.3774075\tbest: 69.3774075 (29)\ttotal: 5.54s\tremaining: 1m 26s\n",
            "30:\tlearn: 16.2246153\ttest: 68.8764491\tbest: 68.8764491 (30)\ttotal: 5.71s\tremaining: 1m 26s\n",
            "31:\tlearn: 16.0677249\ttest: 68.7665116\tbest: 68.7665116 (31)\ttotal: 5.87s\tremaining: 1m 25s\n",
            "32:\tlearn: 15.9392468\ttest: 68.3706564\tbest: 68.3706564 (32)\ttotal: 6.04s\tremaining: 1m 25s\n",
            "33:\tlearn: 15.7529707\ttest: 67.8415657\tbest: 67.8415657 (33)\ttotal: 6.21s\tremaining: 1m 25s\n",
            "34:\tlearn: 15.6094859\ttest: 67.7180315\tbest: 67.7180315 (34)\ttotal: 6.38s\tremaining: 1m 24s\n",
            "35:\tlearn: 15.4954430\ttest: 67.4438916\tbest: 67.4438916 (35)\ttotal: 6.55s\tremaining: 1m 24s\n",
            "36:\tlearn: 15.3217993\ttest: 67.0732394\tbest: 67.0732394 (36)\ttotal: 6.73s\tremaining: 1m 24s\n",
            "37:\tlearn: 15.1951140\ttest: 66.8775515\tbest: 66.8775515 (37)\ttotal: 6.89s\tremaining: 1m 23s\n",
            "38:\tlearn: 15.0380636\ttest: 66.7075575\tbest: 66.7075575 (38)\ttotal: 7.06s\tremaining: 1m 23s\n",
            "39:\tlearn: 14.8930891\ttest: 66.5697240\tbest: 66.5697240 (39)\ttotal: 7.23s\tremaining: 1m 23s\n",
            "40:\tlearn: 14.7955233\ttest: 66.5346292\tbest: 66.5346292 (40)\ttotal: 7.41s\tremaining: 1m 22s\n",
            "41:\tlearn: 14.6775709\ttest: 66.3846484\tbest: 66.3846484 (41)\ttotal: 7.58s\tremaining: 1m 22s\n",
            "42:\tlearn: 14.5737215\ttest: 66.2559311\tbest: 66.2559311 (42)\ttotal: 7.75s\tremaining: 1m 22s\n",
            "43:\tlearn: 14.4747916\ttest: 66.2328558\tbest: 66.2328558 (43)\ttotal: 7.93s\tremaining: 1m 22s\n",
            "44:\tlearn: 14.3507338\ttest: 66.2536019\tbest: 66.2328558 (43)\ttotal: 8.1s\tremaining: 1m 21s\n",
            "Stopped by overfitting detector  (1 iterations wait)\n",
            "\n",
            "bestTest = 66.23285584\n",
            "bestIteration = 43\n",
            "\n",
            "Shrink model to first 44 iterations.\n",
            "Learning rate set to 0.091699\n",
            "0:\tlearn: 32.2294708\ttest: 88.0194722\tbest: 88.0194722 (0)\ttotal: 325ms\tremaining: 2m 42s\n",
            "1:\tlearn: 30.7225114\ttest: 85.7504444\tbest: 85.7504444 (1)\ttotal: 516ms\tremaining: 2m 8s\n",
            "2:\tlearn: 29.4516968\ttest: 84.7356190\tbest: 84.7356190 (2)\ttotal: 701ms\tremaining: 1m 56s\n",
            "3:\tlearn: 28.2801735\ttest: 82.7759528\tbest: 82.7759528 (3)\ttotal: 890ms\tremaining: 1m 50s\n",
            "4:\tlearn: 27.2599563\ttest: 81.0733158\tbest: 81.0733158 (4)\ttotal: 1.08s\tremaining: 1m 47s\n",
            "5:\tlearn: 26.2144464\ttest: 79.2780350\tbest: 79.2780350 (5)\ttotal: 1.27s\tremaining: 1m 44s\n",
            "6:\tlearn: 25.2516333\ttest: 77.5613404\tbest: 77.5613404 (6)\ttotal: 1.47s\tremaining: 1m 43s\n",
            "7:\tlearn: 24.4034971\ttest: 76.6297280\tbest: 76.6297280 (7)\ttotal: 1.66s\tremaining: 1m 41s\n",
            "8:\tlearn: 23.6746920\ttest: 75.1710420\tbest: 75.1710420 (8)\ttotal: 1.86s\tremaining: 1m 41s\n",
            "9:\tlearn: 23.0297735\ttest: 74.4216270\tbest: 74.4216270 (9)\ttotal: 2.1s\tremaining: 1m 43s\n",
            "10:\tlearn: 22.5166789\ttest: 73.1177355\tbest: 73.1177355 (10)\ttotal: 2.29s\tremaining: 1m 41s\n",
            "11:\tlearn: 22.0444231\ttest: 72.5576190\tbest: 72.5576190 (11)\ttotal: 2.48s\tremaining: 1m 40s\n",
            "12:\tlearn: 21.5674669\ttest: 71.0405460\tbest: 71.0405460 (12)\ttotal: 2.67s\tremaining: 1m 40s\n",
            "13:\tlearn: 21.1060260\ttest: 70.7159848\tbest: 70.7159848 (13)\ttotal: 2.86s\tremaining: 1m 39s\n",
            "14:\tlearn: 20.6760521\ttest: 69.5567390\tbest: 69.5567390 (14)\ttotal: 3.05s\tremaining: 1m 38s\n",
            "15:\tlearn: 20.2876229\ttest: 68.4123755\tbest: 68.4123755 (15)\ttotal: 3.24s\tremaining: 1m 37s\n",
            "16:\tlearn: 19.9391457\ttest: 67.6778197\tbest: 67.6778197 (16)\ttotal: 3.42s\tremaining: 1m 37s\n",
            "17:\tlearn: 19.6306039\ttest: 66.8261180\tbest: 66.8261180 (17)\ttotal: 3.63s\tremaining: 1m 37s\n",
            "18:\tlearn: 19.3132690\ttest: 66.2828754\tbest: 66.2828754 (18)\ttotal: 3.86s\tremaining: 1m 37s\n",
            "19:\tlearn: 18.9929216\ttest: 65.7390585\tbest: 65.7390585 (19)\ttotal: 4.05s\tremaining: 1m 37s\n",
            "20:\tlearn: 18.7509005\ttest: 65.3482842\tbest: 65.3482842 (20)\ttotal: 4.24s\tremaining: 1m 36s\n",
            "21:\tlearn: 18.4781402\ttest: 64.6430160\tbest: 64.6430160 (21)\ttotal: 4.43s\tremaining: 1m 36s\n",
            "22:\tlearn: 18.2360894\ttest: 63.7991124\tbest: 63.7991124 (22)\ttotal: 4.62s\tremaining: 1m 35s\n",
            "23:\tlearn: 18.0415380\ttest: 63.6896216\tbest: 63.6896216 (23)\ttotal: 4.8s\tremaining: 1m 35s\n",
            "24:\tlearn: 17.8570489\ttest: 63.4614185\tbest: 63.4614185 (24)\ttotal: 5s\tremaining: 1m 34s\n",
            "25:\tlearn: 17.6775946\ttest: 63.3732439\tbest: 63.3732439 (25)\ttotal: 5.18s\tremaining: 1m 34s\n",
            "26:\tlearn: 17.5115726\ttest: 63.1354537\tbest: 63.1354537 (26)\ttotal: 5.37s\tremaining: 1m 34s\n",
            "27:\tlearn: 17.3238878\ttest: 62.8569132\tbest: 62.8569132 (27)\ttotal: 5.55s\tremaining: 1m 33s\n",
            "28:\tlearn: 17.2149472\ttest: 62.6577409\tbest: 62.6577409 (28)\ttotal: 5.74s\tremaining: 1m 33s\n",
            "29:\tlearn: 17.0278769\ttest: 62.4268007\tbest: 62.4268007 (29)\ttotal: 5.93s\tremaining: 1m 32s\n",
            "30:\tlearn: 16.9003459\ttest: 62.3106565\tbest: 62.3106565 (30)\ttotal: 6.12s\tremaining: 1m 32s\n",
            "31:\tlearn: 16.7759282\ttest: 61.9931748\tbest: 61.9931748 (31)\ttotal: 6.3s\tremaining: 1m 32s\n",
            "32:\tlearn: 16.6112608\ttest: 61.7720430\tbest: 61.7720430 (32)\ttotal: 6.49s\tremaining: 1m 31s\n",
            "33:\tlearn: 16.5067895\ttest: 61.4609933\tbest: 61.4609933 (33)\ttotal: 6.67s\tremaining: 1m 31s\n",
            "34:\tlearn: 16.3705695\ttest: 61.3590453\tbest: 61.3590453 (34)\ttotal: 6.86s\tremaining: 1m 31s\n",
            "35:\tlearn: 16.2729006\ttest: 61.1436901\tbest: 61.1436901 (35)\ttotal: 7.06s\tremaining: 1m 31s\n",
            "36:\tlearn: 16.1788473\ttest: 60.6868908\tbest: 60.6868908 (36)\ttotal: 7.25s\tremaining: 1m 30s\n",
            "37:\tlearn: 16.0932788\ttest: 60.4988582\tbest: 60.4988582 (37)\ttotal: 7.43s\tremaining: 1m 30s\n",
            "38:\tlearn: 15.9942790\ttest: 60.3649317\tbest: 60.3649317 (38)\ttotal: 7.62s\tremaining: 1m 30s\n",
            "39:\tlearn: 15.8921679\ttest: 60.3981976\tbest: 60.3649317 (38)\ttotal: 7.8s\tremaining: 1m 29s\n",
            "Stopped by overfitting detector  (1 iterations wait)\n",
            "\n",
            "bestTest = 60.36493167\n",
            "bestIteration = 38\n",
            "\n",
            "Shrink model to first 39 iterations.\n",
            "Learning rate set to 0.069071\n",
            "0:\tlearn: 28.5111877\ttest: 99.9132993\tbest: 99.9132993 (0)\ttotal: 239ms\tremaining: 2m 23s\n",
            "1:\tlearn: 27.6249691\ttest: 99.7167391\tbest: 99.7167391 (1)\ttotal: 385ms\tremaining: 1m 55s\n",
            "2:\tlearn: 26.8685088\ttest: 99.7050684\tbest: 99.7050684 (2)\ttotal: 529ms\tremaining: 1m 45s\n",
            "3:\tlearn: 26.1825662\ttest: 99.3268686\tbest: 99.3268686 (3)\ttotal: 668ms\tremaining: 1m 39s\n",
            "4:\tlearn: 25.4965921\ttest: 99.2171580\tbest: 99.2171580 (4)\ttotal: 818ms\tremaining: 1m 37s\n",
            "5:\tlearn: 24.8108820\ttest: 99.3921041\tbest: 99.2171580 (4)\ttotal: 958ms\tremaining: 1m 34s\n",
            "Stopped by overfitting detector  (1 iterations wait)\n",
            "\n",
            "bestTest = 99.21715796\n",
            "bestIteration = 4\n",
            "\n",
            "Shrink model to first 5 iterations.\n",
            "Learning rate set to 0.076993\n",
            "0:\tlearn: 31.6238519\ttest: 92.2375500\tbest: 92.2375500 (0)\ttotal: 292ms\tremaining: 2m 55s\n",
            "1:\tlearn: 30.3891994\ttest: 90.6078533\tbest: 90.6078533 (1)\ttotal: 466ms\tremaining: 2m 19s\n",
            "2:\tlearn: 29.3117958\ttest: 89.2460147\tbest: 89.2460147 (2)\ttotal: 642ms\tremaining: 2m 7s\n",
            "3:\tlearn: 28.2855803\ttest: 87.8262690\tbest: 87.8262690 (3)\ttotal: 810ms\tremaining: 2m\n",
            "4:\tlearn: 27.4082933\ttest: 86.5926134\tbest: 86.5926134 (4)\ttotal: 979ms\tremaining: 1m 56s\n",
            "5:\tlearn: 26.6310071\ttest: 85.4388686\tbest: 85.4388686 (5)\ttotal: 1.15s\tremaining: 1m 53s\n",
            "6:\tlearn: 25.7405842\ttest: 83.5503418\tbest: 83.5503418 (6)\ttotal: 1.32s\tremaining: 1m 51s\n",
            "7:\tlearn: 24.9895311\ttest: 82.8194878\tbest: 82.8194878 (7)\ttotal: 1.51s\tremaining: 1m 51s\n",
            "8:\tlearn: 24.2696232\ttest: 80.2437496\tbest: 80.2437496 (8)\ttotal: 1.71s\tremaining: 1m 52s\n",
            "9:\tlearn: 23.6654731\ttest: 79.9795528\tbest: 79.9795528 (9)\ttotal: 1.88s\tremaining: 1m 51s\n",
            "10:\tlearn: 23.0920380\ttest: 79.3730213\tbest: 79.3730213 (10)\ttotal: 2.05s\tremaining: 1m 49s\n",
            "11:\tlearn: 22.5582356\ttest: 78.9579009\tbest: 78.9579009 (11)\ttotal: 2.21s\tremaining: 1m 48s\n",
            "12:\tlearn: 22.0622669\ttest: 78.6100758\tbest: 78.6100758 (12)\ttotal: 2.39s\tremaining: 1m 47s\n",
            "13:\tlearn: 21.6008600\ttest: 78.2657047\tbest: 78.2657047 (13)\ttotal: 2.56s\tremaining: 1m 47s\n",
            "14:\tlearn: 21.1297117\ttest: 77.4814248\tbest: 77.4814248 (14)\ttotal: 2.73s\tremaining: 1m 46s\n",
            "15:\tlearn: 20.6682275\ttest: 75.6398212\tbest: 75.6398212 (15)\ttotal: 2.9s\tremaining: 1m 45s\n",
            "16:\tlearn: 20.3070697\ttest: 75.3925378\tbest: 75.3925378 (16)\ttotal: 3.06s\tremaining: 1m 45s\n",
            "17:\tlearn: 19.9103670\ttest: 74.6380930\tbest: 74.6380930 (17)\ttotal: 3.26s\tremaining: 1m 45s\n",
            "18:\tlearn: 19.5514366\ttest: 74.5140171\tbest: 74.5140171 (18)\ttotal: 3.46s\tremaining: 1m 45s\n",
            "19:\tlearn: 19.2187863\ttest: 74.2467530\tbest: 74.2467530 (19)\ttotal: 3.65s\tremaining: 1m 46s\n",
            "20:\tlearn: 18.9053700\ttest: 73.6088048\tbest: 73.6088048 (20)\ttotal: 3.85s\tremaining: 1m 46s\n",
            "21:\tlearn: 18.6203520\ttest: 72.9968364\tbest: 72.9968364 (21)\ttotal: 4.02s\tremaining: 1m 45s\n",
            "22:\tlearn: 18.3226145\ttest: 72.0088324\tbest: 72.0088324 (22)\ttotal: 4.18s\tremaining: 1m 44s\n",
            "23:\tlearn: 18.0205479\ttest: 71.3760500\tbest: 71.3760500 (23)\ttotal: 4.36s\tremaining: 1m 44s\n",
            "24:\tlearn: 17.8041462\ttest: 70.8338401\tbest: 70.8338401 (24)\ttotal: 4.54s\tremaining: 1m 44s\n",
            "25:\tlearn: 17.5888957\ttest: 70.5768292\tbest: 70.5768292 (25)\ttotal: 4.73s\tremaining: 1m 44s\n",
            "26:\tlearn: 17.3760134\ttest: 70.2315928\tbest: 70.2315928 (26)\ttotal: 4.9s\tremaining: 1m 43s\n",
            "27:\tlearn: 17.1589642\ttest: 69.9289943\tbest: 69.9289943 (27)\ttotal: 5.07s\tremaining: 1m 43s\n",
            "28:\tlearn: 16.9678290\ttest: 69.4359611\tbest: 69.4359611 (28)\ttotal: 5.24s\tremaining: 1m 43s\n",
            "29:\tlearn: 16.8123419\ttest: 68.9673905\tbest: 68.9673905 (29)\ttotal: 5.42s\tremaining: 1m 42s\n",
            "30:\tlearn: 16.6339663\ttest: 68.5062341\tbest: 68.5062341 (30)\ttotal: 5.59s\tremaining: 1m 42s\n",
            "31:\tlearn: 16.4763799\ttest: 68.3591659\tbest: 68.3591659 (31)\ttotal: 5.76s\tremaining: 1m 42s\n",
            "32:\tlearn: 16.3349261\ttest: 67.9509724\tbest: 67.9509724 (32)\ttotal: 5.93s\tremaining: 1m 41s\n",
            "33:\tlearn: 16.2101545\ttest: 67.8500583\tbest: 67.8500583 (33)\ttotal: 6.1s\tremaining: 1m 41s\n",
            "34:\tlearn: 16.0148781\ttest: 67.0963429\tbest: 67.0963429 (34)\ttotal: 6.28s\tremaining: 1m 41s\n",
            "35:\tlearn: 15.8484547\ttest: 66.8539558\tbest: 66.8539558 (35)\ttotal: 6.45s\tremaining: 1m 41s\n",
            "36:\tlearn: 15.7221398\ttest: 66.3645292\tbest: 66.3645292 (36)\ttotal: 6.64s\tremaining: 1m 40s\n",
            "37:\tlearn: 15.6082649\ttest: 66.1692951\tbest: 66.1692951 (37)\ttotal: 6.8s\tremaining: 1m 40s\n",
            "38:\tlearn: 15.4715946\ttest: 65.8213216\tbest: 65.8213216 (38)\ttotal: 6.96s\tremaining: 1m 40s\n",
            "39:\tlearn: 15.3467916\ttest: 65.7683710\tbest: 65.7683710 (39)\ttotal: 7.13s\tremaining: 1m 39s\n",
            "40:\tlearn: 15.2276869\ttest: 65.4586066\tbest: 65.4586066 (40)\ttotal: 7.29s\tremaining: 1m 39s\n",
            "41:\tlearn: 15.0832254\ttest: 65.2067894\tbest: 65.2067894 (41)\ttotal: 7.47s\tremaining: 1m 39s\n",
            "42:\tlearn: 14.9679285\ttest: 65.0096935\tbest: 65.0096935 (42)\ttotal: 7.64s\tremaining: 1m 38s\n",
            "43:\tlearn: 14.8595322\ttest: 64.9528202\tbest: 64.9528202 (43)\ttotal: 7.81s\tremaining: 1m 38s\n",
            "44:\tlearn: 14.6936859\ttest: 64.8840479\tbest: 64.8840479 (44)\ttotal: 7.98s\tremaining: 1m 38s\n",
            "45:\tlearn: 14.5817019\ttest: 64.6442266\tbest: 64.6442266 (45)\ttotal: 8.15s\tremaining: 1m 38s\n",
            "46:\tlearn: 14.4889976\ttest: 64.4226458\tbest: 64.4226458 (46)\ttotal: 8.31s\tremaining: 1m 37s\n",
            "47:\tlearn: 14.3753726\ttest: 64.3906417\tbest: 64.3906417 (47)\ttotal: 8.48s\tremaining: 1m 37s\n",
            "48:\tlearn: 14.2962300\ttest: 64.3922820\tbest: 64.3906417 (47)\ttotal: 8.65s\tremaining: 1m 37s\n",
            "Stopped by overfitting detector  (1 iterations wait)\n",
            "\n",
            "bestTest = 64.39064168\n",
            "bestIteration = 47\n",
            "\n",
            "Shrink model to first 48 iterations.\n",
            "Learning rate set to 0.082047\n",
            "0:\tlearn: 32.4095977\ttest: 88.2976275\tbest: 88.2976275 (0)\ttotal: 321ms\tremaining: 3m 12s\n",
            "1:\tlearn: 31.0829592\ttest: 86.8924746\tbest: 86.8924746 (1)\ttotal: 502ms\tremaining: 2m 29s\n",
            "2:\tlearn: 29.9401266\ttest: 85.9926550\tbest: 85.9926550 (2)\ttotal: 683ms\tremaining: 2m 15s\n",
            "3:\tlearn: 28.8411268\ttest: 84.1724838\tbest: 84.1724838 (3)\ttotal: 867ms\tremaining: 2m 9s\n",
            "4:\tlearn: 27.8630935\ttest: 82.7002561\tbest: 82.7002561 (4)\ttotal: 1.06s\tremaining: 2m 6s\n",
            "5:\tlearn: 26.9464465\ttest: 80.8864364\tbest: 80.8864364 (5)\ttotal: 1.26s\tremaining: 2m 4s\n",
            "6:\tlearn: 26.0376149\ttest: 79.7629143\tbest: 79.7629143 (6)\ttotal: 1.45s\tremaining: 2m 2s\n",
            "7:\tlearn: 25.2383987\ttest: 79.0268328\tbest: 79.0268328 (7)\ttotal: 1.63s\tremaining: 2m\n",
            "8:\tlearn: 24.5075287\ttest: 77.3646327\tbest: 77.3646327 (8)\ttotal: 1.81s\tremaining: 1m 59s\n",
            "9:\tlearn: 23.8593986\ttest: 76.5668622\tbest: 76.5668622 (9)\ttotal: 2s\tremaining: 1m 58s\n",
            "10:\tlearn: 23.3015909\ttest: 75.5793546\tbest: 75.5793546 (10)\ttotal: 2.25s\tremaining: 2m\n",
            "11:\tlearn: 22.8011503\ttest: 74.8840764\tbest: 74.8840764 (11)\ttotal: 2.48s\tremaining: 2m 1s\n",
            "12:\tlearn: 22.3003516\ttest: 73.4498341\tbest: 73.4498341 (12)\ttotal: 2.67s\tremaining: 2m\n",
            "13:\tlearn: 21.8426680\ttest: 73.1520371\tbest: 73.1520371 (13)\ttotal: 2.85s\tremaining: 1m 59s\n",
            "14:\tlearn: 21.4140121\ttest: 72.2098136\tbest: 72.2098136 (14)\ttotal: 3.04s\tremaining: 1m 58s\n",
            "15:\tlearn: 21.0048226\ttest: 70.9806621\tbest: 70.9806621 (15)\ttotal: 3.24s\tremaining: 1m 58s\n",
            "16:\tlearn: 20.6340935\ttest: 70.2134344\tbest: 70.2134344 (16)\ttotal: 3.44s\tremaining: 1m 57s\n",
            "17:\tlearn: 20.3348976\ttest: 69.5740971\tbest: 69.5740971 (17)\ttotal: 3.63s\tremaining: 1m 57s\n",
            "18:\tlearn: 20.0002089\ttest: 68.9451705\tbest: 68.9451705 (18)\ttotal: 3.82s\tremaining: 1m 56s\n",
            "19:\tlearn: 19.6935058\ttest: 68.2919604\tbest: 68.2919604 (19)\ttotal: 4.03s\tremaining: 1m 56s\n",
            "20:\tlearn: 19.4426755\ttest: 67.6169914\tbest: 67.6169914 (20)\ttotal: 4.22s\tremaining: 1m 56s\n",
            "21:\tlearn: 19.2139781\ttest: 66.7079512\tbest: 66.7079512 (21)\ttotal: 4.41s\tremaining: 1m 55s\n",
            "22:\tlearn: 18.9602615\ttest: 66.0154901\tbest: 66.0154901 (22)\ttotal: 4.6s\tremaining: 1m 55s\n",
            "23:\tlearn: 18.6921748\ttest: 65.4158884\tbest: 65.4158884 (23)\ttotal: 4.8s\tremaining: 1m 55s\n",
            "24:\tlearn: 18.4609337\ttest: 65.0336194\tbest: 65.0336194 (24)\ttotal: 5s\tremaining: 1m 54s\n",
            "25:\tlearn: 18.2535209\ttest: 64.9125421\tbest: 64.9125421 (25)\ttotal: 5.19s\tremaining: 1m 54s\n",
            "26:\tlearn: 18.0778973\ttest: 64.8232676\tbest: 64.8232676 (26)\ttotal: 5.39s\tremaining: 1m 54s\n",
            "27:\tlearn: 17.8865690\ttest: 64.6272066\tbest: 64.6272066 (27)\ttotal: 5.58s\tremaining: 1m 54s\n",
            "28:\tlearn: 17.7605881\ttest: 64.3573004\tbest: 64.3573004 (28)\ttotal: 5.77s\tremaining: 1m 53s\n",
            "29:\tlearn: 17.6089843\ttest: 63.6997261\tbest: 63.6997261 (29)\ttotal: 5.97s\tremaining: 1m 53s\n",
            "30:\tlearn: 17.4347317\ttest: 63.4824648\tbest: 63.4824648 (30)\ttotal: 6.17s\tremaining: 1m 53s\n",
            "31:\tlearn: 17.3009541\ttest: 62.8948748\tbest: 62.8948748 (31)\ttotal: 6.35s\tremaining: 1m 52s\n",
            "32:\tlearn: 17.1652488\ttest: 62.1609774\tbest: 62.1609774 (32)\ttotal: 6.55s\tremaining: 1m 52s\n",
            "33:\tlearn: 17.0454247\ttest: 61.9515931\tbest: 61.9515931 (33)\ttotal: 6.74s\tremaining: 1m 52s\n",
            "34:\tlearn: 16.8796180\ttest: 61.8281040\tbest: 61.8281040 (34)\ttotal: 6.93s\tremaining: 1m 51s\n",
            "35:\tlearn: 16.7797639\ttest: 61.7322953\tbest: 61.7322953 (35)\ttotal: 7.13s\tremaining: 1m 51s\n",
            "36:\tlearn: 16.6864892\ttest: 61.6321303\tbest: 61.6321303 (36)\ttotal: 7.33s\tremaining: 1m 51s\n",
            "37:\tlearn: 16.6037100\ttest: 61.1369281\tbest: 61.1369281 (37)\ttotal: 7.52s\tremaining: 1m 51s\n",
            "38:\tlearn: 16.4779627\ttest: 60.9396679\tbest: 60.9396679 (38)\ttotal: 7.71s\tremaining: 1m 50s\n",
            "39:\tlearn: 16.3660648\ttest: 60.9779265\tbest: 60.9396679 (38)\ttotal: 7.9s\tremaining: 1m 50s\n",
            "Stopped by overfitting detector  (1 iterations wait)\n",
            "\n",
            "bestTest = 60.93966786\n",
            "bestIteration = 38\n",
            "\n",
            "Shrink model to first 39 iterations.\n",
            "Learning rate set to 0.057954\n",
            "0:\tlearn: 28.6820562\ttest: 100.0060665\tbest: 100.0060665 (0)\ttotal: 235ms\tremaining: 3m 7s\n",
            "1:\tlearn: 27.9286310\ttest: 99.8395716\tbest: 99.8395716 (1)\ttotal: 377ms\tremaining: 2m 30s\n",
            "2:\tlearn: 27.2455106\ttest: 99.7984279\tbest: 99.7984279 (2)\ttotal: 528ms\tremaining: 2m 20s\n",
            "3:\tlearn: 26.6526194\ttest: 99.4757959\tbest: 99.4757959 (3)\ttotal: 667ms\tremaining: 2m 12s\n",
            "4:\tlearn: 25.9837220\ttest: 98.6155937\tbest: 98.6155937 (4)\ttotal: 813ms\tremaining: 2m 9s\n",
            "5:\tlearn: 25.3804041\ttest: 98.7519048\tbest: 98.6155937 (4)\ttotal: 950ms\tremaining: 2m 5s\n",
            "Stopped by overfitting detector  (1 iterations wait)\n",
            "\n",
            "bestTest = 98.61559372\n",
            "bestIteration = 4\n",
            "\n",
            "Shrink model to first 5 iterations.\n",
            "Learning rate set to 0.064601\n",
            "0:\tlearn: 31.8477889\ttest: 92.7080218\tbest: 92.7080218 (0)\ttotal: 296ms\tremaining: 3m 56s\n",
            "1:\tlearn: 30.7950872\ttest: 91.3286222\tbest: 91.3286222 (1)\ttotal: 468ms\tremaining: 3m 6s\n",
            "2:\tlearn: 29.9316566\ttest: 90.4398190\tbest: 90.4398190 (2)\ttotal: 633ms\tremaining: 2m 48s\n",
            "3:\tlearn: 29.0319558\ttest: 89.2176477\tbest: 89.2176477 (3)\ttotal: 817ms\tremaining: 2m 42s\n",
            "4:\tlearn: 28.2255201\ttest: 87.8348038\tbest: 87.8348038 (4)\ttotal: 1s\tremaining: 2m 39s\n",
            "5:\tlearn: 27.5328949\ttest: 86.9261456\tbest: 86.9261456 (5)\ttotal: 1.18s\tremaining: 2m 36s\n",
            "6:\tlearn: 26.7067193\ttest: 84.9972969\tbest: 84.9972969 (6)\ttotal: 1.38s\tremaining: 2m 36s\n",
            "7:\tlearn: 26.0249956\ttest: 84.0127721\tbest: 84.0127721 (7)\ttotal: 1.57s\tremaining: 2m 35s\n",
            "8:\tlearn: 25.3504629\ttest: 82.2788343\tbest: 82.2788343 (8)\ttotal: 1.8s\tremaining: 2m 38s\n",
            "9:\tlearn: 24.7817897\ttest: 81.8317011\tbest: 81.8317011 (9)\ttotal: 2.06s\tremaining: 2m 42s\n",
            "10:\tlearn: 24.1686110\ttest: 80.7089182\tbest: 80.7089182 (10)\ttotal: 2.25s\tremaining: 2m 41s\n",
            "11:\tlearn: 23.6836141\ttest: 80.3572648\tbest: 80.3572648 (11)\ttotal: 2.43s\tremaining: 2m 39s\n",
            "12:\tlearn: 23.1915907\ttest: 79.9673778\tbest: 79.9673778 (12)\ttotal: 2.62s\tremaining: 2m 38s\n",
            "13:\tlearn: 22.7583769\ttest: 79.9472148\tbest: 79.9472148 (13)\ttotal: 2.8s\tremaining: 2m 37s\n",
            "14:\tlearn: 22.2825072\ttest: 78.6867117\tbest: 78.6867117 (14)\ttotal: 3s\tremaining: 2m 36s\n",
            "15:\tlearn: 21.8648577\ttest: 77.2931744\tbest: 77.2931744 (15)\ttotal: 3.18s\tremaining: 2m 35s\n",
            "16:\tlearn: 21.4984321\ttest: 76.8252235\tbest: 76.8252235 (16)\ttotal: 3.36s\tremaining: 2m 34s\n",
            "17:\tlearn: 21.1029086\ttest: 76.3549248\tbest: 76.3549248 (17)\ttotal: 3.55s\tremaining: 2m 34s\n",
            "18:\tlearn: 20.7354421\ttest: 76.1814776\tbest: 76.1814776 (18)\ttotal: 3.75s\tremaining: 2m 34s\n",
            "19:\tlearn: 20.3942815\ttest: 75.3258229\tbest: 75.3258229 (19)\ttotal: 3.95s\tremaining: 2m 33s\n",
            "20:\tlearn: 20.0883963\ttest: 74.5415053\tbest: 74.5415053 (20)\ttotal: 4.16s\tremaining: 2m 34s\n",
            "21:\tlearn: 19.7766866\ttest: 73.7657455\tbest: 73.7657455 (21)\ttotal: 4.39s\tremaining: 2m 35s\n",
            "22:\tlearn: 19.4562838\ttest: 72.5706616\tbest: 72.5706616 (22)\ttotal: 4.69s\tremaining: 2m 38s\n",
            "23:\tlearn: 19.1785564\ttest: 72.4343759\tbest: 72.4343759 (23)\ttotal: 4.88s\tremaining: 2m 37s\n",
            "24:\tlearn: 18.9419373\ttest: 72.2985969\tbest: 72.2985969 (24)\ttotal: 5.08s\tremaining: 2m 37s\n",
            "25:\tlearn: 18.7158172\ttest: 71.9881903\tbest: 71.9881903 (25)\ttotal: 5.26s\tremaining: 2m 36s\n",
            "26:\tlearn: 18.5197954\ttest: 71.8566005\tbest: 71.8566005 (26)\ttotal: 5.45s\tremaining: 2m 35s\n",
            "27:\tlearn: 18.2548028\ttest: 71.3100313\tbest: 71.3100313 (27)\ttotal: 5.63s\tremaining: 2m 35s\n",
            "28:\tlearn: 18.0780449\ttest: 71.2009149\tbest: 71.2009149 (28)\ttotal: 5.82s\tremaining: 2m 34s\n",
            "29:\tlearn: 17.8791100\ttest: 70.7432689\tbest: 70.7432689 (29)\ttotal: 6s\tremaining: 2m 34s\n",
            "30:\tlearn: 17.6607919\ttest: 70.0867961\tbest: 70.0867961 (30)\ttotal: 6.19s\tremaining: 2m 33s\n",
            "31:\tlearn: 17.4595791\ttest: 69.8840068\tbest: 69.8840068 (31)\ttotal: 6.38s\tremaining: 2m 33s\n",
            "32:\tlearn: 17.2753972\ttest: 69.3904298\tbest: 69.3904298 (32)\ttotal: 6.57s\tremaining: 2m 32s\n",
            "33:\tlearn: 17.1062957\ttest: 69.3874653\tbest: 69.3874653 (33)\ttotal: 6.77s\tremaining: 2m 32s\n",
            "34:\tlearn: 16.9529327\ttest: 69.2364378\tbest: 69.2364378 (34)\ttotal: 6.98s\tremaining: 2m 32s\n",
            "35:\tlearn: 16.8011493\ttest: 69.0120811\tbest: 69.0120811 (35)\ttotal: 7.16s\tremaining: 2m 32s\n",
            "36:\tlearn: 16.6301117\ttest: 68.7028190\tbest: 68.7028190 (36)\ttotal: 7.35s\tremaining: 2m 31s\n",
            "37:\tlearn: 16.5132934\ttest: 68.0950969\tbest: 68.0950969 (37)\ttotal: 7.54s\tremaining: 2m 31s\n",
            "38:\tlearn: 16.3930078\ttest: 67.8466892\tbest: 67.8466892 (38)\ttotal: 7.72s\tremaining: 2m 30s\n",
            "39:\tlearn: 16.2486115\ttest: 67.7916980\tbest: 67.7916980 (39)\ttotal: 7.9s\tremaining: 2m 30s\n",
            "40:\tlearn: 16.1074238\ttest: 67.2890478\tbest: 67.2890478 (40)\ttotal: 8.08s\tremaining: 2m 29s\n",
            "41:\tlearn: 15.9826027\ttest: 67.2127611\tbest: 67.2127611 (41)\ttotal: 8.26s\tremaining: 2m 29s\n",
            "42:\tlearn: 15.8587097\ttest: 67.0490490\tbest: 67.0490490 (42)\ttotal: 8.44s\tremaining: 2m 28s\n",
            "43:\tlearn: 15.7454850\ttest: 67.0061506\tbest: 67.0061506 (43)\ttotal: 8.63s\tremaining: 2m 28s\n",
            "44:\tlearn: 15.6181862\ttest: 66.8051372\tbest: 66.8051372 (44)\ttotal: 8.82s\tremaining: 2m 27s\n",
            "45:\tlearn: 15.4792393\ttest: 66.5678065\tbest: 66.5678065 (45)\ttotal: 9s\tremaining: 2m 27s\n",
            "46:\tlearn: 15.3789455\ttest: 66.1083847\tbest: 66.1083847 (46)\ttotal: 9.18s\tremaining: 2m 27s\n",
            "47:\tlearn: 15.2329684\ttest: 66.0105241\tbest: 66.0105241 (47)\ttotal: 9.38s\tremaining: 2m 26s\n",
            "48:\tlearn: 15.1281197\ttest: 65.8482450\tbest: 65.8482450 (48)\ttotal: 9.58s\tremaining: 2m 26s\n",
            "49:\tlearn: 15.0308610\ttest: 65.6091132\tbest: 65.6091132 (49)\ttotal: 9.75s\tremaining: 2m 26s\n",
            "50:\tlearn: 14.8986590\ttest: 65.6354050\tbest: 65.6091132 (49)\ttotal: 9.93s\tremaining: 2m 25s\n",
            "Stopped by overfitting detector  (1 iterations wait)\n",
            "\n",
            "bestTest = 65.60911325\n",
            "bestIteration = 49\n",
            "\n",
            "Shrink model to first 50 iterations.\n",
            "Learning rate set to 0.068842\n",
            "0:\tlearn: 32.6572899\ttest: 88.6788447\tbest: 88.6788447 (0)\ttotal: 337ms\tremaining: 4m 29s\n",
            "1:\tlearn: 31.5424664\ttest: 87.7281464\tbest: 87.7281464 (1)\ttotal: 519ms\tremaining: 3m 27s\n",
            "2:\tlearn: 30.4932112\ttest: 86.9580739\tbest: 86.9580739 (2)\ttotal: 733ms\tremaining: 3m 14s\n",
            "3:\tlearn: 29.5325820\ttest: 85.3927258\tbest: 85.3927258 (3)\ttotal: 927ms\tremaining: 3m 4s\n",
            "4:\tlearn: 28.6181339\ttest: 83.8101664\tbest: 83.8101664 (4)\ttotal: 1.2s\tremaining: 3m 11s\n",
            "5:\tlearn: 27.8500597\ttest: 82.4470414\tbest: 82.4470414 (5)\ttotal: 1.43s\tremaining: 3m 9s\n",
            "6:\tlearn: 26.9861930\ttest: 81.2162250\tbest: 81.2162250 (6)\ttotal: 1.64s\tremaining: 3m 5s\n",
            "7:\tlearn: 26.1966236\ttest: 80.3923590\tbest: 80.3923590 (7)\ttotal: 1.83s\tremaining: 3m 1s\n",
            "8:\tlearn: 25.5108079\ttest: 79.2184419\tbest: 79.2184419 (8)\ttotal: 2.04s\tremaining: 2m 58s\n",
            "9:\tlearn: 24.8983572\ttest: 78.4652842\tbest: 78.4652842 (9)\ttotal: 2.27s\tremaining: 2m 59s\n",
            "10:\tlearn: 24.3418908\ttest: 77.5549954\tbest: 77.5549954 (10)\ttotal: 2.47s\tremaining: 2m 56s\n",
            "11:\tlearn: 23.8843721\ttest: 77.0317789\tbest: 77.0317789 (11)\ttotal: 2.66s\tremaining: 2m 54s\n",
            "12:\tlearn: 23.3755297\ttest: 76.4710115\tbest: 76.4710115 (12)\ttotal: 2.86s\tremaining: 2m 53s\n",
            "13:\tlearn: 22.9338140\ttest: 76.1815671\tbest: 76.1815671 (13)\ttotal: 3.06s\tremaining: 2m 51s\n",
            "14:\tlearn: 22.4813350\ttest: 75.2738518\tbest: 75.2738518 (14)\ttotal: 3.25s\tremaining: 2m 50s\n",
            "15:\tlearn: 22.0695773\ttest: 74.5317133\tbest: 74.5317133 (15)\ttotal: 3.44s\tremaining: 2m 48s\n",
            "16:\tlearn: 21.6959184\ttest: 74.0099851\tbest: 74.0099851 (16)\ttotal: 3.65s\tremaining: 2m 47s\n",
            "17:\tlearn: 21.3459946\ttest: 73.0351669\tbest: 73.0351669 (17)\ttotal: 3.85s\tremaining: 2m 47s\n",
            "18:\tlearn: 21.0028212\ttest: 72.3304847\tbest: 72.3304847 (18)\ttotal: 4.05s\tremaining: 2m 46s\n",
            "19:\tlearn: 20.6949272\ttest: 71.8627973\tbest: 71.8627973 (19)\ttotal: 4.3s\tremaining: 2m 47s\n",
            "20:\tlearn: 20.3899746\ttest: 71.1073836\tbest: 71.1073836 (20)\ttotal: 4.59s\tremaining: 2m 50s\n",
            "21:\tlearn: 20.1301645\ttest: 70.4098159\tbest: 70.4098159 (21)\ttotal: 4.78s\tremaining: 2m 48s\n",
            "22:\tlearn: 19.8546111\ttest: 69.8638219\tbest: 69.8638219 (22)\ttotal: 4.96s\tremaining: 2m 47s\n",
            "23:\tlearn: 19.5997261\ttest: 69.6009544\tbest: 69.6009544 (23)\ttotal: 5.18s\tremaining: 2m 47s\n",
            "24:\tlearn: 19.3467301\ttest: 69.0700302\tbest: 69.0700302 (24)\ttotal: 5.43s\tremaining: 2m 48s\n",
            "25:\tlearn: 19.1438620\ttest: 68.8621970\tbest: 68.8621970 (25)\ttotal: 5.61s\tremaining: 2m 47s\n",
            "26:\tlearn: 18.9764102\ttest: 68.7447725\tbest: 68.7447725 (26)\ttotal: 5.82s\tremaining: 2m 46s\n",
            "27:\tlearn: 18.7783943\ttest: 68.2470197\tbest: 68.2470197 (27)\ttotal: 6.02s\tremaining: 2m 45s\n",
            "28:\tlearn: 18.6288984\ttest: 67.9373968\tbest: 67.9373968 (28)\ttotal: 6.21s\tremaining: 2m 45s\n",
            "29:\tlearn: 18.4616179\ttest: 67.2656946\tbest: 67.2656946 (29)\ttotal: 6.41s\tremaining: 2m 44s\n",
            "30:\tlearn: 18.3153931\ttest: 67.0904921\tbest: 67.0904921 (30)\ttotal: 6.61s\tremaining: 2m 43s\n",
            "31:\tlearn: 18.1654437\ttest: 66.8860494\tbest: 66.8860494 (31)\ttotal: 6.79s\tremaining: 2m 42s\n",
            "32:\tlearn: 18.0268024\ttest: 66.7405846\tbest: 66.7405846 (32)\ttotal: 6.98s\tremaining: 2m 42s\n",
            "33:\tlearn: 17.8762680\ttest: 66.2582116\tbest: 66.2582116 (33)\ttotal: 7.16s\tremaining: 2m 41s\n",
            "34:\tlearn: 17.7357196\ttest: 66.1280820\tbest: 66.1280820 (34)\ttotal: 7.35s\tremaining: 2m 40s\n",
            "35:\tlearn: 17.6324872\ttest: 66.0538512\tbest: 66.0538512 (35)\ttotal: 7.53s\tremaining: 2m 39s\n",
            "36:\tlearn: 17.5112032\ttest: 65.4329978\tbest: 65.4329978 (36)\ttotal: 7.72s\tremaining: 2m 39s\n",
            "37:\tlearn: 17.4244041\ttest: 64.9401554\tbest: 64.9401554 (37)\ttotal: 7.9s\tremaining: 2m 38s\n",
            "38:\tlearn: 17.2998243\ttest: 64.5640951\tbest: 64.5640951 (38)\ttotal: 8.1s\tremaining: 2m 38s\n",
            "39:\tlearn: 17.1912515\ttest: 64.5805053\tbest: 64.5640951 (38)\ttotal: 8.29s\tremaining: 2m 37s\n",
            "Stopped by overfitting detector  (1 iterations wait)\n",
            "\n",
            "bestTest = 64.56409507\n",
            "bestIteration = 38\n",
            "\n",
            "Shrink model to first 39 iterations.\n",
            "Learning rate set to 0.072019\n",
            "0:\tlearn: 37.2507504\ttest: 81.6638045\tbest: 81.6638045 (0)\ttotal: 107ms\tremaining: 1m 25s\n",
            "1:\tlearn: 35.7721758\ttest: 79.0358878\tbest: 79.0358878 (1)\ttotal: 172ms\tremaining: 1m 8s\n",
            "2:\tlearn: 34.4340501\ttest: 76.5570377\tbest: 76.5570377 (2)\ttotal: 240ms\tremaining: 1m 3s\n",
            "3:\tlearn: 33.2366889\ttest: 74.1373945\tbest: 74.1373945 (3)\ttotal: 317ms\tremaining: 1m 3s\n",
            "4:\tlearn: 32.1651353\ttest: 72.1028601\tbest: 72.1028601 (4)\ttotal: 384ms\tremaining: 1m\n",
            "5:\tlearn: 31.1641491\ttest: 70.5144592\tbest: 70.5144592 (5)\ttotal: 448ms\tremaining: 59.2s\n",
            "6:\tlearn: 30.2609086\ttest: 69.0478458\tbest: 69.0478458 (6)\ttotal: 511ms\tremaining: 57.9s\n",
            "7:\tlearn: 29.4019281\ttest: 67.4351027\tbest: 67.4351027 (7)\ttotal: 573ms\tremaining: 56.7s\n",
            "8:\tlearn: 28.6401727\ttest: 66.1384815\tbest: 66.1384815 (8)\ttotal: 637ms\tremaining: 56s\n",
            "9:\tlearn: 27.9731930\ttest: 64.6889984\tbest: 64.6889984 (9)\ttotal: 697ms\tremaining: 55.1s\n",
            "10:\tlearn: 27.3039402\ttest: 63.1358937\tbest: 63.1358937 (10)\ttotal: 758ms\tremaining: 54.4s\n",
            "11:\tlearn: 26.6722188\ttest: 61.6887397\tbest: 61.6887397 (11)\ttotal: 820ms\tremaining: 53.9s\n",
            "12:\tlearn: 26.1460766\ttest: 60.4190464\tbest: 60.4190464 (12)\ttotal: 883ms\tremaining: 53.5s\n",
            "13:\tlearn: 25.6507144\ttest: 59.1001044\tbest: 59.1001044 (13)\ttotal: 944ms\tremaining: 53s\n",
            "14:\tlearn: 25.1688392\ttest: 57.8958194\tbest: 57.8958194 (14)\ttotal: 1.01s\tremaining: 52.7s\n",
            "15:\tlearn: 24.7485387\ttest: 56.7283159\tbest: 56.7283159 (15)\ttotal: 1.07s\tremaining: 52.7s\n",
            "16:\tlearn: 24.3697725\ttest: 56.0105972\tbest: 56.0105972 (16)\ttotal: 1.14s\tremaining: 52.6s\n",
            "17:\tlearn: 24.0408773\ttest: 55.2411739\tbest: 55.2411739 (17)\ttotal: 1.2s\tremaining: 52.3s\n",
            "18:\tlearn: 23.7310800\ttest: 54.4923359\tbest: 54.4923359 (18)\ttotal: 1.26s\tremaining: 52s\n",
            "19:\tlearn: 23.4301385\ttest: 53.5314539\tbest: 53.5314539 (19)\ttotal: 1.33s\tremaining: 52.1s\n",
            "20:\tlearn: 23.1609663\ttest: 53.0529285\tbest: 53.0529285 (20)\ttotal: 1.4s\tremaining: 52s\n",
            "21:\tlearn: 22.9003452\ttest: 52.3533824\tbest: 52.3533824 (21)\ttotal: 1.46s\tremaining: 51.8s\n",
            "22:\tlearn: 22.6563689\ttest: 51.7153027\tbest: 51.7153027 (22)\ttotal: 1.53s\tremaining: 51.7s\n",
            "23:\tlearn: 22.4292448\ttest: 51.2033567\tbest: 51.2033567 (23)\ttotal: 1.59s\tremaining: 51.6s\n",
            "24:\tlearn: 22.2231005\ttest: 50.7269640\tbest: 50.7269640 (24)\ttotal: 1.66s\tremaining: 51.6s\n",
            "25:\tlearn: 22.0465299\ttest: 50.3898130\tbest: 50.3898130 (25)\ttotal: 1.73s\tremaining: 51.5s\n",
            "26:\tlearn: 21.8685823\ttest: 49.8852878\tbest: 49.8852878 (26)\ttotal: 1.8s\tremaining: 51.5s\n",
            "27:\tlearn: 21.7087606\ttest: 49.3794678\tbest: 49.3794678 (27)\ttotal: 1.89s\tremaining: 52s\n",
            "28:\tlearn: 21.5692135\ttest: 48.9162824\tbest: 48.9162824 (28)\ttotal: 1.96s\tremaining: 52.1s\n",
            "29:\tlearn: 21.4175671\ttest: 48.6509741\tbest: 48.6509741 (29)\ttotal: 2.04s\tremaining: 52.5s\n",
            "30:\tlearn: 21.2796424\ttest: 48.2030373\tbest: 48.2030373 (30)\ttotal: 2.14s\tremaining: 53.1s\n",
            "31:\tlearn: 21.1458553\ttest: 47.7620534\tbest: 47.7620534 (31)\ttotal: 2.23s\tremaining: 53.6s\n",
            "32:\tlearn: 21.0135605\ttest: 47.1460005\tbest: 47.1460005 (32)\ttotal: 2.31s\tremaining: 53.6s\n",
            "33:\tlearn: 20.8910059\ttest: 46.8633715\tbest: 46.8633715 (33)\ttotal: 2.37s\tremaining: 53.5s\n",
            "34:\tlearn: 20.8001611\ttest: 46.5967200\tbest: 46.5967200 (34)\ttotal: 2.44s\tremaining: 53.3s\n",
            "35:\tlearn: 20.7069013\ttest: 46.4351302\tbest: 46.4351302 (35)\ttotal: 2.5s\tremaining: 53.1s\n",
            "36:\tlearn: 20.6029165\ttest: 45.6933973\tbest: 45.6933973 (36)\ttotal: 2.57s\tremaining: 53.1s\n",
            "37:\tlearn: 20.5085915\ttest: 45.3833453\tbest: 45.3833453 (37)\ttotal: 2.64s\tremaining: 53s\n",
            "38:\tlearn: 20.3762202\ttest: 45.1789949\tbest: 45.1789949 (38)\ttotal: 2.71s\tremaining: 52.9s\n",
            "39:\tlearn: 20.3058128\ttest: 44.7420336\tbest: 44.7420336 (39)\ttotal: 2.78s\tremaining: 52.9s\n",
            "40:\tlearn: 20.2260064\ttest: 44.5804187\tbest: 44.5804187 (40)\ttotal: 2.86s\tremaining: 52.9s\n",
            "41:\tlearn: 20.1499884\ttest: 44.0756079\tbest: 44.0756079 (41)\ttotal: 2.93s\tremaining: 52.9s\n",
            "42:\tlearn: 20.1388611\ttest: 44.0772371\tbest: 44.0756079 (41)\ttotal: 3.01s\tremaining: 53s\n",
            "Stopped by overfitting detector  (1 iterations wait)\n",
            "\n",
            "bestTest = 44.07560785\n",
            "bestIteration = 41\n",
            "\n",
            "Shrink model to first 42 iterations.\n",
            "Лучшие параметры: {'depth': 7, 'loss_function': 'RMSE', 'verbose': 1, 'n_estimators': 800, 'random_state': 12345}\n",
            "Лучший результат: 25.931227212185135\n"
          ]
        }
      ],
      "source": [
        "model = cb.CatBoostRegressor(loss_function='RMSE',random_state=12345, verbose=1)\n",
        "param_grid = {\n",
        "    'n_estimators': [500, 600, 800],\n",
        "    'depth': range(6, 10, 1)\n",
        "}\n",
        "\n",
        "tscv = TimeSeriesSplit(n_splits=3)\n",
        "\n",
        "grid = GridSearchCV(estimator=model, param_grid=param_grid, cv=tscv, scoring='neg_mean_squared_error',error_score='raise')\n",
        "\n",
        "#Чтобы остановить модель от переобучения, пропишем тестовые данные в eval_set\n",
        "grid.fit(train_features_initial, train_target_initial, early_stopping_rounds=1, eval_set=(test_features_initial,test_target_initial))\n",
        "\n",
        "\n",
        "#Присваивает только лучшую модель\n",
        "if np.sqrt(-grid.best_score_) < best_score:\n",
        "    best_score = np.sqrt(-grid.best_score_)\n",
        "    best_model = model\n",
        "    best_params = grid.best_params_\n",
        "    best_estimator = grid.best_estimator_\n",
        "\n",
        "print(\"Лучшие параметры:\", grid.best_estimator_.get_params())\n",
        "print(\"Лучший результат:\", np.sqrt(-grid.best_score_))"
      ]
    },
    {
      "cell_type": "markdown",
      "metadata": {
        "id": "pc0qWLbf-G3A"
      },
      "source": [
        "### Подвывод"
      ]
    },
    {
      "cell_type": "markdown",
      "metadata": {
        "id": "plVTLhln-G3B"
      },
      "source": [
        "Мы определили задачу для машинного обучения (регрессия), разделили данные на обучающую и тестовую выборки, далее разделили на основные и целевой признаки и применили для обучения разные модели с перебором гиперпараметров. Лучшей моделью оказалась модель случайного леса, её точность на обучающей выборке составила 34.594"
      ]
    },
    {
      "cell_type": "markdown",
      "metadata": {
        "id": "VHK-4prN-G3C"
      },
      "source": [
        "## Тестирование"
      ]
    },
    {
      "cell_type": "markdown",
      "metadata": {
        "id": "r6EjT_EY-G3C"
      },
      "source": [
        "### Тестовая выборка"
      ]
    },
    {
      "cell_type": "code",
      "execution_count": null,
      "metadata": {
        "id": "bi9Z7_Qv-G3C",
        "outputId": "effdda46-1f52-4740-97a8-a46ae4626144"
      },
      "outputs": [
        {
          "data": {
            "text/plain": [
              "RandomForestRegressor(n_estimators=55, random_state=12345)"
            ]
          },
          "execution_count": 161,
          "metadata": {},
          "output_type": "execute_result"
        }
      ],
      "source": [
        "best_estimator"
      ]
    },
    {
      "cell_type": "code",
      "execution_count": null,
      "metadata": {
        "id": "_VAKDQgV-G3C",
        "outputId": "5a521485-ff30-4e56-94aa-3897b43001cf"
      },
      "outputs": [
        {
          "data": {
            "text/plain": [
              "40.280812099958744"
            ]
          },
          "execution_count": 162,
          "metadata": {},
          "output_type": "execute_result"
        }
      ],
      "source": [
        "preds_i = best_estimator.predict(test_features_initial)\n",
        "scores_i = mean_squared_error(test_target_initial, preds_i)\n",
        "np.sqrt(scores_i)"
      ]
    },
    {
      "cell_type": "markdown",
      "metadata": {
        "id": "KLFkSSbs-G3F"
      },
      "source": [
        "### Проверка на адекватность"
      ]
    },
    {
      "cell_type": "code",
      "execution_count": null,
      "metadata": {
        "scrolled": false,
        "id": "kP63v1SP-G3F",
        "outputId": "3df30c33-9178-451d-ec8d-ac961ea48d64"
      },
      "outputs": [
        {
          "data": {
            "text/plain": [
              "58.819808014363446"
            ]
          },
          "execution_count": 163,
          "metadata": {},
          "output_type": "execute_result"
        }
      ],
      "source": [
        "dummyreg = DummyRegressor(strategy = 'mean')\n",
        "dummyreg.fit(train_features, train_target)\n",
        "pred = dummyreg.predict(test_features)\n",
        "scores = mean_squared_error(test_target, pred)\n",
        "np.sqrt(scores)"
      ]
    },
    {
      "cell_type": "markdown",
      "metadata": {
        "id": "Kn6Xf6Vp-G3G"
      },
      "source": [
        "Лучшая модель прошла проверку на адекватность"
      ]
    },
    {
      "cell_type": "markdown",
      "metadata": {
        "id": "lCY9Oz_--G3I"
      },
      "source": [
        "### Сверка графиков"
      ]
    },
    {
      "cell_type": "code",
      "execution_count": null,
      "metadata": {
        "scrolled": true,
        "id": "3XHxppmM-G3I",
        "outputId": "833b55f8-f435-4108-fdf9-d76f5231e0f6"
      },
      "outputs": [
        {
          "data": {
            "image/png": "[encoded data removed]",
            "text/plain": [
              "<Figure size 432x288 with 1 Axes>"
            ]
          },
          "metadata": {
            "needs_background": "light"
          },
          "output_type": "display_data"
        }
      ],
      "source": [
        "data['2018-08-19':'2018-08-31'].plot()\n",
        "plt.xlabel('Число месяца')\n",
        "plt.ylabel('Кол-во заказов')\n",
        "plt.title('Кол-во заказов в дни месяца августа по реальным данным');"
      ]
    },
    {
      "cell_type": "code",
      "execution_count": null,
      "metadata": {
        "id": "IwoyCska-G3I",
        "outputId": "a939fd84-db46-4dc6-96ef-99dbd31f6cf7"
      },
      "outputs": [
        {
          "data": {
            "image/png": "[encoded data removed]",
            "text/plain": [
              "<Figure size 432x288 with 1 Axes>"
            ]
          },
          "metadata": {
            "needs_background": "light"
          },
          "output_type": "display_data"
        }
      ],
      "source": [
        "preds_i_series = preds_i.copy()\n",
        "preds_i_series = pd.Series(preds_i_series, index=test_target.index)\n",
        "preds_i_series['2018-08-19':'2018-08-31'].plot()\n",
        "plt.xlabel('Число месяца')\n",
        "plt.ylabel('Кол-во заказов')\n",
        "plt.title('Кол-во заказов в дни месяца августа по предсказаниям');"
      ]
    },
    {
      "cell_type": "markdown",
      "metadata": {
        "id": "amkDir7K-G3J"
      },
      "source": [
        "Можем заметить, что паттерн предсказания машины верен: прослеживаются схожие сезоны высокого и низкого спроса в зависимости от времени суток. Тем не менее машина плохо предсказала пики: в предсказаниях нет пиков, которые были в реальности. Также можно заметить меньший разброс заказов в целом, чем в реальных данных"
      ]
    },
    {
      "cell_type": "markdown",
      "metadata": {
        "id": "m2hrRHFo-G3J"
      },
      "source": [
        "## Вывод"
      ]
    },
    {
      "cell_type": "markdown",
      "metadata": {
        "id": "fKbVQtrd-G3J"
      },
      "source": [
        "Мы загрузили и изучили данные, изменили формат данных на корректные, сделали из дат индексы и провели их ресемплирование. Далее мы изучили тренды и насколько наши данные стационарные, добавили признаки для обучения, поделили данные на выборки и применили разные машины обучения с перебором разных гиперпараметров. В итоге лучшие результаты на тестовой выборке показала модель случайного леса, с точностью 40,3."
      ]
    }
  ],
  "metadata": {
    "ExecuteTimeLog": [
      {
        "duration": 1420,
        "start_time": "2023-06-21T11:40:35.404Z"
      },
      {
        "duration": 6,
        "start_time": "2023-06-21T11:40:40.674Z"
      },
      {
        "duration": 106,
        "start_time": "2023-06-21T11:40:41.338Z"
      },
      {
        "duration": 138,
        "start_time": "2023-06-21T11:41:06.986Z"
      },
      {
        "duration": 11,
        "start_time": "2023-06-21T11:41:23.239Z"
      },
      {
        "duration": 19,
        "start_time": "2023-06-21T11:41:37.263Z"
      },
      {
        "duration": 22,
        "start_time": "2023-06-21T11:43:05.179Z"
      },
      {
        "duration": 15,
        "start_time": "2023-06-21T11:46:36.036Z"
      },
      {
        "duration": 11,
        "start_time": "2023-06-21T11:46:47.938Z"
      },
      {
        "duration": 8,
        "start_time": "2023-06-21T11:47:41.141Z"
      },
      {
        "duration": 6,
        "start_time": "2023-06-21T11:49:02.375Z"
      },
      {
        "duration": 72,
        "start_time": "2023-06-21T11:49:02.383Z"
      },
      {
        "duration": 13,
        "start_time": "2023-06-21T11:49:02.457Z"
      },
      {
        "duration": 26,
        "start_time": "2023-06-21T11:49:02.472Z"
      },
      {
        "duration": 32,
        "start_time": "2023-06-21T11:49:02.500Z"
      },
      {
        "duration": 9,
        "start_time": "2023-06-21T11:49:11.204Z"
      },
      {
        "duration": 13,
        "start_time": "2023-06-21T11:49:24.011Z"
      },
      {
        "duration": 507,
        "start_time": "2023-06-21T11:50:39.938Z"
      },
      {
        "duration": 83,
        "start_time": "2023-06-21T11:51:32.062Z"
      },
      {
        "duration": 35,
        "start_time": "2023-06-21T11:52:33.462Z"
      },
      {
        "duration": 7,
        "start_time": "2023-06-21T11:52:40.113Z"
      },
      {
        "duration": 1064,
        "start_time": "2023-06-21T11:52:40.250Z"
      },
      {
        "duration": 4,
        "start_time": "2023-06-21T11:52:49.304Z"
      },
      {
        "duration": 8,
        "start_time": "2023-06-21T11:53:22.650Z"
      },
      {
        "duration": 8,
        "start_time": "2023-06-21T11:55:43.504Z"
      },
      {
        "duration": 918,
        "start_time": "2023-06-21T11:55:43.712Z"
      },
      {
        "duration": 4,
        "start_time": "2023-06-21T11:57:31.313Z"
      },
      {
        "duration": 5,
        "start_time": "2023-06-21T11:57:47.812Z"
      },
      {
        "duration": 84,
        "start_time": "2023-06-21T11:58:52.170Z"
      },
      {
        "duration": 9,
        "start_time": "2023-06-21T12:04:56.342Z"
      },
      {
        "duration": 4,
        "start_time": "2023-06-21T12:05:08.396Z"
      },
      {
        "duration": 91,
        "start_time": "2023-06-21T12:05:11.863Z"
      },
      {
        "duration": 5,
        "start_time": "2023-06-21T12:05:31.759Z"
      },
      {
        "duration": 110,
        "start_time": "2023-06-21T12:05:35.658Z"
      },
      {
        "duration": 196,
        "start_time": "2023-06-21T12:05:48.903Z"
      },
      {
        "duration": 203,
        "start_time": "2023-06-21T12:05:58.767Z"
      },
      {
        "duration": 11,
        "start_time": "2023-06-21T12:06:06.475Z"
      },
      {
        "duration": 285,
        "start_time": "2023-06-21T12:06:09.867Z"
      },
      {
        "duration": 8,
        "start_time": "2023-06-21T12:08:16.501Z"
      },
      {
        "duration": 280,
        "start_time": "2023-06-21T12:08:26.294Z"
      },
      {
        "duration": 5,
        "start_time": "2023-06-21T12:08:37.043Z"
      },
      {
        "duration": 241,
        "start_time": "2023-06-21T12:08:37.262Z"
      },
      {
        "duration": 5,
        "start_time": "2023-06-21T12:08:51.968Z"
      },
      {
        "duration": 243,
        "start_time": "2023-06-21T12:08:52.118Z"
      },
      {
        "duration": 5,
        "start_time": "2023-06-21T12:13:30.740Z"
      },
      {
        "duration": 390,
        "start_time": "2023-06-21T12:13:30.903Z"
      },
      {
        "duration": 12,
        "start_time": "2023-06-21T12:16:30.724Z"
      },
      {
        "duration": 209,
        "start_time": "2023-06-21T12:16:30.911Z"
      },
      {
        "duration": 5,
        "start_time": "2023-06-21T12:17:04.394Z"
      },
      {
        "duration": 45,
        "start_time": "2023-06-21T12:17:04.401Z"
      },
      {
        "duration": 11,
        "start_time": "2023-06-21T12:17:04.448Z"
      },
      {
        "duration": 9,
        "start_time": "2023-06-21T12:17:04.461Z"
      },
      {
        "duration": 15,
        "start_time": "2023-06-21T12:17:04.472Z"
      },
      {
        "duration": 12,
        "start_time": "2023-06-21T12:17:04.488Z"
      },
      {
        "duration": 13,
        "start_time": "2023-06-21T12:17:04.501Z"
      },
      {
        "duration": 32,
        "start_time": "2023-06-21T12:17:04.515Z"
      },
      {
        "duration": 6,
        "start_time": "2023-06-21T12:17:04.549Z"
      },
      {
        "duration": 276,
        "start_time": "2023-06-21T12:17:04.557Z"
      },
      {
        "duration": 5,
        "start_time": "2023-06-21T12:17:04.836Z"
      },
      {
        "duration": 281,
        "start_time": "2023-06-21T12:17:13.147Z"
      },
      {
        "duration": 11,
        "start_time": "2023-06-21T12:17:16.415Z"
      },
      {
        "duration": 4,
        "start_time": "2023-06-21T12:17:33.551Z"
      },
      {
        "duration": 470,
        "start_time": "2023-06-21T12:17:33.746Z"
      },
      {
        "duration": 11,
        "start_time": "2023-06-21T12:17:38.807Z"
      },
      {
        "duration": 6,
        "start_time": "2023-06-21T12:17:48.951Z"
      },
      {
        "duration": 4,
        "start_time": "2023-06-21T12:18:29.663Z"
      },
      {
        "duration": 7,
        "start_time": "2023-06-21T12:18:30.912Z"
      },
      {
        "duration": 7,
        "start_time": "2023-06-21T12:18:33.960Z"
      },
      {
        "duration": 184,
        "start_time": "2023-06-21T12:18:36.062Z"
      },
      {
        "duration": 183,
        "start_time": "2023-06-21T12:19:06.710Z"
      },
      {
        "duration": 194,
        "start_time": "2023-06-21T12:19:08.517Z"
      },
      {
        "duration": 206,
        "start_time": "2023-06-21T12:19:16.202Z"
      },
      {
        "duration": 6,
        "start_time": "2023-06-21T12:19:46.556Z"
      },
      {
        "duration": 46,
        "start_time": "2023-06-21T12:19:46.564Z"
      },
      {
        "duration": 11,
        "start_time": "2023-06-21T12:19:46.612Z"
      },
      {
        "duration": 14,
        "start_time": "2023-06-21T12:19:46.625Z"
      },
      {
        "duration": 22,
        "start_time": "2023-06-21T12:19:46.642Z"
      },
      {
        "duration": 7,
        "start_time": "2023-06-21T12:19:46.666Z"
      },
      {
        "duration": 14,
        "start_time": "2023-06-21T12:19:46.674Z"
      },
      {
        "duration": 8,
        "start_time": "2023-06-21T12:19:46.690Z"
      },
      {
        "duration": 10,
        "start_time": "2023-06-21T12:19:46.700Z"
      },
      {
        "duration": 224,
        "start_time": "2023-06-21T12:19:46.711Z"
      },
      {
        "duration": 6,
        "start_time": "2023-06-21T12:19:46.937Z"
      },
      {
        "duration": 270,
        "start_time": "2023-06-21T12:19:46.944Z"
      },
      {
        "duration": 5,
        "start_time": "2023-06-21T12:19:47.216Z"
      },
      {
        "duration": 427,
        "start_time": "2023-06-21T12:19:47.224Z"
      },
      {
        "duration": 4,
        "start_time": "2023-06-21T12:19:47.653Z"
      },
      {
        "duration": 5,
        "start_time": "2023-06-21T12:20:52.495Z"
      },
      {
        "duration": 265,
        "start_time": "2023-06-21T12:20:53.284Z"
      },
      {
        "duration": 6,
        "start_time": "2023-06-21T12:21:01.919Z"
      },
      {
        "duration": 92,
        "start_time": "2023-06-21T12:21:01.927Z"
      },
      {
        "duration": 12,
        "start_time": "2023-06-21T12:21:02.021Z"
      },
      {
        "duration": 22,
        "start_time": "2023-06-21T12:21:02.035Z"
      },
      {
        "duration": 42,
        "start_time": "2023-06-21T12:21:02.060Z"
      },
      {
        "duration": 17,
        "start_time": "2023-06-21T12:21:02.103Z"
      },
      {
        "duration": 41,
        "start_time": "2023-06-21T12:21:02.122Z"
      },
      {
        "duration": 34,
        "start_time": "2023-06-21T12:21:02.165Z"
      },
      {
        "duration": 59,
        "start_time": "2023-06-21T12:21:02.201Z"
      },
      {
        "duration": 224,
        "start_time": "2023-06-21T12:21:02.262Z"
      },
      {
        "duration": 7,
        "start_time": "2023-06-21T12:21:02.488Z"
      },
      {
        "duration": 319,
        "start_time": "2023-06-21T12:21:02.497Z"
      },
      {
        "duration": 4,
        "start_time": "2023-06-21T12:21:02.817Z"
      },
      {
        "duration": 299,
        "start_time": "2023-06-21T12:21:02.823Z"
      },
      {
        "duration": 4,
        "start_time": "2023-06-21T12:21:03.123Z"
      },
      {
        "duration": 4,
        "start_time": "2023-06-21T12:23:46.006Z"
      },
      {
        "duration": 7,
        "start_time": "2023-06-21T12:24:07.271Z"
      },
      {
        "duration": 6,
        "start_time": "2023-06-21T12:36:34.152Z"
      },
      {
        "duration": 6,
        "start_time": "2023-06-21T12:39:33.860Z"
      },
      {
        "duration": 3,
        "start_time": "2023-06-21T12:39:36.111Z"
      },
      {
        "duration": 23,
        "start_time": "2023-06-21T12:39:39.622Z"
      },
      {
        "duration": 11,
        "start_time": "2023-06-21T12:39:39.848Z"
      },
      {
        "duration": 5,
        "start_time": "2023-06-21T12:41:35.815Z"
      },
      {
        "duration": 56,
        "start_time": "2023-06-21T12:41:35.822Z"
      },
      {
        "duration": 15,
        "start_time": "2023-06-21T12:41:35.880Z"
      },
      {
        "duration": 12,
        "start_time": "2023-06-21T12:41:35.898Z"
      },
      {
        "duration": 18,
        "start_time": "2023-06-21T12:41:35.912Z"
      },
      {
        "duration": 7,
        "start_time": "2023-06-21T12:41:35.931Z"
      },
      {
        "duration": 23,
        "start_time": "2023-06-21T12:41:35.940Z"
      },
      {
        "duration": 9,
        "start_time": "2023-06-21T12:41:35.964Z"
      },
      {
        "duration": 19,
        "start_time": "2023-06-21T12:41:35.975Z"
      },
      {
        "duration": 206,
        "start_time": "2023-06-21T12:41:35.995Z"
      },
      {
        "duration": 5,
        "start_time": "2023-06-21T12:41:36.203Z"
      },
      {
        "duration": 295,
        "start_time": "2023-06-21T12:41:36.209Z"
      },
      {
        "duration": 4,
        "start_time": "2023-06-21T12:41:36.506Z"
      },
      {
        "duration": 478,
        "start_time": "2023-06-21T12:41:36.512Z"
      },
      {
        "duration": 4,
        "start_time": "2023-06-21T12:41:36.992Z"
      },
      {
        "duration": 18,
        "start_time": "2023-06-21T12:41:36.997Z"
      },
      {
        "duration": 31,
        "start_time": "2023-06-21T12:41:37.016Z"
      },
      {
        "duration": 6,
        "start_time": "2023-06-21T12:41:37.048Z"
      },
      {
        "duration": 3,
        "start_time": "2023-06-21T12:45:05.019Z"
      },
      {
        "duration": 6,
        "start_time": "2023-06-21T12:45:22.722Z"
      },
      {
        "duration": 7,
        "start_time": "2023-06-21T12:45:25.915Z"
      },
      {
        "duration": 5,
        "start_time": "2023-06-21T12:45:35.540Z"
      },
      {
        "duration": 69,
        "start_time": "2023-06-21T12:45:35.547Z"
      },
      {
        "duration": 10,
        "start_time": "2023-06-21T12:45:35.618Z"
      },
      {
        "duration": 6,
        "start_time": "2023-06-21T12:45:35.630Z"
      },
      {
        "duration": 24,
        "start_time": "2023-06-21T12:45:35.637Z"
      },
      {
        "duration": 10,
        "start_time": "2023-06-21T12:45:35.663Z"
      },
      {
        "duration": 14,
        "start_time": "2023-06-21T12:45:35.675Z"
      },
      {
        "duration": 4,
        "start_time": "2023-06-21T12:45:35.691Z"
      },
      {
        "duration": 18,
        "start_time": "2023-06-21T12:45:35.698Z"
      },
      {
        "duration": 230,
        "start_time": "2023-06-21T12:45:35.717Z"
      },
      {
        "duration": 6,
        "start_time": "2023-06-21T12:45:35.949Z"
      },
      {
        "duration": 292,
        "start_time": "2023-06-21T12:45:35.956Z"
      },
      {
        "duration": 5,
        "start_time": "2023-06-21T12:45:36.250Z"
      },
      {
        "duration": 307,
        "start_time": "2023-06-21T12:45:36.256Z"
      },
      {
        "duration": 6,
        "start_time": "2023-06-21T12:45:36.564Z"
      },
      {
        "duration": 15,
        "start_time": "2023-06-21T12:45:36.573Z"
      },
      {
        "duration": 49,
        "start_time": "2023-06-21T12:45:36.590Z"
      },
      {
        "duration": 6,
        "start_time": "2023-06-21T12:45:36.640Z"
      },
      {
        "duration": 11,
        "start_time": "2023-06-21T12:45:36.647Z"
      },
      {
        "duration": 5,
        "start_time": "2023-06-21T12:47:44.744Z"
      },
      {
        "duration": 13,
        "start_time": "2023-06-21T12:49:30.008Z"
      },
      {
        "duration": 6,
        "start_time": "2023-06-21T12:50:32.635Z"
      },
      {
        "duration": 118,
        "start_time": "2023-06-21T12:50:36.869Z"
      },
      {
        "duration": 128,
        "start_time": "2023-06-21T12:50:45.064Z"
      },
      {
        "duration": 13,
        "start_time": "2023-06-21T12:51:19.511Z"
      },
      {
        "duration": 36,
        "start_time": "2023-06-21T12:52:25.259Z"
      },
      {
        "duration": 2964,
        "start_time": "2023-06-21T12:55:24.870Z"
      },
      {
        "duration": 3,
        "start_time": "2023-06-21T12:55:47.358Z"
      },
      {
        "duration": 14,
        "start_time": "2023-06-21T12:57:26.280Z"
      },
      {
        "duration": 11,
        "start_time": "2023-06-21T12:58:12.607Z"
      },
      {
        "duration": 6,
        "start_time": "2023-06-21T12:58:28.356Z"
      },
      {
        "duration": 1517,
        "start_time": "2023-06-21T12:58:32.015Z"
      },
      {
        "duration": 4445,
        "start_time": "2023-06-21T12:58:54.251Z"
      },
      {
        "duration": 4576,
        "start_time": "2023-06-21T13:00:35.115Z"
      },
      {
        "duration": 4440,
        "start_time": "2023-06-21T13:00:44.719Z"
      },
      {
        "duration": 11,
        "start_time": "2023-06-21T13:01:26.561Z"
      },
      {
        "duration": 40414,
        "start_time": "2023-06-21T13:01:39.957Z"
      },
      {
        "duration": 15,
        "start_time": "2023-06-21T13:05:14.158Z"
      },
      {
        "duration": 13046,
        "start_time": "2023-06-21T13:05:22.511Z"
      },
      {
        "duration": 45,
        "start_time": "2023-06-21T13:05:54.644Z"
      },
      {
        "duration": 14144,
        "start_time": "2023-06-21T13:11:52.087Z"
      },
      {
        "duration": 42640,
        "start_time": "2023-06-21T13:12:28.663Z"
      },
      {
        "duration": 4735,
        "start_time": "2023-06-21T13:14:12.852Z"
      },
      {
        "duration": 6,
        "start_time": "2023-06-21T13:14:56.540Z"
      },
      {
        "duration": 4,
        "start_time": "2023-06-21T13:15:46.129Z"
      },
      {
        "duration": 6,
        "start_time": "2023-06-21T13:16:14.137Z"
      },
      {
        "duration": 5,
        "start_time": "2023-06-21T13:16:48.569Z"
      },
      {
        "duration": 4,
        "start_time": "2023-06-21T13:18:15.259Z"
      },
      {
        "duration": 14,
        "start_time": "2023-06-21T13:18:17.109Z"
      },
      {
        "duration": 43906,
        "start_time": "2023-06-21T13:20:36.771Z"
      },
      {
        "duration": 14,
        "start_time": "2023-06-21T13:21:23.778Z"
      },
      {
        "duration": 10,
        "start_time": "2023-06-21T13:21:31.213Z"
      },
      {
        "duration": 8,
        "start_time": "2023-06-21T13:21:44.406Z"
      },
      {
        "duration": 4,
        "start_time": "2023-06-21T13:21:59.233Z"
      },
      {
        "duration": 5,
        "start_time": "2023-06-21T13:22:03.410Z"
      },
      {
        "duration": 13796,
        "start_time": "2023-06-21T13:22:42.994Z"
      },
      {
        "duration": 5,
        "start_time": "2023-06-21T13:22:56.792Z"
      },
      {
        "duration": 44679,
        "start_time": "2023-06-21T13:30:20.398Z"
      },
      {
        "duration": 20687,
        "start_time": "2023-06-21T13:31:05.079Z"
      },
      {
        "duration": 4,
        "start_time": "2023-06-21T13:40:20.402Z"
      },
      {
        "duration": 70356,
        "start_time": "2023-06-21T13:41:02.043Z"
      },
      {
        "duration": 73696,
        "start_time": "2023-06-21T13:43:14.339Z"
      },
      {
        "duration": 12,
        "start_time": "2023-06-21T13:44:28.037Z"
      },
      {
        "duration": 13,
        "start_time": "2023-06-21T13:45:57.331Z"
      },
      {
        "duration": 5,
        "start_time": "2023-06-21T13:46:20.516Z"
      },
      {
        "duration": 5,
        "start_time": "2023-06-21T13:49:04.810Z"
      },
      {
        "duration": 63,
        "start_time": "2023-06-21T13:49:04.817Z"
      },
      {
        "duration": 12,
        "start_time": "2023-06-21T13:49:04.887Z"
      },
      {
        "duration": 6,
        "start_time": "2023-06-21T13:49:04.900Z"
      },
      {
        "duration": 24,
        "start_time": "2023-06-21T13:49:04.909Z"
      },
      {
        "duration": 8,
        "start_time": "2023-06-21T13:49:04.935Z"
      },
      {
        "duration": 26,
        "start_time": "2023-06-21T13:49:04.945Z"
      },
      {
        "duration": 18,
        "start_time": "2023-06-21T13:49:04.973Z"
      },
      {
        "duration": 11,
        "start_time": "2023-06-21T13:49:04.993Z"
      },
      {
        "duration": 274,
        "start_time": "2023-06-21T13:49:05.006Z"
      },
      {
        "duration": 8,
        "start_time": "2023-06-21T13:49:05.281Z"
      },
      {
        "duration": 312,
        "start_time": "2023-06-21T13:49:05.293Z"
      },
      {
        "duration": 7,
        "start_time": "2023-06-21T13:49:05.607Z"
      },
      {
        "duration": 375,
        "start_time": "2023-06-21T13:49:05.618Z"
      },
      {
        "duration": 5,
        "start_time": "2023-06-21T13:49:05.999Z"
      },
      {
        "duration": 17,
        "start_time": "2023-06-21T13:49:06.006Z"
      },
      {
        "duration": 79,
        "start_time": "2023-06-21T13:49:06.025Z"
      },
      {
        "duration": 7,
        "start_time": "2023-06-21T13:49:06.106Z"
      },
      {
        "duration": 7,
        "start_time": "2023-06-21T13:49:06.115Z"
      },
      {
        "duration": 29,
        "start_time": "2023-06-21T13:49:06.124Z"
      },
      {
        "duration": 63,
        "start_time": "2023-06-21T13:49:06.155Z"
      },
      {
        "duration": 59,
        "start_time": "2023-06-21T13:49:06.222Z"
      },
      {
        "duration": 67703,
        "start_time": "2023-06-21T13:49:06.284Z"
      },
      {
        "duration": 23,
        "start_time": "2023-06-21T13:50:14.000Z"
      },
      {
        "duration": 0,
        "start_time": "2023-06-21T13:50:14.025Z"
      },
      {
        "duration": 0,
        "start_time": "2023-06-21T13:50:14.026Z"
      },
      {
        "duration": 0,
        "start_time": "2023-06-21T13:50:14.027Z"
      },
      {
        "duration": 0,
        "start_time": "2023-06-21T13:50:14.028Z"
      },
      {
        "duration": 17,
        "start_time": "2023-06-21T13:55:01.996Z"
      },
      {
        "duration": 12,
        "start_time": "2023-06-21T13:55:08.300Z"
      },
      {
        "duration": 19,
        "start_time": "2023-06-21T13:55:18.356Z"
      },
      {
        "duration": 14,
        "start_time": "2023-06-21T13:55:22.069Z"
      },
      {
        "duration": 30635,
        "start_time": "2023-06-21T13:55:49.904Z"
      },
      {
        "duration": 8,
        "start_time": "2023-06-21T13:56:20.542Z"
      },
      {
        "duration": 16,
        "start_time": "2023-06-21T13:56:20.552Z"
      },
      {
        "duration": 21,
        "start_time": "2023-06-21T13:56:20.575Z"
      },
      {
        "duration": 45,
        "start_time": "2023-06-22T10:55:38.316Z"
      },
      {
        "duration": 1941,
        "start_time": "2023-06-22T10:58:19.617Z"
      },
      {
        "duration": 179,
        "start_time": "2023-06-22T10:58:21.560Z"
      },
      {
        "duration": 14,
        "start_time": "2023-06-22T10:58:21.741Z"
      },
      {
        "duration": 23,
        "start_time": "2023-06-22T10:58:21.757Z"
      },
      {
        "duration": 25,
        "start_time": "2023-06-22T10:58:21.783Z"
      },
      {
        "duration": 7,
        "start_time": "2023-06-22T10:58:21.810Z"
      },
      {
        "duration": 15,
        "start_time": "2023-06-22T10:58:21.819Z"
      },
      {
        "duration": 5,
        "start_time": "2023-06-22T10:58:21.836Z"
      },
      {
        "duration": 11,
        "start_time": "2023-06-22T10:58:21.843Z"
      },
      {
        "duration": 392,
        "start_time": "2023-06-22T10:58:21.870Z"
      },
      {
        "duration": 11,
        "start_time": "2023-06-22T10:58:22.263Z"
      },
      {
        "duration": 349,
        "start_time": "2023-06-22T10:58:22.279Z"
      },
      {
        "duration": 4,
        "start_time": "2023-06-22T10:58:22.629Z"
      },
      {
        "duration": 394,
        "start_time": "2023-06-22T10:58:22.634Z"
      },
      {
        "duration": 4,
        "start_time": "2023-06-22T10:58:23.029Z"
      },
      {
        "duration": 16,
        "start_time": "2023-06-22T10:58:23.034Z"
      },
      {
        "duration": 91,
        "start_time": "2023-06-22T11:03:55.617Z"
      },
      {
        "duration": 288,
        "start_time": "2023-06-22T11:04:03.309Z"
      },
      {
        "duration": 251,
        "start_time": "2023-06-22T11:04:07.813Z"
      },
      {
        "duration": 410,
        "start_time": "2023-06-22T11:04:14.009Z"
      },
      {
        "duration": 262,
        "start_time": "2023-06-22T11:05:08.725Z"
      },
      {
        "duration": 289,
        "start_time": "2023-06-22T11:05:15.134Z"
      },
      {
        "duration": 321,
        "start_time": "2023-06-22T11:05:24.214Z"
      },
      {
        "duration": 181,
        "start_time": "2023-06-22T11:06:21.022Z"
      },
      {
        "duration": 10,
        "start_time": "2023-06-22T11:14:58.710Z"
      },
      {
        "duration": 5,
        "start_time": "2023-06-22T11:15:02.423Z"
      },
      {
        "duration": 113,
        "start_time": "2023-06-22T11:15:02.430Z"
      },
      {
        "duration": 12,
        "start_time": "2023-06-22T11:15:02.545Z"
      },
      {
        "duration": 18,
        "start_time": "2023-06-22T11:15:02.558Z"
      },
      {
        "duration": 35,
        "start_time": "2023-06-22T11:15:02.579Z"
      },
      {
        "duration": 26,
        "start_time": "2023-06-22T11:15:02.617Z"
      },
      {
        "duration": 60,
        "start_time": "2023-06-22T11:15:02.645Z"
      },
      {
        "duration": 5,
        "start_time": "2023-06-22T11:15:02.707Z"
      },
      {
        "duration": 47,
        "start_time": "2023-06-22T11:15:02.713Z"
      },
      {
        "duration": 307,
        "start_time": "2023-06-22T11:15:02.762Z"
      },
      {
        "duration": 29,
        "start_time": "2023-06-22T11:15:03.070Z"
      },
      {
        "duration": 473,
        "start_time": "2023-06-22T11:15:03.102Z"
      },
      {
        "duration": 10,
        "start_time": "2023-06-22T11:15:03.583Z"
      },
      {
        "duration": 423,
        "start_time": "2023-06-22T11:15:03.596Z"
      },
      {
        "duration": 5,
        "start_time": "2023-06-22T11:15:04.021Z"
      },
      {
        "duration": 12,
        "start_time": "2023-06-22T11:15:04.027Z"
      },
      {
        "duration": 46,
        "start_time": "2023-06-22T11:15:04.041Z"
      },
      {
        "duration": 26,
        "start_time": "2023-06-22T11:15:04.093Z"
      },
      {
        "duration": 0,
        "start_time": "2023-06-22T11:15:04.121Z"
      },
      {
        "duration": 0,
        "start_time": "2023-06-22T11:15:04.122Z"
      },
      {
        "duration": 11,
        "start_time": "2023-06-22T11:15:05.813Z"
      },
      {
        "duration": 7,
        "start_time": "2023-06-22T11:15:36.807Z"
      },
      {
        "duration": 44,
        "start_time": "2023-06-22T11:15:36.816Z"
      },
      {
        "duration": 16,
        "start_time": "2023-06-22T11:15:36.862Z"
      },
      {
        "duration": 17,
        "start_time": "2023-06-22T11:15:36.883Z"
      },
      {
        "duration": 15,
        "start_time": "2023-06-22T11:15:36.904Z"
      },
      {
        "duration": 7,
        "start_time": "2023-06-22T11:15:36.921Z"
      },
      {
        "duration": 11,
        "start_time": "2023-06-22T11:15:36.929Z"
      },
      {
        "duration": 4,
        "start_time": "2023-06-22T11:15:36.941Z"
      },
      {
        "duration": 31,
        "start_time": "2023-06-22T11:15:36.946Z"
      },
      {
        "duration": 315,
        "start_time": "2023-06-22T11:15:36.978Z"
      },
      {
        "duration": 9,
        "start_time": "2023-06-22T11:15:37.295Z"
      },
      {
        "duration": 347,
        "start_time": "2023-06-22T11:15:37.311Z"
      },
      {
        "duration": 9,
        "start_time": "2023-06-22T11:15:37.660Z"
      },
      {
        "duration": 507,
        "start_time": "2023-06-22T11:15:37.673Z"
      },
      {
        "duration": 14,
        "start_time": "2023-06-22T11:15:38.188Z"
      },
      {
        "duration": 5,
        "start_time": "2023-06-22T11:15:38.204Z"
      },
      {
        "duration": 24,
        "start_time": "2023-06-22T11:15:38.211Z"
      },
      {
        "duration": 6,
        "start_time": "2023-06-22T11:15:38.236Z"
      },
      {
        "duration": 5,
        "start_time": "2023-06-22T11:15:38.243Z"
      },
      {
        "duration": 6,
        "start_time": "2023-06-22T11:15:38.249Z"
      },
      {
        "duration": 17,
        "start_time": "2023-06-22T11:15:41.318Z"
      },
      {
        "duration": 17,
        "start_time": "2023-06-22T11:16:09.621Z"
      },
      {
        "duration": 19,
        "start_time": "2023-06-22T11:16:36.063Z"
      },
      {
        "duration": 14,
        "start_time": "2023-06-22T11:16:48.226Z"
      },
      {
        "duration": 55,
        "start_time": "2023-06-22T11:16:57.926Z"
      },
      {
        "duration": 27,
        "start_time": "2023-06-22T11:18:11.438Z"
      },
      {
        "duration": 6,
        "start_time": "2023-06-22T11:18:47.433Z"
      },
      {
        "duration": 73,
        "start_time": "2023-06-22T11:18:47.440Z"
      },
      {
        "duration": 10,
        "start_time": "2023-06-22T11:18:47.514Z"
      },
      {
        "duration": 14,
        "start_time": "2023-06-22T11:18:47.526Z"
      },
      {
        "duration": 33,
        "start_time": "2023-06-22T11:18:47.542Z"
      },
      {
        "duration": 11,
        "start_time": "2023-06-22T11:18:47.577Z"
      },
      {
        "duration": 23,
        "start_time": "2023-06-22T11:18:47.592Z"
      },
      {
        "duration": 4,
        "start_time": "2023-06-22T11:18:47.617Z"
      },
      {
        "duration": 8,
        "start_time": "2023-06-22T11:18:47.622Z"
      },
      {
        "duration": 331,
        "start_time": "2023-06-22T11:18:47.632Z"
      },
      {
        "duration": 13,
        "start_time": "2023-06-22T11:18:47.964Z"
      },
      {
        "duration": 371,
        "start_time": "2023-06-22T11:18:47.979Z"
      },
      {
        "duration": 5,
        "start_time": "2023-06-22T11:18:48.352Z"
      },
      {
        "duration": 524,
        "start_time": "2023-06-22T11:18:48.358Z"
      },
      {
        "duration": 12,
        "start_time": "2023-06-22T11:18:48.893Z"
      },
      {
        "duration": 5,
        "start_time": "2023-06-22T11:18:48.908Z"
      },
      {
        "duration": 25,
        "start_time": "2023-06-22T11:18:48.915Z"
      },
      {
        "duration": 6,
        "start_time": "2023-06-22T11:18:48.941Z"
      },
      {
        "duration": 14,
        "start_time": "2023-06-22T11:18:48.948Z"
      },
      {
        "duration": 14,
        "start_time": "2023-06-22T11:18:48.963Z"
      },
      {
        "duration": 21,
        "start_time": "2023-06-22T11:18:50.335Z"
      },
      {
        "duration": 42,
        "start_time": "2023-06-22T11:19:05.264Z"
      },
      {
        "duration": 19,
        "start_time": "2023-06-22T11:19:08.627Z"
      },
      {
        "duration": 38,
        "start_time": "2023-06-22T11:19:23.684Z"
      },
      {
        "duration": 33,
        "start_time": "2023-06-22T11:19:35.430Z"
      },
      {
        "duration": 49,
        "start_time": "2023-06-22T11:19:39.132Z"
      },
      {
        "duration": 39,
        "start_time": "2023-06-22T11:19:58.440Z"
      },
      {
        "duration": 307,
        "start_time": "2023-06-22T14:48:56.222Z"
      },
      {
        "duration": 8,
        "start_time": "2023-06-22T14:56:49.976Z"
      },
      {
        "duration": 72,
        "start_time": "2023-06-22T14:56:49.990Z"
      },
      {
        "duration": 24,
        "start_time": "2023-06-22T14:56:50.063Z"
      },
      {
        "duration": 130,
        "start_time": "2023-06-22T14:56:50.088Z"
      },
      {
        "duration": 105,
        "start_time": "2023-06-22T14:56:50.220Z"
      },
      {
        "duration": 92,
        "start_time": "2023-06-22T14:56:50.327Z"
      },
      {
        "duration": 160,
        "start_time": "2023-06-22T14:56:50.421Z"
      },
      {
        "duration": 51,
        "start_time": "2023-06-22T14:56:50.586Z"
      },
      {
        "duration": 58,
        "start_time": "2023-06-22T14:56:50.639Z"
      },
      {
        "duration": 311,
        "start_time": "2023-06-22T14:56:50.699Z"
      },
      {
        "duration": 312,
        "start_time": "2023-06-22T14:56:51.012Z"
      },
      {
        "duration": 6,
        "start_time": "2023-06-22T14:56:51.326Z"
      },
      {
        "duration": 352,
        "start_time": "2023-06-22T14:56:51.333Z"
      },
      {
        "duration": 14,
        "start_time": "2023-06-22T14:56:51.687Z"
      },
      {
        "duration": 46,
        "start_time": "2023-06-22T14:56:51.703Z"
      },
      {
        "duration": 13,
        "start_time": "2023-06-22T14:57:04.818Z"
      },
      {
        "duration": 13,
        "start_time": "2023-06-22T15:04:10.927Z"
      },
      {
        "duration": 10,
        "start_time": "2023-06-22T15:08:19.961Z"
      },
      {
        "duration": 49,
        "start_time": "2023-06-22T15:08:19.975Z"
      },
      {
        "duration": 12,
        "start_time": "2023-06-22T15:08:20.026Z"
      },
      {
        "duration": 19,
        "start_time": "2023-06-22T15:08:20.040Z"
      },
      {
        "duration": 40,
        "start_time": "2023-06-22T15:08:20.061Z"
      },
      {
        "duration": 16,
        "start_time": "2023-06-22T15:08:20.102Z"
      },
      {
        "duration": 14,
        "start_time": "2023-06-22T15:08:20.120Z"
      },
      {
        "duration": 4,
        "start_time": "2023-06-22T15:08:20.136Z"
      },
      {
        "duration": 9,
        "start_time": "2023-06-22T15:08:20.142Z"
      },
      {
        "duration": 404,
        "start_time": "2023-06-22T15:08:20.153Z"
      },
      {
        "duration": 343,
        "start_time": "2023-06-22T15:08:20.559Z"
      },
      {
        "duration": 6,
        "start_time": "2023-06-22T15:08:20.904Z"
      },
      {
        "duration": 380,
        "start_time": "2023-06-22T15:08:20.911Z"
      },
      {
        "duration": 14,
        "start_time": "2023-06-22T15:08:21.292Z"
      },
      {
        "duration": 19,
        "start_time": "2023-06-22T15:08:21.308Z"
      },
      {
        "duration": 13,
        "start_time": "2023-06-22T15:08:34.400Z"
      },
      {
        "duration": 13,
        "start_time": "2023-06-22T16:27:53.467Z"
      },
      {
        "duration": 14,
        "start_time": "2023-06-22T16:27:57.475Z"
      },
      {
        "duration": 14,
        "start_time": "2023-06-22T16:28:15.506Z"
      },
      {
        "duration": 19,
        "start_time": "2023-06-22T16:28:26.435Z"
      },
      {
        "duration": 14,
        "start_time": "2023-06-22T16:28:38.483Z"
      },
      {
        "duration": 20,
        "start_time": "2023-06-22T16:29:32.483Z"
      },
      {
        "duration": 14,
        "start_time": "2023-06-22T16:32:39.045Z"
      },
      {
        "duration": 12,
        "start_time": "2023-06-22T16:32:44.741Z"
      },
      {
        "duration": 14,
        "start_time": "2023-06-22T16:32:51.989Z"
      },
      {
        "duration": 5,
        "start_time": "2023-06-22T16:38:32.620Z"
      },
      {
        "duration": 75,
        "start_time": "2023-06-22T16:38:32.628Z"
      },
      {
        "duration": 11,
        "start_time": "2023-06-22T16:38:32.705Z"
      },
      {
        "duration": 12,
        "start_time": "2023-06-22T16:38:32.720Z"
      },
      {
        "duration": 23,
        "start_time": "2023-06-22T16:38:32.734Z"
      },
      {
        "duration": 15,
        "start_time": "2023-06-22T16:38:32.760Z"
      },
      {
        "duration": 16,
        "start_time": "2023-06-22T16:38:32.779Z"
      },
      {
        "duration": 19,
        "start_time": "2023-06-22T16:38:32.797Z"
      },
      {
        "duration": 33,
        "start_time": "2023-06-22T16:38:32.817Z"
      },
      {
        "duration": 313,
        "start_time": "2023-06-22T16:38:32.853Z"
      },
      {
        "duration": 335,
        "start_time": "2023-06-22T16:38:33.168Z"
      },
      {
        "duration": 7,
        "start_time": "2023-06-22T16:38:33.506Z"
      },
      {
        "duration": 492,
        "start_time": "2023-06-22T16:38:33.515Z"
      },
      {
        "duration": 19,
        "start_time": "2023-06-22T16:38:34.010Z"
      },
      {
        "duration": 45,
        "start_time": "2023-06-22T16:38:34.031Z"
      },
      {
        "duration": 21,
        "start_time": "2023-06-22T16:38:34.079Z"
      },
      {
        "duration": 420,
        "start_time": "2023-06-22T16:38:34.102Z"
      },
      {
        "duration": 5,
        "start_time": "2023-06-22T16:38:34.523Z"
      },
      {
        "duration": 5,
        "start_time": "2023-06-22T16:38:34.530Z"
      },
      {
        "duration": 237,
        "start_time": "2023-06-22T16:38:34.537Z"
      },
      {
        "duration": 27,
        "start_time": "2023-06-22T16:38:34.775Z"
      },
      {
        "duration": 0,
        "start_time": "2023-06-22T16:38:34.804Z"
      },
      {
        "duration": 0,
        "start_time": "2023-06-22T16:38:34.805Z"
      },
      {
        "duration": 0,
        "start_time": "2023-06-22T16:38:34.807Z"
      },
      {
        "duration": 10,
        "start_time": "2023-06-22T16:39:20.489Z"
      },
      {
        "duration": 7,
        "start_time": "2023-06-22T16:39:52.678Z"
      },
      {
        "duration": 31,
        "start_time": "2023-06-22T16:39:57.010Z"
      },
      {
        "duration": 16,
        "start_time": "2023-06-22T16:40:03.747Z"
      },
      {
        "duration": 27,
        "start_time": "2023-06-22T16:40:05.410Z"
      },
      {
        "duration": 5,
        "start_time": "2023-06-22T16:40:12.418Z"
      },
      {
        "duration": 22,
        "start_time": "2023-06-22T16:40:14.610Z"
      },
      {
        "duration": 6,
        "start_time": "2023-06-22T16:40:23.426Z"
      },
      {
        "duration": 9,
        "start_time": "2023-06-22T16:40:23.937Z"
      },
      {
        "duration": 32,
        "start_time": "2023-06-22T16:40:25.035Z"
      },
      {
        "duration": 8,
        "start_time": "2023-06-22T16:49:24.289Z"
      },
      {
        "duration": 7,
        "start_time": "2023-06-22T16:51:42.627Z"
      },
      {
        "duration": 56,
        "start_time": "2023-06-22T16:51:42.636Z"
      },
      {
        "duration": 15,
        "start_time": "2023-06-22T16:51:42.694Z"
      },
      {
        "duration": 7,
        "start_time": "2023-06-22T16:51:42.711Z"
      },
      {
        "duration": 17,
        "start_time": "2023-06-22T16:51:42.719Z"
      },
      {
        "duration": 8,
        "start_time": "2023-06-22T16:51:42.737Z"
      },
      {
        "duration": 51,
        "start_time": "2023-06-22T16:51:42.747Z"
      },
      {
        "duration": 5,
        "start_time": "2023-06-22T16:51:42.804Z"
      },
      {
        "duration": 11,
        "start_time": "2023-06-22T16:51:42.811Z"
      },
      {
        "duration": 306,
        "start_time": "2023-06-22T16:51:42.825Z"
      },
      {
        "duration": 3,
        "start_time": "2023-06-22T16:51:43.133Z"
      },
      {
        "duration": 365,
        "start_time": "2023-06-22T16:51:43.138Z"
      },
      {
        "duration": 10,
        "start_time": "2023-06-22T16:51:43.504Z"
      },
      {
        "duration": 465,
        "start_time": "2023-06-22T16:51:43.516Z"
      },
      {
        "duration": 35,
        "start_time": "2023-06-22T16:51:43.983Z"
      },
      {
        "duration": 25,
        "start_time": "2023-06-22T16:51:47.303Z"
      },
      {
        "duration": 7,
        "start_time": "2023-06-22T16:53:48.119Z"
      },
      {
        "duration": 48,
        "start_time": "2023-06-22T16:53:48.129Z"
      },
      {
        "duration": 15,
        "start_time": "2023-06-22T16:53:48.180Z"
      },
      {
        "duration": 17,
        "start_time": "2023-06-22T16:53:48.198Z"
      },
      {
        "duration": 16,
        "start_time": "2023-06-22T16:53:48.217Z"
      },
      {
        "duration": 9,
        "start_time": "2023-06-22T16:53:48.235Z"
      },
      {
        "duration": 14,
        "start_time": "2023-06-22T16:53:48.268Z"
      },
      {
        "duration": 5,
        "start_time": "2023-06-22T16:53:48.284Z"
      },
      {
        "duration": 10,
        "start_time": "2023-06-22T16:53:48.292Z"
      },
      {
        "duration": 283,
        "start_time": "2023-06-22T16:53:48.305Z"
      },
      {
        "duration": 4,
        "start_time": "2023-06-22T16:53:48.590Z"
      },
      {
        "duration": 333,
        "start_time": "2023-06-22T16:53:48.596Z"
      },
      {
        "duration": 7,
        "start_time": "2023-06-22T16:53:48.930Z"
      },
      {
        "duration": 342,
        "start_time": "2023-06-22T16:53:48.939Z"
      },
      {
        "duration": 13,
        "start_time": "2023-06-22T16:53:49.283Z"
      },
      {
        "duration": 464,
        "start_time": "2023-06-22T16:53:49.298Z"
      },
      {
        "duration": 6,
        "start_time": "2023-06-22T16:53:49.764Z"
      },
      {
        "duration": 26,
        "start_time": "2023-06-22T16:53:49.771Z"
      },
      {
        "duration": 14,
        "start_time": "2023-06-22T16:53:49.799Z"
      },
      {
        "duration": 15,
        "start_time": "2023-06-22T16:53:49.815Z"
      },
      {
        "duration": 0,
        "start_time": "2023-06-22T16:53:49.832Z"
      },
      {
        "duration": 0,
        "start_time": "2023-06-22T16:53:49.833Z"
      },
      {
        "duration": 0,
        "start_time": "2023-06-22T16:53:49.835Z"
      },
      {
        "duration": 0,
        "start_time": "2023-06-22T16:53:49.836Z"
      },
      {
        "duration": 0,
        "start_time": "2023-06-22T16:53:49.837Z"
      },
      {
        "duration": 0,
        "start_time": "2023-06-22T16:53:49.838Z"
      },
      {
        "duration": 0,
        "start_time": "2023-06-22T16:53:49.839Z"
      },
      {
        "duration": 0,
        "start_time": "2023-06-22T16:53:49.840Z"
      },
      {
        "duration": 0,
        "start_time": "2023-06-22T16:53:49.841Z"
      },
      {
        "duration": 13,
        "start_time": "2023-06-22T16:54:06.433Z"
      },
      {
        "duration": 4,
        "start_time": "2023-06-22T16:54:11.291Z"
      },
      {
        "duration": 14,
        "start_time": "2023-06-22T16:54:13.522Z"
      },
      {
        "duration": 25,
        "start_time": "2023-06-22T16:54:14.206Z"
      },
      {
        "duration": 15,
        "start_time": "2023-06-22T16:54:18.987Z"
      },
      {
        "duration": 27,
        "start_time": "2023-06-22T16:54:19.506Z"
      },
      {
        "duration": 16,
        "start_time": "2023-06-22T16:54:21.291Z"
      },
      {
        "duration": 26,
        "start_time": "2023-06-22T16:54:21.939Z"
      },
      {
        "duration": 8,
        "start_time": "2023-06-22T16:54:25.714Z"
      },
      {
        "duration": 63,
        "start_time": "2023-06-22T16:54:25.724Z"
      },
      {
        "duration": 14,
        "start_time": "2023-06-22T16:54:25.789Z"
      },
      {
        "duration": 8,
        "start_time": "2023-06-22T16:54:25.807Z"
      },
      {
        "duration": 31,
        "start_time": "2023-06-22T16:54:25.817Z"
      },
      {
        "duration": 22,
        "start_time": "2023-06-22T16:54:25.852Z"
      },
      {
        "duration": 18,
        "start_time": "2023-06-22T16:54:25.876Z"
      },
      {
        "duration": 12,
        "start_time": "2023-06-22T16:54:25.896Z"
      },
      {
        "duration": 18,
        "start_time": "2023-06-22T16:54:25.910Z"
      },
      {
        "duration": 272,
        "start_time": "2023-06-22T16:54:25.930Z"
      },
      {
        "duration": 3,
        "start_time": "2023-06-22T16:54:26.204Z"
      },
      {
        "duration": 327,
        "start_time": "2023-06-22T16:54:26.209Z"
      },
      {
        "duration": 7,
        "start_time": "2023-06-22T16:54:26.538Z"
      },
      {
        "duration": 360,
        "start_time": "2023-06-22T16:54:26.547Z"
      },
      {
        "duration": 19,
        "start_time": "2023-06-22T16:54:26.909Z"
      },
      {
        "duration": 556,
        "start_time": "2023-06-22T16:54:26.930Z"
      },
      {
        "duration": 5,
        "start_time": "2023-06-22T16:54:27.488Z"
      },
      {
        "duration": 7,
        "start_time": "2023-06-22T16:54:27.494Z"
      },
      {
        "duration": 17,
        "start_time": "2023-06-22T16:54:27.503Z"
      },
      {
        "duration": 9,
        "start_time": "2023-06-22T16:54:27.522Z"
      },
      {
        "duration": 6,
        "start_time": "2023-06-22T16:55:06.606Z"
      },
      {
        "duration": 45,
        "start_time": "2023-06-22T16:55:06.614Z"
      },
      {
        "duration": 14,
        "start_time": "2023-06-22T16:55:06.661Z"
      },
      {
        "duration": 12,
        "start_time": "2023-06-22T16:55:06.677Z"
      },
      {
        "duration": 23,
        "start_time": "2023-06-22T16:55:06.691Z"
      },
      {
        "duration": 8,
        "start_time": "2023-06-22T16:55:06.716Z"
      },
      {
        "duration": 15,
        "start_time": "2023-06-22T16:55:06.725Z"
      },
      {
        "duration": 4,
        "start_time": "2023-06-22T16:55:06.742Z"
      },
      {
        "duration": 19,
        "start_time": "2023-06-22T16:55:06.770Z"
      },
      {
        "duration": 305,
        "start_time": "2023-06-22T16:55:06.793Z"
      },
      {
        "duration": 5,
        "start_time": "2023-06-22T16:55:07.100Z"
      },
      {
        "duration": 343,
        "start_time": "2023-06-22T16:55:07.109Z"
      },
      {
        "duration": 20,
        "start_time": "2023-06-22T16:55:07.454Z"
      },
      {
        "duration": 329,
        "start_time": "2023-06-22T16:55:07.480Z"
      },
      {
        "duration": 14,
        "start_time": "2023-06-22T16:55:07.810Z"
      },
      {
        "duration": 510,
        "start_time": "2023-06-22T16:55:07.826Z"
      },
      {
        "duration": 5,
        "start_time": "2023-06-22T16:55:08.338Z"
      },
      {
        "duration": 29,
        "start_time": "2023-06-22T16:55:08.345Z"
      },
      {
        "duration": 21,
        "start_time": "2023-06-22T16:55:08.376Z"
      },
      {
        "duration": 35,
        "start_time": "2023-06-22T16:55:08.399Z"
      },
      {
        "duration": 9,
        "start_time": "2023-06-22T16:55:08.436Z"
      },
      {
        "duration": 13,
        "start_time": "2023-06-22T16:55:18.277Z"
      },
      {
        "duration": 48,
        "start_time": "2023-06-22T16:55:18.293Z"
      },
      {
        "duration": 12,
        "start_time": "2023-06-22T16:55:18.342Z"
      },
      {
        "duration": 9,
        "start_time": "2023-06-22T16:55:18.356Z"
      },
      {
        "duration": 27,
        "start_time": "2023-06-22T16:55:18.368Z"
      },
      {
        "duration": 15,
        "start_time": "2023-06-22T16:55:18.396Z"
      },
      {
        "duration": 17,
        "start_time": "2023-06-22T16:55:18.413Z"
      },
      {
        "duration": 5,
        "start_time": "2023-06-22T16:55:18.432Z"
      },
      {
        "duration": 11,
        "start_time": "2023-06-22T16:55:18.439Z"
      },
      {
        "duration": 295,
        "start_time": "2023-06-22T16:55:18.452Z"
      },
      {
        "duration": 4,
        "start_time": "2023-06-22T16:55:18.750Z"
      },
      {
        "duration": 380,
        "start_time": "2023-06-22T16:55:18.771Z"
      },
      {
        "duration": 6,
        "start_time": "2023-06-22T16:55:19.153Z"
      },
      {
        "duration": 374,
        "start_time": "2023-06-22T16:55:19.169Z"
      },
      {
        "duration": 42,
        "start_time": "2023-06-22T16:55:19.545Z"
      },
      {
        "duration": 529,
        "start_time": "2023-06-22T16:55:19.588Z"
      },
      {
        "duration": 4,
        "start_time": "2023-06-22T16:55:20.119Z"
      },
      {
        "duration": 7,
        "start_time": "2023-06-22T16:55:20.124Z"
      },
      {
        "duration": 23,
        "start_time": "2023-06-22T16:55:20.133Z"
      },
      {
        "duration": 34,
        "start_time": "2023-06-22T16:55:20.158Z"
      },
      {
        "duration": 4,
        "start_time": "2023-06-22T16:55:20.194Z"
      },
      {
        "duration": 10,
        "start_time": "2023-06-22T16:55:20.200Z"
      },
      {
        "duration": 9,
        "start_time": "2023-06-22T16:55:20.212Z"
      },
      {
        "duration": 73,
        "start_time": "2023-06-22T16:55:20.223Z"
      },
      {
        "duration": 4,
        "start_time": "2023-06-22T16:55:20.298Z"
      },
      {
        "duration": 14491,
        "start_time": "2023-06-22T16:55:20.306Z"
      },
      {
        "duration": 31411,
        "start_time": "2023-06-22T16:55:34.799Z"
      },
      {
        "duration": 8,
        "start_time": "2023-06-22T16:56:06.212Z"
      },
      {
        "duration": 18,
        "start_time": "2023-06-22T16:56:06.221Z"
      },
      {
        "duration": 18,
        "start_time": "2023-06-22T16:56:06.241Z"
      },
      {
        "duration": 25,
        "start_time": "2023-06-22T16:56:06.261Z"
      },
      {
        "duration": 9,
        "start_time": "2023-06-22T16:56:48.762Z"
      },
      {
        "duration": 8,
        "start_time": "2023-06-22T16:58:06.228Z"
      },
      {
        "duration": 11,
        "start_time": "2023-06-22T16:58:21.621Z"
      },
      {
        "duration": 14,
        "start_time": "2023-06-22T17:01:00.164Z"
      },
      {
        "duration": 551,
        "start_time": "2023-06-22T17:01:03.927Z"
      },
      {
        "duration": 6,
        "start_time": "2023-06-22T17:01:09.430Z"
      },
      {
        "duration": 819,
        "start_time": "2023-06-22T17:01:09.733Z"
      },
      {
        "duration": 93,
        "start_time": "2023-06-22T17:01:59.799Z"
      },
      {
        "duration": 347,
        "start_time": "2023-06-22T17:02:06.334Z"
      },
      {
        "duration": 5,
        "start_time": "2023-06-22T17:02:16.926Z"
      },
      {
        "duration": 41507,
        "start_time": "2023-06-22T17:02:20.127Z"
      },
      {
        "duration": 11,
        "start_time": "2023-06-22T17:03:35.937Z"
      },
      {
        "duration": 10,
        "start_time": "2023-06-22T17:04:58.096Z"
      },
      {
        "duration": 188,
        "start_time": "2023-06-22T17:05:00.417Z"
      },
      {
        "duration": 200,
        "start_time": "2023-06-22T17:05:43.641Z"
      },
      {
        "duration": 51,
        "start_time": "2023-06-22T17:23:01.603Z"
      },
      {
        "duration": 9,
        "start_time": "2023-06-22T17:23:32.441Z"
      },
      {
        "duration": 4019,
        "start_time": "2023-06-22T17:23:41.161Z"
      },
      {
        "duration": 7,
        "start_time": "2023-06-22T17:24:38.918Z"
      },
      {
        "duration": 5,
        "start_time": "2023-06-22T17:25:36.287Z"
      },
      {
        "duration": 9,
        "start_time": "2023-06-22T17:30:22.953Z"
      },
      {
        "duration": 68,
        "start_time": "2023-06-22T17:30:22.965Z"
      },
      {
        "duration": 12,
        "start_time": "2023-06-22T17:30:23.035Z"
      },
      {
        "duration": 14,
        "start_time": "2023-06-22T17:30:23.049Z"
      },
      {
        "duration": 45,
        "start_time": "2023-06-22T17:30:23.065Z"
      },
      {
        "duration": 17,
        "start_time": "2023-06-22T17:30:23.111Z"
      },
      {
        "duration": 22,
        "start_time": "2023-06-22T17:30:23.130Z"
      },
      {
        "duration": 16,
        "start_time": "2023-06-22T17:30:23.153Z"
      },
      {
        "duration": 19,
        "start_time": "2023-06-22T17:30:23.172Z"
      },
      {
        "duration": 296,
        "start_time": "2023-06-22T17:30:23.194Z"
      },
      {
        "duration": 9,
        "start_time": "2023-06-22T17:30:23.492Z"
      },
      {
        "duration": 189,
        "start_time": "2023-06-22T17:30:23.503Z"
      },
      {
        "duration": 6,
        "start_time": "2023-06-22T17:30:23.694Z"
      },
      {
        "duration": 548,
        "start_time": "2023-06-22T17:30:23.702Z"
      },
      {
        "duration": 31,
        "start_time": "2023-06-22T17:30:24.252Z"
      },
      {
        "duration": 412,
        "start_time": "2023-06-22T17:30:24.286Z"
      },
      {
        "duration": 5,
        "start_time": "2023-06-22T17:30:24.700Z"
      },
      {
        "duration": 5781,
        "start_time": "2023-06-22T17:30:24.707Z"
      },
      {
        "duration": 78,
        "start_time": "2023-06-22T17:30:30.490Z"
      },
      {
        "duration": 6218,
        "start_time": "2023-06-22T17:30:30.571Z"
      },
      {
        "duration": 92,
        "start_time": "2023-06-22T17:30:36.799Z"
      },
      {
        "duration": 3409,
        "start_time": "2023-06-22T17:30:38.990Z"
      },
      {
        "duration": 75,
        "start_time": "2023-06-22T17:30:42.403Z"
      },
      {
        "duration": 5,
        "start_time": "2023-06-22T17:30:53.831Z"
      },
      {
        "duration": 44,
        "start_time": "2023-06-22T17:30:53.838Z"
      },
      {
        "duration": 12,
        "start_time": "2023-06-22T17:30:53.884Z"
      },
      {
        "duration": 7,
        "start_time": "2023-06-22T17:30:53.898Z"
      },
      {
        "duration": 16,
        "start_time": "2023-06-22T17:30:53.906Z"
      },
      {
        "duration": 8,
        "start_time": "2023-06-22T17:30:53.923Z"
      },
      {
        "duration": 33,
        "start_time": "2023-06-22T17:30:53.932Z"
      },
      {
        "duration": 4,
        "start_time": "2023-06-22T17:30:53.969Z"
      },
      {
        "duration": 11,
        "start_time": "2023-06-22T17:30:53.975Z"
      },
      {
        "duration": 340,
        "start_time": "2023-06-22T17:30:53.989Z"
      },
      {
        "duration": 14,
        "start_time": "2023-06-22T17:30:54.331Z"
      },
      {
        "duration": 202,
        "start_time": "2023-06-22T17:30:54.347Z"
      },
      {
        "duration": 25,
        "start_time": "2023-06-22T17:30:54.550Z"
      },
      {
        "duration": 338,
        "start_time": "2023-06-22T17:30:54.584Z"
      },
      {
        "duration": 15,
        "start_time": "2023-06-22T17:30:54.924Z"
      },
      {
        "duration": 393,
        "start_time": "2023-06-22T17:30:54.942Z"
      },
      {
        "duration": 5,
        "start_time": "2023-06-22T17:30:55.336Z"
      },
      {
        "duration": 4328,
        "start_time": "2023-06-22T17:30:55.342Z"
      },
      {
        "duration": 18,
        "start_time": "2023-06-22T17:30:59.673Z"
      },
      {
        "duration": 2697,
        "start_time": "2023-06-22T17:30:59.696Z"
      },
      {
        "duration": 77,
        "start_time": "2023-06-22T17:31:02.395Z"
      },
      {
        "duration": 103,
        "start_time": "2023-06-22T17:31:54.718Z"
      },
      {
        "duration": 93,
        "start_time": "2023-06-22T17:32:01.511Z"
      },
      {
        "duration": 7,
        "start_time": "2023-06-22T17:32:07.055Z"
      },
      {
        "duration": 6,
        "start_time": "2023-06-22T17:36:48.615Z"
      },
      {
        "duration": 45,
        "start_time": "2023-06-22T17:36:48.622Z"
      },
      {
        "duration": 16,
        "start_time": "2023-06-22T17:36:48.670Z"
      },
      {
        "duration": 8,
        "start_time": "2023-06-22T17:36:48.688Z"
      },
      {
        "duration": 16,
        "start_time": "2023-06-22T17:36:48.698Z"
      },
      {
        "duration": 9,
        "start_time": "2023-06-22T17:36:48.716Z"
      },
      {
        "duration": 16,
        "start_time": "2023-06-22T17:36:48.726Z"
      },
      {
        "duration": 33,
        "start_time": "2023-06-22T17:36:48.743Z"
      },
      {
        "duration": 14,
        "start_time": "2023-06-22T17:36:48.779Z"
      },
      {
        "duration": 330,
        "start_time": "2023-06-22T17:36:48.796Z"
      },
      {
        "duration": 11,
        "start_time": "2023-06-22T17:36:49.128Z"
      },
      {
        "duration": 197,
        "start_time": "2023-06-22T17:36:49.142Z"
      },
      {
        "duration": 7,
        "start_time": "2023-06-22T17:36:49.342Z"
      },
      {
        "duration": 546,
        "start_time": "2023-06-22T17:36:49.350Z"
      },
      {
        "duration": 14,
        "start_time": "2023-06-22T17:36:49.898Z"
      },
      {
        "duration": 409,
        "start_time": "2023-06-22T17:36:49.914Z"
      },
      {
        "duration": 5,
        "start_time": "2023-06-22T17:36:50.325Z"
      },
      {
        "duration": 3062,
        "start_time": "2023-06-22T17:36:50.332Z"
      },
      {
        "duration": 21,
        "start_time": "2023-06-22T17:36:53.470Z"
      },
      {
        "duration": 5186,
        "start_time": "2023-06-22T17:36:53.498Z"
      },
      {
        "duration": 83,
        "start_time": "2023-06-22T17:36:58.689Z"
      },
      {
        "duration": 9,
        "start_time": "2023-06-22T17:37:48.884Z"
      },
      {
        "duration": 48,
        "start_time": "2023-06-22T17:37:48.895Z"
      },
      {
        "duration": 14,
        "start_time": "2023-06-22T17:37:48.945Z"
      },
      {
        "duration": 16,
        "start_time": "2023-06-22T17:37:48.962Z"
      },
      {
        "duration": 23,
        "start_time": "2023-06-22T17:37:48.979Z"
      },
      {
        "duration": 55,
        "start_time": "2023-06-22T17:37:49.004Z"
      },
      {
        "duration": 21,
        "start_time": "2023-06-22T17:37:49.061Z"
      },
      {
        "duration": 17,
        "start_time": "2023-06-22T17:37:49.084Z"
      },
      {
        "duration": 32,
        "start_time": "2023-06-22T17:37:49.104Z"
      },
      {
        "duration": 284,
        "start_time": "2023-06-22T17:37:49.139Z"
      },
      {
        "duration": 11,
        "start_time": "2023-06-22T17:37:49.425Z"
      },
      {
        "duration": 185,
        "start_time": "2023-06-22T17:37:49.438Z"
      },
      {
        "duration": 7,
        "start_time": "2023-06-22T17:37:49.625Z"
      },
      {
        "duration": 371,
        "start_time": "2023-06-22T17:37:49.634Z"
      },
      {
        "duration": 16,
        "start_time": "2023-06-22T17:37:50.008Z"
      },
      {
        "duration": 460,
        "start_time": "2023-06-22T17:37:50.026Z"
      },
      {
        "duration": 5,
        "start_time": "2023-06-22T17:37:50.491Z"
      },
      {
        "duration": 4685,
        "start_time": "2023-06-22T17:37:50.498Z"
      },
      {
        "duration": 92,
        "start_time": "2023-06-22T17:37:55.189Z"
      },
      {
        "duration": 4396,
        "start_time": "2023-06-22T17:37:55.291Z"
      },
      {
        "duration": 92,
        "start_time": "2023-06-22T17:37:59.694Z"
      },
      {
        "duration": 94,
        "start_time": "2023-06-22T17:39:47.891Z"
      },
      {
        "duration": 97,
        "start_time": "2023-06-22T17:45:26.967Z"
      },
      {
        "duration": 5,
        "start_time": "2023-06-22T17:50:40.506Z"
      },
      {
        "duration": 112,
        "start_time": "2023-06-22T18:00:12.686Z"
      },
      {
        "duration": 5,
        "start_time": "2023-06-22T18:00:26.103Z"
      },
      {
        "duration": 6,
        "start_time": "2023-06-22T18:04:39.632Z"
      },
      {
        "duration": 10,
        "start_time": "2023-06-22T20:28:48.494Z"
      },
      {
        "duration": 336,
        "start_time": "2023-06-22T20:32:06.413Z"
      },
      {
        "duration": 19,
        "start_time": "2023-06-22T20:32:27.420Z"
      },
      {
        "duration": 6,
        "start_time": "2023-06-22T20:32:37.356Z"
      },
      {
        "duration": 178,
        "start_time": "2023-06-22T20:32:37.364Z"
      },
      {
        "duration": 11,
        "start_time": "2023-06-22T20:32:37.543Z"
      },
      {
        "duration": 7,
        "start_time": "2023-06-22T20:32:37.555Z"
      },
      {
        "duration": 27,
        "start_time": "2023-06-22T20:32:37.564Z"
      },
      {
        "duration": 14,
        "start_time": "2023-06-22T20:32:37.597Z"
      },
      {
        "duration": 9,
        "start_time": "2023-06-22T20:32:37.613Z"
      },
      {
        "duration": 4,
        "start_time": "2023-06-22T20:32:37.623Z"
      },
      {
        "duration": 6,
        "start_time": "2023-06-22T20:32:37.629Z"
      },
      {
        "duration": 291,
        "start_time": "2023-06-22T20:32:37.637Z"
      },
      {
        "duration": 10,
        "start_time": "2023-06-22T20:32:37.930Z"
      },
      {
        "duration": 197,
        "start_time": "2023-06-22T20:32:37.942Z"
      },
      {
        "duration": 5,
        "start_time": "2023-06-22T20:32:38.142Z"
      },
      {
        "duration": 567,
        "start_time": "2023-06-22T20:32:38.149Z"
      },
      {
        "duration": 15,
        "start_time": "2023-06-22T20:32:38.718Z"
      },
      {
        "duration": 416,
        "start_time": "2023-06-22T20:32:38.735Z"
      },
      {
        "duration": 4,
        "start_time": "2023-06-22T20:32:39.153Z"
      },
      {
        "duration": 11035,
        "start_time": "2023-06-22T20:32:39.158Z"
      },
      {
        "duration": 74,
        "start_time": "2023-06-22T20:32:50.198Z"
      },
      {
        "duration": 6,
        "start_time": "2023-06-22T20:32:50.275Z"
      },
      {
        "duration": 104,
        "start_time": "2023-06-22T20:32:50.283Z"
      },
      {
        "duration": 30,
        "start_time": "2023-06-22T20:32:50.389Z"
      },
      {
        "duration": 3,
        "start_time": "2023-06-22T20:32:50.421Z"
      },
      {
        "duration": 8,
        "start_time": "2023-06-22T20:32:50.426Z"
      },
      {
        "duration": 6,
        "start_time": "2023-06-22T20:32:50.436Z"
      },
      {
        "duration": 78,
        "start_time": "2023-06-22T20:32:50.443Z"
      },
      {
        "duration": 3,
        "start_time": "2023-06-22T20:32:50.524Z"
      },
      {
        "duration": 19535,
        "start_time": "2023-06-22T20:32:50.529Z"
      },
      {
        "duration": 38855,
        "start_time": "2023-06-22T20:33:10.066Z"
      },
      {
        "duration": 6,
        "start_time": "2023-06-22T20:33:48.922Z"
      },
      {
        "duration": 7,
        "start_time": "2023-06-22T20:33:48.930Z"
      },
      {
        "duration": 14,
        "start_time": "2023-06-22T20:33:48.939Z"
      },
      {
        "duration": 5,
        "start_time": "2023-06-22T20:33:48.955Z"
      },
      {
        "duration": 28,
        "start_time": "2023-06-22T20:33:48.961Z"
      },
      {
        "duration": 16,
        "start_time": "2023-06-22T20:33:48.992Z"
      },
      {
        "duration": 14,
        "start_time": "2023-06-22T20:34:28.183Z"
      },
      {
        "duration": 116,
        "start_time": "2023-06-22T20:34:28.199Z"
      },
      {
        "duration": 12,
        "start_time": "2023-06-22T20:34:28.318Z"
      },
      {
        "duration": 13,
        "start_time": "2023-06-22T20:34:28.331Z"
      },
      {
        "duration": 24,
        "start_time": "2023-06-22T20:34:28.374Z"
      },
      {
        "duration": 9,
        "start_time": "2023-06-22T20:34:28.400Z"
      },
      {
        "duration": 19,
        "start_time": "2023-06-22T20:34:28.410Z"
      },
      {
        "duration": 3,
        "start_time": "2023-06-22T20:34:28.431Z"
      },
      {
        "duration": 14,
        "start_time": "2023-06-22T20:34:28.436Z"
      },
      {
        "duration": 279,
        "start_time": "2023-06-22T20:34:28.451Z"
      },
      {
        "duration": 9,
        "start_time": "2023-06-22T20:34:28.732Z"
      },
      {
        "duration": 209,
        "start_time": "2023-06-22T20:34:28.742Z"
      },
      {
        "duration": 6,
        "start_time": "2023-06-22T20:34:28.953Z"
      },
      {
        "duration": 416,
        "start_time": "2023-06-22T20:34:28.961Z"
      },
      {
        "duration": 18,
        "start_time": "2023-06-22T20:34:29.379Z"
      },
      {
        "duration": 441,
        "start_time": "2023-06-22T20:34:29.408Z"
      },
      {
        "duration": 3,
        "start_time": "2023-06-22T20:34:29.851Z"
      },
      {
        "duration": 8969,
        "start_time": "2023-06-22T20:34:29.856Z"
      },
      {
        "duration": 19,
        "start_time": "2023-06-22T20:38:06.895Z"
      },
      {
        "duration": 6,
        "start_time": "2023-06-22T20:38:18.544Z"
      },
      {
        "duration": 63,
        "start_time": "2023-06-22T20:38:18.552Z"
      },
      {
        "duration": 11,
        "start_time": "2023-06-22T20:38:18.617Z"
      },
      {
        "duration": 7,
        "start_time": "2023-06-22T20:38:18.631Z"
      },
      {
        "duration": 16,
        "start_time": "2023-06-22T20:38:18.639Z"
      },
      {
        "duration": 8,
        "start_time": "2023-06-22T20:38:18.656Z"
      },
      {
        "duration": 28,
        "start_time": "2023-06-22T20:38:18.678Z"
      },
      {
        "duration": 6,
        "start_time": "2023-06-22T20:38:18.708Z"
      },
      {
        "duration": 9,
        "start_time": "2023-06-22T20:38:18.715Z"
      },
      {
        "duration": 302,
        "start_time": "2023-06-22T20:38:18.726Z"
      },
      {
        "duration": 9,
        "start_time": "2023-06-22T20:38:19.030Z"
      },
      {
        "duration": 220,
        "start_time": "2023-06-22T20:38:19.040Z"
      },
      {
        "duration": 13,
        "start_time": "2023-06-22T20:38:19.262Z"
      },
      {
        "duration": 406,
        "start_time": "2023-06-22T20:38:19.277Z"
      },
      {
        "duration": 28,
        "start_time": "2023-06-22T20:38:19.686Z"
      },
      {
        "duration": 630,
        "start_time": "2023-06-22T20:38:19.716Z"
      },
      {
        "duration": 5,
        "start_time": "2023-06-22T20:38:20.348Z"
      },
      {
        "duration": 8644,
        "start_time": "2023-06-22T20:38:20.354Z"
      },
      {
        "duration": 14,
        "start_time": "2023-06-22T20:38:29.000Z"
      },
      {
        "duration": 19,
        "start_time": "2023-06-22T20:38:29.087Z"
      },
      {
        "duration": 34,
        "start_time": "2023-06-22T20:38:29.109Z"
      },
      {
        "duration": 50,
        "start_time": "2023-06-22T20:38:29.144Z"
      },
      {
        "duration": 6,
        "start_time": "2023-06-22T20:38:29.196Z"
      },
      {
        "duration": 12,
        "start_time": "2023-06-22T20:38:29.204Z"
      },
      {
        "duration": 9,
        "start_time": "2023-06-22T20:38:29.217Z"
      },
      {
        "duration": 65,
        "start_time": "2023-06-22T20:38:29.227Z"
      },
      {
        "duration": 3,
        "start_time": "2023-06-22T20:38:29.294Z"
      },
      {
        "duration": 18853,
        "start_time": "2023-06-22T20:38:29.302Z"
      },
      {
        "duration": 37441,
        "start_time": "2023-06-22T20:38:48.157Z"
      },
      {
        "duration": 6,
        "start_time": "2023-06-22T20:39:25.599Z"
      },
      {
        "duration": 6,
        "start_time": "2023-06-22T20:39:25.606Z"
      },
      {
        "duration": 12,
        "start_time": "2023-06-22T20:39:25.614Z"
      },
      {
        "duration": 5,
        "start_time": "2023-06-22T20:39:25.628Z"
      },
      {
        "duration": 12,
        "start_time": "2023-06-22T20:39:25.634Z"
      },
      {
        "duration": 12,
        "start_time": "2023-06-22T20:39:25.647Z"
      },
      {
        "duration": 6,
        "start_time": "2023-06-22T20:42:34.858Z"
      },
      {
        "duration": 64,
        "start_time": "2023-06-22T20:42:34.866Z"
      },
      {
        "duration": 11,
        "start_time": "2023-06-22T20:42:34.932Z"
      },
      {
        "duration": 8,
        "start_time": "2023-06-22T20:42:34.945Z"
      },
      {
        "duration": 17,
        "start_time": "2023-06-22T20:42:34.954Z"
      },
      {
        "duration": 22,
        "start_time": "2023-06-22T20:42:34.976Z"
      },
      {
        "duration": 10,
        "start_time": "2023-06-22T20:42:35.002Z"
      },
      {
        "duration": 5,
        "start_time": "2023-06-22T20:42:35.013Z"
      },
      {
        "duration": 7,
        "start_time": "2023-06-22T20:42:35.019Z"
      },
      {
        "duration": 295,
        "start_time": "2023-06-22T20:42:35.029Z"
      },
      {
        "duration": 10,
        "start_time": "2023-06-22T20:42:35.326Z"
      },
      {
        "duration": 189,
        "start_time": "2023-06-22T20:42:35.337Z"
      },
      {
        "duration": 6,
        "start_time": "2023-06-22T20:42:35.527Z"
      },
      {
        "duration": 349,
        "start_time": "2023-06-22T20:42:35.535Z"
      },
      {
        "duration": 19,
        "start_time": "2023-06-22T20:42:35.891Z"
      },
      {
        "duration": 369,
        "start_time": "2023-06-22T20:42:35.912Z"
      },
      {
        "duration": 13,
        "start_time": "2023-06-22T20:42:36.282Z"
      },
      {
        "duration": 7580,
        "start_time": "2023-06-22T20:42:36.299Z"
      },
      {
        "duration": 6,
        "start_time": "2023-06-22T20:42:43.881Z"
      },
      {
        "duration": 19,
        "start_time": "2023-06-22T20:43:03.477Z"
      },
      {
        "duration": 6,
        "start_time": "2023-06-22T20:43:32.945Z"
      },
      {
        "duration": 51,
        "start_time": "2023-06-22T20:43:32.952Z"
      },
      {
        "duration": 12,
        "start_time": "2023-06-22T20:43:33.004Z"
      },
      {
        "duration": 8,
        "start_time": "2023-06-22T20:43:33.018Z"
      },
      {
        "duration": 15,
        "start_time": "2023-06-22T20:43:33.027Z"
      },
      {
        "duration": 8,
        "start_time": "2023-06-22T20:43:33.043Z"
      },
      {
        "duration": 33,
        "start_time": "2023-06-22T20:43:33.053Z"
      },
      {
        "duration": 9,
        "start_time": "2023-06-22T20:43:33.090Z"
      },
      {
        "duration": 13,
        "start_time": "2023-06-22T20:43:33.101Z"
      },
      {
        "duration": 278,
        "start_time": "2023-06-22T20:43:33.116Z"
      },
      {
        "duration": 13,
        "start_time": "2023-06-22T20:43:33.395Z"
      },
      {
        "duration": 187,
        "start_time": "2023-06-22T20:43:33.410Z"
      },
      {
        "duration": 8,
        "start_time": "2023-06-22T20:43:33.607Z"
      },
      {
        "duration": 365,
        "start_time": "2023-06-22T20:43:33.617Z"
      },
      {
        "duration": 12,
        "start_time": "2023-06-22T20:43:43.114Z"
      },
      {
        "duration": 54,
        "start_time": "2023-06-22T20:43:59.731Z"
      },
      {
        "duration": 10,
        "start_time": "2023-06-22T20:44:05.747Z"
      },
      {
        "duration": 10,
        "start_time": "2023-06-22T20:45:45.689Z"
      },
      {
        "duration": 61,
        "start_time": "2023-06-22T20:45:45.702Z"
      },
      {
        "duration": 19,
        "start_time": "2023-06-22T20:45:45.765Z"
      },
      {
        "duration": 9,
        "start_time": "2023-06-22T20:45:45.785Z"
      },
      {
        "duration": 20,
        "start_time": "2023-06-22T20:45:45.797Z"
      },
      {
        "duration": 11,
        "start_time": "2023-06-22T20:45:45.820Z"
      },
      {
        "duration": 12,
        "start_time": "2023-06-22T20:45:45.833Z"
      },
      {
        "duration": 32,
        "start_time": "2023-06-22T20:45:45.846Z"
      },
      {
        "duration": 11,
        "start_time": "2023-06-22T20:45:45.884Z"
      },
      {
        "duration": 300,
        "start_time": "2023-06-22T20:45:45.899Z"
      },
      {
        "duration": 10,
        "start_time": "2023-06-22T20:45:46.201Z"
      },
      {
        "duration": 187,
        "start_time": "2023-06-22T20:45:46.213Z"
      },
      {
        "duration": 6,
        "start_time": "2023-06-22T20:45:46.402Z"
      },
      {
        "duration": 332,
        "start_time": "2023-06-22T20:45:46.410Z"
      },
      {
        "duration": 27,
        "start_time": "2023-06-22T20:45:46.743Z"
      },
      {
        "duration": 600,
        "start_time": "2023-06-22T20:45:46.772Z"
      },
      {
        "duration": 6,
        "start_time": "2023-06-22T20:45:47.373Z"
      },
      {
        "duration": 6400,
        "start_time": "2023-06-22T20:45:47.381Z"
      },
      {
        "duration": 89,
        "start_time": "2023-06-22T20:45:53.783Z"
      },
      {
        "duration": 10,
        "start_time": "2023-06-22T20:45:53.876Z"
      },
      {
        "duration": 18,
        "start_time": "2023-06-22T20:45:53.891Z"
      },
      {
        "duration": 17,
        "start_time": "2023-06-22T20:45:53.911Z"
      },
      {
        "duration": 9,
        "start_time": "2023-06-22T20:45:53.930Z"
      },
      {
        "duration": 8,
        "start_time": "2023-06-22T20:45:53.941Z"
      },
      {
        "duration": 27,
        "start_time": "2023-06-22T20:45:53.951Z"
      },
      {
        "duration": 45,
        "start_time": "2023-06-22T20:45:53.980Z"
      },
      {
        "duration": 3,
        "start_time": "2023-06-22T20:45:54.027Z"
      },
      {
        "duration": 14338,
        "start_time": "2023-06-22T20:45:54.032Z"
      },
      {
        "duration": 35011,
        "start_time": "2023-06-22T20:46:08.377Z"
      },
      {
        "duration": 11,
        "start_time": "2023-06-22T20:46:43.393Z"
      },
      {
        "duration": 5,
        "start_time": "2023-06-22T20:46:43.406Z"
      },
      {
        "duration": 15,
        "start_time": "2023-06-22T20:46:43.413Z"
      },
      {
        "duration": 6,
        "start_time": "2023-06-22T20:46:43.430Z"
      },
      {
        "duration": 8,
        "start_time": "2023-06-22T20:46:43.438Z"
      },
      {
        "duration": 10,
        "start_time": "2023-06-22T20:46:43.447Z"
      },
      {
        "duration": 13927,
        "start_time": "2023-06-22T20:51:22.056Z"
      },
      {
        "duration": 11,
        "start_time": "2023-06-22T20:52:06.938Z"
      },
      {
        "duration": 87,
        "start_time": "2023-06-22T20:55:02.801Z"
      },
      {
        "duration": 7,
        "start_time": "2023-06-22T20:55:31.120Z"
      },
      {
        "duration": 77,
        "start_time": "2023-06-22T20:55:31.129Z"
      },
      {
        "duration": 12,
        "start_time": "2023-06-22T20:55:31.208Z"
      },
      {
        "duration": 14,
        "start_time": "2023-06-22T20:55:31.221Z"
      },
      {
        "duration": 49,
        "start_time": "2023-06-22T20:55:31.237Z"
      },
      {
        "duration": 10,
        "start_time": "2023-06-22T20:55:31.294Z"
      },
      {
        "duration": 44,
        "start_time": "2023-06-22T20:55:31.305Z"
      },
      {
        "duration": 30,
        "start_time": "2023-06-22T20:55:31.351Z"
      },
      {
        "duration": 40,
        "start_time": "2023-06-22T20:55:31.382Z"
      },
      {
        "duration": 298,
        "start_time": "2023-06-22T20:55:31.423Z"
      },
      {
        "duration": 10,
        "start_time": "2023-06-22T20:55:31.722Z"
      },
      {
        "duration": 196,
        "start_time": "2023-06-22T20:55:31.733Z"
      },
      {
        "duration": 6,
        "start_time": "2023-06-22T20:55:31.931Z"
      },
      {
        "duration": 372,
        "start_time": "2023-06-22T20:55:31.940Z"
      },
      {
        "duration": 22,
        "start_time": "2023-06-22T20:55:32.314Z"
      },
      {
        "duration": 464,
        "start_time": "2023-06-22T20:55:32.340Z"
      },
      {
        "duration": 8,
        "start_time": "2023-06-22T20:55:32.806Z"
      },
      {
        "duration": 7784,
        "start_time": "2023-06-22T20:55:32.816Z"
      },
      {
        "duration": 97,
        "start_time": "2023-06-22T20:55:40.603Z"
      },
      {
        "duration": 8,
        "start_time": "2023-06-22T20:55:40.771Z"
      },
      {
        "duration": 23,
        "start_time": "2023-06-22T20:55:40.784Z"
      },
      {
        "duration": 16,
        "start_time": "2023-06-22T20:55:40.808Z"
      },
      {
        "duration": 9,
        "start_time": "2023-06-22T20:55:40.825Z"
      },
      {
        "duration": 7,
        "start_time": "2023-06-22T20:55:40.835Z"
      },
      {
        "duration": 8,
        "start_time": "2023-06-22T20:55:40.843Z"
      },
      {
        "duration": 50,
        "start_time": "2023-06-22T20:55:40.853Z"
      },
      {
        "duration": 2,
        "start_time": "2023-06-22T20:55:40.907Z"
      },
      {
        "duration": 13044,
        "start_time": "2023-06-22T20:55:40.911Z"
      },
      {
        "duration": 35138,
        "start_time": "2023-06-22T20:55:53.956Z"
      },
      {
        "duration": 13,
        "start_time": "2023-06-22T20:56:29.096Z"
      },
      {
        "duration": 11,
        "start_time": "2023-06-22T20:56:29.111Z"
      },
      {
        "duration": 18,
        "start_time": "2023-06-22T20:56:29.124Z"
      },
      {
        "duration": 6,
        "start_time": "2023-06-22T20:56:29.143Z"
      },
      {
        "duration": 16,
        "start_time": "2023-06-22T20:56:29.151Z"
      },
      {
        "duration": 25,
        "start_time": "2023-06-22T20:56:29.179Z"
      },
      {
        "duration": 19,
        "start_time": "2023-06-22T20:58:59.251Z"
      },
      {
        "duration": 9,
        "start_time": "2023-06-22T20:59:10.897Z"
      },
      {
        "duration": 15,
        "start_time": "2023-06-22T20:59:13.331Z"
      },
      {
        "duration": 125,
        "start_time": "2023-06-22T21:11:18.962Z"
      },
      {
        "duration": 117,
        "start_time": "2023-06-22T21:11:29.158Z"
      },
      {
        "duration": 30,
        "start_time": "2023-06-22T21:12:04.352Z"
      },
      {
        "duration": 6,
        "start_time": "2023-06-22T21:12:32.238Z"
      },
      {
        "duration": 3,
        "start_time": "2023-06-22T21:14:10.221Z"
      },
      {
        "duration": 257,
        "start_time": "2023-06-22T21:14:24.795Z"
      },
      {
        "duration": 146,
        "start_time": "2023-06-22T21:15:32.995Z"
      },
      {
        "duration": 8,
        "start_time": "2023-06-22T21:15:38.804Z"
      },
      {
        "duration": 183,
        "start_time": "2023-06-22T21:15:44.140Z"
      },
      {
        "duration": 11,
        "start_time": "2023-06-22T21:15:55.194Z"
      },
      {
        "duration": 174,
        "start_time": "2023-06-22T21:16:03.924Z"
      },
      {
        "duration": 7,
        "start_time": "2023-06-22T21:16:09.501Z"
      },
      {
        "duration": 7,
        "start_time": "2023-06-22T21:16:14.316Z"
      },
      {
        "duration": 9,
        "start_time": "2023-06-22T21:16:20.301Z"
      },
      {
        "duration": 143,
        "start_time": "2023-06-22T21:16:32.698Z"
      },
      {
        "duration": 6,
        "start_time": "2023-06-22T21:16:38.158Z"
      },
      {
        "duration": 8,
        "start_time": "2023-06-22T21:16:41.492Z"
      },
      {
        "duration": 9,
        "start_time": "2023-06-22T21:16:46.094Z"
      },
      {
        "duration": 217,
        "start_time": "2023-06-22T21:16:51.229Z"
      },
      {
        "duration": 227,
        "start_time": "2023-06-22T21:16:57.095Z"
      },
      {
        "duration": 9,
        "start_time": "2023-06-22T21:17:12.749Z"
      },
      {
        "duration": 230,
        "start_time": "2023-06-22T21:17:28.607Z"
      },
      {
        "duration": 248,
        "start_time": "2023-06-22T21:17:32.373Z"
      },
      {
        "duration": 7,
        "start_time": "2023-06-22T21:17:40.821Z"
      },
      {
        "duration": 15,
        "start_time": "2023-06-22T21:18:15.613Z"
      },
      {
        "duration": 11,
        "start_time": "2023-06-22T21:18:20.463Z"
      },
      {
        "duration": 8,
        "start_time": "2023-06-22T21:18:34.446Z"
      },
      {
        "duration": 9,
        "start_time": "2023-06-22T21:18:39.213Z"
      },
      {
        "duration": 6,
        "start_time": "2023-06-22T21:18:43.293Z"
      },
      {
        "duration": 3,
        "start_time": "2023-06-22T21:18:59.030Z"
      },
      {
        "duration": 6,
        "start_time": "2023-06-22T21:19:14.846Z"
      },
      {
        "duration": 190,
        "start_time": "2023-06-22T21:19:25.395Z"
      },
      {
        "duration": 219,
        "start_time": "2023-06-22T21:20:42.814Z"
      },
      {
        "duration": 0,
        "start_time": "2023-06-22T21:20:43.035Z"
      },
      {
        "duration": 251,
        "start_time": "2023-06-22T21:21:20.240Z"
      },
      {
        "duration": 236,
        "start_time": "2023-06-22T21:21:22.856Z"
      },
      {
        "duration": 103,
        "start_time": "2023-06-22T21:21:25.358Z"
      },
      {
        "duration": 220,
        "start_time": "2023-06-22T21:21:29.231Z"
      },
      {
        "duration": 6,
        "start_time": "2023-06-22T21:24:38.524Z"
      },
      {
        "duration": 50,
        "start_time": "2023-06-22T21:24:38.531Z"
      },
      {
        "duration": 19,
        "start_time": "2023-06-22T21:24:38.583Z"
      },
      {
        "duration": 8,
        "start_time": "2023-06-22T21:24:38.607Z"
      },
      {
        "duration": 16,
        "start_time": "2023-06-22T21:24:38.616Z"
      },
      {
        "duration": 7,
        "start_time": "2023-06-22T21:24:38.633Z"
      },
      {
        "duration": 21,
        "start_time": "2023-06-22T21:24:38.642Z"
      },
      {
        "duration": 17,
        "start_time": "2023-06-22T21:24:38.665Z"
      },
      {
        "duration": 11,
        "start_time": "2023-06-22T21:24:38.691Z"
      },
      {
        "duration": 463,
        "start_time": "2023-06-22T21:24:38.704Z"
      },
      {
        "duration": 13,
        "start_time": "2023-06-22T21:24:39.179Z"
      },
      {
        "duration": 179,
        "start_time": "2023-06-22T21:24:39.201Z"
      },
      {
        "duration": 15,
        "start_time": "2023-06-22T21:24:39.389Z"
      },
      {
        "duration": 326,
        "start_time": "2023-06-22T21:24:39.405Z"
      },
      {
        "duration": 13,
        "start_time": "2023-06-22T21:24:39.733Z"
      },
      {
        "duration": 389,
        "start_time": "2023-06-22T21:24:39.748Z"
      },
      {
        "duration": 6,
        "start_time": "2023-06-22T21:24:40.138Z"
      },
      {
        "duration": 6061,
        "start_time": "2023-06-22T21:24:40.145Z"
      },
      {
        "duration": 29,
        "start_time": "2023-06-22T21:24:46.276Z"
      },
      {
        "duration": 8,
        "start_time": "2023-06-22T21:24:46.369Z"
      },
      {
        "duration": 21,
        "start_time": "2023-06-22T21:24:46.385Z"
      },
      {
        "duration": 16,
        "start_time": "2023-06-22T21:24:46.410Z"
      },
      {
        "duration": 8,
        "start_time": "2023-06-22T21:24:46.427Z"
      },
      {
        "duration": 7,
        "start_time": "2023-06-22T21:24:46.437Z"
      },
      {
        "duration": 5,
        "start_time": "2023-06-22T21:24:46.445Z"
      },
      {
        "duration": 50,
        "start_time": "2023-06-22T21:24:46.451Z"
      },
      {
        "duration": 5,
        "start_time": "2023-06-22T21:24:46.504Z"
      },
      {
        "duration": 13500,
        "start_time": "2023-06-22T21:24:46.513Z"
      },
      {
        "duration": 39787,
        "start_time": "2023-06-22T21:25:00.015Z"
      },
      {
        "duration": 4,
        "start_time": "2023-06-22T21:25:39.805Z"
      },
      {
        "duration": 36,
        "start_time": "2023-06-22T21:25:39.810Z"
      },
      {
        "duration": 10,
        "start_time": "2023-06-22T21:25:39.847Z"
      },
      {
        "duration": 241,
        "start_time": "2023-06-22T21:25:39.858Z"
      },
      {
        "duration": 212,
        "start_time": "2023-06-22T21:25:40.101Z"
      },
      {
        "duration": 106,
        "start_time": "2023-06-22T21:25:40.314Z"
      },
      {
        "duration": 22,
        "start_time": "2023-06-22T21:25:58.498Z"
      },
      {
        "duration": 6,
        "start_time": "2023-06-22T21:26:02.605Z"
      },
      {
        "duration": 6,
        "start_time": "2023-06-22T21:27:21.714Z"
      },
      {
        "duration": 5,
        "start_time": "2023-06-22T21:27:41.330Z"
      },
      {
        "duration": 4,
        "start_time": "2023-06-22T21:28:11.324Z"
      },
      {
        "duration": 7,
        "start_time": "2023-06-22T21:30:50.106Z"
      },
      {
        "duration": 4,
        "start_time": "2023-06-22T21:31:08.758Z"
      },
      {
        "duration": 10,
        "start_time": "2023-06-22T21:31:48.510Z"
      },
      {
        "duration": 5,
        "start_time": "2023-06-22T21:35:20.217Z"
      },
      {
        "duration": 15,
        "start_time": "2023-06-22T21:39:44.728Z"
      },
      {
        "duration": 1713,
        "start_time": "2023-06-23T10:50:14.506Z"
      },
      {
        "duration": 140,
        "start_time": "2023-06-23T10:50:16.222Z"
      },
      {
        "duration": 14,
        "start_time": "2023-06-23T10:50:16.364Z"
      },
      {
        "duration": 20,
        "start_time": "2023-06-23T10:50:16.379Z"
      },
      {
        "duration": 19,
        "start_time": "2023-06-23T10:50:16.401Z"
      },
      {
        "duration": 10,
        "start_time": "2023-06-23T10:50:16.421Z"
      },
      {
        "duration": 38,
        "start_time": "2023-06-23T10:50:16.433Z"
      },
      {
        "duration": 4,
        "start_time": "2023-06-23T10:50:16.473Z"
      },
      {
        "duration": 16,
        "start_time": "2023-06-23T10:50:16.478Z"
      },
      {
        "duration": 393,
        "start_time": "2023-06-23T10:50:16.496Z"
      },
      {
        "duration": 11,
        "start_time": "2023-06-23T10:50:16.891Z"
      },
      {
        "duration": 198,
        "start_time": "2023-06-23T10:50:16.904Z"
      },
      {
        "duration": 7,
        "start_time": "2023-06-23T10:50:17.104Z"
      },
      {
        "duration": 351,
        "start_time": "2023-06-23T10:50:17.114Z"
      },
      {
        "duration": 18,
        "start_time": "2023-06-23T10:50:17.467Z"
      },
      {
        "duration": 430,
        "start_time": "2023-06-23T10:50:17.486Z"
      },
      {
        "duration": 6,
        "start_time": "2023-06-23T10:50:17.918Z"
      },
      {
        "duration": 145,
        "start_time": "2023-06-23T10:50:17.926Z"
      },
      {
        "duration": 0,
        "start_time": "2023-06-23T10:50:18.073Z"
      },
      {
        "duration": 0,
        "start_time": "2023-06-23T10:50:18.075Z"
      },
      {
        "duration": 0,
        "start_time": "2023-06-23T10:50:18.076Z"
      },
      {
        "duration": 0,
        "start_time": "2023-06-23T10:50:18.078Z"
      },
      {
        "duration": 0,
        "start_time": "2023-06-23T10:50:18.079Z"
      },
      {
        "duration": 0,
        "start_time": "2023-06-23T10:50:18.080Z"
      },
      {
        "duration": 0,
        "start_time": "2023-06-23T10:50:18.081Z"
      },
      {
        "duration": 0,
        "start_time": "2023-06-23T10:50:18.083Z"
      },
      {
        "duration": 0,
        "start_time": "2023-06-23T10:50:18.084Z"
      },
      {
        "duration": 0,
        "start_time": "2023-06-23T10:50:18.085Z"
      },
      {
        "duration": 0,
        "start_time": "2023-06-23T10:50:18.086Z"
      },
      {
        "duration": 0,
        "start_time": "2023-06-23T10:50:18.087Z"
      },
      {
        "duration": 0,
        "start_time": "2023-06-23T10:50:18.088Z"
      },
      {
        "duration": 0,
        "start_time": "2023-06-23T10:50:18.089Z"
      },
      {
        "duration": 0,
        "start_time": "2023-06-23T10:50:18.090Z"
      },
      {
        "duration": 1,
        "start_time": "2023-06-23T10:50:18.091Z"
      },
      {
        "duration": 0,
        "start_time": "2023-06-23T10:50:18.093Z"
      },
      {
        "duration": 7,
        "start_time": "2023-06-23T10:53:04.657Z"
      },
      {
        "duration": 52,
        "start_time": "2023-06-23T10:53:04.666Z"
      },
      {
        "duration": 13,
        "start_time": "2023-06-23T10:53:04.720Z"
      },
      {
        "duration": 26,
        "start_time": "2023-06-23T10:53:04.735Z"
      },
      {
        "duration": 48,
        "start_time": "2023-06-23T10:53:04.764Z"
      },
      {
        "duration": 18,
        "start_time": "2023-06-23T10:53:04.814Z"
      },
      {
        "duration": 20,
        "start_time": "2023-06-23T10:53:04.834Z"
      },
      {
        "duration": 4,
        "start_time": "2023-06-23T10:53:04.856Z"
      },
      {
        "duration": 27,
        "start_time": "2023-06-23T10:53:04.862Z"
      },
      {
        "duration": 286,
        "start_time": "2023-06-23T10:53:04.891Z"
      },
      {
        "duration": 9,
        "start_time": "2023-06-23T10:53:05.179Z"
      },
      {
        "duration": 300,
        "start_time": "2023-06-23T10:53:05.189Z"
      },
      {
        "duration": 7,
        "start_time": "2023-06-23T10:53:05.491Z"
      },
      {
        "duration": 340,
        "start_time": "2023-06-23T10:53:05.502Z"
      },
      {
        "duration": 23,
        "start_time": "2023-06-23T10:53:05.843Z"
      },
      {
        "duration": 419,
        "start_time": "2023-06-23T10:53:05.868Z"
      },
      {
        "duration": 6,
        "start_time": "2023-06-23T10:53:06.289Z"
      },
      {
        "duration": 2472,
        "start_time": "2023-06-23T10:53:06.296Z"
      },
      {
        "duration": 97,
        "start_time": "2023-06-23T10:53:08.863Z"
      },
      {
        "duration": 6,
        "start_time": "2023-06-23T10:53:08.962Z"
      },
      {
        "duration": 23,
        "start_time": "2023-06-23T10:53:08.970Z"
      },
      {
        "duration": 18,
        "start_time": "2023-06-23T10:53:08.995Z"
      },
      {
        "duration": 38,
        "start_time": "2023-06-23T10:53:09.015Z"
      },
      {
        "duration": 26,
        "start_time": "2023-06-23T10:53:09.056Z"
      },
      {
        "duration": 35,
        "start_time": "2023-06-23T10:53:09.084Z"
      },
      {
        "duration": 140,
        "start_time": "2023-06-23T10:53:09.120Z"
      },
      {
        "duration": 3,
        "start_time": "2023-06-23T10:53:09.263Z"
      },
      {
        "duration": 12477,
        "start_time": "2023-06-23T10:53:09.269Z"
      },
      {
        "duration": 31849,
        "start_time": "2023-06-23T10:53:21.748Z"
      },
      {
        "duration": 4,
        "start_time": "2023-06-23T10:53:53.599Z"
      },
      {
        "duration": 25,
        "start_time": "2023-06-23T10:53:53.604Z"
      },
      {
        "duration": 12,
        "start_time": "2023-06-23T10:53:53.631Z"
      },
      {
        "duration": 230,
        "start_time": "2023-06-23T10:53:53.644Z"
      },
      {
        "duration": 242,
        "start_time": "2023-06-23T10:53:53.876Z"
      },
      {
        "duration": 9,
        "start_time": "2023-06-23T10:59:20.434Z"
      },
      {
        "duration": 74,
        "start_time": "2023-06-23T10:59:20.445Z"
      },
      {
        "duration": 15,
        "start_time": "2023-06-23T10:59:20.522Z"
      },
      {
        "duration": 28,
        "start_time": "2023-06-23T10:59:20.540Z"
      },
      {
        "duration": 37,
        "start_time": "2023-06-23T10:59:20.570Z"
      },
      {
        "duration": 23,
        "start_time": "2023-06-23T10:59:20.609Z"
      },
      {
        "duration": 25,
        "start_time": "2023-06-23T10:59:20.634Z"
      },
      {
        "duration": 22,
        "start_time": "2023-06-23T10:59:20.661Z"
      },
      {
        "duration": 21,
        "start_time": "2023-06-23T10:59:20.686Z"
      },
      {
        "duration": 455,
        "start_time": "2023-06-23T10:59:20.710Z"
      },
      {
        "duration": 13,
        "start_time": "2023-06-23T10:59:21.168Z"
      },
      {
        "duration": 307,
        "start_time": "2023-06-23T10:59:21.184Z"
      },
      {
        "duration": 8,
        "start_time": "2023-06-23T10:59:21.494Z"
      },
      {
        "duration": 373,
        "start_time": "2023-06-23T10:59:21.504Z"
      },
      {
        "duration": 18,
        "start_time": "2023-06-23T10:59:21.879Z"
      },
      {
        "duration": 424,
        "start_time": "2023-06-23T10:59:21.899Z"
      },
      {
        "duration": 7,
        "start_time": "2023-06-23T10:59:22.325Z"
      },
      {
        "duration": 1635,
        "start_time": "2023-06-23T10:59:22.333Z"
      },
      {
        "duration": 98,
        "start_time": "2023-06-23T10:59:24.061Z"
      },
      {
        "duration": 18,
        "start_time": "2023-06-23T10:59:24.162Z"
      },
      {
        "duration": 52,
        "start_time": "2023-06-23T10:59:24.182Z"
      },
      {
        "duration": 20,
        "start_time": "2023-06-23T10:59:24.236Z"
      },
      {
        "duration": 16,
        "start_time": "2023-06-23T10:59:24.258Z"
      },
      {
        "duration": 7,
        "start_time": "2023-06-23T10:59:24.278Z"
      },
      {
        "duration": 12,
        "start_time": "2023-06-23T10:59:24.286Z"
      },
      {
        "duration": 60,
        "start_time": "2023-06-23T10:59:24.300Z"
      },
      {
        "duration": 4,
        "start_time": "2023-06-23T10:59:24.362Z"
      },
      {
        "duration": 13503,
        "start_time": "2023-06-23T10:59:24.368Z"
      },
      {
        "duration": 34374,
        "start_time": "2023-06-23T10:59:37.873Z"
      },
      {
        "duration": 5,
        "start_time": "2023-06-23T11:00:12.249Z"
      },
      {
        "duration": 20,
        "start_time": "2023-06-23T11:00:12.256Z"
      },
      {
        "duration": 23,
        "start_time": "2023-06-23T11:00:12.277Z"
      },
      {
        "duration": 260,
        "start_time": "2023-06-23T11:00:12.302Z"
      },
      {
        "duration": 247,
        "start_time": "2023-06-23T11:00:12.565Z"
      },
      {
        "duration": 12,
        "start_time": "2023-06-23T11:00:39.834Z"
      },
      {
        "duration": 6,
        "start_time": "2023-06-23T11:01:38.122Z"
      },
      {
        "duration": 52,
        "start_time": "2023-06-23T11:01:38.130Z"
      },
      {
        "duration": 11,
        "start_time": "2023-06-23T11:01:38.184Z"
      },
      {
        "duration": 12,
        "start_time": "2023-06-23T11:01:38.197Z"
      },
      {
        "duration": 18,
        "start_time": "2023-06-23T11:01:38.211Z"
      },
      {
        "duration": 8,
        "start_time": "2023-06-23T11:01:38.231Z"
      },
      {
        "duration": 26,
        "start_time": "2023-06-23T11:01:38.240Z"
      },
      {
        "duration": 9,
        "start_time": "2023-06-23T11:01:42.702Z"
      },
      {
        "duration": 6,
        "start_time": "2023-06-23T11:03:38.502Z"
      },
      {
        "duration": 57,
        "start_time": "2023-06-23T11:03:38.510Z"
      },
      {
        "duration": 11,
        "start_time": "2023-06-23T11:03:38.569Z"
      },
      {
        "duration": 27,
        "start_time": "2023-06-23T11:03:38.582Z"
      },
      {
        "duration": 34,
        "start_time": "2023-06-23T11:03:38.611Z"
      },
      {
        "duration": 20,
        "start_time": "2023-06-23T11:03:38.646Z"
      },
      {
        "duration": 21,
        "start_time": "2023-06-23T11:03:38.668Z"
      },
      {
        "duration": 23,
        "start_time": "2023-06-23T11:03:38.691Z"
      },
      {
        "duration": 24,
        "start_time": "2023-06-23T11:03:38.715Z"
      },
      {
        "duration": 378,
        "start_time": "2023-06-23T11:03:38.742Z"
      },
      {
        "duration": 9,
        "start_time": "2023-06-23T11:03:39.122Z"
      },
      {
        "duration": 197,
        "start_time": "2023-06-23T11:03:39.133Z"
      },
      {
        "duration": 7,
        "start_time": "2023-06-23T11:03:39.332Z"
      },
      {
        "duration": 336,
        "start_time": "2023-06-23T11:03:39.340Z"
      },
      {
        "duration": 15,
        "start_time": "2023-06-23T11:03:39.677Z"
      },
      {
        "duration": 402,
        "start_time": "2023-06-23T11:03:39.694Z"
      },
      {
        "duration": 6,
        "start_time": "2023-06-23T11:03:40.098Z"
      },
      {
        "duration": 1655,
        "start_time": "2023-06-23T11:03:40.106Z"
      },
      {
        "duration": 96,
        "start_time": "2023-06-23T11:03:41.764Z"
      },
      {
        "duration": 7,
        "start_time": "2023-06-23T11:03:41.862Z"
      },
      {
        "duration": 30,
        "start_time": "2023-06-23T11:03:41.960Z"
      },
      {
        "duration": 20,
        "start_time": "2023-06-23T11:03:41.993Z"
      },
      {
        "duration": 3,
        "start_time": "2023-06-23T11:03:42.015Z"
      },
      {
        "duration": 15,
        "start_time": "2023-06-23T11:03:42.020Z"
      },
      {
        "duration": 8,
        "start_time": "2023-06-23T11:03:42.037Z"
      },
      {
        "duration": 9,
        "start_time": "2023-06-23T11:03:43.930Z"
      },
      {
        "duration": 9,
        "start_time": "2023-06-23T11:03:50.454Z"
      },
      {
        "duration": 6,
        "start_time": "2023-06-23T11:04:29.914Z"
      },
      {
        "duration": 7,
        "start_time": "2023-06-23T11:04:30.434Z"
      },
      {
        "duration": 32,
        "start_time": "2023-06-23T11:04:31.634Z"
      },
      {
        "duration": 43110,
        "start_time": "2023-06-23T11:04:45.414Z"
      },
      {
        "duration": 7,
        "start_time": "2023-06-23T11:11:40.963Z"
      },
      {
        "duration": 12,
        "start_time": "2023-06-23T11:11:49.032Z"
      },
      {
        "duration": 8,
        "start_time": "2023-06-23T11:11:49.675Z"
      },
      {
        "duration": 6,
        "start_time": "2023-06-23T11:12:13.147Z"
      },
      {
        "duration": 8,
        "start_time": "2023-06-23T11:12:39.475Z"
      },
      {
        "duration": 7,
        "start_time": "2023-06-23T11:13:48.577Z"
      },
      {
        "duration": 43,
        "start_time": "2023-06-23T11:13:48.607Z"
      },
      {
        "duration": 12,
        "start_time": "2023-06-23T11:13:48.652Z"
      },
      {
        "duration": 23,
        "start_time": "2023-06-23T11:13:48.665Z"
      },
      {
        "duration": 29,
        "start_time": "2023-06-23T11:13:48.689Z"
      },
      {
        "duration": 9,
        "start_time": "2023-06-23T11:13:48.720Z"
      },
      {
        "duration": 29,
        "start_time": "2023-06-23T11:13:48.730Z"
      },
      {
        "duration": 8,
        "start_time": "2023-06-23T11:13:48.761Z"
      },
      {
        "duration": 11,
        "start_time": "2023-06-23T11:13:48.771Z"
      },
      {
        "duration": 404,
        "start_time": "2023-06-23T11:13:48.784Z"
      },
      {
        "duration": 10,
        "start_time": "2023-06-23T11:13:49.191Z"
      },
      {
        "duration": 202,
        "start_time": "2023-06-23T11:13:49.203Z"
      },
      {
        "duration": 7,
        "start_time": "2023-06-23T11:13:49.406Z"
      },
      {
        "duration": 352,
        "start_time": "2023-06-23T11:13:49.415Z"
      },
      {
        "duration": 17,
        "start_time": "2023-06-23T11:13:49.770Z"
      },
      {
        "duration": 423,
        "start_time": "2023-06-23T11:13:49.789Z"
      },
      {
        "duration": 5,
        "start_time": "2023-06-23T11:13:50.214Z"
      },
      {
        "duration": 1641,
        "start_time": "2023-06-23T11:13:50.221Z"
      },
      {
        "duration": 101,
        "start_time": "2023-06-23T11:13:51.958Z"
      },
      {
        "duration": 12,
        "start_time": "2023-06-23T11:13:52.061Z"
      },
      {
        "duration": 24,
        "start_time": "2023-06-23T11:13:52.074Z"
      },
      {
        "duration": 23,
        "start_time": "2023-06-23T11:13:52.100Z"
      },
      {
        "duration": 10,
        "start_time": "2023-06-23T11:13:52.125Z"
      },
      {
        "duration": 31,
        "start_time": "2023-06-23T11:13:52.136Z"
      },
      {
        "duration": 29,
        "start_time": "2023-06-23T11:13:52.168Z"
      },
      {
        "duration": 81,
        "start_time": "2023-06-23T11:13:52.199Z"
      },
      {
        "duration": 3,
        "start_time": "2023-06-23T11:13:52.282Z"
      },
      {
        "duration": 13286,
        "start_time": "2023-06-23T11:13:52.287Z"
      },
      {
        "duration": 35451,
        "start_time": "2023-06-23T11:14:05.575Z"
      },
      {
        "duration": 5,
        "start_time": "2023-06-23T11:14:41.027Z"
      },
      {
        "duration": 21,
        "start_time": "2023-06-23T11:14:41.033Z"
      },
      {
        "duration": 16,
        "start_time": "2023-06-23T11:14:41.056Z"
      },
      {
        "duration": 232,
        "start_time": "2023-06-23T11:14:41.073Z"
      },
      {
        "duration": 230,
        "start_time": "2023-06-23T11:14:41.307Z"
      },
      {
        "duration": 8,
        "start_time": "2023-06-23T11:21:45.104Z"
      },
      {
        "duration": 96,
        "start_time": "2023-06-23T11:21:45.114Z"
      },
      {
        "duration": 13,
        "start_time": "2023-06-23T11:21:45.211Z"
      },
      {
        "duration": 11,
        "start_time": "2023-06-23T11:21:45.225Z"
      },
      {
        "duration": 23,
        "start_time": "2023-06-23T11:21:45.239Z"
      },
      {
        "duration": 9,
        "start_time": "2023-06-23T11:21:45.264Z"
      },
      {
        "duration": 25,
        "start_time": "2023-06-23T11:21:45.275Z"
      },
      {
        "duration": 18,
        "start_time": "2023-06-23T11:21:45.301Z"
      },
      {
        "duration": 12,
        "start_time": "2023-06-23T11:21:45.321Z"
      },
      {
        "duration": 432,
        "start_time": "2023-06-23T11:21:45.335Z"
      },
      {
        "duration": 10,
        "start_time": "2023-06-23T11:21:45.769Z"
      },
      {
        "duration": 207,
        "start_time": "2023-06-23T11:21:45.781Z"
      },
      {
        "duration": 9,
        "start_time": "2023-06-23T11:21:45.990Z"
      },
      {
        "duration": 395,
        "start_time": "2023-06-23T11:21:46.003Z"
      },
      {
        "duration": 17,
        "start_time": "2023-06-23T11:21:46.401Z"
      },
      {
        "duration": 411,
        "start_time": "2023-06-23T11:21:46.420Z"
      },
      {
        "duration": 7,
        "start_time": "2023-06-23T11:21:46.834Z"
      },
      {
        "duration": 2127,
        "start_time": "2023-06-23T11:21:46.844Z"
      },
      {
        "duration": 6,
        "start_time": "2023-06-23T11:21:49.060Z"
      },
      {
        "duration": 92,
        "start_time": "2023-06-23T11:21:49.069Z"
      },
      {
        "duration": 51,
        "start_time": "2023-06-23T11:21:49.163Z"
      },
      {
        "duration": 24,
        "start_time": "2023-06-23T11:21:49.216Z"
      },
      {
        "duration": 18,
        "start_time": "2023-06-23T11:21:49.242Z"
      },
      {
        "duration": 18,
        "start_time": "2023-06-23T11:21:49.261Z"
      },
      {
        "duration": 25,
        "start_time": "2023-06-23T11:21:49.281Z"
      },
      {
        "duration": 49,
        "start_time": "2023-06-23T11:21:49.308Z"
      },
      {
        "duration": 3,
        "start_time": "2023-06-23T11:21:49.359Z"
      },
      {
        "duration": 13340,
        "start_time": "2023-06-23T11:21:49.363Z"
      },
      {
        "duration": 36172,
        "start_time": "2023-06-23T11:22:02.705Z"
      },
      {
        "duration": 5,
        "start_time": "2023-06-23T11:22:38.878Z"
      },
      {
        "duration": 28,
        "start_time": "2023-06-23T11:22:38.884Z"
      },
      {
        "duration": 11,
        "start_time": "2023-06-23T11:22:38.913Z"
      },
      {
        "duration": 235,
        "start_time": "2023-06-23T11:22:38.926Z"
      },
      {
        "duration": 349,
        "start_time": "2023-06-23T11:22:39.163Z"
      },
      {
        "duration": 8,
        "start_time": "2023-06-23T11:23:35.574Z"
      },
      {
        "duration": 68,
        "start_time": "2023-06-23T11:23:35.584Z"
      },
      {
        "duration": 12,
        "start_time": "2023-06-23T11:23:35.653Z"
      },
      {
        "duration": 12,
        "start_time": "2023-06-23T11:23:35.668Z"
      },
      {
        "duration": 50,
        "start_time": "2023-06-23T11:23:35.682Z"
      },
      {
        "duration": 15,
        "start_time": "2023-06-23T11:23:35.734Z"
      },
      {
        "duration": 15,
        "start_time": "2023-06-23T11:23:35.751Z"
      },
      {
        "duration": 5,
        "start_time": "2023-06-23T11:23:35.767Z"
      },
      {
        "duration": 10,
        "start_time": "2023-06-23T11:23:35.774Z"
      },
      {
        "duration": 295,
        "start_time": "2023-06-23T11:23:35.786Z"
      },
      {
        "duration": 12,
        "start_time": "2023-06-23T11:23:36.083Z"
      },
      {
        "duration": 192,
        "start_time": "2023-06-23T11:23:36.096Z"
      },
      {
        "duration": 6,
        "start_time": "2023-06-23T11:23:36.290Z"
      },
      {
        "duration": 339,
        "start_time": "2023-06-23T11:23:36.298Z"
      },
      {
        "duration": 21,
        "start_time": "2023-06-23T11:23:36.639Z"
      },
      {
        "duration": 600,
        "start_time": "2023-06-23T11:23:36.662Z"
      },
      {
        "duration": 7,
        "start_time": "2023-06-23T11:23:37.264Z"
      },
      {
        "duration": 1787,
        "start_time": "2023-06-23T11:23:37.273Z"
      },
      {
        "duration": 7,
        "start_time": "2023-06-23T11:23:39.062Z"
      },
      {
        "duration": 5,
        "start_time": "2023-06-23T11:23:39.160Z"
      },
      {
        "duration": 27,
        "start_time": "2023-06-23T11:23:39.167Z"
      },
      {
        "duration": 72,
        "start_time": "2023-06-23T11:23:39.196Z"
      },
      {
        "duration": 6,
        "start_time": "2023-06-23T11:23:39.269Z"
      },
      {
        "duration": 17,
        "start_time": "2023-06-23T11:23:39.280Z"
      },
      {
        "duration": 60,
        "start_time": "2023-06-23T11:23:39.299Z"
      },
      {
        "duration": 102,
        "start_time": "2023-06-23T11:23:39.362Z"
      },
      {
        "duration": 4,
        "start_time": "2023-06-23T11:23:39.466Z"
      },
      {
        "duration": 15643,
        "start_time": "2023-06-23T11:23:39.472Z"
      },
      {
        "duration": 34200,
        "start_time": "2023-06-23T11:23:55.117Z"
      },
      {
        "duration": 5,
        "start_time": "2023-06-23T11:24:29.319Z"
      },
      {
        "duration": 22,
        "start_time": "2023-06-23T11:24:29.325Z"
      },
      {
        "duration": 13,
        "start_time": "2023-06-23T11:24:29.349Z"
      },
      {
        "duration": 243,
        "start_time": "2023-06-23T11:24:29.363Z"
      },
      {
        "duration": 226,
        "start_time": "2023-06-23T11:24:29.608Z"
      },
      {
        "duration": 16,
        "start_time": "2023-06-23T11:24:47.327Z"
      },
      {
        "duration": 205,
        "start_time": "2023-06-23T11:24:51.915Z"
      },
      {
        "duration": 11,
        "start_time": "2023-06-23T11:30:05.031Z"
      },
      {
        "duration": 9,
        "start_time": "2023-06-23T11:30:11.740Z"
      },
      {
        "duration": 10,
        "start_time": "2023-06-23T11:30:24.547Z"
      },
      {
        "duration": 7,
        "start_time": "2023-06-23T11:30:52.443Z"
      },
      {
        "duration": 7,
        "start_time": "2023-06-23T11:31:04.904Z"
      },
      {
        "duration": 5,
        "start_time": "2023-06-23T11:31:21.893Z"
      },
      {
        "duration": 56,
        "start_time": "2023-06-23T11:31:21.900Z"
      },
      {
        "duration": 11,
        "start_time": "2023-06-23T11:31:21.958Z"
      },
      {
        "duration": 22,
        "start_time": "2023-06-23T11:31:21.971Z"
      },
      {
        "duration": 18,
        "start_time": "2023-06-23T11:31:21.995Z"
      },
      {
        "duration": 9,
        "start_time": "2023-06-23T11:31:22.014Z"
      },
      {
        "duration": 12,
        "start_time": "2023-06-23T11:31:22.025Z"
      },
      {
        "duration": 22,
        "start_time": "2023-06-23T11:31:22.039Z"
      },
      {
        "duration": 9,
        "start_time": "2023-06-23T11:31:22.063Z"
      },
      {
        "duration": 294,
        "start_time": "2023-06-23T11:31:22.074Z"
      },
      {
        "duration": 12,
        "start_time": "2023-06-23T11:31:22.370Z"
      },
      {
        "duration": 204,
        "start_time": "2023-06-23T11:31:22.384Z"
      },
      {
        "duration": 7,
        "start_time": "2023-06-23T11:31:22.592Z"
      },
      {
        "duration": 366,
        "start_time": "2023-06-23T11:31:22.601Z"
      },
      {
        "duration": 16,
        "start_time": "2023-06-23T11:31:22.969Z"
      },
      {
        "duration": 876,
        "start_time": "2023-06-23T11:31:22.986Z"
      },
      {
        "duration": 6,
        "start_time": "2023-06-23T11:31:23.864Z"
      },
      {
        "duration": 1797,
        "start_time": "2023-06-23T11:31:23.871Z"
      },
      {
        "duration": 8,
        "start_time": "2023-06-23T11:31:25.761Z"
      },
      {
        "duration": 17,
        "start_time": "2023-06-23T11:31:25.860Z"
      },
      {
        "duration": 25,
        "start_time": "2023-06-23T11:31:25.880Z"
      },
      {
        "duration": 64,
        "start_time": "2023-06-23T11:31:25.907Z"
      },
      {
        "duration": 11,
        "start_time": "2023-06-23T11:31:25.973Z"
      },
      {
        "duration": 15,
        "start_time": "2023-06-23T11:31:25.986Z"
      },
      {
        "duration": 57,
        "start_time": "2023-06-23T11:31:26.003Z"
      },
      {
        "duration": 111,
        "start_time": "2023-06-23T11:31:26.061Z"
      },
      {
        "duration": 3,
        "start_time": "2023-06-23T11:31:26.175Z"
      },
      {
        "duration": 15166,
        "start_time": "2023-06-23T11:31:26.180Z"
      },
      {
        "duration": 38964,
        "start_time": "2023-06-23T11:31:41.347Z"
      },
      {
        "duration": 6,
        "start_time": "2023-06-23T11:32:20.312Z"
      },
      {
        "duration": 37,
        "start_time": "2023-06-23T11:32:20.320Z"
      },
      {
        "duration": 18,
        "start_time": "2023-06-23T11:32:20.358Z"
      },
      {
        "duration": 11,
        "start_time": "2023-06-23T11:32:20.378Z"
      },
      {
        "duration": 214,
        "start_time": "2023-06-23T11:32:20.391Z"
      },
      {
        "duration": 232,
        "start_time": "2023-06-23T11:32:20.606Z"
      },
      {
        "duration": 6,
        "start_time": "2023-06-23T11:33:23.675Z"
      },
      {
        "duration": 69,
        "start_time": "2023-06-23T11:33:23.683Z"
      },
      {
        "duration": 12,
        "start_time": "2023-06-23T11:33:23.754Z"
      },
      {
        "duration": 23,
        "start_time": "2023-06-23T11:33:23.769Z"
      },
      {
        "duration": 21,
        "start_time": "2023-06-23T11:33:23.794Z"
      },
      {
        "duration": 8,
        "start_time": "2023-06-23T11:33:23.817Z"
      },
      {
        "duration": 18,
        "start_time": "2023-06-23T11:33:23.827Z"
      },
      {
        "duration": 5,
        "start_time": "2023-06-23T11:33:23.847Z"
      },
      {
        "duration": 12,
        "start_time": "2023-06-23T11:33:23.864Z"
      },
      {
        "duration": 305,
        "start_time": "2023-06-23T11:33:23.877Z"
      },
      {
        "duration": 10,
        "start_time": "2023-06-23T11:33:24.184Z"
      },
      {
        "duration": 184,
        "start_time": "2023-06-23T11:33:24.196Z"
      },
      {
        "duration": 6,
        "start_time": "2023-06-23T11:33:24.382Z"
      },
      {
        "duration": 441,
        "start_time": "2023-06-23T11:33:24.390Z"
      },
      {
        "duration": 26,
        "start_time": "2023-06-23T11:33:24.833Z"
      },
      {
        "duration": 390,
        "start_time": "2023-06-23T11:33:24.861Z"
      },
      {
        "duration": 10,
        "start_time": "2023-06-23T11:33:25.253Z"
      },
      {
        "duration": 1502,
        "start_time": "2023-06-23T11:33:25.265Z"
      },
      {
        "duration": 96,
        "start_time": "2023-06-23T11:33:26.769Z"
      },
      {
        "duration": 123,
        "start_time": "2023-06-23T11:33:26.868Z"
      },
      {
        "duration": 37,
        "start_time": "2023-06-23T11:33:26.993Z"
      },
      {
        "duration": 22,
        "start_time": "2023-06-23T11:33:27.033Z"
      },
      {
        "duration": 32,
        "start_time": "2023-06-23T11:33:27.057Z"
      },
      {
        "duration": 18,
        "start_time": "2023-06-23T11:33:27.092Z"
      },
      {
        "duration": 33,
        "start_time": "2023-06-23T11:33:27.111Z"
      },
      {
        "duration": 60,
        "start_time": "2023-06-23T11:33:27.146Z"
      },
      {
        "duration": 3,
        "start_time": "2023-06-23T11:33:27.208Z"
      },
      {
        "duration": 12687,
        "start_time": "2023-06-23T11:33:27.213Z"
      },
      {
        "duration": 32781,
        "start_time": "2023-06-23T11:33:39.901Z"
      },
      {
        "duration": 4,
        "start_time": "2023-06-23T11:34:12.684Z"
      },
      {
        "duration": 27,
        "start_time": "2023-06-23T11:34:12.689Z"
      },
      {
        "duration": 40,
        "start_time": "2023-06-23T11:34:12.718Z"
      },
      {
        "duration": 11,
        "start_time": "2023-06-23T11:34:12.760Z"
      },
      {
        "duration": 232,
        "start_time": "2023-06-23T11:34:12.772Z"
      },
      {
        "duration": 198,
        "start_time": "2023-06-23T11:34:13.005Z"
      },
      {
        "duration": 6,
        "start_time": "2023-06-23T11:35:56.008Z"
      },
      {
        "duration": 54,
        "start_time": "2023-06-23T11:35:56.016Z"
      },
      {
        "duration": 12,
        "start_time": "2023-06-23T11:35:56.072Z"
      },
      {
        "duration": 9,
        "start_time": "2023-06-23T11:35:56.086Z"
      },
      {
        "duration": 19,
        "start_time": "2023-06-23T11:35:56.098Z"
      },
      {
        "duration": 10,
        "start_time": "2023-06-23T11:35:56.118Z"
      },
      {
        "duration": 35,
        "start_time": "2023-06-23T11:35:56.130Z"
      },
      {
        "duration": 5,
        "start_time": "2023-06-23T11:35:56.166Z"
      },
      {
        "duration": 15,
        "start_time": "2023-06-23T11:35:56.173Z"
      },
      {
        "duration": 270,
        "start_time": "2023-06-23T11:35:56.189Z"
      },
      {
        "duration": 10,
        "start_time": "2023-06-23T11:35:56.461Z"
      },
      {
        "duration": 190,
        "start_time": "2023-06-23T11:35:56.473Z"
      },
      {
        "duration": 7,
        "start_time": "2023-06-23T11:35:56.664Z"
      },
      {
        "duration": 440,
        "start_time": "2023-06-23T11:35:56.673Z"
      },
      {
        "duration": 16,
        "start_time": "2023-06-23T11:35:57.115Z"
      },
      {
        "duration": 384,
        "start_time": "2023-06-23T11:35:57.133Z"
      },
      {
        "duration": 5,
        "start_time": "2023-06-23T11:35:57.519Z"
      },
      {
        "duration": 1536,
        "start_time": "2023-06-23T11:35:57.526Z"
      },
      {
        "duration": 96,
        "start_time": "2023-06-23T11:35:59.065Z"
      },
      {
        "duration": 100,
        "start_time": "2023-06-23T11:35:59.163Z"
      },
      {
        "duration": 25,
        "start_time": "2023-06-23T11:35:59.265Z"
      },
      {
        "duration": 18,
        "start_time": "2023-06-23T11:35:59.293Z"
      },
      {
        "duration": 11,
        "start_time": "2023-06-23T11:35:59.312Z"
      },
      {
        "duration": 11,
        "start_time": "2023-06-23T11:35:59.324Z"
      },
      {
        "duration": 16,
        "start_time": "2023-06-23T11:35:59.336Z"
      },
      {
        "duration": 35,
        "start_time": "2023-06-23T11:35:59.354Z"
      },
      {
        "duration": 3,
        "start_time": "2023-06-23T11:35:59.391Z"
      },
      {
        "duration": 13331,
        "start_time": "2023-06-23T11:35:59.395Z"
      },
      {
        "duration": 37062,
        "start_time": "2023-06-23T11:36:12.728Z"
      },
      {
        "duration": 4,
        "start_time": "2023-06-23T11:36:49.792Z"
      },
      {
        "duration": 22,
        "start_time": "2023-06-23T11:36:49.798Z"
      },
      {
        "duration": 6,
        "start_time": "2023-06-23T11:36:49.821Z"
      },
      {
        "duration": 9,
        "start_time": "2023-06-23T11:36:49.829Z"
      },
      {
        "duration": 229,
        "start_time": "2023-06-23T11:36:49.840Z"
      },
      {
        "duration": 215,
        "start_time": "2023-06-23T11:36:50.072Z"
      },
      {
        "duration": 6,
        "start_time": "2023-06-23T11:37:37.412Z"
      },
      {
        "duration": 11,
        "start_time": "2023-06-23T11:38:06.735Z"
      },
      {
        "duration": 1295,
        "start_time": "2023-06-23T11:39:10.667Z"
      },
      {
        "duration": 7,
        "start_time": "2023-06-23T11:39:27.459Z"
      },
      {
        "duration": 11,
        "start_time": "2023-06-23T11:39:45.231Z"
      },
      {
        "duration": 11,
        "start_time": "2023-06-23T11:40:03.123Z"
      },
      {
        "duration": 19,
        "start_time": "2023-06-23T11:40:44.763Z"
      },
      {
        "duration": 10,
        "start_time": "2023-06-23T11:40:55.411Z"
      },
      {
        "duration": 7,
        "start_time": "2023-06-23T11:42:47.435Z"
      },
      {
        "duration": 12,
        "start_time": "2023-06-23T11:42:56.218Z"
      },
      {
        "duration": 7,
        "start_time": "2023-06-23T11:43:06.869Z"
      },
      {
        "duration": 7,
        "start_time": "2023-06-23T11:58:11.277Z"
      },
      {
        "duration": 1472,
        "start_time": "2023-06-23T11:58:59.442Z"
      },
      {
        "duration": 1415,
        "start_time": "2023-06-23T11:59:12.214Z"
      },
      {
        "duration": 2155,
        "start_time": "2023-06-23T12:01:59.022Z"
      },
      {
        "duration": 9,
        "start_time": "2023-06-23T12:02:02.641Z"
      },
      {
        "duration": 11,
        "start_time": "2023-06-23T12:03:25.480Z"
      },
      {
        "duration": 9,
        "start_time": "2023-06-23T12:03:34.121Z"
      },
      {
        "duration": 7,
        "start_time": "2023-06-23T12:04:25.610Z"
      },
      {
        "duration": 19,
        "start_time": "2023-06-23T12:04:41.821Z"
      },
      {
        "duration": 7,
        "start_time": "2023-06-23T12:04:47.246Z"
      },
      {
        "duration": 8,
        "start_time": "2023-06-23T12:05:04.442Z"
      },
      {
        "duration": 8,
        "start_time": "2023-06-23T12:05:11.234Z"
      },
      {
        "duration": 5,
        "start_time": "2023-06-23T12:20:23.041Z"
      },
      {
        "duration": 220,
        "start_time": "2023-06-23T12:22:03.378Z"
      },
      {
        "duration": 7,
        "start_time": "2023-06-23T12:33:27.956Z"
      },
      {
        "duration": 51,
        "start_time": "2023-06-23T12:33:27.965Z"
      },
      {
        "duration": 13,
        "start_time": "2023-06-23T12:33:28.018Z"
      },
      {
        "duration": 8,
        "start_time": "2023-06-23T12:33:28.033Z"
      },
      {
        "duration": 29,
        "start_time": "2023-06-23T12:33:28.043Z"
      },
      {
        "duration": 9,
        "start_time": "2023-06-23T12:33:28.074Z"
      },
      {
        "duration": 18,
        "start_time": "2023-06-23T12:33:28.085Z"
      },
      {
        "duration": 7,
        "start_time": "2023-06-23T12:33:28.105Z"
      },
      {
        "duration": 15,
        "start_time": "2023-06-23T12:33:28.114Z"
      },
      {
        "duration": 307,
        "start_time": "2023-06-23T12:33:28.132Z"
      },
      {
        "duration": 18,
        "start_time": "2023-06-23T12:33:28.441Z"
      },
      {
        "duration": 303,
        "start_time": "2023-06-23T12:33:28.461Z"
      },
      {
        "duration": 7,
        "start_time": "2023-06-23T12:33:28.765Z"
      },
      {
        "duration": 367,
        "start_time": "2023-06-23T12:33:28.774Z"
      },
      {
        "duration": 5,
        "start_time": "2023-06-23T12:33:29.142Z"
      },
      {
        "duration": 24,
        "start_time": "2023-06-23T12:33:29.149Z"
      },
      {
        "duration": 339,
        "start_time": "2023-06-23T12:33:29.175Z"
      },
      {
        "duration": 16,
        "start_time": "2023-06-23T12:33:29.516Z"
      },
      {
        "duration": 0,
        "start_time": "2023-06-23T12:33:29.534Z"
      },
      {
        "duration": 0,
        "start_time": "2023-06-23T12:33:29.535Z"
      },
      {
        "duration": 0,
        "start_time": "2023-06-23T12:33:29.536Z"
      },
      {
        "duration": 0,
        "start_time": "2023-06-23T12:33:29.560Z"
      },
      {
        "duration": 0,
        "start_time": "2023-06-23T12:33:29.561Z"
      },
      {
        "duration": 0,
        "start_time": "2023-06-23T12:33:29.562Z"
      },
      {
        "duration": 0,
        "start_time": "2023-06-23T12:33:29.563Z"
      },
      {
        "duration": 0,
        "start_time": "2023-06-23T12:33:29.564Z"
      },
      {
        "duration": 0,
        "start_time": "2023-06-23T12:33:29.565Z"
      },
      {
        "duration": 0,
        "start_time": "2023-06-23T12:33:29.566Z"
      },
      {
        "duration": 0,
        "start_time": "2023-06-23T12:33:29.567Z"
      },
      {
        "duration": 0,
        "start_time": "2023-06-23T12:33:29.568Z"
      },
      {
        "duration": 0,
        "start_time": "2023-06-23T12:33:29.569Z"
      },
      {
        "duration": 0,
        "start_time": "2023-06-23T12:33:29.571Z"
      },
      {
        "duration": 0,
        "start_time": "2023-06-23T12:33:29.572Z"
      },
      {
        "duration": 0,
        "start_time": "2023-06-23T12:33:29.573Z"
      },
      {
        "duration": 0,
        "start_time": "2023-06-23T12:33:29.574Z"
      },
      {
        "duration": 7,
        "start_time": "2023-06-23T12:33:46.523Z"
      },
      {
        "duration": 58,
        "start_time": "2023-06-23T12:33:46.531Z"
      },
      {
        "duration": 15,
        "start_time": "2023-06-23T12:33:46.590Z"
      },
      {
        "duration": 19,
        "start_time": "2023-06-23T12:33:46.608Z"
      },
      {
        "duration": 30,
        "start_time": "2023-06-23T12:33:46.629Z"
      },
      {
        "duration": 11,
        "start_time": "2023-06-23T12:33:46.662Z"
      },
      {
        "duration": 21,
        "start_time": "2023-06-23T12:33:46.676Z"
      },
      {
        "duration": 11,
        "start_time": "2023-06-23T12:33:46.699Z"
      },
      {
        "duration": 52,
        "start_time": "2023-06-23T12:33:46.712Z"
      },
      {
        "duration": 316,
        "start_time": "2023-06-23T12:33:46.767Z"
      },
      {
        "duration": 10,
        "start_time": "2023-06-23T12:33:47.085Z"
      },
      {
        "duration": 199,
        "start_time": "2023-06-23T12:33:47.096Z"
      },
      {
        "duration": 8,
        "start_time": "2023-06-23T12:33:47.297Z"
      },
      {
        "duration": 464,
        "start_time": "2023-06-23T12:33:47.306Z"
      },
      {
        "duration": 5,
        "start_time": "2023-06-23T12:33:47.772Z"
      },
      {
        "duration": 47,
        "start_time": "2023-06-23T12:33:47.778Z"
      },
      {
        "duration": 278,
        "start_time": "2023-06-23T12:33:47.826Z"
      },
      {
        "duration": 15,
        "start_time": "2023-06-23T12:33:48.105Z"
      },
      {
        "duration": 0,
        "start_time": "2023-06-23T12:33:48.122Z"
      },
      {
        "duration": 0,
        "start_time": "2023-06-23T12:33:48.123Z"
      },
      {
        "duration": 0,
        "start_time": "2023-06-23T12:33:48.124Z"
      },
      {
        "duration": 0,
        "start_time": "2023-06-23T12:33:48.125Z"
      },
      {
        "duration": 0,
        "start_time": "2023-06-23T12:33:48.126Z"
      },
      {
        "duration": 0,
        "start_time": "2023-06-23T12:33:48.127Z"
      },
      {
        "duration": 0,
        "start_time": "2023-06-23T12:33:48.128Z"
      },
      {
        "duration": 0,
        "start_time": "2023-06-23T12:33:48.129Z"
      },
      {
        "duration": 0,
        "start_time": "2023-06-23T12:33:48.130Z"
      },
      {
        "duration": 0,
        "start_time": "2023-06-23T12:33:48.131Z"
      },
      {
        "duration": 0,
        "start_time": "2023-06-23T12:33:48.132Z"
      },
      {
        "duration": 0,
        "start_time": "2023-06-23T12:33:48.159Z"
      },
      {
        "duration": 0,
        "start_time": "2023-06-23T12:33:48.161Z"
      },
      {
        "duration": 0,
        "start_time": "2023-06-23T12:33:48.162Z"
      },
      {
        "duration": 0,
        "start_time": "2023-06-23T12:33:48.163Z"
      },
      {
        "duration": 0,
        "start_time": "2023-06-23T12:33:48.164Z"
      },
      {
        "duration": 0,
        "start_time": "2023-06-23T12:33:48.165Z"
      },
      {
        "duration": 6,
        "start_time": "2023-06-23T12:34:39.614Z"
      },
      {
        "duration": 51,
        "start_time": "2023-06-23T12:34:39.622Z"
      },
      {
        "duration": 14,
        "start_time": "2023-06-23T12:34:39.674Z"
      },
      {
        "duration": 12,
        "start_time": "2023-06-23T12:34:39.690Z"
      },
      {
        "duration": 20,
        "start_time": "2023-06-23T12:34:39.705Z"
      },
      {
        "duration": 10,
        "start_time": "2023-06-23T12:34:39.759Z"
      },
      {
        "duration": 14,
        "start_time": "2023-06-23T12:34:39.771Z"
      },
      {
        "duration": 5,
        "start_time": "2023-06-23T12:34:39.788Z"
      },
      {
        "duration": 10,
        "start_time": "2023-06-23T12:34:39.795Z"
      },
      {
        "duration": 343,
        "start_time": "2023-06-23T12:34:39.808Z"
      },
      {
        "duration": 17,
        "start_time": "2023-06-23T12:34:40.152Z"
      },
      {
        "duration": 211,
        "start_time": "2023-06-23T12:34:40.172Z"
      },
      {
        "duration": 7,
        "start_time": "2023-06-23T12:34:40.385Z"
      },
      {
        "duration": 344,
        "start_time": "2023-06-23T12:34:40.395Z"
      },
      {
        "duration": 23,
        "start_time": "2023-06-23T12:34:40.741Z"
      },
      {
        "duration": 470,
        "start_time": "2023-06-23T12:34:40.766Z"
      },
      {
        "duration": 25,
        "start_time": "2023-06-23T12:34:41.237Z"
      },
      {
        "duration": 3596,
        "start_time": "2023-06-23T12:34:41.264Z"
      },
      {
        "duration": 99,
        "start_time": "2023-06-23T12:34:44.863Z"
      },
      {
        "duration": 6,
        "start_time": "2023-06-23T12:34:44.964Z"
      },
      {
        "duration": 15,
        "start_time": "2023-06-23T12:34:44.972Z"
      },
      {
        "duration": 72,
        "start_time": "2023-06-23T12:34:44.989Z"
      },
      {
        "duration": 4,
        "start_time": "2023-06-23T12:34:45.063Z"
      },
      {
        "duration": 40,
        "start_time": "2023-06-23T12:34:45.069Z"
      },
      {
        "duration": 52,
        "start_time": "2023-06-23T12:34:45.110Z"
      },
      {
        "duration": 95,
        "start_time": "2023-06-23T12:34:45.164Z"
      },
      {
        "duration": 3,
        "start_time": "2023-06-23T12:34:45.262Z"
      },
      {
        "duration": 13335,
        "start_time": "2023-06-23T12:34:45.267Z"
      },
      {
        "duration": 31278,
        "start_time": "2023-06-23T12:34:58.615Z"
      },
      {
        "duration": 4,
        "start_time": "2023-06-23T12:35:29.895Z"
      },
      {
        "duration": 19,
        "start_time": "2023-06-23T12:35:29.900Z"
      },
      {
        "duration": 7,
        "start_time": "2023-06-23T12:35:29.921Z"
      },
      {
        "duration": 246,
        "start_time": "2023-06-23T12:35:29.930Z"
      },
      {
        "duration": 255,
        "start_time": "2023-06-23T12:35:30.179Z"
      },
      {
        "duration": 18,
        "start_time": "2023-06-23T12:41:16.341Z"
      },
      {
        "duration": 6,
        "start_time": "2023-06-23T12:41:41.797Z"
      },
      {
        "duration": 6,
        "start_time": "2023-06-23T12:41:42.238Z"
      },
      {
        "duration": 6,
        "start_time": "2023-06-23T12:41:48.710Z"
      },
      {
        "duration": 5,
        "start_time": "2023-06-23T12:41:48.854Z"
      },
      {
        "duration": 8,
        "start_time": "2023-06-23T12:42:21.317Z"
      },
      {
        "duration": 4,
        "start_time": "2023-06-23T12:42:21.770Z"
      },
      {
        "duration": 7,
        "start_time": "2023-06-23T12:42:42.671Z"
      },
      {
        "duration": 10,
        "start_time": "2023-06-23T12:42:42.918Z"
      },
      {
        "duration": 8,
        "start_time": "2023-06-23T12:43:31.627Z"
      },
      {
        "duration": 10,
        "start_time": "2023-06-23T12:43:32.074Z"
      },
      {
        "duration": 1529,
        "start_time": "2023-06-23T12:44:25.415Z"
      },
      {
        "duration": 5,
        "start_time": "2023-06-23T12:44:32.528Z"
      },
      {
        "duration": 10,
        "start_time": "2023-06-23T12:44:42.728Z"
      },
      {
        "duration": 3,
        "start_time": "2023-06-23T12:45:15.744Z"
      },
      {
        "duration": 10,
        "start_time": "2023-06-23T12:45:40.715Z"
      },
      {
        "duration": 7,
        "start_time": "2023-06-23T12:50:04.818Z"
      },
      {
        "duration": 21,
        "start_time": "2023-06-23T12:50:14.030Z"
      },
      {
        "duration": 18,
        "start_time": "2023-06-23T12:50:29.505Z"
      },
      {
        "duration": 24,
        "start_time": "2023-06-23T12:50:43.971Z"
      },
      {
        "duration": 9,
        "start_time": "2023-06-23T12:50:48.017Z"
      },
      {
        "duration": 9,
        "start_time": "2023-06-23T12:51:15.347Z"
      },
      {
        "duration": 9,
        "start_time": "2023-06-23T12:51:25.675Z"
      },
      {
        "duration": 127,
        "start_time": "2023-06-23T12:51:39.416Z"
      },
      {
        "duration": 235,
        "start_time": "2023-06-23T12:52:22.245Z"
      },
      {
        "duration": 8,
        "start_time": "2023-06-23T12:53:02.317Z"
      },
      {
        "duration": 206,
        "start_time": "2023-06-23T12:53:02.328Z"
      },
      {
        "duration": 12,
        "start_time": "2023-06-23T12:53:02.536Z"
      },
      {
        "duration": 37,
        "start_time": "2023-06-23T12:53:02.550Z"
      },
      {
        "duration": 27,
        "start_time": "2023-06-23T12:53:02.590Z"
      },
      {
        "duration": 25,
        "start_time": "2023-06-23T12:53:02.619Z"
      },
      {
        "duration": 15,
        "start_time": "2023-06-23T12:53:02.646Z"
      },
      {
        "duration": 24,
        "start_time": "2023-06-23T12:53:02.662Z"
      },
      {
        "duration": 23,
        "start_time": "2023-06-23T12:53:02.688Z"
      },
      {
        "duration": 313,
        "start_time": "2023-06-23T12:53:02.713Z"
      },
      {
        "duration": 11,
        "start_time": "2023-06-23T12:53:03.028Z"
      },
      {
        "duration": 195,
        "start_time": "2023-06-23T12:53:03.040Z"
      },
      {
        "duration": 6,
        "start_time": "2023-06-23T12:53:03.237Z"
      },
      {
        "duration": 502,
        "start_time": "2023-06-23T12:53:03.246Z"
      },
      {
        "duration": 18,
        "start_time": "2023-06-23T12:53:03.750Z"
      },
      {
        "duration": 457,
        "start_time": "2023-06-23T12:53:03.770Z"
      },
      {
        "duration": 6,
        "start_time": "2023-06-23T12:53:04.229Z"
      },
      {
        "duration": 1623,
        "start_time": "2023-06-23T12:53:04.236Z"
      },
      {
        "duration": 98,
        "start_time": "2023-06-23T12:53:05.861Z"
      },
      {
        "duration": 20,
        "start_time": "2023-06-23T12:53:05.961Z"
      },
      {
        "duration": 41,
        "start_time": "2023-06-23T12:53:05.983Z"
      },
      {
        "duration": 27,
        "start_time": "2023-06-23T12:53:06.025Z"
      },
      {
        "duration": 14,
        "start_time": "2023-06-23T12:53:06.054Z"
      },
      {
        "duration": 16,
        "start_time": "2023-06-23T12:53:06.070Z"
      },
      {
        "duration": 204,
        "start_time": "2023-06-23T12:53:06.088Z"
      },
      {
        "duration": 34,
        "start_time": "2023-06-23T12:53:06.293Z"
      },
      {
        "duration": 37,
        "start_time": "2023-06-23T12:53:06.329Z"
      },
      {
        "duration": 42,
        "start_time": "2023-06-23T12:53:06.368Z"
      },
      {
        "duration": 18,
        "start_time": "2023-06-23T12:53:06.411Z"
      },
      {
        "duration": 13108,
        "start_time": "2023-06-23T12:53:06.431Z"
      },
      {
        "duration": 28884,
        "start_time": "2023-06-23T12:53:19.541Z"
      },
      {
        "duration": 4,
        "start_time": "2023-06-23T12:53:48.427Z"
      },
      {
        "duration": 28,
        "start_time": "2023-06-23T12:53:48.433Z"
      },
      {
        "duration": 29,
        "start_time": "2023-06-23T12:53:48.463Z"
      },
      {
        "duration": 265,
        "start_time": "2023-06-23T12:53:48.494Z"
      },
      {
        "duration": 227,
        "start_time": "2023-06-23T12:53:48.761Z"
      },
      {
        "duration": 6,
        "start_time": "2023-06-23T13:02:26.812Z"
      },
      {
        "duration": 44,
        "start_time": "2023-06-23T13:02:26.820Z"
      },
      {
        "duration": 12,
        "start_time": "2023-06-23T13:02:26.866Z"
      },
      {
        "duration": 11,
        "start_time": "2023-06-23T13:02:26.880Z"
      },
      {
        "duration": 17,
        "start_time": "2023-06-23T13:02:26.893Z"
      },
      {
        "duration": 8,
        "start_time": "2023-06-23T13:02:26.913Z"
      },
      {
        "duration": 45,
        "start_time": "2023-06-23T13:02:26.923Z"
      },
      {
        "duration": 6,
        "start_time": "2023-06-23T13:02:26.970Z"
      },
      {
        "duration": 13,
        "start_time": "2023-06-23T13:02:26.978Z"
      },
      {
        "duration": 403,
        "start_time": "2023-06-23T13:02:26.994Z"
      },
      {
        "duration": 10,
        "start_time": "2023-06-23T13:02:27.399Z"
      },
      {
        "duration": 195,
        "start_time": "2023-06-23T13:02:27.411Z"
      },
      {
        "duration": 6,
        "start_time": "2023-06-23T13:02:27.608Z"
      },
      {
        "duration": 319,
        "start_time": "2023-06-23T13:02:27.615Z"
      },
      {
        "duration": 24,
        "start_time": "2023-06-23T13:02:27.936Z"
      },
      {
        "duration": 365,
        "start_time": "2023-06-23T13:02:27.961Z"
      },
      {
        "duration": 7,
        "start_time": "2023-06-23T13:02:28.327Z"
      },
      {
        "duration": 1627,
        "start_time": "2023-06-23T13:02:28.335Z"
      },
      {
        "duration": 96,
        "start_time": "2023-06-23T13:02:29.964Z"
      },
      {
        "duration": 95,
        "start_time": "2023-06-23T13:02:30.063Z"
      },
      {
        "duration": 70,
        "start_time": "2023-06-23T13:02:30.161Z"
      },
      {
        "duration": 41,
        "start_time": "2023-06-23T13:02:30.233Z"
      },
      {
        "duration": 53,
        "start_time": "2023-06-23T13:02:30.275Z"
      },
      {
        "duration": 83,
        "start_time": "2023-06-23T13:02:30.330Z"
      },
      {
        "duration": 41,
        "start_time": "2023-06-23T13:02:30.414Z"
      },
      {
        "duration": 36,
        "start_time": "2023-06-23T13:02:30.457Z"
      },
      {
        "duration": 47,
        "start_time": "2023-06-23T13:02:30.494Z"
      },
      {
        "duration": 65,
        "start_time": "2023-06-23T13:02:30.544Z"
      },
      {
        "duration": 18,
        "start_time": "2023-06-23T13:02:30.611Z"
      },
      {
        "duration": 12459,
        "start_time": "2023-06-23T13:02:30.632Z"
      },
      {
        "duration": 30489,
        "start_time": "2023-06-23T13:02:43.093Z"
      },
      {
        "duration": 4,
        "start_time": "2023-06-23T13:03:13.584Z"
      },
      {
        "duration": 14,
        "start_time": "2023-06-23T13:03:13.589Z"
      },
      {
        "duration": 6,
        "start_time": "2023-06-23T13:03:13.605Z"
      },
      {
        "duration": 12,
        "start_time": "2023-06-23T13:03:13.613Z"
      },
      {
        "duration": 33,
        "start_time": "2023-06-23T13:03:13.626Z"
      },
      {
        "duration": 87,
        "start_time": "2023-06-23T13:04:44.306Z"
      },
      {
        "duration": 1696,
        "start_time": "2023-06-24T20:08:28.938Z"
      },
      {
        "duration": 155,
        "start_time": "2023-06-24T20:08:30.636Z"
      },
      {
        "duration": 13,
        "start_time": "2023-06-24T20:08:30.793Z"
      },
      {
        "duration": 100,
        "start_time": "2023-06-24T20:08:30.808Z"
      },
      {
        "duration": 40,
        "start_time": "2023-06-24T20:08:30.911Z"
      },
      {
        "duration": 38,
        "start_time": "2023-06-24T20:08:30.953Z"
      },
      {
        "duration": 44,
        "start_time": "2023-06-24T20:08:30.993Z"
      },
      {
        "duration": 10,
        "start_time": "2023-06-24T20:08:31.039Z"
      },
      {
        "duration": 41,
        "start_time": "2023-06-24T20:08:31.051Z"
      },
      {
        "duration": 361,
        "start_time": "2023-06-24T20:08:31.094Z"
      },
      {
        "duration": 24,
        "start_time": "2023-06-24T20:08:31.456Z"
      },
      {
        "duration": 192,
        "start_time": "2023-06-24T20:08:31.482Z"
      },
      {
        "duration": 7,
        "start_time": "2023-06-24T20:08:31.676Z"
      },
      {
        "duration": 331,
        "start_time": "2023-06-24T20:08:31.685Z"
      },
      {
        "duration": 15,
        "start_time": "2023-06-24T20:08:32.017Z"
      },
      {
        "duration": 427,
        "start_time": "2023-06-24T20:08:32.033Z"
      },
      {
        "duration": 18,
        "start_time": "2023-06-24T20:08:32.462Z"
      },
      {
        "duration": 4395,
        "start_time": "2023-06-24T20:08:32.483Z"
      },
      {
        "duration": 5,
        "start_time": "2023-06-24T20:08:36.880Z"
      },
      {
        "duration": 91,
        "start_time": "2023-06-24T20:08:36.887Z"
      },
      {
        "duration": 15,
        "start_time": "2023-06-24T20:08:36.980Z"
      },
      {
        "duration": 15,
        "start_time": "2023-06-24T20:08:36.997Z"
      },
      {
        "duration": 4,
        "start_time": "2023-06-24T20:08:37.014Z"
      },
      {
        "duration": 6,
        "start_time": "2023-06-24T20:08:37.019Z"
      },
      {
        "duration": 15,
        "start_time": "2023-06-24T20:08:37.027Z"
      },
      {
        "duration": 38,
        "start_time": "2023-06-24T20:08:37.044Z"
      },
      {
        "duration": 8,
        "start_time": "2023-06-24T20:08:37.084Z"
      },
      {
        "duration": 94,
        "start_time": "2023-06-24T20:08:37.094Z"
      },
      {
        "duration": 79,
        "start_time": "2023-06-24T20:08:37.190Z"
      },
      {
        "duration": 12834,
        "start_time": "2023-06-24T20:08:37.270Z"
      },
      {
        "duration": 29511,
        "start_time": "2023-06-24T20:08:50.106Z"
      },
      {
        "duration": 3,
        "start_time": "2023-06-24T20:09:19.619Z"
      },
      {
        "duration": 13,
        "start_time": "2023-06-24T20:09:19.623Z"
      },
      {
        "duration": 5,
        "start_time": "2023-06-24T20:09:19.637Z"
      },
      {
        "duration": 3,
        "start_time": "2023-06-24T20:09:19.644Z"
      },
      {
        "duration": 13,
        "start_time": "2023-06-24T20:09:19.649Z"
      },
      {
        "duration": 26,
        "start_time": "2023-06-24T20:21:01.907Z"
      },
      {
        "duration": 51,
        "start_time": "2023-06-24T20:21:02.342Z"
      },
      {
        "duration": 4,
        "start_time": "2023-06-24T20:21:05.044Z"
      },
      {
        "duration": 8,
        "start_time": "2023-06-24T20:21:08.002Z"
      },
      {
        "duration": 33,
        "start_time": "2023-06-24T20:21:08.092Z"
      },
      {
        "duration": 9,
        "start_time": "2023-06-24T20:21:08.229Z"
      },
      {
        "duration": 11,
        "start_time": "2023-06-24T20:21:08.333Z"
      },
      {
        "duration": 726,
        "start_time": "2023-06-24T20:21:08.749Z"
      },
      {
        "duration": 7,
        "start_time": "2023-06-24T20:21:09.482Z"
      },
      {
        "duration": 46412,
        "start_time": "2023-06-24T20:21:09.493Z"
      },
      {
        "duration": 62919,
        "start_time": "2023-06-24T20:21:55.908Z"
      },
      {
        "duration": 6,
        "start_time": "2023-06-24T20:22:58.829Z"
      },
      {
        "duration": 21,
        "start_time": "2023-06-24T20:22:58.837Z"
      },
      {
        "duration": 6,
        "start_time": "2023-06-24T20:22:58.859Z"
      },
      {
        "duration": 6,
        "start_time": "2023-06-24T20:22:58.871Z"
      },
      {
        "duration": 6,
        "start_time": "2023-06-24T20:22:58.882Z"
      },
      {
        "duration": 34,
        "start_time": "2023-06-24T20:24:12.391Z"
      },
      {
        "duration": 46,
        "start_time": "2023-06-24T20:24:12.560Z"
      },
      {
        "duration": 938,
        "start_time": "2023-06-24T20:24:16.833Z"
      },
      {
        "duration": 58846,
        "start_time": "2023-06-24T20:24:21.514Z"
      },
      {
        "duration": 51,
        "start_time": "2023-06-24T20:26:22.083Z"
      },
      {
        "duration": 35,
        "start_time": "2023-06-24T20:26:22.291Z"
      },
      {
        "duration": 5,
        "start_time": "2023-06-24T20:26:26.753Z"
      },
      {
        "duration": 7,
        "start_time": "2023-06-24T20:26:27.927Z"
      },
      {
        "duration": 32,
        "start_time": "2023-06-24T20:26:28.197Z"
      },
      {
        "duration": 8,
        "start_time": "2023-06-24T20:26:29.415Z"
      },
      {
        "duration": 8,
        "start_time": "2023-06-24T20:26:29.632Z"
      },
      {
        "duration": 1415,
        "start_time": "2023-06-24T20:26:31.064Z"
      },
      {
        "duration": 101558,
        "start_time": "2023-06-24T20:26:36.594Z"
      },
      {
        "duration": 29,
        "start_time": "2023-06-24T20:28:38.835Z"
      },
      {
        "duration": 50,
        "start_time": "2023-06-24T20:28:39.042Z"
      },
      {
        "duration": 4,
        "start_time": "2023-06-24T20:28:58.042Z"
      },
      {
        "duration": 6,
        "start_time": "2023-06-24T20:28:59.530Z"
      },
      {
        "duration": 35,
        "start_time": "2023-06-24T20:28:59.699Z"
      },
      {
        "duration": 8,
        "start_time": "2023-06-24T20:29:01.409Z"
      },
      {
        "duration": 13,
        "start_time": "2023-06-24T20:29:01.589Z"
      },
      {
        "duration": 881,
        "start_time": "2023-06-24T20:29:03.691Z"
      },
      {
        "duration": 41,
        "start_time": "2023-06-24T20:29:40.026Z"
      },
      {
        "duration": 34,
        "start_time": "2023-06-24T20:29:40.252Z"
      },
      {
        "duration": 6,
        "start_time": "2023-06-24T20:29:41.301Z"
      },
      {
        "duration": 8,
        "start_time": "2023-06-24T20:29:43.051Z"
      },
      {
        "duration": 30,
        "start_time": "2023-06-24T20:29:43.234Z"
      },
      {
        "duration": 7,
        "start_time": "2023-06-24T20:29:44.811Z"
      },
      {
        "duration": 14,
        "start_time": "2023-06-24T20:29:44.992Z"
      },
      {
        "duration": 1178,
        "start_time": "2023-06-24T20:29:47.124Z"
      },
      {
        "duration": 102059,
        "start_time": "2023-06-24T20:29:51.191Z"
      },
      {
        "duration": 50,
        "start_time": "2023-06-24T20:32:18.487Z"
      },
      {
        "duration": 41,
        "start_time": "2023-06-24T20:32:18.675Z"
      },
      {
        "duration": 3,
        "start_time": "2023-06-24T20:32:19.763Z"
      },
      {
        "duration": 7,
        "start_time": "2023-06-24T20:32:21.252Z"
      },
      {
        "duration": 30,
        "start_time": "2023-06-24T20:32:21.428Z"
      },
      {
        "duration": 7,
        "start_time": "2023-06-24T20:32:23.355Z"
      },
      {
        "duration": 9,
        "start_time": "2023-06-24T20:32:23.540Z"
      },
      {
        "duration": 1490,
        "start_time": "2023-06-24T20:32:25.488Z"
      },
      {
        "duration": 111930,
        "start_time": "2023-06-24T20:32:33.118Z"
      },
      {
        "duration": 127,
        "start_time": "2023-06-24T20:35:59.638Z"
      },
      {
        "duration": 48,
        "start_time": "2023-06-24T20:36:00.356Z"
      },
      {
        "duration": 8,
        "start_time": "2023-06-24T20:36:03.250Z"
      },
      {
        "duration": 8,
        "start_time": "2023-06-24T20:36:04.958Z"
      },
      {
        "duration": 29,
        "start_time": "2023-06-24T20:36:05.095Z"
      },
      {
        "duration": 13,
        "start_time": "2023-06-24T20:36:07.884Z"
      },
      {
        "duration": 8,
        "start_time": "2023-06-24T20:36:08.029Z"
      },
      {
        "duration": 2767,
        "start_time": "2023-06-24T20:36:10.347Z"
      },
      {
        "duration": 270897,
        "start_time": "2023-06-24T20:36:36.691Z"
      },
      {
        "duration": 124,
        "start_time": "2023-06-24T20:48:10.236Z"
      },
      {
        "duration": 33,
        "start_time": "2023-06-24T20:48:10.392Z"
      },
      {
        "duration": 5,
        "start_time": "2023-06-24T20:48:15.495Z"
      },
      {
        "duration": 8,
        "start_time": "2023-06-24T20:48:17.229Z"
      },
      {
        "duration": 28,
        "start_time": "2023-06-24T20:48:17.394Z"
      },
      {
        "duration": 12,
        "start_time": "2023-06-24T20:48:19.364Z"
      },
      {
        "duration": 9,
        "start_time": "2023-06-24T20:48:19.508Z"
      },
      {
        "duration": 4451,
        "start_time": "2023-06-24T20:48:21.948Z"
      },
      {
        "duration": 293826,
        "start_time": "2023-06-24T20:48:47.325Z"
      },
      {
        "duration": 100,
        "start_time": "2023-06-24T20:53:54.945Z"
      },
      {
        "duration": 10,
        "start_time": "2023-06-24T20:55:38.985Z"
      },
      {
        "duration": 41,
        "start_time": "2023-06-24T20:55:38.997Z"
      },
      {
        "duration": 12,
        "start_time": "2023-06-24T20:55:39.039Z"
      },
      {
        "duration": 6,
        "start_time": "2023-06-24T20:55:39.053Z"
      },
      {
        "duration": 28,
        "start_time": "2023-06-24T20:55:39.062Z"
      },
      {
        "duration": 10,
        "start_time": "2023-06-24T20:55:39.092Z"
      },
      {
        "duration": 11,
        "start_time": "2023-06-24T20:55:39.104Z"
      },
      {
        "duration": 4,
        "start_time": "2023-06-24T20:55:39.116Z"
      },
      {
        "duration": 8,
        "start_time": "2023-06-24T20:55:39.121Z"
      },
      {
        "duration": 302,
        "start_time": "2023-06-24T20:55:39.130Z"
      },
      {
        "duration": 9,
        "start_time": "2023-06-24T20:55:39.434Z"
      },
      {
        "duration": 185,
        "start_time": "2023-06-24T20:55:39.444Z"
      },
      {
        "duration": 5,
        "start_time": "2023-06-24T20:55:39.631Z"
      },
      {
        "duration": 422,
        "start_time": "2023-06-24T20:55:39.639Z"
      },
      {
        "duration": 19,
        "start_time": "2023-06-24T20:55:40.063Z"
      },
      {
        "duration": 389,
        "start_time": "2023-06-24T20:55:40.085Z"
      },
      {
        "duration": 8,
        "start_time": "2023-06-24T20:55:40.476Z"
      },
      {
        "duration": 3086,
        "start_time": "2023-06-24T20:55:40.486Z"
      },
      {
        "duration": 90,
        "start_time": "2023-06-24T20:55:43.584Z"
      },
      {
        "duration": 13,
        "start_time": "2023-06-24T20:55:43.676Z"
      },
      {
        "duration": 132,
        "start_time": "2023-06-24T20:55:43.692Z"
      },
      {
        "duration": 27,
        "start_time": "2023-06-24T20:55:43.825Z"
      },
      {
        "duration": 11,
        "start_time": "2023-06-24T20:55:43.854Z"
      },
      {
        "duration": 11,
        "start_time": "2023-06-24T20:55:43.867Z"
      },
      {
        "duration": 43,
        "start_time": "2023-06-24T20:55:43.881Z"
      },
      {
        "duration": 9,
        "start_time": "2023-06-24T20:55:43.926Z"
      },
      {
        "duration": 10,
        "start_time": "2023-06-24T20:55:43.937Z"
      },
      {
        "duration": 3620,
        "start_time": "2023-06-24T20:55:43.949Z"
      },
      {
        "duration": 2,
        "start_time": "2023-06-24T20:55:47.571Z"
      },
      {
        "duration": 226090,
        "start_time": "2023-06-24T20:55:47.576Z"
      },
      {
        "duration": 280391,
        "start_time": "2023-06-24T20:59:33.668Z"
      },
      {
        "duration": 5,
        "start_time": "2023-06-24T21:04:14.060Z"
      },
      {
        "duration": 37,
        "start_time": "2023-06-24T21:04:14.070Z"
      },
      {
        "duration": 8,
        "start_time": "2023-06-24T21:04:14.109Z"
      },
      {
        "duration": 7,
        "start_time": "2023-06-24T21:04:14.119Z"
      },
      {
        "duration": 5,
        "start_time": "2023-06-24T21:04:14.127Z"
      },
      {
        "duration": 4,
        "start_time": "2023-06-24T21:05:00.520Z"
      },
      {
        "duration": 22,
        "start_time": "2023-06-24T21:05:02.368Z"
      },
      {
        "duration": 6,
        "start_time": "2023-06-24T21:19:51.705Z"
      },
      {
        "duration": 1446,
        "start_time": "2023-06-24T21:23:36.292Z"
      },
      {
        "duration": 6,
        "start_time": "2023-06-24T21:23:50.347Z"
      },
      {
        "duration": 8,
        "start_time": "2023-06-24T21:24:06.483Z"
      },
      {
        "duration": 8,
        "start_time": "2023-06-24T21:24:26.684Z"
      },
      {
        "duration": 9,
        "start_time": "2023-06-24T21:25:12.197Z"
      },
      {
        "duration": 4,
        "start_time": "2023-06-24T21:25:27.309Z"
      },
      {
        "duration": 199,
        "start_time": "2023-06-24T21:27:53.295Z"
      },
      {
        "duration": 3,
        "start_time": "2023-06-24T21:31:24.937Z"
      },
      {
        "duration": 5,
        "start_time": "2023-06-24T21:31:26.002Z"
      },
      {
        "duration": 7,
        "start_time": "2023-06-24T21:31:42.870Z"
      },
      {
        "duration": 7,
        "start_time": "2023-06-24T21:31:43.465Z"
      },
      {
        "duration": 4,
        "start_time": "2023-06-24T21:32:09.242Z"
      },
      {
        "duration": 9,
        "start_time": "2023-06-24T21:32:09.466Z"
      },
      {
        "duration": 8,
        "start_time": "2023-06-24T21:35:13.659Z"
      },
      {
        "duration": 10,
        "start_time": "2023-06-24T21:35:56.012Z"
      },
      {
        "duration": 7,
        "start_time": "2023-06-24T21:36:59.261Z"
      },
      {
        "duration": 6,
        "start_time": "2023-06-24T21:37:06.188Z"
      },
      {
        "duration": 6,
        "start_time": "2023-06-24T21:37:38.107Z"
      },
      {
        "duration": 218,
        "start_time": "2023-06-24T21:39:14.998Z"
      },
      {
        "duration": 9,
        "start_time": "2023-06-24T21:39:32.293Z"
      },
      {
        "duration": 8,
        "start_time": "2023-06-24T21:40:08.998Z"
      },
      {
        "duration": 6,
        "start_time": "2023-06-24T21:40:15.884Z"
      },
      {
        "duration": 6,
        "start_time": "2023-06-24T21:40:32.718Z"
      },
      {
        "duration": 7,
        "start_time": "2023-06-24T21:41:03.718Z"
      },
      {
        "duration": 10,
        "start_time": "2023-06-24T21:41:42.177Z"
      },
      {
        "duration": 5,
        "start_time": "2023-06-24T21:42:51.200Z"
      },
      {
        "duration": 19,
        "start_time": "2023-06-24T21:42:58.992Z"
      },
      {
        "duration": 7,
        "start_time": "2023-06-24T21:43:01.799Z"
      },
      {
        "duration": 6,
        "start_time": "2023-06-24T21:43:04.935Z"
      },
      {
        "duration": 5,
        "start_time": "2023-06-24T21:43:07.719Z"
      },
      {
        "duration": 8,
        "start_time": "2023-06-24T21:43:09.927Z"
      },
      {
        "duration": 8,
        "start_time": "2023-06-24T21:43:33.487Z"
      },
      {
        "duration": 8,
        "start_time": "2023-06-24T21:43:44.824Z"
      },
      {
        "duration": 6,
        "start_time": "2023-06-24T21:44:30.913Z"
      },
      {
        "duration": 6,
        "start_time": "2023-06-24T21:44:41.505Z"
      },
      {
        "duration": 18,
        "start_time": "2023-06-24T21:44:48.209Z"
      },
      {
        "duration": 6,
        "start_time": "2023-06-24T21:45:07.209Z"
      },
      {
        "duration": 9,
        "start_time": "2023-06-24T21:45:19.587Z"
      },
      {
        "duration": 11,
        "start_time": "2023-06-24T21:45:33.858Z"
      },
      {
        "duration": 8,
        "start_time": "2023-06-24T21:45:44.355Z"
      },
      {
        "duration": 7,
        "start_time": "2023-06-24T21:45:45.041Z"
      },
      {
        "duration": 9,
        "start_time": "2023-06-24T21:45:48.049Z"
      },
      {
        "duration": 9,
        "start_time": "2023-06-24T21:45:49.162Z"
      },
      {
        "duration": 3,
        "start_time": "2023-06-24T21:46:03.587Z"
      },
      {
        "duration": 9,
        "start_time": "2023-06-24T21:46:07.850Z"
      },
      {
        "duration": 8,
        "start_time": "2023-06-24T21:46:11.387Z"
      },
      {
        "duration": 20,
        "start_time": "2023-06-24T21:46:30.026Z"
      },
      {
        "duration": 8,
        "start_time": "2023-06-24T21:46:32.555Z"
      },
      {
        "duration": 9,
        "start_time": "2023-06-24T21:46:39.834Z"
      },
      {
        "duration": 215,
        "start_time": "2023-06-24T21:47:57.042Z"
      },
      {
        "duration": 4,
        "start_time": "2023-06-24T21:49:10.931Z"
      },
      {
        "duration": 3,
        "start_time": "2023-06-24T21:49:19.324Z"
      },
      {
        "duration": 12,
        "start_time": "2023-06-24T21:50:24.116Z"
      },
      {
        "duration": 7065,
        "start_time": "2023-06-24T21:52:29.446Z"
      },
      {
        "duration": 42611,
        "start_time": "2023-06-24T21:52:53.750Z"
      },
      {
        "duration": 10388,
        "start_time": "2023-06-24T21:54:18.622Z"
      },
      {
        "duration": 8036,
        "start_time": "2023-06-24T21:56:10.227Z"
      },
      {
        "duration": 19,
        "start_time": "2023-06-24T22:02:55.573Z"
      },
      {
        "duration": 13,
        "start_time": "2023-06-24T22:03:10.686Z"
      },
      {
        "duration": 15,
        "start_time": "2023-06-24T22:03:24.652Z"
      },
      {
        "duration": 29,
        "start_time": "2023-06-24T22:06:13.613Z"
      },
      {
        "duration": 524,
        "start_time": "2023-06-24T22:06:44.507Z"
      },
      {
        "duration": 467,
        "start_time": "2023-06-24T22:08:22.367Z"
      },
      {
        "duration": 275,
        "start_time": "2023-06-24T22:08:56.832Z"
      },
      {
        "duration": 272,
        "start_time": "2023-06-24T22:09:05.963Z"
      },
      {
        "duration": 214,
        "start_time": "2023-06-24T22:09:12.607Z"
      },
      {
        "duration": 215,
        "start_time": "2023-06-24T22:09:17.559Z"
      },
      {
        "duration": 240,
        "start_time": "2023-06-24T22:09:34.500Z"
      },
      {
        "duration": 219,
        "start_time": "2023-06-24T22:09:36.032Z"
      },
      {
        "duration": 3,
        "start_time": "2023-06-24T22:15:58.315Z"
      },
      {
        "duration": 30,
        "start_time": "2023-06-24T22:16:32.099Z"
      },
      {
        "duration": 10,
        "start_time": "2023-06-24T22:17:34.917Z"
      },
      {
        "duration": 1644,
        "start_time": "2023-06-25T12:24:25.720Z"
      },
      {
        "duration": 127,
        "start_time": "2023-06-25T12:24:27.366Z"
      },
      {
        "duration": 12,
        "start_time": "2023-06-25T12:24:27.495Z"
      },
      {
        "duration": 10,
        "start_time": "2023-06-25T12:24:27.509Z"
      },
      {
        "duration": 23,
        "start_time": "2023-06-25T12:24:27.523Z"
      },
      {
        "duration": 9,
        "start_time": "2023-06-25T12:24:27.548Z"
      },
      {
        "duration": 16,
        "start_time": "2023-06-25T12:24:27.568Z"
      },
      {
        "duration": 5,
        "start_time": "2023-06-25T12:24:27.586Z"
      },
      {
        "duration": 12,
        "start_time": "2023-06-25T12:24:27.593Z"
      },
      {
        "duration": 350,
        "start_time": "2023-06-25T12:24:27.606Z"
      },
      {
        "duration": 15,
        "start_time": "2023-06-25T12:24:27.957Z"
      },
      {
        "duration": 167,
        "start_time": "2023-06-25T12:24:27.974Z"
      },
      {
        "duration": 6,
        "start_time": "2023-06-25T12:24:28.144Z"
      },
      {
        "duration": 305,
        "start_time": "2023-06-25T12:24:28.153Z"
      },
      {
        "duration": 18,
        "start_time": "2023-06-25T12:24:28.460Z"
      },
      {
        "duration": 350,
        "start_time": "2023-06-25T12:24:28.479Z"
      },
      {
        "duration": 5,
        "start_time": "2023-06-25T12:24:28.832Z"
      },
      {
        "duration": 1733,
        "start_time": "2023-06-25T12:24:28.839Z"
      },
      {
        "duration": 98,
        "start_time": "2023-06-25T12:24:30.574Z"
      },
      {
        "duration": 5,
        "start_time": "2023-06-25T12:24:30.767Z"
      },
      {
        "duration": 260,
        "start_time": "2023-06-25T12:24:30.773Z"
      },
      {
        "duration": 124,
        "start_time": "2023-06-25T12:24:31.035Z"
      },
      {
        "duration": 0,
        "start_time": "2023-06-25T12:24:31.161Z"
      },
      {
        "duration": 0,
        "start_time": "2023-06-25T12:24:31.168Z"
      },
      {
        "duration": 0,
        "start_time": "2023-06-25T12:24:31.169Z"
      },
      {
        "duration": 0,
        "start_time": "2023-06-25T12:24:31.171Z"
      },
      {
        "duration": 0,
        "start_time": "2023-06-25T12:24:31.172Z"
      },
      {
        "duration": 0,
        "start_time": "2023-06-25T12:24:31.173Z"
      },
      {
        "duration": 0,
        "start_time": "2023-06-25T12:24:31.174Z"
      },
      {
        "duration": 0,
        "start_time": "2023-06-25T12:24:31.176Z"
      },
      {
        "duration": 0,
        "start_time": "2023-06-25T12:24:31.177Z"
      },
      {
        "duration": 0,
        "start_time": "2023-06-25T12:24:31.178Z"
      },
      {
        "duration": 0,
        "start_time": "2023-06-25T12:24:31.179Z"
      },
      {
        "duration": 0,
        "start_time": "2023-06-25T12:24:31.180Z"
      },
      {
        "duration": 0,
        "start_time": "2023-06-25T12:24:31.181Z"
      },
      {
        "duration": 0,
        "start_time": "2023-06-25T12:24:31.182Z"
      },
      {
        "duration": 0,
        "start_time": "2023-06-25T12:24:31.183Z"
      },
      {
        "duration": 0,
        "start_time": "2023-06-25T12:24:31.184Z"
      },
      {
        "duration": 0,
        "start_time": "2023-06-25T12:24:31.185Z"
      },
      {
        "duration": 0,
        "start_time": "2023-06-25T12:24:31.186Z"
      },
      {
        "duration": 0,
        "start_time": "2023-06-25T12:24:31.187Z"
      },
      {
        "duration": 0,
        "start_time": "2023-06-25T12:24:31.188Z"
      },
      {
        "duration": 0,
        "start_time": "2023-06-25T12:24:31.189Z"
      },
      {
        "duration": 0,
        "start_time": "2023-06-25T12:24:31.190Z"
      },
      {
        "duration": 0,
        "start_time": "2023-06-25T12:24:31.191Z"
      },
      {
        "duration": 0,
        "start_time": "2023-06-25T12:24:31.192Z"
      },
      {
        "duration": 0,
        "start_time": "2023-06-25T12:24:31.193Z"
      },
      {
        "duration": 0,
        "start_time": "2023-06-25T12:24:31.194Z"
      },
      {
        "duration": 6,
        "start_time": "2023-06-25T12:24:41.685Z"
      },
      {
        "duration": 42,
        "start_time": "2023-06-25T12:24:41.692Z"
      },
      {
        "duration": 10,
        "start_time": "2023-06-25T12:24:41.736Z"
      },
      {
        "duration": 9,
        "start_time": "2023-06-25T12:24:41.749Z"
      },
      {
        "duration": 14,
        "start_time": "2023-06-25T12:24:41.760Z"
      },
      {
        "duration": 15,
        "start_time": "2023-06-25T12:24:41.776Z"
      },
      {
        "duration": 10,
        "start_time": "2023-06-25T12:24:41.793Z"
      },
      {
        "duration": 5,
        "start_time": "2023-06-25T12:24:41.804Z"
      },
      {
        "duration": 7,
        "start_time": "2023-06-25T12:24:41.811Z"
      },
      {
        "duration": 293,
        "start_time": "2023-06-25T12:24:41.819Z"
      },
      {
        "duration": 9,
        "start_time": "2023-06-25T12:24:42.113Z"
      },
      {
        "duration": 267,
        "start_time": "2023-06-25T12:24:42.124Z"
      },
      {
        "duration": 6,
        "start_time": "2023-06-25T12:24:42.392Z"
      },
      {
        "duration": 306,
        "start_time": "2023-06-25T12:24:42.400Z"
      },
      {
        "duration": 14,
        "start_time": "2023-06-25T12:24:42.707Z"
      },
      {
        "duration": 348,
        "start_time": "2023-06-25T12:24:42.722Z"
      },
      {
        "duration": 6,
        "start_time": "2023-06-25T12:24:43.073Z"
      },
      {
        "duration": 1795,
        "start_time": "2023-06-25T12:24:43.081Z"
      },
      {
        "duration": 97,
        "start_time": "2023-06-25T12:24:44.878Z"
      },
      {
        "duration": 92,
        "start_time": "2023-06-25T12:24:44.977Z"
      },
      {
        "duration": 242,
        "start_time": "2023-06-25T12:24:45.070Z"
      },
      {
        "duration": 27,
        "start_time": "2023-06-25T12:24:45.314Z"
      },
      {
        "duration": 8,
        "start_time": "2023-06-25T12:24:45.343Z"
      },
      {
        "duration": 18,
        "start_time": "2023-06-25T12:24:45.368Z"
      },
      {
        "duration": 37,
        "start_time": "2023-06-25T12:24:45.387Z"
      },
      {
        "duration": 15,
        "start_time": "2023-06-25T12:24:45.425Z"
      },
      {
        "duration": 47,
        "start_time": "2023-06-25T12:24:45.442Z"
      },
      {
        "duration": 1990,
        "start_time": "2023-06-25T12:24:45.491Z"
      },
      {
        "duration": 4,
        "start_time": "2023-06-25T12:24:47.569Z"
      },
      {
        "duration": 232872,
        "start_time": "2023-06-25T12:24:47.575Z"
      },
      {
        "duration": 283137,
        "start_time": "2023-06-25T12:28:40.449Z"
      },
      {
        "duration": 5,
        "start_time": "2023-06-25T12:33:23.589Z"
      },
      {
        "duration": 33,
        "start_time": "2023-06-25T12:33:23.596Z"
      },
      {
        "duration": 21713,
        "start_time": "2023-06-25T12:33:23.631Z"
      },
      {
        "duration": 0,
        "start_time": "2023-06-25T12:33:45.346Z"
      },
      {
        "duration": 0,
        "start_time": "2023-06-25T12:33:45.347Z"
      },
      {
        "duration": 0,
        "start_time": "2023-06-25T12:33:45.348Z"
      },
      {
        "duration": 0,
        "start_time": "2023-06-25T12:33:45.350Z"
      },
      {
        "duration": 0,
        "start_time": "2023-06-25T12:33:45.351Z"
      },
      {
        "duration": 0,
        "start_time": "2023-06-25T12:33:45.369Z"
      },
      {
        "duration": 0,
        "start_time": "2023-06-25T12:33:45.370Z"
      },
      {
        "duration": 0,
        "start_time": "2023-06-25T12:33:45.371Z"
      },
      {
        "duration": 0,
        "start_time": "2023-06-25T12:33:45.373Z"
      },
      {
        "duration": 0,
        "start_time": "2023-06-25T12:33:45.374Z"
      },
      {
        "duration": 1,
        "start_time": "2023-06-25T12:33:45.375Z"
      },
      {
        "duration": 0,
        "start_time": "2023-06-25T12:33:45.377Z"
      },
      {
        "duration": 0,
        "start_time": "2023-06-25T12:33:45.378Z"
      },
      {
        "duration": 0,
        "start_time": "2023-06-25T12:33:45.379Z"
      },
      {
        "duration": 11,
        "start_time": "2023-06-25T12:34:20.256Z"
      },
      {
        "duration": 13,
        "start_time": "2023-06-25T12:35:26.952Z"
      },
      {
        "duration": 17,
        "start_time": "2023-06-25T12:35:38.730Z"
      },
      {
        "duration": 10,
        "start_time": "2023-06-25T12:36:29.371Z"
      },
      {
        "duration": 5,
        "start_time": "2023-06-25T12:36:36.514Z"
      },
      {
        "duration": 212473,
        "start_time": "2023-06-25T12:36:45.292Z"
      },
      {
        "duration": 11,
        "start_time": "2023-06-25T12:40:17.767Z"
      },
      {
        "duration": 23,
        "start_time": "2023-06-25T12:42:13.201Z"
      },
      {
        "duration": 15,
        "start_time": "2023-06-25T12:42:23.472Z"
      },
      {
        "duration": 6,
        "start_time": "2023-06-25T12:42:59.722Z"
      },
      {
        "duration": 206,
        "start_time": "2023-06-25T12:43:04.287Z"
      },
      {
        "duration": 19,
        "start_time": "2023-06-25T12:53:22.428Z"
      },
      {
        "duration": 18,
        "start_time": "2023-06-25T12:54:06.765Z"
      },
      {
        "duration": 186,
        "start_time": "2023-06-25T12:54:08.076Z"
      },
      {
        "duration": 4,
        "start_time": "2023-06-25T12:56:57.745Z"
      },
      {
        "duration": 18,
        "start_time": "2023-06-25T12:56:57.894Z"
      },
      {
        "duration": 191,
        "start_time": "2023-06-25T12:56:59.471Z"
      },
      {
        "duration": 7,
        "start_time": "2023-06-25T12:57:03.918Z"
      },
      {
        "duration": 195,
        "start_time": "2023-06-25T12:58:28.281Z"
      },
      {
        "duration": 178,
        "start_time": "2023-06-25T12:58:30.753Z"
      },
      {
        "duration": 197,
        "start_time": "2023-06-25T13:00:05.086Z"
      },
      {
        "duration": 260,
        "start_time": "2023-06-25T13:00:05.371Z"
      },
      {
        "duration": 5,
        "start_time": "2023-06-25T13:02:07.142Z"
      },
      {
        "duration": 61,
        "start_time": "2023-06-25T13:02:07.149Z"
      },
      {
        "duration": 13,
        "start_time": "2023-06-25T13:02:07.212Z"
      },
      {
        "duration": 10,
        "start_time": "2023-06-25T13:02:07.227Z"
      },
      {
        "duration": 22,
        "start_time": "2023-06-25T13:02:07.238Z"
      },
      {
        "duration": 8,
        "start_time": "2023-06-25T13:02:07.268Z"
      },
      {
        "duration": 54,
        "start_time": "2023-06-25T13:02:07.278Z"
      },
      {
        "duration": 25,
        "start_time": "2023-06-25T13:02:07.334Z"
      },
      {
        "duration": 35,
        "start_time": "2023-06-25T13:02:07.362Z"
      },
      {
        "duration": 284,
        "start_time": "2023-06-25T13:02:07.399Z"
      },
      {
        "duration": 9,
        "start_time": "2023-06-25T13:02:07.685Z"
      },
      {
        "duration": 181,
        "start_time": "2023-06-25T13:02:07.696Z"
      },
      {
        "duration": 6,
        "start_time": "2023-06-25T13:02:07.879Z"
      },
      {
        "duration": 346,
        "start_time": "2023-06-25T13:02:07.887Z"
      },
      {
        "duration": 15,
        "start_time": "2023-06-25T13:02:08.234Z"
      },
      {
        "duration": 399,
        "start_time": "2023-06-25T13:02:08.251Z"
      },
      {
        "duration": 5,
        "start_time": "2023-06-25T13:02:08.652Z"
      },
      {
        "duration": 1804,
        "start_time": "2023-06-25T13:02:08.667Z"
      },
      {
        "duration": 101,
        "start_time": "2023-06-25T13:02:10.473Z"
      },
      {
        "duration": 90,
        "start_time": "2023-06-25T13:02:10.579Z"
      },
      {
        "duration": 354,
        "start_time": "2023-06-25T13:02:10.671Z"
      },
      {
        "duration": 29,
        "start_time": "2023-06-25T13:02:11.026Z"
      },
      {
        "duration": 18,
        "start_time": "2023-06-25T13:02:11.057Z"
      },
      {
        "duration": 14,
        "start_time": "2023-06-25T13:02:11.078Z"
      },
      {
        "duration": 29,
        "start_time": "2023-06-25T13:02:11.094Z"
      },
      {
        "duration": 9,
        "start_time": "2023-06-25T13:02:11.125Z"
      },
      {
        "duration": 7,
        "start_time": "2023-06-25T13:02:11.136Z"
      },
      {
        "duration": 1624,
        "start_time": "2023-06-25T13:02:11.145Z"
      },
      {
        "duration": 3,
        "start_time": "2023-06-25T13:02:12.771Z"
      },
      {
        "duration": 215152,
        "start_time": "2023-06-25T13:02:12.776Z"
      },
      {
        "duration": 145807,
        "start_time": "2023-06-25T13:05:47.929Z"
      },
      {
        "duration": 4,
        "start_time": "2023-06-25T13:08:13.738Z"
      },
      {
        "duration": 9,
        "start_time": "2023-06-25T13:08:13.744Z"
      },
      {
        "duration": 6,
        "start_time": "2023-06-25T13:08:13.754Z"
      },
      {
        "duration": 206,
        "start_time": "2023-06-25T13:08:13.761Z"
      },
      {
        "duration": 258,
        "start_time": "2023-06-25T13:08:13.968Z"
      },
      {
        "duration": 32484,
        "start_time": "2023-06-25T13:08:14.228Z"
      },
      {
        "duration": 0,
        "start_time": "2023-06-25T13:08:46.714Z"
      },
      {
        "duration": 0,
        "start_time": "2023-06-25T13:08:46.715Z"
      },
      {
        "duration": 0,
        "start_time": "2023-06-25T13:08:46.716Z"
      },
      {
        "duration": 11,
        "start_time": "2023-06-25T13:08:47.918Z"
      },
      {
        "duration": 4,
        "start_time": "2023-06-25T13:08:51.950Z"
      },
      {
        "duration": 17,
        "start_time": "2023-06-25T13:08:57.894Z"
      },
      {
        "duration": 175,
        "start_time": "2023-06-25T13:09:06.367Z"
      },
      {
        "duration": 212163,
        "start_time": "2023-06-25T13:09:12.056Z"
      },
      {
        "duration": 15,
        "start_time": "2023-06-25T13:12:44.221Z"
      },
      {
        "duration": 7,
        "start_time": "2023-06-25T13:12:44.238Z"
      },
      {
        "duration": 42747,
        "start_time": "2023-06-25T13:12:44.247Z"
      },
      {
        "duration": 21,
        "start_time": "2023-06-25T13:13:26.996Z"
      },
      {
        "duration": 9,
        "start_time": "2023-06-25T13:13:27.018Z"
      },
      {
        "duration": 42756,
        "start_time": "2023-06-25T13:13:40.257Z"
      },
      {
        "duration": 93,
        "start_time": "2023-06-25T13:14:51.955Z"
      },
      {
        "duration": 20,
        "start_time": "2023-06-25T13:16:49.860Z"
      },
      {
        "duration": 8,
        "start_time": "2023-06-25T13:17:09.788Z"
      },
      {
        "duration": 6,
        "start_time": "2023-06-25T13:17:48.546Z"
      },
      {
        "duration": 40,
        "start_time": "2023-06-25T13:17:48.554Z"
      },
      {
        "duration": 12,
        "start_time": "2023-06-25T13:17:48.595Z"
      },
      {
        "duration": 7,
        "start_time": "2023-06-25T13:17:48.609Z"
      },
      {
        "duration": 14,
        "start_time": "2023-06-25T13:17:48.617Z"
      },
      {
        "duration": 7,
        "start_time": "2023-06-25T13:17:48.632Z"
      },
      {
        "duration": 32,
        "start_time": "2023-06-25T13:17:48.641Z"
      },
      {
        "duration": 4,
        "start_time": "2023-06-25T13:17:48.674Z"
      },
      {
        "duration": 10,
        "start_time": "2023-06-25T13:17:48.680Z"
      },
      {
        "duration": 344,
        "start_time": "2023-06-25T13:17:48.691Z"
      },
      {
        "duration": 10,
        "start_time": "2023-06-25T13:17:49.036Z"
      },
      {
        "duration": 167,
        "start_time": "2023-06-25T13:17:49.047Z"
      },
      {
        "duration": 6,
        "start_time": "2023-06-25T13:17:49.215Z"
      },
      {
        "duration": 304,
        "start_time": "2023-06-25T13:17:49.222Z"
      },
      {
        "duration": 14,
        "start_time": "2023-06-25T13:17:49.527Z"
      },
      {
        "duration": 339,
        "start_time": "2023-06-25T13:17:49.542Z"
      },
      {
        "duration": 5,
        "start_time": "2023-06-25T13:17:49.883Z"
      },
      {
        "duration": 1879,
        "start_time": "2023-06-25T13:17:49.889Z"
      },
      {
        "duration": 9,
        "start_time": "2023-06-25T13:17:51.771Z"
      },
      {
        "duration": 4,
        "start_time": "2023-06-25T13:17:51.869Z"
      },
      {
        "duration": 231,
        "start_time": "2023-06-25T13:17:51.874Z"
      },
      {
        "duration": 27,
        "start_time": "2023-06-25T13:17:52.107Z"
      },
      {
        "duration": 9,
        "start_time": "2023-06-25T13:17:52.135Z"
      },
      {
        "duration": 26,
        "start_time": "2023-06-25T13:17:52.147Z"
      },
      {
        "duration": 33,
        "start_time": "2023-06-25T13:17:52.175Z"
      },
      {
        "duration": 11,
        "start_time": "2023-06-25T13:17:52.210Z"
      },
      {
        "duration": 19,
        "start_time": "2023-06-25T13:17:52.222Z"
      },
      {
        "duration": 1528,
        "start_time": "2023-06-25T13:17:52.243Z"
      },
      {
        "duration": 94,
        "start_time": "2023-06-25T13:17:53.773Z"
      },
      {
        "duration": 208540,
        "start_time": "2023-06-25T13:17:53.873Z"
      },
      {
        "duration": 142915,
        "start_time": "2023-06-25T13:21:22.415Z"
      },
      {
        "duration": 4,
        "start_time": "2023-06-25T13:23:45.332Z"
      },
      {
        "duration": 54,
        "start_time": "2023-06-25T13:23:45.338Z"
      },
      {
        "duration": 8,
        "start_time": "2023-06-25T13:23:45.393Z"
      },
      {
        "duration": 273,
        "start_time": "2023-06-25T13:23:45.403Z"
      },
      {
        "duration": 245,
        "start_time": "2023-06-25T13:23:45.678Z"
      },
      {
        "duration": 210881,
        "start_time": "2023-06-25T13:23:45.924Z"
      },
      {
        "duration": 20,
        "start_time": "2023-06-25T13:27:16.806Z"
      },
      {
        "duration": 7,
        "start_time": "2023-06-25T13:27:16.828Z"
      },
      {
        "duration": 42757,
        "start_time": "2023-06-25T13:27:16.836Z"
      }
    ],
    "kernelspec": {
      "display_name": "Python 3 (ipykernel)",
      "language": "python",
      "name": "python3"
    },
    "language_info": {
      "codemirror_mode": {
        "name": "ipython",
        "version": 3
      },
      "file_extension": ".py",
      "mimetype": "text/x-python",
      "name": "python",
      "nbconvert_exporter": "python",
      "pygments_lexer": "ipython3",
      "version": "3.9.5"
    },
    "toc": {
      "base_numbering": 1,
      "nav_menu": {},
      "number_sections": true,
      "sideBar": true,
      "skip_h1_title": true,
      "title_cell": "Содержание",
      "title_sidebar": "Contents",
      "toc_cell": true,
      "toc_position": {
        "height": "calc(100% - 180px)",
        "left": "10px",
        "top": "150px",
        "width": "358px"
      },
      "toc_section_display": true,
      "toc_window_display": true
    },
    "colab": {
      "provenance": []
    }
  },
  "nbformat": 4,
  "nbformat_minor": 0
}