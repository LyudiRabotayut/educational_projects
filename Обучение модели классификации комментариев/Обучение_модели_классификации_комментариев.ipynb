{
  "cells": [
    {
      "cell_type": "markdown",
      "metadata": {
        "id": "Pb7r-TTqcn93",
        "toc": true
      },
      "source": [
        "<h1>Содержание<span class=\"tocSkip\"></span></h1>\n",
        "<div class=\"toc\"><ul class=\"toc-item\"><li><span><a href=\"#Подготовка\" data-toc-modified-id=\"Подготовка-1\"><span class=\"toc-item-num\">1&nbsp;&nbsp;</span>Подготовка</a></span><ul class=\"toc-item\"><li><span><a href=\"#Регулярные-выражения\" data-toc-modified-id=\"Регулярные-выражения-1.1\"><span class=\"toc-item-num\">1.1&nbsp;&nbsp;</span>Регулярные выражения</a></span></li><li><span><a href=\"#Лематизация\" data-toc-modified-id=\"Лематизация-1.2\"><span class=\"toc-item-num\">1.2&nbsp;&nbsp;</span>Лематизация</a></span></li><li><span><a href=\"#Делим-на-выборки\" data-toc-modified-id=\"Делим-на-выборки-1.3\"><span class=\"toc-item-num\">1.3&nbsp;&nbsp;</span>Делим на выборки</a></span></li><li><span><a href=\"#Токенизация\" data-toc-modified-id=\"Токенизация-1.4\"><span class=\"toc-item-num\">1.4&nbsp;&nbsp;</span>Токенизация</a></span></li><li><span><a href=\"#Трубопровод\" data-toc-modified-id=\"Трубопровод-1.5\"><span class=\"toc-item-num\">1.5&nbsp;&nbsp;</span>Трубопровод</a></span></li></ul></li><li><span><a href=\"#Обучение\" data-toc-modified-id=\"Обучение-2\"><span class=\"toc-item-num\">2&nbsp;&nbsp;</span>Обучение</a></span><ul class=\"toc-item\"><li><span><a href=\"#Логистическая-регрессия\" data-toc-modified-id=\"Логистическая-регрессия-2.1\"><span class=\"toc-item-num\">2.1&nbsp;&nbsp;</span>Логистическая регрессия</a></span></li><li><span><a href=\"#Catboost\" data-toc-modified-id=\"Catboost-2.2\"><span class=\"toc-item-num\">2.2&nbsp;&nbsp;</span>Catboost</a></span></li><li><span><a href=\"#Тестирование\" data-toc-modified-id=\"Тестирование-2.3\"><span class=\"toc-item-num\">2.3&nbsp;&nbsp;</span>Тестирование</a></span></li><li><span><a href=\"#Проверка-на-адекватность\" data-toc-modified-id=\"Проверка-на-адекватность-2.4\"><span class=\"toc-item-num\">2.4&nbsp;&nbsp;</span>Проверка на адекватность</a></span></li></ul></li><li><span><a href=\"#Выводы\" data-toc-modified-id=\"Выводы-3\"><span class=\"toc-item-num\">3&nbsp;&nbsp;</span>Выводы</a></span></li><li><span><a href=\"#Чек-лист-проверки\" data-toc-modified-id=\"Чек-лист-проверки-4\"><span class=\"toc-item-num\">4&nbsp;&nbsp;</span>Чек-лист проверки</a></span></li></ul></div>"
      ]
    },
    {
      "cell_type": "markdown",
      "metadata": {
        "id": "X7wKvLIccn99"
      },
      "source": [
        "# Проект для «Викишоп»"
      ]
    },
    {
      "cell_type": "markdown",
      "source": [
        "Задача:\n",
        "Определение токсичности комментариев"
      ],
      "metadata": {
        "id": "DYcp49pa_3Z8"
      }
    },
    {
      "cell_type": "markdown",
      "metadata": {
        "id": "KXLmsE11cn9-"
      },
      "source": [
        "## Подготовка"
      ]
    },
    {
      "cell_type": "code",
      "execution_count": null,
      "metadata": {
        "id": "bit9vQJOcn9_"
      },
      "outputs": [],
      "source": [
        "# Импортируем необходимые библиотеки\n",
        "import catboost as cb\n",
        "import nltk\n",
        "import numpy as np\n",
        "import pandas as pd\n",
        "import re\n",
        "import spacy\n",
        "import swifter\n",
        "\n",
        "from google.colab import drive\n",
        "from nltk.corpus import stopwords\n",
        "from sklearn.linear_model import LogisticRegression\n",
        "from sklearn.model_selection import train_test_split, GridSearchCV\n",
        "from sklearn.metrics import f1_score, classification_report\n",
        "from sklearn.dummy import DummyClassifier\n",
        "from sklearn.feature_extraction.text import TfidfVectorizer\n",
        "from sklearn.pipeline import Pipeline"
      ]
    },
    {
      "cell_type": "code",
      "execution_count": null,
      "metadata": {
        "colab": {
          "base_uri": "https://localhost:8080/",
          "height": 224
        },
        "id": "jqrFC49_cn-B",
        "outputId": "c6336eb5-bca6-43fc-8b6a-8d1ffca4460a"
      },
      "outputs": [
        {
          "name": "stdout",
          "output_type": "stream",
          "text": [
            "Drive already mounted at /content/gdrive; to attempt to forcibly remount, call drive.mount(\"/content/gdrive\", force_remount=True).\n"
          ]
        },
        {
          "data": {
            "text/html": [
              "\n",
              "  <div id=\"df-25a1c92c-0352-4028-b171-0c528dc6c8f0\">\n",
              "    <div class=\"colab-df-container\">\n",
              "      <div>\n",
              "<style scoped>\n",
              "    .dataframe tbody tr th:only-of-type {\n",
              "        vertical-align: middle;\n",
              "    }\n",
              "\n",
              "    .dataframe tbody tr th {\n",
              "        vertical-align: top;\n",
              "    }\n",
              "\n",
              "    .dataframe thead th {\n",
              "        text-align: right;\n",
              "    }\n",
              "</style>\n",
              "<table border=\"1\" class=\"dataframe\">\n",
              "  <thead>\n",
              "    <tr style=\"text-align: right;\">\n",
              "      <th></th>\n",
              "      <th>text</th>\n",
              "      <th>toxic</th>\n",
              "    </tr>\n",
              "  </thead>\n",
              "  <tbody>\n",
              "    <tr>\n",
              "      <th>0</th>\n",
              "      <td>Explanation\\nWhy the edits made under my usern...</td>\n",
              "      <td>0</td>\n",
              "    </tr>\n",
              "    <tr>\n",
              "      <th>1</th>\n",
              "      <td>D'aww! He matches this background colour I'm s...</td>\n",
              "      <td>0</td>\n",
              "    </tr>\n",
              "    <tr>\n",
              "      <th>2</th>\n",
              "      <td>Hey man, I'm really not trying to edit war. It...</td>\n",
              "      <td>0</td>\n",
              "    </tr>\n",
              "    <tr>\n",
              "      <th>3</th>\n",
              "      <td>\"\\nMore\\nI can't make any real suggestions on ...</td>\n",
              "      <td>0</td>\n",
              "    </tr>\n",
              "    <tr>\n",
              "      <th>4</th>\n",
              "      <td>You, sir, are my hero. Any chance you remember...</td>\n",
              "      <td>0</td>\n",
              "    </tr>\n",
              "  </tbody>\n",
              "</table>\n",
              "</div>\n",
              "      <button class=\"colab-df-convert\" onclick=\"convertToInteractive('df-25a1c92c-0352-4028-b171-0c528dc6c8f0')\"\n",
              "              title=\"Convert this dataframe to an interactive table.\"\n",
              "              style=\"display:none;\">\n",
              "        \n",
              "  <svg xmlns=\"http://www.w3.org/2000/svg\" height=\"24px\"viewBox=\"0 0 24 24\"\n",
              "       width=\"24px\">\n",
              "    <path d=\"M0 0h24v24H0V0z\" fill=\"none\"/>\n",
              "    <path d=\"M18.56 5.44l.94 2.06.94-2.06 2.06-.94-2.06-.94-.94-2.06-.94 2.06-2.06.94zm-11 1L8.5 8.5l.94-2.06 2.06-.94-2.06-.94L8.5 2.5l-.94 2.06-2.06.94zm10 10l.94 2.06.94-2.06 2.06-.94-2.06-.94-.94-2.06-.94 2.06-2.06.94z\"/><path d=\"M17.41 7.96l-1.37-1.37c-.4-.4-.92-.59-1.43-.59-.52 0-1.04.2-1.43.59L10.3 9.45l-7.72 7.72c-.78.78-.78 2.05 0 2.83L4 21.41c.39.39.9.59 1.41.59.51 0 1.02-.2 1.41-.59l7.78-7.78 2.81-2.81c.8-.78.8-2.07 0-2.86zM5.41 20L4 18.59l7.72-7.72 1.47 1.35L5.41 20z\"/>\n",
              "  </svg>\n",
              "      </button>\n",
              "      \n",
              "  <style>\n",
              "    .colab-df-container {\n",
              "      display:flex;\n",
              "      flex-wrap:wrap;\n",
              "      gap: 12px;\n",
              "    }\n",
              "\n",
              "    .colab-df-convert {\n",
              "      background-color: #E8F0FE;\n",
              "      border: none;\n",
              "      border-radius: 50%;\n",
              "      cursor: pointer;\n",
              "      display: none;\n",
              "      fill: #1967D2;\n",
              "      height: 32px;\n",
              "      padding: 0 0 0 0;\n",
              "      width: 32px;\n",
              "    }\n",
              "\n",
              "    .colab-df-convert:hover {\n",
              "      background-color: #E2EBFA;\n",
              "      box-shadow: 0px 1px 2px rgba(60, 64, 67, 0.3), 0px 1px 3px 1px rgba(60, 64, 67, 0.15);\n",
              "      fill: #174EA6;\n",
              "    }\n",
              "\n",
              "    [theme=dark] .colab-df-convert {\n",
              "      background-color: #3B4455;\n",
              "      fill: #D2E3FC;\n",
              "    }\n",
              "\n",
              "    [theme=dark] .colab-df-convert:hover {\n",
              "      background-color: #434B5C;\n",
              "      box-shadow: 0px 1px 3px 1px rgba(0, 0, 0, 0.15);\n",
              "      filter: drop-shadow(0px 1px 2px rgba(0, 0, 0, 0.3));\n",
              "      fill: #FFFFFF;\n",
              "    }\n",
              "  </style>\n",
              "\n",
              "      <script>\n",
              "        const buttonEl =\n",
              "          document.querySelector('#df-25a1c92c-0352-4028-b171-0c528dc6c8f0 button.colab-df-convert');\n",
              "        buttonEl.style.display =\n",
              "          google.colab.kernel.accessAllowed ? 'block' : 'none';\n",
              "\n",
              "        async function convertToInteractive(key) {\n",
              "          const element = document.querySelector('#df-25a1c92c-0352-4028-b171-0c528dc6c8f0');\n",
              "          const dataTable =\n",
              "            await google.colab.kernel.invokeFunction('convertToInteractive',\n",
              "                                                     [key], {});\n",
              "          if (!dataTable) return;\n",
              "\n",
              "          const docLinkHtml = 'Like what you see? Visit the ' +\n",
              "            '<a target=\"_blank\" href=https://colab.research.google.com/notebooks/data_table.ipynb>data table notebook</a>'\n",
              "            + ' to learn more about interactive tables.';\n",
              "          element.innerHTML = '';\n",
              "          dataTable['output_type'] = 'display_data';\n",
              "          await google.colab.output.renderOutput(dataTable, element);\n",
              "          const docLink = document.createElement('div');\n",
              "          docLink.innerHTML = docLinkHtml;\n",
              "          element.appendChild(docLink);\n",
              "        }\n",
              "      </script>\n",
              "    </div>\n",
              "  </div>\n",
              "  "
            ],
            "text/plain": [
              "                                                text  toxic\n",
              "0  Explanation\\nWhy the edits made under my usern...      0\n",
              "1  D'aww! He matches this background colour I'm s...      0\n",
              "2  Hey man, I'm really not trying to edit war. It...      0\n",
              "3  \"\\nMore\\nI can't make any real suggestions on ...      0\n",
              "4  You, sir, are my hero. Any chance you remember...      0"
            ]
          },
          "execution_count": 13,
          "metadata": {},
          "output_type": "execute_result"
        }
      ],
      "source": [
        "#Загружаем данные\n",
        "drive.mount('/content/gdrive')\n",
        "try:\n",
        "    data = pd.read_csv(r'D:\\DataHome\\toxic_comments.csv', index_col=0)\n",
        "except:\n",
        "    data = pd.read_csv('/content/toxic_comments.csv', index_col=0)\n",
        "data.head()"
      ]
    },
    {
      "cell_type": "code",
      "execution_count": null,
      "metadata": {
        "colab": {
          "base_uri": "https://localhost:8080/"
        },
        "id": "L6r0uXIScn-C",
        "outputId": "76f7f3db-d593-448f-e4e8-1dd7d6881c41",
        "scrolled": true
      },
      "outputs": [
        {
          "name": "stdout",
          "output_type": "stream",
          "text": [
            "<class 'pandas.core.frame.DataFrame'>\n",
            "Int64Index: 161852 entries, 0 to 159450\n",
            "Data columns (total 2 columns):\n",
            " #   Column  Non-Null Count   Dtype \n",
            "---  ------  --------------   ----- \n",
            " 0   text    161852 non-null  object\n",
            " 1   toxic   161852 non-null  int64 \n",
            "dtypes: int64(1), object(1)\n",
            "memory usage: 3.7+ MB\n"
          ]
        }
      ],
      "source": [
        "data.info()"
      ]
    },
    {
      "cell_type": "markdown",
      "metadata": {
        "id": "_Tl6T22Ju9gN"
      },
      "source": [
        "В нашем распоряжении 160 тысяч комментариев, пропусков нет"
      ]
    },
    {
      "cell_type": "markdown",
      "metadata": {
        "id": "Ni6CpAw5cn-C"
      },
      "source": [
        "### Регулярные выражения"
      ]
    },
    {
      "cell_type": "code",
      "execution_count": null,
      "metadata": {
        "id": "e450ierFcn-D"
      },
      "outputs": [],
      "source": [
        "# Функция для отчистки текста от лишних символов\n",
        "def clear_text(text):\n",
        "    return \" \".join(re.sub(r'[^a-zA-Z\\'.!?#\",]', ' ', text).split())"
      ]
    },
    {
      "cell_type": "code",
      "execution_count": null,
      "metadata": {
        "id": "SIrqxaNZcn-D"
      },
      "outputs": [],
      "source": [
        "data['text'] = data['text'].apply(clear_text)"
      ]
    },
    {
      "cell_type": "code",
      "execution_count": null,
      "metadata": {
        "colab": {
          "base_uri": "https://localhost:8080/",
          "height": 424
        },
        "id": "3NfAivMicn-D",
        "outputId": "9da5a214-773a-47ae-d855-0cc50031b5c3"
      },
      "outputs": [
        {
          "data": {
            "text/html": [
              "\n",
              "  <div id=\"df-8c3bb0c5-35c8-41dd-8f9d-5f20cc5e09b5\">\n",
              "    <div class=\"colab-df-container\">\n",
              "      <div>\n",
              "<style scoped>\n",
              "    .dataframe tbody tr th:only-of-type {\n",
              "        vertical-align: middle;\n",
              "    }\n",
              "\n",
              "    .dataframe tbody tr th {\n",
              "        vertical-align: top;\n",
              "    }\n",
              "\n",
              "    .dataframe thead th {\n",
              "        text-align: right;\n",
              "    }\n",
              "</style>\n",
              "<table border=\"1\" class=\"dataframe\">\n",
              "  <thead>\n",
              "    <tr style=\"text-align: right;\">\n",
              "      <th></th>\n",
              "      <th>text</th>\n",
              "      <th>toxic</th>\n",
              "    </tr>\n",
              "  </thead>\n",
              "  <tbody>\n",
              "    <tr>\n",
              "      <th>0</th>\n",
              "      <td>Explanation Why the edits made under my userna...</td>\n",
              "      <td>0</td>\n",
              "    </tr>\n",
              "    <tr>\n",
              "      <th>1</th>\n",
              "      <td>D'aww! He matches this background colour I'm s...</td>\n",
              "      <td>0</td>\n",
              "    </tr>\n",
              "    <tr>\n",
              "      <th>2</th>\n",
              "      <td>Hey man, I'm really not trying to edit war. It...</td>\n",
              "      <td>0</td>\n",
              "    </tr>\n",
              "    <tr>\n",
              "      <th>3</th>\n",
              "      <td>\" More I can't make any real suggestions on im...</td>\n",
              "      <td>0</td>\n",
              "    </tr>\n",
              "    <tr>\n",
              "      <th>4</th>\n",
              "      <td>You, sir, are my hero. Any chance you remember...</td>\n",
              "      <td>0</td>\n",
              "    </tr>\n",
              "    <tr>\n",
              "      <th>...</th>\n",
              "      <td>...</td>\n",
              "      <td>...</td>\n",
              "    </tr>\n",
              "    <tr>\n",
              "      <th>159446</th>\n",
              "      <td>\" And for the second time of asking, when your...</td>\n",
              "      <td>0</td>\n",
              "    </tr>\n",
              "    <tr>\n",
              "      <th>159447</th>\n",
              "      <td>You should be ashamed of yourself That is a ho...</td>\n",
              "      <td>0</td>\n",
              "    </tr>\n",
              "    <tr>\n",
              "      <th>159448</th>\n",
              "      <td>Spitzer Umm, theres no actual article for pros...</td>\n",
              "      <td>0</td>\n",
              "    </tr>\n",
              "    <tr>\n",
              "      <th>159449</th>\n",
              "      <td>And it looks like it was actually you who put ...</td>\n",
              "      <td>0</td>\n",
              "    </tr>\n",
              "    <tr>\n",
              "      <th>159450</th>\n",
              "      <td>\" And ... I really don't think you understand....</td>\n",
              "      <td>0</td>\n",
              "    </tr>\n",
              "  </tbody>\n",
              "</table>\n",
              "<p>161852 rows × 2 columns</p>\n",
              "</div>\n",
              "      <button class=\"colab-df-convert\" onclick=\"convertToInteractive('df-8c3bb0c5-35c8-41dd-8f9d-5f20cc5e09b5')\"\n",
              "              title=\"Convert this dataframe to an interactive table.\"\n",
              "              style=\"display:none;\">\n",
              "        \n",
              "  <svg xmlns=\"http://www.w3.org/2000/svg\" height=\"24px\"viewBox=\"0 0 24 24\"\n",
              "       width=\"24px\">\n",
              "    <path d=\"M0 0h24v24H0V0z\" fill=\"none\"/>\n",
              "    <path d=\"M18.56 5.44l.94 2.06.94-2.06 2.06-.94-2.06-.94-.94-2.06-.94 2.06-2.06.94zm-11 1L8.5 8.5l.94-2.06 2.06-.94-2.06-.94L8.5 2.5l-.94 2.06-2.06.94zm10 10l.94 2.06.94-2.06 2.06-.94-2.06-.94-.94-2.06-.94 2.06-2.06.94z\"/><path d=\"M17.41 7.96l-1.37-1.37c-.4-.4-.92-.59-1.43-.59-.52 0-1.04.2-1.43.59L10.3 9.45l-7.72 7.72c-.78.78-.78 2.05 0 2.83L4 21.41c.39.39.9.59 1.41.59.51 0 1.02-.2 1.41-.59l7.78-7.78 2.81-2.81c.8-.78.8-2.07 0-2.86zM5.41 20L4 18.59l7.72-7.72 1.47 1.35L5.41 20z\"/>\n",
              "  </svg>\n",
              "      </button>\n",
              "      \n",
              "  <style>\n",
              "    .colab-df-container {\n",
              "      display:flex;\n",
              "      flex-wrap:wrap;\n",
              "      gap: 12px;\n",
              "    }\n",
              "\n",
              "    .colab-df-convert {\n",
              "      background-color: #E8F0FE;\n",
              "      border: none;\n",
              "      border-radius: 50%;\n",
              "      cursor: pointer;\n",
              "      display: none;\n",
              "      fill: #1967D2;\n",
              "      height: 32px;\n",
              "      padding: 0 0 0 0;\n",
              "      width: 32px;\n",
              "    }\n",
              "\n",
              "    .colab-df-convert:hover {\n",
              "      background-color: #E2EBFA;\n",
              "      box-shadow: 0px 1px 2px rgba(60, 64, 67, 0.3), 0px 1px 3px 1px rgba(60, 64, 67, 0.15);\n",
              "      fill: #174EA6;\n",
              "    }\n",
              "\n",
              "    [theme=dark] .colab-df-convert {\n",
              "      background-color: #3B4455;\n",
              "      fill: #D2E3FC;\n",
              "    }\n",
              "\n",
              "    [theme=dark] .colab-df-convert:hover {\n",
              "      background-color: #434B5C;\n",
              "      box-shadow: 0px 1px 3px 1px rgba(0, 0, 0, 0.15);\n",
              "      filter: drop-shadow(0px 1px 2px rgba(0, 0, 0, 0.3));\n",
              "      fill: #FFFFFF;\n",
              "    }\n",
              "  </style>\n",
              "\n",
              "      <script>\n",
              "        const buttonEl =\n",
              "          document.querySelector('#df-8c3bb0c5-35c8-41dd-8f9d-5f20cc5e09b5 button.colab-df-convert');\n",
              "        buttonEl.style.display =\n",
              "          google.colab.kernel.accessAllowed ? 'block' : 'none';\n",
              "\n",
              "        async function convertToInteractive(key) {\n",
              "          const element = document.querySelector('#df-8c3bb0c5-35c8-41dd-8f9d-5f20cc5e09b5');\n",
              "          const dataTable =\n",
              "            await google.colab.kernel.invokeFunction('convertToInteractive',\n",
              "                                                     [key], {});\n",
              "          if (!dataTable) return;\n",
              "\n",
              "          const docLinkHtml = 'Like what you see? Visit the ' +\n",
              "            '<a target=\"_blank\" href=https://colab.research.google.com/notebooks/data_table.ipynb>data table notebook</a>'\n",
              "            + ' to learn more about interactive tables.';\n",
              "          element.innerHTML = '';\n",
              "          dataTable['output_type'] = 'display_data';\n",
              "          await google.colab.output.renderOutput(dataTable, element);\n",
              "          const docLink = document.createElement('div');\n",
              "          docLink.innerHTML = docLinkHtml;\n",
              "          element.appendChild(docLink);\n",
              "        }\n",
              "      </script>\n",
              "    </div>\n",
              "  </div>\n",
              "  "
            ],
            "text/plain": [
              "                                                     text  toxic\n",
              "0       Explanation Why the edits made under my userna...      0\n",
              "1       D'aww! He matches this background colour I'm s...      0\n",
              "2       Hey man, I'm really not trying to edit war. It...      0\n",
              "3       \" More I can't make any real suggestions on im...      0\n",
              "4       You, sir, are my hero. Any chance you remember...      0\n",
              "...                                                   ...    ...\n",
              "159446  \" And for the second time of asking, when your...      0\n",
              "159447  You should be ashamed of yourself That is a ho...      0\n",
              "159448  Spitzer Umm, theres no actual article for pros...      0\n",
              "159449  And it looks like it was actually you who put ...      0\n",
              "159450  \" And ... I really don't think you understand....      0\n",
              "\n",
              "[161852 rows x 2 columns]"
            ]
          },
          "execution_count": 17,
          "metadata": {},
          "output_type": "execute_result"
        }
      ],
      "source": [
        "data"
      ]
    },
    {
      "cell_type": "code",
      "execution_count": null,
      "metadata": {
        "id": "aJdZBPmSDt4M"
      },
      "outputs": [],
      "source": [
        "data['text'] = [x.lower() for x in data['text']]"
      ]
    },
    {
      "cell_type": "code",
      "execution_count": null,
      "metadata": {
        "colab": {
          "base_uri": "https://localhost:8080/",
          "height": 424
        },
        "id": "k-qksP5qFqWc",
        "outputId": "4ada8c93-e2c7-420a-8ea0-fa4bb4561f6e"
      },
      "outputs": [
        {
          "data": {
            "text/html": [
              "\n",
              "  <div id=\"df-2df2a545-76f7-4ebd-bfe1-8215926b7cb7\">\n",
              "    <div class=\"colab-df-container\">\n",
              "      <div>\n",
              "<style scoped>\n",
              "    .dataframe tbody tr th:only-of-type {\n",
              "        vertical-align: middle;\n",
              "    }\n",
              "\n",
              "    .dataframe tbody tr th {\n",
              "        vertical-align: top;\n",
              "    }\n",
              "\n",
              "    .dataframe thead th {\n",
              "        text-align: right;\n",
              "    }\n",
              "</style>\n",
              "<table border=\"1\" class=\"dataframe\">\n",
              "  <thead>\n",
              "    <tr style=\"text-align: right;\">\n",
              "      <th></th>\n",
              "      <th>text</th>\n",
              "      <th>toxic</th>\n",
              "    </tr>\n",
              "  </thead>\n",
              "  <tbody>\n",
              "    <tr>\n",
              "      <th>0</th>\n",
              "      <td>explanation why the edits made under my userna...</td>\n",
              "      <td>0</td>\n",
              "    </tr>\n",
              "    <tr>\n",
              "      <th>1</th>\n",
              "      <td>d'aww! he matches this background colour i'm s...</td>\n",
              "      <td>0</td>\n",
              "    </tr>\n",
              "    <tr>\n",
              "      <th>2</th>\n",
              "      <td>hey man, i'm really not trying to edit war. it...</td>\n",
              "      <td>0</td>\n",
              "    </tr>\n",
              "    <tr>\n",
              "      <th>3</th>\n",
              "      <td>\" more i can't make any real suggestions on im...</td>\n",
              "      <td>0</td>\n",
              "    </tr>\n",
              "    <tr>\n",
              "      <th>4</th>\n",
              "      <td>you, sir, are my hero. any chance you remember...</td>\n",
              "      <td>0</td>\n",
              "    </tr>\n",
              "    <tr>\n",
              "      <th>...</th>\n",
              "      <td>...</td>\n",
              "      <td>...</td>\n",
              "    </tr>\n",
              "    <tr>\n",
              "      <th>159446</th>\n",
              "      <td>\" and for the second time of asking, when your...</td>\n",
              "      <td>0</td>\n",
              "    </tr>\n",
              "    <tr>\n",
              "      <th>159447</th>\n",
              "      <td>you should be ashamed of yourself that is a ho...</td>\n",
              "      <td>0</td>\n",
              "    </tr>\n",
              "    <tr>\n",
              "      <th>159448</th>\n",
              "      <td>spitzer umm, theres no actual article for pros...</td>\n",
              "      <td>0</td>\n",
              "    </tr>\n",
              "    <tr>\n",
              "      <th>159449</th>\n",
              "      <td>and it looks like it was actually you who put ...</td>\n",
              "      <td>0</td>\n",
              "    </tr>\n",
              "    <tr>\n",
              "      <th>159450</th>\n",
              "      <td>\" and ... i really don't think you understand....</td>\n",
              "      <td>0</td>\n",
              "    </tr>\n",
              "  </tbody>\n",
              "</table>\n",
              "<p>161852 rows × 2 columns</p>\n",
              "</div>\n",
              "      <button class=\"colab-df-convert\" onclick=\"convertToInteractive('df-2df2a545-76f7-4ebd-bfe1-8215926b7cb7')\"\n",
              "              title=\"Convert this dataframe to an interactive table.\"\n",
              "              style=\"display:none;\">\n",
              "        \n",
              "  <svg xmlns=\"http://www.w3.org/2000/svg\" height=\"24px\"viewBox=\"0 0 24 24\"\n",
              "       width=\"24px\">\n",
              "    <path d=\"M0 0h24v24H0V0z\" fill=\"none\"/>\n",
              "    <path d=\"M18.56 5.44l.94 2.06.94-2.06 2.06-.94-2.06-.94-.94-2.06-.94 2.06-2.06.94zm-11 1L8.5 8.5l.94-2.06 2.06-.94-2.06-.94L8.5 2.5l-.94 2.06-2.06.94zm10 10l.94 2.06.94-2.06 2.06-.94-2.06-.94-.94-2.06-.94 2.06-2.06.94z\"/><path d=\"M17.41 7.96l-1.37-1.37c-.4-.4-.92-.59-1.43-.59-.52 0-1.04.2-1.43.59L10.3 9.45l-7.72 7.72c-.78.78-.78 2.05 0 2.83L4 21.41c.39.39.9.59 1.41.59.51 0 1.02-.2 1.41-.59l7.78-7.78 2.81-2.81c.8-.78.8-2.07 0-2.86zM5.41 20L4 18.59l7.72-7.72 1.47 1.35L5.41 20z\"/>\n",
              "  </svg>\n",
              "      </button>\n",
              "      \n",
              "  <style>\n",
              "    .colab-df-container {\n",
              "      display:flex;\n",
              "      flex-wrap:wrap;\n",
              "      gap: 12px;\n",
              "    }\n",
              "\n",
              "    .colab-df-convert {\n",
              "      background-color: #E8F0FE;\n",
              "      border: none;\n",
              "      border-radius: 50%;\n",
              "      cursor: pointer;\n",
              "      display: none;\n",
              "      fill: #1967D2;\n",
              "      height: 32px;\n",
              "      padding: 0 0 0 0;\n",
              "      width: 32px;\n",
              "    }\n",
              "\n",
              "    .colab-df-convert:hover {\n",
              "      background-color: #E2EBFA;\n",
              "      box-shadow: 0px 1px 2px rgba(60, 64, 67, 0.3), 0px 1px 3px 1px rgba(60, 64, 67, 0.15);\n",
              "      fill: #174EA6;\n",
              "    }\n",
              "\n",
              "    [theme=dark] .colab-df-convert {\n",
              "      background-color: #3B4455;\n",
              "      fill: #D2E3FC;\n",
              "    }\n",
              "\n",
              "    [theme=dark] .colab-df-convert:hover {\n",
              "      background-color: #434B5C;\n",
              "      box-shadow: 0px 1px 3px 1px rgba(0, 0, 0, 0.15);\n",
              "      filter: drop-shadow(0px 1px 2px rgba(0, 0, 0, 0.3));\n",
              "      fill: #FFFFFF;\n",
              "    }\n",
              "  </style>\n",
              "\n",
              "      <script>\n",
              "        const buttonEl =\n",
              "          document.querySelector('#df-2df2a545-76f7-4ebd-bfe1-8215926b7cb7 button.colab-df-convert');\n",
              "        buttonEl.style.display =\n",
              "          google.colab.kernel.accessAllowed ? 'block' : 'none';\n",
              "\n",
              "        async function convertToInteractive(key) {\n",
              "          const element = document.querySelector('#df-2df2a545-76f7-4ebd-bfe1-8215926b7cb7');\n",
              "          const dataTable =\n",
              "            await google.colab.kernel.invokeFunction('convertToInteractive',\n",
              "                                                     [key], {});\n",
              "          if (!dataTable) return;\n",
              "\n",
              "          const docLinkHtml = 'Like what you see? Visit the ' +\n",
              "            '<a target=\"_blank\" href=https://colab.research.google.com/notebooks/data_table.ipynb>data table notebook</a>'\n",
              "            + ' to learn more about interactive tables.';\n",
              "          element.innerHTML = '';\n",
              "          dataTable['output_type'] = 'display_data';\n",
              "          await google.colab.output.renderOutput(dataTable, element);\n",
              "          const docLink = document.createElement('div');\n",
              "          docLink.innerHTML = docLinkHtml;\n",
              "          element.appendChild(docLink);\n",
              "        }\n",
              "      </script>\n",
              "    </div>\n",
              "  </div>\n",
              "  "
            ],
            "text/plain": [
              "                                                     text  toxic\n",
              "0       explanation why the edits made under my userna...      0\n",
              "1       d'aww! he matches this background colour i'm s...      0\n",
              "2       hey man, i'm really not trying to edit war. it...      0\n",
              "3       \" more i can't make any real suggestions on im...      0\n",
              "4       you, sir, are my hero. any chance you remember...      0\n",
              "...                                                   ...    ...\n",
              "159446  \" and for the second time of asking, when your...      0\n",
              "159447  you should be ashamed of yourself that is a ho...      0\n",
              "159448  spitzer umm, theres no actual article for pros...      0\n",
              "159449  and it looks like it was actually you who put ...      0\n",
              "159450  \" and ... i really don't think you understand....      0\n",
              "\n",
              "[161852 rows x 2 columns]"
            ]
          },
          "execution_count": 19,
          "metadata": {},
          "output_type": "execute_result"
        }
      ],
      "source": [
        "data"
      ]
    },
    {
      "cell_type": "markdown",
      "metadata": {
        "id": "a5fo4P4ucn-E"
      },
      "source": [
        "### Лематизация"
      ]
    },
    {
      "cell_type": "code",
      "execution_count": null,
      "metadata": {
        "id": "SwOjiSIecn-E"
      },
      "outputs": [],
      "source": [
        "# Загрузка предварительно обученной модели для английского языка\n",
        "nlp = spacy.load(\"en_core_web_sm\", disable=['parser', 'ner'])"
      ]
    },
    {
      "cell_type": "code",
      "execution_count": null,
      "metadata": {
        "id": "tggnWiq7cn-E"
      },
      "outputs": [],
      "source": [
        "# Функция для лемматизации текста\n",
        "def lemmatize_text(text):\n",
        "    doc = nlp(text)\n",
        "    lemmas = [token.lemma_ for token in doc]\n",
        "    return ' '.join(lemmas)"
      ]
    },
    {
      "cell_type": "code",
      "execution_count": null,
      "metadata": {
        "colab": {
          "base_uri": "https://localhost:8080/",
          "height": 104,
          "referenced_widgets": [
            "893c1b45ddc04c419cf59c8bcc54816c",
            "64c2c0eac686459293a0cacab8990dd4",
            "997befe07f6d49d0ad7b5e9537c9159f",
            "6ec3f00055e449a2b2865edcad72c31d",
            "fbdb0cb328c54bb483d26cec9c3407bc",
            "cb44972b1c9041ac8da343add1da34bc",
            "67b21bc71e2a43538350b5728ad4508c",
            "0060c57f73514d159594810d45c9a81c",
            "678429d488d5403991e1e692d45d5fcd",
            "1de01a6de235438fbbac9801ec55cad4",
            "d34182d71c6f4358b65bd1b3e0b8beff"
          ]
        },
        "id": "NExo5ccScn-F",
        "outputId": "f3565aa6-ee40-4eca-cf6b-0b480a2570af",
        "scrolled": true
      },
      "outputs": [
        {
          "name": "stderr",
          "output_type": "stream",
          "text": [
            "/usr/local/lib/python3.10/dist-packages/swifter/swifter.py:87: UserWarning: This pandas object has duplicate indices, and swifter may not be able to improve performance. Consider resetting the indices with `df.reset_index(drop=True)`.\n",
            "  warnings.warn(\n"
          ]
        },
        {
          "data": {
            "application/vnd.jupyter.widget-view+json": {
              "model_id": "893c1b45ddc04c419cf59c8bcc54816c",
              "version_major": 2,
              "version_minor": 0
            },
            "text/plain": [
              "Pandas Apply:   0%|          | 0/161852 [00:00<?, ?it/s]"
            ]
          },
          "metadata": {},
          "output_type": "display_data"
        }
      ],
      "source": [
        "data['lemmatized_text'] = data['text'].swifter.apply(lemmatize_text)"
      ]
    },
    {
      "cell_type": "code",
      "execution_count": null,
      "metadata": {
        "colab": {
          "base_uri": "https://localhost:8080/",
          "height": 424
        },
        "id": "cDXkQ4yhcn-F",
        "outputId": "ab1b4622-e86c-4ab5-eeae-54e9a19888e3"
      },
      "outputs": [
        {
          "data": {
            "text/html": [
              "\n",
              "  <div id=\"df-7e80ecb9-3017-4159-a562-22114509f004\">\n",
              "    <div class=\"colab-df-container\">\n",
              "      <div>\n",
              "<style scoped>\n",
              "    .dataframe tbody tr th:only-of-type {\n",
              "        vertical-align: middle;\n",
              "    }\n",
              "\n",
              "    .dataframe tbody tr th {\n",
              "        vertical-align: top;\n",
              "    }\n",
              "\n",
              "    .dataframe thead th {\n",
              "        text-align: right;\n",
              "    }\n",
              "</style>\n",
              "<table border=\"1\" class=\"dataframe\">\n",
              "  <thead>\n",
              "    <tr style=\"text-align: right;\">\n",
              "      <th></th>\n",
              "      <th>text</th>\n",
              "      <th>toxic</th>\n",
              "      <th>lemmatized_text</th>\n",
              "    </tr>\n",
              "  </thead>\n",
              "  <tbody>\n",
              "    <tr>\n",
              "      <th>0</th>\n",
              "      <td>explanation why the edits made under my userna...</td>\n",
              "      <td>0</td>\n",
              "      <td>explanation why the edit make under my usernam...</td>\n",
              "    </tr>\n",
              "    <tr>\n",
              "      <th>1</th>\n",
              "      <td>d'aww! he matches this background colour i'm s...</td>\n",
              "      <td>0</td>\n",
              "      <td>d'aww ! he match this background colour I be s...</td>\n",
              "    </tr>\n",
              "    <tr>\n",
              "      <th>2</th>\n",
              "      <td>hey man, i'm really not trying to edit war. it...</td>\n",
              "      <td>0</td>\n",
              "      <td>hey man , I be really not try to edit war . it...</td>\n",
              "    </tr>\n",
              "    <tr>\n",
              "      <th>3</th>\n",
              "      <td>\" more i can't make any real suggestions on im...</td>\n",
              "      <td>0</td>\n",
              "      <td>\" more I can not make any real suggestion on i...</td>\n",
              "    </tr>\n",
              "    <tr>\n",
              "      <th>4</th>\n",
              "      <td>you, sir, are my hero. any chance you remember...</td>\n",
              "      <td>0</td>\n",
              "      <td>you , sir , be my hero . any chance you rememb...</td>\n",
              "    </tr>\n",
              "    <tr>\n",
              "      <th>...</th>\n",
              "      <td>...</td>\n",
              "      <td>...</td>\n",
              "      <td>...</td>\n",
              "    </tr>\n",
              "    <tr>\n",
              "      <th>159446</th>\n",
              "      <td>\" and for the second time of asking, when your...</td>\n",
              "      <td>0</td>\n",
              "      <td>\" and for the second time of asking , when you...</td>\n",
              "    </tr>\n",
              "    <tr>\n",
              "      <th>159447</th>\n",
              "      <td>you should be ashamed of yourself that is a ho...</td>\n",
              "      <td>0</td>\n",
              "      <td>you should be ashamed of yourself that be a ho...</td>\n",
              "    </tr>\n",
              "    <tr>\n",
              "      <th>159448</th>\n",
              "      <td>spitzer umm, theres no actual article for pros...</td>\n",
              "      <td>0</td>\n",
              "      <td>spitzer umm , there s no actual article for pr...</td>\n",
              "    </tr>\n",
              "    <tr>\n",
              "      <th>159449</th>\n",
              "      <td>and it looks like it was actually you who put ...</td>\n",
              "      <td>0</td>\n",
              "      <td>and it look like it be actually you who put on...</td>\n",
              "    </tr>\n",
              "    <tr>\n",
              "      <th>159450</th>\n",
              "      <td>\" and ... i really don't think you understand....</td>\n",
              "      <td>0</td>\n",
              "      <td>\" and ... I really do not think you understand...</td>\n",
              "    </tr>\n",
              "  </tbody>\n",
              "</table>\n",
              "<p>161852 rows × 3 columns</p>\n",
              "</div>\n",
              "      <button class=\"colab-df-convert\" onclick=\"convertToInteractive('df-7e80ecb9-3017-4159-a562-22114509f004')\"\n",
              "              title=\"Convert this dataframe to an interactive table.\"\n",
              "              style=\"display:none;\">\n",
              "        \n",
              "  <svg xmlns=\"http://www.w3.org/2000/svg\" height=\"24px\"viewBox=\"0 0 24 24\"\n",
              "       width=\"24px\">\n",
              "    <path d=\"M0 0h24v24H0V0z\" fill=\"none\"/>\n",
              "    <path d=\"M18.56 5.44l.94 2.06.94-2.06 2.06-.94-2.06-.94-.94-2.06-.94 2.06-2.06.94zm-11 1L8.5 8.5l.94-2.06 2.06-.94-2.06-.94L8.5 2.5l-.94 2.06-2.06.94zm10 10l.94 2.06.94-2.06 2.06-.94-2.06-.94-.94-2.06-.94 2.06-2.06.94z\"/><path d=\"M17.41 7.96l-1.37-1.37c-.4-.4-.92-.59-1.43-.59-.52 0-1.04.2-1.43.59L10.3 9.45l-7.72 7.72c-.78.78-.78 2.05 0 2.83L4 21.41c.39.39.9.59 1.41.59.51 0 1.02-.2 1.41-.59l7.78-7.78 2.81-2.81c.8-.78.8-2.07 0-2.86zM5.41 20L4 18.59l7.72-7.72 1.47 1.35L5.41 20z\"/>\n",
              "  </svg>\n",
              "      </button>\n",
              "      \n",
              "  <style>\n",
              "    .colab-df-container {\n",
              "      display:flex;\n",
              "      flex-wrap:wrap;\n",
              "      gap: 12px;\n",
              "    }\n",
              "\n",
              "    .colab-df-convert {\n",
              "      background-color: #E8F0FE;\n",
              "      border: none;\n",
              "      border-radius: 50%;\n",
              "      cursor: pointer;\n",
              "      display: none;\n",
              "      fill: #1967D2;\n",
              "      height: 32px;\n",
              "      padding: 0 0 0 0;\n",
              "      width: 32px;\n",
              "    }\n",
              "\n",
              "    .colab-df-convert:hover {\n",
              "      background-color: #E2EBFA;\n",
              "      box-shadow: 0px 1px 2px rgba(60, 64, 67, 0.3), 0px 1px 3px 1px rgba(60, 64, 67, 0.15);\n",
              "      fill: #174EA6;\n",
              "    }\n",
              "\n",
              "    [theme=dark] .colab-df-convert {\n",
              "      background-color: #3B4455;\n",
              "      fill: #D2E3FC;\n",
              "    }\n",
              "\n",
              "    [theme=dark] .colab-df-convert:hover {\n",
              "      background-color: #434B5C;\n",
              "      box-shadow: 0px 1px 3px 1px rgba(0, 0, 0, 0.15);\n",
              "      filter: drop-shadow(0px 1px 2px rgba(0, 0, 0, 0.3));\n",
              "      fill: #FFFFFF;\n",
              "    }\n",
              "  </style>\n",
              "\n",
              "      <script>\n",
              "        const buttonEl =\n",
              "          document.querySelector('#df-7e80ecb9-3017-4159-a562-22114509f004 button.colab-df-convert');\n",
              "        buttonEl.style.display =\n",
              "          google.colab.kernel.accessAllowed ? 'block' : 'none';\n",
              "\n",
              "        async function convertToInteractive(key) {\n",
              "          const element = document.querySelector('#df-7e80ecb9-3017-4159-a562-22114509f004');\n",
              "          const dataTable =\n",
              "            await google.colab.kernel.invokeFunction('convertToInteractive',\n",
              "                                                     [key], {});\n",
              "          if (!dataTable) return;\n",
              "\n",
              "          const docLinkHtml = 'Like what you see? Visit the ' +\n",
              "            '<a target=\"_blank\" href=https://colab.research.google.com/notebooks/data_table.ipynb>data table notebook</a>'\n",
              "            + ' to learn more about interactive tables.';\n",
              "          element.innerHTML = '';\n",
              "          dataTable['output_type'] = 'display_data';\n",
              "          await google.colab.output.renderOutput(dataTable, element);\n",
              "          const docLink = document.createElement('div');\n",
              "          docLink.innerHTML = docLinkHtml;\n",
              "          element.appendChild(docLink);\n",
              "        }\n",
              "      </script>\n",
              "    </div>\n",
              "  </div>\n",
              "  "
            ],
            "text/plain": [
              "                                                     text  toxic  \\\n",
              "0       explanation why the edits made under my userna...      0   \n",
              "1       d'aww! he matches this background colour i'm s...      0   \n",
              "2       hey man, i'm really not trying to edit war. it...      0   \n",
              "3       \" more i can't make any real suggestions on im...      0   \n",
              "4       you, sir, are my hero. any chance you remember...      0   \n",
              "...                                                   ...    ...   \n",
              "159446  \" and for the second time of asking, when your...      0   \n",
              "159447  you should be ashamed of yourself that is a ho...      0   \n",
              "159448  spitzer umm, theres no actual article for pros...      0   \n",
              "159449  and it looks like it was actually you who put ...      0   \n",
              "159450  \" and ... i really don't think you understand....      0   \n",
              "\n",
              "                                          lemmatized_text  \n",
              "0       explanation why the edit make under my usernam...  \n",
              "1       d'aww ! he match this background colour I be s...  \n",
              "2       hey man , I be really not try to edit war . it...  \n",
              "3       \" more I can not make any real suggestion on i...  \n",
              "4       you , sir , be my hero . any chance you rememb...  \n",
              "...                                                   ...  \n",
              "159446  \" and for the second time of asking , when you...  \n",
              "159447  you should be ashamed of yourself that be a ho...  \n",
              "159448  spitzer umm , there s no actual article for pr...  \n",
              "159449  and it look like it be actually you who put on...  \n",
              "159450  \" and ... I really do not think you understand...  \n",
              "\n",
              "[161852 rows x 3 columns]"
            ]
          },
          "execution_count": 23,
          "metadata": {},
          "output_type": "execute_result"
        }
      ],
      "source": [
        "data"
      ]
    },
    {
      "cell_type": "markdown",
      "metadata": {
        "id": "g3vrYxbqcn-F"
      },
      "source": [
        "### Делим на выборки"
      ]
    },
    {
      "cell_type": "code",
      "execution_count": null,
      "metadata": {
        "id": "yTdvgoZXcn-F"
      },
      "outputs": [],
      "source": [
        "features = data.drop(['toxic', 'text'], axis=1)\n",
        "target = data['toxic']"
      ]
    },
    {
      "cell_type": "code",
      "execution_count": null,
      "metadata": {
        "id": "wZ06N-nbcn-G"
      },
      "outputs": [],
      "source": [
        "train_features, test_features = train_test_split(features, test_size=0.2, random_state=12345)\n",
        "train_target, test_target = train_test_split(target, test_size=0.2, random_state=12345)"
      ]
    },
    {
      "cell_type": "code",
      "execution_count": null,
      "metadata": {
        "id": "nNDiCV6rcn-G"
      },
      "outputs": [],
      "source": [
        "train_features = train_features['lemmatized_text'].to_list()\n",
        "test_features = test_features['lemmatized_text'].to_list()"
      ]
    },
    {
      "cell_type": "markdown",
      "metadata": {
        "id": "oInN3_Ricn-G"
      },
      "source": [
        "### Токенизация"
      ]
    },
    {
      "cell_type": "code",
      "execution_count": null,
      "metadata": {
        "colab": {
          "base_uri": "https://localhost:8080/"
        },
        "id": "igsRoGgIcn-G",
        "outputId": "ae1610d9-3483-41ba-86ae-7a5fbeb9cfde"
      },
      "outputs": [
        {
          "name": "stderr",
          "output_type": "stream",
          "text": [
            "[nltk_data] Downloading package stopwords to /root/nltk_data...\n",
            "[nltk_data]   Package stopwords is already up-to-date!\n"
          ]
        }
      ],
      "source": [
        "nltk.download('stopwords')\n",
        "stop_words = list(stopwords.words('english'))"
      ]
    },
    {
      "cell_type": "code",
      "execution_count": null,
      "metadata": {
        "id": "lFDH_-oEcn-G"
      },
      "outputs": [],
      "source": [
        "#Делаем мешок слов\n",
        "# stop_words = list(stopwords.words('english'))\n",
        "# count_tf_idf = TfidfVectorizer(stop_words=stop_words)\n",
        "# bow_train = count_tf_idf.fit_transform(train_features)\n",
        "# bow_test = count_tf_idf.transform(test_features)"
      ]
    },
    {
      "cell_type": "code",
      "execution_count": null,
      "metadata": {
        "id": "omaBg0aScn-H"
      },
      "outputs": [],
      "source": [
        "#bow_train.shape, bow_test.shape"
      ]
    },
    {
      "cell_type": "markdown",
      "metadata": {
        "id": "tOVkcgr_o6zj"
      },
      "source": [
        "Мы загрузили все необходимые библиотеки и открыли данные, удалили из текстов лишние символы, которые могут плохо повлиять на качество предсказания, лемматизировали тексты, поделили на обучающие и тестовые выборки, токенизировали и векторизировали данные"
      ]
    },
    {
      "cell_type": "markdown",
      "metadata": {
        "id": "OahshTjmcv8-"
      },
      "source": [
        "### Трубопровод"
      ]
    },
    {
      "cell_type": "code",
      "execution_count": null,
      "metadata": {
        "id": "sVhoNS_0czmI"
      },
      "outputs": [],
      "source": [
        "log_reg_pipe = Pipeline([\n",
        "    ('vectorizer', TfidfVectorizer(stop_words=stop_words)),\n",
        "    ('model', LogisticRegression())\n",
        "])"
      ]
    },
    {
      "cell_type": "code",
      "execution_count": null,
      "metadata": {
        "id": "PfrlEX78dfdR"
      },
      "outputs": [],
      "source": [
        "cb_classifier_pipe = Pipeline([\n",
        "    ('vectorizer', TfidfVectorizer(stop_words=stop_words)),\n",
        "    ('model', cb.CatBoostClassifier(eval_metric='F1',early_stopping_rounds = 20, verbose = 10))\n",
        "])"
      ]
    },
    {
      "cell_type": "markdown",
      "metadata": {
        "id": "RoxOQIRscn-I"
      },
      "source": [
        "## Обучение"
      ]
    },
    {
      "cell_type": "markdown",
      "metadata": {
        "id": "uAjQ-YPCtZHm"
      },
      "source": [
        "У нас задача классификации, так как целевой признак может быть 1 или 0. Воспользуемся двумя моделями: логистической регрессией и catboost"
      ]
    },
    {
      "cell_type": "code",
      "execution_count": null,
      "metadata": {
        "id": "8X9cVZHWWzsu"
      },
      "outputs": [],
      "source": [
        "best_model = None\n",
        "best_score = 0\n",
        "best_params = None\n",
        "best_estimator = None"
      ]
    },
    {
      "cell_type": "markdown",
      "metadata": {
        "id": "VVaMSu04gXOE"
      },
      "source": [
        "### Логистическая регрессия"
      ]
    },
    {
      "cell_type": "code",
      "execution_count": null,
      "metadata": {
        "colab": {
          "base_uri": "https://localhost:8080/"
        },
        "id": "33dMCLlEeYVJ",
        "outputId": "30de7a62-366f-4ecd-b926-d1b7a7462ceb",
        "scrolled": true
      },
      "outputs": [
        {
          "name": "stderr",
          "output_type": "stream",
          "text": [
            "/usr/local/lib/python3.10/dist-packages/sklearn/linear_model/_logistic.py:458: ConvergenceWarning: lbfgs failed to converge (status=1):\n",
            "STOP: TOTAL NO. of ITERATIONS REACHED LIMIT.\n",
            "\n",
            "Increase the number of iterations (max_iter) or scale the data as shown in:\n",
            "    https://scikit-learn.org/stable/modules/preprocessing.html\n",
            "Please also refer to the documentation for alternative solver options:\n",
            "    https://scikit-learn.org/stable/modules/linear_model.html#logistic-regression\n",
            "  n_iter_i = _check_optimize_result(\n",
            "/usr/local/lib/python3.10/dist-packages/sklearn/linear_model/_logistic.py:458: ConvergenceWarning: lbfgs failed to converge (status=1):\n",
            "STOP: TOTAL NO. of ITERATIONS REACHED LIMIT.\n",
            "\n",
            "Increase the number of iterations (max_iter) or scale the data as shown in:\n",
            "    https://scikit-learn.org/stable/modules/preprocessing.html\n",
            "Please also refer to the documentation for alternative solver options:\n",
            "    https://scikit-learn.org/stable/modules/linear_model.html#logistic-regression\n",
            "  n_iter_i = _check_optimize_result(\n",
            "/usr/local/lib/python3.10/dist-packages/sklearn/linear_model/_logistic.py:458: ConvergenceWarning: lbfgs failed to converge (status=1):\n",
            "STOP: TOTAL NO. of ITERATIONS REACHED LIMIT.\n",
            "\n",
            "Increase the number of iterations (max_iter) or scale the data as shown in:\n",
            "    https://scikit-learn.org/stable/modules/preprocessing.html\n",
            "Please also refer to the documentation for alternative solver options:\n",
            "    https://scikit-learn.org/stable/modules/linear_model.html#logistic-regression\n",
            "  n_iter_i = _check_optimize_result(\n"
          ]
        },
        {
          "name": "stdout",
          "output_type": "stream",
          "text": [
            "Лучшие параметры: {'model__C': 10, 'model__max_iter': 400}\n",
            "Лучший результат: 0.7770319531299276\n"
          ]
        }
      ],
      "source": [
        "param_grid = {\n",
        "    'model__C': [1, 10, 100],\n",
        "    'model__max_iter' : [400, 800, 1400]\n",
        "}\n",
        "\n",
        "grid = GridSearchCV(estimator=log_reg_pipe, param_grid=param_grid, cv=3, scoring='f1', error_score='raise')\n",
        "grid.fit(train_features, train_target)\n",
        "\n",
        "#Присваивает только лучшую модель\n",
        "if grid.best_score_ > best_score:\n",
        "    best_score = grid.best_score_\n",
        "    best_params = grid.best_params_\n",
        "    best_estimator = grid.best_estimator_\n",
        "\n",
        "print(\"Лучшие параметры:\", grid.best_params_)\n",
        "print(\"Лучший результат:\", grid.best_score_)"
      ]
    },
    {
      "cell_type": "markdown",
      "metadata": {
        "id": "5EkO6h4XhfDS"
      },
      "source": [
        "### Catboost"
      ]
    },
    {
      "cell_type": "code",
      "execution_count": null,
      "metadata": {
        "colab": {
          "base_uri": "https://localhost:8080/"
        },
        "collapsed": true,
        "id": "Ep7QG3tBW9X-",
        "outputId": "49c61f0b-bacf-414c-eb30-7c4f3548c82f"
      },
      "outputs": [
        {
          "name": "stdout",
          "output_type": "stream",
          "text": [
            "Learning rate set to 0.208513\n",
            "0:\tlearn: 0.4434852\ttotal: 2.71s\tremaining: 13m 32s\n",
            "10:\tlearn: 0.5688383\ttotal: 19.3s\tremaining: 8m 28s\n",
            "20:\tlearn: 0.6120870\ttotal: 35.9s\tremaining: 7m 57s\n",
            "30:\tlearn: 0.6418990\ttotal: 52.4s\tremaining: 7m 34s\n",
            "40:\tlearn: 0.6648979\ttotal: 1m 9s\tremaining: 7m 19s\n",
            "50:\tlearn: 0.6763546\ttotal: 1m 26s\tremaining: 7m 4s\n",
            "60:\tlearn: 0.6915269\ttotal: 1m 43s\tremaining: 6m 43s\n",
            "70:\tlearn: 0.7011429\ttotal: 1m 59s\tremaining: 6m 24s\n",
            "80:\tlearn: 0.7083865\ttotal: 2m 15s\tremaining: 6m 5s\n",
            "90:\tlearn: 0.7162515\ttotal: 2m 31s\tremaining: 5m 47s\n",
            "100:\tlearn: 0.7247128\ttotal: 2m 47s\tremaining: 5m 29s\n",
            "110:\tlearn: 0.7311469\ttotal: 3m 4s\tremaining: 5m 14s\n",
            "120:\tlearn: 0.7362439\ttotal: 3m 21s\tremaining: 4m 57s\n",
            "130:\tlearn: 0.7439268\ttotal: 3m 37s\tremaining: 4m 40s\n",
            "140:\tlearn: 0.7491263\ttotal: 3m 53s\tremaining: 4m 23s\n",
            "150:\tlearn: 0.7522911\ttotal: 4m 9s\tremaining: 4m 6s\n",
            "160:\tlearn: 0.7575221\ttotal: 4m 25s\tremaining: 3m 49s\n",
            "170:\tlearn: 0.7600869\ttotal: 4m 41s\tremaining: 3m 32s\n",
            "180:\tlearn: 0.7621889\ttotal: 4m 59s\tremaining: 3m 16s\n",
            "190:\tlearn: 0.7638211\ttotal: 5m 15s\tremaining: 3m\n",
            "200:\tlearn: 0.7661187\ttotal: 5m 31s\tremaining: 2m 43s\n",
            "210:\tlearn: 0.7693553\ttotal: 5m 47s\tremaining: 2m 26s\n",
            "220:\tlearn: 0.7723692\ttotal: 6m 4s\tremaining: 2m 10s\n",
            "230:\tlearn: 0.7744755\ttotal: 6m 20s\tremaining: 1m 53s\n",
            "240:\tlearn: 0.7764121\ttotal: 6m 36s\tremaining: 1m 37s\n",
            "250:\tlearn: 0.7792295\ttotal: 6m 53s\tremaining: 1m 20s\n",
            "260:\tlearn: 0.7815216\ttotal: 7m 10s\tremaining: 1m 4s\n",
            "270:\tlearn: 0.7837296\ttotal: 7m 26s\tremaining: 47.8s\n",
            "280:\tlearn: 0.7859808\ttotal: 7m 42s\tremaining: 31.3s\n",
            "290:\tlearn: 0.7886444\ttotal: 7m 58s\tremaining: 14.8s\n",
            "299:\tlearn: 0.7903429\ttotal: 8m 13s\tremaining: 0us\n",
            "Learning rate set to 0.208514\n",
            "0:\tlearn: 0.4051732\ttotal: 2.93s\tremaining: 14m 37s\n",
            "10:\tlearn: 0.5752050\ttotal: 23.3s\tremaining: 10m 10s\n",
            "20:\tlearn: 0.6058337\ttotal: 45.1s\tremaining: 9m 59s\n",
            "30:\tlearn: 0.6350754\ttotal: 1m 5s\tremaining: 9m 24s\n",
            "40:\tlearn: 0.6627579\ttotal: 1m 26s\tremaining: 9m 8s\n",
            "50:\tlearn: 0.6837619\ttotal: 1m 46s\tremaining: 8m 41s\n",
            "60:\tlearn: 0.6927576\ttotal: 2m 7s\tremaining: 8m 20s\n",
            "70:\tlearn: 0.7023502\ttotal: 2m 28s\tremaining: 7m 57s\n",
            "80:\tlearn: 0.7221441\ttotal: 2m 48s\tremaining: 7m 34s\n",
            "90:\tlearn: 0.7313058\ttotal: 3m 9s\tremaining: 7m 15s\n",
            "100:\tlearn: 0.7377334\ttotal: 3m 29s\tremaining: 6m 52s\n",
            "110:\tlearn: 0.7413101\ttotal: 3m 50s\tremaining: 6m 33s\n",
            "120:\tlearn: 0.7461018\ttotal: 4m 10s\tremaining: 6m 10s\n",
            "130:\tlearn: 0.7514252\ttotal: 4m 31s\tremaining: 5m 50s\n",
            "140:\tlearn: 0.7587289\ttotal: 4m 51s\tremaining: 5m 28s\n",
            "150:\tlearn: 0.7614573\ttotal: 5m 11s\tremaining: 5m 7s\n",
            "160:\tlearn: 0.7674166\ttotal: 5m 33s\tremaining: 4m 47s\n",
            "170:\tlearn: 0.7720861\ttotal: 5m 52s\tremaining: 4m 26s\n",
            "180:\tlearn: 0.7740631\ttotal: 6m 14s\tremaining: 4m 6s\n",
            "190:\tlearn: 0.7747153\ttotal: 6m 34s\tremaining: 3m 45s\n",
            "200:\tlearn: 0.7779868\ttotal: 6m 55s\tremaining: 3m 24s\n",
            "210:\tlearn: 0.7785542\ttotal: 7m 15s\tremaining: 3m 3s\n",
            "220:\tlearn: 0.7799088\ttotal: 7m 38s\tremaining: 2m 43s\n",
            "230:\tlearn: 0.7818462\ttotal: 7m 59s\tremaining: 2m 23s\n",
            "240:\tlearn: 0.7833935\ttotal: 8m 21s\tremaining: 2m 2s\n",
            "250:\tlearn: 0.7875758\ttotal: 8m 40s\tremaining: 1m 41s\n",
            "260:\tlearn: 0.7884436\ttotal: 9m 1s\tremaining: 1m 20s\n",
            "270:\tlearn: 0.7919793\ttotal: 9m 22s\tremaining: 1m\n",
            "280:\tlearn: 0.7937413\ttotal: 9m 44s\tremaining: 39.5s\n",
            "290:\tlearn: 0.7960304\ttotal: 10m 13s\tremaining: 19s\n",
            "299:\tlearn: 0.7982288\ttotal: 10m 33s\tremaining: 0us\n",
            "Learning rate set to 0.208514\n",
            "0:\tlearn: 0.4027174\ttotal: 1.79s\tremaining: 8m 54s\n",
            "10:\tlearn: 0.5805115\ttotal: 22.9s\tremaining: 10m 2s\n",
            "20:\tlearn: 0.6058906\ttotal: 44.6s\tremaining: 9m 52s\n",
            "30:\tlearn: 0.6317637\ttotal: 1m 5s\tremaining: 9m 26s\n",
            "40:\tlearn: 0.6593701\ttotal: 1m 26s\tremaining: 9m 8s\n",
            "50:\tlearn: 0.6775211\ttotal: 1m 47s\tremaining: 8m 42s\n",
            "60:\tlearn: 0.6922966\ttotal: 2m 9s\tremaining: 8m 25s\n",
            "70:\tlearn: 0.7010943\ttotal: 2m 29s\tremaining: 8m 1s\n",
            "80:\tlearn: 0.7118164\ttotal: 2m 51s\tremaining: 7m 42s\n",
            "90:\tlearn: 0.7176014\ttotal: 3m 11s\tremaining: 7m 19s\n",
            "100:\tlearn: 0.7234700\ttotal: 3m 33s\tremaining: 7m\n",
            "110:\tlearn: 0.7278065\ttotal: 3m 53s\tremaining: 6m 37s\n",
            "120:\tlearn: 0.7343056\ttotal: 4m 15s\tremaining: 6m 17s\n",
            "130:\tlearn: 0.7400277\ttotal: 4m 36s\tremaining: 5m 56s\n",
            "140:\tlearn: 0.7445810\ttotal: 4m 58s\tremaining: 5m 36s\n",
            "150:\tlearn: 0.7509442\ttotal: 5m 18s\tremaining: 5m 14s\n",
            "160:\tlearn: 0.7566311\ttotal: 5m 39s\tremaining: 4m 53s\n",
            "170:\tlearn: 0.7595334\ttotal: 6m\tremaining: 4m 31s\n",
            "180:\tlearn: 0.7622806\ttotal: 6m 20s\tremaining: 4m 9s\n",
            "190:\tlearn: 0.7637624\ttotal: 6m 41s\tremaining: 3m 49s\n",
            "200:\tlearn: 0.7667684\ttotal: 7m 1s\tremaining: 3m 27s\n",
            "210:\tlearn: 0.7699384\ttotal: 7m 23s\tremaining: 3m 7s\n",
            "220:\tlearn: 0.7724110\ttotal: 7m 43s\tremaining: 2m 45s\n",
            "230:\tlearn: 0.7767095\ttotal: 8m 5s\tremaining: 2m 25s\n",
            "240:\tlearn: 0.7786352\ttotal: 8m 25s\tremaining: 2m 3s\n",
            "250:\tlearn: 0.7824573\ttotal: 8m 47s\tremaining: 1m 42s\n",
            "260:\tlearn: 0.7846781\ttotal: 9m 15s\tremaining: 1m 23s\n",
            "270:\tlearn: 0.7869443\ttotal: 9m 37s\tremaining: 1m 1s\n",
            "280:\tlearn: 0.7905180\ttotal: 9m 57s\tremaining: 40.4s\n",
            "290:\tlearn: 0.7934840\ttotal: 10m 19s\tremaining: 19.2s\n",
            "299:\tlearn: 0.7958060\ttotal: 10m 37s\tremaining: 0us\n",
            "Learning rate set to 0.095874\n",
            "0:\tlearn: 0.4434852\ttotal: 3.21s\tremaining: 37m 25s\n",
            "10:\tlearn: 0.4988152\ttotal: 20.2s\tremaining: 21m 3s\n",
            "20:\tlearn: 0.5550611\ttotal: 36.8s\tremaining: 19m 50s\n",
            "30:\tlearn: 0.5636027\ttotal: 54s\tremaining: 19m 24s\n",
            "40:\tlearn: 0.6035088\ttotal: 1m 10s\tremaining: 18m 54s\n",
            "50:\tlearn: 0.6137452\ttotal: 1m 28s\tremaining: 18m 46s\n",
            "60:\tlearn: 0.6252106\ttotal: 1m 45s\tremaining: 18m 27s\n",
            "70:\tlearn: 0.6379820\ttotal: 2m 2s\tremaining: 18m 2s\n",
            "80:\tlearn: 0.6541679\ttotal: 2m 18s\tremaining: 17m 39s\n",
            "90:\tlearn: 0.6589742\ttotal: 2m 35s\tremaining: 17m 17s\n",
            "100:\tlearn: 0.6625084\ttotal: 2m 51s\tremaining: 16m 57s\n",
            "110:\tlearn: 0.6682429\ttotal: 3m 9s\tremaining: 16m 45s\n",
            "120:\tlearn: 0.6768284\ttotal: 3m 27s\tremaining: 16m 32s\n",
            "130:\tlearn: 0.6822552\ttotal: 3m 43s\tremaining: 16m 11s\n",
            "140:\tlearn: 0.6875952\ttotal: 4m\tremaining: 15m 52s\n",
            "150:\tlearn: 0.6938746\ttotal: 4m 16s\tremaining: 15m 32s\n",
            "160:\tlearn: 0.6977312\ttotal: 4m 32s\tremaining: 15m 13s\n",
            "170:\tlearn: 0.7017167\ttotal: 4m 50s\tremaining: 14m 58s\n",
            "180:\tlearn: 0.7058572\ttotal: 5m 7s\tremaining: 14m 42s\n",
            "190:\tlearn: 0.7085999\ttotal: 5m 23s\tremaining: 14m 23s\n",
            "200:\tlearn: 0.7124415\ttotal: 5m 40s\tremaining: 14m 5s\n",
            "210:\tlearn: 0.7183357\ttotal: 5m 56s\tremaining: 13m 46s\n",
            "220:\tlearn: 0.7207778\ttotal: 6m 13s\tremaining: 13m 28s\n",
            "230:\tlearn: 0.7245278\ttotal: 6m 30s\tremaining: 13m 11s\n",
            "240:\tlearn: 0.7274381\ttotal: 6m 47s\tremaining: 12m 56s\n",
            "250:\tlearn: 0.7319624\ttotal: 7m 3s\tremaining: 12m 38s\n",
            "260:\tlearn: 0.7352839\ttotal: 7m 20s\tremaining: 12m 20s\n",
            "270:\tlearn: 0.7382867\ttotal: 7m 36s\tremaining: 12m 2s\n",
            "280:\tlearn: 0.7398796\ttotal: 7m 52s\tremaining: 11m 44s\n",
            "290:\tlearn: 0.7421826\ttotal: 8m 8s\tremaining: 11m 27s\n",
            "300:\tlearn: 0.7442438\ttotal: 8m 26s\tremaining: 11m 11s\n",
            "310:\tlearn: 0.7470576\ttotal: 8m 43s\tremaining: 10m 54s\n",
            "320:\tlearn: 0.7495194\ttotal: 9m\tremaining: 10m 37s\n",
            "330:\tlearn: 0.7532877\ttotal: 9m 16s\tremaining: 10m 20s\n",
            "340:\tlearn: 0.7543451\ttotal: 9m 32s\tremaining: 10m 2s\n",
            "350:\tlearn: 0.7555738\ttotal: 9m 49s\tremaining: 9m 45s\n",
            "360:\tlearn: 0.7580513\ttotal: 10m 5s\tremaining: 9m 28s\n",
            "370:\tlearn: 0.7586113\ttotal: 10m 23s\tremaining: 9m 12s\n",
            "380:\tlearn: 0.7595040\ttotal: 10m 39s\tremaining: 8m 55s\n",
            "390:\tlearn: 0.7610945\ttotal: 10m 55s\tremaining: 8m 38s\n",
            "400:\tlearn: 0.7622611\ttotal: 11m 11s\tremaining: 8m 20s\n",
            "410:\tlearn: 0.7630506\ttotal: 11m 28s\tremaining: 8m 3s\n",
            "420:\tlearn: 0.7649813\ttotal: 11m 44s\tremaining: 7m 46s\n",
            "430:\tlearn: 0.7656949\ttotal: 12m\tremaining: 7m 29s\n",
            "440:\tlearn: 0.7677205\ttotal: 12m 18s\tremaining: 7m 13s\n",
            "450:\tlearn: 0.7687623\ttotal: 12m 34s\tremaining: 6m 56s\n",
            "460:\tlearn: 0.7704475\ttotal: 12m 50s\tremaining: 6m 39s\n",
            "470:\tlearn: 0.7725861\ttotal: 13m 7s\tremaining: 6m 22s\n",
            "480:\tlearn: 0.7728347\ttotal: 13m 23s\tremaining: 6m 5s\n",
            "490:\tlearn: 0.7739371\ttotal: 13m 39s\tremaining: 5m 48s\n",
            "500:\tlearn: 0.7751447\ttotal: 13m 56s\tremaining: 5m 32s\n",
            "510:\tlearn: 0.7762600\ttotal: 14m 14s\tremaining: 5m 15s\n",
            "520:\tlearn: 0.7780616\ttotal: 14m 30s\tremaining: 4m 59s\n",
            "530:\tlearn: 0.7802979\ttotal: 14m 46s\tremaining: 4m 42s\n",
            "540:\tlearn: 0.7814072\ttotal: 15m 3s\tremaining: 4m 25s\n",
            "550:\tlearn: 0.7834472\ttotal: 15m 19s\tremaining: 4m 8s\n",
            "560:\tlearn: 0.7850692\ttotal: 15m 35s\tremaining: 3m 51s\n",
            "570:\tlearn: 0.7852941\ttotal: 15m 53s\tremaining: 3m 35s\n",
            "580:\tlearn: 0.7873774\ttotal: 16m 10s\tremaining: 3m 18s\n",
            "590:\tlearn: 0.7886103\ttotal: 16m 26s\tremaining: 3m 1s\n",
            "600:\tlearn: 0.7894632\ttotal: 16m 42s\tremaining: 2m 45s\n",
            "610:\tlearn: 0.7897299\ttotal: 16m 58s\tremaining: 2m 28s\n",
            "620:\tlearn: 0.7900807\ttotal: 17m 15s\tremaining: 2m 11s\n",
            "630:\tlearn: 0.7917748\ttotal: 17m 32s\tremaining: 1m 55s\n",
            "640:\tlearn: 0.7935643\ttotal: 17m 49s\tremaining: 1m 38s\n",
            "650:\tlearn: 0.7946316\ttotal: 18m 5s\tremaining: 1m 21s\n",
            "660:\tlearn: 0.7964977\ttotal: 18m 22s\tremaining: 1m 5s\n",
            "670:\tlearn: 0.7972408\ttotal: 18m 38s\tremaining: 48.3s\n",
            "680:\tlearn: 0.7981718\ttotal: 18m 55s\tremaining: 31.7s\n",
            "690:\tlearn: 0.8001587\ttotal: 19m 11s\tremaining: 15s\n",
            "699:\tlearn: 0.8016911\ttotal: 19m 27s\tremaining: 0us\n",
            "Learning rate set to 0.095874\n",
            "0:\tlearn: 0.4051732\ttotal: 1.78s\tremaining: 20m 45s\n",
            "10:\tlearn: 0.5437495\ttotal: 22.4s\tremaining: 23m 25s\n",
            "20:\tlearn: 0.5453803\ttotal: 45.1s\tremaining: 24m 16s\n",
            "30:\tlearn: 0.5796315\ttotal: 1m 5s\tremaining: 23m 36s\n",
            "40:\tlearn: 0.5821216\ttotal: 1m 28s\tremaining: 23m 34s\n",
            "50:\tlearn: 0.6099930\ttotal: 1m 48s\tremaining: 23m 2s\n",
            "60:\tlearn: 0.6207800\ttotal: 2m 10s\tremaining: 22m 51s\n",
            "70:\tlearn: 0.6344922\ttotal: 2m 31s\tremaining: 22m 21s\n",
            "80:\tlearn: 0.6404912\ttotal: 2m 53s\tremaining: 22m 6s\n",
            "90:\tlearn: 0.6514037\ttotal: 3m 14s\tremaining: 21m 38s\n",
            "100:\tlearn: 0.6577964\ttotal: 3m 36s\tremaining: 21m 23s\n",
            "110:\tlearn: 0.6723260\ttotal: 3m 56s\tremaining: 20m 56s\n",
            "120:\tlearn: 0.6793586\ttotal: 4m 18s\tremaining: 20m 38s\n",
            "130:\tlearn: 0.6876182\ttotal: 4m 39s\tremaining: 20m 12s\n",
            "140:\tlearn: 0.6941934\ttotal: 5m 1s\tremaining: 19m 54s\n",
            "150:\tlearn: 0.7024348\ttotal: 5m 21s\tremaining: 19m 29s\n",
            "160:\tlearn: 0.7078330\ttotal: 5m 43s\tremaining: 19m 11s\n",
            "170:\tlearn: 0.7118644\ttotal: 6m 4s\tremaining: 18m 46s\n",
            "180:\tlearn: 0.7163755\ttotal: 6m 26s\tremaining: 18m 27s\n",
            "190:\tlearn: 0.7190311\ttotal: 6m 46s\tremaining: 18m 3s\n",
            "200:\tlearn: 0.7273621\ttotal: 7m 8s\tremaining: 17m 43s\n",
            "210:\tlearn: 0.7315878\ttotal: 7m 28s\tremaining: 17m 20s\n",
            "220:\tlearn: 0.7324457\ttotal: 7m 50s\tremaining: 17m\n",
            "230:\tlearn: 0.7384037\ttotal: 8m 11s\tremaining: 16m 37s\n",
            "240:\tlearn: 0.7414356\ttotal: 8m 33s\tremaining: 16m 18s\n",
            "250:\tlearn: 0.7430435\ttotal: 8m 54s\tremaining: 15m 55s\n",
            "260:\tlearn: 0.7466796\ttotal: 9m 16s\tremaining: 15m 35s\n",
            "270:\tlearn: 0.7495689\ttotal: 9m 36s\tremaining: 15m 13s\n",
            "280:\tlearn: 0.7520650\ttotal: 9m 59s\tremaining: 14m 53s\n",
            "290:\tlearn: 0.7533021\ttotal: 10m 19s\tremaining: 14m 30s\n",
            "300:\tlearn: 0.7561227\ttotal: 10m 41s\tremaining: 14m 9s\n",
            "310:\tlearn: 0.7603170\ttotal: 11m 2s\tremaining: 13m 48s\n",
            "320:\tlearn: 0.7603939\ttotal: 11m 23s\tremaining: 13m 27s\n",
            "330:\tlearn: 0.7631202\ttotal: 11m 44s\tremaining: 13m 5s\n",
            "340:\tlearn: 0.7648100\ttotal: 12m 5s\tremaining: 12m 43s\n",
            "350:\tlearn: 0.7655665\ttotal: 12m 27s\tremaining: 12m 22s\n",
            "360:\tlearn: 0.7676946\ttotal: 12m 47s\tremaining: 12m\n",
            "370:\tlearn: 0.7691264\ttotal: 13m 9s\tremaining: 11m 40s\n",
            "380:\tlearn: 0.7696271\ttotal: 13m 29s\tremaining: 11m 17s\n",
            "390:\tlearn: 0.7703353\ttotal: 13m 51s\tremaining: 10m 57s\n",
            "400:\tlearn: 0.7714382\ttotal: 14m 11s\tremaining: 10m 34s\n",
            "410:\tlearn: 0.7732252\ttotal: 14m 33s\tremaining: 10m 14s\n",
            "420:\tlearn: 0.7747164\ttotal: 14m 54s\tremaining: 9m 52s\n",
            "430:\tlearn: 0.7754000\ttotal: 15m 16s\tremaining: 9m 31s\n",
            "440:\tlearn: 0.7763690\ttotal: 15m 36s\tremaining: 9m 9s\n",
            "450:\tlearn: 0.7774109\ttotal: 15m 58s\tremaining: 8m 49s\n",
            "460:\tlearn: 0.7789445\ttotal: 16m 18s\tremaining: 8m 27s\n",
            "470:\tlearn: 0.7804878\ttotal: 16m 40s\tremaining: 8m 6s\n",
            "480:\tlearn: 0.7816632\ttotal: 17m 1s\tremaining: 7m 44s\n",
            "490:\tlearn: 0.7831277\ttotal: 17m 22s\tremaining: 7m 23s\n",
            "500:\tlearn: 0.7841008\ttotal: 17m 43s\tremaining: 7m 2s\n",
            "510:\tlearn: 0.7857812\ttotal: 18m 4s\tremaining: 6m 40s\n",
            "520:\tlearn: 0.7864838\ttotal: 18m 25s\tremaining: 6m 19s\n",
            "530:\tlearn: 0.7879639\ttotal: 18m 45s\tremaining: 5m 58s\n",
            "540:\tlearn: 0.7894491\ttotal: 19m 7s\tremaining: 5m 37s\n",
            "550:\tlearn: 0.7910945\ttotal: 19m 28s\tremaining: 5m 15s\n",
            "560:\tlearn: 0.7924905\ttotal: 19m 50s\tremaining: 4m 54s\n",
            "570:\tlearn: 0.7931310\ttotal: 20m 10s\tremaining: 4m 33s\n",
            "580:\tlearn: 0.7940414\ttotal: 20m 32s\tremaining: 4m 12s\n",
            "590:\tlearn: 0.7936402\ttotal: 20m 52s\tremaining: 3m 50s\n",
            "600:\tlearn: 0.7938809\ttotal: 21m 14s\tremaining: 3m 29s\n",
            "610:\tlearn: 0.7946007\ttotal: 21m 34s\tremaining: 3m 8s\n",
            "620:\tlearn: 0.7961758\ttotal: 21m 56s\tremaining: 2m 47s\n",
            "630:\tlearn: 0.7966563\ttotal: 22m 16s\tremaining: 2m 26s\n",
            "640:\tlearn: 0.7974532\ttotal: 22m 37s\tremaining: 2m 4s\n",
            "650:\tlearn: 0.7989400\ttotal: 22m 58s\tremaining: 1m 43s\n",
            "660:\tlearn: 0.7998411\ttotal: 23m 18s\tremaining: 1m 22s\n",
            "670:\tlearn: 0.8014541\ttotal: 23m 40s\tremaining: 1m 1s\n",
            "680:\tlearn: 0.8021927\ttotal: 24m\tremaining: 40.2s\n",
            "690:\tlearn: 0.8030633\ttotal: 24m 22s\tremaining: 19s\n",
            "699:\tlearn: 0.8035373\ttotal: 24m 40s\tremaining: 0us\n",
            "Learning rate set to 0.095874\n",
            "0:\tlearn: 0.4027174\ttotal: 3.27s\tremaining: 38m 4s\n",
            "10:\tlearn: 0.5067767\ttotal: 24s\tremaining: 25m 2s\n",
            "20:\tlearn: 0.5280358\ttotal: 45.8s\tremaining: 24m 41s\n",
            "30:\tlearn: 0.5462735\ttotal: 1m 6s\tremaining: 23m 58s\n",
            "40:\tlearn: 0.5871895\ttotal: 1m 28s\tremaining: 23m 43s\n",
            "50:\tlearn: 0.6076088\ttotal: 1m 49s\tremaining: 23m 9s\n",
            "60:\tlearn: 0.6252021\ttotal: 2m 10s\tremaining: 22m 51s\n",
            "70:\tlearn: 0.6361905\ttotal: 2m 31s\tremaining: 22m 23s\n",
            "80:\tlearn: 0.6453027\ttotal: 2m 52s\tremaining: 22m 1s\n",
            "90:\tlearn: 0.6577081\ttotal: 3m 13s\tremaining: 21m 37s\n",
            "100:\tlearn: 0.6644380\ttotal: 3m 34s\tremaining: 21m 11s\n",
            "110:\tlearn: 0.6758205\ttotal: 3m 56s\tremaining: 20m 53s\n",
            "120:\tlearn: 0.6779537\ttotal: 4m 16s\tremaining: 20m 26s\n",
            "130:\tlearn: 0.6859678\ttotal: 4m 38s\tremaining: 20m 9s\n",
            "140:\tlearn: 0.6911253\ttotal: 4m 58s\tremaining: 19m 44s\n",
            "150:\tlearn: 0.6972953\ttotal: 5m 20s\tremaining: 19m 26s\n",
            "160:\tlearn: 0.7005609\ttotal: 5m 40s\tremaining: 19m 1s\n",
            "170:\tlearn: 0.7031059\ttotal: 6m 2s\tremaining: 18m 42s\n",
            "180:\tlearn: 0.7071847\ttotal: 6m 23s\tremaining: 18m 18s\n",
            "190:\tlearn: 0.7118765\ttotal: 6m 44s\tremaining: 17m 59s\n",
            "200:\tlearn: 0.7157551\ttotal: 7m 4s\tremaining: 17m 35s\n",
            "210:\tlearn: 0.7214895\ttotal: 7m 26s\tremaining: 17m 15s\n",
            "220:\tlearn: 0.7247274\ttotal: 7m 47s\tremaining: 16m 52s\n",
            "230:\tlearn: 0.7265449\ttotal: 8m 7s\tremaining: 16m 30s\n",
            "240:\tlearn: 0.7307234\ttotal: 8m 29s\tremaining: 16m 9s\n",
            "250:\tlearn: 0.7319084\ttotal: 8m 49s\tremaining: 15m 46s\n",
            "260:\tlearn: 0.7330355\ttotal: 9m 11s\tremaining: 15m 26s\n",
            "270:\tlearn: 0.7362049\ttotal: 9m 31s\tremaining: 15m 4s\n",
            "280:\tlearn: 0.7373913\ttotal: 9m 53s\tremaining: 14m 44s\n",
            "290:\tlearn: 0.7406174\ttotal: 10m 13s\tremaining: 14m 21s\n",
            "300:\tlearn: 0.7447999\ttotal: 10m 35s\tremaining: 14m 2s\n",
            "310:\tlearn: 0.7473467\ttotal: 10m 55s\tremaining: 13m 39s\n",
            "320:\tlearn: 0.7504471\ttotal: 11m 17s\tremaining: 13m 19s\n",
            "330:\tlearn: 0.7513918\ttotal: 11m 37s\tremaining: 12m 57s\n",
            "340:\tlearn: 0.7521461\ttotal: 11m 59s\tremaining: 12m 37s\n",
            "350:\tlearn: 0.7538736\ttotal: 12m 19s\tremaining: 12m 15s\n",
            "360:\tlearn: 0.7561059\ttotal: 12m 40s\tremaining: 11m 54s\n",
            "370:\tlearn: 0.7581449\ttotal: 13m 1s\tremaining: 11m 32s\n",
            "380:\tlearn: 0.7591948\ttotal: 13m 21s\tremaining: 11m 11s\n",
            "390:\tlearn: 0.7599236\ttotal: 13m 43s\tremaining: 10m 50s\n",
            "400:\tlearn: 0.7613598\ttotal: 14m 3s\tremaining: 10m 29s\n",
            "410:\tlearn: 0.7638341\ttotal: 14m 25s\tremaining: 10m 8s\n",
            "420:\tlearn: 0.7653650\ttotal: 14m 45s\tremaining: 9m 47s\n",
            "430:\tlearn: 0.7657003\ttotal: 15m 7s\tremaining: 9m 26s\n",
            "440:\tlearn: 0.7667775\ttotal: 15m 28s\tremaining: 9m 5s\n",
            "450:\tlearn: 0.7689807\ttotal: 15m 49s\tremaining: 8m 44s\n",
            "460:\tlearn: 0.7709996\ttotal: 16m 9s\tremaining: 8m 22s\n",
            "470:\tlearn: 0.7722143\ttotal: 16m 31s\tremaining: 8m 2s\n",
            "480:\tlearn: 0.7732703\ttotal: 16m 52s\tremaining: 7m 40s\n",
            "490:\tlearn: 0.7744503\ttotal: 17m 14s\tremaining: 7m 20s\n",
            "500:\tlearn: 0.7755982\ttotal: 17m 34s\tremaining: 6m 58s\n",
            "510:\tlearn: 0.7767448\ttotal: 17m 55s\tremaining: 6m 37s\n",
            "520:\tlearn: 0.7769697\ttotal: 18m 16s\tremaining: 6m 16s\n",
            "530:\tlearn: 0.7775160\ttotal: 18m 37s\tremaining: 5m 55s\n",
            "540:\tlearn: 0.7788015\ttotal: 18m 58s\tremaining: 5m 34s\n",
            "550:\tlearn: 0.7805992\ttotal: 19m 18s\tremaining: 5m 13s\n",
            "560:\tlearn: 0.7822586\ttotal: 19m 40s\tremaining: 4m 52s\n",
            "570:\tlearn: 0.7834015\ttotal: 20m\tremaining: 4m 31s\n",
            "580:\tlearn: 0.7836986\ttotal: 20m 22s\tremaining: 4m 10s\n",
            "590:\tlearn: 0.7844897\ttotal: 20m 42s\tremaining: 3m 49s\n",
            "600:\tlearn: 0.7862733\ttotal: 21m 4s\tremaining: 3m 28s\n",
            "610:\tlearn: 0.7866791\ttotal: 21m 24s\tremaining: 3m 7s\n",
            "620:\tlearn: 0.7883524\ttotal: 21m 46s\tremaining: 2m 46s\n",
            "630:\tlearn: 0.7899967\ttotal: 22m 6s\tremaining: 2m 25s\n",
            "640:\tlearn: 0.7915529\ttotal: 22m 28s\tremaining: 2m 4s\n",
            "650:\tlearn: 0.7914225\ttotal: 22m 48s\tremaining: 1m 43s\n",
            "660:\tlearn: 0.7926813\ttotal: 23m 10s\tremaining: 1m 22s\n",
            "670:\tlearn: 0.7934566\ttotal: 23m 31s\tremaining: 1m\n",
            "680:\tlearn: 0.7946316\ttotal: 23m 52s\tremaining: 40s\n",
            "690:\tlearn: 0.7968429\ttotal: 24m 13s\tremaining: 18.9s\n",
            "699:\tlearn: 0.7974012\ttotal: 24m 32s\tremaining: 0us\n",
            "Learning rate set to 0.208513\n",
            "0:\tlearn: 0.4801435\ttotal: 3.62s\tremaining: 18m 3s\n",
            "10:\tlearn: 0.5740563\ttotal: 31.4s\tremaining: 13m 44s\n",
            "20:\tlearn: 0.6221438\ttotal: 59.1s\tremaining: 13m 4s\n",
            "30:\tlearn: 0.6443691\ttotal: 1m 26s\tremaining: 12m 31s\n",
            "40:\tlearn: 0.6687284\ttotal: 1m 53s\tremaining: 11m 54s\n",
            "50:\tlearn: 0.6834522\ttotal: 2m 18s\tremaining: 11m 18s\n",
            "60:\tlearn: 0.6959707\ttotal: 2m 45s\tremaining: 10m 50s\n",
            "70:\tlearn: 0.7073136\ttotal: 3m 13s\tremaining: 10m 22s\n",
            "80:\tlearn: 0.7207359\ttotal: 3m 40s\tremaining: 9m 54s\n",
            "90:\tlearn: 0.7314493\ttotal: 4m 7s\tremaining: 9m 27s\n",
            "100:\tlearn: 0.7365361\ttotal: 4m 34s\tremaining: 9m\n",
            "110:\tlearn: 0.7440996\ttotal: 5m\tremaining: 8m 32s\n",
            "120:\tlearn: 0.7515060\ttotal: 5m 26s\tremaining: 8m 2s\n",
            "130:\tlearn: 0.7560859\ttotal: 5m 53s\tremaining: 7m 35s\n",
            "140:\tlearn: 0.7597226\ttotal: 6m 20s\tremaining: 7m 8s\n",
            "150:\tlearn: 0.7639124\ttotal: 6m 46s\tremaining: 6m 41s\n",
            "160:\tlearn: 0.7671492\ttotal: 7m 13s\tremaining: 6m 14s\n",
            "170:\tlearn: 0.7708699\ttotal: 7m 40s\tremaining: 5m 47s\n",
            "180:\tlearn: 0.7724026\ttotal: 8m 6s\tremaining: 5m 19s\n",
            "190:\tlearn: 0.7763838\ttotal: 8m 33s\tremaining: 4m 52s\n",
            "200:\tlearn: 0.7789319\ttotal: 9m\tremaining: 4m 25s\n",
            "210:\tlearn: 0.7819690\ttotal: 9m 27s\tremaining: 3m 59s\n",
            "220:\tlearn: 0.7839679\ttotal: 9m 53s\tremaining: 3m 32s\n",
            "230:\tlearn: 0.7867235\ttotal: 10m 20s\tremaining: 3m 5s\n",
            "240:\tlearn: 0.7891763\ttotal: 10m 47s\tremaining: 2m 38s\n",
            "250:\tlearn: 0.7929229\ttotal: 11m 13s\tremaining: 2m 11s\n",
            "260:\tlearn: 0.7959211\ttotal: 11m 39s\tremaining: 1m 44s\n",
            "270:\tlearn: 0.7998680\ttotal: 12m 6s\tremaining: 1m 17s\n",
            "280:\tlearn: 0.8022383\ttotal: 12m 33s\tremaining: 51s\n",
            "290:\tlearn: 0.8055410\ttotal: 13m 1s\tremaining: 24.2s\n",
            "299:\tlearn: 0.8080729\ttotal: 13m 24s\tremaining: 0us\n",
            "Learning rate set to 0.208514\n",
            "0:\tlearn: 0.4051732\ttotal: 2.93s\tremaining: 14m 36s\n",
            "10:\tlearn: 0.5765608\ttotal: 37.3s\tremaining: 16m 20s\n",
            "20:\tlearn: 0.6244344\ttotal: 1m 13s\tremaining: 16m 15s\n",
            "30:\tlearn: 0.6516366\ttotal: 1m 47s\tremaining: 15m 32s\n",
            "40:\tlearn: 0.6749303\ttotal: 2m 23s\tremaining: 15m 6s\n",
            "50:\tlearn: 0.6890257\ttotal: 2m 57s\tremaining: 14m 27s\n",
            "60:\tlearn: 0.7051346\ttotal: 3m 34s\tremaining: 13m 58s\n",
            "70:\tlearn: 0.7176371\ttotal: 4m 8s\tremaining: 13m 21s\n",
            "80:\tlearn: 0.7313162\ttotal: 4m 44s\tremaining: 12m 49s\n",
            "90:\tlearn: 0.7401564\ttotal: 5m 19s\tremaining: 12m 13s\n",
            "100:\tlearn: 0.7473525\ttotal: 5m 54s\tremaining: 11m 39s\n",
            "110:\tlearn: 0.7517468\ttotal: 6m 30s\tremaining: 11m 4s\n",
            "120:\tlearn: 0.7565247\ttotal: 7m 4s\tremaining: 10m 28s\n",
            "130:\tlearn: 0.7632097\ttotal: 7m 41s\tremaining: 9m 55s\n",
            "140:\tlearn: 0.7674937\ttotal: 8m 15s\tremaining: 9m 19s\n",
            "150:\tlearn: 0.7706422\ttotal: 8m 52s\tremaining: 8m 45s\n",
            "160:\tlearn: 0.7724240\ttotal: 9m 26s\tremaining: 8m 9s\n",
            "170:\tlearn: 0.7739329\ttotal: 10m 2s\tremaining: 7m 34s\n",
            "180:\tlearn: 0.7762839\ttotal: 10m 36s\tremaining: 6m 58s\n",
            "190:\tlearn: 0.7802949\ttotal: 11m 12s\tremaining: 6m 23s\n",
            "200:\tlearn: 0.7818170\ttotal: 11m 46s\tremaining: 5m 48s\n",
            "210:\tlearn: 0.7838343\ttotal: 12m 20s\tremaining: 5m 12s\n",
            "220:\tlearn: 0.7865902\ttotal: 12m 56s\tremaining: 4m 37s\n",
            "230:\tlearn: 0.7885730\ttotal: 13m 30s\tremaining: 4m 2s\n",
            "240:\tlearn: 0.7930393\ttotal: 14m 6s\tremaining: 3m 27s\n",
            "250:\tlearn: 0.7970372\ttotal: 14m 39s\tremaining: 2m 51s\n",
            "260:\tlearn: 0.8005277\ttotal: 15m 15s\tremaining: 2m 16s\n",
            "270:\tlearn: 0.8042119\ttotal: 15m 49s\tremaining: 1m 41s\n",
            "280:\tlearn: 0.8076418\ttotal: 16m 23s\tremaining: 1m 6s\n",
            "290:\tlearn: 0.8101448\ttotal: 16m 59s\tremaining: 31.5s\n",
            "299:\tlearn: 0.8121894\ttotal: 17m 30s\tremaining: 0us\n",
            "Learning rate set to 0.208514\n",
            "0:\tlearn: 0.4027539\ttotal: 4.15s\tremaining: 20m 41s\n",
            "10:\tlearn: 0.5761409\ttotal: 39.4s\tremaining: 17m 16s\n",
            "20:\tlearn: 0.6093117\ttotal: 1m 14s\tremaining: 16m 23s\n",
            "30:\tlearn: 0.6415638\ttotal: 1m 50s\tremaining: 15m 54s\n",
            "40:\tlearn: 0.6658750\ttotal: 2m 24s\tremaining: 15m 10s\n",
            "50:\tlearn: 0.6888292\ttotal: 3m\tremaining: 14m 40s\n",
            "60:\tlearn: 0.6969937\ttotal: 3m 34s\tremaining: 14m\n",
            "70:\tlearn: 0.7142756\ttotal: 4m 10s\tremaining: 13m 28s\n",
            "80:\tlearn: 0.7247861\ttotal: 4m 44s\tremaining: 12m 49s\n",
            "90:\tlearn: 0.7323296\ttotal: 5m 19s\tremaining: 12m 14s\n",
            "100:\tlearn: 0.7378210\ttotal: 5m 54s\tremaining: 11m 39s\n",
            "110:\tlearn: 0.7415093\ttotal: 6m 29s\tremaining: 11m 2s\n",
            "120:\tlearn: 0.7473344\ttotal: 7m 5s\tremaining: 10m 28s\n",
            "130:\tlearn: 0.7529476\ttotal: 7m 39s\tremaining: 9m 52s\n",
            "140:\tlearn: 0.7590205\ttotal: 8m 15s\tremaining: 9m 18s\n",
            "150:\tlearn: 0.7642940\ttotal: 8m 49s\tremaining: 8m 42s\n",
            "160:\tlearn: 0.7670193\ttotal: 9m 24s\tremaining: 8m 7s\n",
            "170:\tlearn: 0.7684596\ttotal: 9m 59s\tremaining: 7m 32s\n",
            "180:\tlearn: 0.7730401\ttotal: 10m 33s\tremaining: 6m 56s\n",
            "190:\tlearn: 0.7761174\ttotal: 11m 9s\tremaining: 6m 22s\n",
            "200:\tlearn: 0.7803864\ttotal: 11m 44s\tremaining: 5m 46s\n",
            "210:\tlearn: 0.7827542\ttotal: 12m 20s\tremaining: 5m 12s\n",
            "220:\tlearn: 0.7853515\ttotal: 12m 54s\tremaining: 4m 36s\n",
            "230:\tlearn: 0.7872639\ttotal: 13m 30s\tremaining: 4m 2s\n",
            "240:\tlearn: 0.7906791\ttotal: 14m 5s\tremaining: 3m 27s\n",
            "250:\tlearn: 0.7941313\ttotal: 14m 41s\tremaining: 2m 52s\n",
            "260:\tlearn: 0.7975371\ttotal: 15m 15s\tremaining: 2m 16s\n",
            "270:\tlearn: 0.8002115\ttotal: 15m 50s\tremaining: 1m 41s\n",
            "280:\tlearn: 0.8031662\ttotal: 16m 25s\tremaining: 1m 6s\n",
            "290:\tlearn: 0.8065492\ttotal: 17m\tremaining: 31.6s\n",
            "299:\tlearn: 0.8079853\ttotal: 17m 32s\tremaining: 0us\n",
            "Learning rate set to 0.095874\n",
            "0:\tlearn: 0.4801435\ttotal: 2.96s\tremaining: 34m 30s\n",
            "10:\tlearn: 0.5224551\ttotal: 30.3s\tremaining: 31m 36s\n",
            "20:\tlearn: 0.5607341\ttotal: 57.7s\tremaining: 31m 6s\n",
            "30:\tlearn: 0.6042056\ttotal: 1m 25s\tremaining: 30m 37s\n",
            "40:\tlearn: 0.6123809\ttotal: 1m 51s\tremaining: 29m 59s\n",
            "50:\tlearn: 0.6247222\ttotal: 2m 18s\tremaining: 29m 16s\n",
            "60:\tlearn: 0.6398789\ttotal: 2m 45s\tremaining: 28m 49s\n",
            "70:\tlearn: 0.6520179\ttotal: 3m 12s\tremaining: 28m 24s\n",
            "80:\tlearn: 0.6567920\ttotal: 3m 39s\tremaining: 27m 58s\n",
            "90:\tlearn: 0.6767610\ttotal: 4m 6s\tremaining: 27m 32s\n",
            "100:\tlearn: 0.6818612\ttotal: 4m 34s\tremaining: 27m 5s\n",
            "110:\tlearn: 0.6845735\ttotal: 5m 1s\tremaining: 26m 38s\n",
            "120:\tlearn: 0.6881643\ttotal: 5m 28s\tremaining: 26m 9s\n",
            "130:\tlearn: 0.6951333\ttotal: 5m 53s\tremaining: 25m 37s\n",
            "140:\tlearn: 0.6979644\ttotal: 6m 20s\tremaining: 25m 10s\n",
            "150:\tlearn: 0.7049274\ttotal: 6m 48s\tremaining: 24m 43s\n",
            "160:\tlearn: 0.7097507\ttotal: 7m 15s\tremaining: 24m 17s\n",
            "170:\tlearn: 0.7142958\ttotal: 7m 42s\tremaining: 23m 50s\n",
            "180:\tlearn: 0.7190473\ttotal: 8m 9s\tremaining: 23m 23s\n",
            "190:\tlearn: 0.7226359\ttotal: 8m 36s\tremaining: 22m 56s\n",
            "200:\tlearn: 0.7266746\ttotal: 9m 2s\tremaining: 22m 26s\n",
            "210:\tlearn: 0.7317754\ttotal: 9m 28s\tremaining: 21m 58s\n",
            "220:\tlearn: 0.7342107\ttotal: 9m 55s\tremaining: 21m 31s\n",
            "230:\tlearn: 0.7384551\ttotal: 10m 22s\tremaining: 21m 3s\n",
            "240:\tlearn: 0.7400692\ttotal: 10m 49s\tremaining: 20m 36s\n",
            "250:\tlearn: 0.7432871\ttotal: 11m 16s\tremaining: 20m 10s\n",
            "260:\tlearn: 0.7466428\ttotal: 11m 43s\tremaining: 19m 43s\n",
            "270:\tlearn: 0.7485203\ttotal: 12m 9s\tremaining: 19m 14s\n",
            "280:\tlearn: 0.7508931\ttotal: 12m 35s\tremaining: 18m 46s\n",
            "290:\tlearn: 0.7543836\ttotal: 13m 2s\tremaining: 18m 19s\n",
            "300:\tlearn: 0.7570706\ttotal: 13m 29s\tremaining: 17m 52s\n",
            "310:\tlearn: 0.7581690\ttotal: 13m 56s\tremaining: 17m 26s\n",
            "320:\tlearn: 0.7599646\ttotal: 14m 23s\tremaining: 16m 59s\n",
            "330:\tlearn: 0.7605557\ttotal: 14m 49s\tremaining: 16m 31s\n",
            "340:\tlearn: 0.7608873\ttotal: 15m 15s\tremaining: 16m 3s\n",
            "350:\tlearn: 0.7639671\ttotal: 15m 42s\tremaining: 15m 36s\n",
            "360:\tlearn: 0.7648894\ttotal: 16m 9s\tremaining: 15m 10s\n",
            "370:\tlearn: 0.7662487\ttotal: 16m 36s\tremaining: 14m 43s\n",
            "380:\tlearn: 0.7672420\ttotal: 17m 2s\tremaining: 14m 16s\n",
            "390:\tlearn: 0.7682316\ttotal: 17m 29s\tremaining: 13m 49s\n",
            "400:\tlearn: 0.7694388\ttotal: 17m 55s\tremaining: 13m 21s\n",
            "410:\tlearn: 0.7711315\ttotal: 18m 21s\tremaining: 12m 54s\n",
            "420:\tlearn: 0.7732848\ttotal: 18m 48s\tremaining: 12m 28s\n",
            "430:\tlearn: 0.7750404\ttotal: 19m 15s\tremaining: 12m 1s\n",
            "440:\tlearn: 0.7765450\ttotal: 19m 42s\tremaining: 11m 34s\n",
            "450:\tlearn: 0.7785460\ttotal: 20m 9s\tremaining: 11m 7s\n",
            "460:\tlearn: 0.7799544\ttotal: 20m 36s\tremaining: 10m 41s\n",
            "470:\tlearn: 0.7823234\ttotal: 21m 2s\tremaining: 10m 13s\n",
            "480:\tlearn: 0.7838994\ttotal: 21m 29s\tremaining: 9m 46s\n",
            "490:\tlearn: 0.7850080\ttotal: 21m 56s\tremaining: 9m 20s\n",
            "500:\tlearn: 0.7858192\ttotal: 22m 22s\tremaining: 8m 53s\n",
            "510:\tlearn: 0.7871148\ttotal: 22m 49s\tremaining: 8m 26s\n",
            "520:\tlearn: 0.7888674\ttotal: 23m 16s\tremaining: 7m 59s\n",
            "530:\tlearn: 0.7905028\ttotal: 23m 42s\tremaining: 7m 32s\n",
            "540:\tlearn: 0.7914673\ttotal: 24m 8s\tremaining: 7m 5s\n",
            "550:\tlearn: 0.7928837\ttotal: 24m 35s\tremaining: 6m 39s\n",
            "560:\tlearn: 0.7948803\ttotal: 25m 2s\tremaining: 6m 12s\n",
            "570:\tlearn: 0.7965821\ttotal: 25m 29s\tremaining: 5m 45s\n",
            "580:\tlearn: 0.7990478\ttotal: 25m 56s\tremaining: 5m 18s\n",
            "590:\tlearn: 0.8004493\ttotal: 26m 23s\tremaining: 4m 52s\n",
            "600:\tlearn: 0.8008984\ttotal: 26m 49s\tremaining: 4m 25s\n",
            "610:\tlearn: 0.8022703\ttotal: 27m 15s\tremaining: 3m 58s\n",
            "620:\tlearn: 0.8038479\ttotal: 27m 42s\tremaining: 3m 31s\n",
            "630:\tlearn: 0.8049776\ttotal: 28m 9s\tremaining: 3m 4s\n",
            "640:\tlearn: 0.8060251\ttotal: 28m 36s\tremaining: 2m 38s\n",
            "650:\tlearn: 0.8079096\ttotal: 29m 3s\tremaining: 2m 11s\n",
            "660:\tlearn: 0.8084324\ttotal: 29m 29s\tremaining: 1m 44s\n",
            "670:\tlearn: 0.8088515\ttotal: 29m 55s\tremaining: 1m 17s\n",
            "680:\tlearn: 0.8091112\ttotal: 30m 23s\tremaining: 50.9s\n",
            "690:\tlearn: 0.8091894\ttotal: 30m 49s\tremaining: 24.1s\n",
            "699:\tlearn: 0.8097612\ttotal: 31m 14s\tremaining: 0us\n",
            "Learning rate set to 0.095874\n",
            "0:\tlearn: 0.4051732\ttotal: 2.93s\tremaining: 34m 5s\n",
            "10:\tlearn: 0.5596456\ttotal: 40.2s\tremaining: 41m 57s\n",
            "20:\tlearn: 0.5440864\ttotal: 1m 14s\tremaining: 40m 17s\n",
            "30:\tlearn: 0.5989481\ttotal: 1m 51s\tremaining: 39m 57s\n",
            "40:\tlearn: 0.6023927\ttotal: 2m 25s\tremaining: 39m 1s\n",
            "50:\tlearn: 0.6220442\ttotal: 3m 1s\tremaining: 38m 34s\n",
            "60:\tlearn: 0.6320128\ttotal: 3m 36s\tremaining: 37m 44s\n",
            "70:\tlearn: 0.6392659\ttotal: 4m 12s\tremaining: 37m 12s\n",
            "80:\tlearn: 0.6567053\ttotal: 4m 46s\tremaining: 36m 30s\n",
            "90:\tlearn: 0.6706551\ttotal: 5m 21s\tremaining: 35m 50s\n",
            "100:\tlearn: 0.6806114\ttotal: 5m 56s\tremaining: 35m 16s\n",
            "110:\tlearn: 0.6852770\ttotal: 6m 31s\tremaining: 34m 35s\n",
            "120:\tlearn: 0.6936976\ttotal: 7m 7s\tremaining: 34m 4s\n",
            "130:\tlearn: 0.6994245\ttotal: 7m 41s\tremaining: 33m 24s\n",
            "140:\tlearn: 0.7040436\ttotal: 8m 17s\tremaining: 32m 52s\n",
            "150:\tlearn: 0.7143263\ttotal: 8m 51s\tremaining: 32m 13s\n",
            "160:\tlearn: 0.7169277\ttotal: 9m 27s\tremaining: 31m 40s\n",
            "170:\tlearn: 0.7222810\ttotal: 10m 2s\tremaining: 31m 2s\n",
            "180:\tlearn: 0.7294777\ttotal: 10m 36s\tremaining: 30m 26s\n",
            "190:\tlearn: 0.7359030\ttotal: 11m 12s\tremaining: 29m 51s\n",
            "200:\tlearn: 0.7411471\ttotal: 11m 46s\tremaining: 29m 13s\n",
            "210:\tlearn: 0.7434156\ttotal: 12m 22s\tremaining: 28m 40s\n",
            "220:\tlearn: 0.7466113\ttotal: 12m 56s\tremaining: 28m 3s\n",
            "230:\tlearn: 0.7489649\ttotal: 13m 32s\tremaining: 27m 29s\n",
            "240:\tlearn: 0.7544655\ttotal: 14m 6s\tremaining: 26m 52s\n",
            "250:\tlearn: 0.7572789\ttotal: 14m 42s\tremaining: 26m 17s\n",
            "260:\tlearn: 0.7589133\ttotal: 15m 16s\tremaining: 25m 42s\n",
            "270:\tlearn: 0.7625801\ttotal: 15m 51s\tremaining: 25m 5s\n",
            "280:\tlearn: 0.7648741\ttotal: 16m 27s\tremaining: 24m 31s\n",
            "290:\tlearn: 0.7662267\ttotal: 17m 1s\tremaining: 23m 55s\n",
            "300:\tlearn: 0.7678717\ttotal: 17m 37s\tremaining: 23m 21s\n",
            "310:\tlearn: 0.7680087\ttotal: 18m 11s\tremaining: 22m 44s\n",
            "320:\tlearn: 0.7706683\ttotal: 18m 47s\tremaining: 22m 10s\n",
            "330:\tlearn: 0.7725798\ttotal: 19m 21s\tremaining: 21m 34s\n",
            "340:\tlearn: 0.7738449\ttotal: 19m 56s\tremaining: 20m 59s\n",
            "350:\tlearn: 0.7755295\ttotal: 20m 31s\tremaining: 20m 24s\n",
            "360:\tlearn: 0.7767893\ttotal: 21m 5s\tremaining: 19m 48s\n",
            "370:\tlearn: 0.7783013\ttotal: 21m 41s\tremaining: 19m 14s\n",
            "380:\tlearn: 0.7793396\ttotal: 22m 15s\tremaining: 18m 38s\n",
            "390:\tlearn: 0.7805697\ttotal: 22m 51s\tremaining: 18m 3s\n",
            "400:\tlearn: 0.7816694\ttotal: 23m 25s\tremaining: 17m 28s\n",
            "410:\tlearn: 0.7821192\ttotal: 24m 1s\tremaining: 16m 53s\n",
            "420:\tlearn: 0.7841274\ttotal: 24m 35s\tremaining: 16m 17s\n",
            "430:\tlearn: 0.7854229\ttotal: 25m 10s\tremaining: 15m 42s\n",
            "440:\tlearn: 0.7865634\ttotal: 25m 45s\tremaining: 15m 7s\n",
            "450:\tlearn: 0.7868590\ttotal: 26m 19s\tremaining: 14m 32s\n",
            "460:\tlearn: 0.7879354\ttotal: 26m 55s\tremaining: 13m 57s\n",
            "470:\tlearn: 0.7896035\ttotal: 27m 29s\tremaining: 13m 22s\n",
            "480:\tlearn: 0.7908619\ttotal: 28m 5s\tremaining: 12m 47s\n",
            "490:\tlearn: 0.7919883\ttotal: 28m 39s\tremaining: 12m 12s\n",
            "500:\tlearn: 0.7943423\ttotal: 29m 14s\tremaining: 11m 36s\n",
            "510:\tlearn: 0.7957275\ttotal: 29m 49s\tremaining: 11m 2s\n",
            "520:\tlearn: 0.7975891\ttotal: 30m 23s\tremaining: 10m 26s\n",
            "530:\tlearn: 0.7982253\ttotal: 30m 59s\tremaining: 9m 51s\n",
            "540:\tlearn: 0.7997619\ttotal: 31m 33s\tremaining: 9m 16s\n",
            "550:\tlearn: 0.8011364\ttotal: 32m 9s\tremaining: 8m 41s\n",
            "560:\tlearn: 0.8027193\ttotal: 32m 43s\tremaining: 8m 6s\n",
            "570:\tlearn: 0.8030613\ttotal: 33m 18s\tremaining: 7m 31s\n",
            "580:\tlearn: 0.8039823\ttotal: 33m 53s\tremaining: 6m 56s\n",
            "590:\tlearn: 0.8054036\ttotal: 34m 27s\tremaining: 6m 21s\n",
            "600:\tlearn: 0.8063730\ttotal: 35m 3s\tremaining: 5m 46s\n",
            "610:\tlearn: 0.8078086\ttotal: 35m 37s\tremaining: 5m 11s\n",
            "620:\tlearn: 0.8083541\ttotal: 36m 13s\tremaining: 4m 36s\n",
            "630:\tlearn: 0.8088264\ttotal: 36m 47s\tremaining: 4m 1s\n",
            "640:\tlearn: 0.8094800\ttotal: 37m 23s\tremaining: 3m 26s\n",
            "650:\tlearn: 0.8103957\ttotal: 37m 57s\tremaining: 2m 51s\n",
            "660:\tlearn: 0.8110980\ttotal: 38m 31s\tremaining: 2m 16s\n",
            "670:\tlearn: 0.8110732\ttotal: 39m 7s\tremaining: 1m 41s\n",
            "680:\tlearn: 0.8115410\ttotal: 39m 41s\tremaining: 1m 6s\n",
            "690:\tlearn: 0.8119837\ttotal: 40m 16s\tremaining: 31.5s\n",
            "699:\tlearn: 0.8129176\ttotal: 40m 47s\tremaining: 0us\n",
            "Learning rate set to 0.095874\n",
            "0:\tlearn: 0.4027539\ttotal: 3.01s\tremaining: 35m 3s\n",
            "10:\tlearn: 0.5288422\ttotal: 39.4s\tremaining: 41m 5s\n",
            "20:\tlearn: 0.5592946\ttotal: 1m 13s\tremaining: 39m 48s\n",
            "30:\tlearn: 0.5849865\ttotal: 1m 50s\tremaining: 39m 38s\n",
            "40:\tlearn: 0.6113707\ttotal: 2m 24s\tremaining: 38m 47s\n",
            "50:\tlearn: 0.6162439\ttotal: 3m 1s\tremaining: 38m 23s\n",
            "60:\tlearn: 0.6319737\ttotal: 3m 35s\tremaining: 37m 36s\n",
            "70:\tlearn: 0.6490356\ttotal: 4m 11s\tremaining: 37m 9s\n",
            "80:\tlearn: 0.6632479\ttotal: 4m 45s\tremaining: 36m 24s\n",
            "90:\tlearn: 0.6708561\ttotal: 5m 22s\tremaining: 35m 55s\n",
            "100:\tlearn: 0.6773435\ttotal: 5m 56s\tremaining: 35m 13s\n",
            "110:\tlearn: 0.6859974\ttotal: 6m 32s\tremaining: 34m 40s\n",
            "120:\tlearn: 0.6901705\ttotal: 7m 6s\tremaining: 34m 1s\n",
            "130:\tlearn: 0.6971882\ttotal: 7m 40s\tremaining: 33m 21s\n",
            "140:\tlearn: 0.7027608\ttotal: 8m 16s\tremaining: 32m 49s\n",
            "150:\tlearn: 0.7082679\ttotal: 8m 50s\tremaining: 32m 10s\n",
            "160:\tlearn: 0.7121320\ttotal: 9m 26s\tremaining: 31m 38s\n",
            "170:\tlearn: 0.7151068\ttotal: 10m 1s\tremaining: 30m 59s\n",
            "180:\tlearn: 0.7225116\ttotal: 10m 37s\tremaining: 30m 27s\n",
            "190:\tlearn: 0.7256102\ttotal: 11m 11s\tremaining: 29m 48s\n",
            "200:\tlearn: 0.7277961\ttotal: 11m 46s\tremaining: 29m 14s\n",
            "210:\tlearn: 0.7311753\ttotal: 12m 21s\tremaining: 28m 38s\n",
            "220:\tlearn: 0.7337939\ttotal: 12m 55s\tremaining: 28m 1s\n",
            "230:\tlearn: 0.7358740\ttotal: 13m 32s\tremaining: 27m 29s\n",
            "240:\tlearn: 0.7413160\ttotal: 14m 6s\tremaining: 26m 52s\n",
            "250:\tlearn: 0.7441571\ttotal: 14m 42s\tremaining: 26m 19s\n",
            "260:\tlearn: 0.7479484\ttotal: 15m 17s\tremaining: 25m 42s\n",
            "270:\tlearn: 0.7498452\ttotal: 15m 53s\tremaining: 25m 9s\n",
            "280:\tlearn: 0.7539274\ttotal: 16m 27s\tremaining: 24m 32s\n",
            "290:\tlearn: 0.7561794\ttotal: 17m 3s\tremaining: 23m 58s\n",
            "300:\tlearn: 0.7578947\ttotal: 17m 37s\tremaining: 23m 22s\n",
            "310:\tlearn: 0.7593364\ttotal: 18m 12s\tremaining: 22m 46s\n",
            "320:\tlearn: 0.7608073\ttotal: 18m 47s\tremaining: 22m 11s\n",
            "330:\tlearn: 0.7628585\ttotal: 19m 21s\tremaining: 21m 35s\n",
            "340:\tlearn: 0.7637651\ttotal: 19m 57s\tremaining: 21m\n",
            "350:\tlearn: 0.7641015\ttotal: 20m 31s\tremaining: 20m 24s\n",
            "360:\tlearn: 0.7668499\ttotal: 21m 8s\tremaining: 19m 51s\n",
            "370:\tlearn: 0.7703142\ttotal: 21m 42s\tremaining: 19m 15s\n",
            "380:\tlearn: 0.7715097\ttotal: 22m 18s\tremaining: 18m 40s\n",
            "390:\tlearn: 0.7727150\ttotal: 22m 53s\tremaining: 18m 5s\n",
            "400:\tlearn: 0.7734306\ttotal: 23m 28s\tremaining: 17m 29s\n",
            "410:\tlearn: 0.7739800\ttotal: 24m 3s\tremaining: 16m 54s\n",
            "420:\tlearn: 0.7760550\ttotal: 24m 37s\tremaining: 16m 18s\n",
            "430:\tlearn: 0.7774860\ttotal: 25m 13s\tremaining: 15m 44s\n",
            "440:\tlearn: 0.7790182\ttotal: 25m 47s\tremaining: 15m 8s\n",
            "450:\tlearn: 0.7817511\ttotal: 26m 23s\tremaining: 14m 34s\n",
            "460:\tlearn: 0.7841457\ttotal: 26m 57s\tremaining: 13m 58s\n",
            "470:\tlearn: 0.7851931\ttotal: 27m 33s\tremaining: 13m 24s\n",
            "480:\tlearn: 0.7859006\ttotal: 28m 8s\tremaining: 12m 48s\n",
            "490:\tlearn: 0.7870321\ttotal: 28m 42s\tremaining: 12m 13s\n",
            "500:\tlearn: 0.7891928\ttotal: 29m 18s\tremaining: 11m 38s\n",
            "510:\tlearn: 0.7899160\ttotal: 29m 52s\tremaining: 11m 3s\n",
            "520:\tlearn: 0.7908061\ttotal: 30m 29s\tremaining: 10m 28s\n",
            "530:\tlearn: 0.7928970\ttotal: 31m 3s\tremaining: 9m 53s\n",
            "540:\tlearn: 0.7943404\ttotal: 31m 39s\tremaining: 9m 18s\n",
            "550:\tlearn: 0.7957775\ttotal: 32m 13s\tremaining: 8m 42s\n",
            "560:\tlearn: 0.7970822\ttotal: 32m 49s\tremaining: 8m 7s\n",
            "570:\tlearn: 0.7981974\ttotal: 33m 24s\tremaining: 7m 32s\n",
            "580:\tlearn: 0.7992580\ttotal: 33m 58s\tremaining: 6m 57s\n",
            "590:\tlearn: 0.8006350\ttotal: 34m 34s\tremaining: 6m 22s\n",
            "600:\tlearn: 0.8017452\ttotal: 35m 8s\tremaining: 5m 47s\n",
            "610:\tlearn: 0.8022741\ttotal: 35m 44s\tremaining: 5m 12s\n",
            "620:\tlearn: 0.8035408\ttotal: 36m 18s\tremaining: 4m 37s\n",
            "630:\tlearn: 0.8045128\ttotal: 36m 53s\tremaining: 4m 2s\n",
            "640:\tlearn: 0.8047509\ttotal: 37m 28s\tremaining: 3m 26s\n",
            "650:\tlearn: 0.8051451\ttotal: 38m 2s\tremaining: 2m 51s\n",
            "660:\tlearn: 0.8057241\ttotal: 38m 37s\tremaining: 2m 16s\n",
            "670:\tlearn: 0.8066961\ttotal: 39m 12s\tremaining: 1m 41s\n",
            "680:\tlearn: 0.8065388\ttotal: 39m 47s\tremaining: 1m 6s\n",
            "690:\tlearn: 0.8082390\ttotal: 40m 22s\tremaining: 31.5s\n",
            "699:\tlearn: 0.8088409\ttotal: 40m 52s\tremaining: 0us\n",
            "Learning rate set to 0.247928\n",
            "0:\tlearn: 0.4614052\ttotal: 4.78s\tremaining: 23m 49s\n",
            "10:\tlearn: 0.5783222\ttotal: 43.7s\tremaining: 19m 8s\n",
            "20:\tlearn: 0.6289436\ttotal: 1m 20s\tremaining: 17m 50s\n",
            "30:\tlearn: 0.6696757\ttotal: 1m 56s\tremaining: 16m 46s\n",
            "40:\tlearn: 0.6900202\ttotal: 2m 32s\tremaining: 16m 2s\n",
            "50:\tlearn: 0.7055532\ttotal: 3m 8s\tremaining: 15m 18s\n",
            "60:\tlearn: 0.7157707\ttotal: 3m 44s\tremaining: 14m 38s\n",
            "70:\tlearn: 0.7248766\ttotal: 4m 19s\tremaining: 13m 58s\n",
            "80:\tlearn: 0.7330773\ttotal: 4m 55s\tremaining: 13m 20s\n",
            "90:\tlearn: 0.7437669\ttotal: 5m 31s\tremaining: 12m 41s\n",
            "100:\tlearn: 0.7518291\ttotal: 6m 7s\tremaining: 12m 4s\n",
            "110:\tlearn: 0.7553924\ttotal: 6m 42s\tremaining: 11m 26s\n",
            "120:\tlearn: 0.7611745\ttotal: 7m 17s\tremaining: 10m 47s\n",
            "130:\tlearn: 0.7651417\ttotal: 7m 54s\tremaining: 10m 11s\n",
            "140:\tlearn: 0.7718546\ttotal: 8m 28s\tremaining: 9m 33s\n",
            "150:\tlearn: 0.7743258\ttotal: 9m 5s\tremaining: 8m 58s\n",
            "160:\tlearn: 0.7776790\ttotal: 9m 40s\tremaining: 8m 20s\n",
            "170:\tlearn: 0.7800160\ttotal: 10m 16s\tremaining: 7m 45s\n",
            "180:\tlearn: 0.7814452\ttotal: 10m 51s\tremaining: 7m 8s\n",
            "190:\tlearn: 0.7855786\ttotal: 11m 27s\tremaining: 6m 32s\n",
            "200:\tlearn: 0.7874857\ttotal: 12m 2s\tremaining: 5m 55s\n",
            "210:\tlearn: 0.7888330\ttotal: 12m 38s\tremaining: 5m 19s\n",
            "220:\tlearn: 0.7898886\ttotal: 13m 13s\tremaining: 4m 43s\n",
            "230:\tlearn: 0.7930549\ttotal: 13m 48s\tremaining: 4m 7s\n",
            "240:\tlearn: 0.7952960\ttotal: 14m 24s\tremaining: 3m 31s\n",
            "250:\tlearn: 0.7974246\ttotal: 14m 59s\tremaining: 2m 55s\n",
            "260:\tlearn: 0.7987928\ttotal: 15m 35s\tremaining: 2m 19s\n",
            "270:\tlearn: 0.8015890\ttotal: 16m 10s\tremaining: 1m 43s\n",
            "280:\tlearn: 0.8041812\ttotal: 16m 47s\tremaining: 1m 8s\n",
            "290:\tlearn: 0.8061362\ttotal: 17m 22s\tremaining: 32.2s\n",
            "299:\tlearn: 0.8088522\ttotal: 17m 55s\tremaining: 0us\n",
            "Лучшие параметры: Pipeline(steps=[('vectorizer',\n",
            "                 TfidfVectorizer(stop_words=['i', 'me', 'my', 'myself', 'we',\n",
            "                                             'our', 'ours', 'ourselves', 'you',\n",
            "                                             \"you're\", \"you've\", \"you'll\",\n",
            "                                             \"you'd\", 'your', 'yours',\n",
            "                                             'yourself', 'yourselves', 'he',\n",
            "                                             'him', 'his', 'himself', 'she',\n",
            "                                             \"she's\", 'her', 'hers', 'herself',\n",
            "                                             'it', \"it's\", 'its', 'itself', ...])),\n",
            "                ('model',\n",
            "                 <catboost.core.CatBoostClassifier object at 0x7f21297a3670>)])\n",
            "Лучший результат: 0.757032470280795\n"
          ]
        }
      ],
      "source": [
        "param_grid = {\n",
        "    'model__n_estimators': [300, 700],\n",
        "    'model__depth': range(6, 8, 1)\n",
        "    }\n",
        "\n",
        "grid = GridSearchCV(estimator=cb_classifier_pipe, param_grid=param_grid, cv=3, scoring = 'f1')\n",
        "\n",
        "grid.fit(train_features, train_target)\n",
        "\n",
        "#Присваивает только лучшую модель\n",
        "if grid.best_score_ > best_score:\n",
        "    best_score = grid.best_score_\n",
        "    best_params = grid.best_params_\n",
        "    best_estimator = grid.best_estimator_\n",
        "\n",
        "print(\"Лучшие параметры:\", grid.best_estimator_)\n",
        "print(\"Лучший результат:\", grid.best_score_)"
      ]
    },
    {
      "cell_type": "markdown",
      "metadata": {
        "id": "Gp4ziuxJZym-"
      },
      "source": [
        "### Тестирование"
      ]
    },
    {
      "cell_type": "code",
      "execution_count": null,
      "metadata": {
        "colab": {
          "base_uri": "https://localhost:8080/",
          "height": 126
        },
        "id": "8fwwWZx5Z11J",
        "outputId": "44b8e954-52dc-412a-f084-e148cafa629e"
      },
      "outputs": [
        {
          "data": {
            "text/html": [
              "<style>#sk-container-id-1 {color: black;background-color: white;}#sk-container-id-1 pre{padding: 0;}#sk-container-id-1 div.sk-toggleable {background-color: white;}#sk-container-id-1 label.sk-toggleable__label {cursor: pointer;display: block;width: 100%;margin-bottom: 0;padding: 0.3em;box-sizing: border-box;text-align: center;}#sk-container-id-1 label.sk-toggleable__label-arrow:before {content: \"▸\";float: left;margin-right: 0.25em;color: #696969;}#sk-container-id-1 label.sk-toggleable__label-arrow:hover:before {color: black;}#sk-container-id-1 div.sk-estimator:hover label.sk-toggleable__label-arrow:before {color: black;}#sk-container-id-1 div.sk-toggleable__content {max-height: 0;max-width: 0;overflow: hidden;text-align: left;background-color: #f0f8ff;}#sk-container-id-1 div.sk-toggleable__content pre {margin: 0.2em;color: black;border-radius: 0.25em;background-color: #f0f8ff;}#sk-container-id-1 input.sk-toggleable__control:checked~div.sk-toggleable__content {max-height: 200px;max-width: 100%;overflow: auto;}#sk-container-id-1 input.sk-toggleable__control:checked~label.sk-toggleable__label-arrow:before {content: \"▾\";}#sk-container-id-1 div.sk-estimator input.sk-toggleable__control:checked~label.sk-toggleable__label {background-color: #d4ebff;}#sk-container-id-1 div.sk-label input.sk-toggleable__control:checked~label.sk-toggleable__label {background-color: #d4ebff;}#sk-container-id-1 input.sk-hidden--visually {border: 0;clip: rect(1px 1px 1px 1px);clip: rect(1px, 1px, 1px, 1px);height: 1px;margin: -1px;overflow: hidden;padding: 0;position: absolute;width: 1px;}#sk-container-id-1 div.sk-estimator {font-family: monospace;background-color: #f0f8ff;border: 1px dotted black;border-radius: 0.25em;box-sizing: border-box;margin-bottom: 0.5em;}#sk-container-id-1 div.sk-estimator:hover {background-color: #d4ebff;}#sk-container-id-1 div.sk-parallel-item::after {content: \"\";width: 100%;border-bottom: 1px solid gray;flex-grow: 1;}#sk-container-id-1 div.sk-label:hover label.sk-toggleable__label {background-color: #d4ebff;}#sk-container-id-1 div.sk-serial::before {content: \"\";position: absolute;border-left: 1px solid gray;box-sizing: border-box;top: 0;bottom: 0;left: 50%;z-index: 0;}#sk-container-id-1 div.sk-serial {display: flex;flex-direction: column;align-items: center;background-color: white;padding-right: 0.2em;padding-left: 0.2em;position: relative;}#sk-container-id-1 div.sk-item {position: relative;z-index: 1;}#sk-container-id-1 div.sk-parallel {display: flex;align-items: stretch;justify-content: center;background-color: white;position: relative;}#sk-container-id-1 div.sk-item::before, #sk-container-id-1 div.sk-parallel-item::before {content: \"\";position: absolute;border-left: 1px solid gray;box-sizing: border-box;top: 0;bottom: 0;left: 50%;z-index: -1;}#sk-container-id-1 div.sk-parallel-item {display: flex;flex-direction: column;z-index: 1;position: relative;background-color: white;}#sk-container-id-1 div.sk-parallel-item:first-child::after {align-self: flex-end;width: 50%;}#sk-container-id-1 div.sk-parallel-item:last-child::after {align-self: flex-start;width: 50%;}#sk-container-id-1 div.sk-parallel-item:only-child::after {width: 0;}#sk-container-id-1 div.sk-dashed-wrapped {border: 1px dashed gray;margin: 0 0.4em 0.5em 0.4em;box-sizing: border-box;padding-bottom: 0.4em;background-color: white;}#sk-container-id-1 div.sk-label label {font-family: monospace;font-weight: bold;display: inline-block;line-height: 1.2em;}#sk-container-id-1 div.sk-label-container {text-align: center;}#sk-container-id-1 div.sk-container {/* jupyter's `normalize.less` sets `[hidden] { display: none; }` but bootstrap.min.css set `[hidden] { display: none !important; }` so we also need the `!important` here to be able to override the default hidden behavior on the sphinx rendered scikit-learn.org. See: https://github.com/scikit-learn/scikit-learn/issues/21755 */display: inline-block !important;position: relative;}#sk-container-id-1 div.sk-text-repr-fallback {display: none;}</style><div id=\"sk-container-id-1\" class=\"sk-top-container\"><div class=\"sk-text-repr-fallback\"><pre>Pipeline(steps=[(&#x27;vectorizer&#x27;,\n",
              "                 TfidfVectorizer(stop_words=[&#x27;i&#x27;, &#x27;me&#x27;, &#x27;my&#x27;, &#x27;myself&#x27;, &#x27;we&#x27;,\n",
              "                                             &#x27;our&#x27;, &#x27;ours&#x27;, &#x27;ourselves&#x27;, &#x27;you&#x27;,\n",
              "                                             &quot;you&#x27;re&quot;, &quot;you&#x27;ve&quot;, &quot;you&#x27;ll&quot;,\n",
              "                                             &quot;you&#x27;d&quot;, &#x27;your&#x27;, &#x27;yours&#x27;,\n",
              "                                             &#x27;yourself&#x27;, &#x27;yourselves&#x27;, &#x27;he&#x27;,\n",
              "                                             &#x27;him&#x27;, &#x27;his&#x27;, &#x27;himself&#x27;, &#x27;she&#x27;,\n",
              "                                             &quot;she&#x27;s&quot;, &#x27;her&#x27;, &#x27;hers&#x27;, &#x27;herself&#x27;,\n",
              "                                             &#x27;it&#x27;, &quot;it&#x27;s&quot;, &#x27;its&#x27;, &#x27;itself&#x27;, ...])),\n",
              "                (&#x27;model&#x27;, LogisticRegression(C=10, max_iter=400))])</pre><b>In a Jupyter environment, please rerun this cell to show the HTML representation or trust the notebook. <br />On GitHub, the HTML representation is unable to render, please try loading this page with nbviewer.org.</b></div><div class=\"sk-container\" hidden><div class=\"sk-item sk-dashed-wrapped\"><div class=\"sk-label-container\"><div class=\"sk-label sk-toggleable\"><input class=\"sk-toggleable__control sk-hidden--visually\" id=\"sk-estimator-id-1\" type=\"checkbox\" ><label for=\"sk-estimator-id-1\" class=\"sk-toggleable__label sk-toggleable__label-arrow\">Pipeline</label><div class=\"sk-toggleable__content\"><pre>Pipeline(steps=[(&#x27;vectorizer&#x27;,\n",
              "                 TfidfVectorizer(stop_words=[&#x27;i&#x27;, &#x27;me&#x27;, &#x27;my&#x27;, &#x27;myself&#x27;, &#x27;we&#x27;,\n",
              "                                             &#x27;our&#x27;, &#x27;ours&#x27;, &#x27;ourselves&#x27;, &#x27;you&#x27;,\n",
              "                                             &quot;you&#x27;re&quot;, &quot;you&#x27;ve&quot;, &quot;you&#x27;ll&quot;,\n",
              "                                             &quot;you&#x27;d&quot;, &#x27;your&#x27;, &#x27;yours&#x27;,\n",
              "                                             &#x27;yourself&#x27;, &#x27;yourselves&#x27;, &#x27;he&#x27;,\n",
              "                                             &#x27;him&#x27;, &#x27;his&#x27;, &#x27;himself&#x27;, &#x27;she&#x27;,\n",
              "                                             &quot;she&#x27;s&quot;, &#x27;her&#x27;, &#x27;hers&#x27;, &#x27;herself&#x27;,\n",
              "                                             &#x27;it&#x27;, &quot;it&#x27;s&quot;, &#x27;its&#x27;, &#x27;itself&#x27;, ...])),\n",
              "                (&#x27;model&#x27;, LogisticRegression(C=10, max_iter=400))])</pre></div></div></div><div class=\"sk-serial\"><div class=\"sk-item\"><div class=\"sk-estimator sk-toggleable\"><input class=\"sk-toggleable__control sk-hidden--visually\" id=\"sk-estimator-id-2\" type=\"checkbox\" ><label for=\"sk-estimator-id-2\" class=\"sk-toggleable__label sk-toggleable__label-arrow\">TfidfVectorizer</label><div class=\"sk-toggleable__content\"><pre>TfidfVectorizer(stop_words=[&#x27;i&#x27;, &#x27;me&#x27;, &#x27;my&#x27;, &#x27;myself&#x27;, &#x27;we&#x27;, &#x27;our&#x27;, &#x27;ours&#x27;,\n",
              "                            &#x27;ourselves&#x27;, &#x27;you&#x27;, &quot;you&#x27;re&quot;, &quot;you&#x27;ve&quot;, &quot;you&#x27;ll&quot;,\n",
              "                            &quot;you&#x27;d&quot;, &#x27;your&#x27;, &#x27;yours&#x27;, &#x27;yourself&#x27;, &#x27;yourselves&#x27;,\n",
              "                            &#x27;he&#x27;, &#x27;him&#x27;, &#x27;his&#x27;, &#x27;himself&#x27;, &#x27;she&#x27;, &quot;she&#x27;s&quot;,\n",
              "                            &#x27;her&#x27;, &#x27;hers&#x27;, &#x27;herself&#x27;, &#x27;it&#x27;, &quot;it&#x27;s&quot;, &#x27;its&#x27;,\n",
              "                            &#x27;itself&#x27;, ...])</pre></div></div></div><div class=\"sk-item\"><div class=\"sk-estimator sk-toggleable\"><input class=\"sk-toggleable__control sk-hidden--visually\" id=\"sk-estimator-id-3\" type=\"checkbox\" ><label for=\"sk-estimator-id-3\" class=\"sk-toggleable__label sk-toggleable__label-arrow\">LogisticRegression</label><div class=\"sk-toggleable__content\"><pre>LogisticRegression(C=10, max_iter=400)</pre></div></div></div></div></div></div></div>"
            ],
            "text/plain": [
              "Pipeline(steps=[('vectorizer',\n",
              "                 TfidfVectorizer(stop_words=['i', 'me', 'my', 'myself', 'we',\n",
              "                                             'our', 'ours', 'ourselves', 'you',\n",
              "                                             \"you're\", \"you've\", \"you'll\",\n",
              "                                             \"you'd\", 'your', 'yours',\n",
              "                                             'yourself', 'yourselves', 'he',\n",
              "                                             'him', 'his', 'himself', 'she',\n",
              "                                             \"she's\", 'her', 'hers', 'herself',\n",
              "                                             'it', \"it's\", 'its', 'itself', ...])),\n",
              "                ('model', LogisticRegression(C=10, max_iter=400))])"
            ]
          },
          "execution_count": 54,
          "metadata": {},
          "output_type": "execute_result"
        }
      ],
      "source": [
        "#Лучшая модель по точности\n",
        "best_estimator"
      ]
    },
    {
      "cell_type": "code",
      "execution_count": null,
      "metadata": {
        "colab": {
          "base_uri": "https://localhost:8080/"
        },
        "id": "WpOeA__mZ4IP",
        "outputId": "09571fe7-e979-4f6c-a8ab-9cc574312bda"
      },
      "outputs": [
        {
          "data": {
            "text/plain": [
              "{'model__C': 10, 'model__max_iter': 400}"
            ]
          },
          "execution_count": 55,
          "metadata": {},
          "output_type": "execute_result"
        }
      ],
      "source": [
        "\n",
        "#Лучшие параметры самой точной модели\n",
        "best_params"
      ]
    },
    {
      "cell_type": "code",
      "execution_count": null,
      "metadata": {
        "colab": {
          "base_uri": "https://localhost:8080/"
        },
        "id": "kQzy7NEpZ4so",
        "outputId": "eebdb2ea-3d1f-4afc-e946-f3fb796d3a6f"
      },
      "outputs": [
        {
          "data": {
            "text/plain": [
              "('Лучший результат', 0.7770319531299276)"
            ]
          },
          "execution_count": 56,
          "metadata": {},
          "output_type": "execute_result"
        }
      ],
      "source": [
        "#Результат точности лучшей модели на обучающей выборке\n",
        "\"Лучший результат\", best_score"
      ]
    },
    {
      "cell_type": "code",
      "execution_count": null,
      "metadata": {
        "colab": {
          "base_uri": "https://localhost:8080/"
        },
        "id": "mAC54GAIaBCO",
        "outputId": "04573912-2b5c-4dfa-df44-565a949699c3"
      },
      "outputs": [
        {
          "data": {
            "text/plain": [
              "('Точность', 0.7908146161582299)"
            ]
          },
          "execution_count": 57,
          "metadata": {},
          "output_type": "execute_result"
        }
      ],
      "source": [
        "preds = best_estimator.predict(test_features)\n",
        "\"Точность\", f1_score(test_target, preds)"
      ]
    },
    {
      "cell_type": "markdown",
      "metadata": {
        "id": "tDVli2WYhka0"
      },
      "source": [
        "### Проверка на адекватность"
      ]
    },
    {
      "cell_type": "code",
      "execution_count": null,
      "metadata": {
        "colab": {
          "base_uri": "https://localhost:8080/"
        },
        "id": "hyn0P7WRcn-J",
        "outputId": "717847ba-3a51-4aa1-8cc4-9a710f330162"
      },
      "outputs": [
        {
          "data": {
            "text/plain": [
              "0.16809394390031282"
            ]
          },
          "execution_count": 40,
          "metadata": {},
          "output_type": "execute_result"
        }
      ],
      "source": [
        "dummyreg = DummyClassifier(strategy = 'uniform', random_state=12345)\n",
        "dummyreg.fit(train_features, train_target)\n",
        "preds = dummyreg.predict(test_features)\n",
        "scores = f1_score(test_target, preds)\n",
        "scores"
      ]
    },
    {
      "cell_type": "markdown",
      "metadata": {
        "id": "34zUVu1Bpzhk"
      },
      "source": [
        "Лучшие результаты нам удалось получить с помощью логистической регрессии, f1 на тестовой выборке равен ~0.79. Модель прошла тест на адеватность, так как f1 больше 0.17"
      ]
    },
    {
      "cell_type": "markdown",
      "metadata": {
        "id": "jiIdEB2Rcn-J"
      },
      "source": [
        "## Выводы"
      ]
    },
    {
      "cell_type": "markdown",
      "metadata": {
        "id": "8mSjRyReqfRo"
      },
      "source": [
        "Мы очистили тексты от лишних символов, лематизировали их, поделили на выборке, токенизировали и векторизировали. Для определения токсичности текста мы воспользовались двумя моделями: логистической регрессией и бустингом catboost. Лучший результат получился при обучении логистической регрессии, при которой f1 оказался равен 0.79"
      ]
    }
  ],
  "metadata": {
    "ExecuteTimeLog": [
      {
        "duration": 6997,
        "start_time": "2023-06-30T11:05:21.446Z"
      },
      {
        "duration": 5052,
        "start_time": "2023-06-30T11:05:28.446Z"
      },
      {
        "duration": 49,
        "start_time": "2023-06-30T11:05:33.501Z"
      },
      {
        "duration": 78,
        "start_time": "2023-06-30T11:10:04.221Z"
      },
      {
        "duration": 34,
        "start_time": "2023-06-30T11:10:04.915Z"
      },
      {
        "duration": 48,
        "start_time": "2023-06-30T11:10:06.228Z"
      },
      {
        "duration": 298,
        "start_time": "2023-06-30T11:10:14.834Z"
      },
      {
        "duration": 15,
        "start_time": "2023-06-30T11:10:22.514Z"
      },
      {
        "duration": 300,
        "start_time": "2023-06-30T11:10:28.105Z"
      },
      {
        "duration": 1081,
        "start_time": "2023-06-30T11:11:42.728Z"
      },
      {
        "duration": 49,
        "start_time": "2023-06-30T11:11:44.156Z"
      },
      {
        "duration": 37,
        "start_time": "2023-06-30T11:11:44.598Z"
      },
      {
        "duration": 23,
        "start_time": "2023-06-30T11:11:45.550Z"
      },
      {
        "duration": 27,
        "start_time": "2023-06-30T11:11:49.270Z"
      },
      {
        "duration": 2297,
        "start_time": "2023-06-30T11:37:06.814Z"
      },
      {
        "duration": 46,
        "start_time": "2023-06-30T11:37:09.114Z"
      },
      {
        "duration": 69,
        "start_time": "2023-06-30T11:37:09.163Z"
      },
      {
        "duration": 24,
        "start_time": "2023-06-30T11:37:35.203Z"
      },
      {
        "duration": 13,
        "start_time": "2023-06-30T11:37:40.915Z"
      },
      {
        "duration": 53,
        "start_time": "2023-06-30T11:38:21.934Z"
      },
      {
        "duration": 47,
        "start_time": "2023-06-30T11:38:34.253Z"
      },
      {
        "duration": 11783,
        "start_time": "2023-06-30T11:38:38.808Z"
      },
      {
        "duration": 6,
        "start_time": "2023-06-30T11:39:04.150Z"
      },
      {
        "duration": 12986,
        "start_time": "2023-06-30T11:39:37.350Z"
      },
      {
        "duration": 6,
        "start_time": "2023-06-30T11:39:56.750Z"
      },
      {
        "duration": 72724,
        "start_time": "2023-06-30T11:40:11.768Z"
      },
      {
        "duration": 13,
        "start_time": "2023-06-30T11:41:24.495Z"
      },
      {
        "duration": 72,
        "start_time": "2023-06-30T11:41:53.174Z"
      },
      {
        "duration": 19,
        "start_time": "2023-06-30T11:42:16.699Z"
      },
      {
        "duration": 7,
        "start_time": "2023-06-30T11:42:22.055Z"
      },
      {
        "duration": 5,
        "start_time": "2023-06-30T11:42:33.527Z"
      },
      {
        "duration": 31,
        "start_time": "2023-06-30T11:42:42.418Z"
      },
      {
        "duration": 22,
        "start_time": "2023-06-30T11:42:44.167Z"
      },
      {
        "duration": 64981,
        "start_time": "2023-06-30T11:43:03.529Z"
      },
      {
        "duration": 30,
        "start_time": "2023-06-30T11:45:26.849Z"
      },
      {
        "duration": 9,
        "start_time": "2023-06-30T11:45:40.710Z"
      },
      {
        "duration": 83416,
        "start_time": "2023-06-30T11:48:51.296Z"
      },
      {
        "duration": 12,
        "start_time": "2023-06-30T11:50:14.715Z"
      },
      {
        "duration": 292889,
        "start_time": "2023-06-30T11:50:14.730Z"
      },
      {
        "duration": 0,
        "start_time": "2023-06-30T11:55:07.625Z"
      },
      {
        "duration": 0,
        "start_time": "2023-06-30T11:55:07.627Z"
      },
      {
        "duration": 0,
        "start_time": "2023-06-30T11:55:07.629Z"
      },
      {
        "duration": 11,
        "start_time": "2023-06-30T12:28:59.965Z"
      },
      {
        "duration": 11,
        "start_time": "2023-06-30T12:29:03.542Z"
      },
      {
        "duration": 53,
        "start_time": "2023-06-30T12:29:12.911Z"
      },
      {
        "duration": 57,
        "start_time": "2023-06-30T12:29:25.254Z"
      },
      {
        "duration": 183,
        "start_time": "2023-06-30T12:31:01.461Z"
      },
      {
        "duration": 7,
        "start_time": "2023-06-30T12:33:47.024Z"
      },
      {
        "duration": 3563,
        "start_time": "2023-06-30T12:33:47.034Z"
      },
      {
        "duration": 47,
        "start_time": "2023-06-30T12:33:50.599Z"
      },
      {
        "duration": 14,
        "start_time": "2023-06-30T12:33:50.648Z"
      },
      {
        "duration": 50,
        "start_time": "2023-06-30T12:33:50.667Z"
      },
      {
        "duration": 27,
        "start_time": "2023-06-30T12:33:50.719Z"
      },
      {
        "duration": 195,
        "start_time": "2023-06-30T12:33:50.749Z"
      },
      {
        "duration": 12050,
        "start_time": "2023-06-30T12:33:50.946Z"
      },
      {
        "duration": 0,
        "start_time": "2023-06-30T12:34:03.001Z"
      },
      {
        "duration": 9,
        "start_time": "2023-06-30T12:34:19.518Z"
      },
      {
        "duration": 1200,
        "start_time": "2023-06-30T12:34:19.531Z"
      },
      {
        "duration": 55,
        "start_time": "2023-06-30T12:34:20.734Z"
      },
      {
        "duration": 32,
        "start_time": "2023-06-30T12:34:20.793Z"
      },
      {
        "duration": 83,
        "start_time": "2023-06-30T12:34:20.830Z"
      },
      {
        "duration": 31,
        "start_time": "2023-06-30T12:34:20.916Z"
      },
      {
        "duration": 18,
        "start_time": "2023-06-30T12:34:20.950Z"
      },
      {
        "duration": 21,
        "start_time": "2023-06-30T12:34:20.970Z"
      },
      {
        "duration": 63103,
        "start_time": "2023-06-30T12:34:20.994Z"
      },
      {
        "duration": 9,
        "start_time": "2023-06-30T12:35:24.099Z"
      },
      {
        "duration": 88894,
        "start_time": "2023-06-30T12:35:24.111Z"
      },
      {
        "duration": 0,
        "start_time": "2023-06-30T12:36:53.067Z"
      },
      {
        "duration": 0,
        "start_time": "2023-06-30T12:36:53.069Z"
      },
      {
        "duration": 15,
        "start_time": "2023-06-30T12:37:09.426Z"
      },
      {
        "duration": 21,
        "start_time": "2023-06-30T12:37:14.826Z"
      },
      {
        "duration": 5,
        "start_time": "2023-06-30T12:38:01.900Z"
      },
      {
        "duration": 3920,
        "start_time": "2023-06-30T12:38:01.908Z"
      },
      {
        "duration": 47,
        "start_time": "2023-06-30T12:38:05.832Z"
      },
      {
        "duration": 22,
        "start_time": "2023-06-30T12:38:05.881Z"
      },
      {
        "duration": 75,
        "start_time": "2023-06-30T12:38:05.906Z"
      },
      {
        "duration": 24,
        "start_time": "2023-06-30T12:38:05.984Z"
      },
      {
        "duration": 25,
        "start_time": "2023-06-30T12:38:06.011Z"
      },
      {
        "duration": 12000,
        "start_time": "2023-06-30T12:38:15.819Z"
      },
      {
        "duration": 6,
        "start_time": "2023-06-30T12:38:27.822Z"
      },
      {
        "duration": 70668,
        "start_time": "2023-06-30T12:38:27.830Z"
      },
      {
        "duration": 67,
        "start_time": "2023-06-30T12:39:38.501Z"
      },
      {
        "duration": 23,
        "start_time": "2023-06-30T12:40:23.485Z"
      },
      {
        "duration": 3671,
        "start_time": "2023-06-30T12:40:44.812Z"
      },
      {
        "duration": 6,
        "start_time": "2023-06-30T12:40:49.723Z"
      },
      {
        "duration": 907,
        "start_time": "2023-06-30T12:40:49.732Z"
      },
      {
        "duration": 45,
        "start_time": "2023-06-30T12:40:50.641Z"
      },
      {
        "duration": 46,
        "start_time": "2023-06-30T12:40:50.689Z"
      },
      {
        "duration": 45,
        "start_time": "2023-06-30T12:40:50.738Z"
      },
      {
        "duration": 21,
        "start_time": "2023-06-30T12:40:50.785Z"
      },
      {
        "duration": 42,
        "start_time": "2023-06-30T12:40:50.808Z"
      },
      {
        "duration": 8183,
        "start_time": "2023-06-30T12:41:20.310Z"
      },
      {
        "duration": 3557,
        "start_time": "2023-06-30T12:41:28.497Z"
      },
      {
        "duration": 44,
        "start_time": "2023-06-30T12:41:32.056Z"
      },
      {
        "duration": 58,
        "start_time": "2023-06-30T12:41:32.102Z"
      },
      {
        "duration": 96,
        "start_time": "2023-06-30T12:41:32.164Z"
      },
      {
        "duration": 277,
        "start_time": "2023-06-30T12:41:32.263Z"
      },
      {
        "duration": 0,
        "start_time": "2023-06-30T12:41:32.543Z"
      },
      {
        "duration": 0,
        "start_time": "2023-06-30T12:41:32.546Z"
      },
      {
        "duration": 0,
        "start_time": "2023-06-30T12:41:32.548Z"
      },
      {
        "duration": 0,
        "start_time": "2023-06-30T12:41:32.550Z"
      },
      {
        "duration": 0,
        "start_time": "2023-06-30T12:41:32.567Z"
      },
      {
        "duration": 0,
        "start_time": "2023-06-30T12:41:32.569Z"
      },
      {
        "duration": 5,
        "start_time": "2023-06-30T12:42:17.941Z"
      },
      {
        "duration": 1078,
        "start_time": "2023-06-30T12:42:17.950Z"
      },
      {
        "duration": 51,
        "start_time": "2023-06-30T12:42:19.031Z"
      },
      {
        "duration": 29,
        "start_time": "2023-06-30T12:42:19.084Z"
      },
      {
        "duration": 86,
        "start_time": "2023-06-30T12:42:19.117Z"
      },
      {
        "duration": 29,
        "start_time": "2023-06-30T12:42:19.205Z"
      },
      {
        "duration": 188,
        "start_time": "2023-06-30T12:42:19.238Z"
      },
      {
        "duration": 38614,
        "start_time": "2023-06-30T12:42:19.429Z"
      },
      {
        "duration": 7,
        "start_time": "2023-06-30T12:42:58.046Z"
      },
      {
        "duration": 102253,
        "start_time": "2023-06-30T12:42:58.055Z"
      },
      {
        "duration": 0,
        "start_time": "2023-06-30T12:44:40.311Z"
      },
      {
        "duration": 0,
        "start_time": "2023-06-30T12:44:40.313Z"
      },
      {
        "duration": 106619,
        "start_time": "2023-06-30T12:45:11.705Z"
      },
      {
        "duration": 51,
        "start_time": "2023-06-30T12:46:58.327Z"
      },
      {
        "duration": 16,
        "start_time": "2023-06-30T12:46:58.381Z"
      },
      {
        "duration": 56,
        "start_time": "2023-06-30T12:47:20.937Z"
      },
      {
        "duration": 66215,
        "start_time": "2023-06-30T12:47:26.953Z"
      },
      {
        "duration": 104009,
        "start_time": "2023-06-30T12:48:33.172Z"
      },
      {
        "duration": 40,
        "start_time": "2023-06-30T12:50:17.184Z"
      },
      {
        "duration": 18,
        "start_time": "2023-06-30T12:50:17.228Z"
      },
      {
        "duration": 63,
        "start_time": "2023-06-30T12:50:17.249Z"
      },
      {
        "duration": 38311,
        "start_time": "2023-06-30T12:50:48.747Z"
      },
      {
        "duration": 99541,
        "start_time": "2023-06-30T12:51:27.061Z"
      },
      {
        "duration": 41,
        "start_time": "2023-06-30T12:53:06.605Z"
      },
      {
        "duration": 32,
        "start_time": "2023-06-30T12:53:06.650Z"
      },
      {
        "duration": 40,
        "start_time": "2023-06-30T12:53:06.684Z"
      },
      {
        "duration": 26,
        "start_time": "2023-06-30T12:53:46.960Z"
      },
      {
        "duration": 82,
        "start_time": "2023-06-30T12:54:25.567Z"
      },
      {
        "duration": 99,
        "start_time": "2023-06-30T13:06:53.099Z"
      },
      {
        "duration": 9,
        "start_time": "2023-06-30T13:06:59.205Z"
      },
      {
        "duration": 9,
        "start_time": "2023-06-30T13:07:02.113Z"
      },
      {
        "duration": 8706,
        "start_time": "2023-06-30T13:08:14.515Z"
      },
      {
        "duration": 4161,
        "start_time": "2023-06-30T13:08:23.224Z"
      },
      {
        "duration": 40,
        "start_time": "2023-06-30T13:08:27.387Z"
      },
      {
        "duration": 15,
        "start_time": "2023-06-30T13:08:27.429Z"
      },
      {
        "duration": 84,
        "start_time": "2023-06-30T13:08:27.446Z"
      },
      {
        "duration": 22,
        "start_time": "2023-06-30T13:08:27.533Z"
      },
      {
        "duration": 353,
        "start_time": "2023-06-30T13:08:52.500Z"
      },
      {
        "duration": 4,
        "start_time": "2023-06-30T13:09:20.408Z"
      },
      {
        "duration": 242902,
        "start_time": "2023-06-30T13:10:06.018Z"
      },
      {
        "duration": 7,
        "start_time": "2023-06-30T13:14:08.923Z"
      },
      {
        "duration": 61,
        "start_time": "2023-06-30T13:15:03.198Z"
      },
      {
        "duration": 16,
        "start_time": "2023-06-30T13:15:19.019Z"
      },
      {
        "duration": 49,
        "start_time": "2023-06-30T13:15:20.419Z"
      },
      {
        "duration": 1804,
        "start_time": "2023-06-30T13:15:20.897Z"
      },
      {
        "duration": 20,
        "start_time": "2023-06-30T13:15:28.324Z"
      },
      {
        "duration": 14,
        "start_time": "2023-06-30T13:15:45.154Z"
      },
      {
        "duration": 38225,
        "start_time": "2023-06-30T13:16:30.619Z"
      },
      {
        "duration": 5,
        "start_time": "2023-06-30T13:17:08.847Z"
      },
      {
        "duration": 89358,
        "start_time": "2023-06-30T13:17:08.854Z"
      },
      {
        "duration": 37,
        "start_time": "2023-06-30T13:18:38.215Z"
      },
      {
        "duration": 29,
        "start_time": "2023-06-30T13:18:38.254Z"
      },
      {
        "duration": 47,
        "start_time": "2023-06-30T13:20:01.597Z"
      },
      {
        "duration": 6,
        "start_time": "2023-06-30T13:23:12.736Z"
      },
      {
        "duration": 881,
        "start_time": "2023-06-30T13:23:12.745Z"
      },
      {
        "duration": 46,
        "start_time": "2023-06-30T13:23:13.628Z"
      },
      {
        "duration": 145,
        "start_time": "2023-06-30T13:23:13.677Z"
      },
      {
        "duration": 4,
        "start_time": "2023-06-30T13:23:13.825Z"
      },
      {
        "duration": 214836,
        "start_time": "2023-06-30T13:23:13.831Z"
      },
      {
        "duration": 17,
        "start_time": "2023-06-30T13:26:48.668Z"
      },
      {
        "duration": 17,
        "start_time": "2023-06-30T13:26:48.688Z"
      },
      {
        "duration": 0,
        "start_time": "2023-06-30T13:26:48.707Z"
      },
      {
        "duration": 0,
        "start_time": "2023-06-30T13:26:48.708Z"
      },
      {
        "duration": 0,
        "start_time": "2023-06-30T13:26:48.709Z"
      },
      {
        "duration": 0,
        "start_time": "2023-06-30T13:26:48.711Z"
      },
      {
        "duration": 20,
        "start_time": "2023-06-30T13:27:00.504Z"
      },
      {
        "duration": 2146,
        "start_time": "2023-06-30T13:28:29.713Z"
      },
      {
        "duration": 634,
        "start_time": "2023-06-30T13:28:45.105Z"
      },
      {
        "duration": 3,
        "start_time": "2023-06-30T13:28:53.377Z"
      },
      {
        "duration": 3161372,
        "start_time": "2023-06-30T13:29:05.961Z"
      },
      {
        "duration": 21,
        "start_time": "2023-06-30T14:21:47.339Z"
      },
      {
        "duration": 52,
        "start_time": "2023-06-30T14:50:56.158Z"
      },
      {
        "duration": 41,
        "start_time": "2023-06-30T14:50:57.732Z"
      },
      {
        "duration": 23,
        "start_time": "2023-06-30T14:51:02.593Z"
      },
      {
        "duration": 197,
        "start_time": "2023-06-30T14:51:06.061Z"
      },
      {
        "duration": 35886,
        "start_time": "2023-06-30T14:51:07.200Z"
      },
      {
        "duration": 6,
        "start_time": "2023-06-30T14:51:43.088Z"
      },
      {
        "duration": 120360,
        "start_time": "2023-06-30T14:51:43.097Z"
      },
      {
        "duration": 58,
        "start_time": "2023-06-30T14:53:43.460Z"
      },
      {
        "duration": 18,
        "start_time": "2023-06-30T14:53:43.520Z"
      },
      {
        "duration": 62,
        "start_time": "2023-06-30T14:53:43.539Z"
      },
      {
        "duration": 10776,
        "start_time": "2023-06-30T15:02:22.330Z"
      },
      {
        "duration": 3822,
        "start_time": "2023-06-30T15:02:33.109Z"
      },
      {
        "duration": 39,
        "start_time": "2023-06-30T15:02:36.933Z"
      },
      {
        "duration": 329,
        "start_time": "2023-06-30T15:02:36.974Z"
      },
      {
        "duration": 4,
        "start_time": "2023-06-30T15:02:37.305Z"
      },
      {
        "duration": 229418,
        "start_time": "2023-06-30T15:02:37.311Z"
      },
      {
        "duration": 13,
        "start_time": "2023-06-30T15:06:26.731Z"
      },
      {
        "duration": 669,
        "start_time": "2023-06-30T15:06:26.746Z"
      },
      {
        "duration": 3,
        "start_time": "2023-06-30T15:06:27.418Z"
      },
      {
        "duration": 3251204,
        "start_time": "2023-06-30T15:06:27.423Z"
      },
      {
        "duration": 15,
        "start_time": "2023-06-30T16:00:38.629Z"
      },
      {
        "duration": 57,
        "start_time": "2023-06-30T16:00:38.646Z"
      },
      {
        "duration": 35,
        "start_time": "2023-06-30T16:00:38.706Z"
      },
      {
        "duration": 34,
        "start_time": "2023-06-30T16:00:38.744Z"
      },
      {
        "duration": 240,
        "start_time": "2023-06-30T16:00:38.781Z"
      },
      {
        "duration": 62,
        "start_time": "2023-06-30T16:18:58.590Z"
      },
      {
        "duration": 8,
        "start_time": "2023-06-30T16:19:00.106Z"
      },
      {
        "duration": 9922,
        "start_time": "2023-06-30T16:19:05.116Z"
      },
      {
        "duration": 3390,
        "start_time": "2023-06-30T16:19:15.042Z"
      },
      {
        "duration": 39,
        "start_time": "2023-06-30T16:19:18.435Z"
      },
      {
        "duration": 281,
        "start_time": "2023-06-30T16:19:18.476Z"
      },
      {
        "duration": 4,
        "start_time": "2023-06-30T16:19:18.760Z"
      },
      {
        "duration": 65,
        "start_time": "2023-07-01T09:57:19.188Z"
      },
      {
        "duration": 1889,
        "start_time": "2023-07-01T15:20:54.629Z"
      },
      {
        "duration": 0,
        "start_time": "2023-07-01T15:20:56.520Z"
      },
      {
        "duration": 0,
        "start_time": "2023-07-01T15:20:56.521Z"
      },
      {
        "duration": 0,
        "start_time": "2023-07-01T15:20:56.521Z"
      },
      {
        "duration": 0,
        "start_time": "2023-07-01T15:20:56.523Z"
      },
      {
        "duration": 0,
        "start_time": "2023-07-01T15:20:56.523Z"
      }
    ],
    "colab": {
      "provenance": []
    },
    "kernelspec": {
      "display_name": "Python 3 (ipykernel)",
      "language": "python",
      "name": "python3"
    },
    "language_info": {
      "codemirror_mode": {
        "name": "ipython",
        "version": 3
      },
      "file_extension": ".py",
      "mimetype": "text/x-python",
      "name": "python",
      "nbconvert_exporter": "python",
      "pygments_lexer": "ipython3",
      "version": "3.9.5"
    },
    "toc": {
      "base_numbering": 1,
      "nav_menu": {},
      "number_sections": true,
      "sideBar": true,
      "skip_h1_title": true,
      "title_cell": "Содержание",
      "title_sidebar": "Contents",
      "toc_cell": true,
      "toc_position": {
        "height": "calc(100% - 180px)",
        "left": "10px",
        "top": "150px",
        "width": "302.391px"
      },
      "toc_section_display": true,
      "toc_window_display": false
    },
    "widgets": {
      "application/vnd.jupyter.widget-state+json": {
        "0060c57f73514d159594810d45c9a81c": {
          "model_module": "@jupyter-widgets/base",
          "model_module_version": "1.2.0",
          "model_name": "LayoutModel",
          "state": {
            "_model_module": "@jupyter-widgets/base",
            "_model_module_version": "1.2.0",
            "_model_name": "LayoutModel",
            "_view_count": null,
            "_view_module": "@jupyter-widgets/base",
            "_view_module_version": "1.2.0",
            "_view_name": "LayoutView",
            "align_content": null,
            "align_items": null,
            "align_self": null,
            "border": null,
            "bottom": null,
            "display": null,
            "flex": null,
            "flex_flow": null,
            "grid_area": null,
            "grid_auto_columns": null,
            "grid_auto_flow": null,
            "grid_auto_rows": null,
            "grid_column": null,
            "grid_gap": null,
            "grid_row": null,
            "grid_template_areas": null,
            "grid_template_columns": null,
            "grid_template_rows": null,
            "height": null,
            "justify_content": null,
            "justify_items": null,
            "left": null,
            "margin": null,
            "max_height": null,
            "max_width": null,
            "min_height": null,
            "min_width": null,
            "object_fit": null,
            "object_position": null,
            "order": null,
            "overflow": null,
            "overflow_x": null,
            "overflow_y": null,
            "padding": null,
            "right": null,
            "top": null,
            "visibility": null,
            "width": null
          }
        },
        "1de01a6de235438fbbac9801ec55cad4": {
          "model_module": "@jupyter-widgets/base",
          "model_module_version": "1.2.0",
          "model_name": "LayoutModel",
          "state": {
            "_model_module": "@jupyter-widgets/base",
            "_model_module_version": "1.2.0",
            "_model_name": "LayoutModel",
            "_view_count": null,
            "_view_module": "@jupyter-widgets/base",
            "_view_module_version": "1.2.0",
            "_view_name": "LayoutView",
            "align_content": null,
            "align_items": null,
            "align_self": null,
            "border": null,
            "bottom": null,
            "display": null,
            "flex": null,
            "flex_flow": null,
            "grid_area": null,
            "grid_auto_columns": null,
            "grid_auto_flow": null,
            "grid_auto_rows": null,
            "grid_column": null,
            "grid_gap": null,
            "grid_row": null,
            "grid_template_areas": null,
            "grid_template_columns": null,
            "grid_template_rows": null,
            "height": null,
            "justify_content": null,
            "justify_items": null,
            "left": null,
            "margin": null,
            "max_height": null,
            "max_width": null,
            "min_height": null,
            "min_width": null,
            "object_fit": null,
            "object_position": null,
            "order": null,
            "overflow": null,
            "overflow_x": null,
            "overflow_y": null,
            "padding": null,
            "right": null,
            "top": null,
            "visibility": null,
            "width": null
          }
        },
        "64c2c0eac686459293a0cacab8990dd4": {
          "model_module": "@jupyter-widgets/controls",
          "model_module_version": "1.5.0",
          "model_name": "HTMLModel",
          "state": {
            "_dom_classes": [],
            "_model_module": "@jupyter-widgets/controls",
            "_model_module_version": "1.5.0",
            "_model_name": "HTMLModel",
            "_view_count": null,
            "_view_module": "@jupyter-widgets/controls",
            "_view_module_version": "1.5.0",
            "_view_name": "HTMLView",
            "description": "",
            "description_tooltip": null,
            "layout": "IPY_MODEL_cb44972b1c9041ac8da343add1da34bc",
            "placeholder": "​",
            "style": "IPY_MODEL_67b21bc71e2a43538350b5728ad4508c",
            "value": "Pandas Apply: 100%"
          }
        },
        "678429d488d5403991e1e692d45d5fcd": {
          "model_module": "@jupyter-widgets/controls",
          "model_module_version": "1.5.0",
          "model_name": "ProgressStyleModel",
          "state": {
            "_model_module": "@jupyter-widgets/controls",
            "_model_module_version": "1.5.0",
            "_model_name": "ProgressStyleModel",
            "_view_count": null,
            "_view_module": "@jupyter-widgets/base",
            "_view_module_version": "1.2.0",
            "_view_name": "StyleView",
            "bar_color": null,
            "description_width": ""
          }
        },
        "67b21bc71e2a43538350b5728ad4508c": {
          "model_module": "@jupyter-widgets/controls",
          "model_module_version": "1.5.0",
          "model_name": "DescriptionStyleModel",
          "state": {
            "_model_module": "@jupyter-widgets/controls",
            "_model_module_version": "1.5.0",
            "_model_name": "DescriptionStyleModel",
            "_view_count": null,
            "_view_module": "@jupyter-widgets/base",
            "_view_module_version": "1.2.0",
            "_view_name": "StyleView",
            "description_width": ""
          }
        },
        "6ec3f00055e449a2b2865edcad72c31d": {
          "model_module": "@jupyter-widgets/controls",
          "model_module_version": "1.5.0",
          "model_name": "HTMLModel",
          "state": {
            "_dom_classes": [],
            "_model_module": "@jupyter-widgets/controls",
            "_model_module_version": "1.5.0",
            "_model_name": "HTMLModel",
            "_view_count": null,
            "_view_module": "@jupyter-widgets/controls",
            "_view_module_version": "1.5.0",
            "_view_name": "HTMLView",
            "description": "",
            "description_tooltip": null,
            "layout": "IPY_MODEL_1de01a6de235438fbbac9801ec55cad4",
            "placeholder": "​",
            "style": "IPY_MODEL_d34182d71c6f4358b65bd1b3e0b8beff",
            "value": " 161852/161852 [26:35&lt;00:00, 129.91it/s]"
          }
        },
        "893c1b45ddc04c419cf59c8bcc54816c": {
          "model_module": "@jupyter-widgets/controls",
          "model_module_version": "1.5.0",
          "model_name": "HBoxModel",
          "state": {
            "_dom_classes": [],
            "_model_module": "@jupyter-widgets/controls",
            "_model_module_version": "1.5.0",
            "_model_name": "HBoxModel",
            "_view_count": null,
            "_view_module": "@jupyter-widgets/controls",
            "_view_module_version": "1.5.0",
            "_view_name": "HBoxView",
            "box_style": "",
            "children": [
              "IPY_MODEL_64c2c0eac686459293a0cacab8990dd4",
              "IPY_MODEL_997befe07f6d49d0ad7b5e9537c9159f",
              "IPY_MODEL_6ec3f00055e449a2b2865edcad72c31d"
            ],
            "layout": "IPY_MODEL_fbdb0cb328c54bb483d26cec9c3407bc"
          }
        },
        "997befe07f6d49d0ad7b5e9537c9159f": {
          "model_module": "@jupyter-widgets/controls",
          "model_module_version": "1.5.0",
          "model_name": "FloatProgressModel",
          "state": {
            "_dom_classes": [],
            "_model_module": "@jupyter-widgets/controls",
            "_model_module_version": "1.5.0",
            "_model_name": "FloatProgressModel",
            "_view_count": null,
            "_view_module": "@jupyter-widgets/controls",
            "_view_module_version": "1.5.0",
            "_view_name": "ProgressView",
            "bar_style": "success",
            "description": "",
            "description_tooltip": null,
            "layout": "IPY_MODEL_0060c57f73514d159594810d45c9a81c",
            "max": 161852,
            "min": 0,
            "orientation": "horizontal",
            "style": "IPY_MODEL_678429d488d5403991e1e692d45d5fcd",
            "value": 161852
          }
        },
        "cb44972b1c9041ac8da343add1da34bc": {
          "model_module": "@jupyter-widgets/base",
          "model_module_version": "1.2.0",
          "model_name": "LayoutModel",
          "state": {
            "_model_module": "@jupyter-widgets/base",
            "_model_module_version": "1.2.0",
            "_model_name": "LayoutModel",
            "_view_count": null,
            "_view_module": "@jupyter-widgets/base",
            "_view_module_version": "1.2.0",
            "_view_name": "LayoutView",
            "align_content": null,
            "align_items": null,
            "align_self": null,
            "border": null,
            "bottom": null,
            "display": null,
            "flex": null,
            "flex_flow": null,
            "grid_area": null,
            "grid_auto_columns": null,
            "grid_auto_flow": null,
            "grid_auto_rows": null,
            "grid_column": null,
            "grid_gap": null,
            "grid_row": null,
            "grid_template_areas": null,
            "grid_template_columns": null,
            "grid_template_rows": null,
            "height": null,
            "justify_content": null,
            "justify_items": null,
            "left": null,
            "margin": null,
            "max_height": null,
            "max_width": null,
            "min_height": null,
            "min_width": null,
            "object_fit": null,
            "object_position": null,
            "order": null,
            "overflow": null,
            "overflow_x": null,
            "overflow_y": null,
            "padding": null,
            "right": null,
            "top": null,
            "visibility": null,
            "width": null
          }
        },
        "d34182d71c6f4358b65bd1b3e0b8beff": {
          "model_module": "@jupyter-widgets/controls",
          "model_module_version": "1.5.0",
          "model_name": "DescriptionStyleModel",
          "state": {
            "_model_module": "@jupyter-widgets/controls",
            "_model_module_version": "1.5.0",
            "_model_name": "DescriptionStyleModel",
            "_view_count": null,
            "_view_module": "@jupyter-widgets/base",
            "_view_module_version": "1.2.0",
            "_view_name": "StyleView",
            "description_width": ""
          }
        },
        "fbdb0cb328c54bb483d26cec9c3407bc": {
          "model_module": "@jupyter-widgets/base",
          "model_module_version": "1.2.0",
          "model_name": "LayoutModel",
          "state": {
            "_model_module": "@jupyter-widgets/base",
            "_model_module_version": "1.2.0",
            "_model_name": "LayoutModel",
            "_view_count": null,
            "_view_module": "@jupyter-widgets/base",
            "_view_module_version": "1.2.0",
            "_view_name": "LayoutView",
            "align_content": null,
            "align_items": null,
            "align_self": null,
            "border": null,
            "bottom": null,
            "display": null,
            "flex": null,
            "flex_flow": null,
            "grid_area": null,
            "grid_auto_columns": null,
            "grid_auto_flow": null,
            "grid_auto_rows": null,
            "grid_column": null,
            "grid_gap": null,
            "grid_row": null,
            "grid_template_areas": null,
            "grid_template_columns": null,
            "grid_template_rows": null,
            "height": null,
            "justify_content": null,
            "justify_items": null,
            "left": null,
            "margin": null,
            "max_height": null,
            "max_width": null,
            "min_height": null,
            "min_width": null,
            "object_fit": null,
            "object_position": null,
            "order": null,
            "overflow": null,
            "overflow_x": null,
            "overflow_y": null,
            "padding": null,
            "right": null,
            "top": null,
            "visibility": null,
            "width": null
          }
        }
      }
    }
  },
  "nbformat": 4,
  "nbformat_minor": 0
}