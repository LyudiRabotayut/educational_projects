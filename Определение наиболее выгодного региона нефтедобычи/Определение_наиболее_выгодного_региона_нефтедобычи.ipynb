{
  "cells": [
    {
      "cell_type": "markdown",
      "metadata": {
        "id": "LQfkue2Qxwp3"
      },
      "source": [
        "# Выбор локации для скважины"
      ]
    },
    {
      "cell_type": "markdown",
      "source": [
        "Задача:\n",
        "На основе данных геологи разведки выбрать район добычи нефти"
      ],
      "metadata": {
        "id": "8QSdVHo71IFH"
      }
    },
    {
      "cell_type": "markdown",
      "metadata": {
        "id": "qTAzg-naxwp4"
      },
      "source": [
        "## Загрузка и подготовка данных"
      ]
    },
    {
      "cell_type": "markdown",
      "metadata": {
        "id": "AYxSmnz0xwp4"
      },
      "source": [
        "### Первичный анализ"
      ]
    },
    {
      "cell_type": "code",
      "execution_count": null,
      "metadata": {
        "id": "Hc__h4Fwxwp5"
      },
      "outputs": [],
      "source": [
        "# Импортируем библиотеки\n",
        "import pandas as pd\n",
        "import numpy as np\n",
        "import math\n",
        "import xgboost as xgb\n",
        "\n",
        "from sklearn.model_selection import train_test_split, GridSearchCV, RandomizedSearchCV\n",
        "from sklearn.linear_model import LinearRegression, LogisticRegression\n",
        "from sklearn.tree import DecisionTreeClassifier\n",
        "from sklearn.ensemble import RandomForestRegressor, RandomForestClassifier\n",
        "from sklearn.metrics import f1_score, precision_score, recall_score, accuracy_score, mean_squared_error, roc_auc_score\n",
        "from sklearn.utils import shuffle\n",
        "from numpy.random import RandomState"
      ]
    },
    {
      "cell_type": "code",
      "execution_count": null,
      "metadata": {
        "id": "mn__8jw0xwp6"
      },
      "outputs": [],
      "source": [
        "# Загружаем данные\n",
        "try:\n",
        "    geo_data_0 = pd.read_csv('/datasets/geo_data_0.csv')\n",
        "    geo_data_1 = pd.read_csv('/datasets/geo_data_1.csv')\n",
        "    geo_data_2 = pd.read_csv('/datasets/geo_data_2.csv')\n",
        "except:\n",
        "    geo_data_0 = pd.read_csv('C:/Users/Student/Desktop/geo_data_0.csv')\n",
        "    geo_data_1 = pd.read_csv('C:/Users/Student/Desktop/geo_data_1.csv')\n",
        "    geo_data_2 = pd.read_csv('C:/Users/Student/Desktop/geo_data_2.csv')"
      ]
    },
    {
      "cell_type": "code",
      "execution_count": null,
      "metadata": {
        "scrolled": true,
        "id": "SkLGRNUzxwp6",
        "outputId": "30cd2d8a-d1aa-4bbe-80ec-2563de8531a2"
      },
      "outputs": [
        {
          "name": "stdout",
          "output_type": "stream",
          "text": [
            "<class 'pandas.core.frame.DataFrame'>\n",
            "RangeIndex: 100000 entries, 0 to 99999\n",
            "Data columns (total 5 columns):\n",
            " #   Column   Non-Null Count   Dtype  \n",
            "---  ------   --------------   -----  \n",
            " 0   id       100000 non-null  object \n",
            " 1   f0       100000 non-null  float64\n",
            " 2   f1       100000 non-null  float64\n",
            " 3   f2       100000 non-null  float64\n",
            " 4   product  100000 non-null  float64\n",
            "dtypes: float64(4), object(1)\n",
            "memory usage: 3.8+ MB\n",
            "<class 'pandas.core.frame.DataFrame'>\n",
            "RangeIndex: 100000 entries, 0 to 99999\n",
            "Data columns (total 5 columns):\n",
            " #   Column   Non-Null Count   Dtype  \n",
            "---  ------   --------------   -----  \n",
            " 0   id       100000 non-null  object \n",
            " 1   f0       100000 non-null  float64\n",
            " 2   f1       100000 non-null  float64\n",
            " 3   f2       100000 non-null  float64\n",
            " 4   product  100000 non-null  float64\n",
            "dtypes: float64(4), object(1)\n",
            "memory usage: 3.8+ MB\n",
            "<class 'pandas.core.frame.DataFrame'>\n",
            "RangeIndex: 100000 entries, 0 to 99999\n",
            "Data columns (total 5 columns):\n",
            " #   Column   Non-Null Count   Dtype  \n",
            "---  ------   --------------   -----  \n",
            " 0   id       100000 non-null  object \n",
            " 1   f0       100000 non-null  float64\n",
            " 2   f1       100000 non-null  float64\n",
            " 3   f2       100000 non-null  float64\n",
            " 4   product  100000 non-null  float64\n",
            "dtypes: float64(4), object(1)\n",
            "memory usage: 3.8+ MB\n"
          ]
        }
      ],
      "source": [
        "# Изучаем данные\n",
        "geo_data_0.info()\n",
        "geo_data_1.info()\n",
        "geo_data_2.info()"
      ]
    },
    {
      "cell_type": "markdown",
      "metadata": {
        "id": "NYPaJQHyxwp7"
      },
      "source": [
        "Пропусков в данных нет, типы данных обозначены правильно"
      ]
    },
    {
      "cell_type": "code",
      "execution_count": null,
      "metadata": {
        "scrolled": true,
        "id": "JTyeXsBFxwp7",
        "outputId": "308ee7d6-e0a5-474e-8902-398ea12038dd"
      },
      "outputs": [
        {
          "name": "stdout",
          "output_type": "stream",
          "text": [
            "      id        f0        f1        f2     product\n",
            "0  txEyH  0.705745 -0.497823  1.221170  105.280062\n",
            "1  2acmU  1.334711 -0.340164  4.365080   73.037750\n",
            "2  409Wp  1.022732  0.151990  1.419926   85.265647\n",
            "3  iJLyR -0.032172  0.139033  2.978566  168.620776\n",
            "4  Xdl7t  1.988431  0.155413  4.751769  154.036647\n",
            "      id         f0         f1        f2     product\n",
            "0  kBEdx -15.001348  -8.276000 -0.005876    3.179103\n",
            "1  62mP7  14.272088  -3.475083  0.999183   26.953261\n",
            "2  vyE1P   6.263187  -5.948386  5.001160  134.766305\n",
            "3  KcrkZ -13.081196 -11.506057  4.999415  137.945408\n",
            "4  AHL4O  12.702195  -8.147433  5.004363  134.766305\n"
          ]
        },
        {
          "data": {
            "text/html": [
              "<div>\n",
              "<style scoped>\n",
              "    .dataframe tbody tr th:only-of-type {\n",
              "        vertical-align: middle;\n",
              "    }\n",
              "\n",
              "    .dataframe tbody tr th {\n",
              "        vertical-align: top;\n",
              "    }\n",
              "\n",
              "    .dataframe thead th {\n",
              "        text-align: right;\n",
              "    }\n",
              "</style>\n",
              "<table border=\"1\" class=\"dataframe\">\n",
              "  <thead>\n",
              "    <tr style=\"text-align: right;\">\n",
              "      <th></th>\n",
              "      <th>id</th>\n",
              "      <th>f0</th>\n",
              "      <th>f1</th>\n",
              "      <th>f2</th>\n",
              "      <th>product</th>\n",
              "    </tr>\n",
              "  </thead>\n",
              "  <tbody>\n",
              "    <tr>\n",
              "      <th>0</th>\n",
              "      <td>fwXo0</td>\n",
              "      <td>-1.146987</td>\n",
              "      <td>0.963328</td>\n",
              "      <td>-0.828965</td>\n",
              "      <td>27.758673</td>\n",
              "    </tr>\n",
              "    <tr>\n",
              "      <th>1</th>\n",
              "      <td>WJtFt</td>\n",
              "      <td>0.262778</td>\n",
              "      <td>0.269839</td>\n",
              "      <td>-2.530187</td>\n",
              "      <td>56.069697</td>\n",
              "    </tr>\n",
              "    <tr>\n",
              "      <th>2</th>\n",
              "      <td>ovLUW</td>\n",
              "      <td>0.194587</td>\n",
              "      <td>0.289035</td>\n",
              "      <td>-5.586433</td>\n",
              "      <td>62.871910</td>\n",
              "    </tr>\n",
              "    <tr>\n",
              "      <th>3</th>\n",
              "      <td>q6cA6</td>\n",
              "      <td>2.236060</td>\n",
              "      <td>-0.553760</td>\n",
              "      <td>0.930038</td>\n",
              "      <td>114.572842</td>\n",
              "    </tr>\n",
              "    <tr>\n",
              "      <th>4</th>\n",
              "      <td>WPMUX</td>\n",
              "      <td>-0.515993</td>\n",
              "      <td>1.716266</td>\n",
              "      <td>5.899011</td>\n",
              "      <td>149.600746</td>\n",
              "    </tr>\n",
              "  </tbody>\n",
              "</table>\n",
              "</div>"
            ],
            "text/plain": [
              "      id        f0        f1        f2     product\n",
              "0  fwXo0 -1.146987  0.963328 -0.828965   27.758673\n",
              "1  WJtFt  0.262778  0.269839 -2.530187   56.069697\n",
              "2  ovLUW  0.194587  0.289035 -5.586433   62.871910\n",
              "3  q6cA6  2.236060 -0.553760  0.930038  114.572842\n",
              "4  WPMUX -0.515993  1.716266  5.899011  149.600746"
            ]
          },
          "execution_count": 63,
          "metadata": {},
          "output_type": "execute_result"
        }
      ],
      "source": [
        "# Первые 5 строчек\n",
        "print(geo_data_0.head())\n",
        "print(geo_data_1.head())\n",
        "geo_data_2.head()"
      ]
    },
    {
      "cell_type": "code",
      "execution_count": null,
      "metadata": {
        "scrolled": true,
        "id": "aqED1Uo0xwp7",
        "outputId": "ce069aef-29a8-4590-c8f8-0007954fda19"
      },
      "outputs": [
        {
          "name": "stdout",
          "output_type": "stream",
          "text": [
            "                  f0             f1             f2        product\n",
            "count  100000.000000  100000.000000  100000.000000  100000.000000\n",
            "mean        0.500419       0.250143       2.502647      92.500000\n",
            "std         0.871832       0.504433       3.248248      44.288691\n",
            "min        -1.408605      -0.848218     -12.088328       0.000000\n",
            "25%        -0.072580      -0.200881       0.287748      56.497507\n",
            "50%         0.502360       0.250252       2.515969      91.849972\n",
            "75%         1.073581       0.700646       4.715088     128.564089\n",
            "max         2.362331       1.343769      16.003790     185.364347\n",
            "                  f0             f1             f2        product\n",
            "count  100000.000000  100000.000000  100000.000000  100000.000000\n",
            "mean        1.141296      -4.796579       2.494541      68.825000\n",
            "std         8.965932       5.119872       1.703572      45.944423\n",
            "min       -31.609576     -26.358598      -0.018144       0.000000\n",
            "25%        -6.298551      -8.267985       1.000021      26.953261\n",
            "50%         1.153055      -4.813172       2.011479      57.085625\n",
            "75%         8.621015      -1.332816       3.999904     107.813044\n",
            "max        29.421755      18.734063       5.019721     137.945408\n"
          ]
        },
        {
          "data": {
            "text/html": [
              "<div>\n",
              "<style scoped>\n",
              "    .dataframe tbody tr th:only-of-type {\n",
              "        vertical-align: middle;\n",
              "    }\n",
              "\n",
              "    .dataframe tbody tr th {\n",
              "        vertical-align: top;\n",
              "    }\n",
              "\n",
              "    .dataframe thead th {\n",
              "        text-align: right;\n",
              "    }\n",
              "</style>\n",
              "<table border=\"1\" class=\"dataframe\">\n",
              "  <thead>\n",
              "    <tr style=\"text-align: right;\">\n",
              "      <th></th>\n",
              "      <th>f0</th>\n",
              "      <th>f1</th>\n",
              "      <th>f2</th>\n",
              "      <th>product</th>\n",
              "    </tr>\n",
              "  </thead>\n",
              "  <tbody>\n",
              "    <tr>\n",
              "      <th>count</th>\n",
              "      <td>100000.000000</td>\n",
              "      <td>100000.000000</td>\n",
              "      <td>100000.000000</td>\n",
              "      <td>100000.000000</td>\n",
              "    </tr>\n",
              "    <tr>\n",
              "      <th>mean</th>\n",
              "      <td>0.002023</td>\n",
              "      <td>-0.002081</td>\n",
              "      <td>2.495128</td>\n",
              "      <td>95.000000</td>\n",
              "    </tr>\n",
              "    <tr>\n",
              "      <th>std</th>\n",
              "      <td>1.732045</td>\n",
              "      <td>1.730417</td>\n",
              "      <td>3.473445</td>\n",
              "      <td>44.749921</td>\n",
              "    </tr>\n",
              "    <tr>\n",
              "      <th>min</th>\n",
              "      <td>-8.760004</td>\n",
              "      <td>-7.084020</td>\n",
              "      <td>-11.970335</td>\n",
              "      <td>0.000000</td>\n",
              "    </tr>\n",
              "    <tr>\n",
              "      <th>25%</th>\n",
              "      <td>-1.162288</td>\n",
              "      <td>-1.174820</td>\n",
              "      <td>0.130359</td>\n",
              "      <td>59.450441</td>\n",
              "    </tr>\n",
              "    <tr>\n",
              "      <th>50%</th>\n",
              "      <td>0.009424</td>\n",
              "      <td>-0.009482</td>\n",
              "      <td>2.484236</td>\n",
              "      <td>94.925613</td>\n",
              "    </tr>\n",
              "    <tr>\n",
              "      <th>75%</th>\n",
              "      <td>1.158535</td>\n",
              "      <td>1.163678</td>\n",
              "      <td>4.858794</td>\n",
              "      <td>130.595027</td>\n",
              "    </tr>\n",
              "    <tr>\n",
              "      <th>max</th>\n",
              "      <td>7.238262</td>\n",
              "      <td>7.844801</td>\n",
              "      <td>16.739402</td>\n",
              "      <td>190.029838</td>\n",
              "    </tr>\n",
              "  </tbody>\n",
              "</table>\n",
              "</div>"
            ],
            "text/plain": [
              "                  f0             f1             f2        product\n",
              "count  100000.000000  100000.000000  100000.000000  100000.000000\n",
              "mean        0.002023      -0.002081       2.495128      95.000000\n",
              "std         1.732045       1.730417       3.473445      44.749921\n",
              "min        -8.760004      -7.084020     -11.970335       0.000000\n",
              "25%        -1.162288      -1.174820       0.130359      59.450441\n",
              "50%         0.009424      -0.009482       2.484236      94.925613\n",
              "75%         1.158535       1.163678       4.858794     130.595027\n",
              "max         7.238262       7.844801      16.739402     190.029838"
            ]
          },
          "execution_count": 64,
          "metadata": {},
          "output_type": "execute_result"
        }
      ],
      "source": [
        "# Смотрим основную описательную статистику\n",
        "print(geo_data_0.describe())\n",
        "print(geo_data_1.describe())\n",
        "geo_data_2.describe()"
      ]
    },
    {
      "cell_type": "markdown",
      "metadata": {
        "id": "ztRVcGNXxwp8"
      },
      "source": [
        "Все средние примерно равны медианам, значит признаки нескошены. Стандартные отклонения разнятся незначительно, значит масштабирование необязательно."
      ]
    },
    {
      "cell_type": "code",
      "execution_count": null,
      "metadata": {
        "scrolled": false,
        "id": "C3CbXcLWxwp8",
        "outputId": "659575a8-0f63-4515-9820-83bee3889635"
      },
      "outputs": [
        {
          "name": "stdout",
          "output_type": "stream",
          "text": [
            "               f0        f1        f2   product\n",
            "f0       1.000000 -0.440723 -0.003153  0.143536\n",
            "f1      -0.440723  1.000000  0.001724 -0.192356\n",
            "f2      -0.003153  0.001724  1.000000  0.483663\n",
            "product  0.143536 -0.192356  0.483663  1.000000\n",
            "               f0        f1        f2   product\n",
            "f0       1.000000  0.182287 -0.001777 -0.030491\n",
            "f1       0.182287  1.000000 -0.002595 -0.010155\n",
            "f2      -0.001777 -0.002595  1.000000  0.999397\n",
            "product -0.030491 -0.010155  0.999397  1.000000\n"
          ]
        },
        {
          "data": {
            "text/html": [
              "<div>\n",
              "<style scoped>\n",
              "    .dataframe tbody tr th:only-of-type {\n",
              "        vertical-align: middle;\n",
              "    }\n",
              "\n",
              "    .dataframe tbody tr th {\n",
              "        vertical-align: top;\n",
              "    }\n",
              "\n",
              "    .dataframe thead th {\n",
              "        text-align: right;\n",
              "    }\n",
              "</style>\n",
              "<table border=\"1\" class=\"dataframe\">\n",
              "  <thead>\n",
              "    <tr style=\"text-align: right;\">\n",
              "      <th></th>\n",
              "      <th>f0</th>\n",
              "      <th>f1</th>\n",
              "      <th>f2</th>\n",
              "      <th>product</th>\n",
              "    </tr>\n",
              "  </thead>\n",
              "  <tbody>\n",
              "    <tr>\n",
              "      <th>f0</th>\n",
              "      <td>1.000000</td>\n",
              "      <td>0.000528</td>\n",
              "      <td>-0.000448</td>\n",
              "      <td>-0.001987</td>\n",
              "    </tr>\n",
              "    <tr>\n",
              "      <th>f1</th>\n",
              "      <td>0.000528</td>\n",
              "      <td>1.000000</td>\n",
              "      <td>0.000779</td>\n",
              "      <td>-0.001012</td>\n",
              "    </tr>\n",
              "    <tr>\n",
              "      <th>f2</th>\n",
              "      <td>-0.000448</td>\n",
              "      <td>0.000779</td>\n",
              "      <td>1.000000</td>\n",
              "      <td>0.445871</td>\n",
              "    </tr>\n",
              "    <tr>\n",
              "      <th>product</th>\n",
              "      <td>-0.001987</td>\n",
              "      <td>-0.001012</td>\n",
              "      <td>0.445871</td>\n",
              "      <td>1.000000</td>\n",
              "    </tr>\n",
              "  </tbody>\n",
              "</table>\n",
              "</div>"
            ],
            "text/plain": [
              "               f0        f1        f2   product\n",
              "f0       1.000000  0.000528 -0.000448 -0.001987\n",
              "f1       0.000528  1.000000  0.000779 -0.001012\n",
              "f2      -0.000448  0.000779  1.000000  0.445871\n",
              "product -0.001987 -0.001012  0.445871  1.000000"
            ]
          },
          "execution_count": 65,
          "metadata": {},
          "output_type": "execute_result"
        }
      ],
      "source": [
        "# Исследуем проблему мультиколлинеарности\n",
        "print(geo_data_0.corr())\n",
        "print(geo_data_1.corr())\n",
        "geo_data_2.corr()"
      ]
    },
    {
      "cell_type": "markdown",
      "metadata": {
        "id": "0w-YGFSrxwp8"
      },
      "source": [
        "Проблема мультиколиниарности между признаками нигде не встречается, с данными всё в порядке. Мы заметили высокую корреляцию между признаком f2 и таргетом в geo_1. Возможно это признак близости к основному местурождению сырья, поэтому чем дальше от него (чем меньше значение), тем меньше объём сырья."
      ]
    },
    {
      "cell_type": "markdown",
      "metadata": {
        "id": "Lzr9Fjwqxwp9"
      },
      "source": [
        "### Деление на выборки"
      ]
    },
    {
      "cell_type": "code",
      "execution_count": null,
      "metadata": {
        "id": "YAOxdPEQxwp9"
      },
      "outputs": [],
      "source": [
        "# Делим на целевой и остальные признаки\n",
        "geo_data_0_features = geo_data_0.drop(['id', 'product'], axis=1)\n",
        "geo_data_1_features = geo_data_1.drop(['id', 'product'], axis=1)\n",
        "geo_data_2_features = geo_data_2.drop(['id', 'product'], axis=1)\n",
        "\n",
        "geo_data_0_target = geo_data_0['product']\n",
        "geo_data_1_target = geo_data_1['product']\n",
        "geo_data_2_target = geo_data_2['product']"
      ]
    },
    {
      "cell_type": "code",
      "execution_count": null,
      "metadata": {
        "id": "5tS1XJe2xwp9",
        "outputId": "abaf684e-7f64-45d0-e44e-ae5b380de96b"
      },
      "outputs": [
        {
          "name": "stdout",
          "output_type": "stream",
          "text": [
            "75000\n",
            "25000\n"
          ]
        }
      ],
      "source": [
        "# Делим все данные на тренировочные и тестовую выборки\n",
        "geo_data_0_features_train, geo_data_0_features_valid, geo_data_0_target_train, geo_data_0_target_valid = train_test_split(\n",
        "    geo_data_0_features, geo_data_0_target, test_size=0.25, random_state=12345\n",
        "    )\n",
        "\n",
        "geo_data_1_features_train, geo_data_1_features_valid, geo_data_1_target_train, geo_data_1_target_valid = train_test_split(\n",
        "    geo_data_1_features, geo_data_1_target, test_size=0.25, random_state=12345\n",
        "    )\n",
        "\n",
        "geo_data_2_features_train, geo_data_2_features_valid, geo_data_2_target_train, geo_data_2_target_valid = train_test_split(\n",
        "    geo_data_2_features, geo_data_2_target, test_size=0.25, random_state=12345\n",
        "    )\n",
        "\n",
        "# Сколько объектов осталось в выборках\n",
        "print(geo_data_0_features_train.shape[0])\n",
        "print(geo_data_0_features_valid.shape[0])"
      ]
    },
    {
      "cell_type": "markdown",
      "metadata": {
        "id": "Eoz-QZKNxwp9"
      },
      "source": [
        "### Подвывод"
      ]
    },
    {
      "cell_type": "markdown",
      "metadata": {
        "id": "yjSHpsQ8xwp-"
      },
      "source": [
        "Мы загрузили нужные библиотеки, данные, провели первичный анализ. Пропусков в данных нет, проблемы мултиколлиниарности тоже нет. Данные не требовали масштабирования, скошенности в данных нет. Мы разделили данные по каждому региону на целевые и остальные признаки, каждые в свою очередь разделили на тренировочные и валидационные выборки."
      ]
    },
    {
      "cell_type": "markdown",
      "metadata": {
        "id": "kKgszVwFxwp-"
      },
      "source": [
        "## Обучение и проверка модели"
      ]
    },
    {
      "cell_type": "markdown",
      "metadata": {
        "id": "pTjNV5Alxwp-"
      },
      "source": [
        "По условию поставленной задачи мы будем использовать линейную регрессию (наш таргет -- численный), качество будем проверять на RMSE метрике"
      ]
    },
    {
      "cell_type": "markdown",
      "metadata": {
        "id": "Wvu6mGD4xwp-"
      },
      "source": [
        "### ML для geo_0 региона"
      ]
    },
    {
      "cell_type": "code",
      "execution_count": null,
      "metadata": {
        "id": "-kZOkmaJxwp-",
        "outputId": "b005f1e4-2761-4235-d18a-3f027d40af16"
      },
      "outputs": [
        {
          "name": "stdout",
          "output_type": "stream",
          "text": [
            "RMSE: 37.5794217150813 | Среднее предсказаний: 92.59256778438035 | Среднее изначальных данных 92.07859674082927\n"
          ]
        }
      ],
      "source": [
        "model = LinearRegression()\n",
        "model.fit(geo_data_0_features_train, geo_data_0_target_train)\n",
        "predictions_geo_0 = model.predict(geo_data_0_features_valid)\n",
        "mse = mean_squared_error(geo_data_0_target_valid, predictions_geo_0)\n",
        "rmse = mse ** 0.5\n",
        "print('RMSE:', rmse, '|',\n",
        "      'Среднее предсказаний:', predictions_geo_0.mean(), '|',\n",
        "      'Среднее изначальных данных', geo_data_0_target_valid.mean())"
      ]
    },
    {
      "cell_type": "markdown",
      "metadata": {
        "id": "7pFTKs-Txwp_"
      },
      "source": [
        "### ML для geo_1 региона"
      ]
    },
    {
      "cell_type": "code",
      "execution_count": null,
      "metadata": {
        "id": "mFF4NiSMxwp_",
        "outputId": "cb8ae16d-c342-4b7a-f1d8-2a9ff3d836c9"
      },
      "outputs": [
        {
          "name": "stdout",
          "output_type": "stream",
          "text": [
            "RMSE: 0.893099286775617 | Среднее предсказаний: 68.728546895446 | Среднее изначальных данных 68.72313602435997\n"
          ]
        }
      ],
      "source": [
        "model = LinearRegression()\n",
        "model.fit(geo_data_1_features_train, geo_data_1_target_train)\n",
        "predictions_geo_1 = model.predict(geo_data_1_features_valid)\n",
        "mse = mean_squared_error(geo_data_1_target_valid, predictions_geo_1)\n",
        "rmse = mse ** 0.5\n",
        "print('RMSE:', rmse, '|',\n",
        "      'Среднее предсказаний:', predictions_geo_1.mean(), '|',\n",
        "      'Среднее изначальных данных', geo_data_1_target_valid.mean())"
      ]
    },
    {
      "cell_type": "markdown",
      "metadata": {
        "id": "hohyEnM_xwp_"
      },
      "source": [
        "### ML для geo_2 региона"
      ]
    },
    {
      "cell_type": "code",
      "execution_count": null,
      "metadata": {
        "id": "nS7k_000xwp_",
        "outputId": "5ca19888-f38f-481c-fc18-c5b812c77fe9"
      },
      "outputs": [
        {
          "name": "stdout",
          "output_type": "stream",
          "text": [
            "RMSE: 40.02970873393434 | Среднее предсказаний: 94.96504596800489 | Среднее изначальных данных 94.88423280885438\n"
          ]
        }
      ],
      "source": [
        "model = LinearRegression()\n",
        "model.fit(geo_data_2_features_train, geo_data_2_target_train)\n",
        "predictions_geo_2 = model.predict(geo_data_2_features_valid)\n",
        "mse = mean_squared_error(geo_data_2_target_valid, predictions_geo_2)\n",
        "rmse = mse ** 0.5\n",
        "print('RMSE:', rmse, '|',\n",
        "      'Среднее предсказаний:', predictions_geo_2.mean(), '|',\n",
        "      'Среднее изначальных данных', geo_data_2_target_valid.mean())"
      ]
    },
    {
      "cell_type": "markdown",
      "metadata": {
        "id": "WfBcKemgxwqB"
      },
      "source": [
        "### Подвывод"
      ]
    },
    {
      "cell_type": "markdown",
      "metadata": {
        "id": "dZQdDNFqxwqB"
      },
      "source": [
        "Самое маленькое RMSE получилось при предсказании объёмов сырья в регионе geo_1, так как там был признак с высокой (0.999) корреляцией с таргетом, поэтому разница между предсказанными и изначальными объёмами разнится на 0.1 тыс. баррелей. В остальных регионах предсказания также не сильно отличаются от изначальных объёмов, разница составляет также ~0.1 тыс. баррелей для остальных регионов."
      ]
    },
    {
      "cell_type": "markdown",
      "metadata": {
        "id": "Jz3kA-3gxwqB"
      },
      "source": [
        "## Подготовка к расчёту прибыли"
      ]
    },
    {
      "cell_type": "markdown",
      "metadata": {
        "id": "SgTuMQpXxwqB"
      },
      "source": [
        "### Создание новых переменных"
      ]
    },
    {
      "cell_type": "code",
      "execution_count": null,
      "metadata": {
        "id": "45C-sgmDxwqB",
        "outputId": "25d99fdb-4ad5-4943-c63c-61181d1af120"
      },
      "outputs": [
        {
          "data": {
            "text/plain": [
              "0         95.894952\n",
              "1         77.572583\n",
              "2         77.892640\n",
              "3         90.175134\n",
              "4         70.510088\n",
              "            ...    \n",
              "24995    103.037104\n",
              "24996     85.403255\n",
              "24997     61.509833\n",
              "24998    118.180397\n",
              "24999    118.169392\n",
              "Length: 25000, dtype: float64"
            ]
          },
          "execution_count": 71,
          "metadata": {},
          "output_type": "execute_result"
        }
      ],
      "source": [
        "\n",
        "product_0 = pd.Series(predictions_geo_0)\n",
        "product_1 = pd.Series(predictions_geo_1)\n",
        "product_2 = pd.Series(predictions_geo_2)\n",
        "product_0"
      ]
    },
    {
      "cell_type": "code",
      "execution_count": null,
      "metadata": {
        "id": "GbkWGT19xwqC"
      },
      "outputs": [],
      "source": [
        "# Бюджет на разработку скважин в регионе\n",
        "TOTAL_BUDGET = 10_000_000_000\n",
        "# Стоимость одной единицы product\n",
        "ONE_PRODUCT_PRICE = 450_000\n",
        "WELL_CAPACITY = 200"
      ]
    },
    {
      "cell_type": "markdown",
      "metadata": {
        "id": "tMO6ACKexwqC"
      },
      "source": [
        "### Рассчёт достаточного объёма сырья для безубыточной разработки новой скважины"
      ]
    },
    {
      "cell_type": "code",
      "execution_count": null,
      "metadata": {
        "scrolled": true,
        "id": "sxpTLNScxwqC",
        "outputId": "8ae0d506-e362-4315-c65a-de4b5641d327"
      },
      "outputs": [
        {
          "name": "stdout",
          "output_type": "stream",
          "text": [
            "Сколько надо продукта для точки безубыточности 22223\n",
            "Среднее кол-во баррелей в каждой из 200 лучших 111.115\n",
            "Средний объём сырья для региона geo_0 92.50000000000001\n",
            "Средний объём сырья для региона geo_1 68.82500000000002\n",
            "Средний объём сырья для региона geo_2 95.00000000000004\n"
          ]
        }
      ],
      "source": [
        "# Сколько надо продукта для точки безубыточности\n",
        "print('Сколько надо продукта для точки безубыточности', math.ceil(TOTAL_BUDGET / ONE_PRODUCT_PRICE))\n",
        "# Среднее кол-во баррелей в каждой из 200 лучших скважин для достижения точки безубыточности\n",
        "print('Среднее кол-во баррелей в каждой из 200 лучших', math.ceil(TOTAL_BUDGET / ONE_PRODUCT_PRICE)/WELL_CAPACITY)\n",
        "# Средний объём сырья для региона geo_0\n",
        "print('Средний объём сырья для региона geo_0', geo_data_0_target.mean())\n",
        "# Средний объём сырья для региона geo_1\n",
        "print('Средний объём сырья для региона geo_1',geo_data_1_target.mean())\n",
        "# Средний объём сырья для региона geo_2\n",
        "print('Средний объём сырья для региона geo_2',geo_data_2_target.mean())"
      ]
    },
    {
      "cell_type": "markdown",
      "metadata": {
        "id": "wdnD-Op0xwqD"
      },
      "source": [
        "### Подвывод"
      ]
    },
    {
      "cell_type": "markdown",
      "metadata": {
        "id": "si1HhAWVxwqD"
      },
      "source": [
        "Точка безубыточности достигается в точке 22223 проданных единиц product, иными словами в среднем в каждой из 200 выборанных скаважин в среднем должно быть 111.115 тыс. баррелей. В то же время, средний объём сырья в каждом регионе сильно меньше необходимого нам порога:\n",
        "\n",
        " - geo_0 = 92.5 тыс. баррелей\n",
        " - geo_1 = 68.8 тыс. баррелей\n",
        " - geo_2 = 95 тыс. баррелей"
      ]
    },
    {
      "cell_type": "markdown",
      "metadata": {
        "id": "bZc9x9L7xwqD"
      },
      "source": [
        "## Расчёт прибыли и рисков"
      ]
    },
    {
      "cell_type": "markdown",
      "metadata": {
        "id": "8G1RybqVxwqE"
      },
      "source": [
        "### Функция прибыли"
      ]
    },
    {
      "cell_type": "code",
      "execution_count": null,
      "metadata": {
        "id": "3_Z_8C-GxwqE"
      },
      "outputs": [],
      "source": [
        "# Функция для подсчёта прибыли\n",
        "def profit(pred_data, prod_data, n_wells, price_for_one_product, cost):\n",
        "    pred_data_sorted_index = pred_data.sort_values(ascending=False).head(n_wells).index\n",
        "    product_data = prod_data.reset_index(drop=True)[pred_data_sorted_index]\n",
        "    sum_income = sum(product_data * price_for_one_product)\n",
        "    return sum_income - cost\n"
      ]
    },
    {
      "cell_type": "code",
      "execution_count": null,
      "metadata": {
        "id": "ZQ-sYONyxwqF",
        "outputId": "71ec194d-a192-44ee-e1d1-dd7a4aee5ef9"
      },
      "outputs": [
        {
          "name": "stdout",
          "output_type": "stream",
          "text": [
            "Прибыль для geo_0 3320826043.1398487 | Прибыль для geo_1 2415086696.6815624 | Прибыль для geo_2 2710349963.599825\n"
          ]
        }
      ],
      "source": [
        "# Подсчёт прибыли для каждого региона на основе предсказаний\n",
        "profit_geo_0 = profit(product_0, geo_data_0_target_valid, WELL_CAPACITY, ONE_PRODUCT_PRICE, TOTAL_BUDGET)\n",
        "profit_geo_1 = profit(product_1, geo_data_1_target_valid, WELL_CAPACITY, ONE_PRODUCT_PRICE, TOTAL_BUDGET)\n",
        "profit_geo_2 = profit(product_2, geo_data_2_target_valid, WELL_CAPACITY, ONE_PRODUCT_PRICE, TOTAL_BUDGET)\n",
        "print(\"Прибыль для geo_0\", profit_geo_0, '|', \"Прибыль для geo_1\", profit_geo_1,'|', \"Прибыль для geo_2\", profit_geo_2)"
      ]
    },
    {
      "cell_type": "markdown",
      "metadata": {
        "id": "XvKFaVO4xwqF"
      },
      "source": [
        "## Bootstrap"
      ]
    },
    {
      "cell_type": "markdown",
      "metadata": {
        "id": "4pmy--xjxwqF"
      },
      "source": [
        "### Функция подсчёта риска убытка"
      ]
    },
    {
      "cell_type": "code",
      "execution_count": null,
      "metadata": {
        "id": "3o1JHEVaxwqF"
      },
      "outputs": [],
      "source": [
        "# Функция подсчёта риска убытка\n",
        "def risk(data):\n",
        "    count = 0\n",
        "    for i in range(len(values)):\n",
        "        if values[i] < 0:\n",
        "            count += 1\n",
        "\n",
        "    return count/len(data)"
      ]
    },
    {
      "cell_type": "markdown",
      "metadata": {
        "id": "r8vnUlmYxwqG"
      },
      "source": [
        "### Распределение прибыли"
      ]
    },
    {
      "cell_type": "markdown",
      "metadata": {
        "id": "xFdfba1jxwqG"
      },
      "source": [
        "#### geo_0"
      ]
    },
    {
      "cell_type": "code",
      "execution_count": null,
      "metadata": {
        "scrolled": true,
        "id": "TkkcfZOxxwqG",
        "outputId": "05dc713d-96f3-4765-d7c0-bc13c71806aa"
      },
      "outputs": [
        {
          "name": "stdout",
          "output_type": "stream",
          "text": [
            "Средняя прибыль: 396164984.80237025\n",
            "95% доверительный интервал: -111215545.89049712 909766941.5534189\n"
          ]
        }
      ],
      "source": [
        "state = RandomState(12345)\n",
        "values = []\n",
        "best_mean = 0\n",
        "for i in range(1000):\n",
        "    pred_subsample = product_0.sample(n=500, replace=True, random_state=state)\n",
        "    values.append(profit(pred_subsample, geo_data_0_target_valid, WELL_CAPACITY, ONE_PRODUCT_PRICE, TOTAL_BUDGET))\n",
        "\n",
        "values = pd.Series(values)\n",
        "lower = values.quantile(0.025)\n",
        "upper = values.quantile(0.975)\n",
        "\n",
        "mean = values.mean()\n",
        "\n",
        "if best_mean < mean:\n",
        "    best_mean = mean\n",
        "\n",
        "print(\"Средняя прибыль:\", mean)\n",
        "print(\"95% доверительный интервал:\", lower, upper)"
      ]
    },
    {
      "cell_type": "code",
      "execution_count": null,
      "metadata": {
        "scrolled": true,
        "id": "Jl10lh0VxwqH",
        "outputId": "20439323-7c37-491f-cbb5-7691171a61cf"
      },
      "outputs": [
        {
          "data": {
            "text/plain": [
              "0.069"
            ]
          },
          "execution_count": 78,
          "metadata": {},
          "output_type": "execute_result"
        }
      ],
      "source": [
        "# Вероятность убытка\n",
        "risk(values)"
      ]
    },
    {
      "cell_type": "markdown",
      "metadata": {
        "id": "QzItY9uoxwqH"
      },
      "source": [
        "#### geo_1"
      ]
    },
    {
      "cell_type": "code",
      "execution_count": null,
      "metadata": {
        "scrolled": true,
        "id": "kWVvtNMAxwqI",
        "outputId": "7bdc09c0-e9df-43bc-a732-7c81247b2982"
      },
      "outputs": [
        {
          "name": "stdout",
          "output_type": "stream",
          "text": [
            "Средняя прибыль: 461155817.27721286\n",
            "95% доверительный интервал: 78050810.75172454 862952060.2636913\n"
          ]
        }
      ],
      "source": [
        "values = []\n",
        "for i in range(1000):\n",
        "    pred_subsample = product_1.sample(n=500, replace=True, random_state=state)\n",
        "    values.append(profit(pred_subsample, geo_data_1_target_valid, WELL_CAPACITY, ONE_PRODUCT_PRICE, TOTAL_BUDGET))\n",
        "\n",
        "values = pd.Series(values)\n",
        "lower = values.quantile(0.025)\n",
        "upper = values.quantile(0.975)\n",
        "\n",
        "\n",
        "mean = values.mean()\n",
        "\n",
        "if best_mean < mean:\n",
        "    best_mean = mean\n",
        "\n",
        "print(\"Средняя прибыль:\", mean)\n",
        "print(\"95% доверительный интервал:\", lower, upper)\n"
      ]
    },
    {
      "cell_type": "code",
      "execution_count": null,
      "metadata": {
        "scrolled": true,
        "id": "3AtW7ESnxwqI",
        "outputId": "f6093b7f-807a-4222-faa2-ee40dfd86967"
      },
      "outputs": [
        {
          "data": {
            "text/plain": [
              "0.007"
            ]
          },
          "execution_count": 80,
          "metadata": {},
          "output_type": "execute_result"
        }
      ],
      "source": [
        "# Вероятность убытка\n",
        "risk(values)"
      ]
    },
    {
      "cell_type": "markdown",
      "metadata": {
        "id": "JppJHuoqxwqI"
      },
      "source": [
        "#### geo_2"
      ]
    },
    {
      "cell_type": "code",
      "execution_count": null,
      "metadata": {
        "scrolled": true,
        "id": "s34ZK3ebxwqI",
        "outputId": "499687e5-1295-4b8c-d6d3-fa9ef472f5cd"
      },
      "outputs": [
        {
          "name": "stdout",
          "output_type": "stream",
          "text": [
            "Средняя прибыль: 392950475.17060584\n",
            "95% доверительный интервал: -112227625.3785718 934562914.551158\n"
          ]
        }
      ],
      "source": [
        "values = []\n",
        "for i in range(1000):\n",
        "    pred_subsample = product_2.sample(n=500, replace=True, random_state=state)\n",
        "    values.append(profit(pred_subsample, geo_data_2_target_valid, WELL_CAPACITY, ONE_PRODUCT_PRICE, TOTAL_BUDGET))\n",
        "\n",
        "values = pd.Series(values)\n",
        "lower = values.quantile(0.025)\n",
        "upper = values.quantile(0.975)\n",
        "\n",
        "mean = values.mean()\n",
        "\n",
        "if best_mean < mean:\n",
        "    best_mean = mean\n",
        "\n",
        "print(\"Средняя прибыль:\", mean)\n",
        "print(\"95% доверительный интервал:\", lower, upper)"
      ]
    },
    {
      "cell_type": "code",
      "execution_count": null,
      "metadata": {
        "scrolled": true,
        "id": "zTPUfg22xwqJ",
        "outputId": "3b3a3b26-1cdb-4286-93a5-53547adfd546"
      },
      "outputs": [
        {
          "data": {
            "text/plain": [
              "0.065"
            ]
          },
          "execution_count": 82,
          "metadata": {},
          "output_type": "execute_result"
        }
      ],
      "source": [
        "# Вероятность убытка\n",
        "risk(values)"
      ]
    },
    {
      "cell_type": "markdown",
      "metadata": {
        "id": "WIo8tgXfxwqJ"
      },
      "source": [
        "### Лучшая прибыль"
      ]
    },
    {
      "cell_type": "code",
      "execution_count": null,
      "metadata": {
        "scrolled": true,
        "id": "yi7oZF-8xwqJ",
        "outputId": "fb4152d6-8ea0-41d0-9c42-167c38ec2369"
      },
      "outputs": [
        {
          "data": {
            "text/plain": [
              "461155817.27721286"
            ]
          },
          "execution_count": 83,
          "metadata": {},
          "output_type": "execute_result"
        }
      ],
      "source": [
        "#Наибольшая прибыль\n",
        "best_mean"
      ]
    },
    {
      "cell_type": "markdown",
      "metadata": {
        "id": "E30rdUQrxwqJ"
      },
      "source": [
        "### Подвывод"
      ]
    },
    {
      "cell_type": "markdown",
      "metadata": {
        "id": "i1Kl7kQgxwqJ"
      },
      "source": [
        "Среди всех регионов, наибольшая средняя прибыль будет у региона geo_1 и будет равняться ~ 360 584 036 рублей, что сильно отличается от средней прибыли в других регионах (294 905 854 и 291 677 673).\n",
        "\n",
        "Вероятность убытков в каждом регионе:\n",
        " - geo_0 = 6.9%\n",
        " - geo_1 =  0.7%\n",
        " - geo_2 =  6.5%\n",
        "\n",
        "Добыча в каждом регионе с 95% вероятностью попадёт в диапазон:\n",
        " - geo_0 [-220057306 ,   813659028]\n",
        " - geo_1 [-36074998  ,  762306510]\n",
        " - geo_2 [-203487531 ,   826093983]"
      ]
    },
    {
      "cell_type": "markdown",
      "metadata": {
        "id": "PphDcVdFxwqK"
      },
      "source": [
        "## Вывод"
      ]
    },
    {
      "cell_type": "markdown",
      "metadata": {
        "id": "xYcypMfrxwqK"
      },
      "source": [
        "В ходе работы мы провели первичный анализ данных, поделили все данные на выборки, обучили модель и предсказали с высокой точностью объём продукта. Далее мы создали функцию подсчёта прибыли и риска убытков, рассчитали среднее достаточное кол-во ресурса для преодоления безубыточности. В процессе Bootstrap мы подсчитали 95% доверительный интервал прибыли из 500 случайно выбранных скважин, 200 из которых мы взяли для добычи. В результате риск убытков для регионов geo_0 и geo_2 равняется примерно 7%, а geo_1 меньше 1%. <b>Самым прибыльным и самым стабильным из 3-х регионов оказался geo_1 с прогнозируемой прибылью ~  360 584 036 рублей, его и рекомендуется выбрать для выработки</b>."
      ]
    }
  ],
  "metadata": {
    "ExecuteTimeLog": [
      {
        "duration": 1183,
        "start_time": "2023-04-26T14:01:39.470Z"
      },
      {
        "duration": 1683,
        "start_time": "2023-04-26T14:01:40.655Z"
      },
      {
        "duration": 115,
        "start_time": "2023-04-26T14:01:42.340Z"
      },
      {
        "duration": 43,
        "start_time": "2023-04-26T14:02:07.262Z"
      },
      {
        "duration": 18,
        "start_time": "2023-04-26T14:03:27.897Z"
      },
      {
        "duration": 15,
        "start_time": "2023-04-26T14:03:46.919Z"
      },
      {
        "duration": 89,
        "start_time": "2023-04-26T14:09:49.874Z"
      },
      {
        "duration": 99,
        "start_time": "2023-04-26T14:09:59.717Z"
      },
      {
        "duration": 15,
        "start_time": "2023-04-26T14:10:29.797Z"
      },
      {
        "duration": 43,
        "start_time": "2023-04-26T14:10:41.801Z"
      },
      {
        "duration": 4,
        "start_time": "2023-04-26T14:46:14.940Z"
      },
      {
        "duration": 371,
        "start_time": "2023-04-26T14:46:14.946Z"
      },
      {
        "duration": 34,
        "start_time": "2023-04-26T14:46:15.320Z"
      },
      {
        "duration": 15,
        "start_time": "2023-04-26T14:46:15.356Z"
      },
      {
        "duration": 99,
        "start_time": "2023-04-26T14:46:15.373Z"
      },
      {
        "duration": 40,
        "start_time": "2023-04-26T14:46:15.474Z"
      },
      {
        "duration": 20,
        "start_time": "2023-04-26T14:46:15.516Z"
      },
      {
        "duration": 0,
        "start_time": "2023-04-26T14:46:15.538Z"
      },
      {
        "duration": 0,
        "start_time": "2023-04-26T14:46:15.540Z"
      },
      {
        "duration": 15,
        "start_time": "2023-04-26T14:46:42.674Z"
      },
      {
        "duration": 13,
        "start_time": "2023-04-26T14:47:06.225Z"
      },
      {
        "duration": 9,
        "start_time": "2023-04-26T14:47:15.906Z"
      },
      {
        "duration": 9,
        "start_time": "2023-04-26T14:47:17.809Z"
      },
      {
        "duration": 5,
        "start_time": "2023-04-26T14:47:18.008Z"
      },
      {
        "duration": 16,
        "start_time": "2023-04-26T14:50:05.004Z"
      },
      {
        "duration": 116,
        "start_time": "2023-04-26T15:18:02.594Z"
      },
      {
        "duration": 3,
        "start_time": "2023-04-26T15:20:23.635Z"
      },
      {
        "duration": 20,
        "start_time": "2023-04-26T15:20:42.227Z"
      },
      {
        "duration": 10,
        "start_time": "2023-04-26T15:30:27.521Z"
      },
      {
        "duration": 28,
        "start_time": "2023-04-26T15:30:40.514Z"
      },
      {
        "duration": 16,
        "start_time": "2023-04-26T15:31:07.633Z"
      },
      {
        "duration": 21,
        "start_time": "2023-04-26T15:31:07.801Z"
      },
      {
        "duration": 31,
        "start_time": "2023-04-26T15:31:12.417Z"
      },
      {
        "duration": 83382,
        "start_time": "2023-04-26T15:31:31.148Z"
      },
      {
        "duration": 75,
        "start_time": "2023-04-26T15:33:23.675Z"
      },
      {
        "duration": 15813,
        "start_time": "2023-04-26T15:33:35.704Z"
      },
      {
        "duration": 21913,
        "start_time": "2023-04-26T15:35:58.692Z"
      },
      {
        "duration": 19532,
        "start_time": "2023-04-26T15:37:16.078Z"
      },
      {
        "duration": 18,
        "start_time": "2023-04-26T15:40:27.534Z"
      },
      {
        "duration": 8,
        "start_time": "2023-04-26T15:40:35.318Z"
      },
      {
        "duration": 11,
        "start_time": "2023-04-26T15:41:57.470Z"
      },
      {
        "duration": 8,
        "start_time": "2023-04-26T15:42:56.511Z"
      },
      {
        "duration": 21,
        "start_time": "2023-04-26T15:43:38.400Z"
      },
      {
        "duration": 28,
        "start_time": "2023-04-26T15:44:02.112Z"
      },
      {
        "duration": 194,
        "start_time": "2023-04-26T15:44:03.897Z"
      },
      {
        "duration": 10,
        "start_time": "2023-04-26T15:44:09.408Z"
      },
      {
        "duration": 18,
        "start_time": "2023-04-26T15:44:22.425Z"
      },
      {
        "duration": 10,
        "start_time": "2023-04-26T15:44:32.816Z"
      },
      {
        "duration": 11,
        "start_time": "2023-04-26T15:45:04.953Z"
      },
      {
        "duration": 9,
        "start_time": "2023-04-26T15:45:05.617Z"
      },
      {
        "duration": 24404,
        "start_time": "2023-04-26T15:49:11.804Z"
      },
      {
        "duration": 95,
        "start_time": "2023-04-26T15:49:58.398Z"
      },
      {
        "duration": 21,
        "start_time": "2023-04-26T15:50:45.931Z"
      },
      {
        "duration": 13,
        "start_time": "2023-04-26T15:50:53.092Z"
      },
      {
        "duration": 10,
        "start_time": "2023-04-26T15:50:55.733Z"
      },
      {
        "duration": 8,
        "start_time": "2023-04-26T15:51:01.269Z"
      },
      {
        "duration": 17107,
        "start_time": "2023-04-26T15:51:36.997Z"
      },
      {
        "duration": 85,
        "start_time": "2023-04-26T15:51:54.106Z"
      },
      {
        "duration": 34825,
        "start_time": "2023-04-26T15:52:02.372Z"
      },
      {
        "duration": 85,
        "start_time": "2023-04-26T15:52:37.200Z"
      },
      {
        "duration": 82322,
        "start_time": "2023-04-26T16:12:50.187Z"
      },
      {
        "duration": 23,
        "start_time": "2023-04-26T16:51:05.101Z"
      },
      {
        "duration": 32,
        "start_time": "2023-04-26T16:51:05.278Z"
      },
      {
        "duration": 11612,
        "start_time": "2023-04-26T16:52:04.298Z"
      },
      {
        "duration": 19,
        "start_time": "2023-04-26T16:52:55.401Z"
      },
      {
        "duration": 29268,
        "start_time": "2023-04-26T16:53:04.825Z"
      },
      {
        "duration": 92,
        "start_time": "2023-04-26T16:53:34.095Z"
      },
      {
        "duration": 18715,
        "start_time": "2023-04-26T16:53:42.297Z"
      },
      {
        "duration": 12,
        "start_time": "2023-04-26T16:54:01.014Z"
      },
      {
        "duration": 14449,
        "start_time": "2023-04-26T16:58:09.042Z"
      },
      {
        "duration": 19,
        "start_time": "2023-04-26T16:58:23.494Z"
      },
      {
        "duration": 13,
        "start_time": "2023-04-26T17:08:06.991Z"
      },
      {
        "duration": 4,
        "start_time": "2023-04-26T17:08:24.375Z"
      },
      {
        "duration": 240991,
        "start_time": "2023-04-26T17:08:37.897Z"
      },
      {
        "duration": 75,
        "start_time": "2023-04-26T17:12:40.050Z"
      },
      {
        "duration": 81,
        "start_time": "2023-04-26T17:12:45.273Z"
      },
      {
        "duration": 561976,
        "start_time": "2023-04-26T17:13:09.131Z"
      },
      {
        "duration": 4,
        "start_time": "2023-04-26T17:27:11.593Z"
      },
      {
        "duration": 44,
        "start_time": "2023-04-26T17:27:16.670Z"
      },
      {
        "duration": 79,
        "start_time": "2023-04-26T17:27:30.274Z"
      },
      {
        "duration": 7301682,
        "start_time": "2023-04-26T17:27:56.233Z"
      },
      {
        "duration": 1220,
        "start_time": "2023-04-27T10:19:17.623Z"
      },
      {
        "duration": 574,
        "start_time": "2023-04-27T10:19:18.845Z"
      },
      {
        "duration": 32,
        "start_time": "2023-04-27T10:19:19.421Z"
      },
      {
        "duration": 19,
        "start_time": "2023-04-27T10:19:19.455Z"
      },
      {
        "duration": 102,
        "start_time": "2023-04-27T10:19:19.475Z"
      },
      {
        "duration": 31,
        "start_time": "2023-04-27T10:19:19.579Z"
      },
      {
        "duration": 8,
        "start_time": "2023-04-27T10:19:19.612Z"
      },
      {
        "duration": 47,
        "start_time": "2023-04-27T10:19:19.621Z"
      },
      {
        "duration": 284,
        "start_time": "2023-04-27T10:19:19.670Z"
      },
      {
        "duration": 6403,
        "start_time": "2023-04-27T10:19:19.957Z"
      },
      {
        "duration": 90,
        "start_time": "2023-04-27T10:19:26.362Z"
      },
      {
        "duration": 96,
        "start_time": "2023-04-27T10:19:26.453Z"
      },
      {
        "duration": 12,
        "start_time": "2023-04-27T10:19:26.550Z"
      },
      {
        "duration": 10093,
        "start_time": "2023-04-27T10:19:26.563Z"
      },
      {
        "duration": 11,
        "start_time": "2023-04-27T10:19:36.658Z"
      },
      {
        "duration": 5884,
        "start_time": "2023-04-27T10:19:36.670Z"
      },
      {
        "duration": 8,
        "start_time": "2023-04-27T10:19:42.556Z"
      },
      {
        "duration": 1916684,
        "start_time": "2023-04-27T10:23:30.016Z"
      },
      {
        "duration": 5510,
        "start_time": "2023-04-27T10:55:33.847Z"
      },
      {
        "duration": 12,
        "start_time": "2023-04-27T10:55:39.359Z"
      },
      {
        "duration": 5322,
        "start_time": "2023-04-27T10:58:38.227Z"
      },
      {
        "duration": 12,
        "start_time": "2023-04-27T10:58:43.551Z"
      },
      {
        "duration": 10491,
        "start_time": "2023-04-27T10:58:43.565Z"
      },
      {
        "duration": 12,
        "start_time": "2023-04-27T10:58:54.058Z"
      },
      {
        "duration": 11113,
        "start_time": "2023-04-27T10:58:54.149Z"
      },
      {
        "duration": 89,
        "start_time": "2023-04-27T10:59:05.264Z"
      },
      {
        "duration": 12,
        "start_time": "2023-04-27T11:23:28.375Z"
      },
      {
        "duration": 4,
        "start_time": "2023-04-27T11:24:10.915Z"
      },
      {
        "duration": 333,
        "start_time": "2023-04-27T11:24:10.921Z"
      },
      {
        "duration": 33,
        "start_time": "2023-04-27T11:24:11.255Z"
      },
      {
        "duration": 15,
        "start_time": "2023-04-27T11:24:11.290Z"
      },
      {
        "duration": 111,
        "start_time": "2023-04-27T11:24:11.306Z"
      },
      {
        "duration": 45,
        "start_time": "2023-04-27T11:24:11.419Z"
      },
      {
        "duration": 8,
        "start_time": "2023-04-27T11:24:11.466Z"
      },
      {
        "duration": 24,
        "start_time": "2023-04-27T11:24:11.476Z"
      },
      {
        "duration": 855,
        "start_time": "2023-04-27T11:24:11.502Z"
      },
      {
        "duration": 39295,
        "start_time": "2023-04-27T11:24:12.360Z"
      },
      {
        "duration": 100,
        "start_time": "2023-04-27T11:24:51.656Z"
      },
      {
        "duration": 63702,
        "start_time": "2023-04-27T11:24:51.757Z"
      },
      {
        "duration": 11,
        "start_time": "2023-04-27T11:25:55.460Z"
      },
      {
        "duration": 5979,
        "start_time": "2023-04-27T11:25:55.473Z"
      },
      {
        "duration": 6,
        "start_time": "2023-04-27T11:32:56.261Z"
      },
      {
        "duration": 15,
        "start_time": "2023-04-27T11:40:59.881Z"
      },
      {
        "duration": 81,
        "start_time": "2023-04-27T11:41:11.867Z"
      },
      {
        "duration": 6,
        "start_time": "2023-04-27T11:41:26.683Z"
      },
      {
        "duration": 101,
        "start_time": "2023-04-27T11:41:36.299Z"
      },
      {
        "duration": 62,
        "start_time": "2023-04-27T11:41:47.114Z"
      },
      {
        "duration": 94,
        "start_time": "2023-04-27T12:11:38.075Z"
      },
      {
        "duration": 137,
        "start_time": "2023-04-27T12:14:41.726Z"
      },
      {
        "duration": 124,
        "start_time": "2023-04-27T12:14:49.372Z"
      },
      {
        "duration": 29,
        "start_time": "2023-04-27T12:16:30.815Z"
      },
      {
        "duration": 29,
        "start_time": "2023-04-27T12:16:31.071Z"
      },
      {
        "duration": 3,
        "start_time": "2023-04-27T12:18:31.175Z"
      },
      {
        "duration": 8,
        "start_time": "2023-04-27T12:21:40.697Z"
      },
      {
        "duration": 3,
        "start_time": "2023-04-27T12:21:43.177Z"
      },
      {
        "duration": 4,
        "start_time": "2023-04-27T12:21:44.368Z"
      },
      {
        "duration": 11,
        "start_time": "2023-04-27T12:21:55.649Z"
      },
      {
        "duration": 9,
        "start_time": "2023-04-27T12:21:59.770Z"
      },
      {
        "duration": 11,
        "start_time": "2023-04-27T12:22:29.825Z"
      },
      {
        "duration": 14,
        "start_time": "2023-04-27T12:22:54.345Z"
      },
      {
        "duration": 5,
        "start_time": "2023-04-27T12:23:02.905Z"
      },
      {
        "duration": 705,
        "start_time": "2023-04-27T12:23:44.283Z"
      },
      {
        "duration": 5,
        "start_time": "2023-04-27T12:24:46.539Z"
      },
      {
        "duration": 403,
        "start_time": "2023-04-27T12:25:55.484Z"
      },
      {
        "duration": 17,
        "start_time": "2023-04-27T12:25:59.504Z"
      },
      {
        "duration": 49,
        "start_time": "2023-04-27T12:27:01.676Z"
      },
      {
        "duration": 10,
        "start_time": "2023-04-27T12:59:49.057Z"
      },
      {
        "duration": 9,
        "start_time": "2023-04-27T13:00:17.207Z"
      },
      {
        "duration": 10,
        "start_time": "2023-04-27T13:00:30.031Z"
      },
      {
        "duration": 79,
        "start_time": "2023-04-27T13:14:20.871Z"
      },
      {
        "duration": 78,
        "start_time": "2023-04-27T13:15:40.080Z"
      },
      {
        "duration": 4,
        "start_time": "2023-04-27T13:16:14.672Z"
      },
      {
        "duration": 351,
        "start_time": "2023-04-27T13:16:14.677Z"
      },
      {
        "duration": 60,
        "start_time": "2023-04-27T13:16:15.030Z"
      },
      {
        "duration": 16,
        "start_time": "2023-04-27T13:16:15.092Z"
      },
      {
        "duration": 111,
        "start_time": "2023-04-27T13:16:15.111Z"
      },
      {
        "duration": 41,
        "start_time": "2023-04-27T13:16:15.224Z"
      },
      {
        "duration": 10,
        "start_time": "2023-04-27T13:16:15.267Z"
      },
      {
        "duration": 32,
        "start_time": "2023-04-27T13:16:15.278Z"
      },
      {
        "duration": 938,
        "start_time": "2023-04-27T13:16:15.311Z"
      },
      {
        "duration": 40205,
        "start_time": "2023-04-27T13:16:16.251Z"
      },
      {
        "duration": 193,
        "start_time": "2023-04-27T13:16:56.458Z"
      },
      {
        "duration": 66905,
        "start_time": "2023-04-27T13:16:56.652Z"
      },
      {
        "duration": 89,
        "start_time": "2023-04-27T13:18:03.559Z"
      },
      {
        "duration": 37113,
        "start_time": "2023-04-27T13:18:03.653Z"
      },
      {
        "duration": 188,
        "start_time": "2023-04-27T13:18:40.768Z"
      },
      {
        "duration": 4,
        "start_time": "2023-04-27T13:21:44.204Z"
      },
      {
        "duration": 8,
        "start_time": "2023-04-27T13:23:00.142Z"
      },
      {
        "duration": 3,
        "start_time": "2023-04-27T13:23:04.436Z"
      },
      {
        "duration": 8,
        "start_time": "2023-04-27T13:23:24.772Z"
      },
      {
        "duration": 4,
        "start_time": "2023-04-27T13:23:30.357Z"
      },
      {
        "duration": 5,
        "start_time": "2023-04-27T13:24:31.721Z"
      },
      {
        "duration": 3,
        "start_time": "2023-04-27T13:39:51.008Z"
      },
      {
        "duration": 5,
        "start_time": "2023-04-27T13:57:01.330Z"
      },
      {
        "duration": 52,
        "start_time": "2023-04-27T14:00:16.520Z"
      },
      {
        "duration": 63,
        "start_time": "2023-04-27T14:00:26.356Z"
      },
      {
        "duration": 4,
        "start_time": "2023-04-27T14:00:33.627Z"
      },
      {
        "duration": 5,
        "start_time": "2023-04-27T14:00:42.949Z"
      },
      {
        "duration": 5,
        "start_time": "2023-04-27T14:00:50.085Z"
      },
      {
        "duration": 5,
        "start_time": "2023-04-27T14:02:09.231Z"
      },
      {
        "duration": 5,
        "start_time": "2023-04-27T15:36:09.808Z"
      },
      {
        "duration": 550,
        "start_time": "2023-04-27T15:36:21.918Z"
      },
      {
        "duration": 66,
        "start_time": "2023-04-27T15:36:25.863Z"
      },
      {
        "duration": 7,
        "start_time": "2023-04-27T15:36:28.047Z"
      },
      {
        "duration": 5,
        "start_time": "2023-04-27T15:36:42.382Z"
      },
      {
        "duration": 2,
        "start_time": "2023-04-27T15:37:09.325Z"
      },
      {
        "duration": 9,
        "start_time": "2023-04-27T15:38:10.072Z"
      },
      {
        "duration": 2,
        "start_time": "2023-04-27T15:38:12.879Z"
      },
      {
        "duration": 3,
        "start_time": "2023-04-27T15:39:09.223Z"
      },
      {
        "duration": 12,
        "start_time": "2023-04-27T15:39:09.704Z"
      },
      {
        "duration": 3,
        "start_time": "2023-04-27T15:39:44.040Z"
      },
      {
        "duration": 7,
        "start_time": "2023-04-27T15:39:44.369Z"
      },
      {
        "duration": 3,
        "start_time": "2023-04-27T15:39:56.966Z"
      },
      {
        "duration": 7,
        "start_time": "2023-04-27T15:39:57.305Z"
      },
      {
        "duration": 3,
        "start_time": "2023-04-27T15:40:03.793Z"
      },
      {
        "duration": 8,
        "start_time": "2023-04-27T15:40:04.146Z"
      },
      {
        "duration": 3,
        "start_time": "2023-04-27T15:41:38.585Z"
      },
      {
        "duration": 7,
        "start_time": "2023-04-27T15:41:39.075Z"
      },
      {
        "duration": 20,
        "start_time": "2023-04-27T15:42:59.241Z"
      },
      {
        "duration": 6,
        "start_time": "2023-04-27T15:43:11.298Z"
      },
      {
        "duration": 10,
        "start_time": "2023-04-27T15:43:14.937Z"
      },
      {
        "duration": 16,
        "start_time": "2023-04-27T15:43:54.795Z"
      },
      {
        "duration": 3,
        "start_time": "2023-04-27T15:45:23.420Z"
      },
      {
        "duration": 9,
        "start_time": "2023-04-27T15:45:24.317Z"
      },
      {
        "duration": 3,
        "start_time": "2023-04-27T15:45:29.316Z"
      },
      {
        "duration": 7,
        "start_time": "2023-04-27T15:45:29.462Z"
      },
      {
        "duration": 15,
        "start_time": "2023-04-27T15:47:18.213Z"
      },
      {
        "duration": 19,
        "start_time": "2023-04-27T15:47:37.644Z"
      },
      {
        "duration": 10,
        "start_time": "2023-04-27T15:57:21.990Z"
      },
      {
        "duration": 1919,
        "start_time": "2023-04-27T15:57:29.747Z"
      },
      {
        "duration": 4,
        "start_time": "2023-04-27T15:57:51.499Z"
      },
      {
        "duration": 8,
        "start_time": "2023-04-27T15:57:57.391Z"
      },
      {
        "duration": 4,
        "start_time": "2023-04-27T15:58:03.596Z"
      },
      {
        "duration": 1302,
        "start_time": "2023-04-27T15:59:53.293Z"
      },
      {
        "duration": 1809,
        "start_time": "2023-04-27T15:59:57.228Z"
      },
      {
        "duration": 1365,
        "start_time": "2023-04-27T16:00:00.501Z"
      },
      {
        "duration": 1333,
        "start_time": "2023-04-27T16:00:18.564Z"
      },
      {
        "duration": 1501,
        "start_time": "2023-04-27T16:00:29.660Z"
      },
      {
        "duration": 5,
        "start_time": "2023-04-27T16:00:43.052Z"
      },
      {
        "duration": 1204,
        "start_time": "2023-04-27T16:01:12.405Z"
      },
      {
        "duration": 1063,
        "start_time": "2023-04-27T16:01:30.238Z"
      },
      {
        "duration": 2122,
        "start_time": "2023-04-27T16:01:36.676Z"
      },
      {
        "duration": 1053,
        "start_time": "2023-04-27T16:01:49.394Z"
      },
      {
        "duration": 1052,
        "start_time": "2023-04-27T16:04:42.043Z"
      },
      {
        "duration": 1065,
        "start_time": "2023-04-27T16:05:06.048Z"
      },
      {
        "duration": 1052,
        "start_time": "2023-04-27T16:05:11.657Z"
      },
      {
        "duration": 1264,
        "start_time": "2023-04-27T16:09:21.561Z"
      },
      {
        "duration": 1269,
        "start_time": "2023-04-27T16:09:39.553Z"
      },
      {
        "duration": 1245,
        "start_time": "2023-04-27T16:18:26.863Z"
      },
      {
        "duration": 1028,
        "start_time": "2023-04-27T16:18:31.087Z"
      },
      {
        "duration": 1029,
        "start_time": "2023-04-27T16:18:34.903Z"
      },
      {
        "duration": 1169,
        "start_time": "2023-04-27T16:19:45.111Z"
      },
      {
        "duration": 1166,
        "start_time": "2023-04-27T16:20:07.920Z"
      },
      {
        "duration": 1180,
        "start_time": "2023-04-27T16:20:17.240Z"
      },
      {
        "duration": 3,
        "start_time": "2023-04-27T16:23:17.593Z"
      },
      {
        "duration": 1207,
        "start_time": "2023-04-27T16:23:18.009Z"
      },
      {
        "duration": 4,
        "start_time": "2023-04-27T16:24:32.338Z"
      },
      {
        "duration": 3,
        "start_time": "2023-04-27T16:28:58.589Z"
      },
      {
        "duration": 9,
        "start_time": "2023-04-27T16:34:40.208Z"
      },
      {
        "duration": 369,
        "start_time": "2023-04-27T16:34:59.024Z"
      },
      {
        "duration": 359,
        "start_time": "2023-04-27T16:35:29.160Z"
      },
      {
        "duration": 367,
        "start_time": "2023-04-27T16:35:33.464Z"
      },
      {
        "duration": 348,
        "start_time": "2023-04-27T16:35:35.273Z"
      },
      {
        "duration": 353,
        "start_time": "2023-04-27T16:35:36.225Z"
      },
      {
        "duration": 789,
        "start_time": "2023-04-27T16:35:52.329Z"
      },
      {
        "duration": 778,
        "start_time": "2023-04-27T16:35:55.544Z"
      },
      {
        "duration": 780,
        "start_time": "2023-04-27T16:36:56.938Z"
      },
      {
        "duration": 772,
        "start_time": "2023-04-27T16:36:57.719Z"
      },
      {
        "duration": 788,
        "start_time": "2023-04-27T16:38:32.218Z"
      },
      {
        "duration": 831,
        "start_time": "2023-04-27T16:38:34.412Z"
      },
      {
        "duration": 792,
        "start_time": "2023-04-27T16:38:35.248Z"
      },
      {
        "duration": 783,
        "start_time": "2023-04-27T16:38:36.041Z"
      },
      {
        "duration": 789,
        "start_time": "2023-04-27T16:41:20.932Z"
      },
      {
        "duration": 781,
        "start_time": "2023-04-27T16:41:21.723Z"
      },
      {
        "duration": 781,
        "start_time": "2023-04-27T16:41:22.506Z"
      },
      {
        "duration": 7876,
        "start_time": "2023-04-27T16:42:19.733Z"
      },
      {
        "duration": 2,
        "start_time": "2023-04-27T16:43:51.199Z"
      },
      {
        "duration": 1093,
        "start_time": "2023-04-27T16:43:57.310Z"
      },
      {
        "duration": 3,
        "start_time": "2023-04-27T16:44:19.213Z"
      },
      {
        "duration": 798,
        "start_time": "2023-04-27T16:44:33.118Z"
      },
      {
        "duration": 823,
        "start_time": "2023-04-27T16:44:33.918Z"
      },
      {
        "duration": 794,
        "start_time": "2023-04-27T16:44:34.743Z"
      },
      {
        "duration": 997,
        "start_time": "2023-04-27T16:44:56.182Z"
      },
      {
        "duration": 4,
        "start_time": "2023-04-27T16:45:06.920Z"
      },
      {
        "duration": 1033,
        "start_time": "2023-04-27T16:45:13.086Z"
      },
      {
        "duration": 127,
        "start_time": "2023-04-27T16:45:20.629Z"
      },
      {
        "duration": 20,
        "start_time": "2023-04-27T16:45:38.207Z"
      },
      {
        "duration": 94,
        "start_time": "2023-04-27T16:46:18.879Z"
      },
      {
        "duration": 12,
        "start_time": "2023-04-27T16:51:24.308Z"
      },
      {
        "duration": 5,
        "start_time": "2023-04-27T16:51:31.417Z"
      },
      {
        "duration": 125,
        "start_time": "2023-04-27T16:51:39.008Z"
      },
      {
        "duration": 12,
        "start_time": "2023-04-27T16:51:46.546Z"
      },
      {
        "duration": 16,
        "start_time": "2023-04-27T16:51:51.712Z"
      },
      {
        "duration": 133,
        "start_time": "2023-04-27T16:51:53.609Z"
      },
      {
        "duration": 773,
        "start_time": "2023-04-27T16:56:41.300Z"
      },
      {
        "duration": 778,
        "start_time": "2023-04-27T16:56:42.074Z"
      },
      {
        "duration": 822,
        "start_time": "2023-04-27T16:56:42.854Z"
      },
      {
        "duration": 357,
        "start_time": "2023-04-27T16:57:01.965Z"
      },
      {
        "duration": 369,
        "start_time": "2023-04-27T16:57:02.323Z"
      },
      {
        "duration": 373,
        "start_time": "2023-04-27T16:57:02.693Z"
      },
      {
        "duration": 828,
        "start_time": "2023-04-27T16:58:59.846Z"
      },
      {
        "duration": 830,
        "start_time": "2023-04-27T16:59:00.676Z"
      },
      {
        "duration": 0,
        "start_time": "2023-04-27T16:59:01.508Z"
      },
      {
        "duration": 817,
        "start_time": "2023-04-27T16:59:29.087Z"
      },
      {
        "duration": 809,
        "start_time": "2023-04-27T16:59:29.905Z"
      },
      {
        "duration": 819,
        "start_time": "2023-04-27T16:59:30.715Z"
      },
      {
        "duration": 4,
        "start_time": "2023-04-27T17:00:00.461Z"
      },
      {
        "duration": 3,
        "start_time": "2023-04-27T17:18:21.018Z"
      },
      {
        "duration": 9,
        "start_time": "2023-04-27T17:19:15.104Z"
      },
      {
        "duration": 8,
        "start_time": "2023-04-27T17:19:22.850Z"
      },
      {
        "duration": 5,
        "start_time": "2023-04-27T17:19:41.218Z"
      },
      {
        "duration": 8,
        "start_time": "2023-04-27T17:19:47.002Z"
      },
      {
        "duration": 5,
        "start_time": "2023-04-27T17:20:42.697Z"
      },
      {
        "duration": 6,
        "start_time": "2023-04-27T17:20:57.035Z"
      },
      {
        "duration": 798,
        "start_time": "2023-04-27T17:21:34.662Z"
      },
      {
        "duration": 820,
        "start_time": "2023-04-27T17:21:35.461Z"
      },
      {
        "duration": 791,
        "start_time": "2023-04-27T17:21:36.283Z"
      },
      {
        "duration": 2,
        "start_time": "2023-04-27T17:24:03.524Z"
      },
      {
        "duration": 784,
        "start_time": "2023-04-27T17:25:01.004Z"
      },
      {
        "duration": 9,
        "start_time": "2023-04-27T17:25:01.790Z"
      },
      {
        "duration": 9,
        "start_time": "2023-04-27T17:25:13.836Z"
      },
      {
        "duration": 9,
        "start_time": "2023-04-27T17:25:35.380Z"
      },
      {
        "duration": 3,
        "start_time": "2023-04-27T17:25:47.173Z"
      },
      {
        "duration": 10,
        "start_time": "2023-04-27T17:27:02.437Z"
      },
      {
        "duration": 3,
        "start_time": "2023-04-27T17:29:04.222Z"
      },
      {
        "duration": 782,
        "start_time": "2023-04-27T17:29:34.678Z"
      },
      {
        "duration": 6,
        "start_time": "2023-04-27T17:29:35.461Z"
      },
      {
        "duration": 794,
        "start_time": "2023-04-27T17:31:11.816Z"
      },
      {
        "duration": 6,
        "start_time": "2023-04-27T17:31:12.612Z"
      },
      {
        "duration": 6,
        "start_time": "2023-04-27T17:31:46.711Z"
      },
      {
        "duration": 803,
        "start_time": "2023-04-27T17:31:49.701Z"
      },
      {
        "duration": 6,
        "start_time": "2023-04-27T17:31:50.506Z"
      },
      {
        "duration": 788,
        "start_time": "2023-04-27T17:32:38.825Z"
      },
      {
        "duration": 7,
        "start_time": "2023-04-27T17:32:39.614Z"
      },
      {
        "duration": 4,
        "start_time": "2023-04-27T17:37:06.447Z"
      },
      {
        "duration": 350,
        "start_time": "2023-04-27T17:37:06.453Z"
      },
      {
        "duration": 34,
        "start_time": "2023-04-27T17:37:06.805Z"
      },
      {
        "duration": 15,
        "start_time": "2023-04-27T17:37:06.849Z"
      },
      {
        "duration": 109,
        "start_time": "2023-04-27T17:37:06.866Z"
      },
      {
        "duration": 32,
        "start_time": "2023-04-27T17:37:06.976Z"
      },
      {
        "duration": 9,
        "start_time": "2023-04-27T17:37:07.010Z"
      },
      {
        "duration": 57,
        "start_time": "2023-04-27T17:37:07.020Z"
      },
      {
        "duration": 970,
        "start_time": "2023-04-27T17:37:07.079Z"
      },
      {
        "duration": 39510,
        "start_time": "2023-04-27T17:37:08.052Z"
      },
      {
        "duration": 188,
        "start_time": "2023-04-27T17:37:47.564Z"
      },
      {
        "duration": 59111,
        "start_time": "2023-04-27T17:37:47.754Z"
      },
      {
        "duration": 90,
        "start_time": "2023-04-27T17:38:46.868Z"
      },
      {
        "duration": 6691,
        "start_time": "2023-04-27T17:38:46.959Z"
      },
      {
        "duration": 9,
        "start_time": "2023-04-27T17:38:53.652Z"
      },
      {
        "duration": 22,
        "start_time": "2023-04-27T17:38:53.663Z"
      },
      {
        "duration": 3,
        "start_time": "2023-04-27T17:38:53.748Z"
      },
      {
        "duration": 8,
        "start_time": "2023-04-27T17:38:53.753Z"
      },
      {
        "duration": 7,
        "start_time": "2023-04-27T17:38:53.763Z"
      },
      {
        "duration": 19,
        "start_time": "2023-04-27T17:38:53.772Z"
      },
      {
        "duration": 6,
        "start_time": "2023-04-27T17:38:53.793Z"
      },
      {
        "duration": 804,
        "start_time": "2023-04-27T17:38:53.801Z"
      },
      {
        "duration": 7,
        "start_time": "2023-04-27T17:38:54.607Z"
      },
      {
        "duration": 867,
        "start_time": "2023-04-27T17:38:54.615Z"
      },
      {
        "duration": 5,
        "start_time": "2023-04-27T17:38:55.484Z"
      },
      {
        "duration": 788,
        "start_time": "2023-04-27T17:38:55.490Z"
      },
      {
        "duration": 7,
        "start_time": "2023-04-27T17:38:56.280Z"
      },
      {
        "duration": 9,
        "start_time": "2023-04-27T17:38:56.288Z"
      },
      {
        "duration": 24,
        "start_time": "2023-04-27T17:41:52.453Z"
      },
      {
        "duration": 57,
        "start_time": "2023-04-28T09:49:20.474Z"
      },
      {
        "duration": 1207,
        "start_time": "2023-04-28T09:49:31.122Z"
      },
      {
        "duration": 72,
        "start_time": "2023-04-28T09:49:48.424Z"
      },
      {
        "duration": 10,
        "start_time": "2023-04-28T09:50:08.233Z"
      },
      {
        "duration": 4,
        "start_time": "2023-04-28T09:50:37.424Z"
      },
      {
        "duration": 1600,
        "start_time": "2023-04-28T09:50:37.430Z"
      },
      {
        "duration": 36,
        "start_time": "2023-04-28T09:50:39.032Z"
      },
      {
        "duration": 33,
        "start_time": "2023-04-28T09:50:39.070Z"
      },
      {
        "duration": 111,
        "start_time": "2023-04-28T09:50:39.106Z"
      },
      {
        "duration": 34,
        "start_time": "2023-04-28T09:50:39.219Z"
      },
      {
        "duration": 10,
        "start_time": "2023-04-28T09:50:39.255Z"
      },
      {
        "duration": 70,
        "start_time": "2023-04-28T09:50:39.267Z"
      },
      {
        "duration": 11,
        "start_time": "2023-04-28T10:03:30.874Z"
      },
      {
        "duration": 83,
        "start_time": "2023-04-28T10:03:49.607Z"
      },
      {
        "duration": 23,
        "start_time": "2023-04-28T10:03:57.393Z"
      },
      {
        "duration": 4,
        "start_time": "2023-04-28T10:04:01.230Z"
      },
      {
        "duration": 448,
        "start_time": "2023-04-28T10:04:01.237Z"
      },
      {
        "duration": 39,
        "start_time": "2023-04-28T10:04:01.687Z"
      },
      {
        "duration": 17,
        "start_time": "2023-04-28T10:04:01.728Z"
      },
      {
        "duration": 149,
        "start_time": "2023-04-28T10:04:01.746Z"
      },
      {
        "duration": 38,
        "start_time": "2023-04-28T10:04:01.897Z"
      },
      {
        "duration": 10,
        "start_time": "2023-04-28T10:04:01.936Z"
      },
      {
        "duration": 60,
        "start_time": "2023-04-28T10:04:01.948Z"
      },
      {
        "duration": 22,
        "start_time": "2023-04-28T10:04:03.170Z"
      },
      {
        "duration": 21,
        "start_time": "2023-04-28T10:04:18.137Z"
      },
      {
        "duration": 21,
        "start_time": "2023-04-28T10:04:22.058Z"
      },
      {
        "duration": 14,
        "start_time": "2023-04-28T10:04:37.297Z"
      },
      {
        "duration": 14,
        "start_time": "2023-04-28T10:04:40.816Z"
      },
      {
        "duration": 14,
        "start_time": "2023-04-28T10:04:41.520Z"
      },
      {
        "duration": 16,
        "start_time": "2023-04-28T10:04:42.793Z"
      },
      {
        "duration": 16,
        "start_time": "2023-04-28T10:04:43.953Z"
      },
      {
        "duration": 15,
        "start_time": "2023-04-28T10:05:23.467Z"
      },
      {
        "duration": 16,
        "start_time": "2023-04-28T10:05:23.689Z"
      },
      {
        "duration": 14,
        "start_time": "2023-04-28T10:08:48.115Z"
      },
      {
        "duration": 16,
        "start_time": "2023-04-28T10:08:48.290Z"
      },
      {
        "duration": 16,
        "start_time": "2023-04-28T10:08:48.490Z"
      },
      {
        "duration": 16,
        "start_time": "2023-04-28T10:09:50.515Z"
      },
      {
        "duration": 16,
        "start_time": "2023-04-28T10:10:18.460Z"
      },
      {
        "duration": 16,
        "start_time": "2023-04-28T10:10:25.189Z"
      },
      {
        "duration": 21,
        "start_time": "2023-04-28T10:10:25.390Z"
      },
      {
        "duration": 109,
        "start_time": "2023-04-28T10:10:25.494Z"
      },
      {
        "duration": 9,
        "start_time": "2023-04-28T10:14:20.159Z"
      },
      {
        "duration": 9,
        "start_time": "2023-04-28T10:15:47.287Z"
      },
      {
        "duration": 10,
        "start_time": "2023-04-28T10:15:59.623Z"
      },
      {
        "duration": 3,
        "start_time": "2023-04-28T10:16:02.063Z"
      },
      {
        "duration": 5,
        "start_time": "2023-04-28T10:16:03.295Z"
      },
      {
        "duration": 3,
        "start_time": "2023-04-28T10:16:49.135Z"
      },
      {
        "duration": 5,
        "start_time": "2023-04-28T10:16:53.399Z"
      },
      {
        "duration": 117,
        "start_time": "2023-04-28T10:17:50.976Z"
      },
      {
        "duration": 4,
        "start_time": "2023-04-28T10:23:54.092Z"
      },
      {
        "duration": 8,
        "start_time": "2023-04-28T10:26:06.005Z"
      },
      {
        "duration": 8,
        "start_time": "2023-04-28T10:26:21.284Z"
      },
      {
        "duration": 7,
        "start_time": "2023-04-28T10:28:09.006Z"
      },
      {
        "duration": 4,
        "start_time": "2023-04-28T14:00:03.174Z"
      },
      {
        "duration": 11,
        "start_time": "2023-04-28T14:00:06.853Z"
      },
      {
        "duration": 8,
        "start_time": "2023-04-28T14:00:14.201Z"
      },
      {
        "duration": 10,
        "start_time": "2023-04-28T14:00:18.404Z"
      },
      {
        "duration": 22,
        "start_time": "2023-04-28T14:02:17.354Z"
      },
      {
        "duration": 5,
        "start_time": "2023-04-28T14:02:25.385Z"
      },
      {
        "duration": 16,
        "start_time": "2023-04-28T14:02:26.465Z"
      },
      {
        "duration": 5,
        "start_time": "2023-04-28T14:03:08.229Z"
      },
      {
        "duration": 422,
        "start_time": "2023-04-28T14:03:08.237Z"
      },
      {
        "duration": 56,
        "start_time": "2023-04-28T14:03:08.661Z"
      },
      {
        "duration": 17,
        "start_time": "2023-04-28T14:03:08.720Z"
      },
      {
        "duration": 123,
        "start_time": "2023-04-28T14:03:08.739Z"
      },
      {
        "duration": 57,
        "start_time": "2023-04-28T14:03:08.865Z"
      },
      {
        "duration": 12,
        "start_time": "2023-04-28T14:03:08.924Z"
      },
      {
        "duration": 27,
        "start_time": "2023-04-28T14:03:08.938Z"
      },
      {
        "duration": 126,
        "start_time": "2023-04-28T14:03:08.967Z"
      },
      {
        "duration": 113,
        "start_time": "2023-04-28T14:03:09.101Z"
      },
      {
        "duration": 27,
        "start_time": "2023-04-28T14:03:09.290Z"
      },
      {
        "duration": 76,
        "start_time": "2023-04-28T14:03:09.321Z"
      },
      {
        "duration": 13,
        "start_time": "2023-04-28T14:03:09.400Z"
      },
      {
        "duration": 92,
        "start_time": "2023-04-28T14:03:09.415Z"
      },
      {
        "duration": 20,
        "start_time": "2023-04-28T14:03:09.509Z"
      },
      {
        "duration": 18,
        "start_time": "2023-04-28T14:03:12.508Z"
      },
      {
        "duration": 4,
        "start_time": "2023-04-28T14:03:49.465Z"
      },
      {
        "duration": 30,
        "start_time": "2023-04-28T14:03:50.370Z"
      },
      {
        "duration": 19,
        "start_time": "2023-04-28T14:04:20.122Z"
      },
      {
        "duration": 4,
        "start_time": "2023-04-28T14:04:20.850Z"
      },
      {
        "duration": 13,
        "start_time": "2023-04-28T14:04:23.177Z"
      },
      {
        "duration": 13,
        "start_time": "2023-04-28T14:04:23.873Z"
      },
      {
        "duration": 11,
        "start_time": "2023-04-28T14:04:24.247Z"
      },
      {
        "duration": 15,
        "start_time": "2023-04-28T14:07:30.452Z"
      },
      {
        "duration": 5,
        "start_time": "2023-04-28T14:07:57.792Z"
      },
      {
        "duration": 13,
        "start_time": "2023-04-28T14:08:11.503Z"
      },
      {
        "duration": 2391,
        "start_time": "2023-04-28T14:08:54.629Z"
      },
      {
        "duration": 2363,
        "start_time": "2023-04-28T14:09:17.473Z"
      },
      {
        "duration": 2361,
        "start_time": "2023-04-28T14:09:24.877Z"
      },
      {
        "duration": 7,
        "start_time": "2023-04-28T14:09:32.957Z"
      },
      {
        "duration": 11,
        "start_time": "2023-04-28T14:09:43.556Z"
      },
      {
        "duration": 2360,
        "start_time": "2023-04-28T14:09:54.152Z"
      },
      {
        "duration": 7,
        "start_time": "2023-04-28T14:09:57.552Z"
      },
      {
        "duration": 2366,
        "start_time": "2023-04-28T14:10:03.063Z"
      },
      {
        "duration": 10,
        "start_time": "2023-04-28T14:10:06.656Z"
      },
      {
        "duration": 13,
        "start_time": "2023-04-28T14:11:54.306Z"
      },
      {
        "duration": 24,
        "start_time": "2023-04-28T14:11:57.823Z"
      },
      {
        "duration": 9,
        "start_time": "2023-04-28T14:12:37.375Z"
      },
      {
        "duration": 700,
        "start_time": "2023-04-28T14:13:46.680Z"
      },
      {
        "duration": 20,
        "start_time": "2023-04-28T15:02:36.045Z"
      },
      {
        "duration": 20,
        "start_time": "2023-04-28T15:02:44.633Z"
      },
      {
        "duration": 3,
        "start_time": "2023-04-28T15:03:46.158Z"
      },
      {
        "duration": 21,
        "start_time": "2023-04-28T15:03:46.797Z"
      },
      {
        "duration": 4,
        "start_time": "2023-04-28T15:03:59.902Z"
      },
      {
        "duration": 34,
        "start_time": "2023-04-28T15:04:01.870Z"
      },
      {
        "duration": 4,
        "start_time": "2023-04-28T15:04:33.442Z"
      },
      {
        "duration": 25,
        "start_time": "2023-04-28T15:04:33.950Z"
      },
      {
        "duration": 22,
        "start_time": "2023-04-28T15:05:15.642Z"
      },
      {
        "duration": 4,
        "start_time": "2023-04-28T15:05:26.167Z"
      },
      {
        "duration": 19,
        "start_time": "2023-04-28T15:05:27.681Z"
      },
      {
        "duration": 21,
        "start_time": "2023-04-28T15:05:33.807Z"
      },
      {
        "duration": 4,
        "start_time": "2023-04-28T15:15:49.046Z"
      },
      {
        "duration": 19,
        "start_time": "2023-04-28T15:15:49.487Z"
      },
      {
        "duration": 4,
        "start_time": "2023-04-28T15:15:50.302Z"
      },
      {
        "duration": 2333,
        "start_time": "2023-04-28T15:15:51.135Z"
      },
      {
        "duration": 7,
        "start_time": "2023-04-28T15:15:53.470Z"
      },
      {
        "duration": 2278,
        "start_time": "2023-04-28T15:15:53.478Z"
      },
      {
        "duration": 7,
        "start_time": "2023-04-28T15:15:55.758Z"
      },
      {
        "duration": 2251,
        "start_time": "2023-04-28T15:15:55.767Z"
      },
      {
        "duration": 7,
        "start_time": "2023-04-28T15:15:58.019Z"
      },
      {
        "duration": 31,
        "start_time": "2023-04-28T15:15:58.028Z"
      },
      {
        "duration": 6,
        "start_time": "2023-04-28T15:16:55.710Z"
      },
      {
        "duration": 6,
        "start_time": "2023-04-28T15:17:03.430Z"
      },
      {
        "duration": 6,
        "start_time": "2023-04-28T15:17:34.767Z"
      },
      {
        "duration": 25,
        "start_time": "2023-04-28T15:17:51.615Z"
      },
      {
        "duration": 37,
        "start_time": "2023-04-28T15:19:46.049Z"
      },
      {
        "duration": 11,
        "start_time": "2023-04-28T15:20:30.379Z"
      },
      {
        "duration": 9,
        "start_time": "2023-04-28T15:20:57.006Z"
      },
      {
        "duration": 9,
        "start_time": "2023-04-28T15:21:34.179Z"
      },
      {
        "duration": 11,
        "start_time": "2023-04-28T15:21:40.275Z"
      },
      {
        "duration": 8,
        "start_time": "2023-04-28T15:21:58.703Z"
      },
      {
        "duration": 8,
        "start_time": "2023-04-28T15:22:14.628Z"
      },
      {
        "duration": 10,
        "start_time": "2023-04-28T15:22:24.946Z"
      },
      {
        "duration": 9,
        "start_time": "2023-04-28T15:22:35.355Z"
      },
      {
        "duration": 6,
        "start_time": "2023-04-28T16:29:58.804Z"
      },
      {
        "duration": 11,
        "start_time": "2023-04-28T16:30:42.677Z"
      },
      {
        "duration": 3,
        "start_time": "2023-04-28T16:31:06.353Z"
      },
      {
        "duration": 20,
        "start_time": "2023-04-28T16:31:08.220Z"
      },
      {
        "duration": 3678,
        "start_time": "2023-04-28T16:31:29.725Z"
      },
      {
        "duration": 7,
        "start_time": "2023-04-28T16:31:33.405Z"
      },
      {
        "duration": 3631,
        "start_time": "2023-04-28T16:31:33.572Z"
      },
      {
        "duration": 6,
        "start_time": "2023-04-28T16:31:37.206Z"
      },
      {
        "duration": 3638,
        "start_time": "2023-04-28T16:31:37.214Z"
      },
      {
        "duration": 7,
        "start_time": "2023-04-28T16:31:40.854Z"
      },
      {
        "duration": 5,
        "start_time": "2023-04-28T16:31:40.863Z"
      },
      {
        "duration": 3,
        "start_time": "2023-04-28T16:32:16.375Z"
      },
      {
        "duration": 24,
        "start_time": "2023-04-28T16:32:18.414Z"
      },
      {
        "duration": 4,
        "start_time": "2023-04-28T16:32:56.462Z"
      },
      {
        "duration": 1882,
        "start_time": "2023-04-28T16:33:26.558Z"
      },
      {
        "duration": 6,
        "start_time": "2023-04-28T16:33:31.781Z"
      },
      {
        "duration": 3574,
        "start_time": "2023-04-28T16:33:34.191Z"
      },
      {
        "duration": 7,
        "start_time": "2023-04-28T16:33:37.767Z"
      },
      {
        "duration": 3594,
        "start_time": "2023-04-28T16:33:37.775Z"
      },
      {
        "duration": 7,
        "start_time": "2023-04-28T16:33:41.370Z"
      },
      {
        "duration": 1906,
        "start_time": "2023-04-28T16:33:53.752Z"
      },
      {
        "duration": 8,
        "start_time": "2023-04-28T16:33:55.661Z"
      },
      {
        "duration": 1931,
        "start_time": "2023-04-28T16:33:55.671Z"
      },
      {
        "duration": 7,
        "start_time": "2023-04-28T16:33:57.604Z"
      },
      {
        "duration": 3,
        "start_time": "2023-04-28T16:34:37.327Z"
      },
      {
        "duration": 2017,
        "start_time": "2023-04-28T16:37:01.409Z"
      },
      {
        "duration": 1952,
        "start_time": "2023-04-28T16:37:07.680Z"
      },
      {
        "duration": 7,
        "start_time": "2023-04-28T16:37:09.634Z"
      },
      {
        "duration": 2034,
        "start_time": "2023-04-28T16:37:09.643Z"
      },
      {
        "duration": 11,
        "start_time": "2023-04-28T16:37:11.680Z"
      },
      {
        "duration": 1980,
        "start_time": "2023-04-28T16:37:11.693Z"
      },
      {
        "duration": 6,
        "start_time": "2023-04-28T16:37:13.675Z"
      },
      {
        "duration": 24,
        "start_time": "2023-04-28T16:37:13.683Z"
      },
      {
        "duration": 80,
        "start_time": "2023-04-28T17:08:06.659Z"
      },
      {
        "duration": 93,
        "start_time": "2023-04-28T17:08:11.450Z"
      },
      {
        "duration": 19,
        "start_time": "2023-04-28T17:08:44.155Z"
      },
      {
        "duration": 5,
        "start_time": "2023-04-28T17:09:01.789Z"
      },
      {
        "duration": 420,
        "start_time": "2023-04-28T17:09:01.796Z"
      },
      {
        "duration": 38,
        "start_time": "2023-04-28T17:09:02.218Z"
      },
      {
        "duration": 36,
        "start_time": "2023-04-28T17:09:02.259Z"
      },
      {
        "duration": 116,
        "start_time": "2023-04-28T17:09:02.298Z"
      },
      {
        "duration": 38,
        "start_time": "2023-04-28T17:09:02.416Z"
      },
      {
        "duration": 9,
        "start_time": "2023-04-28T17:09:02.455Z"
      },
      {
        "duration": 52,
        "start_time": "2023-04-28T17:09:02.465Z"
      },
      {
        "duration": 170,
        "start_time": "2023-04-28T17:09:02.519Z"
      },
      {
        "duration": 107,
        "start_time": "2023-04-28T17:09:02.692Z"
      },
      {
        "duration": 104,
        "start_time": "2023-04-28T17:09:02.800Z"
      },
      {
        "duration": 91,
        "start_time": "2023-04-28T17:09:02.906Z"
      },
      {
        "duration": 91,
        "start_time": "2023-04-28T17:09:02.999Z"
      },
      {
        "duration": 10,
        "start_time": "2023-04-28T17:09:03.093Z"
      },
      {
        "duration": 6,
        "start_time": "2023-04-28T17:09:03.105Z"
      },
      {
        "duration": 21,
        "start_time": "2023-04-28T17:09:03.112Z"
      },
      {
        "duration": 5,
        "start_time": "2023-04-28T17:09:03.135Z"
      },
      {
        "duration": 1917,
        "start_time": "2023-04-28T17:09:03.157Z"
      },
      {
        "duration": 6,
        "start_time": "2023-04-28T17:09:05.076Z"
      },
      {
        "duration": 1955,
        "start_time": "2023-04-28T17:09:05.089Z"
      },
      {
        "duration": 7,
        "start_time": "2023-04-28T17:09:07.046Z"
      },
      {
        "duration": 3155,
        "start_time": "2023-04-28T17:09:07.055Z"
      },
      {
        "duration": 14,
        "start_time": "2023-04-28T17:09:10.212Z"
      },
      {
        "duration": 23,
        "start_time": "2023-04-28T17:09:10.228Z"
      },
      {
        "duration": 7910,
        "start_time": "2023-04-29T09:11:06.765Z"
      },
      {
        "duration": 344,
        "start_time": "2023-04-29T09:11:14.677Z"
      },
      {
        "duration": 31,
        "start_time": "2023-04-29T09:11:15.023Z"
      },
      {
        "duration": 38,
        "start_time": "2023-04-29T09:11:15.056Z"
      },
      {
        "duration": 98,
        "start_time": "2023-04-29T09:11:15.096Z"
      },
      {
        "duration": 28,
        "start_time": "2023-04-29T09:11:15.196Z"
      },
      {
        "duration": 8,
        "start_time": "2023-04-29T09:11:15.226Z"
      },
      {
        "duration": 48,
        "start_time": "2023-04-29T09:11:15.236Z"
      },
      {
        "duration": 273,
        "start_time": "2023-04-29T09:11:15.294Z"
      },
      {
        "duration": 0,
        "start_time": "2023-04-29T09:11:15.568Z"
      },
      {
        "duration": 0,
        "start_time": "2023-04-29T09:11:15.569Z"
      },
      {
        "duration": 0,
        "start_time": "2023-04-29T09:11:15.571Z"
      },
      {
        "duration": 0,
        "start_time": "2023-04-29T09:11:15.572Z"
      },
      {
        "duration": 0,
        "start_time": "2023-04-29T09:11:15.573Z"
      },
      {
        "duration": 0,
        "start_time": "2023-04-29T09:11:15.574Z"
      },
      {
        "duration": 0,
        "start_time": "2023-04-29T09:11:15.575Z"
      },
      {
        "duration": 0,
        "start_time": "2023-04-29T09:11:15.596Z"
      },
      {
        "duration": 0,
        "start_time": "2023-04-29T09:11:15.597Z"
      },
      {
        "duration": 0,
        "start_time": "2023-04-29T09:11:15.599Z"
      },
      {
        "duration": 0,
        "start_time": "2023-04-29T09:11:15.600Z"
      },
      {
        "duration": 0,
        "start_time": "2023-04-29T09:11:15.601Z"
      },
      {
        "duration": 0,
        "start_time": "2023-04-29T09:11:15.603Z"
      },
      {
        "duration": 0,
        "start_time": "2023-04-29T09:11:15.604Z"
      },
      {
        "duration": 0,
        "start_time": "2023-04-29T09:11:15.606Z"
      },
      {
        "duration": 22,
        "start_time": "2023-04-29T09:14:13.586Z"
      },
      {
        "duration": 20,
        "start_time": "2023-04-29T09:14:17.324Z"
      },
      {
        "duration": 15,
        "start_time": "2023-04-29T09:14:19.424Z"
      },
      {
        "duration": 6,
        "start_time": "2023-04-29T09:14:30.144Z"
      },
      {
        "duration": 3,
        "start_time": "2023-04-29T09:14:30.632Z"
      },
      {
        "duration": 7,
        "start_time": "2023-04-29T09:14:31.057Z"
      },
      {
        "duration": 3,
        "start_time": "2023-04-29T09:14:31.636Z"
      },
      {
        "duration": 19,
        "start_time": "2023-04-29T09:14:31.972Z"
      },
      {
        "duration": 3,
        "start_time": "2023-04-29T09:14:32.224Z"
      },
      {
        "duration": 1738,
        "start_time": "2023-04-29T09:14:33.214Z"
      },
      {
        "duration": 6,
        "start_time": "2023-04-29T09:14:34.955Z"
      },
      {
        "duration": 1691,
        "start_time": "2023-04-29T09:14:34.962Z"
      },
      {
        "duration": 7,
        "start_time": "2023-04-29T09:14:36.656Z"
      },
      {
        "duration": 1612,
        "start_time": "2023-04-29T09:14:36.664Z"
      },
      {
        "duration": 6,
        "start_time": "2023-04-29T09:14:38.277Z"
      },
      {
        "duration": 12,
        "start_time": "2023-04-29T09:14:38.284Z"
      },
      {
        "duration": 6,
        "start_time": "2023-04-29T09:15:02.947Z"
      },
      {
        "duration": 4,
        "start_time": "2023-04-29T09:15:10.434Z"
      },
      {
        "duration": 5,
        "start_time": "2023-04-29T09:15:12.444Z"
      },
      {
        "duration": 5,
        "start_time": "2023-04-29T09:15:22.293Z"
      },
      {
        "duration": 5,
        "start_time": "2023-04-29T09:15:26.327Z"
      },
      {
        "duration": 5,
        "start_time": "2023-04-29T09:15:30.966Z"
      },
      {
        "duration": 5,
        "start_time": "2023-04-29T09:15:39.315Z"
      },
      {
        "duration": 6,
        "start_time": "2023-04-29T09:15:48.106Z"
      },
      {
        "duration": 1605,
        "start_time": "2023-04-29T09:16:03.989Z"
      },
      {
        "duration": 6,
        "start_time": "2023-04-29T09:16:06.181Z"
      },
      {
        "duration": 7,
        "start_time": "2023-04-29T09:16:09.912Z"
      },
      {
        "duration": 1616,
        "start_time": "2023-04-29T09:16:14.910Z"
      },
      {
        "duration": 6,
        "start_time": "2023-04-29T09:16:17.783Z"
      },
      {
        "duration": 6,
        "start_time": "2023-04-29T09:16:22.980Z"
      },
      {
        "duration": 5,
        "start_time": "2023-04-29T09:16:39.901Z"
      },
      {
        "duration": 3,
        "start_time": "2023-04-29T09:16:47.304Z"
      },
      {
        "duration": 1525,
        "start_time": "2023-04-29T09:16:48.346Z"
      },
      {
        "duration": 5,
        "start_time": "2023-04-29T09:16:54.618Z"
      },
      {
        "duration": 6,
        "start_time": "2023-04-29T09:16:59.005Z"
      },
      {
        "duration": 3141,
        "start_time": "2023-04-29T09:17:18.436Z"
      },
      {
        "duration": 1630,
        "start_time": "2023-04-29T09:17:24.836Z"
      },
      {
        "duration": 1613,
        "start_time": "2023-04-29T09:17:58.485Z"
      },
      {
        "duration": 7,
        "start_time": "2023-04-29T09:18:00.665Z"
      },
      {
        "duration": 8,
        "start_time": "2023-04-29T09:18:05.446Z"
      },
      {
        "duration": 1575,
        "start_time": "2023-04-29T09:18:08.433Z"
      },
      {
        "duration": 6,
        "start_time": "2023-04-29T09:18:10.009Z"
      },
      {
        "duration": 5,
        "start_time": "2023-04-29T09:18:18.873Z"
      },
      {
        "duration": 10,
        "start_time": "2023-04-29T09:18:30.346Z"
      },
      {
        "duration": 9,
        "start_time": "2023-04-29T09:18:35.794Z"
      },
      {
        "duration": 11,
        "start_time": "2023-04-29T09:18:39.128Z"
      },
      {
        "duration": 5,
        "start_time": "2023-04-29T09:18:42.510Z"
      },
      {
        "duration": 4,
        "start_time": "2023-04-29T09:18:44.808Z"
      },
      {
        "duration": 6,
        "start_time": "2023-04-29T09:18:49.775Z"
      },
      {
        "duration": 3,
        "start_time": "2023-04-29T09:18:52.498Z"
      },
      {
        "duration": 6,
        "start_time": "2023-04-29T09:18:54.414Z"
      },
      {
        "duration": 3,
        "start_time": "2023-04-29T09:18:55.519Z"
      },
      {
        "duration": 5,
        "start_time": "2023-04-29T09:18:56.927Z"
      },
      {
        "duration": 5,
        "start_time": "2023-04-29T09:18:57.916Z"
      },
      {
        "duration": 6,
        "start_time": "2023-04-29T09:19:08.846Z"
      },
      {
        "duration": 44,
        "start_time": "2023-04-29T09:19:21.993Z"
      },
      {
        "duration": 11,
        "start_time": "2023-04-29T09:19:23.951Z"
      },
      {
        "duration": 5,
        "start_time": "2023-04-29T09:19:33.773Z"
      },
      {
        "duration": 6,
        "start_time": "2023-04-29T09:19:37.557Z"
      },
      {
        "duration": 4,
        "start_time": "2023-04-29T09:19:55.194Z"
      },
      {
        "duration": 4,
        "start_time": "2023-04-29T09:20:08.587Z"
      },
      {
        "duration": 6,
        "start_time": "2023-04-29T09:20:10.997Z"
      },
      {
        "duration": 4,
        "start_time": "2023-04-29T09:20:14.374Z"
      },
      {
        "duration": 5,
        "start_time": "2023-04-29T09:20:36.336Z"
      },
      {
        "duration": 10,
        "start_time": "2023-04-29T09:20:58.520Z"
      },
      {
        "duration": 3,
        "start_time": "2023-04-29T09:21:07.037Z"
      },
      {
        "duration": 9,
        "start_time": "2023-04-29T09:21:17.803Z"
      },
      {
        "duration": 17,
        "start_time": "2023-04-29T09:21:20.704Z"
      },
      {
        "duration": 6,
        "start_time": "2023-04-29T09:21:32.204Z"
      },
      {
        "duration": 3,
        "start_time": "2023-04-29T09:21:33.646Z"
      },
      {
        "duration": 4,
        "start_time": "2023-04-29T09:23:41.237Z"
      },
      {
        "duration": 17,
        "start_time": "2023-04-29T09:23:41.950Z"
      },
      {
        "duration": 5,
        "start_time": "2023-04-29T09:23:42.512Z"
      },
      {
        "duration": 1817,
        "start_time": "2023-04-29T09:23:43.223Z"
      },
      {
        "duration": 9,
        "start_time": "2023-04-29T09:23:45.043Z"
      },
      {
        "duration": 1720,
        "start_time": "2023-04-29T09:23:45.054Z"
      },
      {
        "duration": 7,
        "start_time": "2023-04-29T09:23:46.776Z"
      },
      {
        "duration": 1662,
        "start_time": "2023-04-29T09:23:46.785Z"
      },
      {
        "duration": 6,
        "start_time": "2023-04-29T09:23:48.448Z"
      },
      {
        "duration": 15,
        "start_time": "2023-04-29T09:23:48.456Z"
      },
      {
        "duration": 3,
        "start_time": "2023-04-29T09:24:09.021Z"
      },
      {
        "duration": 12,
        "start_time": "2023-04-29T09:24:10.171Z"
      },
      {
        "duration": 3,
        "start_time": "2023-04-29T09:24:10.348Z"
      },
      {
        "duration": 13,
        "start_time": "2023-04-29T09:24:10.677Z"
      },
      {
        "duration": 10,
        "start_time": "2023-04-29T09:24:11.012Z"
      },
      {
        "duration": 13,
        "start_time": "2023-04-29T09:24:11.191Z"
      },
      {
        "duration": 10,
        "start_time": "2023-04-29T09:24:11.268Z"
      },
      {
        "duration": 15,
        "start_time": "2023-04-29T09:24:11.430Z"
      },
      {
        "duration": 10,
        "start_time": "2023-04-29T09:24:11.527Z"
      },
      {
        "duration": 4,
        "start_time": "2023-04-29T09:24:11.680Z"
      },
      {
        "duration": 3,
        "start_time": "2023-04-29T09:24:48.843Z"
      },
      {
        "duration": 15,
        "start_time": "2023-04-29T09:24:49.687Z"
      },
      {
        "duration": 3,
        "start_time": "2023-04-29T09:24:49.929Z"
      },
      {
        "duration": 905,
        "start_time": "2023-04-29T09:24:53.512Z"
      },
      {
        "duration": 10,
        "start_time": "2023-04-29T09:24:55.646Z"
      },
      {
        "duration": 3,
        "start_time": "2023-04-29T09:25:17.110Z"
      },
      {
        "duration": 19,
        "start_time": "2023-04-29T09:25:18.735Z"
      },
      {
        "duration": 6,
        "start_time": "2023-04-29T09:25:32.130Z"
      },
      {
        "duration": 6,
        "start_time": "2023-04-29T09:25:35.799Z"
      },
      {
        "duration": 4,
        "start_time": "2023-04-29T09:26:02.032Z"
      },
      {
        "duration": 2,
        "start_time": "2023-04-29T09:26:02.522Z"
      },
      {
        "duration": 21,
        "start_time": "2023-04-29T09:26:03.221Z"
      },
      {
        "duration": 3,
        "start_time": "2023-04-29T09:26:05.593Z"
      },
      {
        "duration": 858,
        "start_time": "2023-04-29T09:26:06.200Z"
      },
      {
        "duration": 6,
        "start_time": "2023-04-29T09:26:07.164Z"
      },
      {
        "duration": 848,
        "start_time": "2023-04-29T09:26:08.461Z"
      },
      {
        "duration": 6,
        "start_time": "2023-04-29T09:26:09.311Z"
      },
      {
        "duration": 791,
        "start_time": "2023-04-29T09:26:09.440Z"
      },
      {
        "duration": 6,
        "start_time": "2023-04-29T09:26:10.233Z"
      },
      {
        "duration": 3,
        "start_time": "2023-04-29T09:26:10.598Z"
      },
      {
        "duration": 4,
        "start_time": "2023-04-29T09:27:27.552Z"
      },
      {
        "duration": 18,
        "start_time": "2023-04-29T09:27:28.218Z"
      },
      {
        "duration": 4,
        "start_time": "2023-04-29T09:27:28.716Z"
      },
      {
        "duration": 1581,
        "start_time": "2023-04-29T09:27:29.346Z"
      },
      {
        "duration": 6,
        "start_time": "2023-04-29T09:27:30.929Z"
      },
      {
        "duration": 1619,
        "start_time": "2023-04-29T09:27:30.937Z"
      },
      {
        "duration": 6,
        "start_time": "2023-04-29T09:27:32.558Z"
      },
      {
        "duration": 1611,
        "start_time": "2023-04-29T09:27:32.565Z"
      },
      {
        "duration": 8,
        "start_time": "2023-04-29T09:27:34.177Z"
      },
      {
        "duration": 3938,
        "start_time": "2023-04-29T09:28:15.788Z"
      },
      {
        "duration": 331,
        "start_time": "2023-04-29T09:28:19.728Z"
      },
      {
        "duration": 35,
        "start_time": "2023-04-29T09:28:20.061Z"
      },
      {
        "duration": 20,
        "start_time": "2023-04-29T09:28:20.098Z"
      },
      {
        "duration": 102,
        "start_time": "2023-04-29T09:28:20.120Z"
      },
      {
        "duration": 29,
        "start_time": "2023-04-29T09:28:20.225Z"
      },
      {
        "duration": 9,
        "start_time": "2023-04-29T09:28:20.256Z"
      },
      {
        "duration": 48,
        "start_time": "2023-04-29T09:28:20.267Z"
      },
      {
        "duration": 250,
        "start_time": "2023-04-29T09:28:20.316Z"
      },
      {
        "duration": 0,
        "start_time": "2023-04-29T09:28:20.568Z"
      },
      {
        "duration": 0,
        "start_time": "2023-04-29T09:28:20.569Z"
      },
      {
        "duration": 0,
        "start_time": "2023-04-29T09:28:20.570Z"
      },
      {
        "duration": 0,
        "start_time": "2023-04-29T09:28:20.571Z"
      },
      {
        "duration": 0,
        "start_time": "2023-04-29T09:28:20.572Z"
      },
      {
        "duration": 0,
        "start_time": "2023-04-29T09:28:20.573Z"
      },
      {
        "duration": 0,
        "start_time": "2023-04-29T09:28:20.573Z"
      },
      {
        "duration": 0,
        "start_time": "2023-04-29T09:28:20.574Z"
      },
      {
        "duration": 0,
        "start_time": "2023-04-29T09:28:20.595Z"
      },
      {
        "duration": 0,
        "start_time": "2023-04-29T09:28:20.595Z"
      },
      {
        "duration": 0,
        "start_time": "2023-04-29T09:28:20.596Z"
      },
      {
        "duration": 0,
        "start_time": "2023-04-29T09:28:20.597Z"
      },
      {
        "duration": 0,
        "start_time": "2023-04-29T09:28:20.598Z"
      },
      {
        "duration": 0,
        "start_time": "2023-04-29T09:28:20.599Z"
      },
      {
        "duration": 0,
        "start_time": "2023-04-29T09:28:20.600Z"
      },
      {
        "duration": 1107,
        "start_time": "2023-04-29T11:24:50.016Z"
      },
      {
        "duration": 1625,
        "start_time": "2023-04-29T11:24:51.125Z"
      },
      {
        "duration": 39,
        "start_time": "2023-04-29T11:24:52.751Z"
      },
      {
        "duration": 21,
        "start_time": "2023-04-29T11:24:52.792Z"
      },
      {
        "duration": 101,
        "start_time": "2023-04-29T11:24:52.814Z"
      },
      {
        "duration": 51,
        "start_time": "2023-04-29T11:24:52.917Z"
      },
      {
        "duration": 9,
        "start_time": "2023-04-29T11:24:52.970Z"
      },
      {
        "duration": 44,
        "start_time": "2023-04-29T11:24:52.981Z"
      },
      {
        "duration": 44,
        "start_time": "2023-04-29T11:24:53.026Z"
      },
      {
        "duration": 185,
        "start_time": "2023-04-29T11:24:53.072Z"
      },
      {
        "duration": 110,
        "start_time": "2023-04-29T11:24:53.258Z"
      },
      {
        "duration": 7,
        "start_time": "2023-04-29T11:24:53.370Z"
      },
      {
        "duration": 7,
        "start_time": "2023-04-29T11:24:53.461Z"
      },
      {
        "duration": 10,
        "start_time": "2023-04-29T11:24:53.469Z"
      },
      {
        "duration": 78,
        "start_time": "2023-04-29T11:24:53.481Z"
      },
      {
        "duration": 33,
        "start_time": "2023-04-29T11:24:53.562Z"
      },
      {
        "duration": 3,
        "start_time": "2023-04-29T11:24:53.597Z"
      },
      {
        "duration": 1778,
        "start_time": "2023-04-29T11:24:53.601Z"
      },
      {
        "duration": 6,
        "start_time": "2023-04-29T11:24:55.381Z"
      },
      {
        "duration": 1717,
        "start_time": "2023-04-29T11:24:55.389Z"
      },
      {
        "duration": 6,
        "start_time": "2023-04-29T11:24:57.108Z"
      },
      {
        "duration": 1753,
        "start_time": "2023-04-29T11:24:57.116Z"
      },
      {
        "duration": 6,
        "start_time": "2023-04-29T11:24:58.871Z"
      },
      {
        "duration": 7,
        "start_time": "2023-04-29T11:24:58.879Z"
      },
      {
        "duration": 8,
        "start_time": "2023-04-29T11:52:00.119Z"
      },
      {
        "duration": 8,
        "start_time": "2023-04-29T11:55:41.513Z"
      },
      {
        "duration": 5,
        "start_time": "2023-04-29T11:55:59.388Z"
      },
      {
        "duration": 157,
        "start_time": "2023-04-29T13:51:40.823Z"
      },
      {
        "duration": 27,
        "start_time": "2023-04-29T13:51:52.225Z"
      },
      {
        "duration": 17,
        "start_time": "2023-04-29T14:23:32.415Z"
      },
      {
        "duration": 21,
        "start_time": "2023-04-29T15:12:44.975Z"
      },
      {
        "duration": 8,
        "start_time": "2023-04-29T15:13:10.661Z"
      },
      {
        "duration": 19,
        "start_time": "2023-04-29T15:13:16.920Z"
      },
      {
        "duration": 12,
        "start_time": "2023-04-29T15:13:24.052Z"
      },
      {
        "duration": 4,
        "start_time": "2023-04-29T15:14:17.733Z"
      },
      {
        "duration": 4,
        "start_time": "2023-04-29T15:15:56.748Z"
      },
      {
        "duration": 402,
        "start_time": "2023-04-29T15:15:56.754Z"
      },
      {
        "duration": 37,
        "start_time": "2023-04-29T15:15:57.158Z"
      },
      {
        "duration": 18,
        "start_time": "2023-04-29T15:15:57.196Z"
      },
      {
        "duration": 121,
        "start_time": "2023-04-29T15:15:57.216Z"
      },
      {
        "duration": 41,
        "start_time": "2023-04-29T15:15:57.338Z"
      },
      {
        "duration": 8,
        "start_time": "2023-04-29T15:15:57.381Z"
      },
      {
        "duration": 52,
        "start_time": "2023-04-29T15:15:57.391Z"
      },
      {
        "duration": 29,
        "start_time": "2023-04-29T15:15:57.444Z"
      },
      {
        "duration": 185,
        "start_time": "2023-04-29T15:15:57.475Z"
      },
      {
        "duration": 98,
        "start_time": "2023-04-29T15:15:57.665Z"
      },
      {
        "duration": 104,
        "start_time": "2023-04-29T15:15:57.766Z"
      },
      {
        "duration": 35,
        "start_time": "2023-04-29T15:15:57.956Z"
      },
      {
        "duration": 27,
        "start_time": "2023-04-29T15:15:57.994Z"
      },
      {
        "duration": 14,
        "start_time": "2023-04-29T15:15:58.023Z"
      },
      {
        "duration": 23,
        "start_time": "2023-04-29T15:15:58.039Z"
      },
      {
        "duration": 4,
        "start_time": "2023-04-29T15:15:58.063Z"
      },
      {
        "duration": 1046,
        "start_time": "2023-04-29T15:15:58.069Z"
      },
      {
        "duration": 6,
        "start_time": "2023-04-29T15:15:59.117Z"
      },
      {
        "duration": 1057,
        "start_time": "2023-04-29T15:15:59.125Z"
      },
      {
        "duration": 7,
        "start_time": "2023-04-29T15:16:00.184Z"
      },
      {
        "duration": 1075,
        "start_time": "2023-04-29T15:16:00.192Z"
      },
      {
        "duration": 9,
        "start_time": "2023-04-29T15:16:01.270Z"
      },
      {
        "duration": 44,
        "start_time": "2023-04-29T15:16:01.280Z"
      },
      {
        "duration": 4,
        "start_time": "2023-04-29T15:49:35.501Z"
      },
      {
        "duration": 363,
        "start_time": "2023-04-29T15:49:35.506Z"
      },
      {
        "duration": 33,
        "start_time": "2023-04-29T15:49:35.871Z"
      },
      {
        "duration": 14,
        "start_time": "2023-04-29T15:49:35.906Z"
      },
      {
        "duration": 109,
        "start_time": "2023-04-29T15:49:35.922Z"
      },
      {
        "duration": 44,
        "start_time": "2023-04-29T15:49:36.033Z"
      },
      {
        "duration": 9,
        "start_time": "2023-04-29T15:49:36.079Z"
      },
      {
        "duration": 26,
        "start_time": "2023-04-29T15:49:36.090Z"
      },
      {
        "duration": 42,
        "start_time": "2023-04-29T15:49:36.118Z"
      },
      {
        "duration": 107,
        "start_time": "2023-04-29T15:49:36.163Z"
      },
      {
        "duration": 187,
        "start_time": "2023-04-29T15:49:36.272Z"
      },
      {
        "duration": 95,
        "start_time": "2023-04-29T15:49:36.462Z"
      },
      {
        "duration": 5,
        "start_time": "2023-04-29T15:49:36.559Z"
      },
      {
        "duration": 16,
        "start_time": "2023-04-29T15:49:36.566Z"
      },
      {
        "duration": 73,
        "start_time": "2023-04-29T15:49:36.583Z"
      },
      {
        "duration": 17,
        "start_time": "2023-04-29T15:49:36.658Z"
      },
      {
        "duration": 4,
        "start_time": "2023-04-29T15:49:36.676Z"
      },
      {
        "duration": 975,
        "start_time": "2023-04-29T15:49:36.681Z"
      },
      {
        "duration": 6,
        "start_time": "2023-04-29T15:49:37.658Z"
      },
      {
        "duration": 897,
        "start_time": "2023-04-29T15:49:37.665Z"
      },
      {
        "duration": 6,
        "start_time": "2023-04-29T15:49:38.563Z"
      },
      {
        "duration": 971,
        "start_time": "2023-04-29T15:49:38.571Z"
      },
      {
        "duration": 6,
        "start_time": "2023-04-29T15:49:39.543Z"
      },
      {
        "duration": 7,
        "start_time": "2023-04-29T15:49:39.555Z"
      }
    ],
    "kernelspec": {
      "display_name": "Python 3 (ipykernel)",
      "language": "python",
      "name": "python3"
    },
    "language_info": {
      "codemirror_mode": {
        "name": "ipython",
        "version": 3
      },
      "file_extension": ".py",
      "mimetype": "text/x-python",
      "name": "python",
      "nbconvert_exporter": "python",
      "pygments_lexer": "ipython3",
      "version": "3.9.5"
    },
    "toc": {
      "base_numbering": 1,
      "nav_menu": {},
      "number_sections": true,
      "sideBar": true,
      "skip_h1_title": true,
      "title_cell": "Table of Contents",
      "title_sidebar": "Contents",
      "toc_cell": false,
      "toc_position": {
        "height": "calc(100% - 180px)",
        "left": "10px",
        "top": "150px",
        "width": "371px"
      },
      "toc_section_display": true,
      "toc_window_display": true
    },
    "colab": {
      "provenance": []
    }
  },
  "nbformat": 4,
  "nbformat_minor": 0
}