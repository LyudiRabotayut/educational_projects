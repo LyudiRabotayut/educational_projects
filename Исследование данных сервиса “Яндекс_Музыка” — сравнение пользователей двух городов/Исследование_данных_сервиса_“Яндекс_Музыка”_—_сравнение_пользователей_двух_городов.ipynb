{
  "cells": [
    {
      "cell_type": "markdown",
      "metadata": {
        "deletable": false,
        "editable": false,
        "id": "E0vqbgi9ay0H"
      },
      "source": [
        "# Яндекс Музыка"
      ]
    },
    {
      "cell_type": "markdown",
      "source": [
        "## Описние проекта\n",
        "Сравнение Москвы и Петербурга окружено мифами:\n",
        "- Москва — мегаполис, подчинённый жёсткому ритму рабочей недели;\n",
        "- Петербург — город своеобразной культуры, непохожий на Москву.\n",
        "Некоторые мифы отражают действительность. Другие — пустые стереотипы. Бизнес должен отличать первые от вторых, чтобы принимать рациональные решения. На реальных данных Яндекс.Музыки вы проверите данные и сравните поведение пользователей двух столиц.\n"
      ],
      "metadata": {
        "id": "dH9qF_0BK-r_"
      }
    },
    {
      "cell_type": "markdown",
      "source": [
        "## Задачи проекта\n",
        "На реальных данных Яндекс.Музыки c помощью библиотеки Pandas и её возможностей проверить данные и сравнить поведение и предпочтения пользователей двух столиц — Москвы и Санкт-Петербурга."
      ],
      "metadata": {
        "id": "Xw4odzobLbrn"
      }
    },
    {
      "cell_type": "markdown",
      "metadata": {
        "deletable": false,
        "editable": false,
        "id": "Ml1hmfXC_Zcs"
      },
      "source": [
        "Обзор данных\n",
        "\n",
        "\n"
      ]
    },
    {
      "cell_type": "code",
      "execution_count": null,
      "metadata": {
        "deletable": false,
        "id": "AXN7PHPN_Zcs"
      },
      "outputs": [],
      "source": [
        "import pandas as pd"
      ]
    },
    {
      "cell_type": "code",
      "execution_count": null,
      "metadata": {
        "deletable": false,
        "id": "fFVu7vqh_Zct"
      },
      "outputs": [],
      "source": [
        "df = pd.read_csv('/datasets/yandex_music_project.csv')"
      ]
    },
    {
      "cell_type": "code",
      "execution_count": null,
      "metadata": {
        "deletable": false,
        "id": "oWTVX3gW_Zct",
        "outputId": "d743535b-74d4-49de-a5a8-720216836f6f"
      },
      "outputs": [
        {
          "data": {
            "text/html": [
              "<div>\n",
              "<style scoped>\n",
              "    .dataframe tbody tr th:only-of-type {\n",
              "        vertical-align: middle;\n",
              "    }\n",
              "\n",
              "    .dataframe tbody tr th {\n",
              "        vertical-align: top;\n",
              "    }\n",
              "\n",
              "    .dataframe thead th {\n",
              "        text-align: right;\n",
              "    }\n",
              "</style>\n",
              "<table border=\"1\" class=\"dataframe\">\n",
              "  <thead>\n",
              "    <tr style=\"text-align: right;\">\n",
              "      <th></th>\n",
              "      <th>userID</th>\n",
              "      <th>Track</th>\n",
              "      <th>artist</th>\n",
              "      <th>genre</th>\n",
              "      <th>City</th>\n",
              "      <th>time</th>\n",
              "      <th>Day</th>\n",
              "    </tr>\n",
              "  </thead>\n",
              "  <tbody>\n",
              "    <tr>\n",
              "      <th>0</th>\n",
              "      <td>FFB692EC</td>\n",
              "      <td>Kamigata To Boots</td>\n",
              "      <td>The Mass Missile</td>\n",
              "      <td>rock</td>\n",
              "      <td>Saint-Petersburg</td>\n",
              "      <td>20:28:33</td>\n",
              "      <td>Wednesday</td>\n",
              "    </tr>\n",
              "    <tr>\n",
              "      <th>1</th>\n",
              "      <td>55204538</td>\n",
              "      <td>Delayed Because of Accident</td>\n",
              "      <td>Andreas Rönnberg</td>\n",
              "      <td>rock</td>\n",
              "      <td>Moscow</td>\n",
              "      <td>14:07:09</td>\n",
              "      <td>Friday</td>\n",
              "    </tr>\n",
              "    <tr>\n",
              "      <th>2</th>\n",
              "      <td>20EC38</td>\n",
              "      <td>Funiculì funiculà</td>\n",
              "      <td>Mario Lanza</td>\n",
              "      <td>pop</td>\n",
              "      <td>Saint-Petersburg</td>\n",
              "      <td>20:58:07</td>\n",
              "      <td>Wednesday</td>\n",
              "    </tr>\n",
              "    <tr>\n",
              "      <th>3</th>\n",
              "      <td>A3DD03C9</td>\n",
              "      <td>Dragons in the Sunset</td>\n",
              "      <td>Fire + Ice</td>\n",
              "      <td>folk</td>\n",
              "      <td>Saint-Petersburg</td>\n",
              "      <td>08:37:09</td>\n",
              "      <td>Monday</td>\n",
              "    </tr>\n",
              "    <tr>\n",
              "      <th>4</th>\n",
              "      <td>E2DC1FAE</td>\n",
              "      <td>Soul People</td>\n",
              "      <td>Space Echo</td>\n",
              "      <td>dance</td>\n",
              "      <td>Moscow</td>\n",
              "      <td>08:34:34</td>\n",
              "      <td>Monday</td>\n",
              "    </tr>\n",
              "    <tr>\n",
              "      <th>5</th>\n",
              "      <td>842029A1</td>\n",
              "      <td>Преданная</td>\n",
              "      <td>IMPERVTOR</td>\n",
              "      <td>rusrap</td>\n",
              "      <td>Saint-Petersburg</td>\n",
              "      <td>13:09:41</td>\n",
              "      <td>Friday</td>\n",
              "    </tr>\n",
              "    <tr>\n",
              "      <th>6</th>\n",
              "      <td>4CB90AA5</td>\n",
              "      <td>True</td>\n",
              "      <td>Roman Messer</td>\n",
              "      <td>dance</td>\n",
              "      <td>Moscow</td>\n",
              "      <td>13:00:07</td>\n",
              "      <td>Wednesday</td>\n",
              "    </tr>\n",
              "    <tr>\n",
              "      <th>7</th>\n",
              "      <td>F03E1C1F</td>\n",
              "      <td>Feeling This Way</td>\n",
              "      <td>Polina Griffith</td>\n",
              "      <td>dance</td>\n",
              "      <td>Moscow</td>\n",
              "      <td>20:47:49</td>\n",
              "      <td>Wednesday</td>\n",
              "    </tr>\n",
              "    <tr>\n",
              "      <th>8</th>\n",
              "      <td>8FA1D3BE</td>\n",
              "      <td>И вновь продолжается бой</td>\n",
              "      <td>NaN</td>\n",
              "      <td>ruspop</td>\n",
              "      <td>Moscow</td>\n",
              "      <td>09:17:40</td>\n",
              "      <td>Friday</td>\n",
              "    </tr>\n",
              "    <tr>\n",
              "      <th>9</th>\n",
              "      <td>E772D5C0</td>\n",
              "      <td>Pessimist</td>\n",
              "      <td>NaN</td>\n",
              "      <td>dance</td>\n",
              "      <td>Saint-Petersburg</td>\n",
              "      <td>21:20:49</td>\n",
              "      <td>Wednesday</td>\n",
              "    </tr>\n",
              "  </tbody>\n",
              "</table>\n",
              "</div>"
            ],
            "text/plain": [
              "     userID                        Track            artist   genre  \\\n",
              "0  FFB692EC            Kamigata To Boots  The Mass Missile    rock   \n",
              "1  55204538  Delayed Because of Accident  Andreas Rönnberg    rock   \n",
              "2    20EC38            Funiculì funiculà       Mario Lanza     pop   \n",
              "3  A3DD03C9        Dragons in the Sunset        Fire + Ice    folk   \n",
              "4  E2DC1FAE                  Soul People        Space Echo   dance   \n",
              "5  842029A1                    Преданная         IMPERVTOR  rusrap   \n",
              "6  4CB90AA5                         True      Roman Messer   dance   \n",
              "7  F03E1C1F             Feeling This Way   Polina Griffith   dance   \n",
              "8  8FA1D3BE     И вновь продолжается бой               NaN  ruspop   \n",
              "9  E772D5C0                    Pessimist               NaN   dance   \n",
              "\n",
              "             City        time        Day  \n",
              "0  Saint-Petersburg  20:28:33  Wednesday  \n",
              "1            Moscow  14:07:09     Friday  \n",
              "2  Saint-Petersburg  20:58:07  Wednesday  \n",
              "3  Saint-Petersburg  08:37:09     Monday  \n",
              "4            Moscow  08:34:34     Monday  \n",
              "5  Saint-Petersburg  13:09:41     Friday  \n",
              "6            Moscow  13:00:07  Wednesday  \n",
              "7            Moscow  20:47:49  Wednesday  \n",
              "8            Moscow  09:17:40     Friday  \n",
              "9  Saint-Petersburg  21:20:49  Wednesday  "
            ]
          },
          "execution_count": 4,
          "metadata": {},
          "output_type": "execute_result"
        }
      ],
      "source": [
        "df.head(10)"
      ]
    },
    {
      "cell_type": "code",
      "execution_count": null,
      "metadata": {
        "deletable": false,
        "id": "DSf2kIb-_Zct",
        "outputId": "440822b1-b9fc-47cc-be2c-7113944a3740"
      },
      "outputs": [
        {
          "name": "stdout",
          "output_type": "stream",
          "text": [
            "<class 'pandas.core.frame.DataFrame'>\n",
            "RangeIndex: 65079 entries, 0 to 65078\n",
            "Data columns (total 7 columns):\n",
            " #   Column    Non-Null Count  Dtype \n",
            "---  ------    --------------  ----- \n",
            " 0     userID  65079 non-null  object\n",
            " 1   Track     63848 non-null  object\n",
            " 2   artist    57876 non-null  object\n",
            " 3   genre     63881 non-null  object\n",
            " 4     City    65079 non-null  object\n",
            " 5   time      65079 non-null  object\n",
            " 6   Day       65079 non-null  object\n",
            "dtypes: object(7)\n",
            "memory usage: 3.5+ MB\n"
          ]
        }
      ],
      "source": [
        "df.info()"
      ]
    },
    {
      "cell_type": "markdown",
      "metadata": {
        "deletable": false,
        "editable": false,
        "id": "TaQ2Iwbr_Zct"
      },
      "source": [
        "Итак, в таблице семь столбцов. Тип данных во всех столбцах — `object`.\n",
        "\n",
        "Согласно документации к данным:\n",
        "* `userID` — идентификатор пользователя;\n",
        "* `Track` — название трека;  \n",
        "* `artist` — имя исполнителя;\n",
        "* `genre` — название жанра;\n",
        "* `City` — город пользователя;\n",
        "* `time` — время начала прослушивания;\n",
        "* `Day` — день недели.\n",
        "\n",
        "Количество значений в столбцах различается. Значит, в данных есть пропущенные значения."
      ]
    },
    {
      "cell_type": "markdown",
      "metadata": {
        "deletable": false,
        "editable": false,
        "id": "MCB6-dXG_Zct"
      },
      "source": [
        "## Выводы\n",
        "\n",
        "В каждой строке таблицы — данные о прослушанном треке. Часть колонок описывает саму композицию: название, исполнителя и жанр. Остальные данные рассказывают о пользователе: из какого он города, когда он слушал музыку.\n",
        "\n",
        "Предварительно можно утверждать, что данных достаточно для проверки гипотез. Но встречаются пропуски в данных, а в названиях колонок — расхождения с хорошим стилем.\n",
        "\n",
        "Чтобы двигаться дальше, нужно устранить проблемы в данных."
      ]
    },
    {
      "cell_type": "markdown",
      "metadata": {
        "deletable": false,
        "editable": false,
        "id": "SjYF6Ub9_Zct"
      },
      "source": [
        "## Предобработка данных"
      ]
    },
    {
      "cell_type": "code",
      "execution_count": null,
      "metadata": {
        "deletable": false,
        "id": "oKOTdF_Q_Zct",
        "outputId": "33ec57cd-114c-4a8e-d4c6-8297aa0479cd"
      },
      "outputs": [
        {
          "data": {
            "text/plain": [
              "Index(['  userID', 'Track', 'artist', 'genre', '  City  ', 'time', 'Day'], dtype='object')"
            ]
          },
          "execution_count": 7,
          "metadata": {},
          "output_type": "execute_result"
        }
      ],
      "source": [
        "df.columns"
      ]
    },
    {
      "cell_type": "code",
      "execution_count": null,
      "metadata": {
        "deletable": false,
        "id": "ISlFqs5y_Zct"
      },
      "outputs": [],
      "source": [
        "df = df.rename(\n",
        "    columns={\n",
        "        '  userID': 'user_id',\n",
        "        'Track': 'track',\n",
        "        '  City  ': 'city',\n",
        "        'Day': 'day'\n",
        "    }\n",
        ")"
      ]
    },
    {
      "cell_type": "code",
      "execution_count": null,
      "metadata": {
        "deletable": false,
        "id": "d4NOAmTW_Zct",
        "outputId": "3135fb65-00cf-439b-cd6a-26e05e248fd7"
      },
      "outputs": [
        {
          "data": {
            "text/plain": [
              "Index(['user_id', 'track', 'artist', 'genre', 'city', 'time', 'day'], dtype='object')"
            ]
          },
          "execution_count": 9,
          "metadata": {},
          "output_type": "execute_result"
        }
      ],
      "source": [
        "df.columns"
      ]
    },
    {
      "cell_type": "markdown",
      "metadata": {
        "deletable": false,
        "editable": false,
        "id": "5ISfbcfY_Zct",
        "tags": [
          "start_task"
        ]
      },
      "source": [
        "### Пропуски значений\n"
      ]
    },
    {
      "cell_type": "code",
      "execution_count": null,
      "metadata": {
        "deletable": false,
        "id": "RskX29qr_Zct",
        "outputId": "1910d97b-c36f-4e43-c565-ab7acf610edd"
      },
      "outputs": [
        {
          "data": {
            "text/plain": [
              "user_id       0\n",
              "track      1231\n",
              "artist     7203\n",
              "genre      1198\n",
              "city          0\n",
              "time          0\n",
              "day           0\n",
              "dtype: int64"
            ]
          },
          "execution_count": 10,
          "metadata": {},
          "output_type": "execute_result"
        }
      ],
      "source": [
        "df.isna().sum()"
      ]
    },
    {
      "cell_type": "markdown",
      "metadata": {
        "deletable": false,
        "editable": false,
        "id": "qubhgnlO_Zct"
      },
      "source": [
        "Не все пропущенные значения влияют на исследование. Так в `track` и `artist` пропуски не важны для вашей работы. Достаточно заменить их явными обозначениями.\n",
        "\n",
        "Но пропуски в `genre` могут помешать сравнению музыкальных вкусов в Москве и Санкт-Петербурге. На практике было бы правильно установить причину пропусков и восстановить данные. Такой возможности нет в учебном проекте. Придётся:\n",
        "* заполнить и эти пропуски явными обозначениями;\n",
        "* оценить, насколько они повредят расчётам."
      ]
    },
    {
      "cell_type": "code",
      "execution_count": null,
      "metadata": {
        "deletable": false,
        "id": "KplB5qWs_Zct"
      },
      "outputs": [],
      "source": [
        "columns_to_replace = ['track', 'artist', 'genre']\n",
        "for i in columns_to_replace:\n",
        "    df[i] = df[i].fillna('unknown')\n"
      ]
    },
    {
      "cell_type": "code",
      "execution_count": null,
      "metadata": {
        "deletable": false,
        "id": "Tq4nYRX4_Zct",
        "outputId": "0dfcf42c-0c15-4fcc-f0e7-68f16b8f3f00"
      },
      "outputs": [
        {
          "data": {
            "text/plain": [
              "user_id    0\n",
              "track      0\n",
              "artist     0\n",
              "genre      0\n",
              "city       0\n",
              "time       0\n",
              "day        0\n",
              "dtype: int64"
            ]
          },
          "execution_count": 12,
          "metadata": {},
          "output_type": "execute_result"
        }
      ],
      "source": [
        "df.isna().sum()"
      ]
    },
    {
      "cell_type": "markdown",
      "metadata": {
        "deletable": false,
        "editable": false,
        "id": "BWKRtBJ3_Zct",
        "tags": [
          "start_task"
        ]
      },
      "source": [
        "### Дубликаты"
      ]
    },
    {
      "cell_type": "code",
      "execution_count": null,
      "metadata": {
        "deletable": false,
        "id": "36eES_S0_Zct",
        "outputId": "7ff8f1b2-d1d4-4d99-bec0-1a2656c1cbe4"
      },
      "outputs": [
        {
          "data": {
            "text/plain": [
              "3826"
            ]
          },
          "execution_count": 13,
          "metadata": {},
          "output_type": "execute_result"
        }
      ],
      "source": [
        "df.duplicated().sum()"
      ]
    },
    {
      "cell_type": "code",
      "execution_count": null,
      "metadata": {
        "deletable": false,
        "id": "exFHq6tt_Zct"
      },
      "outputs": [],
      "source": [
        "df = df.drop_duplicates()"
      ]
    },
    {
      "cell_type": "code",
      "execution_count": null,
      "metadata": {
        "deletable": false,
        "id": "-8PuNWQ0_Zct",
        "outputId": "f877e5d1-2317-4d9c-c23e-1c15d1435894"
      },
      "outputs": [
        {
          "data": {
            "text/plain": [
              "0"
            ]
          },
          "execution_count": 15,
          "metadata": {},
          "output_type": "execute_result"
        }
      ],
      "source": [
        "df.duplicated().sum()"
      ]
    },
    {
      "cell_type": "markdown",
      "metadata": {
        "deletable": false,
        "editable": false,
        "id": "QlFBsxAr_Zct"
      },
      "source": [
        "Теперь избавимся от неявных дубликатов"
      ]
    },
    {
      "cell_type": "code",
      "execution_count": null,
      "metadata": {
        "deletable": false,
        "id": "JIUcqzZN_Zct",
        "outputId": "46b20615-e54a-44d7-990d-feb3269961e2"
      },
      "outputs": [
        {
          "data": {
            "text/plain": [
              "array(['acid', 'acoustic', 'action', 'adult', 'africa', 'afrikaans',\n",
              "       'alternative', 'alternativepunk', 'ambient', 'americana',\n",
              "       'animated', 'anime', 'arabesk', 'arabic', 'arena',\n",
              "       'argentinetango', 'art', 'audiobook', 'author', 'avantgarde',\n",
              "       'axé', 'baile', 'balkan', 'beats', 'bigroom', 'black', 'bluegrass',\n",
              "       'blues', 'bollywood', 'bossa', 'brazilian', 'breakbeat', 'breaks',\n",
              "       'broadway', 'cantautori', 'cantopop', 'canzone', 'caribbean',\n",
              "       'caucasian', 'celtic', 'chamber', 'chanson', 'children', 'chill',\n",
              "       'chinese', 'choral', 'christian', 'christmas', 'classical',\n",
              "       'classicmetal', 'club', 'colombian', 'comedy', 'conjazz',\n",
              "       'contemporary', 'country', 'cuban', 'dance', 'dancehall',\n",
              "       'dancepop', 'dark', 'death', 'deep', 'deutschrock', 'deutschspr',\n",
              "       'dirty', 'disco', 'dnb', 'documentary', 'downbeat', 'downtempo',\n",
              "       'drum', 'dub', 'dubstep', 'eastern', 'easy', 'electronic',\n",
              "       'electropop', 'emo', 'entehno', 'epicmetal', 'estrada', 'ethnic',\n",
              "       'eurofolk', 'european', 'experimental', 'extrememetal', 'fado',\n",
              "       'fairytail', 'film', 'fitness', 'flamenco', 'folk', 'folklore',\n",
              "       'folkmetal', 'folkrock', 'folktronica', 'forró', 'frankreich',\n",
              "       'französisch', 'french', 'funk', 'future', 'gangsta', 'garage',\n",
              "       'german', 'ghazal', 'gitarre', 'glitch', 'gospel', 'gothic',\n",
              "       'grime', 'grunge', 'gypsy', 'handsup', \"hard'n'heavy\", 'hardcore',\n",
              "       'hardstyle', 'hardtechno', 'hip', 'hip-hop', 'hiphop',\n",
              "       'historisch', 'holiday', 'hop', 'horror', 'house', 'hymn', 'idm',\n",
              "       'independent', 'indian', 'indie', 'indipop', 'industrial',\n",
              "       'inspirational', 'instrumental', 'international', 'irish', 'jam',\n",
              "       'japanese', 'jazz', 'jewish', 'jpop', 'jungle', 'k-pop',\n",
              "       'karadeniz', 'karaoke', 'kayokyoku', 'korean', 'laiko', 'latin',\n",
              "       'latino', 'leftfield', 'local', 'lounge', 'loungeelectronic',\n",
              "       'lovers', 'malaysian', 'mandopop', 'marschmusik', 'meditative',\n",
              "       'mediterranean', 'melodic', 'metal', 'metalcore', 'mexican',\n",
              "       'middle', 'minimal', 'miscellaneous', 'modern', 'mood', 'mpb',\n",
              "       'muslim', 'native', 'neoklassik', 'neue', 'new', 'newage',\n",
              "       'newwave', 'nu', 'nujazz', 'numetal', 'oceania', 'old', 'opera',\n",
              "       'orchestral', 'other', 'piano', 'podcasts', 'pop', 'popdance',\n",
              "       'popelectronic', 'popeurodance', 'poprussian', 'post',\n",
              "       'posthardcore', 'postrock', 'power', 'progmetal', 'progressive',\n",
              "       'psychedelic', 'punjabi', 'punk', 'quebecois', 'ragga', 'ram',\n",
              "       'rancheras', 'rap', 'rave', 'reggae', 'reggaeton', 'regional',\n",
              "       'relax', 'religious', 'retro', 'rhythm', 'rnb', 'rnr', 'rock',\n",
              "       'rockabilly', 'rockalternative', 'rockindie', 'rockother',\n",
              "       'romance', 'roots', 'ruspop', 'rusrap', 'rusrock', 'russian',\n",
              "       'salsa', 'samba', 'scenic', 'schlager', 'self', 'sertanejo',\n",
              "       'shanson', 'shoegazing', 'showtunes', 'singer', 'ska', 'skarock',\n",
              "       'slow', 'smooth', 'soft', 'soul', 'soulful', 'sound', 'soundtrack',\n",
              "       'southern', 'specialty', 'speech', 'spiritual', 'sport',\n",
              "       'stonerrock', 'surf', 'swing', 'synthpop', 'synthrock',\n",
              "       'sängerportrait', 'tango', 'tanzorchester', 'taraftar', 'tatar',\n",
              "       'tech', 'techno', 'teen', 'thrash', 'top', 'traditional',\n",
              "       'tradjazz', 'trance', 'tribal', 'trip', 'triphop', 'tropical',\n",
              "       'türk', 'türkçe', 'ukrrock', 'unknown', 'urban', 'uzbek',\n",
              "       'variété', 'vi', 'videogame', 'vocal', 'western', 'world',\n",
              "       'worldbeat', 'ïîï', 'электроника'], dtype=object)"
            ]
          },
          "execution_count": 16,
          "metadata": {},
          "output_type": "execute_result"
        }
      ],
      "source": [
        "df['genre'].sort_values().unique()"
      ]
    },
    {
      "cell_type": "code",
      "execution_count": null,
      "metadata": {
        "deletable": false,
        "id": "ErNDkmns_Zct"
      },
      "outputs": [],
      "source": [
        "df = df.replace(['hip', 'hop', 'hip-hop'], 'hiphop')"
      ]
    },
    {
      "cell_type": "code",
      "execution_count": null,
      "metadata": {
        "deletable": false,
        "id": "wvixALnFG15m",
        "outputId": "8b5d5085-a363-4450-974c-32e11f602b04"
      },
      "outputs": [
        {
          "data": {
            "text/plain": [
              "array(['acid', 'acoustic', 'action', 'adult', 'africa', 'afrikaans',\n",
              "       'alternative', 'alternativepunk', 'ambient', 'americana',\n",
              "       'animated', 'anime', 'arabesk', 'arabic', 'arena',\n",
              "       'argentinetango', 'art', 'audiobook', 'author', 'avantgarde',\n",
              "       'axé', 'baile', 'balkan', 'beats', 'bigroom', 'black', 'bluegrass',\n",
              "       'blues', 'bollywood', 'bossa', 'brazilian', 'breakbeat', 'breaks',\n",
              "       'broadway', 'cantautori', 'cantopop', 'canzone', 'caribbean',\n",
              "       'caucasian', 'celtic', 'chamber', 'chanson', 'children', 'chill',\n",
              "       'chinese', 'choral', 'christian', 'christmas', 'classical',\n",
              "       'classicmetal', 'club', 'colombian', 'comedy', 'conjazz',\n",
              "       'contemporary', 'country', 'cuban', 'dance', 'dancehall',\n",
              "       'dancepop', 'dark', 'death', 'deep', 'deutschrock', 'deutschspr',\n",
              "       'dirty', 'disco', 'dnb', 'documentary', 'downbeat', 'downtempo',\n",
              "       'drum', 'dub', 'dubstep', 'eastern', 'easy', 'electronic',\n",
              "       'electropop', 'emo', 'entehno', 'epicmetal', 'estrada', 'ethnic',\n",
              "       'eurofolk', 'european', 'experimental', 'extrememetal', 'fado',\n",
              "       'fairytail', 'film', 'fitness', 'flamenco', 'folk', 'folklore',\n",
              "       'folkmetal', 'folkrock', 'folktronica', 'forró', 'frankreich',\n",
              "       'französisch', 'french', 'funk', 'future', 'gangsta', 'garage',\n",
              "       'german', 'ghazal', 'gitarre', 'glitch', 'gospel', 'gothic',\n",
              "       'grime', 'grunge', 'gypsy', 'handsup', \"hard'n'heavy\", 'hardcore',\n",
              "       'hardstyle', 'hardtechno', 'hiphop', 'historisch', 'holiday',\n",
              "       'horror', 'house', 'hymn', 'idm', 'independent', 'indian', 'indie',\n",
              "       'indipop', 'industrial', 'inspirational', 'instrumental',\n",
              "       'international', 'irish', 'jam', 'japanese', 'jazz', 'jewish',\n",
              "       'jpop', 'jungle', 'k-pop', 'karadeniz', 'karaoke', 'kayokyoku',\n",
              "       'korean', 'laiko', 'latin', 'latino', 'leftfield', 'local',\n",
              "       'lounge', 'loungeelectronic', 'lovers', 'malaysian', 'mandopop',\n",
              "       'marschmusik', 'meditative', 'mediterranean', 'melodic', 'metal',\n",
              "       'metalcore', 'mexican', 'middle', 'minimal', 'miscellaneous',\n",
              "       'modern', 'mood', 'mpb', 'muslim', 'native', 'neoklassik', 'neue',\n",
              "       'new', 'newage', 'newwave', 'nu', 'nujazz', 'numetal', 'oceania',\n",
              "       'old', 'opera', 'orchestral', 'other', 'piano', 'podcasts', 'pop',\n",
              "       'popdance', 'popelectronic', 'popeurodance', 'poprussian', 'post',\n",
              "       'posthardcore', 'postrock', 'power', 'progmetal', 'progressive',\n",
              "       'psychedelic', 'punjabi', 'punk', 'quebecois', 'ragga', 'ram',\n",
              "       'rancheras', 'rap', 'rave', 'reggae', 'reggaeton', 'regional',\n",
              "       'relax', 'religious', 'retro', 'rhythm', 'rnb', 'rnr', 'rock',\n",
              "       'rockabilly', 'rockalternative', 'rockindie', 'rockother',\n",
              "       'romance', 'roots', 'ruspop', 'rusrap', 'rusrock', 'russian',\n",
              "       'salsa', 'samba', 'scenic', 'schlager', 'self', 'sertanejo',\n",
              "       'shanson', 'shoegazing', 'showtunes', 'singer', 'ska', 'skarock',\n",
              "       'slow', 'smooth', 'soft', 'soul', 'soulful', 'sound', 'soundtrack',\n",
              "       'southern', 'specialty', 'speech', 'spiritual', 'sport',\n",
              "       'stonerrock', 'surf', 'swing', 'synthpop', 'synthrock',\n",
              "       'sängerportrait', 'tango', 'tanzorchester', 'taraftar', 'tatar',\n",
              "       'tech', 'techno', 'teen', 'thrash', 'top', 'traditional',\n",
              "       'tradjazz', 'trance', 'tribal', 'trip', 'triphop', 'tropical',\n",
              "       'türk', 'türkçe', 'ukrrock', 'unknown', 'urban', 'uzbek',\n",
              "       'variété', 'vi', 'videogame', 'vocal', 'western', 'world',\n",
              "       'worldbeat', 'ïîï', 'электроника'], dtype=object)"
            ]
          },
          "execution_count": 18,
          "metadata": {},
          "output_type": "execute_result"
        }
      ],
      "source": [
        "df['genre'].sort_values().unique()"
      ]
    },
    {
      "cell_type": "markdown",
      "metadata": {
        "deletable": false,
        "editable": false,
        "id": "jz6a9-7HQUDd"
      },
      "source": [
        "**Выводы**\n",
        "\n",
        "Предобработка обнаружила три проблемы в данных:\n",
        "\n",
        "- нарушения в стиле заголовков,\n",
        "- пропущенные значения,\n",
        "- дубликаты — явные и неявные.\n",
        "\n",
        "Мы исправили заголовки, чтобы упростить работу с таблицей. Без дубликатов исследование станет более точным.\n",
        "\n",
        "Пропущенные значения мы заменили на `'unknown'`. Ещё предстоит увидеть, не повредят ли исследованию пропуски в колонке `genre`.\n",
        "\n",
        "Теперь можно перейти к проверке гипотез."
      ]
    },
    {
      "cell_type": "markdown",
      "metadata": {
        "deletable": false,
        "editable": false,
        "id": "WttZHXH0SqKk"
      },
      "source": [
        "## Проверка гипотез"
      ]
    },
    {
      "cell_type": "markdown",
      "metadata": {
        "deletable": false,
        "editable": false,
        "id": "Im936VVi_Zcu"
      },
      "source": [
        "### Сравнение поведения пользователей двух столиц"
      ]
    },
    {
      "cell_type": "markdown",
      "metadata": {
        "deletable": false,
        "editable": false,
        "id": "nwt_MuaL_Zcu"
      },
      "source": [
        "Первая гипотеза утверждает, что пользователи по-разному слушают музыку в Москве и Санкт-Петербурге. Проверьте это предположение по данным о трёх днях недели — понедельнике, среде и пятнице. Для этого:\n",
        "\n",
        "* Разделите пользователей Москвы и Санкт-Петербурга.\n",
        "* Сравните, сколько треков послушала каждая группа пользователей в понедельник, среду и пятницу.\n"
      ]
    },
    {
      "cell_type": "code",
      "execution_count": null,
      "metadata": {
        "deletable": false,
        "id": "0_Qs96oh_Zcu",
        "outputId": "76650eba-a3bf-4cff-b442-5e6af0b48423"
      },
      "outputs": [
        {
          "data": {
            "text/plain": [
              "city\n",
              "Moscow              42741\n",
              "Saint-Petersburg    18512\n",
              "Name: track, dtype: int64"
            ]
          },
          "execution_count": 19,
          "metadata": {},
          "output_type": "execute_result"
        }
      ],
      "source": [
        "df.groupby('city')['track'].count()"
      ]
    },
    {
      "cell_type": "markdown",
      "metadata": {
        "deletable": false,
        "editable": false,
        "id": "dzli3w8o_Zcu",
        "tags": [
          "start_task"
        ]
      },
      "source": [
        "В Москве прослушиваний больше, чем в Петербурге. Из этого не следует, что московские пользователи чаще слушают музыку. Просто самих пользователей в Москве больше.\n"
      ]
    },
    {
      "cell_type": "code",
      "execution_count": null,
      "metadata": {
        "deletable": false,
        "id": "uZMKjiJz_Zcu",
        "outputId": "acea3255-2ac0-4665-e2d3-e1b93432568b"
      },
      "outputs": [
        {
          "data": {
            "text/plain": [
              "day\n",
              "Friday       21840\n",
              "Monday       21354\n",
              "Wednesday    18059\n",
              "Name: track, dtype: int64"
            ]
          },
          "execution_count": 20,
          "metadata": {},
          "output_type": "execute_result"
        }
      ],
      "source": [
        "df.groupby('day')['track'].count()"
      ]
    },
    {
      "cell_type": "markdown",
      "metadata": {
        "deletable": false,
        "editable": false,
        "id": "cC2tNrlL_Zcu"
      },
      "source": [
        "В среднем пользователи из двух городов менее активны по средам. Но картина может измениться, если рассмотреть каждый город в отдельности."
      ]
    },
    {
      "cell_type": "code",
      "execution_count": null,
      "metadata": {
        "deletable": false,
        "id": "Nz3GdQB1_Zcu"
      },
      "outputs": [],
      "source": [
        "# <создание функции number_tracks()>\n",
        "def number_tracks(day, city):\n",
        "    track_list = df[df['day'] == day]\n",
        "    track_list = track_list[track_list['city']== city]\n",
        "    track_list_count = track_list['user_id'].count()\n",
        "    return track_list_count"
      ]
    },
    {
      "cell_type": "code",
      "execution_count": null,
      "metadata": {
        "deletable": false,
        "id": "rJcRATNQ_Zcu",
        "outputId": "2f8aa06f-82fd-4f21-c840-59f875c0bf11"
      },
      "outputs": [
        {
          "data": {
            "text/plain": [
              "15740"
            ]
          },
          "execution_count": 22,
          "metadata": {},
          "output_type": "execute_result"
        }
      ],
      "source": [
        "number_tracks('Monday', 'Moscow')"
      ]
    },
    {
      "cell_type": "code",
      "execution_count": null,
      "metadata": {
        "deletable": false,
        "id": "hq_ncZ5T_Zcu",
        "outputId": "9cbe0be4-adbc-4de6-99db-722ac6872e91"
      },
      "outputs": [
        {
          "data": {
            "text/plain": [
              "5614"
            ]
          },
          "execution_count": 23,
          "metadata": {},
          "output_type": "execute_result"
        }
      ],
      "source": [
        "number_tracks('Monday', 'Saint-Petersburg')"
      ]
    },
    {
      "cell_type": "code",
      "execution_count": null,
      "metadata": {
        "deletable": false,
        "id": "_NTy2VPU_Zcu",
        "outputId": "d92b4f66-2683-4e72-8604-36d85c1736ad"
      },
      "outputs": [
        {
          "data": {
            "text/plain": [
              "11056"
            ]
          },
          "execution_count": 24,
          "metadata": {},
          "output_type": "execute_result"
        }
      ],
      "source": [
        "number_tracks('Wednesday', 'Moscow')"
      ]
    },
    {
      "cell_type": "code",
      "execution_count": null,
      "metadata": {
        "deletable": false,
        "id": "j2y3TAwo_Zcu",
        "outputId": "f7705bcf-d9a4-4715-eb6a-139b6cde6631"
      },
      "outputs": [
        {
          "data": {
            "text/plain": [
              "7003"
            ]
          },
          "execution_count": 25,
          "metadata": {},
          "output_type": "execute_result"
        }
      ],
      "source": [
        "number_tracks('Wednesday', 'Saint-Petersburg')"
      ]
    },
    {
      "cell_type": "code",
      "execution_count": null,
      "metadata": {
        "deletable": false,
        "id": "vYDw5u_K_Zcu",
        "outputId": "04f21f61-058f-4752-e956-a252e261e81b"
      },
      "outputs": [
        {
          "data": {
            "text/plain": [
              "15945"
            ]
          },
          "execution_count": 26,
          "metadata": {},
          "output_type": "execute_result"
        }
      ],
      "source": [
        "number_tracks('Friday', 'Moscow')"
      ]
    },
    {
      "cell_type": "code",
      "execution_count": null,
      "metadata": {
        "deletable": false,
        "id": "8_yzFtW3_Zcu",
        "outputId": "02e8fbf6-fa9d-4044-d280-b3c4ef066915"
      },
      "outputs": [
        {
          "data": {
            "text/plain": [
              "5895"
            ]
          },
          "execution_count": 27,
          "metadata": {},
          "output_type": "execute_result"
        }
      ],
      "source": [
        "number_tracks('Friday', 'Saint-Petersburg')"
      ]
    },
    {
      "cell_type": "code",
      "execution_count": null,
      "metadata": {
        "deletable": false,
        "id": "APAcLpOr_Zcu",
        "outputId": "10ebfe95-e6fc-4372-bdb0-a02585da06d0"
      },
      "outputs": [
        {
          "data": {
            "text/html": [
              "<div>\n",
              "<style scoped>\n",
              "    .dataframe tbody tr th:only-of-type {\n",
              "        vertical-align: middle;\n",
              "    }\n",
              "\n",
              "    .dataframe tbody tr th {\n",
              "        vertical-align: top;\n",
              "    }\n",
              "\n",
              "    .dataframe thead th {\n",
              "        text-align: right;\n",
              "    }\n",
              "</style>\n",
              "<table border=\"1\" class=\"dataframe\">\n",
              "  <thead>\n",
              "    <tr style=\"text-align: right;\">\n",
              "      <th></th>\n",
              "      <th>city</th>\n",
              "      <th>monday</th>\n",
              "      <th>wednesday</th>\n",
              "      <th>friday</th>\n",
              "    </tr>\n",
              "  </thead>\n",
              "  <tbody>\n",
              "    <tr>\n",
              "      <th>0</th>\n",
              "      <td>Moscow</td>\n",
              "      <td>15740</td>\n",
              "      <td>11056</td>\n",
              "      <td>15945</td>\n",
              "    </tr>\n",
              "    <tr>\n",
              "      <th>1</th>\n",
              "      <td>Saint-Pteresburg</td>\n",
              "      <td>5614</td>\n",
              "      <td>7003</td>\n",
              "      <td>5894</td>\n",
              "    </tr>\n",
              "  </tbody>\n",
              "</table>\n",
              "</div>"
            ],
            "text/plain": [
              "               city  monday  wednesday  friday\n",
              "0            Moscow   15740      11056   15945\n",
              "1  Saint-Pteresburg    5614       7003    5894"
            ]
          },
          "execution_count": 28,
          "metadata": {},
          "output_type": "execute_result"
        }
      ],
      "source": [
        "columns = ['city', 'monday', 'wednesday', 'friday']\n",
        "info = pd.DataFrame(data=[['Moscow', 15740, 11056, 15945],['Saint-Pteresburg', 5614, 7003, 5894]], columns=columns)\n",
        "info"
      ]
    },
    {
      "cell_type": "markdown",
      "metadata": {
        "deletable": false,
        "editable": false,
        "id": "-EgPIHYu_Zcu"
      },
      "source": [
        "**Выводы**\n",
        "\n",
        "Данные показывают разницу поведения пользователей:\n",
        "\n",
        "- В Москве пик прослушиваний приходится на понедельник и пятницу, а в среду заметен спад.\n",
        "- В Петербурге, наоборот, больше слушают музыку по средам. Активность в понедельник и пятницу здесь почти в равной мере уступает среде.\n",
        "\n",
        "Значит, данные говорят в пользу первой гипотезы."
      ]
    },
    {
      "cell_type": "markdown",
      "metadata": {
        "deletable": false,
        "editable": false,
        "id": "atZAxtq4_Zcu"
      },
      "source": [
        "### Музыка в начале и в конце недели"
      ]
    },
    {
      "cell_type": "markdown",
      "metadata": {
        "deletable": false,
        "editable": false,
        "id": "eXrQqXFH_Zcu"
      },
      "source": [
        "Согласно второй гипотезе, утром в понедельник в Москве преобладают одни жанры, а в Петербурге — другие. Так же и вечером пятницы преобладают разные жанры — в зависимости от города."
      ]
    },
    {
      "cell_type": "code",
      "execution_count": null,
      "metadata": {
        "deletable": false,
        "id": "qeaFfM_P_Zcu"
      },
      "outputs": [],
      "source": [
        "moscow_general = df[df['city'] == 'Moscow']"
      ]
    },
    {
      "cell_type": "code",
      "execution_count": null,
      "metadata": {
        "deletable": false,
        "id": "ORaVRKto_Zcu"
      },
      "outputs": [],
      "source": [
        "spb_general = df[df['city'] == 'Saint-Petersburg']"
      ]
    },
    {
      "cell_type": "code",
      "execution_count": null,
      "metadata": {
        "deletable": false,
        "id": "laJT9BYl_Zcu"
      },
      "outputs": [],
      "source": [
        "# Объявление функции genre_weekday() с параметрами table, day, time1, time2,\n",
        "def genre_weekday(table, day, time1, time2):\n",
        "    genre_df = table[table['day'] == day]\n",
        "    genre_df = genre_df[genre_df['time'] > time1]\n",
        "    genre_df = genre_df[genre_df['time'] < time2]\n",
        "    genre_df_count = genre_df.groupby('genre')['genre'].count()\n",
        "    genre_df_sorted = genre_df_count.sort_values(ascending = False)\n",
        "    return genre_df_sorted[:10]"
      ]
    },
    {
      "cell_type": "code",
      "execution_count": null,
      "metadata": {
        "deletable": false,
        "id": "kwUcHPdy_Zcu",
        "outputId": "7913e5ae-ccda-44ca-d2bc-6c92cc31be21"
      },
      "outputs": [
        {
          "data": {
            "text/plain": [
              "genre\n",
              "pop            218\n",
              "dance          182\n",
              "rock           162\n",
              "electronic     147\n",
              "hiphop          80\n",
              "ruspop          64\n",
              "alternative     58\n",
              "rusrap          55\n",
              "jazz            44\n",
              "classical       40\n",
              "Name: genre, dtype: int64"
            ]
          },
          "execution_count": 38,
          "metadata": {},
          "output_type": "execute_result"
        }
      ],
      "source": [
        "# вызов функции для утра понедельника в Петербурге (вместо df — таблица spb_general)\n",
        "genre_weekday(spb_general, 'Monday', '07:00', '11:00')"
      ]
    },
    {
      "cell_type": "code",
      "execution_count": null,
      "metadata": {
        "deletable": false,
        "id": "EzXVRE1o_Zcu",
        "outputId": "c65426c1-e61d-408e-9c64-d939e3c96350"
      },
      "outputs": [
        {
          "data": {
            "text/plain": [
              "genre\n",
              "pop            713\n",
              "rock           517\n",
              "dance          495\n",
              "electronic     482\n",
              "hiphop         273\n",
              "world          208\n",
              "ruspop         170\n",
              "alternative    163\n",
              "classical      163\n",
              "rusrap         142\n",
              "Name: genre, dtype: int64"
            ]
          },
          "execution_count": 39,
          "metadata": {},
          "output_type": "execute_result"
        }
      ],
      "source": [
        "# вызов функции для вечера пятницы в Москве\n",
        "genre_weekday(moscow_general, 'Friday', '17:00', '23:00')"
      ]
    },
    {
      "cell_type": "code",
      "execution_count": null,
      "metadata": {
        "deletable": false,
        "id": "JZaEKu5v_Zcu",
        "outputId": "ae1127e7-d553-434b-b4c0-77bcd5df81dd"
      },
      "outputs": [
        {
          "data": {
            "text/plain": [
              "genre\n",
              "pop            256\n",
              "electronic     216\n",
              "rock           216\n",
              "dance          210\n",
              "hiphop          97\n",
              "alternative     63\n",
              "jazz            61\n",
              "classical       60\n",
              "rusrap          59\n",
              "world           54\n",
              "Name: genre, dtype: int64"
            ]
          },
          "execution_count": 40,
          "metadata": {},
          "output_type": "execute_result"
        }
      ],
      "source": [
        "# вызов функции для вечера пятницы в Петербурге\n",
        "genre_weekday(spb_general, 'Friday', '17:00', '23:00')"
      ]
    },
    {
      "cell_type": "markdown",
      "metadata": {
        "deletable": false,
        "editable": false,
        "id": "wrCe4MNX_Zcu"
      },
      "source": [
        "**Выводы**\n",
        "\n",
        "Если сравнить топ-10 жанров в понедельник утром, можно сделать такие выводы:\n",
        "\n",
        "1. В Москве и Петербурге слушают похожую музыку. Единственное отличие — в московский рейтинг вошёл жанр “world”, а в петербургский — джаз и классика.\n",
        "\n",
        "2. В Москве пропущенных значений оказалось так много, что значение `'unknown'` заняло десятое место среди самых популярных жанров. Значит, пропущенные значения занимают существенную долю в данных и угрожают достоверности исследования.\n",
        "\n",
        "Вечер пятницы не меняет эту картину. Некоторые жанры поднимаются немного выше, другие спускаются, но в целом топ-10 остаётся тем же самым.\n",
        "\n",
        "Таким образом, вторая гипотеза подтвердилась лишь частично:\n",
        "* Пользователи слушают похожую музыку в начале недели и в конце.\n",
        "* Разница между Москвой и Петербургом не слишком выражена. В Москве чаще слушают русскую популярную музыку, в Петербурге — джаз.\n",
        "\n",
        "Однако пропуски в данных ставят под сомнение этот результат. В Москве их так много, что рейтинг топ-10 мог бы выглядеть иначе, если бы не утерянные  данные о жанрах."
      ]
    },
    {
      "cell_type": "markdown",
      "metadata": {
        "deletable": false,
        "editable": false,
        "id": "JolODAqr_Zcu"
      },
      "source": [
        "### Жанровые предпочтения в Москве и Петербурге\n",
        "\n",
        "Гипотеза: Петербург — столица рэпа, музыку этого жанра там слушают чаще, чем в Москве.  А Москва — город контрастов, в котором, тем не менее, преобладает поп-музыка."
      ]
    },
    {
      "cell_type": "code",
      "execution_count": null,
      "metadata": {
        "deletable": false,
        "id": "r19lIPke_Zcu"
      },
      "outputs": [],
      "source": [
        "# одной строкой: группировка таблицы moscow_general по столбцу 'genre',\n",
        "# подсчёт числа значений 'genre' в этой группировке методом count(),\n",
        "# сортировка получившегося Series в порядке убывания и сохранение в moscow_genres\n",
        "moscow_genres = moscow_general.groupby('genre')['genre'].count().sort_values(ascending = False)"
      ]
    },
    {
      "cell_type": "code",
      "execution_count": null,
      "metadata": {
        "deletable": false,
        "id": "WhCSooF8_Zcv",
        "outputId": "37cb56cf-f064-4c3d-d0ef-79084a666d20"
      },
      "outputs": [
        {
          "data": {
            "text/plain": [
              "genre\n",
              "pop            5892\n",
              "dance          4435\n",
              "rock           3965\n",
              "electronic     3786\n",
              "hiphop         2096\n",
              "classical      1616\n",
              "world          1432\n",
              "alternative    1379\n",
              "ruspop         1372\n",
              "rusrap         1161\n",
              "Name: genre, dtype: int64"
            ]
          },
          "execution_count": 63,
          "metadata": {},
          "output_type": "execute_result"
        }
      ],
      "source": [
        "# просмотр первых 10 строк moscow_genres\n",
        "moscow_genres.head(10)"
      ]
    },
    {
      "cell_type": "code",
      "execution_count": null,
      "metadata": {
        "deletable": false,
        "id": "gluLIpE7_Zcv"
      },
      "outputs": [],
      "source": [
        "spb_genres = spb_general.groupby('genre')['genre'].count().sort_values(ascending = False)\n",
        "\n",
        "# одной строкой: группировка таблицы spb_general по столбцу 'genre',\n",
        "# подсчёт числа значений 'genre' в этой группировке методом count(),\n",
        "# сортировка получившегося Series в порядке убывания и сохранение в spb_genres"
      ]
    },
    {
      "cell_type": "code",
      "execution_count": null,
      "metadata": {
        "deletable": false,
        "id": "uaGJHjVU_Zcv",
        "outputId": "81bb73ff-c0f7-40a9-ae27-ae02312827a1"
      },
      "outputs": [
        {
          "data": {
            "text/plain": [
              "genre\n",
              "pop            2431\n",
              "dance          1932\n",
              "rock           1879\n",
              "electronic     1736\n",
              "hiphop          960\n",
              "alternative     649\n",
              "classical       646\n",
              "rusrap          564\n",
              "ruspop          538\n",
              "world           515\n",
              "Name: genre, dtype: int64"
            ]
          },
          "execution_count": 66,
          "metadata": {},
          "output_type": "execute_result"
        }
      ],
      "source": [
        "# просмотр первых 10 строк spb_genres\n",
        "spb_genres.head(10)"
      ]
    },
    {
      "cell_type": "markdown",
      "metadata": {
        "deletable": false,
        "editable": false,
        "id": "RY51YJYu_Zcv"
      },
      "source": [
        "**Выводы**"
      ]
    },
    {
      "cell_type": "markdown",
      "metadata": {
        "deletable": false,
        "editable": false,
        "id": "nVhnJEm__Zcv"
      },
      "source": [
        "Гипотеза частично подтвердилась:\n",
        "* Поп-музыка — самый популярный жанр в Москве, как и предполагала гипотеза. Более того, в топ-10 жанров встречается близкий жанр — русская популярная музыка.\n",
        "* Вопреки ожиданиям, рэп одинаково популярен в Москве и Петербурге.\n"
      ]
    },
    {
      "cell_type": "markdown",
      "metadata": {
        "deletable": false,
        "editable": false,
        "id": "ykKQ0N65_Zcv"
      },
      "source": [
        "## Итоги исследования"
      ]
    },
    {
      "cell_type": "markdown",
      "metadata": {
        "deletable": false,
        "editable": false,
        "id": "tjUwbHb3_Zcv"
      },
      "source": [
        "Мы проверили три гипотезы и установили:\n",
        "\n",
        "1. День недели по-разному влияет на активность пользователей в Москве и Петербурге.\n",
        "\n",
        "Первая гипотеза полностью подтвердилась.\n",
        "\n",
        "2. Музыкальные предпочтения не сильно меняются в течение недели — будь то Москва или Петербург. Небольшие различия заметны в начале недели, по понедельникам:\n",
        "* в Москве слушают музыку жанра “world”,\n",
        "* в Петербурге — джаз и классику.\n",
        "\n",
        "Таким образом, вторая гипотеза подтвердилась лишь отчасти. Этот результат мог оказаться иным, если бы не пропуски в данных.\n",
        "\n",
        "3. Во вкусах пользователей Москвы и Петербурга больше общего чем различий. Вопреки ожиданиям, предпочтения жанров в Петербурге напоминают московские.\n",
        "\n",
        "Третья гипотеза не подтвердилась. Если различия в предпочтениях и существуют, на основной массе пользователей они незаметны."
      ]
    },
    {
      "cell_type": "code",
      "source": [],
      "metadata": {
        "id": "GAcxpxD8NxK4"
      },
      "execution_count": null,
      "outputs": []
    }
  ],
  "metadata": {
    "ExecuteTimeLog": [
      {
        "duration": 426,
        "start_time": "2023-01-21T10:02:01.776Z"
      },
      {
        "duration": 517,
        "start_time": "2023-01-21T10:02:50.062Z"
      },
      {
        "duration": 181,
        "start_time": "2023-01-21T10:03:04.086Z"
      },
      {
        "duration": 27,
        "start_time": "2023-01-21T10:04:00.810Z"
      },
      {
        "duration": 9,
        "start_time": "2023-01-21T10:10:22.166Z"
      },
      {
        "duration": 12,
        "start_time": "2023-01-21T10:14:10.132Z"
      },
      {
        "duration": 4,
        "start_time": "2023-01-21T10:14:44.734Z"
      },
      {
        "duration": 65,
        "start_time": "2023-01-21T10:15:48.762Z"
      },
      {
        "duration": 35,
        "start_time": "2023-01-21T10:16:41.671Z"
      },
      {
        "duration": 38,
        "start_time": "2023-01-21T10:17:54.980Z"
      },
      {
        "duration": 44,
        "start_time": "2023-01-21T13:41:29.223Z"
      },
      {
        "duration": 401,
        "start_time": "2023-01-21T13:42:06.185Z"
      },
      {
        "duration": 474,
        "start_time": "2023-01-21T13:42:06.589Z"
      },
      {
        "duration": 18,
        "start_time": "2023-01-21T13:42:07.065Z"
      },
      {
        "duration": 30,
        "start_time": "2023-01-21T13:42:07.086Z"
      },
      {
        "duration": 2,
        "start_time": "2023-01-21T13:42:07.118Z"
      },
      {
        "duration": 7,
        "start_time": "2023-01-21T13:42:07.121Z"
      },
      {
        "duration": 17,
        "start_time": "2023-01-21T13:42:07.130Z"
      },
      {
        "duration": 4,
        "start_time": "2023-01-21T13:42:07.167Z"
      },
      {
        "duration": 31,
        "start_time": "2023-01-21T13:42:07.172Z"
      },
      {
        "duration": 15,
        "start_time": "2023-01-21T13:42:10.583Z"
      },
      {
        "duration": 26,
        "start_time": "2023-01-21T13:44:47.814Z"
      },
      {
        "duration": 20,
        "start_time": "2023-01-21T13:45:17.264Z"
      },
      {
        "duration": 20,
        "start_time": "2023-01-21T13:46:45.452Z"
      },
      {
        "duration": 35,
        "start_time": "2023-01-21T13:47:07.956Z"
      },
      {
        "duration": 9,
        "start_time": "2023-01-21T13:49:23.425Z"
      },
      {
        "duration": 10,
        "start_time": "2023-01-21T13:52:33.334Z"
      },
      {
        "duration": 10,
        "start_time": "2023-01-21T13:52:38.551Z"
      },
      {
        "duration": 10,
        "start_time": "2023-01-21T13:53:39.689Z"
      },
      {
        "duration": 4,
        "start_time": "2023-01-21T13:53:51.786Z"
      },
      {
        "duration": 10,
        "start_time": "2023-01-21T13:53:54.700Z"
      },
      {
        "duration": 2,
        "start_time": "2023-01-21T13:55:22.443Z"
      },
      {
        "duration": 159,
        "start_time": "2023-01-21T13:55:22.453Z"
      },
      {
        "duration": 10,
        "start_time": "2023-01-21T13:55:22.614Z"
      },
      {
        "duration": 41,
        "start_time": "2023-01-21T13:55:22.626Z"
      },
      {
        "duration": 3,
        "start_time": "2023-01-21T13:55:22.669Z"
      },
      {
        "duration": 17,
        "start_time": "2023-01-21T13:55:22.673Z"
      },
      {
        "duration": 20,
        "start_time": "2023-01-21T13:55:22.691Z"
      },
      {
        "duration": 12,
        "start_time": "2023-01-21T13:55:22.712Z"
      },
      {
        "duration": 28,
        "start_time": "2023-01-21T13:55:22.725Z"
      },
      {
        "duration": 18,
        "start_time": "2023-01-21T13:55:36.053Z"
      },
      {
        "duration": 9,
        "start_time": "2023-01-21T13:56:19.874Z"
      },
      {
        "duration": 11,
        "start_time": "2023-01-21T13:56:24.940Z"
      },
      {
        "duration": 9,
        "start_time": "2023-01-21T13:56:27.997Z"
      },
      {
        "duration": 2,
        "start_time": "2023-01-21T13:56:33.913Z"
      },
      {
        "duration": 175,
        "start_time": "2023-01-21T13:56:33.917Z"
      },
      {
        "duration": 10,
        "start_time": "2023-01-21T13:56:34.094Z"
      },
      {
        "duration": 32,
        "start_time": "2023-01-21T13:56:34.105Z"
      },
      {
        "duration": 2,
        "start_time": "2023-01-21T13:56:34.139Z"
      },
      {
        "duration": 25,
        "start_time": "2023-01-21T13:56:34.143Z"
      },
      {
        "duration": 8,
        "start_time": "2023-01-21T13:56:34.169Z"
      },
      {
        "duration": 6,
        "start_time": "2023-01-21T13:56:34.179Z"
      },
      {
        "duration": 28,
        "start_time": "2023-01-21T13:56:34.187Z"
      },
      {
        "duration": 13,
        "start_time": "2023-01-21T13:56:34.217Z"
      },
      {
        "duration": 16,
        "start_time": "2023-01-21T13:57:03.644Z"
      },
      {
        "duration": 2,
        "start_time": "2023-01-21T13:57:08.664Z"
      },
      {
        "duration": 170,
        "start_time": "2023-01-21T13:57:08.668Z"
      },
      {
        "duration": 10,
        "start_time": "2023-01-21T13:57:08.840Z"
      },
      {
        "duration": 40,
        "start_time": "2023-01-21T13:57:08.851Z"
      },
      {
        "duration": 2,
        "start_time": "2023-01-21T13:57:08.893Z"
      },
      {
        "duration": 6,
        "start_time": "2023-01-21T13:57:08.896Z"
      },
      {
        "duration": 8,
        "start_time": "2023-01-21T13:57:08.904Z"
      },
      {
        "duration": 4,
        "start_time": "2023-01-21T13:57:08.914Z"
      },
      {
        "duration": 49,
        "start_time": "2023-01-21T13:57:08.919Z"
      },
      {
        "duration": 17,
        "start_time": "2023-01-21T13:57:08.969Z"
      },
      {
        "duration": 0,
        "start_time": "2023-01-21T13:57:08.988Z"
      },
      {
        "duration": 0,
        "start_time": "2023-01-21T13:57:08.989Z"
      },
      {
        "duration": 0,
        "start_time": "2023-01-21T13:57:08.990Z"
      },
      {
        "duration": 0,
        "start_time": "2023-01-21T13:57:08.991Z"
      },
      {
        "duration": 0,
        "start_time": "2023-01-21T13:57:08.992Z"
      },
      {
        "duration": 0,
        "start_time": "2023-01-21T13:57:08.993Z"
      },
      {
        "duration": 0,
        "start_time": "2023-01-21T13:57:08.994Z"
      },
      {
        "duration": 0,
        "start_time": "2023-01-21T13:57:08.995Z"
      },
      {
        "duration": 0,
        "start_time": "2023-01-21T13:57:08.996Z"
      },
      {
        "duration": 0,
        "start_time": "2023-01-21T13:57:08.997Z"
      },
      {
        "duration": 0,
        "start_time": "2023-01-21T13:57:08.998Z"
      },
      {
        "duration": 0,
        "start_time": "2023-01-21T13:57:08.999Z"
      },
      {
        "duration": 0,
        "start_time": "2023-01-21T13:57:09.000Z"
      },
      {
        "duration": 0,
        "start_time": "2023-01-21T13:57:09.001Z"
      },
      {
        "duration": 0,
        "start_time": "2023-01-21T13:57:09.002Z"
      },
      {
        "duration": 0,
        "start_time": "2023-01-21T13:57:09.003Z"
      },
      {
        "duration": 0,
        "start_time": "2023-01-21T13:57:09.004Z"
      },
      {
        "duration": 0,
        "start_time": "2023-01-21T13:57:09.005Z"
      },
      {
        "duration": 0,
        "start_time": "2023-01-21T13:57:09.006Z"
      },
      {
        "duration": 0,
        "start_time": "2023-01-21T13:57:09.007Z"
      },
      {
        "duration": 0,
        "start_time": "2023-01-21T13:57:09.008Z"
      },
      {
        "duration": 0,
        "start_time": "2023-01-21T13:57:09.009Z"
      },
      {
        "duration": 0,
        "start_time": "2023-01-21T13:57:09.010Z"
      },
      {
        "duration": 0,
        "start_time": "2023-01-21T13:57:09.011Z"
      },
      {
        "duration": 0,
        "start_time": "2023-01-21T13:57:09.012Z"
      },
      {
        "duration": 0,
        "start_time": "2023-01-21T13:57:09.013Z"
      },
      {
        "duration": 0,
        "start_time": "2023-01-21T13:57:09.014Z"
      },
      {
        "duration": 0,
        "start_time": "2023-01-21T13:57:09.067Z"
      },
      {
        "duration": 2,
        "start_time": "2023-01-21T13:57:23.390Z"
      },
      {
        "duration": 151,
        "start_time": "2023-01-21T13:57:23.394Z"
      },
      {
        "duration": 9,
        "start_time": "2023-01-21T13:57:23.547Z"
      },
      {
        "duration": 39,
        "start_time": "2023-01-21T13:57:23.558Z"
      },
      {
        "duration": 5,
        "start_time": "2023-01-21T13:57:23.599Z"
      },
      {
        "duration": 9,
        "start_time": "2023-01-21T13:57:23.605Z"
      },
      {
        "duration": 23,
        "start_time": "2023-01-21T13:57:23.616Z"
      },
      {
        "duration": 14,
        "start_time": "2023-01-21T13:57:23.640Z"
      },
      {
        "duration": 45,
        "start_time": "2023-01-21T13:57:23.655Z"
      },
      {
        "duration": 16,
        "start_time": "2023-01-21T13:57:27.101Z"
      },
      {
        "duration": 2,
        "start_time": "2023-01-21T13:57:32.716Z"
      },
      {
        "duration": 162,
        "start_time": "2023-01-21T13:57:32.720Z"
      },
      {
        "duration": 11,
        "start_time": "2023-01-21T13:57:32.884Z"
      },
      {
        "duration": 36,
        "start_time": "2023-01-21T13:57:32.896Z"
      },
      {
        "duration": 3,
        "start_time": "2023-01-21T13:57:32.934Z"
      },
      {
        "duration": 8,
        "start_time": "2023-01-21T13:57:32.938Z"
      },
      {
        "duration": 21,
        "start_time": "2023-01-21T13:57:32.948Z"
      },
      {
        "duration": 4,
        "start_time": "2023-01-21T13:57:32.971Z"
      },
      {
        "duration": 25,
        "start_time": "2023-01-21T13:57:32.977Z"
      },
      {
        "duration": 16,
        "start_time": "2023-01-21T13:57:33.004Z"
      },
      {
        "duration": 10,
        "start_time": "2023-01-21T13:57:36.648Z"
      },
      {
        "duration": 3,
        "start_time": "2023-01-21T13:57:45.093Z"
      },
      {
        "duration": 162,
        "start_time": "2023-01-21T13:57:45.098Z"
      },
      {
        "duration": 11,
        "start_time": "2023-01-21T13:57:45.262Z"
      },
      {
        "duration": 34,
        "start_time": "2023-01-21T13:57:45.274Z"
      },
      {
        "duration": 2,
        "start_time": "2023-01-21T13:57:45.310Z"
      },
      {
        "duration": 8,
        "start_time": "2023-01-21T13:57:45.314Z"
      },
      {
        "duration": 10,
        "start_time": "2023-01-21T13:57:45.324Z"
      },
      {
        "duration": 5,
        "start_time": "2023-01-21T13:57:45.335Z"
      },
      {
        "duration": 18,
        "start_time": "2023-01-21T13:57:47.089Z"
      },
      {
        "duration": 9,
        "start_time": "2023-01-21T13:58:00.469Z"
      },
      {
        "duration": 10,
        "start_time": "2023-01-21T13:58:05.453Z"
      },
      {
        "duration": 3,
        "start_time": "2023-01-21T13:58:11.262Z"
      },
      {
        "duration": 150,
        "start_time": "2023-01-21T13:58:11.266Z"
      },
      {
        "duration": 15,
        "start_time": "2023-01-21T13:58:11.418Z"
      },
      {
        "duration": 42,
        "start_time": "2023-01-21T13:58:11.435Z"
      },
      {
        "duration": 3,
        "start_time": "2023-01-21T13:58:11.478Z"
      },
      {
        "duration": 7,
        "start_time": "2023-01-21T13:58:11.483Z"
      },
      {
        "duration": 11,
        "start_time": "2023-01-21T13:58:11.492Z"
      },
      {
        "duration": 4,
        "start_time": "2023-01-21T13:58:11.504Z"
      },
      {
        "duration": 24,
        "start_time": "2023-01-21T13:58:11.509Z"
      },
      {
        "duration": 15,
        "start_time": "2023-01-21T13:58:13.336Z"
      },
      {
        "duration": 440,
        "start_time": "2023-01-21T13:59:37.040Z"
      },
      {
        "duration": 161,
        "start_time": "2023-01-21T13:59:37.482Z"
      },
      {
        "duration": 25,
        "start_time": "2023-01-21T13:59:37.645Z"
      },
      {
        "duration": 30,
        "start_time": "2023-01-21T13:59:37.672Z"
      },
      {
        "duration": 27,
        "start_time": "2023-01-21T13:59:37.704Z"
      },
      {
        "duration": 26,
        "start_time": "2023-01-21T13:59:37.733Z"
      },
      {
        "duration": 14,
        "start_time": "2023-01-21T13:59:37.760Z"
      },
      {
        "duration": 5,
        "start_time": "2023-01-21T13:59:37.775Z"
      },
      {
        "duration": 26,
        "start_time": "2023-01-21T13:59:37.782Z"
      },
      {
        "duration": 87,
        "start_time": "2023-01-21T13:59:37.812Z"
      },
      {
        "duration": 0,
        "start_time": "2023-01-21T13:59:37.901Z"
      },
      {
        "duration": 0,
        "start_time": "2023-01-21T13:59:37.904Z"
      },
      {
        "duration": 0,
        "start_time": "2023-01-21T13:59:37.905Z"
      },
      {
        "duration": 0,
        "start_time": "2023-01-21T13:59:37.906Z"
      },
      {
        "duration": 0,
        "start_time": "2023-01-21T13:59:37.907Z"
      },
      {
        "duration": 0,
        "start_time": "2023-01-21T13:59:37.907Z"
      },
      {
        "duration": 0,
        "start_time": "2023-01-21T13:59:37.908Z"
      },
      {
        "duration": 0,
        "start_time": "2023-01-21T13:59:37.909Z"
      },
      {
        "duration": 0,
        "start_time": "2023-01-21T13:59:37.910Z"
      },
      {
        "duration": 0,
        "start_time": "2023-01-21T13:59:37.911Z"
      },
      {
        "duration": 0,
        "start_time": "2023-01-21T13:59:37.912Z"
      },
      {
        "duration": 0,
        "start_time": "2023-01-21T13:59:37.912Z"
      },
      {
        "duration": 0,
        "start_time": "2023-01-21T13:59:37.914Z"
      },
      {
        "duration": 0,
        "start_time": "2023-01-21T13:59:37.915Z"
      },
      {
        "duration": 0,
        "start_time": "2023-01-21T13:59:37.916Z"
      },
      {
        "duration": 0,
        "start_time": "2023-01-21T13:59:37.916Z"
      },
      {
        "duration": 0,
        "start_time": "2023-01-21T13:59:37.917Z"
      },
      {
        "duration": 0,
        "start_time": "2023-01-21T13:59:37.918Z"
      },
      {
        "duration": 0,
        "start_time": "2023-01-21T13:59:37.919Z"
      },
      {
        "duration": 0,
        "start_time": "2023-01-21T13:59:37.921Z"
      },
      {
        "duration": 0,
        "start_time": "2023-01-21T13:59:37.921Z"
      },
      {
        "duration": 0,
        "start_time": "2023-01-21T13:59:37.923Z"
      },
      {
        "duration": 0,
        "start_time": "2023-01-21T13:59:37.923Z"
      },
      {
        "duration": 0,
        "start_time": "2023-01-21T13:59:37.924Z"
      },
      {
        "duration": 0,
        "start_time": "2023-01-21T13:59:37.968Z"
      },
      {
        "duration": 0,
        "start_time": "2023-01-21T13:59:37.969Z"
      },
      {
        "duration": 0,
        "start_time": "2023-01-21T13:59:37.970Z"
      },
      {
        "duration": 1,
        "start_time": "2023-01-21T13:59:37.971Z"
      },
      {
        "duration": 403,
        "start_time": "2023-01-21T14:01:17.234Z"
      },
      {
        "duration": 159,
        "start_time": "2023-01-21T14:01:17.639Z"
      },
      {
        "duration": 16,
        "start_time": "2023-01-21T14:01:17.799Z"
      },
      {
        "duration": 30,
        "start_time": "2023-01-21T14:01:17.817Z"
      },
      {
        "duration": 3,
        "start_time": "2023-01-21T14:01:17.848Z"
      },
      {
        "duration": 4,
        "start_time": "2023-01-21T14:01:17.866Z"
      },
      {
        "duration": 13,
        "start_time": "2023-01-21T14:01:17.871Z"
      },
      {
        "duration": 9,
        "start_time": "2023-01-21T14:01:17.885Z"
      },
      {
        "duration": 24,
        "start_time": "2023-01-21T14:01:17.895Z"
      },
      {
        "duration": 83,
        "start_time": "2023-01-21T14:01:17.921Z"
      },
      {
        "duration": 0,
        "start_time": "2023-01-21T14:01:18.005Z"
      },
      {
        "duration": 0,
        "start_time": "2023-01-21T14:01:18.008Z"
      },
      {
        "duration": 0,
        "start_time": "2023-01-21T14:01:18.008Z"
      },
      {
        "duration": 0,
        "start_time": "2023-01-21T14:01:18.009Z"
      },
      {
        "duration": 0,
        "start_time": "2023-01-21T14:01:18.011Z"
      },
      {
        "duration": 0,
        "start_time": "2023-01-21T14:01:18.011Z"
      },
      {
        "duration": 0,
        "start_time": "2023-01-21T14:01:18.012Z"
      },
      {
        "duration": 0,
        "start_time": "2023-01-21T14:01:18.013Z"
      },
      {
        "duration": 0,
        "start_time": "2023-01-21T14:01:18.014Z"
      },
      {
        "duration": 0,
        "start_time": "2023-01-21T14:01:18.015Z"
      },
      {
        "duration": 0,
        "start_time": "2023-01-21T14:01:18.016Z"
      },
      {
        "duration": 0,
        "start_time": "2023-01-21T14:01:18.017Z"
      },
      {
        "duration": 0,
        "start_time": "2023-01-21T14:01:18.018Z"
      },
      {
        "duration": 0,
        "start_time": "2023-01-21T14:01:18.019Z"
      },
      {
        "duration": 0,
        "start_time": "2023-01-21T14:01:18.020Z"
      },
      {
        "duration": 0,
        "start_time": "2023-01-21T14:01:18.021Z"
      },
      {
        "duration": 0,
        "start_time": "2023-01-21T14:01:18.022Z"
      },
      {
        "duration": 0,
        "start_time": "2023-01-21T14:01:18.023Z"
      },
      {
        "duration": 0,
        "start_time": "2023-01-21T14:01:18.024Z"
      },
      {
        "duration": 0,
        "start_time": "2023-01-21T14:01:18.025Z"
      },
      {
        "duration": 0,
        "start_time": "2023-01-21T14:01:18.026Z"
      },
      {
        "duration": 0,
        "start_time": "2023-01-21T14:01:18.027Z"
      },
      {
        "duration": 0,
        "start_time": "2023-01-21T14:01:18.067Z"
      },
      {
        "duration": 0,
        "start_time": "2023-01-21T14:01:18.068Z"
      },
      {
        "duration": 0,
        "start_time": "2023-01-21T14:01:18.069Z"
      },
      {
        "duration": 0,
        "start_time": "2023-01-21T14:01:18.070Z"
      },
      {
        "duration": 0,
        "start_time": "2023-01-21T14:01:18.071Z"
      },
      {
        "duration": 0,
        "start_time": "2023-01-21T14:01:18.072Z"
      },
      {
        "duration": 11,
        "start_time": "2023-01-21T14:02:00.011Z"
      },
      {
        "duration": 9,
        "start_time": "2023-01-21T14:02:02.271Z"
      },
      {
        "duration": 388,
        "start_time": "2023-01-21T14:02:11.181Z"
      },
      {
        "duration": 153,
        "start_time": "2023-01-21T14:02:11.570Z"
      },
      {
        "duration": 16,
        "start_time": "2023-01-21T14:02:11.724Z"
      },
      {
        "duration": 36,
        "start_time": "2023-01-21T14:02:11.742Z"
      },
      {
        "duration": 2,
        "start_time": "2023-01-21T14:02:11.780Z"
      },
      {
        "duration": 9,
        "start_time": "2023-01-21T14:02:11.783Z"
      },
      {
        "duration": 14,
        "start_time": "2023-01-21T14:02:11.794Z"
      },
      {
        "duration": 7,
        "start_time": "2023-01-21T14:02:11.809Z"
      },
      {
        "duration": 30,
        "start_time": "2023-01-21T14:02:11.817Z"
      },
      {
        "duration": 28,
        "start_time": "2023-01-21T14:02:11.849Z"
      },
      {
        "duration": 6,
        "start_time": "2023-01-21T14:02:11.878Z"
      },
      {
        "duration": 6,
        "start_time": "2023-01-21T14:02:11.886Z"
      },
      {
        "duration": 7,
        "start_time": "2023-01-21T14:02:11.894Z"
      },
      {
        "duration": 7,
        "start_time": "2023-01-21T14:02:11.902Z"
      },
      {
        "duration": 8,
        "start_time": "2023-01-21T14:02:11.910Z"
      },
      {
        "duration": 10,
        "start_time": "2023-01-21T14:02:11.919Z"
      },
      {
        "duration": 7,
        "start_time": "2023-01-21T14:02:11.930Z"
      },
      {
        "duration": 3,
        "start_time": "2023-01-21T14:02:11.940Z"
      },
      {
        "duration": 7,
        "start_time": "2023-01-21T14:02:11.944Z"
      },
      {
        "duration": 5,
        "start_time": "2023-01-21T14:02:11.952Z"
      },
      {
        "duration": 6,
        "start_time": "2023-01-21T14:02:11.958Z"
      },
      {
        "duration": 9,
        "start_time": "2023-01-21T14:02:11.965Z"
      },
      {
        "duration": 5,
        "start_time": "2023-01-21T14:02:11.975Z"
      },
      {
        "duration": 7,
        "start_time": "2023-01-21T14:02:11.982Z"
      },
      {
        "duration": 8,
        "start_time": "2023-01-21T14:02:11.990Z"
      },
      {
        "duration": 9,
        "start_time": "2023-01-21T14:02:11.999Z"
      },
      {
        "duration": 5,
        "start_time": "2023-01-21T14:02:12.009Z"
      },
      {
        "duration": 6,
        "start_time": "2023-01-21T14:02:12.016Z"
      },
      {
        "duration": 8,
        "start_time": "2023-01-21T14:02:12.023Z"
      },
      {
        "duration": 54,
        "start_time": "2023-01-21T14:02:12.033Z"
      },
      {
        "duration": 0,
        "start_time": "2023-01-21T14:02:12.088Z"
      },
      {
        "duration": 0,
        "start_time": "2023-01-21T14:02:12.089Z"
      },
      {
        "duration": 0,
        "start_time": "2023-01-21T14:02:12.090Z"
      },
      {
        "duration": 0,
        "start_time": "2023-01-21T14:02:12.091Z"
      },
      {
        "duration": 0,
        "start_time": "2023-01-21T14:02:12.092Z"
      },
      {
        "duration": 0,
        "start_time": "2023-01-21T14:02:12.093Z"
      },
      {
        "duration": 0,
        "start_time": "2023-01-21T14:02:12.094Z"
      },
      {
        "duration": 0,
        "start_time": "2023-01-21T14:02:12.095Z"
      },
      {
        "duration": 64,
        "start_time": "2023-01-21T14:05:55.219Z"
      },
      {
        "duration": 8,
        "start_time": "2023-01-21T14:06:12.697Z"
      },
      {
        "duration": 2,
        "start_time": "2023-01-21T14:06:17.234Z"
      },
      {
        "duration": 181,
        "start_time": "2023-01-21T14:06:17.239Z"
      },
      {
        "duration": 10,
        "start_time": "2023-01-21T14:06:17.422Z"
      },
      {
        "duration": 39,
        "start_time": "2023-01-21T14:06:17.434Z"
      },
      {
        "duration": 2,
        "start_time": "2023-01-21T14:06:17.475Z"
      },
      {
        "duration": 10,
        "start_time": "2023-01-21T14:06:17.479Z"
      },
      {
        "duration": 10,
        "start_time": "2023-01-21T14:06:17.490Z"
      },
      {
        "duration": 3,
        "start_time": "2023-01-21T14:06:17.502Z"
      },
      {
        "duration": 25,
        "start_time": "2023-01-21T14:06:17.507Z"
      },
      {
        "duration": 39,
        "start_time": "2023-01-21T14:06:17.534Z"
      },
      {
        "duration": 16,
        "start_time": "2023-01-21T14:06:59.557Z"
      },
      {
        "duration": 26,
        "start_time": "2023-01-21T14:07:33.059Z"
      },
      {
        "duration": 64,
        "start_time": "2023-01-21T14:08:03.918Z"
      },
      {
        "duration": 57,
        "start_time": "2023-01-21T14:08:22.757Z"
      },
      {
        "duration": 9,
        "start_time": "2023-01-21T14:09:27.394Z"
      },
      {
        "duration": 60,
        "start_time": "2023-01-21T14:09:45.605Z"
      },
      {
        "duration": 11,
        "start_time": "2023-01-21T14:10:25.305Z"
      },
      {
        "duration": 9,
        "start_time": "2023-01-21T14:10:34.993Z"
      },
      {
        "duration": 57,
        "start_time": "2023-01-21T14:10:38.622Z"
      },
      {
        "duration": 8,
        "start_time": "2023-01-21T14:11:39.623Z"
      },
      {
        "duration": 6,
        "start_time": "2023-01-21T14:14:00.278Z"
      },
      {
        "duration": 8,
        "start_time": "2023-01-21T14:14:20.240Z"
      },
      {
        "duration": 8,
        "start_time": "2023-01-21T14:15:27.909Z"
      },
      {
        "duration": 8,
        "start_time": "2023-01-21T14:15:34.607Z"
      },
      {
        "duration": 34,
        "start_time": "2023-01-21T14:19:19.146Z"
      },
      {
        "duration": 11,
        "start_time": "2023-01-21T14:19:49.185Z"
      },
      {
        "duration": 35,
        "start_time": "2023-01-21T14:19:55.063Z"
      },
      {
        "duration": 39,
        "start_time": "2023-01-21T14:20:21.300Z"
      },
      {
        "duration": 9,
        "start_time": "2023-01-21T14:20:45.760Z"
      },
      {
        "duration": 12,
        "start_time": "2023-01-21T14:22:53.732Z"
      },
      {
        "duration": 7,
        "start_time": "2023-01-21T14:23:14.310Z"
      },
      {
        "duration": 40,
        "start_time": "2023-01-21T14:23:34.359Z"
      },
      {
        "duration": 12,
        "start_time": "2023-01-21T14:28:06.663Z"
      },
      {
        "duration": 528,
        "start_time": "2023-01-21T14:55:23.977Z"
      },
      {
        "duration": 525,
        "start_time": "2023-01-21T14:55:39.559Z"
      },
      {
        "duration": 590,
        "start_time": "2023-01-21T14:56:03.590Z"
      },
      {
        "duration": 9,
        "start_time": "2023-01-21T14:58:11.940Z"
      },
      {
        "duration": 517,
        "start_time": "2023-01-21T15:00:40.942Z"
      },
      {
        "duration": 551,
        "start_time": "2023-01-21T15:05:19.025Z"
      },
      {
        "duration": 2,
        "start_time": "2023-01-21T15:05:38.309Z"
      },
      {
        "duration": 170,
        "start_time": "2023-01-21T15:05:38.314Z"
      },
      {
        "duration": 11,
        "start_time": "2023-01-21T15:05:38.486Z"
      },
      {
        "duration": 31,
        "start_time": "2023-01-21T15:05:38.499Z"
      },
      {
        "duration": 2,
        "start_time": "2023-01-21T15:05:38.532Z"
      },
      {
        "duration": 8,
        "start_time": "2023-01-21T15:05:38.536Z"
      },
      {
        "duration": 9,
        "start_time": "2023-01-21T15:05:38.566Z"
      },
      {
        "duration": 11,
        "start_time": "2023-01-21T15:05:38.577Z"
      },
      {
        "duration": 28,
        "start_time": "2023-01-21T15:05:38.589Z"
      },
      {
        "duration": 17,
        "start_time": "2023-01-21T15:05:38.619Z"
      },
      {
        "duration": 40,
        "start_time": "2023-01-21T15:05:38.638Z"
      },
      {
        "duration": 60,
        "start_time": "2023-01-21T15:05:38.680Z"
      },
      {
        "duration": 75,
        "start_time": "2023-01-21T15:05:38.742Z"
      },
      {
        "duration": 55,
        "start_time": "2023-01-21T15:05:38.819Z"
      },
      {
        "duration": 39,
        "start_time": "2023-01-21T15:05:38.876Z"
      },
      {
        "duration": 92,
        "start_time": "2023-01-21T15:05:38.916Z"
      },
      {
        "duration": 8,
        "start_time": "2023-01-21T15:05:39.867Z"
      },
      {
        "duration": 51,
        "start_time": "2023-01-21T15:05:46.062Z"
      },
      {
        "duration": 37,
        "start_time": "2023-01-21T15:05:49.034Z"
      },
      {
        "duration": 5,
        "start_time": "2023-01-21T15:11:30.160Z"
      },
      {
        "duration": 36,
        "start_time": "2023-01-21T15:15:01.305Z"
      },
      {
        "duration": 2006,
        "start_time": "2023-01-21T15:15:43.114Z"
      },
      {
        "duration": 301,
        "start_time": "2023-01-21T15:15:53.149Z"
      },
      {
        "duration": 34,
        "start_time": "2023-01-21T15:19:44.597Z"
      },
      {
        "duration": 16,
        "start_time": "2023-01-21T15:20:05.143Z"
      },
      {
        "duration": 29,
        "start_time": "2023-01-21T15:22:27.356Z"
      },
      {
        "duration": 13,
        "start_time": "2023-01-21T15:22:35.789Z"
      },
      {
        "duration": 7,
        "start_time": "2023-01-21T15:45:37.763Z"
      },
      {
        "duration": 4,
        "start_time": "2023-01-21T15:45:44.043Z"
      },
      {
        "duration": 19,
        "start_time": "2023-01-21T15:45:46.709Z"
      },
      {
        "duration": 33,
        "start_time": "2023-01-21T15:46:11.354Z"
      },
      {
        "duration": 15,
        "start_time": "2023-01-21T15:46:28.697Z"
      },
      {
        "duration": 14,
        "start_time": "2023-01-21T15:46:38.714Z"
      },
      {
        "duration": 16,
        "start_time": "2023-01-21T15:46:47.553Z"
      },
      {
        "duration": 15,
        "start_time": "2023-01-21T15:46:56.908Z"
      },
      {
        "duration": 9,
        "start_time": "2023-01-21T15:53:28.644Z"
      },
      {
        "duration": 16,
        "start_time": "2023-01-21T15:55:02.780Z"
      },
      {
        "duration": 14,
        "start_time": "2023-01-21T15:55:16.002Z"
      },
      {
        "duration": 4,
        "start_time": "2023-01-21T15:55:25.069Z"
      },
      {
        "duration": 185,
        "start_time": "2023-01-21T15:55:25.075Z"
      },
      {
        "duration": 11,
        "start_time": "2023-01-21T15:55:25.262Z"
      },
      {
        "duration": 32,
        "start_time": "2023-01-21T15:55:25.274Z"
      },
      {
        "duration": 2,
        "start_time": "2023-01-21T15:55:25.308Z"
      },
      {
        "duration": 6,
        "start_time": "2023-01-21T15:55:25.312Z"
      },
      {
        "duration": 9,
        "start_time": "2023-01-21T15:55:25.319Z"
      },
      {
        "duration": 5,
        "start_time": "2023-01-21T15:55:25.330Z"
      },
      {
        "duration": 27,
        "start_time": "2023-01-21T15:55:25.366Z"
      },
      {
        "duration": 19,
        "start_time": "2023-01-21T15:55:25.395Z"
      },
      {
        "duration": 25,
        "start_time": "2023-01-21T15:55:25.416Z"
      },
      {
        "duration": 87,
        "start_time": "2023-01-21T15:55:25.442Z"
      },
      {
        "duration": 74,
        "start_time": "2023-01-21T15:55:25.531Z"
      },
      {
        "duration": 62,
        "start_time": "2023-01-21T15:55:25.607Z"
      },
      {
        "duration": 37,
        "start_time": "2023-01-21T15:55:25.671Z"
      },
      {
        "duration": 90,
        "start_time": "2023-01-21T15:55:25.709Z"
      },
      {
        "duration": 40,
        "start_time": "2023-01-21T15:55:25.800Z"
      },
      {
        "duration": 27,
        "start_time": "2023-01-21T15:55:25.841Z"
      },
      {
        "duration": 11,
        "start_time": "2023-01-21T15:55:25.870Z"
      },
      {
        "duration": 3,
        "start_time": "2023-01-21T15:55:25.883Z"
      },
      {
        "duration": 24,
        "start_time": "2023-01-21T15:55:25.887Z"
      },
      {
        "duration": 16,
        "start_time": "2023-01-21T15:55:25.912Z"
      },
      {
        "duration": 14,
        "start_time": "2023-01-21T15:55:25.929Z"
      },
      {
        "duration": 35,
        "start_time": "2023-01-21T15:55:25.944Z"
      },
      {
        "duration": 17,
        "start_time": "2023-01-21T15:55:25.980Z"
      },
      {
        "duration": 16,
        "start_time": "2023-01-21T15:55:25.998Z"
      },
      {
        "duration": 18,
        "start_time": "2023-01-21T15:55:26.487Z"
      },
      {
        "duration": 10,
        "start_time": "2023-01-21T15:59:25.610Z"
      },
      {
        "duration": 8,
        "start_time": "2023-01-21T15:59:33.981Z"
      },
      {
        "duration": 718,
        "start_time": "2023-01-21T16:03:37.994Z"
      },
      {
        "duration": 384,
        "start_time": "2023-01-21T16:03:51.010Z"
      },
      {
        "duration": 13,
        "start_time": "2023-01-21T16:04:16.388Z"
      },
      {
        "duration": 8,
        "start_time": "2023-01-21T16:04:36.532Z"
      },
      {
        "duration": 10,
        "start_time": "2023-01-21T16:04:38.957Z"
      },
      {
        "duration": 56,
        "start_time": "2023-01-21T16:22:52.169Z"
      },
      {
        "duration": 10,
        "start_time": "2023-01-21T16:22:57.406Z"
      },
      {
        "duration": 60,
        "start_time": "2023-01-21T16:23:07.649Z"
      },
      {
        "duration": 700,
        "start_time": "2023-01-21T16:26:14.073Z"
      },
      {
        "duration": 3,
        "start_time": "2023-01-21T16:26:22.063Z"
      },
      {
        "duration": 172,
        "start_time": "2023-01-21T16:26:22.068Z"
      },
      {
        "duration": 10,
        "start_time": "2023-01-21T16:26:22.242Z"
      },
      {
        "duration": 39,
        "start_time": "2023-01-21T16:26:22.254Z"
      },
      {
        "duration": 2,
        "start_time": "2023-01-21T16:26:22.295Z"
      },
      {
        "duration": 10,
        "start_time": "2023-01-21T16:26:22.299Z"
      },
      {
        "duration": 11,
        "start_time": "2023-01-21T16:26:22.311Z"
      },
      {
        "duration": 4,
        "start_time": "2023-01-21T16:26:22.324Z"
      },
      {
        "duration": 49,
        "start_time": "2023-01-21T16:26:22.331Z"
      },
      {
        "duration": 18,
        "start_time": "2023-01-21T16:26:22.382Z"
      },
      {
        "duration": 24,
        "start_time": "2023-01-21T16:26:22.402Z"
      },
      {
        "duration": 83,
        "start_time": "2023-01-21T16:26:22.428Z"
      },
      {
        "duration": 73,
        "start_time": "2023-01-21T16:26:22.513Z"
      },
      {
        "duration": 56,
        "start_time": "2023-01-21T16:26:22.588Z"
      },
      {
        "duration": 51,
        "start_time": "2023-01-21T16:26:22.646Z"
      },
      {
        "duration": 90,
        "start_time": "2023-01-21T16:26:22.699Z"
      },
      {
        "duration": 38,
        "start_time": "2023-01-21T16:26:22.791Z"
      },
      {
        "duration": 11,
        "start_time": "2023-01-21T16:26:22.831Z"
      },
      {
        "duration": 27,
        "start_time": "2023-01-21T16:26:22.844Z"
      },
      {
        "duration": 5,
        "start_time": "2023-01-21T16:26:22.873Z"
      },
      {
        "duration": 20,
        "start_time": "2023-01-21T16:26:22.880Z"
      },
      {
        "duration": 13,
        "start_time": "2023-01-21T16:26:22.901Z"
      },
      {
        "duration": 13,
        "start_time": "2023-01-21T16:26:22.916Z"
      },
      {
        "duration": 17,
        "start_time": "2023-01-21T16:26:22.967Z"
      },
      {
        "duration": 17,
        "start_time": "2023-01-21T16:26:22.985Z"
      },
      {
        "duration": 20,
        "start_time": "2023-01-21T16:26:23.004Z"
      },
      {
        "duration": 9,
        "start_time": "2023-01-21T16:26:23.025Z"
      },
      {
        "duration": 757,
        "start_time": "2023-01-21T16:26:23.871Z"
      },
      {
        "duration": 5,
        "start_time": "2023-01-21T16:28:15.956Z"
      },
      {
        "duration": 5,
        "start_time": "2023-01-21T16:28:28.941Z"
      },
      {
        "duration": 7,
        "start_time": "2023-01-21T16:29:35.852Z"
      },
      {
        "duration": 11,
        "start_time": "2023-01-21T16:29:41.003Z"
      },
      {
        "duration": 6,
        "start_time": "2023-01-21T16:31:00.791Z"
      },
      {
        "duration": 5,
        "start_time": "2023-01-21T16:32:33.550Z"
      },
      {
        "duration": 49,
        "start_time": "2023-01-23T11:53:38.505Z"
      },
      {
        "duration": 6,
        "start_time": "2023-01-23T11:53:49.448Z"
      },
      {
        "duration": 12,
        "start_time": "2023-01-23T11:53:50.971Z"
      },
      {
        "duration": 60,
        "start_time": "2023-01-23T11:53:58.574Z"
      },
      {
        "duration": 417,
        "start_time": "2023-01-23T11:54:25.660Z"
      },
      {
        "duration": 444,
        "start_time": "2023-01-23T11:54:26.079Z"
      },
      {
        "duration": 17,
        "start_time": "2023-01-23T11:54:26.525Z"
      },
      {
        "duration": 30,
        "start_time": "2023-01-23T11:54:26.544Z"
      },
      {
        "duration": 5,
        "start_time": "2023-01-23T11:54:26.575Z"
      },
      {
        "duration": 9,
        "start_time": "2023-01-23T11:54:26.581Z"
      },
      {
        "duration": 17,
        "start_time": "2023-01-23T11:54:26.592Z"
      },
      {
        "duration": 6,
        "start_time": "2023-01-23T11:54:26.611Z"
      },
      {
        "duration": 32,
        "start_time": "2023-01-23T11:54:26.619Z"
      },
      {
        "duration": 28,
        "start_time": "2023-01-23T11:54:26.654Z"
      },
      {
        "duration": 41,
        "start_time": "2023-01-23T11:54:26.684Z"
      },
      {
        "duration": 86,
        "start_time": "2023-01-23T11:54:26.728Z"
      },
      {
        "duration": 88,
        "start_time": "2023-01-23T11:54:26.816Z"
      },
      {
        "duration": 71,
        "start_time": "2023-01-23T11:54:26.905Z"
      },
      {
        "duration": 45,
        "start_time": "2023-01-23T11:54:26.977Z"
      },
      {
        "duration": 104,
        "start_time": "2023-01-23T11:54:27.024Z"
      },
      {
        "duration": 48,
        "start_time": "2023-01-23T11:54:27.129Z"
      },
      {
        "duration": 12,
        "start_time": "2023-01-23T11:54:27.179Z"
      },
      {
        "duration": 12,
        "start_time": "2023-01-23T11:54:27.192Z"
      },
      {
        "duration": 5,
        "start_time": "2023-01-23T11:54:27.206Z"
      },
      {
        "duration": 21,
        "start_time": "2023-01-23T11:54:27.212Z"
      },
      {
        "duration": 38,
        "start_time": "2023-01-23T11:54:27.235Z"
      },
      {
        "duration": 15,
        "start_time": "2023-01-23T11:54:27.274Z"
      },
      {
        "duration": 13,
        "start_time": "2023-01-23T11:54:27.290Z"
      },
      {
        "duration": 19,
        "start_time": "2023-01-23T11:54:27.304Z"
      },
      {
        "duration": 14,
        "start_time": "2023-01-23T11:54:27.325Z"
      },
      {
        "duration": 8,
        "start_time": "2023-01-23T11:54:27.367Z"
      },
      {
        "duration": 8,
        "start_time": "2023-01-23T11:54:31.904Z"
      },
      {
        "duration": 7,
        "start_time": "2023-01-23T11:54:50.775Z"
      },
      {
        "duration": 6,
        "start_time": "2023-01-23T11:55:32.016Z"
      },
      {
        "duration": 6,
        "start_time": "2023-01-23T11:55:49.318Z"
      },
      {
        "duration": 5,
        "start_time": "2023-01-23T11:56:41.558Z"
      },
      {
        "duration": 5,
        "start_time": "2023-01-23T11:56:47.937Z"
      },
      {
        "duration": 5,
        "start_time": "2023-01-23T11:56:51.190Z"
      },
      {
        "duration": 5,
        "start_time": "2023-01-23T11:58:46.931Z"
      },
      {
        "duration": 9,
        "start_time": "2023-01-23T12:01:15.548Z"
      },
      {
        "duration": 12,
        "start_time": "2023-01-23T12:03:32.581Z"
      },
      {
        "duration": 36,
        "start_time": "2023-01-23T12:03:36.393Z"
      },
      {
        "duration": 18,
        "start_time": "2023-01-23T12:04:26.183Z"
      },
      {
        "duration": 19,
        "start_time": "2023-01-23T12:06:12.608Z"
      },
      {
        "duration": 6,
        "start_time": "2023-01-23T12:13:55.539Z"
      },
      {
        "duration": 47,
        "start_time": "2023-01-23T12:21:03.453Z"
      },
      {
        "duration": 21,
        "start_time": "2023-01-23T12:21:12.057Z"
      },
      {
        "duration": 94,
        "start_time": "2023-01-23T12:21:29.900Z"
      },
      {
        "duration": 16,
        "start_time": "2023-01-23T12:21:47.195Z"
      },
      {
        "duration": 46,
        "start_time": "2023-01-23T12:23:54.163Z"
      },
      {
        "duration": 59,
        "start_time": "2023-01-23T12:24:35.461Z"
      },
      {
        "duration": 39,
        "start_time": "2023-01-23T12:24:52.650Z"
      },
      {
        "duration": 53,
        "start_time": "2023-01-23T12:25:01.567Z"
      },
      {
        "duration": 56,
        "start_time": "2023-01-23T12:25:42.045Z"
      },
      {
        "duration": 48,
        "start_time": "2023-01-23T12:26:19.660Z"
      },
      {
        "duration": 1137,
        "start_time": "2023-01-23T12:27:15.383Z"
      },
      {
        "duration": 1918,
        "start_time": "2023-01-23T12:27:29.293Z"
      },
      {
        "duration": 1598,
        "start_time": "2023-01-23T12:27:44.214Z"
      },
      {
        "duration": 158,
        "start_time": "2023-01-23T12:28:00.994Z"
      },
      {
        "duration": 54,
        "start_time": "2023-01-23T12:28:15.660Z"
      },
      {
        "duration": 53,
        "start_time": "2023-01-23T12:51:50.567Z"
      },
      {
        "duration": 28,
        "start_time": "2023-01-23T12:52:31.404Z"
      },
      {
        "duration": 32,
        "start_time": "2023-01-23T12:52:41.943Z"
      },
      {
        "duration": 60,
        "start_time": "2023-01-23T12:52:45.538Z"
      },
      {
        "duration": 26,
        "start_time": "2023-01-23T12:52:49.414Z"
      },
      {
        "duration": 28,
        "start_time": "2023-01-23T12:52:53.331Z"
      },
      {
        "duration": 33,
        "start_time": "2023-01-23T12:52:55.905Z"
      },
      {
        "duration": 1275,
        "start_time": "2023-01-23T12:53:37.149Z"
      },
      {
        "duration": 1365,
        "start_time": "2023-01-23T12:53:47.813Z"
      },
      {
        "duration": 1222,
        "start_time": "2023-01-23T12:54:11.716Z"
      },
      {
        "duration": 48,
        "start_time": "2023-01-23T12:54:20.457Z"
      },
      {
        "duration": 37,
        "start_time": "2023-01-23T12:54:26.663Z"
      },
      {
        "duration": 6,
        "start_time": "2023-01-23T12:55:08.556Z"
      },
      {
        "duration": 7,
        "start_time": "2023-01-23T12:57:57.611Z"
      },
      {
        "duration": 7,
        "start_time": "2023-01-23T12:58:13.437Z"
      },
      {
        "duration": 15,
        "start_time": "2023-01-23T12:58:53.103Z"
      },
      {
        "duration": 19,
        "start_time": "2023-01-23T13:02:54.427Z"
      },
      {
        "duration": 23,
        "start_time": "2023-01-23T13:03:09.426Z"
      },
      {
        "duration": 24,
        "start_time": "2023-01-23T13:03:18.300Z"
      },
      {
        "duration": 26,
        "start_time": "2023-01-23T13:03:27.519Z"
      },
      {
        "duration": 32,
        "start_time": "2023-01-23T13:03:29.397Z"
      },
      {
        "duration": 50,
        "start_time": "2023-01-23T13:03:50.506Z"
      },
      {
        "duration": 13,
        "start_time": "2023-01-23T13:04:43.513Z"
      },
      {
        "duration": 23,
        "start_time": "2023-01-23T13:04:45.200Z"
      },
      {
        "duration": 12,
        "start_time": "2023-01-23T13:04:46.631Z"
      },
      {
        "duration": 14,
        "start_time": "2023-01-23T13:05:40.934Z"
      },
      {
        "duration": 15,
        "start_time": "2023-01-23T13:05:44.857Z"
      },
      {
        "duration": 20,
        "start_time": "2023-01-23T13:05:54.669Z"
      },
      {
        "duration": 25,
        "start_time": "2023-01-23T13:06:10.609Z"
      },
      {
        "duration": 41,
        "start_time": "2023-01-23T13:06:12.759Z"
      },
      {
        "duration": 13,
        "start_time": "2023-01-23T13:06:14.236Z"
      },
      {
        "duration": 20,
        "start_time": "2023-01-23T13:07:37.907Z"
      },
      {
        "duration": 11,
        "start_time": "2023-01-23T13:07:39.598Z"
      },
      {
        "duration": 18,
        "start_time": "2023-01-23T13:07:41.503Z"
      },
      {
        "duration": 13,
        "start_time": "2023-01-23T13:07:44.046Z"
      },
      {
        "duration": 28,
        "start_time": "2023-01-23T13:07:56.248Z"
      },
      {
        "duration": 23,
        "start_time": "2023-01-23T13:08:00.387Z"
      },
      {
        "duration": 64,
        "start_time": "2023-01-23T15:45:21.998Z"
      },
      {
        "duration": 450,
        "start_time": "2023-01-23T15:45:27.752Z"
      },
      {
        "duration": 261,
        "start_time": "2023-01-23T15:45:28.204Z"
      },
      {
        "duration": 19,
        "start_time": "2023-01-23T15:45:28.467Z"
      },
      {
        "duration": 43,
        "start_time": "2023-01-23T15:45:28.489Z"
      },
      {
        "duration": 3,
        "start_time": "2023-01-23T15:45:28.534Z"
      },
      {
        "duration": 17,
        "start_time": "2023-01-23T15:45:28.539Z"
      },
      {
        "duration": 22,
        "start_time": "2023-01-23T15:45:28.558Z"
      },
      {
        "duration": 15,
        "start_time": "2023-01-23T15:45:28.582Z"
      },
      {
        "duration": 31,
        "start_time": "2023-01-23T15:45:28.599Z"
      },
      {
        "duration": 24,
        "start_time": "2023-01-23T15:45:28.633Z"
      },
      {
        "duration": 36,
        "start_time": "2023-01-23T15:45:28.658Z"
      },
      {
        "duration": 75,
        "start_time": "2023-01-23T15:45:28.695Z"
      },
      {
        "duration": 91,
        "start_time": "2023-01-23T15:45:28.771Z"
      },
      {
        "duration": 84,
        "start_time": "2023-01-23T15:45:28.864Z"
      },
      {
        "duration": 56,
        "start_time": "2023-01-23T15:45:28.950Z"
      },
      {
        "duration": 109,
        "start_time": "2023-01-23T15:45:29.008Z"
      },
      {
        "duration": 47,
        "start_time": "2023-01-23T15:45:29.119Z"
      },
      {
        "duration": 27,
        "start_time": "2023-01-23T15:45:29.168Z"
      },
      {
        "duration": 16,
        "start_time": "2023-01-23T15:45:29.198Z"
      },
      {
        "duration": 5,
        "start_time": "2023-01-23T15:45:29.215Z"
      },
      {
        "duration": 32,
        "start_time": "2023-01-23T15:45:29.222Z"
      },
      {
        "duration": 41,
        "start_time": "2023-01-23T15:45:29.256Z"
      },
      {
        "duration": 17,
        "start_time": "2023-01-23T15:45:29.299Z"
      },
      {
        "duration": 45,
        "start_time": "2023-01-23T15:45:29.317Z"
      },
      {
        "duration": 20,
        "start_time": "2023-01-23T15:45:29.364Z"
      },
      {
        "duration": 19,
        "start_time": "2023-01-23T15:45:29.385Z"
      },
      {
        "duration": 16,
        "start_time": "2023-01-23T15:45:29.405Z"
      },
      {
        "duration": 27,
        "start_time": "2023-01-23T15:45:29.424Z"
      },
      {
        "duration": 10,
        "start_time": "2023-01-23T15:45:29.453Z"
      },
      {
        "duration": 5,
        "start_time": "2023-01-23T15:45:29.465Z"
      },
      {
        "duration": 21,
        "start_time": "2023-01-23T15:45:33.987Z"
      },
      {
        "duration": 14,
        "start_time": "2023-01-23T15:45:35.097Z"
      },
      {
        "duration": 22,
        "start_time": "2023-01-23T15:45:35.661Z"
      },
      {
        "duration": 14,
        "start_time": "2023-01-23T15:45:35.888Z"
      },
      {
        "duration": 5,
        "start_time": "2023-01-23T15:46:00.554Z"
      },
      {
        "duration": 20,
        "start_time": "2023-01-23T15:46:02.737Z"
      },
      {
        "duration": 17,
        "start_time": "2023-01-23T15:46:04.617Z"
      },
      {
        "duration": 21,
        "start_time": "2023-01-23T15:46:04.834Z"
      },
      {
        "duration": 13,
        "start_time": "2023-01-23T15:46:05.149Z"
      },
      {
        "duration": 32,
        "start_time": "2023-01-23T15:47:36.387Z"
      },
      {
        "duration": 431,
        "start_time": "2023-01-23T15:47:45.854Z"
      },
      {
        "duration": 398,
        "start_time": "2023-01-23T15:47:54.027Z"
      },
      {
        "duration": 9,
        "start_time": "2023-01-23T15:48:05.054Z"
      },
      {
        "duration": 412,
        "start_time": "2023-01-23T15:48:09.000Z"
      },
      {
        "duration": 9,
        "start_time": "2023-01-23T15:48:24.814Z"
      },
      {
        "duration": 35,
        "start_time": "2023-01-23T15:48:31.497Z"
      },
      {
        "duration": 8,
        "start_time": "2023-01-23T15:49:50.301Z"
      },
      {
        "duration": 11,
        "start_time": "2023-01-23T15:49:55.901Z"
      },
      {
        "duration": 30,
        "start_time": "2023-01-23T15:50:34.431Z"
      },
      {
        "duration": 32,
        "start_time": "2023-01-23T15:52:36.593Z"
      },
      {
        "duration": 17,
        "start_time": "2023-01-23T15:52:40.027Z"
      },
      {
        "duration": 9,
        "start_time": "2023-01-23T15:55:10.854Z"
      },
      {
        "duration": 12,
        "start_time": "2023-01-23T15:55:17.118Z"
      },
      {
        "duration": 66,
        "start_time": "2023-01-23T15:55:22.607Z"
      },
      {
        "duration": 14,
        "start_time": "2023-01-23T15:55:38.346Z"
      },
      {
        "duration": 14,
        "start_time": "2023-01-23T15:55:39.842Z"
      },
      {
        "duration": 13,
        "start_time": "2023-01-23T15:55:45.070Z"
      },
      {
        "duration": 29,
        "start_time": "2023-01-23T15:57:09.434Z"
      },
      {
        "duration": 20,
        "start_time": "2023-01-23T15:57:16.985Z"
      },
      {
        "duration": 12,
        "start_time": "2023-01-23T15:57:21.738Z"
      },
      {
        "duration": 9,
        "start_time": "2023-01-23T15:57:38.754Z"
      },
      {
        "duration": 5,
        "start_time": "2023-01-23T15:58:04.154Z"
      },
      {
        "duration": 7,
        "start_time": "2023-01-23T15:58:52.546Z"
      },
      {
        "duration": 2,
        "start_time": "2023-01-23T15:59:01.806Z"
      },
      {
        "duration": 5,
        "start_time": "2023-01-23T15:59:10.082Z"
      }
    ],
    "colab": {
      "provenance": [],
      "toc_visible": true
    },
    "kernelspec": {
      "display_name": "Python 3 (ipykernel)",
      "language": "python",
      "name": "python3"
    },
    "language_info": {
      "codemirror_mode": {
        "name": "ipython",
        "version": 3
      },
      "file_extension": ".py",
      "mimetype": "text/x-python",
      "name": "python",
      "nbconvert_exporter": "python",
      "pygments_lexer": "ipython3",
      "version": "3.9.5"
    },
    "toc": {
      "base_numbering": 1,
      "nav_menu": {
        "height": "215px",
        "width": "403px"
      },
      "number_sections": true,
      "sideBar": true,
      "skip_h1_title": true,
      "title_cell": "Table of Contents",
      "title_sidebar": "Contents",
      "toc_cell": false,
      "toc_position": {
        "height": "calc(100% - 180px)",
        "left": "10px",
        "top": "150px",
        "width": "285.825px"
      },
      "toc_section_display": true,
      "toc_window_display": false
    }
  },
  "nbformat": 4,
  "nbformat_minor": 0
}