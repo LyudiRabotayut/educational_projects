{
  "cells": [
    {
      "cell_type": "markdown",
      "metadata": {
        "toc": true,
        "id": "KcgaVdMEzK6k"
      },
      "source": [
        "<h1>Содержание<span class=\"tocSkip\"></span></h1>\n",
        "<div class=\"toc\"><ul class=\"toc-item\"><li><span><a href=\"#Подготовка-данных\" data-toc-modified-id=\"Подготовка-данных-1\"><span class=\"toc-item-num\">1&nbsp;&nbsp;</span>Подготовка данных</a></span><ul class=\"toc-item\"><li><span><a href=\"#Проверка-правильности-расчёта-эффективности-обогощения\" data-toc-modified-id=\"Проверка-правильности-расчёта-эффективности-обогощения-1.1\"><span class=\"toc-item-num\">1.1&nbsp;&nbsp;</span>Проверка правильности расчёта эффективности обогощения</a></span></li><li><span><a href=\"#Анализ-признаков,-недоступных-в-тестовой-в-выборке\" data-toc-modified-id=\"Анализ-признаков,-недоступных-в-тестовой-в-выборке-1.2\"><span class=\"toc-item-num\">1.2&nbsp;&nbsp;</span>Анализ признаков, недоступных в тестовой в выборке</a></span></li><li><span><a href=\"#Предобработка-данных\" data-toc-modified-id=\"Предобработка-данных-1.3\"><span class=\"toc-item-num\">1.3&nbsp;&nbsp;</span>Предобработка данных</a></span><ul class=\"toc-item\"><li><span><a href=\"#Пропуски\" data-toc-modified-id=\"Пропуски-1.3.1\"><span class=\"toc-item-num\">1.3.1&nbsp;&nbsp;</span>Пропуски</a></span></li><li><span><a href=\"#Изучение-структуры-и-основных-характеристик-данных\" data-toc-modified-id=\"Изучение-структуры-и-основных-характеристик-данных-1.3.2\"><span class=\"toc-item-num\">1.3.2&nbsp;&nbsp;</span>Изучение структуры и основных характеристик данных</a></span></li></ul></li><li><span><a href=\"#Подвывод\" data-toc-modified-id=\"Подвывод-1.4\"><span class=\"toc-item-num\">1.4&nbsp;&nbsp;</span>Подвывод</a></span></li></ul></li><li><span><a href=\"#Анализ-данных\" data-toc-modified-id=\"Анализ-данных-2\"><span class=\"toc-item-num\">2&nbsp;&nbsp;</span>Анализ данных</a></span><ul class=\"toc-item\"><li><span><a href=\"#Как-меняется-концентрация-металлов-(Au,-Ag,-Pb)-на-различных-этапах\" data-toc-modified-id=\"Как-меняется-концентрация-металлов-(Au,-Ag,-Pb)-на-различных-этапах-2.1\"><span class=\"toc-item-num\">2.1&nbsp;&nbsp;</span>Как меняется концентрация металлов (Au, Ag, Pb) на различных этапах</a></span></li><li><span><a href=\"#Распределения-размеров-гранул-исходного-сырья-на-обучающей-и-тестовой-выборках\" data-toc-modified-id=\"Распределения-размеров-гранул-исходного-сырья-на-обучающей-и-тестовой-выборках-2.2\"><span class=\"toc-item-num\">2.2&nbsp;&nbsp;</span>Распределения размеров гранул исходного сырья на обучающей и тестовой выборках</a></span></li><li><span><a href=\"#Суммарная-концентрация-металлов-на-разных-стадиях\" data-toc-modified-id=\"Суммарная-концентрация-металлов-на-разных-стадиях-2.3\"><span class=\"toc-item-num\">2.3&nbsp;&nbsp;</span>Суммарная концентрация металлов на разных стадиях</a></span></li><li><span><a href=\"#Подвывод\" data-toc-modified-id=\"Подвывод-2.4\"><span class=\"toc-item-num\">2.4&nbsp;&nbsp;</span>Подвывод</a></span></li></ul></li><li><span><a href=\"#Модель\" data-toc-modified-id=\"Модель-3\"><span class=\"toc-item-num\">3&nbsp;&nbsp;</span>Модель</a></span><ul class=\"toc-item\"><li><span><a href=\"#Функция-sMAPE\" data-toc-modified-id=\"Функция-sMAPE-3.1\"><span class=\"toc-item-num\">3.1&nbsp;&nbsp;</span>Функция sMAPE</a></span></li><li><span><a href=\"#Делим-на-основые-и-целевые-признаки\" data-toc-modified-id=\"Делим-на-основые-и-целевые-признаки-3.2\"><span class=\"toc-item-num\">3.2&nbsp;&nbsp;</span>Делим на основые и целевые признаки</a></span></li><li><span><a href=\"#Стандартизация\" data-toc-modified-id=\"Стандартизация-3.3\"><span class=\"toc-item-num\">3.3&nbsp;&nbsp;</span>Стандартизация</a></span></li><li><span><a href=\"#Обучение\" data-toc-modified-id=\"Обучение-3.4\"><span class=\"toc-item-num\">3.4&nbsp;&nbsp;</span>Обучение</a></span><ul class=\"toc-item\"><li><span><a href=\"#Линейная-регрессия\" data-toc-modified-id=\"Линейная-регрессия-3.4.1\"><span class=\"toc-item-num\">3.4.1&nbsp;&nbsp;</span>Линейная регрессия</a></span></li><li><span><a href=\"#Дерево-решений\" data-toc-modified-id=\"Дерево-решений-3.4.2\"><span class=\"toc-item-num\">3.4.2&nbsp;&nbsp;</span>Дерево решений</a></span></li><li><span><a href=\"#XGBoost\" data-toc-modified-id=\"XGBoost-3.4.3\"><span class=\"toc-item-num\">3.4.3&nbsp;&nbsp;</span>XGBoost</a></span></li><li><span><a href=\"#Catboost\" data-toc-modified-id=\"Catboost-3.4.4\"><span class=\"toc-item-num\">3.4.4&nbsp;&nbsp;</span>Catboost</a></span></li><li><span><a href=\"#Лучшая-модель\" data-toc-modified-id=\"Лучшая-модель-3.4.5\"><span class=\"toc-item-num\">3.4.5&nbsp;&nbsp;</span>Лучшая модель</a></span></li></ul></li><li><span><a href=\"#Проверка-на-тестовой-выборке\" data-toc-modified-id=\"Проверка-на-тестовой-выборке-3.5\"><span class=\"toc-item-num\">3.5&nbsp;&nbsp;</span>Проверка на тестовой выборке</a></span><ul class=\"toc-item\"><li><span><a href=\"#Результат-на-тестовой-выборке\" data-toc-modified-id=\"Результат-на-тестовой-выборке-3.5.1\"><span class=\"toc-item-num\">3.5.1&nbsp;&nbsp;</span>Результат на тестовой выборке</a></span></li><li><span><a href=\"#Проверка-на-адекватность\" data-toc-modified-id=\"Проверка-на-адекватность-3.5.2\"><span class=\"toc-item-num\">3.5.2&nbsp;&nbsp;</span>Проверка на адекватность</a></span></li></ul></li><li><span><a href=\"#Подвывод\" data-toc-modified-id=\"Подвывод-3.6\"><span class=\"toc-item-num\">3.6&nbsp;&nbsp;</span>Подвывод</a></span></li></ul></li><li><span><a href=\"#Вывод\" data-toc-modified-id=\"Вывод-4\"><span class=\"toc-item-num\">4&nbsp;&nbsp;</span>Вывод</a></span></li></ul></div>"
      ]
    },
    {
      "cell_type": "markdown",
      "metadata": {
        "id": "RhIm2zzjzK6l"
      },
      "source": [
        "# Восстановление золота из руды"
      ]
    },
    {
      "cell_type": "markdown",
      "metadata": {
        "id": "HHJ3knWUzK6l"
      },
      "source": [
        "\n",
        "Задача:\n",
        "\n",
        "Спрогнозировать концентрацию золота при проведении процесса очистки золота"
      ]
    },
    {
      "cell_type": "markdown",
      "metadata": {
        "id": "tzQpEhs7zK6l"
      },
      "source": [
        "Технологический процесс:\n",
        "\n",
        " - Rougher feed — исходное сырье\n",
        " - Rougher additions (или reagent additions) — флотационные реагенты: Xanthate, Sulphate, Depressant\n",
        " - Xanthate — ксантогенат (промотер, или активатор флотации);\n",
        " - Sulphate — сульфат (на данном производстве сульфид натрия);\n",
        " - Depressant — депрессант (силикат натрия).\n",
        " - Rougher process (англ. «грубый процесс») — флотация\n",
        " - Rougher tails — отвальные хвосты\n",
        " - Float banks — флотационная установка\n",
        " - Cleaner process — очистка\n",
        " - Rougher Au — черновой концентрат золота\n",
        " - Final Au — финальный концентрат золота"
      ]
    },
    {
      "cell_type": "markdown",
      "metadata": {
        "id": "-mUjfy50zK6m"
      },
      "source": [
        "Параметры этапов:\n",
        " - air amount — объём воздуха\n",
        " - fluid levels — уровень жидкости\n",
        " - feed size — размер гранул сырья\n",
        " - feed rate — скорость подачи"
      ]
    },
    {
      "cell_type": "markdown",
      "metadata": {
        "id": "aO5HTIKGzK6m"
      },
      "source": [
        "## Подготовка данных"
      ]
    },
    {
      "cell_type": "code",
      "execution_count": null,
      "metadata": {
        "id": "nw4atzvyzK6n"
      },
      "outputs": [],
      "source": [
        "# Импортируем библиотеки\n",
        "import pandas as pd\n",
        "import numpy as np\n",
        "import math\n",
        "import matplotlib.pyplot as plt\n",
        "import scipy.stats as stats\n",
        "import xgboost as xgb\n",
        "\n",
        "from sklearn.model_selection import GridSearchCV, RandomizedSearchCV\n",
        "from sklearn.linear_model import LinearRegression\n",
        "from sklearn.tree import DecisionTreeRegressor\n",
        "from sklearn.ensemble import RandomForestRegressor\n",
        "from sklearn.preprocessing import StandardScaler\n",
        "from sklearn.dummy import DummyRegressor\n",
        "from sklearn.metrics import make_scorer, mean_absolute_error\n",
        "from sklearn.model_selection import cross_val_score\n",
        "from catboost import CatBoostRegressor"
      ]
    },
    {
      "cell_type": "code",
      "execution_count": null,
      "metadata": {
        "id": "UW1bjvF1zK6p"
      },
      "outputs": [],
      "source": [
        "# Загружаем данные\n",
        "try:\n",
        "    gold_industry_train = pd.read_csv('/datasets/gold_industry_train.csv')\n",
        "    gold_industry_test = pd.read_csv('/datasets/gold_industry_test.csv')\n",
        "    gold_industry_full = pd.read_csv('/datasets/gold_industry_full.csv')\n",
        "except:\n",
        "    gold_industry_train = pd.read_csv('D:\\DataHome\\Руда\\gold_industry_train.csv')\n",
        "    gold_industry_test = pd.read_csv('D:\\DataHome\\Руда\\gold_industry_test.csv')\n",
        "    gold_industry_full = pd.read_csv('D:\\DataHome\\Руда\\gold_industry_full.csv')"
      ]
    },
    {
      "cell_type": "markdown",
      "metadata": {
        "id": "iwgTqiPhzK6q"
      },
      "source": [
        "### Проверка правильности расчёта эффективности обогощения"
      ]
    },
    {
      "cell_type": "code",
      "execution_count": null,
      "metadata": {
        "id": "AIy_lsGQzK6q"
      },
      "outputs": [],
      "source": [
        "recovery = (gold_industry_train['rougher.output.concentrate_au'] * \\\n",
        "            (gold_industry_train['rougher.input.feed_au'] - gold_industry_train['rougher.output.tail_au'])) * 100 / \\\n",
        "            (gold_industry_train['rougher.input.feed_au'] * \\\n",
        "             (gold_industry_train['rougher.output.concentrate_au'] - gold_industry_train['rougher.output.tail_au']))"
      ]
    },
    {
      "cell_type": "code",
      "execution_count": null,
      "metadata": {
        "id": "ag4XStWvzK6q",
        "outputId": "8101986b-a86f-4a0e-86c8-9117bb45c1cb"
      },
      "outputs": [
        {
          "data": {
            "text/plain": [
              "0        87.107763\n",
              "1        86.843261\n",
              "2        86.842308\n",
              "3        87.226430\n",
              "4        86.688794\n",
              "           ...    \n",
              "14574    87.684717\n",
              "14575    90.677361\n",
              "14576    89.574376\n",
              "14577    87.724007\n",
              "14578    88.890579\n",
              "Length: 14579, dtype: float64"
            ]
          },
          "execution_count": 4,
          "metadata": {},
          "output_type": "execute_result"
        }
      ],
      "source": [
        "recovery"
      ]
    },
    {
      "cell_type": "code",
      "execution_count": null,
      "metadata": {
        "id": "eRBt22YzzK6r",
        "outputId": "dcad11b1-a2ba-417b-f4f5-020d0109f01e"
      },
      "outputs": [
        {
          "data": {
            "text/plain": [
              "1.1181885454685472e-14"
            ]
          },
          "execution_count": 5,
          "metadata": {},
          "output_type": "execute_result"
        }
      ],
      "source": [
        "mean_absolute_error(gold_industry_train['rougher.output.recovery'], recovery)"
      ]
    },
    {
      "cell_type": "markdown",
      "metadata": {
        "id": "P76H0HyfzK6r"
      },
      "source": [
        "Разница между данными recovery посчитанной вручную и уже готовыми данными стремится к нулю, значит наша формула корректная и её можно использовать в расчётах"
      ]
    },
    {
      "cell_type": "markdown",
      "metadata": {
        "id": "Dfkxr5SWzK6s"
      },
      "source": [
        "### Анализ признаков, недоступных в тестовой в выборке"
      ]
    },
    {
      "cell_type": "code",
      "execution_count": null,
      "metadata": {
        "id": "uTlxQBQjzK6s"
      },
      "outputs": [],
      "source": [
        "#Добавляем целевые признаки в тестовую выборку\n",
        "gold_industry_test = gold_industry_test.merge(gold_industry_full[['date','rougher.output.recovery', 'final.output.recovery']],\n",
        "                                              on='date')"
      ]
    },
    {
      "cell_type": "code",
      "execution_count": null,
      "metadata": {
        "id": "ZhhUfGZdzK6s",
        "outputId": "f702b465-3619-4216-940c-ab892a55fdd7"
      },
      "outputs": [
        {
          "data": {
            "text/html": [
              "<div>\n",
              "<style scoped>\n",
              "    .dataframe tbody tr th:only-of-type {\n",
              "        vertical-align: middle;\n",
              "    }\n",
              "\n",
              "    .dataframe tbody tr th {\n",
              "        vertical-align: top;\n",
              "    }\n",
              "\n",
              "    .dataframe thead th {\n",
              "        text-align: right;\n",
              "    }\n",
              "</style>\n",
              "<table border=\"1\" class=\"dataframe\">\n",
              "  <thead>\n",
              "    <tr style=\"text-align: right;\">\n",
              "      <th></th>\n",
              "      <th>date</th>\n",
              "      <th>rougher.input.feed_au</th>\n",
              "      <th>rougher.input.feed_ag</th>\n",
              "      <th>rougher.input.feed_pb</th>\n",
              "      <th>rougher.input.feed_sol</th>\n",
              "      <th>rougher.input.feed_rate</th>\n",
              "      <th>rougher.input.feed_size</th>\n",
              "      <th>rougher.input.floatbank10_sulfate</th>\n",
              "      <th>rougher.input.floatbank10_xanthate</th>\n",
              "      <th>rougher.state.floatbank10_a_air</th>\n",
              "      <th>...</th>\n",
              "      <th>secondary_cleaner.state.floatbank4_b_air</th>\n",
              "      <th>secondary_cleaner.state.floatbank4_b_level</th>\n",
              "      <th>secondary_cleaner.state.floatbank5_a_air</th>\n",
              "      <th>secondary_cleaner.state.floatbank5_a_level</th>\n",
              "      <th>secondary_cleaner.state.floatbank5_b_air</th>\n",
              "      <th>secondary_cleaner.state.floatbank5_b_level</th>\n",
              "      <th>secondary_cleaner.state.floatbank6_a_air</th>\n",
              "      <th>secondary_cleaner.state.floatbank6_a_level</th>\n",
              "      <th>rougher.output.recovery</th>\n",
              "      <th>final.output.recovery</th>\n",
              "    </tr>\n",
              "  </thead>\n",
              "  <tbody>\n",
              "    <tr>\n",
              "      <th>0</th>\n",
              "      <td>2017-12-09 14:59:59</td>\n",
              "      <td>4.365491</td>\n",
              "      <td>6.158718</td>\n",
              "      <td>3.875727</td>\n",
              "      <td>39.135119</td>\n",
              "      <td>555.820208</td>\n",
              "      <td>94.544358</td>\n",
              "      <td>6.146982</td>\n",
              "      <td>9.308612</td>\n",
              "      <td>1196.238112</td>\n",
              "      <td>...</td>\n",
              "      <td>20.020205</td>\n",
              "      <td>-500.220296</td>\n",
              "      <td>17.963512</td>\n",
              "      <td>-499.939490</td>\n",
              "      <td>12.990306</td>\n",
              "      <td>-500.080993</td>\n",
              "      <td>19.990336</td>\n",
              "      <td>-499.191575</td>\n",
              "      <td>89.514960</td>\n",
              "      <td>70.281454</td>\n",
              "    </tr>\n",
              "    <tr>\n",
              "      <th>1</th>\n",
              "      <td>2017-12-09 15:59:59</td>\n",
              "      <td>4.362781</td>\n",
              "      <td>6.048130</td>\n",
              "      <td>3.902537</td>\n",
              "      <td>39.713906</td>\n",
              "      <td>544.731687</td>\n",
              "      <td>123.742430</td>\n",
              "      <td>6.210119</td>\n",
              "      <td>9.297709</td>\n",
              "      <td>1201.904177</td>\n",
              "      <td>...</td>\n",
              "      <td>20.054122</td>\n",
              "      <td>-500.314711</td>\n",
              "      <td>17.979515</td>\n",
              "      <td>-499.272871</td>\n",
              "      <td>12.992404</td>\n",
              "      <td>-499.976268</td>\n",
              "      <td>20.013986</td>\n",
              "      <td>-500.625471</td>\n",
              "      <td>89.858126</td>\n",
              "      <td>65.523246</td>\n",
              "    </tr>\n",
              "    <tr>\n",
              "      <th>2</th>\n",
              "      <td>2017-12-09 16:59:59</td>\n",
              "      <td>5.081681</td>\n",
              "      <td>6.082745</td>\n",
              "      <td>4.564078</td>\n",
              "      <td>37.208683</td>\n",
              "      <td>558.155110</td>\n",
              "      <td>82.610855</td>\n",
              "      <td>7.363824</td>\n",
              "      <td>9.003562</td>\n",
              "      <td>1200.826926</td>\n",
              "      <td>...</td>\n",
              "      <td>20.029144</td>\n",
              "      <td>-500.000662</td>\n",
              "      <td>18.012723</td>\n",
              "      <td>-500.024764</td>\n",
              "      <td>13.016445</td>\n",
              "      <td>-500.058432</td>\n",
              "      <td>19.973767</td>\n",
              "      <td>-501.394155</td>\n",
              "      <td>91.816623</td>\n",
              "      <td>74.817644</td>\n",
              "    </tr>\n",
              "    <tr>\n",
              "      <th>3</th>\n",
              "      <td>2017-12-09 17:59:59</td>\n",
              "      <td>5.145949</td>\n",
              "      <td>6.084374</td>\n",
              "      <td>4.768124</td>\n",
              "      <td>36.808874</td>\n",
              "      <td>539.713765</td>\n",
              "      <td>77.984784</td>\n",
              "      <td>6.927072</td>\n",
              "      <td>8.955597</td>\n",
              "      <td>1199.292489</td>\n",
              "      <td>...</td>\n",
              "      <td>19.977466</td>\n",
              "      <td>-500.159903</td>\n",
              "      <td>17.980463</td>\n",
              "      <td>-500.504602</td>\n",
              "      <td>12.949071</td>\n",
              "      <td>-500.009937</td>\n",
              "      <td>20.010332</td>\n",
              "      <td>-508.337973</td>\n",
              "      <td>88.478959</td>\n",
              "      <td>63.082720</td>\n",
              "    </tr>\n",
              "    <tr>\n",
              "      <th>4</th>\n",
              "      <td>2017-12-09 18:59:59</td>\n",
              "      <td>5.735249</td>\n",
              "      <td>6.165220</td>\n",
              "      <td>4.512346</td>\n",
              "      <td>37.810642</td>\n",
              "      <td>558.713584</td>\n",
              "      <td>86.434874</td>\n",
              "      <td>7.823471</td>\n",
              "      <td>7.490356</td>\n",
              "      <td>1198.005449</td>\n",
              "      <td>...</td>\n",
              "      <td>20.023735</td>\n",
              "      <td>-499.713680</td>\n",
              "      <td>17.990955</td>\n",
              "      <td>-500.334769</td>\n",
              "      <td>13.007523</td>\n",
              "      <td>-499.968459</td>\n",
              "      <td>19.995999</td>\n",
              "      <td>-499.788805</td>\n",
              "      <td>89.230316</td>\n",
              "      <td>74.463380</td>\n",
              "    </tr>\n",
              "  </tbody>\n",
              "</table>\n",
              "<p>5 rows × 55 columns</p>\n",
              "</div>"
            ],
            "text/plain": [
              "                  date  rougher.input.feed_au  rougher.input.feed_ag  \\\n",
              "0  2017-12-09 14:59:59               4.365491               6.158718   \n",
              "1  2017-12-09 15:59:59               4.362781               6.048130   \n",
              "2  2017-12-09 16:59:59               5.081681               6.082745   \n",
              "3  2017-12-09 17:59:59               5.145949               6.084374   \n",
              "4  2017-12-09 18:59:59               5.735249               6.165220   \n",
              "\n",
              "   rougher.input.feed_pb  rougher.input.feed_sol  rougher.input.feed_rate  \\\n",
              "0               3.875727               39.135119               555.820208   \n",
              "1               3.902537               39.713906               544.731687   \n",
              "2               4.564078               37.208683               558.155110   \n",
              "3               4.768124               36.808874               539.713765   \n",
              "4               4.512346               37.810642               558.713584   \n",
              "\n",
              "   rougher.input.feed_size  rougher.input.floatbank10_sulfate  \\\n",
              "0                94.544358                           6.146982   \n",
              "1               123.742430                           6.210119   \n",
              "2                82.610855                           7.363824   \n",
              "3                77.984784                           6.927072   \n",
              "4                86.434874                           7.823471   \n",
              "\n",
              "   rougher.input.floatbank10_xanthate  rougher.state.floatbank10_a_air  ...  \\\n",
              "0                            9.308612                      1196.238112  ...   \n",
              "1                            9.297709                      1201.904177  ...   \n",
              "2                            9.003562                      1200.826926  ...   \n",
              "3                            8.955597                      1199.292489  ...   \n",
              "4                            7.490356                      1198.005449  ...   \n",
              "\n",
              "   secondary_cleaner.state.floatbank4_b_air  \\\n",
              "0                                 20.020205   \n",
              "1                                 20.054122   \n",
              "2                                 20.029144   \n",
              "3                                 19.977466   \n",
              "4                                 20.023735   \n",
              "\n",
              "   secondary_cleaner.state.floatbank4_b_level  \\\n",
              "0                                 -500.220296   \n",
              "1                                 -500.314711   \n",
              "2                                 -500.000662   \n",
              "3                                 -500.159903   \n",
              "4                                 -499.713680   \n",
              "\n",
              "   secondary_cleaner.state.floatbank5_a_air  \\\n",
              "0                                 17.963512   \n",
              "1                                 17.979515   \n",
              "2                                 18.012723   \n",
              "3                                 17.980463   \n",
              "4                                 17.990955   \n",
              "\n",
              "   secondary_cleaner.state.floatbank5_a_level  \\\n",
              "0                                 -499.939490   \n",
              "1                                 -499.272871   \n",
              "2                                 -500.024764   \n",
              "3                                 -500.504602   \n",
              "4                                 -500.334769   \n",
              "\n",
              "   secondary_cleaner.state.floatbank5_b_air  \\\n",
              "0                                 12.990306   \n",
              "1                                 12.992404   \n",
              "2                                 13.016445   \n",
              "3                                 12.949071   \n",
              "4                                 13.007523   \n",
              "\n",
              "   secondary_cleaner.state.floatbank5_b_level  \\\n",
              "0                                 -500.080993   \n",
              "1                                 -499.976268   \n",
              "2                                 -500.058432   \n",
              "3                                 -500.009937   \n",
              "4                                 -499.968459   \n",
              "\n",
              "   secondary_cleaner.state.floatbank6_a_air  \\\n",
              "0                                 19.990336   \n",
              "1                                 20.013986   \n",
              "2                                 19.973767   \n",
              "3                                 20.010332   \n",
              "4                                 19.995999   \n",
              "\n",
              "   secondary_cleaner.state.floatbank6_a_level  rougher.output.recovery  \\\n",
              "0                                 -499.191575                89.514960   \n",
              "1                                 -500.625471                89.858126   \n",
              "2                                 -501.394155                91.816623   \n",
              "3                                 -508.337973                88.478959   \n",
              "4                                 -499.788805                89.230316   \n",
              "\n",
              "   final.output.recovery  \n",
              "0              70.281454  \n",
              "1              65.523246  \n",
              "2              74.817644  \n",
              "3              63.082720  \n",
              "4              74.463380  \n",
              "\n",
              "[5 rows x 55 columns]"
            ]
          },
          "execution_count": 7,
          "metadata": {},
          "output_type": "execute_result"
        }
      ],
      "source": [
        "gold_industry_test.head()"
      ]
    },
    {
      "cell_type": "code",
      "execution_count": null,
      "metadata": {
        "id": "Kk6XxUt8zK6s",
        "outputId": "cab4372e-927a-42f7-e8f0-cd6aa79e2b29"
      },
      "outputs": [
        {
          "data": {
            "text/plain": [
              "55"
            ]
          },
          "execution_count": 8,
          "metadata": {},
          "output_type": "execute_result"
        }
      ],
      "source": [
        "#Кол-во признаков в тестовой выборке\n",
        "len(gold_industry_test.columns)"
      ]
    },
    {
      "cell_type": "code",
      "execution_count": null,
      "metadata": {
        "scrolled": true,
        "id": "sE42_YNozK6t",
        "outputId": "5c69a1fc-bf1c-4f4b-ae60-dddb23b7c245"
      },
      "outputs": [
        {
          "data": {
            "text/plain": [
              "87"
            ]
          },
          "execution_count": 9,
          "metadata": {},
          "output_type": "execute_result"
        }
      ],
      "source": [
        "#Кол-во признаков в тренировочной выборке\n",
        "len(gold_industry_train.columns)"
      ]
    },
    {
      "cell_type": "markdown",
      "metadata": {
        "id": "M66m472vzK6t"
      },
      "source": [
        "В тренировочной выборке больше на 32 признака"
      ]
    },
    {
      "cell_type": "code",
      "execution_count": null,
      "metadata": {
        "id": "UahyqGqUzK6t"
      },
      "outputs": [],
      "source": [
        "#Получаем список с названиями колонок, которых нет в тестовой выборке\n",
        "col_dif = []\n",
        "for i in gold_industry_train.columns:\n",
        "    if i not in (gold_industry_test.columns):\n",
        "        col_dif.append(i)"
      ]
    },
    {
      "cell_type": "code",
      "execution_count": null,
      "metadata": {
        "id": "W-4CrOgHzK6t",
        "outputId": "357d4c62-1418-4be0-e9ff-7425811edc97"
      },
      "outputs": [
        {
          "data": {
            "text/plain": [
              "['rougher.calculation.sulfate_to_au_concentrate',\n",
              " 'rougher.calculation.floatbank10_sulfate_to_au_feed',\n",
              " 'rougher.calculation.floatbank11_sulfate_to_au_feed',\n",
              " 'rougher.calculation.au_pb_ratio',\n",
              " 'rougher.output.concentrate_au',\n",
              " 'rougher.output.concentrate_ag',\n",
              " 'rougher.output.concentrate_pb',\n",
              " 'rougher.output.concentrate_sol',\n",
              " 'rougher.output.tail_au',\n",
              " 'rougher.output.tail_ag',\n",
              " 'rougher.output.tail_pb',\n",
              " 'rougher.output.tail_sol',\n",
              " 'primary_cleaner.output.concentrate_au',\n",
              " 'primary_cleaner.output.concentrate_ag',\n",
              " 'primary_cleaner.output.concentrate_pb',\n",
              " 'primary_cleaner.output.concentrate_sol',\n",
              " 'primary_cleaner.output.tail_au',\n",
              " 'primary_cleaner.output.tail_ag',\n",
              " 'primary_cleaner.output.tail_pb',\n",
              " 'primary_cleaner.output.tail_sol',\n",
              " 'secondary_cleaner.output.tail_au',\n",
              " 'secondary_cleaner.output.tail_ag',\n",
              " 'secondary_cleaner.output.tail_pb',\n",
              " 'secondary_cleaner.output.tail_sol',\n",
              " 'final.output.concentrate_au',\n",
              " 'final.output.concentrate_ag',\n",
              " 'final.output.concentrate_pb',\n",
              " 'final.output.concentrate_sol',\n",
              " 'final.output.tail_au',\n",
              " 'final.output.tail_ag',\n",
              " 'final.output.tail_pb',\n",
              " 'final.output.tail_sol']"
            ]
          },
          "execution_count": 11,
          "metadata": {},
          "output_type": "execute_result"
        }
      ],
      "source": [
        "col_dif"
      ]
    },
    {
      "cell_type": "markdown",
      "metadata": {
        "id": "jcJna3hvzK6t"
      },
      "source": [
        "Можем заметить, что в тестовой выборке не хватает колонок с параметрами output и calculation, конкретнее параметр концетрации в продукте золота, серебра и других материалов, их концетрация в \"хвостах\", а также отсутствует оценка эффективности recovery для продукта. Это связано с тем, что данные параметры относятся к онлайн метрикам, то есть они вычисляются только в работающей системе с реальными данными. Нельзя посчитать их по историческим данным для другой модели, а так как наша тестовая выборка иммитирует реальные условия, значит в ней не может быть оффлайн метрик.\n",
        "\n",
        "Так как в тестовой выборке у нас отсутсвует ряд признаков, значит наша модель не сможет их использовать для предсказания целевого признака, поэтому при обучении мы не будем использовать признаки отсутствующие в тестовой выборке."
      ]
    },
    {
      "cell_type": "code",
      "execution_count": null,
      "metadata": {
        "id": "V0WBpZjazK6w",
        "outputId": "df3321e7-79e9-4643-8472-a9d3ecd0a86f"
      },
      "outputs": [
        {
          "data": {
            "text/plain": [
              "55"
            ]
          },
          "execution_count": 12,
          "metadata": {},
          "output_type": "execute_result"
        }
      ],
      "source": [
        "gold_industry_train = gold_industry_train.drop(col_dif, axis=1)\n",
        "len(gold_industry_train.columns)"
      ]
    },
    {
      "cell_type": "markdown",
      "metadata": {
        "id": "1VhWiFLszK6x"
      },
      "source": [
        "### Предобработка данных"
      ]
    },
    {
      "cell_type": "code",
      "execution_count": null,
      "metadata": {
        "scrolled": true,
        "id": "U585AF1NzK6x",
        "outputId": "02b2cfc3-a57d-4922-dd60-f32ac220b11a"
      },
      "outputs": [
        {
          "name": "stdout",
          "output_type": "stream",
          "text": [
            "<class 'pandas.core.frame.DataFrame'>\n",
            "RangeIndex: 14579 entries, 0 to 14578\n",
            "Data columns (total 55 columns):\n",
            " #   Column                                      Non-Null Count  Dtype  \n",
            "---  ------                                      --------------  -----  \n",
            " 0   date                                        14579 non-null  object \n",
            " 1   rougher.input.feed_au                       14579 non-null  float64\n",
            " 2   rougher.input.feed_ag                       14579 non-null  float64\n",
            " 3   rougher.input.feed_pb                       14507 non-null  float64\n",
            " 4   rougher.input.feed_sol                      14502 non-null  float64\n",
            " 5   rougher.input.feed_rate                     14572 non-null  float64\n",
            " 6   rougher.input.feed_size                     14478 non-null  float64\n",
            " 7   rougher.input.floatbank10_sulfate           14548 non-null  float64\n",
            " 8   rougher.input.floatbank10_xanthate          14572 non-null  float64\n",
            " 9   rougher.state.floatbank10_a_air             14579 non-null  float64\n",
            " 10  rougher.state.floatbank10_a_level           14579 non-null  float64\n",
            " 11  rougher.state.floatbank10_b_air             14579 non-null  float64\n",
            " 12  rougher.state.floatbank10_b_level           14579 non-null  float64\n",
            " 13  rougher.state.floatbank10_c_air             14579 non-null  float64\n",
            " 14  rougher.state.floatbank10_c_level           14579 non-null  float64\n",
            " 15  rougher.state.floatbank10_d_air             14579 non-null  float64\n",
            " 16  rougher.state.floatbank10_d_level           14579 non-null  float64\n",
            " 17  rougher.state.floatbank10_e_air             14150 non-null  float64\n",
            " 18  rougher.state.floatbank10_e_level           14579 non-null  float64\n",
            " 19  rougher.state.floatbank10_f_air             14579 non-null  float64\n",
            " 20  rougher.state.floatbank10_f_level           14579 non-null  float64\n",
            " 21  rougher.input.floatbank11_sulfate           14543 non-null  float64\n",
            " 22  rougher.input.floatbank11_xanthate          14172 non-null  float64\n",
            " 23  rougher.output.recovery                     14579 non-null  float64\n",
            " 24  primary_cleaner.input.sulfate               14556 non-null  float64\n",
            " 25  primary_cleaner.input.depressant            14551 non-null  float64\n",
            " 26  primary_cleaner.input.feed_size             14579 non-null  float64\n",
            " 27  primary_cleaner.input.xanthate              14518 non-null  float64\n",
            " 28  primary_cleaner.state.floatbank8_a_air      14576 non-null  float64\n",
            " 29  primary_cleaner.state.floatbank8_a_level    14579 non-null  float64\n",
            " 30  primary_cleaner.state.floatbank8_b_air      14576 non-null  float64\n",
            " 31  primary_cleaner.state.floatbank8_b_level    14579 non-null  float64\n",
            " 32  primary_cleaner.state.floatbank8_c_air      14579 non-null  float64\n",
            " 33  primary_cleaner.state.floatbank8_c_level    14579 non-null  float64\n",
            " 34  primary_cleaner.state.floatbank8_d_air      14578 non-null  float64\n",
            " 35  primary_cleaner.state.floatbank8_d_level    14579 non-null  float64\n",
            " 36  secondary_cleaner.state.floatbank2_a_air    14485 non-null  float64\n",
            " 37  secondary_cleaner.state.floatbank2_a_level  14579 non-null  float64\n",
            " 38  secondary_cleaner.state.floatbank2_b_air    14557 non-null  float64\n",
            " 39  secondary_cleaner.state.floatbank2_b_level  14579 non-null  float64\n",
            " 40  secondary_cleaner.state.floatbank3_a_air    14567 non-null  float64\n",
            " 41  secondary_cleaner.state.floatbank3_a_level  14579 non-null  float64\n",
            " 42  secondary_cleaner.state.floatbank3_b_air    14579 non-null  float64\n",
            " 43  secondary_cleaner.state.floatbank3_b_level  14579 non-null  float64\n",
            " 44  secondary_cleaner.state.floatbank4_a_air    14574 non-null  float64\n",
            " 45  secondary_cleaner.state.floatbank4_a_level  14579 non-null  float64\n",
            " 46  secondary_cleaner.state.floatbank4_b_air    14579 non-null  float64\n",
            " 47  secondary_cleaner.state.floatbank4_b_level  14579 non-null  float64\n",
            " 48  secondary_cleaner.state.floatbank5_a_air    14579 non-null  float64\n",
            " 49  secondary_cleaner.state.floatbank5_a_level  14579 non-null  float64\n",
            " 50  secondary_cleaner.state.floatbank5_b_air    14579 non-null  float64\n",
            " 51  secondary_cleaner.state.floatbank5_b_level  14579 non-null  float64\n",
            " 52  secondary_cleaner.state.floatbank6_a_air    14578 non-null  float64\n",
            " 53  secondary_cleaner.state.floatbank6_a_level  14579 non-null  float64\n",
            " 54  final.output.recovery                       14579 non-null  float64\n",
            "dtypes: float64(54), object(1)\n",
            "memory usage: 6.1+ MB\n",
            "<class 'pandas.core.frame.DataFrame'>\n",
            "Int64Index: 4860 entries, 0 to 4859\n",
            "Data columns (total 55 columns):\n",
            " #   Column                                      Non-Null Count  Dtype  \n",
            "---  ------                                      --------------  -----  \n",
            " 0   date                                        4860 non-null   object \n",
            " 1   rougher.input.feed_au                       4860 non-null   float64\n",
            " 2   rougher.input.feed_ag                       4860 non-null   float64\n",
            " 3   rougher.input.feed_pb                       4832 non-null   float64\n",
            " 4   rougher.input.feed_sol                      4838 non-null   float64\n",
            " 5   rougher.input.feed_rate                     4856 non-null   float64\n",
            " 6   rougher.input.feed_size                     4816 non-null   float64\n",
            " 7   rougher.input.floatbank10_sulfate           4857 non-null   float64\n",
            " 8   rougher.input.floatbank10_xanthate          4859 non-null   float64\n",
            " 9   rougher.state.floatbank10_a_air             4859 non-null   float64\n",
            " 10  rougher.state.floatbank10_a_level           4859 non-null   float64\n",
            " 11  rougher.state.floatbank10_b_air             4859 non-null   float64\n",
            " 12  rougher.state.floatbank10_b_level           4859 non-null   float64\n",
            " 13  rougher.state.floatbank10_c_air             4859 non-null   float64\n",
            " 14  rougher.state.floatbank10_c_level           4859 non-null   float64\n",
            " 15  rougher.state.floatbank10_d_air             4860 non-null   float64\n",
            " 16  rougher.state.floatbank10_d_level           4860 non-null   float64\n",
            " 17  rougher.state.floatbank10_e_air             4853 non-null   float64\n",
            " 18  rougher.state.floatbank10_e_level           4860 non-null   float64\n",
            " 19  rougher.state.floatbank10_f_air             4860 non-null   float64\n",
            " 20  rougher.state.floatbank10_f_level           4860 non-null   float64\n",
            " 21  rougher.input.floatbank11_sulfate           4852 non-null   float64\n",
            " 22  rougher.input.floatbank11_xanthate          4814 non-null   float64\n",
            " 23  primary_cleaner.input.sulfate               4859 non-null   float64\n",
            " 24  primary_cleaner.input.depressant            4851 non-null   float64\n",
            " 25  primary_cleaner.input.feed_size             4860 non-null   float64\n",
            " 26  primary_cleaner.input.xanthate              4817 non-null   float64\n",
            " 27  primary_cleaner.state.floatbank8_a_air      4859 non-null   float64\n",
            " 28  primary_cleaner.state.floatbank8_a_level    4859 non-null   float64\n",
            " 29  primary_cleaner.state.floatbank8_b_air      4859 non-null   float64\n",
            " 30  primary_cleaner.state.floatbank8_b_level    4859 non-null   float64\n",
            " 31  primary_cleaner.state.floatbank8_c_air      4858 non-null   float64\n",
            " 32  primary_cleaner.state.floatbank8_c_level    4859 non-null   float64\n",
            " 33  primary_cleaner.state.floatbank8_d_air      4858 non-null   float64\n",
            " 34  primary_cleaner.state.floatbank8_d_level    4859 non-null   float64\n",
            " 35  secondary_cleaner.state.floatbank2_a_air    4734 non-null   float64\n",
            " 36  secondary_cleaner.state.floatbank2_a_level  4859 non-null   float64\n",
            " 37  secondary_cleaner.state.floatbank2_b_air    4859 non-null   float64\n",
            " 38  secondary_cleaner.state.floatbank2_b_level  4859 non-null   float64\n",
            " 39  secondary_cleaner.state.floatbank3_a_air    4859 non-null   float64\n",
            " 40  secondary_cleaner.state.floatbank3_a_level  4859 non-null   float64\n",
            " 41  secondary_cleaner.state.floatbank3_b_air    4859 non-null   float64\n",
            " 42  secondary_cleaner.state.floatbank3_b_level  4859 non-null   float64\n",
            " 43  secondary_cleaner.state.floatbank4_a_air    4859 non-null   float64\n",
            " 44  secondary_cleaner.state.floatbank4_a_level  4859 non-null   float64\n",
            " 45  secondary_cleaner.state.floatbank4_b_air    4859 non-null   float64\n",
            " 46  secondary_cleaner.state.floatbank4_b_level  4859 non-null   float64\n",
            " 47  secondary_cleaner.state.floatbank5_a_air    4859 non-null   float64\n",
            " 48  secondary_cleaner.state.floatbank5_a_level  4859 non-null   float64\n",
            " 49  secondary_cleaner.state.floatbank5_b_air    4859 non-null   float64\n",
            " 50  secondary_cleaner.state.floatbank5_b_level  4859 non-null   float64\n",
            " 51  secondary_cleaner.state.floatbank6_a_air    4859 non-null   float64\n",
            " 52  secondary_cleaner.state.floatbank6_a_level  4859 non-null   float64\n",
            " 53  rougher.output.recovery                     4860 non-null   float64\n",
            " 54  final.output.recovery                       4860 non-null   float64\n",
            "dtypes: float64(54), object(1)\n",
            "memory usage: 2.1+ MB\n",
            "<class 'pandas.core.frame.DataFrame'>\n",
            "RangeIndex: 19439 entries, 0 to 19438\n",
            "Data columns (total 87 columns):\n",
            " #   Column                                              Non-Null Count  Dtype  \n",
            "---  ------                                              --------------  -----  \n",
            " 0   date                                                19439 non-null  object \n",
            " 1   rougher.input.feed_au                               19439 non-null  float64\n",
            " 2   rougher.input.feed_ag                               19439 non-null  float64\n",
            " 3   rougher.input.feed_pb                               19339 non-null  float64\n",
            " 4   rougher.input.feed_sol                              19340 non-null  float64\n",
            " 5   rougher.input.feed_rate                             19428 non-null  float64\n",
            " 6   rougher.input.feed_size                             19294 non-null  float64\n",
            " 7   rougher.input.floatbank10_sulfate                   19405 non-null  float64\n",
            " 8   rougher.input.floatbank10_xanthate                  19431 non-null  float64\n",
            " 9   rougher.state.floatbank10_a_air                     19438 non-null  float64\n",
            " 10  rougher.state.floatbank10_a_level                   19438 non-null  float64\n",
            " 11  rougher.state.floatbank10_b_air                     19438 non-null  float64\n",
            " 12  rougher.state.floatbank10_b_level                   19438 non-null  float64\n",
            " 13  rougher.state.floatbank10_c_air                     19438 non-null  float64\n",
            " 14  rougher.state.floatbank10_c_level                   19438 non-null  float64\n",
            " 15  rougher.state.floatbank10_d_air                     19439 non-null  float64\n",
            " 16  rougher.state.floatbank10_d_level                   19439 non-null  float64\n",
            " 17  rougher.state.floatbank10_e_air                     19003 non-null  float64\n",
            " 18  rougher.state.floatbank10_e_level                   19439 non-null  float64\n",
            " 19  rougher.state.floatbank10_f_air                     19439 non-null  float64\n",
            " 20  rougher.state.floatbank10_f_level                   19439 non-null  float64\n",
            " 21  rougher.input.floatbank11_sulfate                   19395 non-null  float64\n",
            " 22  rougher.input.floatbank11_xanthate                  18986 non-null  float64\n",
            " 23  rougher.calculation.sulfate_to_au_concentrate       19437 non-null  float64\n",
            " 24  rougher.calculation.floatbank10_sulfate_to_au_feed  19437 non-null  float64\n",
            " 25  rougher.calculation.floatbank11_sulfate_to_au_feed  19437 non-null  float64\n",
            " 26  rougher.calculation.au_pb_ratio                     19439 non-null  float64\n",
            " 27  rougher.output.concentrate_au                       19439 non-null  float64\n",
            " 28  rougher.output.concentrate_ag                       19439 non-null  float64\n",
            " 29  rougher.output.concentrate_pb                       19439 non-null  float64\n",
            " 30  rougher.output.concentrate_sol                      19416 non-null  float64\n",
            " 31  rougher.output.recovery                             19439 non-null  float64\n",
            " 32  rougher.output.tail_au                              19439 non-null  float64\n",
            " 33  rougher.output.tail_ag                              19438 non-null  float64\n",
            " 34  rougher.output.tail_pb                              19439 non-null  float64\n",
            " 35  rougher.output.tail_sol                             19439 non-null  float64\n",
            " 36  primary_cleaner.input.sulfate                       19415 non-null  float64\n",
            " 37  primary_cleaner.input.depressant                    19402 non-null  float64\n",
            " 38  primary_cleaner.input.feed_size                     19439 non-null  float64\n",
            " 39  primary_cleaner.input.xanthate                      19335 non-null  float64\n",
            " 40  primary_cleaner.state.floatbank8_a_air              19435 non-null  float64\n",
            " 41  primary_cleaner.state.floatbank8_a_level            19438 non-null  float64\n",
            " 42  primary_cleaner.state.floatbank8_b_air              19435 non-null  float64\n",
            " 43  primary_cleaner.state.floatbank8_b_level            19438 non-null  float64\n",
            " 44  primary_cleaner.state.floatbank8_c_air              19437 non-null  float64\n",
            " 45  primary_cleaner.state.floatbank8_c_level            19438 non-null  float64\n",
            " 46  primary_cleaner.state.floatbank8_d_air              19436 non-null  float64\n",
            " 47  primary_cleaner.state.floatbank8_d_level            19438 non-null  float64\n",
            " 48  primary_cleaner.output.concentrate_au               19439 non-null  float64\n",
            " 49  primary_cleaner.output.concentrate_ag               19439 non-null  float64\n",
            " 50  primary_cleaner.output.concentrate_pb               19323 non-null  float64\n",
            " 51  primary_cleaner.output.concentrate_sol              19069 non-null  float64\n",
            " 52  primary_cleaner.output.tail_au                      19439 non-null  float64\n",
            " 53  primary_cleaner.output.tail_ag                      19435 non-null  float64\n",
            " 54  primary_cleaner.output.tail_pb                      19418 non-null  float64\n",
            " 55  primary_cleaner.output.tail_sol                     19377 non-null  float64\n",
            " 56  secondary_cleaner.state.floatbank2_a_air            19219 non-null  float64\n",
            " 57  secondary_cleaner.state.floatbank2_a_level          19438 non-null  float64\n",
            " 58  secondary_cleaner.state.floatbank2_b_air            19416 non-null  float64\n",
            " 59  secondary_cleaner.state.floatbank2_b_level          19438 non-null  float64\n",
            " 60  secondary_cleaner.state.floatbank3_a_air            19426 non-null  float64\n",
            " 61  secondary_cleaner.state.floatbank3_a_level          19438 non-null  float64\n",
            " 62  secondary_cleaner.state.floatbank3_b_air            19438 non-null  float64\n",
            " 63  secondary_cleaner.state.floatbank3_b_level          19438 non-null  float64\n",
            " 64  secondary_cleaner.state.floatbank4_a_air            19433 non-null  float64\n",
            " 65  secondary_cleaner.state.floatbank4_a_level          19438 non-null  float64\n",
            " 66  secondary_cleaner.state.floatbank4_b_air            19438 non-null  float64\n",
            " 67  secondary_cleaner.state.floatbank4_b_level          19438 non-null  float64\n",
            " 68  secondary_cleaner.state.floatbank5_a_air            19438 non-null  float64\n",
            " 69  secondary_cleaner.state.floatbank5_a_level          19438 non-null  float64\n",
            " 70  secondary_cleaner.state.floatbank5_b_air            19438 non-null  float64\n",
            " 71  secondary_cleaner.state.floatbank5_b_level          19438 non-null  float64\n",
            " 72  secondary_cleaner.state.floatbank6_a_air            19437 non-null  float64\n",
            " 73  secondary_cleaner.state.floatbank6_a_level          19438 non-null  float64\n",
            " 74  secondary_cleaner.output.tail_au                    19439 non-null  float64\n",
            " 75  secondary_cleaner.output.tail_ag                    19437 non-null  float64\n",
            " 76  secondary_cleaner.output.tail_pb                    19427 non-null  float64\n",
            " 77  secondary_cleaner.output.tail_sol                   17691 non-null  float64\n",
            " 78  final.output.concentrate_au                         19439 non-null  float64\n",
            " 79  final.output.concentrate_ag                         19438 non-null  float64\n",
            " 80  final.output.concentrate_pb                         19438 non-null  float64\n",
            " 81  final.output.concentrate_sol                        19228 non-null  float64\n",
            " 82  final.output.recovery                               19439 non-null  float64\n",
            " 83  final.output.tail_au                                19439 non-null  float64\n",
            " 84  final.output.tail_ag                                19438 non-null  float64\n",
            " 85  final.output.tail_pb                                19338 non-null  float64\n",
            " 86  final.output.tail_sol                               19433 non-null  float64\n",
            "dtypes: float64(86), object(1)\n",
            "memory usage: 12.9+ MB\n"
          ]
        }
      ],
      "source": [
        "# Изучаем данные\n",
        "gold_industry_train.info()\n",
        "gold_industry_test.info()\n",
        "gold_industry_full.info()"
      ]
    },
    {
      "cell_type": "markdown",
      "metadata": {
        "id": "RN0FRvBVzK6x"
      },
      "source": [
        "В нашем распоряжении 19439 объектов разделённых на две выборки. Названия колонок написаны корректно, типы данных распознанны корректно, но чтобы работать с датами нужно перевести их в другой формат"
      ]
    },
    {
      "cell_type": "code",
      "execution_count": null,
      "metadata": {
        "id": "YV8WGmHyzK6x"
      },
      "outputs": [],
      "source": [
        "gold_industry_train['date'] = pd.to_datetime(gold_industry_train['date'])\n",
        "gold_industry_test['date'] = pd.to_datetime(gold_industry_train['date'])\n",
        "gold_industry_full['date'] = pd.to_datetime(gold_industry_train['date'])"
      ]
    },
    {
      "cell_type": "markdown",
      "metadata": {
        "id": "IUOfBSO6zK6y"
      },
      "source": [
        "#### Пропуски"
      ]
    },
    {
      "cell_type": "code",
      "execution_count": null,
      "metadata": {
        "scrolled": true,
        "id": "QrkT-3DDzK6y",
        "outputId": "d157bc1f-cd62-465f-e5d0-22608967b407"
      },
      "outputs": [
        {
          "data": {
            "text/plain": [
              "date                                      0.250013\n",
              "secondary_cleaner.output.tail_sol         0.089922\n",
              "rougher.input.floatbank11_xanthate        0.023304\n",
              "rougher.state.floatbank10_e_air           0.022429\n",
              "primary_cleaner.output.concentrate_sol    0.019034\n",
              "                                            ...   \n",
              "primary_cleaner.output.tail_au            0.000000\n",
              "rougher.state.floatbank10_e_level         0.000000\n",
              "rougher.state.floatbank10_d_level         0.000000\n",
              "rougher.state.floatbank10_d_air           0.000000\n",
              "rougher.output.concentrate_au             0.000000\n",
              "Length: 87, dtype: float64"
            ]
          },
          "execution_count": 15,
          "metadata": {},
          "output_type": "execute_result"
        }
      ],
      "source": [
        "#Считаем пропуски\n",
        "gold_industry_full.isna().mean().sort_values(ascending=False)"
      ]
    },
    {
      "cell_type": "code",
      "execution_count": null,
      "metadata": {
        "scrolled": false,
        "id": "Ie1EKr9DzK6y",
        "outputId": "960b7d00-4544-4669-dbc0-874164105d3f"
      },
      "outputs": [
        {
          "data": {
            "image/png": "[encoded data removed]",
            "text/plain": [
              "<Figure size 640x480 with 1 Axes>"
            ]
          },
          "metadata": {},
          "output_type": "display_data"
        }
      ],
      "source": [
        "gold_industry_full['date'].dt.date[gold_industry_full['secondary_cleaner.output.tail_sol'].isna()].hist()\n",
        "plt.title('Пропуски в колонке secondary_cleaner.output.tail_sol по датам')\n",
        "plt.xlabel('Даты')\n",
        "plt.ylabel('Количество пропусков')\n",
        "plt.xticks(rotation = 45)\n",
        "plt.show()"
      ]
    },
    {
      "cell_type": "markdown",
      "metadata": {
        "id": "8O98xOJczK6z"
      },
      "source": [
        "Чем ближе к настоящему времени, тем больше пропусков. Это логично, так как они замеряются и/или рассчитываются значительно позже. Доля пропусков в признаках небольшая, однако ML не сможет работать с данными с пропусками. Мы можем их заполнить на основе соседних строк с похожим временем, так как из-за особенностей процесса обработки руды такие объекты схожи."
      ]
    },
    {
      "cell_type": "code",
      "execution_count": null,
      "metadata": {
        "id": "6OymNgJdzK6z"
      },
      "outputs": [],
      "source": [
        "gold_industry_full = gold_industry_full.fillna(method='ffill')\n",
        "gold_industry_train = gold_industry_train.fillna(method='ffill')\n",
        "gold_industry_test = gold_industry_test.fillna(method='ffill')"
      ]
    },
    {
      "cell_type": "code",
      "execution_count": null,
      "metadata": {
        "scrolled": true,
        "id": "jHC2n5m_zK6z",
        "outputId": "23ba8839-cc74-4db8-e681-c0f06381245a"
      },
      "outputs": [
        {
          "name": "stdout",
          "output_type": "stream",
          "text": [
            "0\n",
            "0\n",
            "0\n"
          ]
        }
      ],
      "source": [
        "#Количество пропусков после заполнения\n",
        "print(gold_industry_full.isna().sum().sum())\n",
        "print(gold_industry_train.isna().sum().sum())\n",
        "print(gold_industry_test.isna().sum().sum())"
      ]
    },
    {
      "cell_type": "markdown",
      "metadata": {
        "id": "N3G19500zK60"
      },
      "source": [
        "#### Изучение структуры и основных характеристик данных"
      ]
    },
    {
      "cell_type": "markdown",
      "metadata": {
        "id": "ogpSfODnzK60"
      },
      "source": [
        "Так как датафреймы train и test случайные выборки из full, изучение gold_industry_full даст нам понимание и о выборках"
      ]
    },
    {
      "cell_type": "code",
      "execution_count": null,
      "metadata": {
        "scrolled": true,
        "id": "T50QkyQWzK60",
        "outputId": "0b64f5cc-8080-4c92-82b5-4ad89a47f675"
      },
      "outputs": [
        {
          "data": {
            "text/html": [
              "<div>\n",
              "<style scoped>\n",
              "    .dataframe tbody tr th:only-of-type {\n",
              "        vertical-align: middle;\n",
              "    }\n",
              "\n",
              "    .dataframe tbody tr th {\n",
              "        vertical-align: top;\n",
              "    }\n",
              "\n",
              "    .dataframe thead th {\n",
              "        text-align: right;\n",
              "    }\n",
              "</style>\n",
              "<table border=\"1\" class=\"dataframe\">\n",
              "  <thead>\n",
              "    <tr style=\"text-align: right;\">\n",
              "      <th></th>\n",
              "      <th>date</th>\n",
              "      <th>rougher.input.feed_au</th>\n",
              "      <th>rougher.input.feed_ag</th>\n",
              "      <th>rougher.input.feed_pb</th>\n",
              "      <th>rougher.input.feed_sol</th>\n",
              "      <th>rougher.input.feed_rate</th>\n",
              "      <th>rougher.input.feed_size</th>\n",
              "      <th>rougher.input.floatbank10_sulfate</th>\n",
              "      <th>rougher.input.floatbank10_xanthate</th>\n",
              "      <th>rougher.state.floatbank10_a_air</th>\n",
              "      <th>...</th>\n",
              "      <th>secondary_cleaner.output.tail_sol</th>\n",
              "      <th>final.output.concentrate_au</th>\n",
              "      <th>final.output.concentrate_ag</th>\n",
              "      <th>final.output.concentrate_pb</th>\n",
              "      <th>final.output.concentrate_sol</th>\n",
              "      <th>final.output.recovery</th>\n",
              "      <th>final.output.tail_au</th>\n",
              "      <th>final.output.tail_ag</th>\n",
              "      <th>final.output.tail_pb</th>\n",
              "      <th>final.output.tail_sol</th>\n",
              "    </tr>\n",
              "  </thead>\n",
              "  <tbody>\n",
              "    <tr>\n",
              "      <th>0</th>\n",
              "      <td>2016-01-15 00:00:00</td>\n",
              "      <td>6.486150</td>\n",
              "      <td>6.100378</td>\n",
              "      <td>2.284912</td>\n",
              "      <td>36.808594</td>\n",
              "      <td>523.546326</td>\n",
              "      <td>55.486599</td>\n",
              "      <td>11.986616</td>\n",
              "      <td>6.007990</td>\n",
              "      <td>999.706909</td>\n",
              "      <td>...</td>\n",
              "      <td>8.764648</td>\n",
              "      <td>42.192020</td>\n",
              "      <td>6.055403</td>\n",
              "      <td>9.889648</td>\n",
              "      <td>5.507324</td>\n",
              "      <td>70.541216</td>\n",
              "      <td>2.143149</td>\n",
              "      <td>10.411962</td>\n",
              "      <td>0.895447</td>\n",
              "      <td>16.904297</td>\n",
              "    </tr>\n",
              "    <tr>\n",
              "      <th>1</th>\n",
              "      <td>2016-01-15 01:00:00</td>\n",
              "      <td>6.478583</td>\n",
              "      <td>6.161113</td>\n",
              "      <td>2.266033</td>\n",
              "      <td>35.753385</td>\n",
              "      <td>525.290581</td>\n",
              "      <td>57.278666</td>\n",
              "      <td>11.971193</td>\n",
              "      <td>6.005766</td>\n",
              "      <td>1000.286398</td>\n",
              "      <td>...</td>\n",
              "      <td>9.001494</td>\n",
              "      <td>42.701629</td>\n",
              "      <td>6.029369</td>\n",
              "      <td>9.968944</td>\n",
              "      <td>5.257781</td>\n",
              "      <td>69.266198</td>\n",
              "      <td>2.224930</td>\n",
              "      <td>10.462676</td>\n",
              "      <td>0.927452</td>\n",
              "      <td>16.634514</td>\n",
              "    </tr>\n",
              "    <tr>\n",
              "      <th>2</th>\n",
              "      <td>2016-01-15 02:00:00</td>\n",
              "      <td>6.362222</td>\n",
              "      <td>6.116455</td>\n",
              "      <td>2.159622</td>\n",
              "      <td>35.971630</td>\n",
              "      <td>530.026610</td>\n",
              "      <td>57.510649</td>\n",
              "      <td>11.920603</td>\n",
              "      <td>6.197377</td>\n",
              "      <td>999.719565</td>\n",
              "      <td>...</td>\n",
              "      <td>8.842896</td>\n",
              "      <td>42.657501</td>\n",
              "      <td>6.055926</td>\n",
              "      <td>10.213995</td>\n",
              "      <td>5.383759</td>\n",
              "      <td>68.116445</td>\n",
              "      <td>2.257889</td>\n",
              "      <td>10.507046</td>\n",
              "      <td>0.953716</td>\n",
              "      <td>16.208849</td>\n",
              "    </tr>\n",
              "    <tr>\n",
              "      <th>3</th>\n",
              "      <td>2016-01-15 03:00:00</td>\n",
              "      <td>6.118189</td>\n",
              "      <td>6.043309</td>\n",
              "      <td>2.037807</td>\n",
              "      <td>36.862241</td>\n",
              "      <td>542.590390</td>\n",
              "      <td>57.792734</td>\n",
              "      <td>11.630094</td>\n",
              "      <td>6.203177</td>\n",
              "      <td>999.814770</td>\n",
              "      <td>...</td>\n",
              "      <td>9.122857</td>\n",
              "      <td>42.689819</td>\n",
              "      <td>6.047977</td>\n",
              "      <td>9.977019</td>\n",
              "      <td>4.858634</td>\n",
              "      <td>68.347543</td>\n",
              "      <td>2.146849</td>\n",
              "      <td>10.422762</td>\n",
              "      <td>0.883763</td>\n",
              "      <td>16.532835</td>\n",
              "    </tr>\n",
              "    <tr>\n",
              "      <th>4</th>\n",
              "      <td>2016-01-15 04:00:00</td>\n",
              "      <td>5.663707</td>\n",
              "      <td>6.060915</td>\n",
              "      <td>1.786875</td>\n",
              "      <td>34.347666</td>\n",
              "      <td>540.531893</td>\n",
              "      <td>56.047189</td>\n",
              "      <td>10.957755</td>\n",
              "      <td>6.198826</td>\n",
              "      <td>999.678690</td>\n",
              "      <td>...</td>\n",
              "      <td>8.871028</td>\n",
              "      <td>42.774141</td>\n",
              "      <td>6.148599</td>\n",
              "      <td>10.142511</td>\n",
              "      <td>4.939416</td>\n",
              "      <td>66.927016</td>\n",
              "      <td>2.055292</td>\n",
              "      <td>10.360302</td>\n",
              "      <td>0.792826</td>\n",
              "      <td>16.525686</td>\n",
              "    </tr>\n",
              "  </tbody>\n",
              "</table>\n",
              "<p>5 rows × 87 columns</p>\n",
              "</div>"
            ],
            "text/plain": [
              "                 date  rougher.input.feed_au  rougher.input.feed_ag  \\\n",
              "0 2016-01-15 00:00:00               6.486150               6.100378   \n",
              "1 2016-01-15 01:00:00               6.478583               6.161113   \n",
              "2 2016-01-15 02:00:00               6.362222               6.116455   \n",
              "3 2016-01-15 03:00:00               6.118189               6.043309   \n",
              "4 2016-01-15 04:00:00               5.663707               6.060915   \n",
              "\n",
              "   rougher.input.feed_pb  rougher.input.feed_sol  rougher.input.feed_rate  \\\n",
              "0               2.284912               36.808594               523.546326   \n",
              "1               2.266033               35.753385               525.290581   \n",
              "2               2.159622               35.971630               530.026610   \n",
              "3               2.037807               36.862241               542.590390   \n",
              "4               1.786875               34.347666               540.531893   \n",
              "\n",
              "   rougher.input.feed_size  rougher.input.floatbank10_sulfate  \\\n",
              "0                55.486599                          11.986616   \n",
              "1                57.278666                          11.971193   \n",
              "2                57.510649                          11.920603   \n",
              "3                57.792734                          11.630094   \n",
              "4                56.047189                          10.957755   \n",
              "\n",
              "   rougher.input.floatbank10_xanthate  rougher.state.floatbank10_a_air  ...  \\\n",
              "0                            6.007990                       999.706909  ...   \n",
              "1                            6.005766                      1000.286398  ...   \n",
              "2                            6.197377                       999.719565  ...   \n",
              "3                            6.203177                       999.814770  ...   \n",
              "4                            6.198826                       999.678690  ...   \n",
              "\n",
              "   secondary_cleaner.output.tail_sol  final.output.concentrate_au  \\\n",
              "0                           8.764648                    42.192020   \n",
              "1                           9.001494                    42.701629   \n",
              "2                           8.842896                    42.657501   \n",
              "3                           9.122857                    42.689819   \n",
              "4                           8.871028                    42.774141   \n",
              "\n",
              "   final.output.concentrate_ag  final.output.concentrate_pb  \\\n",
              "0                     6.055403                     9.889648   \n",
              "1                     6.029369                     9.968944   \n",
              "2                     6.055926                    10.213995   \n",
              "3                     6.047977                     9.977019   \n",
              "4                     6.148599                    10.142511   \n",
              "\n",
              "   final.output.concentrate_sol  final.output.recovery  final.output.tail_au  \\\n",
              "0                      5.507324              70.541216              2.143149   \n",
              "1                      5.257781              69.266198              2.224930   \n",
              "2                      5.383759              68.116445              2.257889   \n",
              "3                      4.858634              68.347543              2.146849   \n",
              "4                      4.939416              66.927016              2.055292   \n",
              "\n",
              "   final.output.tail_ag  final.output.tail_pb  final.output.tail_sol  \n",
              "0             10.411962              0.895447              16.904297  \n",
              "1             10.462676              0.927452              16.634514  \n",
              "2             10.507046              0.953716              16.208849  \n",
              "3             10.422762              0.883763              16.532835  \n",
              "4             10.360302              0.792826              16.525686  \n",
              "\n",
              "[5 rows x 87 columns]"
            ]
          },
          "execution_count": 19,
          "metadata": {},
          "output_type": "execute_result"
        }
      ],
      "source": [
        "# Первые 5 строчек\n",
        "gold_industry_full.head()"
      ]
    },
    {
      "cell_type": "code",
      "execution_count": null,
      "metadata": {
        "scrolled": true,
        "id": "qgpRH-gozK60",
        "outputId": "1d576981-8470-41cd-8847-e1abcd2f22fb"
      },
      "outputs": [
        {
          "data": {
            "text/html": [
              "<div>\n",
              "<style scoped>\n",
              "    .dataframe tbody tr th:only-of-type {\n",
              "        vertical-align: middle;\n",
              "    }\n",
              "\n",
              "    .dataframe tbody tr th {\n",
              "        vertical-align: top;\n",
              "    }\n",
              "\n",
              "    .dataframe thead th {\n",
              "        text-align: right;\n",
              "    }\n",
              "</style>\n",
              "<table border=\"1\" class=\"dataframe\">\n",
              "  <thead>\n",
              "    <tr style=\"text-align: right;\">\n",
              "      <th></th>\n",
              "      <th>rougher.input.feed_au</th>\n",
              "      <th>rougher.input.feed_ag</th>\n",
              "      <th>rougher.input.feed_pb</th>\n",
              "      <th>rougher.input.feed_sol</th>\n",
              "      <th>rougher.input.feed_rate</th>\n",
              "      <th>rougher.input.feed_size</th>\n",
              "      <th>rougher.input.floatbank10_sulfate</th>\n",
              "      <th>rougher.input.floatbank10_xanthate</th>\n",
              "      <th>rougher.state.floatbank10_a_air</th>\n",
              "      <th>rougher.state.floatbank10_a_level</th>\n",
              "      <th>...</th>\n",
              "      <th>secondary_cleaner.output.tail_sol</th>\n",
              "      <th>final.output.concentrate_au</th>\n",
              "      <th>final.output.concentrate_ag</th>\n",
              "      <th>final.output.concentrate_pb</th>\n",
              "      <th>final.output.concentrate_sol</th>\n",
              "      <th>final.output.recovery</th>\n",
              "      <th>final.output.tail_au</th>\n",
              "      <th>final.output.tail_ag</th>\n",
              "      <th>final.output.tail_pb</th>\n",
              "      <th>final.output.tail_sol</th>\n",
              "    </tr>\n",
              "  </thead>\n",
              "  <tbody>\n",
              "    <tr>\n",
              "      <th>count</th>\n",
              "      <td>19439.000000</td>\n",
              "      <td>19439.000000</td>\n",
              "      <td>19439.000000</td>\n",
              "      <td>19439.000000</td>\n",
              "      <td>19439.000000</td>\n",
              "      <td>19439.000000</td>\n",
              "      <td>19439.000000</td>\n",
              "      <td>19439.000000</td>\n",
              "      <td>19439.000000</td>\n",
              "      <td>19439.000000</td>\n",
              "      <td>...</td>\n",
              "      <td>19439.000000</td>\n",
              "      <td>19439.000000</td>\n",
              "      <td>19439.000000</td>\n",
              "      <td>19439.000000</td>\n",
              "      <td>19439.000000</td>\n",
              "      <td>19439.000000</td>\n",
              "      <td>19439.000000</td>\n",
              "      <td>19439.000000</td>\n",
              "      <td>19439.000000</td>\n",
              "      <td>19439.000000</td>\n",
              "    </tr>\n",
              "    <tr>\n",
              "      <th>mean</th>\n",
              "      <td>8.266097</td>\n",
              "      <td>8.794927</td>\n",
              "      <td>3.584516</td>\n",
              "      <td>36.676689</td>\n",
              "      <td>478.290904</td>\n",
              "      <td>59.087187</td>\n",
              "      <td>12.319310</td>\n",
              "      <td>6.020352</td>\n",
              "      <td>1105.309747</td>\n",
              "      <td>-376.617037</td>\n",
              "      <td>...</td>\n",
              "      <td>6.626149</td>\n",
              "      <td>44.076513</td>\n",
              "      <td>5.168387</td>\n",
              "      <td>9.978821</td>\n",
              "      <td>9.430391</td>\n",
              "      <td>67.050208</td>\n",
              "      <td>3.042467</td>\n",
              "      <td>9.688487</td>\n",
              "      <td>2.694773</td>\n",
              "      <td>10.582834</td>\n",
              "    </tr>\n",
              "    <tr>\n",
              "      <th>std</th>\n",
              "      <td>1.955092</td>\n",
              "      <td>1.936847</td>\n",
              "      <td>1.064760</td>\n",
              "      <td>5.160229</td>\n",
              "      <td>105.407509</td>\n",
              "      <td>22.104305</td>\n",
              "      <td>3.450590</td>\n",
              "      <td>1.129018</td>\n",
              "      <td>160.824372</td>\n",
              "      <td>93.911420</td>\n",
              "      <td>...</td>\n",
              "      <td>4.141658</td>\n",
              "      <td>5.129784</td>\n",
              "      <td>1.372362</td>\n",
              "      <td>1.669228</td>\n",
              "      <td>2.864990</td>\n",
              "      <td>10.125840</td>\n",
              "      <td>0.922808</td>\n",
              "      <td>2.328624</td>\n",
              "      <td>0.959134</td>\n",
              "      <td>2.869043</td>\n",
              "    </tr>\n",
              "    <tr>\n",
              "      <th>min</th>\n",
              "      <td>0.010000</td>\n",
              "      <td>0.010000</td>\n",
              "      <td>0.010000</td>\n",
              "      <td>0.010000</td>\n",
              "      <td>0.002986</td>\n",
              "      <td>0.046369</td>\n",
              "      <td>0.001083</td>\n",
              "      <td>0.000568</td>\n",
              "      <td>-0.042069</td>\n",
              "      <td>-657.949759</td>\n",
              "      <td>...</td>\n",
              "      <td>0.000000</td>\n",
              "      <td>0.000000</td>\n",
              "      <td>0.000000</td>\n",
              "      <td>0.000000</td>\n",
              "      <td>0.000000</td>\n",
              "      <td>0.000000</td>\n",
              "      <td>0.000000</td>\n",
              "      <td>0.000000</td>\n",
              "      <td>0.000000</td>\n",
              "      <td>0.000000</td>\n",
              "    </tr>\n",
              "    <tr>\n",
              "      <th>25%</th>\n",
              "      <td>6.854384</td>\n",
              "      <td>7.237967</td>\n",
              "      <td>2.872178</td>\n",
              "      <td>34.197313</td>\n",
              "      <td>416.500514</td>\n",
              "      <td>47.485797</td>\n",
              "      <td>10.000257</td>\n",
              "      <td>5.398593</td>\n",
              "      <td>999.661991</td>\n",
              "      <td>-499.835283</td>\n",
              "      <td>...</td>\n",
              "      <td>2.870576</td>\n",
              "      <td>43.402215</td>\n",
              "      <td>4.251000</td>\n",
              "      <td>9.137225</td>\n",
              "      <td>7.662953</td>\n",
              "      <td>63.299712</td>\n",
              "      <td>2.461138</td>\n",
              "      <td>8.062715</td>\n",
              "      <td>2.027553</td>\n",
              "      <td>8.937983</td>\n",
              "    </tr>\n",
              "    <tr>\n",
              "      <th>50%</th>\n",
              "      <td>8.125839</td>\n",
              "      <td>8.593574</td>\n",
              "      <td>3.528235</td>\n",
              "      <td>37.189485</td>\n",
              "      <td>499.412752</td>\n",
              "      <td>54.734792</td>\n",
              "      <td>12.001088</td>\n",
              "      <td>6.007716</td>\n",
              "      <td>1001.073862</td>\n",
              "      <td>-300.263997</td>\n",
              "      <td>...</td>\n",
              "      <td>7.085314</td>\n",
              "      <td>45.011244</td>\n",
              "      <td>5.066039</td>\n",
              "      <td>10.102264</td>\n",
              "      <td>9.185078</td>\n",
              "      <td>68.172738</td>\n",
              "      <td>2.984909</td>\n",
              "      <td>9.743106</td>\n",
              "      <td>2.743965</td>\n",
              "      <td>10.622340</td>\n",
              "    </tr>\n",
              "    <tr>\n",
              "      <th>75%</th>\n",
              "      <td>9.769917</td>\n",
              "      <td>10.213771</td>\n",
              "      <td>4.241005</td>\n",
              "      <td>40.026614</td>\n",
              "      <td>550.169337</td>\n",
              "      <td>64.992522</td>\n",
              "      <td>14.702810</td>\n",
              "      <td>6.798028</td>\n",
              "      <td>1205.611903</td>\n",
              "      <td>-299.982004</td>\n",
              "      <td>...</td>\n",
              "      <td>10.201935</td>\n",
              "      <td>46.275313</td>\n",
              "      <td>5.895401</td>\n",
              "      <td>11.035644</td>\n",
              "      <td>10.921652</td>\n",
              "      <td>72.686642</td>\n",
              "      <td>3.571351</td>\n",
              "      <td>11.134242</td>\n",
              "      <td>3.329206</td>\n",
              "      <td>12.104122</td>\n",
              "    </tr>\n",
              "    <tr>\n",
              "      <th>max</th>\n",
              "      <td>13.731330</td>\n",
              "      <td>14.596026</td>\n",
              "      <td>7.142594</td>\n",
              "      <td>53.477742</td>\n",
              "      <td>717.508837</td>\n",
              "      <td>484.967466</td>\n",
              "      <td>36.118275</td>\n",
              "      <td>9.703448</td>\n",
              "      <td>1521.980372</td>\n",
              "      <td>-273.776101</td>\n",
              "      <td>...</td>\n",
              "      <td>26.000772</td>\n",
              "      <td>52.756638</td>\n",
              "      <td>16.001945</td>\n",
              "      <td>17.031899</td>\n",
              "      <td>19.615720</td>\n",
              "      <td>100.000000</td>\n",
              "      <td>8.245022</td>\n",
              "      <td>19.552149</td>\n",
              "      <td>5.804178</td>\n",
              "      <td>22.317730</td>\n",
              "    </tr>\n",
              "  </tbody>\n",
              "</table>\n",
              "<p>8 rows × 86 columns</p>\n",
              "</div>"
            ],
            "text/plain": [
              "       rougher.input.feed_au  rougher.input.feed_ag  rougher.input.feed_pb  \\\n",
              "count           19439.000000           19439.000000           19439.000000   \n",
              "mean                8.266097               8.794927               3.584516   \n",
              "std                 1.955092               1.936847               1.064760   \n",
              "min                 0.010000               0.010000               0.010000   \n",
              "25%                 6.854384               7.237967               2.872178   \n",
              "50%                 8.125839               8.593574               3.528235   \n",
              "75%                 9.769917              10.213771               4.241005   \n",
              "max                13.731330              14.596026               7.142594   \n",
              "\n",
              "       rougher.input.feed_sol  rougher.input.feed_rate  \\\n",
              "count            19439.000000             19439.000000   \n",
              "mean                36.676689               478.290904   \n",
              "std                  5.160229               105.407509   \n",
              "min                  0.010000                 0.002986   \n",
              "25%                 34.197313               416.500514   \n",
              "50%                 37.189485               499.412752   \n",
              "75%                 40.026614               550.169337   \n",
              "max                 53.477742               717.508837   \n",
              "\n",
              "       rougher.input.feed_size  rougher.input.floatbank10_sulfate  \\\n",
              "count             19439.000000                       19439.000000   \n",
              "mean                 59.087187                          12.319310   \n",
              "std                  22.104305                           3.450590   \n",
              "min                   0.046369                           0.001083   \n",
              "25%                  47.485797                          10.000257   \n",
              "50%                  54.734792                          12.001088   \n",
              "75%                  64.992522                          14.702810   \n",
              "max                 484.967466                          36.118275   \n",
              "\n",
              "       rougher.input.floatbank10_xanthate  rougher.state.floatbank10_a_air  \\\n",
              "count                        19439.000000                     19439.000000   \n",
              "mean                             6.020352                      1105.309747   \n",
              "std                              1.129018                       160.824372   \n",
              "min                              0.000568                        -0.042069   \n",
              "25%                              5.398593                       999.661991   \n",
              "50%                              6.007716                      1001.073862   \n",
              "75%                              6.798028                      1205.611903   \n",
              "max                              9.703448                      1521.980372   \n",
              "\n",
              "       rougher.state.floatbank10_a_level  ...  \\\n",
              "count                       19439.000000  ...   \n",
              "mean                         -376.617037  ...   \n",
              "std                            93.911420  ...   \n",
              "min                          -657.949759  ...   \n",
              "25%                          -499.835283  ...   \n",
              "50%                          -300.263997  ...   \n",
              "75%                          -299.982004  ...   \n",
              "max                          -273.776101  ...   \n",
              "\n",
              "       secondary_cleaner.output.tail_sol  final.output.concentrate_au  \\\n",
              "count                       19439.000000                 19439.000000   \n",
              "mean                            6.626149                    44.076513   \n",
              "std                             4.141658                     5.129784   \n",
              "min                             0.000000                     0.000000   \n",
              "25%                             2.870576                    43.402215   \n",
              "50%                             7.085314                    45.011244   \n",
              "75%                            10.201935                    46.275313   \n",
              "max                            26.000772                    52.756638   \n",
              "\n",
              "       final.output.concentrate_ag  final.output.concentrate_pb  \\\n",
              "count                 19439.000000                 19439.000000   \n",
              "mean                      5.168387                     9.978821   \n",
              "std                       1.372362                     1.669228   \n",
              "min                       0.000000                     0.000000   \n",
              "25%                       4.251000                     9.137225   \n",
              "50%                       5.066039                    10.102264   \n",
              "75%                       5.895401                    11.035644   \n",
              "max                      16.001945                    17.031899   \n",
              "\n",
              "       final.output.concentrate_sol  final.output.recovery  \\\n",
              "count                  19439.000000           19439.000000   \n",
              "mean                       9.430391              67.050208   \n",
              "std                        2.864990              10.125840   \n",
              "min                        0.000000               0.000000   \n",
              "25%                        7.662953              63.299712   \n",
              "50%                        9.185078              68.172738   \n",
              "75%                       10.921652              72.686642   \n",
              "max                       19.615720             100.000000   \n",
              "\n",
              "       final.output.tail_au  final.output.tail_ag  final.output.tail_pb  \\\n",
              "count          19439.000000          19439.000000          19439.000000   \n",
              "mean               3.042467              9.688487              2.694773   \n",
              "std                0.922808              2.328624              0.959134   \n",
              "min                0.000000              0.000000              0.000000   \n",
              "25%                2.461138              8.062715              2.027553   \n",
              "50%                2.984909              9.743106              2.743965   \n",
              "75%                3.571351             11.134242              3.329206   \n",
              "max                8.245022             19.552149              5.804178   \n",
              "\n",
              "       final.output.tail_sol  \n",
              "count           19439.000000  \n",
              "mean               10.582834  \n",
              "std                 2.869043  \n",
              "min                 0.000000  \n",
              "25%                 8.937983  \n",
              "50%                10.622340  \n",
              "75%                12.104122  \n",
              "max                22.317730  \n",
              "\n",
              "[8 rows x 86 columns]"
            ]
          },
          "execution_count": 20,
          "metadata": {},
          "output_type": "execute_result"
        }
      ],
      "source": [
        "# Смотрим основную описательную статистику\n",
        "gold_industry_full.describe()"
      ]
    },
    {
      "cell_type": "markdown",
      "metadata": {
        "id": "_A6pg6R7zK61"
      },
      "source": [
        "Сильных скосов в ту или другую сторону нет, так как медианы признаков и их средние различаются незначительно. Разброс стандартного отклонение несильное, масштабирование необязательно"
      ]
    },
    {
      "cell_type": "code",
      "execution_count": null,
      "metadata": {
        "scrolled": true,
        "id": "Gl5j9yUuzK61",
        "outputId": "970fa03c-0eb2-4bf3-b510-33dfd8e9c360"
      },
      "outputs": [
        {
          "data": {
            "text/html": [
              "<div>\n",
              "<style scoped>\n",
              "    .dataframe tbody tr th:only-of-type {\n",
              "        vertical-align: middle;\n",
              "    }\n",
              "\n",
              "    .dataframe tbody tr th {\n",
              "        vertical-align: top;\n",
              "    }\n",
              "\n",
              "    .dataframe thead th {\n",
              "        text-align: right;\n",
              "    }\n",
              "</style>\n",
              "<table border=\"1\" class=\"dataframe\">\n",
              "  <thead>\n",
              "    <tr style=\"text-align: right;\">\n",
              "      <th></th>\n",
              "      <th>rougher.input.feed_au</th>\n",
              "      <th>rougher.input.feed_ag</th>\n",
              "      <th>rougher.input.feed_pb</th>\n",
              "      <th>rougher.input.feed_sol</th>\n",
              "      <th>rougher.input.feed_rate</th>\n",
              "      <th>rougher.input.feed_size</th>\n",
              "      <th>rougher.input.floatbank10_sulfate</th>\n",
              "      <th>rougher.input.floatbank10_xanthate</th>\n",
              "      <th>rougher.state.floatbank10_a_air</th>\n",
              "      <th>rougher.state.floatbank10_a_level</th>\n",
              "      <th>...</th>\n",
              "      <th>secondary_cleaner.output.tail_sol</th>\n",
              "      <th>final.output.concentrate_au</th>\n",
              "      <th>final.output.concentrate_ag</th>\n",
              "      <th>final.output.concentrate_pb</th>\n",
              "      <th>final.output.concentrate_sol</th>\n",
              "      <th>final.output.recovery</th>\n",
              "      <th>final.output.tail_au</th>\n",
              "      <th>final.output.tail_ag</th>\n",
              "      <th>final.output.tail_pb</th>\n",
              "      <th>final.output.tail_sol</th>\n",
              "    </tr>\n",
              "  </thead>\n",
              "  <tbody>\n",
              "    <tr>\n",
              "      <th>rougher.input.feed_au</th>\n",
              "      <td>1.000000</td>\n",
              "      <td>0.845274</td>\n",
              "      <td>0.697386</td>\n",
              "      <td>0.096747</td>\n",
              "      <td>-0.189772</td>\n",
              "      <td>-0.153219</td>\n",
              "      <td>0.296931</td>\n",
              "      <td>0.209298</td>\n",
              "      <td>0.154816</td>\n",
              "      <td>-0.102165</td>\n",
              "      <td>...</td>\n",
              "      <td>0.333905</td>\n",
              "      <td>0.035095</td>\n",
              "      <td>0.315846</td>\n",
              "      <td>-0.079777</td>\n",
              "      <td>0.484610</td>\n",
              "      <td>0.295343</td>\n",
              "      <td>0.642479</td>\n",
              "      <td>0.594328</td>\n",
              "      <td>0.509664</td>\n",
              "      <td>-0.008640</td>\n",
              "    </tr>\n",
              "    <tr>\n",
              "      <th>rougher.input.feed_ag</th>\n",
              "      <td>0.845274</td>\n",
              "      <td>1.000000</td>\n",
              "      <td>0.502556</td>\n",
              "      <td>0.116474</td>\n",
              "      <td>-0.133592</td>\n",
              "      <td>-0.111692</td>\n",
              "      <td>0.110162</td>\n",
              "      <td>0.232039</td>\n",
              "      <td>0.278215</td>\n",
              "      <td>-0.124144</td>\n",
              "      <td>...</td>\n",
              "      <td>0.343520</td>\n",
              "      <td>0.020728</td>\n",
              "      <td>0.456332</td>\n",
              "      <td>-0.207906</td>\n",
              "      <td>0.473888</td>\n",
              "      <td>0.286823</td>\n",
              "      <td>0.498710</td>\n",
              "      <td>0.777665</td>\n",
              "      <td>0.286738</td>\n",
              "      <td>0.013369</td>\n",
              "    </tr>\n",
              "    <tr>\n",
              "      <th>rougher.input.feed_pb</th>\n",
              "      <td>0.697386</td>\n",
              "      <td>0.502556</td>\n",
              "      <td>1.000000</td>\n",
              "      <td>0.089422</td>\n",
              "      <td>-0.144467</td>\n",
              "      <td>-0.059257</td>\n",
              "      <td>0.277965</td>\n",
              "      <td>0.077966</td>\n",
              "      <td>0.250351</td>\n",
              "      <td>0.234603</td>\n",
              "      <td>...</td>\n",
              "      <td>0.001542</td>\n",
              "      <td>0.003578</td>\n",
              "      <td>0.066407</td>\n",
              "      <td>0.315530</td>\n",
              "      <td>0.216749</td>\n",
              "      <td>0.188241</td>\n",
              "      <td>0.474336</td>\n",
              "      <td>0.403668</td>\n",
              "      <td>0.780368</td>\n",
              "      <td>-0.156371</td>\n",
              "    </tr>\n",
              "    <tr>\n",
              "      <th>rougher.input.feed_sol</th>\n",
              "      <td>0.096747</td>\n",
              "      <td>0.116474</td>\n",
              "      <td>0.089422</td>\n",
              "      <td>1.000000</td>\n",
              "      <td>0.611077</td>\n",
              "      <td>0.164473</td>\n",
              "      <td>0.301331</td>\n",
              "      <td>0.380112</td>\n",
              "      <td>0.169179</td>\n",
              "      <td>0.313737</td>\n",
              "      <td>...</td>\n",
              "      <td>-0.100600</td>\n",
              "      <td>0.219791</td>\n",
              "      <td>-0.036820</td>\n",
              "      <td>0.118352</td>\n",
              "      <td>0.045898</td>\n",
              "      <td>0.252644</td>\n",
              "      <td>-0.109788</td>\n",
              "      <td>0.016904</td>\n",
              "      <td>-0.013428</td>\n",
              "      <td>0.381382</td>\n",
              "    </tr>\n",
              "    <tr>\n",
              "      <th>rougher.input.feed_rate</th>\n",
              "      <td>-0.189772</td>\n",
              "      <td>-0.133592</td>\n",
              "      <td>-0.144467</td>\n",
              "      <td>0.611077</td>\n",
              "      <td>1.000000</td>\n",
              "      <td>0.114493</td>\n",
              "      <td>0.246745</td>\n",
              "      <td>0.599311</td>\n",
              "      <td>0.010007</td>\n",
              "      <td>0.141468</td>\n",
              "      <td>...</td>\n",
              "      <td>-0.077339</td>\n",
              "      <td>0.161236</td>\n",
              "      <td>-0.167051</td>\n",
              "      <td>0.066713</td>\n",
              "      <td>-0.147701</td>\n",
              "      <td>0.173195</td>\n",
              "      <td>-0.293702</td>\n",
              "      <td>-0.053823</td>\n",
              "      <td>-0.254379</td>\n",
              "      <td>0.473299</td>\n",
              "    </tr>\n",
              "    <tr>\n",
              "      <th>...</th>\n",
              "      <td>...</td>\n",
              "      <td>...</td>\n",
              "      <td>...</td>\n",
              "      <td>...</td>\n",
              "      <td>...</td>\n",
              "      <td>...</td>\n",
              "      <td>...</td>\n",
              "      <td>...</td>\n",
              "      <td>...</td>\n",
              "      <td>...</td>\n",
              "      <td>...</td>\n",
              "      <td>...</td>\n",
              "      <td>...</td>\n",
              "      <td>...</td>\n",
              "      <td>...</td>\n",
              "      <td>...</td>\n",
              "      <td>...</td>\n",
              "      <td>...</td>\n",
              "      <td>...</td>\n",
              "      <td>...</td>\n",
              "      <td>...</td>\n",
              "    </tr>\n",
              "    <tr>\n",
              "      <th>final.output.recovery</th>\n",
              "      <td>0.295343</td>\n",
              "      <td>0.286823</td>\n",
              "      <td>0.188241</td>\n",
              "      <td>0.252644</td>\n",
              "      <td>0.173195</td>\n",
              "      <td>0.042208</td>\n",
              "      <td>0.061237</td>\n",
              "      <td>0.324669</td>\n",
              "      <td>0.183223</td>\n",
              "      <td>0.065369</td>\n",
              "      <td>...</td>\n",
              "      <td>-0.027205</td>\n",
              "      <td>0.288568</td>\n",
              "      <td>0.185964</td>\n",
              "      <td>0.151998</td>\n",
              "      <td>0.287049</td>\n",
              "      <td>1.000000</td>\n",
              "      <td>-0.409200</td>\n",
              "      <td>0.126129</td>\n",
              "      <td>-0.128006</td>\n",
              "      <td>-0.049568</td>\n",
              "    </tr>\n",
              "    <tr>\n",
              "      <th>final.output.tail_au</th>\n",
              "      <td>0.642479</td>\n",
              "      <td>0.498710</td>\n",
              "      <td>0.474336</td>\n",
              "      <td>-0.109788</td>\n",
              "      <td>-0.293702</td>\n",
              "      <td>-0.183005</td>\n",
              "      <td>0.234087</td>\n",
              "      <td>-0.073644</td>\n",
              "      <td>-0.036476</td>\n",
              "      <td>-0.153772</td>\n",
              "      <td>...</td>\n",
              "      <td>0.337660</td>\n",
              "      <td>-0.031696</td>\n",
              "      <td>0.206570</td>\n",
              "      <td>-0.047438</td>\n",
              "      <td>0.260118</td>\n",
              "      <td>-0.409200</td>\n",
              "      <td>1.000000</td>\n",
              "      <td>0.444445</td>\n",
              "      <td>0.617250</td>\n",
              "      <td>0.077046</td>\n",
              "    </tr>\n",
              "    <tr>\n",
              "      <th>final.output.tail_ag</th>\n",
              "      <td>0.594328</td>\n",
              "      <td>0.777665</td>\n",
              "      <td>0.403668</td>\n",
              "      <td>0.016904</td>\n",
              "      <td>-0.053823</td>\n",
              "      <td>-0.059565</td>\n",
              "      <td>-0.044258</td>\n",
              "      <td>0.293557</td>\n",
              "      <td>0.260247</td>\n",
              "      <td>-0.095132</td>\n",
              "      <td>...</td>\n",
              "      <td>0.223641</td>\n",
              "      <td>0.080601</td>\n",
              "      <td>0.334671</td>\n",
              "      <td>-0.126458</td>\n",
              "      <td>0.262711</td>\n",
              "      <td>0.126129</td>\n",
              "      <td>0.444445</td>\n",
              "      <td>1.000000</td>\n",
              "      <td>0.313026</td>\n",
              "      <td>0.138437</td>\n",
              "    </tr>\n",
              "    <tr>\n",
              "      <th>final.output.tail_pb</th>\n",
              "      <td>0.509664</td>\n",
              "      <td>0.286738</td>\n",
              "      <td>0.780368</td>\n",
              "      <td>-0.013428</td>\n",
              "      <td>-0.254379</td>\n",
              "      <td>-0.112227</td>\n",
              "      <td>0.387279</td>\n",
              "      <td>-0.147459</td>\n",
              "      <td>0.095083</td>\n",
              "      <td>0.233658</td>\n",
              "      <td>...</td>\n",
              "      <td>0.031165</td>\n",
              "      <td>0.075180</td>\n",
              "      <td>-0.059771</td>\n",
              "      <td>0.235540</td>\n",
              "      <td>0.245848</td>\n",
              "      <td>-0.128006</td>\n",
              "      <td>0.617250</td>\n",
              "      <td>0.313026</td>\n",
              "      <td>1.000000</td>\n",
              "      <td>-0.133839</td>\n",
              "    </tr>\n",
              "    <tr>\n",
              "      <th>final.output.tail_sol</th>\n",
              "      <td>-0.008640</td>\n",
              "      <td>0.013369</td>\n",
              "      <td>-0.156371</td>\n",
              "      <td>0.381382</td>\n",
              "      <td>0.473299</td>\n",
              "      <td>-0.032732</td>\n",
              "      <td>0.230988</td>\n",
              "      <td>0.313387</td>\n",
              "      <td>-0.113743</td>\n",
              "      <td>-0.178856</td>\n",
              "      <td>...</td>\n",
              "      <td>0.371099</td>\n",
              "      <td>0.134998</td>\n",
              "      <td>0.029078</td>\n",
              "      <td>0.094332</td>\n",
              "      <td>-0.043340</td>\n",
              "      <td>-0.049568</td>\n",
              "      <td>0.077046</td>\n",
              "      <td>0.138437</td>\n",
              "      <td>-0.133839</td>\n",
              "      <td>1.000000</td>\n",
              "    </tr>\n",
              "  </tbody>\n",
              "</table>\n",
              "<p>86 rows × 86 columns</p>\n",
              "</div>"
            ],
            "text/plain": [
              "                         rougher.input.feed_au  rougher.input.feed_ag  \\\n",
              "rougher.input.feed_au                 1.000000               0.845274   \n",
              "rougher.input.feed_ag                 0.845274               1.000000   \n",
              "rougher.input.feed_pb                 0.697386               0.502556   \n",
              "rougher.input.feed_sol                0.096747               0.116474   \n",
              "rougher.input.feed_rate              -0.189772              -0.133592   \n",
              "...                                        ...                    ...   \n",
              "final.output.recovery                 0.295343               0.286823   \n",
              "final.output.tail_au                  0.642479               0.498710   \n",
              "final.output.tail_ag                  0.594328               0.777665   \n",
              "final.output.tail_pb                  0.509664               0.286738   \n",
              "final.output.tail_sol                -0.008640               0.013369   \n",
              "\n",
              "                         rougher.input.feed_pb  rougher.input.feed_sol  \\\n",
              "rougher.input.feed_au                 0.697386                0.096747   \n",
              "rougher.input.feed_ag                 0.502556                0.116474   \n",
              "rougher.input.feed_pb                 1.000000                0.089422   \n",
              "rougher.input.feed_sol                0.089422                1.000000   \n",
              "rougher.input.feed_rate              -0.144467                0.611077   \n",
              "...                                        ...                     ...   \n",
              "final.output.recovery                 0.188241                0.252644   \n",
              "final.output.tail_au                  0.474336               -0.109788   \n",
              "final.output.tail_ag                  0.403668                0.016904   \n",
              "final.output.tail_pb                  0.780368               -0.013428   \n",
              "final.output.tail_sol                -0.156371                0.381382   \n",
              "\n",
              "                         rougher.input.feed_rate  rougher.input.feed_size  \\\n",
              "rougher.input.feed_au                  -0.189772                -0.153219   \n",
              "rougher.input.feed_ag                  -0.133592                -0.111692   \n",
              "rougher.input.feed_pb                  -0.144467                -0.059257   \n",
              "rougher.input.feed_sol                  0.611077                 0.164473   \n",
              "rougher.input.feed_rate                 1.000000                 0.114493   \n",
              "...                                          ...                      ...   \n",
              "final.output.recovery                   0.173195                 0.042208   \n",
              "final.output.tail_au                   -0.293702                -0.183005   \n",
              "final.output.tail_ag                   -0.053823                -0.059565   \n",
              "final.output.tail_pb                   -0.254379                -0.112227   \n",
              "final.output.tail_sol                   0.473299                -0.032732   \n",
              "\n",
              "                         rougher.input.floatbank10_sulfate  \\\n",
              "rougher.input.feed_au                             0.296931   \n",
              "rougher.input.feed_ag                             0.110162   \n",
              "rougher.input.feed_pb                             0.277965   \n",
              "rougher.input.feed_sol                            0.301331   \n",
              "rougher.input.feed_rate                           0.246745   \n",
              "...                                                    ...   \n",
              "final.output.recovery                             0.061237   \n",
              "final.output.tail_au                              0.234087   \n",
              "final.output.tail_ag                             -0.044258   \n",
              "final.output.tail_pb                              0.387279   \n",
              "final.output.tail_sol                             0.230988   \n",
              "\n",
              "                         rougher.input.floatbank10_xanthate  \\\n",
              "rougher.input.feed_au                              0.209298   \n",
              "rougher.input.feed_ag                              0.232039   \n",
              "rougher.input.feed_pb                              0.077966   \n",
              "rougher.input.feed_sol                             0.380112   \n",
              "rougher.input.feed_rate                            0.599311   \n",
              "...                                                     ...   \n",
              "final.output.recovery                              0.324669   \n",
              "final.output.tail_au                              -0.073644   \n",
              "final.output.tail_ag                               0.293557   \n",
              "final.output.tail_pb                              -0.147459   \n",
              "final.output.tail_sol                              0.313387   \n",
              "\n",
              "                         rougher.state.floatbank10_a_air  \\\n",
              "rougher.input.feed_au                           0.154816   \n",
              "rougher.input.feed_ag                           0.278215   \n",
              "rougher.input.feed_pb                           0.250351   \n",
              "rougher.input.feed_sol                          0.169179   \n",
              "rougher.input.feed_rate                         0.010007   \n",
              "...                                                  ...   \n",
              "final.output.recovery                           0.183223   \n",
              "final.output.tail_au                           -0.036476   \n",
              "final.output.tail_ag                            0.260247   \n",
              "final.output.tail_pb                            0.095083   \n",
              "final.output.tail_sol                          -0.113743   \n",
              "\n",
              "                         rougher.state.floatbank10_a_level  ...  \\\n",
              "rougher.input.feed_au                            -0.102165  ...   \n",
              "rougher.input.feed_ag                            -0.124144  ...   \n",
              "rougher.input.feed_pb                             0.234603  ...   \n",
              "rougher.input.feed_sol                            0.313737  ...   \n",
              "rougher.input.feed_rate                           0.141468  ...   \n",
              "...                                                    ...  ...   \n",
              "final.output.recovery                             0.065369  ...   \n",
              "final.output.tail_au                             -0.153772  ...   \n",
              "final.output.tail_ag                             -0.095132  ...   \n",
              "final.output.tail_pb                              0.233658  ...   \n",
              "final.output.tail_sol                            -0.178856  ...   \n",
              "\n",
              "                         secondary_cleaner.output.tail_sol  \\\n",
              "rougher.input.feed_au                             0.333905   \n",
              "rougher.input.feed_ag                             0.343520   \n",
              "rougher.input.feed_pb                             0.001542   \n",
              "rougher.input.feed_sol                           -0.100600   \n",
              "rougher.input.feed_rate                          -0.077339   \n",
              "...                                                    ...   \n",
              "final.output.recovery                            -0.027205   \n",
              "final.output.tail_au                              0.337660   \n",
              "final.output.tail_ag                              0.223641   \n",
              "final.output.tail_pb                              0.031165   \n",
              "final.output.tail_sol                             0.371099   \n",
              "\n",
              "                         final.output.concentrate_au  \\\n",
              "rougher.input.feed_au                       0.035095   \n",
              "rougher.input.feed_ag                       0.020728   \n",
              "rougher.input.feed_pb                       0.003578   \n",
              "rougher.input.feed_sol                      0.219791   \n",
              "rougher.input.feed_rate                     0.161236   \n",
              "...                                              ...   \n",
              "final.output.recovery                       0.288568   \n",
              "final.output.tail_au                       -0.031696   \n",
              "final.output.tail_ag                        0.080601   \n",
              "final.output.tail_pb                        0.075180   \n",
              "final.output.tail_sol                       0.134998   \n",
              "\n",
              "                         final.output.concentrate_ag  \\\n",
              "rougher.input.feed_au                       0.315846   \n",
              "rougher.input.feed_ag                       0.456332   \n",
              "rougher.input.feed_pb                       0.066407   \n",
              "rougher.input.feed_sol                     -0.036820   \n",
              "rougher.input.feed_rate                    -0.167051   \n",
              "...                                              ...   \n",
              "final.output.recovery                       0.185964   \n",
              "final.output.tail_au                        0.206570   \n",
              "final.output.tail_ag                        0.334671   \n",
              "final.output.tail_pb                       -0.059771   \n",
              "final.output.tail_sol                       0.029078   \n",
              "\n",
              "                         final.output.concentrate_pb  \\\n",
              "rougher.input.feed_au                      -0.079777   \n",
              "rougher.input.feed_ag                      -0.207906   \n",
              "rougher.input.feed_pb                       0.315530   \n",
              "rougher.input.feed_sol                      0.118352   \n",
              "rougher.input.feed_rate                     0.066713   \n",
              "...                                              ...   \n",
              "final.output.recovery                       0.151998   \n",
              "final.output.tail_au                       -0.047438   \n",
              "final.output.tail_ag                       -0.126458   \n",
              "final.output.tail_pb                        0.235540   \n",
              "final.output.tail_sol                       0.094332   \n",
              "\n",
              "                         final.output.concentrate_sol  final.output.recovery  \\\n",
              "rougher.input.feed_au                        0.484610               0.295343   \n",
              "rougher.input.feed_ag                        0.473888               0.286823   \n",
              "rougher.input.feed_pb                        0.216749               0.188241   \n",
              "rougher.input.feed_sol                       0.045898               0.252644   \n",
              "rougher.input.feed_rate                     -0.147701               0.173195   \n",
              "...                                               ...                    ...   \n",
              "final.output.recovery                        0.287049               1.000000   \n",
              "final.output.tail_au                         0.260118              -0.409200   \n",
              "final.output.tail_ag                         0.262711               0.126129   \n",
              "final.output.tail_pb                         0.245848              -0.128006   \n",
              "final.output.tail_sol                       -0.043340              -0.049568   \n",
              "\n",
              "                         final.output.tail_au  final.output.tail_ag  \\\n",
              "rougher.input.feed_au                0.642479              0.594328   \n",
              "rougher.input.feed_ag                0.498710              0.777665   \n",
              "rougher.input.feed_pb                0.474336              0.403668   \n",
              "rougher.input.feed_sol              -0.109788              0.016904   \n",
              "rougher.input.feed_rate             -0.293702             -0.053823   \n",
              "...                                       ...                   ...   \n",
              "final.output.recovery               -0.409200              0.126129   \n",
              "final.output.tail_au                 1.000000              0.444445   \n",
              "final.output.tail_ag                 0.444445              1.000000   \n",
              "final.output.tail_pb                 0.617250              0.313026   \n",
              "final.output.tail_sol                0.077046              0.138437   \n",
              "\n",
              "                         final.output.tail_pb  final.output.tail_sol  \n",
              "rougher.input.feed_au                0.509664              -0.008640  \n",
              "rougher.input.feed_ag                0.286738               0.013369  \n",
              "rougher.input.feed_pb                0.780368              -0.156371  \n",
              "rougher.input.feed_sol              -0.013428               0.381382  \n",
              "rougher.input.feed_rate             -0.254379               0.473299  \n",
              "...                                       ...                    ...  \n",
              "final.output.recovery               -0.128006              -0.049568  \n",
              "final.output.tail_au                 0.617250               0.077046  \n",
              "final.output.tail_ag                 0.313026               0.138437  \n",
              "final.output.tail_pb                 1.000000              -0.133839  \n",
              "final.output.tail_sol               -0.133839               1.000000  \n",
              "\n",
              "[86 rows x 86 columns]"
            ]
          },
          "execution_count": 21,
          "metadata": {},
          "output_type": "execute_result"
        }
      ],
      "source": [
        "# Исследуем проблему мультиколлинеарности\n",
        "gold_industry_full.corr()"
      ]
    },
    {
      "cell_type": "markdown",
      "metadata": {
        "id": "lEMA_YCQzK61"
      },
      "source": [
        "Проблем с мультиколлинеарностью не замечено, с данными можно работать"
      ]
    },
    {
      "cell_type": "markdown",
      "metadata": {
        "id": "jQ0RQIQxzK62"
      },
      "source": [
        "### Подвывод"
      ]
    },
    {
      "cell_type": "markdown",
      "metadata": {
        "id": "dj2Hx264zK62"
      },
      "source": [
        "Мы проверили правильность расчёта эффективности, проанализировали отсутствовавшие признаки в тестовой выборке, подсчитали долю пропусков и заполнили на основе близжайшей по времени строки, изучили структуру и основные характеристики данные, а также проверили потенциальную проблему мультиколлинеарности и масштабировали числовые признаки. Данные готовы для дальнейшей работы"
      ]
    },
    {
      "cell_type": "markdown",
      "metadata": {
        "id": "EOQkmzZ3zK62"
      },
      "source": [
        "## Анализ данных"
      ]
    },
    {
      "cell_type": "markdown",
      "metadata": {
        "id": "h8uRHrpIzK63"
      },
      "source": [
        "### Как меняется концентрация металлов (Au, Ag, Pb) на различных этапах"
      ]
    },
    {
      "cell_type": "code",
      "execution_count": null,
      "metadata": {
        "id": "QgrRy9wEzK63",
        "outputId": "601eb4d1-282e-456b-c5d4-b4c78795a86f"
      },
      "outputs": [
        {
          "data": {
            "text/plain": [
              "array([0, 1, 2])"
            ]
          },
          "execution_count": 22,
          "metadata": {},
          "output_type": "execute_result"
        }
      ],
      "source": [
        "xpos = np.array([0,1,2])\n",
        "xpos"
      ]
    },
    {
      "cell_type": "code",
      "execution_count": null,
      "metadata": {
        "scrolled": false,
        "id": "JDZDltOuzK63",
        "outputId": "7ff7c867-014a-4a77-f9a6-27191a3058ba"
      },
      "outputs": [
        {
          "data": {
            "image/png": "[encoded data removed]",
            "text/plain": [
              "<Figure size 1200x700 with 4 Axes>"
            ]
          },
          "metadata": {},
          "output_type": "display_data"
        }
      ],
      "source": [
        "#Строим матрицу распределений\n",
        "plt.figure(figsize=(12,7))\n",
        "plt.rc('font', size=10)\n",
        "margins = {\"left\": 0.025, \"bottom\": 0.010, \"right\": 0.990, \"top\": 0.999}\n",
        "\n",
        "\n",
        "#Концетрация металла в сырье\n",
        "plt.subplot(221)\n",
        "plt.boxplot(gold_industry_full[['rougher.input.feed_au', 'rougher.input.feed_pb', 'rougher.input.feed_ag']])\n",
        "plt.xlabel('Металл')\n",
        "plt.ylabel('Концетрация')\n",
        "plt.title('Концетрация металла в сырье')\n",
        "plt.subplots_adjust(**margins)\n",
        "plt.xticks(xpos+1, ['Au', 'Pb', 'Ag'])\n",
        "\n",
        "#Концетрация металла в черновом концетрате\n",
        "plt.subplot(222)\n",
        "plt.boxplot(gold_industry_full[['rougher.output.concentrate_au',\n",
        "                                'rougher.output.concentrate_pb',\n",
        "                                'rougher.output.concentrate_ag']])\n",
        "plt.xlabel('Металл')\n",
        "plt.ylabel('Концетрация')\n",
        "plt.title('Концетрация металла в черновом концетрате')\n",
        "plt.xticks(xpos+1, ['Au', 'Pb', 'Ag'])\n",
        "\n",
        "#Концетрация металла в концетрате после первой отчистки\n",
        "plt.subplot(223)\n",
        "plt.boxplot(gold_industry_full[['primary_cleaner.output.concentrate_au',\n",
        "                                'primary_cleaner.output.concentrate_pb',\n",
        "                                'primary_cleaner.output.concentrate_ag']])\n",
        "plt.xlabel('Металл')\n",
        "plt.ylabel('Концетрация')\n",
        "plt.title('Концетрация металла в концетрате после первой отчистки')\n",
        "plt.xticks(xpos+1, ['Au', 'Pb', 'Ag'])\n",
        "\n",
        "#Концетрация металла в финальном концетрате\n",
        "plt.subplot(224)\n",
        "plt.boxplot(gold_industry_full[['final.output.concentrate_au',\n",
        "                                'final.output.concentrate_pb',\n",
        "                                'final.output.concentrate_ag']])\n",
        "plt.xlabel('Металл')\n",
        "plt.ylabel('Концетрация')\n",
        "plt.title('Концетрация металла в финальном концетрате')\n",
        "plt.xticks(xpos+1, ['Au', 'Pb', 'Ag'])\n",
        "plt.show()"
      ]
    },
    {
      "cell_type": "markdown",
      "metadata": {
        "id": "3EqXl9AVzK63"
      },
      "source": [
        "В графике мы заметили много аномалий, которые могут быть проблемой из-за их потенциального влияния на результаты обучения. Чтобы этого избежать, мы избавимся от данных не входящих в межквартальных размах."
      ]
    },
    {
      "cell_type": "code",
      "execution_count": null,
      "metadata": {
        "id": "Wc_qCMaBzK63"
      },
      "outputs": [],
      "source": [
        "#Удаляем аномалии\n",
        "for i in ['rougher.input.feed_au',\n",
        "          'rougher.input.feed_pb',\n",
        "          'rougher.input.feed_ag',\n",
        "          'rougher.output.concentrate_au',\n",
        "          'rougher.output.concentrate_pb',\n",
        "          'rougher.output.concentrate_ag',\n",
        "          'primary_cleaner.output.concentrate_au',\n",
        "          'primary_cleaner.output.concentrate_pb',\n",
        "          'primary_cleaner.output.concentrate_ag',\n",
        "          'final.output.concentrate_au',\n",
        "          'final.output.concentrate_pb',\n",
        "          'final.output.concentrate_ag']:\n",
        "    Q1 = gold_industry_full[i].quantile(q=.25)\n",
        "    Q3 = gold_industry_full[i].quantile(q=.75)\n",
        "    IQR = Q3-Q1\n",
        "    gold_industry_full = gold_industry_full.loc[(gold_industry_full[i] >= (Q1 - 1.5 * IQR))\n",
        "                                                & (gold_industry_full[i] <= (Q3 + 1.5 * IQR))]\n"
      ]
    },
    {
      "cell_type": "code",
      "execution_count": null,
      "metadata": {
        "id": "LmLzvvO3zK64",
        "outputId": "e250bc59-1eff-4c73-c0c6-32acf6122c65"
      },
      "outputs": [
        {
          "name": "stdout",
          "output_type": "stream",
          "text": [
            "До фильтра 14579\n",
            "После фильтра 11632\n"
          ]
        }
      ],
      "source": [
        "#Удаляем соответствующие строки из тренировочной выборки\n",
        "print(\"До фильтра\", gold_industry_train.shape[0])\n",
        "gold_industry_train = gold_industry_train[gold_industry_train['date'].isin(gold_industry_full['date'])]\n",
        "print(\"После фильтра\", gold_industry_train.shape[0])"
      ]
    },
    {
      "cell_type": "code",
      "execution_count": null,
      "metadata": {
        "id": "XZ1ivS0fzK64",
        "outputId": "e86ed475-d032-40ff-ea60-bf7bff6f20e9"
      },
      "outputs": [
        {
          "data": {
            "image/png": "[encoded data removed]",
            "text/plain": [
              "<Figure size 1200x700 with 4 Axes>"
            ]
          },
          "metadata": {},
          "output_type": "display_data"
        }
      ],
      "source": [
        "#Строим матрицу распределений\n",
        "plt.figure(figsize=(12,7))\n",
        "plt.rc('font', size=10)\n",
        "margins = {\"left\": 0.025, \"bottom\": 0.010, \"right\": 0.990, \"top\": 0.999}\n",
        "\n",
        "\n",
        "#Концетрация металла в сырье\n",
        "plt.subplot(221)\n",
        "plt.boxplot(gold_industry_full[['rougher.input.feed_au', 'rougher.input.feed_pb', 'rougher.input.feed_ag']])\n",
        "plt.xlabel('Металл')\n",
        "plt.ylabel('Концетрация')\n",
        "plt.title('Концетрация металла в сырье')\n",
        "plt.subplots_adjust(**margins)\n",
        "plt.xticks(xpos+1, ['Au', 'Pb', 'Ag'])\n",
        "\n",
        "#Концетрация металла в черновом концетрате\n",
        "plt.subplot(222)\n",
        "plt.boxplot(gold_industry_full[['rougher.output.concentrate_au',\n",
        "                                'rougher.output.concentrate_pb',\n",
        "                                'rougher.output.concentrate_ag']])\n",
        "plt.xlabel('Металл')\n",
        "plt.ylabel('Концетрация')\n",
        "plt.title('Концетрация металла в черновом концетрате')\n",
        "plt.xticks(xpos+1, ['Au', 'Pb', 'Ag'])\n",
        "\n",
        "#Концетрация металла в концетрате после первой отчистки\n",
        "plt.subplot(223)\n",
        "plt.boxplot(gold_industry_full[['primary_cleaner.output.concentrate_au',\n",
        "                                'primary_cleaner.output.concentrate_pb',\n",
        "                                'primary_cleaner.output.concentrate_ag']])\n",
        "plt.xlabel('Металл')\n",
        "plt.ylabel('Концетрация')\n",
        "plt.title('Концетрация металла в концетрате после первой отчистки')\n",
        "plt.xticks(xpos+1, ['Au', 'Pb', 'Ag'])\n",
        "\n",
        "#Концетрация металла в финальном концетрате\n",
        "plt.subplot(224)\n",
        "plt.boxplot(gold_industry_full[['final.output.concentrate_au',\n",
        "                                'final.output.concentrate_pb',\n",
        "                                'final.output.concentrate_ag']])\n",
        "plt.xlabel('Металл')\n",
        "plt.ylabel('Концетрация')\n",
        "plt.title('Концетрация металла в финальном концетрате')\n",
        "plt.xticks(xpos+1, ['Au', 'Pb', 'Ag'])\n",
        "plt.show()"
      ]
    },
    {
      "cell_type": "markdown",
      "metadata": {
        "id": "sYgmOCyzzK65"
      },
      "source": [
        "В ходе этапов отчистки уменьшается разброс концетрации всех металлов. Концетрация золота увеличивается, в 75% случаях находится в районе 43-46. Концетрация свинца в процессе отчистки становится незначительно ниже, а концетрация серебра уменьшается значительно: в сырье она находится на уровне золота, но с каждым этапом становится всё меньше и меньше, пока не достигает точки концетрации даже ниже, чем у свинца в финатльном концетрате."
      ]
    },
    {
      "cell_type": "markdown",
      "metadata": {
        "id": "1MN2e2TrzK65"
      },
      "source": [
        "### Распределения размеров гранул исходного сырья на обучающей и тестовой выборках"
      ]
    },
    {
      "cell_type": "code",
      "execution_count": null,
      "metadata": {
        "scrolled": false,
        "id": "uonI_YRuzK65",
        "outputId": "f0a4a1f3-02b8-43aa-ad68-58419b60aaa9"
      },
      "outputs": [
        {
          "data": {
            "image/png": "[encoded data removed]",
            "text/plain": [
              "<Figure size 1200x700 with 2 Axes>"
            ]
          },
          "metadata": {},
          "output_type": "display_data"
        }
      ],
      "source": [
        "plt.figure(figsize=(12,7))\n",
        "\n",
        "\n",
        "\n",
        "plt.subplot(121)\n",
        "plt.boxplot(gold_industry_test['rougher.input.feed_size'])\n",
        "plt.ylabel('Размер гранул')\n",
        "plt.title('Тестовая выборка')\n",
        "\n",
        "\n",
        "\n",
        "plt.subplot(122)\n",
        "plt.boxplot(gold_industry_train['rougher.input.feed_size'])\n",
        "plt.ylabel('Размер гранул')\n",
        "plt.title('Обучающая выборка')\n",
        "plt.show()"
      ]
    },
    {
      "cell_type": "markdown",
      "metadata": {
        "id": "23AraMvzzK65"
      },
      "source": [
        "Если распределения сильно отличаются друг от друга, оценка модели будет неправильной. В нашем случае размер гранул для тестовой и обучающей выборок отличаются незначительно, значит можем работать с данными дальше. Также мы можем заметить большое кол-во выбросов, от которых стоит избавиться."
      ]
    },
    {
      "cell_type": "code",
      "execution_count": null,
      "metadata": {
        "id": "2jIm-uIozK66"
      },
      "outputs": [],
      "source": [
        "Q1 = gold_industry_test['rougher.input.feed_size'].quantile(q=.25)\n",
        "Q3 = gold_industry_test['rougher.input.feed_size'].quantile(q=.75)\n",
        "IQR = Q3-Q1\n",
        "gold_industry_test = gold_industry_test.loc[(gold_industry_test['rougher.input.feed_size'] >= (Q1 - 1.5 * IQR)) &\n",
        "                                            (gold_industry_test['rougher.input.feed_size'] <= (Q3 + 1.5 * IQR))]"
      ]
    },
    {
      "cell_type": "code",
      "execution_count": null,
      "metadata": {
        "id": "jch_SxVqzK66"
      },
      "outputs": [],
      "source": [
        "Q1 = gold_industry_train['rougher.input.feed_size'].quantile(q=.25)\n",
        "Q3 = gold_industry_train['rougher.input.feed_size'].quantile(q=.75)\n",
        "IQR = Q3-Q1\n",
        "gold_industry_train = gold_industry_train.loc[(gold_industry_train['rougher.input.feed_size'] >= (Q1 - 1.5 * IQR)) &\n",
        "                                              (gold_industry_train['rougher.input.feed_size'] <= (Q3 + 1.5 * IQR))]"
      ]
    },
    {
      "cell_type": "code",
      "execution_count": null,
      "metadata": {
        "id": "uJVrMoGszK66",
        "outputId": "d4997e8f-727b-4b0a-c4bb-7ada0220dbf6"
      },
      "outputs": [
        {
          "data": {
            "image/png": "[encoded data removed]",
            "text/plain": [
              "<Figure size 1200x700 with 2 Axes>"
            ]
          },
          "metadata": {},
          "output_type": "display_data"
        }
      ],
      "source": [
        "plt.figure(figsize=(12,7))\n",
        "\n",
        "\n",
        "\n",
        "plt.subplot(121)\n",
        "plt.boxplot(gold_industry_test['rougher.input.feed_size'])\n",
        "plt.ylabel('Размер гранул')\n",
        "plt.title('Тестовая выборка')\n",
        "\n",
        "\n",
        "\n",
        "plt.subplot(122)\n",
        "plt.boxplot(gold_industry_train['rougher.input.feed_size'])\n",
        "plt.ylabel('Размер гранул')\n",
        "plt.title('Обучающая выборка')\n",
        "plt.show()"
      ]
    },
    {
      "cell_type": "markdown",
      "metadata": {
        "id": "ddbGs-cYzK66"
      },
      "source": [
        "### Суммарная концентрация металлов на разных стадиях"
      ]
    },
    {
      "cell_type": "code",
      "execution_count": null,
      "metadata": {
        "id": "ka7QkdWFzK67",
        "outputId": "ae1ccea0-0f66-439a-8c5a-8b766078b537"
      },
      "outputs": [
        {
          "name": "stdout",
          "output_type": "stream",
          "text": [
            "До фильтра 11139\n",
            "После фильтра 11139\n"
          ]
        }
      ],
      "source": [
        "#Удаляем соответствующие строки из тренировочной выборки\n",
        "print(\"До фильтра\", gold_industry_train.shape[0])\n",
        "gold_industry_train = gold_industry_train[gold_industry_train['date'].isin(gold_industry_full['date'])]\n",
        "print(\"После фильтра\", gold_industry_train.shape[0])"
      ]
    },
    {
      "cell_type": "code",
      "execution_count": null,
      "metadata": {
        "id": "SXDe3I5lzK67"
      },
      "outputs": [],
      "source": [
        "au_list = (gold_industry_full['rougher.input.feed_au'].sum(),\n",
        "              gold_industry_full['rougher.output.concentrate_au'].sum(),\n",
        "              gold_industry_full['primary_cleaner.output.concentrate_au'].sum(),\n",
        "              gold_industry_full['final.output.concentrate_au'].sum())\n",
        "\n",
        "pb_list = (gold_industry_full['rougher.input.feed_pb'].sum(),\n",
        "              gold_industry_full['rougher.output.concentrate_pb'].sum(),\n",
        "              gold_industry_full['primary_cleaner.output.concentrate_pb'].sum(),\n",
        "              gold_industry_full['final.output.concentrate_pb'].sum())\n",
        "\n",
        "ag_list = (gold_industry_full['rougher.input.feed_au'].sum(),\n",
        "              gold_industry_full['rougher.output.concentrate_au'].sum(),\n",
        "              gold_industry_full['primary_cleaner.output.concentrate_au'].sum(),\n",
        "              gold_industry_full['final.output.concentrate_au'].sum())\n"
      ]
    },
    {
      "cell_type": "code",
      "execution_count": null,
      "metadata": {
        "scrolled": true,
        "id": "vaiarSqyzK67",
        "outputId": "3b55884c-2c12-4961-b113-5e0c8ef06e1c"
      },
      "outputs": [
        {
          "data": {
            "text/plain": [
              "array([0, 1, 2, 3])"
            ]
          },
          "execution_count": 33,
          "metadata": {},
          "output_type": "execute_result"
        }
      ],
      "source": [
        "xpos = np.array([0,1,2,3])\n",
        "xpos"
      ]
    },
    {
      "cell_type": "code",
      "execution_count": null,
      "metadata": {
        "scrolled": false,
        "id": "FhDaGSLUzK67",
        "outputId": "5c89a298-8bcb-4618-c955-cb77dac313da"
      },
      "outputs": [
        {
          "data": {
            "image/png": "[encoded data removed]",
            "text/plain": [
              "<Figure size 1000x700 with 1 Axes>"
            ]
          },
          "metadata": {},
          "output_type": "display_data"
        }
      ],
      "source": [
        "plt.figure(figsize=(10,7))\n",
        "plt.bar(xpos, au_list, color='gold', width=0.2, label='Au')\n",
        "plt.bar(xpos+0.2, pb_list, color='black', width=0.2, label='Pb')\n",
        "plt.bar(xpos+0.4, ag_list, color='silver', width=0.2, label='Ag')\n",
        "plt.legend()\n",
        "plt.xlabel(\"Этап\")\n",
        "plt.ylabel('Суммарная концетрация')\n",
        "plt.title('Суммарная концетрация металла на разных производственных этапах')\n",
        "plt.xticks(xpos+0.2, [\"Сырьё\", \"Черн. концетрат\", \"Первая отчистка\", \"Финальный концетрат\"])\n",
        "plt.show()"
      ]
    },
    {
      "cell_type": "markdown",
      "metadata": {
        "id": "3BIStwEdzK68"
      },
      "source": [
        "Концентрация всех металлов увеличивается с каждым этапом отчистки. Коцентрация золота и серебра находятся всегда на одном уровне и растут стремительно. Коцетрация свинца же растёт очень медленно и его коцентрация сильно меньше вышеупомянутых металлов на каждом этапе, чем больше прошло этапов очистки, тем сильнее разрыв"
      ]
    },
    {
      "cell_type": "markdown",
      "metadata": {
        "id": "7oOjKLqizK68"
      },
      "source": [
        "### Подвывод"
      ]
    },
    {
      "cell_type": "markdown",
      "metadata": {
        "id": "9rCrchzMzK68"
      },
      "source": [
        "Мы провели анализ данных и на основе его результатов нашли и удалили выбросы, которые бы делали результаты ML неточными."
      ]
    },
    {
      "cell_type": "markdown",
      "metadata": {
        "id": "JaE0rIPozK69"
      },
      "source": [
        "## Модель"
      ]
    },
    {
      "cell_type": "markdown",
      "metadata": {
        "id": "ZrHIAPsGzK69"
      },
      "source": [
        "Наша задача -- задача регрессии, следотвательно мы можем применить модели дерева решений, случйного леса и линейной регрессии, качество будем проверять на основе метрике sMAPE c помощью кросс-валидации"
      ]
    },
    {
      "cell_type": "markdown",
      "metadata": {
        "id": "EKOYd6AOzK69"
      },
      "source": [
        "### Функция sMAPE"
      ]
    },
    {
      "cell_type": "code",
      "execution_count": null,
      "metadata": {
        "id": "4-SmANGRzK69"
      },
      "outputs": [],
      "source": [
        "def my_smape(y, y_pred):\n",
        "    y, y_pred = np.array(y), np.array(y_pred)\n",
        "    result = np.abs(y - y_pred) / ((np.abs(y) + np.abs(y_pred)) / 2) * 100\n",
        "    return np.sum(result)/len(result)"
      ]
    },
    {
      "cell_type": "code",
      "execution_count": null,
      "metadata": {
        "id": "t_cPuyVqzK69"
      },
      "outputs": [],
      "source": [
        "smape = make_scorer(my_smape, greater_is_better = False)"
      ]
    },
    {
      "cell_type": "code",
      "execution_count": null,
      "metadata": {
        "id": "NMqbkf_SzK69"
      },
      "outputs": [],
      "source": [
        "def last_smape(r_array, f_array):\n",
        "    return 0.25 * r_array.mean() + 0.75 * f_array.mean()"
      ]
    },
    {
      "cell_type": "markdown",
      "metadata": {
        "id": "vlb7OlRPzK6-"
      },
      "source": [
        "### Делим на основые и целевые признаки"
      ]
    },
    {
      "cell_type": "markdown",
      "metadata": {
        "id": "1_rbxTakzK6-"
      },
      "source": [
        "Наша формула не будет работать, если в знаметантеле будет ноль, поэтому мы должны убрать это значение из данных"
      ]
    },
    {
      "cell_type": "code",
      "execution_count": null,
      "metadata": {
        "id": "v-ADNiyzzK6-"
      },
      "outputs": [],
      "source": [
        "gold_industry_train = gold_industry_train.loc[gold_industry_train['rougher.output.recovery']!=0]\n",
        "gold_industry_train = gold_industry_train.loc[gold_industry_train['final.output.recovery']!=0]\n",
        "\n",
        "gold_industry_test = gold_industry_test.loc[gold_industry_test['rougher.output.recovery']!=0]\n",
        "gold_industry_test = gold_industry_test.loc[gold_industry_test['final.output.recovery']!=0]"
      ]
    },
    {
      "cell_type": "code",
      "execution_count": null,
      "metadata": {
        "id": "DKL13f4MzK6-"
      },
      "outputs": [],
      "source": [
        "features_train_r = gold_industry_train.drop(['rougher.output.recovery', 'date', 'final.output.recovery'], axis=1)\n",
        "features_train_f = gold_industry_train.drop(['rougher.output.recovery', 'date', 'final.output.recovery'], axis=1)\n",
        "target_train_r = gold_industry_train[['rougher.output.recovery']]\n",
        "target_train_f = gold_industry_train[['final.output.recovery']]\n",
        "\n",
        "features_test_r = gold_industry_test.drop(['rougher.output.recovery', 'date', 'final.output.recovery',], axis=1)\n",
        "features_test_f = gold_industry_test.drop(['rougher.output.recovery', 'date', 'final.output.recovery',], axis=1)\n",
        "target_test_r = gold_industry_test[['rougher.output.recovery']]\n",
        "target_test_f = gold_industry_test[['final.output.recovery']]"
      ]
    },
    {
      "cell_type": "code",
      "execution_count": null,
      "metadata": {
        "id": "0QIfuxZozK6_",
        "outputId": "e47c7769-2a30-4921-ae34-7a0807b775e9"
      },
      "outputs": [
        {
          "data": {
            "text/html": [
              "<div>\n",
              "<style scoped>\n",
              "    .dataframe tbody tr th:only-of-type {\n",
              "        vertical-align: middle;\n",
              "    }\n",
              "\n",
              "    .dataframe tbody tr th {\n",
              "        vertical-align: top;\n",
              "    }\n",
              "\n",
              "    .dataframe thead th {\n",
              "        text-align: right;\n",
              "    }\n",
              "</style>\n",
              "<table border=\"1\" class=\"dataframe\">\n",
              "  <thead>\n",
              "    <tr style=\"text-align: right;\">\n",
              "      <th></th>\n",
              "      <th>rougher.input.feed_au</th>\n",
              "      <th>rougher.input.feed_ag</th>\n",
              "      <th>rougher.input.feed_pb</th>\n",
              "      <th>rougher.input.feed_sol</th>\n",
              "      <th>rougher.input.feed_rate</th>\n",
              "      <th>rougher.input.feed_size</th>\n",
              "      <th>rougher.input.floatbank10_sulfate</th>\n",
              "      <th>rougher.input.floatbank10_xanthate</th>\n",
              "      <th>rougher.state.floatbank10_a_air</th>\n",
              "      <th>rougher.state.floatbank10_a_level</th>\n",
              "      <th>...</th>\n",
              "      <th>secondary_cleaner.state.floatbank4_a_air</th>\n",
              "      <th>secondary_cleaner.state.floatbank4_a_level</th>\n",
              "      <th>secondary_cleaner.state.floatbank4_b_air</th>\n",
              "      <th>secondary_cleaner.state.floatbank4_b_level</th>\n",
              "      <th>secondary_cleaner.state.floatbank5_a_air</th>\n",
              "      <th>secondary_cleaner.state.floatbank5_a_level</th>\n",
              "      <th>secondary_cleaner.state.floatbank5_b_air</th>\n",
              "      <th>secondary_cleaner.state.floatbank5_b_level</th>\n",
              "      <th>secondary_cleaner.state.floatbank6_a_air</th>\n",
              "      <th>secondary_cleaner.state.floatbank6_a_level</th>\n",
              "    </tr>\n",
              "  </thead>\n",
              "  <tbody>\n",
              "    <tr>\n",
              "      <th>0</th>\n",
              "      <td>4.365491</td>\n",
              "      <td>6.158718</td>\n",
              "      <td>3.875727</td>\n",
              "      <td>39.135119</td>\n",
              "      <td>555.820208</td>\n",
              "      <td>94.544358</td>\n",
              "      <td>6.146982</td>\n",
              "      <td>9.308612</td>\n",
              "      <td>1196.238112</td>\n",
              "      <td>-299.862743</td>\n",
              "      <td>...</td>\n",
              "      <td>23.018622</td>\n",
              "      <td>-500.492702</td>\n",
              "      <td>20.020205</td>\n",
              "      <td>-500.220296</td>\n",
              "      <td>17.963512</td>\n",
              "      <td>-499.939490</td>\n",
              "      <td>12.990306</td>\n",
              "      <td>-500.080993</td>\n",
              "      <td>19.990336</td>\n",
              "      <td>-499.191575</td>\n",
              "    </tr>\n",
              "    <tr>\n",
              "      <th>2</th>\n",
              "      <td>5.081681</td>\n",
              "      <td>6.082745</td>\n",
              "      <td>4.564078</td>\n",
              "      <td>37.208683</td>\n",
              "      <td>558.155110</td>\n",
              "      <td>82.610855</td>\n",
              "      <td>7.363824</td>\n",
              "      <td>9.003562</td>\n",
              "      <td>1200.826926</td>\n",
              "      <td>-300.124116</td>\n",
              "      <td>...</td>\n",
              "      <td>22.993827</td>\n",
              "      <td>-501.559663</td>\n",
              "      <td>20.029144</td>\n",
              "      <td>-500.000662</td>\n",
              "      <td>18.012723</td>\n",
              "      <td>-500.024764</td>\n",
              "      <td>13.016445</td>\n",
              "      <td>-500.058432</td>\n",
              "      <td>19.973767</td>\n",
              "      <td>-501.394155</td>\n",
              "    </tr>\n",
              "    <tr>\n",
              "      <th>3</th>\n",
              "      <td>5.145949</td>\n",
              "      <td>6.084374</td>\n",
              "      <td>4.768124</td>\n",
              "      <td>36.808874</td>\n",
              "      <td>539.713765</td>\n",
              "      <td>77.984784</td>\n",
              "      <td>6.927072</td>\n",
              "      <td>8.955597</td>\n",
              "      <td>1199.292489</td>\n",
              "      <td>-299.778385</td>\n",
              "      <td>...</td>\n",
              "      <td>23.032807</td>\n",
              "      <td>-501.287889</td>\n",
              "      <td>19.977466</td>\n",
              "      <td>-500.159903</td>\n",
              "      <td>17.980463</td>\n",
              "      <td>-500.504602</td>\n",
              "      <td>12.949071</td>\n",
              "      <td>-500.009937</td>\n",
              "      <td>20.010332</td>\n",
              "      <td>-508.337973</td>\n",
              "    </tr>\n",
              "    <tr>\n",
              "      <th>4</th>\n",
              "      <td>5.735249</td>\n",
              "      <td>6.165220</td>\n",
              "      <td>4.512346</td>\n",
              "      <td>37.810642</td>\n",
              "      <td>558.713584</td>\n",
              "      <td>86.434874</td>\n",
              "      <td>7.823471</td>\n",
              "      <td>7.490356</td>\n",
              "      <td>1198.005449</td>\n",
              "      <td>-300.283401</td>\n",
              "      <td>...</td>\n",
              "      <td>23.001911</td>\n",
              "      <td>-499.947838</td>\n",
              "      <td>20.023735</td>\n",
              "      <td>-499.713680</td>\n",
              "      <td>17.990955</td>\n",
              "      <td>-500.334769</td>\n",
              "      <td>13.007523</td>\n",
              "      <td>-499.968459</td>\n",
              "      <td>19.995999</td>\n",
              "      <td>-499.788805</td>\n",
              "    </tr>\n",
              "    <tr>\n",
              "      <th>5</th>\n",
              "      <td>5.848338</td>\n",
              "      <td>6.234198</td>\n",
              "      <td>4.468803</td>\n",
              "      <td>37.816555</td>\n",
              "      <td>547.515088</td>\n",
              "      <td>85.875864</td>\n",
              "      <td>8.040386</td>\n",
              "      <td>7.500718</td>\n",
              "      <td>1201.408796</td>\n",
              "      <td>-299.647294</td>\n",
              "      <td>...</td>\n",
              "      <td>22.977833</td>\n",
              "      <td>-499.910098</td>\n",
              "      <td>20.000113</td>\n",
              "      <td>-500.584093</td>\n",
              "      <td>18.003899</td>\n",
              "      <td>-500.326371</td>\n",
              "      <td>12.978611</td>\n",
              "      <td>-499.966502</td>\n",
              "      <td>19.988673</td>\n",
              "      <td>-500.742891</td>\n",
              "    </tr>\n",
              "    <tr>\n",
              "      <th>...</th>\n",
              "      <td>...</td>\n",
              "      <td>...</td>\n",
              "      <td>...</td>\n",
              "      <td>...</td>\n",
              "      <td>...</td>\n",
              "      <td>...</td>\n",
              "      <td>...</td>\n",
              "      <td>...</td>\n",
              "      <td>...</td>\n",
              "      <td>...</td>\n",
              "      <td>...</td>\n",
              "      <td>...</td>\n",
              "      <td>...</td>\n",
              "      <td>...</td>\n",
              "      <td>...</td>\n",
              "      <td>...</td>\n",
              "      <td>...</td>\n",
              "      <td>...</td>\n",
              "      <td>...</td>\n",
              "      <td>...</td>\n",
              "      <td>...</td>\n",
              "    </tr>\n",
              "    <tr>\n",
              "      <th>4855</th>\n",
              "      <td>6.620245</td>\n",
              "      <td>5.992592</td>\n",
              "      <td>2.589242</td>\n",
              "      <td>39.934641</td>\n",
              "      <td>578.654582</td>\n",
              "      <td>63.473450</td>\n",
              "      <td>14.688804</td>\n",
              "      <td>6.898599</td>\n",
              "      <td>999.688257</td>\n",
              "      <td>-399.217124</td>\n",
              "      <td>...</td>\n",
              "      <td>14.003057</td>\n",
              "      <td>-503.152258</td>\n",
              "      <td>12.016724</td>\n",
              "      <td>-501.136446</td>\n",
              "      <td>10.041864</td>\n",
              "      <td>-499.338844</td>\n",
              "      <td>8.007022</td>\n",
              "      <td>-500.279583</td>\n",
              "      <td>14.001271</td>\n",
              "      <td>-602.072365</td>\n",
              "    </tr>\n",
              "    <tr>\n",
              "      <th>4856</th>\n",
              "      <td>6.741324</td>\n",
              "      <td>6.158617</td>\n",
              "      <td>2.647185</td>\n",
              "      <td>40.176307</td>\n",
              "      <td>571.622005</td>\n",
              "      <td>62.815291</td>\n",
              "      <td>14.892720</td>\n",
              "      <td>6.903204</td>\n",
              "      <td>1000.479783</td>\n",
              "      <td>-399.574748</td>\n",
              "      <td>...</td>\n",
              "      <td>14.031220</td>\n",
              "      <td>-503.471307</td>\n",
              "      <td>11.966426</td>\n",
              "      <td>-500.656842</td>\n",
              "      <td>10.051620</td>\n",
              "      <td>-498.318772</td>\n",
              "      <td>8.018091</td>\n",
              "      <td>-499.696138</td>\n",
              "      <td>13.958937</td>\n",
              "      <td>-599.213013</td>\n",
              "    </tr>\n",
              "    <tr>\n",
              "      <th>4857</th>\n",
              "      <td>6.627458</td>\n",
              "      <td>6.015149</td>\n",
              "      <td>2.466127</td>\n",
              "      <td>39.841423</td>\n",
              "      <td>563.733146</td>\n",
              "      <td>61.287347</td>\n",
              "      <td>13.723692</td>\n",
              "      <td>6.700148</td>\n",
              "      <td>1000.014718</td>\n",
              "      <td>-400.320877</td>\n",
              "      <td>...</td>\n",
              "      <td>13.996317</td>\n",
              "      <td>-502.995300</td>\n",
              "      <td>11.980055</td>\n",
              "      <td>-500.607751</td>\n",
              "      <td>9.964501</td>\n",
              "      <td>-499.261719</td>\n",
              "      <td>8.065048</td>\n",
              "      <td>-499.492395</td>\n",
              "      <td>13.997801</td>\n",
              "      <td>-600.621416</td>\n",
              "    </tr>\n",
              "    <tr>\n",
              "      <th>4858</th>\n",
              "      <td>6.702243</td>\n",
              "      <td>6.097592</td>\n",
              "      <td>2.278955</td>\n",
              "      <td>37.728375</td>\n",
              "      <td>549.812490</td>\n",
              "      <td>59.637037</td>\n",
              "      <td>13.746510</td>\n",
              "      <td>6.706417</td>\n",
              "      <td>999.635748</td>\n",
              "      <td>-399.484884</td>\n",
              "      <td>...</td>\n",
              "      <td>13.983963</td>\n",
              "      <td>-503.675714</td>\n",
              "      <td>11.928745</td>\n",
              "      <td>-500.583183</td>\n",
              "      <td>9.970359</td>\n",
              "      <td>-498.822343</td>\n",
              "      <td>8.016377</td>\n",
              "      <td>-499.013145</td>\n",
              "      <td>14.000032</td>\n",
              "      <td>-600.024741</td>\n",
              "    </tr>\n",
              "    <tr>\n",
              "      <th>4859</th>\n",
              "      <td>6.633002</td>\n",
              "      <td>5.908793</td>\n",
              "      <td>2.440899</td>\n",
              "      <td>36.958540</td>\n",
              "      <td>573.076049</td>\n",
              "      <td>58.509262</td>\n",
              "      <td>13.707775</td>\n",
              "      <td>6.820245</td>\n",
              "      <td>1000.589156</td>\n",
              "      <td>-398.879586</td>\n",
              "      <td>...</td>\n",
              "      <td>13.989632</td>\n",
              "      <td>-503.195299</td>\n",
              "      <td>12.052233</td>\n",
              "      <td>-500.928547</td>\n",
              "      <td>9.962574</td>\n",
              "      <td>-502.986357</td>\n",
              "      <td>7.979219</td>\n",
              "      <td>-500.146835</td>\n",
              "      <td>13.981614</td>\n",
              "      <td>-598.070855</td>\n",
              "    </tr>\n",
              "  </tbody>\n",
              "</table>\n",
              "<p>4788 rows × 52 columns</p>\n",
              "</div>"
            ],
            "text/plain": [
              "      rougher.input.feed_au  rougher.input.feed_ag  rougher.input.feed_pb  \\\n",
              "0                  4.365491               6.158718               3.875727   \n",
              "2                  5.081681               6.082745               4.564078   \n",
              "3                  5.145949               6.084374               4.768124   \n",
              "4                  5.735249               6.165220               4.512346   \n",
              "5                  5.848338               6.234198               4.468803   \n",
              "...                     ...                    ...                    ...   \n",
              "4855               6.620245               5.992592               2.589242   \n",
              "4856               6.741324               6.158617               2.647185   \n",
              "4857               6.627458               6.015149               2.466127   \n",
              "4858               6.702243               6.097592               2.278955   \n",
              "4859               6.633002               5.908793               2.440899   \n",
              "\n",
              "      rougher.input.feed_sol  rougher.input.feed_rate  \\\n",
              "0                  39.135119               555.820208   \n",
              "2                  37.208683               558.155110   \n",
              "3                  36.808874               539.713765   \n",
              "4                  37.810642               558.713584   \n",
              "5                  37.816555               547.515088   \n",
              "...                      ...                      ...   \n",
              "4855               39.934641               578.654582   \n",
              "4856               40.176307               571.622005   \n",
              "4857               39.841423               563.733146   \n",
              "4858               37.728375               549.812490   \n",
              "4859               36.958540               573.076049   \n",
              "\n",
              "      rougher.input.feed_size  rougher.input.floatbank10_sulfate  \\\n",
              "0                   94.544358                           6.146982   \n",
              "2                   82.610855                           7.363824   \n",
              "3                   77.984784                           6.927072   \n",
              "4                   86.434874                           7.823471   \n",
              "5                   85.875864                           8.040386   \n",
              "...                       ...                                ...   \n",
              "4855                63.473450                          14.688804   \n",
              "4856                62.815291                          14.892720   \n",
              "4857                61.287347                          13.723692   \n",
              "4858                59.637037                          13.746510   \n",
              "4859                58.509262                          13.707775   \n",
              "\n",
              "      rougher.input.floatbank10_xanthate  rougher.state.floatbank10_a_air  \\\n",
              "0                               9.308612                      1196.238112   \n",
              "2                               9.003562                      1200.826926   \n",
              "3                               8.955597                      1199.292489   \n",
              "4                               7.490356                      1198.005449   \n",
              "5                               7.500718                      1201.408796   \n",
              "...                                  ...                              ...   \n",
              "4855                            6.898599                       999.688257   \n",
              "4856                            6.903204                      1000.479783   \n",
              "4857                            6.700148                      1000.014718   \n",
              "4858                            6.706417                       999.635748   \n",
              "4859                            6.820245                      1000.589156   \n",
              "\n",
              "      rougher.state.floatbank10_a_level  ...  \\\n",
              "0                           -299.862743  ...   \n",
              "2                           -300.124116  ...   \n",
              "3                           -299.778385  ...   \n",
              "4                           -300.283401  ...   \n",
              "5                           -299.647294  ...   \n",
              "...                                 ...  ...   \n",
              "4855                        -399.217124  ...   \n",
              "4856                        -399.574748  ...   \n",
              "4857                        -400.320877  ...   \n",
              "4858                        -399.484884  ...   \n",
              "4859                        -398.879586  ...   \n",
              "\n",
              "      secondary_cleaner.state.floatbank4_a_air  \\\n",
              "0                                    23.018622   \n",
              "2                                    22.993827   \n",
              "3                                    23.032807   \n",
              "4                                    23.001911   \n",
              "5                                    22.977833   \n",
              "...                                        ...   \n",
              "4855                                 14.003057   \n",
              "4856                                 14.031220   \n",
              "4857                                 13.996317   \n",
              "4858                                 13.983963   \n",
              "4859                                 13.989632   \n",
              "\n",
              "      secondary_cleaner.state.floatbank4_a_level  \\\n",
              "0                                    -500.492702   \n",
              "2                                    -501.559663   \n",
              "3                                    -501.287889   \n",
              "4                                    -499.947838   \n",
              "5                                    -499.910098   \n",
              "...                                          ...   \n",
              "4855                                 -503.152258   \n",
              "4856                                 -503.471307   \n",
              "4857                                 -502.995300   \n",
              "4858                                 -503.675714   \n",
              "4859                                 -503.195299   \n",
              "\n",
              "      secondary_cleaner.state.floatbank4_b_air  \\\n",
              "0                                    20.020205   \n",
              "2                                    20.029144   \n",
              "3                                    19.977466   \n",
              "4                                    20.023735   \n",
              "5                                    20.000113   \n",
              "...                                        ...   \n",
              "4855                                 12.016724   \n",
              "4856                                 11.966426   \n",
              "4857                                 11.980055   \n",
              "4858                                 11.928745   \n",
              "4859                                 12.052233   \n",
              "\n",
              "      secondary_cleaner.state.floatbank4_b_level  \\\n",
              "0                                    -500.220296   \n",
              "2                                    -500.000662   \n",
              "3                                    -500.159903   \n",
              "4                                    -499.713680   \n",
              "5                                    -500.584093   \n",
              "...                                          ...   \n",
              "4855                                 -501.136446   \n",
              "4856                                 -500.656842   \n",
              "4857                                 -500.607751   \n",
              "4858                                 -500.583183   \n",
              "4859                                 -500.928547   \n",
              "\n",
              "      secondary_cleaner.state.floatbank5_a_air  \\\n",
              "0                                    17.963512   \n",
              "2                                    18.012723   \n",
              "3                                    17.980463   \n",
              "4                                    17.990955   \n",
              "5                                    18.003899   \n",
              "...                                        ...   \n",
              "4855                                 10.041864   \n",
              "4856                                 10.051620   \n",
              "4857                                  9.964501   \n",
              "4858                                  9.970359   \n",
              "4859                                  9.962574   \n",
              "\n",
              "      secondary_cleaner.state.floatbank5_a_level  \\\n",
              "0                                    -499.939490   \n",
              "2                                    -500.024764   \n",
              "3                                    -500.504602   \n",
              "4                                    -500.334769   \n",
              "5                                    -500.326371   \n",
              "...                                          ...   \n",
              "4855                                 -499.338844   \n",
              "4856                                 -498.318772   \n",
              "4857                                 -499.261719   \n",
              "4858                                 -498.822343   \n",
              "4859                                 -502.986357   \n",
              "\n",
              "      secondary_cleaner.state.floatbank5_b_air  \\\n",
              "0                                    12.990306   \n",
              "2                                    13.016445   \n",
              "3                                    12.949071   \n",
              "4                                    13.007523   \n",
              "5                                    12.978611   \n",
              "...                                        ...   \n",
              "4855                                  8.007022   \n",
              "4856                                  8.018091   \n",
              "4857                                  8.065048   \n",
              "4858                                  8.016377   \n",
              "4859                                  7.979219   \n",
              "\n",
              "      secondary_cleaner.state.floatbank5_b_level  \\\n",
              "0                                    -500.080993   \n",
              "2                                    -500.058432   \n",
              "3                                    -500.009937   \n",
              "4                                    -499.968459   \n",
              "5                                    -499.966502   \n",
              "...                                          ...   \n",
              "4855                                 -500.279583   \n",
              "4856                                 -499.696138   \n",
              "4857                                 -499.492395   \n",
              "4858                                 -499.013145   \n",
              "4859                                 -500.146835   \n",
              "\n",
              "      secondary_cleaner.state.floatbank6_a_air  \\\n",
              "0                                    19.990336   \n",
              "2                                    19.973767   \n",
              "3                                    20.010332   \n",
              "4                                    19.995999   \n",
              "5                                    19.988673   \n",
              "...                                        ...   \n",
              "4855                                 14.001271   \n",
              "4856                                 13.958937   \n",
              "4857                                 13.997801   \n",
              "4858                                 14.000032   \n",
              "4859                                 13.981614   \n",
              "\n",
              "      secondary_cleaner.state.floatbank6_a_level  \n",
              "0                                    -499.191575  \n",
              "2                                    -501.394155  \n",
              "3                                    -508.337973  \n",
              "4                                    -499.788805  \n",
              "5                                    -500.742891  \n",
              "...                                          ...  \n",
              "4855                                 -602.072365  \n",
              "4856                                 -599.213013  \n",
              "4857                                 -600.621416  \n",
              "4858                                 -600.024741  \n",
              "4859                                 -598.070855  \n",
              "\n",
              "[4788 rows x 52 columns]"
            ]
          },
          "execution_count": 40,
          "metadata": {},
          "output_type": "execute_result"
        }
      ],
      "source": [
        "features_test_r"
      ]
    },
    {
      "cell_type": "code",
      "execution_count": null,
      "metadata": {
        "scrolled": true,
        "id": "B_37jw-ezK6_",
        "outputId": "d478b788-70f2-4015-8edd-8e98e43a1168"
      },
      "outputs": [
        {
          "name": "stdout",
          "output_type": "stream",
          "text": [
            "(11139, 52)\n",
            "(11139, 52)\n",
            "(11139, 1)\n",
            "(11139, 1)\n",
            "(4788, 52)\n",
            "(4788, 52)\n",
            "(4788, 1)\n",
            "(4788, 1)\n"
          ]
        }
      ],
      "source": [
        "print(features_train_r.shape)\n",
        "print(features_train_f.shape)\n",
        "print(target_train_r.shape)\n",
        "print(target_train_f.shape)\n",
        "print(features_test_r.shape)\n",
        "print(features_test_f.shape)\n",
        "print(target_test_r.shape)\n",
        "print(target_test_f.shape)"
      ]
    },
    {
      "cell_type": "markdown",
      "metadata": {
        "id": "Y8YmMoDnzK7A"
      },
      "source": [
        "### Стандартизация"
      ]
    },
    {
      "cell_type": "code",
      "execution_count": null,
      "metadata": {
        "id": "rfS5aTZvzK7A",
        "outputId": "6fff376b-c8fd-46d2-ba9a-796eeab0ee96"
      },
      "outputs": [
        {
          "name": "stdout",
          "output_type": "stream",
          "text": [
            "[[-1.11610404 -1.54803897 -1.39250964 ... -0.36778451 -0.86782188\n",
            "  -2.70569267]\n",
            " [-1.12032993 -1.51500556 -1.41197769 ... -0.37082727 -0.89526358\n",
            "  -2.54076067]\n",
            " [-1.18531312 -1.53929492 -1.52170612 ... -0.36905958 -0.88982677\n",
            "  -2.58543897]\n",
            " ...\n",
            " [-1.66620122 -1.60749986  1.2912019  ... -0.35161023  0.17922896\n",
            "   0.14917505]\n",
            " [-2.13698808 -1.68704556  0.62514184 ... -0.36196278  0.17836279\n",
            "   0.10710646]\n",
            " [-1.75849695 -1.55267478  1.012858   ... -0.35915663  0.18266201\n",
            "   0.14211731]]\n"
          ]
        }
      ],
      "source": [
        "#Проводим масштабирование\n",
        "scaler = StandardScaler()\n",
        "\n",
        "scaler.fit(features_train_r)\n",
        "features_train_r = scaler.transform(features_train_r)\n",
        "features_train_f = scaler.transform(features_train_f)\n",
        "features_test_r = scaler.transform(features_test_r)\n",
        "features_test_f = scaler.transform(features_test_f)\n",
        "\n",
        "print(features_train_r)"
      ]
    },
    {
      "cell_type": "markdown",
      "metadata": {
        "id": "vEyI89iazK7B"
      },
      "source": [
        "### Обучение"
      ]
    },
    {
      "cell_type": "markdown",
      "metadata": {
        "id": "3SWjAYPzzK7B"
      },
      "source": [
        "Наша задача -- задача регрессии, следотвательно мы можем применить модели бустинга (xgboost и catboost), случйного леса и линейной регрессии, качество будем проверять на основе метрике sMAPE c помощью кросс-валидации"
      ]
    },
    {
      "cell_type": "markdown",
      "metadata": {
        "id": "aPeIB_-SzK7B"
      },
      "source": [
        "#### Линейная регрессия"
      ]
    },
    {
      "cell_type": "code",
      "execution_count": null,
      "metadata": {
        "id": "fdXCuqi6zK7B",
        "outputId": "80984682-ba36-4d4f-a6e5-2757fd8d55ac"
      },
      "outputs": [
        {
          "name": "stdout",
          "output_type": "stream",
          "text": [
            "Итоговый sMAPE: 8.300624810649715\n"
          ]
        }
      ],
      "source": [
        "best_model = None\n",
        "best_score = 0\n",
        "\n",
        "\n",
        "model = LinearRegression()\n",
        "\n",
        "scores_r = cross_val_score(model, features_train_r, target_train_r['rougher.output.recovery'], cv=5, scoring=smape)\n",
        "scores_f = cross_val_score(model, features_train_f, target_train_f['final.output.recovery'], cv=5, scoring=smape)\n",
        "final = -last_smape(scores_r, scores_f)\n",
        "print(\"Итоговый sMAPE:\", final)"
      ]
    },
    {
      "cell_type": "markdown",
      "metadata": {
        "id": "x9tObJZwzK7C"
      },
      "source": [
        "#### Дерево решений"
      ]
    },
    {
      "cell_type": "code",
      "execution_count": null,
      "metadata": {
        "id": "4iWfSJ5lzK7C",
        "outputId": "bb96cc3e-e5f3-495c-d3f4-14404cb3b791"
      },
      "outputs": [
        {
          "name": "stdout",
          "output_type": "stream",
          "text": [
            "Лучшие гиперпараметры rougher: {'max_depth': 3, 'n_estimators': 50} | Лучшие гиперпараметры final {'max_depth': 2, 'n_estimators': 50}\n",
            "Лучший результат rougher: 5.781457607763186 | Лучшие гиперпараметры final 7.946458847543063\n",
            "Итоговый sMAPE: 7.405208537598094\n"
          ]
        }
      ],
      "source": [
        "model = RandomForestRegressor(random_state=12345)\n",
        "param_grid = dict(max_depth=range(2, 5), n_estimators=range(20, 60, 10))\n",
        "grid = GridSearchCV(model, param_grid, cv=5, scoring=smape, n_jobs=-1, verbose=10)\n",
        "\n",
        "grid.fit(features_train_r, target_train_r['rougher.output.recovery'])\n",
        "scores_r = -grid.best_score_\n",
        "p_r = grid.best_params_\n",
        "\n",
        "grid.fit(features_train_f, target_train_f['final.output.recovery'])\n",
        "scores_f = -grid.best_score_\n",
        "p_f = grid.best_params_\n",
        "\n",
        "final = last_smape(scores_r, scores_f)\n",
        "\n",
        "\n",
        "print(\"Лучшие гиперпараметры rougher:\", p_r, '|', 'Лучшие гиперпараметры final', p_f)\n",
        "print(\"Лучший результат rougher:\", scores_r, '|', 'Лучшие гиперпараметры final', scores_f)\n",
        "print(\"Итоговый sMAPE:\", final)"
      ]
    },
    {
      "cell_type": "markdown",
      "metadata": {
        "id": "b3zyd9BYzK7D"
      },
      "source": [
        "#### XGBoost"
      ]
    },
    {
      "cell_type": "code",
      "execution_count": null,
      "metadata": {
        "scrolled": true,
        "id": "oDs1GzAgzK7D",
        "outputId": "9b117b0d-7b14-4ccb-b8c1-541710b44ca7"
      },
      "outputs": [
        {
          "name": "stdout",
          "output_type": "stream",
          "text": [
            "Fitting 3 folds for each of 16 candidates, totalling 48 fits\n",
            "Fitting 3 folds for each of 16 candidates, totalling 48 fits\n",
            "Лучшие гиперпараметры rougher: {'max_depth': 2, 'n_estimators': 20} | Лучшие гиперпараметры final {'max_depth': 2, 'n_estimators': 30}\n",
            "Лучший результат rougher: 5.848731852137571 | Лучший результат final 9.006779398725945\n",
            "Итоговый sMAPE: 8.21726751207885\n"
          ]
        }
      ],
      "source": [
        "model = xgb.XGBRegressor(random_state=12345,objective='reg:squarederror')\n",
        "param_grid = dict(max_depth=range(2, 6), n_estimators=range(10,50,10))\n",
        "grid = GridSearchCV(model, param_grid, cv=3, scoring=smape, n_jobs=-1, verbose=10)\n",
        "\n",
        "grid.fit(features_train_r, target_train_r['rougher.output.recovery'])\n",
        "scores_r = -grid.best_score_\n",
        "p_r = grid.best_params_\n",
        "\n",
        "grid.fit(features_train_f, target_train_f['final.output.recovery'])\n",
        "scores_f = -grid.best_score_\n",
        "p_f = grid.best_params_\n",
        "\n",
        "final = last_smape(scores_r, scores_f)\n",
        "\n",
        "print(\"Лучшие гиперпараметры rougher:\", p_r, '|', 'Лучшие гиперпараметры final', p_f)\n",
        "print(\"Лучший результат rougher:\", scores_r, '|', 'Лучший результат final', scores_f)\n",
        "print(\"Итоговый sMAPE:\", final)"
      ]
    },
    {
      "cell_type": "markdown",
      "metadata": {
        "id": "RMEPl0iSzK7D"
      },
      "source": [
        "#### Catboost"
      ]
    },
    {
      "cell_type": "code",
      "execution_count": null,
      "metadata": {
        "id": "0Q5kuDfPzK7D",
        "outputId": "32c1c511-b926-476d-c747-5d830daf5af6"
      },
      "outputs": [
        {
          "name": "stdout",
          "output_type": "stream",
          "text": [
            "Итоговый sMAPE: 9.064334258331918\n"
          ]
        }
      ],
      "source": [
        "model = CatBoostRegressor(random_state=12345, verbose=0)\n",
        "\n",
        "\n",
        "scores_r = cross_val_score(model, features_train_r, target_train_r['rougher.output.recovery'], cv=3, scoring=smape, n_jobs=-1)\n",
        "scores_f = cross_val_score(model, features_train_f, target_train_f['final.output.recovery'], cv=3, scoring=smape, n_jobs=-1)\n",
        "\n",
        "final = -last_smape(scores_r, scores_f)\n",
        "print(\"Итоговый sMAPE:\", final)"
      ]
    },
    {
      "cell_type": "markdown",
      "metadata": {
        "id": "nfHduCh4zK7F"
      },
      "source": [
        "#### Лучшая модель"
      ]
    },
    {
      "cell_type": "markdown",
      "metadata": {
        "id": "_A0YZxM0zK7F"
      },
      "source": [
        "Лучшей моделью оказался случайный лес, для rougher с параметрами глубины 4 и количеством деревьев 29, для final глубины 5 и кол-вом деревьев 25. Данная модель дала результат итогового sMAPE 7.04"
      ]
    },
    {
      "cell_type": "markdown",
      "metadata": {
        "id": "GNRYJ7WezK7F"
      },
      "source": [
        "### Проверка на тестовой выборке"
      ]
    },
    {
      "cell_type": "markdown",
      "metadata": {
        "id": "bOESsVmBzK7F"
      },
      "source": [
        "#### Результат на тестовой выборке"
      ]
    },
    {
      "cell_type": "code",
      "execution_count": null,
      "metadata": {
        "scrolled": false,
        "id": "quGkcG5azK7F",
        "outputId": "9cfa6029-cbfa-4cbd-dcae-fd6fd3854e89"
      },
      "outputs": [
        {
          "name": "stdout",
          "output_type": "stream",
          "text": [
            "Итоговый sMAPE: 6.497630995591546\n"
          ]
        }
      ],
      "source": [
        "model = RandomForestRegressor(random_state=12345, max_depth=4, n_estimators=29)\n",
        "model.fit(features_train_r, target_train_r['rougher.output.recovery'])\n",
        "predic_r = model.predict(features_test_r)\n",
        "scores_r = my_smape(target_test_r['rougher.output.recovery'], predic_r)\n",
        "\n",
        "\n",
        "model = RandomForestRegressor(random_state=12345, max_depth=5, n_estimators=25)\n",
        "model.fit(features_train_f, target_train_f['final.output.recovery'])\n",
        "predic_f = model.predict(features_test_f)\n",
        "scores_f = my_smape(target_test_f['final.output.recovery'], predic_f)\n",
        "final = last_smape(scores_r, scores_f)\n",
        "print(\"Итоговый sMAPE:\", final)"
      ]
    },
    {
      "cell_type": "markdown",
      "metadata": {
        "id": "_-EdX8KfzK7G"
      },
      "source": [
        "#### Проверка на адекватность"
      ]
    },
    {
      "cell_type": "code",
      "execution_count": null,
      "metadata": {
        "scrolled": true,
        "id": "CwM4PZ9kzK7G",
        "outputId": "0bcdaf00-4457-4c7a-ba3c-2130f38b51ac"
      },
      "outputs": [
        {
          "name": "stdout",
          "output_type": "stream",
          "text": [
            "Итоговый sMAPE: 8.349863561684597\n"
          ]
        }
      ],
      "source": [
        "dummyreg = DummyRegressor(strategy = 'mean')\n",
        "dummyreg.fit(features_train_r, target_train_r['rougher.output.recovery'])\n",
        "preds_r = dummyreg.predict(features_test_r)\n",
        "scores_r = my_smape(target_test_r['rougher.output.recovery'], preds_r)\n",
        "\n",
        "\n",
        "dummyreg.fit(features_train_f, target_train_f['final.output.recovery'])\n",
        "preds_f = dummyreg.predict(features_test_f)\n",
        "scores_f = my_smape(target_test_f['final.output.recovery'], preds_f)\n",
        "\n",
        "final = last_smape(scores_r, scores_f)\n",
        "print(\"Итоговый sMAPE:\", final)"
      ]
    },
    {
      "cell_type": "markdown",
      "metadata": {
        "id": "Eb6egVT1zK7H"
      },
      "source": [
        "### Подвывод"
      ]
    },
    {
      "cell_type": "markdown",
      "metadata": {
        "id": "lt5LEl_qzK7H"
      },
      "source": [
        "Была выбрана лучшая модель (RF) с лучшими параметрами отдельно для каждого таргета. В итоге модель прошла тест на адеватность и её итоговый sMAPE составляет 7.13"
      ]
    },
    {
      "cell_type": "markdown",
      "metadata": {
        "id": "ctFefw0ozK7H"
      },
      "source": [
        "## Вывод"
      ]
    },
    {
      "cell_type": "markdown",
      "metadata": {
        "id": "B9kNFVRDzK7H"
      },
      "source": [
        "В ходе работы мы проверили на корректность формулу вычисления эффективности обогащения, проанализировали признаки, недоступные в тестовой выборке, провели предобработку данных. Мы проанализировали данные, построили наглядные графики изменения концетрации элементов на каждом этапе, проанализировали распределения размеров гранул и исследовали суммарные концетрации. Далее мы обучили несколько моделей, подобрали лучшие параметры, а лучшую из лучших мы провели на тестовой выборке, а также выяснили, что та проходит тест на адекватность. Метрика её точности составляет 7.13"
      ]
    }
  ],
  "metadata": {
    "ExecuteTimeLog": [
      {
        "duration": 1073,
        "start_time": "2023-05-10T11:01:12.308Z"
      },
      {
        "duration": 3,
        "start_time": "2023-05-10T11:02:56.388Z"
      },
      {
        "duration": 214,
        "start_time": "2023-05-10T11:02:56.563Z"
      },
      {
        "duration": 2292,
        "start_time": "2023-05-10T11:04:43.697Z"
      },
      {
        "duration": 40,
        "start_time": "2023-05-10T11:07:24.009Z"
      },
      {
        "duration": 19,
        "start_time": "2023-05-10T11:07:29.909Z"
      },
      {
        "duration": 27,
        "start_time": "2023-05-10T11:07:42.757Z"
      },
      {
        "duration": 28,
        "start_time": "2023-05-10T11:08:44.791Z"
      },
      {
        "duration": 15,
        "start_time": "2023-05-10T11:10:52.449Z"
      },
      {
        "duration": 15,
        "start_time": "2023-05-10T11:11:07.977Z"
      },
      {
        "duration": 16,
        "start_time": "2023-05-10T11:11:19.305Z"
      },
      {
        "duration": 514,
        "start_time": "2023-05-10T11:15:30.740Z"
      },
      {
        "duration": 94,
        "start_time": "2023-05-10T11:15:53.539Z"
      },
      {
        "duration": 192,
        "start_time": "2023-05-10T11:15:53.702Z"
      },
      {
        "duration": 167,
        "start_time": "2023-05-10T11:15:57.211Z"
      },
      {
        "duration": 706,
        "start_time": "2023-05-10T11:16:25.589Z"
      },
      {
        "duration": 278,
        "start_time": "2023-05-10T11:16:47.739Z"
      },
      {
        "duration": 73,
        "start_time": "2023-05-10T11:16:48.018Z"
      },
      {
        "duration": 369,
        "start_time": "2023-05-10T11:16:48.092Z"
      },
      {
        "duration": 387,
        "start_time": "2023-05-10T13:05:57.501Z"
      },
      {
        "duration": 28,
        "start_time": "2023-05-10T13:18:27.468Z"
      },
      {
        "duration": 5,
        "start_time": "2023-05-10T13:18:45.435Z"
      },
      {
        "duration": 24,
        "start_time": "2023-05-10T13:39:01.480Z"
      },
      {
        "duration": 4,
        "start_time": "2023-05-10T13:39:09.226Z"
      },
      {
        "duration": 8,
        "start_time": "2023-05-10T13:55:37.884Z"
      },
      {
        "duration": 43305,
        "start_time": "2023-05-10T13:57:56.663Z"
      },
      {
        "duration": 0,
        "start_time": "2023-05-10T13:58:39.970Z"
      },
      {
        "duration": 114,
        "start_time": "2023-05-10T13:59:48.934Z"
      },
      {
        "duration": 5,
        "start_time": "2023-05-10T14:00:00.298Z"
      },
      {
        "duration": 5,
        "start_time": "2023-05-10T14:00:09.911Z"
      },
      {
        "duration": 4,
        "start_time": "2023-05-10T14:01:01.168Z"
      },
      {
        "duration": 4,
        "start_time": "2023-05-10T14:01:44.880Z"
      },
      {
        "duration": 4,
        "start_time": "2023-05-10T14:02:08.428Z"
      },
      {
        "duration": 6,
        "start_time": "2023-05-10T14:02:36.196Z"
      },
      {
        "duration": 5,
        "start_time": "2023-05-10T14:02:37.291Z"
      },
      {
        "duration": 5,
        "start_time": "2023-05-10T14:02:38.763Z"
      },
      {
        "duration": 84,
        "start_time": "2023-05-10T14:04:59.331Z"
      },
      {
        "duration": 5,
        "start_time": "2023-05-10T14:06:41.962Z"
      },
      {
        "duration": 4,
        "start_time": "2023-05-10T14:06:42.468Z"
      },
      {
        "duration": 5,
        "start_time": "2023-05-10T14:06:43.683Z"
      },
      {
        "duration": 8,
        "start_time": "2023-05-10T14:08:51.261Z"
      },
      {
        "duration": 3,
        "start_time": "2023-05-10T14:09:01.629Z"
      },
      {
        "duration": 3,
        "start_time": "2023-05-10T14:09:06.901Z"
      },
      {
        "duration": 3,
        "start_time": "2023-05-10T14:09:34.798Z"
      },
      {
        "duration": 194,
        "start_time": "2023-05-10T14:10:09.598Z"
      },
      {
        "duration": 3,
        "start_time": "2023-05-10T14:13:36.672Z"
      },
      {
        "duration": 4,
        "start_time": "2023-05-10T14:13:44.615Z"
      },
      {
        "duration": 3,
        "start_time": "2023-05-10T14:13:52.925Z"
      },
      {
        "duration": 3,
        "start_time": "2023-05-10T14:13:57.344Z"
      },
      {
        "duration": 3,
        "start_time": "2023-05-10T14:14:25.024Z"
      },
      {
        "duration": 4,
        "start_time": "2023-05-10T14:14:26.096Z"
      },
      {
        "duration": 9,
        "start_time": "2023-05-10T14:26:16.442Z"
      },
      {
        "duration": 8,
        "start_time": "2023-05-10T14:26:32.237Z"
      },
      {
        "duration": 10,
        "start_time": "2023-05-10T14:26:37.423Z"
      },
      {
        "duration": 6,
        "start_time": "2023-05-10T14:26:54.975Z"
      },
      {
        "duration": 10,
        "start_time": "2023-05-10T14:26:55.116Z"
      },
      {
        "duration": 7,
        "start_time": "2023-05-10T14:36:20.062Z"
      },
      {
        "duration": 5,
        "start_time": "2023-05-10T14:36:41.350Z"
      },
      {
        "duration": 89,
        "start_time": "2023-05-10T14:36:45.405Z"
      },
      {
        "duration": 23,
        "start_time": "2023-05-10T14:41:42.046Z"
      },
      {
        "duration": 7,
        "start_time": "2023-05-10T14:42:28.886Z"
      },
      {
        "duration": 27,
        "start_time": "2023-05-10T14:42:46.584Z"
      },
      {
        "duration": 12,
        "start_time": "2023-05-10T14:42:51.928Z"
      },
      {
        "duration": 17,
        "start_time": "2023-05-10T14:43:12.631Z"
      },
      {
        "duration": 8,
        "start_time": "2023-05-10T14:43:36.113Z"
      },
      {
        "duration": 9,
        "start_time": "2023-05-10T14:43:52.313Z"
      },
      {
        "duration": 15,
        "start_time": "2023-05-10T14:44:08.532Z"
      },
      {
        "duration": 15,
        "start_time": "2023-05-10T14:45:20.369Z"
      },
      {
        "duration": 13,
        "start_time": "2023-05-10T14:45:29.361Z"
      },
      {
        "duration": 10,
        "start_time": "2023-05-10T14:45:35.681Z"
      },
      {
        "duration": 17,
        "start_time": "2023-05-10T14:45:44.754Z"
      },
      {
        "duration": 17,
        "start_time": "2023-05-10T14:45:55.322Z"
      },
      {
        "duration": 17,
        "start_time": "2023-05-10T14:46:01.562Z"
      },
      {
        "duration": 39,
        "start_time": "2023-05-10T14:49:16.531Z"
      },
      {
        "duration": 18,
        "start_time": "2023-05-10T14:50:41.702Z"
      },
      {
        "duration": 12,
        "start_time": "2023-05-10T14:50:41.940Z"
      },
      {
        "duration": 16,
        "start_time": "2023-05-10T14:50:43.036Z"
      },
      {
        "duration": 185,
        "start_time": "2023-05-10T14:50:44.843Z"
      },
      {
        "duration": 368,
        "start_time": "2023-05-10T14:52:30.262Z"
      },
      {
        "duration": 5,
        "start_time": "2023-05-10T15:00:03.945Z"
      },
      {
        "duration": 5,
        "start_time": "2023-05-10T15:00:09.721Z"
      },
      {
        "duration": 34,
        "start_time": "2023-05-10T15:00:27.946Z"
      },
      {
        "duration": 26,
        "start_time": "2023-05-10T15:00:31.755Z"
      },
      {
        "duration": 26,
        "start_time": "2023-05-10T15:00:38.458Z"
      },
      {
        "duration": 13,
        "start_time": "2023-05-10T15:01:26.530Z"
      },
      {
        "duration": 4,
        "start_time": "2023-05-10T15:01:32.881Z"
      },
      {
        "duration": 665,
        "start_time": "2023-05-10T15:01:32.887Z"
      },
      {
        "duration": 4,
        "start_time": "2023-05-10T15:01:33.553Z"
      },
      {
        "duration": 15,
        "start_time": "2023-05-10T15:01:33.558Z"
      },
      {
        "duration": 4,
        "start_time": "2023-05-10T15:01:33.575Z"
      },
      {
        "duration": 5,
        "start_time": "2023-05-10T15:01:33.580Z"
      },
      {
        "duration": 5,
        "start_time": "2023-05-10T15:01:33.586Z"
      },
      {
        "duration": 4,
        "start_time": "2023-05-10T15:01:33.592Z"
      },
      {
        "duration": 9,
        "start_time": "2023-05-10T15:01:33.597Z"
      },
      {
        "duration": 42,
        "start_time": "2023-05-10T15:01:33.608Z"
      },
      {
        "duration": 26,
        "start_time": "2023-05-10T15:01:33.652Z"
      },
      {
        "duration": 21,
        "start_time": "2023-05-10T15:01:38.387Z"
      },
      {
        "duration": 7,
        "start_time": "2023-05-10T15:05:36.399Z"
      },
      {
        "duration": 29,
        "start_time": "2023-05-10T15:05:43.020Z"
      },
      {
        "duration": 27,
        "start_time": "2023-05-10T15:06:03.440Z"
      },
      {
        "duration": 14,
        "start_time": "2023-05-10T15:06:12.764Z"
      },
      {
        "duration": 13,
        "start_time": "2023-05-10T15:06:23.875Z"
      },
      {
        "duration": 11,
        "start_time": "2023-05-10T15:06:31.005Z"
      },
      {
        "duration": 11,
        "start_time": "2023-05-10T15:06:33.453Z"
      },
      {
        "duration": 61,
        "start_time": "2023-05-10T15:06:51.907Z"
      },
      {
        "duration": 20,
        "start_time": "2023-05-10T15:07:21.012Z"
      },
      {
        "duration": 9,
        "start_time": "2023-05-10T15:07:21.230Z"
      },
      {
        "duration": 22,
        "start_time": "2023-05-10T15:07:21.372Z"
      },
      {
        "duration": 12,
        "start_time": "2023-05-10T15:07:21.452Z"
      },
      {
        "duration": 12,
        "start_time": "2023-05-10T15:07:21.516Z"
      },
      {
        "duration": 17,
        "start_time": "2023-05-10T15:07:22.723Z"
      },
      {
        "duration": 191,
        "start_time": "2023-05-10T15:07:22.805Z"
      },
      {
        "duration": 364,
        "start_time": "2023-05-10T15:07:23.644Z"
      },
      {
        "duration": 12,
        "start_time": "2023-05-10T15:07:40.411Z"
      },
      {
        "duration": 12,
        "start_time": "2023-05-10T15:07:40.821Z"
      },
      {
        "duration": 10,
        "start_time": "2023-05-10T15:08:11.139Z"
      },
      {
        "duration": 15,
        "start_time": "2023-05-10T15:08:14.172Z"
      },
      {
        "duration": 12,
        "start_time": "2023-05-10T15:08:14.550Z"
      },
      {
        "duration": 5,
        "start_time": "2023-05-10T15:15:23.609Z"
      },
      {
        "duration": 562,
        "start_time": "2023-05-10T15:15:30.222Z"
      },
      {
        "duration": 9,
        "start_time": "2023-05-10T15:16:15.855Z"
      },
      {
        "duration": 101,
        "start_time": "2023-05-10T15:16:21.799Z"
      },
      {
        "duration": 3,
        "start_time": "2023-05-10T15:16:30.854Z"
      },
      {
        "duration": 713,
        "start_time": "2023-05-10T15:16:30.859Z"
      },
      {
        "duration": 5,
        "start_time": "2023-05-10T15:16:31.573Z"
      },
      {
        "duration": 40,
        "start_time": "2023-05-10T15:16:31.579Z"
      },
      {
        "duration": 25,
        "start_time": "2023-05-10T15:16:31.620Z"
      },
      {
        "duration": 25,
        "start_time": "2023-05-10T15:16:31.646Z"
      },
      {
        "duration": 32,
        "start_time": "2023-05-10T15:16:31.672Z"
      },
      {
        "duration": 28,
        "start_time": "2023-05-10T15:16:31.705Z"
      },
      {
        "duration": 40,
        "start_time": "2023-05-10T15:16:31.735Z"
      },
      {
        "duration": 67,
        "start_time": "2023-05-10T15:16:31.777Z"
      },
      {
        "duration": 34,
        "start_time": "2023-05-10T15:16:31.846Z"
      },
      {
        "duration": 35,
        "start_time": "2023-05-10T15:16:31.882Z"
      },
      {
        "duration": 9,
        "start_time": "2023-05-10T15:16:34.839Z"
      },
      {
        "duration": 206,
        "start_time": "2023-05-10T15:16:35.279Z"
      },
      {
        "duration": 95,
        "start_time": "2023-05-10T15:16:58.768Z"
      },
      {
        "duration": 98,
        "start_time": "2023-05-10T15:17:05.631Z"
      },
      {
        "duration": 20,
        "start_time": "2023-05-10T15:17:23.575Z"
      },
      {
        "duration": 145,
        "start_time": "2023-05-10T15:21:51.226Z"
      },
      {
        "duration": 126,
        "start_time": "2023-05-10T15:22:00.219Z"
      },
      {
        "duration": 115,
        "start_time": "2023-05-10T15:22:04.314Z"
      },
      {
        "duration": 107,
        "start_time": "2023-05-10T15:22:08.282Z"
      },
      {
        "duration": 94,
        "start_time": "2023-05-10T15:22:15.267Z"
      },
      {
        "duration": 135,
        "start_time": "2023-05-10T15:22:36.650Z"
      },
      {
        "duration": 144,
        "start_time": "2023-05-10T15:23:42.802Z"
      },
      {
        "duration": 89,
        "start_time": "2023-05-10T15:23:50.716Z"
      },
      {
        "duration": 102,
        "start_time": "2023-05-10T15:24:02.667Z"
      },
      {
        "duration": 24,
        "start_time": "2023-05-10T17:12:11.365Z"
      },
      {
        "duration": 16,
        "start_time": "2023-05-10T17:12:18.885Z"
      },
      {
        "duration": 11,
        "start_time": "2023-05-10T20:01:55.001Z"
      },
      {
        "duration": 11,
        "start_time": "2023-05-10T20:02:02.055Z"
      },
      {
        "duration": 168,
        "start_time": "2023-05-10T20:02:14.838Z"
      },
      {
        "duration": 4,
        "start_time": "2023-05-10T20:03:43.230Z"
      },
      {
        "duration": 5,
        "start_time": "2023-05-10T20:06:54.953Z"
      },
      {
        "duration": 5,
        "start_time": "2023-05-10T20:10:56.123Z"
      },
      {
        "duration": 2559,
        "start_time": "2023-05-10T20:14:10.827Z"
      },
      {
        "duration": 441,
        "start_time": "2023-05-10T20:14:41.557Z"
      },
      {
        "duration": 7,
        "start_time": "2023-05-10T20:16:23.885Z"
      },
      {
        "duration": 5,
        "start_time": "2023-05-10T20:16:55.094Z"
      },
      {
        "duration": 339,
        "start_time": "2023-05-10T20:16:58.671Z"
      },
      {
        "duration": 323,
        "start_time": "2023-05-10T20:17:07.231Z"
      },
      {
        "duration": 5,
        "start_time": "2023-05-10T20:18:17.495Z"
      },
      {
        "duration": 116,
        "start_time": "2023-05-10T20:19:07.429Z"
      },
      {
        "duration": 161,
        "start_time": "2023-05-10T20:19:37.401Z"
      },
      {
        "duration": 389,
        "start_time": "2023-05-10T20:19:43.038Z"
      },
      {
        "duration": 104,
        "start_time": "2023-05-10T20:32:09.646Z"
      },
      {
        "duration": 141,
        "start_time": "2023-05-10T20:32:22.620Z"
      },
      {
        "duration": 148,
        "start_time": "2023-05-10T20:32:26.208Z"
      },
      {
        "duration": 138,
        "start_time": "2023-05-10T20:32:29.768Z"
      },
      {
        "duration": 105,
        "start_time": "2023-05-10T20:32:33.123Z"
      },
      {
        "duration": 113,
        "start_time": "2023-05-10T20:32:37.153Z"
      },
      {
        "duration": 101,
        "start_time": "2023-05-10T20:32:44.377Z"
      },
      {
        "duration": 118,
        "start_time": "2023-05-10T20:32:48.511Z"
      },
      {
        "duration": 142,
        "start_time": "2023-05-10T20:33:08.342Z"
      },
      {
        "duration": 107,
        "start_time": "2023-05-10T20:33:27.028Z"
      },
      {
        "duration": 154,
        "start_time": "2023-05-10T20:34:28.257Z"
      },
      {
        "duration": 141,
        "start_time": "2023-05-10T20:34:59.737Z"
      },
      {
        "duration": 6,
        "start_time": "2023-05-10T20:35:22.034Z"
      },
      {
        "duration": 128,
        "start_time": "2023-05-10T20:35:31.643Z"
      },
      {
        "duration": 131,
        "start_time": "2023-05-10T20:36:15.659Z"
      },
      {
        "duration": 171,
        "start_time": "2023-05-10T20:36:21.780Z"
      },
      {
        "duration": 12,
        "start_time": "2023-05-10T20:36:38.415Z"
      },
      {
        "duration": 13,
        "start_time": "2023-05-10T20:36:42.139Z"
      },
      {
        "duration": 216,
        "start_time": "2023-05-10T20:36:58.940Z"
      },
      {
        "duration": 221,
        "start_time": "2023-05-10T20:40:07.525Z"
      },
      {
        "duration": 147,
        "start_time": "2023-05-10T20:40:17.765Z"
      },
      {
        "duration": 153,
        "start_time": "2023-05-10T20:41:42.952Z"
      },
      {
        "duration": 159,
        "start_time": "2023-05-10T20:42:44.783Z"
      },
      {
        "duration": 164,
        "start_time": "2023-05-10T20:43:04.055Z"
      },
      {
        "duration": 6,
        "start_time": "2023-05-10T20:43:13.848Z"
      },
      {
        "duration": 146,
        "start_time": "2023-05-10T20:43:16.575Z"
      },
      {
        "duration": 53,
        "start_time": "2023-05-10T20:44:03.314Z"
      },
      {
        "duration": 124,
        "start_time": "2023-05-10T20:44:59.152Z"
      },
      {
        "duration": 121,
        "start_time": "2023-05-10T20:45:04.729Z"
      },
      {
        "duration": 775,
        "start_time": "2023-05-10T20:47:07.769Z"
      },
      {
        "duration": 69,
        "start_time": "2023-05-10T20:47:15.985Z"
      },
      {
        "duration": 5,
        "start_time": "2023-05-10T20:48:04.025Z"
      },
      {
        "duration": 107,
        "start_time": "2023-05-10T20:48:23.681Z"
      },
      {
        "duration": 8,
        "start_time": "2023-05-10T20:48:32.170Z"
      },
      {
        "duration": 11,
        "start_time": "2023-05-10T20:48:36.234Z"
      },
      {
        "duration": 157,
        "start_time": "2023-05-10T20:49:30.595Z"
      },
      {
        "duration": 9,
        "start_time": "2023-05-10T20:49:49.299Z"
      },
      {
        "duration": 100,
        "start_time": "2023-05-10T20:49:52.162Z"
      },
      {
        "duration": 217,
        "start_time": "2023-05-10T20:50:50.451Z"
      },
      {
        "duration": 149,
        "start_time": "2023-05-10T20:51:02.355Z"
      },
      {
        "duration": 74,
        "start_time": "2023-05-10T21:01:20.960Z"
      },
      {
        "duration": 4,
        "start_time": "2023-05-10T21:02:17.819Z"
      },
      {
        "duration": 101,
        "start_time": "2023-05-10T21:33:46.939Z"
      },
      {
        "duration": 101,
        "start_time": "2023-05-10T21:33:59.148Z"
      },
      {
        "duration": 134,
        "start_time": "2023-05-10T21:34:10.034Z"
      },
      {
        "duration": 119,
        "start_time": "2023-05-10T21:34:15.867Z"
      },
      {
        "duration": 120,
        "start_time": "2023-05-10T21:34:25.741Z"
      },
      {
        "duration": 116,
        "start_time": "2023-05-10T21:37:32.742Z"
      },
      {
        "duration": 11,
        "start_time": "2023-05-10T21:39:57.216Z"
      },
      {
        "duration": 11,
        "start_time": "2023-05-10T21:40:05.523Z"
      },
      {
        "duration": 5,
        "start_time": "2023-05-10T21:40:08.169Z"
      },
      {
        "duration": 6,
        "start_time": "2023-05-10T21:40:16.227Z"
      },
      {
        "duration": 14,
        "start_time": "2023-05-10T21:40:42.789Z"
      },
      {
        "duration": 9,
        "start_time": "2023-05-10T21:40:46.631Z"
      },
      {
        "duration": 119,
        "start_time": "2023-05-10T21:40:47.264Z"
      },
      {
        "duration": 4,
        "start_time": "2023-05-10T21:41:00.247Z"
      },
      {
        "duration": 20,
        "start_time": "2023-05-10T21:41:24.631Z"
      },
      {
        "duration": 5,
        "start_time": "2023-05-10T21:41:33.411Z"
      },
      {
        "duration": 754,
        "start_time": "2023-05-10T21:41:33.418Z"
      },
      {
        "duration": 4,
        "start_time": "2023-05-10T21:41:34.173Z"
      },
      {
        "duration": 24,
        "start_time": "2023-05-10T21:41:34.178Z"
      },
      {
        "duration": 13,
        "start_time": "2023-05-10T21:41:34.204Z"
      },
      {
        "duration": 9,
        "start_time": "2023-05-10T21:41:34.219Z"
      },
      {
        "duration": 8,
        "start_time": "2023-05-10T21:41:34.229Z"
      },
      {
        "duration": 5,
        "start_time": "2023-05-10T21:41:34.238Z"
      },
      {
        "duration": 10,
        "start_time": "2023-05-10T21:41:34.244Z"
      },
      {
        "duration": 15,
        "start_time": "2023-05-10T21:41:34.257Z"
      },
      {
        "duration": 50,
        "start_time": "2023-05-10T21:41:34.274Z"
      },
      {
        "duration": 28,
        "start_time": "2023-05-10T21:41:34.326Z"
      },
      {
        "duration": 9,
        "start_time": "2023-05-10T21:41:34.355Z"
      },
      {
        "duration": 182,
        "start_time": "2023-05-10T21:41:34.366Z"
      },
      {
        "duration": 129,
        "start_time": "2023-05-10T21:41:34.550Z"
      },
      {
        "duration": 23,
        "start_time": "2023-05-10T21:41:34.680Z"
      },
      {
        "duration": 19,
        "start_time": "2023-05-10T21:41:34.705Z"
      },
      {
        "duration": 16,
        "start_time": "2023-05-10T21:41:34.725Z"
      },
      {
        "duration": 336,
        "start_time": "2023-05-10T21:41:34.743Z"
      },
      {
        "duration": 387,
        "start_time": "2023-05-10T21:41:35.080Z"
      },
      {
        "duration": 3,
        "start_time": "2023-05-10T21:41:35.469Z"
      },
      {
        "duration": 32,
        "start_time": "2023-05-10T21:41:35.474Z"
      },
      {
        "duration": 136,
        "start_time": "2023-05-10T21:41:35.507Z"
      },
      {
        "duration": 116,
        "start_time": "2023-05-10T21:41:35.644Z"
      },
      {
        "duration": 4,
        "start_time": "2023-05-10T21:41:35.762Z"
      },
      {
        "duration": 143,
        "start_time": "2023-05-10T21:41:35.767Z"
      },
      {
        "duration": 137,
        "start_time": "2023-05-10T21:43:57.681Z"
      },
      {
        "duration": 116,
        "start_time": "2023-05-10T21:44:12.040Z"
      },
      {
        "duration": 121,
        "start_time": "2023-05-10T21:45:51.514Z"
      },
      {
        "duration": 127,
        "start_time": "2023-05-10T21:46:50.260Z"
      },
      {
        "duration": 119,
        "start_time": "2023-05-10T21:47:23.972Z"
      },
      {
        "duration": 136,
        "start_time": "2023-05-10T21:48:08.148Z"
      },
      {
        "duration": 139,
        "start_time": "2023-05-10T21:48:26.219Z"
      },
      {
        "duration": 397,
        "start_time": "2023-05-10T22:04:02.731Z"
      },
      {
        "duration": 509,
        "start_time": "2023-05-10T22:04:11.451Z"
      },
      {
        "duration": 124,
        "start_time": "2023-05-10T22:09:39.263Z"
      },
      {
        "duration": 140,
        "start_time": "2023-05-10T22:10:16.686Z"
      },
      {
        "duration": 423,
        "start_time": "2023-05-10T22:10:20.686Z"
      },
      {
        "duration": 1488,
        "start_time": "2023-05-10T22:11:41.791Z"
      },
      {
        "duration": 754,
        "start_time": "2023-05-10T22:12:03.230Z"
      },
      {
        "duration": 364,
        "start_time": "2023-05-10T22:12:11.487Z"
      },
      {
        "duration": 510,
        "start_time": "2023-05-10T22:12:24.227Z"
      },
      {
        "duration": 402,
        "start_time": "2023-05-10T22:12:27.984Z"
      },
      {
        "duration": 386,
        "start_time": "2023-05-10T22:12:50.698Z"
      },
      {
        "duration": 395,
        "start_time": "2023-05-10T22:13:08.904Z"
      },
      {
        "duration": 366,
        "start_time": "2023-05-10T22:13:21.833Z"
      },
      {
        "duration": 575,
        "start_time": "2023-05-10T22:13:27.917Z"
      },
      {
        "duration": 396,
        "start_time": "2023-05-10T22:13:45.736Z"
      },
      {
        "duration": 434,
        "start_time": "2023-05-10T22:13:54.064Z"
      },
      {
        "duration": 400,
        "start_time": "2023-05-10T22:14:00.601Z"
      },
      {
        "duration": 500,
        "start_time": "2023-05-10T22:14:10.709Z"
      },
      {
        "duration": 430,
        "start_time": "2023-05-10T22:14:21.849Z"
      },
      {
        "duration": 425,
        "start_time": "2023-05-10T22:14:26.984Z"
      },
      {
        "duration": 138,
        "start_time": "2023-05-10T22:14:49.872Z"
      },
      {
        "duration": 312,
        "start_time": "2023-05-10T22:14:59.233Z"
      },
      {
        "duration": 580,
        "start_time": "2023-05-10T22:15:15.480Z"
      },
      {
        "duration": 307,
        "start_time": "2023-05-10T22:15:24.330Z"
      },
      {
        "duration": 420,
        "start_time": "2023-05-10T22:15:31.529Z"
      },
      {
        "duration": 10,
        "start_time": "2023-05-10T22:30:44.787Z"
      },
      {
        "duration": 11,
        "start_time": "2023-05-10T22:31:06.808Z"
      },
      {
        "duration": 16,
        "start_time": "2023-05-10T22:31:54.252Z"
      },
      {
        "duration": 13,
        "start_time": "2023-05-10T22:32:10.756Z"
      },
      {
        "duration": 14,
        "start_time": "2023-05-10T22:32:13.279Z"
      },
      {
        "duration": 318,
        "start_time": "2023-05-10T22:32:33.268Z"
      },
      {
        "duration": 304,
        "start_time": "2023-05-10T22:32:41.617Z"
      },
      {
        "duration": 277,
        "start_time": "2023-05-10T22:32:57.932Z"
      },
      {
        "duration": 293,
        "start_time": "2023-05-10T22:33:39.757Z"
      },
      {
        "duration": 498,
        "start_time": "2023-05-10T22:33:53.959Z"
      },
      {
        "duration": 330,
        "start_time": "2023-05-10T22:34:20.981Z"
      },
      {
        "duration": 301,
        "start_time": "2023-05-10T22:34:27.757Z"
      },
      {
        "duration": 343,
        "start_time": "2023-05-10T22:35:26.774Z"
      },
      {
        "duration": 530,
        "start_time": "2023-05-10T22:43:18.320Z"
      },
      {
        "duration": 42,
        "start_time": "2023-05-11T09:57:35.614Z"
      },
      {
        "duration": 1624,
        "start_time": "2023-05-11T09:57:39.835Z"
      },
      {
        "duration": 2775,
        "start_time": "2023-05-11T09:57:41.461Z"
      },
      {
        "duration": 6,
        "start_time": "2023-05-11T09:57:44.237Z"
      },
      {
        "duration": 11,
        "start_time": "2023-05-11T09:57:44.245Z"
      },
      {
        "duration": 7,
        "start_time": "2023-05-11T09:57:44.258Z"
      },
      {
        "duration": 13,
        "start_time": "2023-05-11T09:57:44.267Z"
      },
      {
        "duration": 18,
        "start_time": "2023-05-11T09:57:44.282Z"
      },
      {
        "duration": 22,
        "start_time": "2023-05-11T09:57:44.302Z"
      },
      {
        "duration": 32,
        "start_time": "2023-05-11T09:57:44.326Z"
      },
      {
        "duration": 15,
        "start_time": "2023-05-11T09:57:44.360Z"
      },
      {
        "duration": 36,
        "start_time": "2023-05-11T09:57:44.377Z"
      },
      {
        "duration": 27,
        "start_time": "2023-05-11T09:57:44.415Z"
      },
      {
        "duration": 10,
        "start_time": "2023-05-11T09:57:44.444Z"
      },
      {
        "duration": 333,
        "start_time": "2023-05-11T09:57:44.456Z"
      },
      {
        "duration": 141,
        "start_time": "2023-05-11T09:57:44.791Z"
      },
      {
        "duration": 26,
        "start_time": "2023-05-11T09:57:44.934Z"
      },
      {
        "duration": 12,
        "start_time": "2023-05-11T09:57:44.962Z"
      },
      {
        "duration": 23,
        "start_time": "2023-05-11T09:57:44.975Z"
      },
      {
        "duration": 247,
        "start_time": "2023-05-11T09:57:44.999Z"
      },
      {
        "duration": 356,
        "start_time": "2023-05-11T09:57:45.247Z"
      },
      {
        "duration": 5,
        "start_time": "2023-05-11T09:57:45.605Z"
      },
      {
        "duration": 20,
        "start_time": "2023-05-11T09:57:45.612Z"
      },
      {
        "duration": 435,
        "start_time": "2023-05-11T09:57:45.634Z"
      },
      {
        "duration": 6,
        "start_time": "2023-05-11T09:57:54.267Z"
      },
      {
        "duration": 115,
        "start_time": "2023-05-11T09:57:56.547Z"
      },
      {
        "duration": 85,
        "start_time": "2023-05-11T10:08:46.323Z"
      },
      {
        "duration": 6,
        "start_time": "2023-05-11T10:08:50.321Z"
      },
      {
        "duration": 123,
        "start_time": "2023-05-11T10:20:33.025Z"
      },
      {
        "duration": 5,
        "start_time": "2023-05-11T10:21:28.212Z"
      },
      {
        "duration": 5,
        "start_time": "2023-05-11T10:21:40.282Z"
      },
      {
        "duration": 116,
        "start_time": "2023-05-11T10:21:53.125Z"
      },
      {
        "duration": 8,
        "start_time": "2023-05-11T10:22:29.619Z"
      },
      {
        "duration": 12,
        "start_time": "2023-05-11T10:23:06.947Z"
      },
      {
        "duration": 5,
        "start_time": "2023-05-11T10:23:09.707Z"
      },
      {
        "duration": 13,
        "start_time": "2023-05-11T10:23:15.491Z"
      },
      {
        "duration": 7,
        "start_time": "2023-05-11T10:23:26.523Z"
      },
      {
        "duration": 2,
        "start_time": "2023-05-11T10:24:07.896Z"
      },
      {
        "duration": 10,
        "start_time": "2023-05-11T10:35:48.137Z"
      },
      {
        "duration": 10,
        "start_time": "2023-05-11T10:36:30.691Z"
      },
      {
        "duration": 5,
        "start_time": "2023-05-11T10:42:53.693Z"
      },
      {
        "duration": 145,
        "start_time": "2023-05-11T10:43:55.343Z"
      },
      {
        "duration": 111,
        "start_time": "2023-05-11T10:44:05.070Z"
      },
      {
        "duration": 200,
        "start_time": "2023-05-11T10:48:51.063Z"
      },
      {
        "duration": 177,
        "start_time": "2023-05-11T10:49:01.202Z"
      },
      {
        "duration": 241,
        "start_time": "2023-05-11T10:49:11.378Z"
      },
      {
        "duration": 313,
        "start_time": "2023-05-11T10:51:51.332Z"
      },
      {
        "duration": 200,
        "start_time": "2023-05-11T10:54:25.756Z"
      },
      {
        "duration": 247,
        "start_time": "2023-05-11T10:54:29.445Z"
      },
      {
        "duration": 14,
        "start_time": "2023-05-11T10:54:39.261Z"
      },
      {
        "duration": 14,
        "start_time": "2023-05-11T10:56:11.158Z"
      },
      {
        "duration": 173,
        "start_time": "2023-05-11T10:57:29.167Z"
      },
      {
        "duration": 179,
        "start_time": "2023-05-11T10:58:07.815Z"
      },
      {
        "duration": 5,
        "start_time": "2023-05-11T11:02:14.467Z"
      },
      {
        "duration": 6,
        "start_time": "2023-05-11T11:03:01.239Z"
      },
      {
        "duration": 5,
        "start_time": "2023-05-11T11:03:06.490Z"
      },
      {
        "duration": 6,
        "start_time": "2023-05-11T11:03:20.843Z"
      },
      {
        "duration": 6,
        "start_time": "2023-05-11T11:03:29.490Z"
      },
      {
        "duration": 6,
        "start_time": "2023-05-11T11:03:49.348Z"
      },
      {
        "duration": 6,
        "start_time": "2023-05-11T11:04:34.187Z"
      },
      {
        "duration": 5,
        "start_time": "2023-05-11T11:04:35.420Z"
      },
      {
        "duration": 7,
        "start_time": "2023-05-11T11:04:47.228Z"
      },
      {
        "duration": 15,
        "start_time": "2023-05-11T12:00:19.869Z"
      },
      {
        "duration": 4,
        "start_time": "2023-05-11T12:00:36.678Z"
      },
      {
        "duration": 4,
        "start_time": "2023-05-11T12:00:41.109Z"
      },
      {
        "duration": 7,
        "start_time": "2023-05-11T12:01:40.223Z"
      },
      {
        "duration": 4,
        "start_time": "2023-05-11T12:02:09.710Z"
      },
      {
        "duration": 124,
        "start_time": "2023-05-11T12:03:53.605Z"
      },
      {
        "duration": 4,
        "start_time": "2023-05-11T12:04:11.583Z"
      },
      {
        "duration": 4,
        "start_time": "2023-05-11T12:07:02.059Z"
      },
      {
        "duration": 7,
        "start_time": "2023-05-11T12:07:22.481Z"
      },
      {
        "duration": 111,
        "start_time": "2023-05-11T12:07:43.673Z"
      },
      {
        "duration": 83,
        "start_time": "2023-05-11T12:08:16.307Z"
      },
      {
        "duration": 263,
        "start_time": "2023-05-11T12:08:42.540Z"
      },
      {
        "duration": 255,
        "start_time": "2023-05-11T12:08:45.475Z"
      },
      {
        "duration": 4,
        "start_time": "2023-05-11T12:09:41.186Z"
      },
      {
        "duration": 6,
        "start_time": "2023-05-11T12:09:48.043Z"
      },
      {
        "duration": 199,
        "start_time": "2023-05-11T12:09:48.907Z"
      },
      {
        "duration": 138,
        "start_time": "2023-05-11T12:10:08.483Z"
      },
      {
        "duration": 246,
        "start_time": "2023-05-11T12:10:33.940Z"
      },
      {
        "duration": 163,
        "start_time": "2023-05-11T12:10:39.532Z"
      },
      {
        "duration": 140,
        "start_time": "2023-05-11T12:14:41.381Z"
      },
      {
        "duration": 4,
        "start_time": "2023-05-11T12:15:05.399Z"
      },
      {
        "duration": 316,
        "start_time": "2023-05-11T12:41:15.931Z"
      },
      {
        "duration": 6,
        "start_time": "2023-05-11T12:41:17.485Z"
      },
      {
        "duration": 251,
        "start_time": "2023-05-11T12:41:17.659Z"
      },
      {
        "duration": 11,
        "start_time": "2023-05-11T12:41:24.563Z"
      },
      {
        "duration": 235,
        "start_time": "2023-05-11T12:41:27.268Z"
      },
      {
        "duration": 189,
        "start_time": "2023-05-11T12:42:24.204Z"
      },
      {
        "duration": 158,
        "start_time": "2023-05-11T12:42:45.004Z"
      },
      {
        "duration": 173,
        "start_time": "2023-05-11T12:42:49.948Z"
      },
      {
        "duration": 186,
        "start_time": "2023-05-11T12:43:34.678Z"
      },
      {
        "duration": 223,
        "start_time": "2023-05-11T12:43:47.277Z"
      },
      {
        "duration": 91,
        "start_time": "2023-05-11T12:45:17.253Z"
      },
      {
        "duration": 189,
        "start_time": "2023-05-11T12:45:22.061Z"
      },
      {
        "duration": 217,
        "start_time": "2023-05-11T12:45:26.869Z"
      },
      {
        "duration": 334,
        "start_time": "2023-05-11T12:45:43.260Z"
      },
      {
        "duration": 179,
        "start_time": "2023-05-11T12:48:10.638Z"
      },
      {
        "duration": 4,
        "start_time": "2023-05-11T14:41:27.180Z"
      },
      {
        "duration": 1870,
        "start_time": "2023-05-11T14:45:46.725Z"
      },
      {
        "duration": 13,
        "start_time": "2023-05-11T14:55:10.676Z"
      },
      {
        "duration": 34,
        "start_time": "2023-05-11T14:55:22.898Z"
      },
      {
        "duration": 16,
        "start_time": "2023-05-11T14:57:25.341Z"
      },
      {
        "duration": 13,
        "start_time": "2023-05-11T15:11:09.224Z"
      },
      {
        "duration": 17,
        "start_time": "2023-05-11T15:11:14.797Z"
      },
      {
        "duration": 30,
        "start_time": "2023-05-11T15:11:18.261Z"
      },
      {
        "duration": 17,
        "start_time": "2023-05-11T15:11:34.779Z"
      },
      {
        "duration": 14,
        "start_time": "2023-05-11T15:17:15.012Z"
      },
      {
        "duration": 41,
        "start_time": "2023-05-11T15:17:20.696Z"
      },
      {
        "duration": 5,
        "start_time": "2023-05-11T15:17:35.329Z"
      },
      {
        "duration": 928,
        "start_time": "2023-05-11T15:17:35.336Z"
      },
      {
        "duration": 5,
        "start_time": "2023-05-11T15:17:36.266Z"
      },
      {
        "duration": 10,
        "start_time": "2023-05-11T15:17:36.273Z"
      },
      {
        "duration": 10,
        "start_time": "2023-05-11T15:17:36.285Z"
      },
      {
        "duration": 5,
        "start_time": "2023-05-11T15:17:36.307Z"
      },
      {
        "duration": 14,
        "start_time": "2023-05-11T15:17:36.316Z"
      },
      {
        "duration": 48,
        "start_time": "2023-05-11T15:17:36.332Z"
      },
      {
        "duration": 28,
        "start_time": "2023-05-11T15:17:36.381Z"
      },
      {
        "duration": 18,
        "start_time": "2023-05-11T15:21:07.433Z"
      },
      {
        "duration": 33,
        "start_time": "2023-05-11T15:21:19.281Z"
      },
      {
        "duration": 12,
        "start_time": "2023-05-11T15:30:45.633Z"
      },
      {
        "duration": 23,
        "start_time": "2023-05-11T15:31:18.274Z"
      },
      {
        "duration": 4,
        "start_time": "2023-05-11T15:45:17.850Z"
      },
      {
        "duration": 3,
        "start_time": "2023-05-11T15:45:51.025Z"
      },
      {
        "duration": 12,
        "start_time": "2023-05-11T15:46:08.880Z"
      },
      {
        "duration": 10,
        "start_time": "2023-05-11T16:03:01.060Z"
      },
      {
        "duration": 4,
        "start_time": "2023-05-11T16:03:25.284Z"
      },
      {
        "duration": 85,
        "start_time": "2023-05-11T16:03:31.486Z"
      },
      {
        "duration": 5,
        "start_time": "2023-05-11T16:04:23.653Z"
      },
      {
        "duration": 10,
        "start_time": "2023-05-11T16:04:29.605Z"
      },
      {
        "duration": 175,
        "start_time": "2023-05-11T16:04:42.590Z"
      },
      {
        "duration": 162,
        "start_time": "2023-05-11T16:06:45.304Z"
      },
      {
        "duration": 43,
        "start_time": "2023-05-11T16:21:40.521Z"
      },
      {
        "duration": 4,
        "start_time": "2023-05-11T16:22:02.449Z"
      },
      {
        "duration": 767,
        "start_time": "2023-05-11T16:22:02.455Z"
      },
      {
        "duration": 6,
        "start_time": "2023-05-11T16:22:03.224Z"
      },
      {
        "duration": 5,
        "start_time": "2023-05-11T16:22:03.232Z"
      },
      {
        "duration": 6,
        "start_time": "2023-05-11T16:22:03.239Z"
      },
      {
        "duration": 14,
        "start_time": "2023-05-11T16:22:03.247Z"
      },
      {
        "duration": 24,
        "start_time": "2023-05-11T16:22:03.264Z"
      },
      {
        "duration": 9,
        "start_time": "2023-05-11T16:22:03.307Z"
      },
      {
        "duration": 6,
        "start_time": "2023-05-11T16:22:03.318Z"
      },
      {
        "duration": 5,
        "start_time": "2023-05-11T16:22:03.331Z"
      },
      {
        "duration": 9,
        "start_time": "2023-05-11T16:22:03.340Z"
      },
      {
        "duration": 8,
        "start_time": "2023-05-11T16:22:03.351Z"
      },
      {
        "duration": 57,
        "start_time": "2023-05-11T16:22:03.361Z"
      },
      {
        "duration": 25,
        "start_time": "2023-05-11T16:22:03.420Z"
      },
      {
        "duration": 9,
        "start_time": "2023-05-11T16:22:03.446Z"
      },
      {
        "duration": 187,
        "start_time": "2023-05-11T16:22:03.456Z"
      },
      {
        "duration": 126,
        "start_time": "2023-05-11T16:22:03.645Z"
      },
      {
        "duration": 23,
        "start_time": "2023-05-11T16:22:03.773Z"
      },
      {
        "duration": 18,
        "start_time": "2023-05-11T16:22:03.807Z"
      },
      {
        "duration": 23,
        "start_time": "2023-05-11T16:22:03.826Z"
      },
      {
        "duration": 241,
        "start_time": "2023-05-11T16:22:03.851Z"
      },
      {
        "duration": 360,
        "start_time": "2023-05-11T16:22:04.094Z"
      },
      {
        "duration": 5,
        "start_time": "2023-05-11T16:22:04.455Z"
      },
      {
        "duration": 33,
        "start_time": "2023-05-11T16:22:07.904Z"
      },
      {
        "duration": 30,
        "start_time": "2023-05-11T16:22:13.625Z"
      },
      {
        "duration": 28,
        "start_time": "2023-05-11T16:22:17.832Z"
      },
      {
        "duration": 34,
        "start_time": "2023-05-11T16:22:29.924Z"
      },
      {
        "duration": 11,
        "start_time": "2023-05-11T16:22:32.624Z"
      },
      {
        "duration": 768,
        "start_time": "2023-05-11T16:22:32.641Z"
      },
      {
        "duration": 8,
        "start_time": "2023-05-11T16:22:33.411Z"
      },
      {
        "duration": 21,
        "start_time": "2023-05-11T16:22:33.421Z"
      },
      {
        "duration": 6,
        "start_time": "2023-05-11T16:22:33.445Z"
      },
      {
        "duration": 13,
        "start_time": "2023-05-11T16:22:33.453Z"
      },
      {
        "duration": 21,
        "start_time": "2023-05-11T16:22:33.468Z"
      },
      {
        "duration": 32,
        "start_time": "2023-05-11T16:22:33.491Z"
      },
      {
        "duration": 12,
        "start_time": "2023-05-11T16:22:33.527Z"
      },
      {
        "duration": 6,
        "start_time": "2023-05-11T16:22:33.540Z"
      },
      {
        "duration": 6,
        "start_time": "2023-05-11T16:22:33.548Z"
      },
      {
        "duration": 9,
        "start_time": "2023-05-11T16:22:33.556Z"
      },
      {
        "duration": 42,
        "start_time": "2023-05-11T16:22:33.567Z"
      },
      {
        "duration": 34,
        "start_time": "2023-05-11T16:22:33.613Z"
      },
      {
        "duration": 14,
        "start_time": "2023-05-11T16:22:33.648Z"
      },
      {
        "duration": 192,
        "start_time": "2023-05-11T16:22:33.664Z"
      },
      {
        "duration": 141,
        "start_time": "2023-05-11T16:22:33.858Z"
      },
      {
        "duration": 32,
        "start_time": "2023-05-11T16:22:34.006Z"
      },
      {
        "duration": 14,
        "start_time": "2023-05-11T16:22:34.043Z"
      },
      {
        "duration": 19,
        "start_time": "2023-05-11T16:22:34.059Z"
      },
      {
        "duration": 277,
        "start_time": "2023-05-11T16:22:34.080Z"
      },
      {
        "duration": 383,
        "start_time": "2023-05-11T16:22:34.358Z"
      },
      {
        "duration": 4,
        "start_time": "2023-05-11T16:22:34.743Z"
      },
      {
        "duration": 25,
        "start_time": "2023-05-11T16:22:42.838Z"
      },
      {
        "duration": 189,
        "start_time": "2023-05-11T16:23:05.036Z"
      },
      {
        "duration": 156,
        "start_time": "2023-05-11T16:23:08.337Z"
      },
      {
        "duration": 172,
        "start_time": "2023-05-11T16:23:11.029Z"
      },
      {
        "duration": 214,
        "start_time": "2023-05-11T16:23:16.428Z"
      },
      {
        "duration": 5,
        "start_time": "2023-05-11T16:50:00.515Z"
      },
      {
        "duration": 4,
        "start_time": "2023-05-11T16:50:10.938Z"
      },
      {
        "duration": 4,
        "start_time": "2023-05-11T18:10:34.719Z"
      },
      {
        "duration": 209,
        "start_time": "2023-05-11T18:12:18.255Z"
      },
      {
        "duration": 4,
        "start_time": "2023-05-11T18:43:54.755Z"
      },
      {
        "duration": 1168,
        "start_time": "2023-05-11T18:56:21.035Z"
      },
      {
        "duration": 13,
        "start_time": "2023-05-11T18:56:35.458Z"
      },
      {
        "duration": 4,
        "start_time": "2023-05-11T18:58:57.088Z"
      },
      {
        "duration": 699,
        "start_time": "2023-05-11T18:58:57.095Z"
      },
      {
        "duration": 11,
        "start_time": "2023-05-11T18:58:57.795Z"
      },
      {
        "duration": 6,
        "start_time": "2023-05-11T18:58:57.808Z"
      },
      {
        "duration": 6,
        "start_time": "2023-05-11T18:58:57.815Z"
      },
      {
        "duration": 15,
        "start_time": "2023-05-11T18:58:57.823Z"
      },
      {
        "duration": 28,
        "start_time": "2023-05-11T18:58:57.839Z"
      },
      {
        "duration": 4,
        "start_time": "2023-05-11T18:58:57.869Z"
      },
      {
        "duration": 34,
        "start_time": "2023-05-11T18:58:57.876Z"
      },
      {
        "duration": 3,
        "start_time": "2023-05-11T18:58:57.911Z"
      },
      {
        "duration": 5,
        "start_time": "2023-05-11T18:58:57.916Z"
      },
      {
        "duration": 11,
        "start_time": "2023-05-11T18:58:57.923Z"
      },
      {
        "duration": 156,
        "start_time": "2023-05-11T18:58:57.935Z"
      },
      {
        "duration": 26,
        "start_time": "2023-05-11T18:58:58.092Z"
      },
      {
        "duration": 16,
        "start_time": "2023-05-11T18:58:58.119Z"
      },
      {
        "duration": 166,
        "start_time": "2023-05-11T18:58:58.136Z"
      },
      {
        "duration": 113,
        "start_time": "2023-05-11T18:58:58.303Z"
      },
      {
        "duration": 17,
        "start_time": "2023-05-11T18:58:58.417Z"
      },
      {
        "duration": 11,
        "start_time": "2023-05-11T18:58:58.436Z"
      },
      {
        "duration": 19,
        "start_time": "2023-05-11T18:58:58.448Z"
      },
      {
        "duration": 232,
        "start_time": "2023-05-11T18:58:58.468Z"
      },
      {
        "duration": 324,
        "start_time": "2023-05-11T18:58:58.702Z"
      },
      {
        "duration": 5,
        "start_time": "2023-05-11T18:58:59.028Z"
      },
      {
        "duration": 172,
        "start_time": "2023-05-11T18:58:59.036Z"
      },
      {
        "duration": 5,
        "start_time": "2023-05-11T18:58:59.209Z"
      },
      {
        "duration": 404,
        "start_time": "2023-05-11T18:58:59.216Z"
      },
      {
        "duration": 197,
        "start_time": "2023-05-11T18:58:59.623Z"
      },
      {
        "duration": 6,
        "start_time": "2023-05-11T18:58:59.822Z"
      },
      {
        "duration": 4,
        "start_time": "2023-05-11T18:58:59.829Z"
      },
      {
        "duration": 178,
        "start_time": "2023-05-11T18:58:59.834Z"
      },
      {
        "duration": 4,
        "start_time": "2023-05-11T18:59:00.013Z"
      },
      {
        "duration": 1273,
        "start_time": "2023-05-11T18:59:02.597Z"
      },
      {
        "duration": 25,
        "start_time": "2023-05-11T18:59:13.157Z"
      },
      {
        "duration": 5,
        "start_time": "2023-05-11T18:59:25.391Z"
      },
      {
        "duration": 1398,
        "start_time": "2023-05-11T18:59:43.785Z"
      },
      {
        "duration": 5,
        "start_time": "2023-05-11T18:59:55.062Z"
      },
      {
        "duration": 1104,
        "start_time": "2023-05-11T19:01:56.166Z"
      },
      {
        "duration": 4,
        "start_time": "2023-05-11T19:02:12.231Z"
      },
      {
        "duration": 704,
        "start_time": "2023-05-11T19:02:12.236Z"
      },
      {
        "duration": 5,
        "start_time": "2023-05-11T19:02:12.942Z"
      },
      {
        "duration": 11,
        "start_time": "2023-05-11T19:02:12.948Z"
      },
      {
        "duration": 6,
        "start_time": "2023-05-11T19:02:12.961Z"
      },
      {
        "duration": 20,
        "start_time": "2023-05-11T19:02:12.968Z"
      },
      {
        "duration": 43,
        "start_time": "2023-05-11T19:02:12.990Z"
      },
      {
        "duration": 4,
        "start_time": "2023-05-11T19:02:13.035Z"
      },
      {
        "duration": 7,
        "start_time": "2023-05-11T19:02:13.040Z"
      },
      {
        "duration": 3,
        "start_time": "2023-05-11T19:02:13.050Z"
      },
      {
        "duration": 7,
        "start_time": "2023-05-11T19:02:13.055Z"
      },
      {
        "duration": 7,
        "start_time": "2023-05-11T19:02:13.064Z"
      },
      {
        "duration": 70,
        "start_time": "2023-05-11T19:02:13.073Z"
      },
      {
        "duration": 20,
        "start_time": "2023-05-11T19:02:13.145Z"
      },
      {
        "duration": 12,
        "start_time": "2023-05-11T19:02:13.167Z"
      },
      {
        "duration": 297,
        "start_time": "2023-05-11T19:02:13.181Z"
      },
      {
        "duration": 115,
        "start_time": "2023-05-11T19:02:13.480Z"
      },
      {
        "duration": 22,
        "start_time": "2023-05-11T19:02:13.596Z"
      },
      {
        "duration": 11,
        "start_time": "2023-05-11T19:02:13.620Z"
      },
      {
        "duration": 18,
        "start_time": "2023-05-11T19:02:13.632Z"
      },
      {
        "duration": 229,
        "start_time": "2023-05-11T19:02:13.651Z"
      },
      {
        "duration": 342,
        "start_time": "2023-05-11T19:02:13.882Z"
      },
      {
        "duration": 4,
        "start_time": "2023-05-11T19:02:14.226Z"
      },
      {
        "duration": 167,
        "start_time": "2023-05-11T19:02:14.232Z"
      },
      {
        "duration": 6,
        "start_time": "2023-05-11T19:02:14.401Z"
      },
      {
        "duration": 420,
        "start_time": "2023-05-11T19:02:14.408Z"
      },
      {
        "duration": 172,
        "start_time": "2023-05-11T19:02:14.829Z"
      },
      {
        "duration": 6,
        "start_time": "2023-05-11T19:02:15.006Z"
      },
      {
        "duration": 26,
        "start_time": "2023-05-11T19:02:15.013Z"
      },
      {
        "duration": 182,
        "start_time": "2023-05-11T19:02:15.040Z"
      },
      {
        "duration": 3,
        "start_time": "2023-05-11T19:02:15.223Z"
      },
      {
        "duration": 15,
        "start_time": "2023-05-11T19:02:15.227Z"
      },
      {
        "duration": 1168,
        "start_time": "2023-05-11T19:02:16.143Z"
      },
      {
        "duration": 1079,
        "start_time": "2023-05-11T19:03:43.143Z"
      },
      {
        "duration": 5,
        "start_time": "2023-05-11T19:04:42.079Z"
      },
      {
        "duration": 5,
        "start_time": "2023-05-11T19:04:48.946Z"
      },
      {
        "duration": 1238,
        "start_time": "2023-05-11T19:05:41.857Z"
      },
      {
        "duration": 6,
        "start_time": "2023-05-11T19:06:02.320Z"
      },
      {
        "duration": 8,
        "start_time": "2023-05-11T19:07:26.803Z"
      },
      {
        "duration": 4,
        "start_time": "2023-05-11T19:07:43.786Z"
      },
      {
        "duration": 5,
        "start_time": "2023-05-11T19:08:01.114Z"
      },
      {
        "duration": 3,
        "start_time": "2023-05-11T19:08:04.162Z"
      },
      {
        "duration": 4,
        "start_time": "2023-05-11T19:08:30.231Z"
      },
      {
        "duration": 658,
        "start_time": "2023-05-11T19:08:30.238Z"
      },
      {
        "duration": 11,
        "start_time": "2023-05-11T19:08:30.898Z"
      },
      {
        "duration": 40,
        "start_time": "2023-05-11T19:08:30.911Z"
      },
      {
        "duration": 34,
        "start_time": "2023-05-11T19:08:30.952Z"
      },
      {
        "duration": 48,
        "start_time": "2023-05-11T19:08:30.987Z"
      },
      {
        "duration": 48,
        "start_time": "2023-05-11T19:08:31.036Z"
      },
      {
        "duration": 29,
        "start_time": "2023-05-11T19:08:31.085Z"
      },
      {
        "duration": 26,
        "start_time": "2023-05-11T19:08:31.116Z"
      },
      {
        "duration": 33,
        "start_time": "2023-05-11T19:08:31.144Z"
      },
      {
        "duration": 40,
        "start_time": "2023-05-11T19:08:31.179Z"
      },
      {
        "duration": 51,
        "start_time": "2023-05-11T19:08:31.220Z"
      },
      {
        "duration": 63,
        "start_time": "2023-05-11T19:08:31.273Z"
      },
      {
        "duration": 24,
        "start_time": "2023-05-11T19:08:31.338Z"
      },
      {
        "duration": 70,
        "start_time": "2023-05-11T19:08:31.363Z"
      },
      {
        "duration": 181,
        "start_time": "2023-05-11T19:08:31.434Z"
      },
      {
        "duration": 120,
        "start_time": "2023-05-11T19:08:31.617Z"
      },
      {
        "duration": 18,
        "start_time": "2023-05-11T19:08:31.738Z"
      },
      {
        "duration": 22,
        "start_time": "2023-05-11T19:08:31.758Z"
      },
      {
        "duration": 51,
        "start_time": "2023-05-11T19:08:31.782Z"
      },
      {
        "duration": 238,
        "start_time": "2023-05-11T19:08:31.835Z"
      },
      {
        "duration": 333,
        "start_time": "2023-05-11T19:08:32.074Z"
      },
      {
        "duration": 5,
        "start_time": "2023-05-11T19:08:32.408Z"
      },
      {
        "duration": 210,
        "start_time": "2023-05-11T19:08:32.414Z"
      },
      {
        "duration": 4,
        "start_time": "2023-05-11T19:08:32.625Z"
      },
      {
        "duration": 590,
        "start_time": "2023-05-11T19:08:32.630Z"
      },
      {
        "duration": 179,
        "start_time": "2023-05-11T19:08:33.222Z"
      },
      {
        "duration": 7,
        "start_time": "2023-05-11T19:08:33.406Z"
      },
      {
        "duration": 10,
        "start_time": "2023-05-11T19:08:33.415Z"
      },
      {
        "duration": 182,
        "start_time": "2023-05-11T19:08:33.427Z"
      },
      {
        "duration": 4,
        "start_time": "2023-05-11T19:08:33.611Z"
      },
      {
        "duration": 8,
        "start_time": "2023-05-11T19:08:33.617Z"
      },
      {
        "duration": 6,
        "start_time": "2023-05-11T19:08:33.626Z"
      },
      {
        "duration": 1178,
        "start_time": "2023-05-11T19:09:54.155Z"
      },
      {
        "duration": 1182,
        "start_time": "2023-05-11T19:10:06.114Z"
      },
      {
        "duration": 6,
        "start_time": "2023-05-11T19:10:08.804Z"
      },
      {
        "duration": 5,
        "start_time": "2023-05-11T19:10:11.515Z"
      },
      {
        "duration": 4,
        "start_time": "2023-05-11T19:10:14.987Z"
      },
      {
        "duration": 3,
        "start_time": "2023-05-11T19:10:31.869Z"
      },
      {
        "duration": 6,
        "start_time": "2023-05-11T19:12:37.110Z"
      },
      {
        "duration": 1150,
        "start_time": "2023-05-11T19:12:38.805Z"
      },
      {
        "duration": 6,
        "start_time": "2023-05-11T19:14:44.062Z"
      },
      {
        "duration": 3,
        "start_time": "2023-05-11T19:14:57.634Z"
      },
      {
        "duration": 3,
        "start_time": "2023-05-11T19:15:05.050Z"
      },
      {
        "duration": 8,
        "start_time": "2023-05-11T19:15:44.143Z"
      },
      {
        "duration": 4,
        "start_time": "2023-05-11T19:16:07.968Z"
      },
      {
        "duration": 3,
        "start_time": "2023-05-11T19:16:26.870Z"
      },
      {
        "duration": 33,
        "start_time": "2023-05-11T19:28:42.342Z"
      },
      {
        "duration": 39,
        "start_time": "2023-05-11T19:31:15.131Z"
      },
      {
        "duration": 9,
        "start_time": "2023-05-11T19:31:44.480Z"
      },
      {
        "duration": 7,
        "start_time": "2023-05-11T19:31:49.334Z"
      },
      {
        "duration": 9,
        "start_time": "2023-05-11T19:31:53.736Z"
      },
      {
        "duration": 10,
        "start_time": "2023-05-11T19:31:56.827Z"
      },
      {
        "duration": 13,
        "start_time": "2023-05-11T19:32:02.824Z"
      },
      {
        "duration": 29,
        "start_time": "2023-05-11T19:32:19.952Z"
      },
      {
        "duration": 24,
        "start_time": "2023-05-11T19:32:23.664Z"
      },
      {
        "duration": 54,
        "start_time": "2023-05-11T19:32:27.289Z"
      },
      {
        "duration": 7,
        "start_time": "2023-05-11T19:34:14.659Z"
      },
      {
        "duration": 33,
        "start_time": "2023-05-11T19:34:19.890Z"
      },
      {
        "duration": 4,
        "start_time": "2023-05-11T19:34:25.812Z"
      },
      {
        "duration": 4,
        "start_time": "2023-05-11T19:34:37.866Z"
      },
      {
        "duration": 4,
        "start_time": "2023-05-11T19:34:48.770Z"
      },
      {
        "duration": 35,
        "start_time": "2023-05-11T19:35:37.944Z"
      },
      {
        "duration": 134,
        "start_time": "2023-05-11T19:37:27.755Z"
      },
      {
        "duration": 9,
        "start_time": "2023-05-11T19:38:18.147Z"
      },
      {
        "duration": 4,
        "start_time": "2023-05-11T19:38:19.892Z"
      },
      {
        "duration": 5626,
        "start_time": "2023-05-11T19:38:23.828Z"
      },
      {
        "duration": 5590,
        "start_time": "2023-05-11T19:39:35.861Z"
      },
      {
        "duration": 329785,
        "start_time": "2023-05-11T19:39:41.453Z"
      },
      {
        "duration": 3593,
        "start_time": "2023-05-11T19:45:11.245Z"
      },
      {
        "duration": 256,
        "start_time": "2023-05-11T19:45:46.682Z"
      },
      {
        "duration": 228,
        "start_time": "2023-05-11T19:45:53.834Z"
      },
      {
        "duration": 195,
        "start_time": "2023-05-11T19:46:32.123Z"
      },
      {
        "duration": 188,
        "start_time": "2023-05-11T19:48:05.432Z"
      },
      {
        "duration": 4,
        "start_time": "2023-05-11T20:34:08.064Z"
      },
      {
        "duration": 5,
        "start_time": "2023-05-11T20:34:12.129Z"
      },
      {
        "duration": 21,
        "start_time": "2023-05-11T20:38:43.744Z"
      },
      {
        "duration": 45,
        "start_time": "2023-05-11T20:38:57.706Z"
      },
      {
        "duration": 17,
        "start_time": "2023-05-11T20:39:07.826Z"
      },
      {
        "duration": 27,
        "start_time": "2023-05-11T20:40:05.369Z"
      },
      {
        "duration": 32,
        "start_time": "2023-05-11T20:40:17.163Z"
      },
      {
        "duration": 28,
        "start_time": "2023-05-11T20:41:29.304Z"
      },
      {
        "duration": 31,
        "start_time": "2023-05-11T20:41:39.372Z"
      },
      {
        "duration": 4499,
        "start_time": "2023-05-11T20:41:53.138Z"
      },
      {
        "duration": 49960,
        "start_time": "2023-05-11T20:42:02.356Z"
      },
      {
        "duration": 52442,
        "start_time": "2023-05-11T20:44:50.963Z"
      },
      {
        "duration": 50250,
        "start_time": "2023-05-11T20:48:09.253Z"
      },
      {
        "duration": 1790,
        "start_time": "2023-05-12T11:36:16.741Z"
      },
      {
        "duration": 3275,
        "start_time": "2023-05-12T11:36:18.534Z"
      },
      {
        "duration": 7,
        "start_time": "2023-05-12T11:36:21.811Z"
      },
      {
        "duration": 27,
        "start_time": "2023-05-12T11:36:21.820Z"
      },
      {
        "duration": 17,
        "start_time": "2023-05-12T11:36:21.849Z"
      },
      {
        "duration": 19,
        "start_time": "2023-05-12T11:36:21.872Z"
      },
      {
        "duration": 27,
        "start_time": "2023-05-12T11:36:21.893Z"
      },
      {
        "duration": 4,
        "start_time": "2023-05-12T11:36:21.922Z"
      },
      {
        "duration": 10,
        "start_time": "2023-05-12T11:36:21.927Z"
      },
      {
        "duration": 32,
        "start_time": "2023-05-12T11:36:21.939Z"
      },
      {
        "duration": 14,
        "start_time": "2023-05-12T11:36:21.973Z"
      },
      {
        "duration": 15,
        "start_time": "2023-05-12T11:36:21.989Z"
      },
      {
        "duration": 49,
        "start_time": "2023-05-12T11:36:22.006Z"
      },
      {
        "duration": 30,
        "start_time": "2023-05-12T11:36:22.066Z"
      },
      {
        "duration": 11,
        "start_time": "2023-05-12T11:36:22.098Z"
      },
      {
        "duration": 411,
        "start_time": "2023-05-12T11:36:22.111Z"
      },
      {
        "duration": 151,
        "start_time": "2023-05-12T11:36:22.523Z"
      },
      {
        "duration": 23,
        "start_time": "2023-05-12T11:36:22.676Z"
      },
      {
        "duration": 13,
        "start_time": "2023-05-12T11:36:22.701Z"
      },
      {
        "duration": 55,
        "start_time": "2023-05-12T11:36:22.716Z"
      },
      {
        "duration": 270,
        "start_time": "2023-05-12T11:36:22.773Z"
      },
      {
        "duration": 425,
        "start_time": "2023-05-12T11:36:23.045Z"
      },
      {
        "duration": 6,
        "start_time": "2023-05-12T11:36:23.473Z"
      },
      {
        "duration": 220,
        "start_time": "2023-05-12T11:36:23.481Z"
      },
      {
        "duration": 4,
        "start_time": "2023-05-12T11:36:23.703Z"
      },
      {
        "duration": 534,
        "start_time": "2023-05-12T11:36:23.709Z"
      },
      {
        "duration": 229,
        "start_time": "2023-05-12T11:36:24.244Z"
      },
      {
        "duration": 7,
        "start_time": "2023-05-12T11:36:24.475Z"
      },
      {
        "duration": 6,
        "start_time": "2023-05-12T11:36:24.484Z"
      },
      {
        "duration": 241,
        "start_time": "2023-05-12T11:36:24.492Z"
      },
      {
        "duration": 4,
        "start_time": "2023-05-12T11:36:24.734Z"
      },
      {
        "duration": 25,
        "start_time": "2023-05-12T11:36:24.739Z"
      },
      {
        "duration": 11,
        "start_time": "2023-05-12T11:36:24.768Z"
      },
      {
        "duration": 24,
        "start_time": "2023-05-12T11:36:24.781Z"
      },
      {
        "duration": 51086,
        "start_time": "2023-05-12T11:36:54.740Z"
      },
      {
        "duration": 6,
        "start_time": "2023-05-12T12:49:26.912Z"
      },
      {
        "duration": 743,
        "start_time": "2023-05-12T12:49:26.942Z"
      },
      {
        "duration": 31,
        "start_time": "2023-05-12T12:49:27.695Z"
      },
      {
        "duration": 15,
        "start_time": "2023-05-12T12:49:27.760Z"
      },
      {
        "duration": 21,
        "start_time": "2023-05-12T12:49:27.817Z"
      },
      {
        "duration": 18,
        "start_time": "2023-05-12T12:49:27.847Z"
      },
      {
        "duration": 46,
        "start_time": "2023-05-12T12:49:27.879Z"
      },
      {
        "duration": 10,
        "start_time": "2023-05-12T12:49:27.939Z"
      },
      {
        "duration": 7,
        "start_time": "2023-05-12T12:49:27.966Z"
      },
      {
        "duration": 7,
        "start_time": "2023-05-12T12:49:27.989Z"
      },
      {
        "duration": 4,
        "start_time": "2023-05-12T12:49:28.069Z"
      },
      {
        "duration": 43,
        "start_time": "2023-05-12T12:49:28.213Z"
      },
      {
        "duration": 66,
        "start_time": "2023-05-12T12:49:28.277Z"
      },
      {
        "duration": 25,
        "start_time": "2023-05-12T12:49:28.561Z"
      },
      {
        "duration": 19,
        "start_time": "2023-05-12T12:49:28.743Z"
      },
      {
        "duration": 177,
        "start_time": "2023-05-12T12:49:28.782Z"
      },
      {
        "duration": 160,
        "start_time": "2023-05-12T12:49:28.979Z"
      },
      {
        "duration": 18,
        "start_time": "2023-05-12T12:49:29.172Z"
      },
      {
        "duration": 17,
        "start_time": "2023-05-12T12:49:29.448Z"
      },
      {
        "duration": 32,
        "start_time": "2023-05-12T12:49:29.833Z"
      },
      {
        "duration": 243,
        "start_time": "2023-05-12T12:49:29.873Z"
      },
      {
        "duration": 375,
        "start_time": "2023-05-12T12:49:30.304Z"
      },
      {
        "duration": 103,
        "start_time": "2023-05-12T12:49:30.686Z"
      },
      {
        "duration": 189,
        "start_time": "2023-05-12T12:49:31.416Z"
      },
      {
        "duration": 4,
        "start_time": "2023-05-12T12:49:31.838Z"
      },
      {
        "duration": 510,
        "start_time": "2023-05-12T12:49:31.877Z"
      },
      {
        "duration": 226,
        "start_time": "2023-05-12T12:49:32.396Z"
      },
      {
        "duration": 7,
        "start_time": "2023-05-12T12:49:32.832Z"
      },
      {
        "duration": 4,
        "start_time": "2023-05-12T12:49:32.857Z"
      },
      {
        "duration": 225,
        "start_time": "2023-05-12T12:49:32.880Z"
      },
      {
        "duration": 0,
        "start_time": "2023-05-12T12:49:33.252Z"
      },
      {
        "duration": 0,
        "start_time": "2023-05-12T12:49:33.256Z"
      },
      {
        "duration": 0,
        "start_time": "2023-05-12T12:49:33.259Z"
      },
      {
        "duration": 0,
        "start_time": "2023-05-12T12:49:33.262Z"
      },
      {
        "duration": 5,
        "start_time": "2023-05-12T12:50:43.552Z"
      },
      {
        "duration": 757,
        "start_time": "2023-05-12T12:50:43.561Z"
      },
      {
        "duration": 7,
        "start_time": "2023-05-12T12:50:44.320Z"
      },
      {
        "duration": 15,
        "start_time": "2023-05-12T12:50:44.329Z"
      },
      {
        "duration": 27,
        "start_time": "2023-05-12T12:50:44.346Z"
      },
      {
        "duration": 33,
        "start_time": "2023-05-12T12:50:44.376Z"
      },
      {
        "duration": 41,
        "start_time": "2023-05-12T12:50:44.412Z"
      },
      {
        "duration": 18,
        "start_time": "2023-05-12T12:50:44.455Z"
      },
      {
        "duration": 14,
        "start_time": "2023-05-12T12:50:44.475Z"
      },
      {
        "duration": 21,
        "start_time": "2023-05-12T12:50:44.493Z"
      },
      {
        "duration": 35,
        "start_time": "2023-05-12T12:50:44.517Z"
      },
      {
        "duration": 40,
        "start_time": "2023-05-12T12:50:44.554Z"
      },
      {
        "duration": 65,
        "start_time": "2023-05-12T12:50:44.597Z"
      },
      {
        "duration": 163,
        "start_time": "2023-05-12T12:50:44.664Z"
      },
      {
        "duration": 11,
        "start_time": "2023-05-12T12:50:44.829Z"
      },
      {
        "duration": 221,
        "start_time": "2023-05-12T12:50:44.842Z"
      },
      {
        "duration": 154,
        "start_time": "2023-05-12T12:50:45.064Z"
      },
      {
        "duration": 20,
        "start_time": "2023-05-12T12:50:45.220Z"
      },
      {
        "duration": 26,
        "start_time": "2023-05-12T12:50:45.243Z"
      },
      {
        "duration": 28,
        "start_time": "2023-05-12T12:50:45.270Z"
      },
      {
        "duration": 278,
        "start_time": "2023-05-12T12:50:45.300Z"
      },
      {
        "duration": 415,
        "start_time": "2023-05-12T12:50:45.580Z"
      },
      {
        "duration": 6,
        "start_time": "2023-05-12T12:50:45.997Z"
      },
      {
        "duration": 194,
        "start_time": "2023-05-12T12:50:46.005Z"
      },
      {
        "duration": 5,
        "start_time": "2023-05-12T12:50:46.201Z"
      },
      {
        "duration": 515,
        "start_time": "2023-05-12T12:50:46.207Z"
      },
      {
        "duration": 213,
        "start_time": "2023-05-12T12:50:46.724Z"
      },
      {
        "duration": 15,
        "start_time": "2023-05-12T12:50:46.942Z"
      },
      {
        "duration": 5,
        "start_time": "2023-05-12T12:50:46.959Z"
      },
      {
        "duration": 243,
        "start_time": "2023-05-12T12:50:46.965Z"
      },
      {
        "duration": 3,
        "start_time": "2023-05-12T12:50:47.210Z"
      },
      {
        "duration": 26,
        "start_time": "2023-05-12T12:50:47.215Z"
      },
      {
        "duration": 16,
        "start_time": "2023-05-12T12:50:47.244Z"
      },
      {
        "duration": 24,
        "start_time": "2023-05-12T12:50:47.262Z"
      },
      {
        "duration": 19,
        "start_time": "2023-05-12T12:50:47.288Z"
      },
      {
        "duration": 1675219,
        "start_time": "2023-05-12T12:50:54.090Z"
      },
      {
        "duration": 0,
        "start_time": "2023-05-12T13:18:49.311Z"
      },
      {
        "duration": 0,
        "start_time": "2023-05-12T13:18:49.313Z"
      },
      {
        "duration": 0,
        "start_time": "2023-05-12T13:18:49.316Z"
      },
      {
        "duration": 5,
        "start_time": "2023-05-12T13:18:54.451Z"
      },
      {
        "duration": 16,
        "start_time": "2023-05-12T13:18:55.492Z"
      },
      {
        "duration": 12,
        "start_time": "2023-05-12T13:19:36.733Z"
      },
      {
        "duration": 13,
        "start_time": "2023-05-12T13:20:06.645Z"
      },
      {
        "duration": 5,
        "start_time": "2023-05-12T13:21:08.918Z"
      },
      {
        "duration": 4,
        "start_time": "2023-05-12T13:21:15.205Z"
      },
      {
        "duration": 13,
        "start_time": "2023-05-12T13:21:31.039Z"
      },
      {
        "duration": 10,
        "start_time": "2023-05-12T13:22:21.481Z"
      },
      {
        "duration": 5,
        "start_time": "2023-05-12T13:22:22.750Z"
      },
      {
        "duration": 4,
        "start_time": "2023-05-12T13:22:22.934Z"
      },
      {
        "duration": 5,
        "start_time": "2023-05-12T13:22:37.834Z"
      },
      {
        "duration": 10,
        "start_time": "2023-05-12T13:22:39.120Z"
      },
      {
        "duration": 4,
        "start_time": "2023-05-12T13:22:39.831Z"
      },
      {
        "duration": 12,
        "start_time": "2023-05-12T13:23:59.087Z"
      },
      {
        "duration": 5,
        "start_time": "2023-05-12T13:24:04.368Z"
      },
      {
        "duration": 3,
        "start_time": "2023-05-12T13:24:09.970Z"
      },
      {
        "duration": 26,
        "start_time": "2023-05-12T13:24:18.544Z"
      },
      {
        "duration": 22,
        "start_time": "2023-05-12T13:24:28.152Z"
      },
      {
        "duration": 18,
        "start_time": "2023-05-12T13:24:34.153Z"
      },
      {
        "duration": 5531,
        "start_time": "2023-05-12T13:25:45.489Z"
      },
      {
        "duration": 5516,
        "start_time": "2023-05-12T13:26:04.257Z"
      },
      {
        "duration": 1420,
        "start_time": "2023-05-12T13:29:30.739Z"
      },
      {
        "duration": 3,
        "start_time": "2023-05-12T13:35:11.606Z"
      },
      {
        "duration": 18,
        "start_time": "2023-05-12T13:35:52.560Z"
      },
      {
        "duration": 1208,
        "start_time": "2023-05-12T13:36:12.551Z"
      },
      {
        "duration": 4,
        "start_time": "2023-05-12T13:42:16.946Z"
      },
      {
        "duration": 1451,
        "start_time": "2023-05-12T13:42:24.306Z"
      },
      {
        "duration": 5891,
        "start_time": "2023-05-12T15:59:20.292Z"
      },
      {
        "duration": 0,
        "start_time": "2023-05-12T16:01:00.985Z"
      },
      {
        "duration": 10949,
        "start_time": "2023-05-12T16:01:21.392Z"
      },
      {
        "duration": 52326,
        "start_time": "2023-05-12T16:01:36.192Z"
      },
      {
        "duration": 1264,
        "start_time": "2023-05-12T16:22:56.993Z"
      },
      {
        "duration": 3,
        "start_time": "2023-05-12T17:40:18.701Z"
      },
      {
        "duration": 3,
        "start_time": "2023-05-12T17:40:18.996Z"
      },
      {
        "duration": 9,
        "start_time": "2023-05-12T17:41:36.646Z"
      },
      {
        "duration": 3,
        "start_time": "2023-05-12T17:42:26.983Z"
      },
      {
        "duration": 4,
        "start_time": "2023-05-12T17:42:27.382Z"
      },
      {
        "duration": 10,
        "start_time": "2023-05-12T17:42:28.680Z"
      },
      {
        "duration": 14,
        "start_time": "2023-05-12T17:42:29.487Z"
      },
      {
        "duration": 3,
        "start_time": "2023-05-12T17:42:43.535Z"
      },
      {
        "duration": 3,
        "start_time": "2023-05-12T17:42:53.799Z"
      },
      {
        "duration": 2,
        "start_time": "2023-05-12T17:42:55.199Z"
      },
      {
        "duration": 1328,
        "start_time": "2023-05-12T17:43:04.631Z"
      },
      {
        "duration": 1325,
        "start_time": "2023-05-12T17:43:16.735Z"
      },
      {
        "duration": 3,
        "start_time": "2023-05-12T17:49:10.746Z"
      },
      {
        "duration": 2,
        "start_time": "2023-05-12T17:49:11.284Z"
      },
      {
        "duration": 1347,
        "start_time": "2023-05-12T17:49:13.611Z"
      },
      {
        "duration": 2409,
        "start_time": "2023-05-12T17:49:43.147Z"
      },
      {
        "duration": 3,
        "start_time": "2023-05-12T17:50:40.984Z"
      },
      {
        "duration": 4,
        "start_time": "2023-05-12T17:50:52.189Z"
      },
      {
        "duration": 3,
        "start_time": "2023-05-12T18:05:15.532Z"
      },
      {
        "duration": 3,
        "start_time": "2023-05-12T18:05:15.900Z"
      },
      {
        "duration": 3,
        "start_time": "2023-05-12T18:05:17.051Z"
      },
      {
        "duration": 10,
        "start_time": "2023-05-12T18:05:18.169Z"
      },
      {
        "duration": 2725,
        "start_time": "2023-05-12T18:05:21.933Z"
      },
      {
        "duration": 2771,
        "start_time": "2023-05-12T18:06:02.292Z"
      },
      {
        "duration": 3,
        "start_time": "2023-05-12T18:15:26.882Z"
      },
      {
        "duration": 2676,
        "start_time": "2023-05-12T18:15:29.782Z"
      },
      {
        "duration": 3,
        "start_time": "2023-05-12T18:15:47.265Z"
      },
      {
        "duration": 2504,
        "start_time": "2023-05-12T18:15:49.054Z"
      },
      {
        "duration": 3,
        "start_time": "2023-05-12T18:16:14.914Z"
      },
      {
        "duration": 2870,
        "start_time": "2023-05-12T18:16:16.394Z"
      },
      {
        "duration": 3,
        "start_time": "2023-05-12T18:17:45.218Z"
      },
      {
        "duration": 2807,
        "start_time": "2023-05-12T18:17:46.955Z"
      },
      {
        "duration": 3,
        "start_time": "2023-05-12T18:18:36.644Z"
      },
      {
        "duration": 10,
        "start_time": "2023-05-12T18:18:38.158Z"
      },
      {
        "duration": 3014,
        "start_time": "2023-05-12T18:18:40.244Z"
      },
      {
        "duration": 2642,
        "start_time": "2023-05-12T18:18:52.522Z"
      },
      {
        "duration": 2975,
        "start_time": "2023-05-12T18:19:41.083Z"
      },
      {
        "duration": 433946,
        "start_time": "2023-05-12T18:24:18.195Z"
      },
      {
        "duration": 0,
        "start_time": "2023-05-12T18:31:32.143Z"
      },
      {
        "duration": 122935,
        "start_time": "2023-05-12T18:31:34.147Z"
      },
      {
        "duration": 0,
        "start_time": "2023-05-12T18:33:37.084Z"
      },
      {
        "duration": 78,
        "start_time": "2023-05-12T18:33:39.068Z"
      },
      {
        "duration": 3,
        "start_time": "2023-05-12T18:35:03.317Z"
      },
      {
        "duration": 9,
        "start_time": "2023-05-12T18:35:34.909Z"
      },
      {
        "duration": 3,
        "start_time": "2023-05-12T18:35:36.581Z"
      },
      {
        "duration": 3,
        "start_time": "2023-05-12T18:35:39.085Z"
      },
      {
        "duration": 2765,
        "start_time": "2023-05-12T18:35:41.493Z"
      },
      {
        "duration": 566187,
        "start_time": "2023-05-12T18:35:46.549Z"
      },
      {
        "duration": 0,
        "start_time": "2023-05-12T18:45:12.738Z"
      },
      {
        "duration": 843,
        "start_time": "2023-05-12T18:45:17.346Z"
      },
      {
        "duration": 2195514,
        "start_time": "2023-05-12T18:45:20.826Z"
      },
      {
        "duration": 0,
        "start_time": "2023-05-12T19:21:56.343Z"
      },
      {
        "duration": 0,
        "start_time": "2023-05-12T19:21:56.344Z"
      },
      {
        "duration": 9624,
        "start_time": "2023-05-12T19:22:03.555Z"
      },
      {
        "duration": 2704,
        "start_time": "2023-05-12T19:30:52.226Z"
      },
      {
        "duration": 9515,
        "start_time": "2023-05-12T19:30:56.442Z"
      },
      {
        "duration": 3,
        "start_time": "2023-05-12T19:34:23.453Z"
      },
      {
        "duration": 2,
        "start_time": "2023-05-12T19:34:26.854Z"
      },
      {
        "duration": 9836,
        "start_time": "2023-05-12T19:34:36.392Z"
      },
      {
        "duration": 2551,
        "start_time": "2023-05-12T19:37:09.216Z"
      },
      {
        "duration": 2702,
        "start_time": "2023-05-12T19:37:26.962Z"
      },
      {
        "duration": 5,
        "start_time": "2023-05-12T19:38:39.215Z"
      },
      {
        "duration": 3,
        "start_time": "2023-05-12T19:39:05.992Z"
      },
      {
        "duration": 3,
        "start_time": "2023-05-12T19:39:07.840Z"
      },
      {
        "duration": 9062,
        "start_time": "2023-05-12T19:39:10.889Z"
      },
      {
        "duration": 3,
        "start_time": "2023-05-12T19:39:45.888Z"
      },
      {
        "duration": 4,
        "start_time": "2023-05-12T19:39:48.840Z"
      },
      {
        "duration": 10155,
        "start_time": "2023-05-12T19:39:57.388Z"
      },
      {
        "duration": 9784,
        "start_time": "2023-05-12T19:42:35.146Z"
      },
      {
        "duration": 5019,
        "start_time": "2023-05-12T19:45:55.406Z"
      },
      {
        "duration": 9892,
        "start_time": "2023-05-12T19:46:09.533Z"
      },
      {
        "duration": 4,
        "start_time": "2023-05-12T19:50:05.906Z"
      },
      {
        "duration": 2743,
        "start_time": "2023-05-12T19:50:07.320Z"
      },
      {
        "duration": 4,
        "start_time": "2023-05-12T19:50:11.040Z"
      },
      {
        "duration": 4,
        "start_time": "2023-05-12T19:50:20.216Z"
      },
      {
        "duration": 24,
        "start_time": "2023-05-12T19:52:43.053Z"
      },
      {
        "duration": 149098,
        "start_time": "2023-05-12T20:02:57.154Z"
      },
      {
        "duration": 0,
        "start_time": "2023-05-12T20:05:26.253Z"
      },
      {
        "duration": 0,
        "start_time": "2023-05-12T20:10:16.686Z"
      },
      {
        "duration": 270,
        "start_time": "2023-05-12T20:10:17.788Z"
      },
      {
        "duration": 275,
        "start_time": "2023-05-12T20:10:22.449Z"
      },
      {
        "duration": 45473,
        "start_time": "2023-05-12T20:13:07.574Z"
      },
      {
        "duration": 5,
        "start_time": "2023-05-12T20:30:19.280Z"
      },
      {
        "duration": 3,
        "start_time": "2023-05-12T20:38:25.938Z"
      },
      {
        "duration": 3,
        "start_time": "2023-05-12T20:38:29.348Z"
      },
      {
        "duration": 50799,
        "start_time": "2023-05-12T20:38:56.158Z"
      },
      {
        "duration": 0,
        "start_time": "2023-05-12T20:39:46.960Z"
      },
      {
        "duration": 3,
        "start_time": "2023-05-12T20:39:49.411Z"
      },
      {
        "duration": 3,
        "start_time": "2023-05-12T20:39:49.887Z"
      },
      {
        "duration": 3,
        "start_time": "2023-05-12T20:39:50.259Z"
      },
      {
        "duration": 138138,
        "start_time": "2023-05-12T20:39:55.498Z"
      },
      {
        "duration": 3,
        "start_time": "2023-05-12T21:00:04.688Z"
      },
      {
        "duration": 2,
        "start_time": "2023-05-12T21:00:07.984Z"
      },
      {
        "duration": 4559,
        "start_time": "2023-05-12T21:00:11.904Z"
      },
      {
        "duration": 0,
        "start_time": "2023-05-12T21:04:27.964Z"
      },
      {
        "duration": 4,
        "start_time": "2023-05-12T21:07:43.652Z"
      },
      {
        "duration": 4,
        "start_time": "2023-05-12T21:11:29.151Z"
      },
      {
        "duration": 4,
        "start_time": "2023-05-12T21:13:39.504Z"
      },
      {
        "duration": 9082,
        "start_time": "2023-05-12T21:14:08.921Z"
      },
      {
        "duration": 4499,
        "start_time": "2023-05-12T21:21:11.380Z"
      },
      {
        "duration": 52,
        "start_time": "2023-05-13T10:11:44.241Z"
      },
      {
        "duration": 1594,
        "start_time": "2023-05-13T10:12:08.027Z"
      },
      {
        "duration": 3112,
        "start_time": "2023-05-13T10:12:09.624Z"
      },
      {
        "duration": 7,
        "start_time": "2023-05-13T10:12:12.738Z"
      },
      {
        "duration": 8,
        "start_time": "2023-05-13T10:12:12.747Z"
      },
      {
        "duration": 7,
        "start_time": "2023-05-13T10:12:12.757Z"
      },
      {
        "duration": 24,
        "start_time": "2023-05-13T10:12:12.766Z"
      },
      {
        "duration": 26,
        "start_time": "2023-05-13T10:12:12.792Z"
      },
      {
        "duration": 6,
        "start_time": "2023-05-13T10:12:12.820Z"
      },
      {
        "duration": 5,
        "start_time": "2023-05-13T10:12:12.828Z"
      },
      {
        "duration": 4,
        "start_time": "2023-05-13T10:12:12.836Z"
      },
      {
        "duration": 5,
        "start_time": "2023-05-13T10:12:12.878Z"
      },
      {
        "duration": 13,
        "start_time": "2023-05-13T10:12:12.885Z"
      },
      {
        "duration": 61,
        "start_time": "2023-05-13T10:12:12.900Z"
      },
      {
        "duration": 25,
        "start_time": "2023-05-13T10:12:12.963Z"
      },
      {
        "duration": 13,
        "start_time": "2023-05-13T10:12:12.990Z"
      },
      {
        "duration": 426,
        "start_time": "2023-05-13T10:12:13.006Z"
      },
      {
        "duration": 178,
        "start_time": "2023-05-13T10:12:13.434Z"
      },
      {
        "duration": 24,
        "start_time": "2023-05-13T10:12:13.615Z"
      },
      {
        "duration": 12,
        "start_time": "2023-05-13T10:12:13.641Z"
      },
      {
        "duration": 21,
        "start_time": "2023-05-13T10:12:13.677Z"
      },
      {
        "duration": 302,
        "start_time": "2023-05-13T10:12:13.700Z"
      },
      {
        "duration": 373,
        "start_time": "2023-05-13T10:12:14.004Z"
      },
      {
        "duration": 6,
        "start_time": "2023-05-13T10:12:14.379Z"
      },
      {
        "duration": 236,
        "start_time": "2023-05-13T10:12:14.388Z"
      },
      {
        "duration": 6,
        "start_time": "2023-05-13T10:12:14.626Z"
      },
      {
        "duration": 484,
        "start_time": "2023-05-13T10:12:14.634Z"
      },
      {
        "duration": 213,
        "start_time": "2023-05-13T10:12:15.120Z"
      },
      {
        "duration": 7,
        "start_time": "2023-05-13T10:12:15.337Z"
      },
      {
        "duration": 8,
        "start_time": "2023-05-13T10:12:15.346Z"
      },
      {
        "duration": 225,
        "start_time": "2023-05-13T10:12:15.356Z"
      },
      {
        "duration": 5,
        "start_time": "2023-05-13T10:12:15.583Z"
      },
      {
        "duration": 6,
        "start_time": "2023-05-13T10:12:15.590Z"
      },
      {
        "duration": 7,
        "start_time": "2023-05-13T10:12:15.598Z"
      },
      {
        "duration": 4,
        "start_time": "2023-05-13T10:12:15.607Z"
      },
      {
        "duration": 4,
        "start_time": "2023-05-13T10:12:15.613Z"
      },
      {
        "duration": 11,
        "start_time": "2023-05-13T10:12:15.622Z"
      },
      {
        "duration": 43,
        "start_time": "2023-05-13T10:12:15.635Z"
      },
      {
        "duration": 4005,
        "start_time": "2023-05-13T10:12:15.680Z"
      },
      {
        "duration": 6,
        "start_time": "2023-05-13T10:12:19.687Z"
      },
      {
        "duration": 5254,
        "start_time": "2023-05-13T10:12:19.778Z"
      },
      {
        "duration": 139,
        "start_time": "2023-05-13T10:13:40.419Z"
      },
      {
        "duration": 5,
        "start_time": "2023-05-13T10:13:46.167Z"
      },
      {
        "duration": 5188,
        "start_time": "2023-05-13T10:14:47.604Z"
      },
      {
        "duration": 7,
        "start_time": "2023-05-13T10:14:52.794Z"
      },
      {
        "duration": 7,
        "start_time": "2023-05-13T10:16:50.076Z"
      },
      {
        "duration": 3,
        "start_time": "2023-05-13T10:16:52.502Z"
      },
      {
        "duration": 5537,
        "start_time": "2023-05-13T10:17:00.549Z"
      },
      {
        "duration": 4,
        "start_time": "2023-05-13T10:22:06.584Z"
      },
      {
        "duration": 2,
        "start_time": "2023-05-13T10:22:12.146Z"
      },
      {
        "duration": 5310,
        "start_time": "2023-05-13T10:22:17.903Z"
      },
      {
        "duration": 4,
        "start_time": "2023-05-13T10:23:52.554Z"
      },
      {
        "duration": 5,
        "start_time": "2023-05-13T10:23:54.470Z"
      },
      {
        "duration": 5347,
        "start_time": "2023-05-13T10:23:58.666Z"
      },
      {
        "duration": 35,
        "start_time": "2023-05-13T10:47:14.509Z"
      },
      {
        "duration": 8,
        "start_time": "2023-05-13T10:47:26.966Z"
      },
      {
        "duration": 7,
        "start_time": "2023-05-14T11:57:27.847Z"
      },
      {
        "duration": 55,
        "start_time": "2023-05-14T11:57:43.374Z"
      },
      {
        "duration": 1545,
        "start_time": "2023-05-14T11:57:51.268Z"
      },
      {
        "duration": 2455,
        "start_time": "2023-05-14T11:57:52.815Z"
      },
      {
        "duration": 8,
        "start_time": "2023-05-14T11:57:55.272Z"
      },
      {
        "duration": 11,
        "start_time": "2023-05-14T11:57:55.282Z"
      },
      {
        "duration": 8,
        "start_time": "2023-05-14T11:57:55.296Z"
      },
      {
        "duration": 18,
        "start_time": "2023-05-14T11:57:55.306Z"
      },
      {
        "duration": 28,
        "start_time": "2023-05-14T11:57:55.325Z"
      },
      {
        "duration": 4,
        "start_time": "2023-05-14T11:57:55.354Z"
      },
      {
        "duration": 9,
        "start_time": "2023-05-14T11:57:55.359Z"
      },
      {
        "duration": 4,
        "start_time": "2023-05-14T11:57:55.370Z"
      },
      {
        "duration": 9,
        "start_time": "2023-05-14T11:57:55.376Z"
      },
      {
        "duration": 9,
        "start_time": "2023-05-14T11:57:55.386Z"
      },
      {
        "duration": 54,
        "start_time": "2023-05-14T11:57:55.396Z"
      },
      {
        "duration": 20,
        "start_time": "2023-05-14T11:57:55.453Z"
      },
      {
        "duration": 8,
        "start_time": "2023-05-14T11:57:55.474Z"
      },
      {
        "duration": 311,
        "start_time": "2023-05-14T11:57:55.484Z"
      },
      {
        "duration": 116,
        "start_time": "2023-05-14T11:57:55.797Z"
      },
      {
        "duration": 25,
        "start_time": "2023-05-14T11:57:55.914Z"
      },
      {
        "duration": 10,
        "start_time": "2023-05-14T11:57:55.940Z"
      },
      {
        "duration": 18,
        "start_time": "2023-05-14T11:57:55.951Z"
      },
      {
        "duration": 235,
        "start_time": "2023-05-14T11:57:55.970Z"
      },
      {
        "duration": 430,
        "start_time": "2023-05-14T11:57:56.207Z"
      },
      {
        "duration": 5,
        "start_time": "2023-05-14T11:57:56.638Z"
      },
      {
        "duration": 179,
        "start_time": "2023-05-14T11:57:56.644Z"
      },
      {
        "duration": 4,
        "start_time": "2023-05-14T11:57:56.825Z"
      },
      {
        "duration": 452,
        "start_time": "2023-05-14T11:57:56.831Z"
      },
      {
        "duration": 191,
        "start_time": "2023-05-14T11:57:57.284Z"
      },
      {
        "duration": 5,
        "start_time": "2023-05-14T11:57:57.477Z"
      },
      {
        "duration": 6,
        "start_time": "2023-05-14T11:57:57.484Z"
      },
      {
        "duration": 199,
        "start_time": "2023-05-14T11:57:57.491Z"
      },
      {
        "duration": 2,
        "start_time": "2023-05-14T11:57:57.692Z"
      },
      {
        "duration": 5,
        "start_time": "2023-05-14T11:57:59.686Z"
      },
      {
        "duration": 2,
        "start_time": "2023-05-14T11:58:07.410Z"
      },
      {
        "duration": 9,
        "start_time": "2023-05-14T11:58:13.747Z"
      },
      {
        "duration": 3,
        "start_time": "2023-05-14T11:58:13.874Z"
      },
      {
        "duration": 4110,
        "start_time": "2023-05-14T11:58:26.173Z"
      },
      {
        "duration": 3,
        "start_time": "2023-05-14T11:58:59.040Z"
      },
      {
        "duration": 7,
        "start_time": "2023-05-14T11:58:59.936Z"
      },
      {
        "duration": 3836,
        "start_time": "2023-05-14T11:59:12.497Z"
      },
      {
        "duration": 12,
        "start_time": "2023-05-14T11:59:43.349Z"
      },
      {
        "duration": 12,
        "start_time": "2023-05-14T12:01:27.582Z"
      },
      {
        "duration": 3,
        "start_time": "2023-05-14T12:07:47.910Z"
      },
      {
        "duration": 2,
        "start_time": "2023-05-14T12:07:49.040Z"
      },
      {
        "duration": 12,
        "start_time": "2023-05-14T12:07:49.544Z"
      },
      {
        "duration": 3,
        "start_time": "2023-05-14T12:08:13.310Z"
      },
      {
        "duration": 2,
        "start_time": "2023-05-14T12:08:13.986Z"
      },
      {
        "duration": 13,
        "start_time": "2023-05-14T12:08:14.441Z"
      },
      {
        "duration": 12,
        "start_time": "2023-05-14T12:08:22.149Z"
      },
      {
        "duration": 3,
        "start_time": "2023-05-14T12:09:26.012Z"
      },
      {
        "duration": 3,
        "start_time": "2023-05-14T12:09:26.356Z"
      },
      {
        "duration": 11,
        "start_time": "2023-05-14T12:09:26.598Z"
      },
      {
        "duration": 2,
        "start_time": "2023-05-14T12:09:30.286Z"
      },
      {
        "duration": 2,
        "start_time": "2023-05-14T12:09:30.461Z"
      },
      {
        "duration": 11,
        "start_time": "2023-05-14T12:09:30.749Z"
      },
      {
        "duration": 4,
        "start_time": "2023-05-14T12:10:42.440Z"
      },
      {
        "duration": 3,
        "start_time": "2023-05-14T12:10:42.789Z"
      },
      {
        "duration": 11,
        "start_time": "2023-05-14T12:10:43.082Z"
      },
      {
        "duration": 3,
        "start_time": "2023-05-14T12:10:54.750Z"
      },
      {
        "duration": 3,
        "start_time": "2023-05-14T12:10:56.342Z"
      },
      {
        "duration": 14,
        "start_time": "2023-05-14T12:10:56.530Z"
      },
      {
        "duration": 2,
        "start_time": "2023-05-14T12:11:00.128Z"
      },
      {
        "duration": 5612,
        "start_time": "2023-05-14T12:11:09.310Z"
      },
      {
        "duration": 3,
        "start_time": "2023-05-14T12:17:18.493Z"
      },
      {
        "duration": 6,
        "start_time": "2023-05-14T12:17:18.922Z"
      },
      {
        "duration": 4692,
        "start_time": "2023-05-14T12:17:24.339Z"
      },
      {
        "duration": 4,
        "start_time": "2023-05-14T12:17:30.014Z"
      },
      {
        "duration": 6219,
        "start_time": "2023-05-14T12:17:37.794Z"
      },
      {
        "duration": 6258,
        "start_time": "2023-05-14T12:17:58.638Z"
      },
      {
        "duration": 3,
        "start_time": "2023-05-14T12:20:07.894Z"
      },
      {
        "duration": 6,
        "start_time": "2023-05-14T12:20:08.040Z"
      },
      {
        "duration": 9,
        "start_time": "2023-05-14T12:20:08.314Z"
      },
      {
        "duration": 6979,
        "start_time": "2023-05-14T12:20:15.953Z"
      },
      {
        "duration": 82,
        "start_time": "2023-05-14T12:20:22.941Z"
      },
      {
        "duration": 6,
        "start_time": "2023-05-14T12:23:23.138Z"
      },
      {
        "duration": 2,
        "start_time": "2023-05-14T12:23:23.706Z"
      },
      {
        "duration": 3,
        "start_time": "2023-05-14T12:23:23.944Z"
      },
      {
        "duration": 6127,
        "start_time": "2023-05-14T12:23:37.786Z"
      },
      {
        "duration": 5413,
        "start_time": "2023-05-14T12:33:09.042Z"
      },
      {
        "duration": 4,
        "start_time": "2023-05-14T12:33:16.642Z"
      },
      {
        "duration": 9,
        "start_time": "2023-05-14T12:33:36.355Z"
      },
      {
        "duration": 9,
        "start_time": "2023-05-14T12:36:18.357Z"
      },
      {
        "duration": 4,
        "start_time": "2023-05-14T12:36:18.742Z"
      },
      {
        "duration": 5270,
        "start_time": "2023-05-14T12:36:21.846Z"
      },
      {
        "duration": 5,
        "start_time": "2023-05-14T12:36:27.124Z"
      },
      {
        "duration": 6186,
        "start_time": "2023-05-14T12:36:31.254Z"
      },
      {
        "duration": 21,
        "start_time": "2023-05-14T12:41:45.708Z"
      },
      {
        "duration": 12,
        "start_time": "2023-05-14T12:42:07.103Z"
      },
      {
        "duration": 4,
        "start_time": "2023-05-14T12:42:21.142Z"
      },
      {
        "duration": 3,
        "start_time": "2023-05-14T12:42:21.494Z"
      },
      {
        "duration": 29,
        "start_time": "2023-05-14T12:42:22.618Z"
      },
      {
        "duration": 3,
        "start_time": "2023-05-14T12:42:30.800Z"
      },
      {
        "duration": 3,
        "start_time": "2023-05-14T12:42:34.598Z"
      },
      {
        "duration": 102,
        "start_time": "2023-05-14T12:42:43.041Z"
      },
      {
        "duration": 7461,
        "start_time": "2023-05-14T12:42:47.603Z"
      },
      {
        "duration": 3,
        "start_time": "2023-05-14T12:57:37.383Z"
      },
      {
        "duration": 2,
        "start_time": "2023-05-14T12:57:37.906Z"
      },
      {
        "duration": 4865,
        "start_time": "2023-05-14T12:57:43.058Z"
      },
      {
        "duration": 4,
        "start_time": "2023-05-14T12:57:48.707Z"
      },
      {
        "duration": 6343,
        "start_time": "2023-05-14T13:01:01.490Z"
      },
      {
        "duration": 83,
        "start_time": "2023-05-14T13:01:07.835Z"
      },
      {
        "duration": 3,
        "start_time": "2023-05-14T13:06:15.087Z"
      },
      {
        "duration": 3,
        "start_time": "2023-05-14T13:06:16.159Z"
      },
      {
        "duration": 3,
        "start_time": "2023-05-14T13:06:17.240Z"
      },
      {
        "duration": 7241,
        "start_time": "2023-05-14T13:06:20.896Z"
      },
      {
        "duration": 4,
        "start_time": "2023-05-14T13:06:29.351Z"
      },
      {
        "duration": 1350,
        "start_time": "2023-05-14T13:06:31.758Z"
      },
      {
        "duration": 1448,
        "start_time": "2023-05-14T13:07:03.740Z"
      },
      {
        "duration": 3461,
        "start_time": "2023-05-14T13:07:35.184Z"
      },
      {
        "duration": 4,
        "start_time": "2023-05-14T13:07:39.401Z"
      },
      {
        "duration": 12,
        "start_time": "2023-05-14T13:08:29.183Z"
      },
      {
        "duration": 182,
        "start_time": "2023-05-14T13:08:34.183Z"
      },
      {
        "duration": 398,
        "start_time": "2023-05-14T13:08:40.982Z"
      },
      {
        "duration": 4,
        "start_time": "2023-05-14T13:09:58.601Z"
      },
      {
        "duration": 3,
        "start_time": "2023-05-14T13:09:59.295Z"
      },
      {
        "duration": 4938,
        "start_time": "2023-05-14T13:10:04.685Z"
      },
      {
        "duration": 9,
        "start_time": "2023-05-14T13:10:09.626Z"
      },
      {
        "duration": 6396,
        "start_time": "2023-05-14T13:10:12.282Z"
      },
      {
        "duration": 3,
        "start_time": "2023-05-14T13:11:33.587Z"
      },
      {
        "duration": 3,
        "start_time": "2023-05-14T13:11:41.882Z"
      },
      {
        "duration": 4255,
        "start_time": "2023-05-14T13:11:45.077Z"
      },
      {
        "duration": 80,
        "start_time": "2023-05-14T13:11:49.341Z"
      },
      {
        "duration": 6426,
        "start_time": "2023-05-14T13:11:53.711Z"
      },
      {
        "duration": 14,
        "start_time": "2023-05-14T13:18:52.286Z"
      },
      {
        "duration": 5,
        "start_time": "2023-05-14T13:19:10.982Z"
      },
      {
        "duration": 740,
        "start_time": "2023-05-14T13:19:11.075Z"
      },
      {
        "duration": 17,
        "start_time": "2023-05-14T13:19:11.817Z"
      },
      {
        "duration": 12,
        "start_time": "2023-05-14T13:19:11.836Z"
      },
      {
        "duration": 14,
        "start_time": "2023-05-14T13:19:11.849Z"
      },
      {
        "duration": 13,
        "start_time": "2023-05-14T13:19:11.975Z"
      },
      {
        "duration": 19,
        "start_time": "2023-05-14T13:19:12.550Z"
      },
      {
        "duration": 3,
        "start_time": "2023-05-14T13:19:12.751Z"
      },
      {
        "duration": 4,
        "start_time": "2023-05-14T13:19:13.131Z"
      },
      {
        "duration": 4,
        "start_time": "2023-05-14T13:19:13.598Z"
      },
      {
        "duration": 5,
        "start_time": "2023-05-14T13:19:14.255Z"
      },
      {
        "duration": 9,
        "start_time": "2023-05-14T13:19:16.281Z"
      },
      {
        "duration": 45,
        "start_time": "2023-05-14T13:19:16.791Z"
      },
      {
        "duration": 22,
        "start_time": "2023-05-14T13:19:17.094Z"
      },
      {
        "duration": 10,
        "start_time": "2023-05-14T13:19:17.358Z"
      },
      {
        "duration": 193,
        "start_time": "2023-05-14T13:19:23.653Z"
      },
      {
        "duration": 16,
        "start_time": "2023-05-14T13:19:27.299Z"
      },
      {
        "duration": 14,
        "start_time": "2023-05-14T13:19:27.454Z"
      },
      {
        "duration": 4,
        "start_time": "2023-05-14T13:19:40.110Z"
      },
      {
        "duration": 2,
        "start_time": "2023-05-14T13:19:40.330Z"
      },
      {
        "duration": 3,
        "start_time": "2023-05-14T13:19:40.465Z"
      },
      {
        "duration": 11,
        "start_time": "2023-05-14T13:19:43.460Z"
      },
      {
        "duration": 5,
        "start_time": "2023-05-14T13:19:43.788Z"
      },
      {
        "duration": 3439,
        "start_time": "2023-05-14T13:19:47.984Z"
      },
      {
        "duration": 6,
        "start_time": "2023-05-14T13:19:51.425Z"
      },
      {
        "duration": 6392,
        "start_time": "2023-05-14T13:19:57.896Z"
      },
      {
        "duration": 205521,
        "start_time": "2023-05-14T13:21:32.262Z"
      },
      {
        "duration": 11,
        "start_time": "2023-05-14T13:28:28.341Z"
      },
      {
        "duration": 7,
        "start_time": "2023-05-14T13:28:52.423Z"
      },
      {
        "duration": 4,
        "start_time": "2023-05-14T13:29:36.863Z"
      },
      {
        "duration": 2,
        "start_time": "2023-05-14T13:29:37.029Z"
      },
      {
        "duration": 2,
        "start_time": "2023-05-14T13:29:37.157Z"
      },
      {
        "duration": 6299,
        "start_time": "2023-05-14T13:29:39.878Z"
      },
      {
        "duration": 4,
        "start_time": "2023-05-14T13:30:14.605Z"
      },
      {
        "duration": 3,
        "start_time": "2023-05-14T13:30:15.430Z"
      },
      {
        "duration": 6306,
        "start_time": "2023-05-14T13:30:20.068Z"
      },
      {
        "duration": 4,
        "start_time": "2023-05-14T13:30:35.276Z"
      },
      {
        "duration": 3,
        "start_time": "2023-05-14T13:30:35.702Z"
      },
      {
        "duration": 5866,
        "start_time": "2023-05-14T13:30:38.473Z"
      },
      {
        "duration": 4,
        "start_time": "2023-05-14T13:31:23.270Z"
      },
      {
        "duration": 2,
        "start_time": "2023-05-14T13:31:23.678Z"
      },
      {
        "duration": 1482,
        "start_time": "2023-05-14T13:31:26.107Z"
      },
      {
        "duration": 3,
        "start_time": "2023-05-14T13:32:04.476Z"
      },
      {
        "duration": 4,
        "start_time": "2023-05-14T13:32:18.117Z"
      },
      {
        "duration": 3,
        "start_time": "2023-05-14T13:32:20.432Z"
      },
      {
        "duration": 6666,
        "start_time": "2023-05-14T13:32:23.273Z"
      },
      {
        "duration": 5770,
        "start_time": "2023-05-14T13:32:42.777Z"
      },
      {
        "duration": 6777,
        "start_time": "2023-05-14T13:32:59.152Z"
      },
      {
        "duration": 4,
        "start_time": "2023-05-14T14:06:38.198Z"
      },
      {
        "duration": 3,
        "start_time": "2023-05-14T14:06:38.583Z"
      },
      {
        "duration": 3,
        "start_time": "2023-05-14T14:06:38.742Z"
      },
      {
        "duration": 12880,
        "start_time": "2023-05-14T14:06:41.375Z"
      },
      {
        "duration": 4,
        "start_time": "2023-05-14T14:06:55.781Z"
      },
      {
        "duration": 3,
        "start_time": "2023-05-14T14:06:56.254Z"
      },
      {
        "duration": 3,
        "start_time": "2023-05-14T14:06:56.375Z"
      },
      {
        "duration": 3875,
        "start_time": "2023-05-14T14:06:59.800Z"
      },
      {
        "duration": 13265,
        "start_time": "2023-05-14T14:07:05.474Z"
      },
      {
        "duration": 4,
        "start_time": "2023-05-14T14:07:34.848Z"
      },
      {
        "duration": 3,
        "start_time": "2023-05-14T14:07:36.362Z"
      },
      {
        "duration": 3,
        "start_time": "2023-05-14T14:07:36.486Z"
      },
      {
        "duration": 13098,
        "start_time": "2023-05-14T14:07:40.438Z"
      },
      {
        "duration": 3,
        "start_time": "2023-05-14T14:42:47.657Z"
      },
      {
        "duration": 3,
        "start_time": "2023-05-14T14:42:48.037Z"
      },
      {
        "duration": 2,
        "start_time": "2023-05-14T14:42:48.768Z"
      },
      {
        "duration": 6539,
        "start_time": "2023-05-14T14:42:52.788Z"
      },
      {
        "duration": 97,
        "start_time": "2023-05-14T14:42:59.330Z"
      },
      {
        "duration": 12177,
        "start_time": "2023-05-14T14:42:59.433Z"
      },
      {
        "duration": 3983,
        "start_time": "2023-05-14T14:47:10.737Z"
      },
      {
        "duration": 11762,
        "start_time": "2023-05-14T14:47:42.730Z"
      },
      {
        "duration": 26,
        "start_time": "2023-05-14T14:52:46.450Z"
      },
      {
        "duration": 10,
        "start_time": "2023-05-14T14:53:07.590Z"
      },
      {
        "duration": 9,
        "start_time": "2023-05-14T14:57:00.514Z"
      },
      {
        "duration": 937,
        "start_time": "2023-05-14T14:57:00.525Z"
      },
      {
        "duration": 4,
        "start_time": "2023-05-14T14:57:01.464Z"
      },
      {
        "duration": 45,
        "start_time": "2023-05-14T14:57:01.470Z"
      },
      {
        "duration": 58,
        "start_time": "2023-05-14T14:57:01.518Z"
      },
      {
        "duration": 85,
        "start_time": "2023-05-14T14:57:01.577Z"
      },
      {
        "duration": 83,
        "start_time": "2023-05-14T14:57:01.664Z"
      },
      {
        "duration": 49,
        "start_time": "2023-05-14T14:57:01.749Z"
      },
      {
        "duration": 70,
        "start_time": "2023-05-14T14:57:01.800Z"
      },
      {
        "duration": 39,
        "start_time": "2023-05-14T14:57:01.872Z"
      },
      {
        "duration": 90,
        "start_time": "2023-05-14T14:57:01.913Z"
      },
      {
        "duration": 51,
        "start_time": "2023-05-14T14:57:02.005Z"
      },
      {
        "duration": 67,
        "start_time": "2023-05-14T14:57:02.059Z"
      },
      {
        "duration": 61,
        "start_time": "2023-05-14T14:57:02.127Z"
      },
      {
        "duration": 11,
        "start_time": "2023-05-14T14:57:02.190Z"
      },
      {
        "duration": 252,
        "start_time": "2023-05-14T14:57:02.202Z"
      },
      {
        "duration": 126,
        "start_time": "2023-05-14T14:57:02.456Z"
      },
      {
        "duration": 12,
        "start_time": "2023-05-14T14:57:02.583Z"
      },
      {
        "duration": 15,
        "start_time": "2023-05-14T14:57:04.455Z"
      },
      {
        "duration": 17,
        "start_time": "2023-05-14T14:57:04.842Z"
      },
      {
        "duration": 3,
        "start_time": "2023-05-14T14:57:12.646Z"
      },
      {
        "duration": 2,
        "start_time": "2023-05-14T14:57:12.897Z"
      },
      {
        "duration": 5,
        "start_time": "2023-05-14T14:57:13.140Z"
      },
      {
        "duration": 9,
        "start_time": "2023-05-14T14:57:15.798Z"
      },
      {
        "duration": 230,
        "start_time": "2023-05-14T14:57:16.478Z"
      },
      {
        "duration": 6,
        "start_time": "2023-05-14T14:57:23.438Z"
      },
      {
        "duration": 6517,
        "start_time": "2023-05-14T14:57:32.346Z"
      },
      {
        "duration": 47,
        "start_time": "2023-05-14T15:00:04.689Z"
      },
      {
        "duration": 10,
        "start_time": "2023-05-14T15:07:56.044Z"
      },
      {
        "duration": 13,
        "start_time": "2023-05-14T15:07:57.982Z"
      },
      {
        "duration": 9,
        "start_time": "2023-05-14T15:07:58.148Z"
      },
      {
        "duration": 3,
        "start_time": "2023-05-14T15:08:11.205Z"
      },
      {
        "duration": 6,
        "start_time": "2023-05-14T15:08:12.175Z"
      },
      {
        "duration": 3,
        "start_time": "2023-05-14T15:08:25.502Z"
      },
      {
        "duration": 6,
        "start_time": "2023-05-14T15:08:25.844Z"
      },
      {
        "duration": 4,
        "start_time": "2023-05-14T15:08:30.390Z"
      },
      {
        "duration": 6,
        "start_time": "2023-05-14T15:08:30.745Z"
      },
      {
        "duration": 3,
        "start_time": "2023-05-14T16:13:22.000Z"
      },
      {
        "duration": 3,
        "start_time": "2023-05-14T16:13:26.340Z"
      },
      {
        "duration": 2838,
        "start_time": "2023-05-14T16:13:30.480Z"
      },
      {
        "duration": 5,
        "start_time": "2023-05-14T16:23:58.248Z"
      },
      {
        "duration": 716,
        "start_time": "2023-05-14T16:23:58.255Z"
      },
      {
        "duration": 5,
        "start_time": "2023-05-14T16:23:58.972Z"
      },
      {
        "duration": 8,
        "start_time": "2023-05-14T16:23:58.979Z"
      },
      {
        "duration": 9,
        "start_time": "2023-05-14T16:23:58.989Z"
      },
      {
        "duration": 20,
        "start_time": "2023-05-14T16:23:58.999Z"
      },
      {
        "duration": 18,
        "start_time": "2023-05-14T16:23:59.020Z"
      },
      {
        "duration": 4,
        "start_time": "2023-05-14T16:23:59.039Z"
      },
      {
        "duration": 3,
        "start_time": "2023-05-14T16:23:59.045Z"
      },
      {
        "duration": 3,
        "start_time": "2023-05-14T16:23:59.050Z"
      },
      {
        "duration": 8,
        "start_time": "2023-05-14T16:23:59.055Z"
      },
      {
        "duration": 8,
        "start_time": "2023-05-14T16:23:59.065Z"
      },
      {
        "duration": 69,
        "start_time": "2023-05-14T16:23:59.075Z"
      },
      {
        "duration": 23,
        "start_time": "2023-05-14T16:23:59.146Z"
      },
      {
        "duration": 10,
        "start_time": "2023-05-14T16:23:59.171Z"
      },
      {
        "duration": 207,
        "start_time": "2023-05-14T16:23:59.182Z"
      },
      {
        "duration": 127,
        "start_time": "2023-05-14T16:23:59.390Z"
      },
      {
        "duration": 23,
        "start_time": "2023-05-14T16:24:01.807Z"
      },
      {
        "duration": 10,
        "start_time": "2023-05-14T16:24:02.227Z"
      },
      {
        "duration": 3,
        "start_time": "2023-05-14T16:24:46.167Z"
      },
      {
        "duration": 3,
        "start_time": "2023-05-14T16:24:47.791Z"
      },
      {
        "duration": 3,
        "start_time": "2023-05-14T16:24:48.538Z"
      },
      {
        "duration": 12,
        "start_time": "2023-05-14T16:24:51.262Z"
      },
      {
        "duration": 5,
        "start_time": "2023-05-14T16:24:51.783Z"
      },
      {
        "duration": 2554,
        "start_time": "2023-05-14T16:24:54.368Z"
      },
      {
        "duration": 11015,
        "start_time": "2023-05-14T16:24:58.984Z"
      },
      {
        "duration": 10,
        "start_time": "2023-05-14T16:40:10.097Z"
      },
      {
        "duration": 6,
        "start_time": "2023-05-14T16:40:18.801Z"
      },
      {
        "duration": 9,
        "start_time": "2023-05-14T16:40:45.146Z"
      },
      {
        "duration": 11,
        "start_time": "2023-05-14T16:41:02.482Z"
      },
      {
        "duration": 11,
        "start_time": "2023-05-14T16:42:20.940Z"
      },
      {
        "duration": 4,
        "start_time": "2023-05-14T16:42:21.497Z"
      },
      {
        "duration": 4,
        "start_time": "2023-05-14T16:42:33.212Z"
      },
      {
        "duration": 743,
        "start_time": "2023-05-14T16:42:33.232Z"
      },
      {
        "duration": 4,
        "start_time": "2023-05-14T16:42:33.977Z"
      },
      {
        "duration": 14,
        "start_time": "2023-05-14T16:42:33.983Z"
      },
      {
        "duration": 8,
        "start_time": "2023-05-14T16:42:33.999Z"
      },
      {
        "duration": 12,
        "start_time": "2023-05-14T16:42:34.018Z"
      },
      {
        "duration": 27,
        "start_time": "2023-05-14T16:42:34.033Z"
      },
      {
        "duration": 4,
        "start_time": "2023-05-14T16:42:34.062Z"
      },
      {
        "duration": 15,
        "start_time": "2023-05-14T16:42:34.068Z"
      },
      {
        "duration": 17,
        "start_time": "2023-05-14T16:42:34.085Z"
      },
      {
        "duration": 23,
        "start_time": "2023-05-14T16:42:34.104Z"
      },
      {
        "duration": 16,
        "start_time": "2023-05-14T16:42:34.129Z"
      },
      {
        "duration": 58,
        "start_time": "2023-05-14T16:42:34.147Z"
      },
      {
        "duration": 90,
        "start_time": "2023-05-14T16:42:34.206Z"
      },
      {
        "duration": 26,
        "start_time": "2023-05-14T16:42:34.300Z"
      },
      {
        "duration": 212,
        "start_time": "2023-05-14T16:42:34.328Z"
      },
      {
        "duration": 148,
        "start_time": "2023-05-14T16:42:34.542Z"
      },
      {
        "duration": 27,
        "start_time": "2023-05-14T16:42:34.692Z"
      },
      {
        "duration": 23,
        "start_time": "2023-05-14T16:42:34.721Z"
      },
      {
        "duration": 19,
        "start_time": "2023-05-14T16:42:34.745Z"
      },
      {
        "duration": 232,
        "start_time": "2023-05-14T16:42:34.766Z"
      },
      {
        "duration": 442,
        "start_time": "2023-05-14T16:42:35.001Z"
      },
      {
        "duration": 4,
        "start_time": "2023-05-14T16:42:35.445Z"
      },
      {
        "duration": 441,
        "start_time": "2023-05-14T16:42:35.451Z"
      },
      {
        "duration": 187,
        "start_time": "2023-05-14T16:42:35.894Z"
      },
      {
        "duration": 9,
        "start_time": "2023-05-14T16:42:36.082Z"
      },
      {
        "duration": 26,
        "start_time": "2023-05-14T16:42:36.092Z"
      },
      {
        "duration": 201,
        "start_time": "2023-05-14T16:42:36.120Z"
      },
      {
        "duration": 12,
        "start_time": "2023-05-14T16:42:36.323Z"
      },
      {
        "duration": 7,
        "start_time": "2023-05-14T16:42:36.336Z"
      },
      {
        "duration": 13,
        "start_time": "2023-05-14T16:42:36.344Z"
      },
      {
        "duration": 21,
        "start_time": "2023-05-14T16:42:36.359Z"
      },
      {
        "duration": 26,
        "start_time": "2023-05-14T16:42:36.381Z"
      },
      {
        "duration": 10,
        "start_time": "2023-05-14T16:42:36.408Z"
      },
      {
        "duration": 9,
        "start_time": "2023-05-14T16:42:36.419Z"
      },
      {
        "duration": 7,
        "start_time": "2023-05-14T16:42:36.429Z"
      },
      {
        "duration": 11,
        "start_time": "2023-05-14T16:42:36.438Z"
      },
      {
        "duration": 4,
        "start_time": "2023-05-14T16:42:36.451Z"
      },
      {
        "duration": 6,
        "start_time": "2023-05-14T16:42:36.456Z"
      },
      {
        "duration": 16,
        "start_time": "2023-05-14T16:42:36.463Z"
      },
      {
        "duration": 7,
        "start_time": "2023-05-14T16:42:36.480Z"
      },
      {
        "duration": 8,
        "start_time": "2023-05-14T16:42:36.490Z"
      },
      {
        "duration": 4,
        "start_time": "2023-05-14T16:42:37.141Z"
      },
      {
        "duration": 3,
        "start_time": "2023-05-14T16:44:32.047Z"
      },
      {
        "duration": 2,
        "start_time": "2023-05-14T16:44:32.699Z"
      },
      {
        "duration": 3,
        "start_time": "2023-05-14T16:44:33.882Z"
      },
      {
        "duration": 2835,
        "start_time": "2023-05-14T16:44:36.684Z"
      },
      {
        "duration": 4,
        "start_time": "2023-05-14T16:44:44.744Z"
      },
      {
        "duration": 11304,
        "start_time": "2023-05-14T16:44:45.388Z"
      },
      {
        "duration": 30,
        "start_time": "2023-05-14T16:46:25.001Z"
      },
      {
        "duration": 3,
        "start_time": "2023-05-14T16:55:24.979Z"
      },
      {
        "duration": 3,
        "start_time": "2023-05-14T16:55:27.540Z"
      },
      {
        "duration": 3,
        "start_time": "2023-05-14T16:55:28.143Z"
      },
      {
        "duration": 3,
        "start_time": "2023-05-14T16:55:36.554Z"
      },
      {
        "duration": 3,
        "start_time": "2023-05-14T16:55:36.984Z"
      },
      {
        "duration": 7987,
        "start_time": "2023-05-14T16:55:40.340Z"
      },
      {
        "duration": 12046,
        "start_time": "2023-05-14T16:55:48.329Z"
      },
      {
        "duration": 12,
        "start_time": "2023-05-14T16:59:22.664Z"
      },
      {
        "duration": 23,
        "start_time": "2023-05-14T16:59:27.987Z"
      },
      {
        "duration": 2574,
        "start_time": "2023-05-14T16:59:48.044Z"
      },
      {
        "duration": 19,
        "start_time": "2023-05-14T17:53:19.840Z"
      },
      {
        "duration": 9,
        "start_time": "2023-05-14T17:53:25.304Z"
      },
      {
        "duration": 9,
        "start_time": "2023-05-14T17:53:30.086Z"
      },
      {
        "duration": 19,
        "start_time": "2023-05-14T17:53:36.726Z"
      },
      {
        "duration": 11,
        "start_time": "2023-05-14T17:53:48.192Z"
      },
      {
        "duration": 11,
        "start_time": "2023-05-14T17:53:53.358Z"
      },
      {
        "duration": 10,
        "start_time": "2023-05-14T17:53:58.582Z"
      },
      {
        "duration": 52,
        "start_time": "2023-05-14T17:54:01.847Z"
      },
      {
        "duration": 5,
        "start_time": "2023-05-14T17:54:12.240Z"
      },
      {
        "duration": 73,
        "start_time": "2023-05-14T17:57:17.887Z"
      },
      {
        "duration": 12,
        "start_time": "2023-05-14T17:57:21.258Z"
      },
      {
        "duration": 11,
        "start_time": "2023-05-14T17:57:43.243Z"
      },
      {
        "duration": 48,
        "start_time": "2023-05-14T17:57:46.856Z"
      },
      {
        "duration": 46,
        "start_time": "2023-05-14T17:57:54.770Z"
      },
      {
        "duration": 12,
        "start_time": "2023-05-14T17:58:00.649Z"
      },
      {
        "duration": 11,
        "start_time": "2023-05-14T18:03:34.492Z"
      },
      {
        "duration": 11,
        "start_time": "2023-05-14T18:03:36.139Z"
      },
      {
        "duration": 9,
        "start_time": "2023-05-14T18:05:32.392Z"
      },
      {
        "duration": 8,
        "start_time": "2023-05-14T18:05:35.590Z"
      },
      {
        "duration": 11,
        "start_time": "2023-05-14T18:05:39.854Z"
      },
      {
        "duration": 9,
        "start_time": "2023-05-14T18:05:48.038Z"
      },
      {
        "duration": 17,
        "start_time": "2023-05-14T18:07:44.680Z"
      },
      {
        "duration": 7,
        "start_time": "2023-05-14T18:08:06.294Z"
      },
      {
        "duration": 8,
        "start_time": "2023-05-14T18:08:23.751Z"
      },
      {
        "duration": 24,
        "start_time": "2023-05-14T18:08:33.046Z"
      },
      {
        "duration": 14,
        "start_time": "2023-05-14T18:08:36.199Z"
      },
      {
        "duration": 7,
        "start_time": "2023-05-14T18:11:37.373Z"
      },
      {
        "duration": 8,
        "start_time": "2023-05-14T18:11:49.178Z"
      },
      {
        "duration": 7,
        "start_time": "2023-05-14T18:11:54.256Z"
      },
      {
        "duration": 11,
        "start_time": "2023-05-14T18:12:08.046Z"
      },
      {
        "duration": 7,
        "start_time": "2023-05-14T18:12:15.242Z"
      },
      {
        "duration": 9,
        "start_time": "2023-05-14T18:12:18.272Z"
      },
      {
        "duration": 8,
        "start_time": "2023-05-14T18:13:56.053Z"
      },
      {
        "duration": 1333,
        "start_time": "2023-05-14T18:14:28.144Z"
      },
      {
        "duration": 10,
        "start_time": "2023-05-14T18:14:35.641Z"
      },
      {
        "duration": 108,
        "start_time": "2023-05-14T18:15:05.338Z"
      },
      {
        "duration": 14,
        "start_time": "2023-05-14T18:15:26.186Z"
      },
      {
        "duration": 9,
        "start_time": "2023-05-14T18:18:10.365Z"
      },
      {
        "duration": 12,
        "start_time": "2023-05-14T18:18:16.039Z"
      },
      {
        "duration": 9,
        "start_time": "2023-05-14T18:18:36.405Z"
      },
      {
        "duration": 8,
        "start_time": "2023-05-14T18:18:49.276Z"
      },
      {
        "duration": 5,
        "start_time": "2023-05-14T18:18:53.173Z"
      },
      {
        "duration": 5,
        "start_time": "2023-05-14T18:18:57.360Z"
      },
      {
        "duration": 839,
        "start_time": "2023-05-14T18:18:57.368Z"
      },
      {
        "duration": 4,
        "start_time": "2023-05-14T18:18:58.209Z"
      },
      {
        "duration": 36,
        "start_time": "2023-05-14T18:18:58.222Z"
      },
      {
        "duration": 12,
        "start_time": "2023-05-14T18:18:58.260Z"
      },
      {
        "duration": 13,
        "start_time": "2023-05-14T18:18:58.273Z"
      },
      {
        "duration": 21,
        "start_time": "2023-05-14T18:18:58.288Z"
      },
      {
        "duration": 24,
        "start_time": "2023-05-14T18:18:58.311Z"
      },
      {
        "duration": 17,
        "start_time": "2023-05-14T18:18:58.344Z"
      },
      {
        "duration": 4,
        "start_time": "2023-05-14T18:18:58.363Z"
      },
      {
        "duration": 7,
        "start_time": "2023-05-14T18:18:58.369Z"
      },
      {
        "duration": 10,
        "start_time": "2023-05-14T18:18:58.377Z"
      },
      {
        "duration": 42,
        "start_time": "2023-05-14T18:18:58.388Z"
      },
      {
        "duration": 26,
        "start_time": "2023-05-14T18:18:58.433Z"
      },
      {
        "duration": 9,
        "start_time": "2023-05-14T18:18:58.461Z"
      },
      {
        "duration": 278,
        "start_time": "2023-05-14T18:18:58.472Z"
      },
      {
        "duration": 128,
        "start_time": "2023-05-14T18:18:58.751Z"
      },
      {
        "duration": 16,
        "start_time": "2023-05-14T18:18:58.881Z"
      },
      {
        "duration": 21,
        "start_time": "2023-05-14T18:18:58.899Z"
      },
      {
        "duration": 36,
        "start_time": "2023-05-14T18:18:58.921Z"
      },
      {
        "duration": 242,
        "start_time": "2023-05-14T18:18:58.959Z"
      },
      {
        "duration": 450,
        "start_time": "2023-05-14T18:18:59.202Z"
      },
      {
        "duration": 4,
        "start_time": "2023-05-14T18:18:59.655Z"
      },
      {
        "duration": 515,
        "start_time": "2023-05-14T18:18:59.661Z"
      },
      {
        "duration": 214,
        "start_time": "2023-05-14T18:19:00.177Z"
      },
      {
        "duration": 6,
        "start_time": "2023-05-14T18:19:00.393Z"
      },
      {
        "duration": 54,
        "start_time": "2023-05-14T18:19:00.400Z"
      },
      {
        "duration": 257,
        "start_time": "2023-05-14T18:19:00.456Z"
      },
      {
        "duration": 10,
        "start_time": "2023-05-14T18:19:00.716Z"
      },
      {
        "duration": 4,
        "start_time": "2023-05-14T18:19:00.727Z"
      },
      {
        "duration": 10,
        "start_time": "2023-05-14T18:19:00.732Z"
      },
      {
        "duration": 34,
        "start_time": "2023-05-14T18:19:00.744Z"
      },
      {
        "duration": 48,
        "start_time": "2023-05-14T18:19:00.780Z"
      },
      {
        "duration": 79,
        "start_time": "2023-05-14T18:19:00.836Z"
      },
      {
        "duration": 66,
        "start_time": "2023-05-14T18:19:00.918Z"
      },
      {
        "duration": 39,
        "start_time": "2023-05-14T18:19:00.986Z"
      },
      {
        "duration": 63,
        "start_time": "2023-05-14T18:19:01.027Z"
      },
      {
        "duration": 60,
        "start_time": "2023-05-14T18:19:01.092Z"
      },
      {
        "duration": 42,
        "start_time": "2023-05-14T18:19:01.154Z"
      },
      {
        "duration": 61,
        "start_time": "2023-05-14T18:19:01.198Z"
      },
      {
        "duration": 91,
        "start_time": "2023-05-14T18:19:01.263Z"
      },
      {
        "duration": 30,
        "start_time": "2023-05-14T18:19:01.356Z"
      },
      {
        "duration": 4,
        "start_time": "2023-05-14T18:19:25.391Z"
      },
      {
        "duration": 805,
        "start_time": "2023-05-14T18:19:25.397Z"
      },
      {
        "duration": 6,
        "start_time": "2023-05-14T18:19:26.204Z"
      },
      {
        "duration": 12,
        "start_time": "2023-05-14T18:19:26.225Z"
      },
      {
        "duration": 25,
        "start_time": "2023-05-14T18:19:26.239Z"
      },
      {
        "duration": 16,
        "start_time": "2023-05-14T18:19:26.265Z"
      },
      {
        "duration": 21,
        "start_time": "2023-05-14T18:19:26.282Z"
      },
      {
        "duration": 4,
        "start_time": "2023-05-14T18:19:26.304Z"
      },
      {
        "duration": 43,
        "start_time": "2023-05-14T18:19:26.309Z"
      },
      {
        "duration": 9,
        "start_time": "2023-05-14T18:19:26.354Z"
      },
      {
        "duration": 11,
        "start_time": "2023-05-14T18:19:26.364Z"
      },
      {
        "duration": 12,
        "start_time": "2023-05-14T18:19:26.377Z"
      },
      {
        "duration": 45,
        "start_time": "2023-05-14T18:19:26.390Z"
      },
      {
        "duration": 26,
        "start_time": "2023-05-14T18:19:26.436Z"
      },
      {
        "duration": 9,
        "start_time": "2023-05-14T18:19:26.463Z"
      },
      {
        "duration": 189,
        "start_time": "2023-05-14T18:19:26.474Z"
      },
      {
        "duration": 193,
        "start_time": "2023-05-14T18:19:26.665Z"
      },
      {
        "duration": 15,
        "start_time": "2023-05-14T18:19:26.860Z"
      },
      {
        "duration": 11,
        "start_time": "2023-05-14T18:19:26.877Z"
      },
      {
        "duration": 49,
        "start_time": "2023-05-14T18:19:26.890Z"
      },
      {
        "duration": 235,
        "start_time": "2023-05-14T18:19:26.940Z"
      },
      {
        "duration": 467,
        "start_time": "2023-05-14T18:19:27.176Z"
      },
      {
        "duration": 5,
        "start_time": "2023-05-14T18:19:27.648Z"
      },
      {
        "duration": 455,
        "start_time": "2023-05-14T18:19:27.654Z"
      },
      {
        "duration": 208,
        "start_time": "2023-05-14T18:19:28.111Z"
      },
      {
        "duration": 12,
        "start_time": "2023-05-14T18:19:28.339Z"
      },
      {
        "duration": 10,
        "start_time": "2023-05-14T18:19:28.354Z"
      },
      {
        "duration": 213,
        "start_time": "2023-05-14T18:19:28.368Z"
      },
      {
        "duration": 3,
        "start_time": "2023-05-14T18:19:28.582Z"
      },
      {
        "duration": 6,
        "start_time": "2023-05-14T18:19:28.587Z"
      },
      {
        "duration": 4,
        "start_time": "2023-05-14T18:19:28.594Z"
      },
      {
        "duration": 36,
        "start_time": "2023-05-14T18:19:28.599Z"
      },
      {
        "duration": 24,
        "start_time": "2023-05-14T18:20:17.644Z"
      },
      {
        "duration": 10,
        "start_time": "2023-05-14T18:20:33.148Z"
      },
      {
        "duration": 8,
        "start_time": "2023-05-14T18:20:36.453Z"
      },
      {
        "duration": 5,
        "start_time": "2023-05-14T18:20:57.559Z"
      },
      {
        "duration": 10,
        "start_time": "2023-05-14T18:21:01.259Z"
      },
      {
        "duration": 7,
        "start_time": "2023-05-14T18:21:16.745Z"
      },
      {
        "duration": 8,
        "start_time": "2023-05-14T18:21:17.267Z"
      },
      {
        "duration": 4,
        "start_time": "2023-05-14T18:21:22.097Z"
      },
      {
        "duration": 8,
        "start_time": "2023-05-14T18:21:26.945Z"
      },
      {
        "duration": 1015,
        "start_time": "2023-05-14T18:22:51.345Z"
      },
      {
        "duration": 4,
        "start_time": "2023-05-14T18:23:05.188Z"
      },
      {
        "duration": 25,
        "start_time": "2023-05-14T18:23:09.640Z"
      },
      {
        "duration": 15,
        "start_time": "2023-05-14T18:23:21.946Z"
      },
      {
        "duration": 7,
        "start_time": "2023-05-14T18:23:51.345Z"
      },
      {
        "duration": 25,
        "start_time": "2023-05-14T18:24:02.848Z"
      },
      {
        "duration": 47,
        "start_time": "2023-05-14T18:24:12.168Z"
      },
      {
        "duration": 75,
        "start_time": "2023-05-14T18:24:23.784Z"
      },
      {
        "duration": 28,
        "start_time": "2023-05-14T18:31:07.941Z"
      },
      {
        "duration": 30,
        "start_time": "2023-05-14T18:31:35.197Z"
      },
      {
        "duration": 40,
        "start_time": "2023-05-14T18:33:41.360Z"
      },
      {
        "duration": 108,
        "start_time": "2023-05-14T18:33:49.097Z"
      },
      {
        "duration": 261,
        "start_time": "2023-05-14T18:34:03.635Z"
      },
      {
        "duration": 29,
        "start_time": "2023-05-14T18:36:23.945Z"
      },
      {
        "duration": 7,
        "start_time": "2023-05-14T18:36:31.199Z"
      },
      {
        "duration": 9,
        "start_time": "2023-05-14T18:36:53.462Z"
      },
      {
        "duration": 197,
        "start_time": "2023-05-14T18:37:02.895Z"
      },
      {
        "duration": 18,
        "start_time": "2023-05-14T18:37:07.936Z"
      },
      {
        "duration": 6,
        "start_time": "2023-05-14T18:37:08.880Z"
      },
      {
        "duration": 5,
        "start_time": "2023-05-14T18:38:47.152Z"
      },
      {
        "duration": 10,
        "start_time": "2023-05-14T18:39:23.905Z"
      },
      {
        "duration": 4,
        "start_time": "2023-05-14T18:39:24.482Z"
      },
      {
        "duration": 94,
        "start_time": "2023-05-14T18:39:46.098Z"
      },
      {
        "duration": 122,
        "start_time": "2023-05-14T18:40:00.857Z"
      },
      {
        "duration": 72,
        "start_time": "2023-05-14T18:40:03.146Z"
      },
      {
        "duration": 10,
        "start_time": "2023-05-14T18:41:11.537Z"
      },
      {
        "duration": 4,
        "start_time": "2023-05-14T18:41:17.162Z"
      },
      {
        "duration": 3,
        "start_time": "2023-05-14T18:41:18.644Z"
      },
      {
        "duration": 4,
        "start_time": "2023-05-14T18:41:19.261Z"
      },
      {
        "duration": 189,
        "start_time": "2023-05-14T18:41:23.186Z"
      },
      {
        "duration": 12,
        "start_time": "2023-05-14T18:41:23.545Z"
      },
      {
        "duration": 5,
        "start_time": "2023-05-14T18:41:30.544Z"
      },
      {
        "duration": 85,
        "start_time": "2023-05-14T18:41:33.581Z"
      },
      {
        "duration": 9,
        "start_time": "2023-05-14T18:42:44.781Z"
      },
      {
        "duration": 16,
        "start_time": "2023-05-14T18:42:51.593Z"
      },
      {
        "duration": 196,
        "start_time": "2023-05-14T18:43:31.100Z"
      },
      {
        "duration": 10,
        "start_time": "2023-05-14T18:43:33.540Z"
      },
      {
        "duration": 18,
        "start_time": "2023-05-14T18:43:33.717Z"
      },
      {
        "duration": 108,
        "start_time": "2023-05-14T18:43:36.038Z"
      },
      {
        "duration": 792,
        "start_time": "2023-05-14T18:44:12.947Z"
      },
      {
        "duration": 18,
        "start_time": "2023-05-14T18:44:24.078Z"
      },
      {
        "duration": 5,
        "start_time": "2023-05-14T18:44:58.073Z"
      },
      {
        "duration": 877,
        "start_time": "2023-05-14T18:44:58.080Z"
      },
      {
        "duration": 6,
        "start_time": "2023-05-14T18:44:58.958Z"
      },
      {
        "duration": 7,
        "start_time": "2023-05-14T18:44:58.966Z"
      },
      {
        "duration": 7,
        "start_time": "2023-05-14T18:44:58.974Z"
      },
      {
        "duration": 26,
        "start_time": "2023-05-14T18:44:58.983Z"
      },
      {
        "duration": 49,
        "start_time": "2023-05-14T18:44:59.011Z"
      },
      {
        "duration": 11,
        "start_time": "2023-05-14T18:44:59.062Z"
      },
      {
        "duration": 5,
        "start_time": "2023-05-14T18:44:59.076Z"
      },
      {
        "duration": 6,
        "start_time": "2023-05-14T18:44:59.082Z"
      },
      {
        "duration": 10,
        "start_time": "2023-05-14T18:44:59.089Z"
      },
      {
        "duration": 20,
        "start_time": "2023-05-14T18:44:59.100Z"
      },
      {
        "duration": 92,
        "start_time": "2023-05-14T18:44:59.122Z"
      },
      {
        "duration": 140,
        "start_time": "2023-05-14T18:44:59.216Z"
      },
      {
        "duration": 13,
        "start_time": "2023-05-14T18:44:59.359Z"
      },
      {
        "duration": 188,
        "start_time": "2023-05-14T18:44:59.374Z"
      },
      {
        "duration": 136,
        "start_time": "2023-05-14T18:44:59.564Z"
      },
      {
        "duration": 21,
        "start_time": "2023-05-14T18:44:59.702Z"
      },
      {
        "duration": 35,
        "start_time": "2023-05-14T18:44:59.725Z"
      },
      {
        "duration": 29,
        "start_time": "2023-05-14T18:44:59.762Z"
      },
      {
        "duration": 240,
        "start_time": "2023-05-14T18:44:59.792Z"
      },
      {
        "duration": 446,
        "start_time": "2023-05-14T18:45:00.034Z"
      },
      {
        "duration": 4,
        "start_time": "2023-05-14T18:45:00.482Z"
      },
      {
        "duration": 616,
        "start_time": "2023-05-14T18:45:00.490Z"
      },
      {
        "duration": 288,
        "start_time": "2023-05-14T18:45:01.108Z"
      },
      {
        "duration": 8,
        "start_time": "2023-05-14T18:45:01.398Z"
      },
      {
        "duration": 69,
        "start_time": "2023-05-14T18:45:01.410Z"
      },
      {
        "duration": 281,
        "start_time": "2023-05-14T18:45:01.481Z"
      },
      {
        "duration": 4,
        "start_time": "2023-05-14T18:45:01.765Z"
      },
      {
        "duration": 35,
        "start_time": "2023-05-14T18:45:01.771Z"
      },
      {
        "duration": 70,
        "start_time": "2023-05-14T18:45:01.808Z"
      },
      {
        "duration": 345,
        "start_time": "2023-05-14T18:45:01.880Z"
      },
      {
        "duration": 218,
        "start_time": "2023-05-14T18:45:03.380Z"
      },
      {
        "duration": 15,
        "start_time": "2023-05-14T18:45:03.846Z"
      },
      {
        "duration": 7,
        "start_time": "2023-05-14T18:45:04.652Z"
      },
      {
        "duration": 807,
        "start_time": "2023-05-14T18:45:10.947Z"
      },
      {
        "duration": 26,
        "start_time": "2023-05-14T18:45:22.652Z"
      },
      {
        "duration": 17,
        "start_time": "2023-05-14T18:46:18.436Z"
      },
      {
        "duration": 15,
        "start_time": "2023-05-14T18:46:45.045Z"
      },
      {
        "duration": 6,
        "start_time": "2023-05-14T18:46:51.348Z"
      },
      {
        "duration": 102,
        "start_time": "2023-05-14T18:47:00.973Z"
      },
      {
        "duration": 17,
        "start_time": "2023-05-14T18:47:16.382Z"
      },
      {
        "duration": 224,
        "start_time": "2023-05-14T18:47:20.366Z"
      },
      {
        "duration": 5,
        "start_time": "2023-05-14T18:47:21.678Z"
      },
      {
        "duration": 4,
        "start_time": "2023-05-14T18:47:22.759Z"
      },
      {
        "duration": 7,
        "start_time": "2023-05-14T18:47:27.044Z"
      },
      {
        "duration": 55,
        "start_time": "2023-05-14T18:47:30.850Z"
      },
      {
        "duration": 6,
        "start_time": "2023-05-14T18:47:31.150Z"
      },
      {
        "duration": 116,
        "start_time": "2023-05-14T18:47:33.846Z"
      },
      {
        "duration": 35,
        "start_time": "2023-05-14T18:47:50.485Z"
      },
      {
        "duration": 14,
        "start_time": "2023-05-14T18:47:51.449Z"
      },
      {
        "duration": 570,
        "start_time": "2023-05-14T18:48:00.054Z"
      },
      {
        "duration": 70,
        "start_time": "2023-05-14T18:48:00.626Z"
      },
      {
        "duration": 50,
        "start_time": "2023-05-14T18:48:00.701Z"
      },
      {
        "duration": 103,
        "start_time": "2023-05-14T18:48:02.943Z"
      },
      {
        "duration": 25,
        "start_time": "2023-05-14T18:48:17.574Z"
      },
      {
        "duration": 21,
        "start_time": "2023-05-14T18:48:29.656Z"
      },
      {
        "duration": 5,
        "start_time": "2023-05-14T18:49:07.454Z"
      },
      {
        "duration": 4,
        "start_time": "2023-05-14T18:49:16.558Z"
      },
      {
        "duration": 4,
        "start_time": "2023-05-14T18:55:03.068Z"
      },
      {
        "duration": 80,
        "start_time": "2023-05-14T18:55:12.196Z"
      },
      {
        "duration": 4,
        "start_time": "2023-05-14T18:55:16.345Z"
      },
      {
        "duration": 4,
        "start_time": "2023-05-14T18:55:29.537Z"
      },
      {
        "duration": 3,
        "start_time": "2023-05-14T18:55:30.483Z"
      },
      {
        "duration": 3,
        "start_time": "2023-05-14T18:55:32.250Z"
      },
      {
        "duration": 5,
        "start_time": "2023-05-14T18:55:35.733Z"
      },
      {
        "duration": 431,
        "start_time": "2023-05-14T18:55:37.337Z"
      },
      {
        "duration": 21,
        "start_time": "2023-05-14T18:55:38.544Z"
      },
      {
        "duration": 5,
        "start_time": "2023-05-14T18:55:39.060Z"
      },
      {
        "duration": 107,
        "start_time": "2023-05-14T18:55:42.241Z"
      },
      {
        "duration": 9,
        "start_time": "2023-05-14T18:56:44.225Z"
      },
      {
        "duration": 6,
        "start_time": "2023-05-14T18:56:49.101Z"
      },
      {
        "duration": 13,
        "start_time": "2023-05-14T18:57:29.551Z"
      },
      {
        "duration": 11,
        "start_time": "2023-05-14T18:57:30.677Z"
      },
      {
        "duration": 11,
        "start_time": "2023-05-14T18:57:30.860Z"
      },
      {
        "duration": 11,
        "start_time": "2023-05-14T18:57:34.534Z"
      },
      {
        "duration": 27,
        "start_time": "2023-05-14T18:57:48.945Z"
      },
      {
        "duration": 16,
        "start_time": "2023-05-14T18:58:00.739Z"
      },
      {
        "duration": 6,
        "start_time": "2023-05-14T18:58:07.947Z"
      },
      {
        "duration": 902,
        "start_time": "2023-05-14T18:58:07.958Z"
      },
      {
        "duration": 11,
        "start_time": "2023-05-14T18:58:08.862Z"
      },
      {
        "duration": 8,
        "start_time": "2023-05-14T18:58:08.875Z"
      },
      {
        "duration": 14,
        "start_time": "2023-05-14T18:58:08.885Z"
      },
      {
        "duration": 32,
        "start_time": "2023-05-14T18:58:08.901Z"
      },
      {
        "duration": 74,
        "start_time": "2023-05-14T18:58:08.934Z"
      },
      {
        "duration": 4,
        "start_time": "2023-05-14T18:58:09.010Z"
      },
      {
        "duration": 42,
        "start_time": "2023-05-14T18:58:09.016Z"
      },
      {
        "duration": 14,
        "start_time": "2023-05-14T18:58:09.060Z"
      },
      {
        "duration": 9,
        "start_time": "2023-05-14T18:58:09.076Z"
      },
      {
        "duration": 14,
        "start_time": "2023-05-14T18:58:09.087Z"
      },
      {
        "duration": 66,
        "start_time": "2023-05-14T18:58:09.103Z"
      },
      {
        "duration": 22,
        "start_time": "2023-05-14T18:58:09.173Z"
      },
      {
        "duration": 43,
        "start_time": "2023-05-14T18:58:09.197Z"
      },
      {
        "duration": 303,
        "start_time": "2023-05-14T18:58:09.242Z"
      },
      {
        "duration": 137,
        "start_time": "2023-05-14T18:58:09.548Z"
      },
      {
        "duration": 17,
        "start_time": "2023-05-14T18:58:09.687Z"
      },
      {
        "duration": 19,
        "start_time": "2023-05-14T18:58:09.706Z"
      },
      {
        "duration": 25,
        "start_time": "2023-05-14T18:58:09.727Z"
      },
      {
        "duration": 284,
        "start_time": "2023-05-14T18:58:09.754Z"
      },
      {
        "duration": 446,
        "start_time": "2023-05-14T18:58:10.041Z"
      },
      {
        "duration": 5,
        "start_time": "2023-05-14T18:58:10.488Z"
      },
      {
        "duration": 517,
        "start_time": "2023-05-14T18:58:10.495Z"
      },
      {
        "duration": 229,
        "start_time": "2023-05-14T18:58:11.014Z"
      },
      {
        "duration": 6,
        "start_time": "2023-05-14T18:58:11.245Z"
      },
      {
        "duration": 15,
        "start_time": "2023-05-14T18:58:11.253Z"
      },
      {
        "duration": 213,
        "start_time": "2023-05-14T18:58:11.271Z"
      },
      {
        "duration": 4,
        "start_time": "2023-05-14T18:58:11.486Z"
      },
      {
        "duration": 4,
        "start_time": "2023-05-14T18:58:11.492Z"
      },
      {
        "duration": 33,
        "start_time": "2023-05-14T18:58:11.498Z"
      },
      {
        "duration": 11,
        "start_time": "2023-05-14T18:58:11.537Z"
      },
      {
        "duration": 15,
        "start_time": "2023-05-14T18:58:11.549Z"
      },
      {
        "duration": 11,
        "start_time": "2023-05-14T18:58:13.156Z"
      },
      {
        "duration": 5,
        "start_time": "2023-05-14T18:58:13.501Z"
      },
      {
        "duration": 6059,
        "start_time": "2023-05-14T18:58:24.664Z"
      },
      {
        "duration": 10469,
        "start_time": "2023-05-14T18:58:40.671Z"
      },
      {
        "duration": 11,
        "start_time": "2023-05-14T19:01:15.545Z"
      },
      {
        "duration": 6,
        "start_time": "2023-05-14T19:01:15.860Z"
      },
      {
        "duration": 3,
        "start_time": "2023-05-14T19:01:16.494Z"
      },
      {
        "duration": 4,
        "start_time": "2023-05-14T19:01:55.880Z"
      },
      {
        "duration": 3,
        "start_time": "2023-05-14T19:01:56.375Z"
      },
      {
        "duration": 3,
        "start_time": "2023-05-14T19:01:56.582Z"
      },
      {
        "duration": 4,
        "start_time": "2023-05-14T19:02:16.541Z"
      },
      {
        "duration": 3,
        "start_time": "2023-05-14T19:02:16.681Z"
      },
      {
        "duration": 7,
        "start_time": "2023-05-14T19:02:16.849Z"
      },
      {
        "duration": 4975,
        "start_time": "2023-05-14T19:02:19.190Z"
      },
      {
        "duration": 12419,
        "start_time": "2023-05-14T19:02:29.294Z"
      },
      {
        "duration": 6104,
        "start_time": "2023-05-14T19:06:00.642Z"
      },
      {
        "duration": 4,
        "start_time": "2023-05-14T19:06:13.977Z"
      },
      {
        "duration": 3214,
        "start_time": "2023-05-14T19:06:33.753Z"
      },
      {
        "duration": 55,
        "start_time": "2023-05-14T19:06:36.969Z"
      },
      {
        "duration": 12109,
        "start_time": "2023-05-14T19:07:04.744Z"
      },
      {
        "duration": 17,
        "start_time": "2023-05-14T19:09:29.845Z"
      },
      {
        "duration": 29,
        "start_time": "2023-05-14T19:09:34.656Z"
      },
      {
        "duration": 33177,
        "start_time": "2023-05-14T19:09:47.074Z"
      },
      {
        "duration": 10457,
        "start_time": "2023-05-14T19:10:37.670Z"
      },
      {
        "duration": 12017,
        "start_time": "2023-05-14T19:10:49.455Z"
      },
      {
        "duration": 11940,
        "start_time": "2023-05-14T19:15:35.687Z"
      },
      {
        "duration": 25250,
        "start_time": "2023-05-14T19:17:35.086Z"
      },
      {
        "duration": 4,
        "start_time": "2023-05-14T19:18:32.872Z"
      },
      {
        "duration": 90924,
        "start_time": "2023-05-14T19:21:22.169Z"
      },
      {
        "duration": 83,
        "start_time": "2023-05-14T19:25:55.292Z"
      },
      {
        "duration": 158419,
        "start_time": "2023-05-14T19:26:01.566Z"
      },
      {
        "duration": 5,
        "start_time": "2023-05-14T19:31:55.565Z"
      },
      {
        "duration": 268567,
        "start_time": "2023-05-14T19:34:46.533Z"
      },
      {
        "duration": 0,
        "start_time": "2023-05-14T19:39:15.102Z"
      },
      {
        "duration": 103,
        "start_time": "2023-05-14T19:39:39.244Z"
      },
      {
        "duration": 163522,
        "start_time": "2023-05-14T19:39:43.244Z"
      },
      {
        "duration": 8,
        "start_time": "2023-05-14T19:43:46.957Z"
      },
      {
        "duration": 9,
        "start_time": "2023-05-17T04:25:38.691Z"
      },
      {
        "duration": 186,
        "start_time": "2023-05-17T04:25:47.534Z"
      },
      {
        "duration": 6026,
        "start_time": "2023-05-17T04:27:31.434Z"
      },
      {
        "duration": 851,
        "start_time": "2023-05-17T04:27:37.462Z"
      },
      {
        "duration": 7,
        "start_time": "2023-05-17T04:27:38.315Z"
      },
      {
        "duration": 23,
        "start_time": "2023-05-17T04:27:38.325Z"
      },
      {
        "duration": 23,
        "start_time": "2023-05-17T04:27:38.350Z"
      },
      {
        "duration": 32,
        "start_time": "2023-05-17T04:27:38.376Z"
      },
      {
        "duration": 39,
        "start_time": "2023-05-17T04:27:38.410Z"
      },
      {
        "duration": 5,
        "start_time": "2023-05-17T04:27:38.451Z"
      },
      {
        "duration": 24,
        "start_time": "2023-05-17T04:27:38.458Z"
      },
      {
        "duration": 19,
        "start_time": "2023-05-17T04:27:38.485Z"
      },
      {
        "duration": 24,
        "start_time": "2023-05-17T04:27:38.506Z"
      },
      {
        "duration": 16,
        "start_time": "2023-05-17T04:27:38.532Z"
      },
      {
        "duration": 60,
        "start_time": "2023-05-17T04:27:38.550Z"
      },
      {
        "duration": 25,
        "start_time": "2023-05-17T04:27:38.612Z"
      },
      {
        "duration": 34,
        "start_time": "2023-05-17T04:27:38.639Z"
      },
      {
        "duration": 400,
        "start_time": "2023-05-17T04:27:38.675Z"
      },
      {
        "duration": 151,
        "start_time": "2023-05-17T04:27:39.077Z"
      },
      {
        "duration": 42,
        "start_time": "2023-05-17T04:27:39.229Z"
      },
      {
        "duration": 15,
        "start_time": "2023-05-17T04:27:39.273Z"
      },
      {
        "duration": 23,
        "start_time": "2023-05-17T04:27:39.290Z"
      },
      {
        "duration": 297,
        "start_time": "2023-05-17T04:27:39.315Z"
      },
      {
        "duration": 398,
        "start_time": "2023-05-17T04:27:39.614Z"
      },
      {
        "duration": 6,
        "start_time": "2023-05-17T04:27:40.014Z"
      },
      {
        "duration": 526,
        "start_time": "2023-05-17T04:27:40.022Z"
      },
      {
        "duration": 98,
        "start_time": "2023-05-17T04:27:40.550Z"
      },
      {
        "duration": 496,
        "start_time": "2023-05-17T04:27:40.650Z"
      },
      {
        "duration": 229,
        "start_time": "2023-05-17T04:27:41.147Z"
      },
      {
        "duration": 9,
        "start_time": "2023-05-17T04:27:41.380Z"
      },
      {
        "duration": 45,
        "start_time": "2023-05-17T04:27:41.390Z"
      },
      {
        "duration": 228,
        "start_time": "2023-05-17T04:27:41.438Z"
      },
      {
        "duration": 8,
        "start_time": "2023-05-17T04:27:41.670Z"
      },
      {
        "duration": 19,
        "start_time": "2023-05-17T04:27:41.680Z"
      },
      {
        "duration": 218,
        "start_time": "2023-05-17T04:27:41.701Z"
      },
      {
        "duration": 4,
        "start_time": "2023-05-17T04:27:41.921Z"
      },
      {
        "duration": 21,
        "start_time": "2023-05-17T04:27:41.927Z"
      },
      {
        "duration": 6,
        "start_time": "2023-05-17T04:27:41.951Z"
      },
      {
        "duration": 23,
        "start_time": "2023-05-17T04:27:41.959Z"
      },
      {
        "duration": 23,
        "start_time": "2023-05-17T04:27:41.984Z"
      },
      {
        "duration": 16,
        "start_time": "2023-05-17T04:27:42.010Z"
      },
      {
        "duration": 2983,
        "start_time": "2023-05-17T04:27:43.292Z"
      },
      {
        "duration": 66570,
        "start_time": "2023-05-17T04:28:23.180Z"
      },
      {
        "duration": 101474,
        "start_time": "2023-05-17T04:29:29.753Z"
      },
      {
        "duration": 0,
        "start_time": "2023-05-17T04:31:11.229Z"
      },
      {
        "duration": 5515,
        "start_time": "2023-05-17T04:31:17.179Z"
      },
      {
        "duration": 72491,
        "start_time": "2023-05-17T04:31:44.332Z"
      },
      {
        "duration": 31351,
        "start_time": "2023-05-17T04:33:08.492Z"
      },
      {
        "duration": 6,
        "start_time": "2023-05-17T04:33:49.683Z"
      },
      {
        "duration": 5,
        "start_time": "2023-05-17T04:33:54.891Z"
      },
      {
        "duration": 3241,
        "start_time": "2023-05-17T04:34:01.823Z"
      },
      {
        "duration": 3477,
        "start_time": "2023-05-17T07:21:52.472Z"
      },
      {
        "duration": 7467,
        "start_time": "2023-05-17T07:21:55.967Z"
      },
      {
        "duration": 14,
        "start_time": "2023-05-17T07:22:03.436Z"
      },
      {
        "duration": 31,
        "start_time": "2023-05-17T07:22:03.454Z"
      },
      {
        "duration": 8,
        "start_time": "2023-05-17T07:22:03.487Z"
      },
      {
        "duration": 38,
        "start_time": "2023-05-17T07:22:03.497Z"
      },
      {
        "duration": 56,
        "start_time": "2023-05-17T07:22:03.537Z"
      },
      {
        "duration": 10,
        "start_time": "2023-05-17T07:22:03.595Z"
      },
      {
        "duration": 28,
        "start_time": "2023-05-17T07:22:03.608Z"
      },
      {
        "duration": 50,
        "start_time": "2023-05-17T07:22:03.639Z"
      },
      {
        "duration": 16,
        "start_time": "2023-05-17T07:22:03.692Z"
      },
      {
        "duration": 24,
        "start_time": "2023-05-17T07:22:03.711Z"
      },
      {
        "duration": 108,
        "start_time": "2023-05-17T07:22:03.742Z"
      },
      {
        "duration": 38,
        "start_time": "2023-05-17T07:22:03.863Z"
      },
      {
        "duration": 24,
        "start_time": "2023-05-17T07:22:03.908Z"
      },
      {
        "duration": 597,
        "start_time": "2023-05-17T07:22:03.938Z"
      },
      {
        "duration": 573,
        "start_time": "2023-05-17T07:24:40.849Z"
      },
      {
        "duration": 220,
        "start_time": "2023-05-17T07:24:47.521Z"
      },
      {
        "duration": 117,
        "start_time": "2023-05-17T07:26:49.586Z"
      },
      {
        "duration": 23,
        "start_time": "2023-05-17T07:46:13.069Z"
      },
      {
        "duration": 6,
        "start_time": "2023-05-17T07:46:39.898Z"
      },
      {
        "duration": 1264,
        "start_time": "2023-05-17T07:46:39.907Z"
      },
      {
        "duration": 7,
        "start_time": "2023-05-17T07:46:41.174Z"
      },
      {
        "duration": 19,
        "start_time": "2023-05-17T07:46:41.190Z"
      },
      {
        "duration": 32,
        "start_time": "2023-05-17T07:46:41.213Z"
      },
      {
        "duration": 42,
        "start_time": "2023-05-17T07:46:41.248Z"
      },
      {
        "duration": 46,
        "start_time": "2023-05-17T07:46:41.292Z"
      },
      {
        "duration": 14,
        "start_time": "2023-05-17T07:46:41.339Z"
      },
      {
        "duration": 19,
        "start_time": "2023-05-17T07:46:41.355Z"
      },
      {
        "duration": 7,
        "start_time": "2023-05-17T07:46:41.381Z"
      },
      {
        "duration": 9,
        "start_time": "2023-05-17T07:46:41.396Z"
      },
      {
        "duration": 43,
        "start_time": "2023-05-17T07:46:41.407Z"
      },
      {
        "duration": 62,
        "start_time": "2023-05-17T07:46:41.452Z"
      },
      {
        "duration": 55,
        "start_time": "2023-05-17T07:46:41.519Z"
      },
      {
        "duration": 14,
        "start_time": "2023-05-17T07:46:41.585Z"
      },
      {
        "duration": 331,
        "start_time": "2023-05-17T07:46:41.601Z"
      },
      {
        "duration": 221,
        "start_time": "2023-05-17T07:46:41.936Z"
      },
      {
        "duration": 24,
        "start_time": "2023-05-17T07:46:42.172Z"
      },
      {
        "duration": 11,
        "start_time": "2023-05-17T07:46:42.198Z"
      },
      {
        "duration": 32,
        "start_time": "2023-05-17T07:46:42.211Z"
      },
      {
        "duration": 315,
        "start_time": "2023-05-17T07:46:42.246Z"
      },
      {
        "duration": 451,
        "start_time": "2023-05-17T07:46:42.563Z"
      },
      {
        "duration": 5,
        "start_time": "2023-05-17T07:46:43.015Z"
      },
      {
        "duration": 687,
        "start_time": "2023-05-17T07:46:43.025Z"
      },
      {
        "duration": 105,
        "start_time": "2023-05-17T07:46:43.714Z"
      },
      {
        "duration": 684,
        "start_time": "2023-05-17T07:46:43.821Z"
      },
      {
        "duration": 307,
        "start_time": "2023-05-17T07:46:44.510Z"
      },
      {
        "duration": 39,
        "start_time": "2023-05-17T07:46:44.818Z"
      },
      {
        "duration": 22,
        "start_time": "2023-05-17T07:46:44.870Z"
      },
      {
        "duration": 345,
        "start_time": "2023-05-17T07:46:44.896Z"
      },
      {
        "duration": 9,
        "start_time": "2023-05-17T07:46:45.249Z"
      },
      {
        "duration": 15,
        "start_time": "2023-05-17T07:46:45.268Z"
      },
      {
        "duration": 294,
        "start_time": "2023-05-17T07:46:45.285Z"
      },
      {
        "duration": 9,
        "start_time": "2023-05-17T07:46:45.589Z"
      },
      {
        "duration": 8,
        "start_time": "2023-05-17T07:46:45.601Z"
      },
      {
        "duration": 5,
        "start_time": "2023-05-17T07:46:45.611Z"
      },
      {
        "duration": 31,
        "start_time": "2023-05-17T07:46:45.618Z"
      },
      {
        "duration": 34,
        "start_time": "2023-05-17T07:46:45.659Z"
      },
      {
        "duration": 10707,
        "start_time": "2023-05-17T07:46:59.545Z"
      },
      {
        "duration": 6817,
        "start_time": "2023-05-17T07:47:26.400Z"
      },
      {
        "duration": 15367,
        "start_time": "2023-05-17T07:47:53.322Z"
      },
      {
        "duration": 14951,
        "start_time": "2023-05-17T07:48:34.684Z"
      },
      {
        "duration": 13890,
        "start_time": "2023-05-17T07:49:24.951Z"
      },
      {
        "duration": 8,
        "start_time": "2023-05-17T07:49:56.643Z"
      },
      {
        "duration": 12,
        "start_time": "2023-05-17T07:50:04.896Z"
      },
      {
        "duration": 10,
        "start_time": "2023-05-17T07:50:35.892Z"
      },
      {
        "duration": 699,
        "start_time": "2023-05-17T07:56:11.240Z"
      },
      {
        "duration": 23,
        "start_time": "2023-05-17T07:59:30.675Z"
      },
      {
        "duration": 29,
        "start_time": "2023-05-17T07:59:31.478Z"
      },
      {
        "duration": 7,
        "start_time": "2023-05-17T07:59:33.760Z"
      },
      {
        "duration": 20,
        "start_time": "2023-05-17T07:59:58.688Z"
      },
      {
        "duration": 52,
        "start_time": "2023-05-17T07:59:59.150Z"
      },
      {
        "duration": 11,
        "start_time": "2023-05-17T07:59:59.868Z"
      },
      {
        "duration": 109,
        "start_time": "2023-05-17T08:01:11.378Z"
      },
      {
        "duration": 27,
        "start_time": "2023-05-17T08:17:25.048Z"
      },
      {
        "duration": 7,
        "start_time": "2023-05-17T08:17:31.004Z"
      },
      {
        "duration": 1065,
        "start_time": "2023-05-17T08:17:31.013Z"
      },
      {
        "duration": 7,
        "start_time": "2023-05-17T08:17:32.080Z"
      },
      {
        "duration": 32,
        "start_time": "2023-05-17T08:17:32.090Z"
      },
      {
        "duration": 36,
        "start_time": "2023-05-17T08:17:32.123Z"
      },
      {
        "duration": 26,
        "start_time": "2023-05-17T08:17:32.161Z"
      },
      {
        "duration": 31,
        "start_time": "2023-05-17T08:17:32.189Z"
      },
      {
        "duration": 9,
        "start_time": "2023-05-17T08:17:32.224Z"
      },
      {
        "duration": 31,
        "start_time": "2023-05-17T08:17:32.240Z"
      },
      {
        "duration": 9,
        "start_time": "2023-05-17T08:17:32.273Z"
      },
      {
        "duration": 11,
        "start_time": "2023-05-17T08:17:32.284Z"
      },
      {
        "duration": 20,
        "start_time": "2023-05-17T08:17:32.297Z"
      },
      {
        "duration": 113,
        "start_time": "2023-05-17T08:17:32.319Z"
      },
      {
        "duration": 41,
        "start_time": "2023-05-17T08:17:32.434Z"
      },
      {
        "duration": 35,
        "start_time": "2023-05-17T08:17:32.478Z"
      },
      {
        "duration": 273,
        "start_time": "2023-05-17T08:17:32.516Z"
      },
      {
        "duration": 361,
        "start_time": "2023-05-17T08:17:34.852Z"
      },
      {
        "duration": 28,
        "start_time": "2023-05-17T08:17:35.852Z"
      },
      {
        "duration": 27,
        "start_time": "2023-05-17T08:17:53.920Z"
      },
      {
        "duration": 31,
        "start_time": "2023-05-17T08:17:57.488Z"
      },
      {
        "duration": 37,
        "start_time": "2023-05-17T08:18:42.816Z"
      },
      {
        "duration": 346,
        "start_time": "2023-05-17T08:18:54.417Z"
      },
      {
        "duration": 49,
        "start_time": "2023-05-17T08:19:17.722Z"
      },
      {
        "duration": 44,
        "start_time": "2023-05-17T08:29:07.611Z"
      },
      {
        "duration": 349,
        "start_time": "2023-05-17T08:29:25.811Z"
      },
      {
        "duration": 23,
        "start_time": "2023-05-17T08:29:35.665Z"
      },
      {
        "duration": 253,
        "start_time": "2023-05-17T08:30:33.367Z"
      },
      {
        "duration": 405,
        "start_time": "2023-05-17T08:32:31.752Z"
      },
      {
        "duration": 337,
        "start_time": "2023-05-17T08:34:07.904Z"
      },
      {
        "duration": 335,
        "start_time": "2023-05-17T08:34:20.541Z"
      },
      {
        "duration": 312,
        "start_time": "2023-05-17T08:34:25.477Z"
      },
      {
        "duration": 279,
        "start_time": "2023-05-17T08:34:41.274Z"
      },
      {
        "duration": 328,
        "start_time": "2023-05-17T08:34:57.362Z"
      },
      {
        "duration": 307,
        "start_time": "2023-05-17T08:35:15.201Z"
      },
      {
        "duration": 341,
        "start_time": "2023-05-17T08:35:19.175Z"
      },
      {
        "duration": 316,
        "start_time": "2023-05-17T08:35:27.546Z"
      },
      {
        "duration": 503,
        "start_time": "2023-05-17T08:35:36.201Z"
      },
      {
        "duration": 326,
        "start_time": "2023-05-17T08:35:45.586Z"
      },
      {
        "duration": 365,
        "start_time": "2023-05-17T08:35:52.742Z"
      },
      {
        "duration": 375,
        "start_time": "2023-05-17T08:36:46.515Z"
      },
      {
        "duration": 329,
        "start_time": "2023-05-17T08:37:12.034Z"
      },
      {
        "duration": 392,
        "start_time": "2023-05-17T08:39:00.421Z"
      },
      {
        "duration": 251,
        "start_time": "2023-05-17T08:39:05.419Z"
      },
      {
        "duration": 283,
        "start_time": "2023-05-17T08:40:31.994Z"
      },
      {
        "duration": 15,
        "start_time": "2023-05-17T09:07:17.493Z"
      },
      {
        "duration": 8,
        "start_time": "2023-05-17T09:07:38.942Z"
      },
      {
        "duration": 6,
        "start_time": "2023-05-17T09:11:06.488Z"
      },
      {
        "duration": 6,
        "start_time": "2023-05-17T09:11:11.186Z"
      },
      {
        "duration": 5,
        "start_time": "2023-05-17T09:11:21.518Z"
      },
      {
        "duration": 762,
        "start_time": "2023-05-17T09:11:21.527Z"
      },
      {
        "duration": 6,
        "start_time": "2023-05-17T09:11:22.291Z"
      },
      {
        "duration": 16,
        "start_time": "2023-05-17T09:11:22.300Z"
      },
      {
        "duration": 6,
        "start_time": "2023-05-17T09:11:22.326Z"
      },
      {
        "duration": 21,
        "start_time": "2023-05-17T09:11:22.334Z"
      },
      {
        "duration": 24,
        "start_time": "2023-05-17T09:11:22.357Z"
      },
      {
        "duration": 4,
        "start_time": "2023-05-17T09:11:22.383Z"
      },
      {
        "duration": 12,
        "start_time": "2023-05-17T09:11:22.388Z"
      },
      {
        "duration": 11,
        "start_time": "2023-05-17T09:11:22.428Z"
      },
      {
        "duration": 6,
        "start_time": "2023-05-17T09:11:22.444Z"
      },
      {
        "duration": 12,
        "start_time": "2023-05-17T09:11:22.452Z"
      },
      {
        "duration": 55,
        "start_time": "2023-05-17T09:11:22.466Z"
      },
      {
        "duration": 30,
        "start_time": "2023-05-17T09:11:22.529Z"
      },
      {
        "duration": 10,
        "start_time": "2023-05-17T09:11:22.561Z"
      },
      {
        "duration": 239,
        "start_time": "2023-05-17T09:11:22.572Z"
      },
      {
        "duration": 41,
        "start_time": "2023-05-17T09:11:22.813Z"
      },
      {
        "duration": 19,
        "start_time": "2023-05-17T09:11:22.857Z"
      },
      {
        "duration": 48,
        "start_time": "2023-05-17T09:11:22.878Z"
      },
      {
        "duration": 255,
        "start_time": "2023-05-17T09:11:22.928Z"
      },
      {
        "duration": 406,
        "start_time": "2023-05-17T09:11:23.184Z"
      },
      {
        "duration": 5,
        "start_time": "2023-05-17T09:11:23.592Z"
      },
      {
        "duration": 654,
        "start_time": "2023-05-17T09:11:23.599Z"
      },
      {
        "duration": 12,
        "start_time": "2023-05-17T09:11:43.849Z"
      },
      {
        "duration": 72,
        "start_time": "2023-05-17T09:12:05.638Z"
      },
      {
        "duration": 16,
        "start_time": "2023-05-17T09:12:10.017Z"
      },
      {
        "duration": 15,
        "start_time": "2023-05-17T09:14:09.658Z"
      },
      {
        "duration": 6,
        "start_time": "2023-05-17T09:21:42.138Z"
      },
      {
        "duration": 4,
        "start_time": "2023-05-17T09:21:49.011Z"
      },
      {
        "duration": 824,
        "start_time": "2023-05-17T09:21:49.017Z"
      },
      {
        "duration": 7,
        "start_time": "2023-05-17T09:21:49.845Z"
      },
      {
        "duration": 22,
        "start_time": "2023-05-17T09:21:49.854Z"
      },
      {
        "duration": 27,
        "start_time": "2023-05-17T09:21:49.879Z"
      },
      {
        "duration": 39,
        "start_time": "2023-05-17T09:21:49.908Z"
      },
      {
        "duration": 40,
        "start_time": "2023-05-17T09:21:49.949Z"
      },
      {
        "duration": 10,
        "start_time": "2023-05-17T09:21:49.991Z"
      },
      {
        "duration": 19,
        "start_time": "2023-05-17T09:21:50.003Z"
      },
      {
        "duration": 27,
        "start_time": "2023-05-17T09:21:50.024Z"
      },
      {
        "duration": 26,
        "start_time": "2023-05-17T09:21:50.055Z"
      },
      {
        "duration": 30,
        "start_time": "2023-05-17T09:21:50.083Z"
      },
      {
        "duration": 60,
        "start_time": "2023-05-17T09:21:50.115Z"
      },
      {
        "duration": 22,
        "start_time": "2023-05-17T09:21:50.177Z"
      },
      {
        "duration": 31,
        "start_time": "2023-05-17T09:21:50.201Z"
      },
      {
        "duration": 224,
        "start_time": "2023-05-17T09:21:50.236Z"
      },
      {
        "duration": 19,
        "start_time": "2023-05-17T09:21:50.463Z"
      },
      {
        "duration": 12,
        "start_time": "2023-05-17T09:21:50.484Z"
      },
      {
        "duration": 52,
        "start_time": "2023-05-17T09:21:50.498Z"
      },
      {
        "duration": 248,
        "start_time": "2023-05-17T09:21:50.552Z"
      },
      {
        "duration": 412,
        "start_time": "2023-05-17T09:21:50.801Z"
      },
      {
        "duration": 16,
        "start_time": "2023-05-17T09:21:51.214Z"
      },
      {
        "duration": 500,
        "start_time": "2023-05-17T09:21:51.241Z"
      },
      {
        "duration": 6,
        "start_time": "2023-05-17T09:22:03.650Z"
      },
      {
        "duration": 13,
        "start_time": "2023-05-17T09:22:07.323Z"
      },
      {
        "duration": 53,
        "start_time": "2023-05-17T09:24:02.795Z"
      },
      {
        "duration": 31,
        "start_time": "2023-05-17T09:24:18.950Z"
      },
      {
        "duration": 4,
        "start_time": "2023-05-17T09:28:02.941Z"
      },
      {
        "duration": 855,
        "start_time": "2023-05-17T09:28:02.947Z"
      },
      {
        "duration": 5,
        "start_time": "2023-05-17T09:28:03.804Z"
      },
      {
        "duration": 31,
        "start_time": "2023-05-17T09:28:03.811Z"
      },
      {
        "duration": 5,
        "start_time": "2023-05-17T09:28:03.845Z"
      },
      {
        "duration": 14,
        "start_time": "2023-05-17T09:28:03.852Z"
      },
      {
        "duration": 23,
        "start_time": "2023-05-17T09:28:03.868Z"
      },
      {
        "duration": 4,
        "start_time": "2023-05-17T09:28:03.892Z"
      },
      {
        "duration": 5,
        "start_time": "2023-05-17T09:28:03.898Z"
      },
      {
        "duration": 29,
        "start_time": "2023-05-17T09:28:03.904Z"
      },
      {
        "duration": 8,
        "start_time": "2023-05-17T09:28:03.937Z"
      },
      {
        "duration": 9,
        "start_time": "2023-05-17T09:28:03.947Z"
      },
      {
        "duration": 40,
        "start_time": "2023-05-17T09:28:03.957Z"
      },
      {
        "duration": 50,
        "start_time": "2023-05-17T09:28:04.000Z"
      },
      {
        "duration": 11,
        "start_time": "2023-05-17T09:28:04.051Z"
      },
      {
        "duration": 239,
        "start_time": "2023-05-17T09:28:04.064Z"
      },
      {
        "duration": 30,
        "start_time": "2023-05-17T09:28:04.305Z"
      },
      {
        "duration": 17,
        "start_time": "2023-05-17T09:28:04.336Z"
      },
      {
        "duration": 29,
        "start_time": "2023-05-17T09:28:04.355Z"
      },
      {
        "duration": 380,
        "start_time": "2023-05-17T09:28:04.386Z"
      },
      {
        "duration": 395,
        "start_time": "2023-05-17T09:28:04.769Z"
      },
      {
        "duration": 4,
        "start_time": "2023-05-17T09:28:05.166Z"
      },
      {
        "duration": 493,
        "start_time": "2023-05-17T09:28:05.171Z"
      },
      {
        "duration": 81,
        "start_time": "2023-05-17T09:28:05.665Z"
      },
      {
        "duration": 7,
        "start_time": "2023-05-17T09:28:05.749Z"
      },
      {
        "duration": 7,
        "start_time": "2023-05-17T09:28:14.463Z"
      },
      {
        "duration": 4,
        "start_time": "2023-05-17T09:28:17.307Z"
      },
      {
        "duration": 831,
        "start_time": "2023-05-17T09:28:17.314Z"
      },
      {
        "duration": 5,
        "start_time": "2023-05-17T09:28:18.147Z"
      },
      {
        "duration": 26,
        "start_time": "2023-05-17T09:28:18.153Z"
      },
      {
        "duration": 9,
        "start_time": "2023-05-17T09:28:18.182Z"
      },
      {
        "duration": 24,
        "start_time": "2023-05-17T09:28:18.193Z"
      },
      {
        "duration": 37,
        "start_time": "2023-05-17T09:28:18.219Z"
      },
      {
        "duration": 6,
        "start_time": "2023-05-17T09:28:18.259Z"
      },
      {
        "duration": 7,
        "start_time": "2023-05-17T09:28:18.267Z"
      },
      {
        "duration": 6,
        "start_time": "2023-05-17T09:28:18.276Z"
      },
      {
        "duration": 5,
        "start_time": "2023-05-17T09:28:18.286Z"
      },
      {
        "duration": 45,
        "start_time": "2023-05-17T09:28:18.293Z"
      },
      {
        "duration": 69,
        "start_time": "2023-05-17T09:28:18.340Z"
      },
      {
        "duration": 45,
        "start_time": "2023-05-17T09:28:18.411Z"
      },
      {
        "duration": 11,
        "start_time": "2023-05-17T09:28:18.458Z"
      },
      {
        "duration": 232,
        "start_time": "2023-05-17T09:28:18.471Z"
      },
      {
        "duration": 36,
        "start_time": "2023-05-17T09:28:18.705Z"
      },
      {
        "duration": 13,
        "start_time": "2023-05-17T09:28:18.746Z"
      },
      {
        "duration": 24,
        "start_time": "2023-05-17T09:28:18.760Z"
      },
      {
        "duration": 274,
        "start_time": "2023-05-17T09:28:18.786Z"
      },
      {
        "duration": 414,
        "start_time": "2023-05-17T09:28:19.063Z"
      },
      {
        "duration": 4,
        "start_time": "2023-05-17T09:28:19.479Z"
      },
      {
        "duration": 599,
        "start_time": "2023-05-17T09:28:19.484Z"
      },
      {
        "duration": 78,
        "start_time": "2023-05-17T09:28:20.085Z"
      },
      {
        "duration": 8,
        "start_time": "2023-05-17T09:28:20.165Z"
      },
      {
        "duration": 7,
        "start_time": "2023-05-17T09:28:20.690Z"
      },
      {
        "duration": 7,
        "start_time": "2023-05-17T09:28:25.740Z"
      },
      {
        "duration": 856,
        "start_time": "2023-05-17T09:28:25.750Z"
      },
      {
        "duration": 7,
        "start_time": "2023-05-17T09:28:26.608Z"
      },
      {
        "duration": 24,
        "start_time": "2023-05-17T09:28:26.628Z"
      },
      {
        "duration": 35,
        "start_time": "2023-05-17T09:28:26.654Z"
      },
      {
        "duration": 28,
        "start_time": "2023-05-17T09:28:26.691Z"
      },
      {
        "duration": 57,
        "start_time": "2023-05-17T09:28:26.722Z"
      },
      {
        "duration": 19,
        "start_time": "2023-05-17T09:28:26.782Z"
      },
      {
        "duration": 44,
        "start_time": "2023-05-17T09:28:26.803Z"
      },
      {
        "duration": 16,
        "start_time": "2023-05-17T09:28:26.851Z"
      },
      {
        "duration": 34,
        "start_time": "2023-05-17T09:28:26.869Z"
      },
      {
        "duration": 43,
        "start_time": "2023-05-17T09:28:26.905Z"
      },
      {
        "duration": 83,
        "start_time": "2023-05-17T09:28:26.951Z"
      },
      {
        "duration": 174,
        "start_time": "2023-05-17T09:28:27.040Z"
      },
      {
        "duration": 25,
        "start_time": "2023-05-17T09:28:27.216Z"
      },
      {
        "duration": 247,
        "start_time": "2023-05-17T09:28:27.248Z"
      },
      {
        "duration": 18,
        "start_time": "2023-05-17T09:28:27.496Z"
      },
      {
        "duration": 19,
        "start_time": "2023-05-17T09:28:27.527Z"
      },
      {
        "duration": 22,
        "start_time": "2023-05-17T09:28:27.548Z"
      },
      {
        "duration": 280,
        "start_time": "2023-05-17T09:28:27.572Z"
      },
      {
        "duration": 409,
        "start_time": "2023-05-17T09:28:27.854Z"
      },
      {
        "duration": 4,
        "start_time": "2023-05-17T09:28:28.266Z"
      },
      {
        "duration": 547,
        "start_time": "2023-05-17T09:28:28.272Z"
      },
      {
        "duration": 84,
        "start_time": "2023-05-17T09:28:28.822Z"
      },
      {
        "duration": 5,
        "start_time": "2023-05-17T09:28:46.863Z"
      },
      {
        "duration": 789,
        "start_time": "2023-05-17T09:28:46.871Z"
      },
      {
        "duration": 5,
        "start_time": "2023-05-17T09:28:47.662Z"
      },
      {
        "duration": 16,
        "start_time": "2023-05-17T09:28:47.669Z"
      },
      {
        "duration": 6,
        "start_time": "2023-05-17T09:28:47.687Z"
      },
      {
        "duration": 16,
        "start_time": "2023-05-17T09:28:47.695Z"
      },
      {
        "duration": 35,
        "start_time": "2023-05-17T09:28:47.713Z"
      },
      {
        "duration": 4,
        "start_time": "2023-05-17T09:28:47.750Z"
      },
      {
        "duration": 10,
        "start_time": "2023-05-17T09:28:47.756Z"
      },
      {
        "duration": 6,
        "start_time": "2023-05-17T09:28:47.769Z"
      },
      {
        "duration": 8,
        "start_time": "2023-05-17T09:28:47.777Z"
      },
      {
        "duration": 8,
        "start_time": "2023-05-17T09:28:47.787Z"
      },
      {
        "duration": 81,
        "start_time": "2023-05-17T09:28:47.797Z"
      },
      {
        "duration": 22,
        "start_time": "2023-05-17T09:28:47.880Z"
      },
      {
        "duration": 36,
        "start_time": "2023-05-17T09:28:47.904Z"
      },
      {
        "duration": 240,
        "start_time": "2023-05-17T09:28:47.942Z"
      },
      {
        "duration": 17,
        "start_time": "2023-05-17T09:28:48.183Z"
      },
      {
        "duration": 36,
        "start_time": "2023-05-17T09:28:48.202Z"
      },
      {
        "duration": 20,
        "start_time": "2023-05-17T09:28:48.240Z"
      },
      {
        "duration": 251,
        "start_time": "2023-05-17T09:28:48.262Z"
      },
      {
        "duration": 395,
        "start_time": "2023-05-17T09:28:48.514Z"
      },
      {
        "duration": 4,
        "start_time": "2023-05-17T09:28:48.911Z"
      },
      {
        "duration": 589,
        "start_time": "2023-05-17T09:28:48.916Z"
      },
      {
        "duration": 77,
        "start_time": "2023-05-17T09:28:49.506Z"
      },
      {
        "duration": 8,
        "start_time": "2023-05-17T09:28:49.585Z"
      },
      {
        "duration": 4,
        "start_time": "2023-05-17T09:31:14.690Z"
      },
      {
        "duration": 801,
        "start_time": "2023-05-17T09:31:14.696Z"
      },
      {
        "duration": 5,
        "start_time": "2023-05-17T09:31:15.499Z"
      },
      {
        "duration": 13,
        "start_time": "2023-05-17T09:31:15.506Z"
      },
      {
        "duration": 17,
        "start_time": "2023-05-17T09:31:15.530Z"
      },
      {
        "duration": 24,
        "start_time": "2023-05-17T09:31:15.548Z"
      },
      {
        "duration": 29,
        "start_time": "2023-05-17T09:31:15.574Z"
      },
      {
        "duration": 13,
        "start_time": "2023-05-17T09:31:15.605Z"
      },
      {
        "duration": 20,
        "start_time": "2023-05-17T09:31:15.620Z"
      },
      {
        "duration": 7,
        "start_time": "2023-05-17T09:31:15.642Z"
      },
      {
        "duration": 27,
        "start_time": "2023-05-17T09:31:15.651Z"
      },
      {
        "duration": 29,
        "start_time": "2023-05-17T09:31:15.681Z"
      },
      {
        "duration": 71,
        "start_time": "2023-05-17T09:31:15.713Z"
      },
      {
        "duration": 25,
        "start_time": "2023-05-17T09:31:15.786Z"
      },
      {
        "duration": 30,
        "start_time": "2023-05-17T09:31:15.813Z"
      },
      {
        "duration": 245,
        "start_time": "2023-05-17T09:31:15.845Z"
      },
      {
        "duration": 17,
        "start_time": "2023-05-17T09:31:16.092Z"
      },
      {
        "duration": 31,
        "start_time": "2023-05-17T09:31:16.111Z"
      },
      {
        "duration": 22,
        "start_time": "2023-05-17T09:31:16.144Z"
      },
      {
        "duration": 269,
        "start_time": "2023-05-17T09:31:16.168Z"
      },
      {
        "duration": 392,
        "start_time": "2023-05-17T09:31:16.443Z"
      },
      {
        "duration": 5,
        "start_time": "2023-05-17T09:31:16.846Z"
      },
      {
        "duration": 531,
        "start_time": "2023-05-17T09:31:16.853Z"
      },
      {
        "duration": 83,
        "start_time": "2023-05-17T09:31:17.388Z"
      },
      {
        "duration": 7,
        "start_time": "2023-05-17T09:31:17.473Z"
      },
      {
        "duration": 489,
        "start_time": "2023-05-17T09:31:17.483Z"
      },
      {
        "duration": 332,
        "start_time": "2023-05-17T09:31:17.974Z"
      },
      {
        "duration": 24,
        "start_time": "2023-05-17T09:31:18.308Z"
      },
      {
        "duration": 16,
        "start_time": "2023-05-17T09:31:18.334Z"
      },
      {
        "duration": 217,
        "start_time": "2023-05-17T09:31:18.352Z"
      },
      {
        "duration": 6,
        "start_time": "2023-05-17T09:31:18.571Z"
      },
      {
        "duration": 4,
        "start_time": "2023-05-17T09:31:47.102Z"
      },
      {
        "duration": 791,
        "start_time": "2023-05-17T09:31:47.109Z"
      },
      {
        "duration": 5,
        "start_time": "2023-05-17T09:31:47.902Z"
      },
      {
        "duration": 18,
        "start_time": "2023-05-17T09:31:47.909Z"
      },
      {
        "duration": 6,
        "start_time": "2023-05-17T09:31:47.938Z"
      },
      {
        "duration": 38,
        "start_time": "2023-05-17T09:31:47.946Z"
      },
      {
        "duration": 24,
        "start_time": "2023-05-17T09:31:47.985Z"
      },
      {
        "duration": 6,
        "start_time": "2023-05-17T09:31:48.011Z"
      },
      {
        "duration": 18,
        "start_time": "2023-05-17T09:31:48.020Z"
      },
      {
        "duration": 4,
        "start_time": "2023-05-17T09:31:48.040Z"
      },
      {
        "duration": 7,
        "start_time": "2023-05-17T09:31:48.046Z"
      },
      {
        "duration": 11,
        "start_time": "2023-05-17T09:31:48.055Z"
      },
      {
        "duration": 39,
        "start_time": "2023-05-17T09:31:48.068Z"
      },
      {
        "duration": 43,
        "start_time": "2023-05-17T09:31:48.126Z"
      },
      {
        "duration": 13,
        "start_time": "2023-05-17T09:31:48.171Z"
      },
      {
        "duration": 277,
        "start_time": "2023-05-17T09:31:48.186Z"
      },
      {
        "duration": 20,
        "start_time": "2023-05-17T09:31:48.465Z"
      },
      {
        "duration": 12,
        "start_time": "2023-05-17T09:31:48.487Z"
      },
      {
        "duration": 46,
        "start_time": "2023-05-17T09:31:48.500Z"
      },
      {
        "duration": 250,
        "start_time": "2023-05-17T09:31:48.547Z"
      },
      {
        "duration": 398,
        "start_time": "2023-05-17T09:31:48.799Z"
      },
      {
        "duration": 5,
        "start_time": "2023-05-17T09:31:49.198Z"
      },
      {
        "duration": 543,
        "start_time": "2023-05-17T09:31:49.204Z"
      },
      {
        "duration": 103,
        "start_time": "2023-05-17T09:31:49.751Z"
      },
      {
        "duration": 10,
        "start_time": "2023-05-17T09:31:49.858Z"
      },
      {
        "duration": 633,
        "start_time": "2023-05-17T09:31:49.871Z"
      },
      {
        "duration": 235,
        "start_time": "2023-05-17T09:31:50.506Z"
      },
      {
        "duration": 9,
        "start_time": "2023-05-17T09:31:50.743Z"
      },
      {
        "duration": 17,
        "start_time": "2023-05-17T09:31:50.754Z"
      },
      {
        "duration": 215,
        "start_time": "2023-05-17T09:31:50.773Z"
      },
      {
        "duration": 8,
        "start_time": "2023-05-17T09:31:55.416Z"
      },
      {
        "duration": 75,
        "start_time": "2023-05-17T09:35:10.640Z"
      },
      {
        "duration": 82,
        "start_time": "2023-05-17T09:36:45.281Z"
      },
      {
        "duration": 5,
        "start_time": "2023-05-17T09:37:39.798Z"
      },
      {
        "duration": 810,
        "start_time": "2023-05-17T09:37:39.805Z"
      },
      {
        "duration": 12,
        "start_time": "2023-05-17T09:37:40.617Z"
      },
      {
        "duration": 9,
        "start_time": "2023-05-17T09:37:40.631Z"
      },
      {
        "duration": 6,
        "start_time": "2023-05-17T09:37:40.643Z"
      },
      {
        "duration": 16,
        "start_time": "2023-05-17T09:37:40.651Z"
      },
      {
        "duration": 23,
        "start_time": "2023-05-17T09:37:40.669Z"
      },
      {
        "duration": 9,
        "start_time": "2023-05-17T09:37:40.694Z"
      },
      {
        "duration": 13,
        "start_time": "2023-05-17T09:37:40.729Z"
      },
      {
        "duration": 8,
        "start_time": "2023-05-17T09:37:40.745Z"
      },
      {
        "duration": 11,
        "start_time": "2023-05-17T09:37:40.755Z"
      },
      {
        "duration": 10,
        "start_time": "2023-05-17T09:37:40.768Z"
      },
      {
        "duration": 48,
        "start_time": "2023-05-17T09:37:40.780Z"
      },
      {
        "duration": 42,
        "start_time": "2023-05-17T09:37:40.834Z"
      },
      {
        "duration": 11,
        "start_time": "2023-05-17T09:37:40.877Z"
      },
      {
        "duration": 230,
        "start_time": "2023-05-17T09:37:40.890Z"
      },
      {
        "duration": 23,
        "start_time": "2023-05-17T09:37:41.121Z"
      },
      {
        "duration": 12,
        "start_time": "2023-05-17T09:37:41.146Z"
      },
      {
        "duration": 21,
        "start_time": "2023-05-17T09:37:41.159Z"
      },
      {
        "duration": 279,
        "start_time": "2023-05-17T09:37:41.182Z"
      },
      {
        "duration": 386,
        "start_time": "2023-05-17T09:37:41.463Z"
      },
      {
        "duration": 5,
        "start_time": "2023-05-17T09:37:41.850Z"
      },
      {
        "duration": 500,
        "start_time": "2023-05-17T09:37:41.857Z"
      },
      {
        "duration": 84,
        "start_time": "2023-05-17T09:37:42.358Z"
      },
      {
        "duration": 8,
        "start_time": "2023-05-17T09:37:42.443Z"
      },
      {
        "duration": 612,
        "start_time": "2023-05-17T09:37:42.452Z"
      },
      {
        "duration": 210,
        "start_time": "2023-05-17T09:37:43.065Z"
      },
      {
        "duration": 8,
        "start_time": "2023-05-17T09:37:43.276Z"
      },
      {
        "duration": 9,
        "start_time": "2023-05-17T09:37:43.287Z"
      },
      {
        "duration": 215,
        "start_time": "2023-05-17T09:37:43.298Z"
      },
      {
        "duration": 11,
        "start_time": "2023-05-17T09:37:43.515Z"
      },
      {
        "duration": 14,
        "start_time": "2023-05-17T09:37:43.529Z"
      },
      {
        "duration": 201,
        "start_time": "2023-05-17T09:37:43.545Z"
      },
      {
        "duration": 3,
        "start_time": "2023-05-17T09:37:43.748Z"
      },
      {
        "duration": 6,
        "start_time": "2023-05-17T09:37:43.753Z"
      },
      {
        "duration": 12,
        "start_time": "2023-05-17T09:37:43.760Z"
      },
      {
        "duration": 14,
        "start_time": "2023-05-17T09:37:43.773Z"
      },
      {
        "duration": 17,
        "start_time": "2023-05-17T09:37:43.789Z"
      },
      {
        "duration": 44,
        "start_time": "2023-05-17T09:37:43.808Z"
      },
      {
        "duration": 5,
        "start_time": "2023-05-17T09:37:43.853Z"
      },
      {
        "duration": 3991,
        "start_time": "2023-05-17T09:37:43.860Z"
      },
      {
        "duration": 58186,
        "start_time": "2023-05-17T09:39:43.778Z"
      },
      {
        "duration": 77,
        "start_time": "2023-05-17T09:48:17.675Z"
      },
      {
        "duration": 9997,
        "start_time": "2023-05-17T09:51:13.252Z"
      },
      {
        "duration": 4,
        "start_time": "2023-05-17T10:05:20.686Z"
      },
      {
        "duration": 4,
        "start_time": "2023-05-17T10:05:27.685Z"
      },
      {
        "duration": 3,
        "start_time": "2023-05-17T10:11:10.298Z"
      },
      {
        "duration": 4137,
        "start_time": "2023-05-17T10:11:18.514Z"
      },
      {
        "duration": 4,
        "start_time": "2023-05-17T10:11:46.307Z"
      },
      {
        "duration": 9339,
        "start_time": "2023-05-17T10:11:51.325Z"
      },
      {
        "duration": 5,
        "start_time": "2023-05-17T10:17:14.072Z"
      },
      {
        "duration": 848,
        "start_time": "2023-05-17T10:17:14.079Z"
      },
      {
        "duration": 10,
        "start_time": "2023-05-17T10:17:14.930Z"
      },
      {
        "duration": 10,
        "start_time": "2023-05-17T10:17:14.943Z"
      },
      {
        "duration": 20,
        "start_time": "2023-05-17T10:17:14.955Z"
      },
      {
        "duration": 19,
        "start_time": "2023-05-17T10:17:14.977Z"
      },
      {
        "duration": 24,
        "start_time": "2023-05-17T10:17:14.997Z"
      },
      {
        "duration": 16,
        "start_time": "2023-05-17T10:17:15.025Z"
      },
      {
        "duration": 37,
        "start_time": "2023-05-17T10:17:15.043Z"
      },
      {
        "duration": 46,
        "start_time": "2023-05-17T10:17:15.082Z"
      },
      {
        "duration": 17,
        "start_time": "2023-05-17T10:17:15.135Z"
      },
      {
        "duration": 22,
        "start_time": "2023-05-17T10:17:15.154Z"
      },
      {
        "duration": 44,
        "start_time": "2023-05-17T10:17:15.178Z"
      },
      {
        "duration": 32,
        "start_time": "2023-05-17T10:17:15.224Z"
      },
      {
        "duration": 9,
        "start_time": "2023-05-17T10:17:15.258Z"
      },
      {
        "duration": 225,
        "start_time": "2023-05-17T10:17:15.269Z"
      },
      {
        "duration": 34,
        "start_time": "2023-05-17T10:17:15.496Z"
      },
      {
        "duration": 13,
        "start_time": "2023-05-17T10:17:15.536Z"
      },
      {
        "duration": 22,
        "start_time": "2023-05-17T10:17:15.551Z"
      },
      {
        "duration": 259,
        "start_time": "2023-05-17T10:17:15.575Z"
      },
      {
        "duration": 407,
        "start_time": "2023-05-17T10:17:15.844Z"
      },
      {
        "duration": 5,
        "start_time": "2023-05-17T10:17:16.252Z"
      },
      {
        "duration": 622,
        "start_time": "2023-05-17T10:17:16.258Z"
      },
      {
        "duration": 83,
        "start_time": "2023-05-17T10:17:16.882Z"
      },
      {
        "duration": 8,
        "start_time": "2023-05-17T10:17:16.967Z"
      },
      {
        "duration": 518,
        "start_time": "2023-05-17T10:17:16.977Z"
      },
      {
        "duration": 220,
        "start_time": "2023-05-17T10:17:17.497Z"
      },
      {
        "duration": 21,
        "start_time": "2023-05-17T10:17:17.719Z"
      },
      {
        "duration": 20,
        "start_time": "2023-05-17T10:17:17.745Z"
      },
      {
        "duration": 196,
        "start_time": "2023-05-17T10:17:17.766Z"
      },
      {
        "duration": 7,
        "start_time": "2023-05-17T10:17:17.963Z"
      },
      {
        "duration": 8,
        "start_time": "2023-05-17T10:17:17.971Z"
      },
      {
        "duration": 6,
        "start_time": "2023-05-17T10:17:17.981Z"
      },
      {
        "duration": 214,
        "start_time": "2023-05-17T10:17:17.989Z"
      },
      {
        "duration": 4,
        "start_time": "2023-05-17T10:17:18.205Z"
      },
      {
        "duration": 27,
        "start_time": "2023-05-17T10:17:18.211Z"
      },
      {
        "duration": 3,
        "start_time": "2023-05-17T10:17:18.240Z"
      },
      {
        "duration": 13,
        "start_time": "2023-05-17T10:17:18.244Z"
      },
      {
        "duration": 23,
        "start_time": "2023-05-17T10:17:18.259Z"
      },
      {
        "duration": 34,
        "start_time": "2023-05-17T10:17:18.284Z"
      },
      {
        "duration": 8,
        "start_time": "2023-05-17T10:17:18.320Z"
      },
      {
        "duration": 31,
        "start_time": "2023-05-17T10:17:20.386Z"
      },
      {
        "duration": 31,
        "start_time": "2023-05-17T10:17:24.749Z"
      },
      {
        "duration": 6314,
        "start_time": "2023-05-17T10:17:30.619Z"
      },
      {
        "duration": 58595,
        "start_time": "2023-05-17T10:17:43.514Z"
      },
      {
        "duration": 56388,
        "start_time": "2023-05-17T10:25:32.296Z"
      },
      {
        "duration": 98651,
        "start_time": "2023-05-17T10:26:28.686Z"
      },
      {
        "duration": 8760,
        "start_time": "2023-05-17T10:33:16.110Z"
      },
      {
        "duration": 635,
        "start_time": "2023-05-17T10:33:24.872Z"
      },
      {
        "duration": 8701,
        "start_time": "2023-05-17T10:36:52.489Z"
      },
      {
        "duration": 8884,
        "start_time": "2023-05-17T10:37:20.953Z"
      },
      {
        "duration": 79,
        "start_time": "2023-05-17T10:38:23.962Z"
      },
      {
        "duration": 5,
        "start_time": "2023-05-17T10:40:52.436Z"
      },
      {
        "duration": 776,
        "start_time": "2023-05-17T10:40:52.444Z"
      },
      {
        "duration": 6,
        "start_time": "2023-05-17T10:40:53.224Z"
      },
      {
        "duration": 16,
        "start_time": "2023-05-17T10:40:53.231Z"
      },
      {
        "duration": 25,
        "start_time": "2023-05-17T10:40:53.250Z"
      },
      {
        "duration": 22,
        "start_time": "2023-05-17T10:40:53.278Z"
      },
      {
        "duration": 33,
        "start_time": "2023-05-17T10:40:53.302Z"
      },
      {
        "duration": 4,
        "start_time": "2023-05-17T10:40:53.337Z"
      },
      {
        "duration": 13,
        "start_time": "2023-05-17T10:40:53.342Z"
      },
      {
        "duration": 6,
        "start_time": "2023-05-17T10:40:53.357Z"
      },
      {
        "duration": 13,
        "start_time": "2023-05-17T10:40:53.366Z"
      },
      {
        "duration": 19,
        "start_time": "2023-05-17T10:40:53.381Z"
      },
      {
        "duration": 46,
        "start_time": "2023-05-17T10:40:53.402Z"
      },
      {
        "duration": 36,
        "start_time": "2023-05-17T10:40:53.451Z"
      },
      {
        "duration": 11,
        "start_time": "2023-05-17T10:40:53.488Z"
      },
      {
        "duration": 260,
        "start_time": "2023-05-17T10:40:53.501Z"
      },
      {
        "duration": 19,
        "start_time": "2023-05-17T10:40:53.763Z"
      },
      {
        "duration": 12,
        "start_time": "2023-05-17T10:40:53.784Z"
      },
      {
        "duration": 53,
        "start_time": "2023-05-17T10:40:53.798Z"
      },
      {
        "duration": 368,
        "start_time": "2023-05-17T10:40:53.853Z"
      },
      {
        "duration": 366,
        "start_time": "2023-05-17T10:40:54.226Z"
      },
      {
        "duration": 4,
        "start_time": "2023-05-17T10:40:54.594Z"
      },
      {
        "duration": 517,
        "start_time": "2023-05-17T10:40:54.600Z"
      },
      {
        "duration": 68,
        "start_time": "2023-05-17T10:40:55.124Z"
      },
      {
        "duration": 7,
        "start_time": "2023-05-17T10:40:55.194Z"
      },
      {
        "duration": 490,
        "start_time": "2023-05-17T10:40:55.203Z"
      },
      {
        "duration": 215,
        "start_time": "2023-05-17T10:40:55.695Z"
      },
      {
        "duration": 647,
        "start_time": "2023-05-17T10:40:55.912Z"
      },
      {
        "duration": 81,
        "start_time": "2023-05-17T10:40:56.565Z"
      },
      {
        "duration": 482,
        "start_time": "2023-05-17T10:40:56.648Z"
      },
      {
        "duration": 7,
        "start_time": "2023-05-17T10:40:57.132Z"
      },
      {
        "duration": 6,
        "start_time": "2023-05-17T10:40:57.141Z"
      },
      {
        "duration": 9,
        "start_time": "2023-05-17T10:40:57.148Z"
      },
      {
        "duration": 235,
        "start_time": "2023-05-17T10:40:57.158Z"
      },
      {
        "duration": 5,
        "start_time": "2023-05-17T10:40:57.395Z"
      },
      {
        "duration": 22,
        "start_time": "2023-05-17T10:40:57.402Z"
      },
      {
        "duration": 5,
        "start_time": "2023-05-17T10:40:57.426Z"
      },
      {
        "duration": 15,
        "start_time": "2023-05-17T10:40:57.433Z"
      },
      {
        "duration": 34,
        "start_time": "2023-05-17T10:40:57.450Z"
      },
      {
        "duration": 40,
        "start_time": "2023-05-17T10:40:57.486Z"
      },
      {
        "duration": 23,
        "start_time": "2023-05-17T10:40:57.528Z"
      },
      {
        "duration": 50,
        "start_time": "2023-05-17T10:40:57.553Z"
      },
      {
        "duration": 2931,
        "start_time": "2023-05-17T10:40:57.605Z"
      },
      {
        "duration": 100,
        "start_time": "2023-05-17T10:41:00.540Z"
      },
      {
        "duration": 0,
        "start_time": "2023-05-17T10:41:00.642Z"
      },
      {
        "duration": 0,
        "start_time": "2023-05-17T10:41:00.643Z"
      },
      {
        "duration": 0,
        "start_time": "2023-05-17T10:41:00.644Z"
      },
      {
        "duration": 0,
        "start_time": "2023-05-17T10:41:00.646Z"
      },
      {
        "duration": 0,
        "start_time": "2023-05-17T10:41:00.648Z"
      },
      {
        "duration": 56543,
        "start_time": "2023-05-17T10:41:06.002Z"
      },
      {
        "duration": 100455,
        "start_time": "2023-05-17T10:42:02.548Z"
      },
      {
        "duration": 8805,
        "start_time": "2023-05-17T10:43:43.005Z"
      },
      {
        "duration": 634,
        "start_time": "2023-05-17T10:43:51.812Z"
      },
      {
        "duration": 109,
        "start_time": "2023-05-17T10:45:15.354Z"
      },
      {
        "duration": 8768,
        "start_time": "2023-05-17T10:49:29.435Z"
      },
      {
        "duration": 614,
        "start_time": "2023-05-17T10:49:38.205Z"
      }
    ],
    "kernelspec": {
      "display_name": "Python 3 (ipykernel)",
      "language": "python",
      "name": "python3"
    },
    "language_info": {
      "codemirror_mode": {
        "name": "ipython",
        "version": 3
      },
      "file_extension": ".py",
      "mimetype": "text/x-python",
      "name": "python",
      "nbconvert_exporter": "python",
      "pygments_lexer": "ipython3",
      "version": "3.9.5"
    },
    "toc": {
      "base_numbering": 1,
      "nav_menu": {
        "height": "36px",
        "width": "234px"
      },
      "number_sections": true,
      "sideBar": true,
      "skip_h1_title": true,
      "title_cell": "Содержание",
      "title_sidebar": "Contents",
      "toc_cell": true,
      "toc_position": {
        "height": "calc(100% - 180px)",
        "left": "10px",
        "top": "150px",
        "width": "322px"
      },
      "toc_section_display": true,
      "toc_window_display": true
    },
    "varInspector": {
      "cols": {
        "lenName": 16,
        "lenType": 16,
        "lenVar": 40
      },
      "kernels_config": {
        "python": {
          "delete_cmd_postfix": "",
          "delete_cmd_prefix": "del ",
          "library": "var_list.py",
          "varRefreshCmd": "print(var_dic_list())"
        },
        "r": {
          "delete_cmd_postfix": ") ",
          "delete_cmd_prefix": "rm(",
          "library": "var_list.r",
          "varRefreshCmd": "cat(var_dic_list()) "
        }
      },
      "types_to_exclude": [
        "module",
        "function",
        "builtin_function_or_method",
        "instance",
        "_Feature"
      ],
      "window_display": false
    },
    "colab": {
      "provenance": []
    }
  },
  "nbformat": 4,
  "nbformat_minor": 0
}